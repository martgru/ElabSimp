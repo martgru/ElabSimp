{
 "cells": [
  {
   "cell_type": "markdown",
   "id": "12038013-a87f-4ff4-a17b-98dfaef548d2",
   "metadata": {},
   "source": [
    "# ASSET "
   ]
  },
  {
   "cell_type": "code",
   "execution_count": 2,
   "id": "92699cac-4e78-498a-b01d-c157342a7f3a",
   "metadata": {},
   "outputs": [],
   "source": [
    "from datasets import load_dataset\n",
    "\n",
    "asset_dataset = load_dataset(\"facebook/asset\", \"simplification\")"
   ]
  },
  {
   "cell_type": "code",
   "execution_count": 3,
   "id": "5432d682-9058-4643-91bd-c9c1ec54a11a",
   "metadata": {},
   "outputs": [
    {
     "data": {
      "text/plain": [
       "DatasetDict({\n",
       "    validation: Dataset({\n",
       "        features: ['original', 'simplifications'],\n",
       "        num_rows: 2000\n",
       "    })\n",
       "    test: Dataset({\n",
       "        features: ['original', 'simplifications'],\n",
       "        num_rows: 359\n",
       "    })\n",
       "})"
      ]
     },
     "execution_count": 3,
     "metadata": {},
     "output_type": "execute_result"
    }
   ],
   "source": [
    "asset"
   ]
  },
  {
   "cell_type": "code",
   "execution_count": 10,
   "id": "ffcf20c5-036a-4127-ab80-b1685677e5ab",
   "metadata": {},
   "outputs": [
    {
     "name": "stdout",
     "output_type": "stream",
     "text": [
      "Raw text: \n",
      "She subsequently recorded \"Kanashiki kuchibue\", which was featured on a radio program and was a national hit.\n",
      "\n",
      "Simplifications: \n",
      "1: She than recorded \"Kanashiki kuchibue\", which played on a radio and was a national hit.\n",
      "\n",
      "2: She recorded \"Kanashiki kuchibue\" after. It was featured on a radio program. It was a national hit.\n",
      "\n",
      "3: She then recorded \"Kanashiki kuchibue.\" It was featured on a radio program and became a national hit.\n",
      "\n",
      "4: After, she recorded \"Kanashiki kuchibue.\" It was on a radio program and was a national hit.\n",
      "\n",
      "5: Later, she recorded \"Kanashiki kuchibue,\" which became a hit.\n",
      "\n",
      "6: She recorded \"Kanashiki kuchibue\", which appeared on a radio program and was a national hit.\n",
      "\n",
      "7: After this she recorded \"Kanashiki kuchibue\". It was featured on a radio program and was a national hit.\n",
      "\n",
      "8: She immediately recorded 'Kanashiki Kichubue', which was played on a radio program and was a national hit.\n",
      "\n",
      "9: She later recorded \"Kanshiki kuchibue\" which was featured on a radio program was a national hit.\n",
      "\n",
      "10: She then recorded \"Kanashiki kuchibue\" that played on the radio and was a national hit.\n",
      "\n"
     ]
    }
   ],
   "source": [
    "import random\n",
    "\n",
    "sample = random.choice(asset_dataset['validation'])\n",
    "\n",
    "print(\"Raw text: \")\n",
    "print(sample['original'], end='\\n\\n')\n",
    "print(\"Simplifications: \")\n",
    "for idx, s in enumerate(sample['simplifications']):\n",
    "    print(f\"{idx+1}: {s}\", end=\"\\n\\n\")"
   ]
  },
  {
   "cell_type": "markdown",
   "id": "5b13f6a2-f3e4-450f-8244-6da304e7f794",
   "metadata": {},
   "source": [
    "# Create new validation dataset with just one candidate reference"
   ]
  },
  {
   "cell_type": "code",
   "execution_count": 14,
   "id": "50468144-8615-4a67-b709-2cdd88e8a9a4",
   "metadata": {},
   "outputs": [
    {
     "data": {
      "application/vnd.jupyter.widget-view+json": {
       "model_id": "46e42bb428414502ab555d25edb14afb",
       "version_major": 2,
       "version_minor": 0
      },
      "text/plain": [
       "Map:   0%|          | 0/2000 [00:00<?, ? examples/s]"
      ]
     },
     "metadata": {},
     "output_type": "display_data"
    },
    {
     "data": {
      "application/vnd.jupyter.widget-view+json": {
       "model_id": "b06a23638c72481c8a48e140af110d2c",
       "version_major": 2,
       "version_minor": 0
      },
      "text/plain": [
       "Map:   0%|          | 0/359 [00:00<?, ? examples/s]"
      ]
     },
     "metadata": {},
     "output_type": "display_data"
    }
   ],
   "source": [
    "import random\n",
    "\n",
    "def choose_random_reference(example):\n",
    "    if len(example['simplifications']) > 0:\n",
    "        example['simplification'] = random.choice(example['simplifications'])\n",
    "    return example\n",
    "\n",
    "asset_dataset['validation'] = asset_dataset['validation'].map(choose_random_reference)\n",
    "asset_dataset['test'] = asset_dataset['test'].map(choose_random_reference)"
   ]
  },
  {
   "cell_type": "code",
   "execution_count": 15,
   "id": "0637e5e7-e685-4be6-84f8-5c2c8b2cf50a",
   "metadata": {},
   "outputs": [
    {
     "data": {
      "text/plain": [
       "DatasetDict({\n",
       "    validation: Dataset({\n",
       "        features: ['original', 'simplifications', 'simplification'],\n",
       "        num_rows: 2000\n",
       "    })\n",
       "    test: Dataset({\n",
       "        features: ['original', 'simplifications', 'simplification'],\n",
       "        num_rows: 359\n",
       "    })\n",
       "})"
      ]
     },
     "execution_count": 15,
     "metadata": {},
     "output_type": "execute_result"
    }
   ],
   "source": [
    "asset_dataset"
   ]
  },
  {
   "cell_type": "markdown",
   "id": "53eda727-cd52-4638-b3d0-64b6271a8908",
   "metadata": {},
   "source": [
    "# Tokenize dataset"
   ]
  },
  {
   "cell_type": "code",
   "execution_count": null,
   "id": "ac46e18f-28ea-4a70-96ce-e91f87e92d9c",
   "metadata": {},
   "outputs": [],
   "source": [
    "tokenized_datasets.save_to_disk(\"../data/tokenized_asset_dataset\")"
   ]
  },
  {
   "cell_type": "markdown",
   "id": "8f6c5ef6-4c10-4793-b971-6b97a8c1811e",
   "metadata": {},
   "source": [
    "# Save changes"
   ]
  },
  {
   "cell_type": "code",
   "execution_count": null,
   "id": "7158ff2f-dac6-4599-b69d-c0a9d2dd2fca",
   "metadata": {},
   "outputs": [],
   "source": [
    "from datasets import DatasetDict\n",
    "\n",
    "asset_dataset.save_to_disk(\"../data/asset\")"
   ]
  }
 ],
 "metadata": {
  "kernelspec": {
   "display_name": "Python 3 (ipykernel)",
   "language": "python",
   "name": "python3"
  },
  "language_info": {
   "codemirror_mode": {
    "name": "ipython",
    "version": 3
   },
   "file_extension": ".py",
   "mimetype": "text/x-python",
   "name": "python",
   "nbconvert_exporter": "python",
   "pygments_lexer": "ipython3",
   "version": "3.9.18"
  }
 },
 "nbformat": 4,
 "nbformat_minor": 5
}
