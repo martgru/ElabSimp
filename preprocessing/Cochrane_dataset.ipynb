{
 "cells": [
  {
   "cell_type": "markdown",
   "id": "f6ab5b7a-9682-4fab-b455-bb8cecc2454a",
   "metadata": {},
   "source": [
    "# Cochrane dataset\n",
    "\n",
    "https://huggingface.co/datasets/GEM/cochrane-simplification?row=0"
   ]
  },
  {
   "cell_type": "code",
   "execution_count": 1,
   "id": "07130faf-99d8-4ba5-af49-1a501abab545",
   "metadata": {},
   "outputs": [],
   "source": [
    "from datasets import load_dataset\n",
    "\n",
    "ds = load_dataset(\"GEM/cochrane-simplification\")"
   ]
  },
  {
   "cell_type": "code",
   "execution_count": 2,
   "id": "0d21a11d-5b16-4b3a-b84a-cb7c23870646",
   "metadata": {},
   "outputs": [
    {
     "data": {
      "text/plain": [
       "DatasetDict({\n",
       "    train: Dataset({\n",
       "        features: ['gem_id', 'gem_parent_id', 'source', 'target', 'doi', 'references'],\n",
       "        num_rows: 3568\n",
       "    })\n",
       "    validation: Dataset({\n",
       "        features: ['gem_id', 'gem_parent_id', 'source', 'target', 'doi', 'references'],\n",
       "        num_rows: 411\n",
       "    })\n",
       "    test: Dataset({\n",
       "        features: ['gem_id', 'gem_parent_id', 'source', 'target', 'doi', 'references'],\n",
       "        num_rows: 480\n",
       "    })\n",
       "})"
      ]
     },
     "execution_count": 2,
     "metadata": {},
     "output_type": "execute_result"
    }
   ],
   "source": [
    "ds"
   ]
  },
  {
   "cell_type": "code",
   "execution_count": 3,
   "id": "d3af168e-e666-46aa-8df4-2ca97257aac3",
   "metadata": {},
   "outputs": [],
   "source": [
    "import difflib\n",
    "from IPython.display import display, HTML\n",
    "\n",
    "def highlight_diff(sentence1, sentence2):\n",
    "    diff = difflib.ndiff(sentence1, sentence2)\n",
    "    highlighted = []\n",
    "    \n",
    "    for char in diff:\n",
    "        if char.startswith('-'):\n",
    "            highlighted.append(f\"<span style='color:red'>{char[2:]}</span>\")\n",
    "        elif char.startswith('+'):\n",
    "            highlighted.append(f\"<span style='color:green'>{char[2:]}</span>\")\n",
    "        else:\n",
    "            highlighted.append(char[2:])\n",
    "    \n",
    "    return ''.join(highlighted)"
   ]
  },
  {
   "cell_type": "code",
   "execution_count": 4,
   "id": "a785409a-896d-4b87-af5b-9f2dad5ee51b",
   "metadata": {},
   "outputs": [
    {
     "name": "stdout",
     "output_type": "stream",
     "text": [
      "Source:\n",
      "We included 34 studies evaluating 1614 women and approximately 2396 groins. The overall methodological quality of included studies was moderate. The studies included in this review used the following traceable techniques to identify sentinel nodes in their participants: blue dye only (three studies), technetium only (eight studies), blue dye plus technetium combined (combined tests; 13 studies) and various inconsistent combinations of these three techniques (mixed tests; 10 studies). For studies of mixed tests, we obtained separate test data where possible. Most studies used haematoxylin and eosin (H&E) stains for the histological examination. Additionally an immunohistochemical (IHC) stain with and without ultrastaging was employed by 14 and eight studies, respectively. One study used reverse transcriptase polymerase chain reaction analysis (CA9 RT-PCR), whilst three studies did not describe the histological methods used. The pooled sensitivity estimate for studies using blue dye only was 0.94 (68 women; 95% confidence interval (CI) 0.69 to 0.99), for mixed tests was 0.91 (679 women; 95% CI 0.71 to 0.98), for technetium only was 0.93 (149 women; 95% CI 0.89 to 0.96) and for combined tests was 0.95 (390 women; 95% CI 0.89 to 0.97). Negative predictive values (NPVs) for all index tests were > 95%. Most studies also reported sentinel node detection rates (the ability of the test to identify a sentinel node) of the index test. The mean detection rate for blue dye alone was 82%, compared with 95%, 96% and 98% for mixed tests, technetium only and combined tests, respectively. We estimated the clinical consequences of the various tests for 100 women undergoing the sentinel node procedure, assuming the prevalence of groin metastases to be 30%. For the combined or technetium only tests, one and two women with groin metastases might be 'missed', respectively (95% CI 1 to 3); and for mixed tests, three women with groin metastases might be 'missed' (95% CI 1 to 9). The wide CIs associated with the pooled sensitivity estimates for blue dye and mixed tests increased the potential for these tests to 'miss' women with groin metastases. There is little difference in diagnostic test accuracy between the technetium and combined tests. The combined test may reduce the number of women with 'missed' groin node metastases compared with technetium only. Blue dye alone may be associated with more 'missed' cases compared with tests using technetium. Sentinel node assessment with technetium-based tests will reduce the need for IFL by 70% in women with early vulval cancer. It is not yet clear how the survival of women with negative sentinel nodes compares to those undergoing standard surgery (IFL). A randomised controlled trial of sentinel node dissection and IFL has methodological and ethical issues, therefore more observational data on the survival of women with early vulval cancer are needed.\n",
      "\n",
      "Raw: \n",
      "We included 34 studies (1614 women) that evaluated three techniques: blue dye only, technetium (a radioactive substance) only, or blue dye and technetium combined. Ten studies used all three techniques during the course of the study (one technique per participant). There are two attributes to a test: the ability to identify or detect the sentinel node, and the ability to identify the cancer in the sentinel node. We found that all tests can identify cancer in the groin nodes with good accuracy (more than 90% of nodes with cancer will be accurately identified with any of the tests), although the combined test was the most accurate (95%). The ability of the tests to detect sentinel nodes varied, with the blue dye test only detecting sentinel nodes in 82% of women, compared with 98% for the combined test. If sentinel nodes are not detected, they cannot be examined for cancer cells; therefore, women in whom sentinel nodes are not detected will usually need to undergo IFL. The combined and technetium only tests are able to predict accurately which women have cancerous spread to the groin. For a group of 100 women undergoing assessment, the findings mean that approximately one or fewer women having the combined or technetium only tests will undergo an unnecessary IFL, compared with approximately 11 women having the blue dye only test. This is mainly because the blue dye only test is not as good as technetium in identifying sentinel nodes. Fewer women with spread to the groin will be missed with the combined or technetium only tests (1 to 3 out of 30) compared with the blue dye only test (1 to 8 out of 30). It is not clear whether women with negative sentinel nodes (i.e. no spread of cancer to the groin lymph nodes) who do not undergo IFL will live as long as those who undergo IFL. The current best data on survival come from a Dutch study that followed up 259 women with negative sentinel nodes and reported a three-year survival of 97%.\n",
      "\n",
      "Simplified: \n",
      "We included 34 studies (1614 women) that evaluated three techniques: blue dye only, technetium (a radioactive substance) only, or blue dye and technetium combined. Ten studies used all three techniques during the course of the study (one technique per participant). There are two attributes to a test: the ability to identify or detect the sentinel node, and the ability to identify the cancer in the sentinel node. We found that all tests can identify cancer in the groin nodes with good accuracy (more than 90% of nodes with cancer will be accurately identified with any of the tests), although the combined test was the most accurate (95%). The ability of the tests to detect sentinel nodes varied, with the blue dye test only detecting sentinel nodes in 82% of women, compared with 98% for the combined test. If sentinel nodes are not detected, they cannot be examined for cancer cells; therefore, women in whom sentinel nodes are not detected will usually need to undergo IFL. The combined and technetium only tests are able to predict accurately which women have cancerous spread to the groin. For a group of 100 women undergoing assessment, the findings mean that approximately one or fewer women having the combined or technetium only tests will undergo an unnecessary IFL, compared with approximately 11 women having the blue dye only test. This is mainly because the blue dye only test is not as good as technetium in identifying sentinel nodes. Fewer women with spread to the groin will be missed with the combined or technetium only tests (1 to 3 out of 30) compared with the blue dye only test (1 to 8 out of 30). It is not clear whether women with negative sentinel nodes (i.e. no spread of cancer to the groin lymph nodes) who do not undergo IFL will live as long as those who undergo IFL. The current best data on survival come from a Dutch study that followed up 259 women with negative sentinel nodes and reported a three-year survival of 97%.\n",
      "\n",
      "10.1002/14651858.CD010409.pub2\n"
     ]
    }
   ],
   "source": [
    "import random \n",
    "from IPython.display import display, HTML\n",
    "\n",
    "sample = random.choice(ds['train'])\n",
    "print(\"Source:\")\n",
    "print(sample['source'], end='\\n\\n')\n",
    "print(\"Raw: \")\n",
    "print(sample['target'], end='\\n\\n')\n",
    "print(\"Simplified: \")\n",
    "print(sample['references'][0], end='\\n\\n')\n",
    "print(sample['doi'])"
   ]
  },
  {
   "cell_type": "markdown",
   "id": "65bda2c0-2dd9-4adf-bd96-2c654ac8ae65",
   "metadata": {},
   "source": [
    "# Check number of references per sentence"
   ]
  },
  {
   "cell_type": "code",
   "execution_count": 12,
   "id": "a9faed5a-18a8-4e17-87f3-41a80a9a82a4",
   "metadata": {},
   "outputs": [
    {
     "name": "stdout",
     "output_type": "stream",
     "text": [
      "Train dataset: 0 texts with more than one reference\n",
      "Validation dataset: 0 texts with more than one reference\n",
      "Test dataset: 0 texts with more than one reference\n"
     ]
    }
   ],
   "source": [
    "def find_multiple_references(dataset):\n",
    "    indices_with_multiple_references = []\n",
    "    count = 0\n",
    "    for i, example in enumerate(dataset):\n",
    "        if len(example['references']) > 1:\n",
    "            indices_with_multiple_references.append(i)\n",
    "            count += 1\n",
    "\n",
    "    return count, indices_with_multiple_references\n",
    "\n",
    "train_count, train_indices = find_multiple_references(ds['train'])\n",
    "val_count, val_indices = find_multiple_references(ds['validation'])\n",
    "test_count, test_indices = find_multiple_references(ds['test'])\n",
    "\n",
    "print(f\"Train dataset: {train_count} texts with more than one reference\")\n",
    "print(f\"Validation dataset: {val_count} texts with more than one reference\")\n",
    "print(f\"Test dataset: {test_count} texts with more than one reference\")"
   ]
  },
  {
   "cell_type": "markdown",
   "id": "acb4fa3f-66d7-4cbe-a819-a8b7b6b65398",
   "metadata": {},
   "source": [
    "# Text lengths"
   ]
  },
  {
   "cell_type": "code",
   "execution_count": 14,
   "id": "d16c4c36-c510-43ca-9cc7-7430af99dfbc",
   "metadata": {},
   "outputs": [],
   "source": [
    "import matplotlib.pyplot as plt\n",
    "import pandas as pd\n",
    "\n",
    "def get_text_lengths(dataset, column_name):\n",
    "    return [len(text.split()) for text in dataset[column_name]]\n",
    "\n",
    "# get text lengths for each split\n",
    "train_normal_lengths = get_text_lengths(ds['train'], 'target')\n",
    "val_normal_lengths = get_text_lengths(ds['validation'], 'target')\n",
    "test_normal_lengths = get_text_lengths(ds['test'], 'target')"
   ]
  },
  {
   "cell_type": "code",
   "execution_count": 45,
   "id": "5d4d3899-56e4-4648-892b-076975f652d3",
   "metadata": {},
   "outputs": [
    {
     "data": {
      "image/png": "[encoded data removed]",
      "text/plain": [
       "<Figure size 1000x600 with 1 Axes>"
      ]
     },
     "metadata": {},
     "output_type": "display_data"
    }
   ],
   "source": [
    "plt.figure(figsize=(10, 6))\n",
    "plt.hist(train_normal_lengths, bins=50, alpha=0.5, label='Train', color='blue')\n",
    "plt.hist(val_normal_lengths, bins=50, alpha=0.5, label='Validation', color='green')\n",
    "plt.hist(test_normal_lengths, bins=50, alpha=0.5, label='Test', color='red')\n",
    "\n",
    "plt.title('Text Length Distribution Across Datasets')\n",
    "plt.xlabel('Length (in words)')\n",
    "plt.ylabel('Frequency')\n",
    "plt.legend(loc='upper right')\n",
    "plt.grid(True)\n",
    "\n",
    "plt.show()"
   ]
  },
  {
   "cell_type": "markdown",
   "id": "725a86fb-366f-4c91-a463-115035d5e268",
   "metadata": {},
   "source": [
    "# Check type of operations performed\n",
    "\n",
    "Annotatate with BIC model: https://huggingface.co/Salesforce/bic_simple_edit_id"
   ]
  },
  {
   "cell_type": "code",
   "execution_count": 9,
   "id": "88cb6ce1-ae19-4362-a65d-32dbbbeae5a4",
   "metadata": {},
   "outputs": [],
   "source": [
    "import sys\n",
    "import os\n",
    "sys.path.append(os.path.abspath('../utils'))"
   ]
  },
  {
   "cell_type": "code",
   "execution_count": 11,
   "id": "4e40e504-1465-4fdb-a628-cb370df00718",
   "metadata": {},
   "outputs": [],
   "source": [
    "from model_bic import BIC\n",
    "\n",
    "bic = BIC(\"Salesforce/bic_simple_edit_id\")"
   ]
  },
  {
   "cell_type": "code",
   "execution_count": 21,
   "id": "456b6010-3c16-43d2-9c42-f2aed20c70a4",
   "metadata": {},
   "outputs": [
    {
     "name": "stdout",
     "output_type": "stream",
     "text": [
      "Two trials met the inclusion criteria. One compared 2% ketanserin ointment in polyethylene glycol (PEG) with PEG alone, used twice a day by 40 participants with arterial leg ulcers, for eight weeks or until healing, whichever was sooner. One compared topical application of blood-derived concentrated growth factor (CGF) with standard dressing (polyurethane film or foam); both applied weekly for six weeks by 61 participants with non-healing ulcers (venous, diabetic arterial, neuropathic, traumatic, or vasculitic). Both trials were small, reported results inadequately, and were of low methodological quality. Short follow-up times (six and eight weeks) meant it would be difficult to capture sufficient healing events to allow us to make comparisons between treatments. One trial demonstrated accelerated wound healing in the ketanserin group compared with the control group. In the trial that compared CGF with standard dressings, the number of participants with diabetic arterial ulcers were only reported in the CGF group (9/31), and the number of participants with diabetic arterial ulcers and their data were not reported separately for the standard dressing group. In the CGF group, 66.6% (6/9) of diabetic arterial ulcers showed more than a 50% decrease in ulcer size compared to 6.7% (2/30) of non-healing ulcers treated with standard dressing. We assessed this as very-low certainty evidence due to the small number of studies and arterial ulcer participants, inadequate reporting of methodology and data, and short follow-up period. Only one trial reported side effects (complications), stating that no participant experienced these during follow-up (six weeks, low-certainty evidence). It should also be noted that ketanserin is not licensed in all countries for use in humans. Neither study reported time to ulcer healing, patient satisfaction or quality of life. There is insufficient evidence to determine whether the choice of topical agent or dressing affects the healing of arterial leg ulcers.\n",
      "\n"
     ]
    }
   ],
   "source": [
    "sample = ds['train'][0]\n",
    "print(sample['source'], end='\\n\\n')"
   ]
  },
  {
   "cell_type": "code",
   "execution_count": 19,
   "id": "5baa4d44-f979-4d80-97be-1f60d9018633",
   "metadata": {},
   "outputs": [],
   "source": [
    "edit_groups = bic.predict_from_text_pair(sample['source'], sample['references'][0])"
   ]
  },
  {
   "cell_type": "code",
   "execution_count": 20,
   "id": "b070a3f9-26d2-4cab-b5d9-842e990aee70",
   "metadata": {},
   "outputs": [
    {
     "name": "stdout",
     "output_type": "stream",
     "text": [
      "[{'opis': [0, 1, 2, 3, 4], 'category': 'nonsim_extraneous_information'}, {'opis': [0], 'category': 'semantic_elaboration_example'}, {'opis': [1, 2, 3, 4], 'category': 'semantic_elaboration_example'}, {'opis': [5], 'category': 'semantic_deletion'}, {'opis': [7, 8], 'category': 'lexical_generic'}, {'opis': [7], 'category': 'semantic_elaboration_example'}, {'opis': [10, 11], 'category': 'lexical_generic'}, {'opis': [13, 14], 'category': 'lexical_generic'}, {'opis': [16], 'category': 'semantic_elaboration_example'}, {'opis': [16], 'category': 'lexical_generic'}, {'opis': [17], 'category': 'semantic_deletion'}, {'opis': [19, 20, 30], 'category': 'syntactic_sentence_splitting'}, {'opis': [20, 34], 'category': 'discourse_reordering'}, {'opis': [20, 21, 22], 'category': 'nonsim_extraneous_information'}, {'opis': [20], 'category': 'semantic_elaboration_example'}, {'opis': [21, 22], 'category': 'semantic_elaboration_example'}, {'opis': [24, 25], 'category': 'semantic_deletion'}, {'opis': [27], 'category': 'semantic_deletion'}, {'opis': [30], 'category': 'semantic_elaboration_example'}, {'opis': [31, 32, 33, 34, 35], 'category': 'semantic_deletion'}, {'opis': [36], 'category': 'semantic_deletion'}, {'opis': [38], 'category': 'nonsim_extraneus_information'}, {'opis': [39], 'category': 'semantic_deletion'}, {'opis': [41], 'category': 'nonsim_extraneus_information'}, {'opis': [43], 'category': 'semantic_deletion'}, {'opis': [45], 'category': 'semantic_deletion'}, {'opis': [47], 'category': 'nonsim_extraneus_information'}, {'opis': [48], 'category': 'semantic_deletion'}, {'opis': [50], 'category': 'nonsim_extraneus_information'}, {'opis': [51], 'category': 'semantic_deletion'}, {'opis': [53], 'category': 'nonsim_extraneus_information'}, {'opis': [54], 'category': 'semantic_deletion'}, {'opis': [56], 'category': 'nonsim_extraneus_information'}, {'opis': [57], 'category': 'semantic_deletion'}, {'opis': [58], 'category': 'semantic_deletion'}, {'opis': [60], 'category': 'nonsim_extraneus_information'}, {'opis': [61], 'category': 'semantic_deletion'}, {'opis': [63], 'category': 'nonsim_extraneus_information'}, {'opis': [65], 'category': 'nonsim_extraneus_information'}, {'opis': [66], 'category': 'nonsim_extraneus_information'}]\n"
     ]
    }
   ],
   "source": [
    "print(edit_groups)"
   ]
  },
  {
   "cell_type": "code",
   "execution_count": 22,
   "id": "bb982a66-4f9c-4253-bb19-0cb98b15ea4d",
   "metadata": {},
   "outputs": [
    {
     "name": "stdout",
     "output_type": "stream",
     "text": [
      "There are a total of 40 identified groups.\n",
      "[nonsim_extraneous_information ] \u001b[1;32mWe found two small studies that presented data for 49 participants with arterial leg ulcers(search conducted January 2019).\u001b[0m\u001b[1;32m The studies also included participants with other kinds of ulcers, and it is not clear what proportion of participants were diabetic.\u001b[0m\u001b[1;32m Neither study described the methods fully, both presented limited results for the arterial ulcer participants, and one study did not provide information on the number of participants with an arterial ulcer in the control group.\u001b[0m\u001b[1;32m The follow-up periods(six and eight weeks) were too short to measure healing.\u001b[0m\u001b[1;32m Therefore, the data that were available were incomplete and cannot be generalised to the greater population of people who suffer from arterial leg ulcers\u001b[0m [...]\n",
      "[semantic_elaboration_example  ] \u001b[1;32mWe found two small studies that presented data for 49 participants with arterial leg ulcers(search conducted January 2019).\u001b[0m [...]\n",
      "[semantic_elaboration_example  ] [...] \u001b[1;32m The studies also included participants with other kinds of ulcers, and it is not clear what proportion of participants were diabetic.\u001b[0m\u001b[1;32m Neither study described the methods fully, both presented limited results for the arterial ulcer participants, and one study did not provide information on the number of participants with an arterial ulcer in the control group.\u001b[0m\u001b[1;32m The follow-up periods(six and eight weeks) were too short to measure healing.\u001b[0m\u001b[1;32m Therefore, the data that were available were incomplete and cannot be generalised to the greater population of people who suffer from arterial leg ulcers\u001b[0m [...]\n",
      "[semantic_deletion             ] [...] \u001b[1;31mTwo trials met the inclusion criteria\u001b[0m. One [...]\n",
      "[lexical_generic               ] [...] . One\u001b[1;32mstudy randomised participants to either\u001b[0m\u001b[1;31mcompared\u001b[0m 2% ketanserin ointment in polyethylene glycol(PEG) [...]\n",
      "[semantic_elaboration_example  ] [...] . One\u001b[1;32mstudy randomised participants to either\u001b[0m [...]\n",
      "[lexical_generic               ] [...] 2% ketanserin ointment in polyethylene glycol(PEG)\u001b[1;32mor\u001b[0m\u001b[1;31mwith\u001b[0m PEG alone, [...]\n",
      "[lexical_generic               ] [...] PEG alone,\u001b[1;32madministered\u001b[0m\u001b[1;31mused\u001b[0m twice a day [...]\n",
      "[semantic_elaboration_example  ] [...] twice a day\u001b[1;32mover\u001b[0m [...]\n",
      "[lexical_generic               ] [...] twice a day\u001b[1;32mover\u001b[0m [...]\n",
      "[semantic_deletion             ] [...] \u001b[1;31mby 40 participants with arterial leg ulcers, for\u001b[0m eight weeks [...]\n",
      "[syntactic_sentence_splitting  ] [...] eight weeks\u001b[1;32m.\u001b[0m\u001b[1;32m This study reported increased wound healing in the ketanserin group, when compared with the control group.\u001b[0m\u001b[1;32m It should be noted that ketanserin is not licensed for use in humans in all countries.\u001b[0m\u001b[1;32m The second study randomised participants to either topically-applied growth factors isolated from the participant's own blood(concentrated growth factors(CGF)),\u001b[0m or\u001b[1;31muntil healing, whichever was sooner.\u001b[0m\u001b[1;31m One compared topical application of blood-derived concentrated growth factor(CGF) with\u001b[0m standard dressing\u001b[1;31m(polyurethane film or foam)\u001b[0m; both applied weekly for six weeks\u001b[1;32m.\u001b[0m\u001b[1;32m This study reported that\u001b[0m [...]\n",
      "[discourse_reordering          ] [...] \u001b[1;32m This study reported increased wound healing in the ketanserin group, when compared with the control group.\u001b[0m\u001b[1;32m It should be noted that ketanserin is not licensed for use in humans in all countries.\u001b[0m\u001b[1;32m The second study randomised participants to either topically-applied growth factors isolated from the participant's own blood(concentrated growth factors(CGF)),\u001b[0m or\u001b[1;31muntil healing, whichever was sooner.\u001b[0m\u001b[1;31m One compared topical application of blood-derived concentrated growth factor(CGF) with\u001b[0m standard dressing\u001b[1;31m(polyurethane film or foam)\u001b[0m; both applied weekly for six weeks\u001b[1;32m.\u001b[0m\u001b[1;32m This study reported that\u001b[0m\u001b[1;31mby 61 participants with non-healing ulcers(venous, diabetic arterial, neuropathic, traumatic, or vasculitic).\u001b[0m\u001b[1;31m Both trials were small, reported results inadequately, and were of low methodological quality.\u001b[0m\u001b[1;31m Short follow-up times(six and eight weeks) meant it would be difficult to capture sufficient healing events to allow us to make comparisons between treatments.\u001b[0m\u001b[1;31m One trial demonstrated accelerated wound healing in the ketanserin group compared with the control group.\u001b[0m [...]\n",
      "[nonsim_extraneous_information ] [...] \u001b[1;32m This study reported increased wound healing in the ketanserin group, when compared with the control group.\u001b[0m\u001b[1;32m It should be noted that ketanserin is not licensed for use in humans in all countries.\u001b[0m\u001b[1;32m The second study randomised participants to either topically-applied growth factors isolated from the participant's own blood(concentrated growth factors(CGF)),\u001b[0m or [...]\n",
      "[semantic_elaboration_example  ] [...] \u001b[1;32m This study reported increased wound healing in the ketanserin group, when compared with the control group.\u001b[0m [...]\n",
      "[semantic_elaboration_example  ] [...] \u001b[1;32m It should be noted that ketanserin is not licensed for use in humans in all countries.\u001b[0m\u001b[1;32m The second study randomised participants to either topically-applied growth factors isolated from the participant's own blood(concentrated growth factors(CGF)),\u001b[0m or [...]\n",
      "[semantic_deletion             ] [...] or\u001b[1;31muntil healing, whichever was sooner.\u001b[0m\u001b[1;31m One compared topical application of blood-derived concentrated growth factor(CGF) with\u001b[0m standard dressing [...]\n",
      "[semantic_deletion             ] [...] standard dressing\u001b[1;31m(polyurethane film or foam)\u001b[0m; both applied weekly for six weeks [...]\n",
      "[semantic_elaboration_example  ] [...] \u001b[1;32m This study reported that\u001b[0m [...]\n",
      "[semantic_deletion             ] [...] \u001b[1;31mby 61 participants with non-healing ulcers(venous, diabetic arterial, neuropathic, traumatic, or vasculitic).\u001b[0m\u001b[1;31m Both trials were small, reported results inadequately, and were of low methodological quality.\u001b[0m\u001b[1;31m Short follow-up times(six and eight weeks) meant it would be difficult to capture sufficient healing events to allow us to make comparisons between treatments.\u001b[0m\u001b[1;31m One trial demonstrated accelerated wound healing in the ketanserin group compared with the control group.\u001b[0m\u001b[1;31m In the trial that compared CGF with standard dressings, the number of participants with diabetic arterial ulcers were only reported in the CGF group(9/31), and the number of participants with diabetic arterial ulcers and their data were not reported separately for the standard dressing group.\u001b[0m [...]\n",
      "[semantic_deletion             ] [...] \u001b[1;31m In the CGF group,\u001b[0m 66.6% [...]\n",
      "[nonsim_extraneus_information  ] [...] 66.6%\u001b[1;32mof CGF-treated\u001b[0m [...]\n",
      "[semantic_deletion             ] [...] \u001b[1;31m(6/9) of\u001b[0m diabetic arterial ulcers showed more than a 50% decrease in ulcer size [...]\n",
      "[nonsim_extraneus_information  ] [...] diabetic arterial ulcers showed more than a 50% decrease in ulcer size\u001b[1;32m,\u001b[0m compared to 6.7% [...]\n",
      "[semantic_deletion             ] [...] compared to 6.7%\u001b[1;31m(2/30)\u001b[0m of non-healing ulcers treated with standard dressing. [...]\n",
      "[semantic_deletion             ] [...] of non-healing ulcers treated with standard dressing.\u001b[1;31mWe assessed this as very-low certainty evidence due to the small number of studies and arterial ulcer participants, inadequate reporting of methodology and data, and short follow-up period.\u001b[0m Only one [...]\n",
      "[nonsim_extraneus_information  ] [...] Only one\u001b[1;32mstudy mentioned\u001b[0m [...]\n",
      "[semantic_deletion             ] [...] \u001b[1;31mtrial reported\u001b[0m side effects [...]\n",
      "[nonsim_extraneus_information  ] [...] side effects\u001b[1;32m, and reported\u001b[0m [...]\n",
      "[semantic_deletion             ] [...] \u001b[1;31m(complications), stating\u001b[0m that no participant experienced [...]\n",
      "[nonsim_extraneus_information  ] [...] that no participant experienced\u001b[1;32mside effects\u001b[0m [...]\n",
      "[semantic_deletion             ] [...] \u001b[1;31mthese\u001b[0m during follow-up(six weeks [...]\n",
      "[nonsim_extraneus_information  ] [...] during follow-up(six weeks\u001b[1;32m)\u001b[0m [...]\n",
      "[semantic_deletion             ] [...] \u001b[1;31m, low-certainty evidence).\u001b[0m [...]\n",
      "[semantic_deletion             ] [...] \u001b[1;31m It should also be noted that ketanserin is not licensed in all countries for use in humans\u001b[0m. Neither [...]\n",
      "[nonsim_extraneus_information  ] [...] . Neither\u001b[1;32mof the two studies\u001b[0m [...]\n",
      "[semantic_deletion             ] [...] \u001b[1;31mstudy\u001b[0m reported time to ulcer healing, patient satisfaction or quality of life [...]\n",
      "[nonsim_extraneus_information  ] [...] reported time to ulcer healing, patient satisfaction or quality of life\u001b[1;32mmeasures\u001b[0m. There is insufficient evidence to determine whether the choice of topical agent or dressing affects the healing of arterial leg ulcers. [...]\n",
      "[nonsim_extraneus_information  ] [...] . There is insufficient evidence to determine whether the choice of topical agent or dressing affects the healing of arterial leg ulcers.\u001b[1;32mWe downgraded the overall certainty of the available evidence to'very low' and'low', because the studies reported their methods poorly, there were only two studies and few participants with arterial disease, and because the studies were short and reported few results.\u001b[0m [...]\n",
      "[nonsim_extraneus_information  ] [...] \u001b[1;32m This made it impossible to determine whether there was any real difference in the number of ulcers healed between the groups.\u001b[0m\n"
     ]
    }
   ],
   "source": [
    "from utils_vis import visualize_edit_groups\n",
    "\n",
    "visualize_edit_groups(sample['source'], sample['references'][0], edit_groups)"
   ]
  }
 ],
 "metadata": {
  "kernelspec": {
   "display_name": "Python 3 (ipykernel)",
   "language": "python",
   "name": "python3"
  },
  "language_info": {
   "codemirror_mode": {
    "name": "ipython",
    "version": 3
   },
   "file_extension": ".py",
   "mimetype": "text/x-python",
   "name": "python",
   "nbconvert_exporter": "python",
   "pygments_lexer": "ipython3",
   "version": "3.9.18"
  }
 },
 "nbformat": 4,
 "nbformat_minor": 5
}
