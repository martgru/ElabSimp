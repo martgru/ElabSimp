{
 "cells": [
  {
   "cell_type": "markdown",
   "id": "b660a2f9-3897-4415-85d5-0867ce943f27",
   "metadata": {},
   "source": [
    "# Newsela \n",
    "\n",
    "Elaborations : https://github.com/nehasrikn/elaborative-simplification/tree/main/data\n",
    "\n",
    "- original article: version 0 \n",
    "- simplest: version 4, 5"
   ]
  },
  {
   "cell_type": "markdown",
   "id": "58d6e4ed-7d21-40b2-b024-b6db309405f3",
   "metadata": {},
   "source": [
    "# Load data"
   ]
  },
  {
   "cell_type": "code",
   "execution_count": 43,
   "id": "28ac3e5d-d02d-49d9-ac37-aa54f3c026d0",
   "metadata": {},
   "outputs": [],
   "source": [
    "import os\n",
    "import pandas as pd\n",
    "\n",
    "data_path = \"../data/newsela_article_corpus_2016-01-29\"\n",
    "articles_path = os.path.join(data_path,\"articles\")\n",
    "elaborations_path = os.path.join(data_path,\"elaborations\")\n",
    "\n",
    "metadata_df = pd.read_csv(os.path.join(data_path, \"articles_metadata.csv\"))"
   ]
  },
  {
   "cell_type": "code",
   "execution_count": null,
   "id": "b34c313d-a31e-41ea-8438-91b4a50d0d94",
   "metadata": {},
   "outputs": [],
   "source": [
    "metadata_df.head()"
   ]
  },
  {
   "cell_type": "markdown",
   "id": "3f1e30f9-259e-4d6d-a203-a9cc51707d9b",
   "metadata": {},
   "source": [
    "# Utils"
   ]
  },
  {
   "cell_type": "markdown",
   "id": "62ef1e07-5e56-4647-8321-b85fd9ed09ba",
   "metadata": {},
   "source": [
    "## Text-files"
   ]
  },
  {
   "cell_type": "code",
   "execution_count": 40,
   "id": "99b1ff52-edce-4aa2-9085-c95423d21692",
   "metadata": {},
   "outputs": [],
   "source": [
    "import re\n",
    "\n",
    "def preprocess(text):\n",
    "    # all instances of unnecessary newlines (\\n)\n",
    "    text = re.sub(r'\\n+', ' ', text)\n",
    "    \n",
    "    # escaped single quotes (\\' -> ')\n",
    "    text = text.replace(r\"\\'\", \"'\")\n",
    "    \n",
    "    # escaped double quotes (\\\" -> \")\n",
    "    text = text.replace(r'\\\"', '\"')\n",
    "    \n",
    "    # any remaining backslashes\n",
    "    text = re.sub(r'\\\\', '', text)\n",
    "    \n",
    "    # extra spaces that might have resulted from the replacements\n",
    "    text = re.sub(r'\\s+', ' ', text).strip()\n",
    "\n",
    "    return text"
   ]
  },
  {
   "cell_type": "code",
   "execution_count": 64,
   "id": "093848c7-56b0-473a-a8b7-09c0906efc3a",
   "metadata": {},
   "outputs": [],
   "source": [
    "import os\n",
    "\n",
    "def read_in_article(file_name):\n",
    "    try:\n",
    "        with open(os.path.join(articles_path,file_name), 'r', encoding='utf-8') as file:\n",
    "            content = file.read()\n",
    "        return content\n",
    "    except FileNotFoundError:\n",
    "        return \"Error: File not found.\"\n",
    "    except Exception as e:\n",
    "        return f\"An error occurred: {e}\""
   ]
  },
  {
   "cell_type": "code",
   "execution_count": null,
   "id": "fbaaeb6b-00b2-46db-ad27-4e6e19e59c40",
   "metadata": {},
   "outputs": [],
   "source": [
    "sample = metadata_df.sample(n=1,random_state=42)\n",
    "slug = str(sample['slug'].iloc[0])\n",
    "lang = str(sample['language'].iloc[0])\n",
    "ver = str(sample['version'].iloc[0])\n",
    "file_name = slug + '.' + lang + '.' + ver + '.txt'\n",
    "article = read_in_article(file_name)\n",
    "print(preprocess(article))"
   ]
  },
  {
   "cell_type": "markdown",
   "id": "f9b29048-4b87-48c8-9c77-6a9bbc9a7f7a",
   "metadata": {},
   "source": [
    "# Create elaboration dataset"
   ]
  },
  {
   "cell_type": "code",
   "execution_count": 61,
   "id": "defe2340-d4f5-467f-95b5-ba48bbeaefe4",
   "metadata": {},
   "outputs": [],
   "source": [
    "import os \n",
    "import json\n",
    "import pandas as pd\n",
    "\n",
    "newsela_doc_path = os.path.join(data_path, \"newsela_data_share-20150302\")\n",
    "\n",
    "train_metadata_df = pd.read_json(os.path.join(elaborations_path, \"train.json\"))\n",
    "valid_metadata_df = pd.read_json(os.path.join(elaborations_path, \"val.json\"))\n",
    "test_metadata_df = pd.read_json(os.path.join(elaborations_path, \"test.json\"))\n",
    "\n",
    "train_elab_metadata_df = pd.json_normalize(train_metadata_df[\"elaborations\"])\n",
    "valid_elab_metadata_df = pd.json_normalize(valid_metadata_df[\"elaborations\"])\n",
    "test_elab_metadata_df = pd.json_normalize(test_metadata_df[\"elaborations\"])"
   ]
  },
  {
   "cell_type": "code",
   "execution_count": null,
   "id": "e06b08af-4064-4deb-923b-fc09594676de",
   "metadata": {},
   "outputs": [],
   "source": [
    "train_elab_metadata_df.head()"
   ]
  },
  {
   "cell_type": "code",
   "execution_count": 62,
   "id": "aef4fcc8-586e-44f8-b7e6-52b9c593f6b4",
   "metadata": {},
   "outputs": [
    {
     "name": "stdout",
     "output_type": "stream",
     "text": [
      "../data/newsela_article_corpus_2016-01-29/newsela_data_share-20150302\n"
     ]
    }
   ],
   "source": [
    "print(newsela_doc_path)"
   ]
  },
  {
   "cell_type": "code",
   "execution_count": null,
   "id": "093e7fa7-2724-4c0f-9799-687830b921e5",
   "metadata": {},
   "outputs": [],
   "source": [
    "pd.read_json(os.path.join(newsela_doc_path, \"newsela_articles_20150302.5versions.sents.json\"))"
   ]
  },
  {
   "cell_type": "code",
   "execution_count": 67,
   "id": "fc8a1015-4554-4f28-a5a1-166c0fb6195b",
   "metadata": {},
   "outputs": [],
   "source": [
    "with open(os.path.join(newsela_doc_path,\"newsela_articles_20150302.aligned.sents.txt\"), 'r', encoding='utf-8') as file:\n",
    "            content = file.read()"
   ]
  },
  {
   "cell_type": "code",
   "execution_count": null,
   "id": "949e973b-01a1-49f8-afb5-30b4d814b828",
   "metadata": {},
   "outputs": [],
   "source": []
  }
 ],
 "metadata": {
  "kernelspec": {
   "display_name": "Python 3 (ipykernel)",
   "language": "python",
   "name": "python3"
  },
  "language_info": {
   "codemirror_mode": {
    "name": "ipython",
    "version": 3
   },
   "file_extension": ".py",
   "mimetype": "text/x-python",
   "name": "python",
   "nbconvert_exporter": "python",
   "pygments_lexer": "ipython3",
   "version": "3.9.18"
  }
 },
 "nbformat": 4,
 "nbformat_minor": 5
}
