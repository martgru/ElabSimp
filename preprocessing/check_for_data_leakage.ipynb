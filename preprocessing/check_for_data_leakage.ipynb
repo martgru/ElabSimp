{
 "cells": [
  {
   "cell_type": "markdown",
   "id": "c7eeea0b-8f7c-40f8-9e2c-582ed41ed12b",
   "metadata": {},
   "source": [
    "# Load dataset"
   ]
  },
  {
   "cell_type": "code",
   "execution_count": 1,
   "id": "7b463fc4-933d-4a0a-8ba5-9820d1bac3f6",
   "metadata": {},
   "outputs": [],
   "source": [
    "from datasets import load_from_disk\n",
    "\n",
    "swipe_clean_dataset = load_from_disk(\"../data/swipe_clean\")"
   ]
  },
  {
   "cell_type": "code",
   "execution_count": 2,
   "id": "fe7c4204-1520-472a-959b-f1359edd2217",
   "metadata": {},
   "outputs": [
    {
     "data": {
      "text/plain": [
       "DatasetDict({\n",
       "    train: Dataset({\n",
       "        features: ['r_content', 's_content'],\n",
       "        num_rows: 3847\n",
       "    })\n",
       "    validation: Dataset({\n",
       "        features: ['r_content', 's_content'],\n",
       "        num_rows: 479\n",
       "    })\n",
       "    test_id: Dataset({\n",
       "        features: ['r_content', 's_content'],\n",
       "        num_rows: 483\n",
       "    })\n",
       "    test_ood: Dataset({\n",
       "        features: ['r_content', 's_content'],\n",
       "        num_rows: 368\n",
       "    })\n",
       "})"
      ]
     },
     "execution_count": 2,
     "metadata": {},
     "output_type": "execute_result"
    }
   ],
   "source": [
    "swipe_clean_dataset"
   ]
  },
  {
   "cell_type": "markdown",
   "id": "1707fdd5-fc21-4cf0-8ad2-8341da5cb0ba",
   "metadata": {},
   "source": [
    "# Check for duplicates"
   ]
  },
  {
   "cell_type": "code",
   "execution_count": 3,
   "id": "bd7d9e70-7cb4-4f0e-9381-fea5ea75fedd",
   "metadata": {},
   "outputs": [],
   "source": [
    "dataset = swipe_clean_dataset"
   ]
  },
  {
   "cell_type": "code",
   "execution_count": 4,
   "id": "c8a22f8a-1220-4537-a476-c0d07194d5ba",
   "metadata": {},
   "outputs": [
    {
     "name": "stdout",
     "output_type": "stream",
     "text": [
      "Number of duplicate examples: 0\n"
     ]
    }
   ],
   "source": [
    "train_texts = set([example['r_content'] for example in dataset['train']])\n",
    "validation_texts = set([example['r_content'] for example in dataset['validation']])\n",
    "\n",
    "# overlap\n",
    "duplicates = train_texts.intersection(validation_texts)\n",
    "print(f\"Number of duplicate examples: {len(duplicates)}\")"
   ]
  },
  {
   "cell_type": "code",
   "execution_count": 5,
   "id": "74bb2364-5dfa-4ed8-8242-0f4021321ca4",
   "metadata": {},
   "outputs": [
    {
     "name": "stdout",
     "output_type": "stream",
     "text": [
      "Number of duplicate examples: 0\n"
     ]
    }
   ],
   "source": [
    "train_texts = set([example['r_content'] for example in dataset['train']])\n",
    "validation_texts = set([example['r_content'] for example in dataset['test_id']])\n",
    "\n",
    "# overlap\n",
    "duplicates = train_texts.intersection(validation_texts)\n",
    "print(f\"Number of duplicate examples: {len(duplicates)}\")"
   ]
  },
  {
   "cell_type": "code",
   "execution_count": 6,
   "id": "17b3de5e-1929-4e05-8a98-5217b9512108",
   "metadata": {},
   "outputs": [
    {
     "name": "stdout",
     "output_type": "stream",
     "text": [
      "Number of duplicate examples: 0\n"
     ]
    }
   ],
   "source": [
    "train_texts = set([example['r_content'] for example in dataset['validation']])\n",
    "validation_texts = set([example['r_content'] for example in dataset['test_id']])\n",
    "\n",
    "# overlap\n",
    "duplicates = train_texts.intersection(validation_texts)\n",
    "print(f\"Number of duplicate examples: {len(duplicates)}\")"
   ]
  },
  {
   "cell_type": "markdown",
   "id": "1f6b1084-702d-46e7-b456-54ba817c8354",
   "metadata": {},
   "source": [
    "# Check for near duplicates"
   ]
  },
  {
   "cell_type": "code",
   "execution_count": 7,
   "id": "fb302614-8e71-4496-ad5c-23cbde493dcb",
   "metadata": {},
   "outputs": [
    {
     "ename": "KeyboardInterrupt",
     "evalue": "",
     "output_type": "error",
     "traceback": [
      "\u001b[0;31m---------------------------------------------------------------------------\u001b[0m",
      "\u001b[0;31mKeyboardInterrupt\u001b[0m                         Traceback (most recent call last)",
      "Cell \u001b[0;32mIn[7], line 9\u001b[0m\n\u001b[1;32m      7\u001b[0m \u001b[38;5;28;01mfor\u001b[39;00m train_example \u001b[38;5;129;01min\u001b[39;00m dataset[\u001b[38;5;124m'\u001b[39m\u001b[38;5;124mtrain\u001b[39m\u001b[38;5;124m'\u001b[39m]:\n\u001b[1;32m      8\u001b[0m     \u001b[38;5;28;01mfor\u001b[39;00m val_example \u001b[38;5;129;01min\u001b[39;00m dataset[\u001b[38;5;124m'\u001b[39m\u001b[38;5;124mvalidation\u001b[39m\u001b[38;5;124m'\u001b[39m]:\n\u001b[0;32m----> 9\u001b[0m         \u001b[38;5;28;01mif\u001b[39;00m \u001b[43mis_similar\u001b[49m\u001b[43m(\u001b[49m\u001b[43mtrain_example\u001b[49m\u001b[43m[\u001b[49m\u001b[38;5;124;43m'\u001b[39;49m\u001b[38;5;124;43mr_content\u001b[39;49m\u001b[38;5;124;43m'\u001b[39;49m\u001b[43m]\u001b[49m\u001b[43m,\u001b[49m\u001b[43m \u001b[49m\u001b[43mval_example\u001b[49m\u001b[43m[\u001b[49m\u001b[38;5;124;43m'\u001b[39;49m\u001b[38;5;124;43mr_content\u001b[39;49m\u001b[38;5;124;43m'\u001b[39;49m\u001b[43m]\u001b[49m\u001b[43m)\u001b[49m:\n\u001b[1;32m     10\u001b[0m             similar_pairs\u001b[38;5;241m.\u001b[39mappend((train_example[\u001b[38;5;124m'\u001b[39m\u001b[38;5;124mr_content\u001b[39m\u001b[38;5;124m'\u001b[39m], val_example[\u001b[38;5;124m'\u001b[39m\u001b[38;5;124mr_content\u001b[39m\u001b[38;5;124m'\u001b[39m]))\n\u001b[1;32m     12\u001b[0m \u001b[38;5;28mprint\u001b[39m(\u001b[38;5;124mf\u001b[39m\u001b[38;5;124m\"\u001b[39m\u001b[38;5;124mNumber of similar examples: \u001b[39m\u001b[38;5;132;01m{\u001b[39;00m\u001b[38;5;28mlen\u001b[39m(similar_pairs)\u001b[38;5;132;01m}\u001b[39;00m\u001b[38;5;124m\"\u001b[39m)\n",
      "Cell \u001b[0;32mIn[7], line 4\u001b[0m, in \u001b[0;36mis_similar\u001b[0;34m(text1, text2, threshold)\u001b[0m\n\u001b[1;32m      3\u001b[0m \u001b[38;5;28;01mdef\u001b[39;00m \u001b[38;5;21mis_similar\u001b[39m(text1, text2, threshold\u001b[38;5;241m=\u001b[39m\u001b[38;5;241m0.8\u001b[39m):\n\u001b[0;32m----> 4\u001b[0m     \u001b[38;5;28;01mreturn\u001b[39;00m \u001b[43mSequenceMatcher\u001b[49m\u001b[43m(\u001b[49m\u001b[38;5;28;43;01mNone\u001b[39;49;00m\u001b[43m,\u001b[49m\u001b[43m \u001b[49m\u001b[43mtext1\u001b[49m\u001b[43m,\u001b[49m\u001b[43m \u001b[49m\u001b[43mtext2\u001b[49m\u001b[43m)\u001b[49m\u001b[38;5;241;43m.\u001b[39;49m\u001b[43mratio\u001b[49m\u001b[43m(\u001b[49m\u001b[43m)\u001b[49m \u001b[38;5;241m>\u001b[39m threshold\n",
      "File \u001b[0;32m/usr/lib64/python3.9/difflib.py:619\u001b[0m, in \u001b[0;36mSequenceMatcher.ratio\u001b[0;34m(self)\u001b[0m\n\u001b[1;32m    597\u001b[0m \u001b[38;5;28;01mdef\u001b[39;00m \u001b[38;5;21mratio\u001b[39m(\u001b[38;5;28mself\u001b[39m):\n\u001b[1;32m    598\u001b[0m \u001b[38;5;250m    \u001b[39m\u001b[38;5;124;03m\"\"\"Return a measure of the sequences' similarity (float in [0,1]).\u001b[39;00m\n\u001b[1;32m    599\u001b[0m \n\u001b[1;32m    600\u001b[0m \u001b[38;5;124;03m    Where T is the total number of elements in both sequences, and\u001b[39;00m\n\u001b[0;32m   (...)\u001b[0m\n\u001b[1;32m    616\u001b[0m \u001b[38;5;124;03m    1.0\u001b[39;00m\n\u001b[1;32m    617\u001b[0m \u001b[38;5;124;03m    \"\"\"\u001b[39;00m\n\u001b[0;32m--> 619\u001b[0m     matches \u001b[38;5;241m=\u001b[39m \u001b[38;5;28msum\u001b[39m(triple[\u001b[38;5;241m-\u001b[39m\u001b[38;5;241m1\u001b[39m] \u001b[38;5;28;01mfor\u001b[39;00m triple \u001b[38;5;129;01min\u001b[39;00m \u001b[38;5;28;43mself\u001b[39;49m\u001b[38;5;241;43m.\u001b[39;49m\u001b[43mget_matching_blocks\u001b[49m\u001b[43m(\u001b[49m\u001b[43m)\u001b[49m)\n\u001b[1;32m    620\u001b[0m     \u001b[38;5;28;01mreturn\u001b[39;00m _calculate_ratio(matches, \u001b[38;5;28mlen\u001b[39m(\u001b[38;5;28mself\u001b[39m\u001b[38;5;241m.\u001b[39ma) \u001b[38;5;241m+\u001b[39m \u001b[38;5;28mlen\u001b[39m(\u001b[38;5;28mself\u001b[39m\u001b[38;5;241m.\u001b[39mb))\n",
      "File \u001b[0;32m/usr/lib64/python3.9/difflib.py:454\u001b[0m, in \u001b[0;36mSequenceMatcher.get_matching_blocks\u001b[0;34m(self)\u001b[0m\n\u001b[1;32m    452\u001b[0m \u001b[38;5;28;01mwhile\u001b[39;00m queue:\n\u001b[1;32m    453\u001b[0m     alo, ahi, blo, bhi \u001b[38;5;241m=\u001b[39m queue\u001b[38;5;241m.\u001b[39mpop()\n\u001b[0;32m--> 454\u001b[0m     i, j, k \u001b[38;5;241m=\u001b[39m x \u001b[38;5;241m=\u001b[39m \u001b[38;5;28;43mself\u001b[39;49m\u001b[38;5;241;43m.\u001b[39;49m\u001b[43mfind_longest_match\u001b[49m\u001b[43m(\u001b[49m\u001b[43malo\u001b[49m\u001b[43m,\u001b[49m\u001b[43m \u001b[49m\u001b[43mahi\u001b[49m\u001b[43m,\u001b[49m\u001b[43m \u001b[49m\u001b[43mblo\u001b[49m\u001b[43m,\u001b[49m\u001b[43m \u001b[49m\u001b[43mbhi\u001b[49m\u001b[43m)\u001b[49m\n\u001b[1;32m    455\u001b[0m     \u001b[38;5;66;03m# a[alo:i] vs b[blo:j] unknown\u001b[39;00m\n\u001b[1;32m    456\u001b[0m     \u001b[38;5;66;03m# a[i:i+k] same as b[j:j+k]\u001b[39;00m\n\u001b[1;32m    457\u001b[0m     \u001b[38;5;66;03m# a[i+k:ahi] vs b[j+k:bhi] unknown\u001b[39;00m\n\u001b[1;32m    458\u001b[0m     \u001b[38;5;28;01mif\u001b[39;00m k:   \u001b[38;5;66;03m# if k is 0, there was no matching block\u001b[39;00m\n",
      "File \u001b[0;32m/usr/lib64/python3.9/difflib.py:385\u001b[0m, in \u001b[0;36mSequenceMatcher.find_longest_match\u001b[0;34m(self, alo, ahi, blo, bhi)\u001b[0m\n\u001b[1;32m    383\u001b[0m \u001b[38;5;28;01mif\u001b[39;00m j \u001b[38;5;241m>\u001b[39m\u001b[38;5;241m=\u001b[39m bhi:\n\u001b[1;32m    384\u001b[0m     \u001b[38;5;28;01mbreak\u001b[39;00m\n\u001b[0;32m--> 385\u001b[0m k \u001b[38;5;241m=\u001b[39m newj2len[j] \u001b[38;5;241m=\u001b[39m j2lenget(\u001b[43mj\u001b[49m\u001b[38;5;241;43m-\u001b[39;49m\u001b[38;5;241;43m1\u001b[39;49m, \u001b[38;5;241m0\u001b[39m) \u001b[38;5;241m+\u001b[39m \u001b[38;5;241m1\u001b[39m\n\u001b[1;32m    386\u001b[0m \u001b[38;5;28;01mif\u001b[39;00m k \u001b[38;5;241m>\u001b[39m bestsize:\n\u001b[1;32m    387\u001b[0m     besti, bestj, bestsize \u001b[38;5;241m=\u001b[39m i\u001b[38;5;241m-\u001b[39mk\u001b[38;5;241m+\u001b[39m\u001b[38;5;241m1\u001b[39m, j\u001b[38;5;241m-\u001b[39mk\u001b[38;5;241m+\u001b[39m\u001b[38;5;241m1\u001b[39m, k\n",
      "\u001b[0;31mKeyboardInterrupt\u001b[0m: "
     ]
    }
   ],
   "source": [
    "from difflib import SequenceMatcher\n",
    "\n",
    "def is_similar(text1, text2, threshold=0.8):\n",
    "    return SequenceMatcher(None, text1, text2).ratio() > threshold\n",
    "\n",
    "similar_pairs = []\n",
    "for train_example in dataset['train']:\n",
    "    for val_example in dataset['validation']:\n",
    "        if is_similar(train_example['r_content'], val_example['r_content']):\n",
    "            similar_pairs.append((train_example['r_content'], val_example['r_content']))\n",
    "\n",
    "print(f\"Number of similar examples: {len(similar_pairs)}\")"
   ]
  }
 ],
 "metadata": {
  "kernelspec": {
   "display_name": "Python 3 (ipykernel)",
   "language": "python",
   "name": "python3"
  },
  "language_info": {
   "codemirror_mode": {
    "name": "ipython",
    "version": 3
   },
   "file_extension": ".py",
   "mimetype": "text/x-python",
   "name": "python",
   "nbconvert_exporter": "python",
   "pygments_lexer": "ipython3",
   "version": "3.9.18"
  }
 },
 "nbformat": 4,
 "nbformat_minor": 5
}
