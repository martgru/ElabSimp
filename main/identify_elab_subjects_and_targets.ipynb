{
 "cells": [
  {
   "cell_type": "markdown",
   "id": "44e524df-3ac9-4061-97d7-aa948fe2c175",
   "metadata": {},
   "source": [
    "# Load model"
   ]
  },
  {
   "cell_type": "code",
   "execution_count": 4,
   "id": "2e4bd939-e834-48fa-96ea-7e03efeb224f",
   "metadata": {},
   "outputs": [],
   "source": [
    "import os\n",
    "#os.environ[\"OPENAI_API_KEY\"] = \"my_key\""
   ]
  },
  {
   "cell_type": "code",
   "execution_count": 3,
   "id": "5a566eaa-9db5-4d5a-a965-e21e3809bbe0",
   "metadata": {},
   "outputs": [],
   "source": [
    "from openai import OpenAI \n",
    "import os\n",
    "\n",
    "MODEL=\"gpt-4o-mini\"\n",
    "client = OpenAI(api_key=os.environ.get(\"OPENAI_API_KEY\"))"
   ]
  },
  {
   "cell_type": "markdown",
   "id": "61b3ab05-8212-41e9-b416-f9e4d26ab8f2",
   "metadata": {},
   "source": [
    "# Load data"
   ]
  },
  {
   "cell_type": "code",
   "execution_count": 5,
   "id": "e4e8561d-2aa7-4aae-8fab-1c597d1e345a",
   "metadata": {},
   "outputs": [
    {
     "name": "stdout",
     "output_type": "stream",
     "text": [
      "DatasetDict({\n",
      "    train: Dataset({\n",
      "        features: ['doc_num', 'source_text', 'label_text', 'elaboration_sentence', 'contextual_specificity_rating'],\n",
      "        num_rows: 1049\n",
      "    })\n",
      "    validation: Dataset({\n",
      "        features: ['doc_num', 'source_text', 'label_text', 'elaboration_sentence', 'contextual_specificity_rating'],\n",
      "        num_rows: 134\n",
      "    })\n",
      "    test: Dataset({\n",
      "        features: ['doc_num', 'source_text', 'label_text', 'elaboration_sentence', 'contextual_specificity_rating'],\n",
      "        num_rows: 116\n",
      "    })\n",
      "})\n"
     ]
    }
   ],
   "source": [
    "from datasets import load_dataset\n",
    "import os\n",
    "\n",
    "data_path = \"../data/elaborations\"\n",
    "\n",
    "data_files_c2sp = {\n",
    "    'train': os.path.join(data_path,\"train\",\"train_ds_c2sp.csv\"),      \n",
    "    'validation': os.path.join(data_path,\"validation\",\"valid_ds_c2sp.csv\"),  \n",
    "    'test': os.path.join(data_path,\"test\",\"test_ds_c2sp.csv\")         \n",
    "}\n",
    "\n",
    "dataset = load_dataset('csv', data_files=data_files_c2sp)\n",
    "print(dataset)"
   ]
  },
  {
   "cell_type": "markdown",
   "id": "350d2b8d-1fe5-4722-a8d7-baf28ef6550b",
   "metadata": {},
   "source": [
    "# Prompt and messages"
   ]
  },
  {
   "cell_type": "code",
   "execution_count": 6,
   "id": "711b4bd8-34b3-401d-9595-7744680fd46e",
   "metadata": {},
   "outputs": [],
   "source": [
    "SYSTEM_PROMPT_TARGET = \"\"\"You are an expert in determining what the explanation sentence provided is explaining within the context text.\n",
    "Guidelines: \n",
    "- The \"explanation target\" should be a specific phrase, term, action, or concept in the context text provided. \n",
    "- The \"explanation target\" should be written as a noun phrase, not as a complete sentence.\n",
    "- If there are multiple possible targets, select the first target that you think is most appropriate.\n",
    "\n",
    "Return your answer in the following format:\n",
    "{\"sentence\":\"<provided explanation sentence>\", \"target\": \"<explanation target>\"}\n",
    "\"\"\""
   ]
  },
  {
   "cell_type": "markdown",
   "id": "a89c99c6-931c-4be6-80b0-9cbf203c0709",
   "metadata": {},
   "source": [
    "# Turn examples into ChatML format"
   ]
  },
  {
   "cell_type": "code",
   "execution_count": 22,
   "id": "aa846036-a384-494f-9fc2-0b3b7fa4d8b2",
   "metadata": {},
   "outputs": [
    {
     "data": {
      "application/vnd.jupyter.widget-view+json": {
       "model_id": "25d7a7bd38a547c19d9c5e061b7e7e37",
       "version_major": 2,
       "version_minor": 0
      },
      "text/plain": [
       "Map:   0%|          | 0/116 [00:00<?, ? examples/s]"
      ]
     },
     "metadata": {},
     "output_type": "display_data"
    }
   ],
   "source": [
    "def format_example(example):\n",
    "    return {\n",
    "        \"messages\": [\n",
    "            {\"role\": \"system\", \"content\": SYSTEM_PROMPT_SUBJECT},\n",
    "            {\"role\": \"user\", \"content\":  \"Identify the subject of the following explanation sentence: '{}' within the given text: '{}'\".format(\n",
    "    example[\"elaboration_sentence\"], example[\"label_text\"])},\n",
    "        ]\n",
    "    }\n",
    "#formatted_train_dataset = dataset[\"train\"].map(format_example)\n",
    "#formatted_validation_dataset = dataset[\"validation\"].map(format_example)\n",
    "formatted_test_dataset = dataset[\"test\"].map(format_example)"
   ]
  },
  {
   "cell_type": "markdown",
   "id": "e2bad9b9-49d2-421d-9860-b519688523b0",
   "metadata": {},
   "source": [
    "# Identify subjects of elaborations\n",
    "\n",
    "Analyze the subjects to explore the types of elaboration sentences."
   ]
  },
  {
   "cell_type": "code",
   "execution_count": 24,
   "id": "8dc012b5-0192-4d4e-827b-b6417c434f79",
   "metadata": {},
   "outputs": [],
   "source": [
    "SYSTEM_PROMPT_SUBJECT = \"\"\"You are an expert in identifying the subject of the provided explanation sentence based on the context text. \n",
    "If the subject of the explanation sentence is a **pronoun (e.g., \"it,\" \"they,\" \"he,\" \"she\")**, determine what the pronoun is referring to within the context.\n",
    "The subject should be written as a phrase, not as a complete sentence.\n",
    "If there are multiple possible subjects, select the first one you think is most appropriate.\n",
    "\"\"\"\n",
    "\n",
    "SYSTEM_PROMPT_SUBJECT_PRESENT_IN_CONTEXT = \"\"\"You are an expert in identifying the subject of the provided explanation sentence based on the context text. \n",
    "If the subject of the explanation sentence is a **pronoun (e.g., \"it,\" \"they,\" \"he,\" \"she\")**, determine what the pronoun is referring to within the context.\n",
    "The subject should be written as a phrase, not as a complete sentence.\n",
    "The subject phrase should be present in the context text.\n",
    "If the subject of explanation sentence is not present in the context text, respond with 'NO'.\n",
    "\"\"\"\n",
    "\n",
    "SYSTEM_PROMPT_KEYWORD = \"\"\"You are an expert in identifying the subject of the provided explanation sentence based on the context text. \n",
    "Return the main keyword which explanation sentence is referring to within the context.\n",
    "The keyword should be made up of only one word, and it should be found in the context text.\n",
    "If the keyword is not present in the context text, respond with 'NO'.\n",
    "\"\"\""
   ]
  },
  {
   "cell_type": "code",
   "execution_count": 27,
   "id": "126d98f8-124d-4b5e-84bb-25c49a2aa950",
   "metadata": {},
   "outputs": [
    {
     "name": "stdout",
     "output_type": "stream",
     "text": [
      "Identify the subject of the following explanation sentence: 'Many do not have the money to get the training they need.' within the given text: 'New companies have come that need skilled workers with more education. New Haven youth want those jobs, but they do not have the education or the skills. Many do not have the money to get the training they need. That is where New Haven Promise comes in. It will make a difference by paying for college.'\n",
      "\n",
      "Assistant: money\n"
     ]
    }
   ],
   "source": [
    "example = \"Identify the subject of the following explanation sentence: '{}' within the given text: '{}'\".format(\n",
    "    dataset[\"test\"][0][\"elaboration_sentence\"], dataset[\"test\"][0][\"label_text\"])\n",
    "print(example, end=\"\\n\\n\")\n",
    "\n",
    "completion = client.chat.completions.create(\n",
    "  model=MODEL,\n",
    "  messages=[\n",
    "    {\"role\": \"system\", \"content\": SYSTEM_PROMPT_KEYWORD}, \n",
    "    {\"role\": \"user\", \"content\": example }  \n",
    "  ]\n",
    ")\n",
    "\n",
    "print(\"Assistant: \" + completion.choices[0].message.content)"
   ]
  },
  {
   "cell_type": "code",
   "execution_count": 40,
   "id": "63c2bed5-4b55-4cf4-9713-66604712284d",
   "metadata": {},
   "outputs": [
    {
     "data": {
      "application/vnd.jupyter.widget-view+json": {
       "model_id": "53c21e72f62a4976a8074331b515f8cf",
       "version_major": 2,
       "version_minor": 0
      },
      "text/plain": [
       "  0%|          | 0/116 [00:00<?, ?it/s]"
      ]
     },
     "metadata": {},
     "output_type": "display_data"
    }
   ],
   "source": [
    "import pandas as pd\n",
    "from tqdm.notebook import tqdm\n",
    "\n",
    "df_results = pd.DataFrame({\n",
    "    'source_text': dataset['test']['source_text'], \n",
    "    'label_text': dataset['test']['label_text'],\n",
    "    'elaboration_sentence': dataset['test']['elaboration_sentence'],\n",
    "    'subject': \"\"\n",
    "})\n",
    "\n",
    "subjects = []\n",
    "for example in tqdm(formatted_test_dataset,total=len(formatted_test_dataset)):\n",
    "    completion = client.chat.completions.create(model=MODEL,messages=example[\"messages\"])\n",
    "    subjects.append(completion.choices[0].message.content)"
   ]
  },
  {
   "cell_type": "code",
   "execution_count": 41,
   "id": "562d69e5-b2cc-4e56-bbc4-e227f8c98560",
   "metadata": {},
   "outputs": [],
   "source": [
    "df_results[\"subject\"] = subjects "
   ]
  },
  {
   "cell_type": "code",
   "execution_count": 42,
   "id": "6c8cc0c1-b4b2-48a1-8313-f3e2b80408cf",
   "metadata": {},
   "outputs": [
    {
     "data": {
      "text/html": [
       "<div>\n",
       "<style scoped>\n",
       "    .dataframe tbody tr th:only-of-type {\n",
       "        vertical-align: middle;\n",
       "    }\n",
       "\n",
       "    .dataframe tbody tr th {\n",
       "        vertical-align: top;\n",
       "    }\n",
       "\n",
       "    .dataframe thead th {\n",
       "        text-align: right;\n",
       "    }\n",
       "</style>\n",
       "<table border=\"1\" class=\"dataframe\">\n",
       "  <thead>\n",
       "    <tr style=\"text-align: right;\">\n",
       "      <th></th>\n",
       "      <th>source_text</th>\n",
       "      <th>label_text</th>\n",
       "      <th>elaboration_sentence</th>\n",
       "      <th>subject</th>\n",
       "    </tr>\n",
       "  </thead>\n",
       "  <tbody>\n",
       "    <tr>\n",
       "      <th>0</th>\n",
       "      <td>New companies have come that need skilled work...</td>\n",
       "      <td>New companies have come that need skilled work...</td>\n",
       "      <td>Many do not have the money to get the training...</td>\n",
       "      <td>Many (youth)</td>\n",
       "    </tr>\n",
       "    <tr>\n",
       "      <th>1</th>\n",
       "      <td>But the death toll could have been higher. For...</td>\n",
       "      <td>But the death toll could have been higher. For...</td>\n",
       "      <td>A gauge is a kind of measuring stick.</td>\n",
       "      <td>A gauge</td>\n",
       "    </tr>\n",
       "    <tr>\n",
       "      <th>2</th>\n",
       "      <td>Forecasters said more people could have died i...</td>\n",
       "      <td>Forecasters said more people could have died i...</td>\n",
       "      <td>It sits in the water.</td>\n",
       "      <td>a gauge</td>\n",
       "    </tr>\n",
       "    <tr>\n",
       "      <th>3</th>\n",
       "      <td>Helicopters were banned from flying over the s...</td>\n",
       "      <td>Helicopters were banned from flying over the s...</td>\n",
       "      <td>They raced against the setting sun to search t...</td>\n",
       "      <td>Rescuers</td>\n",
       "    </tr>\n",
       "    <tr>\n",
       "      <th>4</th>\n",
       "      <td>Istanbul is an important city for trade. Turke...</td>\n",
       "      <td>Istanbul is an important city for trade. Turke...</td>\n",
       "      <td>Turkey is larger than the state of Texas.</td>\n",
       "      <td>Turkey</td>\n",
       "    </tr>\n",
       "    <tr>\n",
       "      <th>...</th>\n",
       "      <td>...</td>\n",
       "      <td>...</td>\n",
       "      <td>...</td>\n",
       "      <td>...</td>\n",
       "    </tr>\n",
       "    <tr>\n",
       "      <th>111</th>\n",
       "      <td>Instead of preparing for the Super Bowl, he ha...</td>\n",
       "      <td>Instead of preparing for the Super Bowl, he ha...</td>\n",
       "      <td>Like many mysteries, this one may not be solve...</td>\n",
       "      <td>this one</td>\n",
       "    </tr>\n",
       "    <tr>\n",
       "      <th>112</th>\n",
       "      <td>Should kids play tackle football? Football is ...</td>\n",
       "      <td>Should kids play tackle football? Football is ...</td>\n",
       "      <td>Players get bounced around.</td>\n",
       "      <td>Players</td>\n",
       "    </tr>\n",
       "    <tr>\n",
       "      <th>113</th>\n",
       "      <td>He signed two of the biggest acts of last year...</td>\n",
       "      <td>He signed two of the biggest acts of last year...</td>\n",
       "      <td>Then the companies sell and promote the records.</td>\n",
       "      <td>the companies</td>\n",
       "    </tr>\n",
       "    <tr>\n",
       "      <th>114</th>\n",
       "      <td>It worries about the spread of disease. It als...</td>\n",
       "      <td>It worries about the spread of disease. It als...</td>\n",
       "      <td>There are certainly good reasons to be worried.</td>\n",
       "      <td>the spread of disease and the inability of new...</td>\n",
       "    </tr>\n",
       "    <tr>\n",
       "      <th>115</th>\n",
       "      <td>The Constitution lists laws that govern the wh...</td>\n",
       "      <td>The Constitution lists laws that govern the wh...</td>\n",
       "      <td>Judge Granade's order was immediately challenged.</td>\n",
       "      <td>Judge Granade's order</td>\n",
       "    </tr>\n",
       "  </tbody>\n",
       "</table>\n",
       "<p>116 rows × 4 columns</p>\n",
       "</div>"
      ],
      "text/plain": [
       "                                           source_text  \\\n",
       "0    New companies have come that need skilled work...   \n",
       "1    But the death toll could have been higher. For...   \n",
       "2    Forecasters said more people could have died i...   \n",
       "3    Helicopters were banned from flying over the s...   \n",
       "4    Istanbul is an important city for trade. Turke...   \n",
       "..                                                 ...   \n",
       "111  Instead of preparing for the Super Bowl, he ha...   \n",
       "112  Should kids play tackle football? Football is ...   \n",
       "113  He signed two of the biggest acts of last year...   \n",
       "114  It worries about the spread of disease. It als...   \n",
       "115  The Constitution lists laws that govern the wh...   \n",
       "\n",
       "                                            label_text  \\\n",
       "0    New companies have come that need skilled work...   \n",
       "1    But the death toll could have been higher. For...   \n",
       "2    Forecasters said more people could have died i...   \n",
       "3    Helicopters were banned from flying over the s...   \n",
       "4    Istanbul is an important city for trade. Turke...   \n",
       "..                                                 ...   \n",
       "111  Instead of preparing for the Super Bowl, he ha...   \n",
       "112  Should kids play tackle football? Football is ...   \n",
       "113  He signed two of the biggest acts of last year...   \n",
       "114  It worries about the spread of disease. It als...   \n",
       "115  The Constitution lists laws that govern the wh...   \n",
       "\n",
       "                                  elaboration_sentence  \\\n",
       "0    Many do not have the money to get the training...   \n",
       "1                A gauge is a kind of measuring stick.   \n",
       "2                                It sits in the water.   \n",
       "3    They raced against the setting sun to search t...   \n",
       "4            Turkey is larger than the state of Texas.   \n",
       "..                                                 ...   \n",
       "111  Like many mysteries, this one may not be solve...   \n",
       "112                        Players get bounced around.   \n",
       "113   Then the companies sell and promote the records.   \n",
       "114    There are certainly good reasons to be worried.   \n",
       "115  Judge Granade's order was immediately challenged.   \n",
       "\n",
       "                                               subject  \n",
       "0                                         Many (youth)  \n",
       "1                                              A gauge  \n",
       "2                                              a gauge  \n",
       "3                                             Rescuers  \n",
       "4                                               Turkey  \n",
       "..                                                 ...  \n",
       "111                                           this one  \n",
       "112                                            Players  \n",
       "113                                      the companies  \n",
       "114  the spread of disease and the inability of new...  \n",
       "115                              Judge Granade's order  \n",
       "\n",
       "[116 rows x 4 columns]"
      ]
     },
     "execution_count": 42,
     "metadata": {},
     "output_type": "execute_result"
    }
   ],
   "source": [
    "df_results"
   ]
  },
  {
   "cell_type": "code",
   "execution_count": 45,
   "id": "093891bb-4a6c-442b-a5a9-87f7804fe21f",
   "metadata": {},
   "outputs": [
    {
     "name": "stdout",
     "output_type": "stream",
     "text": [
      "It worries about the spread of disease. It also worries that newly released orcas will not be able to find food on their own. There are certainly good reasons to be worried. Other attempts to release captive orcas were unsuccessful. Some freed orcas died.\n",
      "\n",
      "the spread of disease and the inability of newly released orcas to find food\n"
     ]
    }
   ],
   "source": [
    "idx= 114\n",
    "print(df_results.loc[idx,\"label_text\"], end=\"\\n\\n\")\n",
    "print(df_results.loc[idx, \"subject\"])"
   ]
  },
  {
   "cell_type": "code",
   "execution_count": 46,
   "id": "21772fa1-d4be-4a4c-8123-cc1f5c5db9e6",
   "metadata": {},
   "outputs": [],
   "source": [
    "df_results.to_csv(\"../data/elaborations/test_ds_subjects.csv\", index=False)"
   ]
  }
 ],
 "metadata": {
  "kernelspec": {
   "display_name": "Python 3 (ipykernel)",
   "language": "python",
   "name": "python3"
  },
  "language_info": {
   "codemirror_mode": {
    "name": "ipython",
    "version": 3
   },
   "file_extension": ".py",
   "mimetype": "text/x-python",
   "name": "python",
   "nbconvert_exporter": "python",
   "pygments_lexer": "ipython3",
   "version": "3.9.18"
  }
 },
 "nbformat": 4,
 "nbformat_minor": 5
}
