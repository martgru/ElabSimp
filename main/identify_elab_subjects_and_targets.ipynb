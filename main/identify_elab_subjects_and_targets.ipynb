{
 "cells": [
  {
   "cell_type": "markdown",
   "id": "44e524df-3ac9-4061-97d7-aa948fe2c175",
   "metadata": {},
   "source": [
    "# Load model"
   ]
  },
  {
   "cell_type": "code",
   "execution_count": 2,
   "id": "2e4bd939-e834-48fa-96ea-7e03efeb224f",
   "metadata": {},
   "outputs": [],
   "source": [
    "import os\n",
    "#os.environ[\"OPENAI_API_KEY\"] = \"my_key\""
   ]
  },
  {
   "cell_type": "code",
   "execution_count": 3,
   "id": "5a566eaa-9db5-4d5a-a965-e21e3809bbe0",
   "metadata": {},
   "outputs": [],
   "source": [
    "from openai import OpenAI \n",
    "import os\n",
    "\n",
    "MODEL=\"gpt-4o\"\n",
    "client = OpenAI(api_key=os.environ.get(\"OPENAI_API_KEY\"))"
   ]
  },
  {
   "cell_type": "markdown",
   "id": "61b3ab05-8212-41e9-b416-f9e4d26ab8f2",
   "metadata": {},
   "source": [
    "# Load data"
   ]
  },
  {
   "cell_type": "code",
   "execution_count": 80,
   "id": "e4e8561d-2aa7-4aae-8fab-1c597d1e345a",
   "metadata": {},
   "outputs": [
    {
     "name": "stdout",
     "output_type": "stream",
     "text": [
      "DatasetDict({\n",
      "    train: Dataset({\n",
      "        features: ['doc_num', 'source_text', 'label_text', 'elaboration_sentence', 'contextual_specificity_rating'],\n",
      "        num_rows: 1046\n",
      "    })\n",
      "    validation: Dataset({\n",
      "        features: ['doc_num', 'source_text', 'label_text', 'elaboration_sentence', 'contextual_specificity_rating'],\n",
      "        num_rows: 132\n",
      "    })\n",
      "    test: Dataset({\n",
      "        features: ['doc_num', 'source_text', 'label_text', 'elaboration_sentence', 'contextual_specificity_rating'],\n",
      "        num_rows: 116\n",
      "    })\n",
      "})\n"
     ]
    }
   ],
   "source": [
    "from datasets import load_dataset\n",
    "import os\n",
    "\n",
    "data_path = \"../data/elaborations\"\n",
    "\n",
    "data_files_c2s = {\n",
    "    'train': os.path.join(data_path,\"train\",\"train_ds_c2s.csv\"),      \n",
    "    'validation': os.path.join(data_path,\"validation\",\"valid_ds_c2s.csv\"),  \n",
    "    'test': os.path.join(data_path,\"test\",\"test_ds_c2s.csv\")         \n",
    "}\n",
    "\n",
    "data_files_c2sp = {\n",
    "    'train': os.path.join(data_path,\"train\",\"train_ds_c2sp.csv\"),      \n",
    "    'validation': os.path.join(data_path,\"validation\",\"valid_ds_c2sp.csv\"),  \n",
    "    'test': os.path.join(data_path,\"test\",\"test_ds_c2sp.csv\")         \n",
    "}\n",
    "\n",
    "dataset = load_dataset('csv', data_files=data_files_c2s)\n",
    "print(dataset)"
   ]
  },
  {
   "cell_type": "markdown",
   "id": "350d2b8d-1fe5-4722-a8d7-baf28ef6550b",
   "metadata": {},
   "source": [
    "# Prompt and messages"
   ]
  },
  {
   "cell_type": "code",
   "execution_count": 5,
   "id": "a86bad76-df38-4b72-b274-cf90f0f5ecf3",
   "metadata": {},
   "outputs": [],
   "source": [
    "SYSTEM_PROMPT_SUBJECT = \"\"\"You are an expert in identifying the subject of the provided explanation sentence based on the context text. \n",
    "If the subject of the explanation sentence is a **pronoun (e.g., \"it,\" \"they,\" \"he,\" \"she\")**, determine what the pronoun is referring to within the context.\n",
    "The subject should be written as a phrase, not as a complete sentence.\n",
    "If there are multiple possible subjects, select the first one you think is most appropriate.\n",
    "\"\"\"\n",
    "\n",
    "SYSTEM_PROMPT_TARGET = \"\"\"You are an expert in identifying the target of the provided explanation sentence based on the context text. \n",
    "Return the main phrase which explanation sentence is referring to.\n",
    "The phrase must appear in the context text, but does not need to be present in the explanation sentence itself.\n",
    "\"\"\"\n",
    "\n",
    "SYSTEM_PROMPT_TARGET_INFO = \"\"\"\n",
    "You are an expert in identifying the sentence that the provided explanation sentence is clarifying. \n",
    "First, determine what question the explanation sentence is answering, and based on that, identify the sentence within the context text (sentences surrounding the explanation sentence) that the question could be asked about.\n",
    "Return the sentence from the context text that the explanation sentence is clarifying.\n",
    "\"\"\"\n",
    "\n",
    "#Return the sentence from the context text that the explanation sentence is clarifying."
   ]
  },
  {
   "cell_type": "markdown",
   "id": "a89c99c6-931c-4be6-80b0-9cbf203c0709",
   "metadata": {},
   "source": [
    "# Turn examples into ChatML format"
   ]
  },
  {
   "cell_type": "code",
   "execution_count": 7,
   "id": "aa846036-a384-494f-9fc2-0b3b7fa4d8b2",
   "metadata": {},
   "outputs": [],
   "source": [
    "def format_subject_example(example):\n",
    "    return {\n",
    "        \"messages\": [\n",
    "            {\"role\": \"system\", \"content\": SYSTEM_PROMPT_SUBJECT},\n",
    "            {\"role\": \"user\", \"content\":  \"Identify the subject of the following explanation sentence: '{}' within the given text: '{}'\".format(\n",
    "    example[\"elaboration_sentence\"], example[\"label_text\"])},\n",
    "        ]\n",
    "    }\n",
    "\n",
    "def format_target_example(example):\n",
    "    return {\n",
    "        \"messages\": [\n",
    "            {\"role\": \"system\", \"content\": SYSTEM_PROMPT_TARGET},\n",
    "            {\"role\": \"user\", \"content\":  \"Identify the target of the following explanation sentence: '{}' within the given text: '{}'\".format(\n",
    "    example[\"elaboration_sentence\"], example[\"label_text\"])},\n",
    "        ]\n",
    "    }\n",
    "\n",
    "def format_target_sent_example(example):\n",
    "    return {\n",
    "        \"messages\": [\n",
    "            {\"role\": \"system\", \"content\": SYSTEM_PROMPT_TARGET_INFO},\n",
    "            {\"role\": \"user\", \"content\":  \"Identify the target sentence that the following explanation: '{}' is clarifying within the given text: '{}'\".format(\n",
    "    example[\"elaboration_sentence\"], example[\"label_text\"])},\n",
    "        ]\n",
    "    }\n",
    "formatted_train_dataset = dataset[\"train\"].map(format_target_sent_example)\n",
    "formatted_validation_dataset = dataset[\"validation\"].map(format_target_sent_example)\n",
    "formatted_test_dataset = dataset[\"test\"].map(format_target_sent_example)"
   ]
  },
  {
   "cell_type": "markdown",
   "id": "e2bad9b9-49d2-421d-9860-b519688523b0",
   "metadata": {},
   "source": [
    "# Identify subjects of elaborations\n",
    "\n",
    "Analyze the subjects to explore the types of elaboration sentences."
   ]
  },
  {
   "cell_type": "code",
   "execution_count": 8,
   "id": "f4d5d080-6e2a-4927-8dfe-37fc0a0699ed",
   "metadata": {},
   "outputs": [],
   "source": [
    "from pydantic import BaseModel\n",
    "\n",
    "class ExplanationTarget(BaseModel):\n",
    "    #explanation_sentence: str\n",
    "    target_sentence: str"
   ]
  },
  {
   "cell_type": "code",
   "execution_count": 16,
   "id": "1e623f1e-1425-40cb-84c1-698fe6cc3dce",
   "metadata": {},
   "outputs": [],
   "source": [
    "import re\n",
    "\n",
    "def extract_target_sentence(response: str) -> str:\n",
    "    \"\"\"\n",
    "    Extract the target_sentence from the model's response.\n",
    "    \"\"\"\n",
    "    match = re.search(r\"target_sentence='(.*?)'\", response)\n",
    "    if match:\n",
    "        return match.group(1) \n",
    "    else:\n",
    "        raise ValueError(\"target_sentence not found.\")"
   ]
  },
  {
   "cell_type": "code",
   "execution_count": 22,
   "id": "126d98f8-124d-4b5e-84bb-25c49a2aa950",
   "metadata": {},
   "outputs": [
    {
     "name": "stdout",
     "output_type": "stream",
     "text": [
      "Assistant: The explanation sentence 'They come in all shapes and sizes, but usually look like helicopters.' is clarifying the sentence: 'Drones are small flying aircraft.'\n",
      "\n",
      "target_sentence='Drones are small flying aircraft.'\n",
      "Drones are small flying aircraft.\n"
     ]
    }
   ],
   "source": [
    "example_subject = \"Identify the subject of the following explanation sentence: '{}' within the given text: '{}'\".format(\n",
    "    dataset[\"test\"][100][\"elaboration_sentence\"], dataset[\"test\"][100][\"label_text\"])\n",
    "\n",
    "example = \"Identify the target sentence that the following explanation: '{}' is clarifying within the given text: '{}'\".format(\n",
    "    dataset[\"test\"][100][\"elaboration_sentence\"], dataset[\"test\"][100][\"label_text\"])\n",
    "\n",
    "completion = client.chat.completions.create(\n",
    "  model=MODEL,\n",
    "  messages=[\n",
    "    {\"role\": \"system\", \"content\": SYSTEM_PROMPT_TARGET_INFO}, \n",
    "    {\"role\": \"user\", \"content\": example }  \n",
    "  ]\n",
    ")\n",
    "print(\"Assistant: \" + completion.choices[0].message.content, end=\"\\n\\n\") # standard format: completion.choices[0].message.content \n",
    "\n",
    "completion = client.beta.chat.completions.parse(\n",
    "  model=MODEL,\n",
    "  messages=[\n",
    "    {\"role\": \"system\", \"content\": SYSTEM_PROMPT_TARGET_INFO}, \n",
    "    {\"role\": \"user\", \"content\": example }  \n",
    "  ],\n",
    "    response_format= ExplanationTarget,\n",
    ")\n",
    "\n",
    "response = completion.choices[0].message.parsed\n",
    "print(response)\n",
    "print(extract_target_sentence(str(response)))"
   ]
  },
  {
   "cell_type": "code",
   "execution_count": 31,
   "id": "9eae4a7d-a032-4c5b-ad31-e3c50595c7e2",
   "metadata": {},
   "outputs": [],
   "source": [
    "df_results = pd.DataFrame({\n",
    "    \"source_text\" : dataset[\"validation\"][\"source_text\"],\n",
    "    \"label_text\" : dataset[\"validation\"][\"label_text\"],\n",
    "    \"elaboration_sentence\":dataset[\"validation\"][\"elaboration_sentence\"],\n",
    "    \"subject\": \"\",\n",
    "    \"target\":\"\",\n",
    "    \"elaboration_info\":\"\",\n",
    "    \"target_sentence\":\"\"\n",
    "    \n",
    "})"
   ]
  },
  {
   "cell_type": "markdown",
   "id": "09b24523-6564-4625-823b-f3c464092a12",
   "metadata": {
    "jp-MarkdownHeadingCollapsed": true
   },
   "source": [
    "## Get subjects, targets and elaboration info"
   ]
  },
  {
   "cell_type": "code",
   "execution_count": 43,
   "id": "63c2bed5-4b55-4cf4-9713-66604712284d",
   "metadata": {},
   "outputs": [
    {
     "data": {
      "application/vnd.jupyter.widget-view+json": {
       "model_id": "66f6059508cd49cab28b4ecd065fe5fa",
       "version_major": 2,
       "version_minor": 0
      },
      "text/plain": [
       "  0%|          | 0/134 [00:00<?, ?it/s]"
      ]
     },
     "metadata": {},
     "output_type": "display_data"
    }
   ],
   "source": [
    "import pandas as pd\n",
    "from tqdm.notebook import tqdm\n",
    "\n",
    "df_results = pd.read_csv(\"../data/elaborations/validation_ds_sp_subjects_targets.csv\")\n",
    "\n",
    "\n",
    "formatted_dataset = formatted_validation_dataset\n",
    "column_name = \"elaboration_info\"\n",
    "df_results[column_name] = df_results[column_name].fillna(\"\")\n",
    "\n",
    "for idx, example in tqdm(enumerate(formatted_dataset),total=len(formatted_dataset)):\n",
    "    if df_results.at[idx,column_name]==\"\":\n",
    "        completion = client.chat.completions.create(model=MODEL,messages=example[\"messages\"])\n",
    "        df_results.at[idx,column_name] = completion.choices[0].message.content"
   ]
  },
  {
   "cell_type": "markdown",
   "id": "d90dda3e-6d0e-44fb-8417-5c91169054c8",
   "metadata": {},
   "source": [
    "## Get target sentences for elaborations"
   ]
  },
  {
   "cell_type": "code",
   "execution_count": 14,
   "id": "60b871e9-fff5-4f46-8eba-89c8a217d852",
   "metadata": {},
   "outputs": [
    {
     "data": {
      "application/vnd.jupyter.widget-view+json": {
       "model_id": "3c1ba17177bc4da6bf6621f0c082bab1",
       "version_major": 2,
       "version_minor": 0
      },
      "text/plain": [
       "  0%|          | 0/1049 [00:00<?, ?it/s]"
      ]
     },
     "metadata": {},
     "output_type": "display_data"
    }
   ],
   "source": [
    "import pandas as pd\n",
    "from tqdm.notebook import tqdm\n",
    "\n",
    "df_results = pd.read_csv(\"../data/elaborations/train_ds_sp_subjects_targets.csv\")\n",
    "df_results[\"target_sentence_4o\"] = \"\"\n",
    "column_name = \"target_sentence_4o\"\n",
    "#df_results[column_name] = df_results[column_name].fillna(\"\")\n",
    "formatted_dataset = formatted_train_dataset\n",
    "\n",
    "for idx, example in tqdm(enumerate(formatted_dataset),total=len(formatted_dataset)):\n",
    "    if df_results.at[idx,column_name] == \"\":\n",
    "        completion = client.beta.chat.completions.parse(model=MODEL,messages=example[\"messages\"],response_format= ExplanationTarget)\n",
    "        df_results.at[idx,column_name] = completion.choices[0].message.parsed"
   ]
  },
  {
   "cell_type": "markdown",
   "id": "46f44604-243b-46a2-aad1-2ce5b3c91363",
   "metadata": {},
   "source": [
    "# Save results"
   ]
  },
  {
   "cell_type": "code",
   "execution_count": 15,
   "id": "562d69e5-b2cc-4e56-bbc4-e227f8c98560",
   "metadata": {},
   "outputs": [
    {
     "data": {
      "text/plain": [
       "0"
      ]
     },
     "execution_count": 15,
     "metadata": {},
     "output_type": "execute_result"
    }
   ],
   "source": [
    "len(df_results[df_results[column_name]==\"\"])"
   ]
  },
  {
   "cell_type": "code",
   "execution_count": 20,
   "id": "093891bb-4a6c-442b-a5a9-87f7804fe21f",
   "metadata": {},
   "outputs": [
    {
     "name": "stdout",
     "output_type": "stream",
     "text": [
      "HACKENSACK, N.J. \" The hottest present this holiday season is a gadget both kids and adults can enjoy: a drone. Drones are small flying aircraft. They come in all shapes and sizes, but usually look like helicopters. They often have cameras attached. One popular drone this year is the Phantom 2 Vision.\n",
      "\n",
      "drones\n"
     ]
    }
   ],
   "source": [
    "idx= 100\n",
    "print(df_results.loc[idx,\"label_text\"], end=\"\\n\\n\")\n",
    "print(df_results.loc[idx, \"target\"])"
   ]
  },
  {
   "cell_type": "code",
   "execution_count": null,
   "id": "62963548-545e-48d1-9f79-af04ddbf818a",
   "metadata": {
    "scrolled": true
   },
   "outputs": [],
   "source": [
    "df_results"
   ]
  },
  {
   "cell_type": "code",
   "execution_count": 17,
   "id": "21772fa1-d4be-4a4c-8123-cc1f5c5db9e6",
   "metadata": {},
   "outputs": [],
   "source": [
    "df_results.to_csv(\"../data/elaborations/train_ds_sp_subjects_targets.csv\", index=False)"
   ]
  },
  {
   "cell_type": "markdown",
   "id": "608ce0d9-c87b-4a06-aa32-4bce43955b35",
   "metadata": {},
   "source": [
    "## Create additional df for prior-context only datasets"
   ]
  },
  {
   "cell_type": "code",
   "execution_count": 74,
   "id": "f0300077-9139-4d8e-8d98-5887b58b6a9e",
   "metadata": {},
   "outputs": [],
   "source": [
    "import pandas as pd\n",
    "from tqdm.notebook import tqdm\n",
    "\n",
    "split = \"test\"\n",
    "df_sp = pd.read_csv(f\"../data/elaborations/{split}_ds_sp_subjects_targets.csv\")\n",
    "df_sp = df_sp.drop_duplicates(subset=\"elaboration_sentence\", keep=\"first\")\n",
    "df = pd.DataFrame({\n",
    "    \"source_text\" : dataset[split][\"source_text\"],\n",
    "    \"label_text\" : dataset[split][\"label_text\"],\n",
    "    \"elaboration_sentence\":dataset[split][\"elaboration_sentence\"],\n",
    "    \n",
    "}) "
   ]
  },
  {
   "cell_type": "code",
   "execution_count": 75,
   "id": "52cf6456-4d10-43e1-86b3-567c82faa8d2",
   "metadata": {},
   "outputs": [
    {
     "name": "stdout",
     "output_type": "stream",
     "text": [
      "116\n",
      "116\n"
     ]
    }
   ],
   "source": [
    "print(len(df_sp))\n",
    "print(len(df))"
   ]
  },
  {
   "cell_type": "code",
   "execution_count": null,
   "id": "36fa3fba-2918-4226-bf04-c272f8f16c3b",
   "metadata": {
    "scrolled": true
   },
   "outputs": [],
   "source": [
    "# merge the additional columns from df_sp based on elaboration_sentence\n",
    "columns_to_add = [\"subject\", \"target\", \"elaboration_info\", \"target_sentence_4o\"]\n",
    "df = pd.merge(df, df_sp[[\"elaboration_sentence\"] + columns_to_add], on=\"elaboration_sentence\", how=\"left\")\n",
    "df"
   ]
  },
  {
   "cell_type": "code",
   "execution_count": 78,
   "id": "23f91f0e-df17-40bf-b182-a0b0db9799a5",
   "metadata": {},
   "outputs": [],
   "source": [
    "df.to_csv(f\"../data/elaborations/{split}_ds_s_subjects_targets.csv\")"
   ]
  }
 ],
 "metadata": {
  "kernelspec": {
   "display_name": "Python 3 (ipykernel)",
   "language": "python",
   "name": "python3"
  },
  "language_info": {
   "codemirror_mode": {
    "name": "ipython",
    "version": 3
   },
   "file_extension": ".py",
   "mimetype": "text/x-python",
   "name": "python",
   "nbconvert_exporter": "python",
   "pygments_lexer": "ipython3",
   "version": "3.9.18"
  }
 },
 "nbformat": 4,
 "nbformat_minor": 5
}
