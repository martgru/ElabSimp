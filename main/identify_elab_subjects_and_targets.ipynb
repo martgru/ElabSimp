{
 "cells": [
  {
   "cell_type": "markdown",
   "id": "44e524df-3ac9-4061-97d7-aa948fe2c175",
   "metadata": {},
   "source": [
    "# Load model"
   ]
  },
  {
   "cell_type": "code",
   "execution_count": 3,
   "id": "2e4bd939-e834-48fa-96ea-7e03efeb224f",
   "metadata": {},
   "outputs": [],
   "source": [
    "import os\n",
    "#os.environ[\"OPENAI_API_KEY\"] = \"my_key\""
   ]
  },
  {
   "cell_type": "code",
   "execution_count": 2,
   "id": "5a566eaa-9db5-4d5a-a965-e21e3809bbe0",
   "metadata": {},
   "outputs": [],
   "source": [
    "from openai import OpenAI \n",
    "import os\n",
    "\n",
    "MODEL=\"gpt-4o\"\n",
    "client = OpenAI(api_key=os.environ.get(\"OPENAI_API_KEY\"))"
   ]
  },
  {
   "cell_type": "markdown",
   "id": "61b3ab05-8212-41e9-b416-f9e4d26ab8f2",
   "metadata": {},
   "source": [
    "# Load data"
   ]
  },
  {
   "cell_type": "code",
   "execution_count": 46,
   "id": "e4e8561d-2aa7-4aae-8fab-1c597d1e345a",
   "metadata": {},
   "outputs": [
    {
     "name": "stdout",
     "output_type": "stream",
     "text": [
      "DatasetDict({\n",
      "    train: Dataset({\n",
      "        features: ['doc_num', 'source_text', 'label_text', 'elaboration_sentence', 'contextual_specificity_rating'],\n",
      "        num_rows: 1049\n",
      "    })\n",
      "    validation: Dataset({\n",
      "        features: ['doc_num', 'source_text', 'label_text', 'elaboration_sentence', 'contextual_specificity_rating'],\n",
      "        num_rows: 134\n",
      "    })\n",
      "    test: Dataset({\n",
      "        features: ['doc_num', 'source_text', 'label_text', 'elaboration_sentence', 'contextual_specificity_rating'],\n",
      "        num_rows: 116\n",
      "    })\n",
      "})\n"
     ]
    }
   ],
   "source": [
    "from datasets import load_dataset\n",
    "import os\n",
    "\n",
    "data_path = \"../data/elaborations\"\n",
    "\n",
    "data_files_c2s = {\n",
    "    'train': os.path.join(data_path,\"train\",\"train_ds_c2s.csv\"),      \n",
    "    'validation': os.path.join(data_path,\"validation\",\"valid_ds_c2s.csv\"),  \n",
    "    'test': os.path.join(data_path,\"test\",\"test_ds_c2s.csv\")         \n",
    "}\n",
    "\n",
    "data_files_c2sp = {\n",
    "    'train': os.path.join(data_path,\"train\",\"train_ds_c2sp.csv\"),      \n",
    "    'validation': os.path.join(data_path,\"validation\",\"valid_ds_c2sp.csv\"),  \n",
    "    'test': os.path.join(data_path,\"test\",\"test_ds_c2sp.csv\")         \n",
    "}\n",
    "\n",
    "dataset = load_dataset('csv', data_files=data_files_c2sp)\n",
    "print(dataset)"
   ]
  },
  {
   "cell_type": "markdown",
   "id": "4fc96ed3-bd19-4c47-bd82-4b5d3be999c0",
   "metadata": {},
   "source": [
    "### Add columns"
   ]
  },
  {
   "cell_type": "code",
   "execution_count": 47,
   "id": "a982cc25-c7f8-4f61-a87d-8fd7ea29dc72",
   "metadata": {},
   "outputs": [],
   "source": [
    "import pandas as pd\n",
    "import os\n",
    "\n",
    "df_train_s = pd.read_csv(os.path.join(data_path, \"train_ds_s_subjects_targets.csv\"))\n",
    "df_train_sp = pd.read_csv(os.path.join(data_path, \"train_ds_sp_subjects_targets.csv\"))\n",
    "\n",
    "df_valid_s = pd.read_csv(os.path.join(data_path, \"validation_ds_s_subjects_targets.csv\"))\n",
    "df_valid_sp = pd.read_csv(os.path.join(data_path, \"validation_ds_sp_subjects_targets.csv\"))\n",
    "\n",
    "df_test_s = pd.read_csv(os.path.join(data_path, \"test_ds_s_subjects_targets.csv\"))\n",
    "df_test_sp = pd.read_csv(os.path.join(data_path, \"test_ds_sp_subjects_targets.csv\"))\n",
    "\n",
    "df_train = df_train_sp\n",
    "df_valid = df_valid_sp\n",
    "df_test = df_test_sp\n",
    "\n",
    "col_name = \"target_sentence_4o\"\n",
    "\n",
    "dataset[\"train\"] = dataset[\"train\"].add_column(col_name, df_train[col_name])\n",
    "dataset[\"validation\"] = dataset[\"validation\"].add_column(col_name, df_valid[col_name])\n",
    "dataset[\"test\"] = dataset[\"test\"].add_column(col_name, df_test[col_name])"
   ]
  },
  {
   "cell_type": "markdown",
   "id": "350d2b8d-1fe5-4722-a8d7-baf28ef6550b",
   "metadata": {},
   "source": [
    "# Prompt and messages"
   ]
  },
  {
   "cell_type": "code",
   "execution_count": 48,
   "id": "a86bad76-df38-4b72-b274-cf90f0f5ecf3",
   "metadata": {},
   "outputs": [],
   "source": [
    "SYSTEM_PROMPT_SUBJECT = \"\"\"You are an expert in identifying the subject of the provided explanation sentence based on the context text. \n",
    "If the subject of the explanation sentence is a **pronoun (e.g., \"it,\" \"they,\" \"he,\" \"she\")**, determine what the pronoun is referring to within the context.\n",
    "The subject should be written as a phrase, not as a complete sentence.\n",
    "If there are multiple possible subjects, select the first one you think is most appropriate.\n",
    "\"\"\"\n",
    "\n",
    "SYSTEM_PROMPT_TARGET = \"\"\"You are an expert in identifying the target of the provided explanation sentence based on the context text. \n",
    "Return the main phrase which explanation sentence is referring to.\n",
    "The phrase must appear in the context text, but does not need to be present in the explanation sentence itself.\n",
    "\"\"\"\n",
    "\n",
    "SYSTEM_PROMPT_TARGET_INFO = \"\"\"\n",
    "You are an expert in identifying the sentence that the provided explanation sentence is clarifying. \n",
    "First, determine what question the explanation sentence is answering, and based on that, identify the sentence within the context text (sentences surrounding the explanation sentence) that the question could be asked about.\n",
    "Return the sentence from the context text that the explanation sentence is clarifying.\n",
    "\"\"\"\n",
    "\n",
    "SYSTEM_PROMPT_TARGET_SENT_TARGET = \"\"\"\n",
    "You are an expert in identifying the target phrase in a given sentence that is being clarified by the accompanying explanation sentence.\n",
    "\"\"\"\n",
    "\n",
    "#Return the sentence from the context text that the explanation sentence is clarifying."
   ]
  },
  {
   "cell_type": "markdown",
   "id": "a89c99c6-931c-4be6-80b0-9cbf203c0709",
   "metadata": {},
   "source": [
    "# Turn examples into ChatML format"
   ]
  },
  {
   "cell_type": "code",
   "execution_count": 49,
   "id": "aa846036-a384-494f-9fc2-0b3b7fa4d8b2",
   "metadata": {},
   "outputs": [],
   "source": [
    "def format_subject_example(example):\n",
    "    return {\n",
    "        \"messages\": [\n",
    "            {\"role\": \"system\", \"content\": SYSTEM_PROMPT_SUBJECT},\n",
    "            {\"role\": \"user\", \"content\":  \"Identify the subject of the following explanation sentence: '{}' within the given text: '{}'\".format(\n",
    "    example[\"elaboration_sentence\"], example[\"label_text\"])},\n",
    "        ]\n",
    "    }\n",
    "\n",
    "def format_target_example(example):\n",
    "    return {\n",
    "        \"messages\": [\n",
    "            {\"role\": \"system\", \"content\": SYSTEM_PROMPT_TARGET},\n",
    "            {\"role\": \"user\", \"content\":  \"Identify the target of the following explanation sentence: '{}' within the given text: '{}'\".format(\n",
    "    example[\"elaboration_sentence\"], example[\"label_text\"])},\n",
    "        ]\n",
    "    }\n",
    "\n",
    "def format_target_sent_example(example):\n",
    "    return {\n",
    "        \"messages\": [\n",
    "            {\"role\": \"system\", \"content\": SYSTEM_PROMPT_TARGET_INFO},\n",
    "            {\"role\": \"user\", \"content\":  \"Identify the target sentence that the following explanation: '{}' is clarifying within the given text: '{}'\".format(\n",
    "    example[\"elaboration_sentence\"], example[\"label_text\"])},\n",
    "        ]\n",
    "    }\n",
    "\n",
    "def format_target_sent_target_example(example):\n",
    "    return {\n",
    "        \"messages\": [\n",
    "            {\"role\": \"system\", \"content\": SYSTEM_PROMPT_TARGET_SENT_TARGET},\n",
    "            {\"role\": \"user\", \"content\":  \"Identify the target phrase in the {} that is being clarified by the explanation sentence: '{}'\".format(\n",
    "    example[\"target_sentence_4o\"], example[\"elaboration_sentence\"])},\n",
    "        ]\n",
    "    }\n",
    "    \n",
    "formatted_train_dataset = dataset[\"train\"].map(format_target_sent_target_example)\n",
    "formatted_validation_dataset = dataset[\"validation\"].map(format_target_sent_target_example)\n",
    "formatted_test_dataset = dataset[\"test\"].map(format_target_sent_target_example)"
   ]
  },
  {
   "cell_type": "markdown",
   "id": "e2bad9b9-49d2-421d-9860-b519688523b0",
   "metadata": {},
   "source": [
    "# Identify subjects of elaborations\n",
    "\n",
    "Analyze the subjects to explore the types of elaboration sentences."
   ]
  },
  {
   "cell_type": "code",
   "execution_count": 50,
   "id": "f4d5d080-6e2a-4927-8dfe-37fc0a0699ed",
   "metadata": {},
   "outputs": [],
   "source": [
    "from pydantic import BaseModel\n",
    "\n",
    "class ExplanationTarget(BaseModel):\n",
    "    #explanation_sentence: str\n",
    "    #target_sentence: str\n",
    "    target_phrase: str"
   ]
  },
  {
   "cell_type": "code",
   "execution_count": 16,
   "id": "1e623f1e-1425-40cb-84c1-698fe6cc3dce",
   "metadata": {},
   "outputs": [],
   "source": [
    "import re\n",
    "\n",
    "def extract_target_sentence(response: str) -> str:\n",
    "    \"\"\"\n",
    "    Extract the target_sentence from the model's response.\n",
    "    \"\"\"\n",
    "    match = re.search(r\"target_sentence='(.*?)'\", response)\n",
    "    if match:\n",
    "        return match.group(1) \n",
    "    else:\n",
    "        raise ValueError(\"target_sentence not found.\")"
   ]
  },
  {
   "cell_type": "code",
   "execution_count": 15,
   "id": "126d98f8-124d-4b5e-84bb-25c49a2aa950",
   "metadata": {},
   "outputs": [
    {
     "name": "stdout",
     "output_type": "stream",
     "text": [
      "Assistant: The target phrase in the target sentence that is being clarified by the explanation sentence is \"Drones.\"\n",
      "\n",
      "target_phrase='Drones'\n"
     ]
    }
   ],
   "source": [
    "example_subject = \"Identify the subject of the following explanation sentence: '{}' within the given text: '{}'\".format(\n",
    "    dataset[\"test\"][100][\"elaboration_sentence\"], dataset[\"test\"][100][\"label_text\"])\n",
    "\n",
    "example = \"Identify the target phrase in the following sentence: '{}' that is being clarified by the explanation sentence: '{}'\".format(\n",
    "    dataset[\"test\"][100][\"target_sentence_4o\"], dataset[\"test\"][100][\"elaboration_sentence\"])\n",
    "\n",
    "completion = client.chat.completions.create(\n",
    "  model=MODEL,\n",
    "  messages=[\n",
    "    {\"role\": \"system\", \"content\": SYSTEM_PROMPT_TARGET_SENT_TARGET}, \n",
    "    {\"role\": \"user\", \"content\": example }  \n",
    "  ]\n",
    ")\n",
    "print(\"Assistant: \" + completion.choices[0].message.content, end=\"\\n\\n\") # standard format: completion.choices[0].message.content \n",
    "\n",
    "completion = client.beta.chat.completions.parse(\n",
    "  model=MODEL,\n",
    "  messages=[\n",
    "    {\"role\": \"system\", \"content\": SYSTEM_PROMPT_TARGET_SENT_TARGET}, \n",
    "    {\"role\": \"user\", \"content\": example }  \n",
    "  ],\n",
    "    response_format= ExplanationTarget,\n",
    ")\n",
    "\n",
    "response = completion.choices[0].message.parsed\n",
    "print(response)"
   ]
  },
  {
   "cell_type": "code",
   "execution_count": 31,
   "id": "9eae4a7d-a032-4c5b-ad31-e3c50595c7e2",
   "metadata": {},
   "outputs": [],
   "source": [
    "df_results = pd.DataFrame({\n",
    "    \"source_text\" : dataset[\"validation\"][\"source_text\"],\n",
    "    \"label_text\" : dataset[\"validation\"][\"label_text\"],\n",
    "    \"elaboration_sentence\":dataset[\"validation\"][\"elaboration_sentence\"],\n",
    "    \"subject\": \"\",\n",
    "    \"target\":\"\",\n",
    "    \"elaboration_info\":\"\",\n",
    "    \"target_sentence\":\"\"\n",
    "    \n",
    "})"
   ]
  },
  {
   "cell_type": "markdown",
   "id": "09b24523-6564-4625-823b-f3c464092a12",
   "metadata": {
    "jp-MarkdownHeadingCollapsed": true
   },
   "source": [
    "## Get subjects, targets and elaboration info"
   ]
  },
  {
   "cell_type": "code",
   "execution_count": 43,
   "id": "63c2bed5-4b55-4cf4-9713-66604712284d",
   "metadata": {},
   "outputs": [
    {
     "data": {
      "application/vnd.jupyter.widget-view+json": {
       "model_id": "66f6059508cd49cab28b4ecd065fe5fa",
       "version_major": 2,
       "version_minor": 0
      },
      "text/plain": [
       "  0%|          | 0/134 [00:00<?, ?it/s]"
      ]
     },
     "metadata": {},
     "output_type": "display_data"
    }
   ],
   "source": [
    "import pandas as pd\n",
    "from tqdm.notebook import tqdm\n",
    "\n",
    "df_results = pd.read_csv(\"../data/elaborations/validation_ds_sp_subjects_targets.csv\")\n",
    "\n",
    "\n",
    "formatted_dataset = formatted_validation_dataset\n",
    "column_name = \"elaboration_info\"\n",
    "df_results[column_name] = df_results[column_name].fillna(\"\")\n",
    "\n",
    "for idx, example in tqdm(enumerate(formatted_dataset),total=len(formatted_dataset)):\n",
    "    if df_results.at[idx,column_name]==\"\":\n",
    "        completion = client.chat.completions.create(model=MODEL,messages=example[\"messages\"])\n",
    "        df_results.at[idx,column_name] = completion.choices[0].message.content"
   ]
  },
  {
   "cell_type": "markdown",
   "id": "d90dda3e-6d0e-44fb-8417-5c91169054c8",
   "metadata": {},
   "source": [
    "## Get target sentences for elaborations"
   ]
  },
  {
   "cell_type": "code",
   "execution_count": 51,
   "id": "60b871e9-fff5-4f46-8eba-89c8a217d852",
   "metadata": {},
   "outputs": [
    {
     "data": {
      "application/vnd.jupyter.widget-view+json": {
       "model_id": "e60b6d140df240ed832534cc55c05494",
       "version_major": 2,
       "version_minor": 0
      },
      "text/plain": [
       "  0%|          | 0/116 [00:00<?, ?it/s]"
      ]
     },
     "metadata": {},
     "output_type": "display_data"
    }
   ],
   "source": [
    "import pandas as pd\n",
    "from tqdm.notebook import tqdm\n",
    "\n",
    "df_results = pd.read_csv(\"../data/elaborations/test_ds_sp_subjects_targets.csv\")\n",
    "df_results[\"target_sentence_target\"] = \"\"\n",
    "column_name = \"target_sentence_target\"\n",
    "#df_results[column_name] = df_results[column_name].fillna(\"\")\n",
    "formatted_dataset = formatted_test_dataset\n",
    "\n",
    "for idx, example in tqdm(enumerate(formatted_dataset),total=len(formatted_dataset)):\n",
    "    if df_results.at[idx,column_name] == \"\":\n",
    "        completion = client.beta.chat.completions.parse(model=MODEL,messages=example[\"messages\"],response_format= ExplanationTarget)\n",
    "        df_results.at[idx,column_name] = completion.choices[0].message.parsed"
   ]
  },
  {
   "cell_type": "markdown",
   "id": "46f44604-243b-46a2-aad1-2ce5b3c91363",
   "metadata": {},
   "source": [
    "# Save results"
   ]
  },
  {
   "cell_type": "code",
   "execution_count": 52,
   "id": "562d69e5-b2cc-4e56-bbc4-e227f8c98560",
   "metadata": {},
   "outputs": [
    {
     "data": {
      "text/plain": [
       "0"
      ]
     },
     "execution_count": 52,
     "metadata": {},
     "output_type": "execute_result"
    }
   ],
   "source": [
    "len(df_results[df_results[column_name]==\"\"])"
   ]
  },
  {
   "cell_type": "code",
   "execution_count": 53,
   "id": "093891bb-4a6c-442b-a5a9-87f7804fe21f",
   "metadata": {},
   "outputs": [
    {
     "name": "stdout",
     "output_type": "stream",
     "text": [
      "They come in all shapes and sizes, but usually look like helicopters.\n",
      "\n",
      "target_phrase='Drones'\n"
     ]
    }
   ],
   "source": [
    "idx= 100\n",
    "print(df_results.loc[idx,\"elaboration_sentence\"], end=\"\\n\\n\")\n",
    "print(df_results.loc[idx, column_name])"
   ]
  },
  {
   "cell_type": "code",
   "execution_count": 54,
   "id": "62963548-545e-48d1-9f79-af04ddbf818a",
   "metadata": {
    "scrolled": true
   },
   "outputs": [
    {
     "data": {
      "text/html": [
       "<div>\n",
       "<style scoped>\n",
       "    .dataframe tbody tr th:only-of-type {\n",
       "        vertical-align: middle;\n",
       "    }\n",
       "\n",
       "    .dataframe tbody tr th {\n",
       "        vertical-align: top;\n",
       "    }\n",
       "\n",
       "    .dataframe thead th {\n",
       "        text-align: right;\n",
       "    }\n",
       "</style>\n",
       "<table border=\"1\" class=\"dataframe\">\n",
       "  <thead>\n",
       "    <tr style=\"text-align: right;\">\n",
       "      <th></th>\n",
       "      <th>source_text</th>\n",
       "      <th>label_text</th>\n",
       "      <th>elaboration_sentence</th>\n",
       "      <th>subject</th>\n",
       "      <th>target</th>\n",
       "      <th>elaboration_info</th>\n",
       "      <th>target_sentence_4o</th>\n",
       "      <th>target_sentence_target</th>\n",
       "    </tr>\n",
       "  </thead>\n",
       "  <tbody>\n",
       "    <tr>\n",
       "      <th>0</th>\n",
       "      <td>New companies have come that need skilled work...</td>\n",
       "      <td>New companies have come that need skilled work...</td>\n",
       "      <td>Many do not have the money to get the training...</td>\n",
       "      <td>Many (youth)</td>\n",
       "      <td>the training they need</td>\n",
       "      <td>The explanation sentence clarifies the reason ...</td>\n",
       "      <td>target_sentence='New Haven youth want those jo...</td>\n",
       "      <td>target_phrase='do not have the education or th...</td>\n",
       "    </tr>\n",
       "    <tr>\n",
       "      <th>1</th>\n",
       "      <td>But the death toll could have been higher. For...</td>\n",
       "      <td>But the death toll could have been higher. For...</td>\n",
       "      <td>A gauge is a kind of measuring stick.</td>\n",
       "      <td>A gauge</td>\n",
       "      <td>gauge</td>\n",
       "      <td>The explanation sentence 'A gauge is a kind of...</td>\n",
       "      <td>target_sentence='Forecasters said more people ...</td>\n",
       "      <td>target_phrase='river gauges'</td>\n",
       "    </tr>\n",
       "    <tr>\n",
       "      <th>2</th>\n",
       "      <td>Forecasters said more people could have died i...</td>\n",
       "      <td>Forecasters said more people could have died i...</td>\n",
       "      <td>It sits in the water.</td>\n",
       "      <td>a gauge</td>\n",
       "      <td>gauge</td>\n",
       "      <td>The explanation sentence \"It sits in the water...</td>\n",
       "      <td>target_sentence='A gauge is a kind of measurin...</td>\n",
       "      <td>target_phrase='gauge'</td>\n",
       "    </tr>\n",
       "    <tr>\n",
       "      <th>3</th>\n",
       "      <td>Helicopters were banned from flying over the s...</td>\n",
       "      <td>Helicopters were banned from flying over the s...</td>\n",
       "      <td>They raced against the setting sun to search t...</td>\n",
       "      <td>Rescuers</td>\n",
       "      <td>the area</td>\n",
       "      <td>The explanation sentence 'They raced against t...</td>\n",
       "      <td>target_sentence='Rescuers feared engine noise ...</td>\n",
       "      <td>target_phrase='Rescuers feared engine noise wo...</td>\n",
       "    </tr>\n",
       "    <tr>\n",
       "      <th>4</th>\n",
       "      <td>Istanbul is an important city for trade. Turke...</td>\n",
       "      <td>Istanbul is an important city for trade. Turke...</td>\n",
       "      <td>Turkey is larger than the state of Texas.</td>\n",
       "      <td>Turkey</td>\n",
       "      <td>Turkey</td>\n",
       "      <td>The explanation sentence 'Turkey is larger tha...</td>\n",
       "      <td>target_sentence=\"Turkey is also one of the Uni...</td>\n",
       "      <td>target_phrase='Turkey'</td>\n",
       "    </tr>\n",
       "    <tr>\n",
       "      <th>...</th>\n",
       "      <td>...</td>\n",
       "      <td>...</td>\n",
       "      <td>...</td>\n",
       "      <td>...</td>\n",
       "      <td>...</td>\n",
       "      <td>...</td>\n",
       "      <td>...</td>\n",
       "      <td>...</td>\n",
       "    </tr>\n",
       "    <tr>\n",
       "      <th>111</th>\n",
       "      <td>Instead of preparing for the Super Bowl, he ha...</td>\n",
       "      <td>Instead of preparing for the Super Bowl, he ha...</td>\n",
       "      <td>Like many mysteries, this one may not be solve...</td>\n",
       "      <td>this one</td>\n",
       "      <td>the deflated footballs</td>\n",
       "      <td>The explanation sentence 'Like many mysteries,...</td>\n",
       "      <td>target_sentence='The NFL is looking into the m...</td>\n",
       "      <td>target_phrase='the matter'</td>\n",
       "    </tr>\n",
       "    <tr>\n",
       "      <th>112</th>\n",
       "      <td>Should kids play tackle football? Football is ...</td>\n",
       "      <td>Should kids play tackle football? Football is ...</td>\n",
       "      <td>Players get bounced around.</td>\n",
       "      <td>Players</td>\n",
       "      <td>Players</td>\n",
       "      <td>The explanation sentence \"Players get bounced ...</td>\n",
       "      <td>target_sentence='Football is a rough game.'</td>\n",
       "      <td>target_phrase='rough game'</td>\n",
       "    </tr>\n",
       "    <tr>\n",
       "      <th>113</th>\n",
       "      <td>He signed two of the biggest acts of last year...</td>\n",
       "      <td>He signed two of the biggest acts of last year...</td>\n",
       "      <td>Then the companies sell and promote the records.</td>\n",
       "      <td>the companies</td>\n",
       "      <td>the records</td>\n",
       "      <td>The explanation sentence 'Then the companies s...</td>\n",
       "      <td>target_sentence='Record companies have to sign...</td>\n",
       "      <td>target_phrase='sign contracts with musicians a...</td>\n",
       "    </tr>\n",
       "    <tr>\n",
       "      <th>114</th>\n",
       "      <td>It worries about the spread of disease. It als...</td>\n",
       "      <td>It worries about the spread of disease. It als...</td>\n",
       "      <td>There are certainly good reasons to be worried.</td>\n",
       "      <td>the spread of disease and the inability of new...</td>\n",
       "      <td>the spread of disease</td>\n",
       "      <td>The explanation sentence \"There are certainly ...</td>\n",
       "      <td>target_sentence='It also worries that newly re...</td>\n",
       "      <td>target_phrase='worries'</td>\n",
       "    </tr>\n",
       "    <tr>\n",
       "      <th>115</th>\n",
       "      <td>The Constitution lists laws that govern the wh...</td>\n",
       "      <td>The Constitution lists laws that govern the wh...</td>\n",
       "      <td>Judge Granade's order was immediately challenged.</td>\n",
       "      <td>Judge Granade's order</td>\n",
       "      <td>Judge Granade's order</td>\n",
       "      <td>The sentence that the explanation sentence 'Ju...</td>\n",
       "      <td>target_sentence='Granade ordered that the stat...</td>\n",
       "      <td>target_phrase='Granade ordered'</td>\n",
       "    </tr>\n",
       "  </tbody>\n",
       "</table>\n",
       "<p>116 rows × 8 columns</p>\n",
       "</div>"
      ],
      "text/plain": [
       "                                           source_text  \\\n",
       "0    New companies have come that need skilled work...   \n",
       "1    But the death toll could have been higher. For...   \n",
       "2    Forecasters said more people could have died i...   \n",
       "3    Helicopters were banned from flying over the s...   \n",
       "4    Istanbul is an important city for trade. Turke...   \n",
       "..                                                 ...   \n",
       "111  Instead of preparing for the Super Bowl, he ha...   \n",
       "112  Should kids play tackle football? Football is ...   \n",
       "113  He signed two of the biggest acts of last year...   \n",
       "114  It worries about the spread of disease. It als...   \n",
       "115  The Constitution lists laws that govern the wh...   \n",
       "\n",
       "                                            label_text  \\\n",
       "0    New companies have come that need skilled work...   \n",
       "1    But the death toll could have been higher. For...   \n",
       "2    Forecasters said more people could have died i...   \n",
       "3    Helicopters were banned from flying over the s...   \n",
       "4    Istanbul is an important city for trade. Turke...   \n",
       "..                                                 ...   \n",
       "111  Instead of preparing for the Super Bowl, he ha...   \n",
       "112  Should kids play tackle football? Football is ...   \n",
       "113  He signed two of the biggest acts of last year...   \n",
       "114  It worries about the spread of disease. It als...   \n",
       "115  The Constitution lists laws that govern the wh...   \n",
       "\n",
       "                                  elaboration_sentence  \\\n",
       "0    Many do not have the money to get the training...   \n",
       "1                A gauge is a kind of measuring stick.   \n",
       "2                                It sits in the water.   \n",
       "3    They raced against the setting sun to search t...   \n",
       "4            Turkey is larger than the state of Texas.   \n",
       "..                                                 ...   \n",
       "111  Like many mysteries, this one may not be solve...   \n",
       "112                        Players get bounced around.   \n",
       "113   Then the companies sell and promote the records.   \n",
       "114    There are certainly good reasons to be worried.   \n",
       "115  Judge Granade's order was immediately challenged.   \n",
       "\n",
       "                                               subject  \\\n",
       "0                                         Many (youth)   \n",
       "1                                              A gauge   \n",
       "2                                              a gauge   \n",
       "3                                             Rescuers   \n",
       "4                                               Turkey   \n",
       "..                                                 ...   \n",
       "111                                           this one   \n",
       "112                                            Players   \n",
       "113                                      the companies   \n",
       "114  the spread of disease and the inability of new...   \n",
       "115                              Judge Granade's order   \n",
       "\n",
       "                     target  \\\n",
       "0    the training they need   \n",
       "1                     gauge   \n",
       "2                     gauge   \n",
       "3                  the area   \n",
       "4                    Turkey   \n",
       "..                      ...   \n",
       "111  the deflated footballs   \n",
       "112                 Players   \n",
       "113             the records   \n",
       "114   the spread of disease   \n",
       "115   Judge Granade's order   \n",
       "\n",
       "                                      elaboration_info  \\\n",
       "0    The explanation sentence clarifies the reason ...   \n",
       "1    The explanation sentence 'A gauge is a kind of...   \n",
       "2    The explanation sentence \"It sits in the water...   \n",
       "3    The explanation sentence 'They raced against t...   \n",
       "4    The explanation sentence 'Turkey is larger tha...   \n",
       "..                                                 ...   \n",
       "111  The explanation sentence 'Like many mysteries,...   \n",
       "112  The explanation sentence \"Players get bounced ...   \n",
       "113  The explanation sentence 'Then the companies s...   \n",
       "114  The explanation sentence \"There are certainly ...   \n",
       "115  The sentence that the explanation sentence 'Ju...   \n",
       "\n",
       "                                    target_sentence_4o  \\\n",
       "0    target_sentence='New Haven youth want those jo...   \n",
       "1    target_sentence='Forecasters said more people ...   \n",
       "2    target_sentence='A gauge is a kind of measurin...   \n",
       "3    target_sentence='Rescuers feared engine noise ...   \n",
       "4    target_sentence=\"Turkey is also one of the Uni...   \n",
       "..                                                 ...   \n",
       "111  target_sentence='The NFL is looking into the m...   \n",
       "112        target_sentence='Football is a rough game.'   \n",
       "113  target_sentence='Record companies have to sign...   \n",
       "114  target_sentence='It also worries that newly re...   \n",
       "115  target_sentence='Granade ordered that the stat...   \n",
       "\n",
       "                                target_sentence_target  \n",
       "0    target_phrase='do not have the education or th...  \n",
       "1                         target_phrase='river gauges'  \n",
       "2                                target_phrase='gauge'  \n",
       "3    target_phrase='Rescuers feared engine noise wo...  \n",
       "4                               target_phrase='Turkey'  \n",
       "..                                                 ...  \n",
       "111                         target_phrase='the matter'  \n",
       "112                         target_phrase='rough game'  \n",
       "113  target_phrase='sign contracts with musicians a...  \n",
       "114                            target_phrase='worries'  \n",
       "115                    target_phrase='Granade ordered'  \n",
       "\n",
       "[116 rows x 8 columns]"
      ]
     },
     "execution_count": 54,
     "metadata": {},
     "output_type": "execute_result"
    }
   ],
   "source": [
    "df_results"
   ]
  },
  {
   "cell_type": "code",
   "execution_count": 55,
   "id": "21772fa1-d4be-4a4c-8123-cc1f5c5db9e6",
   "metadata": {},
   "outputs": [],
   "source": [
    "df_results.to_csv(\"../data/elaborations/test_ds_sp_subjects_targets.csv\", index=False)"
   ]
  },
  {
   "cell_type": "markdown",
   "id": "608ce0d9-c87b-4a06-aa32-4bce43955b35",
   "metadata": {},
   "source": [
    "## Create additional df for prior-context only datasets"
   ]
  },
  {
   "cell_type": "code",
   "execution_count": 56,
   "id": "f0300077-9139-4d8e-8d98-5887b58b6a9e",
   "metadata": {},
   "outputs": [
    {
     "data": {
      "text/plain": [
       "'df = pd.DataFrame({\\n    \"source_text\" : dataset[split][\"source_text\"],\\n    \"label_text\" : dataset[split][\"label_text\"],\\n    \"elaboration_sentence\":dataset[split][\"elaboration_sentence\"],\\n    \\n}) '"
      ]
     },
     "execution_count": 56,
     "metadata": {},
     "output_type": "execute_result"
    }
   ],
   "source": [
    "import pandas as pd\n",
    "from tqdm.notebook import tqdm\n",
    "\n",
    "split = \"test\"\n",
    "dataset = load_dataset('csv', data_files=data_files_c2s)\n",
    "df_sp = pd.read_csv(f\"../data/elaborations/{split}_ds_sp_subjects_targets.csv\")\n",
    "df_sp = df_sp.drop_duplicates(subset=\"elaboration_sentence\", keep=\"first\")\n",
    "df = pd.read_csv(f\"../data/elaborations/{split}_ds_s_subjects_targets.csv\")\n",
    "\"\"\"df = pd.DataFrame({\n",
    "    \"source_text\" : dataset[split][\"source_text\"],\n",
    "    \"label_text\" : dataset[split][\"label_text\"],\n",
    "    \"elaboration_sentence\":dataset[split][\"elaboration_sentence\"],\n",
    "    \n",
    "}) \"\"\""
   ]
  },
  {
   "cell_type": "code",
   "execution_count": 57,
   "id": "52cf6456-4d10-43e1-86b3-567c82faa8d2",
   "metadata": {},
   "outputs": [
    {
     "name": "stdout",
     "output_type": "stream",
     "text": [
      "116\n",
      "116\n"
     ]
    }
   ],
   "source": [
    "print(len(df_sp))\n",
    "print(len(df))"
   ]
  },
  {
   "cell_type": "code",
   "execution_count": null,
   "id": "36fa3fba-2918-4226-bf04-c272f8f16c3b",
   "metadata": {
    "scrolled": true
   },
   "outputs": [],
   "source": [
    "# merge the additional columns from df_sp based on elaboration_sentence\n",
    "columns_to_add = [\"target_sentence_target\"]\n",
    "#columns_to_add = [\"subject\", \"target\", \"elaboration_info\", \"target_sentence_4o\"]\n",
    "df = pd.merge(df, df_sp[[\"elaboration_sentence\"] + columns_to_add], on=\"elaboration_sentence\", how=\"left\")\n",
    "df"
   ]
  },
  {
   "cell_type": "code",
   "execution_count": 60,
   "id": "23f91f0e-df17-40bf-b182-a0b0db9799a5",
   "metadata": {},
   "outputs": [],
   "source": [
    "df.to_csv(f\"../data/elaborations/{split}_ds_s_subjects_targets.csv\")"
   ]
  },
  {
   "cell_type": "code",
   "execution_count": 59,
   "id": "d278e882-52e1-43cd-afa1-eefcd1530557",
   "metadata": {},
   "outputs": [
    {
     "name": "stdout",
     "output_type": "stream",
     "text": [
      "target_sentence='Drones are small flying aircraft.'\n",
      "\n",
      "target_phrase='Drones'\n"
     ]
    }
   ],
   "source": [
    "idx= 100\n",
    "print(df.loc[idx,\"target_sentence_4o\"], end=\"\\n\\n\")\n",
    "print(df.loc[idx, column_name])"
   ]
  }
 ],
 "metadata": {
  "kernelspec": {
   "display_name": "Python 3 (ipykernel)",
   "language": "python",
   "name": "python3"
  },
  "language_info": {
   "codemirror_mode": {
    "name": "ipython",
    "version": 3
   },
   "file_extension": ".py",
   "mimetype": "text/x-python",
   "name": "python",
   "nbconvert_exporter": "python",
   "pygments_lexer": "ipython3",
   "version": "3.9.18"
  }
 },
 "nbformat": 4,
 "nbformat_minor": 5
}
