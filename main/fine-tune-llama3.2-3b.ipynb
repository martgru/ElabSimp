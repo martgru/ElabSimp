{
 "cells": [
  {
   "cell_type": "markdown",
   "id": "44d64ebf-f0ca-4096-ad2b-4347ae5065f1",
   "metadata": {},
   "source": [
    "# Load data"
   ]
  },
  {
   "cell_type": "code",
   "execution_count": 39,
   "id": "d83499ca-d22e-4bd0-83e0-1ca3abb98f52",
   "metadata": {},
   "outputs": [
    {
     "name": "stdout",
     "output_type": "stream",
     "text": [
      "DatasetDict({\n",
      "    train: Dataset({\n",
      "        features: ['doc_num', 'source_text', 'label_text', 'elaboration_sentence', 'contextual_specificity_rating'],\n",
      "        num_rows: 1049\n",
      "    })\n",
      "    validation: Dataset({\n",
      "        features: ['doc_num', 'source_text', 'label_text', 'elaboration_sentence', 'contextual_specificity_rating'],\n",
      "        num_rows: 134\n",
      "    })\n",
      "    test: Dataset({\n",
      "        features: ['doc_num', 'source_text', 'label_text', 'elaboration_sentence', 'contextual_specificity_rating'],\n",
      "        num_rows: 116\n",
      "    })\n",
      "})\n"
     ]
    }
   ],
   "source": [
    "from datasets import load_dataset\n",
    "import os\n",
    "\n",
    "data_path = \"../data/elaborations\"\n",
    "\n",
    "data_files_c2s = {\n",
    "    'train': os.path.join(data_path,\"train\",\"train_ds_c2s.csv\"),      \n",
    "    'validation': os.path.join(data_path,\"validation\",\"valid_ds_c2s.csv\"),  \n",
    "    'test': os.path.join(data_path,\"test\",\"test_ds_c2s.csv\")         \n",
    "}\n",
    "\n",
    "data_files_c2s_masked = {\n",
    "    'train': os.path.join(data_path,\"train\",\"train_ds_c2s_masked_llama.csv\"),      \n",
    "    'validation': os.path.join(data_path,\"validation\",\"valid_ds_c2s_masked_llama.csv\"),  \n",
    "    'test': os.path.join(data_path,\"test\",\"test_ds_c2s_masked_llama.csv\")         \n",
    "}\n",
    "\n",
    "data_files_c2sp = {\n",
    "    'train': os.path.join(data_path,\"train\",\"train_ds_c2sp.csv\"),      \n",
    "    'validation': os.path.join(data_path,\"validation\",\"valid_ds_c2sp.csv\"),  \n",
    "    'test': os.path.join(data_path,\"test\",\"test_ds_c2sp.csv\")         \n",
    "}\n",
    "\n",
    "data_files_c2sp_masked = {\n",
    "    'train': os.path.join(data_path,\"train\",\"train_ds_c2sp_masked_llama.csv\"),      \n",
    "    'validation': os.path.join(data_path,\"validation\",\"valid_ds_c2sp_masked_llama.csv\"),  \n",
    "    'test': os.path.join(data_path,\"test\",\"test_ds_c2sp_masked_llama.csv\")         \n",
    "}\n",
    "\n",
    "data_files_c4s = {\n",
    "    'train': os.path.join(data_path,\"train\",\"train_ds_c4s.csv\"),      \n",
    "    'validation': os.path.join(data_path,\"validation\",\"valid_ds_c4s.csv\"),  \n",
    "    'test': os.path.join(data_path,\"test\",\"test_ds_c4s.csv\")         \n",
    "}\n",
    "\n",
    "data_files_c4s_masked = {\n",
    "    'train': os.path.join(data_path,\"train\",\"train_ds_c4s_masked_llama.csv\"),      \n",
    "    'validation': os.path.join(data_path,\"validation\",\"valid_ds_c4s_masked_llama.csv\"),  \n",
    "    'test': os.path.join(data_path,\"test\",\"test_ds_c4s_masked_llama.csv\")         \n",
    "}\n",
    "\n",
    "\n",
    "data_files_c2os = {\n",
    "    'train': os.path.join(data_path,\"train\",\"train_ds_c2os.csv\"),      \n",
    "    'validation': os.path.join(data_path,\"validation\",\"valid_ds_c2os.csv\"),  \n",
    "    'test': os.path.join(data_path,\"test\",\"test_ds_c2os.csv\")         \n",
    "}\n",
    "\n",
    "data_files_c2osp = {\n",
    "    'train': os.path.join(data_path,\"train\",\"train_ds_c2osp.csv\"),      \n",
    "    'validation': os.path.join(data_path,\"validation\",\"valid_ds_c2osp.csv\"),  \n",
    "    'test': os.path.join(data_path,\"test\",\"test_ds_c2osp.csv\")         \n",
    "}\n",
    "\n",
    "data_files_c4sp = {\n",
    "    'train': os.path.join(data_path,\"train\",\"train_ds_c4sp.csv\"),      \n",
    "    'validation': os.path.join(data_path,\"validation\",\"valid_ds_c4sp.csv\"),  \n",
    "    'test': os.path.join(data_path,\"test\",\"test_ds_c4sp.csv\")         \n",
    "}\n",
    "\n",
    "data_files_c4sp_masked = {\n",
    "    'train': os.path.join(data_path,\"train\",\"train_ds_c4sp_masked_llama.csv\"),      \n",
    "    'validation': os.path.join(data_path,\"validation\",\"valid_ds_c4sp_masked_llama.csv\"),  \n",
    "    'test': os.path.join(data_path,\"test\",\"test_ds_c4sp_masked_llama.csv\")         \n",
    "}\n",
    "\n",
    "data_files_c4osp = {\n",
    "    'train': os.path.join(data_path,\"train\",\"train_ds_c4osp.csv\"),      \n",
    "    'validation': os.path.join(data_path,\"validation\",\"valid_ds_c4osp.csv\"),  \n",
    "    'test': os.path.join(data_path,\"test\",\"test_ds_c4osp.csv\")         \n",
    "}\n",
    "\n",
    "dataset = load_dataset('csv', data_files=data_files_c4s_masked)\n",
    "print(dataset)"
   ]
  },
  {
   "cell_type": "code",
   "execution_count": 2,
   "id": "95b45f9f-3177-467c-831f-57c991fa5a9c",
   "metadata": {},
   "outputs": [
    {
     "name": "stdout",
     "output_type": "stream",
     "text": [
      "Tue Nov 26 13:17:51 2024       \n",
      "+---------------------------------------------------------------------------------------+\n",
      "| NVIDIA-SMI 545.23.08              Driver Version: 545.23.08    CUDA Version: 12.3     |\n",
      "|-----------------------------------------+----------------------+----------------------+\n",
      "| GPU  Name                 Persistence-M | Bus-Id        Disp.A | Volatile Uncorr. ECC |\n",
      "| Fan  Temp   Perf          Pwr:Usage/Cap |         Memory-Usage | GPU-Util  Compute M. |\n",
      "|                                         |                      |               MIG M. |\n",
      "|=========================================+======================+======================|\n",
      "|   0  NVIDIA H100                    On  | 00000000:64:00.0 Off |                    0 |\n",
      "| N/A   25C    P0              73W / 699W |      4MiB / 95830MiB |      0%      Default |\n",
      "|                                         |                      |             Disabled |\n",
      "+-----------------------------------------+----------------------+----------------------+\n",
      "                                                                                         \n",
      "+---------------------------------------------------------------------------------------+\n",
      "| Processes:                                                                            |\n",
      "|  GPU   GI   CI        PID   Type   Process name                            GPU Memory |\n",
      "|        ID   ID                                                             Usage      |\n",
      "|=======================================================================================|\n",
      "|  No running processes found                                                           |\n",
      "+---------------------------------------------------------------------------------------+\n"
     ]
    }
   ],
   "source": [
    "!nvidia-smi"
   ]
  },
  {
   "cell_type": "markdown",
   "id": "e39018bf-ec83-4777-811d-5ede8d33edb8",
   "metadata": {},
   "source": [
    "## Check length"
   ]
  },
  {
   "cell_type": "code",
   "execution_count": 40,
   "id": "85613e5a-ac65-42c2-b1b9-9cef364c7d91",
   "metadata": {},
   "outputs": [
    {
     "data": {
      "text/plain": [
       "{'train': 0, 'validation': 0, 'test': 0}"
      ]
     },
     "execution_count": 40,
     "metadata": {},
     "output_type": "execute_result"
    }
   ],
   "source": [
    "def count_texts_over_word_limit(dataset_dict, column, word_limit=150):\n",
    "    word_count = {}\n",
    "\n",
    "    for split in dataset_dict:\n",
    "        dataset = dataset_dict[split]\n",
    "        count_over_limit = 0\n",
    "\n",
    "        for example in dataset:\n",
    "            try:\n",
    "                num_words = len(example[column].split()) # count on spaces\n",
    "                if num_words > word_limit:\n",
    "                    count_over_limit += 1\n",
    "            except AttributeError as e: \n",
    "                print(f\"Empty string in doc num: {example['doc_num']}\")\n",
    "                continue \n",
    "\n",
    "        word_count[split] = count_over_limit\n",
    "\n",
    "    return word_count\n",
    "\n",
    "count_texts_over_word_limit(dataset, column='source_text')"
   ]
  },
  {
   "cell_type": "markdown",
   "id": "f6b6b6f6-b982-4cf2-8b0a-d2357ed4ea9e",
   "metadata": {},
   "source": [
    "# Load the model"
   ]
  },
  {
   "cell_type": "code",
   "execution_count": 41,
   "id": "b8177410-3aa9-44fa-84f7-66c2d7f375a2",
   "metadata": {},
   "outputs": [
    {
     "data": {
      "application/vnd.jupyter.widget-view+json": {
       "model_id": "2ed66399e5d6474d8164a05212bc6ca7",
       "version_major": 2,
       "version_minor": 0
      },
      "text/plain": [
       "Loading checkpoint shards:   0%|          | 0/2 [00:00<?, ?it/s]"
      ]
     },
     "metadata": {},
     "output_type": "display_data"
    }
   ],
   "source": [
    "from transformers import AutoTokenizer, AutoModelForCausalLM\n",
    "import torch\n",
    "from trl import setup_chat_format\n",
    "from trl.extras.dataset_formatting import conversations_formatting_function\n",
    "# LLAMA 3.2 3B\n",
    "tokenizer = AutoTokenizer.from_pretrained('meta-llama/Llama-3.2-3B', cache_dir=\"../models/llama/\") \n",
    "model =  AutoModelForCausalLM.from_pretrained('meta-llama/Llama-3.2-3B', cache_dir=\"../models/llama/\", device_map ={'':torch.cuda.current_device()})\n",
    "\n",
    "model, tokenizer = setup_chat_format(model, tokenizer)\n",
    "formatting_func = conversations_formatting_function(tokenizer, \"messages\")"
   ]
  },
  {
   "cell_type": "markdown",
   "id": "3b4e5a7c-0a25-4aaf-8ddd-766c971e7bd1",
   "metadata": {},
   "source": [
    "## Config"
   ]
  },
  {
   "cell_type": "code",
   "execution_count": 3,
   "id": "439adc8f-2034-4e70-a7da-4fac79e6691e",
   "metadata": {},
   "outputs": [],
   "source": [
    "# set the pad_token for llama 3.2 3B\n",
    "tokenizer.pad_token = tokenizer.eos_token #\"<|finetune_right_pad_id|>\" "
   ]
  },
  {
   "cell_type": "markdown",
   "id": "68174a11-1d6d-475d-98a6-ad7303ebbcde",
   "metadata": {
    "jp-MarkdownHeadingCollapsed": true
   },
   "source": [
    "# Tokenize dataset"
   ]
  },
  {
   "cell_type": "code",
   "execution_count": 4,
   "id": "77ed9772-8a71-45f4-ac10-f531c1b6784a",
   "metadata": {},
   "outputs": [],
   "source": [
    "import numpy as np\n",
    "\n",
    "def adjust_labels(example):\n",
    "    # replace padding token in labels with -100 for correct loss calculation\n",
    "    example[\"labels\"] = [\n",
    "        -100 if token == tokenizer.pad_token_id else token\n",
    "        for token in example[\"labels\"]\n",
    "    ]\n",
    "    return example\n",
    "\n",
    "def tokenize_func(examples):\n",
    "    # inputs\n",
    "    inputs = tokenizer(examples['source_text'], truncation=True, padding=\"max_length\",max_length=64) # padding=\"max_length\"\n",
    "    # labels\n",
    "    labels = tokenizer(examples['elaboration_sentence'],truncation=True,padding=\"max_length\", max_length=64)\n",
    "    # set the labels in the input dictionary\n",
    "    inputs['labels'] = labels['input_ids'] #labels['input_ids'] or np.array(labels['input_ids'])\n",
    "    return inputs\n",
    "\n",
    "tokenized_dataset = dataset.map(tokenize_func, batched=True)\n",
    "#tokenized_dataset = tokenized_dataset.map(adjust_labels, batched=False)\n",
    "#tokenized_dataset.set_format(type='torch', columns=['input_ids', 'attention_mask', 'labels'])"
   ]
  },
  {
   "cell_type": "markdown",
   "id": "ff061f50-1d17-4eff-838f-ade82933f610",
   "metadata": {},
   "source": [
    "# Fine-tune"
   ]
  },
  {
   "cell_type": "code",
   "execution_count": 3,
   "id": "e7f594d2-1c93-4b61-8e9c-26e32ab55216",
   "metadata": {},
   "outputs": [
    {
     "name": "stdout",
     "output_type": "stream",
     "text": [
      "Steps per epoch: 32\n",
      "Logging steps: 5\n"
     ]
    }
   ],
   "source": [
    "from model_utils import calculate_logging_steps\n",
    "steps_per_epoch, logging_steps = calculate_logging_steps(dataset, batch_size=32, logging_frequency=6)"
   ]
  },
  {
   "cell_type": "markdown",
   "id": "17183c49-28a5-40cd-84bf-8c8003de13c7",
   "metadata": {
    "jp-MarkdownHeadingCollapsed": true
   },
   "source": [
    "## No instruct"
   ]
  },
  {
   "cell_type": "code",
   "execution_count": 6,
   "id": "84a6effc-6c08-4385-969f-e0aa6714a214",
   "metadata": {},
   "outputs": [],
   "source": [
    "from trl import SFTConfig, SFTTrainer\n",
    "from transformers import DataCollatorForLanguageModeling\n",
    "\n",
    "\n",
    "model.train()\n",
    "\n",
    "# data collator\n",
    "data_collator = DataCollatorForLanguageModeling(\n",
    "    tokenizer=tokenizer, \n",
    "    mlm=False,  # no masked language modeling \n",
    ")\n",
    "\n",
    "logs_dir = \"../models/llama/llama3.2-news-ft/logs/logs-c2s\"\n",
    "\n",
    "training_args = SFTConfig(\n",
    "    output_dir=\"../models/llama/llama3.2-news-ft/results/results-c2s\",\n",
    "    max_seq_length= 64,\n",
    "    eval_strategy=\"epoch\",  \n",
    "    save_strategy=\"no\",  \n",
    "    logging_strategy=\"steps\",  \n",
    "    logging_steps=6, \n",
    "    learning_rate=1e-6,  \n",
    "    per_device_train_batch_size=32, \n",
    "    per_device_eval_batch_size=32,  \n",
    "    num_train_epochs=3,  \n",
    "    weight_decay=0.01,  \n",
    "    warmup_steps=2,  \n",
    "    optim=\"paged_adamw_8bit\",  \n",
    "    fp16=True,  \n",
    "    logging_dir=logs_dir, \n",
    "    push_to_hub=False,\n",
    "    group_by_length=True,  \n",
    "    save_total_limit=0,\n",
    "\n",
    ")\n",
    "\n",
    "trainer = SFTTrainer(\n",
    "    model,\n",
    "    train_dataset=tokenized_dataset[\"train\"],  \n",
    "    eval_dataset=tokenized_dataset[\"validation\"],  \n",
    "    args=training_args,   \n",
    "    data_collator=data_collator, \n",
    ")\n",
    "\n",
    "model.config.use_cache = False"
   ]
  },
  {
   "cell_type": "code",
   "execution_count": 7,
   "id": "81556570-fdb3-40d6-a0bb-87ade6c4d334",
   "metadata": {},
   "outputs": [
    {
     "data": {
      "text/html": [
       "\n",
       "    <div>\n",
       "      \n",
       "      <progress value='99' max='99' style='width:300px; height:20px; vertical-align: middle;'></progress>\n",
       "      [99/99 00:29, Epoch 3/3]\n",
       "    </div>\n",
       "    <table border=\"1\" class=\"dataframe\">\n",
       "  <thead>\n",
       " <tr style=\"text-align: left;\">\n",
       "      <th>Epoch</th>\n",
       "      <th>Training Loss</th>\n",
       "      <th>Validation Loss</th>\n",
       "    </tr>\n",
       "  </thead>\n",
       "  <tbody>\n",
       "    <tr>\n",
       "      <td>1</td>\n",
       "      <td>2.960200</td>\n",
       "      <td>3.143848</td>\n",
       "    </tr>\n",
       "    <tr>\n",
       "      <td>2</td>\n",
       "      <td>2.700500</td>\n",
       "      <td>3.052567</td>\n",
       "    </tr>\n",
       "    <tr>\n",
       "      <td>3</td>\n",
       "      <td>2.559600</td>\n",
       "      <td>3.032315</td>\n",
       "    </tr>\n",
       "  </tbody>\n",
       "</table><p>"
      ],
      "text/plain": [
       "<IPython.core.display.HTML object>"
      ]
     },
     "metadata": {},
     "output_type": "display_data"
    },
    {
     "name": "stderr",
     "output_type": "stream",
     "text": [
      "Trainer.tokenizer is now deprecated. You should use Trainer.processing_class instead.\n",
      "Trainer.tokenizer is now deprecated. You should use Trainer.processing_class instead.\n",
      "Trainer.tokenizer is now deprecated. You should use Trainer.processing_class instead.\n",
      "Trainer.tokenizer is now deprecated. You should use Trainer.processing_class instead.\n",
      "Trainer.tokenizer is now deprecated. You should use Trainer.processing_class instead.\n",
      "Trainer.tokenizer is now deprecated. You should use Trainer.processing_class instead.\n"
     ]
    },
    {
     "data": {
      "text/plain": [
       "TrainOutput(global_step=99, training_loss=2.8347623805807096, metrics={'train_runtime': 30.1256, 'train_samples_per_second': 104.164, 'train_steps_per_second': 3.286, 'total_flos': 3396568057380864.0, 'train_loss': 2.8347623805807096, 'epoch': 3.0})"
      ]
     },
     "execution_count": 7,
     "metadata": {},
     "output_type": "execute_result"
    }
   ],
   "source": [
    "trainer.train()"
   ]
  },
  {
   "cell_type": "markdown",
   "id": "fdfe754e-75b0-4ddd-860c-7222aeb9b21d",
   "metadata": {
    "jp-MarkdownHeadingCollapsed": true
   },
   "source": [
    "### Learning curve"
   ]
  },
  {
   "cell_type": "code",
   "execution_count": 8,
   "id": "dd833154-5ed1-4d7a-834d-bac508d1abac",
   "metadata": {},
   "outputs": [
    {
     "data": {
      "image/png": "[encoded data removed]",
      "text/plain": [
       "<Figure size 1000x500 with 1 Axes>"
      ]
     },
     "metadata": {},
     "output_type": "display_data"
    }
   ],
   "source": [
    "from model_utils import plot_loss_curves\n",
    "plot_loss_curves(trainer)"
   ]
  },
  {
   "cell_type": "markdown",
   "id": "59885301-9d9a-403c-bcdb-b5bc77c803ef",
   "metadata": {},
   "source": [
    "## Instruct\n",
    "\n",
    "https://huggingface.co/docs/trl/en/sft_trainer"
   ]
  },
  {
   "cell_type": "markdown",
   "id": "3bb3f940-0400-4372-9c67-b9e89cb081e9",
   "metadata": {},
   "source": [
    "### Format dataset with instruction"
   ]
  },
  {
   "cell_type": "code",
   "execution_count": null,
   "id": "629ac34a-0ee8-4b6c-9264-48af83d18abd",
   "metadata": {},
   "outputs": [],
   "source": [
    "# Return your answer in the following format:\n",
    "#\"Explanation sentence\": <explanatory sentence text>"
   ]
  },
  {
   "cell_type": "code",
   "execution_count": 5,
   "id": "d9062c07-ee30-4b0b-bbd9-98e2f64f55c9",
   "metadata": {},
   "outputs": [],
   "source": [
    "ZERO_SHOT_SYSTEM_PROMPT = \"\"\"You are an expert in generating exactly one short explanatory sentence (made up of around 10 words or fewer) in a plain English for a given context text. \n",
    "Your task is to provide additional information related to the complex statement, term, action, or concept that is semantically missing from the context text.\n",
    "You may do this by offering a definition, examples, background knowledge, general statements, a description of the flow of actions, or an explanation of the reason or result of the target action.\n",
    "The tone should be plain and simple!\n",
    "Return only ONE short concise explanatory sentence!\n",
    "\"\"\""
   ]
  },
  {
   "cell_type": "code",
   "execution_count": 42,
   "id": "46f51472-05c5-43e7-b6d9-83576a1d732f",
   "metadata": {},
   "outputs": [],
   "source": [
    "SYSTEM_PROMPT_MASKED = \"\"\"You are an expert in generating exactly one short explanatory sentence (made up of around 10 words or fewer) in a plain English for a given context text. \n",
    "Your task is to provide additional information related to the complex statement, term, action, or concept that is semantically missing from the context text.\n",
    "You may do this by offering a definition, examples, background knowledge, general statements, a description of the flow of actions, or an explanation of the reason or result of the target action.\n",
    "Your task is to replace the `<explanatory sentence>` tag in the provided text with the explanation sentence you generate.\n",
    "Return only the explanation sentence itself, without any tags, formatting, or additional text.\n",
    "The tone should be plain and simple!\n",
    "Return only ONE short concise explanatory sentence!\n",
    "\"\"\""
   ]
  },
  {
   "cell_type": "code",
   "execution_count": 6,
   "id": "0c9262f8-8fd8-4e81-a050-03f96a988a8f",
   "metadata": {},
   "outputs": [],
   "source": [
    "SYSTEM_PROMPT_SHORT = \"\"\"You are an expert in generating exactly one short explanatory sentence (made up of around 10 words or fewer) in a plain English for a given context text. \n",
    "The tone should be plain and simple! Return only ONE short concise explanatory sentence!\"\"\""
   ]
  },
  {
   "cell_type": "code",
   "execution_count": 43,
   "id": "243b6ff8-4f7c-49ad-bdd9-4cfd7f8e7bd9",
   "metadata": {},
   "outputs": [
    {
     "data": {
      "application/vnd.jupyter.widget-view+json": {
       "model_id": "8a15164c932d48c8affccb5e7c65fa41",
       "version_major": 2,
       "version_minor": 0
      },
      "text/plain": [
       "Map:   0%|          | 0/116 [00:00<?, ? examples/s]"
      ]
     },
     "metadata": {},
     "output_type": "display_data"
    }
   ],
   "source": [
    "def format_example(example):\n",
    "    return {\n",
    "        \"messages\": [\n",
    "            {\"role\": \"system\", \"content\": SYSTEM_PROMPT_MASKED},\n",
    "            {\"role\": \"user\", \"content\": f\"{example['source_text']}\"}, # Context or Text\n",
    "            {\"role\": \"assistant\", \"content\":  f\"{example['elaboration_sentence']}\"}\n",
    "        ]\n",
    "    }\n",
    "\n",
    "def format_test_example(example):\n",
    "    return {\n",
    "        \"messages\": [\n",
    "            {\"role\": \"system\", \"content\": SYSTEM_PROMPT_MASKED},\n",
    "            {\"role\": \"user\", \"content\": f\"{example['source_text']}\"},\n",
    "            {\"role\": \"assistant\", \"content\":  \"\"}\n",
    "        ]\n",
    "    }\n",
    "\n",
    "formatted_train_dataset = dataset[\"train\"].map(format_example)\n",
    "formatted_validation_dataset = dataset[\"validation\"].map(format_example)\n",
    "formatted_test_dataset = dataset[\"test\"].map(format_test_example)"
   ]
  },
  {
   "cell_type": "code",
   "execution_count": 44,
   "id": "eaafd2da-3810-4cca-adf2-10dc4520e43e",
   "metadata": {},
   "outputs": [
    {
     "data": {
      "text/plain": [
       "[{'content': 'You are an expert in generating exactly one short explanatory sentence (made up of around 10 words or fewer) in a plain English for a given context text. \\nYour task is to provide additional information related to the complex statement, term, action, or concept that is semantically missing from the context text.\\nYou may do this by offering a definition, examples, background knowledge, general statements, a description of the flow of actions, or an explanation of the reason or result of the target action.\\nYour task is to replace the `<explanatory sentence>` tag in the provided text with the explanation sentence you generate.\\nReturn only the explanation sentence itself, without any tags, formatting, or additional text.\\nThe tone should be plain and simple!\\nReturn only ONE short concise explanatory sentence!\\n',\n",
       "  'role': 'system'},\n",
       " {'content': 'They did not need special skills or a college education to work there. Those factories are gone now. New companies have come that need skilled workers with more education. New Haven youth want those jobs, but they do not have the education or the skills. <explanatory sentence>',\n",
       "  'role': 'user'},\n",
       " {'content': '', 'role': 'assistant'}]"
      ]
     },
     "execution_count": 44,
     "metadata": {},
     "output_type": "execute_result"
    }
   ],
   "source": [
    "formatted_test_dataset[0][\"messages\"]"
   ]
  },
  {
   "cell_type": "code",
   "execution_count": 7,
   "id": "ba143790-1f66-4aa2-9056-ebbe482dd684",
   "metadata": {},
   "outputs": [
    {
     "name": "stdout",
     "output_type": "stream",
     "text": [
      "Mean length of messages: 60.243724181760406\n"
     ]
    }
   ],
   "source": [
    "def calculate_mean_message_length(dataset):\n",
    "    total_length = 0\n",
    "    message_count = 0\n",
    "\n",
    "    for entry in dataset:\n",
    "        messages = entry.get('messages', [])\n",
    "        for message in messages:\n",
    "            content = message.get('content', \"\")\n",
    "            total_length += len(content.split())  # Count words in the content\n",
    "            message_count += 1\n",
    "\n",
    "    return total_length / message_count if message_count > 0 else 0\n",
    "\n",
    "mean_length = calculate_mean_message_length(formatted_train_dataset)\n",
    "print(f\"Mean length of messages: {mean_length}\")"
   ]
  },
  {
   "cell_type": "code",
   "execution_count": 10,
   "id": "8fc3926a-bd73-45ec-a20e-7af9d3fa23de",
   "metadata": {},
   "outputs": [
    {
     "data": {
      "text/plain": [
       "[\"### Context: A watermark is an image that can be seen in the paper when you hold it up to the light. Investigators say Kellogg tried to copy the watermark.\\n ### Explanation sentence: Here's how they say he did it.\",\n",
       " '### Context: He called the talk a \"fireside hangout.\" President Franklin D. Roosevelt used to make informal radio broadcasts called \"fireside chats.\"\\n ### Explanation sentence: Obama\\'s fireside hangout included many questions from different kinds of people.']"
      ]
     },
     "execution_count": 10,
     "metadata": {},
     "output_type": "execute_result"
    }
   ],
   "source": [
    "def formatting_prompts_func(split):\n",
    "    output_texts = []\n",
    "    for i in range(len(split)):\n",
    "        text = f\"### Context: {split['source_text'][i]}\\n ### Explanation sentence: {split['elaboration_sentence'][i]}\"\n",
    "        output_texts.append(text)\n",
    "    return output_texts\n",
    "\n",
    "#formatted_dataset = dataset[\"train\"].map(formatting_prompts_func)\n",
    "\n",
    "formatting_prompts_func(dataset[\"train\"])[:2]"
   ]
  },
  {
   "cell_type": "markdown",
   "id": "82c7db52-f6f8-49dc-b352-0f19f86e0d3b",
   "metadata": {},
   "source": [
    "#### DataCollatorForCompletionOnlyLM"
   ]
  },
  {
   "cell_type": "code",
   "execution_count": null,
   "id": "8b2e15cb-0424-423b-9113-91a145e94225",
   "metadata": {
    "scrolled": true
   },
   "outputs": [],
   "source": [
    "from trl import DataCollatorForCompletionOnlyLM\n",
    "\n",
    "data_collator = DataCollatorForCompletionOnlyLM(\n",
    "    tokenizer=tokenizer,\n",
    "    mlm=False, \n",
    "    response_template= ...\n",
    ")"
   ]
  },
  {
   "cell_type": "code",
   "execution_count": 45,
   "id": "7291e105-6127-4f73-98ad-a35069277723",
   "metadata": {},
   "outputs": [
    {
     "data": {
      "application/vnd.jupyter.widget-view+json": {
       "model_id": "b1cdeded33e9485ba47fb51ee68dd6e3",
       "version_major": 2,
       "version_minor": 0
      },
      "text/plain": [
       "Map:   0%|          | 0/134 [00:00<?, ? examples/s]"
      ]
     },
     "metadata": {},
     "output_type": "display_data"
    }
   ],
   "source": [
    "from trl import SFTConfig, SFTTrainer\n",
    "from transformers import DataCollatorForLanguageModeling\n",
    "\n",
    "import os \n",
    "# disable parallelism warnings\n",
    "os.environ[\"TOKENIZERS_PARALLELISM\"] = \"false\"\n",
    "\n",
    "\n",
    "model.train()\n",
    "\n",
    "# data collator\n",
    "data_collator = DataCollatorForLanguageModeling(\n",
    "    tokenizer=tokenizer, \n",
    "    mlm=False,  # no masked language modeling \n",
    ")\n",
    "\n",
    "logs_dir = \"../models/llama3.2-news-ft/logs/logs-c4s-masked\"\n",
    "\n",
    "training_args = SFTConfig(\n",
    "    output_dir=\"../models/llama3.2-news-ft/results/tmp\",\n",
    "    max_seq_length= 150,\n",
    "    eval_strategy=\"epoch\",  \n",
    "    save_strategy=\"no\",  \n",
    "    logging_strategy=\"steps\",  \n",
    "    logging_steps=6, \n",
    "    learning_rate=1e-6,  \n",
    "    per_device_train_batch_size=32, \n",
    "    per_device_eval_batch_size=32,  \n",
    "    #gradient_accumulation_steps=2,\n",
    "    num_train_epochs=3,  \n",
    "    weight_decay=0.01,  \n",
    "    warmup_steps=2,    \n",
    "    optim=\"paged_adamw_8bit\",  \n",
    "    fp16=True,  \n",
    "    logging_dir=logs_dir, \n",
    "    push_to_hub=False,\n",
    "    group_by_length=True,  \n",
    "    save_total_limit=0,\n",
    "    #load_best_model_at_end=True, \n",
    "    #metric_for_best_model=\"eval_loss\"\n",
    "\n",
    ")\n",
    "\n",
    "trainer = SFTTrainer(\n",
    "    model,\n",
    "    train_dataset= formatted_train_dataset ,\n",
    "    eval_dataset= formatted_validation_dataset ,\n",
    "    args=training_args,   \n",
    "    formatting_func=formatting_func,\n",
    "    #data_collator=data_collator, \n",
    ")\n",
    "\n",
    "model.config.use_cache = False"
   ]
  },
  {
   "cell_type": "code",
   "execution_count": 46,
   "id": "f984bbd9-d860-4a70-972e-fa1823da0125",
   "metadata": {},
   "outputs": [
    {
     "data": {
      "text/html": [
       "\n",
       "    <div>\n",
       "      \n",
       "      <progress value='99' max='99' style='width:300px; height:20px; vertical-align: middle;'></progress>\n",
       "      [99/99 00:47, Epoch 3/3]\n",
       "    </div>\n",
       "    <table border=\"1\" class=\"dataframe\">\n",
       "  <thead>\n",
       " <tr style=\"text-align: left;\">\n",
       "      <th>Epoch</th>\n",
       "      <th>Training Loss</th>\n",
       "      <th>Validation Loss</th>\n",
       "    </tr>\n",
       "  </thead>\n",
       "  <tbody>\n",
       "    <tr>\n",
       "      <td>1</td>\n",
       "      <td>0.049700</td>\n",
       "      <td>0.047777</td>\n",
       "    </tr>\n",
       "    <tr>\n",
       "      <td>2</td>\n",
       "      <td>0.039700</td>\n",
       "      <td>0.039275</td>\n",
       "    </tr>\n",
       "    <tr>\n",
       "      <td>3</td>\n",
       "      <td>0.035800</td>\n",
       "      <td>0.035808</td>\n",
       "    </tr>\n",
       "  </tbody>\n",
       "</table><p>"
      ],
      "text/plain": [
       "<IPython.core.display.HTML object>"
      ]
     },
     "metadata": {},
     "output_type": "display_data"
    },
    {
     "name": "stderr",
     "output_type": "stream",
     "text": [
      "Trainer.tokenizer is now deprecated. You should use Trainer.processing_class instead.\n",
      "Trainer.tokenizer is now deprecated. You should use Trainer.processing_class instead.\n",
      "Trainer.tokenizer is now deprecated. You should use Trainer.processing_class instead.\n",
      "Trainer.tokenizer is now deprecated. You should use Trainer.processing_class instead.\n",
      "Trainer.tokenizer is now deprecated. You should use Trainer.processing_class instead.\n",
      "Trainer.tokenizer is now deprecated. You should use Trainer.processing_class instead.\n"
     ]
    },
    {
     "data": {
      "text/plain": [
       "TrainOutput(global_step=99, training_loss=0.35129934157988035, metrics={'train_runtime': 50.2826, 'train_samples_per_second': 62.586, 'train_steps_per_second': 1.969, 'total_flos': 7983538238361600.0, 'train_loss': 0.35129934157988035, 'epoch': 3.0})"
      ]
     },
     "execution_count": 46,
     "metadata": {},
     "output_type": "execute_result"
    }
   ],
   "source": [
    "trainer.train()"
   ]
  },
  {
   "cell_type": "markdown",
   "id": "acd49367-f281-4024-b9b7-eda484c13887",
   "metadata": {},
   "source": [
    "### Learning curve"
   ]
  },
  {
   "cell_type": "code",
   "execution_count": 16,
   "id": "43f16466-4bbd-4909-bd5a-77d849ec9bbe",
   "metadata": {},
   "outputs": [
    {
     "data": {
      "image/png": "[encoded data removed]",
      "text/plain": [
       "<Figure size 1000x500 with 1 Axes>"
      ]
     },
     "metadata": {},
     "output_type": "display_data"
    }
   ],
   "source": [
    "from model_utils import plot_loss_curves\n",
    "plot_loss_curves(trainer)"
   ]
  },
  {
   "cell_type": "markdown",
   "id": "3b504528-9cca-4a9f-b648-2d1497c8df24",
   "metadata": {},
   "source": [
    "# Save the model"
   ]
  },
  {
   "cell_type": "code",
   "execution_count": 18,
   "id": "d80180bb-8376-4d6f-a9e8-247b05dce451",
   "metadata": {},
   "outputs": [],
   "source": [
    "trainer.save_model(\"../models/llama/llama-news-ft/llama2csp\")"
   ]
  },
  {
   "cell_type": "markdown",
   "id": "22fc09ce-cea6-42ac-923f-ee4439ef2098",
   "metadata": {},
   "source": [
    "# Clean-up"
   ]
  },
  {
   "cell_type": "code",
   "execution_count": 18,
   "id": "9d8114a3-d6ac-4018-b525-9adfffcd6f0d",
   "metadata": {},
   "outputs": [
    {
     "name": "stdout",
     "output_type": "stream",
     "text": [
      "Directory does not exist: ../models/llama3.2-news-ft/logs/logs-c2osp\n"
     ]
    }
   ],
   "source": [
    "from model_utils import clear_directory\n",
    "import torch\n",
    "\n",
    "torch.cuda.empty_cache()\n",
    "del model, trainer, tokenizer, data_collator\n",
    "clear_directory(logs_dir)"
   ]
  },
  {
   "cell_type": "markdown",
   "id": "d14720cf-289f-4966-a7fe-fb7c44cba331",
   "metadata": {},
   "source": [
    "# Generate predictions\n",
    "\n",
    "https://github.com/NielsRogge/Transformers-Tutorials/blob/master/Mistral/Supervised_fine_tuning_(SFT)_of_an_LLM_using_Hugging_Face_tooling.ipynb"
   ]
  },
  {
   "cell_type": "markdown",
   "id": "2dbf09a9-2254-4e79-95cb-99fd71423fe7",
   "metadata": {
    "jp-MarkdownHeadingCollapsed": true
   },
   "source": [
    "## Load saved model"
   ]
  },
  {
   "cell_type": "code",
   "execution_count": 19,
   "id": "6da2b42e-cc84-4c46-854c-03d93c65f1bd",
   "metadata": {},
   "outputs": [
    {
     "data": {
      "application/vnd.jupyter.widget-view+json": {
       "model_id": "b5d2cdee1249413e938f0136e76db8ac",
       "version_major": 2,
       "version_minor": 0
      },
      "text/plain": [
       "Loading checkpoint shards:   0%|          | 0/3 [00:00<?, ?it/s]"
      ]
     },
     "metadata": {},
     "output_type": "display_data"
    }
   ],
   "source": [
    "from transformers import AutoTokenizer, AutoModelForCausalLM\n",
    "import torch\n",
    "\n",
    "saved_model = AutoModelForCausalLM.from_pretrained(\"../models/llama/llama-news-ft/llama2csp\")\n",
    "saved_tokenizer = AutoTokenizer.from_pretrained(\"../models/llama/llama-news-ft/llama2csp\")"
   ]
  },
  {
   "cell_type": "code",
   "execution_count": 20,
   "id": "d9df03f8-0daf-4667-b84f-fdbdb51235eb",
   "metadata": {},
   "outputs": [],
   "source": [
    "import os \n",
    "# disable parallelism warnings\n",
    "os.environ[\"TOKENIZERS_PARALLELISM\"] = \"false\"\n",
    "model = saved_model\n",
    "tokenizer = saved_tokenizer"
   ]
  },
  {
   "cell_type": "markdown",
   "id": "f5ded004-8ee1-4a7c-982b-9e3c8133ab47",
   "metadata": {},
   "source": [
    "## Example"
   ]
  },
  {
   "cell_type": "markdown",
   "id": "354df40a-c696-44c1-819f-89545b0c13ce",
   "metadata": {},
   "source": [
    "Set Stopping Criteria"
   ]
  },
  {
   "cell_type": "code",
   "execution_count": 47,
   "id": "2b0b34c5-94cf-4f1e-97ee-0f4345f78b5f",
   "metadata": {},
   "outputs": [],
   "source": [
    "from transformers import pipeline, StoppingCriteria, StoppingCriteriaList\n",
    "import torch\n",
    "\n",
    "class RefinedEndSentenceStoppingCriteria(StoppingCriteria):\n",
    "    def __init__(self, tokenizer, sentence_end_tokens):\n",
    "        super().__init__()\n",
    "        self.tokenizer = tokenizer\n",
    "        self.sentence_end_token_ids = [\n",
    "            self.tokenizer.convert_tokens_to_ids(token) for token in sentence_end_tokens\n",
    "        ]\n",
    "        self.eos_token_id = tokenizer.eos_token_id  # Include eos_token_id\n",
    "\n",
    "    def is_valid_stop(self, input_ids):\n",
    "        # Get the last token and the one before it\n",
    "        if len(input_ids[0]) < 2:\n",
    "            return False  # Not enough tokens to decide\n",
    "        last_token_id = input_ids[0, -1].item()\n",
    "        second_last_token_id = input_ids[0, -2].item()\n",
    "\n",
    "        # Decode tokens to check context\n",
    "        last_token = self.tokenizer.decode([last_token_id])\n",
    "        second_last_token = self.tokenizer.decode([second_last_token_id])\n",
    "\n",
    "        # Stop if it's a sentence-ending token and not part of an abbreviation\n",
    "        if (\n",
    "            last_token in [\".\", \"!\", \"?\"]  # Check if it's a sentence-ending token\n",
    "            and len(second_last_token) > 1  # Ensure not part of an abbreviation\n",
    "            and not second_last_token.isupper()  # Ensure it's not \"U.S.\" or similar\n",
    "        ):\n",
    "            return True\n",
    "\n",
    "        # Include end-of-sequence token\n",
    "        return last_token_id == self.eos_token_id\n",
    "\n",
    "    def __call__(self, input_ids, scores, **kwargs):\n",
    "        return self.is_valid_stop(input_ids)\n",
    "\n",
    "\n",
    "sentence_end_tokens = [\".\",\"\\n\",\"!\", \"?\"]\n",
    "stopping_criteria = StoppingCriteriaList([RefinedEndSentenceStoppingCriteria(tokenizer, sentence_end_tokens)])"
   ]
  },
  {
   "cell_type": "code",
   "execution_count": 50,
   "id": "59f5ea08-db7e-41f7-9e92-42c9380ed826",
   "metadata": {},
   "outputs": [],
   "source": [
    "from transformers import pipeline, StoppingCriteria, StoppingCriteriaList\n",
    "import torch\n",
    "\n",
    "class EndSentenceStoppingCriteria(StoppingCriteria):\n",
    "    def __init__(self, tokenizer, sentence_end_tokens):\n",
    "        self.tokenizer = tokenizer\n",
    "        self.sentence_end_tokens = sentence_end_tokens\n",
    "        self.eos_token_id = tokenizer.eos_token_id\n",
    "\n",
    "    def __call__(self, input_ids, scores, **kwargs):\n",
    "        decoded_text = self.tokenizer.decode(input_ids[0], skip_special_tokens=True)\n",
    "        return any(decoded_text.endswith(token) for token in self.sentence_end_tokens)\n",
    "\n",
    "sentence_end_tokens = [\"\\n\",\"!\", \"?\"]\n",
    "stopping_criteria = StoppingCriteriaList([EndSentenceStoppingCriteria(tokenizer, sentence_end_tokens)])"
   ]
  },
  {
   "cell_type": "code",
   "execution_count": 48,
   "id": "6a47dba4-ac52-410c-997c-66784aa26c14",
   "metadata": {},
   "outputs": [],
   "source": [
    "from transformers import pipeline\n",
    "\n",
    "device = torch.device(\"cuda\" if torch.cuda.is_available() else \"cpu\")\n",
    "model.to(device)\n",
    "model.eval()\n",
    "\n",
    "generator = pipeline(\n",
    "        \"text-generation\",\n",
    "        model=model,\n",
    "        tokenizer=tokenizer,\n",
    "        use_cache=True,\n",
    "        device_map={'':torch.cuda.current_device()},\n",
    "        max_new_tokens=32,\n",
    "        min_length = 16,\n",
    "        do_sample=False, # for greedy decoding\n",
    "        temperature=None,\n",
    "        top_p=None,\n",
    "        return_full_text=False,\n",
    "        no_repeat_ngram_size=3,\n",
    "        num_return_sequences=1,\n",
    "        eos_token_id=tokenizer.eos_token_id,\n",
    "        pad_token_id=tokenizer.eos_token_id\n",
    "        )"
   ]
  },
  {
   "cell_type": "code",
   "execution_count": 12,
   "id": "3504aadb-c073-4f08-9c55-12a560338d11",
   "metadata": {},
   "outputs": [
    {
     "data": {
      "text/plain": [
       "[{'generated_text': ' It measures the water level.'}]"
      ]
     },
     "execution_count": 12,
     "metadata": {},
     "output_type": "execute_result"
    }
   ],
   "source": [
    "generator(formatted_test_dataset[2]['messages'],stopping_criteria=stopping_criteria)"
   ]
  },
  {
   "cell_type": "code",
   "execution_count": 20,
   "id": "77b51d0d-3592-412d-913d-9500922f5d47",
   "metadata": {},
   "outputs": [
    {
     "name": "stdout",
     "output_type": "stream",
     "text": [
      "Context:  And his wife, Maria, was inspired to get her GED. The general educational development (GED) is equal to a high school diploma. Benito's path is more uncertain. He has not yet registered at the adult school. He and others like him are missing a key requirement \" a high school diploma. And his wife, Maria, was inspired to get her GED. Benito's path is more uncertain. He has yet to register at the adult school.\n",
      "\n",
      "Elaboration:  It is for adults who were unable to finish high school.\n"
     ]
    }
   ],
   "source": [
    "print(\"Context: \",formatted_test_dataset[5]['source_text'],end=\"\\n\\n\")\n",
    "print(\"Elaboration: \",formatted_test_dataset[5]['elaboration_sentence'] )"
   ]
  },
  {
   "cell_type": "code",
   "execution_count": 49,
   "id": "6aa08f1b-cf94-4840-a058-2f07292fbb59",
   "metadata": {},
   "outputs": [
    {
     "data": {
      "application/vnd.jupyter.widget-view+json": {
       "model_id": "f5381a6b7c30439bb284bf99238daefc",
       "version_major": 2,
       "version_minor": 0
      },
      "text/plain": [
       "  0%|          | 0/116 [00:00<?, ?it/s]"
      ]
     },
     "metadata": {},
     "output_type": "display_data"
    }
   ],
   "source": [
    "from tqdm.notebook import tqdm\n",
    "import pandas as pd\n",
    "\n",
    "df_results = pd.DataFrame({\n",
    "    'source_text': dataset['test']['source_text'], \n",
    "    'elaboration_sentence': dataset['test']['elaboration_sentence'],\n",
    "    'pred_elaboration': \"\"\n",
    "})\n",
    "\n",
    "\n",
    "for idx, row in tqdm(df_results.iterrows(),total=len(df_results)):\n",
    "    input_text = f\"{row['source_text']}\"\n",
    "    response = generator(input_text, stopping_criteria=stopping_criteria)\n",
    "    df_results.at[idx,\"pred_elaboration\"] = response[0][\"generated_text\"]"
   ]
  },
  {
   "cell_type": "code",
   "execution_count": 50,
   "id": "913f903b-538b-4017-a4d9-8aa9c8a75854",
   "metadata": {},
   "outputs": [
    {
     "name": "stdout",
     "output_type": "stream",
     "text": [
      "NaNs:  0\n"
     ]
    }
   ],
   "source": [
    "print(\"NaNs: \", len(df_results[df_results[\"pred_elaboration\"]==\"\"]))"
   ]
  },
  {
   "cell_type": "code",
   "execution_count": 25,
   "id": "5fe88c71-1b95-4149-8a69-d00dcb0ba91a",
   "metadata": {},
   "outputs": [
    {
     "data": {
      "text/html": [
       "<div>\n",
       "<style scoped>\n",
       "    .dataframe tbody tr th:only-of-type {\n",
       "        vertical-align: middle;\n",
       "    }\n",
       "\n",
       "    .dataframe tbody tr th {\n",
       "        vertical-align: top;\n",
       "    }\n",
       "\n",
       "    .dataframe thead th {\n",
       "        text-align: right;\n",
       "    }\n",
       "</style>\n",
       "<table border=\"1\" class=\"dataframe\">\n",
       "  <thead>\n",
       "    <tr style=\"text-align: right;\">\n",
       "      <th></th>\n",
       "      <th>source_text</th>\n",
       "      <th>elaboration_sentence</th>\n",
       "      <th>pred_elaboration</th>\n",
       "    </tr>\n",
       "  </thead>\n",
       "  <tbody>\n",
       "  </tbody>\n",
       "</table>\n",
       "</div>"
      ],
      "text/plain": [
       "Empty DataFrame\n",
       "Columns: [source_text, elaboration_sentence, pred_elaboration]\n",
       "Index: []"
      ]
     },
     "execution_count": 25,
     "metadata": {},
     "output_type": "execute_result"
    }
   ],
   "source": [
    "df_results[df_results[\"pred_elaboration\"]==\"\"]"
   ]
  },
  {
   "cell_type": "markdown",
   "id": "195b9829-eb3b-4b08-b3bc-7cb61ef4707c",
   "metadata": {},
   "source": [
    "Fill NaNs"
   ]
  },
  {
   "cell_type": "code",
   "execution_count": 14,
   "id": "7c2fa46a-862d-4865-8df7-90dcf016ad68",
   "metadata": {},
   "outputs": [
    {
     "data": {
      "application/vnd.jupyter.widget-view+json": {
       "model_id": "77b14d2630a64ff1b4da6a8c03209b3e",
       "version_major": 2,
       "version_minor": 0
      },
      "text/plain": [
       "  0%|          | 0/116 [00:00<?, ?it/s]"
      ]
     },
     "metadata": {},
     "output_type": "display_data"
    }
   ],
   "source": [
    "for idx, row in tqdm(df_results.iterrows(),total=len(df_results)):\n",
    "    if row[\"pred_elaboration\"]==\"\":\n",
    "        input_text = f\"Context: {row['source_text']}\"\n",
    "        response = generator(input_text, stopping_criteria=stopping_criteria)\n",
    "        df_results.at[idx,\"pred_elaboration\"] = response[0][\"generated_text\"]"
   ]
  },
  {
   "cell_type": "markdown",
   "id": "ba68c018-360a-41dc-9877-4e52a5aa7d5f",
   "metadata": {},
   "source": [
    "## Save results"
   ]
  },
  {
   "cell_type": "code",
   "execution_count": 31,
   "id": "24981635-b946-4754-9010-2aeea6da38ff",
   "metadata": {},
   "outputs": [],
   "source": [
    "#from model_utils import remove_tags\n",
    "import re\n",
    "def postprocess(text):\n",
    "\n",
    "    # removes all tag-like elements (e.g., <tag>) from the given text.\n",
    "    if isinstance(text, str):\n",
    "        text = re.sub(r'Context:', '', text).strip()\n",
    "        return re.sub(r'<[^>]*>', '', text).strip()\n",
    "        \n",
    "    return text\n",
    "\n",
    "df_results['pred_elaboration'] = df_results['pred_elaboration'].apply(postprocess)"
   ]
  },
  {
   "cell_type": "code",
   "execution_count": 51,
   "id": "9116902d-037a-46ff-b69a-09b09b67be86",
   "metadata": {},
   "outputs": [
    {
     "data": {
      "text/html": [
       "<div>\n",
       "<style scoped>\n",
       "    .dataframe tbody tr th:only-of-type {\n",
       "        vertical-align: middle;\n",
       "    }\n",
       "\n",
       "    .dataframe tbody tr th {\n",
       "        vertical-align: top;\n",
       "    }\n",
       "\n",
       "    .dataframe thead th {\n",
       "        text-align: right;\n",
       "    }\n",
       "</style>\n",
       "<table border=\"1\" class=\"dataframe\">\n",
       "  <thead>\n",
       "    <tr style=\"text-align: right;\">\n",
       "      <th></th>\n",
       "      <th>source_text</th>\n",
       "      <th>elaboration_sentence</th>\n",
       "      <th>pred_elaboration</th>\n",
       "    </tr>\n",
       "  </thead>\n",
       "  <tbody>\n",
       "    <tr>\n",
       "      <th>0</th>\n",
       "      <td>They did not need special skills or a college ...</td>\n",
       "      <td>Many do not have the money to get the training...</td>\n",
       "      <td>The problem is that the schools in New Haven ...</td>\n",
       "    </tr>\n",
       "    <tr>\n",
       "      <th>1</th>\n",
       "      <td>WASHINGTON – At least four people died in Midw...</td>\n",
       "      <td>A gauge is a kind of measuring stick.</td>\n",
       "      <td>The National Weather Service said the gauges ...</td>\n",
       "    </tr>\n",
       "    <tr>\n",
       "      <th>2</th>\n",
       "      <td>WASHINGTON – At least four people died in Midw...</td>\n",
       "      <td>It sits in the water.</td>\n",
       "      <td>The gauges measure the height of the water in...</td>\n",
       "    </tr>\n",
       "    <tr>\n",
       "      <th>3</th>\n",
       "      <td>Rescue crews swarmed into the ruins at Plaza T...</td>\n",
       "      <td>They raced against the setting sun to search t...</td>\n",
       "      <td>1.0.0\\nRescue teams were able to reach the sch...</td>\n",
       "    </tr>\n",
       "    <tr>\n",
       "      <th>4</th>\n",
       "      <td>One half of Istanbul lies in Europe, while the...</td>\n",
       "      <td>Turkey is larger than the state of Texas.</td>\n",
       "      <td>Istanbul is a city of contrasts.</td>\n",
       "    </tr>\n",
       "  </tbody>\n",
       "</table>\n",
       "</div>"
      ],
      "text/plain": [
       "                                         source_text  \\\n",
       "0  They did not need special skills or a college ...   \n",
       "1  WASHINGTON – At least four people died in Midw...   \n",
       "2  WASHINGTON – At least four people died in Midw...   \n",
       "3  Rescue crews swarmed into the ruins at Plaza T...   \n",
       "4  One half of Istanbul lies in Europe, while the...   \n",
       "\n",
       "                                elaboration_sentence  \\\n",
       "0  Many do not have the money to get the training...   \n",
       "1              A gauge is a kind of measuring stick.   \n",
       "2                              It sits in the water.   \n",
       "3  They raced against the setting sun to search t...   \n",
       "4          Turkey is larger than the state of Texas.   \n",
       "\n",
       "                                    pred_elaboration  \n",
       "0   The problem is that the schools in New Haven ...  \n",
       "1   The National Weather Service said the gauges ...  \n",
       "2   The gauges measure the height of the water in...  \n",
       "3  1.0.0\\nRescue teams were able to reach the sch...  \n",
       "4                   Istanbul is a city of contrasts.  "
      ]
     },
     "execution_count": 51,
     "metadata": {},
     "output_type": "execute_result"
    }
   ],
   "source": [
    "df_results.head()"
   ]
  },
  {
   "cell_type": "code",
   "execution_count": 52,
   "id": "99a25ce7-851d-440a-ba32-fd10cc07c70c",
   "metadata": {},
   "outputs": [],
   "source": [
    "df_results.to_csv(\"../data/gen_predictions/predictions_llama3.2-ft-instr-test_ds_c4s-masked.csv\")"
   ]
  },
  {
   "cell_type": "code",
   "execution_count": 32,
   "id": "3a343657-9d59-49ea-afa5-78aa27baf17a",
   "metadata": {},
   "outputs": [
    {
     "data": {
      "text/plain": [
       "\"user\\nThe United States is in the midst of a debate about the future of the country's water infrastructure.\""
      ]
     },
     "execution_count": 32,
     "metadata": {},
     "output_type": "execute_result"
    }
   ],
   "source": [
    "df_results.loc[1,\"pred_elaboration\"]"
   ]
  }
 ],
 "metadata": {
  "kernelspec": {
   "display_name": "Python 3 (ipykernel)",
   "language": "python",
   "name": "python3"
  },
  "language_info": {
   "codemirror_mode": {
    "name": "ipython",
    "version": 3
   },
   "file_extension": ".py",
   "mimetype": "text/x-python",
   "name": "python",
   "nbconvert_exporter": "python",
   "pygments_lexer": "ipython3",
   "version": "3.9.18"
  }
 },
 "nbformat": 4,
 "nbformat_minor": 5
}
