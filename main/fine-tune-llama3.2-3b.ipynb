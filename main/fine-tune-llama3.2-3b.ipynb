{
 "cells": [
  {
   "cell_type": "markdown",
   "id": "44d64ebf-f0ca-4096-ad2b-4347ae5065f1",
   "metadata": {},
   "source": [
    "# Load data"
   ]
  },
  {
   "cell_type": "code",
   "execution_count": 1,
   "id": "d83499ca-d22e-4bd0-83e0-1ca3abb98f52",
   "metadata": {},
   "outputs": [
    {
     "name": "stdout",
     "output_type": "stream",
     "text": [
      "DatasetDict({\n",
      "    train: Dataset({\n",
      "        features: ['doc_num', 'source_text', 'label_text', 'elaboration_sentence', 'contextual_specificity_rating'],\n",
      "        num_rows: 1049\n",
      "    })\n",
      "    validation: Dataset({\n",
      "        features: ['doc_num', 'source_text', 'label_text', 'elaboration_sentence', 'contextual_specificity_rating'],\n",
      "        num_rows: 134\n",
      "    })\n",
      "    test: Dataset({\n",
      "        features: ['doc_num', 'source_text', 'label_text', 'elaboration_sentence', 'contextual_specificity_rating'],\n",
      "        num_rows: 116\n",
      "    })\n",
      "})\n"
     ]
    }
   ],
   "source": [
    "from datasets import load_dataset\n",
    "import os\n",
    "\n",
    "data_path = \"../data/elaborations\"\n",
    "\n",
    "data_files_c2s = {\n",
    "    'train': os.path.join(data_path,\"train\",\"train_ds_c2s.csv\"),      \n",
    "    'validation': os.path.join(data_path,\"validation\",\"valid_ds_c2s.csv\"),  \n",
    "    'test': os.path.join(data_path,\"test\",\"test_ds_c2s.csv\")         \n",
    "}\n",
    "\n",
    "data_files_c2s_masked = {\n",
    "    'train': os.path.join(data_path,\"train\",\"train_ds_c2s_masked_llama.csv\"),      \n",
    "    'validation': os.path.join(data_path,\"validation\",\"valid_ds_c2s_masked_llama.csv\"),  \n",
    "    'test': os.path.join(data_path,\"test\",\"test_ds_c2s_masked_llama.csv\")         \n",
    "}\n",
    "\n",
    "data_files_c2sp = {\n",
    "    'train': os.path.join(data_path,\"train\",\"train_ds_c2sp.csv\"),      \n",
    "    'validation': os.path.join(data_path,\"validation\",\"valid_ds_c2sp.csv\"),  \n",
    "    'test': os.path.join(data_path,\"test\",\"test_ds_c2sp.csv\")         \n",
    "}\n",
    "\n",
    "data_files_c2sp_masked = {\n",
    "    'train': os.path.join(data_path,\"train\",\"train_ds_c2sp_masked_llama.csv\"),      \n",
    "    'validation': os.path.join(data_path,\"validation\",\"valid_ds_c2sp_masked_llama.csv\"),  \n",
    "    'test': os.path.join(data_path,\"test\",\"test_ds_c2sp_masked_llama.csv\")         \n",
    "}\n",
    "\n",
    "data_files_c4s = {\n",
    "    'train': os.path.join(data_path,\"train\",\"train_ds_c4s.csv\"),      \n",
    "    'validation': os.path.join(data_path,\"validation\",\"valid_ds_c4s.csv\"),  \n",
    "    'test': os.path.join(data_path,\"test\",\"test_ds_c4s.csv\")         \n",
    "}\n",
    "\n",
    "data_files_c4s_masked = {\n",
    "    'train': os.path.join(data_path,\"train\",\"train_ds_c4s_masked_llama.csv\"),      \n",
    "    'validation': os.path.join(data_path,\"validation\",\"valid_ds_c4s_masked_llama.csv\"),  \n",
    "    'test': os.path.join(data_path,\"test\",\"test_ds_c4s_masked_llama.csv\")         \n",
    "}\n",
    "\n",
    "\n",
    "data_files_c2os = {\n",
    "    'train': os.path.join(data_path,\"train\",\"train_ds_c2os.csv\"),      \n",
    "    'validation': os.path.join(data_path,\"validation\",\"valid_ds_c2os.csv\"),  \n",
    "    'test': os.path.join(data_path,\"test\",\"test_ds_c2os.csv\")         \n",
    "}\n",
    "\n",
    "data_files_c2osp = {\n",
    "    'train': os.path.join(data_path,\"train\",\"train_ds_c2osp.csv\"),      \n",
    "    'validation': os.path.join(data_path,\"validation\",\"valid_ds_c2osp.csv\"),  \n",
    "    'test': os.path.join(data_path,\"test\",\"test_ds_c2osp.csv\")         \n",
    "}\n",
    "\n",
    "data_files_c4sp = {\n",
    "    'train': os.path.join(data_path,\"train\",\"train_ds_c4sp.csv\"),      \n",
    "    'validation': os.path.join(data_path,\"validation\",\"valid_ds_c4sp.csv\"),  \n",
    "    'test': os.path.join(data_path,\"test\",\"test_ds_c4sp.csv\")         \n",
    "}\n",
    "\n",
    "data_files_c4sp_masked = {\n",
    "    'train': os.path.join(data_path,\"train\",\"train_ds_c4sp_masked_llama.csv\"),      \n",
    "    'validation': os.path.join(data_path,\"validation\",\"valid_ds_c4sp_masked_llama.csv\"),  \n",
    "    'test': os.path.join(data_path,\"test\",\"test_ds_c4sp_masked_llama.csv\")         \n",
    "}\n",
    "\n",
    "data_files_c4osp = {\n",
    "    'train': os.path.join(data_path,\"train\",\"train_ds_c4osp.csv\"),      \n",
    "    'validation': os.path.join(data_path,\"validation\",\"valid_ds_c4osp.csv\"),  \n",
    "    'test': os.path.join(data_path,\"test\",\"test_ds_c4osp.csv\")         \n",
    "}\n",
    "\n",
    "dataset = load_dataset('csv', data_files=data_files_c4sp)\n",
    "print(dataset)"
   ]
  },
  {
   "cell_type": "markdown",
   "id": "e39018bf-ec83-4777-811d-5ede8d33edb8",
   "metadata": {
    "jp-MarkdownHeadingCollapsed": true
   },
   "source": [
    "## Check length"
   ]
  },
  {
   "cell_type": "code",
   "execution_count": 2,
   "id": "85613e5a-ac65-42c2-b1b9-9cef364c7d91",
   "metadata": {},
   "outputs": [
    {
     "data": {
      "text/plain": [
       "{'train': 0, 'validation': 0, 'test': 0}"
      ]
     },
     "execution_count": 2,
     "metadata": {},
     "output_type": "execute_result"
    }
   ],
   "source": [
    "def count_texts_over_word_limit(dataset_dict, column, word_limit=150):\n",
    "    word_count = {}\n",
    "\n",
    "    for split in dataset_dict:\n",
    "        dataset = dataset_dict[split]\n",
    "        count_over_limit = 0\n",
    "\n",
    "        for example in dataset:\n",
    "            try:\n",
    "                num_words = len(example[column].split()) # count on spaces\n",
    "                if num_words > word_limit:\n",
    "                    count_over_limit += 1\n",
    "            except AttributeError as e: \n",
    "                print(f\"Empty string in doc num: {example['doc_num']}\")\n",
    "                continue \n",
    "\n",
    "        word_count[split] = count_over_limit\n",
    "\n",
    "    return word_count\n",
    "\n",
    "count_texts_over_word_limit(dataset, column='source_text')"
   ]
  },
  {
   "cell_type": "markdown",
   "id": "f6b6b6f6-b982-4cf2-8b0a-d2357ed4ea9e",
   "metadata": {},
   "source": [
    "# Load the model"
   ]
  },
  {
   "cell_type": "code",
   "execution_count": 2,
   "id": "b8177410-3aa9-44fa-84f7-66c2d7f375a2",
   "metadata": {},
   "outputs": [
    {
     "data": {
      "application/vnd.jupyter.widget-view+json": {
       "model_id": "d6b3784c321f46f7917d399d2c965d62",
       "version_major": 2,
       "version_minor": 0
      },
      "text/plain": [
       "Loading checkpoint shards:   0%|          | 0/2 [00:00<?, ?it/s]"
      ]
     },
     "metadata": {},
     "output_type": "display_data"
    }
   ],
   "source": [
    "from transformers import AutoTokenizer, AutoModelForCausalLM\n",
    "import torch\n",
    "from trl import setup_chat_format\n",
    "from trl.extras.dataset_formatting import conversations_formatting_function\n",
    "torch.cuda.empty_cache()\n",
    "# LLAMA 3.2 3B\n",
    "tokenizer = AutoTokenizer.from_pretrained('meta-llama/Llama-3.2-3B', cache_dir=\"../models/llama/\") \n",
    "model =  AutoModelForCausalLM.from_pretrained('meta-llama/Llama-3.2-3B', cache_dir=\"../models/llama/\", device_map ={'':torch.cuda.current_device()})"
   ]
  },
  {
   "cell_type": "markdown",
   "id": "3b4e5a7c-0a25-4aaf-8ddd-766c971e7bd1",
   "metadata": {},
   "source": [
    "## Config"
   ]
  },
  {
   "cell_type": "code",
   "execution_count": 3,
   "id": "439adc8f-2034-4e70-a7da-4fac79e6691e",
   "metadata": {},
   "outputs": [],
   "source": [
    "# set the pad_token for llama 3.2 3B\n",
    "tokenizer.pad_token = tokenizer.eos_token #\"<|finetune_right_pad_id|>\" "
   ]
  },
  {
   "cell_type": "markdown",
   "id": "68174a11-1d6d-475d-98a6-ad7303ebbcde",
   "metadata": {
    "jp-MarkdownHeadingCollapsed": true
   },
   "source": [
    "# Tokenize dataset"
   ]
  },
  {
   "cell_type": "code",
   "execution_count": 4,
   "id": "77ed9772-8a71-45f4-ac10-f531c1b6784a",
   "metadata": {},
   "outputs": [],
   "source": [
    "import numpy as np\n",
    "\n",
    "def adjust_labels(example):\n",
    "    # replace padding token in labels with -100 for correct loss calculation\n",
    "    example[\"labels\"] = [\n",
    "        -100 if token == tokenizer.pad_token_id else token\n",
    "        for token in example[\"labels\"]\n",
    "    ]\n",
    "    return example\n",
    "\n",
    "def tokenize_func(examples):\n",
    "    # inputs\n",
    "    inputs = tokenizer(examples['source_text'], truncation=True, padding=\"max_length\",max_length=64) # padding=\"max_length\"\n",
    "    # labels\n",
    "    labels = tokenizer(examples['elaboration_sentence'],truncation=True,padding=\"max_length\", max_length=64)\n",
    "    # set the labels in the input dictionary\n",
    "    inputs['labels'] = labels['input_ids'] #labels['input_ids'] or np.array(labels['input_ids'])\n",
    "    return inputs\n",
    "\n",
    "tokenized_dataset = dataset.map(tokenize_func, batched=True)\n",
    "#tokenized_dataset = tokenized_dataset.map(adjust_labels, batched=False)\n",
    "#tokenized_dataset.set_format(type='torch', columns=['input_ids', 'attention_mask', 'labels'])"
   ]
  },
  {
   "cell_type": "markdown",
   "id": "ff061f50-1d17-4eff-838f-ade82933f610",
   "metadata": {},
   "source": [
    "# Fine-tune"
   ]
  },
  {
   "cell_type": "code",
   "execution_count": 3,
   "id": "e7f594d2-1c93-4b61-8e9c-26e32ab55216",
   "metadata": {},
   "outputs": [
    {
     "name": "stdout",
     "output_type": "stream",
     "text": [
      "Steps per epoch: 32\n",
      "Logging steps: 5\n"
     ]
    }
   ],
   "source": [
    "from model_utils import calculate_logging_steps\n",
    "steps_per_epoch, logging_steps = calculate_logging_steps(dataset, batch_size=32, logging_frequency=6)"
   ]
  },
  {
   "cell_type": "markdown",
   "id": "17183c49-28a5-40cd-84bf-8c8003de13c7",
   "metadata": {
    "jp-MarkdownHeadingCollapsed": true
   },
   "source": [
    "## No instruct"
   ]
  },
  {
   "cell_type": "code",
   "execution_count": 6,
   "id": "84a6effc-6c08-4385-969f-e0aa6714a214",
   "metadata": {},
   "outputs": [],
   "source": [
    "from trl import SFTConfig, SFTTrainer\n",
    "from transformers import DataCollatorForLanguageModeling\n",
    "\n",
    "\n",
    "model.train()\n",
    "\n",
    "# data collator\n",
    "data_collator = DataCollatorForLanguageModeling(\n",
    "    tokenizer=tokenizer, \n",
    "    mlm=False,  # no masked language modeling \n",
    ")\n",
    "\n",
    "logs_dir = \"../models/llama/llama3.2-news-ft/logs/logs-c2s\"\n",
    "\n",
    "training_args = SFTConfig(\n",
    "    output_dir=\"../models/llama/llama3.2-news-ft/results/results-c2s\",\n",
    "    max_seq_length= 64,\n",
    "    eval_strategy=\"epoch\",  \n",
    "    save_strategy=\"no\",  \n",
    "    logging_strategy=\"steps\",  \n",
    "    logging_steps=6, \n",
    "    learning_rate=1e-6,  \n",
    "    per_device_train_batch_size=32, \n",
    "    per_device_eval_batch_size=32,  \n",
    "    num_train_epochs=3,  \n",
    "    weight_decay=0.01,  \n",
    "    warmup_steps=2,  \n",
    "    optim=\"paged_adamw_8bit\",  \n",
    "    fp16=True,  \n",
    "    logging_dir=logs_dir, \n",
    "    push_to_hub=False,\n",
    "    group_by_length=True,  \n",
    "    save_total_limit=0,\n",
    "\n",
    ")\n",
    "\n",
    "trainer = SFTTrainer(\n",
    "    model,\n",
    "    train_dataset=tokenized_dataset[\"train\"],  \n",
    "    eval_dataset=tokenized_dataset[\"validation\"],  \n",
    "    args=training_args,   \n",
    "    data_collator=data_collator, \n",
    ")\n",
    "\n",
    "model.config.use_cache = False"
   ]
  },
  {
   "cell_type": "code",
   "execution_count": 7,
   "id": "81556570-fdb3-40d6-a0bb-87ade6c4d334",
   "metadata": {},
   "outputs": [
    {
     "data": {
      "text/html": [
       "\n",
       "    <div>\n",
       "      \n",
       "      <progress value='99' max='99' style='width:300px; height:20px; vertical-align: middle;'></progress>\n",
       "      [99/99 00:29, Epoch 3/3]\n",
       "    </div>\n",
       "    <table border=\"1\" class=\"dataframe\">\n",
       "  <thead>\n",
       " <tr style=\"text-align: left;\">\n",
       "      <th>Epoch</th>\n",
       "      <th>Training Loss</th>\n",
       "      <th>Validation Loss</th>\n",
       "    </tr>\n",
       "  </thead>\n",
       "  <tbody>\n",
       "    <tr>\n",
       "      <td>1</td>\n",
       "      <td>2.960200</td>\n",
       "      <td>3.143848</td>\n",
       "    </tr>\n",
       "    <tr>\n",
       "      <td>2</td>\n",
       "      <td>2.700500</td>\n",
       "      <td>3.052567</td>\n",
       "    </tr>\n",
       "    <tr>\n",
       "      <td>3</td>\n",
       "      <td>2.559600</td>\n",
       "      <td>3.032315</td>\n",
       "    </tr>\n",
       "  </tbody>\n",
       "</table><p>"
      ],
      "text/plain": [
       "<IPython.core.display.HTML object>"
      ]
     },
     "metadata": {},
     "output_type": "display_data"
    },
    {
     "name": "stderr",
     "output_type": "stream",
     "text": [
      "Trainer.tokenizer is now deprecated. You should use Trainer.processing_class instead.\n",
      "Trainer.tokenizer is now deprecated. You should use Trainer.processing_class instead.\n",
      "Trainer.tokenizer is now deprecated. You should use Trainer.processing_class instead.\n",
      "Trainer.tokenizer is now deprecated. You should use Trainer.processing_class instead.\n",
      "Trainer.tokenizer is now deprecated. You should use Trainer.processing_class instead.\n",
      "Trainer.tokenizer is now deprecated. You should use Trainer.processing_class instead.\n"
     ]
    },
    {
     "data": {
      "text/plain": [
       "TrainOutput(global_step=99, training_loss=2.8347623805807096, metrics={'train_runtime': 30.1256, 'train_samples_per_second': 104.164, 'train_steps_per_second': 3.286, 'total_flos': 3396568057380864.0, 'train_loss': 2.8347623805807096, 'epoch': 3.0})"
      ]
     },
     "execution_count": 7,
     "metadata": {},
     "output_type": "execute_result"
    }
   ],
   "source": [
    "trainer.train()"
   ]
  },
  {
   "cell_type": "markdown",
   "id": "fdfe754e-75b0-4ddd-860c-7222aeb9b21d",
   "metadata": {
    "jp-MarkdownHeadingCollapsed": true
   },
   "source": [
    "### Learning curve"
   ]
  },
  {
   "cell_type": "code",
   "execution_count": 8,
   "id": "dd833154-5ed1-4d7a-834d-bac508d1abac",
   "metadata": {},
   "outputs": [
    {
     "data": {
      "image/png": "[encoded data removed]",
      "text/plain": [
       "<Figure size 1000x500 with 1 Axes>"
      ]
     },
     "metadata": {},
     "output_type": "display_data"
    }
   ],
   "source": [
    "from model_utils import plot_loss_curves\n",
    "plot_loss_curves(trainer)"
   ]
  },
  {
   "cell_type": "markdown",
   "id": "59885301-9d9a-403c-bcdb-b5bc77c803ef",
   "metadata": {},
   "source": [
    "## Instruct\n",
    "\n",
    "https://huggingface.co/docs/trl/en/sft_trainer"
   ]
  },
  {
   "cell_type": "code",
   "execution_count": 3,
   "id": "d9062c07-ee30-4b0b-bbd9-98e2f64f55c9",
   "metadata": {},
   "outputs": [],
   "source": [
    "ZERO_SHOT_SYSTEM_PROMPT = \"\"\"You are an expert in generating exactly one short explanatory sentence (made up of around 10 words or fewer) in a plain English for a given context text. \n",
    "Your task is to provide additional information related to the complex statement, term, action, or concept that is semantically missing from the context text.\n",
    "You may do this by offering a definition, examples, background knowledge, general statements, a description of the flow of actions, or an explanation of the reason or result of the target action.\n",
    "The tone should be plain and simple!\n",
    "Return only ONE short concise explanatory sentence!\n",
    "\"\"\""
   ]
  },
  {
   "cell_type": "code",
   "execution_count": 3,
   "id": "46f51472-05c5-43e7-b6d9-83576a1d732f",
   "metadata": {},
   "outputs": [],
   "source": [
    "# text with elaboration sentence masked -> elaboration sentence\n",
    "SYSTEM_PROMPT_MASKED = \"\"\"You are an expert in generating exactly one short explanatory sentence (made up of around 10 words or fewer) in a plain English for a given context text. \n",
    "Your task is to provide additional information related to the complex statement, term, action, or concept that is semantically missing from the context text.\n",
    "You may do this by offering a definition, examples, background knowledge, general statements, a description of the flow of actions, or an explanation of the reason or result of the target action.\n",
    "Your task is to replace the `<explanatory sentence>` tag in the provided text with the explanation sentence you generate.\n",
    "Return only the explanation sentence itself, without any tags, formatting, or additional text.\n",
    "The tone should be plain and simple!\n",
    "Return only ONE short concise explanatory sentence!\n",
    "\"\"\""
   ]
  },
  {
   "cell_type": "code",
   "execution_count": 12,
   "id": "f7e6539b-9475-40c9-aed3-e9b54584a002",
   "metadata": {},
   "outputs": [],
   "source": [
    "# text with elaboration sentence masked -> text with filled-out elaboration sentence\n",
    "SYSTEM_PROMPT_MASKED2 = \"\"\"You are an expert in generating exactly one short explanatory sentence (made up of around 10 words or fewer) in a plain English for a given context text. \n",
    "Your task is to replace the `<explanatory sentence>` tag in the provided text with ONE concise explanation sentence that adds relevant information to clarify a complex statement, term, action, or concept that is semantically missing from the text.\n",
    "The tone should be plain and simple!\n",
    "\"\"\""
   ]
  },
  {
   "cell_type": "code",
   "execution_count": 11,
   "id": "26cc3e47-a547-491a-aca8-b01476db1eb4",
   "metadata": {},
   "outputs": [],
   "source": [
    "#You may do this by offering a definition, examples, background knowledge, general statements, a description of the flow of actions, or an explanation of the reason or result of the target action.\n"
   ]
  },
  {
   "cell_type": "code",
   "execution_count": 3,
   "id": "0c9262f8-8fd8-4e81-a050-03f96a988a8f",
   "metadata": {},
   "outputs": [],
   "source": [
    "SYSTEM_PROMPT_SHORT = \"\"\"You are an expert in generating exactly ONE short concise explanation sentence (made up of around 10 words or fewer) in a plain English for a given context text. \n",
    "The tone should be plain and simple!\"\"\""
   ]
  },
  {
   "cell_type": "markdown",
   "id": "3bb3f940-0400-4372-9c67-b9e89cb081e9",
   "metadata": {},
   "source": [
    "### ChatMLFormat "
   ]
  },
  {
   "cell_type": "code",
   "execution_count": 4,
   "id": "92029d21-5798-42d5-bb40-9adc2af65c3a",
   "metadata": {},
   "outputs": [
    {
     "name": "stderr",
     "output_type": "stream",
     "text": [
      "The new embeddings will be initialized from a multivariate normal distribution that has old embeddings' mean and covariance. As described in this article: https://nlp.stanford.edu/~johnhew/vocab-expansion.html. To disable this, use `mean_resizing=False`\n"
     ]
    }
   ],
   "source": [
    "model, tokenizer = setup_chat_format(model, tokenizer)\n",
    "formatting_func = conversations_formatting_function(tokenizer, \"messages\")"
   ]
  },
  {
   "cell_type": "code",
   "execution_count": 30,
   "id": "9d453b47-f98c-4955-aa56-fe15c877bcac",
   "metadata": {},
   "outputs": [
    {
     "name": "stdout",
     "output_type": "stream",
     "text": [
      "<|im_start|>system\n",
      "You are an expert in generating exactly one short explanatory sentence (made up of around 10 words or fewer) in a plain English for a given context text. \n",
      "Your task is to provide additional information related to the complex statement, term, action, or concept that is semantically missing from the context text.\n",
      "You may do this by offering a definition, examples, background knowledge, general statements, a description of the flow of actions, or an explanation of the reason or result of the target action.\n",
      "Your task is to replace the `<explanatory sentence>` tag in the provided text with the explanation sentence you generate.\n",
      "Return only the explanation sentence itself, without any tags, formatting, or additional text.\n",
      "The tone should be plain and simple!\n",
      "Return only ONE short concise explanatory sentence!\n",
      "<|im_end|>\n",
      "<|im_start|>user\n",
      "Context: A watermark is an image that can be seen in the paper when you hold it up to the light. Investigators say Kellogg tried to copy the watermark. <explanatory sentence> First he printed the front side of the money on one piece of paper. He printed the back of the bill on a separate sheet.<|im_end|>\n",
      "<|im_start|>assistant\n",
      "Here's how they say he did it.<|im_end|>\n",
      "\n"
     ]
    }
   ],
   "source": [
    "formatted_example = formatting_func(formatted_train_dataset[0])\n",
    "print(formatted_example)"
   ]
  },
  {
   "cell_type": "code",
   "execution_count": 10,
   "id": "0af7e840-2264-45ff-a5aa-e4c1698f0617",
   "metadata": {},
   "outputs": [
    {
     "data": {
      "text/plain": [
       "[{'content': 'You are an expert in generating exactly one short explanatory sentence (made up of around 10 words or fewer) in a plain English for a given context text. \\nYour task is to replace the `<explanatory sentence>` tag in the provided text with ONE concise explanation sentence that adds relevant information to clarify a complex statement, term, action, or concept that is semantically missing from the text.\\nYou may do this by offering a definition, examples, background knowledge, general statements, a description of the flow of actions, or an explanation of the reason or result of the target action.\\nThe tone should be plain and simple!\\n',\n",
       "  'role': 'system'},\n",
       " {'content': 'A watermark is an image that can be seen in the paper when you hold it up to the light. Investigators say Kellogg tried to copy the watermark. <explanatory sentence>',\n",
       "  'role': 'user'},\n",
       " {'content': \"A watermark is an image that can be seen in the paper when you hold it up to the light. Investigators say Kellogg tried to copy the watermark. Here's how they say he did it.\",\n",
       "  'role': 'assistant'}]"
      ]
     },
     "execution_count": 10,
     "metadata": {},
     "output_type": "execute_result"
    }
   ],
   "source": [
    "formatted_train_dataset[0][\"messages\"]"
   ]
  },
  {
   "cell_type": "code",
   "execution_count": 5,
   "id": "243b6ff8-4f7c-49ad-bdd9-4cfd7f8e7bd9",
   "metadata": {},
   "outputs": [
    {
     "data": {
      "application/vnd.jupyter.widget-view+json": {
       "model_id": "17802f95806c4b839d06c17ac7d16313",
       "version_major": 2,
       "version_minor": 0
      },
      "text/plain": [
       "Map:   0%|          | 0/1049 [00:00<?, ? examples/s]"
      ]
     },
     "metadata": {},
     "output_type": "display_data"
    },
    {
     "data": {
      "application/vnd.jupyter.widget-view+json": {
       "model_id": "5f561a60dbe24b59b2b8878219eaeb94",
       "version_major": 2,
       "version_minor": 0
      },
      "text/plain": [
       "Map:   0%|          | 0/134 [00:00<?, ? examples/s]"
      ]
     },
     "metadata": {},
     "output_type": "display_data"
    }
   ],
   "source": [
    "def format_example(example):\n",
    "    return {\n",
    "        \"messages\": [\n",
    "            {\"role\": \"system\", \"content\": SYSTEM_PROMPT_SHORT},\n",
    "            {\"role\": \"user\", \"content\": f\"{example['source_text']}\"}, # Context or Text\n",
    "            {\"role\": \"assistant\", \"content\":  f\"{example['elaboration_sentence']}\"}\n",
    "        ]\n",
    "    }\n",
    "\n",
    "def format_test_example(example):\n",
    "    return {\n",
    "        \"messages\": [\n",
    "            #{\"role\": \"system\", \"content\": SYSTEM_PROMPT_MASKED},\n",
    "            {\"role\": \"user\", \"content\": f\"{example['source_text']}\"},\n",
    "             {\"role\": \"assistant\", \"content\":\"\"}\n",
    "        ]\n",
    "    }\n",
    "\n",
    "formatted_train_dataset = dataset[\"train\"].map(format_example)\n",
    "formatted_validation_dataset = dataset[\"validation\"].map(format_example)\n",
    "formatted_test_dataset = dataset[\"test\"].map(format_test_example)"
   ]
  },
  {
   "cell_type": "code",
   "execution_count": 11,
   "id": "ba143790-1f66-4aa2-9056-ebbe482dd684",
   "metadata": {},
   "outputs": [
    {
     "name": "stdout",
     "output_type": "stream",
     "text": [
      "Mean length of messages: 52.296790594216716\n"
     ]
    }
   ],
   "source": [
    "def calculate_mean_message_length(dataset):\n",
    "    total_length = 0\n",
    "    message_count = 0\n",
    "\n",
    "    for entry in dataset:\n",
    "        messages = entry.get('messages', [])\n",
    "        for message in messages:\n",
    "            content = message.get('content', \"\")\n",
    "            total_length += len(content.split())  # Count words in the content\n",
    "            message_count += 1\n",
    "\n",
    "    return total_length / message_count if message_count > 0 else 0\n",
    "\n",
    "mean_length = calculate_mean_message_length(formatted_train_dataset)\n",
    "print(f\"Mean length of messages: {mean_length}\")"
   ]
  },
  {
   "cell_type": "markdown",
   "id": "e4a2e794-dcce-419c-aa59-f89be8377bd0",
   "metadata": {
    "jp-MarkdownHeadingCollapsed": true
   },
   "source": [
    "## Alpaca format"
   ]
  },
  {
   "cell_type": "code",
   "execution_count": 4,
   "id": "ec7701e4-1d26-4d38-8347-31ca1a235d0b",
   "metadata": {},
   "outputs": [],
   "source": [
    "# set the pad_token for llama 3.2 3B\n",
    "tokenizer.pad_token = tokenizer.eos_token"
   ]
  },
  {
   "cell_type": "code",
   "execution_count": 5,
   "id": "fb88a33f-34fe-4205-bbc8-78b0e64839d1",
   "metadata": {},
   "outputs": [],
   "source": [
    "alpaca_prompt = \"\"\"\n",
    "### Instruction:\n",
    "You are an expert in generating exactly one short explanatory sentence (made up of around 10 words or fewer) in a plain English for a given context text. \n",
    "Your task is to provide additional information related to the complex statement, term, action, or concept that is semantically missing from the context text.\n",
    "You may do this by offering a definition, examples, background knowledge, general statements, a description of the flow of actions, or an explanation of the reason or result of the target action.\n",
    "Your task is to replace the `<explanatory sentence>` tag in the provided text with the explanation sentence you generate.\n",
    "Return only the explanation sentence itself, without any tags, formatting, or additional text.\n",
    "The tone should be plain and simple!\n",
    "Return only ONE short concise explanatory sentence!\n",
    "\n",
    "### Context:\n",
    "{}\n",
    "\n",
    "### Explanatory sentence:\n",
    "{}\"\"\"\n",
    "\n",
    "response_template = \"### Explanatory sentence:\""
   ]
  },
  {
   "cell_type": "code",
   "execution_count": 6,
   "id": "42af8e4f-6fd8-47f6-a995-b04cb8d07357",
   "metadata": {
    "scrolled": true
   },
   "outputs": [],
   "source": [
    "EOS_TOKEN = tokenizer.eos_token \n",
    "def formatting_prompts_func(examples):\n",
    "    inputs = examples[\"source_text\"]\n",
    "    outputs = examples[\"elaboration_sentence\"]\n",
    "    texts = []\n",
    "    for context, output in zip(inputs, outputs):\n",
    "        # Must add EOS_TOKEN, otherwise your generation will go on forever!\n",
    "        text = alpaca_prompt.format(context, output) + EOS_TOKEN\n",
    "        texts.append(text)\n",
    "    return texts"
   ]
  },
  {
   "cell_type": "code",
   "execution_count": 29,
   "id": "32e974d0-080a-4019-8d34-d7d79af39fd5",
   "metadata": {},
   "outputs": [
    {
     "data": {
      "text/plain": [
       "\"\\n### Instruction:\\nYou are an expert in generating exactly one short explanatory sentence (made up of around 10 words or fewer) in a plain English for a given context text. \\nYour task is to provide additional information related to the complex statement, term, action, or concept that is semantically missing from the context text.\\nYou may do this by offering a definition, examples, background knowledge, general statements, a description of the flow of actions, or an explanation of the reason or result of the target action.\\nYour task is to replace the `<explanatory sentence>` tag in the provided text with the explanation sentence you generate.\\nReturn only the explanation sentence itself, without any tags, formatting, or additional text.\\nThe tone should be plain and simple!\\nReturn only ONE short concise explanatory sentence!\\n\\n### Context:\\nA watermark is an image that can be seen in the paper when you hold it up to the light. Investigators say Kellogg tried to copy the watermark. <explanatory sentence> First he printed the front side of the money on one piece of paper. He printed the back of the bill on a separate sheet.\\n\\n### Explanatory sentence:\\nHere's how they say he did it.<|end_of_text|>\""
      ]
     },
     "execution_count": 29,
     "metadata": {},
     "output_type": "execute_result"
    }
   ],
   "source": [
    "formatted_train_dataset[0][\"text\"]"
   ]
  },
  {
   "cell_type": "code",
   "execution_count": 32,
   "id": "c1ec31a2-511a-45b3-bc5d-04d52cf0df36",
   "metadata": {},
   "outputs": [
    {
     "data": {
      "application/vnd.jupyter.widget-view+json": {
       "model_id": "dc94704c199f4bba8d0587e43f375f41",
       "version_major": 2,
       "version_minor": 0
      },
      "text/plain": [
       "Map:   0%|          | 0/116 [00:00<?, ? examples/s]"
      ]
     },
     "metadata": {},
     "output_type": "display_data"
    }
   ],
   "source": [
    "test_alpaca_prompt = \"\"\"\n",
    "### Instruction:\n",
    "You are an expert in generating exactly one short explanatory sentence (made up of around 10 words or fewer) in a plain English for a given context text. \n",
    "Your task is to provide additional information related to the complex statement, term, action, or concept that is semantically missing from the context text.\n",
    "You may do this by offering a definition, examples, background knowledge, general statements, a description of the flow of actions, or an explanation of the reason or result of the target action.\n",
    "Your task is to replace the `<explanatory sentence>` tag in the provided text with the explanation sentence you generate.\n",
    "Return only the explanation sentence itself, without any tags, formatting, or additional text.\n",
    "The tone should be plain and simple!\n",
    "Return only ONE short concise explanatory sentence!\n",
    "\n",
    "### Context:\n",
    "{}\n",
    "\n",
    "### Explanatory sentence:\n",
    "\"\"\"\n",
    "\n",
    "def formatting_test_prompts_func(examples):\n",
    "    inputs = examples[\"source_text\"]\n",
    "    texts = []\n",
    "    for context in inputs:\n",
    "        # Must add EOS_TOKEN, otherwise your generation will go on forever!\n",
    "        text = test_alpaca_prompt.format(context) + EOS_TOKEN\n",
    "        texts.append(text)\n",
    "    return texts\n",
    "\n",
    "formatted_test_dataset = dataset[\"test\"].map(\n",
    "    lambda x: {\"text\": formatting_test_prompts_func(x)}, batched=True\n",
    ")"
   ]
  },
  {
   "cell_type": "markdown",
   "id": "82c7db52-f6f8-49dc-b352-0f19f86e0d3b",
   "metadata": {},
   "source": [
    "## Fine-tune"
   ]
  },
  {
   "cell_type": "code",
   "execution_count": 6,
   "id": "7291e105-6127-4f73-98ad-a35069277723",
   "metadata": {},
   "outputs": [
    {
     "data": {
      "application/vnd.jupyter.widget-view+json": {
       "model_id": "f32e8e65d66f40fbafb31afe538759e7",
       "version_major": 2,
       "version_minor": 0
      },
      "text/plain": [
       "Map:   0%|          | 0/1049 [00:00<?, ? examples/s]"
      ]
     },
     "metadata": {},
     "output_type": "display_data"
    },
    {
     "data": {
      "application/vnd.jupyter.widget-view+json": {
       "model_id": "542a01ef99d642cc919cbfde5468e695",
       "version_major": 2,
       "version_minor": 0
      },
      "text/plain": [
       "Map:   0%|          | 0/134 [00:00<?, ? examples/s]"
      ]
     },
     "metadata": {},
     "output_type": "display_data"
    }
   ],
   "source": [
    "from trl import SFTConfig, SFTTrainer, DataCollatorForCompletionOnlyLM\n",
    "from transformers import DataCollatorForLanguageModeling\n",
    "\n",
    "import os \n",
    "# disable parallelism warnings\n",
    "os.environ[\"TOKENIZERS_PARALLELISM\"] = \"false\"\n",
    "\n",
    "\n",
    "model.train()\n",
    "\n",
    "# data collator -> alpaca\n",
    "\"\"\"data_collator = DataCollatorForCompletionOnlyLM(\n",
    "    tokenizer=tokenizer, \n",
    "    mlm=False,  # no masked language modeling \n",
    "    response_template=response_template\n",
    ")\"\"\"\n",
    "\n",
    "logs_dir = \"../models/llama3.2-news-ft/logs/logs-c4sp-short\"\n",
    "\n",
    "training_args = SFTConfig(\n",
    "    output_dir=\"../models/llama3.2-news-ft/results/tmp\",\n",
    "    max_seq_length= 150,\n",
    "    eval_strategy=\"epoch\",  \n",
    "    save_strategy=\"no\",  \n",
    "    logging_strategy=\"steps\",  \n",
    "    logging_steps=6, \n",
    "    learning_rate=1e-6,  \n",
    "    per_device_train_batch_size=32, \n",
    "    per_device_eval_batch_size=32,  \n",
    "    #gradient_accumulation_steps=2,\n",
    "    num_train_epochs=3,  \n",
    "    weight_decay=0.01,  \n",
    "    warmup_steps=2,    \n",
    "    optim=\"paged_adamw_8bit\",  \n",
    "    fp16=True,  \n",
    "    logging_dir=logs_dir, \n",
    "    push_to_hub=False,\n",
    "    group_by_length=True,  \n",
    "    save_total_limit=0,\n",
    "    #load_best_model_at_end=True, \n",
    "    #metric_for_best_model=\"eval_loss\"\n",
    "\n",
    ")\n",
    "\n",
    "trainer = SFTTrainer(\n",
    "    model,\n",
    "    train_dataset= formatted_train_dataset, # dataset[\"train\"] -> alpaca\n",
    "    eval_dataset= formatted_validation_dataset, # dataset[\"validation\"] -> alpaca\n",
    "    args=training_args,   \n",
    "    formatting_func=formatting_func, # formatting_func -> chatML, formatting_prompts_func -> alpaca\n",
    "    #data_collator=data_collator, # for alpaca format\n",
    ")\n",
    "\n",
    "model.config.use_cache = False"
   ]
  },
  {
   "cell_type": "code",
   "execution_count": 7,
   "id": "f984bbd9-d860-4a70-972e-fa1823da0125",
   "metadata": {},
   "outputs": [
    {
     "data": {
      "text/html": [
       "\n",
       "    <div>\n",
       "      \n",
       "      <progress value='99' max='99' style='width:300px; height:20px; vertical-align: middle;'></progress>\n",
       "      [99/99 00:48, Epoch 3/3]\n",
       "    </div>\n",
       "    <table border=\"1\" class=\"dataframe\">\n",
       "  <thead>\n",
       " <tr style=\"text-align: left;\">\n",
       "      <th>Epoch</th>\n",
       "      <th>Training Loss</th>\n",
       "      <th>Validation Loss</th>\n",
       "    </tr>\n",
       "  </thead>\n",
       "  <tbody>\n",
       "    <tr>\n",
       "      <td>1</td>\n",
       "      <td>1.504100</td>\n",
       "      <td>1.490372</td>\n",
       "    </tr>\n",
       "    <tr>\n",
       "      <td>2</td>\n",
       "      <td>1.400100</td>\n",
       "      <td>1.455877</td>\n",
       "    </tr>\n",
       "    <tr>\n",
       "      <td>3</td>\n",
       "      <td>1.352500</td>\n",
       "      <td>1.450591</td>\n",
       "    </tr>\n",
       "  </tbody>\n",
       "</table><p>"
      ],
      "text/plain": [
       "<IPython.core.display.HTML object>"
      ]
     },
     "metadata": {},
     "output_type": "display_data"
    },
    {
     "name": "stderr",
     "output_type": "stream",
     "text": [
      "Trainer.tokenizer is now deprecated. You should use Trainer.processing_class instead.\n",
      "Trainer.tokenizer is now deprecated. You should use Trainer.processing_class instead.\n",
      "Trainer.tokenizer is now deprecated. You should use Trainer.processing_class instead.\n",
      "Trainer.tokenizer is now deprecated. You should use Trainer.processing_class instead.\n",
      "Trainer.tokenizer is now deprecated. You should use Trainer.processing_class instead.\n",
      "Trainer.tokenizer is now deprecated. You should use Trainer.processing_class instead.\n"
     ]
    },
    {
     "data": {
      "text/plain": [
       "TrainOutput(global_step=99, training_loss=1.576335492760244, metrics={'train_runtime': 50.7477, 'train_samples_per_second': 62.013, 'train_steps_per_second': 1.951, 'total_flos': 7983538238361600.0, 'train_loss': 1.576335492760244, 'epoch': 3.0})"
      ]
     },
     "execution_count": 7,
     "metadata": {},
     "output_type": "execute_result"
    }
   ],
   "source": [
    "trainer.train()"
   ]
  },
  {
   "cell_type": "markdown",
   "id": "acd49367-f281-4024-b9b7-eda484c13887",
   "metadata": {
    "jp-MarkdownHeadingCollapsed": true
   },
   "source": [
    "### Learning curve"
   ]
  },
  {
   "cell_type": "code",
   "execution_count": 8,
   "id": "43f16466-4bbd-4909-bd5a-77d849ec9bbe",
   "metadata": {},
   "outputs": [
    {
     "data": {
      "image/png": "[encoded data removed]",
      "text/plain": [
       "<Figure size 1000x500 with 1 Axes>"
      ]
     },
     "metadata": {},
     "output_type": "display_data"
    }
   ],
   "source": [
    "from model_utils import plot_loss_curves\n",
    "plot_loss_curves(trainer)"
   ]
  },
  {
   "cell_type": "markdown",
   "id": "3b504528-9cca-4a9f-b648-2d1497c8df24",
   "metadata": {
    "jp-MarkdownHeadingCollapsed": true
   },
   "source": [
    "# Save the model"
   ]
  },
  {
   "cell_type": "code",
   "execution_count": 40,
   "id": "d80180bb-8376-4d6f-a9e8-247b05dce451",
   "metadata": {},
   "outputs": [],
   "source": [
    "trainer.save_model(\"../models/llama/llama-news-ft/llama-c2s-masked-label-text-out\")"
   ]
  },
  {
   "cell_type": "markdown",
   "id": "22fc09ce-cea6-42ac-923f-ee4439ef2098",
   "metadata": {
    "jp-MarkdownHeadingCollapsed": true
   },
   "source": [
    "# Clean-up"
   ]
  },
  {
   "cell_type": "code",
   "execution_count": 18,
   "id": "9d8114a3-d6ac-4018-b525-9adfffcd6f0d",
   "metadata": {},
   "outputs": [
    {
     "name": "stdout",
     "output_type": "stream",
     "text": [
      "Directory does not exist: ../models/llama3.2-news-ft/logs/logs-c2osp\n"
     ]
    }
   ],
   "source": [
    "from model_utils import clear_directory\n",
    "import torch\n",
    "\n",
    "torch.cuda.empty_cache()\n",
    "del model, trainer, tokenizer, data_collator\n",
    "clear_directory(logs_dir)"
   ]
  },
  {
   "cell_type": "markdown",
   "id": "d14720cf-289f-4966-a7fe-fb7c44cba331",
   "metadata": {},
   "source": [
    "# Generate predictions\n",
    "\n",
    "https://github.com/NielsRogge/Transformers-Tutorials/blob/master/Mistral/Supervised_fine_tuning_(SFT)_of_an_LLM_using_Hugging_Face_tooling.ipynb"
   ]
  },
  {
   "cell_type": "markdown",
   "id": "2dbf09a9-2254-4e79-95cb-99fd71423fe7",
   "metadata": {
    "jp-MarkdownHeadingCollapsed": true
   },
   "source": [
    "## Load saved model"
   ]
  },
  {
   "cell_type": "code",
   "execution_count": 6,
   "id": "6da2b42e-cc84-4c46-854c-03d93c65f1bd",
   "metadata": {},
   "outputs": [
    {
     "data": {
      "application/vnd.jupyter.widget-view+json": {
       "model_id": "0c2fa2b830fe4feaac0977a1d816c1c8",
       "version_major": 2,
       "version_minor": 0
      },
      "text/plain": [
       "Loading checkpoint shards:   0%|          | 0/3 [00:00<?, ?it/s]"
      ]
     },
     "metadata": {},
     "output_type": "display_data"
    }
   ],
   "source": [
    "from transformers import AutoTokenizer, AutoModelForCausalLM\n",
    "import torch\n",
    "\n",
    "saved_model = AutoModelForCausalLM.from_pretrained(\"../models/llama/llama-news-ft/llama-c2s-masked-label-text-out\")\n",
    "saved_tokenizer = AutoTokenizer.from_pretrained(\"../models/llama/llama-news-ft/llama-c2s-masked-label-text-out\")"
   ]
  },
  {
   "cell_type": "code",
   "execution_count": 7,
   "id": "d9df03f8-0daf-4667-b84f-fdbdb51235eb",
   "metadata": {},
   "outputs": [],
   "source": [
    "import os \n",
    "# disable parallelism warnings\n",
    "os.environ[\"TOKENIZERS_PARALLELISM\"] = \"false\"\n",
    "model = saved_model\n",
    "tokenizer = saved_tokenizer"
   ]
  },
  {
   "cell_type": "code",
   "execution_count": 8,
   "id": "cf8eefee-d1d1-491d-9a25-3c6537224d1e",
   "metadata": {},
   "outputs": [],
   "source": [
    "model, tokenizer = setup_chat_format(model, tokenizer)\n",
    "formatting_func = conversations_formatting_function(tokenizer, \"messages\")"
   ]
  },
  {
   "cell_type": "markdown",
   "id": "f5ded004-8ee1-4a7c-982b-9e3c8133ab47",
   "metadata": {},
   "source": [
    "## Example"
   ]
  },
  {
   "cell_type": "code",
   "execution_count": 8,
   "id": "2b0b34c5-94cf-4f1e-97ee-0f4345f78b5f",
   "metadata": {},
   "outputs": [],
   "source": [
    "from transformers import pipeline, StoppingCriteria, StoppingCriteriaList\n",
    "import torch\n",
    "\n",
    "class RefinedEndSentenceStoppingCriteria(StoppingCriteria):\n",
    "    def __init__(self, tokenizer, sentence_end_tokens):\n",
    "        super().__init__()\n",
    "        self.tokenizer = tokenizer\n",
    "        self.sentence_end_token_ids = [\n",
    "            self.tokenizer.convert_tokens_to_ids(token) for token in sentence_end_tokens\n",
    "        ]\n",
    "        self.eos_token_id = tokenizer.eos_token_id  # Include eos_token_id\n",
    "\n",
    "    def is_valid_stop(self, input_ids):\n",
    "        # Get the last token and the one before it\n",
    "        if len(input_ids[0]) < 2:\n",
    "            return False  # Not enough tokens to decide\n",
    "        last_token_id = input_ids[0, -1].item()\n",
    "        second_last_token_id = input_ids[0, -2].item()\n",
    "\n",
    "        # Decode tokens to check context\n",
    "        last_token = self.tokenizer.decode([last_token_id])\n",
    "        second_last_token = self.tokenizer.decode([second_last_token_id])\n",
    "\n",
    "        # Stop if it's a sentence-ending token and not part of an abbreviation\n",
    "        if (\n",
    "            last_token in [\".\", \"!\", \"?\"]  # Check if it's a sentence-ending token\n",
    "            and len(second_last_token) > 1  # Ensure not part of an abbreviation\n",
    "            and not second_last_token.isupper()  # Ensure it's not \"U.S.\" or similar\n",
    "        ):\n",
    "            return True\n",
    "\n",
    "        # Include end-of-sequence token\n",
    "        return last_token_id == self.eos_token_id\n",
    "\n",
    "    def __call__(self, input_ids, scores, **kwargs):\n",
    "        return self.is_valid_stop(input_ids)\n",
    "\n",
    "\n",
    "sentence_end_tokens = [\".\",\"\\n\",\"!\", \"?\"]\n",
    "stopping_criteria = StoppingCriteriaList([RefinedEndSentenceStoppingCriteria(tokenizer, sentence_end_tokens)])"
   ]
  },
  {
   "cell_type": "code",
   "execution_count": 38,
   "id": "59f5ea08-db7e-41f7-9e92-42c9380ed826",
   "metadata": {},
   "outputs": [],
   "source": [
    "from transformers import pipeline, StoppingCriteria, StoppingCriteriaList\n",
    "import torch\n",
    "\n",
    "class EndSentenceStoppingCriteria(StoppingCriteria):\n",
    "    def __init__(self, tokenizer, sentence_end_tokens):\n",
    "        self.tokenizer = tokenizer\n",
    "        self.sentence_end_tokens = sentence_end_tokens\n",
    "        self.eos_token_id = tokenizer.eos_token_id\n",
    "\n",
    "    def __call__(self, input_ids, scores, **kwargs):\n",
    "        decoded_text = self.tokenizer.decode(input_ids[0], skip_special_tokens=True)\n",
    "        return any(decoded_text.endswith(token) for token in self.sentence_end_tokens)\n",
    "\n",
    "sentence_end_tokens = [\"\\n\",\"!\", \"?\"]\n",
    "stopping_criteria = StoppingCriteriaList([EndSentenceStoppingCriteria(tokenizer, sentence_end_tokens)])"
   ]
  },
  {
   "cell_type": "markdown",
   "id": "354df40a-c696-44c1-819f-89545b0c13ce",
   "metadata": {
    "jp-MarkdownHeadingCollapsed": true
   },
   "source": [
    "### Pipeline"
   ]
  },
  {
   "cell_type": "code",
   "execution_count": null,
   "id": "6a47dba4-ac52-410c-997c-66784aa26c14",
   "metadata": {
    "scrolled": true
   },
   "outputs": [],
   "source": [
    "from transformers import pipeline\n",
    "\n",
    "device = torch.device(\"cuda\" if torch.cuda.is_available() else \"cpu\")\n",
    "model.to(device)\n",
    "model.eval()\n",
    "\n",
    "generator = pipeline(\n",
    "        \"text-generation\",\n",
    "        model=model,\n",
    "        tokenizer=tokenizer,\n",
    "        use_cache=True,\n",
    "        device_map={'':torch.cuda.current_device()},\n",
    "        max_new_tokens=64, # 32 - for elaboration only generation\n",
    "        min_length = 16,\n",
    "        do_sample=False, # for greedy decoding\n",
    "        temperature=None,\n",
    "        top_p=None,\n",
    "        return_full_text=False,\n",
    "        no_repeat_ngram_size=3,\n",
    "        num_return_sequences=1,\n",
    "        eos_token_id=tokenizer.eos_token_id,\n",
    "        pad_token_id=tokenizer.eos_token_id\n",
    "        )"
   ]
  },
  {
   "cell_type": "code",
   "execution_count": 39,
   "id": "041d8bce-25fd-4dc7-b965-0f1c977ed4ea",
   "metadata": {},
   "outputs": [
    {
     "name": "stdout",
     "output_type": "stream",
     "text": [
      "New companies have come that need skilled workers with more education. New Haven youth want those jobs, but they do not have the education or the skills. Many do not have the money to get the training they need.\n"
     ]
    }
   ],
   "source": [
    "print(dataset[\"test\"][0]['label_text'])"
   ]
  },
  {
   "cell_type": "code",
   "execution_count": 60,
   "id": "0b7549ee-51af-4317-aa2a-a5c45055f196",
   "metadata": {},
   "outputs": [
    {
     "data": {
      "text/plain": [
       "[{'content': 'New companies have come that need skilled workers with more education. New Haven youth want those jobs, but they do not have the education or the skills. <explanatory sentence>',\n",
       "  'role': 'user'}]"
      ]
     },
     "execution_count": 60,
     "metadata": {},
     "output_type": "execute_result"
    }
   ],
   "source": [
    "formatted_test_dataset[0][\"messages\"]"
   ]
  },
  {
   "cell_type": "code",
   "execution_count": 59,
   "id": "350ce14b-d14a-4f1f-be87-b3566e1144a2",
   "metadata": {},
   "outputs": [
    {
     "data": {
      "text/plain": [
       "[{'generated_text': 'The new companies need skilled employees with more training. New York youth want these jobs, and they do have the training and the skills.\\n<explanational sentence>with\\nThe companies need employees with higher education. The New York youths have the higher education.\\n<concluding sentence>to\\nThe New York companies need'}]"
      ]
     },
     "execution_count": 59,
     "metadata": {},
     "output_type": "execute_result"
    }
   ],
   "source": [
    "generator(formatted_test_dataset[0][\"messages\"])"
   ]
  },
  {
   "cell_type": "code",
   "execution_count": 58,
   "id": "2d2d4a2c-10d0-4ca9-a7fd-022a52772885",
   "metadata": {},
   "outputs": [
    {
     "data": {
      "text/plain": [
       "[{'generated_text': 'New Haven youth need more education and skills to get those jobs.\\nThe city of New Haven has a large population of youth who are not in school or working. They need jobs, and they need education. <concluding sentence>1\\nNew York City has a lot of youth that are not working or in'}]"
      ]
     },
     "execution_count": 58,
     "metadata": {},
     "output_type": "execute_result"
    }
   ],
   "source": [
    "generator(formatting_func(formatted_test_dataset[0]))#,stopping_criteria=stopping_criteria)"
   ]
  },
  {
   "cell_type": "code",
   "execution_count": 20,
   "id": "77b51d0d-3592-412d-913d-9500922f5d47",
   "metadata": {},
   "outputs": [
    {
     "name": "stdout",
     "output_type": "stream",
     "text": [
      "Context:  And his wife, Maria, was inspired to get her GED. The general educational development (GED) is equal to a high school diploma. Benito's path is more uncertain. He has not yet registered at the adult school. He and others like him are missing a key requirement \" a high school diploma. And his wife, Maria, was inspired to get her GED. Benito's path is more uncertain. He has yet to register at the adult school.\n",
      "\n",
      "Elaboration:  It is for adults who were unable to finish high school.\n"
     ]
    }
   ],
   "source": [
    "print(\"Context: \",formatted_test_dataset[5]['source_text'],end=\"\\n\\n\")\n",
    "print(\"Elaboration: \",formatted_test_dataset[5]['elaboration_sentence'] )"
   ]
  },
  {
   "cell_type": "markdown",
   "id": "7c76997f-f044-4050-99fa-668f6fcfcc17",
   "metadata": {},
   "source": [
    "### Generate "
   ]
  },
  {
   "cell_type": "code",
   "execution_count": 9,
   "id": "fa59c45b-7f84-441a-825b-9f3a3d493514",
   "metadata": {},
   "outputs": [],
   "source": [
    "def extract_assistant_response(conversation, keyword=\"assistant\"):\n",
    "    \"\"\"\n",
    "    Extracts the response under the given keyword from a conversation.\n",
    "    \"\"\"\n",
    "    # split the conversation by lines\n",
    "    lines = conversation.strip().split(\"\\n\")\n",
    "    # iterate over the lines to find the assistant's response\n",
    "    for i, line in enumerate(lines):\n",
    "        if line == keyword:\n",
    "            if i + 1 < len(lines):\n",
    "                return \" \".join(lines[(i + 2):])\n",
    "    \n",
    "    # an empty string if no response is found\n",
    "    return \"\""
   ]
  },
  {
   "cell_type": "code",
   "execution_count": 10,
   "id": "10f646f1-8a75-425f-a0fe-c45cd37ade50",
   "metadata": {},
   "outputs": [
    {
     "name": "stdout",
     "output_type": "stream",
     "text": [
      "user\n",
      "The shooting set off nearly nightly protests and violence. The black community felt that Brown wouldn't have been killed if he was white. They introduced themselves to police and city officials. Late that night, they met with Brown's family.\n",
      "assistant\n",
      "\n",
      "The black community feels that Brown would not have been murdered if he were white.\n",
      "Extracted Response: The black community feels that Brown would not have been murdered if he were white.\n"
     ]
    }
   ],
   "source": [
    "import torch\n",
    "import random \n",
    "\n",
    "device = torch.device(\"cuda\" if torch.cuda.is_available() else \"cpu\")\n",
    "model.to(device)\n",
    "model.eval()\n",
    "\n",
    "example = random.choice(formatted_test_dataset)\n",
    "\n",
    "input_text = formatting_func(example)\n",
    "inputs = tokenizer(\n",
    "    input_text,\n",
    "    return_tensors=\"pt\",\n",
    "    padding=True,\n",
    "    truncation=True,\n",
    "    max_length=512  # Adjust max_length as needed\n",
    ").to(device)\n",
    "\n",
    "with torch.no_grad():\n",
    "    output_ids = model.generate(\n",
    "        input_ids=inputs[\"input_ids\"],\n",
    "        attention_mask=inputs[\"attention_mask\"],\n",
    "        max_new_tokens=32,  # 32 for elaboration-only generation\n",
    "        min_length=10,\n",
    "        do_sample=False,  # Greedy decoding\n",
    "        temperature=None,  # not used in greedy decoding\n",
    "        top_p=None,  # not used in greedy decoding\n",
    "        num_return_sequences=1,\n",
    "        no_repeat_ngram_size=3,\n",
    "        eos_token_id=tokenizer.eos_token_id,\n",
    "        pad_token_id=tokenizer.eos_token_id,\n",
    "        stopping_criteria=stopping_criteria\n",
    "    )\n",
    "\n",
    "generated_text = tokenizer.decode(output_ids[0], skip_special_tokens=True)\n",
    "print(generated_text)\n",
    "response = extract_assistant_response(generated_text)\n",
    "print(\"Extracted Response:\", response)"
   ]
  },
  {
   "cell_type": "markdown",
   "id": "ff7357a1-1764-4a16-bc66-2a0865bc0dae",
   "metadata": {},
   "source": [
    "## Generate predictions"
   ]
  },
  {
   "cell_type": "code",
   "execution_count": 10,
   "id": "6df5044b-d2e2-42f5-ac8a-1152449e425e",
   "metadata": {},
   "outputs": [
    {
     "data": {
      "application/vnd.jupyter.widget-view+json": {
       "model_id": "68aede94a3a14b96bbd4a918a67266f8",
       "version_major": 2,
       "version_minor": 0
      },
      "text/plain": [
       "  0%|          | 0/116 [00:00<?, ?it/s]"
      ]
     },
     "metadata": {},
     "output_type": "display_data"
    }
   ],
   "source": [
    "from tqdm.notebook import tqdm\n",
    "import pandas as pd\n",
    "\n",
    "device = torch.device(\"cuda\" if torch.cuda.is_available() else \"cpu\")\n",
    "model.to(device)\n",
    "model.eval()\n",
    "\n",
    "df_results = pd.DataFrame({\n",
    "    'source_text': dataset['test']['source_text'], \n",
    "    'elaboration_sentence': dataset['test']['elaboration_sentence'],\n",
    "    'pred_elaboration': \"\"\n",
    "})\n",
    "\n",
    "\n",
    "for idx, row in tqdm(df_results.iterrows(),total=len(df_results)):\n",
    "\n",
    "    input_text = formatting_func(formatted_test_dataset[idx])\n",
    "    inputs = tokenizer(\n",
    "        input_text,\n",
    "        return_tensors=\"pt\",\n",
    "        padding=True,\n",
    "        truncation=True,\n",
    "        max_length=512 \n",
    "    ).to(device)\n",
    "    \n",
    "    with torch.no_grad():\n",
    "        output_ids = model.generate(\n",
    "            input_ids=inputs[\"input_ids\"],\n",
    "            attention_mask=inputs[\"attention_mask\"],\n",
    "            max_new_tokens=32,  # 32 for elaboration-only generation\n",
    "            min_length=10,\n",
    "            do_sample=False,  # Greedy decoding\n",
    "            temperature=None,  # not used in greedy decoding\n",
    "            top_p=None,  # not used in greedy decoding\n",
    "            num_return_sequences=1,\n",
    "            no_repeat_ngram_size=3,\n",
    "            eos_token_id=tokenizer.eos_token_id,\n",
    "            pad_token_id=tokenizer.eos_token_id,\n",
    "            stopping_criteria=stopping_criteria\n",
    "        )\n",
    "    \n",
    "    generated_text = tokenizer.decode(output_ids[0], skip_special_tokens=True)\n",
    "    response = extract_assistant_response(generated_text)\n",
    "    df_results.at[idx,\"pred_elaboration\"] = response"
   ]
  },
  {
   "cell_type": "code",
   "execution_count": 11,
   "id": "bb61d2a8-da32-4fae-8c2e-ca7be03eee3d",
   "metadata": {},
   "outputs": [
    {
     "name": "stdout",
     "output_type": "stream",
     "text": [
      "NaNs:  0\n"
     ]
    }
   ],
   "source": [
    "print(\"NaNs: \", len(df_results[df_results[\"pred_elaboration\"]==\"\"]))"
   ]
  },
  {
   "cell_type": "markdown",
   "id": "45e08098-d61e-4c6c-9715-9a99695edb16",
   "metadata": {
    "jp-MarkdownHeadingCollapsed": true
   },
   "source": [
    "### Pipeline"
   ]
  },
  {
   "cell_type": "code",
   "execution_count": 32,
   "id": "6aa08f1b-cf94-4840-a058-2f07292fbb59",
   "metadata": {},
   "outputs": [
    {
     "data": {
      "application/vnd.jupyter.widget-view+json": {
       "model_id": "75e1abb3721444af8129855c45e9e514",
       "version_major": 2,
       "version_minor": 0
      },
      "text/plain": [
       "  0%|          | 0/116 [00:00<?, ?it/s]"
      ]
     },
     "metadata": {},
     "output_type": "display_data"
    }
   ],
   "source": [
    "from tqdm.notebook import tqdm\n",
    "import pandas as pd\n",
    "\n",
    "df_results = pd.DataFrame({\n",
    "    'source_text': dataset['test']['source_text'], \n",
    "    'elaboration_sentence': dataset['test']['label_text'],\n",
    "    'pred_elaboration': \"\"\n",
    "})\n",
    "\n",
    "\n",
    "for idx, row in tqdm(df_results.iterrows(),total=len(df_results)):\n",
    "    input_text = f\":{row['source_text']}\"#formatted_test_dataset[idx][\"text\"] #f\"### Context:{row['source_text']}\"\n",
    "    response = generator(input_text) #stopping_criteria=stopping_criteria)\n",
    "    df_results.at[idx,\"pred_elaboration\"] = response[0][\"generated_text\"]"
   ]
  },
  {
   "cell_type": "code",
   "execution_count": 38,
   "id": "913f903b-538b-4017-a4d9-8aa9c8a75854",
   "metadata": {},
   "outputs": [
    {
     "name": "stdout",
     "output_type": "stream",
     "text": [
      "NaNs:  0\n"
     ]
    }
   ],
   "source": [
    "print(\"NaNs: \", len(df_results[df_results[\"pred_elaboration\"]==\"\"]))"
   ]
  },
  {
   "cell_type": "markdown",
   "id": "195b9829-eb3b-4b08-b3bc-7cb61ef4707c",
   "metadata": {},
   "source": [
    "Fill NaNs"
   ]
  },
  {
   "cell_type": "code",
   "execution_count": 14,
   "id": "7c2fa46a-862d-4865-8df7-90dcf016ad68",
   "metadata": {},
   "outputs": [
    {
     "data": {
      "application/vnd.jupyter.widget-view+json": {
       "model_id": "77b14d2630a64ff1b4da6a8c03209b3e",
       "version_major": 2,
       "version_minor": 0
      },
      "text/plain": [
       "  0%|          | 0/116 [00:00<?, ?it/s]"
      ]
     },
     "metadata": {},
     "output_type": "display_data"
    }
   ],
   "source": [
    "for idx, row in tqdm(df_results.iterrows(),total=len(df_results)):\n",
    "    if row[\"pred_elaboration\"]==\"\":\n",
    "        input_text = f\"Context: {row['source_text']}\"\n",
    "        response = generator(input_text, stopping_criteria=stopping_criteria)\n",
    "        df_results.at[idx,\"pred_elaboration\"] = response[0][\"generated_text\"]"
   ]
  },
  {
   "cell_type": "markdown",
   "id": "ba68c018-360a-41dc-9877-4e52a5aa7d5f",
   "metadata": {},
   "source": [
    "## Save results"
   ]
  },
  {
   "cell_type": "code",
   "execution_count": 12,
   "id": "9116902d-037a-46ff-b69a-09b09b67be86",
   "metadata": {},
   "outputs": [
    {
     "data": {
      "text/html": [
       "<div>\n",
       "<style scoped>\n",
       "    .dataframe tbody tr th:only-of-type {\n",
       "        vertical-align: middle;\n",
       "    }\n",
       "\n",
       "    .dataframe tbody tr th {\n",
       "        vertical-align: top;\n",
       "    }\n",
       "\n",
       "    .dataframe thead th {\n",
       "        text-align: right;\n",
       "    }\n",
       "</style>\n",
       "<table border=\"1\" class=\"dataframe\">\n",
       "  <thead>\n",
       "    <tr style=\"text-align: right;\">\n",
       "      <th></th>\n",
       "      <th>source_text</th>\n",
       "      <th>elaboration_sentence</th>\n",
       "      <th>pred_elaboration</th>\n",
       "    </tr>\n",
       "  </thead>\n",
       "  <tbody>\n",
       "    <tr>\n",
       "      <th>0</th>\n",
       "      <td>They did not need special skills or a college ...</td>\n",
       "      <td>Many do not have the money to get the training...</td>\n",
       "      <td>They have to stay out of trouble.</td>\n",
       "    </tr>\n",
       "    <tr>\n",
       "      <th>1</th>\n",
       "      <td>WASHINGTON – At least four people died in Midw...</td>\n",
       "      <td>A gauge is a kind of measuring stick.</td>\n",
       "      <td>The fight is over the budget.</td>\n",
       "    </tr>\n",
       "    <tr>\n",
       "      <th>2</th>\n",
       "      <td>WASHINGTON – At least four people died in Midw...</td>\n",
       "      <td>It sits in the water.</td>\n",
       "      <td>The government is supposed to spend money to h...</td>\n",
       "    </tr>\n",
       "    <tr>\n",
       "      <th>3</th>\n",
       "      <td>Rescue crews swarmed into the ruins at Plaza T...</td>\n",
       "      <td>They raced against the setting sun to search t...</td>\n",
       "      <td>The storm was so powerful that it blew the roo...</td>\n",
       "    </tr>\n",
       "    <tr>\n",
       "      <th>4</th>\n",
       "      <td>One half of Istanbul lies in Europe, while the...</td>\n",
       "      <td>Turkey is larger than the state of Texas.</td>\n",
       "      <td>One of the most important things to know about...</td>\n",
       "    </tr>\n",
       "  </tbody>\n",
       "</table>\n",
       "</div>"
      ],
      "text/plain": [
       "                                         source_text  \\\n",
       "0  They did not need special skills or a college ...   \n",
       "1  WASHINGTON – At least four people died in Midw...   \n",
       "2  WASHINGTON – At least four people died in Midw...   \n",
       "3  Rescue crews swarmed into the ruins at Plaza T...   \n",
       "4  One half of Istanbul lies in Europe, while the...   \n",
       "\n",
       "                                elaboration_sentence  \\\n",
       "0  Many do not have the money to get the training...   \n",
       "1              A gauge is a kind of measuring stick.   \n",
       "2                              It sits in the water.   \n",
       "3  They raced against the setting sun to search t...   \n",
       "4          Turkey is larger than the state of Texas.   \n",
       "\n",
       "                                    pred_elaboration  \n",
       "0                  They have to stay out of trouble.  \n",
       "1                      The fight is over the budget.  \n",
       "2  The government is supposed to spend money to h...  \n",
       "3  The storm was so powerful that it blew the roo...  \n",
       "4  One of the most important things to know about...  "
      ]
     },
     "execution_count": 12,
     "metadata": {},
     "output_type": "execute_result"
    }
   ],
   "source": [
    "df_results.head()"
   ]
  },
  {
   "cell_type": "code",
   "execution_count": 13,
   "id": "99a25ce7-851d-440a-ba32-fd10cc07c70c",
   "metadata": {},
   "outputs": [],
   "source": [
    "df_results.to_csv(\"../data/gen_predictions/predictions_llama3.2-ft-instr-test_ds_c4sp-short-no-pipeline.csv\")"
   ]
  },
  {
   "cell_type": "code",
   "execution_count": 15,
   "id": "3a343657-9d59-49ea-afa5-78aa27baf17a",
   "metadata": {},
   "outputs": [
    {
     "data": {
      "text/plain": [
       "'The U.S. is upset about Russia because it may be violating human rights.'"
      ]
     },
     "execution_count": 15,
     "metadata": {},
     "output_type": "execute_result"
    }
   ],
   "source": [
    "df_results.loc[10,\"pred_elaboration\"]"
   ]
  }
 ],
 "metadata": {
  "kernelspec": {
   "display_name": "Python 3 (ipykernel)",
   "language": "python",
   "name": "python3"
  },
  "language_info": {
   "codemirror_mode": {
    "name": "ipython",
    "version": 3
   },
   "file_extension": ".py",
   "mimetype": "text/x-python",
   "name": "python",
   "nbconvert_exporter": "python",
   "pygments_lexer": "ipython3",
   "version": "3.9.18"
  }
 },
 "nbformat": 4,
 "nbformat_minor": 5
}
