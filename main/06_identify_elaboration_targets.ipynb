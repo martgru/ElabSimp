{
 "cells": [
  {
   "cell_type": "markdown",
   "id": "44e524df-3ac9-4061-97d7-aa948fe2c175",
   "metadata": {},
   "source": [
    "# Load model"
   ]
  },
  {
   "cell_type": "code",
   "execution_count": 2,
   "id": "2e4bd939-e834-48fa-96ea-7e03efeb224f",
   "metadata": {},
   "outputs": [],
   "source": [
    "import os\n",
    "#os.environ[\"OPENAI_API_KEY\"] = \"\""
   ]
  },
  {
   "cell_type": "code",
   "execution_count": 3,
   "id": "5a566eaa-9db5-4d5a-a965-e21e3809bbe0",
   "metadata": {},
   "outputs": [],
   "source": [
    "from openai import OpenAI \n",
    "import os\n",
    "\n",
    "MODEL=\"gpt-4o\"\n",
    "client = OpenAI(api_key=os.environ.get(\"OPENAI_API_KEY\"))"
   ]
  },
  {
   "cell_type": "markdown",
   "id": "61b3ab05-8212-41e9-b416-f9e4d26ab8f2",
   "metadata": {
    "jp-MarkdownHeadingCollapsed": true
   },
   "source": [
    "# Load data"
   ]
  },
  {
   "cell_type": "code",
   "execution_count": 6,
   "id": "db911341-f85c-4fe0-a29d-f6e7f526f842",
   "metadata": {},
   "outputs": [
    {
     "name": "stdout",
     "output_type": "stream",
     "text": [
      "DatasetDict({\n",
      "    train: Dataset({\n",
      "        features: ['doc_num', 'source_text', 'target_sentence', 'target_sentence_bertscore', 'elaboration_sentence', 'contextual_specificity_rating'],\n",
      "        num_rows: 1049\n",
      "    })\n",
      "    validation: Dataset({\n",
      "        features: ['doc_num', 'source_text', 'target_sentence', 'target_sentence_bertscore', 'elaboration_sentence', 'contextual_specificity_rating'],\n",
      "        num_rows: 134\n",
      "    })\n",
      "    test: Dataset({\n",
      "        features: ['doc_num', 'source_text', 'target_sentence', 'target_sentence_bertscore', 'elaboration_sentence', 'contextual_specificity_rating'],\n",
      "        num_rows: 116\n",
      "    })\n",
      "})\n"
     ]
    }
   ],
   "source": [
    "from dataset_utils import load_dataset_from_csv\n",
    "\n",
    "ds_type = \"c4op\"\n",
    "setting = \"base\"\n",
    "\n",
    "dataset = load_dataset_from_csv(ds_type, setting)\n",
    "print(dataset)"
   ]
  },
  {
   "cell_type": "markdown",
   "id": "3eaed9ea-1d37-4be7-a733-07f5fe2edb24",
   "metadata": {
    "jp-MarkdownHeadingCollapsed": true
   },
   "source": [
    "### Create dataframes"
   ]
  },
  {
   "cell_type": "code",
   "execution_count": 19,
   "id": "a34b6358-535d-4d84-b617-9cb4f65782b8",
   "metadata": {},
   "outputs": [],
   "source": [
    "import pandas as pd\n",
    "import os\n",
    "\n",
    "df_train_spo = pd.DataFrame({\n",
    "    \"source_text\": dataset[\"train\"][\"source_text\"],\n",
    "    \"elaboration_sentence\": dataset[\"train\"][\"elaboration_sentence\"]\n",
    "})\n",
    "\n",
    "df_valid_spo = pd.DataFrame({\n",
    "    \"source_text\": dataset[\"validation\"][\"source_text\"],\n",
    "    \"elaboration_sentence\": dataset[\"validation\"][\"elaboration_sentence\"]\n",
    "})\n",
    "\n",
    "df_test_spo = pd.DataFrame({\n",
    "    \"source_text\": dataset[\"test\"][\"source_text\"],\n",
    "    \"elaboration_sentence\": dataset[\"test\"][\"elaboration_sentence\"]\n",
    "})\n",
    "\n",
    "df_train_spo.to_csv(os.path.join(data_path, \"train_ds_c2spo_subjects_targets.csv\"), index=False)\n",
    "df_valid_spo.to_csv(os.path.join(data_path, \"validation_ds_c2spo_subjects_targets.csv\"), index=False)\n",
    "df_test_spo.to_csv(os.path.join(data_path, \"test_ds_c2spo_subjects_targets.csv\"), index=False)"
   ]
  },
  {
   "cell_type": "markdown",
   "id": "4fc96ed3-bd19-4c47-bd82-4b5d3be999c0",
   "metadata": {
    "jp-MarkdownHeadingCollapsed": true
   },
   "source": [
    "### Add columns"
   ]
  },
  {
   "cell_type": "code",
   "execution_count": 5,
   "id": "a982cc25-c7f8-4f61-a87d-8fd7ea29dc72",
   "metadata": {},
   "outputs": [],
   "source": [
    "import pandas as pd\n",
    "import os\n",
    "\n",
    "df_train_s = pd.read_csv(os.path.join(data_path, \"train_ds_s_subjects_targets.csv\"))\n",
    "df_train_sp = pd.read_csv(os.path.join(data_path, \"train_ds_sp_subjects_targets.csv\"))\n",
    "df_train_spo = pd.read_csv(os.path.join(data_path, \"train_ds_c2spo_subjects_targets.csv\"))\n",
    "\n",
    "\n",
    "df_valid_s = pd.read_csv(os.path.join(data_path, \"validation_ds_s_subjects_targets.csv\"))\n",
    "df_valid_sp = pd.read_csv(os.path.join(data_path, \"validation_ds_sp_subjects_targets.csv\"))\n",
    "df_valid_spo = pd.read_csv(os.path.join(data_path, \"validation_ds_c2spo_subjects_targets.csv\"))\n",
    "\n",
    "df_test_s = pd.read_csv(os.path.join(data_path, \"test_ds_s_subjects_targets.csv\"))\n",
    "df_test_sp = pd.read_csv(os.path.join(data_path, \"test_ds_sp_subjects_targets.csv\"))\n",
    "df_test_spo = pd.read_csv(os.path.join(data_path, \"test_ds_c2spo_subjects_targets.csv\"))\n",
    "\n",
    "df_train = df_train_spo\n",
    "df_valid = df_valid_spo\n",
    "df_test = df_test_spo\n",
    "\n",
    "col_name = \"target_sentence_4o\"\n",
    "\n",
    "dataset[\"train\"] = dataset[\"train\"].add_column(col_name, df_train[col_name])\n",
    "dataset[\"validation\"] = dataset[\"validation\"].add_column(col_name, df_valid[col_name])\n",
    "dataset[\"test\"] = dataset[\"test\"].add_column(col_name, df_test[col_name])"
   ]
  },
  {
   "cell_type": "markdown",
   "id": "350d2b8d-1fe5-4722-a8d7-baf28ef6550b",
   "metadata": {
    "jp-MarkdownHeadingCollapsed": true
   },
   "source": [
    "# Prompt and messages"
   ]
  },
  {
   "cell_type": "code",
   "execution_count": 7,
   "id": "a86bad76-df38-4b72-b274-cf90f0f5ecf3",
   "metadata": {},
   "outputs": [],
   "source": [
    "SYSTEM_PROMPT_SUBJECT = \"\"\"You are an expert in identifying the subject of the provided explanation sentence based on the context text. \n",
    "If the subject of the explanation sentence is a **pronoun (e.g., \"it,\" \"they,\" \"he,\" \"she\")**, determine what the pronoun refers to within the context.\n",
    "The subject MUST be written as a concise phrase (not as a complete sentence), and it MUST be found in the context text (it does not need to appear in the explanation sentence itself).\n",
    "\"\"\"\n",
    "\n",
    "SYSTEM_PROMPT_TARGET = \"\"\"You are an expert in identifying the target phrase in a given text that provided explanation sentence is clarifying or simplifying. \n",
    "Return the main phrase which explanation sentence is referring to.\n",
    "Return the identified phrase from the CONTEXT TEXT, not the explanation sentence itself.\n",
    "\"\"\"\n",
    "\n",
    "SYSTEM_PROMPT_TARGET_SENT = \"\"\"\n",
    "You are an expert in identifying the sentence that the provided explanation sentence clarifies or refers to. \n",
    "Your task is to return the sentence from the CONTEXT TEXT, not the explanation sentence itself!\n",
    "\"\"\"\n",
    "\n",
    "SYSTEM_PROMPT_TARGET_SENT_AND_TARGET_PHRASE = \"\"\"\n",
    "You are an expert in identifying unclear or complex terms and concepts in a given text.\n",
    "Your task is to:\n",
    "1. Identify the sentence from the CONTEXT TEXT that the provided explanation sentence clarifies or refers to.\n",
    "2. Specify the exact phrase within that sentence that is being clarified.\n",
    "Return the identified sentence and the phrase from the CONTEXT TEXT, not the explanation sentence itself.\n",
    "\"\"\"\n",
    "\n",
    "SYSTEM_PROMPT_ELAB = \"\"\"You are an expert in clarifying unclear or complex terms and concepts in a given text. Your task is as follows:  \n",
    "1. Identify ***the target sentence** that requires clarification.  \n",
    "2. Specify **the exact phrase** within that sentence that needs clarification. \n",
    "3. Determine the **type of clarification** that should be added. Choose from the following categories:  \n",
    "- **Definition**: Provide a clear and concise definition of the term or concept.  \n",
    "- **Example**: Offer one or more examples that illustrate the meaning of the term or concept.  \n",
    "- **Background**: Provide relevant background knowledge or general statements to give context.  \n",
    "- **Flow**: Describe the sequence or flow of actions to make the events clearer and easier to follow.  \n",
    "- **Reason**: Explain the reason behind an action or occurrence.  \n",
    "- **Result**: Clarify the outcome or result of an action or occurrence.  \n",
    "- **Speculation**: Offer a possible outcome, assumption, or hypothesis, such as \"what would happen if...\" scenarios.  \n",
    "- **Other**: If the clarification does not fit into the above categories, specify what kind of clarification you are providing. \n",
    "4. Based on the above's, generate **ONE concise explanation sentence** (made up of 10 words or fewer) that provides additional information related to the identified target sentence and phrase.  \n",
    "The explanation sentence should be clear, plain, and simple in tone!\"\"\"\n",
    "\n",
    "#Return the sentence from the context text that the explanation sentence is clarifying."
   ]
  },
  {
   "cell_type": "markdown",
   "id": "a89c99c6-931c-4be6-80b0-9cbf203c0709",
   "metadata": {
    "jp-MarkdownHeadingCollapsed": true
   },
   "source": [
    "# Turn examples into ChatML format"
   ]
  },
  {
   "cell_type": "code",
   "execution_count": 8,
   "id": "aa846036-a384-494f-9fc2-0b3b7fa4d8b2",
   "metadata": {},
   "outputs": [
    {
     "data": {
      "application/vnd.jupyter.widget-view+json": {
       "model_id": "22e66beb5684407f81d63f647427742e",
       "version_major": 2,
       "version_minor": 0
      },
      "text/plain": [
       "Map:   0%|          | 0/1049 [00:00<?, ? examples/s]"
      ]
     },
     "metadata": {},
     "output_type": "display_data"
    },
    {
     "data": {
      "application/vnd.jupyter.widget-view+json": {
       "model_id": "48f8f2a48d0d4dcf84892e82ad56dc94",
       "version_major": 2,
       "version_minor": 0
      },
      "text/plain": [
       "Map:   0%|          | 0/134 [00:00<?, ? examples/s]"
      ]
     },
     "metadata": {},
     "output_type": "display_data"
    },
    {
     "data": {
      "application/vnd.jupyter.widget-view+json": {
       "model_id": "32bbfb3986e141d7aa67e282c7e6daa9",
       "version_major": 2,
       "version_minor": 0
      },
      "text/plain": [
       "Map:   0%|          | 0/116 [00:00<?, ? examples/s]"
      ]
     },
     "metadata": {},
     "output_type": "display_data"
    }
   ],
   "source": [
    "def format_subject_example(example):\n",
    "    return {\n",
    "        \"messages\": [\n",
    "            {\"role\": \"system\", \"content\": SYSTEM_PROMPT_SUBJECT},\n",
    "            {\"role\": \"user\", \"content\":  \"Identify the subject of the following explanation sentence: '{}' within the given text: '{}'\".format(\n",
    "    example[\"elaboration_sentence\"], example[\"source_text\"])}, #example[\"label_text\"])},\n",
    "        ]\n",
    "    }\n",
    "\n",
    "def format_target_example(example):\n",
    "    return {\n",
    "        \"messages\": [\n",
    "            {\"role\": \"system\", \"content\": SYSTEM_PROMPT_TARGET},\n",
    "            {\"role\": \"user\", \"content\":  \"Identify the target phrase of the following explanation sentence: '{}' within the given text: '{}'\".format(\n",
    "    example[\"elaboration_sentence\"], example[\"target_sentence\"])},\n",
    "        ]\n",
    "    }\n",
    "\n",
    "def format_target_sent_example(example):\n",
    "    return {\n",
    "        \"messages\": [\n",
    "            {\"role\": \"system\", \"content\": SYSTEM_PROMPT_TARGET_SENT},\n",
    "            {\"role\": \"user\", \"content\":  \"Identify the target sentence that the following explanation: '{}' clarifies or refers to within the given text: '{}'\".format(\n",
    "    example[\"elaboration_sentence\"], example[\"source_text\"])},\n",
    "        ]\n",
    "    }\n",
    "\n",
    "def format_target_sent_and_target_phrase_example(example):\n",
    "    return {\n",
    "        \"messages\": [\n",
    "            {\"role\": \"system\", \"content\": SYSTEM_PROMPT_TARGET_SENT_AND_TARGET_PHRASE},\n",
    "            {\"role\": \"user\", \"content\":  \"Identify the target sentence and target phrase in the context text: '{}' that is being clarified by the explanation sentence: '{}'\".format(\n",
    "    example[\"source_text\"], example[\"elaboration_sentence\"])},\n",
    "        ]\n",
    "    }\n",
    "\n",
    "# for complex input text\n",
    "def format_target_sent_complex_example(example):\n",
    "    return {\n",
    "        \"messages\": [\n",
    "            {\"role\": \"system\", \"content\": SYSTEM_PROMPT_TARGET_SENT},\n",
    "            {\"role\": \"user\", \"content\":  \"Identify the target sentence that the following explanation: '{}' is clarifying within the given text: '{}'\".format(\n",
    "    example[\"elaboration_sentence\"], example[\"source_text\"])},\n",
    "        ]\n",
    "    }\n",
    "\n",
    "def format_elab_example(example):\n",
    "    return {\n",
    "        \"messages\": [\n",
    "            {\"role\": \"system\", \"content\": SYSTEM_PROMPT_ELAB},\n",
    "            {\"role\": \"user\", \"content\":  \"Identify the sentence and specific phrase in the given text: '{}' that need clarification. Then, specify the type of clarificatio needed and generate one concise explanation sentence.\".format(\n",
    "    example[\"source_text\"])},\n",
    "        ]\n",
    "    }\n",
    "    \n",
    "formatted_train_dataset = dataset[\"train\"].map(format_elab_example)\n",
    "formatted_validation_dataset = dataset[\"validation\"].map(format_elab_example)\n",
    "formatted_test_dataset = dataset[\"test\"].map(format_elab_example)\n",
    "\n",
    "datasets = {\"train\":formatted_train_dataset, \"validation\":formatted_validation_dataset, \"test\":formatted_test_dataset}"
   ]
  },
  {
   "cell_type": "code",
   "execution_count": 9,
   "id": "22b32250-469b-402b-b836-2fb9cb346a5b",
   "metadata": {},
   "outputs": [
    {
     "data": {
      "text/plain": [
       "{'content': 'Identify the sentence and specific phrase in the given text: \\'New Haven Promise is offering workshops for parents on how to make sense of the college application process, which can be confusing. New Haven has pledged to have all students reading proficiently by the end of third grade, putting them on track for college readiness by high school. The Promise program will be considered a success if students are able to do well enough in college to finish with a 2-year or 4-year degree. Educators are tracking students who enter college on a Promise scholarship and finding that many do not enroll for a second year after finishing the first. Many are unable to keep up the minimum grade average. The ability to not just start college, but stay with it is called \"college persistence.\" Middle-class students on the Promise Scholarships tend to do better than their lower-income peers. That goes to show that there are big barriers to achieving success, even when there is money pointed at the problem. For example, in Kalamazoo, the success rate for middle-income students was about twice that for poor students, with the low-income students either losing their scholarships or being put on probation.\\' that need clarification. Then, specify the type of clarificatio needed and generate one concise explanation sentence.',\n",
       " 'role': 'user'}"
      ]
     },
     "execution_count": 9,
     "metadata": {},
     "output_type": "execute_result"
    }
   ],
   "source": [
    "formatted_test_dataset[0][\"messages\"][1]"
   ]
  },
  {
   "cell_type": "markdown",
   "id": "e2bad9b9-49d2-421d-9860-b519688523b0",
   "metadata": {},
   "source": [
    "# Identify subjects of elaborations\n",
    "\n",
    "Analyze the subjects to explore the types of elaboration sentences."
   ]
  },
  {
   "cell_type": "code",
   "execution_count": 16,
   "id": "1e623f1e-1425-40cb-84c1-698fe6cc3dce",
   "metadata": {},
   "outputs": [],
   "source": [
    "import re\n",
    "\n",
    "def extract_target_sentence(response: str) -> str:\n",
    "    \"\"\"\n",
    "    Extract the target_sentence from the model's response.\n",
    "    \"\"\"\n",
    "    match = re.search(r\"target_sentence='(.*?)'\", response)\n",
    "    if match:\n",
    "        return match.group(1) \n",
    "    else:\n",
    "        raise ValueError(\"target_sentence not found.\")"
   ]
  },
  {
   "cell_type": "markdown",
   "id": "c18e5492-e7d2-4b47-a96b-1c85a96dfd98",
   "metadata": {},
   "source": [
    "## Examples"
   ]
  },
  {
   "cell_type": "markdown",
   "id": "7df9ce1b-6695-4a8f-9dc7-c17a6bfe5faf",
   "metadata": {
    "jp-MarkdownHeadingCollapsed": true
   },
   "source": [
    "### Subject"
   ]
  },
  {
   "cell_type": "code",
   "execution_count": 33,
   "id": "126d98f8-124d-4b5e-84bb-25c49a2aa950",
   "metadata": {},
   "outputs": [
    {
     "name": "stdout",
     "output_type": "stream",
     "text": [
      "{'content': \"Identify the subject of the following explanation sentence: 'It is not easy to relax, or to feel positive.' within the given text: 'In Philadelphia, there's a 50 percent higher prevalence of smoking among the poor than among the non-poor, according to Giridhar Mallya, director of policy and planning for the Philadelphia Department of Public Health. The morality of buying cigarettes when you're poor is complicated. The poor smoke to manage high levels of stress and depression, Mallya said, as much a part of poverty as empty pockets. It's also harder for the poor to get smoking-cessation counseling and nicotine patches than others who may receive help through insurance, experts said.'\", 'role': 'user'}\n",
      "\n",
      "subject='the poor'\n"
     ]
    }
   ],
   "source": [
    "import random \n",
    "example = random.choice(formatted_test_dataset)\n",
    "print(example[\"messages\"][1],end=\"\\n\\n\")\n",
    "\n",
    "completion = client.beta.chat.completions.parse(\n",
    "  model=MODEL,\n",
    "  messages=example[\"messages\"],\n",
    "    response_format= ExplanationTarget,\n",
    ")\n",
    "\n",
    "response = completion.choices[0].message.parsed\n",
    "print(response)"
   ]
  },
  {
   "cell_type": "markdown",
   "id": "f7cc4d47-1597-491a-9479-af8918a9d445",
   "metadata": {
    "jp-MarkdownHeadingCollapsed": true
   },
   "source": [
    "### Target phrase"
   ]
  },
  {
   "cell_type": "code",
   "execution_count": 19,
   "id": "4e01dffc-bc0e-4b51-9f04-79af549579a0",
   "metadata": {},
   "outputs": [
    {
     "name": "stdout",
     "output_type": "stream",
     "text": [
      "subject='drones'\n"
     ]
    }
   ],
   "source": [
    "example = \"Identify the target phrase in the following text: '{}' that is being clarified by the explanation sentence: '{}'\".format(\n",
    "    dataset[\"test\"][100][\"source_text\"], dataset[\"test\"][100][\"elaboration_sentence\"])\n",
    "\n",
    "completion = client.beta.chat.completions.parse(\n",
    "  model=MODEL,\n",
    "  messages=[\n",
    "    {\"role\": \"system\", \"content\": SYSTEM_PROMPT_TARGET_SENT_TARGET}, \n",
    "    {\"role\": \"user\", \"content\": example }  \n",
    "  ],\n",
    "    response_format= ExplanationTarget,\n",
    ")\n",
    "\n",
    "response = completion.choices[0].message.parsed\n",
    "print(response)"
   ]
  },
  {
   "cell_type": "markdown",
   "id": "8b19ea7e-c890-428a-9dc9-75fd41e5c349",
   "metadata": {
    "jp-MarkdownHeadingCollapsed": true
   },
   "source": [
    "### Target sentence"
   ]
  },
  {
   "cell_type": "code",
   "execution_count": 14,
   "id": "84839fd2-9670-4a72-bb68-dd34d098b47f",
   "metadata": {},
   "outputs": [
    {
     "name": "stdout",
     "output_type": "stream",
     "text": [
      "{'content': \"Identify the target sentence and target phrase in the context text: 'He insisted that Iran's nuclear program is something it will not surrender. Analysts say Obama must be careful not to look too eager to make a deal.' that is being clarified by the explanation sentence: 'That would hurt his ability to bargain.'\", 'role': 'user'}\n",
      "\n",
      "target_sentence='Analysts say Obama must be careful not to look too eager to make a deal.' target_phrase='not to look too eager to make a deal'\n"
     ]
    }
   ],
   "source": [
    "import random \n",
    "from pydantic import BaseModel\n",
    "\n",
    "class ExplanationTarget(BaseModel):\n",
    "    target_sentence: str\n",
    "    target_phrase: str\n",
    "    \n",
    "example = random.choice(formatted_test_dataset)\n",
    "print(example[\"messages\"][1],end=\"\\n\\n\")\n",
    "\n",
    "completion = client.beta.chat.completions.parse(\n",
    "  model=MODEL,\n",
    "  messages=example[\"messages\"],\n",
    "    response_format= ExplanationTarget,\n",
    ")\n",
    "\n",
    "response = completion.choices[0].message.parsed\n",
    "print(response)"
   ]
  },
  {
   "cell_type": "markdown",
   "id": "a73f9701-e1d1-4b9e-bc7f-1f64e718abf2",
   "metadata": {
    "jp-MarkdownHeadingCollapsed": true
   },
   "source": [
    "### Elaboration"
   ]
  },
  {
   "cell_type": "code",
   "execution_count": 19,
   "id": "ae9660d1-1f62-400a-a566-c5c18d78f881",
   "metadata": {},
   "outputs": [],
   "source": [
    "import random\n",
    "\n",
    "seed = 42\n",
    "sample_size = 50 \n",
    "random_sample_dataset = formatted_test_dataset.shuffle(seed=seed).select(range(sample_size))"
   ]
  },
  {
   "cell_type": "code",
   "execution_count": 18,
   "id": "c7575fec-a713-40d6-aa64-a44c75eacefb",
   "metadata": {},
   "outputs": [
    {
     "data": {
      "text/plain": [
       "Dataset({\n",
       "    features: ['doc_num', 'source_text', 'label_text', 'elaboration_sentence', 'contextual_specificity_rating', 'messages'],\n",
       "    num_rows: 50\n",
       "})"
      ]
     },
     "execution_count": 18,
     "metadata": {},
     "output_type": "execute_result"
    }
   ],
   "source": [
    "random_sample_dataset"
   ]
  },
  {
   "cell_type": "code",
   "execution_count": 13,
   "id": "7b6e3255-83f8-49f9-86ec-0d276a8b2013",
   "metadata": {},
   "outputs": [
    {
     "name": "stdout",
     "output_type": "stream",
     "text": [
      "{'content': \"Identify the sentence and specific phrase in the given text: 'He said hate toward Roma people remains widespread there. His people still suffer unfair and insulting treatment, he said. They are also the first to be fired. He said that when poor Romani villagers come to Berlin, they find only overcrowded apartments.' that need clarification. Then, specify the type of clarificatio needed and generate one concise explanation sentence.\", 'role': 'user'}\n",
      "\n",
      "target_sentence='His people still suffer unfair and insulting treatment, he said.' target_phrase='unfair and insulting treatment' clarification_type='Example' explanation_sentence='Discrimination in housing and employment are common examples.'\n"
     ]
    }
   ],
   "source": [
    "import random \n",
    "from pydantic import BaseModel\n",
    "\n",
    "example = random.choice(random_sample_dataset)\n",
    "print(example[\"messages\"][1],end=\"\\n\\n\")\n",
    "\n",
    "\n",
    "class ExplanationTarget(BaseModel):\n",
    "    target_sentence: str\n",
    "    target_phrase: str\n",
    "    clarification_type: str\n",
    "    explanation_sentence: str\n",
    "\n",
    "completion = client.beta.chat.completions.parse(\n",
    "  model=MODEL,\n",
    "  messages=example[\"messages\"],\n",
    "    response_format= ExplanationTarget,\n",
    ")\n",
    "\n",
    "response = completion.choices[0].message.parsed\n",
    "print(response)"
   ]
  },
  {
   "cell_type": "code",
   "execution_count": 40,
   "id": "abcaf05f-6c43-4a98-9c7f-1ca58453488c",
   "metadata": {},
   "outputs": [],
   "source": [
    "df_results = pd.DataFrame({\n",
    "    \"doc_num\": formatted_test_dataset[\"doc_num\"],\n",
    "    \"source_text\" : formatted_test_dataset[\"source_text\"],\n",
    "    \"label_text\" : formatted_test_dataset[\"label_text\"],\n",
    "    \"elaboration_sentence\":formatted_test_dataset[\"elaboration_sentence\"],\n",
    "    \"response\":\"\",\n",
    "    \"pred_elaboration\":\"\",\n",
    "    \"target_sentence_target\": \"\",\n",
    "    \"target_sentence_4o\":\"\",\n",
    "    \"clarification_category\":\"\",\n",
    "    \n",
    "})\n",
    "\n",
    "df_results.to_csv(f\"../data/elaborations/{split}_ds_c2spo_gpt4o_elab_preds_targets.csv\", index=False)"
   ]
  },
  {
   "cell_type": "markdown",
   "id": "628f9cf1-5def-4c22-8167-0441236ab1dc",
   "metadata": {
    "jp-MarkdownHeadingCollapsed": true
   },
   "source": [
    "## Create elaboration targets df"
   ]
  },
  {
   "cell_type": "code",
   "execution_count": 10,
   "id": "730bd09b-40ac-4042-9764-5d456866ffa0",
   "metadata": {},
   "outputs": [
    {
     "name": "stdout",
     "output_type": "stream",
     "text": [
      "c2o\n"
     ]
    }
   ],
   "source": [
    "import pandas as pd\n",
    "splits = [\"train\",\"validation\",\"test\"]\n",
    "\n",
    "for split in splits:\n",
    "    df_results = pd.DataFrame({\n",
    "        \"doc_num\": datasets[split][\"doc_num\"],\n",
    "        \"source_text\" : datasets[split][\"source_text\"],\n",
    "        \"elaboration_sentence\":datasets[split][\"elaboration_sentence\"],\n",
    "        \"target_sentence_4o\": datasets[split][\"target_sentence\"],\n",
    "        \"target_sentence_target\":\"\",\n",
    "    })\n",
    "    df_results.to_csv(f\"../data/elaborations/{split}_ds_{setting}_elab_targets.csv\", index=False)\n",
    "print(setting)"
   ]
  },
  {
   "cell_type": "markdown",
   "id": "09b24523-6564-4625-823b-f3c464092a12",
   "metadata": {
    "jp-MarkdownHeadingCollapsed": true
   },
   "source": [
    "## Get subjects, targets and elaboration info"
   ]
  },
  {
   "cell_type": "code",
   "execution_count": 20,
   "id": "63c2bed5-4b55-4cf4-9713-66604712284d",
   "metadata": {},
   "outputs": [
    {
     "data": {
      "application/vnd.jupyter.widget-view+json": {
       "model_id": "98a129f5064e46ae83b80c881ec0769a",
       "version_major": 2,
       "version_minor": 0
      },
      "text/plain": [
       "  0%|          | 0/1049 [00:00<?, ?it/s]"
      ]
     },
     "metadata": {},
     "output_type": "display_data"
    }
   ],
   "source": [
    "import pandas as pd\n",
    "from tqdm.notebook import tqdm\n",
    "\n",
    "splits = [\"train\",\"validation\",\"test\"]\n",
    "split = \"train\"\n",
    "\n",
    "df_results = pd.read_csv(f\"../data/elaborations/{split}_ds_c2spo_subjects_targets.csv\")\n",
    "\n",
    "formatted_dataset = formatted_train_dataset\n",
    "column_name = \"target-phrase\"\n",
    "df_results[column_name] = \"\" #df_results[column_name].fillna(\"\")\n",
    "\n",
    "for idx, example in tqdm(enumerate(formatted_dataset),total=len(formatted_dataset)):\n",
    "    if df_results.at[idx,column_name]==\"\":\n",
    "        completion = client.chat.completions.create(model=MODEL,messages=example[\"messages\"])\n",
    "        df_results.at[idx,column_name] = completion.choices[0].message.content"
   ]
  },
  {
   "cell_type": "code",
   "execution_count": 24,
   "id": "33e66a9a-6f7a-4640-a912-18b7fa8fe3ac",
   "metadata": {},
   "outputs": [],
   "source": [
    "df_results.rename(columns={\"target-phrase\":\"elaboration-info\"},inplace=True)"
   ]
  },
  {
   "cell_type": "code",
   "execution_count": 28,
   "id": "6a597370-20d6-48b3-914b-df7f8c1adb00",
   "metadata": {},
   "outputs": [],
   "source": [
    "df_results.to_csv(f\"../data/elaborations/{split}_ds_c2spo_subjects_targets.csv\", index=False)"
   ]
  },
  {
   "cell_type": "markdown",
   "id": "d90dda3e-6d0e-44fb-8417-5c91169054c8",
   "metadata": {
    "jp-MarkdownHeadingCollapsed": true
   },
   "source": [
    "## Get target sentences for elaborations in specified response format"
   ]
  },
  {
   "cell_type": "code",
   "execution_count": 23,
   "id": "a1747402-08c4-4f2d-82cd-b12339b07fbb",
   "metadata": {},
   "outputs": [],
   "source": [
    "from pydantic import BaseModel\n",
    "\n",
    "# for elaboration targets identification\n",
    "class ExplanationTarget(BaseModel):\n",
    "    #explanation_sentence: str\n",
    "    subject: str\n",
    "    #target_sentence: str\n",
    "    #target_phrase: str\n",
    "\n",
    "# for elaboration generation\n",
    "class ExplanationTarget(BaseModel):\n",
    "    target_sentence: str\n",
    "    target_phrase: str\n",
    "    #clarification_type: str\n",
    "    #explanation_sentence: str"
   ]
  },
  {
   "cell_type": "code",
   "execution_count": 11,
   "id": "60b871e9-fff5-4f46-8eba-89c8a217d852",
   "metadata": {},
   "outputs": [
    {
     "data": {
      "application/vnd.jupyter.widget-view+json": {
       "model_id": "a4eb0ee555d24fa1b86d7d3f0c34164f",
       "version_major": 2,
       "version_minor": 0
      },
      "text/plain": [
       "  0%|          | 0/1049 [00:00<?, ?it/s]"
      ]
     },
     "metadata": {},
     "output_type": "display_data"
    },
    {
     "data": {
      "application/vnd.jupyter.widget-view+json": {
       "model_id": "81fd74ebd51141e8b215abfeae461f50",
       "version_major": 2,
       "version_minor": 0
      },
      "text/plain": [
       "  0%|          | 0/134 [00:00<?, ?it/s]"
      ]
     },
     "metadata": {},
     "output_type": "display_data"
    },
    {
     "data": {
      "application/vnd.jupyter.widget-view+json": {
       "model_id": "0b1aa81145b4498e9a07fe3c15648fee",
       "version_major": 2,
       "version_minor": 0
      },
      "text/plain": [
       "  0%|          | 0/116 [00:00<?, ?it/s]"
      ]
     },
     "metadata": {},
     "output_type": "display_data"
    }
   ],
   "source": [
    "import pandas as pd\n",
    "from tqdm.notebook import tqdm\n",
    "from pydantic import BaseModel\n",
    "\n",
    "class ExplanationTarget(BaseModel):\n",
    "    target_phrase: str\n",
    "\n",
    "splits = [\"train\",\"validation\",\"test\"]\n",
    "\n",
    "for split in splits:\n",
    "    df_results = pd.read_csv(f\"../data/elaborations/{split}_ds_{setting}_elab_targets.csv\")\n",
    "    #df_results = pd.read_csv(f\"../data/elaborations/{split}_ds_c2spo_gpt4o_elab_preds_targets.csv\")\n",
    "    column_name = \"target_sentence_target\" # column_names : \"subject \" \"target_sentence_4o\", \"target_sentence_target\"\n",
    "    df_results[column_name] = df_results[column_name].fillna(\"\")\n",
    "    formatted_dataset = datasets[split]\n",
    "    \n",
    "    for idx, example in tqdm(enumerate(formatted_dataset),total=len(formatted_dataset)):\n",
    "        if df_results.at[idx,column_name] == \"\":\n",
    "            try:\n",
    "                completion = client.beta.chat.completions.parse(model=MODEL,messages=example[\"messages\"],response_format=ExplanationTarget)\n",
    "                df_results.at[idx,column_name] = completion.choices[0].message.parsed\n",
    "                df_results.to_csv(f\"../data/elaborations/{split}_ds_{setting}_elab_targets.csv\",index=False)\n",
    "            except Exception as e:\n",
    "                print(f\"{e} for index {idx} in {split}\")\n",
    "                df_results.at[idx, column_name] = \"filtered\""
   ]
  },
  {
   "cell_type": "markdown",
   "id": "608ce0d9-c87b-4a06-aa32-4bce43955b35",
   "metadata": {
    "jp-MarkdownHeadingCollapsed": true
   },
   "source": [
    "## Create additional df for prior-context only datasets"
   ]
  },
  {
   "cell_type": "code",
   "execution_count": 56,
   "id": "f0300077-9139-4d8e-8d98-5887b58b6a9e",
   "metadata": {},
   "outputs": [
    {
     "data": {
      "text/plain": [
       "'df = pd.DataFrame({\\n    \"source_text\" : dataset[split][\"source_text\"],\\n    \"label_text\" : dataset[split][\"label_text\"],\\n    \"elaboration_sentence\":dataset[split][\"elaboration_sentence\"],\\n    \\n}) '"
      ]
     },
     "execution_count": 56,
     "metadata": {},
     "output_type": "execute_result"
    }
   ],
   "source": [
    "import pandas as pd\n",
    "from tqdm.notebook import tqdm\n",
    "\n",
    "split = \"test\"\n",
    "dataset = load_dataset('csv', data_files=data_files_c2s)\n",
    "df_sp = pd.read_csv(f\"../data/elaborations/{split}_ds_sp_subjects_targets.csv\")\n",
    "df_sp = df_sp.drop_duplicates(subset=\"elaboration_sentence\", keep=\"first\")\n",
    "df = pd.read_csv(f\"../data/elaborations/{split}_ds_s_subjects_targets.csv\")\n",
    "\"\"\"df = pd.DataFrame({\n",
    "    \"source_text\" : dataset[split][\"source_text\"],\n",
    "    \"label_text\" : dataset[split][\"label_text\"],\n",
    "    \"elaboration_sentence\":dataset[split][\"elaboration_sentence\"],\n",
    "    \n",
    "}) \"\"\""
   ]
  },
  {
   "cell_type": "code",
   "execution_count": 57,
   "id": "52cf6456-4d10-43e1-86b3-567c82faa8d2",
   "metadata": {},
   "outputs": [
    {
     "name": "stdout",
     "output_type": "stream",
     "text": [
      "116\n",
      "116\n"
     ]
    }
   ],
   "source": [
    "print(len(df_sp))\n",
    "print(len(df))"
   ]
  },
  {
   "cell_type": "code",
   "execution_count": null,
   "id": "36fa3fba-2918-4226-bf04-c272f8f16c3b",
   "metadata": {
    "scrolled": true
   },
   "outputs": [],
   "source": [
    "# merge the additional columns from df_sp based on elaboration_sentence\n",
    "columns_to_add = [\"target_sentence_target\"]\n",
    "#columns_to_add = [\"subject\", \"target\", \"elaboration_info\", \"target_sentence_4o\"]\n",
    "df = pd.merge(df, df_sp[[\"elaboration_sentence\"] + columns_to_add], on=\"elaboration_sentence\", how=\"left\")\n",
    "df"
   ]
  },
  {
   "cell_type": "code",
   "execution_count": 60,
   "id": "23f91f0e-df17-40bf-b182-a0b0db9799a5",
   "metadata": {},
   "outputs": [],
   "source": [
    "df.to_csv(f\"../data/elaborations/{split}_ds_s_subjects_targets.csv\")"
   ]
  },
  {
   "cell_type": "code",
   "execution_count": 59,
   "id": "d278e882-52e1-43cd-afa1-eefcd1530557",
   "metadata": {},
   "outputs": [
    {
     "name": "stdout",
     "output_type": "stream",
     "text": [
      "target_sentence='Drones are small flying aircraft.'\n",
      "\n",
      "target_phrase='Drones'\n"
     ]
    }
   ],
   "source": [
    "idx= 100\n",
    "print(df.loc[idx,\"target_sentence_4o\"], end=\"\\n\\n\")\n",
    "print(df.loc[idx, column_name])"
   ]
  },
  {
   "cell_type": "markdown",
   "id": "053cb7bd-592a-483b-a423-f0a92c21532a",
   "metadata": {},
   "source": [
    "# Check the targets"
   ]
  },
  {
   "cell_type": "code",
   "execution_count": 116,
   "id": "6d2ca839-6bbb-44f7-9097-f70e7e4b08d4",
   "metadata": {},
   "outputs": [],
   "source": [
    "import pandas as pd \n",
    "import os\n",
    "\n",
    "data_path = \"../data/elaborations\"\n",
    "\n",
    "ds = \"c2sp\"\n",
    "split = \"test\"\n",
    "idx = 577 # 150\n",
    "\n",
    "dfs ={\n",
    "    \"train\":os.path.join(data_path,\"train\", f\"train_ds_{ds}_elab_targets.csv\"),\n",
    "    \"validation\":os.path.join(data_path, \"validation\", f\"validation_ds_{ds}_elab_targets.csv\"),\n",
    "    \"test\":os.path.join(data_path,\"test\", f\"test_ds_{ds}_elab_targets.csv\")\n",
    "}\n",
    "\n",
    "df_t = pd.read_csv(dfs[split])"
   ]
  },
  {
   "cell_type": "code",
   "execution_count": 101,
   "id": "e6f6fb59-3ab3-42cf-bbac-40fd4704bcbf",
   "metadata": {},
   "outputs": [
    {
     "name": "stdout",
     "output_type": "stream",
     "text": [
      "ID: 577\n",
      "Source text: BETHESDA, Md. \" That something is statistical analysis. Statistics is a type of math. It involves looking at information, often in the form of numbers, and finding out what the information means. It has become popular to use for advertisements, for computers and now for sports.\n",
      "\n",
      "Elaboration: For today's champion golfer, there's something just as important as having the right club.\n",
      "Target phrase: nan\n",
      "Target sentence: nan\n"
     ]
    }
   ],
   "source": [
    "print(\"ID:\",idx)\n",
    "print(\"Source text:\",df_t.loc[idx,\"source_text\"], end=\"\\n\\n\")\n",
    "print(\"Elaboration:\",df_t.loc[idx,\"elaboration_sentence\"])\n",
    "print(\"Target phrase:\",df_t.loc[idx,\"target_sentence_target\"])\n",
    "print(\"Target sentence:\",df_t.loc[idx,\"target_sentence_4o\"])\n",
    "#df_t.at[idx,\"target_sentence_target\"] = \"'the government can't borrow the money'\""
   ]
  },
  {
   "cell_type": "code",
   "execution_count": 5,
   "id": "c8448e47-eefe-475f-b270-ed3de60b6cfb",
   "metadata": {},
   "outputs": [],
   "source": [
    "#df_t.to_csv(dfs[split],index=False)"
   ]
  },
  {
   "cell_type": "markdown",
   "id": "f77d61e8-62c7-4c98-9e97-58558eb519d9",
   "metadata": {
    "jp-MarkdownHeadingCollapsed": true
   },
   "source": [
    "### Extract responses"
   ]
  },
  {
   "cell_type": "code",
   "execution_count": 12,
   "id": "80044064-40b2-47bb-b558-e4901b975a3c",
   "metadata": {},
   "outputs": [
    {
     "data": {
      "text/plain": [
       "\"target_sentence='It will make a difference by paying for college.' target_phrase='make a difference' clarification_type='Result' explanation_sentence='Increases access to education and job opportunities for youth.'\""
      ]
     },
     "execution_count": 12,
     "metadata": {},
     "output_type": "execute_result"
    }
   ],
   "source": [
    "df_t = pd.read_csv(\"../data/elaborations/test_ds_c2sp_gpt4o_elab_preds_targets.csv\")\n",
    "df_t.loc[0, \"response\"]"
   ]
  },
  {
   "cell_type": "code",
   "execution_count": 14,
   "id": "6b1af6a0-b61b-490f-b7ca-72f63f3a38d1",
   "metadata": {},
   "outputs": [],
   "source": [
    "import re\n",
    "\n",
    "def extract_target(response: str) -> str:\n",
    "    \"\"\"\n",
    "    Extract the target from the model's response.\n",
    "    \"\"\"\n",
    "    match = re.search(r\"clarification_type='(.*?)'\", response)\n",
    "    if match:\n",
    "        return match.group(1) \n",
    "    else:\n",
    "        raise ValueError(\"not found.\")\n",
    "\n",
    "df_t[\"clarification_category\"] = df_t[\"response\"].apply(extract_target)"
   ]
  },
  {
   "cell_type": "code",
   "execution_count": 16,
   "id": "b3816208-a7d4-4892-90bd-7cb335ec9baa",
   "metadata": {},
   "outputs": [
    {
     "data": {
      "text/plain": [
       "clarification_category\n",
       "Reason        49\n",
       "Definition    27\n",
       "Background    20\n",
       "Example       19\n",
       "Result         1\n",
       "Name: count, dtype: int64"
      ]
     },
     "execution_count": 16,
     "metadata": {},
     "output_type": "execute_result"
    }
   ],
   "source": [
    "df_t[\"clarification_category\"].value_counts()"
   ]
  },
  {
   "cell_type": "code",
   "execution_count": 18,
   "id": "e8d0848e-037f-4d0d-be68-52d3c95fad1f",
   "metadata": {},
   "outputs": [],
   "source": [
    "df_t.to_csv(\"../data/elaborations/test_ds_c2sp_gpt4o_elab_preds_targets.csv\", index=False)"
   ]
  },
  {
   "cell_type": "code",
   "execution_count": 26,
   "id": "2c1a5ad0-3086-4873-98d7-8618940971e0",
   "metadata": {},
   "outputs": [
    {
     "name": "stdout",
     "output_type": "stream",
     "text": [
      "Forecasters said more people could have died if there were no river gauges. A gauge is a kind of measuring stick. It sits in the water. The United States has 8,000 gauges to quickly track the rise of rivers. But that number may shrink.\n",
      "\n",
      "It sits in the water.\n",
      "------------------------------------------------------------------------------------------------------------------------\n",
      "Helicopters were banned from flying over the school, CNN reported. Rescuers feared engine noise would make it hard to hear cries for help. They raced against the setting sun to search the area while they could still see. Briarwood Elementary School in Oklahoma City was also hit by the tornado. News reports said the twister shot cars through the front of the building.\n",
      "\n",
      "They raced against the setting sun to search the area while they could still see.\n",
      "------------------------------------------------------------------------------------------------------------------------\n",
      "Istanbul is an important city for trade. Turkey is also one of the United States' closest friends in the region. Turkey is larger than the state of Texas. Istanbul is a very modern city, but other parts of Turkey are less developed. Around 99 percent of Turks have a Muslim background.\n",
      "\n",
      "Turkey is larger than the state of Texas.\n",
      "------------------------------------------------------------------------------------------------------------------------\n",
      "And his wife, Maria, was inspired to get her GED. The general educational development (GED) is equal to a high school diploma. It is for adults who were unable to finish high school. Benito's path is more uncertain. He has not yet registered at the adult school.\n",
      "\n",
      "It is for adults who were unable to finish high school.\n",
      "------------------------------------------------------------------------------------------------------------------------\n",
      "Some of the information wound up in the hands of terrorists, the military said. Manning worked in intelligence in Iraq in 2009 and 2010. That meant he could get to the secret information. The papers included information about the Iraq and Afghanistan wars. The Web site also showed combat videos from an army helicopter gunship.\n",
      "\n",
      "That meant he could get to the secret information.\n",
      "------------------------------------------------------------------------------------------------------------------------\n",
      "Some gun owners and their supporters said that their opinions were ignored when the laws were made. Morse said he would continue to fight for gun control. He thinks that the laws he made make Colorado safer. Morse said that this was worth the sacrifice of losing his job. \"It is a small price to pay,\" he said.\n",
      "\n",
      "He thinks that the laws he made make Colorado safer.\n",
      "------------------------------------------------------------------------------------------------------------------------\n",
      "Rodrigo and his classmates used to play Minecraft at each other's houses. Players have to work together to build things. They do not play against each another. The Internet allowed the California fourth-graders to play Minecraft with Rodrigo in his new home in Mexico. The game made it seem as if Rodrigo was still next to them.\n",
      "\n",
      "They do not play against each another.\n",
      "------------------------------------------------------------------------------------------------------------------------\n",
      "He insisted that Iran's nuclear program is something it will not surrender. Analysts say Obama must be careful not to look too eager to make a deal. That would hurt his ability to bargain. It would also make important members of Congress upset. Israelis would not like it, either.\n",
      "\n",
      "That would hurt his ability to bargain.\n",
      "------------------------------------------------------------------------------------------------------------------------\n",
      "China's population is enormous. Battles for education, health care, jobs and promotions can be tough. Gifts are widely seen as a way to gain some advantage. Luo said that his family paid doctors around $16,000 when his grandfather needed an operation. They did this even though health insurance supposedly paid for the operation.\n",
      "\n",
      "Gifts are widely seen as a way to gain some advantage.\n",
      "------------------------------------------------------------------------------------------------------------------------\n",
      "BERLIN \" If you think U.S. lawmakers behaved badly during the government shutdown, you are not alone. People in Europe are also surprised at how U.S. leaders have acted. But one German newspaper writer asked why. After all, people in Germany had seen this sort of thing before.\n",
      "\n",
      "People in Europe are also surprised at how U.S. leaders have acted.\n",
      "------------------------------------------------------------------------------------------------------------------------\n"
     ]
    }
   ],
   "source": [
    "for idx, row in df_t[df_t[\"clarification_category\"]==\"Reason\"][:10].iterrows():\n",
    "    print(row[\"label_text\"], end=\"\\n\\n\")\n",
    "    print(row[\"elaboration_sentence\"])\n",
    "    print(\"-\"*120)"
   ]
  },
  {
   "cell_type": "code",
   "execution_count": 4,
   "id": "228d23ea-af67-4e10-af0a-aaf4fb0c49a4",
   "metadata": {},
   "outputs": [
    {
     "name": "stdout",
     "output_type": "stream",
     "text": [
      "'He called the talk a \"fireside hangout.\"' \n",
      "'\"fireside hangout\"'\n"
     ]
    }
   ],
   "source": [
    "import re\n",
    "\n",
    "def extract_target_components(response):\n",
    "\n",
    "    target_sentence = None\n",
    "    target_phrase = None\n",
    "\n",
    "    target_sentence, target_phrase = response.split(\"target_phrase=\")\n",
    "    target_sentence = target_sentence.split(\"target_sentence=\")[1]\n",
    "\n",
    "    return target_sentence, target_phrase\n",
    "\n",
    "response = \"target_sentence='He called the talk a \\\"fireside hangout.\\\"' target_phrase='\\\"fireside hangout\\\"'\"\n",
    "target_sentence, target_phrase = extract_target_components(response)\n",
    "print(target_sentence)\n",
    "print(target_phrase)"
   ]
  },
  {
   "cell_type": "code",
   "execution_count": 11,
   "id": "471a513c-ade9-4c55-902f-17b7ad74c510",
   "metadata": {},
   "outputs": [
    {
     "data": {
      "text/plain": [
       "doc_num                     0\n",
       "source_text                 0\n",
       "label_text                134\n",
       "elaboration_sentence        0\n",
       "response                    0\n",
       "target_sentence_4o          0\n",
       "target_sentence_target      0\n",
       "dtype: int64"
      ]
     },
     "execution_count": 11,
     "metadata": {},
     "output_type": "execute_result"
    }
   ],
   "source": [
    "df_t[\"target_sentence_4o\"] = df_t[\"target_sentence_4o\"].astype(\"str\")\n",
    "df_t[\"target_sentence_target\"] = df_t[\"target_sentence_target\"].astype(\"str\")\n",
    "\n",
    "for idx, row in df_t.iterrows():\n",
    "    response = row[\"response\"]  \n",
    "    if response:\n",
    "        try: \n",
    "            target_sentence, target_phrase = extract_target_components(response)\n",
    "            df_t.at[idx, \"target_sentence_4o\"] = target_sentence\n",
    "            df_t.at[idx, \"target_sentence_target\"] = target_phrase\n",
    "        except Exception as e:\n",
    "            df_t.at[idx, \"target_sentence_4o\"] = \"\"\n",
    "            df_t.at[idx, \"target_sentence_target\"] = \"\"\n",
    "\n",
    "df_t.isnull().sum()"
   ]
  },
  {
   "cell_type": "markdown",
   "id": "68416a81-9d21-4c6d-843a-c9f9e1ff8e46",
   "metadata": {
    "jp-MarkdownHeadingCollapsed": true
   },
   "source": [
    "## Check for duplicates \n",
    "\n",
    "### (target sentence vs elaboration sentence) or (target phrase vs elaboration sentence) "
   ]
  },
  {
   "cell_type": "code",
   "execution_count": 160,
   "id": "77a2eff2-fbcb-4ab2-94e5-eedd523967a4",
   "metadata": {},
   "outputs": [
    {
     "data": {
      "application/vnd.jupyter.widget-view+json": {
       "model_id": "5fb83f74f4674af885b8d6b29a9e006c",
       "version_major": 2,
       "version_minor": 0
      },
      "text/plain": [
       "  0%|          | 0/116 [00:00<?, ?it/s]"
      ]
     },
     "metadata": {},
     "output_type": "display_data"
    }
   ],
   "source": [
    "from tqdm.notebook import tqdm\n",
    "from bert_score import BERTScorer\n",
    "\n",
    "scorer = BERTScorer(model_type='bert-base-uncased',device='cuda:0')\n",
    "\n",
    "\n",
    "for index, row in tqdm(df_t.iterrows(), total=len(df_t)):\n",
    "    elaboration = row['target_sentence_target']\n",
    "    target = row['target_sentence_4o']\n",
    "    try:\n",
    "        #  BERTScore for this pair\n",
    "        P, R, F1 = scorer.score(\n",
    "            cands=[target],  \n",
    "            refs=[elaboration],              \n",
    "        )\n",
    "        \n",
    "        df_t.at[index,\"targets_bsf1\"] = F1.mean().item()\n",
    "    except Exception as e:\n",
    "        print(index)"
   ]
  },
  {
   "cell_type": "code",
   "execution_count": 162,
   "id": "f97b5402-5484-4065-9013-6f1be8ea6595",
   "metadata": {
    "scrolled": true
   },
   "outputs": [
    {
     "name": "stdout",
     "output_type": "stream",
     "text": [
      "ID: 1\n",
      "Similarity score: 0.503\n",
      "WASHINGTON – At least four people died in Midwest floods this Spring. But the death toll could have been higher. Forecasters said more people could have died if there were no river gauges. It sits in the water. The United States has 8,000 gauges to quickly track the rise of rivers. But that number may shrink. The reason is that lawmakers in Washington are in the middle of a fight.\n",
      "\n",
      "Elaboration: A gauge is a kind of measuring stick.\n",
      "Target sent: 'The United States has 8,000 gauges to quickly track the rise of rivers.' \n",
      "\n",
      "Target phrase: 'gauges'\n",
      "\n",
      "------------------------------------------------------------------------------------------------------------------------\n",
      "ID: 2\n",
      "Similarity score: 0.559\n",
      "WASHINGTON – At least four people died in Midwest floods this Spring. But the death toll could have been higher. Forecasters said more people could have died if there were no river gauges. A gauge is a kind of measuring stick. The United States has 8,000 gauges to quickly track the rise of rivers. But that number may shrink. The reason is that lawmakers in Washington are in the middle of a fight. They cannot agree over how much money the government should spend.\n",
      "\n",
      "Elaboration: It sits in the water.\n",
      "Target sent: 'A gauge is a kind of measuring stick.' \n",
      "\n",
      "Target phrase: 'gauge'\n",
      "\n",
      "------------------------------------------------------------------------------------------------------------------------\n",
      "ID: 10\n",
      "Similarity score: 0.487\n",
      "They don't agree about the civil war in Syria. Russia also decided to stop U.S. citizens from adopting Russian children. The United States is upset with Russia because of possible human rights violations. Obama also has criticized a new law in Russia that is called unfair to gays and lesbians. One is that the United States has set up a missile shield in Eastern Europe. This was done to block Russia from Europe, Moscow says. Snowden gave secrets to reporters about government programs that gather information. These programs involve calls people make on their cellphones and how they use the Internet.\n",
      "\n",
      "Elaboration: Moscow has its own complaints.\n",
      "Target sent: 'One is that the United States has set up a missile shield in Eastern Europe.' \n",
      "\n",
      "Target phrase: 'One is'\n",
      "\n",
      "------------------------------------------------------------------------------------------------------------------------\n",
      "ID: 11\n",
      "Similarity score: 0.593\n",
      "The Internet helped Mark Zuckerberg start Facebook while still a college student. Earlier this week in California's Silicon Valley, he announced a big plan. Zuckerberg wants to try to bring the Internet to billions of poor people. It was his latest move to show he is a tech boss who can also tackle public issues. He's not the only rich CEO who thinks technology can change the world.\n",
      "\n",
      "Elaboration: He soon became a billionaire.\n",
      "Target sent: 'The Internet helped Mark Zuckerberg start Facebook while still a college student.' \n",
      "\n",
      "Target phrase: 'Mark Zuckerberg'\n",
      "\n",
      "------------------------------------------------------------------------------------------------------------------------\n",
      "ID: 20\n",
      "Similarity score: 0.57\n",
      "\"I'm absolutely disgusted by it, but this is how our system works,\" said Luo, a math teacher. Luo is fighting hard to change things. The Chinese government has also started speaking out against overly expensive gifts. Such gifts are often really bribes. It is against the law both to give and to take bribes. When government officials take bribes for favors, it is called corruption. \"Gift-giving is a must, but you should avoid extravagance,\" the government newspaper declared. It warned against certain kinds of gifts: luxury brands, wine, expensive cigarettes, and large amounts of cash.\n",
      "\n",
      "Elaboration: They are given to an important person to get something in return.\n",
      "Target sent: 'Such gifts are often really bribes.' \n",
      "\n",
      "Target phrase: 'really bribes'\n",
      "\n",
      "------------------------------------------------------------------------------------------------------------------------\n",
      "ID: 22\n",
      "Similarity score: 0.556\n",
      "BERLIN \" If you think U.S. lawmakers behaved badly during the government shutdown, you are not alone. But one German newspaper writer asked why. After all, people in Germany had seen this sort of thing before. The Republicans insisted on cutting back the healthcare law. That led to the shutdown.\n",
      "\n",
      "Elaboration: People in Europe are also surprised at how U.S. leaders have acted.\n",
      "Target sent: 'If you think U.S. lawmakers behaved badly during the government shutdown, you are not alone.' \n",
      "\n",
      "Target phrase: 'you are not alone'\n",
      "\n",
      "------------------------------------------------------------------------------------------------------------------------\n",
      "ID: 30\n",
      "Similarity score: 0.549\n",
      "That group was at high risk of being autistic themselves. And 51 babies who had no close relatives with autism were in the other group. They were thought to have a lower risk of having autism. That group was used as a control. The babies were shown scenes of caregiving, such as being fed or getting bathed. At the same time, the scientists tracked their eyes. They wanted to see where the babies were looking. They measured the amount of time babies looked at the caregiver's eyes, mouth, body and things nearby.\n",
      "\n",
      "Elaboration: Experiments often have a \"control group\" to make sure that what a study finds is right.\n",
      "Target sent: 'That group was used as a control.' \n",
      "\n",
      "Target phrase: 'control'\n",
      "\n",
      "------------------------------------------------------------------------------------------------------------------------\n",
      "ID: 36\n",
      "Similarity score: 0.598\n",
      "Big cats split into several different species. They became lions, tigers, jaguars and leopards. But there's a problem: What scientists find by looking at big cat DNA doesn't agree with what the fossils tell them. Scientists are hoping to figure out where big cats first appeared. \"If you only looked at the fossil, it would suggest Africa,\" Tseng said. \"If you only looked at DNA, it would suggest Asia.\" Scientists haven't been able to make the two kinds of evidence match up. Scientists hope the new fossils will solve this puzzle.\n",
      "\n",
      "Elaboration: But the two kinds of evidence don't point to the same place.\n",
      "Target sent: \"Scientists haven't been able to make the two kinds of evidence match up.\" \n",
      "\n",
      "Target phrase: 'two kinds of evidence'\n",
      "\n",
      "------------------------------------------------------------------------------------------------------------------------\n",
      "ID: 42\n",
      "Similarity score: 0.474\n",
      "Parents also did not know that entering their password started a 15-minute clock. During this time, kids could buy things without having to enter the password again. Apple also agreed to change the way it bills customers. It will let people know when someone buys something on a game or app. He said the company gave in to the FTC. The agreement does not ask Apple \"to do anything we weren't already going to do.\" So, the company decided to accept it instead of starting a long fight with the FTC. Apple's store is a \"safe place\" for all its customers, he said.\n",
      "\n",
      "Elaboration: Tim Cook is the head of Apple.\n",
      "Target sent: 'He said the company gave in to the FTC.' \n",
      "\n",
      "Target phrase: 'He'\n",
      "\n",
      "------------------------------------------------------------------------------------------------------------------------\n",
      "ID: 43\n",
      "Similarity score: 0.575\n",
      "A court in San Francisco became the first in the country to decide this Tuesday. Until now, gay people could be kept off some juries just because they were gay. A gay person is attracted to a person of his or her own sex. The decision by the three judges on the court was unanimous. They sit on the 9th U.S. Circuit Court of Appeals. The decision came out of a 2011 fight between two companies that make medicine. A lawyer for one of them prevented a gay man from being on the jury without a good reason.\n",
      "\n",
      "Elaboration: That means that all three judges agreed.\n",
      "Target sent: 'The decision by the three judges on the court was unanimous.' \n",
      "\n",
      "Target phrase: 'was unanimous'\n",
      "\n",
      "------------------------------------------------------------------------------------------------------------------------\n",
      "ID: 48\n",
      "Similarity score: 0.575\n",
      "And the school's Viking mascot high-fived his way across the room. These fifth-graders are at an important turning point. How they see see themselves \" as smart or stupid \" may decide if they go to college. Western University wants to convince them that college is in their future. Not many Whatcom County high school graduates go to college. The number is lower than the state average. And the Washington state average is low to begin with. Less than 1 in 4 high school graduates in two districts there go to four-year universities.\n",
      "\n",
      "Elaboration: Western University is located in Whatcom County.\n",
      "Target sent: 'Western University wants to convince them that college is in their future.' \n",
      "\n",
      "Target phrase: 'Western University'\n",
      "\n",
      "------------------------------------------------------------------------------------------------------------------------\n",
      "ID: 63\n",
      "Similarity score: 0.561\n",
      "Basnet led a Nepali women's team up Everest. At first, few women wanted to become guides. They didn't want to leave their homes for many days. \"Some thought it was against our culture,\" said Nicky, the youngest sister. \"Women are expected to be at home doing household work.\" But soon the word spread. The women liked earning their own money, Nicky said. They didn't like depending on their husbands.\n",
      "\n",
      "Elaboration: Dicky is the middle sister.\n",
      "Target sent: '\"Some thought it was against our culture,\" said Nicky, the youngest sister.' \n",
      "\n",
      "Target phrase: 'the youngest sister'\n",
      "\n",
      "------------------------------------------------------------------------------------------------------------------------\n",
      "ID: 65\n",
      "Similarity score: 0.561\n",
      "\"It wouldn't fluke up,\" said Nancy Black, an ocean scientist. She was on board the Point Sur that day. Black was speaking of the tail flip that humpbacks perform before diving to feed. She also noticed several buoys were trailing behind it. Black called the U.S. Coast Guard. The whale was caught in a long line that connected to a crab trap. A rescue effort was started. Dozens of volunteers joined in.\n",
      "\n",
      "Elaboration: Buoys float in the water, marking where fishermen left their traps.\n",
      "Target sent: 'She also noticed several buoys were trailing behind it.' \n",
      "\n",
      "Target phrase: 'buoys'\n",
      "\n",
      "------------------------------------------------------------------------------------------------------------------------\n",
      "ID: 78\n",
      "Similarity score: 0.506\n",
      "PHILADELPHIA \" Brian Daniels went to the border between Turkey and Syria this summer. His mission: to help protect Syria's history from the violence of civil war. Daniels taught 20 Syrian people how to protect museums during emergencies. He gave them supplies to protect important pottery and old books. He is an expert on preserving culture and history. Daniels said he was amazed at the bravery of the Syrian people. They know their lives are in danger, Daniels said. They feel it is their duty to save the things that are most precious to Syria's history.\n",
      "\n",
      "Elaboration: Daniels is a professor at University of Pennsylvania.\n",
      "Target sent: 'He is an expert on preserving culture and history.' \n",
      "\n",
      "Target phrase: 'He'\n",
      "\n",
      "------------------------------------------------------------------------------------------------------------------------\n",
      "ID: 79\n",
      "Similarity score: 0.546\n",
      "Russia also captured a Lithuanian fishing ship. Russia claimed that it had sailed into Russian waters. Even more troubling, Russia asked Lithuania to send 1,500 people who used to be Soviet citizens to Russia. Supposedly, they hadn't joined the military when they were young men in the Soviet Union. In mid-September, Russian nuclear bombers flew within 63 miles of Alaska and 46 miles of Canada. The action forced U.S. and Canadian jets to fly out in response. Russia is also upgrading its nuclear weapons with new missiles, submarines and a new bomber. Congress should vote to approve the $350 million for weapons to give to Ukraine.\n",
      "\n",
      "Elaboration: It gets worse.\n",
      "Target sent: 'Even more troubling, Russia asked Lithuania to send 1,500 people who used to be Soviet citizens to Russia.' \n",
      "\n",
      "Target phrase: 'Even more troubling'\n",
      "\n",
      "------------------------------------------------------------------------------------------------------------------------\n",
      "ID: 81\n",
      "Similarity score: 0.543\n",
      "Brown was a black teenager without a weapon who was shot by a white police officer. He was killed in August in Ferguson, Missouri, near St. Louis. The shooting set off nearly nightly protests and violence. The black community felt that Brown wouldn't have been killed if he was white. They introduced themselves to police and city officials. Late that night, they met with Brown's family. They sat in a police truck and talked. The peacemakers work for a little-known unit of the U.S. Department of Justice.\n",
      "\n",
      "Elaboration: The peacemakers came into town to help create peace between the black and white communities.\n",
      "Target sent: 'The peacemakers work for a little-known unit of the U.S. Department of Justice.' \n",
      "\n",
      "Target phrase: 'peacemakers'\n",
      "\n",
      "------------------------------------------------------------------------------------------------------------------------\n",
      "ID: 93\n",
      "Similarity score: 0.563\n",
      "Disney had been trying to stop the ad planes for years. Michael P. Huerta is the leader of the FAA. Huerta told Congress that he would like to end the no-fly zones over Disney. Defenders of the no-fly zones say the Disney parks deserve special protection. They also attract large crowds. If airplanes could fly over Disney, there could be terror attacks. Others say the no-fly zones could not stop a terror attack. They think the law mostly hurts pilots who tow the ad banners.\n",
      "\n",
      "Elaboration: They say the parks have a special place in people's hearts.\n",
      "Target sent: 'Defenders of the no-fly zones say the Disney parks deserve special protection.' \n",
      "\n",
      "Target phrase: 'special protection'\n",
      "\n",
      "------------------------------------------------------------------------------------------------------------------------\n"
     ]
    }
   ],
   "source": [
    "df_check = df_t[df_t[\"targets_bsf1\"]<0.6]\n",
    "for index, row in df_check.iterrows():\n",
    "    print(\"ID:\", index)\n",
    "    print(\"Similarity score:\", round(row[\"targets_bsf1\"],3))\n",
    "    print(row[\"source_text\"], end=\"\\n\\n\")\n",
    "    print(\"Elaboration:\",row[\"elaboration_sentence\"])\n",
    "    print(\"Target sent:\",row[\"target_sentence_4o\"], end=\"\\n\\n\")\n",
    "    print(\"Target phrase:\",row[\"target_sentence_target\"], end=\"\\n\\n\")\n",
    "    print(\"-\"*120)"
   ]
  },
  {
   "cell_type": "code",
   "execution_count": 122,
   "id": "493549ca-9ba8-4f6c-8523-a519ba0fd935",
   "metadata": {},
   "outputs": [
    {
     "data": {
      "text/plain": [
       "\"'Healthy, Hunger-Free Kids Act'\""
      ]
     },
     "execution_count": 122,
     "metadata": {},
     "output_type": "execute_result"
    }
   ],
   "source": [
    "df_train.loc[728, \"target_sentence_target\"] = \"'Healthy, Hunger-Free Kids Act'\""
   ]
  },
  {
   "cell_type": "markdown",
   "id": "6b743836-454c-4ea1-9dd3-3182f2e002cb",
   "metadata": {},
   "source": [
    "## Check if target phrase is in target sent"
   ]
  },
  {
   "cell_type": "code",
   "execution_count": 117,
   "id": "e52f21b3-b2c7-4cf3-a125-e790ab62f806",
   "metadata": {},
   "outputs": [
    {
     "data": {
      "application/vnd.jupyter.widget-view+json": {
       "model_id": "ba458e2a5e404a119345c5e26395486b",
       "version_major": 2,
       "version_minor": 0
      },
      "text/plain": [
       "  0%|          | 0/116 [00:00<?, ?it/s]"
      ]
     },
     "metadata": {},
     "output_type": "display_data"
    }
   ],
   "source": [
    "import re\n",
    "from tqdm.notebook import tqdm\n",
    "\n",
    "def is_substring_in_sentence(target_phrase, target_sentence, elaboration_sentence=None):\n",
    "    \"\"\"\n",
    "    Check if a normalized version of the target phrase is in the target sentence.\n",
    "    \"\"\"\n",
    "\n",
    "    def normalize(text):\n",
    "        # convert to lowercase\n",
    "        text = text.lower()\n",
    "        # remove punctuation\n",
    "        text = re.sub(r'[^\\w\\s]', '', text)\n",
    "        # remove extra spaces\n",
    "        text = \" \".join(text.split())\n",
    "        return text\n",
    "\n",
    "    normalized_phrase = normalize(target_phrase)\n",
    "    normalized_sentence = normalize(target_sentence)\n",
    "    if elaboration_sentence:\n",
    "        normalized_elab_sentence = normalize(elaboration_sentence)\n",
    "        return normalized_phrase in normalized_sentence and normalized_phrase in normalized_elab_sentence\n",
    "\n",
    "    return normalized_phrase in normalized_sentence\n",
    "\n",
    "for index, row in tqdm(df_t.iterrows(), total=len(df_t)):\n",
    "    target = row['target_sentence_target']\n",
    "    target_sent = row['target_sentence_4o']\n",
    "    elab_sent = row['elaboration_sentence']\n",
    "    try:\n",
    "        df_t.at[index,\"target_isin\"] = is_substring_in_sentence(target, target_sent)\n",
    "    except Exception as e:\n",
    "        print(index)"
   ]
  },
  {
   "cell_type": "code",
   "execution_count": 84,
   "id": "704043ab-bf4f-4eb1-8939-60f0944039bf",
   "metadata": {},
   "outputs": [
    {
     "name": "stdout",
     "output_type": "stream",
     "text": [
      "54\n",
      "ID: 1\n",
      "He called the talk a \"fireside hangout.\" President Franklin D. Roosevelt used to make informal radio broadcasts called \"fireside chats.\"\n",
      "\n",
      "Elaboration: Obama's fireside hangout included many questions from different kinds of people.\n",
      "Target sent: 'He called the talk a \"fireside hangout.\"' \n",
      "\n",
      "Target phrase: '\"fireside hangout\"'\n",
      "\n",
      "------------------------------------------------------------------------------------------------------------------------\n",
      "ID: 16\n",
      "And a lot of criminals have gotten away, too. One of the biggest robberies happened in February 2005 in the Netherlands at an airport in Amsterdam.\n",
      "\n",
      "Elaboration: The Netherlands borders Belgium.\n",
      "Target sent: 'One of the biggest robberies happened in February 2005 in the Netherlands at an airport in Amsterdam.' \n",
      "\n",
      "Target phrase: 'the Netherlands'\n",
      "\n",
      "------------------------------------------------------------------------------------------------------------------------\n",
      "ID: 21\n",
      "These animals are part of American history. They  are related to the horses used by Spanish explorers, Native Americans and the cavalry.\n",
      "\n",
      "Elaboration: The cavalry were the Army's horseback-riding soldiers.\n",
      "Target sent: 'They are related to the horses used by Spanish explorers, Native Americans and the cavalry.' \n",
      "\n",
      "Target phrase: 'the cavalry'\n",
      "\n",
      "------------------------------------------------------------------------------------------------------------------------\n",
      "ID: 78\n",
      "The event was part of Michelle Obama's Let's Move program. The program fights childhood [obesity](https://www.newsela.com/?tag=obesity) in America.\n",
      "\n",
      "Elaboration: Obesity is being very overweight.\n",
      "Target sent: 'The program fights childhood obesity in America.' \n",
      "\n",
      "Target phrase: 'obesity'\n",
      "\n",
      "------------------------------------------------------------------------------------------------------------------------\n",
      "ID: 98\n",
      "The League says he kept using testosterone and human growth hormone. Athletes take both to try to build muscle.\n",
      "\n",
      "Elaboration: Both can have dangerous side affects, according to the Mayo Clinic.\n",
      "Target sent: 'Athletes take both to try to build muscle.' \n",
      "\n",
      "Target phrase: 'both'\n",
      "\n",
      "------------------------------------------------------------------------------------------------------------------------\n",
      "ID: 131\n",
      "\"We are people of fish, we are people of salmon, that is what we depend on,\" said Tom Tilden. He is the Curyung Tribal Chief.\n",
      "\n",
      "Elaboration: Curyung is the Yupik Indian name for Dillingham.\n",
      "Target sent: 'He is the Curyung Tribal Chief.' \n",
      "\n",
      "Target phrase: 'Curyung'\n",
      "\n",
      "------------------------------------------------------------------------------------------------------------------------\n",
      "ID: 160\n",
      "The epicenter of the earthquake was 40 miles northeast of Awaran. Earthquakes start underground.\n",
      "\n",
      "Elaboration: The epicenter is on the earth's surface.\n",
      "Target sent: 'The epicenter of the earthquake was 40 miles northeast of Awaran.' \n",
      "\n",
      "Target phrase: 'The epicenter'\n",
      "\n",
      "------------------------------------------------------------------------------------------------------------------------\n",
      "ID: 169\n",
      "The energy business is big in Wyoming. Most of the state's money comes from coal, gas and uranium.\n",
      "\n",
      "Elaboration: Uranium is used for nuclear fuel.\n",
      "Target sent: \"Most of the state's money comes from coal, gas and uranium.\" \n",
      "\n",
      "Target phrase: 'uranium'\n",
      "\n",
      "------------------------------------------------------------------------------------------------------------------------\n",
      "ID: 180\n",
      "It is designed to allow visitors to relax and watch the cartoons. Some may sit back and take their time.\n",
      "\n",
      "Elaboration: Some may only want to watch parts of the clips.\n",
      "Target sent: 'Some may sit back and take their time.' \n",
      "\n",
      "Target phrase: 'Some may'\n",
      "\n",
      "------------------------------------------------------------------------------------------------------------------------\n",
      "ID: 185\n",
      "We don't have labs for it.\" The study of artificial intelligence deals with things like robots.\n",
      "\n",
      "Elaboration: And robots are too expensive for schools in poorer countries.\n",
      "Target sent: 'The study of artificial intelligence deals with things like robots.' \n",
      "\n",
      "Target phrase: 'robots'\n",
      "\n",
      "------------------------------------------------------------------------------------------------------------------------\n",
      "ID: 194\n",
      "Then they were lost or left somewhere, found by someone else, and reworked to be used again, he said. Early humans used axes and flint to shape tools.\n",
      "\n",
      "Elaboration: Flint is a hard rock.\n",
      "Target sent: 'Early humans used axes and flint to shape tools.' \n",
      "\n",
      "Target phrase: 'flint'\n",
      "\n",
      "------------------------------------------------------------------------------------------------------------------------\n",
      "ID: 196\n",
      "A British company called Oxitec Ltd. has a mosquito called OX513A. The mosquito's genes have been changed.\n",
      "\n",
      "Elaboration: Genes are the building blocks of a living thing.\n",
      "Target sent: \"The mosquito's genes have been changed.\" \n",
      "\n",
      "Target phrase: 'genes'\n",
      "\n",
      "------------------------------------------------------------------------------------------------------------------------\n",
      "ID: 234\n",
      "Driving a car burns fuel. Heating a house burns fuel.\n",
      "\n",
      "Elaboration: Running a factory burns fuel.\n",
      "Target sent: 'Heating a house burns fuel.' \n",
      "\n",
      "Target phrase: 'burns fuel'\n",
      "\n",
      "------------------------------------------------------------------------------------------------------------------------\n",
      "ID: 249\n",
      "Robert F. Kennedy was the former president's brother. He served in the president's cabinet.\n",
      "\n",
      "Elaboration: He also wanted to be president, but he was killed less than five years after his brother.\n",
      "Target sent: \"He served in the president's cabinet.\" \n",
      "\n",
      "Target phrase: 'He'\n",
      "\n",
      "------------------------------------------------------------------------------------------------------------------------\n",
      "ID: 344\n",
      "He gave his yearly State of the Union speech last week. In it the president said that Congress was fighting too much.\n",
      "\n",
      "Elaboration: Congress is made up of people elected to vote on laws.\n",
      "Target sent: 'In it the president said that Congress was fighting too much.' \n",
      "\n",
      "Target phrase: 'Congress'\n",
      "\n",
      "------------------------------------------------------------------------------------------------------------------------\n",
      "ID: 356\n",
      "A team of scientists from around the world set out to answer that question. They took DNA from the teeth of two plague victims.\n",
      "\n",
      "Elaboration: DNA holds information about how you look and how your body will work.\n",
      "Target sent: 'They took DNA from the teeth of two plague victims.' \n",
      "\n",
      "Target phrase: 'DNA'\n",
      "\n",
      "------------------------------------------------------------------------------------------------------------------------\n",
      "ID: 369\n",
      "On Tuesday afternoon, protesters hit the streets. They began marching toward the parliament building.\n",
      "\n",
      "Elaboration: Parliament is a branch of the government like Congress in the United States.\n",
      "Target sent: 'They began marching toward the parliament building.' \n",
      "\n",
      "Target phrase: 'parliament'\n",
      "\n",
      "------------------------------------------------------------------------------------------------------------------------\n",
      "ID: 374\n",
      "They were there to settle a question: Can college athletes form a union? If the idea is approved, the new union will be the first of its kind in U.S. history.\n",
      "\n",
      "Elaboration: Unions are groups of workers from a single trade, such as nurses or carpenters.\n",
      "Target sent: 'If the idea is approved, the new union will be the first of its kind in U.S. history.' \n",
      "\n",
      "Target phrase: 'union'\n",
      "\n",
      "------------------------------------------------------------------------------------------------------------------------\n",
      "ID: 377\n",
      "The reason why is complicated. They said its genes were too much like the genes of other giraffes.\n",
      "\n",
      "Elaboration: All plants and animals have genes.\n",
      "Target sent: 'They said its genes were too much like the genes of other giraffes.' \n",
      "\n",
      "Target phrase: 'genes'\n",
      "\n",
      "------------------------------------------------------------------------------------------------------------------------\n",
      "ID: 379\n",
      "All plants and animals have genes. They play a big part in what animals and plants look and act like.\n",
      "\n",
      "Elaboration: Genes are passed down from parents.\n",
      "Target sent: 'All plants and animals have genes.' \n",
      "\n",
      "Target phrase: 'genes'\n",
      "\n",
      "------------------------------------------------------------------------------------------------------------------------\n",
      "ID: 385\n",
      "He expressed his \"deep concern\" about the situation, the White House said. Obama said that Russia was breaking international law.\n",
      "\n",
      "Elaboration: John Kerry is the U.S. Secretary of State.\n",
      "Target sent: 'He expressed his \"deep concern\" about the situation, the White House said.' \n",
      "\n",
      "Target phrase: 'He'\n",
      "\n",
      "------------------------------------------------------------------------------------------------------------------------\n",
      "ID: 393\n",
      "Another official said there is a list of lost and stolen passports. It is kept by Interpol.\n",
      "\n",
      "Elaboration: Interpol is a global police group.\n",
      "Target sent: 'It is kept by Interpol.' \n",
      "\n",
      "Target phrase: 'Interpol'\n",
      "\n",
      "------------------------------------------------------------------------------------------------------------------------\n",
      "ID: 399\n",
      "A serum is a medicine. In 1925, towns in Alaska needed the serum to cure diphtheria.\n",
      "\n",
      "Elaboration: Diphtheria is an infection.\n",
      "Target sent: 'In 1925, towns in Alaska needed the serum to cure diphtheria.' \n",
      "\n",
      "Target phrase: 'diphtheria'\n",
      "\n",
      "------------------------------------------------------------------------------------------------------------------------\n",
      "ID: 439\n",
      "Relaxing the safety rules would not be good. NASA might allow special cases, the committee said.\n",
      "\n",
      "Elaboration: But there should be very few special cases.\n",
      "Target sent: 'NASA might allow special cases, the committee said.' \n",
      "\n",
      "Target phrase: 'special cases'\n",
      "\n",
      "------------------------------------------------------------------------------------------------------------------------\n",
      "ID: 447\n",
      "Obama asked the religious leaders to fight religious hate, including anti-Semitism. Anti-Semitism is prejudice against Jews.\n",
      "\n",
      "Elaboration: People have prejudice if they think a group of people are bad or not smart.\n",
      "Target sent: 'Anti-Semitism is prejudice against Jews.' \n",
      "\n",
      "Target phrase: 'prejudice'\n",
      "\n",
      "------------------------------------------------------------------------------------------------------------------------\n",
      "ID: 486\n",
      "Jacobs, who is black, decided to fight. She began a petition to change the new rules.\n",
      "\n",
      "Elaboration: A petition is a request to change something.\n",
      "Target sent: 'She began a petition to change the new rules.' \n",
      "\n",
      "Target phrase: 'a petition'\n",
      "\n",
      "------------------------------------------------------------------------------------------------------------------------\n",
      "ID: 487\n",
      "This is called [global warming](https://www.newsela.com/?tag=global warming). Scientists say people burn too much fossil fuels.\n",
      "\n",
      "Elaboration: Fossil fuels come from nature.\n",
      "Target sent: 'Scientists say people burn too much fossil fuels.' \n",
      "\n",
      "Target phrase: 'fossil fuels'\n",
      "\n",
      "------------------------------------------------------------------------------------------------------------------------\n",
      "ID: 501\n",
      "One of them is global warming. Global warming happens when people burn fossil fuels.\n",
      "\n",
      "Elaboration: Fossil fuels are fuels from the Earth, like coal, oil and gas.\n",
      "Target sent: 'Global warming happens when people burn fossil fuels.' \n",
      "\n",
      "Target phrase: 'fossil fuels'\n",
      "\n",
      "------------------------------------------------------------------------------------------------------------------------\n",
      "ID: 539\n",
      "ORLANDO, Fla. \" A bunch of Coyotes will be let loose in hurricanes this year. Their mission: to improve our understanding of hurricanes.\n",
      "\n",
      "Elaboration: These coyotes aren't the four-legged kind, however.\n",
      "Target sent: 'A bunch of Coyotes will be let loose in hurricanes this year.' \n",
      "\n",
      "Target phrase: 'Coyotes'\n",
      "\n",
      "------------------------------------------------------------------------------------------------------------------------\n",
      "ID: 552\n",
      "The team quickly announced it will fight the new ruling. It may be years before a final decision is made.\n",
      "\n",
      "Elaboration: Still, the new ruling shows that more and more people believe the name must be changed.\n",
      "Target sent: 'The team quickly announced it will fight the new ruling.' \n",
      "\n",
      "Target phrase: 'new ruling'\n",
      "\n",
      "------------------------------------------------------------------------------------------------------------------------\n",
      "ID: 559\n",
      "Drones are like an eye in the sky. People use drones to take pictures of sports events.\n",
      "\n",
      "Elaboration: Drones can take pictures of nature.\n",
      "Target sent: 'People use drones to take pictures of sports events.' \n",
      "\n",
      "Target phrase: 'take pictures'\n",
      "\n",
      "------------------------------------------------------------------------------------------------------------------------\n",
      "ID: 574\n",
      "Some feel people should still be told to swim parallel to shore. Others feel they should be told to float and wait.\n",
      "\n",
      "Elaboration: The \"float and wait\" approach does have its dangers.\n",
      "Target sent: 'Others feel they should be told to float and wait.' \n",
      "\n",
      "Target phrase: 'float and wait'\n",
      "\n",
      "------------------------------------------------------------------------------------------------------------------------\n",
      "ID: 614\n",
      "SAN DIEGO, Calif. \" SeaWorld San Diego has many sea animals.\n",
      "\n",
      "Elaboration: Sea animals normally live in the ocean.\n",
      "Target sent: 'SeaWorld San Diego has many sea animals.' \n",
      "\n",
      "Target phrase: 'sea animals'\n",
      "\n",
      "------------------------------------------------------------------------------------------------------------------------\n",
      "ID: 618\n",
      "Marchers pushed toward one end of a street. Police pushed them back with tear gas.\n",
      "\n",
      "Elaboration: Tear gas is a chemical that causes the eyes to tear up.\n",
      "Target sent: 'Police pushed them back with tear gas.' \n",
      "\n",
      "Target phrase: 'tear gas'\n",
      "\n",
      "------------------------------------------------------------------------------------------------------------------------\n",
      "ID: 620\n",
      "The scientists are taking samples of rock. They are also measuring conditions down deep.\n",
      "\n",
      "Elaboration: These conditions include the temperature and pressure.\n",
      "Target sent: 'They are also measuring conditions down deep.' \n",
      "\n",
      "Target phrase: 'conditions'\n",
      "\n",
      "------------------------------------------------------------------------------------------------------------------------\n",
      "ID: 650\n",
      "The students talked with them about their ideas of nature. Steven Harris is studying earth sciences and anthropology in New York.\n",
      "\n",
      "Elaboration: Anthropology is the study of humans and how they evolved.\n",
      "Target sent: 'Steven Harris is studying earth sciences and anthropology in New York.' \n",
      "\n",
      "Target phrase: 'anthropology'\n",
      "\n",
      "------------------------------------------------------------------------------------------------------------------------\n",
      "ID: 676\n",
      "Al-Qaida was blamed for the 9/11 attacks in the U.S. Later ISIL broke off from al-Qaida. It has now taken over parts of Iraq and Syria.\n",
      "\n",
      "Elaboration: It wants to set up its own country under Islamic law.\n",
      "Target sent: 'It has now taken over parts of Iraq and Syria.' \n",
      "\n",
      "Target phrase: 'It'\n",
      "\n",
      "------------------------------------------------------------------------------------------------------------------------\n",
      "ID: 706\n",
      "The strikes were carried out by different aircraft including fighter jets and bombers. The U.S. military also used drones.\n",
      "\n",
      "Elaboration: The drones are planes that fly with no pilot and drop bombs.\n",
      "Target sent: 'The U.S. military also used drones.' \n",
      "\n",
      "Target phrase: 'drones'\n",
      "\n",
      "------------------------------------------------------------------------------------------------------------------------\n",
      "ID: 708\n",
      "ISIL is trying to form a new country in the Middle East. It has already taken over parts of Iraq and Syria.\n",
      "\n",
      "Elaboration: The group has killed U.S. journalists and local citizens.\n",
      "Target sent: 'It has already taken over parts of Iraq and Syria.' \n",
      "\n",
      "Target phrase: 'It'\n",
      "\n",
      "------------------------------------------------------------------------------------------------------------------------\n",
      "ID: 766\n",
      "The search is making countries around the Baltic Sea very nervous. Sweden's search is bringing back bad memories of the Cold War.\n",
      "\n",
      "Elaboration: The Cold War stretched from 1945 to 1991.\n",
      "Target sent: \"Sweden's search is bringing back bad memories of the Cold War.\" \n",
      "\n",
      "Target phrase: 'the Cold War'\n",
      "\n",
      "------------------------------------------------------------------------------------------------------------------------\n",
      "ID: 767\n",
      "On one side were U.S.-led Western countries; on the other side were the Soviet Bloc countries led by the Soviet Union. The Soviet Union, in turn, was controlled by Russia.\n",
      "\n",
      "Elaboration: In 1991, the Soviet Union broke up.\n",
      "Target sent: 'The Soviet Union, in turn, was controlled by Russia.' \n",
      "\n",
      "Target phrase: 'The Soviet Union'\n",
      "\n",
      "------------------------------------------------------------------------------------------------------------------------\n",
      "ID: 777\n",
      "He was also dressed in black with a scarf covering half of his face. The gunman shot and killed the soldier guarding the war memorial.\n",
      "\n",
      "Elaboration: He then went to the government building nearby.\n",
      "Target sent: 'He was also dressed in black with a scarf covering half of his face.' \n",
      "\n",
      "Target phrase: 'He'\n",
      "\n",
      "------------------------------------------------------------------------------------------------------------------------\n",
      "ID: 787\n",
      "Farmers put poison on their crops. They don't want bugs to eat the crops.\n",
      "\n",
      "Elaboration: The poison kills the bugs.\n",
      "Target sent: 'Farmers put poison on their crops.' \n",
      "\n",
      "Target phrase: 'poison'\n",
      "\n",
      "------------------------------------------------------------------------------------------------------------------------\n",
      "ID: 831\n",
      "She is an American professor doing work in Mexico City. Anderson became interested in people like Landa when she noticed something strange about a call center near her house.\n",
      "\n",
      "Elaboration: Workers at call centers help people over the phone.\n",
      "Target sent: 'Anderson became interested in people like Landa when she noticed something strange about a call center near her house.' \n",
      "\n",
      "Target phrase: 'call center'\n",
      "\n",
      "------------------------------------------------------------------------------------------------------------------------\n",
      "ID: 847\n",
      "Since last year millions of sea stars have died. A disease has killed the animals, also called starfish, from Alaska to Mexico.\n",
      "\n",
      "Elaboration: It's an epidemic \" a disease that is out of control.\n",
      "Target sent: 'A disease has killed the animals, also called starfish, from Alaska to Mexico.' \n",
      "\n",
      "Target phrase: 'A disease'\n",
      "\n",
      "------------------------------------------------------------------------------------------------------------------------\n",
      "ID: 855\n",
      "In the new book, Barbie says, \"Really good games are made by a team of people. I'm doing some of the coding now, but Steven and Brian are helping, too.\"\n",
      "\n",
      "Elaboration: Coding means writing computer code.\n",
      "Target sent: 'In the new book, Barbie says, \"Really good games are made by a team of people. I\\'m doing some of the coding now, but Steven and Brian are helping, too.\"' \n",
      "\n",
      "Target phrase: 'coding'\n",
      "\n",
      "------------------------------------------------------------------------------------------------------------------------\n",
      "ID: 873\n",
      "A driver knows where the person is through GPS. It uses satellites to pinpoint where someone is.\n",
      "\n",
      "Elaboration: Nearly every cellphone has GPS now.\n",
      "Target sent: 'A driver knows where the person is through GPS.' \n",
      "\n",
      "Target phrase: 'GPS'\n",
      "\n",
      "------------------------------------------------------------------------------------------------------------------------\n",
      "ID: 926\n",
      "That was not always the case. When it was first found, archaeologists were more interested in other things from the sunken ship.\n",
      "\n",
      "Elaboration: Archaeologists study human history by looking at items from the past.\n",
      "Target sent: 'When it was first found, archaeologists were more interested in other things from the sunken ship.' \n",
      "\n",
      "Target phrase: 'archaeologists'\n",
      "\n",
      "------------------------------------------------------------------------------------------------------------------------\n",
      "ID: 945\n",
      "He admits Native Americans were treated badly at the missions, but he does not blame Serra. He blames colonialism.\n",
      "\n",
      "Elaboration: During colonialism, Spain and other European countries came to North America.\n",
      "Target sent: 'He blames colonialism.' \n",
      "\n",
      "Target phrase: 'colonialism'\n",
      "\n",
      "------------------------------------------------------------------------------------------------------------------------\n",
      "ID: 973\n",
      "It acts just like a giant magnet. People use geomagnetism too.\n",
      "\n",
      "Elaboration: Geomagnetism makes a compass needle point to north.\n",
      "Target sent: 'People use geomagnetism too.' \n",
      "\n",
      "Target phrase: 'geomagnetism'\n",
      "\n",
      "------------------------------------------------------------------------------------------------------------------------\n",
      "ID: 992\n",
      "There are too many people who played football as kids to test all of them. Instead, scientists test a few of them and look for patterns.\n",
      "\n",
      "Elaboration: They hope that these patterns are the same for everyone.\n",
      "Target sent: 'Instead, scientists test a few of them and look for patterns.' \n",
      "\n",
      "Target phrase: 'patterns'\n",
      "\n",
      "------------------------------------------------------------------------------------------------------------------------\n",
      "ID: 1012\n",
      "It wants to map the DNA of 100,000 types of pathogens found in food. The DNA maps allow scientists to tell one type of microbe from another.\n",
      "\n",
      "Elaboration: A microbe is a tiny living thing.\n",
      "Target sent: 'The DNA maps allow scientists to tell one type of microbe from another.' \n",
      "\n",
      "Target phrase: 'microbe'\n",
      "\n",
      "------------------------------------------------------------------------------------------------------------------------\n",
      "ID: 1028\n",
      "Theme park designers also have to respect local beliefs. One of them is feng shui, Marks said.\n",
      "\n",
      "Elaboration: In Chinese, feng shui means wind-water.\n",
      "Target sent: 'One of them is feng shui, Marks said.' \n",
      "\n",
      "Target phrase: 'feng shui'\n",
      "\n",
      "------------------------------------------------------------------------------------------------------------------------\n",
      "ID: 1031\n",
      "Braille is a way that blind people can read. They move their fingers over raised bumps.\n",
      "\n",
      "Elaboration: The raised bumps stand for letters.\n",
      "Target sent: 'They move their fingers over raised bumps.' \n",
      "\n",
      "Target phrase: 'raised bumps'\n",
      "\n",
      "------------------------------------------------------------------------------------------------------------------------\n"
     ]
    }
   ],
   "source": [
    "df_check = df_t[df_t[\"target_isin\"]==True]\n",
    "print(len(df_check))\n",
    "for index, row in df_check.iterrows():\n",
    "    print(\"ID:\", index)\n",
    "    #print(\"Similarity score:\", round(row[\"targets_bsf1\"],3))\n",
    "    print(row[\"source_text\"], end=\"\\n\\n\")\n",
    "    print(\"Elaboration:\",row[\"elaboration_sentence\"])\n",
    "    print(\"Target sent:\",row[\"target_sentence_4o\"], end=\"\\n\\n\")\n",
    "    print(\"Target phrase:\",row[\"target_sentence_target\"], end=\"\\n\\n\")\n",
    "    print(\"-\"*120)"
   ]
  },
  {
   "cell_type": "markdown",
   "id": "73fc15ac-214b-496c-96d4-2fb67a9f737d",
   "metadata": {},
   "source": [
    "## Correct"
   ]
  },
  {
   "cell_type": "code",
   "execution_count": 53,
   "id": "449f1284-3848-4ec7-a35c-fe0cb6338ae1",
   "metadata": {},
   "outputs": [
    {
     "data": {
      "application/vnd.jupyter.widget-view+json": {
       "model_id": "0ce5ff3a0e1647eab78b699808822302",
       "version_major": 2,
       "version_minor": 0
      },
      "text/plain": [
       "  0%|          | 0/116 [00:00<?, ?it/s]"
      ]
     },
     "metadata": {},
     "output_type": "display_data"
    }
   ],
   "source": [
    "import pandas as pd\n",
    "from tqdm.notebook import tqdm\n",
    "from pydantic import BaseModel\n",
    "\n",
    "\n",
    "df_targets = pd.read_csv(f\"../data/elaborations/test_ds_sp_subjects_targets.csv\")\n",
    "column_name = \"target_sentence_4o\" \n",
    "df_targets[column_name] = df_targets[column_name].fillna(\"\")\n",
    "\n",
    "\n",
    "class ExplanationTarget(BaseModel):\n",
    "    #subject: str\n",
    "    target_sentence: str\n",
    "\n",
    "SYSTEM_PROMPT_TARGET_SENT = \"\"\"\n",
    "You are an expert in identifying the sentence from the CONTEXT TEXT that the provided explanation sentence clarifies or refers to. \n",
    "Your task is to return the sentence from the CONTEXT TEXT, not the explanation sentence itself.\n",
    "\"\"\"\n",
    "\n",
    "def format_target_sent_example(example):\n",
    "    return [\n",
    "            {\"role\": \"system\", \"content\": SYSTEM_PROMPT_TARGET_SENT},\n",
    "            {\"role\": \"user\", \"content\":  \"Identify the target sentence that the following explanation: '{}' clarifies or refers to within the given text: '{}'\".format(\n",
    "    example[\"elaboration_sentence\"], example[\"label_text\"])},\n",
    "        ]\n",
    "\n",
    "df_targets[\"messages\"] = df_targets.apply(format_target_sent_example, axis=1)\n",
    "\n",
    "for idx, example in tqdm(df_targets.iterrows(),total=len(df_targets)):\n",
    "    if df_targets.at[idx,column_name] == \"\":\n",
    "        completion = client.beta.chat.completions.parse(model=MODEL,messages=example[\"messages\"],response_format=ExplanationTarget)\n",
    "        df_targets.at[idx,column_name] = completion.choices[0].message.parsed"
   ]
  },
  {
   "cell_type": "code",
   "execution_count": 48,
   "id": "39663dd5-242b-444f-8d01-481cbb47cd9f",
   "metadata": {},
   "outputs": [
    {
     "name": "stdout",
     "output_type": "stream",
     "text": [
      "[{'role': 'system', 'content': '\\nYou are an expert in identifying the sentence from the CONTEXT TEXT that the provided explanation sentence clarifies or refers to. \\nYour task is to return the sentence from the CONTEXT TEXT, not the explanation sentence itself.\\n'}, {'role': 'user', 'content': 'Identify the target sentence that the following explanation: \\'Tim Cook is the head of Apple.\\' clarifies or refers to within the given text: \\'Apple also agreed to change the way it bills customers. It will let people know when someone buys something on a game or app. Tim Cook is the head of Apple. He said the company gave in to the FTC. The agreement does not ask Apple \"to do anything we weren\\'t already going to do.\"\\''}]\n"
     ]
    }
   ],
   "source": [
    "print(df_targets[\"messages\"].iloc[42])"
   ]
  },
  {
   "cell_type": "code",
   "execution_count": 55,
   "id": "eb0570c5-8787-4ad8-a91b-eecbe6268fdf",
   "metadata": {},
   "outputs": [
    {
     "data": {
      "text/plain": [
       "ExplanationTarget(target_sentence='When the people who make the fantasy teams bet money that their players will score the most points, it is considered gambling.')"
      ]
     },
     "execution_count": 55,
     "metadata": {},
     "output_type": "execute_result"
    }
   ],
   "source": [
    "df_targets.loc[,\"target_sentence_4o\"]"
   ]
  },
  {
   "cell_type": "code",
   "execution_count": 13,
   "id": "e65fd4a9-39cf-4922-89cc-43a4861a20de",
   "metadata": {},
   "outputs": [],
   "source": [
    "import pandas as pd\n",
    "\n",
    "split = \"train\"\n",
    "setting = \"c4sp\"\n",
    "filename = f\"../data/elaborations/train/{split}_ds_{setting}_elab_targets.csv\" #f\"../data/elaborations/{split}_ds_{setting}_subjects_targets.csv\"#f\"../data/elaborations/{split}_ds_{setting}_elab_targets.csv\"\n",
    "df_t = pd.read_csv(filename)"
   ]
  },
  {
   "cell_type": "code",
   "execution_count": 14,
   "id": "3d32dd88-f2bb-46b5-ad71-11b44f40ffdc",
   "metadata": {},
   "outputs": [
    {
     "data": {
      "text/html": [
       "<div>\n",
       "<style scoped>\n",
       "    .dataframe tbody tr th:only-of-type {\n",
       "        vertical-align: middle;\n",
       "    }\n",
       "\n",
       "    .dataframe tbody tr th {\n",
       "        vertical-align: top;\n",
       "    }\n",
       "\n",
       "    .dataframe thead th {\n",
       "        text-align: right;\n",
       "    }\n",
       "</style>\n",
       "<table border=\"1\" class=\"dataframe\">\n",
       "  <thead>\n",
       "    <tr style=\"text-align: right;\">\n",
       "      <th></th>\n",
       "      <th>doc_num</th>\n",
       "      <th>source_text</th>\n",
       "      <th>label_text</th>\n",
       "      <th>elaboration_sentence</th>\n",
       "      <th>response</th>\n",
       "      <th>target_sentence_4o</th>\n",
       "      <th>target_sentence_target</th>\n",
       "    </tr>\n",
       "  </thead>\n",
       "  <tbody>\n",
       "  </tbody>\n",
       "</table>\n",
       "</div>"
      ],
      "text/plain": [
       "Empty DataFrame\n",
       "Columns: [doc_num, source_text, label_text, elaboration_sentence, response, target_sentence_4o, target_sentence_target]\n",
       "Index: []"
      ]
     },
     "execution_count": 14,
     "metadata": {},
     "output_type": "execute_result"
    }
   ],
   "source": [
    "df_t[df_t[\"target_sentence_4o\"]==\"\"]"
   ]
  },
  {
   "cell_type": "code",
   "execution_count": null,
   "id": "3765333a-f3ed-4511-8b6f-1b7360727636",
   "metadata": {},
   "outputs": [],
   "source": []
  }
 ],
 "metadata": {
  "kernelspec": {
   "display_name": "Python 3 (ipykernel)",
   "language": "python",
   "name": "python3"
  },
  "language_info": {
   "codemirror_mode": {
    "name": "ipython",
    "version": 3
   },
   "file_extension": ".py",
   "mimetype": "text/x-python",
   "name": "python",
   "nbconvert_exporter": "python",
   "pygments_lexer": "ipython3",
   "version": "3.9.18"
  }
 },
 "nbformat": 4,
 "nbformat_minor": 5
}
