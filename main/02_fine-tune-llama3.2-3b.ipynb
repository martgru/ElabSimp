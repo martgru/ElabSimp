{
 "cells": [
  {
   "cell_type": "markdown",
   "id": "44d64ebf-f0ca-4096-ad2b-4347ae5065f1",
   "metadata": {},
   "source": [
    "# Load data"
   ]
  },
  {
   "cell_type": "code",
   "execution_count": 1,
   "id": "d83499ca-d22e-4bd0-83e0-1ca3abb98f52",
   "metadata": {},
   "outputs": [
    {
     "name": "stdout",
     "output_type": "stream",
     "text": [
      "DatasetDict({\n",
      "    train: Dataset({\n",
      "        features: ['doc_num', 'source_text', 'label_text', 'elaboration_sentence', 'contextual_specificity_rating'],\n",
      "        num_rows: 1049\n",
      "    })\n",
      "    validation: Dataset({\n",
      "        features: ['doc_num', 'source_text', 'label_text', 'elaboration_sentence', 'contextual_specificity_rating'],\n",
      "        num_rows: 134\n",
      "    })\n",
      "    test: Dataset({\n",
      "        features: ['doc_num', 'source_text', 'label_text', 'elaboration_sentence', 'contextual_specificity_rating'],\n",
      "        num_rows: 116\n",
      "    })\n",
      "})\n"
     ]
    }
   ],
   "source": [
    "from datasets import load_dataset\n",
    "import pandas as pd\n",
    "import os\n",
    "\n",
    "data_path = \"../data/elaborations\"\n",
    "\n",
    "data_files_c2s = {\n",
    "    'train': os.path.join(data_path,\"train\",\"train_ds_c2s.csv\"),      \n",
    "    'validation': os.path.join(data_path,\"validation\",\"valid_ds_c2s.csv\"),  \n",
    "    'test': os.path.join(data_path,\"test\",\"test_ds_c2s.csv\")         \n",
    "}\n",
    "\n",
    "data_files_c2s_masked = {\n",
    "    'train': os.path.join(data_path,\"train\",\"train_ds_c2s_masked_llama.csv\"),      \n",
    "    'validation': os.path.join(data_path,\"validation\",\"valid_ds_c2s_masked_llama.csv\"),  \n",
    "    'test': os.path.join(data_path,\"test\",\"test_ds_c2s_masked_llama.csv\")         \n",
    "}\n",
    "\n",
    "data_files_c2sp = {\n",
    "    'train': os.path.join(data_path,\"train\",\"train_ds_c2sp.csv\"),      \n",
    "    'validation': os.path.join(data_path,\"validation\",\"valid_ds_c2sp.csv\"),  \n",
    "    'test': os.path.join(data_path,\"test\",\"test_ds_c2sp.csv\")         \n",
    "}\n",
    "\n",
    "# complex only\n",
    "data_files_c2spo = {\n",
    "    'train': os.path.join(data_path,\"train\",\"train_ds_c2spo.csv\"),      \n",
    "    'validation': os.path.join(data_path,\"validation\",\"valid_ds_c2spo.csv\"),  \n",
    "    'test': os.path.join(data_path,\"test\",\"test_ds_c2spo.csv\")         \n",
    "}\n",
    "\n",
    "data_files_c2sp_masked = {\n",
    "    'train': os.path.join(data_path,\"train\",\"train_ds_c2sp_masked_llama.csv\"),      \n",
    "    'validation': os.path.join(data_path,\"validation\",\"valid_ds_c2sp_masked_llama.csv\"),  \n",
    "    'test': os.path.join(data_path,\"test\",\"test_ds_c2sp_masked_llama.csv\")         \n",
    "}\n",
    "\n",
    "data_files_c4s = {\n",
    "    'train': os.path.join(data_path,\"train\",\"train_ds_c4s.csv\"),      \n",
    "    'validation': os.path.join(data_path,\"validation\",\"valid_ds_c4s.csv\"),  \n",
    "    'test': os.path.join(data_path,\"test\",\"test_ds_c4s.csv\")         \n",
    "}\n",
    "\n",
    "data_files_c4s_masked = {\n",
    "    'train': os.path.join(data_path,\"train\",\"train_ds_c4s_masked_llama.csv\"),      \n",
    "    'validation': os.path.join(data_path,\"validation\",\"valid_ds_c4s_masked_llama.csv\"),  \n",
    "    'test': os.path.join(data_path,\"test\",\"test_ds_c4s_masked_llama.csv\")         \n",
    "}\n",
    "\n",
    "\n",
    "data_files_c2os = {\n",
    "    'train': os.path.join(data_path,\"train\",\"train_ds_c2os.csv\"),      \n",
    "    'validation': os.path.join(data_path,\"validation\",\"valid_ds_c2os.csv\"),  \n",
    "    'test': os.path.join(data_path,\"test\",\"test_ds_c2os.csv\")         \n",
    "}\n",
    "\n",
    "data_files_c2osp = {\n",
    "    'train': os.path.join(data_path,\"train\",\"train_ds_c2osp.csv\"),      \n",
    "    'validation': os.path.join(data_path,\"validation\",\"valid_ds_c2osp.csv\"),  \n",
    "    'test': os.path.join(data_path,\"test\",\"test_ds_c2osp.csv\")         \n",
    "}\n",
    "\n",
    "data_files_c4sp = {\n",
    "    'train': os.path.join(data_path,\"train\",\"train_ds_c4sp.csv\"),      \n",
    "    'validation': os.path.join(data_path,\"validation\",\"valid_ds_c4sp.csv\"),  \n",
    "    'test': os.path.join(data_path,\"test\",\"test_ds_c4sp.csv\")         \n",
    "}\n",
    "\n",
    "# complex only\n",
    "data_files_c4spo = {\n",
    "    'train': os.path.join(data_path,\"train\",\"train_ds_c4spo.csv\"),      \n",
    "    'validation': os.path.join(data_path,\"validation\",\"valid_ds_c4spo.csv\"),  \n",
    "    'test': os.path.join(data_path,\"test\",\"test_ds_c4spo.csv\")         \n",
    "}\n",
    "\n",
    "data_files_c4sp_masked = {\n",
    "    'train': os.path.join(data_path,\"train\",\"train_ds_c4sp_masked_llama.csv\"),      \n",
    "    'validation': os.path.join(data_path,\"validation\",\"valid_ds_c4sp_masked_llama.csv\"),  \n",
    "    'test': os.path.join(data_path,\"test\",\"test_ds_c4sp_masked_llama.csv\")         \n",
    "}\n",
    "\n",
    "data_files_c4osp = {\n",
    "    'train': os.path.join(data_path,\"train\",\"train_ds_c4osp.csv\"),      \n",
    "    'validation': os.path.join(data_path,\"validation\",\"valid_ds_c4osp.csv\"),  \n",
    "    'test': os.path.join(data_path,\"test\",\"test_ds_c4osp.csv\")         \n",
    "}\n",
    "\n",
    "dataset = load_dataset('csv', data_files=data_files_c4spo)\n",
    "print(dataset)"
   ]
  },
  {
   "cell_type": "markdown",
   "id": "7b705767-facf-43d7-88b6-b4b84200d972",
   "metadata": {},
   "source": [
    "## Add subject and target info"
   ]
  },
  {
   "cell_type": "code",
   "execution_count": 2,
   "id": "bf698348-63c2-42c5-8d25-1c1944158b9c",
   "metadata": {
    "scrolled": true
   },
   "outputs": [],
   "source": [
    "df_train_s = pd.read_csv(os.path.join(data_path, \"train_ds_s_subjects_targets.csv\"))\n",
    "df_train_sp = pd.read_csv(os.path.join(data_path, \"train_ds_sp_subjects_targets.csv\"))\n",
    "df_train_spo = pd.read_csv(os.path.join(data_path, \"train_ds_c2spo_subjects_targets.csv\"))\n",
    "\n",
    "\n",
    "df_valid_s = pd.read_csv(os.path.join(data_path, \"validation_ds_s_subjects_targets.csv\"))\n",
    "df_valid_sp = pd.read_csv(os.path.join(data_path, \"validation_ds_sp_subjects_targets.csv\"))\n",
    "df_valid_spo = pd.read_csv(os.path.join(data_path, \"validation_ds_c2spo_subjects_targets.csv\"))\n",
    "\n",
    "\n",
    "df_test_s = pd.read_csv(os.path.join(data_path, \"test_ds_s_subjects_targets.csv\"))\n",
    "df_test_sp = pd.read_csv(os.path.join(data_path, \"test_ds_sp_subjects_targets.csv\"))\n",
    "df_test_spo = pd.read_csv(os.path.join(data_path, \"test_ds_c2spo_subjects_targets.csv\"))\n",
    "\n",
    "df_train = df_train_spo\n",
    "df_valid = df_valid_spo\n",
    "df_test = df_test_spo\n",
    "\n",
    "col_name = \"target_sentence_4o\" #\"target_sentence_target\"#\"target_sentence_4o\"\n",
    "\n",
    "dataset[\"train\"] = dataset[\"train\"].add_column(col_name, df_train[col_name])\n",
    "dataset[\"validation\"] = dataset[\"validation\"].add_column(col_name, df_valid[col_name])\n",
    "dataset[\"test\"] = dataset[\"test\"].add_column(col_name, df_test[col_name])"
   ]
  },
  {
   "cell_type": "code",
   "execution_count": 3,
   "id": "01905e65-a40d-4c1a-bc9e-1dc5a34089c8",
   "metadata": {},
   "outputs": [
    {
     "name": "stdout",
     "output_type": "stream",
     "text": [
      "DatasetDict({\n",
      "    train: Dataset({\n",
      "        features: ['doc_num', 'source_text', 'label_text', 'elaboration_sentence', 'contextual_specificity_rating', 'target_sentence_4o'],\n",
      "        num_rows: 1049\n",
      "    })\n",
      "    validation: Dataset({\n",
      "        features: ['doc_num', 'source_text', 'label_text', 'elaboration_sentence', 'contextual_specificity_rating', 'target_sentence_4o'],\n",
      "        num_rows: 134\n",
      "    })\n",
      "    test: Dataset({\n",
      "        features: ['doc_num', 'source_text', 'label_text', 'elaboration_sentence', 'contextual_specificity_rating', 'target_sentence_4o'],\n",
      "        num_rows: 116\n",
      "    })\n",
      "})\n"
     ]
    }
   ],
   "source": [
    "print(dataset)"
   ]
  },
  {
   "cell_type": "markdown",
   "id": "e39018bf-ec83-4777-811d-5ede8d33edb8",
   "metadata": {
    "jp-MarkdownHeadingCollapsed": true
   },
   "source": [
    "## Check length"
   ]
  },
  {
   "cell_type": "code",
   "execution_count": 2,
   "id": "85613e5a-ac65-42c2-b1b9-9cef364c7d91",
   "metadata": {},
   "outputs": [
    {
     "data": {
      "text/plain": [
       "{'train': 0, 'validation': 0, 'test': 0}"
      ]
     },
     "execution_count": 2,
     "metadata": {},
     "output_type": "execute_result"
    }
   ],
   "source": [
    "def count_texts_over_word_limit(dataset_dict, column, word_limit=150):\n",
    "    word_count = {}\n",
    "\n",
    "    for split in dataset_dict:\n",
    "        dataset = dataset_dict[split]\n",
    "        count_over_limit = 0\n",
    "\n",
    "        for example in dataset:\n",
    "            try:\n",
    "                num_words = len(example[column].split()) # count on spaces\n",
    "                if num_words > word_limit:\n",
    "                    count_over_limit += 1\n",
    "            except AttributeError as e: \n",
    "                print(f\"Empty string in doc num: {example['doc_num']}\")\n",
    "                continue \n",
    "\n",
    "        word_count[split] = count_over_limit\n",
    "\n",
    "    return word_count\n",
    "\n",
    "count_texts_over_word_limit(dataset, column='source_text')"
   ]
  },
  {
   "cell_type": "markdown",
   "id": "f6b6b6f6-b982-4cf2-8b0a-d2357ed4ea9e",
   "metadata": {},
   "source": [
    "# Load the model"
   ]
  },
  {
   "cell_type": "code",
   "execution_count": 4,
   "id": "b8177410-3aa9-44fa-84f7-66c2d7f375a2",
   "metadata": {},
   "outputs": [
    {
     "data": {
      "application/vnd.jupyter.widget-view+json": {
       "model_id": "66c3ed0f547a4a03b5a43d747e8be8eb",
       "version_major": 2,
       "version_minor": 0
      },
      "text/plain": [
       "Loading checkpoint shards:   0%|          | 0/2 [00:00<?, ?it/s]"
      ]
     },
     "metadata": {},
     "output_type": "display_data"
    }
   ],
   "source": [
    "from transformers import AutoTokenizer, AutoModelForCausalLM\n",
    "import torch\n",
    "from trl import setup_chat_format\n",
    "from trl.extras.dataset_formatting import conversations_formatting_function\n",
    "torch.cuda.empty_cache()\n",
    "# LLAMA 3.2 3B\n",
    "tokenizer = AutoTokenizer.from_pretrained('meta-llama/Llama-3.2-3B', cache_dir=\"../models/llama/\") \n",
    "model =  AutoModelForCausalLM.from_pretrained('meta-llama/Llama-3.2-3B', cache_dir=\"../models/llama/\", device_map ={'':torch.cuda.current_device()})"
   ]
  },
  {
   "cell_type": "markdown",
   "id": "3b4e5a7c-0a25-4aaf-8ddd-766c971e7bd1",
   "metadata": {
    "jp-MarkdownHeadingCollapsed": true
   },
   "source": [
    "## Config"
   ]
  },
  {
   "cell_type": "code",
   "execution_count": 3,
   "id": "439adc8f-2034-4e70-a7da-4fac79e6691e",
   "metadata": {},
   "outputs": [],
   "source": [
    "# set the pad_token for llama 3.2 3B\n",
    "tokenizer.pad_token = tokenizer.eos_token #\"<|finetune_right_pad_id|>\" "
   ]
  },
  {
   "cell_type": "markdown",
   "id": "68174a11-1d6d-475d-98a6-ad7303ebbcde",
   "metadata": {
    "jp-MarkdownHeadingCollapsed": true
   },
   "source": [
    "# Tokenize dataset"
   ]
  },
  {
   "cell_type": "code",
   "execution_count": 4,
   "id": "77ed9772-8a71-45f4-ac10-f531c1b6784a",
   "metadata": {},
   "outputs": [],
   "source": [
    "import numpy as np\n",
    "\n",
    "def adjust_labels(example):\n",
    "    # replace padding token in labels with -100 for correct loss calculation\n",
    "    example[\"labels\"] = [\n",
    "        -100 if token == tokenizer.pad_token_id else token\n",
    "        for token in example[\"labels\"]\n",
    "    ]\n",
    "    return example\n",
    "\n",
    "def tokenize_func(examples):\n",
    "    # inputs\n",
    "    inputs = tokenizer(examples['source_text'], truncation=True, padding=\"max_length\",max_length=64) # padding=\"max_length\"\n",
    "    # labels\n",
    "    labels = tokenizer(examples['elaboration_sentence'],truncation=True,padding=\"max_length\", max_length=64)\n",
    "    # set the labels in the input dictionary\n",
    "    inputs['labels'] = labels['input_ids'] #labels['input_ids'] or np.array(labels['input_ids'])\n",
    "    return inputs\n",
    "\n",
    "tokenized_dataset = dataset.map(tokenize_func, batched=True)\n",
    "#tokenized_dataset = tokenized_dataset.map(adjust_labels, batched=False)\n",
    "#tokenized_dataset.set_format(type='torch', columns=['input_ids', 'attention_mask', 'labels'])"
   ]
  },
  {
   "cell_type": "markdown",
   "id": "ff061f50-1d17-4eff-838f-ade82933f610",
   "metadata": {},
   "source": [
    "# Fine-tune"
   ]
  },
  {
   "cell_type": "code",
   "execution_count": 3,
   "id": "e7f594d2-1c93-4b61-8e9c-26e32ab55216",
   "metadata": {},
   "outputs": [
    {
     "name": "stdout",
     "output_type": "stream",
     "text": [
      "Steps per epoch: 32\n",
      "Logging steps: 5\n"
     ]
    }
   ],
   "source": [
    "from model_utils import calculate_logging_steps\n",
    "steps_per_epoch, logging_steps = calculate_logging_steps(dataset, batch_size=32, logging_frequency=6)"
   ]
  },
  {
   "cell_type": "markdown",
   "id": "17183c49-28a5-40cd-84bf-8c8003de13c7",
   "metadata": {
    "jp-MarkdownHeadingCollapsed": true
   },
   "source": [
    "## No instruct"
   ]
  },
  {
   "cell_type": "code",
   "execution_count": 6,
   "id": "84a6effc-6c08-4385-969f-e0aa6714a214",
   "metadata": {},
   "outputs": [],
   "source": [
    "from trl import SFTConfig, SFTTrainer\n",
    "from transformers import DataCollatorForLanguageModeling\n",
    "\n",
    "\n",
    "model.train()\n",
    "\n",
    "# data collator\n",
    "data_collator = DataCollatorForLanguageModeling(\n",
    "    tokenizer=tokenizer, \n",
    "    mlm=False,  # no masked language modeling \n",
    ")\n",
    "\n",
    "logs_dir = \"../models/llama/llama3.2-news-ft/logs/logs-c2s\"\n",
    "\n",
    "training_args = SFTConfig(\n",
    "    output_dir=\"../models/llama/llama3.2-news-ft/results/results-c2s\",\n",
    "    max_seq_length= 64,\n",
    "    eval_strategy=\"epoch\",  \n",
    "    save_strategy=\"no\",  \n",
    "    logging_strategy=\"steps\",  \n",
    "    logging_steps=6, \n",
    "    learning_rate=1e-6,  \n",
    "    per_device_train_batch_size=32, \n",
    "    per_device_eval_batch_size=32,  \n",
    "    num_train_epochs=3,  \n",
    "    weight_decay=0.01,  \n",
    "    warmup_steps=2,  \n",
    "    optim=\"paged_adamw_8bit\",  \n",
    "    fp16=True,  \n",
    "    logging_dir=logs_dir, \n",
    "    push_to_hub=False,\n",
    "    group_by_length=True,  \n",
    "    save_total_limit=0,\n",
    "\n",
    ")\n",
    "\n",
    "trainer = SFTTrainer(\n",
    "    model,\n",
    "    train_dataset=tokenized_dataset[\"train\"],  \n",
    "    eval_dataset=tokenized_dataset[\"validation\"],  \n",
    "    args=training_args,   \n",
    "    data_collator=data_collator, \n",
    ")\n",
    "\n",
    "model.config.use_cache = False"
   ]
  },
  {
   "cell_type": "code",
   "execution_count": 7,
   "id": "81556570-fdb3-40d6-a0bb-87ade6c4d334",
   "metadata": {},
   "outputs": [
    {
     "data": {
      "text/html": [
       "\n",
       "    <div>\n",
       "      \n",
       "      <progress value='99' max='99' style='width:300px; height:20px; vertical-align: middle;'></progress>\n",
       "      [99/99 00:29, Epoch 3/3]\n",
       "    </div>\n",
       "    <table border=\"1\" class=\"dataframe\">\n",
       "  <thead>\n",
       " <tr style=\"text-align: left;\">\n",
       "      <th>Epoch</th>\n",
       "      <th>Training Loss</th>\n",
       "      <th>Validation Loss</th>\n",
       "    </tr>\n",
       "  </thead>\n",
       "  <tbody>\n",
       "    <tr>\n",
       "      <td>1</td>\n",
       "      <td>2.960200</td>\n",
       "      <td>3.143848</td>\n",
       "    </tr>\n",
       "    <tr>\n",
       "      <td>2</td>\n",
       "      <td>2.700500</td>\n",
       "      <td>3.052567</td>\n",
       "    </tr>\n",
       "    <tr>\n",
       "      <td>3</td>\n",
       "      <td>2.559600</td>\n",
       "      <td>3.032315</td>\n",
       "    </tr>\n",
       "  </tbody>\n",
       "</table><p>"
      ],
      "text/plain": [
       "<IPython.core.display.HTML object>"
      ]
     },
     "metadata": {},
     "output_type": "display_data"
    },
    {
     "name": "stderr",
     "output_type": "stream",
     "text": [
      "Trainer.tokenizer is now deprecated. You should use Trainer.processing_class instead.\n",
      "Trainer.tokenizer is now deprecated. You should use Trainer.processing_class instead.\n",
      "Trainer.tokenizer is now deprecated. You should use Trainer.processing_class instead.\n",
      "Trainer.tokenizer is now deprecated. You should use Trainer.processing_class instead.\n",
      "Trainer.tokenizer is now deprecated. You should use Trainer.processing_class instead.\n",
      "Trainer.tokenizer is now deprecated. You should use Trainer.processing_class instead.\n"
     ]
    },
    {
     "data": {
      "text/plain": [
       "TrainOutput(global_step=99, training_loss=2.8347623805807096, metrics={'train_runtime': 30.1256, 'train_samples_per_second': 104.164, 'train_steps_per_second': 3.286, 'total_flos': 3396568057380864.0, 'train_loss': 2.8347623805807096, 'epoch': 3.0})"
      ]
     },
     "execution_count": 7,
     "metadata": {},
     "output_type": "execute_result"
    }
   ],
   "source": [
    "trainer.train()"
   ]
  },
  {
   "cell_type": "markdown",
   "id": "fdfe754e-75b0-4ddd-860c-7222aeb9b21d",
   "metadata": {
    "jp-MarkdownHeadingCollapsed": true
   },
   "source": [
    "### Learning curve"
   ]
  },
  {
   "cell_type": "code",
   "execution_count": 8,
   "id": "dd833154-5ed1-4d7a-834d-bac508d1abac",
   "metadata": {},
   "outputs": [
    {
     "data": {
      "image/png": "[encoded data removed]",
      "text/plain": [
       "<Figure size 1000x500 with 1 Axes>"
      ]
     },
     "metadata": {},
     "output_type": "display_data"
    }
   ],
   "source": [
    "from model_utils import plot_loss_curves\n",
    "plot_loss_curves(trainer)"
   ]
  },
  {
   "cell_type": "markdown",
   "id": "59885301-9d9a-403c-bcdb-b5bc77c803ef",
   "metadata": {},
   "source": [
    "## Instruct\n",
    "\n",
    "https://huggingface.co/docs/trl/en/sft_trainer"
   ]
  },
  {
   "cell_type": "code",
   "execution_count": 3,
   "id": "d9062c07-ee30-4b0b-bbd9-98e2f64f55c9",
   "metadata": {},
   "outputs": [],
   "source": [
    "ZERO_SHOT_SYSTEM_PROMPT = \"\"\"You are an expert in generating exactly one short explanatory sentence (made up of around 10 words or fewer) in a plain English for a given context text. \n",
    "Your task is to provide additional information related to the complex statement, term, action, or concept that is semantically missing from the context text.\n",
    "You may do this by offering a definition, examples, background knowledge, general statements, a description of the flow of actions, or an explanation of the reason or result of the target action.\n",
    "The tone should be plain and simple!\n",
    "Return only ONE short concise explanatory sentence!\n",
    "\"\"\""
   ]
  },
  {
   "cell_type": "code",
   "execution_count": 3,
   "id": "46f51472-05c5-43e7-b6d9-83576a1d732f",
   "metadata": {},
   "outputs": [],
   "source": [
    "# text with elaboration sentence masked -> elaboration sentence\n",
    "SYSTEM_PROMPT_MASKED = \"\"\"You are an expert in generating exactly one short explanatory sentence (made up of around 10 words or fewer) in a plain English for a given context text. \n",
    "Your task is to provide additional information related to the complex statement, term, action, or concept that is semantically missing from the context text.\n",
    "You may do this by offering a definition, examples, background knowledge, general statements, a description of the flow of actions, or an explanation of the reason or result of the target action.\n",
    "Your task is to replace the `<explanatory sentence>` tag in the provided text with the explanation sentence you generate.\n",
    "Return only the explanation sentence itself, without any tags, formatting, or additional text.\n",
    "The tone should be plain and simple!\n",
    "Return only ONE short concise explanatory sentence!\n",
    "\"\"\""
   ]
  },
  {
   "cell_type": "code",
   "execution_count": 3,
   "id": "f7e6539b-9475-40c9-aed3-e9b54584a002",
   "metadata": {},
   "outputs": [],
   "source": [
    "# text with elaboration sentence masked -> text with filled-out elaboration sentence\n",
    "SYSTEM_PROMPT_MASKED2 = \"\"\"You are an expert in generating exactly ONE short concise explanation sentence (made up of around 10 words or fewer) in a plain English for a given context text. \n",
    "Your task is to replace the `<explanatory sentence>` tag in the provided text with an explanation sentence that adds relevant information to clarify a complex statement, term, action, or concept that is semantically missing from the text.\n",
    "The tone should be plain and simple!\n",
    "\"\"\""
   ]
  },
  {
   "cell_type": "code",
   "execution_count": 5,
   "id": "0c9262f8-8fd8-4e81-a050-03f96a988a8f",
   "metadata": {},
   "outputs": [],
   "source": [
    "SYSTEM_PROMPT_SHORT = \"\"\"You are an expert in generating exactly ONE short concise explanation sentence (made up of around 10 words or fewer) in a plain English for a given context text. \n",
    "The tone should be plain and simple!\"\"\""
   ]
  },
  {
   "cell_type": "markdown",
   "id": "3bb3f940-0400-4372-9c67-b9e89cb081e9",
   "metadata": {
    "jp-MarkdownHeadingCollapsed": true
   },
   "source": [
    "### ChatMLFormat "
   ]
  },
  {
   "cell_type": "code",
   "execution_count": 5,
   "id": "92029d21-5798-42d5-bb40-9adc2af65c3a",
   "metadata": {},
   "outputs": [
    {
     "name": "stderr",
     "output_type": "stream",
     "text": [
      "The new embeddings will be initialized from a multivariate normal distribution that has old embeddings' mean and covariance. As described in this article: https://nlp.stanford.edu/~johnhew/vocab-expansion.html. To disable this, use `mean_resizing=False`\n"
     ]
    }
   ],
   "source": [
    "model, tokenizer = setup_chat_format(model, tokenizer)\n",
    "formatting_func = conversations_formatting_function(tokenizer, \"messages\")"
   ]
  },
  {
   "cell_type": "code",
   "execution_count": 30,
   "id": "9d453b47-f98c-4955-aa56-fe15c877bcac",
   "metadata": {},
   "outputs": [
    {
     "name": "stdout",
     "output_type": "stream",
     "text": [
      "<|im_start|>system\n",
      "You are an expert in generating exactly one short explanatory sentence (made up of around 10 words or fewer) in a plain English for a given context text. \n",
      "Your task is to provide additional information related to the complex statement, term, action, or concept that is semantically missing from the context text.\n",
      "You may do this by offering a definition, examples, background knowledge, general statements, a description of the flow of actions, or an explanation of the reason or result of the target action.\n",
      "Your task is to replace the `<explanatory sentence>` tag in the provided text with the explanation sentence you generate.\n",
      "Return only the explanation sentence itself, without any tags, formatting, or additional text.\n",
      "The tone should be plain and simple!\n",
      "Return only ONE short concise explanatory sentence!\n",
      "<|im_end|>\n",
      "<|im_start|>user\n",
      "Context: A watermark is an image that can be seen in the paper when you hold it up to the light. Investigators say Kellogg tried to copy the watermark. <explanatory sentence> First he printed the front side of the money on one piece of paper. He printed the back of the bill on a separate sheet.<|im_end|>\n",
      "<|im_start|>assistant\n",
      "Here's how they say he did it.<|im_end|>\n",
      "\n"
     ]
    }
   ],
   "source": [
    "formatted_example = formatting_func(formatted_train_dataset[0])\n",
    "print(formatted_example)"
   ]
  },
  {
   "cell_type": "code",
   "execution_count": 19,
   "id": "0af7e840-2264-45ff-a5aa-e4c1698f0617",
   "metadata": {},
   "outputs": [
    {
     "data": {
      "text/plain": [
       "[{'content': 'You are an expert in generating exactly ONE short concise explanation sentence (made up of around 10 words or fewer) in a plain English for a given context text. \\nThe tone should be plain and simple!',\n",
       "  'role': 'system'},\n",
       " {'content': \": Return the explanation sentence for the following context text: 'A watermark is an image that can be seen in the paper when you hold it up to the light. Investigators say Kellogg tried to copy the watermark.'. The subject of the explanation sentence should be: 'Investigators'.\",\n",
       "  'role': 'user'},\n",
       " {'content': \"Here's how they say he did it.\", 'role': 'assistant'}]"
      ]
     },
     "execution_count": 19,
     "metadata": {},
     "output_type": "execute_result"
    }
   ],
   "source": [
    "formatted_train_dataset[0][\"messages\"]"
   ]
  },
  {
   "cell_type": "code",
   "execution_count": 33,
   "id": "9402afb9-7925-4046-a7b8-dfc05774e50a",
   "metadata": {},
   "outputs": [
    {
     "name": "stdout",
     "output_type": "stream",
     "text": [
      "<|im_end|>\n"
     ]
    }
   ],
   "source": [
    "print(tokenizer.eos_token)"
   ]
  },
  {
   "cell_type": "code",
   "execution_count": 18,
   "id": "243b6ff8-4f7c-49ad-bdd9-4cfd7f8e7bd9",
   "metadata": {},
   "outputs": [
    {
     "data": {
      "application/vnd.jupyter.widget-view+json": {
       "model_id": "a2269396b346400b906c60fdd945290f",
       "version_major": 2,
       "version_minor": 0
      },
      "text/plain": [
       "Map:   0%|          | 0/1046 [00:00<?, ? examples/s]"
      ]
     },
     "metadata": {},
     "output_type": "display_data"
    },
    {
     "data": {
      "application/vnd.jupyter.widget-view+json": {
       "model_id": "e97ce3f05e8b4fd0a6abab572db69aac",
       "version_major": 2,
       "version_minor": 0
      },
      "text/plain": [
       "Map:   0%|          | 0/132 [00:00<?, ? examples/s]"
      ]
     },
     "metadata": {},
     "output_type": "display_data"
    },
    {
     "data": {
      "application/vnd.jupyter.widget-view+json": {
       "model_id": "efa80adc1ba3440d998c2fdc5d34fd86",
       "version_major": 2,
       "version_minor": 0
      },
      "text/plain": [
       "Map:   0%|          | 0/116 [00:00<?, ? examples/s]"
      ]
     },
     "metadata": {},
     "output_type": "display_data"
    }
   ],
   "source": [
    "def create_user_message_subject(example):\n",
    "    return f\": Return the explanation sentence for the following context text: '{example['source_text']}'. The subject of the explanation sentence should be: '{example['subject']}'.\"\n",
    "\n",
    "\n",
    "def format_example(example):\n",
    "    return {\n",
    "        \"messages\": [\n",
    "            {\"role\": \"system\", \"content\": SYSTEM_PROMPT_SHORT},\n",
    "            {\"role\": \"user\", \"content\": create_user_message_subject(example)}, # Context or Text\n",
    "            {\"role\": \"assistant\", \"content\":  f\"{example['elaboration_sentence']}\"}\n",
    "        ]\n",
    "    }\n",
    "    \n",
    "\n",
    "def format_test_example(example):\n",
    "    return {\n",
    "        \"messages\": [\n",
    "            {\"role\": \"system\", \"content\": SYSTEM_PROMPT_SHORT},\n",
    "            {\"role\": \"user\", \"content\": create_user_message_subject(example)},\n",
    "             {\"role\": \"assistant\", \"content\":\"\"}\n",
    "        ]\n",
    "    }\n",
    "\n",
    "formatted_train_dataset = dataset[\"train\"].map(format_example)\n",
    "formatted_validation_dataset = dataset[\"validation\"].map(format_example)\n",
    "formatted_test_dataset = dataset[\"test\"].map(format_test_example)"
   ]
  },
  {
   "cell_type": "code",
   "execution_count": 20,
   "id": "ba143790-1f66-4aa2-9056-ebbe482dd684",
   "metadata": {},
   "outputs": [
    {
     "name": "stdout",
     "output_type": "stream",
     "text": [
      "Mean length of messages: 28.91459528362014\n"
     ]
    }
   ],
   "source": [
    "def calculate_mean_message_length(dataset):\n",
    "    total_length = 0\n",
    "    message_count = 0\n",
    "\n",
    "    for entry in dataset:\n",
    "        messages = entry.get('messages', [])\n",
    "        for message in messages:\n",
    "            content = message.get('content', \"\")\n",
    "            total_length += len(content.split())  # Count words in the content\n",
    "            message_count += 1\n",
    "\n",
    "    return total_length / message_count if message_count > 0 else 0\n",
    "\n",
    "mean_length = calculate_mean_message_length(formatted_train_dataset)\n",
    "print(f\"Mean length of messages: {mean_length}\")"
   ]
  },
  {
   "cell_type": "markdown",
   "id": "e4a2e794-dcce-419c-aa59-f89be8377bd0",
   "metadata": {},
   "source": [
    "## Alpaca format"
   ]
  },
  {
   "cell_type": "markdown",
   "id": "9b18901e-b3a3-4253-9817-5842eb2e92f0",
   "metadata": {
    "jp-MarkdownHeadingCollapsed": true
   },
   "source": [
    "#### BASE"
   ]
  },
  {
   "cell_type": "code",
   "execution_count": 3,
   "id": "fb88a33f-34fe-4205-bbc8-78b0e64839d1",
   "metadata": {},
   "outputs": [],
   "source": [
    "# set the pad_token for llama 3.2 3B\n",
    "tokenizer.pad_token = tokenizer.eos_token\n",
    "EOS_TOKEN = tokenizer.eos_token\n",
    "\n",
    "alpaca_prompt = \"\"\"### User: Your task is to generate exactly ONE short concise explanation sentence (made up of around 10 words or fewer) in a plain English for a given context text. The tone should be plain and simple! {}\\n### Assistant: {}\"\"\"\n",
    "\n",
    "def create_user_message(context):\n",
    "    return f\"Return the explanation sentence for the following context text: '{context}'.\"\n",
    "\n",
    "def formatting_prompts_func(examples):\n",
    "    contexts = examples[\"source_text\"]\n",
    "    elab_sentences = examples[\"elaboration_sentence\"]\n",
    "    texts = []\n",
    "    for context, elab_sent in zip(contexts, elab_sentences):\n",
    "        # must add EOS_TOKEN, otherwise the generation wont stop\n",
    "        text = alpaca_prompt.format(create_user_message(context), elab_sent) + EOS_TOKEN\n",
    "        texts.append(text)\n",
    "    return texts\n",
    "\n",
    "test_alpaca_prompt = \"\"\"### User: Your task is to generate exactly ONE short concise explanation sentence (made up of around 10 words or fewer) in a plain English for a given context text. \n",
    "The tone should be plain and simple! {}\\n### Assistant:\"\"\"\n",
    "\n",
    "def formatting_test_prompts_func(examples):\n",
    "    contexts = examples[\"source_text\"]\n",
    "    texts = []\n",
    "    for context in contexts:\n",
    "        # must add EOS_TOKEN, otherwise the generation wont stop\n",
    "        text = test_alpaca_prompt.format(create_user_message(context)) \n",
    "        texts.append(text)\n",
    "    return texts\n",
    "\n",
    "formatted_test_dataset = formatting_test_prompts_func(dataset[\"test\"])"
   ]
  },
  {
   "cell_type": "code",
   "execution_count": 5,
   "id": "b866120e-12a0-407a-9b1e-2779f88fb9e1",
   "metadata": {},
   "outputs": [
    {
     "data": {
      "text/plain": [
       "\"### User: Your task is to generate exactly ONE short concise explanation sentence (made up of around 10 words or fewer) in a plain English for a given context text. \\nThe tone should be plain and simple! Return the explanation sentence for the following context text: 'At a time when Facebook's growth rate is slowing in the developed world, Zuckerberg has acknowledged Facebook stands to benefit from putting the Internet within reach of more people around the world. An ambitious effort to bring the Internet to billions of poor people is only the latest move by Facebook Inc.'s Mark Zuckerberg to carve out a high-profile role as a tech CEO who can wield influence over public issues. And while he's not the only one of his peers promoting the power of technology to change the world, the scale and ambition of Zuckerberg's industry alliance to promote global Internet access makes the 29-year-old CEO one of the most prominent advocates for Silicon Valley's unique blend of business and altruism. Helping new populations get online is clearly in Facebook's interest, said futurist and longtime Silicon Valley observer Paul Saffo.'.\\n### Assistant:\""
      ]
     },
     "execution_count": 5,
     "metadata": {},
     "output_type": "execute_result"
    }
   ],
   "source": [
    "formatted_test_dataset[11]"
   ]
  },
  {
   "cell_type": "markdown",
   "id": "1f92129a-7f46-426d-9782-54be33bd78db",
   "metadata": {
    "jp-MarkdownHeadingCollapsed": true
   },
   "source": [
    "#### Masked version"
   ]
  },
  {
   "cell_type": "code",
   "execution_count": 3,
   "id": "097819d9-92cb-4eb7-9b7d-45afb2b4c5b6",
   "metadata": {},
   "outputs": [],
   "source": [
    "# set the pad_token for llama 3.2 3B\n",
    "tokenizer.pad_token = tokenizer.eos_token\n",
    "EOS_TOKEN = tokenizer.eos_token\n",
    "\n",
    "alpaca_prompt = \"\"\"### User: Your task is to generate exactly ONE short concise explanation sentence (made up of around 10 words or fewer) in a plain English for a given context text. The tone should be plain and simple! {}\\n### Assistant: {}\"\"\"\n",
    "\n",
    "def create_user_message(context):\n",
    "    return f\"Return the explanation sentence that could replace the `<explanatory sentence>` tag in the following text: '{context}'.\"\n",
    "\n",
    "def formatting_prompts_func(examples):\n",
    "    contexts = examples[\"source_text\"]\n",
    "    elab_sentences = examples[\"elaboration_sentence\"]\n",
    "    texts = []\n",
    "    for context, elab_sent in zip(contexts, elab_sentences):\n",
    "        # must add EOS_TOKEN, otherwise the generation wont stop\n",
    "        text = alpaca_prompt.format(create_user_message(context), elab_sent) + EOS_TOKEN\n",
    "        texts.append(text)\n",
    "    return texts\n",
    "\n",
    "test_alpaca_prompt = \"\"\"### User: Your task is to generate exactly ONE short concise explanation sentence (made up of around 10 words or fewer) in a plain English for a given context text. \n",
    "The tone should be plain and simple! {}\\n### Assistant:\"\"\"\n",
    "\n",
    "def formatting_test_prompts_func(examples):\n",
    "    contexts = examples[\"source_text\"]\n",
    "    texts = []\n",
    "    for context in contexts:\n",
    "        # must add EOS_TOKEN, otherwise the generation wont stop\n",
    "        text = test_alpaca_prompt.format(create_user_message(context)) \n",
    "        texts.append(text)\n",
    "    return texts\n",
    "\n",
    "formatted_test_dataset = formatting_test_prompts_func(dataset[\"test\"])"
   ]
  },
  {
   "cell_type": "code",
   "execution_count": 4,
   "id": "f7deab73-bc2a-4381-838a-485e7c54f315",
   "metadata": {},
   "outputs": [
    {
     "data": {
      "text/plain": [
       "\"### User: Your task is to generate exactly ONE short concise explanation sentence (made up of around 10 words or fewer) in a plain English for a given context text. \\nThe tone should be plain and simple! Return the explanation sentence that could replace the `<explanatory sentence>` tag in the following text: 'New companies have come that need skilled workers with more education. New Haven youth want those jobs, but they do not have the education or the skills. <explanatory sentence>'.\\n### Assistant:\""
      ]
     },
     "execution_count": 4,
     "metadata": {},
     "output_type": "execute_result"
    }
   ],
   "source": [
    "formatted_test_dataset[0]"
   ]
  },
  {
   "cell_type": "markdown",
   "id": "be9f0762-c9e4-4a5e-ad9a-b356b79ad05e",
   "metadata": {
    "jp-MarkdownHeadingCollapsed": true
   },
   "source": [
    "#### Specifying subject"
   ]
  },
  {
   "cell_type": "code",
   "execution_count": 4,
   "id": "42af8e4f-6fd8-47f6-a995-b04cb8d07357",
   "metadata": {},
   "outputs": [
    {
     "name": "stdout",
     "output_type": "stream",
     "text": [
      "<|end_of_text|>\n"
     ]
    }
   ],
   "source": [
    "# set the pad_token for llama 3.2 3B\n",
    "tokenizer.pad_token = tokenizer.eos_token\n",
    "EOS_TOKEN = tokenizer.eos_token\n",
    "\n",
    "alpaca_prompt = \"\"\"### User: Your task is to generate exactly ONE short concise explanation sentence (made up of around 10 words or fewer) in a plain English for a given context text. The tone should be plain and simple! {}\\n### Assistant: {}\"\"\"\n",
    "\n",
    "def create_user_message_subject(context, subject):\n",
    "    return f\"Return the explanation sentence for the following context text: '{context}'. The explanation sentence should refer to the {subject}.\"\n",
    "print(tokenizer.eos_token )\n",
    "\n",
    "def formatting_prompts_func(examples):\n",
    "    contexts = examples[\"source_text\"]\n",
    "    subjects = examples[\"subject\"]\n",
    "    elab_sentences = examples[\"elaboration_sentence\"]\n",
    "    texts = []\n",
    "    for context, subject, elab_sent in zip(contexts, subjects, elab_sentences):\n",
    "        # must add EOS_TOKEN, otherwise the generation wont stop\n",
    "        text = alpaca_prompt.format(create_user_message_subject(context, subject), elab_sent) + EOS_TOKEN\n",
    "        texts.append(text)\n",
    "    return texts\n",
    "\n",
    "test_alpaca_prompt = \"\"\"### User: Your task is to generate exactly ONE short concise explanation sentence (made up of around 10 words or fewer) in a plain English for a given context text. \n",
    "The tone should be plain and simple! {}\\n### Assistant:\"\"\"\n",
    "\n",
    "def formatting_test_prompts_func(examples):\n",
    "    contexts = examples[\"source_text\"]\n",
    "    subjects = examples[\"subject\"]\n",
    "    texts = []\n",
    "    for context, subject in zip(contexts, subjects):\n",
    "        # must add EOS_TOKEN, otherwise the generation wont stop\n",
    "        text = test_alpaca_prompt.format(create_user_message_subject(context, subject)) \n",
    "        texts.append(text)\n",
    "    return texts\n",
    "\n",
    "formatted_test_dataset = formatting_test_prompts_func(dataset[\"test\"])"
   ]
  },
  {
   "cell_type": "code",
   "execution_count": 6,
   "id": "f1b41f91-b3ca-424b-b5ce-3f9adc50a9d5",
   "metadata": {},
   "outputs": [
    {
     "data": {
      "text/plain": [
       "\"### User: Your task is to generate exactly ONE short concise explanation sentence (made up of around 10 words or fewer) in a plain English for a given context text. \\nThe tone should be plain and simple! Return the explanation sentence for the following context text: 'At a time when Facebook's growth rate is slowing in the developed world, Zuckerberg has acknowledged Facebook stands to benefit from putting the Internet within reach of more people around the world. An ambitious effort to bring the Internet to billions of poor people is only the latest move by Facebook Inc.'s Mark Zuckerberg to carve out a high-profile role as a tech CEO who can wield influence over public issues. And while he's not the only one of his peers promoting the power of technology to change the world, the scale and ambition of Zuckerberg's industry alliance to promote global Internet access makes the 29-year-old CEO one of the most prominent advocates for Silicon Valley's unique blend of business and altruism. Helping new populations get online is clearly in Facebook's interest, said futurist and longtime Silicon Valley observer Paul Saffo.'. The explanation sentence should refer to the subject='Mark Zuckerberg'.\\n### Assistant:\""
      ]
     },
     "execution_count": 6,
     "metadata": {},
     "output_type": "execute_result"
    }
   ],
   "source": [
    "formatted_test_dataset[11]"
   ]
  },
  {
   "cell_type": "markdown",
   "id": "e8c6525d-4d22-484e-bb65-897d8065674d",
   "metadata": {
    "jp-MarkdownHeadingCollapsed": true
   },
   "source": [
    "#### Specifying the target phrase"
   ]
  },
  {
   "cell_type": "code",
   "execution_count": 5,
   "id": "078aedb1-8ac3-4029-bd70-b12baf9c2f67",
   "metadata": {},
   "outputs": [
    {
     "name": "stdout",
     "output_type": "stream",
     "text": [
      "<|end_of_text|>\n"
     ]
    }
   ],
   "source": [
    "# set the pad_token for llama 3.2 3B\n",
    "tokenizer.pad_token = tokenizer.eos_token\n",
    "EOS_TOKEN = tokenizer.eos_token\n",
    "\n",
    "alpaca_prompt = \"\"\"### User: Your task is to generate exactly ONE short concise explanation sentence (made up of around 10 words or fewer) in a plain English for a given context text. The tone should be plain and simple! {}\\n### Assistant: {}\"\"\"\n",
    "\n",
    "def create_user_message_target(context, target):\n",
    "    return f\"Return the explanation sentence for the following context text: '{context}'. The explanation sentence should clarify the {target}.\"\n",
    "print(tokenizer.eos_token )\n",
    "\n",
    "def formatting_prompts_func(examples):\n",
    "    contexts = examples[\"source_text\"]\n",
    "    targets = examples[\"target_sentence_target\"]\n",
    "    elab_sentences = examples[\"elaboration_sentence\"]\n",
    "    texts = []\n",
    "    for context, target, elab_sent in zip(contexts, targets, elab_sentences):\n",
    "        # must add EOS_TOKEN, otherwise the generation wont stop\n",
    "        text = alpaca_prompt.format(create_user_message_target(context, target), elab_sent) + EOS_TOKEN\n",
    "        texts.append(text)\n",
    "    return texts\n",
    "\n",
    "test_alpaca_prompt = \"\"\"### User: Your task is to generate exactly ONE short concise explanation sentence (made up of around 10 words or fewer) in a plain English for a given context text. \n",
    "The tone should be plain and simple! {}\\n### Assistant:\"\"\"\n",
    "\n",
    "def formatting_test_prompts_func(examples):\n",
    "    contexts = examples[\"source_text\"]\n",
    "    targets = examples[\"target_sentence_target\"]\n",
    "    texts = []\n",
    "    for context, target in zip(contexts, targets):\n",
    "        # must add EOS_TOKEN, otherwise the generation wont stop\n",
    "        text = test_alpaca_prompt.format(create_user_message_target(context, target)) \n",
    "        texts.append(text)\n",
    "    return texts\n",
    "\n",
    "formatted_test_dataset = formatting_test_prompts_func(dataset[\"test\"])"
   ]
  },
  {
   "cell_type": "code",
   "execution_count": 6,
   "id": "391ec16b-c476-4c9d-93e5-d3f500f580db",
   "metadata": {},
   "outputs": [
    {
     "data": {
      "text/plain": [
       "'### User: Your task is to generate exactly ONE short concise explanation sentence (made up of around 10 words or fewer) in a plain English for a given context text. \\nThe tone should be plain and simple! Return the explanation sentence for the following context text: \\'COLORADO SPRINGS, Colo. \" In an unprecedented backlash, two state lawmakers who helped stiffen Colorado\\'s gun laws were ousted Tuesday in a recall that turned into a nationally watched referendum on gun control. The laws limit gun magazines to 15 rounds and require universal background checks, to be paid for by the gun purchaser, among other restrictions. Morse thanked his constituents for the chance to serve them and said \"the Democratic Party will continue to fight.\" Morse, a Colorado Springs lawmaker whose support was vital to enactment of the legislation, called the restrictions a measured, common-sense response to gun violence in a state with a long, venerated tradition of gun ownership. The laws, which took effect July 1, remain in force despite Tuesday\\'s vote. He repeatedly said that even if he lost his job, passing the gun measures was worth the sacrifice.\\'. The explanation sentence should clarify the target_phrase=\\'called the restrictions a measured, common-sense response to gun violence\\'.\\n### Assistant:'"
      ]
     },
     "execution_count": 6,
     "metadata": {},
     "output_type": "execute_result"
    }
   ],
   "source": [
    "formatted_test_dataset[13]"
   ]
  },
  {
   "cell_type": "markdown",
   "id": "ec81b72e-6aa7-41b9-8532-9e2bb9518809",
   "metadata": {},
   "source": [
    "#### Specifying the target sentence for clarification"
   ]
  },
  {
   "cell_type": "code",
   "execution_count": 5,
   "id": "11f1b2c3-58f8-4d85-a82c-e868d092e3b8",
   "metadata": {},
   "outputs": [
    {
     "name": "stdout",
     "output_type": "stream",
     "text": [
      "<|end_of_text|>\n"
     ]
    }
   ],
   "source": [
    "# set the pad_token for llama 3.2 3B\n",
    "tokenizer.pad_token = tokenizer.eos_token\n",
    "EOS_TOKEN = tokenizer.eos_token\n",
    "\n",
    "alpaca_prompt = \"\"\"### User: Your task is to generate exactly ONE short concise explanation sentence (made up of around 10 words or fewer) in a plain English for a given context text. The tone should be plain and simple! {}\\n### Assistant: {}\"\"\"\n",
    "\n",
    "def create_user_message_target(context, target):\n",
    "    return f\"Return the explanation sentence for the following context text: '{context}'. The explanation sentence should specifically clarify the {target}.\"\n",
    "print(tokenizer.eos_token )\n",
    "\n",
    "def formatting_prompts_func(examples):\n",
    "    contexts = examples[\"source_text\"]\n",
    "    targets = examples[\"target_sentence_4o\"]\n",
    "    elab_sentences = examples[\"elaboration_sentence\"]\n",
    "    texts = []\n",
    "    for context, target, elab_sent in zip(contexts, targets, elab_sentences):\n",
    "        # must add EOS_TOKEN, otherwise the generation wont stop\n",
    "        text = alpaca_prompt.format(create_user_message_target(context, target), elab_sent) + EOS_TOKEN\n",
    "        texts.append(text)\n",
    "    return texts\n",
    "\n",
    "test_alpaca_prompt = \"\"\"### User: Your task is to generate exactly ONE short concise explanation sentence (made up of around 10 words or fewer) in a plain English for a given context text. \n",
    "The tone should be plain and simple! {}\\n### Assistant:\"\"\"\n",
    "\n",
    "def formatting_test_prompts_func(examples):\n",
    "    contexts = examples[\"source_text\"]\n",
    "    targets = examples[\"target_sentence_4o\"]\n",
    "    texts = []\n",
    "    for context, target in zip(contexts, targets):\n",
    "        # must add EOS_TOKEN, otherwise the generation wont stop\n",
    "        text = test_alpaca_prompt.format(create_user_message_target(context, target)) \n",
    "        texts.append(text)\n",
    "    return texts\n",
    "\n",
    "formatted_test_dataset = formatting_test_prompts_func(dataset[\"test\"])"
   ]
  },
  {
   "cell_type": "code",
   "execution_count": 7,
   "id": "9f2e3a61-6a56-4a5e-8f10-904b94cef3ab",
   "metadata": {},
   "outputs": [
    {
     "data": {
      "text/plain": [
       "'### User: Your task is to generate exactly ONE short concise explanation sentence (made up of around 10 words or fewer) in a plain English for a given context text. \\nThe tone should be plain and simple! Return the explanation sentence for the following context text: \\'At a time when Facebook\\'s growth rate is slowing in the developed world, Zuckerberg has acknowledged Facebook stands to benefit from putting the Internet within reach of more people around the world. An ambitious effort to bring the Internet to billions of poor people is only the latest move by Facebook Inc.\\'s Mark Zuckerberg to carve out a high-profile role as a tech CEO who can wield influence over public issues. And while he\\'s not the only one of his peers promoting the power of technology to change the world, the scale and ambition of Zuckerberg\\'s industry alliance to promote global Internet access makes the 29-year-old CEO one of the most prominent advocates for Silicon Valley\\'s unique blend of business and altruism. Helping new populations get online is clearly in Facebook\\'s interest, said futurist and longtime Silicon Valley observer Paul Saffo.\\'. The explanation sentence should specifically clarify the target_sentence=\"An ambitious effort to bring the Internet to billions of poor people is only the latest move by Facebook Inc.\\'s Mark Zuckerberg to carve out a high-profile role as a tech CEO who can wield influence over public issues.\".\\n### Assistant:'"
      ]
     },
     "execution_count": 7,
     "metadata": {},
     "output_type": "execute_result"
    }
   ],
   "source": [
    "formatted_test_dataset[11]"
   ]
  },
  {
   "cell_type": "markdown",
   "id": "ff533823-631a-4975-ba34-cbf7670cade1",
   "metadata": {
    "jp-MarkdownHeadingCollapsed": true
   },
   "source": [
    "#### Specifying both the target phrase/ subject and the target sentence"
   ]
  },
  {
   "cell_type": "code",
   "execution_count": 7,
   "id": "03d92cb0-23c4-4cfd-b4af-82e2681310e9",
   "metadata": {},
   "outputs": [
    {
     "name": "stdout",
     "output_type": "stream",
     "text": [
      "<|end_of_text|>\n"
     ]
    }
   ],
   "source": [
    "# set the pad_token for llama 3.2 3B\n",
    "tokenizer.pad_token = tokenizer.eos_token\n",
    "EOS_TOKEN = tokenizer.eos_token\n",
    "\n",
    "alpaca_prompt = \"\"\"### User: Your task is to generate exactly ONE short concise explanation sentence (made up of around 10 words or fewer) in a plain English for a given context text. The tone should be plain and simple! {}\\n### Assistant: {}\"\"\"\n",
    "\n",
    "def create_user_message_target(context, target,target_sentence):\n",
    "    return f\"Return the explanation sentence for the following context text: '{context}'. The explanation sentence should specifically clarify the {target_sentence} by referring to the {target}.\"\n",
    "print(tokenizer.eos_token )\n",
    "\n",
    "def formatting_prompts_func(examples):\n",
    "    contexts = examples[\"source_text\"]\n",
    "    targets = examples[\"target_sentence_target\"] # subject\n",
    "    target_sents = examples[\"target_sentence_4o\"]\n",
    "    elab_sentences = examples[\"elaboration_sentence\"]\n",
    "    texts = []\n",
    "    for context, target, target_sent, elab_sent in zip(contexts, targets, target_sents, elab_sentences):\n",
    "        # must add EOS_TOKEN, otherwise the generation wont stop\n",
    "        text = alpaca_prompt.format(create_user_message_target(context, target, target_sent), elab_sent) + EOS_TOKEN\n",
    "        texts.append(text)\n",
    "    return texts\n",
    "\n",
    "test_alpaca_prompt = \"\"\"### User: Your task is to generate exactly ONE short concise explanation sentence (made up of around 10 words or fewer) in a plain English for a given context text. The tone should be plain and simple! {}\\n### Assistant:\"\"\"\n",
    "\n",
    "def formatting_test_prompts_func(examples):\n",
    "    contexts = examples[\"source_text\"]\n",
    "    targets = examples[\"target_sentence_target\"]\n",
    "    target_sents = examples[\"target_sentence_4o\"]\n",
    "    texts = []\n",
    "    for context, target, target_sent in zip(contexts, targets, target_sents):\n",
    "        # must add EOS_TOKEN, otherwise the generation wont stop\n",
    "        text = test_alpaca_prompt.format(create_user_message_target(context, target, target_sent)) \n",
    "        texts.append(text)\n",
    "    return texts\n",
    "\n",
    "formatted_test_dataset = formatting_test_prompts_func(dataset[\"test\"])"
   ]
  },
  {
   "cell_type": "code",
   "execution_count": 12,
   "id": "e5f3828e-894a-4210-97e0-9bdfcfb00d1d",
   "metadata": {},
   "outputs": [
    {
     "data": {
      "text/plain": [
       "\"### User: Your task is to generate exactly ONE short concise explanation sentence (made up of around 10 words or fewer) in a plain English for a given context text. The tone should be plain and simple! Return the explanation sentence for the following context text: 'Her published work often turns on the difference between her youth in Wingham, a conservative Canadian town west of Toronto, and her life after the social revolution of the 1960s. The daughter of a fox farmer and a teacher, she was born Alice Anne Laidlaw.'. The explanation sentence should specifically clarify the target_sentence='Her published work often turns on the difference between her youth in Wingham, a conservative Canadian town west of Toronto, and her life after the social revolution of the 1960s.' by referring to the target_phrase='the social revolution of the 1960s'.\\n### Assistant:\""
      ]
     },
     "execution_count": 12,
     "metadata": {},
     "output_type": "execute_result"
    }
   ],
   "source": [
    "formatted_test_dataset[19]"
   ]
  },
  {
   "cell_type": "markdown",
   "id": "7bd2e69e-4875-4ef6-b975-f1c9c0a6b40c",
   "metadata": {
    "jp-MarkdownHeadingCollapsed": true
   },
   "source": [
    "#### Specifying both the target phrase (from the target sentence) and the target sentence"
   ]
  },
  {
   "cell_type": "code",
   "execution_count": 5,
   "id": "28a3ffba-9b3a-47f1-9839-687218469c07",
   "metadata": {},
   "outputs": [
    {
     "name": "stdout",
     "output_type": "stream",
     "text": [
      "<|end_of_text|>\n"
     ]
    }
   ],
   "source": [
    "# set the pad_token for llama 3.2 3B\n",
    "tokenizer.pad_token = tokenizer.eos_token\n",
    "EOS_TOKEN = tokenizer.eos_token\n",
    "\n",
    "alpaca_prompt = \"\"\"### User: Your task is to generate exactly ONE short concise explanation sentence (made up of around 10 words or fewer) in a plain English for a given context text. The tone should be plain and simple! {}\\n### Assistant: {}\"\"\"\n",
    "\n",
    "def create_user_message_target(context, target, target_sentence):\n",
    "    return f\"Return the explanation sentence for the following context text: '{context}'. The explanation sentence should specifically clarify the {target_sentence} by referring to the {target}.\"\n",
    "print(tokenizer.eos_token )\n",
    "\n",
    "def formatting_prompts_func(examples):\n",
    "    contexts = examples[\"source_text\"]\n",
    "    targets = examples[\"target_sentence_target\"]\n",
    "    target_sents = examples[\"target_sentence_4o\"]\n",
    "    elab_sentences = examples[\"elaboration_sentence\"]\n",
    "    texts = []\n",
    "    for context, target, target_sent, elab_sent in zip(contexts, targets, target_sents, elab_sentences):\n",
    "        # must add EOS_TOKEN, otherwise the generation wont stop\n",
    "        text = alpaca_prompt.format(create_user_message_target(context, target, target_sent), elab_sent) + EOS_TOKEN\n",
    "        texts.append(text)\n",
    "    return texts\n",
    "\n",
    "test_alpaca_prompt = \"\"\"### User: Your task is to generate exactly ONE short concise explanation sentence (made up of around 10 words or fewer) in a plain English for a given context text. The tone should be plain and simple! {}\\n### Assistant:\"\"\"\n",
    "\n",
    "def formatting_test_prompts_func(examples):\n",
    "    contexts = examples[\"source_text\"]\n",
    "    targets = examples[\"target_sentence_target\"]\n",
    "    target_sents = examples[\"target_sentence_4o\"]\n",
    "    texts = []\n",
    "    for context, target, target_sent in zip(contexts, targets, target_sents):\n",
    "        # must add EOS_TOKEN, otherwise the generation wont stop\n",
    "        text = test_alpaca_prompt.format(create_user_message_target(context, target, target_sent)) \n",
    "        texts.append(text)\n",
    "    return texts\n",
    "\n",
    "formatted_test_dataset = formatting_test_prompts_func(dataset[\"test\"])"
   ]
  },
  {
   "cell_type": "code",
   "execution_count": 9,
   "id": "596825aa-a5f4-4613-80f8-4ec8a6475116",
   "metadata": {},
   "outputs": [
    {
     "data": {
      "text/plain": [
       "\"### User: Your task is to generate exactly ONE short concise explanation sentence (made up of around 10 words or fewer) in a plain English for a given context text. The tone should be plain and simple! Return the explanation sentence for the following context text: 'New companies have come that need skilled workers with more education. New Haven youth want those jobs, but they do not have the education or the skills.'. The explanation sentence should specifically clarify the target_sentence='New Haven youth want those jobs, but they do not have the education or the skills.' by referring to the target_phrase='do not have the education or the skills'.\\n### Assistant:\""
      ]
     },
     "execution_count": 9,
     "metadata": {},
     "output_type": "execute_result"
    }
   ],
   "source": [
    "formatted_test_dataset[0]"
   ]
  },
  {
   "cell_type": "markdown",
   "id": "06b125b1-9f2b-4d2b-97ef-cc8a35f9752d",
   "metadata": {
    "jp-MarkdownHeadingCollapsed": true
   },
   "source": [
    "#### Target sentence -> elaboration"
   ]
  },
  {
   "cell_type": "code",
   "execution_count": 4,
   "id": "ad575a39-e350-45af-b4e7-081e084bc7bb",
   "metadata": {},
   "outputs": [],
   "source": [
    "# set the pad_token for llama 3.2 3B\n",
    "tokenizer.pad_token = tokenizer.eos_token\n",
    "EOS_TOKEN = tokenizer.eos_token\n",
    "\n",
    "alpaca_prompt = \"\"\"### User: Your task is to generate exactly ONE short concise explanation sentence (made up of around 10 words or fewer) in a plain English for a given context text. The tone should be plain and simple! {}\\n### Assistant: {}\"\"\"\n",
    "\n",
    "def create_user_message(context):\n",
    "    return f\"Return the clarification sentence for the {context}. \n",
    "\n",
    "def formatting_prompts_func(examples):\n",
    "    contexts = examples[\"target_sentence_4o\"]\n",
    "    elab_sentences = examples[\"elaboration_sentence\"]\n",
    "    texts = []\n",
    "    for context, elab_sent in zip(contexts, elab_sentences):\n",
    "        # must add EOS_TOKEN, otherwise the generation wont stop\n",
    "        text = alpaca_prompt.format(create_user_message(context), elab_sent) + EOS_TOKEN\n",
    "        texts.append(text)\n",
    "    return texts\n",
    "\n",
    "test_alpaca_prompt = \"\"\"### User: Your task is to generate exactly ONE short concise clarification sentence (made up of around 10 words or fewer) in a plain English for a given sentence. \n",
    "The tone should be plain and simple! {}\\n### Assistant:\"\"\"\n",
    "\n",
    "def formatting_test_prompts_func(examples):\n",
    "    contexts = examples[\"target_sentence_4o\"]\n",
    "    texts = []\n",
    "    for context in contexts:\n",
    "        # must add EOS_TOKEN, otherwise the generation wont stop\n",
    "        text = test_alpaca_prompt.format(create_user_message(context)) \n",
    "        texts.append(text)\n",
    "    return texts\n",
    "\n",
    "formatted_test_dataset = formatting_test_prompts_func(dataset[\"test\"])"
   ]
  },
  {
   "cell_type": "code",
   "execution_count": 5,
   "id": "22a700af-2493-4f5a-9552-78ce6ff0f8d7",
   "metadata": {},
   "outputs": [
    {
     "data": {
      "text/plain": [
       "\"### User: Your task is to generate exactly ONE short concise clarification sentence (made up of around 10 words or fewer) in a plain English for a given sentence. \\nThe tone should be plain and simple! Return the clarification sentence for the target_sentence='New Haven youth want those jobs, but they do not have the education or the skills.'.\\n### Assistant:\""
      ]
     },
     "execution_count": 5,
     "metadata": {},
     "output_type": "execute_result"
    }
   ],
   "source": [
    "formatted_test_dataset[0]"
   ]
  },
  {
   "cell_type": "markdown",
   "id": "967f254e-e425-43f6-a4fa-1dcd59de1eb0",
   "metadata": {
    "jp-MarkdownHeadingCollapsed": true
   },
   "source": [
    "#### Target sentence + target phrase/subject -> elaboration"
   ]
  },
  {
   "cell_type": "code",
   "execution_count": 10,
   "id": "7914c481-72d0-434d-af4d-68636774cada",
   "metadata": {},
   "outputs": [],
   "source": [
    "# set the pad_token for llama 3.2 3B\n",
    "tokenizer.pad_token = tokenizer.eos_token\n",
    "EOS_TOKEN = tokenizer.eos_token\n",
    "\n",
    "alpaca_prompt = \"\"\"### User: Your task is to generate exactly ONE short concise explanation sentence (made up of around 10 words or fewer) in a plain English for a given context text. The tone should be plain and simple! {}\\n### Assistant: {}\"\"\"\n",
    "\n",
    "def create_user_message(context, target):\n",
    "    return f\"Return the clarification sentence for the {context}. The explanation sentence should refer to the subject='{target}'.\" \n",
    "\n",
    "def formatting_prompts_func(examples):\n",
    "    contexts = examples[\"target_sentence_4o\"]\n",
    "    targets = examples[\"subject\"]\n",
    "    elab_sentences = examples[\"elaboration_sentence\"]\n",
    "    texts = []\n",
    "    for context, target, elab_sent in zip(contexts, targets, elab_sentences):\n",
    "        # must add EOS_TOKEN, otherwise the generation wont stop\n",
    "        text = alpaca_prompt.format(create_user_message(context, target), elab_sent) + EOS_TOKEN\n",
    "        texts.append(text)\n",
    "    return texts\n",
    "\n",
    "test_alpaca_prompt = \"\"\"### User: Your task is to generate exactly ONE short concise clarification sentence (made up of around 10 words or fewer) in a plain English for a given sentence. \n",
    "The tone should be plain and simple! {}\\n### Assistant:\"\"\"\n",
    "\n",
    "def formatting_test_prompts_func(examples):\n",
    "    contexts = examples[\"target_sentence_4o\"]\n",
    "    targets = examples[\"subject\"]\n",
    "    texts = []\n",
    "    for context, target in zip(contexts,targets):\n",
    "        # must add EOS_TOKEN, otherwise the generation wont stop\n",
    "        text = test_alpaca_prompt.format(create_user_message(context, target)) \n",
    "        texts.append(text)\n",
    "    return texts\n",
    "\n",
    "formatted_test_dataset = formatting_test_prompts_func(dataset[\"test\"])"
   ]
  },
  {
   "cell_type": "code",
   "execution_count": 11,
   "id": "f49aaa8d-82f3-4617-9c01-460ad7508c97",
   "metadata": {},
   "outputs": [
    {
     "data": {
      "text/plain": [
       "\"### User: Your task is to generate exactly ONE short concise clarification sentence (made up of around 10 words or fewer) in a plain English for a given sentence. \\nThe tone should be plain and simple! Return the clarification sentence for the target_sentence='New Haven youth want those jobs, but they do not have the education or the skills.'. The explanation sentence should refer to the subject='Many (youth)'.\\n### Assistant:\""
      ]
     },
     "execution_count": 11,
     "metadata": {},
     "output_type": "execute_result"
    }
   ],
   "source": [
    "formatted_test_dataset[0]"
   ]
  },
  {
   "cell_type": "markdown",
   "id": "91c520e3-867f-43a5-89cd-e2891ad05e84",
   "metadata": {
    "jp-MarkdownHeadingCollapsed": true
   },
   "source": [
    "#### For testing the model trained with the subject or target info  "
   ]
  },
  {
   "cell_type": "code",
   "execution_count": 9,
   "id": "76507e12-1f19-4099-862e-07847aeccb1a",
   "metadata": {},
   "outputs": [],
   "source": [
    "def create_user_message(context):\n",
    "    return f\"Return the explanation sentence for the following context text: '{context}'.\"\n",
    "\n",
    "def formatting_test_prompts_func(examples):\n",
    "    contexts = examples[\"source_text\"]\n",
    "    texts = []\n",
    "    for context in contexts:\n",
    "        # must add EOS_TOKEN, otherwise the generation wont stop\n",
    "        text = test_alpaca_prompt.format(create_user_message(context)) \n",
    "        texts.append(text)\n",
    "    return texts\n",
    "\n",
    "formatted_test_dataset = formatting_test_prompts_func(dataset[\"test\"])"
   ]
  },
  {
   "cell_type": "code",
   "execution_count": 10,
   "id": "412c4275-58f7-445c-8e21-23c7bb6b2b34",
   "metadata": {},
   "outputs": [
    {
     "data": {
      "text/plain": [
       "\"### User: Your task is to generate exactly ONE short concise explanation sentence (made up of around 10 words or fewer) in a plain English for a given context text. \\nThe tone should be plain and simple! Return the explanation sentence for the following context text: 'They did not need special skills or a college education to work there. Those factories are gone now. New companies have come that need skilled workers with more education. New Haven youth want those jobs, but they do not have the education or the skills.'.\\n### Assistant:\""
      ]
     },
     "execution_count": 10,
     "metadata": {},
     "output_type": "execute_result"
    }
   ],
   "source": [
    "formatted_test_dataset[0]"
   ]
  },
  {
   "cell_type": "code",
   "execution_count": 12,
   "id": "eb732d3c-51c3-4780-914f-441e5faf7044",
   "metadata": {},
   "outputs": [
    {
     "name": "stdout",
     "output_type": "stream",
     "text": [
      "[('###', 14711), ('ĠUser', 2724), (':', 25), ('ĠYour', 4718), ('Ġtask', 3465), ('Ġis', 374), ('Ġto', 311), ('Ġgenerate', 7068), ('Ġexactly', 7041), ('ĠONE', 25002), ('Ġshort', 2875), ('Ġconcise', 64694), ('Ġexplanation', 16540), ('Ġsentence', 11914), ('Ġ(', 320), ('made', 28010), ('Ġup', 709), ('Ġof', 315), ('Ġaround', 2212), ('Ġ', 220), ('10', 605), ('Ġwords', 4339), ('Ġor', 477), ('Ġfewer', 17162), (')', 8), ('Ġin', 304), ('Ġa', 264), ('Ġplain', 14733), ('ĠEnglish', 6498), ('Ġfor', 369), ('Ġa', 264), ('Ġgiven', 2728), ('Ġcontext', 2317), ('Ġtext', 1495), ('.', 13), ('ĠThe', 578), ('Ġtone', 16630), ('Ġshould', 1288), ('Ġbe', 387), ('Ġplain', 14733), ('Ġand', 323), ('Ġsimple', 4382), ('!', 0), ('ĠReturn', 3494), ('Ġthe', 279), ('Ġexplanation', 16540), ('Ġsentence', 11914), ('Ġfor', 369), ('Ġthe', 279), ('Ġfollowing', 2768), ('Ġcontext', 2317), ('Ġtext', 1495), (':', 25), (\"Ġ'\", 364), ('A', 32), ('Ġwatermark', 89106), ('Ġis', 374), ('Ġan', 459), ('Ġimage', 2217), ('Ġthat', 430), ('Ġcan', 649), ('Ġbe', 387), ('Ġseen', 3970), ('Ġin', 304), ('Ġthe', 279), ('Ġpaper', 5684), ('Ġwhen', 994), ('Ġyou', 499), ('Ġhold', 3412), ('Ġit', 433), ('Ġup', 709), ('Ġto', 311), ('Ġthe', 279), ('Ġlight', 3177), ('.', 13), ('ĠInvestigators', 96852), ('Ġsay', 2019), ('ĠKel', 28263), ('logg', 94469), ('Ġtried', 6818), ('Ġto', 311), ('Ġcopy', 3048), ('Ġthe', 279), ('Ġwatermark', 89106), ('.', 13), ('ĠFirst', 5629), ('Ġhe', 568), ('Ġprinted', 17124), ('Ġthe', 279), ('Ġfront', 4156), ('Ġside', 3185), ('Ġof', 315), ('Ġthe', 279), ('Ġmoney', 3300), ('Ġon', 389), ('Ġone', 832), ('Ġpiece', 6710), ('Ġof', 315), ('Ġpaper', 5684), ('.', 13), ('ĠHe', 1283), ('Ġprinted', 17124), ('Ġthe', 279), ('Ġback', 1203), ('Ġof', 315), ('Ġthe', 279), ('Ġbill', 4121), ('Ġon', 389), ('Ġa', 264), ('Ġseparate', 8821), ('Ġsheet', 11071), (\".'.\", 37049), ('ĠThe', 578), ('Ġsubject', 3917), ('Ġof', 315), ('Ġthe', 279), ('Ġexplanation', 16540), ('Ġsentence', 11914), ('Ġshould', 1288), ('Ġrefer', 8464), ('Ġto', 311), ('Ġ:', 551), (\"Ġ'\", 364), ('Investigators', 88280), (\"'.Ċ\", 24482), ('###', 14711), ('ĠAssistant', 22103), (':', 25), ('ĠHere', 5810), (\"'s\", 596), ('Ġhow', 1268), ('Ġthey', 814), ('Ġsay', 2019), ('Ġhe', 568), ('Ġdid', 1550), ('Ġit', 433), ('.', 13), ('<|end_of_text|>', 128001)]\n"
     ]
    }
   ],
   "source": [
    "def print_tokens_with_ids(txt):\n",
    "    tokens = tokenizer.tokenize(txt, add_special_tokens=False)\n",
    "    token_ids = tokenizer.encode(txt, add_special_tokens=False)\n",
    "    print(list(zip(tokens, token_ids)))\n",
    "\n",
    "formatted_ds = formatting_prompts_func(dataset[\"train\"])\n",
    "prompt = formatted_ds[0]\n",
    "print_tokens_with_ids(prompt) "
   ]
  },
  {
   "cell_type": "code",
   "execution_count": 13,
   "id": "4ec86548-bf9d-474a-ba83-3ac8ac702f8a",
   "metadata": {},
   "outputs": [
    {
     "name": "stdout",
     "output_type": "stream",
     "text": [
      "[('###', 14711), ('ĠAssistant', 22103), (':', 25)]\n"
     ]
    }
   ],
   "source": [
    "response_template = \"### Assistant:\"\n",
    "print_tokens_with_ids(response_template) "
   ]
  },
  {
   "cell_type": "code",
   "execution_count": 7,
   "id": "f9d28e00-7289-4b1a-a145-e0b28b712807",
   "metadata": {},
   "outputs": [
    {
     "data": {
      "text/plain": [
       "\"### User: Your task is to generate exactly ONE short concise explanation sentence (made up of around 10 words or fewer) in a plain English for a given context text. \\nThe tone should be plain and simple! Return the explanation sentence for the following context text: 'New companies have come that need skilled workers with more education. New Haven youth want those jobs, but they do not have the education or the skills. That is where New Haven Promise comes in. It will make a difference by paying for college.'. The subject of the explanation sentence should refer to : 'Many (youth)'.\\n### Assistant:\""
      ]
     },
     "execution_count": 7,
     "metadata": {},
     "output_type": "execute_result"
    }
   ],
   "source": [
    "formatted_test_dataset = formatting_test_prompts_func(dataset[\"test\"])\n",
    "formatted_test_dataset[0]"
   ]
  },
  {
   "cell_type": "markdown",
   "id": "82c7db52-f6f8-49dc-b352-0f19f86e0d3b",
   "metadata": {},
   "source": [
    "## Fine-tune"
   ]
  },
  {
   "cell_type": "code",
   "execution_count": 8,
   "id": "7291e105-6127-4f73-98ad-a35069277723",
   "metadata": {},
   "outputs": [
    {
     "data": {
      "application/vnd.jupyter.widget-view+json": {
       "model_id": "a7226d35ea634423946045e87c82cb21",
       "version_major": 2,
       "version_minor": 0
      },
      "text/plain": [
       "Map:   0%|          | 0/1049 [00:00<?, ? examples/s]"
      ]
     },
     "metadata": {},
     "output_type": "display_data"
    },
    {
     "data": {
      "application/vnd.jupyter.widget-view+json": {
       "model_id": "14cceb0e337749c9a2584e0bc6362ba3",
       "version_major": 2,
       "version_minor": 0
      },
      "text/plain": [
       "Map:   0%|          | 0/134 [00:00<?, ? examples/s]"
      ]
     },
     "metadata": {},
     "output_type": "display_data"
    }
   ],
   "source": [
    "from trl import SFTConfig, SFTTrainer, DataCollatorForCompletionOnlyLM\n",
    "from transformers import DataCollatorForLanguageModeling\n",
    "\n",
    "import os \n",
    "# disable parallelism warnings\n",
    "os.environ[\"TOKENIZERS_PARALLELISM\"] = \"false\"\n",
    "\n",
    "\n",
    "model.train()\n",
    "\n",
    "# data collator -> alpaca\n",
    "data_collator = DataCollatorForCompletionOnlyLM(\n",
    "    tokenizer=tokenizer, \n",
    "    mlm=False,\n",
    "    response_template=\"### Assistant:\"\n",
    ")\n",
    "\n",
    "output_name = \"c4spo-target-sent\"\n",
    "\n",
    "training_args = SFTConfig(\n",
    "    output_dir=f\"../models/llama/llama-news-ft/results/results-llama-alpaca-{output_name}\",\n",
    "    max_seq_length=320, # 150 for 2s, 200 for 2sp 4s, 250 for 4sp, for c2spo - 280, c4spo - 320\n",
    "    eval_strategy=\"epoch\",  \n",
    "    save_strategy=\"epoch\",  \n",
    "    logging_strategy=\"steps\",  \n",
    "    logging_steps=6, \n",
    "    learning_rate=1e-6,  \n",
    "    per_device_train_batch_size=32, \n",
    "    per_device_eval_batch_size=32,  \n",
    "    #gradient_accumulation_steps=2,\n",
    "    num_train_epochs=3,  \n",
    "    weight_decay=0.01,  \n",
    "    warmup_steps=2,    \n",
    "    optim=\"paged_adamw_8bit\",  \n",
    "    fp16=True,  \n",
    "    logging_dir=f\"../models/llama/llama-news-ft/logs/logs-llama-alapaca-{output_name}\", \n",
    "    push_to_hub=False,\n",
    "    group_by_length=True,  \n",
    "    save_total_limit=1,#1,\n",
    "    packing=False,\n",
    "    load_best_model_at_end=True, \n",
    "    greater_is_better=False,\n",
    "    metric_for_best_model=\"eval_loss\"\n",
    "\n",
    ")\n",
    "\n",
    "trainer = SFTTrainer(\n",
    "    model,\n",
    "    train_dataset=dataset[\"train\"], #formatted_train_dataset -> chatML, # dataset[\"train\"] -> alpaca\n",
    "    eval_dataset=dataset[\"validation\"], #formatted_validation_dataset -> chatML, # dataset[\"validation\"] -> alpaca\n",
    "    args=training_args,   \n",
    "    formatting_func= formatting_prompts_func, #formatting_func, # formatting_func -> chatML, formatting_prompts_func -> alpaca\n",
    "    data_collator=data_collator, # for alpaca format\n",
    ")\n",
    "\n",
    "model.config.use_cache = False"
   ]
  },
  {
   "cell_type": "code",
   "execution_count": 9,
   "id": "f984bbd9-d860-4a70-972e-fa1823da0125",
   "metadata": {},
   "outputs": [
    {
     "name": "stderr",
     "output_type": "stream",
     "text": [
      "/home/6/ud03926/nlp/lib64/python3.9/site-packages/trl/trainer/utils.py:160: UserWarning: Could not find response key `### Assistant:` in the following instance: <|begin_of_text|>### User: Your task is to generate exactly ONE short concise explanation sentence (made up of around 10 words or fewer) in a plain English for a given context text. The tone should be plain and simple! Return the explanation sentence for the following context text: 'GROVELAND, Calif. \" The Rim fire that scorched a huge swath of Sierra Nevada forests also severely altered the habitat that is home to several of California's rarest animals: the great gray owl, the Sierra Nevada red fox and the Pacific fisher. The fire burned 257,000 acres of High Sierra wilderness straddling the Stanislaus National Forest and Yosemite National Park that harbors a geographically isolated and genetically distinct clan of roughly 200 great gray owls. Preliminary reports from the fire area indicate that the blaze destroyed or damaged dozens of nesting and roosting areas for spotted owls, goshawks and great gray owls \" the largest owl in North America. The blaze also came within 12 miles of 10 breeding pairs of the subspecies of red fox clinging to survival in the cold, steep slopes above the tree line, raising fears they could have been eaten by coyotes trying to escape the smoke and flames. \"It killed squirrels and bears. Future research will help determine whether enough of the owls survived in the region to sustain the state-endangered raptor.'. The explanation sentence should specifically clarify the target_sentence='Preliminary reports from the fire area indicate that the blaze destroyed or damaged dozens of nesting and roosting areas for spotted owls, g This instance will be ignored in loss calculation. Note, if this happens often, consider increasing the `max_seq_length`.\n",
      "  warnings.warn(\n",
      "/home/6/ud03926/nlp/lib64/python3.9/site-packages/trl/trainer/utils.py:160: UserWarning: Could not find response key `### Assistant:` in the following instance: <|begin_of_text|>### User: Your task is to generate exactly ONE short concise explanation sentence (made up of around 10 words or fewer) in a plain English for a given context text. The tone should be plain and simple! Return the explanation sentence for the following context text: 'Such a fate is common for male panthers rescued and released by state wildlife officers. It's cruel to the cats, and it's dangerous to people.\" Although there have been no documented attacks on people by Florida panthers, the species has accounted for fatalities in western states, where it's known as the cougar or mountain lion. Florida panthers inhabit a sweep of forest, prairie and Everglades that runs roughly from the Caloosahatchee River west of Lake Okeechobee to the southern end of Everglades National Park. With just 100 to 160 panthers remaining in the wild, they say any panthers added to the population help reduce its vulnerability to in-breeding or natural disaster. \"Every panther life is important at this point because you're dealing with one of the most critically endangered species in the United States,\" said Jennifer Hecker, director of natural resource policy for the Conservancy of Southwest Florida. Last week, the wildlife agency captured and relocated a young male found by a Collier County beach. The costs vary.'. The explanation sentence should specifically clarify the target_sentence='Florida panthers inhabit a sweep of forest, prairie and Everglades that runs roughly from the Caloosahatchee River west of Lake Okeechobee to the southern end This instance will be ignored in loss calculation. Note, if this happens often, consider increasing the `max_seq_length`.\n",
      "  warnings.warn(\n",
      "/home/6/ud03926/nlp/lib64/python3.9/site-packages/trl/trainer/utils.py:160: UserWarning: Could not find response key `### Assistant:` in the following instance: <|begin_of_text|>### User: Your task is to generate exactly ONE short concise explanation sentence (made up of around 10 words or fewer) in a plain English for a given context text. The tone should be plain and simple! Return the explanation sentence for the following context text: 'David Shiffman, a shark conservationist and Ph.D. student at the University of Miami's Rosenstiel School of Marine and Atmospheric Science, sharply criticized the media for glorifying such catches with words like \"epic battle\" and \"ultimate catch\" while failing to note that great hammerheads are endangered globally and that hauling them ashore is illegal in Florida. If you really want to do something for hammerheads, go after commercial shark fishing. \"It unequivocally does not require bringing a shark up on the beach in order to release it.\" Rama Shuster, of the Florida Fish and Wildlife Conservation Commission's Division of Law Enforcement, acknowledged it is not legal to land a species for which only catch-and-release fishing is allowed. Hammerheads are particularly vulnerable. Just issuing a warning, saying other people shouldn't do this, would go such a long way.\"'. The explanation sentence should specifically clarify the target_sentence='David Shiffman, a shark conservationist and Ph.D. student at the University of Miami\\'s Rosenstiel School of Marine and Atmospheric Science, sharply criticized the media for glorifying such catches with words like \"epic battle\" and \"ultimate catch\" while failing to note that great hammerheads are endangered globally and that hauling them ashore is illegal in Florida.'.\n",
      "### Assistant This instance will be ignored in loss calculation. Note, if this happens often, consider increasing the `max_seq_length`.\n",
      "  warnings.warn(\n",
      "/home/6/ud03926/nlp/lib64/python3.9/site-packages/trl/trainer/utils.py:160: UserWarning: Could not find response key `### Assistant:` in the following instance: <|begin_of_text|>### User: Your task is to generate exactly ONE short concise explanation sentence (made up of around 10 words or fewer) in a plain English for a given context text. The tone should be plain and simple! Return the explanation sentence for the following context text: 'But the technological sleuthing it took a group of Carnegie Mellon University students and alumni to recover and preserve some digital images apparently created and stored by Andy Warhol on old-school floppy computer disks nearly 30 years ago is a tale worth telling. \"They were system disks, not personal copy disks with something handwritten on them like ‘Andy Warhol's images' on them.\" It turned out the disks, as well as the computer they were created on, were beta versions of both, which made accessing the systems that much more difficult. While it might be easy to think that new computer images by Warhol could quickly be turned into revenue for the museum, Wrbican said even if Warhol did create them, it's not so easy to begin printing Warhol's newly found work. While the historic value will take more research and debate to be figured out, Matt Wrbican, the Andy Warhol Museum's chief archivist, said the interest is understandable for one of the world's most prolific and studied artists. \"It's something that's new,\" he said, \"and that doesn't happen very often with Warhol.\" It was just Warhol learning a new tool.\"'. The explanation sentence should specifically clarify the target_sentence=\"While the historic value will take more research and debate to be figured out, Matt This instance will be ignored in loss calculation. Note, if this happens often, consider increasing the `max_seq_length`.\n",
      "  warnings.warn(\n",
      "/home/6/ud03926/nlp/lib64/python3.9/site-packages/trl/trainer/utils.py:160: UserWarning: Could not find response key `### Assistant:` in the following instance: <|begin_of_text|>### User: Your task is to generate exactly ONE short concise explanation sentence (made up of around 10 words or fewer) in a plain English for a given context text. The tone should be plain and simple! Return the explanation sentence for the following context text: 'KABUL, Afghanistan \" Hot dogs, even the non-pork variety, are rare in Afghanistan. Naveed Noori, a 25-year-old IT worker and university student, introduced Afghanistan to food trucks after studying the trend online and in Toronto, where his wife and baby daughter live. In May, Noori and his cousin and business partner, Abdullah Karim, launched Lazeez, which means \"delicious,\" hawking hot dogs, burgers and chicken sandwiches out of the back of five customized three-wheelers outfitted with hot plates and mini deep-fryers. On a crisp fall morning, Noori visited one of his trucks, parked on a busy thoroughfare in central Kabul. The rest of the food, including more than 3,000 chicken patties and 7,000 samosas each week, is cooked at their rented offices, a small bungalow with a second-story kitchen overlooking a courtyard where the trucks are parked overnight.'. The explanation sentence should specifically clarify the target_sentence='In May, Noori and his cousin and business partner, Abdullah Karim, launched Lazeez, which means \"delicious,\" hawking hot dogs, burgers and chicken sandwiches out of the back of five customized three-wheelers outfitted with hot plates and mini deep-fryers.'.\n",
      " This instance will be ignored in loss calculation. Note, if this happens often, consider increasing the `max_seq_length`.\n",
      "  warnings.warn(\n",
      "/home/6/ud03926/nlp/lib64/python3.9/site-packages/trl/trainer/utils.py:160: UserWarning: Could not find response key `### Assistant:` in the following instance: <|begin_of_text|>### User: Your task is to generate exactly ONE short concise explanation sentence (made up of around 10 words or fewer) in a plain English for a given context text. The tone should be plain and simple! Return the explanation sentence for the following context text: '\"Fortunately, Russia is not as significant to us as an industry as they were,\" said Mike Cockrell, chief financial officer for Sanderson Farms, a large poultry producer and exporter with operations in North Carolina, Texas, Louisiana and in its home state of Mississippi. After the U.S. and the European Union ratcheted up sanctions against Russia last month, retaliation was expected. While an inconvenience for U.S. exporters, the poultry sanctions ultimately hurt the Russian consumer. Russia's government is limiting access to food, a move, said Cohen, \"that the U.S. and our allies would never do.\" That's not to say Russian sales are inconsequential. Sanderson Farms shipped 87.5 million pounds of product there last year, worth about $40 million. \"Forty million dollars is certainly a lot of money, but at the end of the day we and the industry will seek out alternative markets for our product,\" said Cockrell, noting that the $40 million represents about 1.5 percent of his company's total sales.'. The explanation sentence should specifically clarify the target_sentence='\"Fortunately, Russia is not as significant to us as an industry as they were,\" said Mike Cockrell, chief financial officer for Sanderson Farms, a large poultry producer and exporter with operations in North Carolina, Texas, Louisiana and This instance will be ignored in loss calculation. Note, if this happens often, consider increasing the `max_seq_length`.\n",
      "  warnings.warn(\n",
      "/home/6/ud03926/nlp/lib64/python3.9/site-packages/trl/trainer/utils.py:160: UserWarning: Could not find response key `### Assistant:` in the following instance: <|begin_of_text|>### User: Your task is to generate exactly ONE short concise explanation sentence (made up of around 10 words or fewer) in a plain English for a given context text. The tone should be plain and simple! Return the explanation sentence for the following context text: '<img class=\"pull-right\" src=\"https://newsela-test-files-f331e.s3.amazonaws.com/article_media/extra/20140603_Rip_current.jpg\" />CAROLINA BEACH, N.C. \" For much of Wednesday, a small group of volunteers and researchers walked in and out of the surf, testing a new form of surveillance on the biggest killer of beach swimmers \" rip currents. The nature of perilous currents seems straightforward: Water piles up between the beach and an offshore sandbar, then finds a low point in the bar and rushes back out to sea, sometimes carrying hapless swimmers with it. Of course, the handful of cases that would shoot swimmers straight out and not return them could be fatal for weak swimmers. Again and again the researchers toted 3-foot yellow-and-green contraptions fashioned from foam, plastic sewer pipe, gym weights and cheap GPS units into the surf, then walked along the beach to wherever the odd devices washed up and retrieved them under the gaze of puzzled sunbathers. But scientists have only recently begun figuring out the life-and-death nuances of the currents. But Brander, an expert on surf behavior, said that in recent years researchers using drifters in Australia, the U.S. West Coast and elsewhere had found that in many cases This instance will be ignored in loss calculation. Note, if this happens often, consider increasing the `max_seq_length`.\n",
      "  warnings.warn(\n",
      "/home/6/ud03926/nlp/lib64/python3.9/site-packages/trl/trainer/utils.py:160: UserWarning: Could not find response key `### Assistant:` in the following instance: <|begin_of_text|>### User: Your task is to generate exactly ONE short concise explanation sentence (made up of around 10 words or fewer) in a plain English for a given context text. The tone should be plain and simple! Return the explanation sentence for the following context text: 'SAN JOSE, Costa Rica \" United Nations officials are pushing for many of the Central Americans fleeing to the United States to be treated as refugees displaced by armed conflict, a designation meant to increase pressure on the United States and Mexico to accept tens of thousands of people currently ineligible for asylum. The United States has seen a dramatic increase in the number of Central American migrants crossing into its territory, particularly children traveling without any adult guardian. Many of the migrants, in fact, stay for years as their cases wind through overloaded migration courts. The group will discuss updating a 30-year-old declaration regarding the obligations that nations have to aid refugees. While such a resolution would lack any legal weight, the agency said it believes \"the U.S. and Mexico should recognize that this is a refugee situation, which implies that they shouldn't be automatically sent to their home countries but rather receive international protection.\" Most of the people widely considered to be refugees by the international community are fleeing more traditional political or ethnic conflicts like those in Syria or Sudan. U.N. officials say there is no way of forcing the U.S. and Mexico to accept Central Americans as refugees, but a broad-based change in terminology could bring pressure on the two countries to do more.'. The explanation sentence should specifically clarify the target_sentence='While such a resolution would lack any legal weight This instance will be ignored in loss calculation. Note, if this happens often, consider increasing the `max_seq_length`.\n",
      "  warnings.warn(\n",
      "/home/6/ud03926/nlp/lib64/python3.9/site-packages/trl/trainer/utils.py:160: UserWarning: Could not find response key `### Assistant:` in the following instance: <|begin_of_text|>### User: Your task is to generate exactly ONE short concise explanation sentence (made up of around 10 words or fewer) in a plain English for a given context text. The tone should be plain and simple! Return the explanation sentence for the following context text: 'Gold is far more than just a nice thing to wear at Indian weddings. But it's unclear whether the government can chip away at Indians' love of gold, which economists consider a \"nonproductive asset\" that sits idle in safe-deposit boxes rather than fueling growth. Previous attempts to severely restrict or license its import have failed. It's tough to change a culture that believes gold should mark every phase of life, from birth to dowry to childbirth to death, said Partha Nath Mukherji, professor emeritus of sociology at New Delhi's Institute of Social Sciences. But there was the gold problem. It's evidenced in a love of glitter, be it solid-gold furniture, cricket bats, idols, temple doors or chain-mail shirts worth millions of dollars. When Tata Motors wanted to draw attention to its Nano car model in 2011, it coated one of the vehicles with 176 pounds of gold and gems, gaining far more in publicity than the $3 million value of the shiny stunt.'. The explanation sentence should specifically clarify the target_sentence=\"It's tough to change a culture that believes gold should mark every phase of life, from birth to dowry to childbirth to death, said Partha Nath Mukherji, professor emeritus of sociology at New Delhi's Institute of Social Sciences.\".\n",
      " This instance will be ignored in loss calculation. Note, if this happens often, consider increasing the `max_seq_length`.\n",
      "  warnings.warn(\n"
     ]
    },
    {
     "data": {
      "text/html": [
       "\n",
       "    <div>\n",
       "      \n",
       "      <progress value='99' max='99' style='width:300px; height:20px; vertical-align: middle;'></progress>\n",
       "      [99/99 03:27, Epoch 3/3]\n",
       "    </div>\n",
       "    <table border=\"1\" class=\"dataframe\">\n",
       "  <thead>\n",
       " <tr style=\"text-align: left;\">\n",
       "      <th>Epoch</th>\n",
       "      <th>Training Loss</th>\n",
       "      <th>Validation Loss</th>\n",
       "    </tr>\n",
       "  </thead>\n",
       "  <tbody>\n",
       "    <tr>\n",
       "      <td>1</td>\n",
       "      <td>2.501700</td>\n",
       "      <td>2.222317</td>\n",
       "    </tr>\n",
       "    <tr>\n",
       "      <td>2</td>\n",
       "      <td>2.239600</td>\n",
       "      <td>2.190403</td>\n",
       "    </tr>\n",
       "    <tr>\n",
       "      <td>3</td>\n",
       "      <td>1.935700</td>\n",
       "      <td>2.210178</td>\n",
       "    </tr>\n",
       "  </tbody>\n",
       "</table><p>"
      ],
      "text/plain": [
       "<IPython.core.display.HTML object>"
      ]
     },
     "metadata": {},
     "output_type": "display_data"
    },
    {
     "name": "stderr",
     "output_type": "stream",
     "text": [
      "/home/6/ud03926/nlp/lib64/python3.9/site-packages/trl/trainer/utils.py:160: UserWarning: Could not find response key `### Assistant:` in the following instance: <|begin_of_text|>### User: Your task is to generate exactly ONE short concise explanation sentence (made up of around 10 words or fewer) in a plain English for a given context text. The tone should be plain and simple! Return the explanation sentence for the following context text: 'A century later, the canal is still a vibrant part of international trade and still contributes to U.S. military power, even though the U.S. no longer owns the canal. But the history of the canal is still being written. The concept of the Panama Canal has always had competition. Some observers suggest the plan is entirely a propaganda ploy, but a report on the Maersk Line, owner of 20 of the largest cargo ships afloat, which are too big to fit through the Panama Canal, points out that the Nicaragua Canal \"makes good sense.\" Even before it opened in 1914, several routes through Nicaragua had been proposed, and a railway was designed that would carry ships bodily over the narrow Isthmus of Panama from one ocean to the other. In a resurrection of one of those plans, the government of Nicaragua has joined forces with HKND, a Hong-Kong based group, to build a canal that would directly compete with the Panama Canal.'. The explanation sentence should specifically clarify the target_sentence='Some observers suggest the plan is entirely a propaganda ploy, but a report on the Maersk Line, owner of 20 of the largest cargo ships afloat, which are too big to fit through the Panama Canal, points out that the Nicaragua Canal \"makes good sense.\"'.\n",
      "### Assistant This instance will be ignored in loss calculation. Note, if this happens often, consider increasing the `max_seq_length`.\n",
      "  warnings.warn(\n",
      "/home/6/ud03926/nlp/lib64/python3.9/site-packages/trl/trainer/utils.py:160: UserWarning: Could not find response key `### Assistant:` in the following instance: <|begin_of_text|>### User: Your task is to generate exactly ONE short concise explanation sentence (made up of around 10 words or fewer) in a plain English for a given context text. The tone should be plain and simple! Return the explanation sentence for the following context text: 'The East didn't believe in it. The tale of inequality began when communism took more and more control of East Germany in the 1950s. They simply left. <img class=\"pull_right\" src=\"https://newsela-test-files-f331e.s3.amazonaws.com/article_media/extra/Thefalloftheberlinwall1989.JPG\"/>KLEINMACHNOW, Germany \" The graying activist pulls up to the scant and rusted remains of the Berlin Wall's Checkpoint Bravo on a trendy electric bike, and says that when looking back over the 25 years since the wall fell, it's important to keep perspective. Klaus-Jurgen Warnick, 62, was here on Nov. 9, 1989, when East German guards, unsure how to deal with the thousands turning up at heavily controlled checkpoints, decided that letting people pass was a better option than opening fire. In the West, it was sacrosanct. As a result, when the country became one again, many East Germans lost the homes they'd lived in, many for decades, to West Germans, who had fled or abandoned them, depending on your perspective, but were able to reclaim them when Germany was unified.'. The explanation sentence should specifically clarify the target_sentence=\"The East didn't believe in This instance will be ignored in loss calculation. Note, if this happens often, consider increasing the `max_seq_length`.\n",
      "  warnings.warn(\n",
      "/home/6/ud03926/nlp/lib64/python3.9/site-packages/trl/trainer/utils.py:160: UserWarning: Could not find response key `### Assistant:` in the following instance: <|begin_of_text|>### User: Your task is to generate exactly ONE short concise explanation sentence (made up of around 10 words or fewer) in a plain English for a given context text. The tone should be plain and simple! Return the explanation sentence for the following context text: '\"This is a great, big, hard problem,\" said Richard DeVaul, a Google engineer and chief technical architect for the company's Project Loon, so named in part because even Google concedes the idea sounds a little crazy. Controlling the balloons is a massive computational challenge, DeVaul said. Google, of course, has an interest in helping more people get on the Internet. But after a trial run in New Zealand earlier this year, DeVaul and other engineers on the project say they believe a global network of low-cost, high-altitude balloons could carry enough wireless transponders to beam Internet connections to remote parts of Africa, Asia and other developing regions. They're now embarking on a new series of tests in California's Central Valley, aimed at working out the answers to a multitude of technical questions that must be resolved to make the project work. Google has been working on Loon for nearly two years, but it only recently went public. We now believe we can make the rest of this work, technically.\"'. The explanation sentence should specifically clarify the target_sentence='\"This is a great, big, hard problem,\" said Richard DeVaul, a Google engineer and chief technical architect for the company\\'s Project Loon, so named in part because even Google concedes the idea sounds a little crazy.'.\n",
      " This instance will be ignored in loss calculation. Note, if this happens often, consider increasing the `max_seq_length`.\n",
      "  warnings.warn(\n",
      "/home/6/ud03926/nlp/lib64/python3.9/site-packages/trl/trainer/utils.py:160: UserWarning: Could not find response key `### Assistant:` in the following instance: <|begin_of_text|>### User: Your task is to generate exactly ONE short concise explanation sentence (made up of around 10 words or fewer) in a plain English for a given context text. The tone should be plain and simple! Return the explanation sentence for the following context text: 'The signing \" yet to be ratified by the Russian parliament and the Constitutional Court, steps that are seen as formalities \" was held in a solemn atmosphere in the Kremlin's lavish St. George's Hall shortly after Putin gave a fiery one-hour-long speech often interrupted by applause from the jubilant crowd of lawmakers, government officials and other dignitaries. In his speech, Putin blamed Ukraine's \"nationalists, Russophobes and anti-Semites\" who he said came to power in Ukraine last month when the country's pro-Russia leader fled in the face of protests. Putin insisted that Russia would not invade the industrial southeast of Ukraine, which like Crimea has a large Russian-speaking population. \"They acted roughly, irresponsibly and unprofessionally,\" Putin said. Putin once again called the change of power in Kiev last month, when Ukrainian President Viktor Yanukovych fled after the bloody crackdown against months-old protests had left scores of people dead, a coup d'etat and said that the interim government of Ukraine was illegitimate and not worth talking to. \"Crimea will remain Russian, Ukrainian and Crimean Tatar but it will never be\" fascist, Putin concluded.'. The explanation sentence should specifically clarify the target_sentence='In his speech, Putin blamed Ukraine\\'s \"nationalists, Russoph This instance will be ignored in loss calculation. Note, if this happens often, consider increasing the `max_seq_length`.\n",
      "  warnings.warn(\n",
      "/home/6/ud03926/nlp/lib64/python3.9/site-packages/trl/trainer/utils.py:160: UserWarning: Could not find response key `### Assistant:` in the following instance: <|begin_of_text|>### User: Your task is to generate exactly ONE short concise explanation sentence (made up of around 10 words or fewer) in a plain English for a given context text. The tone should be plain and simple! Return the explanation sentence for the following context text: 'Two foals have been born this year in the herd of 101 horses. The U.S. House of Representatives unanimously passed his bill in 2012 and 2013 to allow the herd to grow to 130 horses and to let the Corolla Wild Horse Fund bring a few horses from the Shackleford Banks, on another island at the far southern tip of the Outer Banks, in order to infuse some fresh genes into the herd. Corolla Wild Horse Fund director McCalpin said it had become almost impossible to recruit volunteers to patrol and make sure the horses have their space. His wife deeply loved the horses. The issue is that at least some horses cross into the island's Currituck National Wildlife Refuge, although the most sensitive parts are fenced off. Flocks of endangered migratory waterfowl and nesting sea turtles use the refuge, and the government calls the horses a \"nuisance.\" Still, he continues.'. The explanation sentence should specifically clarify the target_sentence='The U.S. House of Representatives unanimously passed his bill in 2012 and 2013 to allow the herd to grow to 130 horses and to let the Corolla Wild Horse Fund bring a few horses from the Shackleford Banks, on another island at the far southern tip of the Outer Banks, in order to inf This instance will be ignored in loss calculation. Note, if this happens often, consider increasing the `max_seq_length`.\n",
      "  warnings.warn(\n",
      "/home/6/ud03926/nlp/lib64/python3.9/site-packages/trl/trainer/utils.py:160: UserWarning: Could not find response key `### Assistant:` in the following instance: <|begin_of_text|>### User: Your task is to generate exactly ONE short concise explanation sentence (made up of around 10 words or fewer) in a plain English for a given context text. The tone should be plain and simple! Return the explanation sentence for the following context text: 'YUBA CITY, Calif. \" For the swirling flock of migrating shorebirds banking to a landing in California's Central Valley, a recently flooded rice field is providing a new kind of triage station during a drought that's drastically reducing places where they can rest on their long journeys. Conservationists are temporarily renting 14,000 acres from rice farmers and flooding them just long enough to give the migrating birds the rest and food they need to survive their flights. A lush, wet winter in Canada and Alaska made prime breeding conditions for birds, meaning more birds than usual are coming to California wetlands. Within hours of workers flooding the field two weeks earlier, hundreds of migrating birds appeared. The flocks wheeling into the pop-up wetlands make one of the few bright spots for wildlife in the state this fall. Even before the drought, human development did away with 95 percent of the state's wetlands. Rice farmers \" who flood their fields in winters to let old, harvested rice stalks rot away \" over the years became essential substitute providers of wetlands, but water curtailments have hit them hard.'. The explanation sentence should specifically clarify the target_sentence='Conservationists are temporarily renting 14,000 acres from rice farmers and flooding them just long enough to give the migrating birds the rest and food they need This instance will be ignored in loss calculation. Note, if this happens often, consider increasing the `max_seq_length`.\n",
      "  warnings.warn(\n",
      "/home/6/ud03926/nlp/lib64/python3.9/site-packages/trl/trainer/utils.py:160: UserWarning: Could not find response key `### Assistant:` in the following instance: <|begin_of_text|>### User: Your task is to generate exactly ONE short concise explanation sentence (made up of around 10 words or fewer) in a plain English for a given context text. The tone should be plain and simple! Return the explanation sentence for the following context text: 'And increasingly, it is the first lady who leads the charge in making sure her husband's vision for his library comes to fruition. It will be up to her to decide how involved she wants to be in the day-to-day planning and how much of a footprint she leaves on the library. First lady Laura Bush was a driving force behind President George W. Bush's library, doing everything from chairing the design committee to developing the exhibit while he focused on the center's policy institute. <img class=\"pull-right\" src=\"https://newsela-test-files-f331e.s3.amazonaws.com/article_media/extra/20140918_Pres_LIBRARIES.jpg\" />CHICAGO - In just over a century and a half, the concept of a presidential library has evolved from a small room in a home where first lady Sarah Polk kept her late husband's letters and mementos into multimillion-dollar complexes that house thousands of official records from the presidents' years in office. Sarah Polk essentially created a shrine and museum in her home dedicated to her late husband, who left office in 1849 as his health was failing.'. The explanation sentence should specifically clarify the target_sentence=\"In just over a century and a half, the concept of a presidential library has evolved from a small room in a home where first This instance will be ignored in loss calculation. Note, if this happens often, consider increasing the `max_seq_length`.\n",
      "  warnings.warn(\n",
      "/home/6/ud03926/nlp/lib64/python3.9/site-packages/trl/trainer/utils.py:160: UserWarning: Could not find response key `### Assistant:` in the following instance: <|begin_of_text|>### User: Your task is to generate exactly ONE short concise explanation sentence (made up of around 10 words or fewer) in a plain English for a given context text. The tone should be plain and simple! Return the explanation sentence for the following context text: 'Pittsburgh's zoo officials couldn't be reached for comment. In an interview with The Associated Press, Joerg Jebram, who oversees the European [endangered species](https://www.newsela.com/?tag=endangered species) program for giraffes for the association, said until recently, contraception required sedation, which puts giraffes at risk to break their necks when they fall. Additionally, at the Lincoln Park Zoo, deceased animals would never be fed to other animals at the zoo, she said. \"The Copenhagen Zoo is obviously not practicing modern zoo operations,\" said Lisa Wathne, captive wildlife specialist for the Human Society of the United States. A statement from the European association said the group \"fully supports the decision of the zoo to humanely put the animal down, and believes strongly in the need for genetic and demographic management within populations of animals in human care.\" The Jyllands Park Zoo in Denmark is not EAZA-accredited, and association officials stated they do not support the decision to euthanize the second Marius.'. The explanation sentence should specifically clarify the target_sentence='In an interview with The Associated Press, Joerg Jebram, who oversees the European endangered species program for giraffes for the association, said until recently, contraception required sedation, which puts This instance will be ignored in loss calculation. Note, if this happens often, consider increasing the `max_seq_length`.\n",
      "  warnings.warn(\n",
      "/home/6/ud03926/nlp/lib64/python3.9/site-packages/trl/trainer/utils.py:160: UserWarning: Could not find response key `### Assistant:` in the following instance: <|begin_of_text|>### User: Your task is to generate exactly ONE short concise explanation sentence (made up of around 10 words or fewer) in a plain English for a given context text. The tone should be plain and simple! Return the explanation sentence for the following context text: 'WASHINGTON \" Opening a new military front in the Middle East, President Barack Obama authorized U.S. airstrikes inside Syria for the first time Wednesday night, along with expanded strikes in Iraq as part of \"a steady, relentless effort\" to root out the militant group Islamic State and its spreading reign of terror. The U.S. began launching limited airstrikes against Islamic State targets in Iraq earlier this summer at the request of that country's former prime minister. Officials said Obama plans to proceed with both the broader airstrikes in Iraq and the strikes in Syria without seeking new authorization from Congress. House Speaker John Boehner, Republican from Ohio, praised Obama for acknowledging the \"grave and growing threat\" that Islamic extremists pose, but he said Obama was coming to that conclusion far too late. He also urged Congress anew to authorize a program to train and arm Syrian rebels who are fighting both the Islamic State militants and Syrian President Bashar Assad. It will not involve American combat troops fighting on foreign soil.\" The White House announced Wednesday that it was also providing $25 million in immediate military assistance to the Iraqi government as part of efforts to combat the Islamic State.'. The explanation sentence should specifically clarify the target_sentence='President Barack Obama authorized U.S. airstrikes inside Syria for the first time Wednesday night, along with expanded strikes in Iraq as part of \"a steady, relentless effort This instance will be ignored in loss calculation. Note, if this happens often, consider increasing the `max_seq_length`.\n",
      "  warnings.warn(\n",
      "/home/6/ud03926/nlp/lib64/python3.9/site-packages/trl/trainer/utils.py:160: UserWarning: Could not find response key `### Assistant:` in the following instance: <|begin_of_text|>### User: Your task is to generate exactly ONE short concise explanation sentence (made up of around 10 words or fewer) in a plain English for a given context text. The tone should be plain and simple! Return the explanation sentence for the following context text: 'LOS ANGELES \" Using a brand-new technique, scientists using NASA's Kepler Space Telescope have found 715 confirmed planets huddling around 305 stars, nearly triple Kepler's previous total of 246 confirmed planets in the Milky Way galaxy. For example, many of these systems seem to have multiple planets clustered in an orbit smaller than Venus, or even Mercury. The findings will also shed light on strange planets like mini-Neptunes, which have no analog in our own solar system, and sharpen scientists' search for Earth-sized, potentially Earth-like planets, scientists said. Nearly 95 percent of them are smaller than Neptune, and four of them are in their star's habitable zone, the region where liquid water \" a necessary ingredient for life as we know it \" could exist. Even though the planet-hunting telescope's crucial pointing ability was crippled last year, data mined from the spacecraft are still turning up a trove of strange and wonderful worlds, researchers said \" bringing them ever closer to finding \"Earth 2.0.\"'. The explanation sentence should specifically clarify the target_sentence='Nearly 95 percent of them are smaller than Neptune, and four of them are in their star\\'s habitable zone, the region where liquid water \" a necessary ingredient for life as we know it \" could exist.'.\n",
      " This instance will be ignored in loss calculation. Note, if this happens often, consider increasing the `max_seq_length`.\n",
      "  warnings.warn(\n",
      "/home/6/ud03926/nlp/lib64/python3.9/site-packages/trl/trainer/utils.py:160: UserWarning: Could not find response key `### Assistant:` in the following instance: <|begin_of_text|>### User: Your task is to generate exactly ONE short concise explanation sentence (made up of around 10 words or fewer) in a plain English for a given context text. The tone should be plain and simple! Return the explanation sentence for the following context text: 'Sotheby's estimates that China now accounts for $14 billion of the $58 billion global art market. \"The quality is very, very high.\" Christie's held its first sale in India last month, and Sotheby's opens an exhibition of Indian and international art in New Delhi on Friday. Sotheby's put its works on public display in London Thursday, and there was a distinct scarlet hue to the star lots \" Gerhard Richter's cadmium-colored abstract \"Wall,\" expected to sell for at least 15 million pounds; an Andy Warhol portrait of Chairman Mao valued at 5 million pounds to 7 million pounds; a vivid red piece in molten plastic by Alberto Burri that could break the 3-million-pound record for the Italian artist. Another highlight is Camille Pissarro's 1897 \"Boulevard Monmartre,\" which Sotheby's calls \"one of the most important Impressionist paintings we've handled.\" It's estimated at 7 to 10 million pounds, but there's a feeling it could fetch more.'. The explanation sentence should specifically clarify the target_sentence='Another highlight is Camille Pissarro\\'s 1897 \"Boulevard Monmartre,\" which Sotheby\\'s calls \"one of the most important Impression This instance will be ignored in loss calculation. Note, if this happens often, consider increasing the `max_seq_length`.\n",
      "  warnings.warn(\n",
      "/home/6/ud03926/nlp/lib64/python3.9/site-packages/trl/trainer/utils.py:160: UserWarning: Could not find response key `### Assistant:` in the following instance: <|begin_of_text|>### User: Your task is to generate exactly ONE short concise explanation sentence (made up of around 10 words or fewer) in a plain English for a given context text. The tone should be plain and simple! Return the explanation sentence for the following context text: 'LOS ANGELES \" Seventy feet below Wilshire Boulevard, catercorner from the Los Angeles County Museum of Art's street-lamp installation, fresh air roaring from giant ventilation pipes dulled the sickly sweet smell of petroleum. Eventually, workers will spend about two months removing equipment and backfilling the shaft with a mixture of cement and sand. Amid the clatter of jackhammers and the whine of a mini-excavator, paleontologist Kim Scott scouted the tarry muck for relics from a long-buried beach. She had plenty of choices. Major construction on the highly anticipated Westside subway extension won't begin until next year, but an exploratory shaft dug at the corner of Ogden Drive to assess soil conditions for future stations and tunnels has burped up a bonanza of prehistoric swag. The swimming-pool-size shaft, 18 feet wide by 38 feet long, is yielding evidence from its depths of a cooler, wetter Pleistocene climate of 100,000 to 330,000 years ago, when Pacific Ocean waves lapped over what is now the bustling Miracle Mile.'. The explanation sentence should specifically clarify the target_sentence='Amid the clatter of jackhammers and the whine of a mini-excavator, paleontologist Kim Scott This instance will be ignored in loss calculation. Note, if this happens often, consider increasing the `max_seq_length`.\n",
      "  warnings.warn(\n",
      "/home/6/ud03926/nlp/lib64/python3.9/site-packages/trl/trainer/utils.py:160: UserWarning: Could not find response key `### Assistant:` in the following instance: <|begin_of_text|>### User: Your task is to generate exactly ONE short concise explanation sentence (made up of around 10 words or fewer) in a plain English for a given context text. The tone should be plain and simple! Return the explanation sentence for the following context text: 'Stories carried Monday by The New York Times, the Guardian, and ProPublica said U.S. and U.K. spies have spent years trawling online games for terrorists or informants. The stories, based on documents leaked by former National Security Agency (NSA) contractor Edward Snowden, offer an unusual take on America's world-spanning surveillance campaign, suggesting that even the fantasy worlds popular with children, teens, and escapists of all ages aren't beyond the attention of the NSA and its British counterpart, GCHQ. In a statement, Blizzard Entertainment said that it is \"unaware of any surveillance taking place. Virtual universes like \"World of Warcraft\" can be massively popular, drawing in millions of players who log months' worth of real-world time competing with other players for online glory, virtual treasure, and magical loot. At its height, \"World of Warcraft\" boasted some 12 million paying subscribers, more than the population of Greece. In one of the documents cited Monday by media outlets, the NSA warned that the games could give intelligence targets a place to \"hide in plain sight.\"'. The explanation sentence should specifically clarify the target_sentence=\"The stories, based on documents leaked by former National Security Agency (NSA) contractor Edward Snowden, offer an unusual take on America's world-spanning surveillance This instance will be ignored in loss calculation. Note, if this happens often, consider increasing the `max_seq_length`.\n",
      "  warnings.warn(\n",
      "/home/6/ud03926/nlp/lib64/python3.9/site-packages/trl/trainer/utils.py:160: UserWarning: Could not find response key `### Assistant:` in the following instance: <|begin_of_text|>### User: Your task is to generate exactly ONE short concise explanation sentence (made up of around 10 words or fewer) in a plain English for a given context text. The tone should be plain and simple! Return the explanation sentence for the following context text: 'Now there are three. The rapid, largely unregulated growth in F-1 visa students, as they are known, has raised concerns about the role of private recruiting companies and the safety of teenagers in the country without their parents. \"Because there's so much money that can be made, and because there's a lack of regulation, you're just going to see a lot of people rushing into this field driven by profit rather than the desire to provide students and schools with a quality experience,\" said Jay Chen, president of the Hacienda La Puente Unified school board. In nearby Hacienda La Puente, school board member Joseph Chang was censured by his colleagues over allegations that he used his influence to benefit Bela. The vast majority of tuition-paying international students still study at private high schools \" 62,000 last year, up from about 6,000 five years ago. No, I don't want 100 students,\" Dorsey said.'. The explanation sentence should specifically clarify the target_sentence=\"Because there's so much money that can be made, and because there's a lack of regulation, you're just going to see a lot of people rushing into this field driven by profit rather than the desire to provide students and schools with a quality experience, said Jay Chen, president of the Haci This instance will be ignored in loss calculation. Note, if this happens often, consider increasing the `max_seq_length`.\n",
      "  warnings.warn(\n",
      "/home/6/ud03926/nlp/lib64/python3.9/site-packages/trl/trainer/utils.py:160: UserWarning: Could not find response key `### Assistant:` in the following instance: <|begin_of_text|>### User: Your task is to generate exactly ONE short concise explanation sentence (made up of around 10 words or fewer) in a plain English for a given context text. The tone should be plain and simple! Return the explanation sentence for the following context text: 'Obama said the immediate priority is finding the girls, but that the Boko Haram group must also be dealt with. \"In the short term our goal is obviously is to help the international community, and the Nigerian government, as a team to do everything we can to recover these young ladies,\" Obama said in an interview with NBC's \"Today,\" in some of his first public comments on what he said was a \"terrible situation\" in the West African nation. Obama said the U.S. has long sought to work with Nigeria to contain Boko Haram. \"But we're also going to have to deal with the broader problem of organizations like this that... can cause such havoc in people's day-to-day lives,\" Obama said of Boko Haram. He said the kidnapping and subsequent outrage over Nigeria's inability to rescue the girls \"may be the event that helps to mobilize the entire international community to finally do something against this horrendous organization that's perpetrated such a terrible crime.\" I mean, literally, immediately.\" Shekau also warned that Boko Haram will attack more schools and abduct more girls.'. The explanation sentence should specifically clarify the target_sentence='Obama said in an interview with NBC\\'s \"Today,\" in some of his first public comments on what he said was a \"terrible situation\" in the This instance will be ignored in loss calculation. Note, if this happens often, consider increasing the `max_seq_length`.\n",
      "  warnings.warn(\n",
      "/home/6/ud03926/nlp/lib64/python3.9/site-packages/trl/trainer/utils.py:160: UserWarning: Could not find response key `### Assistant:` in the following instance: <|begin_of_text|>### User: Your task is to generate exactly ONE short concise explanation sentence (made up of around 10 words or fewer) in a plain English for a given context text. The tone should be plain and simple! Return the explanation sentence for the following context text: 'Fully pursue his dream to become an entrepreneur and literacy advocate for young people of color, to stop them from being sucked down the intoxicating pipeline that entrapped him. At 12, Briscoe was arrested for the first time, stopped with one-fourth of an ounce of crack cocaine, which got him a week of juvenile detention. Facing a four-count indictment, he dug into a law book and discovered a procedural error that he presented to his public defender, who presented it to the judge. He got three years on that offense, instead of 60. Briscoe created a prison literacy program in Tennessee called BRAINS (Books Rehabilitating American Inmates National Society), where men contributed $2 each to update the prison library. While still on parole two years ago, Briscoe founded a community literacy initiative called To Succeed You Must Read! The program reaches students in schools and libraries, and includes a summer book club. \"He now has the experience and knowledge to go out there on issues that he knows will directly affect people who are trying to do better,\" she said.'. The explanation sentence should specifically clarify the target_sentence='Briscoe created a prison literacy program in Tennessee called BRAINS (Books Rehabilitating American Inmates National Society), where men contributed $2 each to update the prison library.'.\n",
      " This instance will be ignored in loss calculation. Note, if this happens often, consider increasing the `max_seq_length`.\n",
      "  warnings.warn(\n",
      "/home/6/ud03926/nlp/lib64/python3.9/site-packages/trl/trainer/utils.py:160: UserWarning: Could not find response key `### Assistant:` in the following instance: <|begin_of_text|>### User: Your task is to generate exactly ONE short concise explanation sentence (made up of around 10 words or fewer) in a plain English for a given context text. The tone should be plain and simple! Return the explanation sentence for the following context text: 'WASHINGTON \" Under pressure from Congress and international allies, President Barack Obama announced a change in what has been a central piece of his counterterrorism strategy, saying he would place new restrictions on the targeting of terrorists with missiles fired from [drones](https://www.newsela.com/?tag=drone). In a speech that takes stock of America's long battle with al-Qaida, the president said he would continue ordering lethal drone strikes to stop potential terror attacks because the relative precision of drone warfare is preferable to major troop deployments or traditional bombing. Under the new policy, strikes will only be authorized against militants who pose \"a continuing, imminent threat,\" aides said, instead of \"a significant threat,\" which had been the previous standard. Before any strike is undertaken, \"there must be a near certainty that no civilians will be killed or injured,\" said a senior administration official who spoke under ground rules that did not allow him to be named. \"To say a military tactic is legal, or even effective, is not to say it is wise or moral in every instance,\" Obama said in his address at the National Defense University. In Yemen, where the CIA and the military have launched numerous drone strikes, a new pro-American government is making progress against the al-Qaida affiliate, U.S. officials said, and that is making U This instance will be ignored in loss calculation. Note, if this happens often, consider increasing the `max_seq_length`.\n",
      "  warnings.warn(\n",
      "Trainer.tokenizer is now deprecated. You should use Trainer.processing_class instead.\n",
      "Trainer.tokenizer is now deprecated. You should use Trainer.processing_class instead.\n",
      "/home/6/ud03926/nlp/lib64/python3.9/site-packages/trl/trainer/utils.py:160: UserWarning: Could not find response key `### Assistant:` in the following instance: <|begin_of_text|>### User: Your task is to generate exactly ONE short concise explanation sentence (made up of around 10 words or fewer) in a plain English for a given context text. The tone should be plain and simple! Return the explanation sentence for the following context text: 'The overheated debate between the federal government and animal advocates over the removal of wild mustangs from the Western range ticked a few degrees higher after the Bureau of Land Management announced plans to take fewer horses from the land this summer. Animal advocates say 1,300 horses is still too many, and they question the BLM's rationale for the removals. The BLM has been under fire for what many have called its failing policies toward wild horses, who have been blamed for range damage despite the fact that their numbers are heavily overshadowed by grazing domestic cattle. Nine of the BLM's 16 summer roundups will be conducted in Nevada, home to roughly half of the estimated 37,000 free-roaming wild horses and burros in the West. On Tuesday, the agency said it would relocate 50 wild horses threatened by drought from an area two hours north of Las Vegas. BLM officials said \"it is anticipated that as an act of mercy, some animals with a poor prognosis for survival may need to be humanely euthanized to end their suffering.\"'. The explanation sentence should specifically clarify the target_sentence='The BLM has been under fire for what many have called its failing policies toward wild horses, who have been blamed for range damage despite the fact that their numbers are heavily overshadowed by grazing This instance will be ignored in loss calculation. Note, if this happens often, consider increasing the `max_seq_length`.\n",
      "  warnings.warn(\n",
      "/home/6/ud03926/nlp/lib64/python3.9/site-packages/trl/trainer/utils.py:160: UserWarning: Could not find response key `### Assistant:` in the following instance: <|begin_of_text|>### User: Your task is to generate exactly ONE short concise explanation sentence (made up of around 10 words or fewer) in a plain English for a given context text. The tone should be plain and simple! Return the explanation sentence for the following context text: 'To find it, they had to build a $10 billion collider in a 17-mile (27-kilometer) tunnel beneath the Swiss-French border. Yet finding the particle \" often referred to as the \"God particle\" \" required teams of thousands of scientists and mountains of data from trillions of colliding protons in the world's biggest atom smasher \" CERN's Large Hadron Collider. Thousands of scientists were involved in the experiments that confirmed the particle's existence last year. The Higgs particle solved a problem that physicists had puzzled over for some time: how did matter form shortly after the Big Bang, eventually leading to the universe as we know it today? Only about one collision per trillion will produce one of the Higgs bosons in the collider, and it took CERN some time after the discovery of a new \"Higgs-like\" boson to decide that the particle was, in fact, very much like the Higgs boson expected in the original formulation, rather than a kind of variant. Michael Turner, president of the American Physical Society, an organization of physicists, said the Higgs particle captured the imagination of the public.'. The explanation sentence should specifically clarify the target_sentence='Yet finding the particle \" often referred to as the \"God particle\" \" required teams of thousands of scientists and This instance will be ignored in loss calculation. Note, if this happens often, consider increasing the `max_seq_length`.\n",
      "  warnings.warn(\n",
      "/home/6/ud03926/nlp/lib64/python3.9/site-packages/trl/trainer/utils.py:160: UserWarning: Could not find response key `### Assistant:` in the following instance: <|begin_of_text|>### User: Your task is to generate exactly ONE short concise explanation sentence (made up of around 10 words or fewer) in a plain English for a given context text. The tone should be plain and simple! Return the explanation sentence for the following context text: '<img class=\"pull_right\" src=\"https://newsela-test-files-f331e.s3.amazonaws.com/article_media/extra/20141211_TEENAGERS_CRIME.jpg\"/>PHILADELPHIA \" A summer jobs program for teenagers appears to cut the rate of violent crime, according to a new study by a University of Pennsylvania researcher. Their number of arrests for violent crimes was slightly lower than that of the remaining 904 teens while the jobs lasted, but the difference did not become statistically significant until six months into the study \" three months after the jobs were completed. Heller said that the results may underestimate the impact of the jobs program, as a quarter of the teens who were offered jobs did not accept them, though some of those teens found other jobs on their own. And not because the youths were too busy working to break the law. The 730 teens who were offered jobs were picked at random from among 1,634 applicants. At 16 months, police data revealed 5.1 arrests for violent crimes per 100 youths who were offered jobs, compared with 9.1 violent-crime arrests per 100 teens who were not. \"We explained that everybody's first job is a horrible job,\" Diaz said.'. The explanation sentence should specifically clarify the target_sentence='The 730 teens This instance will be ignored in loss calculation. Note, if this happens often, consider increasing the `max_seq_length`.\n",
      "  warnings.warn(\n",
      "/home/6/ud03926/nlp/lib64/python3.9/site-packages/trl/trainer/utils.py:160: UserWarning: Could not find response key `### Assistant:` in the following instance: <|begin_of_text|>### User: Your task is to generate exactly ONE short concise explanation sentence (made up of around 10 words or fewer) in a plain English for a given context text. The tone should be plain and simple! Return the explanation sentence for the following context text: 'But decades would pass before scientists at CERN were able to confirm its existence in July 2012. To find it, they had to build a $10 billion collider in a 17-mile (27-kilometer) tunnel beneath the Swiss-French border. Yet finding the particle \" often referred to as the \"God particle\" \" required teams of thousands of scientists and mountains of data from trillions of colliding protons in the world's biggest atom smasher \" CERN's Large Hadron Collider. Thousands of scientists were involved in the experiments that confirmed the particle's existence last year. The Higgs particle solved a problem that physicists had puzzled over for some time: how did matter form shortly after the Big Bang, eventually leading to the universe as we know it today? Only about one collision per trillion will produce one of the Higgs bosons in the collider, and it took CERN some time after the discovery of a new \"Higgs-like\" boson to decide that the particle was, in fact, very much like the Higgs boson expected in the original formulation, rather than a kind of variant.'. The explanation sentence should specifically clarify the target_sentence='Yet finding the particle \" often referred to as the \"God particle\" \" required teams of thousands of scientists and mountains of data from trillions This instance will be ignored in loss calculation. Note, if this happens often, consider increasing the `max_seq_length`.\n",
      "  warnings.warn(\n",
      "/home/6/ud03926/nlp/lib64/python3.9/site-packages/trl/trainer/utils.py:160: UserWarning: Could not find response key `### Assistant:` in the following instance: <|begin_of_text|>### User: Your task is to generate exactly ONE short concise explanation sentence (made up of around 10 words or fewer) in a plain English for a given context text. The tone should be plain and simple! Return the explanation sentence for the following context text: '<img class=\"pull-right\" src=\"https://newsela-test-files-f331e.s3.amazonaws.com/article_media/extra/Mount_Everest_as_seen_from_Drukair2_PLW_edit.png\"/>If you think riding a roller coaster is scary, how about flying one through the Himalayas? When it comes to seasonal migrations, the bar-headed goose is no slacker. \"Migrating birds must overcome many challenging environmental obstacles, such as arid deserts and featureless oceans, but few are capable of negotiating the formidably high mountains separating the Indian subcontinent from central Asia,\" the study authors wrote. Scientists who tracked bar-headed geese across their mountainous seasonal migration have discovered that the birds won't take a straight path to their destination, but instead climb up and plunge down with the contours of the ground. The findings, published in the journal Science, reveal a surprisingly savvy strategy that helps these high-fliers finish the grueling southbound journey from their breeding grounds in Mongolia to their winter getaway in India or southeastern Tibet. The researchers found that, rather than fly in a straight line\"the most direct route to their destination \" the geese would hug the terrain, ascending to get over a high peak and descending when the ground leveled out.'. The explanation sentence should specifically clarify the target_sentence=' This instance will be ignored in loss calculation. Note, if this happens often, consider increasing the `max_seq_length`.\n",
      "  warnings.warn(\n",
      "/home/6/ud03926/nlp/lib64/python3.9/site-packages/trl/trainer/utils.py:160: UserWarning: Could not find response key `### Assistant:` in the following instance: <|begin_of_text|>### User: Your task is to generate exactly ONE short concise explanation sentence (made up of around 10 words or fewer) in a plain English for a given context text. The tone should be plain and simple! Return the explanation sentence for the following context text: 'LOS ANGELES \" Seventy feet below Wilshire Boulevard, catercorner from the Los Angeles County Museum of Art's street-lamp installation, fresh air roaring from giant ventilation pipes dulled the sickly sweet smell of petroleum. Eventually, workers will spend about two months removing equipment and backfilling the shaft with a mixture of cement and sand. Amid the clatter of jackhammers and the whine of a mini-excavator, paleontologist Kim Scott scouted the tarry muck for relics from a long-buried beach. She had plenty of choices. Major construction on the highly anticipated Westside subway extension won't begin until next year, but an exploratory shaft dug at the corner of Ogden Drive to assess soil conditions for future stations and tunnels has burped up a bonanza of prehistoric swag. The swimming-pool-size shaft, 18 feet wide by 38 feet long, is yielding evidence from its depths of a cooler, wetter Pleistocene climate of 100,000 to 330,000 years ago, when Pacific Ocean waves lapped over what is now the bustling Miracle Mile.'. The explanation sentence should specifically clarify the target_sentence='Amid the clatter of jackhammers and the whine of a mini-excavator, paleontologist Kim Scott This instance will be ignored in loss calculation. Note, if this happens often, consider increasing the `max_seq_length`.\n",
      "  warnings.warn(\n",
      "/home/6/ud03926/nlp/lib64/python3.9/site-packages/trl/trainer/utils.py:160: UserWarning: Could not find response key `### Assistant:` in the following instance: <|begin_of_text|>### User: Your task is to generate exactly ONE short concise explanation sentence (made up of around 10 words or fewer) in a plain English for a given context text. The tone should be plain and simple! Return the explanation sentence for the following context text: 'Sotheby's estimates that China now accounts for $14 billion of the $58 billion global art market. \"The quality is very, very high.\" Christie's held its first sale in India last month, and Sotheby's opens an exhibition of Indian and international art in New Delhi on Friday. Sotheby's put its works on public display in London Thursday, and there was a distinct scarlet hue to the star lots \" Gerhard Richter's cadmium-colored abstract \"Wall,\" expected to sell for at least 15 million pounds; an Andy Warhol portrait of Chairman Mao valued at 5 million pounds to 7 million pounds; a vivid red piece in molten plastic by Alberto Burri that could break the 3-million-pound record for the Italian artist. Another highlight is Camille Pissarro's 1897 \"Boulevard Monmartre,\" which Sotheby's calls \"one of the most important Impressionist paintings we've handled.\" It's estimated at 7 to 10 million pounds, but there's a feeling it could fetch more.'. The explanation sentence should specifically clarify the target_sentence='Another highlight is Camille Pissarro\\'s 1897 \"Boulevard Monmartre,\" which Sotheby\\'s calls \"one of the most important Impression This instance will be ignored in loss calculation. Note, if this happens often, consider increasing the `max_seq_length`.\n",
      "  warnings.warn(\n",
      "/home/6/ud03926/nlp/lib64/python3.9/site-packages/trl/trainer/utils.py:160: UserWarning: Could not find response key `### Assistant:` in the following instance: <|begin_of_text|>### User: Your task is to generate exactly ONE short concise explanation sentence (made up of around 10 words or fewer) in a plain English for a given context text. The tone should be plain and simple! Return the explanation sentence for the following context text: 'KABUL, Afghanistan \" Hot dogs, even the non-pork variety, are rare in Afghanistan. Naveed Noori, a 25-year-old IT worker and university student, introduced Afghanistan to food trucks after studying the trend online and in Toronto, where his wife and baby daughter live. In May, Noori and his cousin and business partner, Abdullah Karim, launched Lazeez, which means \"delicious,\" hawking hot dogs, burgers and chicken sandwiches out of the back of five customized three-wheelers outfitted with hot plates and mini deep-fryers. On a crisp fall morning, Noori visited one of his trucks, parked on a busy thoroughfare in central Kabul. The rest of the food, including more than 3,000 chicken patties and 7,000 samosas each week, is cooked at their rented offices, a small bungalow with a second-story kitchen overlooking a courtyard where the trucks are parked overnight.'. The explanation sentence should specifically clarify the target_sentence='In May, Noori and his cousin and business partner, Abdullah Karim, launched Lazeez, which means \"delicious,\" hawking hot dogs, burgers and chicken sandwiches out of the back of five customized three-wheelers outfitted with hot plates and mini deep-fryers.'.\n",
      " This instance will be ignored in loss calculation. Note, if this happens often, consider increasing the `max_seq_length`.\n",
      "  warnings.warn(\n",
      "/home/6/ud03926/nlp/lib64/python3.9/site-packages/trl/trainer/utils.py:160: UserWarning: Could not find response key `### Assistant:` in the following instance: <|begin_of_text|>### User: Your task is to generate exactly ONE short concise explanation sentence (made up of around 10 words or fewer) in a plain English for a given context text. The tone should be plain and simple! Return the explanation sentence for the following context text: 'Pittsburgh's zoo officials couldn't be reached for comment. In an interview with The Associated Press, Joerg Jebram, who oversees the European [endangered species](https://www.newsela.com/?tag=endangered species) program for giraffes for the association, said until recently, contraception required sedation, which puts giraffes at risk to break their necks when they fall. Additionally, at the Lincoln Park Zoo, deceased animals would never be fed to other animals at the zoo, she said. \"The Copenhagen Zoo is obviously not practicing modern zoo operations,\" said Lisa Wathne, captive wildlife specialist for the Human Society of the United States. A statement from the European association said the group \"fully supports the decision of the zoo to humanely put the animal down, and believes strongly in the need for genetic and demographic management within populations of animals in human care.\" The Jyllands Park Zoo in Denmark is not EAZA-accredited, and association officials stated they do not support the decision to euthanize the second Marius.'. The explanation sentence should specifically clarify the target_sentence='In an interview with The Associated Press, Joerg Jebram, who oversees the European endangered species program for giraffes for the association, said until recently, contraception required sedation, which puts This instance will be ignored in loss calculation. Note, if this happens often, consider increasing the `max_seq_length`.\n",
      "  warnings.warn(\n",
      "/home/6/ud03926/nlp/lib64/python3.9/site-packages/trl/trainer/utils.py:160: UserWarning: Could not find response key `### Assistant:` in the following instance: <|begin_of_text|>### User: Your task is to generate exactly ONE short concise explanation sentence (made up of around 10 words or fewer) in a plain English for a given context text. The tone should be plain and simple! Return the explanation sentence for the following context text: '<img class=\"pull-right\" src=\"https://newsela-test-files-f331e.s3.amazonaws.com/article_media/extra/20140603_Rip_current.jpg\" />CAROLINA BEACH, N.C. \" For much of Wednesday, a small group of volunteers and researchers walked in and out of the surf, testing a new form of surveillance on the biggest killer of beach swimmers \" rip currents. The nature of perilous currents seems straightforward: Water piles up between the beach and an offshore sandbar, then finds a low point in the bar and rushes back out to sea, sometimes carrying hapless swimmers with it. Of course, the handful of cases that would shoot swimmers straight out and not return them could be fatal for weak swimmers. Again and again the researchers toted 3-foot yellow-and-green contraptions fashioned from foam, plastic sewer pipe, gym weights and cheap GPS units into the surf, then walked along the beach to wherever the odd devices washed up and retrieved them under the gaze of puzzled sunbathers. But scientists have only recently begun figuring out the life-and-death nuances of the currents. But Brander, an expert on surf behavior, said that in recent years researchers using drifters in Australia, the U.S. West Coast and elsewhere had found that in many cases This instance will be ignored in loss calculation. Note, if this happens often, consider increasing the `max_seq_length`.\n",
      "  warnings.warn(\n",
      "/home/6/ud03926/nlp/lib64/python3.9/site-packages/trl/trainer/utils.py:160: UserWarning: Could not find response key `### Assistant:` in the following instance: <|begin_of_text|>### User: Your task is to generate exactly ONE short concise explanation sentence (made up of around 10 words or fewer) in a plain English for a given context text. The tone should be plain and simple! Return the explanation sentence for the following context text: 'Fully pursue his dream to become an entrepreneur and literacy advocate for young people of color, to stop them from being sucked down the intoxicating pipeline that entrapped him. At 12, Briscoe was arrested for the first time, stopped with one-fourth of an ounce of crack cocaine, which got him a week of juvenile detention. Facing a four-count indictment, he dug into a law book and discovered a procedural error that he presented to his public defender, who presented it to the judge. He got three years on that offense, instead of 60. Briscoe created a prison literacy program in Tennessee called BRAINS (Books Rehabilitating American Inmates National Society), where men contributed $2 each to update the prison library. While still on parole two years ago, Briscoe founded a community literacy initiative called To Succeed You Must Read! The program reaches students in schools and libraries, and includes a summer book club. \"He now has the experience and knowledge to go out there on issues that he knows will directly affect people who are trying to do better,\" she said.'. The explanation sentence should specifically clarify the target_sentence='Briscoe created a prison literacy program in Tennessee called BRAINS (Books Rehabilitating American Inmates National Society), where men contributed $2 each to update the prison library.'.\n",
      " This instance will be ignored in loss calculation. Note, if this happens often, consider increasing the `max_seq_length`.\n",
      "  warnings.warn(\n",
      "/home/6/ud03926/nlp/lib64/python3.9/site-packages/trl/trainer/utils.py:160: UserWarning: Could not find response key `### Assistant:` in the following instance: <|begin_of_text|>### User: Your task is to generate exactly ONE short concise explanation sentence (made up of around 10 words or fewer) in a plain English for a given context text. The tone should be plain and simple! Return the explanation sentence for the following context text: 'Two foals have been born this year in the herd of 101 horses. The U.S. House of Representatives unanimously passed his bill in 2012 and 2013 to allow the herd to grow to 130 horses and to let the Corolla Wild Horse Fund bring a few horses from the Shackleford Banks, on another island at the far southern tip of the Outer Banks, in order to infuse some fresh genes into the herd. Corolla Wild Horse Fund director McCalpin said it had become almost impossible to recruit volunteers to patrol and make sure the horses have their space. His wife deeply loved the horses. The issue is that at least some horses cross into the island's Currituck National Wildlife Refuge, although the most sensitive parts are fenced off. Flocks of endangered migratory waterfowl and nesting sea turtles use the refuge, and the government calls the horses a \"nuisance.\" Still, he continues.'. The explanation sentence should specifically clarify the target_sentence='The U.S. House of Representatives unanimously passed his bill in 2012 and 2013 to allow the herd to grow to 130 horses and to let the Corolla Wild Horse Fund bring a few horses from the Shackleford Banks, on another island at the far southern tip of the Outer Banks, in order to inf This instance will be ignored in loss calculation. Note, if this happens often, consider increasing the `max_seq_length`.\n",
      "  warnings.warn(\n",
      "/home/6/ud03926/nlp/lib64/python3.9/site-packages/trl/trainer/utils.py:160: UserWarning: Could not find response key `### Assistant:` in the following instance: <|begin_of_text|>### User: Your task is to generate exactly ONE short concise explanation sentence (made up of around 10 words or fewer) in a plain English for a given context text. The tone should be plain and simple! Return the explanation sentence for the following context text: 'Gold is far more than just a nice thing to wear at Indian weddings. But it's unclear whether the government can chip away at Indians' love of gold, which economists consider a \"nonproductive asset\" that sits idle in safe-deposit boxes rather than fueling growth. Previous attempts to severely restrict or license its import have failed. It's tough to change a culture that believes gold should mark every phase of life, from birth to dowry to childbirth to death, said Partha Nath Mukherji, professor emeritus of sociology at New Delhi's Institute of Social Sciences. But there was the gold problem. It's evidenced in a love of glitter, be it solid-gold furniture, cricket bats, idols, temple doors or chain-mail shirts worth millions of dollars. When Tata Motors wanted to draw attention to its Nano car model in 2011, it coated one of the vehicles with 176 pounds of gold and gems, gaining far more in publicity than the $3 million value of the shiny stunt.'. The explanation sentence should specifically clarify the target_sentence=\"It's tough to change a culture that believes gold should mark every phase of life, from birth to dowry to childbirth to death, said Partha Nath Mukherji, professor emeritus of sociology at New Delhi's Institute of Social Sciences.\".\n",
      " This instance will be ignored in loss calculation. Note, if this happens often, consider increasing the `max_seq_length`.\n",
      "  warnings.warn(\n",
      "/home/6/ud03926/nlp/lib64/python3.9/site-packages/trl/trainer/utils.py:160: UserWarning: Could not find response key `### Assistant:` in the following instance: <|begin_of_text|>### User: Your task is to generate exactly ONE short concise explanation sentence (made up of around 10 words or fewer) in a plain English for a given context text. The tone should be plain and simple! Return the explanation sentence for the following context text: 'The signing \" yet to be ratified by the Russian parliament and the Constitutional Court, steps that are seen as formalities \" was held in a solemn atmosphere in the Kremlin's lavish St. George's Hall shortly after Putin gave a fiery one-hour-long speech often interrupted by applause from the jubilant crowd of lawmakers, government officials and other dignitaries. In his speech, Putin blamed Ukraine's \"nationalists, Russophobes and anti-Semites\" who he said came to power in Ukraine last month when the country's pro-Russia leader fled in the face of protests. Putin insisted that Russia would not invade the industrial southeast of Ukraine, which like Crimea has a large Russian-speaking population. \"They acted roughly, irresponsibly and unprofessionally,\" Putin said. Putin once again called the change of power in Kiev last month, when Ukrainian President Viktor Yanukovych fled after the bloody crackdown against months-old protests had left scores of people dead, a coup d'etat and said that the interim government of Ukraine was illegitimate and not worth talking to. \"Crimea will remain Russian, Ukrainian and Crimean Tatar but it will never be\" fascist, Putin concluded.'. The explanation sentence should specifically clarify the target_sentence='In his speech, Putin blamed Ukraine\\'s \"nationalists, Russoph This instance will be ignored in loss calculation. Note, if this happens often, consider increasing the `max_seq_length`.\n",
      "  warnings.warn(\n",
      "/home/6/ud03926/nlp/lib64/python3.9/site-packages/trl/trainer/utils.py:160: UserWarning: Could not find response key `### Assistant:` in the following instance: <|begin_of_text|>### User: Your task is to generate exactly ONE short concise explanation sentence (made up of around 10 words or fewer) in a plain English for a given context text. The tone should be plain and simple! Return the explanation sentence for the following context text: 'SAN JOSE, Costa Rica \" United Nations officials are pushing for many of the Central Americans fleeing to the United States to be treated as refugees displaced by armed conflict, a designation meant to increase pressure on the United States and Mexico to accept tens of thousands of people currently ineligible for asylum. The United States has seen a dramatic increase in the number of Central American migrants crossing into its territory, particularly children traveling without any adult guardian. Many of the migrants, in fact, stay for years as their cases wind through overloaded migration courts. The group will discuss updating a 30-year-old declaration regarding the obligations that nations have to aid refugees. While such a resolution would lack any legal weight, the agency said it believes \"the U.S. and Mexico should recognize that this is a refugee situation, which implies that they shouldn't be automatically sent to their home countries but rather receive international protection.\" Most of the people widely considered to be refugees by the international community are fleeing more traditional political or ethnic conflicts like those in Syria or Sudan. U.N. officials say there is no way of forcing the U.S. and Mexico to accept Central Americans as refugees, but a broad-based change in terminology could bring pressure on the two countries to do more.'. The explanation sentence should specifically clarify the target_sentence='While such a resolution would lack any legal weight This instance will be ignored in loss calculation. Note, if this happens often, consider increasing the `max_seq_length`.\n",
      "  warnings.warn(\n",
      "/home/6/ud03926/nlp/lib64/python3.9/site-packages/trl/trainer/utils.py:160: UserWarning: Could not find response key `### Assistant:` in the following instance: <|begin_of_text|>### User: Your task is to generate exactly ONE short concise explanation sentence (made up of around 10 words or fewer) in a plain English for a given context text. The tone should be plain and simple! Return the explanation sentence for the following context text: 'But the technological sleuthing it took a group of Carnegie Mellon University students and alumni to recover and preserve some digital images apparently created and stored by Andy Warhol on old-school floppy computer disks nearly 30 years ago is a tale worth telling. \"They were system disks, not personal copy disks with something handwritten on them like ‘Andy Warhol's images' on them.\" It turned out the disks, as well as the computer they were created on, were beta versions of both, which made accessing the systems that much more difficult. While it might be easy to think that new computer images by Warhol could quickly be turned into revenue for the museum, Wrbican said even if Warhol did create them, it's not so easy to begin printing Warhol's newly found work. While the historic value will take more research and debate to be figured out, Matt Wrbican, the Andy Warhol Museum's chief archivist, said the interest is understandable for one of the world's most prolific and studied artists. \"It's something that's new,\" he said, \"and that doesn't happen very often with Warhol.\" It was just Warhol learning a new tool.\"'. The explanation sentence should specifically clarify the target_sentence=\"While the historic value will take more research and debate to be figured out, Matt This instance will be ignored in loss calculation. Note, if this happens often, consider increasing the `max_seq_length`.\n",
      "  warnings.warn(\n",
      "/home/6/ud03926/nlp/lib64/python3.9/site-packages/trl/trainer/utils.py:160: UserWarning: Could not find response key `### Assistant:` in the following instance: <|begin_of_text|>### User: Your task is to generate exactly ONE short concise explanation sentence (made up of around 10 words or fewer) in a plain English for a given context text. The tone should be plain and simple! Return the explanation sentence for the following context text: '\"Fortunately, Russia is not as significant to us as an industry as they were,\" said Mike Cockrell, chief financial officer for Sanderson Farms, a large poultry producer and exporter with operations in North Carolina, Texas, Louisiana and in its home state of Mississippi. After the U.S. and the European Union ratcheted up sanctions against Russia last month, retaliation was expected. While an inconvenience for U.S. exporters, the poultry sanctions ultimately hurt the Russian consumer. Russia's government is limiting access to food, a move, said Cohen, \"that the U.S. and our allies would never do.\" That's not to say Russian sales are inconsequential. Sanderson Farms shipped 87.5 million pounds of product there last year, worth about $40 million. \"Forty million dollars is certainly a lot of money, but at the end of the day we and the industry will seek out alternative markets for our product,\" said Cockrell, noting that the $40 million represents about 1.5 percent of his company's total sales.'. The explanation sentence should specifically clarify the target_sentence='\"Fortunately, Russia is not as significant to us as an industry as they were,\" said Mike Cockrell, chief financial officer for Sanderson Farms, a large poultry producer and exporter with operations in North Carolina, Texas, Louisiana and This instance will be ignored in loss calculation. Note, if this happens often, consider increasing the `max_seq_length`.\n",
      "  warnings.warn(\n",
      "/home/6/ud03926/nlp/lib64/python3.9/site-packages/trl/trainer/utils.py:160: UserWarning: Could not find response key `### Assistant:` in the following instance: <|begin_of_text|>### User: Your task is to generate exactly ONE short concise explanation sentence (made up of around 10 words or fewer) in a plain English for a given context text. The tone should be plain and simple! Return the explanation sentence for the following context text: 'Obama said the immediate priority is finding the girls, but that the Boko Haram group must also be dealt with. \"In the short term our goal is obviously is to help the international community, and the Nigerian government, as a team to do everything we can to recover these young ladies,\" Obama said in an interview with NBC's \"Today,\" in some of his first public comments on what he said was a \"terrible situation\" in the West African nation. Obama said the U.S. has long sought to work with Nigeria to contain Boko Haram. \"But we're also going to have to deal with the broader problem of organizations like this that... can cause such havoc in people's day-to-day lives,\" Obama said of Boko Haram. He said the kidnapping and subsequent outrage over Nigeria's inability to rescue the girls \"may be the event that helps to mobilize the entire international community to finally do something against this horrendous organization that's perpetrated such a terrible crime.\" I mean, literally, immediately.\" Shekau also warned that Boko Haram will attack more schools and abduct more girls.'. The explanation sentence should specifically clarify the target_sentence='Obama said in an interview with NBC\\'s \"Today,\" in some of his first public comments on what he said was a \"terrible situation\" in the This instance will be ignored in loss calculation. Note, if this happens often, consider increasing the `max_seq_length`.\n",
      "  warnings.warn(\n",
      "/home/6/ud03926/nlp/lib64/python3.9/site-packages/trl/trainer/utils.py:160: UserWarning: Could not find response key `### Assistant:` in the following instance: <|begin_of_text|>### User: Your task is to generate exactly ONE short concise explanation sentence (made up of around 10 words or fewer) in a plain English for a given context text. The tone should be plain and simple! Return the explanation sentence for the following context text: 'Such a fate is common for male panthers rescued and released by state wildlife officers. It's cruel to the cats, and it's dangerous to people.\" Although there have been no documented attacks on people by Florida panthers, the species has accounted for fatalities in western states, where it's known as the cougar or mountain lion. Florida panthers inhabit a sweep of forest, prairie and Everglades that runs roughly from the Caloosahatchee River west of Lake Okeechobee to the southern end of Everglades National Park. With just 100 to 160 panthers remaining in the wild, they say any panthers added to the population help reduce its vulnerability to in-breeding or natural disaster. \"Every panther life is important at this point because you're dealing with one of the most critically endangered species in the United States,\" said Jennifer Hecker, director of natural resource policy for the Conservancy of Southwest Florida. Last week, the wildlife agency captured and relocated a young male found by a Collier County beach. The costs vary.'. The explanation sentence should specifically clarify the target_sentence='Florida panthers inhabit a sweep of forest, prairie and Everglades that runs roughly from the Caloosahatchee River west of Lake Okeechobee to the southern end This instance will be ignored in loss calculation. Note, if this happens often, consider increasing the `max_seq_length`.\n",
      "  warnings.warn(\n",
      "/home/6/ud03926/nlp/lib64/python3.9/site-packages/trl/trainer/utils.py:160: UserWarning: Could not find response key `### Assistant:` in the following instance: <|begin_of_text|>### User: Your task is to generate exactly ONE short concise explanation sentence (made up of around 10 words or fewer) in a plain English for a given context text. The tone should be plain and simple! Return the explanation sentence for the following context text: 'A century later, the canal is still a vibrant part of international trade and still contributes to U.S. military power, even though the U.S. no longer owns the canal. But the history of the canal is still being written. The concept of the Panama Canal has always had competition. Some observers suggest the plan is entirely a propaganda ploy, but a report on the Maersk Line, owner of 20 of the largest cargo ships afloat, which are too big to fit through the Panama Canal, points out that the Nicaragua Canal \"makes good sense.\" Even before it opened in 1914, several routes through Nicaragua had been proposed, and a railway was designed that would carry ships bodily over the narrow Isthmus of Panama from one ocean to the other. In a resurrection of one of those plans, the government of Nicaragua has joined forces with HKND, a Hong-Kong based group, to build a canal that would directly compete with the Panama Canal.'. The explanation sentence should specifically clarify the target_sentence='Some observers suggest the plan is entirely a propaganda ploy, but a report on the Maersk Line, owner of 20 of the largest cargo ships afloat, which are too big to fit through the Panama Canal, points out that the Nicaragua Canal \"makes good sense.\"'.\n",
      "### Assistant This instance will be ignored in loss calculation. Note, if this happens often, consider increasing the `max_seq_length`.\n",
      "  warnings.warn(\n",
      "/home/6/ud03926/nlp/lib64/python3.9/site-packages/trl/trainer/utils.py:160: UserWarning: Could not find response key `### Assistant:` in the following instance: <|begin_of_text|>### User: Your task is to generate exactly ONE short concise explanation sentence (made up of around 10 words or fewer) in a plain English for a given context text. The tone should be plain and simple! Return the explanation sentence for the following context text: 'David Shiffman, a shark conservationist and Ph.D. student at the University of Miami's Rosenstiel School of Marine and Atmospheric Science, sharply criticized the media for glorifying such catches with words like \"epic battle\" and \"ultimate catch\" while failing to note that great hammerheads are endangered globally and that hauling them ashore is illegal in Florida. If you really want to do something for hammerheads, go after commercial shark fishing. \"It unequivocally does not require bringing a shark up on the beach in order to release it.\" Rama Shuster, of the Florida Fish and Wildlife Conservation Commission's Division of Law Enforcement, acknowledged it is not legal to land a species for which only catch-and-release fishing is allowed. Hammerheads are particularly vulnerable. Just issuing a warning, saying other people shouldn't do this, would go such a long way.\"'. The explanation sentence should specifically clarify the target_sentence='David Shiffman, a shark conservationist and Ph.D. student at the University of Miami\\'s Rosenstiel School of Marine and Atmospheric Science, sharply criticized the media for glorifying such catches with words like \"epic battle\" and \"ultimate catch\" while failing to note that great hammerheads are endangered globally and that hauling them ashore is illegal in Florida.'.\n",
      "### Assistant This instance will be ignored in loss calculation. Note, if this happens often, consider increasing the `max_seq_length`.\n",
      "  warnings.warn(\n",
      "/home/6/ud03926/nlp/lib64/python3.9/site-packages/trl/trainer/utils.py:160: UserWarning: Could not find response key `### Assistant:` in the following instance: <|begin_of_text|>### User: Your task is to generate exactly ONE short concise explanation sentence (made up of around 10 words or fewer) in a plain English for a given context text. The tone should be plain and simple! Return the explanation sentence for the following context text: 'WASHINGTON \" Under pressure from Congress and international allies, President Barack Obama announced a change in what has been a central piece of his counterterrorism strategy, saying he would place new restrictions on the targeting of terrorists with missiles fired from [drones](https://www.newsela.com/?tag=drone). In a speech that takes stock of America's long battle with al-Qaida, the president said he would continue ordering lethal drone strikes to stop potential terror attacks because the relative precision of drone warfare is preferable to major troop deployments or traditional bombing. Under the new policy, strikes will only be authorized against militants who pose \"a continuing, imminent threat,\" aides said, instead of \"a significant threat,\" which had been the previous standard. Before any strike is undertaken, \"there must be a near certainty that no civilians will be killed or injured,\" said a senior administration official who spoke under ground rules that did not allow him to be named. \"To say a military tactic is legal, or even effective, is not to say it is wise or moral in every instance,\" Obama said in his address at the National Defense University. In Yemen, where the CIA and the military have launched numerous drone strikes, a new pro-American government is making progress against the al-Qaida affiliate, U.S. officials said, and that is making U This instance will be ignored in loss calculation. Note, if this happens often, consider increasing the `max_seq_length`.\n",
      "  warnings.warn(\n",
      "/home/6/ud03926/nlp/lib64/python3.9/site-packages/trl/trainer/utils.py:160: UserWarning: Could not find response key `### Assistant:` in the following instance: <|begin_of_text|>### User: Your task is to generate exactly ONE short concise explanation sentence (made up of around 10 words or fewer) in a plain English for a given context text. The tone should be plain and simple! Return the explanation sentence for the following context text: 'Stories carried Monday by The New York Times, the Guardian, and ProPublica said U.S. and U.K. spies have spent years trawling online games for terrorists or informants. The stories, based on documents leaked by former National Security Agency (NSA) contractor Edward Snowden, offer an unusual take on America's world-spanning surveillance campaign, suggesting that even the fantasy worlds popular with children, teens, and escapists of all ages aren't beyond the attention of the NSA and its British counterpart, GCHQ. In a statement, Blizzard Entertainment said that it is \"unaware of any surveillance taking place. Virtual universes like \"World of Warcraft\" can be massively popular, drawing in millions of players who log months' worth of real-world time competing with other players for online glory, virtual treasure, and magical loot. At its height, \"World of Warcraft\" boasted some 12 million paying subscribers, more than the population of Greece. In one of the documents cited Monday by media outlets, the NSA warned that the games could give intelligence targets a place to \"hide in plain sight.\"'. The explanation sentence should specifically clarify the target_sentence=\"The stories, based on documents leaked by former National Security Agency (NSA) contractor Edward Snowden, offer an unusual take on America's world-spanning surveillance This instance will be ignored in loss calculation. Note, if this happens often, consider increasing the `max_seq_length`.\n",
      "  warnings.warn(\n",
      "/home/6/ud03926/nlp/lib64/python3.9/site-packages/trl/trainer/utils.py:160: UserWarning: Could not find response key `### Assistant:` in the following instance: <|begin_of_text|>### User: Your task is to generate exactly ONE short concise explanation sentence (made up of around 10 words or fewer) in a plain English for a given context text. The tone should be plain and simple! Return the explanation sentence for the following context text: 'And increasingly, it is the first lady who leads the charge in making sure her husband's vision for his library comes to fruition. It will be up to her to decide how involved she wants to be in the day-to-day planning and how much of a footprint she leaves on the library. First lady Laura Bush was a driving force behind President George W. Bush's library, doing everything from chairing the design committee to developing the exhibit while he focused on the center's policy institute. <img class=\"pull-right\" src=\"https://newsela-test-files-f331e.s3.amazonaws.com/article_media/extra/20140918_Pres_LIBRARIES.jpg\" />CHICAGO - In just over a century and a half, the concept of a presidential library has evolved from a small room in a home where first lady Sarah Polk kept her late husband's letters and mementos into multimillion-dollar complexes that house thousands of official records from the presidents' years in office. Sarah Polk essentially created a shrine and museum in her home dedicated to her late husband, who left office in 1849 as his health was failing.'. The explanation sentence should specifically clarify the target_sentence=\"In just over a century and a half, the concept of a presidential library has evolved from a small room in a home where first This instance will be ignored in loss calculation. Note, if this happens often, consider increasing the `max_seq_length`.\n",
      "  warnings.warn(\n",
      "/home/6/ud03926/nlp/lib64/python3.9/site-packages/trl/trainer/utils.py:160: UserWarning: Could not find response key `### Assistant:` in the following instance: <|begin_of_text|>### User: Your task is to generate exactly ONE short concise explanation sentence (made up of around 10 words or fewer) in a plain English for a given context text. The tone should be plain and simple! Return the explanation sentence for the following context text: 'LOS ANGELES \" Using a brand-new technique, scientists using NASA's Kepler Space Telescope have found 715 confirmed planets huddling around 305 stars, nearly triple Kepler's previous total of 246 confirmed planets in the Milky Way galaxy. For example, many of these systems seem to have multiple planets clustered in an orbit smaller than Venus, or even Mercury. The findings will also shed light on strange planets like mini-Neptunes, which have no analog in our own solar system, and sharpen scientists' search for Earth-sized, potentially Earth-like planets, scientists said. Nearly 95 percent of them are smaller than Neptune, and four of them are in their star's habitable zone, the region where liquid water \" a necessary ingredient for life as we know it \" could exist. Even though the planet-hunting telescope's crucial pointing ability was crippled last year, data mined from the spacecraft are still turning up a trove of strange and wonderful worlds, researchers said \" bringing them ever closer to finding \"Earth 2.0.\"'. The explanation sentence should specifically clarify the target_sentence='Nearly 95 percent of them are smaller than Neptune, and four of them are in their star\\'s habitable zone, the region where liquid water \" a necessary ingredient for life as we know it \" could exist.'.\n",
      " This instance will be ignored in loss calculation. Note, if this happens often, consider increasing the `max_seq_length`.\n",
      "  warnings.warn(\n",
      "/home/6/ud03926/nlp/lib64/python3.9/site-packages/trl/trainer/utils.py:160: UserWarning: Could not find response key `### Assistant:` in the following instance: <|begin_of_text|>### User: Your task is to generate exactly ONE short concise explanation sentence (made up of around 10 words or fewer) in a plain English for a given context text. The tone should be plain and simple! Return the explanation sentence for the following context text: 'The East didn't believe in it. The tale of inequality began when communism took more and more control of East Germany in the 1950s. They simply left. <img class=\"pull_right\" src=\"https://newsela-test-files-f331e.s3.amazonaws.com/article_media/extra/Thefalloftheberlinwall1989.JPG\"/>KLEINMACHNOW, Germany \" The graying activist pulls up to the scant and rusted remains of the Berlin Wall's Checkpoint Bravo on a trendy electric bike, and says that when looking back over the 25 years since the wall fell, it's important to keep perspective. Klaus-Jurgen Warnick, 62, was here on Nov. 9, 1989, when East German guards, unsure how to deal with the thousands turning up at heavily controlled checkpoints, decided that letting people pass was a better option than opening fire. In the West, it was sacrosanct. As a result, when the country became one again, many East Germans lost the homes they'd lived in, many for decades, to West Germans, who had fled or abandoned them, depending on your perspective, but were able to reclaim them when Germany was unified.'. The explanation sentence should specifically clarify the target_sentence=\"The East didn't believe in This instance will be ignored in loss calculation. Note, if this happens often, consider increasing the `max_seq_length`.\n",
      "  warnings.warn(\n",
      "/home/6/ud03926/nlp/lib64/python3.9/site-packages/trl/trainer/utils.py:160: UserWarning: Could not find response key `### Assistant:` in the following instance: <|begin_of_text|>### User: Your task is to generate exactly ONE short concise explanation sentence (made up of around 10 words or fewer) in a plain English for a given context text. The tone should be plain and simple! Return the explanation sentence for the following context text: 'Now there are three. The rapid, largely unregulated growth in F-1 visa students, as they are known, has raised concerns about the role of private recruiting companies and the safety of teenagers in the country without their parents. \"Because there's so much money that can be made, and because there's a lack of regulation, you're just going to see a lot of people rushing into this field driven by profit rather than the desire to provide students and schools with a quality experience,\" said Jay Chen, president of the Hacienda La Puente Unified school board. In nearby Hacienda La Puente, school board member Joseph Chang was censured by his colleagues over allegations that he used his influence to benefit Bela. The vast majority of tuition-paying international students still study at private high schools \" 62,000 last year, up from about 6,000 five years ago. No, I don't want 100 students,\" Dorsey said.'. The explanation sentence should specifically clarify the target_sentence=\"Because there's so much money that can be made, and because there's a lack of regulation, you're just going to see a lot of people rushing into this field driven by profit rather than the desire to provide students and schools with a quality experience, said Jay Chen, president of the Haci This instance will be ignored in loss calculation. Note, if this happens often, consider increasing the `max_seq_length`.\n",
      "  warnings.warn(\n",
      "/home/6/ud03926/nlp/lib64/python3.9/site-packages/trl/trainer/utils.py:160: UserWarning: Could not find response key `### Assistant:` in the following instance: <|begin_of_text|>### User: Your task is to generate exactly ONE short concise explanation sentence (made up of around 10 words or fewer) in a plain English for a given context text. The tone should be plain and simple! Return the explanation sentence for the following context text: 'YUBA CITY, Calif. \" For the swirling flock of migrating shorebirds banking to a landing in California's Central Valley, a recently flooded rice field is providing a new kind of triage station during a drought that's drastically reducing places where they can rest on their long journeys. Conservationists are temporarily renting 14,000 acres from rice farmers and flooding them just long enough to give the migrating birds the rest and food they need to survive their flights. A lush, wet winter in Canada and Alaska made prime breeding conditions for birds, meaning more birds than usual are coming to California wetlands. Within hours of workers flooding the field two weeks earlier, hundreds of migrating birds appeared. The flocks wheeling into the pop-up wetlands make one of the few bright spots for wildlife in the state this fall. Even before the drought, human development did away with 95 percent of the state's wetlands. Rice farmers \" who flood their fields in winters to let old, harvested rice stalks rot away \" over the years became essential substitute providers of wetlands, but water curtailments have hit them hard.'. The explanation sentence should specifically clarify the target_sentence='Conservationists are temporarily renting 14,000 acres from rice farmers and flooding them just long enough to give the migrating birds the rest and food they need This instance will be ignored in loss calculation. Note, if this happens often, consider increasing the `max_seq_length`.\n",
      "  warnings.warn(\n",
      "/home/6/ud03926/nlp/lib64/python3.9/site-packages/trl/trainer/utils.py:160: UserWarning: Could not find response key `### Assistant:` in the following instance: <|begin_of_text|>### User: Your task is to generate exactly ONE short concise explanation sentence (made up of around 10 words or fewer) in a plain English for a given context text. The tone should be plain and simple! Return the explanation sentence for the following context text: 'GROVELAND, Calif. \" The Rim fire that scorched a huge swath of Sierra Nevada forests also severely altered the habitat that is home to several of California's rarest animals: the great gray owl, the Sierra Nevada red fox and the Pacific fisher. The fire burned 257,000 acres of High Sierra wilderness straddling the Stanislaus National Forest and Yosemite National Park that harbors a geographically isolated and genetically distinct clan of roughly 200 great gray owls. Preliminary reports from the fire area indicate that the blaze destroyed or damaged dozens of nesting and roosting areas for spotted owls, goshawks and great gray owls \" the largest owl in North America. The blaze also came within 12 miles of 10 breeding pairs of the subspecies of red fox clinging to survival in the cold, steep slopes above the tree line, raising fears they could have been eaten by coyotes trying to escape the smoke and flames. \"It killed squirrels and bears. Future research will help determine whether enough of the owls survived in the region to sustain the state-endangered raptor.'. The explanation sentence should specifically clarify the target_sentence='Preliminary reports from the fire area indicate that the blaze destroyed or damaged dozens of nesting and roosting areas for spotted owls, g This instance will be ignored in loss calculation. Note, if this happens often, consider increasing the `max_seq_length`.\n",
      "  warnings.warn(\n",
      "/home/6/ud03926/nlp/lib64/python3.9/site-packages/trl/trainer/utils.py:160: UserWarning: Could not find response key `### Assistant:` in the following instance: <|begin_of_text|>### User: Your task is to generate exactly ONE short concise explanation sentence (made up of around 10 words or fewer) in a plain English for a given context text. The tone should be plain and simple! Return the explanation sentence for the following context text: '\"This is a great, big, hard problem,\" said Richard DeVaul, a Google engineer and chief technical architect for the company's Project Loon, so named in part because even Google concedes the idea sounds a little crazy. Controlling the balloons is a massive computational challenge, DeVaul said. Google, of course, has an interest in helping more people get on the Internet. But after a trial run in New Zealand earlier this year, DeVaul and other engineers on the project say they believe a global network of low-cost, high-altitude balloons could carry enough wireless transponders to beam Internet connections to remote parts of Africa, Asia and other developing regions. They're now embarking on a new series of tests in California's Central Valley, aimed at working out the answers to a multitude of technical questions that must be resolved to make the project work. Google has been working on Loon for nearly two years, but it only recently went public. We now believe we can make the rest of this work, technically.\"'. The explanation sentence should specifically clarify the target_sentence='\"This is a great, big, hard problem,\" said Richard DeVaul, a Google engineer and chief technical architect for the company\\'s Project Loon, so named in part because even Google concedes the idea sounds a little crazy.'.\n",
      " This instance will be ignored in loss calculation. Note, if this happens often, consider increasing the `max_seq_length`.\n",
      "  warnings.warn(\n",
      "/home/6/ud03926/nlp/lib64/python3.9/site-packages/trl/trainer/utils.py:160: UserWarning: Could not find response key `### Assistant:` in the following instance: <|begin_of_text|>### User: Your task is to generate exactly ONE short concise explanation sentence (made up of around 10 words or fewer) in a plain English for a given context text. The tone should be plain and simple! Return the explanation sentence for the following context text: 'WASHINGTON \" Opening a new military front in the Middle East, President Barack Obama authorized U.S. airstrikes inside Syria for the first time Wednesday night, along with expanded strikes in Iraq as part of \"a steady, relentless effort\" to root out the militant group Islamic State and its spreading reign of terror. The U.S. began launching limited airstrikes against Islamic State targets in Iraq earlier this summer at the request of that country's former prime minister. Officials said Obama plans to proceed with both the broader airstrikes in Iraq and the strikes in Syria without seeking new authorization from Congress. House Speaker John Boehner, Republican from Ohio, praised Obama for acknowledging the \"grave and growing threat\" that Islamic extremists pose, but he said Obama was coming to that conclusion far too late. He also urged Congress anew to authorize a program to train and arm Syrian rebels who are fighting both the Islamic State militants and Syrian President Bashar Assad. It will not involve American combat troops fighting on foreign soil.\" The White House announced Wednesday that it was also providing $25 million in immediate military assistance to the Iraqi government as part of efforts to combat the Islamic State.'. The explanation sentence should specifically clarify the target_sentence='President Barack Obama authorized U.S. airstrikes inside Syria for the first time Wednesday night, along with expanded strikes in Iraq as part of \"a steady, relentless effort This instance will be ignored in loss calculation. Note, if this happens often, consider increasing the `max_seq_length`.\n",
      "  warnings.warn(\n",
      "Trainer.tokenizer is now deprecated. You should use Trainer.processing_class instead.\n",
      "Trainer.tokenizer is now deprecated. You should use Trainer.processing_class instead.\n",
      "/home/6/ud03926/nlp/lib64/python3.9/site-packages/trl/trainer/utils.py:160: UserWarning: Could not find response key `### Assistant:` in the following instance: <|begin_of_text|>### User: Your task is to generate exactly ONE short concise explanation sentence (made up of around 10 words or fewer) in a plain English for a given context text. The tone should be plain and simple! Return the explanation sentence for the following context text: 'The overheated debate between the federal government and animal advocates over the removal of wild mustangs from the Western range ticked a few degrees higher after the Bureau of Land Management announced plans to take fewer horses from the land this summer. Animal advocates say 1,300 horses is still too many, and they question the BLM's rationale for the removals. The BLM has been under fire for what many have called its failing policies toward wild horses, who have been blamed for range damage despite the fact that their numbers are heavily overshadowed by grazing domestic cattle. Nine of the BLM's 16 summer roundups will be conducted in Nevada, home to roughly half of the estimated 37,000 free-roaming wild horses and burros in the West. On Tuesday, the agency said it would relocate 50 wild horses threatened by drought from an area two hours north of Las Vegas. BLM officials said \"it is anticipated that as an act of mercy, some animals with a poor prognosis for survival may need to be humanely euthanized to end their suffering.\"'. The explanation sentence should specifically clarify the target_sentence='The BLM has been under fire for what many have called its failing policies toward wild horses, who have been blamed for range damage despite the fact that their numbers are heavily overshadowed by grazing This instance will be ignored in loss calculation. Note, if this happens often, consider increasing the `max_seq_length`.\n",
      "  warnings.warn(\n",
      "/home/6/ud03926/nlp/lib64/python3.9/site-packages/trl/trainer/utils.py:160: UserWarning: Could not find response key `### Assistant:` in the following instance: <|begin_of_text|>### User: Your task is to generate exactly ONE short concise explanation sentence (made up of around 10 words or fewer) in a plain English for a given context text. The tone should be plain and simple! Return the explanation sentence for the following context text: 'But decades would pass before scientists at CERN were able to confirm its existence in July 2012. To find it, they had to build a $10 billion collider in a 17-mile (27-kilometer) tunnel beneath the Swiss-French border. Yet finding the particle \" often referred to as the \"God particle\" \" required teams of thousands of scientists and mountains of data from trillions of colliding protons in the world's biggest atom smasher \" CERN's Large Hadron Collider. Thousands of scientists were involved in the experiments that confirmed the particle's existence last year. The Higgs particle solved a problem that physicists had puzzled over for some time: how did matter form shortly after the Big Bang, eventually leading to the universe as we know it today? Only about one collision per trillion will produce one of the Higgs bosons in the collider, and it took CERN some time after the discovery of a new \"Higgs-like\" boson to decide that the particle was, in fact, very much like the Higgs boson expected in the original formulation, rather than a kind of variant.'. The explanation sentence should specifically clarify the target_sentence='Yet finding the particle \" often referred to as the \"God particle\" \" required teams of thousands of scientists and mountains of data from trillions This instance will be ignored in loss calculation. Note, if this happens often, consider increasing the `max_seq_length`.\n",
      "  warnings.warn(\n",
      "/home/6/ud03926/nlp/lib64/python3.9/site-packages/trl/trainer/utils.py:160: UserWarning: Could not find response key `### Assistant:` in the following instance: <|begin_of_text|>### User: Your task is to generate exactly ONE short concise explanation sentence (made up of around 10 words or fewer) in a plain English for a given context text. The tone should be plain and simple! Return the explanation sentence for the following context text: '<img class=\"pull-right\" src=\"https://newsela-test-files-f331e.s3.amazonaws.com/article_media/extra/Mount_Everest_as_seen_from_Drukair2_PLW_edit.png\"/>If you think riding a roller coaster is scary, how about flying one through the Himalayas? When it comes to seasonal migrations, the bar-headed goose is no slacker. \"Migrating birds must overcome many challenging environmental obstacles, such as arid deserts and featureless oceans, but few are capable of negotiating the formidably high mountains separating the Indian subcontinent from central Asia,\" the study authors wrote. Scientists who tracked bar-headed geese across their mountainous seasonal migration have discovered that the birds won't take a straight path to their destination, but instead climb up and plunge down with the contours of the ground. The findings, published in the journal Science, reveal a surprisingly savvy strategy that helps these high-fliers finish the grueling southbound journey from their breeding grounds in Mongolia to their winter getaway in India or southeastern Tibet. The researchers found that, rather than fly in a straight line\"the most direct route to their destination \" the geese would hug the terrain, ascending to get over a high peak and descending when the ground leveled out.'. The explanation sentence should specifically clarify the target_sentence=' This instance will be ignored in loss calculation. Note, if this happens often, consider increasing the `max_seq_length`.\n",
      "  warnings.warn(\n",
      "/home/6/ud03926/nlp/lib64/python3.9/site-packages/trl/trainer/utils.py:160: UserWarning: Could not find response key `### Assistant:` in the following instance: <|begin_of_text|>### User: Your task is to generate exactly ONE short concise explanation sentence (made up of around 10 words or fewer) in a plain English for a given context text. The tone should be plain and simple! Return the explanation sentence for the following context text: '<img class=\"pull_right\" src=\"https://newsela-test-files-f331e.s3.amazonaws.com/article_media/extra/20141211_TEENAGERS_CRIME.jpg\"/>PHILADELPHIA \" A summer jobs program for teenagers appears to cut the rate of violent crime, according to a new study by a University of Pennsylvania researcher. Their number of arrests for violent crimes was slightly lower than that of the remaining 904 teens while the jobs lasted, but the difference did not become statistically significant until six months into the study \" three months after the jobs were completed. Heller said that the results may underestimate the impact of the jobs program, as a quarter of the teens who were offered jobs did not accept them, though some of those teens found other jobs on their own. And not because the youths were too busy working to break the law. The 730 teens who were offered jobs were picked at random from among 1,634 applicants. At 16 months, police data revealed 5.1 arrests for violent crimes per 100 youths who were offered jobs, compared with 9.1 violent-crime arrests per 100 teens who were not. \"We explained that everybody's first job is a horrible job,\" Diaz said.'. The explanation sentence should specifically clarify the target_sentence='The 730 teens This instance will be ignored in loss calculation. Note, if this happens often, consider increasing the `max_seq_length`.\n",
      "  warnings.warn(\n",
      "/home/6/ud03926/nlp/lib64/python3.9/site-packages/trl/trainer/utils.py:160: UserWarning: Could not find response key `### Assistant:` in the following instance: <|begin_of_text|>### User: Your task is to generate exactly ONE short concise explanation sentence (made up of around 10 words or fewer) in a plain English for a given context text. The tone should be plain and simple! Return the explanation sentence for the following context text: 'To find it, they had to build a $10 billion collider in a 17-mile (27-kilometer) tunnel beneath the Swiss-French border. Yet finding the particle \" often referred to as the \"God particle\" \" required teams of thousands of scientists and mountains of data from trillions of colliding protons in the world's biggest atom smasher \" CERN's Large Hadron Collider. Thousands of scientists were involved in the experiments that confirmed the particle's existence last year. The Higgs particle solved a problem that physicists had puzzled over for some time: how did matter form shortly after the Big Bang, eventually leading to the universe as we know it today? Only about one collision per trillion will produce one of the Higgs bosons in the collider, and it took CERN some time after the discovery of a new \"Higgs-like\" boson to decide that the particle was, in fact, very much like the Higgs boson expected in the original formulation, rather than a kind of variant. Michael Turner, president of the American Physical Society, an organization of physicists, said the Higgs particle captured the imagination of the public.'. The explanation sentence should specifically clarify the target_sentence='Yet finding the particle \" often referred to as the \"God particle\" \" required teams of thousands of scientists and This instance will be ignored in loss calculation. Note, if this happens often, consider increasing the `max_seq_length`.\n",
      "  warnings.warn(\n",
      "/home/6/ud03926/nlp/lib64/python3.9/site-packages/trl/trainer/utils.py:160: UserWarning: Could not find response key `### Assistant:` in the following instance: <|begin_of_text|>### User: Your task is to generate exactly ONE short concise explanation sentence (made up of around 10 words or fewer) in a plain English for a given context text. The tone should be plain and simple! Return the explanation sentence for the following context text: 'A century later, the canal is still a vibrant part of international trade and still contributes to U.S. military power, even though the U.S. no longer owns the canal. But the history of the canal is still being written. The concept of the Panama Canal has always had competition. Some observers suggest the plan is entirely a propaganda ploy, but a report on the Maersk Line, owner of 20 of the largest cargo ships afloat, which are too big to fit through the Panama Canal, points out that the Nicaragua Canal \"makes good sense.\" Even before it opened in 1914, several routes through Nicaragua had been proposed, and a railway was designed that would carry ships bodily over the narrow Isthmus of Panama from one ocean to the other. In a resurrection of one of those plans, the government of Nicaragua has joined forces with HKND, a Hong-Kong based group, to build a canal that would directly compete with the Panama Canal.'. The explanation sentence should specifically clarify the target_sentence='Some observers suggest the plan is entirely a propaganda ploy, but a report on the Maersk Line, owner of 20 of the largest cargo ships afloat, which are too big to fit through the Panama Canal, points out that the Nicaragua Canal \"makes good sense.\"'.\n",
      "### Assistant This instance will be ignored in loss calculation. Note, if this happens often, consider increasing the `max_seq_length`.\n",
      "  warnings.warn(\n",
      "/home/6/ud03926/nlp/lib64/python3.9/site-packages/trl/trainer/utils.py:160: UserWarning: Could not find response key `### Assistant:` in the following instance: <|begin_of_text|>### User: Your task is to generate exactly ONE short concise explanation sentence (made up of around 10 words or fewer) in a plain English for a given context text. The tone should be plain and simple! Return the explanation sentence for the following context text: 'Such a fate is common for male panthers rescued and released by state wildlife officers. It's cruel to the cats, and it's dangerous to people.\" Although there have been no documented attacks on people by Florida panthers, the species has accounted for fatalities in western states, where it's known as the cougar or mountain lion. Florida panthers inhabit a sweep of forest, prairie and Everglades that runs roughly from the Caloosahatchee River west of Lake Okeechobee to the southern end of Everglades National Park. With just 100 to 160 panthers remaining in the wild, they say any panthers added to the population help reduce its vulnerability to in-breeding or natural disaster. \"Every panther life is important at this point because you're dealing with one of the most critically endangered species in the United States,\" said Jennifer Hecker, director of natural resource policy for the Conservancy of Southwest Florida. Last week, the wildlife agency captured and relocated a young male found by a Collier County beach. The costs vary.'. The explanation sentence should specifically clarify the target_sentence='Florida panthers inhabit a sweep of forest, prairie and Everglades that runs roughly from the Caloosahatchee River west of Lake Okeechobee to the southern end This instance will be ignored in loss calculation. Note, if this happens often, consider increasing the `max_seq_length`.\n",
      "  warnings.warn(\n",
      "/home/6/ud03926/nlp/lib64/python3.9/site-packages/trl/trainer/utils.py:160: UserWarning: Could not find response key `### Assistant:` in the following instance: <|begin_of_text|>### User: Your task is to generate exactly ONE short concise explanation sentence (made up of around 10 words or fewer) in a plain English for a given context text. The tone should be plain and simple! Return the explanation sentence for the following context text: 'SAN JOSE, Costa Rica \" United Nations officials are pushing for many of the Central Americans fleeing to the United States to be treated as refugees displaced by armed conflict, a designation meant to increase pressure on the United States and Mexico to accept tens of thousands of people currently ineligible for asylum. The United States has seen a dramatic increase in the number of Central American migrants crossing into its territory, particularly children traveling without any adult guardian. Many of the migrants, in fact, stay for years as their cases wind through overloaded migration courts. The group will discuss updating a 30-year-old declaration regarding the obligations that nations have to aid refugees. While such a resolution would lack any legal weight, the agency said it believes \"the U.S. and Mexico should recognize that this is a refugee situation, which implies that they shouldn't be automatically sent to their home countries but rather receive international protection.\" Most of the people widely considered to be refugees by the international community are fleeing more traditional political or ethnic conflicts like those in Syria or Sudan. U.N. officials say there is no way of forcing the U.S. and Mexico to accept Central Americans as refugees, but a broad-based change in terminology could bring pressure on the two countries to do more.'. The explanation sentence should specifically clarify the target_sentence='While such a resolution would lack any legal weight This instance will be ignored in loss calculation. Note, if this happens often, consider increasing the `max_seq_length`.\n",
      "  warnings.warn(\n",
      "/home/6/ud03926/nlp/lib64/python3.9/site-packages/trl/trainer/utils.py:160: UserWarning: Could not find response key `### Assistant:` in the following instance: <|begin_of_text|>### User: Your task is to generate exactly ONE short concise explanation sentence (made up of around 10 words or fewer) in a plain English for a given context text. The tone should be plain and simple! Return the explanation sentence for the following context text: 'Fully pursue his dream to become an entrepreneur and literacy advocate for young people of color, to stop them from being sucked down the intoxicating pipeline that entrapped him. At 12, Briscoe was arrested for the first time, stopped with one-fourth of an ounce of crack cocaine, which got him a week of juvenile detention. Facing a four-count indictment, he dug into a law book and discovered a procedural error that he presented to his public defender, who presented it to the judge. He got three years on that offense, instead of 60. Briscoe created a prison literacy program in Tennessee called BRAINS (Books Rehabilitating American Inmates National Society), where men contributed $2 each to update the prison library. While still on parole two years ago, Briscoe founded a community literacy initiative called To Succeed You Must Read! The program reaches students in schools and libraries, and includes a summer book club. \"He now has the experience and knowledge to go out there on issues that he knows will directly affect people who are trying to do better,\" she said.'. The explanation sentence should specifically clarify the target_sentence='Briscoe created a prison literacy program in Tennessee called BRAINS (Books Rehabilitating American Inmates National Society), where men contributed $2 each to update the prison library.'.\n",
      " This instance will be ignored in loss calculation. Note, if this happens often, consider increasing the `max_seq_length`.\n",
      "  warnings.warn(\n",
      "/home/6/ud03926/nlp/lib64/python3.9/site-packages/trl/trainer/utils.py:160: UserWarning: Could not find response key `### Assistant:` in the following instance: <|begin_of_text|>### User: Your task is to generate exactly ONE short concise explanation sentence (made up of around 10 words or fewer) in a plain English for a given context text. The tone should be plain and simple! Return the explanation sentence for the following context text: 'Now there are three. The rapid, largely unregulated growth in F-1 visa students, as they are known, has raised concerns about the role of private recruiting companies and the safety of teenagers in the country without their parents. \"Because there's so much money that can be made, and because there's a lack of regulation, you're just going to see a lot of people rushing into this field driven by profit rather than the desire to provide students and schools with a quality experience,\" said Jay Chen, president of the Hacienda La Puente Unified school board. In nearby Hacienda La Puente, school board member Joseph Chang was censured by his colleagues over allegations that he used his influence to benefit Bela. The vast majority of tuition-paying international students still study at private high schools \" 62,000 last year, up from about 6,000 five years ago. No, I don't want 100 students,\" Dorsey said.'. The explanation sentence should specifically clarify the target_sentence=\"Because there's so much money that can be made, and because there's a lack of regulation, you're just going to see a lot of people rushing into this field driven by profit rather than the desire to provide students and schools with a quality experience, said Jay Chen, president of the Haci This instance will be ignored in loss calculation. Note, if this happens often, consider increasing the `max_seq_length`.\n",
      "  warnings.warn(\n",
      "/home/6/ud03926/nlp/lib64/python3.9/site-packages/trl/trainer/utils.py:160: UserWarning: Could not find response key `### Assistant:` in the following instance: <|begin_of_text|>### User: Your task is to generate exactly ONE short concise explanation sentence (made up of around 10 words or fewer) in a plain English for a given context text. The tone should be plain and simple! Return the explanation sentence for the following context text: 'WASHINGTON \" Under pressure from Congress and international allies, President Barack Obama announced a change in what has been a central piece of his counterterrorism strategy, saying he would place new restrictions on the targeting of terrorists with missiles fired from [drones](https://www.newsela.com/?tag=drone). In a speech that takes stock of America's long battle with al-Qaida, the president said he would continue ordering lethal drone strikes to stop potential terror attacks because the relative precision of drone warfare is preferable to major troop deployments or traditional bombing. Under the new policy, strikes will only be authorized against militants who pose \"a continuing, imminent threat,\" aides said, instead of \"a significant threat,\" which had been the previous standard. Before any strike is undertaken, \"there must be a near certainty that no civilians will be killed or injured,\" said a senior administration official who spoke under ground rules that did not allow him to be named. \"To say a military tactic is legal, or even effective, is not to say it is wise or moral in every instance,\" Obama said in his address at the National Defense University. In Yemen, where the CIA and the military have launched numerous drone strikes, a new pro-American government is making progress against the al-Qaida affiliate, U.S. officials said, and that is making U This instance will be ignored in loss calculation. Note, if this happens often, consider increasing the `max_seq_length`.\n",
      "  warnings.warn(\n",
      "/home/6/ud03926/nlp/lib64/python3.9/site-packages/trl/trainer/utils.py:160: UserWarning: Could not find response key `### Assistant:` in the following instance: <|begin_of_text|>### User: Your task is to generate exactly ONE short concise explanation sentence (made up of around 10 words or fewer) in a plain English for a given context text. The tone should be plain and simple! Return the explanation sentence for the following context text: 'Stories carried Monday by The New York Times, the Guardian, and ProPublica said U.S. and U.K. spies have spent years trawling online games for terrorists or informants. The stories, based on documents leaked by former National Security Agency (NSA) contractor Edward Snowden, offer an unusual take on America's world-spanning surveillance campaign, suggesting that even the fantasy worlds popular with children, teens, and escapists of all ages aren't beyond the attention of the NSA and its British counterpart, GCHQ. In a statement, Blizzard Entertainment said that it is \"unaware of any surveillance taking place. Virtual universes like \"World of Warcraft\" can be massively popular, drawing in millions of players who log months' worth of real-world time competing with other players for online glory, virtual treasure, and magical loot. At its height, \"World of Warcraft\" boasted some 12 million paying subscribers, more than the population of Greece. In one of the documents cited Monday by media outlets, the NSA warned that the games could give intelligence targets a place to \"hide in plain sight.\"'. The explanation sentence should specifically clarify the target_sentence=\"The stories, based on documents leaked by former National Security Agency (NSA) contractor Edward Snowden, offer an unusual take on America's world-spanning surveillance This instance will be ignored in loss calculation. Note, if this happens often, consider increasing the `max_seq_length`.\n",
      "  warnings.warn(\n",
      "/home/6/ud03926/nlp/lib64/python3.9/site-packages/trl/trainer/utils.py:160: UserWarning: Could not find response key `### Assistant:` in the following instance: <|begin_of_text|>### User: Your task is to generate exactly ONE short concise explanation sentence (made up of around 10 words or fewer) in a plain English for a given context text. The tone should be plain and simple! Return the explanation sentence for the following context text: '\"This is a great, big, hard problem,\" said Richard DeVaul, a Google engineer and chief technical architect for the company's Project Loon, so named in part because even Google concedes the idea sounds a little crazy. Controlling the balloons is a massive computational challenge, DeVaul said. Google, of course, has an interest in helping more people get on the Internet. But after a trial run in New Zealand earlier this year, DeVaul and other engineers on the project say they believe a global network of low-cost, high-altitude balloons could carry enough wireless transponders to beam Internet connections to remote parts of Africa, Asia and other developing regions. They're now embarking on a new series of tests in California's Central Valley, aimed at working out the answers to a multitude of technical questions that must be resolved to make the project work. Google has been working on Loon for nearly two years, but it only recently went public. We now believe we can make the rest of this work, technically.\"'. The explanation sentence should specifically clarify the target_sentence='\"This is a great, big, hard problem,\" said Richard DeVaul, a Google engineer and chief technical architect for the company\\'s Project Loon, so named in part because even Google concedes the idea sounds a little crazy.'.\n",
      " This instance will be ignored in loss calculation. Note, if this happens often, consider increasing the `max_seq_length`.\n",
      "  warnings.warn(\n",
      "/home/6/ud03926/nlp/lib64/python3.9/site-packages/trl/trainer/utils.py:160: UserWarning: Could not find response key `### Assistant:` in the following instance: <|begin_of_text|>### User: Your task is to generate exactly ONE short concise explanation sentence (made up of around 10 words or fewer) in a plain English for a given context text. The tone should be plain and simple! Return the explanation sentence for the following context text: 'LOS ANGELES \" Seventy feet below Wilshire Boulevard, catercorner from the Los Angeles County Museum of Art's street-lamp installation, fresh air roaring from giant ventilation pipes dulled the sickly sweet smell of petroleum. Eventually, workers will spend about two months removing equipment and backfilling the shaft with a mixture of cement and sand. Amid the clatter of jackhammers and the whine of a mini-excavator, paleontologist Kim Scott scouted the tarry muck for relics from a long-buried beach. She had plenty of choices. Major construction on the highly anticipated Westside subway extension won't begin until next year, but an exploratory shaft dug at the corner of Ogden Drive to assess soil conditions for future stations and tunnels has burped up a bonanza of prehistoric swag. The swimming-pool-size shaft, 18 feet wide by 38 feet long, is yielding evidence from its depths of a cooler, wetter Pleistocene climate of 100,000 to 330,000 years ago, when Pacific Ocean waves lapped over what is now the bustling Miracle Mile.'. The explanation sentence should specifically clarify the target_sentence='Amid the clatter of jackhammers and the whine of a mini-excavator, paleontologist Kim Scott This instance will be ignored in loss calculation. Note, if this happens often, consider increasing the `max_seq_length`.\n",
      "  warnings.warn(\n",
      "/home/6/ud03926/nlp/lib64/python3.9/site-packages/trl/trainer/utils.py:160: UserWarning: Could not find response key `### Assistant:` in the following instance: <|begin_of_text|>### User: Your task is to generate exactly ONE short concise explanation sentence (made up of around 10 words or fewer) in a plain English for a given context text. The tone should be plain and simple! Return the explanation sentence for the following context text: 'Sotheby's estimates that China now accounts for $14 billion of the $58 billion global art market. \"The quality is very, very high.\" Christie's held its first sale in India last month, and Sotheby's opens an exhibition of Indian and international art in New Delhi on Friday. Sotheby's put its works on public display in London Thursday, and there was a distinct scarlet hue to the star lots \" Gerhard Richter's cadmium-colored abstract \"Wall,\" expected to sell for at least 15 million pounds; an Andy Warhol portrait of Chairman Mao valued at 5 million pounds to 7 million pounds; a vivid red piece in molten plastic by Alberto Burri that could break the 3-million-pound record for the Italian artist. Another highlight is Camille Pissarro's 1897 \"Boulevard Monmartre,\" which Sotheby's calls \"one of the most important Impressionist paintings we've handled.\" It's estimated at 7 to 10 million pounds, but there's a feeling it could fetch more.'. The explanation sentence should specifically clarify the target_sentence='Another highlight is Camille Pissarro\\'s 1897 \"Boulevard Monmartre,\" which Sotheby\\'s calls \"one of the most important Impression This instance will be ignored in loss calculation. Note, if this happens often, consider increasing the `max_seq_length`.\n",
      "  warnings.warn(\n",
      "/home/6/ud03926/nlp/lib64/python3.9/site-packages/trl/trainer/utils.py:160: UserWarning: Could not find response key `### Assistant:` in the following instance: <|begin_of_text|>### User: Your task is to generate exactly ONE short concise explanation sentence (made up of around 10 words or fewer) in a plain English for a given context text. The tone should be plain and simple! Return the explanation sentence for the following context text: 'The East didn't believe in it. The tale of inequality began when communism took more and more control of East Germany in the 1950s. They simply left. <img class=\"pull_right\" src=\"https://newsela-test-files-f331e.s3.amazonaws.com/article_media/extra/Thefalloftheberlinwall1989.JPG\"/>KLEINMACHNOW, Germany \" The graying activist pulls up to the scant and rusted remains of the Berlin Wall's Checkpoint Bravo on a trendy electric bike, and says that when looking back over the 25 years since the wall fell, it's important to keep perspective. Klaus-Jurgen Warnick, 62, was here on Nov. 9, 1989, when East German guards, unsure how to deal with the thousands turning up at heavily controlled checkpoints, decided that letting people pass was a better option than opening fire. In the West, it was sacrosanct. As a result, when the country became one again, many East Germans lost the homes they'd lived in, many for decades, to West Germans, who had fled or abandoned them, depending on your perspective, but were able to reclaim them when Germany was unified.'. The explanation sentence should specifically clarify the target_sentence=\"The East didn't believe in This instance will be ignored in loss calculation. Note, if this happens often, consider increasing the `max_seq_length`.\n",
      "  warnings.warn(\n",
      "/home/6/ud03926/nlp/lib64/python3.9/site-packages/trl/trainer/utils.py:160: UserWarning: Could not find response key `### Assistant:` in the following instance: <|begin_of_text|>### User: Your task is to generate exactly ONE short concise explanation sentence (made up of around 10 words or fewer) in a plain English for a given context text. The tone should be plain and simple! Return the explanation sentence for the following context text: 'Two foals have been born this year in the herd of 101 horses. The U.S. House of Representatives unanimously passed his bill in 2012 and 2013 to allow the herd to grow to 130 horses and to let the Corolla Wild Horse Fund bring a few horses from the Shackleford Banks, on another island at the far southern tip of the Outer Banks, in order to infuse some fresh genes into the herd. Corolla Wild Horse Fund director McCalpin said it had become almost impossible to recruit volunteers to patrol and make sure the horses have their space. His wife deeply loved the horses. The issue is that at least some horses cross into the island's Currituck National Wildlife Refuge, although the most sensitive parts are fenced off. Flocks of endangered migratory waterfowl and nesting sea turtles use the refuge, and the government calls the horses a \"nuisance.\" Still, he continues.'. The explanation sentence should specifically clarify the target_sentence='The U.S. House of Representatives unanimously passed his bill in 2012 and 2013 to allow the herd to grow to 130 horses and to let the Corolla Wild Horse Fund bring a few horses from the Shackleford Banks, on another island at the far southern tip of the Outer Banks, in order to inf This instance will be ignored in loss calculation. Note, if this happens often, consider increasing the `max_seq_length`.\n",
      "  warnings.warn(\n",
      "/home/6/ud03926/nlp/lib64/python3.9/site-packages/trl/trainer/utils.py:160: UserWarning: Could not find response key `### Assistant:` in the following instance: <|begin_of_text|>### User: Your task is to generate exactly ONE short concise explanation sentence (made up of around 10 words or fewer) in a plain English for a given context text. The tone should be plain and simple! Return the explanation sentence for the following context text: 'The signing \" yet to be ratified by the Russian parliament and the Constitutional Court, steps that are seen as formalities \" was held in a solemn atmosphere in the Kremlin's lavish St. George's Hall shortly after Putin gave a fiery one-hour-long speech often interrupted by applause from the jubilant crowd of lawmakers, government officials and other dignitaries. In his speech, Putin blamed Ukraine's \"nationalists, Russophobes and anti-Semites\" who he said came to power in Ukraine last month when the country's pro-Russia leader fled in the face of protests. Putin insisted that Russia would not invade the industrial southeast of Ukraine, which like Crimea has a large Russian-speaking population. \"They acted roughly, irresponsibly and unprofessionally,\" Putin said. Putin once again called the change of power in Kiev last month, when Ukrainian President Viktor Yanukovych fled after the bloody crackdown against months-old protests had left scores of people dead, a coup d'etat and said that the interim government of Ukraine was illegitimate and not worth talking to. \"Crimea will remain Russian, Ukrainian and Crimean Tatar but it will never be\" fascist, Putin concluded.'. The explanation sentence should specifically clarify the target_sentence='In his speech, Putin blamed Ukraine\\'s \"nationalists, Russoph This instance will be ignored in loss calculation. Note, if this happens often, consider increasing the `max_seq_length`.\n",
      "  warnings.warn(\n",
      "/home/6/ud03926/nlp/lib64/python3.9/site-packages/trl/trainer/utils.py:160: UserWarning: Could not find response key `### Assistant:` in the following instance: <|begin_of_text|>### User: Your task is to generate exactly ONE short concise explanation sentence (made up of around 10 words or fewer) in a plain English for a given context text. The tone should be plain and simple! Return the explanation sentence for the following context text: '<img class=\"pull-right\" src=\"https://newsela-test-files-f331e.s3.amazonaws.com/article_media/extra/20140603_Rip_current.jpg\" />CAROLINA BEACH, N.C. \" For much of Wednesday, a small group of volunteers and researchers walked in and out of the surf, testing a new form of surveillance on the biggest killer of beach swimmers \" rip currents. The nature of perilous currents seems straightforward: Water piles up between the beach and an offshore sandbar, then finds a low point in the bar and rushes back out to sea, sometimes carrying hapless swimmers with it. Of course, the handful of cases that would shoot swimmers straight out and not return them could be fatal for weak swimmers. Again and again the researchers toted 3-foot yellow-and-green contraptions fashioned from foam, plastic sewer pipe, gym weights and cheap GPS units into the surf, then walked along the beach to wherever the odd devices washed up and retrieved them under the gaze of puzzled sunbathers. But scientists have only recently begun figuring out the life-and-death nuances of the currents. But Brander, an expert on surf behavior, said that in recent years researchers using drifters in Australia, the U.S. West Coast and elsewhere had found that in many cases This instance will be ignored in loss calculation. Note, if this happens often, consider increasing the `max_seq_length`.\n",
      "  warnings.warn(\n",
      "/home/6/ud03926/nlp/lib64/python3.9/site-packages/trl/trainer/utils.py:160: UserWarning: Could not find response key `### Assistant:` in the following instance: <|begin_of_text|>### User: Your task is to generate exactly ONE short concise explanation sentence (made up of around 10 words or fewer) in a plain English for a given context text. The tone should be plain and simple! Return the explanation sentence for the following context text: 'Pittsburgh's zoo officials couldn't be reached for comment. In an interview with The Associated Press, Joerg Jebram, who oversees the European [endangered species](https://www.newsela.com/?tag=endangered species) program for giraffes for the association, said until recently, contraception required sedation, which puts giraffes at risk to break their necks when they fall. Additionally, at the Lincoln Park Zoo, deceased animals would never be fed to other animals at the zoo, she said. \"The Copenhagen Zoo is obviously not practicing modern zoo operations,\" said Lisa Wathne, captive wildlife specialist for the Human Society of the United States. A statement from the European association said the group \"fully supports the decision of the zoo to humanely put the animal down, and believes strongly in the need for genetic and demographic management within populations of animals in human care.\" The Jyllands Park Zoo in Denmark is not EAZA-accredited, and association officials stated they do not support the decision to euthanize the second Marius.'. The explanation sentence should specifically clarify the target_sentence='In an interview with The Associated Press, Joerg Jebram, who oversees the European endangered species program for giraffes for the association, said until recently, contraception required sedation, which puts This instance will be ignored in loss calculation. Note, if this happens often, consider increasing the `max_seq_length`.\n",
      "  warnings.warn(\n",
      "/home/6/ud03926/nlp/lib64/python3.9/site-packages/trl/trainer/utils.py:160: UserWarning: Could not find response key `### Assistant:` in the following instance: <|begin_of_text|>### User: Your task is to generate exactly ONE short concise explanation sentence (made up of around 10 words or fewer) in a plain English for a given context text. The tone should be plain and simple! Return the explanation sentence for the following context text: 'YUBA CITY, Calif. \" For the swirling flock of migrating shorebirds banking to a landing in California's Central Valley, a recently flooded rice field is providing a new kind of triage station during a drought that's drastically reducing places where they can rest on their long journeys. Conservationists are temporarily renting 14,000 acres from rice farmers and flooding them just long enough to give the migrating birds the rest and food they need to survive their flights. A lush, wet winter in Canada and Alaska made prime breeding conditions for birds, meaning more birds than usual are coming to California wetlands. Within hours of workers flooding the field two weeks earlier, hundreds of migrating birds appeared. The flocks wheeling into the pop-up wetlands make one of the few bright spots for wildlife in the state this fall. Even before the drought, human development did away with 95 percent of the state's wetlands. Rice farmers \" who flood their fields in winters to let old, harvested rice stalks rot away \" over the years became essential substitute providers of wetlands, but water curtailments have hit them hard.'. The explanation sentence should specifically clarify the target_sentence='Conservationists are temporarily renting 14,000 acres from rice farmers and flooding them just long enough to give the migrating birds the rest and food they need This instance will be ignored in loss calculation. Note, if this happens often, consider increasing the `max_seq_length`.\n",
      "  warnings.warn(\n",
      "/home/6/ud03926/nlp/lib64/python3.9/site-packages/trl/trainer/utils.py:160: UserWarning: Could not find response key `### Assistant:` in the following instance: <|begin_of_text|>### User: Your task is to generate exactly ONE short concise explanation sentence (made up of around 10 words or fewer) in a plain English for a given context text. The tone should be plain and simple! Return the explanation sentence for the following context text: 'Gold is far more than just a nice thing to wear at Indian weddings. But it's unclear whether the government can chip away at Indians' love of gold, which economists consider a \"nonproductive asset\" that sits idle in safe-deposit boxes rather than fueling growth. Previous attempts to severely restrict or license its import have failed. It's tough to change a culture that believes gold should mark every phase of life, from birth to dowry to childbirth to death, said Partha Nath Mukherji, professor emeritus of sociology at New Delhi's Institute of Social Sciences. But there was the gold problem. It's evidenced in a love of glitter, be it solid-gold furniture, cricket bats, idols, temple doors or chain-mail shirts worth millions of dollars. When Tata Motors wanted to draw attention to its Nano car model in 2011, it coated one of the vehicles with 176 pounds of gold and gems, gaining far more in publicity than the $3 million value of the shiny stunt.'. The explanation sentence should specifically clarify the target_sentence=\"It's tough to change a culture that believes gold should mark every phase of life, from birth to dowry to childbirth to death, said Partha Nath Mukherji, professor emeritus of sociology at New Delhi's Institute of Social Sciences.\".\n",
      " This instance will be ignored in loss calculation. Note, if this happens often, consider increasing the `max_seq_length`.\n",
      "  warnings.warn(\n",
      "/home/6/ud03926/nlp/lib64/python3.9/site-packages/trl/trainer/utils.py:160: UserWarning: Could not find response key `### Assistant:` in the following instance: <|begin_of_text|>### User: Your task is to generate exactly ONE short concise explanation sentence (made up of around 10 words or fewer) in a plain English for a given context text. The tone should be plain and simple! Return the explanation sentence for the following context text: 'And increasingly, it is the first lady who leads the charge in making sure her husband's vision for his library comes to fruition. It will be up to her to decide how involved she wants to be in the day-to-day planning and how much of a footprint she leaves on the library. First lady Laura Bush was a driving force behind President George W. Bush's library, doing everything from chairing the design committee to developing the exhibit while he focused on the center's policy institute. <img class=\"pull-right\" src=\"https://newsela-test-files-f331e.s3.amazonaws.com/article_media/extra/20140918_Pres_LIBRARIES.jpg\" />CHICAGO - In just over a century and a half, the concept of a presidential library has evolved from a small room in a home where first lady Sarah Polk kept her late husband's letters and mementos into multimillion-dollar complexes that house thousands of official records from the presidents' years in office. Sarah Polk essentially created a shrine and museum in her home dedicated to her late husband, who left office in 1849 as his health was failing.'. The explanation sentence should specifically clarify the target_sentence=\"In just over a century and a half, the concept of a presidential library has evolved from a small room in a home where first This instance will be ignored in loss calculation. Note, if this happens often, consider increasing the `max_seq_length`.\n",
      "  warnings.warn(\n",
      "/home/6/ud03926/nlp/lib64/python3.9/site-packages/trl/trainer/utils.py:160: UserWarning: Could not find response key `### Assistant:` in the following instance: <|begin_of_text|>### User: Your task is to generate exactly ONE short concise explanation sentence (made up of around 10 words or fewer) in a plain English for a given context text. The tone should be plain and simple! Return the explanation sentence for the following context text: 'KABUL, Afghanistan \" Hot dogs, even the non-pork variety, are rare in Afghanistan. Naveed Noori, a 25-year-old IT worker and university student, introduced Afghanistan to food trucks after studying the trend online and in Toronto, where his wife and baby daughter live. In May, Noori and his cousin and business partner, Abdullah Karim, launched Lazeez, which means \"delicious,\" hawking hot dogs, burgers and chicken sandwiches out of the back of five customized three-wheelers outfitted with hot plates and mini deep-fryers. On a crisp fall morning, Noori visited one of his trucks, parked on a busy thoroughfare in central Kabul. The rest of the food, including more than 3,000 chicken patties and 7,000 samosas each week, is cooked at their rented offices, a small bungalow with a second-story kitchen overlooking a courtyard where the trucks are parked overnight.'. The explanation sentence should specifically clarify the target_sentence='In May, Noori and his cousin and business partner, Abdullah Karim, launched Lazeez, which means \"delicious,\" hawking hot dogs, burgers and chicken sandwiches out of the back of five customized three-wheelers outfitted with hot plates and mini deep-fryers.'.\n",
      " This instance will be ignored in loss calculation. Note, if this happens often, consider increasing the `max_seq_length`.\n",
      "  warnings.warn(\n",
      "/home/6/ud03926/nlp/lib64/python3.9/site-packages/trl/trainer/utils.py:160: UserWarning: Could not find response key `### Assistant:` in the following instance: <|begin_of_text|>### User: Your task is to generate exactly ONE short concise explanation sentence (made up of around 10 words or fewer) in a plain English for a given context text. The tone should be plain and simple! Return the explanation sentence for the following context text: 'Obama said the immediate priority is finding the girls, but that the Boko Haram group must also be dealt with. \"In the short term our goal is obviously is to help the international community, and the Nigerian government, as a team to do everything we can to recover these young ladies,\" Obama said in an interview with NBC's \"Today,\" in some of his first public comments on what he said was a \"terrible situation\" in the West African nation. Obama said the U.S. has long sought to work with Nigeria to contain Boko Haram. \"But we're also going to have to deal with the broader problem of organizations like this that... can cause such havoc in people's day-to-day lives,\" Obama said of Boko Haram. He said the kidnapping and subsequent outrage over Nigeria's inability to rescue the girls \"may be the event that helps to mobilize the entire international community to finally do something against this horrendous organization that's perpetrated such a terrible crime.\" I mean, literally, immediately.\" Shekau also warned that Boko Haram will attack more schools and abduct more girls.'. The explanation sentence should specifically clarify the target_sentence='Obama said in an interview with NBC\\'s \"Today,\" in some of his first public comments on what he said was a \"terrible situation\" in the This instance will be ignored in loss calculation. Note, if this happens often, consider increasing the `max_seq_length`.\n",
      "  warnings.warn(\n",
      "/home/6/ud03926/nlp/lib64/python3.9/site-packages/trl/trainer/utils.py:160: UserWarning: Could not find response key `### Assistant:` in the following instance: <|begin_of_text|>### User: Your task is to generate exactly ONE short concise explanation sentence (made up of around 10 words or fewer) in a plain English for a given context text. The tone should be plain and simple! Return the explanation sentence for the following context text: 'LOS ANGELES \" Using a brand-new technique, scientists using NASA's Kepler Space Telescope have found 715 confirmed planets huddling around 305 stars, nearly triple Kepler's previous total of 246 confirmed planets in the Milky Way galaxy. For example, many of these systems seem to have multiple planets clustered in an orbit smaller than Venus, or even Mercury. The findings will also shed light on strange planets like mini-Neptunes, which have no analog in our own solar system, and sharpen scientists' search for Earth-sized, potentially Earth-like planets, scientists said. Nearly 95 percent of them are smaller than Neptune, and four of them are in their star's habitable zone, the region where liquid water \" a necessary ingredient for life as we know it \" could exist. Even though the planet-hunting telescope's crucial pointing ability was crippled last year, data mined from the spacecraft are still turning up a trove of strange and wonderful worlds, researchers said \" bringing them ever closer to finding \"Earth 2.0.\"'. The explanation sentence should specifically clarify the target_sentence='Nearly 95 percent of them are smaller than Neptune, and four of them are in their star\\'s habitable zone, the region where liquid water \" a necessary ingredient for life as we know it \" could exist.'.\n",
      " This instance will be ignored in loss calculation. Note, if this happens often, consider increasing the `max_seq_length`.\n",
      "  warnings.warn(\n",
      "/home/6/ud03926/nlp/lib64/python3.9/site-packages/trl/trainer/utils.py:160: UserWarning: Could not find response key `### Assistant:` in the following instance: <|begin_of_text|>### User: Your task is to generate exactly ONE short concise explanation sentence (made up of around 10 words or fewer) in a plain English for a given context text. The tone should be plain and simple! Return the explanation sentence for the following context text: 'WASHINGTON \" Opening a new military front in the Middle East, President Barack Obama authorized U.S. airstrikes inside Syria for the first time Wednesday night, along with expanded strikes in Iraq as part of \"a steady, relentless effort\" to root out the militant group Islamic State and its spreading reign of terror. The U.S. began launching limited airstrikes against Islamic State targets in Iraq earlier this summer at the request of that country's former prime minister. Officials said Obama plans to proceed with both the broader airstrikes in Iraq and the strikes in Syria without seeking new authorization from Congress. House Speaker John Boehner, Republican from Ohio, praised Obama for acknowledging the \"grave and growing threat\" that Islamic extremists pose, but he said Obama was coming to that conclusion far too late. He also urged Congress anew to authorize a program to train and arm Syrian rebels who are fighting both the Islamic State militants and Syrian President Bashar Assad. It will not involve American combat troops fighting on foreign soil.\" The White House announced Wednesday that it was also providing $25 million in immediate military assistance to the Iraqi government as part of efforts to combat the Islamic State.'. The explanation sentence should specifically clarify the target_sentence='President Barack Obama authorized U.S. airstrikes inside Syria for the first time Wednesday night, along with expanded strikes in Iraq as part of \"a steady, relentless effort This instance will be ignored in loss calculation. Note, if this happens often, consider increasing the `max_seq_length`.\n",
      "  warnings.warn(\n",
      "/home/6/ud03926/nlp/lib64/python3.9/site-packages/trl/trainer/utils.py:160: UserWarning: Could not find response key `### Assistant:` in the following instance: <|begin_of_text|>### User: Your task is to generate exactly ONE short concise explanation sentence (made up of around 10 words or fewer) in a plain English for a given context text. The tone should be plain and simple! Return the explanation sentence for the following context text: 'David Shiffman, a shark conservationist and Ph.D. student at the University of Miami's Rosenstiel School of Marine and Atmospheric Science, sharply criticized the media for glorifying such catches with words like \"epic battle\" and \"ultimate catch\" while failing to note that great hammerheads are endangered globally and that hauling them ashore is illegal in Florida. If you really want to do something for hammerheads, go after commercial shark fishing. \"It unequivocally does not require bringing a shark up on the beach in order to release it.\" Rama Shuster, of the Florida Fish and Wildlife Conservation Commission's Division of Law Enforcement, acknowledged it is not legal to land a species for which only catch-and-release fishing is allowed. Hammerheads are particularly vulnerable. Just issuing a warning, saying other people shouldn't do this, would go such a long way.\"'. The explanation sentence should specifically clarify the target_sentence='David Shiffman, a shark conservationist and Ph.D. student at the University of Miami\\'s Rosenstiel School of Marine and Atmospheric Science, sharply criticized the media for glorifying such catches with words like \"epic battle\" and \"ultimate catch\" while failing to note that great hammerheads are endangered globally and that hauling them ashore is illegal in Florida.'.\n",
      "### Assistant This instance will be ignored in loss calculation. Note, if this happens often, consider increasing the `max_seq_length`.\n",
      "  warnings.warn(\n",
      "/home/6/ud03926/nlp/lib64/python3.9/site-packages/trl/trainer/utils.py:160: UserWarning: Could not find response key `### Assistant:` in the following instance: <|begin_of_text|>### User: Your task is to generate exactly ONE short concise explanation sentence (made up of around 10 words or fewer) in a plain English for a given context text. The tone should be plain and simple! Return the explanation sentence for the following context text: '\"Fortunately, Russia is not as significant to us as an industry as they were,\" said Mike Cockrell, chief financial officer for Sanderson Farms, a large poultry producer and exporter with operations in North Carolina, Texas, Louisiana and in its home state of Mississippi. After the U.S. and the European Union ratcheted up sanctions against Russia last month, retaliation was expected. While an inconvenience for U.S. exporters, the poultry sanctions ultimately hurt the Russian consumer. Russia's government is limiting access to food, a move, said Cohen, \"that the U.S. and our allies would never do.\" That's not to say Russian sales are inconsequential. Sanderson Farms shipped 87.5 million pounds of product there last year, worth about $40 million. \"Forty million dollars is certainly a lot of money, but at the end of the day we and the industry will seek out alternative markets for our product,\" said Cockrell, noting that the $40 million represents about 1.5 percent of his company's total sales.'. The explanation sentence should specifically clarify the target_sentence='\"Fortunately, Russia is not as significant to us as an industry as they were,\" said Mike Cockrell, chief financial officer for Sanderson Farms, a large poultry producer and exporter with operations in North Carolina, Texas, Louisiana and This instance will be ignored in loss calculation. Note, if this happens often, consider increasing the `max_seq_length`.\n",
      "  warnings.warn(\n",
      "/home/6/ud03926/nlp/lib64/python3.9/site-packages/trl/trainer/utils.py:160: UserWarning: Could not find response key `### Assistant:` in the following instance: <|begin_of_text|>### User: Your task is to generate exactly ONE short concise explanation sentence (made up of around 10 words or fewer) in a plain English for a given context text. The tone should be plain and simple! Return the explanation sentence for the following context text: 'But the technological sleuthing it took a group of Carnegie Mellon University students and alumni to recover and preserve some digital images apparently created and stored by Andy Warhol on old-school floppy computer disks nearly 30 years ago is a tale worth telling. \"They were system disks, not personal copy disks with something handwritten on them like ‘Andy Warhol's images' on them.\" It turned out the disks, as well as the computer they were created on, were beta versions of both, which made accessing the systems that much more difficult. While it might be easy to think that new computer images by Warhol could quickly be turned into revenue for the museum, Wrbican said even if Warhol did create them, it's not so easy to begin printing Warhol's newly found work. While the historic value will take more research and debate to be figured out, Matt Wrbican, the Andy Warhol Museum's chief archivist, said the interest is understandable for one of the world's most prolific and studied artists. \"It's something that's new,\" he said, \"and that doesn't happen very often with Warhol.\" It was just Warhol learning a new tool.\"'. The explanation sentence should specifically clarify the target_sentence=\"While the historic value will take more research and debate to be figured out, Matt This instance will be ignored in loss calculation. Note, if this happens often, consider increasing the `max_seq_length`.\n",
      "  warnings.warn(\n",
      "/home/6/ud03926/nlp/lib64/python3.9/site-packages/trl/trainer/utils.py:160: UserWarning: Could not find response key `### Assistant:` in the following instance: <|begin_of_text|>### User: Your task is to generate exactly ONE short concise explanation sentence (made up of around 10 words or fewer) in a plain English for a given context text. The tone should be plain and simple! Return the explanation sentence for the following context text: 'GROVELAND, Calif. \" The Rim fire that scorched a huge swath of Sierra Nevada forests also severely altered the habitat that is home to several of California's rarest animals: the great gray owl, the Sierra Nevada red fox and the Pacific fisher. The fire burned 257,000 acres of High Sierra wilderness straddling the Stanislaus National Forest and Yosemite National Park that harbors a geographically isolated and genetically distinct clan of roughly 200 great gray owls. Preliminary reports from the fire area indicate that the blaze destroyed or damaged dozens of nesting and roosting areas for spotted owls, goshawks and great gray owls \" the largest owl in North America. The blaze also came within 12 miles of 10 breeding pairs of the subspecies of red fox clinging to survival in the cold, steep slopes above the tree line, raising fears they could have been eaten by coyotes trying to escape the smoke and flames. \"It killed squirrels and bears. Future research will help determine whether enough of the owls survived in the region to sustain the state-endangered raptor.'. The explanation sentence should specifically clarify the target_sentence='Preliminary reports from the fire area indicate that the blaze destroyed or damaged dozens of nesting and roosting areas for spotted owls, g This instance will be ignored in loss calculation. Note, if this happens often, consider increasing the `max_seq_length`.\n",
      "  warnings.warn(\n",
      "Trainer.tokenizer is now deprecated. You should use Trainer.processing_class instead.\n",
      "Trainer.tokenizer is now deprecated. You should use Trainer.processing_class instead.\n",
      "/home/6/ud03926/nlp/lib64/python3.9/site-packages/trl/trainer/utils.py:160: UserWarning: Could not find response key `### Assistant:` in the following instance: <|begin_of_text|>### User: Your task is to generate exactly ONE short concise explanation sentence (made up of around 10 words or fewer) in a plain English for a given context text. The tone should be plain and simple! Return the explanation sentence for the following context text: '<img class=\"pull-right\" src=\"https://newsela-test-files-f331e.s3.amazonaws.com/article_media/extra/Mount_Everest_as_seen_from_Drukair2_PLW_edit.png\"/>If you think riding a roller coaster is scary, how about flying one through the Himalayas? When it comes to seasonal migrations, the bar-headed goose is no slacker. \"Migrating birds must overcome many challenging environmental obstacles, such as arid deserts and featureless oceans, but few are capable of negotiating the formidably high mountains separating the Indian subcontinent from central Asia,\" the study authors wrote. Scientists who tracked bar-headed geese across their mountainous seasonal migration have discovered that the birds won't take a straight path to their destination, but instead climb up and plunge down with the contours of the ground. The findings, published in the journal Science, reveal a surprisingly savvy strategy that helps these high-fliers finish the grueling southbound journey from their breeding grounds in Mongolia to their winter getaway in India or southeastern Tibet. The researchers found that, rather than fly in a straight line\"the most direct route to their destination \" the geese would hug the terrain, ascending to get over a high peak and descending when the ground leveled out.'. The explanation sentence should specifically clarify the target_sentence=' This instance will be ignored in loss calculation. Note, if this happens often, consider increasing the `max_seq_length`.\n",
      "  warnings.warn(\n",
      "/home/6/ud03926/nlp/lib64/python3.9/site-packages/trl/trainer/utils.py:160: UserWarning: Could not find response key `### Assistant:` in the following instance: <|begin_of_text|>### User: Your task is to generate exactly ONE short concise explanation sentence (made up of around 10 words or fewer) in a plain English for a given context text. The tone should be plain and simple! Return the explanation sentence for the following context text: '<img class=\"pull_right\" src=\"https://newsela-test-files-f331e.s3.amazonaws.com/article_media/extra/20141211_TEENAGERS_CRIME.jpg\"/>PHILADELPHIA \" A summer jobs program for teenagers appears to cut the rate of violent crime, according to a new study by a University of Pennsylvania researcher. Their number of arrests for violent crimes was slightly lower than that of the remaining 904 teens while the jobs lasted, but the difference did not become statistically significant until six months into the study \" three months after the jobs were completed. Heller said that the results may underestimate the impact of the jobs program, as a quarter of the teens who were offered jobs did not accept them, though some of those teens found other jobs on their own. And not because the youths were too busy working to break the law. The 730 teens who were offered jobs were picked at random from among 1,634 applicants. At 16 months, police data revealed 5.1 arrests for violent crimes per 100 youths who were offered jobs, compared with 9.1 violent-crime arrests per 100 teens who were not. \"We explained that everybody's first job is a horrible job,\" Diaz said.'. The explanation sentence should specifically clarify the target_sentence='The 730 teens This instance will be ignored in loss calculation. Note, if this happens often, consider increasing the `max_seq_length`.\n",
      "  warnings.warn(\n",
      "/home/6/ud03926/nlp/lib64/python3.9/site-packages/trl/trainer/utils.py:160: UserWarning: Could not find response key `### Assistant:` in the following instance: <|begin_of_text|>### User: Your task is to generate exactly ONE short concise explanation sentence (made up of around 10 words or fewer) in a plain English for a given context text. The tone should be plain and simple! Return the explanation sentence for the following context text: 'To find it, they had to build a $10 billion collider in a 17-mile (27-kilometer) tunnel beneath the Swiss-French border. Yet finding the particle \" often referred to as the \"God particle\" \" required teams of thousands of scientists and mountains of data from trillions of colliding protons in the world's biggest atom smasher \" CERN's Large Hadron Collider. Thousands of scientists were involved in the experiments that confirmed the particle's existence last year. The Higgs particle solved a problem that physicists had puzzled over for some time: how did matter form shortly after the Big Bang, eventually leading to the universe as we know it today? Only about one collision per trillion will produce one of the Higgs bosons in the collider, and it took CERN some time after the discovery of a new \"Higgs-like\" boson to decide that the particle was, in fact, very much like the Higgs boson expected in the original formulation, rather than a kind of variant. Michael Turner, president of the American Physical Society, an organization of physicists, said the Higgs particle captured the imagination of the public.'. The explanation sentence should specifically clarify the target_sentence='Yet finding the particle \" often referred to as the \"God particle\" \" required teams of thousands of scientists and This instance will be ignored in loss calculation. Note, if this happens often, consider increasing the `max_seq_length`.\n",
      "  warnings.warn(\n",
      "/home/6/ud03926/nlp/lib64/python3.9/site-packages/trl/trainer/utils.py:160: UserWarning: Could not find response key `### Assistant:` in the following instance: <|begin_of_text|>### User: Your task is to generate exactly ONE short concise explanation sentence (made up of around 10 words or fewer) in a plain English for a given context text. The tone should be plain and simple! Return the explanation sentence for the following context text: 'But decades would pass before scientists at CERN were able to confirm its existence in July 2012. To find it, they had to build a $10 billion collider in a 17-mile (27-kilometer) tunnel beneath the Swiss-French border. Yet finding the particle \" often referred to as the \"God particle\" \" required teams of thousands of scientists and mountains of data from trillions of colliding protons in the world's biggest atom smasher \" CERN's Large Hadron Collider. Thousands of scientists were involved in the experiments that confirmed the particle's existence last year. The Higgs particle solved a problem that physicists had puzzled over for some time: how did matter form shortly after the Big Bang, eventually leading to the universe as we know it today? Only about one collision per trillion will produce one of the Higgs bosons in the collider, and it took CERN some time after the discovery of a new \"Higgs-like\" boson to decide that the particle was, in fact, very much like the Higgs boson expected in the original formulation, rather than a kind of variant.'. The explanation sentence should specifically clarify the target_sentence='Yet finding the particle \" often referred to as the \"God particle\" \" required teams of thousands of scientists and mountains of data from trillions This instance will be ignored in loss calculation. Note, if this happens often, consider increasing the `max_seq_length`.\n",
      "  warnings.warn(\n",
      "/home/6/ud03926/nlp/lib64/python3.9/site-packages/trl/trainer/utils.py:160: UserWarning: Could not find response key `### Assistant:` in the following instance: <|begin_of_text|>### User: Your task is to generate exactly ONE short concise explanation sentence (made up of around 10 words or fewer) in a plain English for a given context text. The tone should be plain and simple! Return the explanation sentence for the following context text: 'The overheated debate between the federal government and animal advocates over the removal of wild mustangs from the Western range ticked a few degrees higher after the Bureau of Land Management announced plans to take fewer horses from the land this summer. Animal advocates say 1,300 horses is still too many, and they question the BLM's rationale for the removals. The BLM has been under fire for what many have called its failing policies toward wild horses, who have been blamed for range damage despite the fact that their numbers are heavily overshadowed by grazing domestic cattle. Nine of the BLM's 16 summer roundups will be conducted in Nevada, home to roughly half of the estimated 37,000 free-roaming wild horses and burros in the West. On Tuesday, the agency said it would relocate 50 wild horses threatened by drought from an area two hours north of Las Vegas. BLM officials said \"it is anticipated that as an act of mercy, some animals with a poor prognosis for survival may need to be humanely euthanized to end their suffering.\"'. The explanation sentence should specifically clarify the target_sentence='The BLM has been under fire for what many have called its failing policies toward wild horses, who have been blamed for range damage despite the fact that their numbers are heavily overshadowed by grazing This instance will be ignored in loss calculation. Note, if this happens often, consider increasing the `max_seq_length`.\n",
      "  warnings.warn(\n",
      "There were missing keys in the checkpoint model loaded: ['lm_head.weight'].\n"
     ]
    },
    {
     "data": {
      "text/plain": [
       "TrainOutput(global_step=99, training_loss=2.3012294961948587, metrics={'train_runtime': 204.1278, 'train_samples_per_second': 15.417, 'train_steps_per_second': 0.485, 'total_flos': 1.304409180616704e+16, 'train_loss': 2.3012294961948587, 'epoch': 3.0})"
      ]
     },
     "execution_count": 9,
     "metadata": {},
     "output_type": "execute_result"
    }
   ],
   "source": [
    "trainer.train()"
   ]
  },
  {
   "cell_type": "markdown",
   "id": "acd49367-f281-4024-b9b7-eda484c13887",
   "metadata": {
    "jp-MarkdownHeadingCollapsed": true
   },
   "source": [
    "### Learning curve"
   ]
  },
  {
   "cell_type": "code",
   "execution_count": 6,
   "id": "43f16466-4bbd-4909-bd5a-77d849ec9bbe",
   "metadata": {},
   "outputs": [
    {
     "data": {
      "image/png": "[encoded data removed]",
      "text/plain": [
       "<Figure size 1000x500 with 1 Axes>"
      ]
     },
     "metadata": {},
     "output_type": "display_data"
    }
   ],
   "source": [
    "from model_utils import plot_loss_curves\n",
    "plot_loss_curves(trainer)"
   ]
  },
  {
   "cell_type": "markdown",
   "id": "3b504528-9cca-4a9f-b648-2d1497c8df24",
   "metadata": {
    "jp-MarkdownHeadingCollapsed": true
   },
   "source": [
    "# Save the model"
   ]
  },
  {
   "cell_type": "code",
   "execution_count": 40,
   "id": "d80180bb-8376-4d6f-a9e8-247b05dce451",
   "metadata": {},
   "outputs": [],
   "source": [
    "trainer.save_model(\"../models/llama/llama-news-ft/llama-c2s-masked-label-text-out\")"
   ]
  },
  {
   "cell_type": "markdown",
   "id": "22fc09ce-cea6-42ac-923f-ee4439ef2098",
   "metadata": {
    "jp-MarkdownHeadingCollapsed": true
   },
   "source": [
    "# Clean-up"
   ]
  },
  {
   "cell_type": "code",
   "execution_count": 18,
   "id": "9d8114a3-d6ac-4018-b525-9adfffcd6f0d",
   "metadata": {},
   "outputs": [
    {
     "name": "stdout",
     "output_type": "stream",
     "text": [
      "Directory does not exist: ../models/llama3.2-news-ft/logs/logs-c2osp\n"
     ]
    }
   ],
   "source": [
    "from model_utils import clear_directory\n",
    "import torch\n",
    "\n",
    "torch.cuda.empty_cache()\n",
    "del model, trainer, tokenizer, data_collator\n",
    "clear_directory(logs_dir)"
   ]
  },
  {
   "cell_type": "markdown",
   "id": "d14720cf-289f-4966-a7fe-fb7c44cba331",
   "metadata": {},
   "source": [
    "# Generate predictions\n",
    "\n",
    "https://github.com/NielsRogge/Transformers-Tutorials/blob/master/Mistral/Supervised_fine_tuning_(SFT)_of_an_LLM_using_Hugging_Face_tooling.ipynb"
   ]
  },
  {
   "cell_type": "markdown",
   "id": "2dbf09a9-2254-4e79-95cb-99fd71423fe7",
   "metadata": {
    "jp-MarkdownHeadingCollapsed": true
   },
   "source": [
    "## Load saved model"
   ]
  },
  {
   "cell_type": "code",
   "execution_count": 6,
   "id": "6da2b42e-cc84-4c46-854c-03d93c65f1bd",
   "metadata": {},
   "outputs": [
    {
     "data": {
      "application/vnd.jupyter.widget-view+json": {
       "model_id": "0c2fa2b830fe4feaac0977a1d816c1c8",
       "version_major": 2,
       "version_minor": 0
      },
      "text/plain": [
       "Loading checkpoint shards:   0%|          | 0/3 [00:00<?, ?it/s]"
      ]
     },
     "metadata": {},
     "output_type": "display_data"
    }
   ],
   "source": [
    "from transformers import AutoTokenizer, AutoModelForCausalLM\n",
    "import torch\n",
    "\n",
    "saved_model = AutoModelForCausalLM.from_pretrained(\"../models/llama/llama-news-ft/llama-c2s-masked-label-text-out\")\n",
    "saved_tokenizer = AutoTokenizer.from_pretrained(\"../models/llama/llama-news-ft/llama-c2s-masked-label-text-out\")"
   ]
  },
  {
   "cell_type": "code",
   "execution_count": 7,
   "id": "d9df03f8-0daf-4667-b84f-fdbdb51235eb",
   "metadata": {},
   "outputs": [],
   "source": [
    "import os \n",
    "# disable parallelism warnings\n",
    "os.environ[\"TOKENIZERS_PARALLELISM\"] = \"false\"\n",
    "model = saved_model\n",
    "tokenizer = saved_tokenizer"
   ]
  },
  {
   "cell_type": "code",
   "execution_count": 8,
   "id": "cf8eefee-d1d1-491d-9a25-3c6537224d1e",
   "metadata": {},
   "outputs": [],
   "source": [
    "model, tokenizer = setup_chat_format(model, tokenizer)\n",
    "formatting_func = conversations_formatting_function(tokenizer, \"messages\")"
   ]
  },
  {
   "cell_type": "markdown",
   "id": "f5ded004-8ee1-4a7c-982b-9e3c8133ab47",
   "metadata": {},
   "source": [
    "## Example"
   ]
  },
  {
   "cell_type": "code",
   "execution_count": 10,
   "id": "2b0b34c5-94cf-4f1e-97ee-0f4345f78b5f",
   "metadata": {},
   "outputs": [],
   "source": [
    "from transformers import pipeline, StoppingCriteria, StoppingCriteriaList\n",
    "import torch\n",
    "\n",
    "class RefinedEndSentenceStoppingCriteria(StoppingCriteria):\n",
    "    def __init__(self, tokenizer, sentence_end_tokens):\n",
    "        super().__init__()\n",
    "        self.tokenizer = tokenizer\n",
    "        self.sentence_end_token_ids = [\n",
    "            self.tokenizer.convert_tokens_to_ids(token) for token in sentence_end_tokens\n",
    "        ]\n",
    "        self.eos_token_id = tokenizer.eos_token_id  # Include eos_token_id\n",
    "\n",
    "    def is_valid_stop(self, input_ids):\n",
    "        # Get the last token and the one before it\n",
    "        if len(input_ids[0]) < 2:\n",
    "            return False  # Not enough tokens to decide\n",
    "        last_token_id = input_ids[0, -1].item()\n",
    "        second_last_token_id = input_ids[0, -2].item()\n",
    "\n",
    "        # Decode tokens to check context\n",
    "        last_token = self.tokenizer.decode([last_token_id])\n",
    "        second_last_token = self.tokenizer.decode([second_last_token_id])\n",
    "\n",
    "        # Stop if it's a sentence-ending token and not part of an abbreviation\n",
    "        if (\n",
    "            last_token in [\".\", \"!\", \"?\"]  # Check if it's a sentence-ending token\n",
    "            and len(second_last_token) > 1  # Ensure not part of an abbreviation\n",
    "            and not second_last_token.isupper()  # Ensure it's not \"U.S.\" or similar\n",
    "        ):\n",
    "            return True\n",
    "\n",
    "        # Include end-of-sequence token\n",
    "        return last_token_id == self.eos_token_id\n",
    "\n",
    "    def __call__(self, input_ids, scores, **kwargs):\n",
    "        return self.is_valid_stop(input_ids)\n",
    "\n",
    "\n",
    "sentence_end_tokens = [\".\",\"\\n\",\"!\", \"?\"]\n",
    "stopping_criteria = StoppingCriteriaList([RefinedEndSentenceStoppingCriteria(tokenizer, sentence_end_tokens)])"
   ]
  },
  {
   "cell_type": "markdown",
   "id": "354df40a-c696-44c1-819f-89545b0c13ce",
   "metadata": {
    "jp-MarkdownHeadingCollapsed": true
   },
   "source": [
    "### Pipeline with ChatML format"
   ]
  },
  {
   "cell_type": "code",
   "execution_count": null,
   "id": "6a47dba4-ac52-410c-997c-66784aa26c14",
   "metadata": {
    "scrolled": true
   },
   "outputs": [],
   "source": [
    "from transformers import pipeline\n",
    "\n",
    "device = torch.device(\"cuda\" if torch.cuda.is_available() else \"cpu\")\n",
    "model.to(device)\n",
    "model.eval()\n",
    "\n",
    "generator = pipeline(\n",
    "        \"text-generation\",\n",
    "        model=model,\n",
    "        tokenizer=tokenizer,\n",
    "        use_cache=True,\n",
    "        device_map={'':torch.cuda.current_device()},\n",
    "        max_new_tokens=64, # 32 - for elaboration only generation\n",
    "        min_length = 16,\n",
    "        do_sample=False, # for greedy decoding\n",
    "        temperature=None,\n",
    "        top_p=None,\n",
    "        return_full_text=False,\n",
    "        no_repeat_ngram_size=3,\n",
    "        num_return_sequences=1,\n",
    "        eos_token_id=tokenizer.eos_token_id,\n",
    "        pad_token_id=tokenizer.eos_token_id\n",
    "        )"
   ]
  },
  {
   "cell_type": "code",
   "execution_count": 39,
   "id": "041d8bce-25fd-4dc7-b965-0f1c977ed4ea",
   "metadata": {},
   "outputs": [
    {
     "name": "stdout",
     "output_type": "stream",
     "text": [
      "New companies have come that need skilled workers with more education. New Haven youth want those jobs, but they do not have the education or the skills. Many do not have the money to get the training they need.\n"
     ]
    }
   ],
   "source": [
    "print(dataset[\"test\"][0]['label_text'])"
   ]
  },
  {
   "cell_type": "code",
   "execution_count": 60,
   "id": "0b7549ee-51af-4317-aa2a-a5c45055f196",
   "metadata": {},
   "outputs": [
    {
     "data": {
      "text/plain": [
       "[{'content': 'New companies have come that need skilled workers with more education. New Haven youth want those jobs, but they do not have the education or the skills. <explanatory sentence>',\n",
       "  'role': 'user'}]"
      ]
     },
     "execution_count": 60,
     "metadata": {},
     "output_type": "execute_result"
    }
   ],
   "source": [
    "formatted_test_dataset[0][\"messages\"]"
   ]
  },
  {
   "cell_type": "code",
   "execution_count": 59,
   "id": "350ce14b-d14a-4f1f-be87-b3566e1144a2",
   "metadata": {},
   "outputs": [
    {
     "data": {
      "text/plain": [
       "[{'generated_text': 'The new companies need skilled employees with more training. New York youth want these jobs, and they do have the training and the skills.\\n<explanational sentence>with\\nThe companies need employees with higher education. The New York youths have the higher education.\\n<concluding sentence>to\\nThe New York companies need'}]"
      ]
     },
     "execution_count": 59,
     "metadata": {},
     "output_type": "execute_result"
    }
   ],
   "source": [
    "generator(formatted_test_dataset[0][\"messages\"])"
   ]
  },
  {
   "cell_type": "code",
   "execution_count": 58,
   "id": "2d2d4a2c-10d0-4ca9-a7fd-022a52772885",
   "metadata": {},
   "outputs": [
    {
     "data": {
      "text/plain": [
       "[{'generated_text': 'New Haven youth need more education and skills to get those jobs.\\nThe city of New Haven has a large population of youth who are not in school or working. They need jobs, and they need education. <concluding sentence>1\\nNew York City has a lot of youth that are not working or in'}]"
      ]
     },
     "execution_count": 58,
     "metadata": {},
     "output_type": "execute_result"
    }
   ],
   "source": [
    "generator(formatting_func(formatted_test_dataset[0]))#,stopping_criteria=stopping_criteria)"
   ]
  },
  {
   "cell_type": "code",
   "execution_count": 20,
   "id": "77b51d0d-3592-412d-913d-9500922f5d47",
   "metadata": {},
   "outputs": [
    {
     "name": "stdout",
     "output_type": "stream",
     "text": [
      "Context:  And his wife, Maria, was inspired to get her GED. The general educational development (GED) is equal to a high school diploma. Benito's path is more uncertain. He has not yet registered at the adult school. He and others like him are missing a key requirement \" a high school diploma. And his wife, Maria, was inspired to get her GED. Benito's path is more uncertain. He has yet to register at the adult school.\n",
      "\n",
      "Elaboration:  It is for adults who were unable to finish high school.\n"
     ]
    }
   ],
   "source": [
    "print(\"Context: \",formatted_test_dataset[5]['source_text'],end=\"\\n\\n\")\n",
    "print(\"Elaboration: \",formatted_test_dataset[5]['elaboration_sentence'] )"
   ]
  },
  {
   "cell_type": "markdown",
   "id": "7c76997f-f044-4050-99fa-668f6fcfcc17",
   "metadata": {
    "jp-MarkdownHeadingCollapsed": true
   },
   "source": [
    "### Generate with ChatML format"
   ]
  },
  {
   "cell_type": "code",
   "execution_count": 27,
   "id": "f1d2374f-5a00-42db-93af-7a78b98af28f",
   "metadata": {},
   "outputs": [],
   "source": [
    "def extract_assistant_response(conversation, keyword=\"assistant\"):\n",
    "    \"\"\"\n",
    "    Extracts the response under the given keyword from a conversation.\n",
    "    \"\"\"\n",
    "    # split the conversation by lines\n",
    "    lines = conversation.strip().split(\"\\n\")\n",
    "    # iterate over the lines to find the assistant's response\n",
    "    for i, line in enumerate(lines):\n",
    "        if line == keyword:\n",
    "            if i + 1 < len(lines):\n",
    "                return \" \".join(lines[(i + 2):])\n",
    "    \n",
    "    # an empty string if no response is found\n",
    "    return \"\""
   ]
  },
  {
   "cell_type": "code",
   "execution_count": 27,
   "id": "10f646f1-8a75-425f-a0fe-c45cd37ade50",
   "metadata": {},
   "outputs": [
    {
     "name": "stdout",
     "output_type": "stream",
     "text": [
      "system\n",
      "You are an expert in generating exactly ONE short concise explanation sentence (made up of around 10 words or fewer) in a plain English for a given context text. \n",
      "The tone should be plain and simple!\n",
      "user\n",
      ": Return the explanation sentence for the following context text: 'But it is far more than just a nice thing to wear. It shows a person's importance.'. The subject of the explanation sentence should be: 'a gift'.\n",
      "assistant\n",
      "\n",
      ": The subject should be in the following format: 'A gift is a...'. The verb should be 'to be'. The subject and verb should NOT be\n",
      "Extracted Response: : The subject should be in the following format: 'A gift is a...'. The verb should be 'to be'. The subject and verb should NOT be\n"
     ]
    }
   ],
   "source": [
    "import torch\n",
    "import random \n",
    "\n",
    "device = torch.device(\"cuda\" if torch.cuda.is_available() else \"cpu\")\n",
    "model.to(device)\n",
    "model.eval()\n",
    "\n",
    "example = random.choice(formatted_test_dataset)\n",
    "\n",
    "input_text = formatting_func(example)\n",
    "inputs = tokenizer(\n",
    "    input_text,\n",
    "    return_tensors=\"pt\",\n",
    "    padding=True,\n",
    "    truncation=True,\n",
    "    max_length=512  # Adjust max_length as needed\n",
    ").to(device)\n",
    "\n",
    "with torch.no_grad():\n",
    "    output_ids = model.generate(\n",
    "        input_ids=inputs[\"input_ids\"],\n",
    "        attention_mask=inputs[\"attention_mask\"],\n",
    "        max_new_tokens=32,  # 32 for elaboration-only generation\n",
    "        min_length=10,\n",
    "        do_sample=False,  # Greedy decoding\n",
    "        temperature=None,  # not used in greedy decoding\n",
    "        top_p=None,  # not used in greedy decoding\n",
    "        num_return_sequences=1,\n",
    "        no_repeat_ngram_size=3,\n",
    "        eos_token_id=tokenizer.eos_token_id,\n",
    "        pad_token_id=tokenizer.eos_token_id,\n",
    "        stopping_criteria=stopping_criteria\n",
    "    )\n",
    "\n",
    "generated_text = tokenizer.decode(output_ids[0], skip_special_tokens=True)\n",
    "print(generated_text)\n",
    "response = extract_assistant_response(generated_text)\n",
    "print(\"Extracted Response:\", response)"
   ]
  },
  {
   "cell_type": "markdown",
   "id": "23c77de2-c8d2-489e-a4ad-e375f5df8fff",
   "metadata": {
    "jp-MarkdownHeadingCollapsed": true
   },
   "source": [
    "### Generate with alpaca"
   ]
  },
  {
   "cell_type": "code",
   "execution_count": 8,
   "id": "2b3bb735-03e5-4475-a260-36926ca2a5a7",
   "metadata": {},
   "outputs": [
    {
     "name": "stdout",
     "output_type": "stream",
     "text": [
      "### User: Your task is to generate exactly ONE short concise explanation sentence (made up of around 10 words or fewer) in a plain English for a given context text. \n",
      "The tone should be plain and simple! Return the explanation sentence for the following context text: 'Brown was a black teenager without a weapon who was shot by a white police officer. He was killed in August in Ferguson, Missouri, near St. Louis. The shooting set off nearly nightly protests and violence. The black community felt that Brown wouldn't have been killed if he was white.'.\n",
      "### Assistant: The officer was not charged with a crime.\n",
      "Extracted Response: The officer was not charged with a crime.\n"
     ]
    }
   ],
   "source": [
    "import torch\n",
    "import random \n",
    "\n",
    "device = torch.device(\"cuda\" if torch.cuda.is_available() else \"cpu\")\n",
    "model.to(device)\n",
    "model.eval()\n",
    "\n",
    "example = random.choice(formatted_test_dataset)\n",
    "\n",
    "inputs = tokenizer(\n",
    "    example, #input_text,\n",
    "    return_tensors=\"pt\",\n",
    "    padding=True,\n",
    "    truncation=True,\n",
    "    max_length=512  # Adjust max_length as needed\n",
    ").to(device)\n",
    "\n",
    "with torch.no_grad():\n",
    "    output_ids = model.generate(\n",
    "        input_ids=inputs[\"input_ids\"],\n",
    "        attention_mask=inputs[\"attention_mask\"],\n",
    "        max_new_tokens=32,  # 32 for elaboration-only generation\n",
    "        min_length=10,\n",
    "        do_sample=False,  # Greedy decoding\n",
    "        temperature=None,  # not used in greedy decoding\n",
    "        top_p=None,  # not used in greedy decoding\n",
    "        num_return_sequences=1,\n",
    "        no_repeat_ngram_size=3,\n",
    "        eos_token_id=tokenizer.eos_token_id,\n",
    "        pad_token_id=tokenizer.eos_token_id,\n",
    "        stopping_criteria=stopping_criteria\n",
    "    )\n",
    "\n",
    "generated_text = tokenizer.decode(output_ids[0], skip_special_tokens=True)\n",
    "print(generated_text)\n",
    "response = extract_response(generated_text)\n",
    "print(\"Extracted Response:\", response)"
   ]
  },
  {
   "cell_type": "markdown",
   "id": "ff7357a1-1764-4a16-bc66-2a0865bc0dae",
   "metadata": {},
   "source": [
    "## Generate predictions"
   ]
  },
  {
   "cell_type": "code",
   "execution_count": 11,
   "id": "6df5044b-d2e2-42f5-ac8a-1152449e425e",
   "metadata": {},
   "outputs": [
    {
     "data": {
      "application/vnd.jupyter.widget-view+json": {
       "model_id": "ef03ed95c57841f0b7119b606d2dbb3e",
       "version_major": 2,
       "version_minor": 0
      },
      "text/plain": [
       "  0%|          | 0/116 [00:00<?, ?it/s]"
      ]
     },
     "metadata": {},
     "output_type": "display_data"
    },
    {
     "name": "stdout",
     "output_type": "stream",
     "text": [
      "NaNs:  0\n"
     ]
    }
   ],
   "source": [
    "from tqdm.notebook import tqdm\n",
    "import pandas as pd\n",
    "\n",
    "def extract_response(text, prefix = \"### Assistant:\"):\n",
    "    if prefix in text:\n",
    "        return text.split(prefix, 1)[1].strip()\n",
    "    return None\n",
    "\n",
    "device = torch.device(\"cuda\" if torch.cuda.is_available() else \"cpu\")\n",
    "model.to(device)\n",
    "model.eval()\n",
    "model.config.use_cache = True\n",
    "\n",
    "df_results = pd.DataFrame({\n",
    "    'source_text': dataset['test']['source_text'],\n",
    "    #'target_sentence': dataset['test']['target_sentence_4o'], \n",
    "    'elaboration_sentence': dataset['test']['elaboration_sentence'],\n",
    "    #'subject':dataset['test']['subject'],\n",
    "    #'target_sentence_target': dataset['test']['target_sentence_target'],\n",
    "    'target_sentence': dataset['test']['target_sentence_4o'],\n",
    "    'pred_elaboration': \"\"\n",
    "})\n",
    "\n",
    "\n",
    "for idx, row in tqdm(df_results.iterrows(),total=len(df_results)):\n",
    "    if row[\"pred_elaboration\"]==\"\":\n",
    "        # chatML format\n",
    "        #input_text = formatting_func(formatted_test_dataset[idx])\n",
    "        inputs = tokenizer(\n",
    "            formatted_test_dataset[idx], #input_text,\n",
    "            return_tensors=\"pt\",\n",
    "            padding=True,\n",
    "            truncation=True,\n",
    "            max_length=512 \n",
    "        ).to(device)\n",
    "        \n",
    "        with torch.no_grad():\n",
    "            output_ids = model.generate(\n",
    "                input_ids=inputs[\"input_ids\"],\n",
    "                attention_mask=inputs[\"attention_mask\"],\n",
    "                max_new_tokens=32,  # 32 for elaboration-only generation\n",
    "                min_length=10,\n",
    "                do_sample=False,  # Greedy decoding\n",
    "                temperature=None,  # not used in greedy decoding\n",
    "                top_p=None,# not used in greedy decoding\n",
    "                num_beams = 4,\n",
    "                early_stopping = True,\n",
    "                num_return_sequences=1,\n",
    "                no_repeat_ngram_size=3,\n",
    "                eos_token_id=tokenizer.eos_token_id,\n",
    "                pad_token_id=tokenizer.eos_token_id,\n",
    "                stopping_criteria=stopping_criteria\n",
    "            )\n",
    "        \n",
    "        generated_text = tokenizer.decode(output_ids[0], skip_special_tokens=True)\n",
    "        response = extract_response(generated_text) #extract_assistant_response(generated_text) -> chatML\n",
    "        df_results.at[idx,\"pred_elaboration\"] = response\n",
    "\n",
    "print(\"NaNs: \", len(df_results[df_results[\"pred_elaboration\"]==\"\"]))"
   ]
  },
  {
   "cell_type": "markdown",
   "id": "45e08098-d61e-4c6c-9715-9a99695edb16",
   "metadata": {
    "jp-MarkdownHeadingCollapsed": true
   },
   "source": [
    "### Pipeline"
   ]
  },
  {
   "cell_type": "code",
   "execution_count": 32,
   "id": "6aa08f1b-cf94-4840-a058-2f07292fbb59",
   "metadata": {},
   "outputs": [
    {
     "data": {
      "application/vnd.jupyter.widget-view+json": {
       "model_id": "75e1abb3721444af8129855c45e9e514",
       "version_major": 2,
       "version_minor": 0
      },
      "text/plain": [
       "  0%|          | 0/116 [00:00<?, ?it/s]"
      ]
     },
     "metadata": {},
     "output_type": "display_data"
    }
   ],
   "source": [
    "from tqdm.notebook import tqdm\n",
    "import pandas as pd\n",
    "\n",
    "df_results = pd.DataFrame({\n",
    "    'source_text': dataset['test']['source_text'], \n",
    "    'elaboration_sentence': dataset['test']['label_text'],\n",
    "    'pred_elaboration': \"\"\n",
    "})\n",
    "\n",
    "\n",
    "for idx, row in tqdm(df_results.iterrows(),total=len(df_results)):\n",
    "    input_text = f\":{row['source_text']}\"#formatted_test_dataset[idx][\"text\"] #f\"### Context:{row['source_text']}\"\n",
    "    response = generator(input_text) #stopping_criteria=stopping_criteria)\n",
    "    df_results.at[idx,\"pred_elaboration\"] = response[0][\"generated_text\"]"
   ]
  },
  {
   "cell_type": "code",
   "execution_count": 38,
   "id": "913f903b-538b-4017-a4d9-8aa9c8a75854",
   "metadata": {},
   "outputs": [
    {
     "name": "stdout",
     "output_type": "stream",
     "text": [
      "NaNs:  0\n"
     ]
    }
   ],
   "source": [
    "print(\"NaNs: \", len(df_results[df_results[\"pred_elaboration\"]==\"\"]))"
   ]
  },
  {
   "cell_type": "markdown",
   "id": "195b9829-eb3b-4b08-b3bc-7cb61ef4707c",
   "metadata": {},
   "source": [
    "Fill NaNs"
   ]
  },
  {
   "cell_type": "code",
   "execution_count": 14,
   "id": "7c2fa46a-862d-4865-8df7-90dcf016ad68",
   "metadata": {},
   "outputs": [
    {
     "data": {
      "application/vnd.jupyter.widget-view+json": {
       "model_id": "77b14d2630a64ff1b4da6a8c03209b3e",
       "version_major": 2,
       "version_minor": 0
      },
      "text/plain": [
       "  0%|          | 0/116 [00:00<?, ?it/s]"
      ]
     },
     "metadata": {},
     "output_type": "display_data"
    }
   ],
   "source": [
    "for idx, row in tqdm(df_results.iterrows(),total=len(df_results)):\n",
    "    if row[\"pred_elaboration\"]==\"\":\n",
    "        input_text = f\"Context: {row['source_text']}\"\n",
    "        response = generator(input_text, stopping_criteria=stopping_criteria)\n",
    "        df_results.at[idx,\"pred_elaboration\"] = response[0][\"generated_text\"]"
   ]
  },
  {
   "cell_type": "markdown",
   "id": "ba68c018-360a-41dc-9877-4e52a5aa7d5f",
   "metadata": {},
   "source": [
    "## Save results"
   ]
  },
  {
   "cell_type": "code",
   "execution_count": 16,
   "id": "99a25ce7-851d-440a-ba32-fd10cc07c70c",
   "metadata": {},
   "outputs": [
    {
     "name": "stdout",
     "output_type": "stream",
     "text": [
      "c4spo-target-sent\n"
     ]
    }
   ],
   "source": [
    "df_results.to_csv(f\"../data/gen_predictions/predictions_llama-ft-{output_name}.csv\")\n",
    "print(output_name)"
   ]
  },
  {
   "cell_type": "code",
   "execution_count": 15,
   "id": "3a343657-9d59-49ea-afa5-78aa27baf17a",
   "metadata": {},
   "outputs": [
    {
     "data": {
      "text/plain": [
       "'It is the highest court in the state.'"
      ]
     },
     "execution_count": 15,
     "metadata": {},
     "output_type": "execute_result"
    }
   ],
   "source": [
    "df_results.loc[115,\"pred_elaboration\"]"
   ]
  },
  {
   "cell_type": "code",
   "execution_count": null,
   "id": "45eec5f8-268f-4c33-8557-a98a160118ca",
   "metadata": {},
   "outputs": [],
   "source": []
  }
 ],
 "metadata": {
  "kernelspec": {
   "display_name": "Python 3 (ipykernel)",
   "language": "python",
   "name": "python3"
  },
  "language_info": {
   "codemirror_mode": {
    "name": "ipython",
    "version": 3
   },
   "file_extension": ".py",
   "mimetype": "text/x-python",
   "name": "python",
   "nbconvert_exporter": "python",
   "pygments_lexer": "ipython3",
   "version": "3.9.18"
  }
 },
 "nbformat": 4,
 "nbformat_minor": 5
}
