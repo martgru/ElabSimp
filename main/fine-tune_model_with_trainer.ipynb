{
 "cells": [
  {
   "cell_type": "markdown",
   "id": "91e1cd32-a2a1-4261-92a3-ab7406792dc3",
   "metadata": {},
   "source": [
    "# Check GPU"
   ]
  },
  {
   "cell_type": "code",
   "execution_count": 1,
   "id": "4b049368-bc1e-485c-b2f2-1512e8715585",
   "metadata": {},
   "outputs": [
    {
     "name": "stdout",
     "output_type": "stream",
     "text": [
      "GPU Available: True\n",
      "GPU Name: NVIDIA H100\n"
     ]
    }
   ],
   "source": [
    "import torch\n",
    "\n",
    "gpu_available = torch.cuda.is_available()\n",
    "print(f\"GPU Available: {gpu_available}\")\n",
    "\n",
    "if gpu_available:\n",
    "    gpu_name = torch.cuda.get_device_name(0)\n",
    "    print(f\"GPU Name: {gpu_name}\")"
   ]
  },
  {
   "cell_type": "markdown",
   "id": "0a256a43-5e01-41c0-b5ad-cbae7c569965",
   "metadata": {},
   "source": [
    "# Load datasets"
   ]
  },
  {
   "cell_type": "markdown",
   "id": "ce5f6960-17d5-406b-a641-300603ac8c0a",
   "metadata": {
    "jp-MarkdownHeadingCollapsed": true
   },
   "source": [
    "## SWiPE - full dataset"
   ]
  },
  {
   "cell_type": "code",
   "execution_count": 1,
   "id": "9bfb8a8d-d9fb-41e1-baef-44aa5932c0a7",
   "metadata": {},
   "outputs": [],
   "source": [
    "from datasets import Dataset, DatasetDict\n",
    "import pandas as pd\n",
    "\n",
    "train_df = pd.read_json('../data/swipe/swipe_train.json')\n",
    "val_df = pd.read_json('../data/swipe/swipe_val.json')\n",
    "test_id_df = pd.read_json('../data/swipe/swipe_test_id.json')\n",
    "test_ood_df = pd.read_json('../data/swipe/swipe_test_ood.json')\n",
    "\n",
    "train_dataset = Dataset.from_pandas(train_df[['r_content', 's_content','annotations','edits']])\n",
    "val_dataset = Dataset.from_pandas(val_df[['r_content', 's_content','annotations','edits']])\n",
    "test_id_dataset = Dataset.from_pandas(test_id_df[['r_content', 's_content','annotations','edits']])\n",
    "test_ood_dataset = Dataset.from_pandas(test_ood_df[['r_content', 's_content','annotations','edits']])\n",
    "\n",
    "swipe_full_dataset = DatasetDict({\n",
    "    'train': train_dataset,\n",
    "    'validation': val_dataset,\n",
    "    'test_id': test_id_dataset,\n",
    "    'test_ood': test_ood_dataset\n",
    "})"
   ]
  },
  {
   "cell_type": "markdown",
   "id": "c6d3f4c1-0ad8-4dfa-99d4-b9856f5f883f",
   "metadata": {},
   "source": [
    "## SWiPE - cleaned dataset"
   ]
  },
  {
   "cell_type": "code",
   "execution_count": 3,
   "id": "66ca6cee-c8eb-46cc-b270-7b6de04d8c73",
   "metadata": {},
   "outputs": [],
   "source": [
    "from datasets import load_from_disk\n",
    "\n",
    "swipe_clean_dataset = load_from_disk(\"../data/swipe_clean\")"
   ]
  },
  {
   "cell_type": "code",
   "execution_count": 4,
   "id": "c38e4e4b-6814-48a2-9a70-3a428055401f",
   "metadata": {
    "scrolled": true
   },
   "outputs": [
    {
     "data": {
      "text/plain": [
       "DatasetDict({\n",
       "    train: Dataset({\n",
       "        features: ['r_content', 's_content'],\n",
       "        num_rows: 3847\n",
       "    })\n",
       "    validation: Dataset({\n",
       "        features: ['r_content', 's_content'],\n",
       "        num_rows: 479\n",
       "    })\n",
       "    test_id: Dataset({\n",
       "        features: ['r_content', 's_content'],\n",
       "        num_rows: 483\n",
       "    })\n",
       "    test_ood: Dataset({\n",
       "        features: ['r_content', 's_content'],\n",
       "        num_rows: 368\n",
       "    })\n",
       "})"
      ]
     },
     "execution_count": 4,
     "metadata": {},
     "output_type": "execute_result"
    }
   ],
   "source": [
    "swipe_clean_dataset"
   ]
  },
  {
   "cell_type": "markdown",
   "id": "3a07818e-6234-4201-b0eb-5f91a585b06f",
   "metadata": {
    "jp-MarkdownHeadingCollapsed": true
   },
   "source": [
    "### Shuffle dataset"
   ]
  },
  {
   "cell_type": "code",
   "execution_count": 4,
   "id": "8c42ee91-9799-44c2-88fa-ee52f6c3c890",
   "metadata": {},
   "outputs": [],
   "source": [
    "from datasets import DatasetDict\n",
    "\n",
    "def shuffle_dataset_splits(dataset_dict):\n",
    "    shuffled_datasets = DatasetDict()\n",
    "    \n",
    "    for split, dataset in dataset_dict.items():\n",
    "        shuffled_datasets[split] = dataset.shuffle(seed=42)  \n",
    "\n",
    "    return shuffled_datasets\n",
    "\n",
    "shuffled_swipe_clean_dataset = shuffle_dataset_splits(swipe_clean_dataset)"
   ]
  },
  {
   "cell_type": "code",
   "execution_count": 5,
   "id": "313856d2-e722-4526-9c47-67c6fd3c72cd",
   "metadata": {},
   "outputs": [
    {
     "data": {
      "text/plain": [
       "DatasetDict({\n",
       "    train: Dataset({\n",
       "        features: ['r_content', 's_content'],\n",
       "        num_rows: 3847\n",
       "    })\n",
       "    validation: Dataset({\n",
       "        features: ['r_content', 's_content'],\n",
       "        num_rows: 479\n",
       "    })\n",
       "    test_id: Dataset({\n",
       "        features: ['r_content', 's_content'],\n",
       "        num_rows: 483\n",
       "    })\n",
       "    test_ood: Dataset({\n",
       "        features: ['r_content', 's_content'],\n",
       "        num_rows: 368\n",
       "    })\n",
       "})"
      ]
     },
     "execution_count": 5,
     "metadata": {},
     "output_type": "execute_result"
    }
   ],
   "source": [
    "shuffled_swipe_clean_dataset"
   ]
  },
  {
   "cell_type": "markdown",
   "id": "b18b315d-38ac-400c-90ee-164ba42f39cd",
   "metadata": {},
   "source": [
    "# Load the model"
   ]
  },
  {
   "cell_type": "code",
   "execution_count": 4,
   "id": "affa730c-ad55-4a0f-8d88-e3e20bef26a3",
   "metadata": {},
   "outputs": [],
   "source": [
    "from transformers import BartTokenizerFast, BartForConditionalGeneration # BartTokenizer AutoTokenizer, AutoModelForSeq2SeqLM\n",
    "import torch\n",
    "\n",
    "tokenizer = BartTokenizerFast.from_pretrained('facebook/bart-large') #use_fast=True) # BartTokenizerFast.from_pretrained('facebook/bart-large')\n",
    "model = BartForConditionalGeneration.from_pretrained('facebook/bart-large', device_map ={'':torch.cuda.current_device()})"
   ]
  },
  {
   "cell_type": "markdown",
   "id": "9cef8096-36a3-4235-91d5-676f91b5bb6c",
   "metadata": {},
   "source": [
    "## Adjust model's config"
   ]
  },
  {
   "cell_type": "code",
   "execution_count": 14,
   "id": "99dd3880-ebee-41c7-9958-34af0d5234bc",
   "metadata": {},
   "outputs": [
    {
     "name": "stdout",
     "output_type": "stream",
     "text": [
      "0.2\n"
     ]
    }
   ],
   "source": [
    "print(model.config.dropout)"
   ]
  },
  {
   "cell_type": "code",
   "execution_count": 6,
   "id": "555a5ea3-9f44-4796-b379-ab84436e5430",
   "metadata": {},
   "outputs": [
    {
     "name": "stdout",
     "output_type": "stream",
     "text": [
      "0.2\n"
     ]
    }
   ],
   "source": [
    "model.config.dropout = 0.2\n",
    "print(model.config.dropout)"
   ]
  },
  {
   "cell_type": "markdown",
   "id": "4b010416-9929-4a18-b2a6-c62d378bae77",
   "metadata": {},
   "source": [
    "## Adjust the tokenizer"
   ]
  },
  {
   "cell_type": "code",
   "execution_count": 7,
   "id": "bff10cbf-db05-4093-aab0-19f239916264",
   "metadata": {},
   "outputs": [
    {
     "data": {
      "text/plain": [
       "5"
      ]
     },
     "execution_count": 7,
     "metadata": {},
     "output_type": "execute_result"
    }
   ],
   "source": [
    "from transformers import AddedToken\n",
    "\n",
    "special_tokens_dict = {\n",
    "    'bos_token': AddedToken(\"<s>\", rstrip=False, lstrip=False, single_word=False, normalized=False, special=True),\n",
    "    'eos_token': AddedToken(\"</s>\", rstrip=False, lstrip=False, single_word=False, normalized=False, special=True),\n",
    "    'unk_token': AddedToken(\"<unk>\", rstrip=False, lstrip=False, single_word=False, normalized=False, special=True),\n",
    "    'sep_token': AddedToken(\"</s>\", rstrip=False, lstrip=False, single_word=False, normalized=False, special=True),\n",
    "    'pad_token': AddedToken(\"<pad>\", rstrip=False, lstrip=False, single_word=False, normalized=False, special=True),\n",
    "    'cls_token': AddedToken(\"<s>\", rstrip=False, lstrip=False, single_word=False, normalized=False, special=True),\n",
    "    'mask_token': AddedToken(\"<mask>\", rstrip=False, lstrip=True, single_word=False, normalized=False, special=True)\n",
    "}\n",
    "\n",
    "# add the special tokens to the tokenizer\n",
    "tokenizer.add_special_tokens(special_tokens_dict)"
   ]
  },
  {
   "cell_type": "code",
   "execution_count": 7,
   "id": "4c5c3388-5fbf-4d5d-bf62-34503c84afb0",
   "metadata": {},
   "outputs": [
    {
     "name": "stdout",
     "output_type": "stream",
     "text": [
      "{'bos_token': '<s>', 'eos_token': '</s>', 'unk_token': '<unk>', 'sep_token': '</s>', 'pad_token': '<pad>', 'cls_token': '<s>', 'mask_token': '<mask>'}\n"
     ]
    }
   ],
   "source": [
    "print(tokenizer.special_tokens_map)"
   ]
  },
  {
   "cell_type": "code",
   "execution_count": 8,
   "id": "79023be6-1513-4a64-86b6-33f4dd909f13",
   "metadata": {},
   "outputs": [
    {
     "name": "stdout",
     "output_type": "stream",
     "text": [
      "Clean up tokenization spaces: True\n"
     ]
    }
   ],
   "source": [
    "print(\"Clean up tokenization spaces:\", tokenizer.clean_up_tokenization_spaces)"
   ]
  },
  {
   "cell_type": "code",
   "execution_count": 8,
   "id": "d72db9cf-855d-4446-b5ee-d1a397ec2118",
   "metadata": {},
   "outputs": [
    {
     "name": "stdout",
     "output_type": "stream",
     "text": [
      "BartTokenizerFast(name_or_path='facebook/bart-large', vocab_size=50265, model_max_length=1024, is_fast=True, padding_side='right', truncation_side='right', special_tokens={'bos_token': '<s>', 'eos_token': '</s>', 'unk_token': '<unk>', 'sep_token': '</s>', 'pad_token': '<pad>', 'cls_token': '<s>', 'mask_token': '<mask>'}, clean_up_tokenization_spaces=True),  added_tokens_decoder={\n",
      "\t0: AddedToken(\"<s>\", rstrip=False, lstrip=False, single_word=False, normalized=False, special=True),\n",
      "\t1: AddedToken(\"<pad>\", rstrip=False, lstrip=False, single_word=False, normalized=False, special=True),\n",
      "\t2: AddedToken(\"</s>\", rstrip=False, lstrip=False, single_word=False, normalized=False, special=True),\n",
      "\t3: AddedToken(\"<unk>\", rstrip=False, lstrip=False, single_word=False, normalized=False, special=True),\n",
      "\t50264: AddedToken(\"<mask>\", rstrip=False, lstrip=True, single_word=False, normalized=False, special=True),\n",
      "}\n"
     ]
    }
   ],
   "source": [
    "print(tokenizer)"
   ]
  },
  {
   "cell_type": "markdown",
   "id": "4291fabf-f746-4c33-b411-fe9fb88027f8",
   "metadata": {},
   "source": [
    "# Tokenize the dataset"
   ]
  },
  {
   "cell_type": "code",
   "execution_count": 9,
   "id": "575e9eb8-e8df-487d-b179-18e1dd155521",
   "metadata": {},
   "outputs": [],
   "source": [
    "def tokenize_func(examples):\n",
    "    # inputs\n",
    "    inputs = tokenizer(examples['r_content'], truncation=True, padding=\"max_length\", max_length=512)\n",
    "    # labels\n",
    "    labels = tokenizer(examples['s_content'],truncation=True, padding=\"max_length\", max_length=512)\n",
    "    # set the labels in the input dictionary\n",
    "    inputs['labels'] = labels['input_ids']\n",
    "    return inputs"
   ]
  },
  {
   "cell_type": "markdown",
   "id": "e4bd4cd3-e6fb-43cc-a6b6-51d398623279",
   "metadata": {
    "jp-MarkdownHeadingCollapsed": true
   },
   "source": [
    "## Swipe-full"
   ]
  },
  {
   "cell_type": "code",
   "execution_count": 4,
   "id": "762f06f9-fc8f-413a-be88-67a0da806b50",
   "metadata": {},
   "outputs": [
    {
     "data": {
      "application/vnd.jupyter.widget-view+json": {
       "model_id": "d0d5c8d2557c40a298f0c4e2e63c5993",
       "version_major": 2,
       "version_minor": 0
      },
      "text/plain": [
       "Map:   0%|          | 0/3861 [00:00<?, ? examples/s]"
      ]
     },
     "metadata": {},
     "output_type": "display_data"
    },
    {
     "data": {
      "application/vnd.jupyter.widget-view+json": {
       "model_id": "21fb2b8999444ddea7a78c2e2bf2c097",
       "version_major": 2,
       "version_minor": 0
      },
      "text/plain": [
       "Map:   0%|          | 0/482 [00:00<?, ? examples/s]"
      ]
     },
     "metadata": {},
     "output_type": "display_data"
    },
    {
     "data": {
      "application/vnd.jupyter.widget-view+json": {
       "model_id": "34fbec115536489e8b8d82ac31176d88",
       "version_major": 2,
       "version_minor": 0
      },
      "text/plain": [
       "Map:   0%|          | 0/484 [00:00<?, ? examples/s]"
      ]
     },
     "metadata": {},
     "output_type": "display_data"
    },
    {
     "data": {
      "application/vnd.jupyter.widget-view+json": {
       "model_id": "8307f1fd8deb48e197b077e7d933ab19",
       "version_major": 2,
       "version_minor": 0
      },
      "text/plain": [
       "Map:   0%|          | 0/377 [00:00<?, ? examples/s]"
      ]
     },
     "metadata": {},
     "output_type": "display_data"
    }
   ],
   "source": [
    "tokenized_swipe_full_dataset = swipe_full_dataset.map(tokenize_func, batched=True)\n",
    "tokenized_swipe_full_dataset.set_format(type='torch', columns=['input_ids', 'attention_mask', 'labels'])"
   ]
  },
  {
   "cell_type": "markdown",
   "id": "262b4b8f-7182-4a0c-bf8c-4a9236117d23",
   "metadata": {},
   "source": [
    "## Swipe-clean"
   ]
  },
  {
   "cell_type": "code",
   "execution_count": 10,
   "id": "9cfee667-3b1c-4b51-8c6c-a6750b20a218",
   "metadata": {},
   "outputs": [],
   "source": [
    "tokenized_swipe_clean_dataset = swipe_clean_dataset.map(tokenize_func, batched=True)\n",
    "tokenized_swipe_clean_dataset.set_format(type='torch', columns=['input_ids', 'attention_mask', 'labels'])"
   ]
  },
  {
   "cell_type": "markdown",
   "id": "fb82db7e-ce43-4cbe-bb00-8e3936b8a1dc",
   "metadata": {},
   "source": [
    "# Fine-tune"
   ]
  },
  {
   "cell_type": "code",
   "execution_count": 11,
   "id": "cb6f5d17-c027-40e4-830a-2be9717a2d5e",
   "metadata": {},
   "outputs": [],
   "source": [
    "dataset = swipe_clean_dataset \n",
    "tokenized_dataset = tokenized_swipe_clean_dataset "
   ]
  },
  {
   "cell_type": "code",
   "execution_count": 14,
   "id": "695712c8-94fe-43e2-9ccc-43694b4ff80a",
   "metadata": {},
   "outputs": [
    {
     "name": "stdout",
     "output_type": "stream",
     "text": [
      "Max input length: 512\n",
      "Max label length: 512\n"
     ]
    }
   ],
   "source": [
    "max_input_length = max([len(i) for i in tokenized_dataset['train']['input_ids']])\n",
    "max_label_length = max([len(l) for l in tokenized_dataset['train']['labels']])\n",
    "\n",
    "print(f\"Max input length: {max_input_length}\")\n",
    "print(f\"Max label length: {max_label_length}\")"
   ]
  },
  {
   "cell_type": "code",
   "execution_count": 41,
   "id": "53d32466-c48a-4973-b2ea-e420e9861e10",
   "metadata": {},
   "outputs": [],
   "source": [
    "from transformers import DataCollatorForSeq2Seq\n",
    "\n",
    "data_collator = DataCollatorForSeq2Seq(tokenizer=tokenizer, model=model)"
   ]
  },
  {
   "cell_type": "code",
   "execution_count": 12,
   "id": "adc42df3-e6b4-4aa5-aac3-19061efaefba",
   "metadata": {},
   "outputs": [],
   "source": [
    "import os \n",
    "# disable parallelism warnings\n",
    "os.environ[\"TOKENIZERS_PARALLELISM\"] = \"false\""
   ]
  },
  {
   "cell_type": "markdown",
   "id": "fe35916e-925c-493e-a0f5-91bfe2c24e47",
   "metadata": {},
   "source": [
    "## Seq2SeqTrainer"
   ]
  },
  {
   "cell_type": "code",
   "execution_count": 13,
   "id": "f5f3ee86-9742-4dec-9180-82893b91df13",
   "metadata": {},
   "outputs": [],
   "source": [
    "from transformers import GenerationConfig\n",
    "\n",
    "generation_config = GenerationConfig(\n",
    "    bos_token_id = 0, \n",
    "    decoder_start_token_id = 2,\n",
    "    early_stopping = True,\n",
    "    eos_token_id = 2, \n",
    "    forced_bos_token_id = 0,\n",
    "    forced_eos_token_id = 2,\n",
    "    no_repeat_ngram_size = 3,\n",
    "    num_beams = 4,\n",
    "    pad_token_id = 1,\n",
    "    max_length = 200,\n",
    "    temperature = 1.5,\n",
    "    num_return_sequences=1, \n",
    "    do_sample=True\n",
    ")\n",
    "\n",
    "model.generation_config = generation_config"
   ]
  },
  {
   "cell_type": "code",
   "execution_count": 15,
   "id": "c13604fb-4e63-4e40-aa9a-f4d7f4050684",
   "metadata": {},
   "outputs": [],
   "source": [
    "from transformers import Seq2SeqTrainer, Seq2SeqTrainingArguments, EarlyStoppingCallback\n",
    "import numpy as np\n",
    "from easse.sari import corpus_sari\n",
    "\n",
    "def compute_sari(pred):\n",
    "    \n",
    "    predictions = pred.predictions\n",
    "    labels = pred.label_ids\n",
    "    \n",
    "    # decode the predictions and labels into text\n",
    "    decoded_preds = tokenizer.batch_decode(predictions, skip_special_tokens=True)\n",
    "    decoded_labels = tokenizer.batch_decode(labels, skip_special_tokens=True)\n",
    "    \n",
    "    # source texts \n",
    "    sources = tokenized_dataset['validation']['r_content']\n",
    "\n",
    "    # SARI scores\n",
    "    sari_scores = []\n",
    "    for pred, label, source in zip(decoded_preds, decoded_labels, sources):\n",
    "        sari_score = corpus_sari(\n",
    "            orig_sents=[source],  # original source sentence\n",
    "            sys_sents=[pred],     # system's generated sentence\n",
    "            refs_sents=[[label]]  # reference simplified sentence\n",
    "        )\n",
    "        sari_scores.append(sari_score)\n",
    "    \n",
    "    # average SARI score across all examples\n",
    "    avg_sari = np.mean(sari_scores)\n",
    "    return {\"sari\": avg_sari}\n",
    "\n",
    "model.train()\n",
    "\n",
    "training_args = Seq2SeqTrainingArguments(\n",
    "    output_dir=\"../models/bart-swipe-ft/results/results-swipe-clean-bart-tokenizer-fast-512-seq2seqtrainer-pred-with-gen-best-loss_dropout0.2\",\n",
    "    eval_strategy=\"epoch\",\n",
    "    save_strategy = \"epoch\",\n",
    "    logging_strategy=\"steps\",\n",
    "    logging_steps=150,\n",
    "    learning_rate=2e-5,\n",
    "    per_device_train_batch_size=6,\n",
    "    per_device_eval_batch_size=6, \n",
    "    num_train_epochs=3,\n",
    "    save_total_limit=3,\n",
    "    weight_decay=0.01,\n",
    "    warmup_steps = 2,\n",
    "    #gradient_accumulation_steps=2,\n",
    "    optim = \"paged_adamw_8bit\",\n",
    "    load_best_model_at_end=True,\n",
    "    fp16=True,\n",
    "    logging_dir=\"../models/bart-swipe-ft/logs/logs-swipe-clean-bart-tokenizer-fast-512-seq2seqtrainer-pred-with-gen-best-loss_dropout0.2\",\n",
    "    predict_with_generate=True,\n",
    "    metric_for_best_model='loss'\n",
    ")\n",
    "\n",
    "\n",
    "trainer = Seq2SeqTrainer(\n",
    "    model=model,\n",
    "    args=training_args,\n",
    "    train_dataset=tokenized_dataset['train'],\n",
    "    eval_dataset=tokenized_dataset['validation'],\n",
    "    tokenizer=tokenizer,\n",
    "    compute_metrics=compute_sari,\n",
    "    callbacks=[EarlyStoppingCallback(early_stopping_patience=3)]\n",
    ")\n",
    "\n",
    "model.config.use_cache = False"
   ]
  },
  {
   "cell_type": "code",
   "execution_count": 16,
   "id": "c0be0940-c626-4f9c-b556-8b352896565b",
   "metadata": {},
   "outputs": [
    {
     "data": {
      "text/html": [
       "\n",
       "    <div>\n",
       "      \n",
       "      <progress value='1926' max='1926' style='width:300px; height:20px; vertical-align: middle;'></progress>\n",
       "      [1926/1926 11:07, Epoch 3/3]\n",
       "    </div>\n",
       "    <table border=\"1\" class=\"dataframe\">\n",
       "  <thead>\n",
       " <tr style=\"text-align: left;\">\n",
       "      <th>Epoch</th>\n",
       "      <th>Training Loss</th>\n",
       "      <th>Validation Loss</th>\n",
       "      <th>Sari</th>\n",
       "    </tr>\n",
       "  </thead>\n",
       "  <tbody>\n",
       "    <tr>\n",
       "      <td>1</td>\n",
       "      <td>0.211200</td>\n",
       "      <td>0.181588</td>\n",
       "      <td>40.261900</td>\n",
       "    </tr>\n",
       "    <tr>\n",
       "      <td>2</td>\n",
       "      <td>0.156200</td>\n",
       "      <td>0.175187</td>\n",
       "      <td>42.490640</td>\n",
       "    </tr>\n",
       "    <tr>\n",
       "      <td>3</td>\n",
       "      <td>0.133000</td>\n",
       "      <td>0.175931</td>\n",
       "      <td>42.015964</td>\n",
       "    </tr>\n",
       "  </tbody>\n",
       "</table><p>"
      ],
      "text/plain": [
       "<IPython.core.display.HTML object>"
      ]
     },
     "metadata": {},
     "output_type": "display_data"
    },
    {
     "name": "stderr",
     "output_type": "stream",
     "text": [
      "Some non-default generation parameters are set in the model config. These should go into a GenerationConfig file (https://huggingface.co/docs/transformers/generation_strategies#save-a-custom-decoding-strategy-with-your-model) instead. This warning will be raised to an exception in v4.41.\n",
      "Non-default generation parameters: {'early_stopping': True, 'num_beams': 4, 'no_repeat_ngram_size': 3, 'forced_bos_token_id': 0, 'forced_eos_token_id': 2}\n",
      "Some non-default generation parameters are set in the model config. These should go into a GenerationConfig file (https://huggingface.co/docs/transformers/generation_strategies#save-a-custom-decoding-strategy-with-your-model) instead. This warning will be raised to an exception in v4.41.\n",
      "Non-default generation parameters: {'early_stopping': True, 'num_beams': 4, 'no_repeat_ngram_size': 3, 'forced_bos_token_id': 0, 'forced_eos_token_id': 2}\n",
      "Some non-default generation parameters are set in the model config. These should go into a GenerationConfig file (https://huggingface.co/docs/transformers/generation_strategies#save-a-custom-decoding-strategy-with-your-model) instead. This warning will be raised to an exception in v4.41.\n",
      "Non-default generation parameters: {'early_stopping': True, 'num_beams': 4, 'no_repeat_ngram_size': 3, 'forced_bos_token_id': 0, 'forced_eos_token_id': 2}\n",
      "Some non-default generation parameters are set in the model config. These should go into a GenerationConfig file (https://huggingface.co/docs/transformers/generation_strategies#save-a-custom-decoding-strategy-with-your-model) instead. This warning will be raised to an exception in v4.41.\n",
      "Non-default generation parameters: {'early_stopping': True, 'num_beams': 4, 'no_repeat_ngram_size': 3, 'forced_bos_token_id': 0, 'forced_eos_token_id': 2}\n",
      "There were missing keys in the checkpoint model loaded: ['model.encoder.embed_tokens.weight', 'model.decoder.embed_tokens.weight', 'lm_head.weight'].\n"
     ]
    },
    {
     "data": {
      "text/plain": [
       "TrainOutput(global_step=1926, training_loss=0.6303604498335382, metrics={'train_runtime': 668.5668, 'train_samples_per_second': 17.262, 'train_steps_per_second': 2.881, 'total_flos': 1.2505277106487296e+16, 'train_loss': 0.6303604498335382, 'epoch': 3.0})"
      ]
     },
     "execution_count": 16,
     "metadata": {},
     "output_type": "execute_result"
    }
   ],
   "source": [
    "trainer.train()"
   ]
  },
  {
   "cell_type": "markdown",
   "id": "f850b3d1-75c0-4d7e-a5bf-d400608a8197",
   "metadata": {
    "jp-MarkdownHeadingCollapsed": true
   },
   "source": [
    "## Trainer"
   ]
  },
  {
   "cell_type": "code",
   "execution_count": 9,
   "id": "64ac9687-3e10-4b3d-adb0-5dfc1d60da41",
   "metadata": {},
   "outputs": [],
   "source": [
    "from transformers import Trainer, TrainingArguments, EarlyStoppingCallback\n",
    "\n",
    "model.train()\n",
    "\n",
    "training_args = TrainingArguments(\n",
    "    output_dir=\"../models/bart-swipe-ft/results/results-swipe-clean-bart-tokenizer-fast-512-best-metric-loss-6epochs\",\n",
    "    eval_strategy=\"epoch\", \n",
    "    save_strategy = \"epoch\", \n",
    "    logging_strategy=\"steps\",\n",
    "    logging_steps=10,\n",
    "    learning_rate=2e-5, \n",
    "    per_device_train_batch_size=6, \n",
    "    per_device_eval_batch_size=6, \n",
    "    num_train_epochs=6, \n",
    "    weight_decay=0.01,\n",
    "    save_total_limit=3, \n",
    "    #gradient_accumulation_steps=6, # reduce memory\n",
    "    load_best_model_at_end=True, # based on valid loss\n",
    "    metric_for_best_model='loss',\n",
    "    warmup_steps = 2,\n",
    "    optim = \"paged_adamw_8bit\", # optimizer for quantization\n",
    "    fp16=True, # enable half-precision\n",
    "    logging_dir='../models/bart-swipe-ft/logs/logs-swipe-clean-bart-tokenizer-fast-512-best-metric-loss-6epochs'\n",
    ")\n",
    "\n",
    "\n",
    "trainer = Trainer(\n",
    "    model=model,\n",
    "    args=training_args,\n",
    "    train_dataset=tokenized_dataset['train'],\n",
    "    eval_dataset=tokenized_dataset['validation'],\n",
    "    tokenizer=tokenizer,\n",
    "    #data_collator=data_collator,\n",
    "    callbacks=[EarlyStoppingCallback(early_stopping_patience=3)]\n",
    ")\n",
    "\n",
    "model.config.use_cache = False"
   ]
  },
  {
   "cell_type": "code",
   "execution_count": 10,
   "id": "f1ad1efd-de82-495f-ae4b-fb30eed738a9",
   "metadata": {},
   "outputs": [
    {
     "data": {
      "text/html": [
       "\n",
       "    <div>\n",
       "      \n",
       "      <progress value='3210' max='3852' style='width:300px; height:20px; vertical-align: middle;'></progress>\n",
       "      [3210/3852 06:00 < 01:12, 8.89 it/s, Epoch 5/6]\n",
       "    </div>\n",
       "    <table border=\"1\" class=\"dataframe\">\n",
       "  <thead>\n",
       " <tr style=\"text-align: left;\">\n",
       "      <th>Epoch</th>\n",
       "      <th>Training Loss</th>\n",
       "      <th>Validation Loss</th>\n",
       "    </tr>\n",
       "  </thead>\n",
       "  <tbody>\n",
       "    <tr>\n",
       "      <td>1</td>\n",
       "      <td>0.184800</td>\n",
       "      <td>0.183244</td>\n",
       "    </tr>\n",
       "    <tr>\n",
       "      <td>2</td>\n",
       "      <td>0.268700</td>\n",
       "      <td>0.178688</td>\n",
       "    </tr>\n",
       "    <tr>\n",
       "      <td>3</td>\n",
       "      <td>0.128100</td>\n",
       "      <td>0.179753</td>\n",
       "    </tr>\n",
       "    <tr>\n",
       "      <td>4</td>\n",
       "      <td>0.146400</td>\n",
       "      <td>0.182407</td>\n",
       "    </tr>\n",
       "    <tr>\n",
       "      <td>5</td>\n",
       "      <td>0.093200</td>\n",
       "      <td>0.186235</td>\n",
       "    </tr>\n",
       "  </tbody>\n",
       "</table><p>"
      ],
      "text/plain": [
       "<IPython.core.display.HTML object>"
      ]
     },
     "metadata": {},
     "output_type": "display_data"
    },
    {
     "name": "stderr",
     "output_type": "stream",
     "text": [
      "Some non-default generation parameters are set in the model config. These should go into a GenerationConfig file (https://huggingface.co/docs/transformers/generation_strategies#save-a-custom-decoding-strategy-with-your-model) instead. This warning will be raised to an exception in v4.41.\n",
      "Non-default generation parameters: {'early_stopping': True, 'num_beams': 4, 'no_repeat_ngram_size': 3, 'forced_bos_token_id': 0, 'forced_eos_token_id': 2}\n",
      "Your generation config was originally created from the model config, but the model config has changed since then. Unless you pass the `generation_config` argument to this model's `generate` calls, they will revert to the legacy behavior where the base `generate` parameterization is loaded from the model config instead. To avoid this behavior and this warning, we recommend you to overwrite the generation config model attribute before calling the model's `save_pretrained`, preferably also removing any generation kwargs from the model config. This warning will be raised to an exception in v4.41.\n",
      "Some non-default generation parameters are set in the model config. These should go into a GenerationConfig file (https://huggingface.co/docs/transformers/generation_strategies#save-a-custom-decoding-strategy-with-your-model) instead. This warning will be raised to an exception in v4.41.\n",
      "Non-default generation parameters: {'early_stopping': True, 'num_beams': 4, 'no_repeat_ngram_size': 3, 'forced_bos_token_id': 0, 'forced_eos_token_id': 2}\n",
      "Your generation config was originally created from the model config, but the model config has changed since then. Unless you pass the `generation_config` argument to this model's `generate` calls, they will revert to the legacy behavior where the base `generate` parameterization is loaded from the model config instead. To avoid this behavior and this warning, we recommend you to overwrite the generation config model attribute before calling the model's `save_pretrained`, preferably also removing any generation kwargs from the model config. This warning will be raised to an exception in v4.41.\n",
      "Some non-default generation parameters are set in the model config. These should go into a GenerationConfig file (https://huggingface.co/docs/transformers/generation_strategies#save-a-custom-decoding-strategy-with-your-model) instead. This warning will be raised to an exception in v4.41.\n",
      "Non-default generation parameters: {'early_stopping': True, 'num_beams': 4, 'no_repeat_ngram_size': 3, 'forced_bos_token_id': 0, 'forced_eos_token_id': 2}\n",
      "Your generation config was originally created from the model config, but the model config has changed since then. Unless you pass the `generation_config` argument to this model's `generate` calls, they will revert to the legacy behavior where the base `generate` parameterization is loaded from the model config instead. To avoid this behavior and this warning, we recommend you to overwrite the generation config model attribute before calling the model's `save_pretrained`, preferably also removing any generation kwargs from the model config. This warning will be raised to an exception in v4.41.\n",
      "Some non-default generation parameters are set in the model config. These should go into a GenerationConfig file (https://huggingface.co/docs/transformers/generation_strategies#save-a-custom-decoding-strategy-with-your-model) instead. This warning will be raised to an exception in v4.41.\n",
      "Non-default generation parameters: {'early_stopping': True, 'num_beams': 4, 'no_repeat_ngram_size': 3, 'forced_bos_token_id': 0, 'forced_eos_token_id': 2}\n",
      "Your generation config was originally created from the model config, but the model config has changed since then. Unless you pass the `generation_config` argument to this model's `generate` calls, they will revert to the legacy behavior where the base `generate` parameterization is loaded from the model config instead. To avoid this behavior and this warning, we recommend you to overwrite the generation config model attribute before calling the model's `save_pretrained`, preferably also removing any generation kwargs from the model config. This warning will be raised to an exception in v4.41.\n",
      "Some non-default generation parameters are set in the model config. These should go into a GenerationConfig file (https://huggingface.co/docs/transformers/generation_strategies#save-a-custom-decoding-strategy-with-your-model) instead. This warning will be raised to an exception in v4.41.\n",
      "Non-default generation parameters: {'early_stopping': True, 'num_beams': 4, 'no_repeat_ngram_size': 3, 'forced_bos_token_id': 0, 'forced_eos_token_id': 2}\n",
      "Your generation config was originally created from the model config, but the model config has changed since then. Unless you pass the `generation_config` argument to this model's `generate` calls, they will revert to the legacy behavior where the base `generate` parameterization is loaded from the model config instead. To avoid this behavior and this warning, we recommend you to overwrite the generation config model attribute before calling the model's `save_pretrained`, preferably also removing any generation kwargs from the model config. This warning will be raised to an exception in v4.41.\n",
      "There were missing keys in the checkpoint model loaded: ['model.encoder.embed_tokens.weight', 'model.decoder.embed_tokens.weight', 'lm_head.weight'].\n"
     ]
    },
    {
     "data": {
      "text/plain": [
       "TrainOutput(global_step=3210, training_loss=0.41969726685422976, metrics={'train_runtime': 361.1736, 'train_samples_per_second': 63.908, 'train_steps_per_second': 10.665, 'total_flos': 2.084212851081216e+16, 'train_loss': 0.41969726685422976, 'epoch': 5.0})"
      ]
     },
     "execution_count": 10,
     "metadata": {},
     "output_type": "execute_result"
    }
   ],
   "source": [
    "trainer.train()"
   ]
  },
  {
   "cell_type": "markdown",
   "id": "92dd8d07-9cfa-4be1-a04e-0cde9b3efc61",
   "metadata": {},
   "source": [
    "# Visualize training process"
   ]
  },
  {
   "cell_type": "code",
   "execution_count": 12,
   "id": "a95bad79-a2c8-4f36-8500-adc250ee7110",
   "metadata": {},
   "outputs": [
    {
     "name": "stdout",
     "output_type": "stream",
     "text": [
      "Steps per epoch:  641\n",
      "Logging steps:  4\n"
     ]
    }
   ],
   "source": [
    "num_samples = len(swipe_clean_dataset['train'])\n",
    "batch_size= 6\n",
    "logging_steps = 150\n",
    "print(\"Steps per epoch: \", num_samples//batch_size )\n",
    "print(\"Logging steps: \" ,num_samples//batch_size//logging_steps )"
   ]
  },
  {
   "cell_type": "code",
   "execution_count": 17,
   "id": "fd255cca-8e9a-4656-84d7-eacc986b67ee",
   "metadata": {},
   "outputs": [
    {
     "name": "stdout",
     "output_type": "stream",
     "text": [
      "Best validation loss: 0.17518660426139832\n",
      "Epoch of the best model: 2.0\n",
      "Sari score:  42.490639715645266\n"
     ]
    }
   ],
   "source": [
    "log_history = trainer.state.log_history\n",
    "eval_logs = [log for log in log_history if \"eval_loss\" in log]\n",
    "\n",
    "# the best (lowest) validation loss\n",
    "best_eval_log = min(eval_logs, key=lambda x: x[\"eval_loss\"])\n",
    "\n",
    "print(f\"Best validation loss: {best_eval_log['eval_loss']}\")\n",
    "print(f\"Epoch of the best model: {best_eval_log['epoch']}\")\n",
    "print(\"Sari score: \", best_eval_log['eval_sari'] )"
   ]
  },
  {
   "cell_type": "code",
   "execution_count": 18,
   "id": "3ae5e53a-c44f-421b-b529-3145ab06cc60",
   "metadata": {},
   "outputs": [
    {
     "data": {
      "image/png": "[encoded data removed]",
      "text/plain": [
       "<Figure size 1000x500 with 1 Axes>"
      ]
     },
     "metadata": {},
     "output_type": "display_data"
    }
   ],
   "source": [
    "import matplotlib.pyplot as plt\n",
    "\n",
    "# loss values from the log history\n",
    "train_loss = [log['loss'] for log in trainer.state.log_history if 'loss' in log]\n",
    "eval_loss = [log['eval_loss'] for log in trainer.state.log_history if 'eval_loss' in log]\n",
    "steps = range(len(train_loss))\n",
    "\n",
    "plt.figure(figsize=(10,5))\n",
    "plt.plot(steps, train_loss, label='Training Loss')\n",
    "plt.plot(steps[:len(eval_loss)], eval_loss, label='Validation Loss')\n",
    "plt.xlabel('Steps')\n",
    "plt.ylabel('Loss')\n",
    "plt.title('Loss curve')\n",
    "plt.legend()\n",
    "plt.show()"
   ]
  },
  {
   "cell_type": "markdown",
   "id": "3cd20648-c8a2-4bd0-90a9-27e90c8ca8fe",
   "metadata": {
    "jp-MarkdownHeadingCollapsed": true
   },
   "source": [
    "# Load model from checkpoint"
   ]
  },
  {
   "cell_type": "code",
   "execution_count": 10,
   "id": "4a5e7d2a-c0c1-4324-99e9-170d6fcffea0",
   "metadata": {
    "scrolled": true
   },
   "outputs": [
    {
     "data": {
      "text/plain": [
       "BartForConditionalGeneration(\n",
       "  (model): BartModel(\n",
       "    (shared): Embedding(50265, 1024, padding_idx=1)\n",
       "    (encoder): BartEncoder(\n",
       "      (embed_tokens): BartScaledWordEmbedding(50265, 1024, padding_idx=1)\n",
       "      (embed_positions): BartLearnedPositionalEmbedding(1026, 1024)\n",
       "      (layers): ModuleList(\n",
       "        (0-11): 12 x BartEncoderLayer(\n",
       "          (self_attn): BartSdpaAttention(\n",
       "            (k_proj): Linear(in_features=1024, out_features=1024, bias=True)\n",
       "            (v_proj): Linear(in_features=1024, out_features=1024, bias=True)\n",
       "            (q_proj): Linear(in_features=1024, out_features=1024, bias=True)\n",
       "            (out_proj): Linear(in_features=1024, out_features=1024, bias=True)\n",
       "          )\n",
       "          (self_attn_layer_norm): LayerNorm((1024,), eps=1e-05, elementwise_affine=True)\n",
       "          (activation_fn): GELUActivation()\n",
       "          (fc1): Linear(in_features=1024, out_features=4096, bias=True)\n",
       "          (fc2): Linear(in_features=4096, out_features=1024, bias=True)\n",
       "          (final_layer_norm): LayerNorm((1024,), eps=1e-05, elementwise_affine=True)\n",
       "        )\n",
       "      )\n",
       "      (layernorm_embedding): LayerNorm((1024,), eps=1e-05, elementwise_affine=True)\n",
       "    )\n",
       "    (decoder): BartDecoder(\n",
       "      (embed_tokens): BartScaledWordEmbedding(50265, 1024, padding_idx=1)\n",
       "      (embed_positions): BartLearnedPositionalEmbedding(1026, 1024)\n",
       "      (layers): ModuleList(\n",
       "        (0-11): 12 x BartDecoderLayer(\n",
       "          (self_attn): BartSdpaAttention(\n",
       "            (k_proj): Linear(in_features=1024, out_features=1024, bias=True)\n",
       "            (v_proj): Linear(in_features=1024, out_features=1024, bias=True)\n",
       "            (q_proj): Linear(in_features=1024, out_features=1024, bias=True)\n",
       "            (out_proj): Linear(in_features=1024, out_features=1024, bias=True)\n",
       "          )\n",
       "          (activation_fn): GELUActivation()\n",
       "          (self_attn_layer_norm): LayerNorm((1024,), eps=1e-05, elementwise_affine=True)\n",
       "          (encoder_attn): BartSdpaAttention(\n",
       "            (k_proj): Linear(in_features=1024, out_features=1024, bias=True)\n",
       "            (v_proj): Linear(in_features=1024, out_features=1024, bias=True)\n",
       "            (q_proj): Linear(in_features=1024, out_features=1024, bias=True)\n",
       "            (out_proj): Linear(in_features=1024, out_features=1024, bias=True)\n",
       "          )\n",
       "          (encoder_attn_layer_norm): LayerNorm((1024,), eps=1e-05, elementwise_affine=True)\n",
       "          (fc1): Linear(in_features=1024, out_features=4096, bias=True)\n",
       "          (fc2): Linear(in_features=4096, out_features=1024, bias=True)\n",
       "          (final_layer_norm): LayerNorm((1024,), eps=1e-05, elementwise_affine=True)\n",
       "        )\n",
       "      )\n",
       "      (layernorm_embedding): LayerNorm((1024,), eps=1e-05, elementwise_affine=True)\n",
       "    )\n",
       "  )\n",
       "  (lm_head): Linear(in_features=1024, out_features=50265, bias=False)\n",
       ")"
      ]
     },
     "execution_count": 10,
     "metadata": {},
     "output_type": "execute_result"
    }
   ],
   "source": [
    "checkpoint_dir = \"../models/bart-swipe-ft/results-swipe-clean-bart-tokenizer-fast-512-use-fast/checkpoint-1284\"\n",
    "\n",
    "loaded_model = BartForConditionalGeneration.from_pretrained(checkpoint_dir, device_map={'': torch.cuda.current_device()})\n",
    "loaded_model.eval()"
   ]
  },
  {
   "cell_type": "code",
   "execution_count": 12,
   "id": "92be1362-b20d-43c2-abf7-131eff626df7",
   "metadata": {},
   "outputs": [],
   "source": [
    "from transformers import GenerationConfig\n",
    "\n",
    "loaded_model.config.use_cache = True\n",
    "\n",
    "generation_config = GenerationConfig(\n",
    "    bos_token_id = 0, \n",
    "    decoder_start_token_id = 2,\n",
    "    early_stopping = True,\n",
    "    eos_token_id = 2, \n",
    "    forced_bos_token_id = 0,\n",
    "    forced_eos_token_id = 2,\n",
    "    no_repeat_ngram_size = 3,\n",
    "    num_beams = 4,\n",
    "    pad_token_id = 1\n",
    ")\n",
    "\n",
    "loaded_model.generation_config = generation_config"
   ]
  },
  {
   "cell_type": "markdown",
   "id": "3defc408-8b76-4263-a032-0a9930994b40",
   "metadata": {},
   "source": [
    "# Generate predictions"
   ]
  },
  {
   "cell_type": "code",
   "execution_count": 11,
   "id": "a7131d9c-a9f3-436d-9a43-02132c090bb2",
   "metadata": {},
   "outputs": [],
   "source": [
    "import difflib\n",
    "from IPython.display import display, HTML\n",
    "\n",
    "def highlight_diff(sentence1, sentence2):\n",
    "    diff = difflib.ndiff(sentence1, sentence2)\n",
    "    highlighted = []\n",
    "    \n",
    "    for char in diff:\n",
    "        if char.startswith('-'):\n",
    "            highlighted.append(f\"<span style='color:red'>{char[2:]}</span>\")\n",
    "        elif char.startswith('+'):\n",
    "            highlighted.append(f\"<span style='color:green'>{char[2:]}</span>\")\n",
    "        else:\n",
    "            highlighted.append(char[2:])\n",
    "    \n",
    "    return ''.join(highlighted)"
   ]
  },
  {
   "cell_type": "markdown",
   "id": "168498be-3fba-48ce-a26b-67bb818dfb26",
   "metadata": {
    "jp-MarkdownHeadingCollapsed": true
   },
   "source": [
    "## example"
   ]
  },
  {
   "cell_type": "code",
   "execution_count": 12,
   "id": "3de594cb-fa35-4c14-8d66-a85b4a2462fa",
   "metadata": {},
   "outputs": [],
   "source": [
    "from transformers import GenerationConfig\n",
    "\n",
    "model.config.use_cache = True\n",
    "\n",
    "generation_config = GenerationConfig(\n",
    "    bos_token_id = 0, \n",
    "    decoder_start_token_id = 2,\n",
    "    early_stopping = True,\n",
    "    eos_token_id = 2, \n",
    "    forced_bos_token_id = 0,\n",
    "    forced_eos_token_id = 2,\n",
    "    no_repeat_ngram_size = 3,\n",
    "    num_beams = 4,\n",
    "    pad_token_id = 1\n",
    ")\n",
    "\n",
    "model.generation_config = generation_config"
   ]
  },
  {
   "cell_type": "code",
   "execution_count": 17,
   "id": "c1f2f824-d15d-4248-886f-84f62902e443",
   "metadata": {},
   "outputs": [
    {
     "name": "stdout",
     "output_type": "stream",
     "text": [
      "Original: Russian (Russkij yazyk, Русский язык) is the most widely spoken of the Slavic languages. It is primarily spoken in Russia and other nations of the former Soviet Union, and was also widely taught in schools in member countries of the Warsaw Pact. In Soviet times, Russian was often strongly promoted to the detriment of other local languages. While many of the countries of the former Soviet Union are now promoting their local languages rather than Russian, Russian remains widely spoken in these areas and is often used for intercommunication between these countries. Russian is one of the official languages of the United Nations. Russian is written using the Cyrillic alphabet. Russenorsk is a pidgin language combining Russian and Norwegian. See also: Common phrases in different languages See also: Languages of China --\n",
      "\n",
      "Simplified: \n",
      "Russian (Russkij yazyk, Русский язык) is the most widely spoken of the Slavic languages. It is primarily spoken in Russia and other nations of the former Soviet Union, and was also widely taught in schools in member countries of the Warsaw Pact. In Soviet times, Russian was often strongly promoted to the detriment of other local languages. While many of the countries of Russia and Ukraine are now promoting their local languages rather than Russian, Russian remains widely spoken in these areas and is often used for intercommunication between these countries. Russian is one of the official languages of the United Nations.\n",
      "\n",
      "Simplified (highlighted): \n"
     ]
    },
    {
     "data": {
      "text/html": [
       "Russian (Russkij yazyk, Русский язык) is the most widely spoken of the Slavic languages. It is primarily spoken in Russia and other nations of the former Soviet Union, and was also widely taught in schools in member countries of the Warsaw Pact. In Soviet times, Russian was often strongly promoted to the detriment of other local languages. While many of the countries of <span style='color:green'>R</span><span style='color:green'>u</span><span style='color:green'>s</span><span style='color:green'>s</span><span style='color:red'>t</span><span style='color:red'>h</span><span style='color:red'>e</span><span style='color:red'> </span><span style='color:red'>f</span><span style='color:red'>o</span><span style='color:red'>r</span><span style='color:red'>m</span><span style='color:red'>e</span><span style='color:red'>r</span><span style='color:red'> </span><span style='color:red'>S</span><span style='color:red'>o</span><span style='color:red'>v</span>i<span style='color:red'>e</span><span style='color:red'>t</span><span style='color:green'>a</span><span style='color:green'> </span><span style='color:green'>a</span><span style='color:green'>n</span><span style='color:green'>d</span> U<span style='color:red'>n</span><span style='color:green'>k</span><span style='color:green'>r</span><span style='color:green'>a</span>i<span style='color:red'>o</span>n<span style='color:green'>e</span> are now promoting their local languages rather than Russian, Russian remains widely spoken in these areas and is often used for intercommunication between these countries. Russian is one of the official languages of the United Nations.<span style='color:red'> </span><span style='color:red'>R</span><span style='color:red'>u</span><span style='color:red'>s</span><span style='color:red'>s</span><span style='color:red'>i</span><span style='color:red'>a</span><span style='color:red'>n</span><span style='color:red'> </span><span style='color:red'>i</span><span style='color:red'>s</span><span style='color:red'> </span><span style='color:red'>w</span><span style='color:red'>r</span><span style='color:red'>i</span><span style='color:red'>t</span><span style='color:red'>t</span><span style='color:red'>e</span><span style='color:red'>n</span><span style='color:red'> </span><span style='color:red'>u</span><span style='color:red'>s</span><span style='color:red'>i</span><span style='color:red'>n</span><span style='color:red'>g</span><span style='color:red'> </span><span style='color:red'>t</span><span style='color:red'>h</span><span style='color:red'>e</span><span style='color:red'> </span><span style='color:red'>C</span><span style='color:red'>y</span><span style='color:red'>r</span><span style='color:red'>i</span><span style='color:red'>l</span><span style='color:red'>l</span><span style='color:red'>i</span><span style='color:red'>c</span><span style='color:red'> </span><span style='color:red'>a</span><span style='color:red'>l</span><span style='color:red'>p</span><span style='color:red'>h</span><span style='color:red'>a</span><span style='color:red'>b</span><span style='color:red'>e</span><span style='color:red'>t</span><span style='color:red'>.</span><span style='color:red'> </span><span style='color:red'>R</span><span style='color:red'>u</span><span style='color:red'>s</span><span style='color:red'>s</span><span style='color:red'>e</span><span style='color:red'>n</span><span style='color:red'>o</span><span style='color:red'>r</span><span style='color:red'>s</span><span style='color:red'>k</span><span style='color:red'> </span><span style='color:red'>i</span><span style='color:red'>s</span><span style='color:red'> </span><span style='color:red'>a</span><span style='color:red'> </span><span style='color:red'>p</span><span style='color:red'>i</span><span style='color:red'>d</span><span style='color:red'>g</span><span style='color:red'>i</span><span style='color:red'>n</span><span style='color:red'> </span><span style='color:red'>l</span><span style='color:red'>a</span><span style='color:red'>n</span><span style='color:red'>g</span><span style='color:red'>u</span><span style='color:red'>a</span><span style='color:red'>g</span><span style='color:red'>e</span><span style='color:red'> </span><span style='color:red'>c</span><span style='color:red'>o</span><span style='color:red'>m</span><span style='color:red'>b</span><span style='color:red'>i</span><span style='color:red'>n</span><span style='color:red'>i</span><span style='color:red'>n</span><span style='color:red'>g</span><span style='color:red'> </span><span style='color:red'>R</span><span style='color:red'>u</span><span style='color:red'>s</span><span style='color:red'>s</span><span style='color:red'>i</span><span style='color:red'>a</span><span style='color:red'>n</span><span style='color:red'> </span><span style='color:red'>a</span><span style='color:red'>n</span><span style='color:red'>d</span><span style='color:red'> </span><span style='color:red'>N</span><span style='color:red'>o</span><span style='color:red'>r</span><span style='color:red'>w</span><span style='color:red'>e</span><span style='color:red'>g</span><span style='color:red'>i</span><span style='color:red'>a</span><span style='color:red'>n</span><span style='color:red'>.</span><span style='color:red'> </span><span style='color:red'>S</span><span style='color:red'>e</span><span style='color:red'>e</span><span style='color:red'> </span><span style='color:red'>a</span><span style='color:red'>l</span><span style='color:red'>s</span><span style='color:red'>o</span><span style='color:red'>:</span><span style='color:red'> </span><span style='color:red'>C</span><span style='color:red'>o</span><span style='color:red'>m</span><span style='color:red'>m</span><span style='color:red'>o</span><span style='color:red'>n</span><span style='color:red'> </span><span style='color:red'>p</span><span style='color:red'>h</span><span style='color:red'>r</span><span style='color:red'>a</span><span style='color:red'>s</span><span style='color:red'>e</span><span style='color:red'>s</span><span style='color:red'> </span><span style='color:red'>i</span><span style='color:red'>n</span><span style='color:red'> </span><span style='color:red'>d</span><span style='color:red'>i</span><span style='color:red'>f</span><span style='color:red'>f</span><span style='color:red'>e</span><span style='color:red'>r</span><span style='color:red'>e</span><span style='color:red'>n</span><span style='color:red'>t</span><span style='color:red'> </span><span style='color:red'>l</span><span style='color:red'>a</span><span style='color:red'>n</span><span style='color:red'>g</span><span style='color:red'>u</span><span style='color:red'>a</span><span style='color:red'>g</span><span style='color:red'>e</span><span style='color:red'>s</span><span style='color:red'> </span><span style='color:red'>S</span><span style='color:red'>e</span><span style='color:red'>e</span><span style='color:red'> </span><span style='color:red'>a</span><span style='color:red'>l</span><span style='color:red'>s</span><span style='color:red'>o</span><span style='color:red'>:</span><span style='color:red'> </span><span style='color:red'>L</span><span style='color:red'>a</span><span style='color:red'>n</span><span style='color:red'>g</span><span style='color:red'>u</span><span style='color:red'>a</span><span style='color:red'>g</span><span style='color:red'>e</span><span style='color:red'>s</span><span style='color:red'> </span><span style='color:red'>o</span><span style='color:red'>f</span><span style='color:red'> </span><span style='color:red'>C</span><span style='color:red'>h</span><span style='color:red'>i</span><span style='color:red'>n</span><span style='color:red'>a</span><span style='color:red'> </span><span style='color:red'>-</span><span style='color:red'>-</span>"
      ],
      "text/plain": [
       "<IPython.core.display.HTML object>"
      ]
     },
     "metadata": {},
     "output_type": "display_data"
    }
   ],
   "source": [
    "example = dataset['test_id'][1]  \n",
    "\n",
    "device = torch.device(\"cuda\" if torch.cuda.is_available() else \"cpu\")\n",
    "\n",
    "inputs = tokenizer(example['r_content'], return_tensors=\"pt\")\n",
    "inputs = {key: value.to(device) for key, value in inputs.items()}\n",
    "\n",
    "output_ids = model.generate(\n",
    "    **inputs, \n",
    "    max_length=200, \n",
    "    num_beams=5,\n",
    "    temperature=1.5,\n",
    "    num_return_sequences=1, \n",
    "    do_sample=True\n",
    ")\n",
    "simplified_text = tokenizer.decode(output_ids[0], skip_special_tokens=True)\n",
    "\n",
    "print(f\"Original: {example['r_content']}\", end='\\n\\n')\n",
    "print(f\"Simplified: \")\n",
    "print(simplified_text, end='\\n\\n')\n",
    "print(f\"Simplified (highlighted): \")\n",
    "display(HTML(highlight_diff(example['r_content'],simplified_text)))"
   ]
  },
  {
   "cell_type": "markdown",
   "id": "6f42e12c-7b80-4d45-bee1-051cf5d4b9eb",
   "metadata": {},
   "source": [
    "# SARI score"
   ]
  },
  {
   "cell_type": "code",
   "execution_count": 19,
   "id": "405719db-9a95-488f-a267-dc5a9545636b",
   "metadata": {},
   "outputs": [
    {
     "name": "stderr",
     "output_type": "stream",
     "text": [
      "100%|███████████████████████████████████████████| 483/483 [06:46<00:00,  1.19it/s]\n"
     ]
    }
   ],
   "source": [
    "from tqdm import tqdm\n",
    "import torch\n",
    "\n",
    "predictions = []\n",
    "\n",
    "model.eval()\n",
    "model.config.use_cache = True\n",
    "\n",
    "device = torch.device(\"cuda\" if torch.cuda.is_available() else \"cpu\")\n",
    "model.to(device)\n",
    "\n",
    "with torch.no_grad():\n",
    "    for example in tqdm(dataset['test_id']):\n",
    "        # tokenize the text\n",
    "        input_ids = tokenizer(example['r_content'], return_tensors=\"pt\") # , truncation=True, padding=\"max_length\", max_length=512)\n",
    "        # move input_ids to the same device as the model\n",
    "        input_ids = {key: value.to(device) for key, value in input_ids.items()}\n",
    "        \n",
    "        # generate prediction\n",
    "        output_ids = model.generate(**input_ids, max_length=200, temperature=1.5, num_beams=4, num_return_sequences=1, do_sample=True) # ,max_length = 512, min_length=50, length_penalty=1.0) \n",
    "        simplified_text = tokenizer.decode(output_ids[0], skip_special_tokens=True)\n",
    "        \n",
    "        predictions.append(simplified_text)"
   ]
  },
  {
   "cell_type": "code",
   "execution_count": 20,
   "id": "48bbff1e-05e5-4291-8e61-9f633a0d0ba3",
   "metadata": {},
   "outputs": [
    {
     "data": {
      "application/vnd.jupyter.widget-view+json": {
       "model_id": "b82315cab4f14ab1a35bc137ecde00b7",
       "version_major": 2,
       "version_minor": 0
      },
      "text/plain": [
       "  0%|          | 0/483 [00:00<?, ?it/s]"
      ]
     },
     "metadata": {},
     "output_type": "display_data"
    }
   ],
   "source": [
    "from tqdm.notebook import tqdm\n",
    "from easse.sari import corpus_sari\n",
    "\n",
    "\n",
    "sari_scores_easse = []\n",
    "\n",
    "for index, row in tqdm(enumerate(dataset[\"test_id\"]), total=len(dataset[\"test_id\"])):\n",
    "    r_content = row['r_content'] \n",
    "    s_content = row['s_content']\n",
    "    prediction = predictions[index] \n",
    "    \n",
    "    sari_score_easse = corpus_sari(\n",
    "        orig_sents=[r_content],\n",
    "        sys_sents=[prediction],\n",
    "        refs_sents=[[s_content]]\n",
    "    )\n",
    "    \n",
    "    sari_scores_easse.append(sari_score_easse)"
   ]
  },
  {
   "cell_type": "code",
   "execution_count": 21,
   "id": "c4a4dfad-9c9d-47a4-a10f-948187c01f42",
   "metadata": {},
   "outputs": [
    {
     "name": "stdout",
     "output_type": "stream",
     "text": [
      "Mean SARI score:\n",
      "BART-large-swipe: 42.98783900997205\n"
     ]
    }
   ],
   "source": [
    "import numpy as np\n",
    "print(\"Mean SARI score:\")\n",
    "print(f\"BART-large-swipe: {np.mean(sari_scores_easse)}\")"
   ]
  },
  {
   "cell_type": "markdown",
   "id": "d5466892-1b66-45ec-bc1b-e8bd6cbe62eb",
   "metadata": {},
   "source": [
    "# Save the model"
   ]
  },
  {
   "cell_type": "code",
   "execution_count": 13,
   "id": "1ca35569-6604-4b24-bb3e-9054759c98b1",
   "metadata": {},
   "outputs": [
    {
     "name": "stderr",
     "output_type": "stream",
     "text": [
      "Some non-default generation parameters are set in the model config. These should go into a GenerationConfig file (https://huggingface.co/docs/transformers/generation_strategies#save-a-custom-decoding-strategy-with-your-model) instead. This warning will be raised to an exception in v4.41.\n",
      "Non-default generation parameters: {'early_stopping': True, 'num_beams': 4, 'no_repeat_ngram_size': 3, 'forced_bos_token_id': 0, 'forced_eos_token_id': 2}\n"
     ]
    }
   ],
   "source": [
    "generation_config.save_pretrained(\"../models/bart-swipe-ft/model-swipe-clean-bart-tokenizer-512\")\n",
    "#tokenizer.save_pretrained(\"../models/bart-swipe-ft/model-swipe-clean\")\n",
    "model.save_pretrained(\"../models/bart-swipe-ft/model-swipe-clean-bart-tokenizer-512\")"
   ]
  }
 ],
 "metadata": {
  "kernelspec": {
   "display_name": "Python 3 (ipykernel)",
   "language": "python",
   "name": "python3"
  },
  "language_info": {
   "codemirror_mode": {
    "name": "ipython",
    "version": 3
   },
   "file_extension": ".py",
   "mimetype": "text/x-python",
   "name": "python",
   "nbconvert_exporter": "python",
   "pygments_lexer": "ipython3",
   "version": "3.9.18"
  }
 },
 "nbformat": 4,
 "nbformat_minor": 5
}
