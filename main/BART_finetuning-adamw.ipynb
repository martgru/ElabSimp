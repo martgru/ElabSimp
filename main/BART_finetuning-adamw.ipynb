{
 "cells": [
  {
   "cell_type": "markdown",
   "id": "23fa0c9c-ae74-46d0-8f02-585d6db5f630",
   "metadata": {},
   "source": [
    "# BART finetuning with AdamW optimizer\n",
    "\n",
    "-> The results are a bit worse than with those obtained with AdamW-paged 8 bit optimizer."
   ]
  },
  {
   "cell_type": "code",
   "execution_count": 2,
   "id": "2c3d9491-3134-4821-8d60-0dac7010d163",
   "metadata": {},
   "outputs": [
    {
     "name": "stdout",
     "output_type": "stream",
     "text": [
      "Total GPU Memory: 99.87 GB\n",
      "Memory in Use: 1.63 GB\n",
      "Free Memory: 2.05 GB\n"
     ]
    }
   ],
   "source": [
    "import torch\n",
    "\n",
    "if torch.cuda.is_available():\n",
    "    gpu_memory = torch.cuda.get_device_properties(0).total_memory\n",
    "    gpu_memory_in_use = torch.cuda.memory_allocated(0)\n",
    "    gpu_memory_free = torch.cuda.memory_reserved(0)\n",
    "    \n",
    "    print(f\"Total GPU Memory: {gpu_memory / 1e9:.2f} GB\")\n",
    "    print(f\"Memory in Use: {gpu_memory_in_use / 1e9:.2f} GB\")\n",
    "    print(f\"Free Memory: {gpu_memory_free / 1e9:.2f} GB\")\n",
    "else:\n",
    "    print(\"CUDA is not available\")"
   ]
  },
  {
   "cell_type": "markdown",
   "id": "bd39fae8-dbaf-4aa4-b2a3-46cb0e823307",
   "metadata": {},
   "source": [
    "# Load model and dataset"
   ]
  },
  {
   "cell_type": "code",
   "execution_count": 1,
   "id": "4192969d-950d-4e0e-9a62-e2adfea0ae2e",
   "metadata": {},
   "outputs": [],
   "source": [
    "from transformers import BartTokenizer, BartForConditionalGeneration\n",
    "import torch\n",
    "\n",
    "tokenizer = BartTokenizer.from_pretrained('facebook/bart-large', use_fast=True)\n",
    "model =  BartForConditionalGeneration.from_pretrained('facebook/bart-large', device_map ={'':torch.cuda.current_device()})"
   ]
  },
  {
   "cell_type": "code",
   "execution_count": 3,
   "id": "6c4bad0a-ecad-49cc-976a-56e20acb132e",
   "metadata": {},
   "outputs": [],
   "source": [
    "from datasets import load_from_disk\n",
    "\n",
    "tokenized_datasets = load_from_disk(\"../data/tokenized_swipe_dataset\")"
   ]
  },
  {
   "cell_type": "markdown",
   "id": "f58c6bc5-91d0-4c84-93ac-7cd53859bf6e",
   "metadata": {},
   "source": [
    "# Training"
   ]
  },
  {
   "cell_type": "code",
   "execution_count": 6,
   "id": "2bad7e9f-c1da-47c1-885d-d0d783be2080",
   "metadata": {},
   "outputs": [
    {
     "name": "stdout",
     "output_type": "stream",
     "text": [
      "Total steps:  1923\n",
      "Warmup steps:  96\n"
     ]
    }
   ],
   "source": [
    "# per_device_train_batch_size = 6\n",
    "# num_train_epochs = 3\n",
    "total_steps = (len(tokenized_datasets['train']) // 6) * 3\n",
    "print(\"Total steps: \" ,total_steps)\n",
    "warmup_steps = int(total_steps * 0.05) \n",
    "print(\"Warmup steps: \", warmup_steps)"
   ]
  },
  {
   "cell_type": "code",
   "execution_count": 8,
   "id": "f7fce7e4-f201-4e99-a28e-4f7201593a0e",
   "metadata": {},
   "outputs": [
    {
     "name": "stderr",
     "output_type": "stream",
     "text": [
      "You are adding a <class 'transformers.integrations.integration_utils.TensorBoardCallback'> to the callbacks of this Trainer, but there is already one. The currentlist of callbacks is\n",
      ":DefaultFlowCallback\n",
      "TensorBoardCallback\n"
     ]
    }
   ],
   "source": [
    "from transformers import Trainer, TrainingArguments, EarlyStoppingCallback\n",
    "from transformers.integrations import TensorBoardCallback\n",
    "\n",
    "training_args = TrainingArguments(\n",
    "    output_dir=\"../models/bart-swipe/results-adamw\",\n",
    "    eval_strategy=\"epoch\", \n",
    "    save_strategy = \"epoch\", \n",
    "    logging_strategy=\"steps\",\n",
    "    logging_steps=10,\n",
    "    learning_rate=2e-5, \n",
    "    per_device_train_batch_size=6, # 6 -> 4 2 \n",
    "    per_device_eval_batch_size=6, # 6 -> 4 2\n",
    "    num_train_epochs=3, # 3 -> 10 -> 20\n",
    "    weight_decay=0.01,\n",
    "    save_total_limit=3, \n",
    "    #gradient_accumulation_steps=6, # reduce memory\n",
    "    load_best_model_at_end=True, # based on valid loss\n",
    "    warmup_steps = 96, # 2 -> 96\n",
    "    optim = \"adamw_torch\", # AdamW \n",
    "    fp16=True, # enable half-precision\n",
    "    logging_dir='../models/bart-swipe/logs-adamw'\n",
    ")\n",
    "\n",
    "\n",
    "trainer = Trainer(\n",
    "    model=model,\n",
    "    args=training_args,\n",
    "    train_dataset=tokenized_datasets['train'],\n",
    "    eval_dataset=tokenized_datasets['validation'],\n",
    "    tokenizer=tokenizer,\n",
    "    callbacks=[TensorBoardCallback(), EarlyStoppingCallback(early_stopping_patience=3)]\n",
    "    #compute_metrics=compute_metrics,\n",
    "    #data_collator=data_collator\n",
    ")\n",
    "\n",
    "# silence warnings\n",
    "model.config.use_cache = False"
   ]
  },
  {
   "cell_type": "code",
   "execution_count": 9,
   "id": "cee69015-d9b6-4376-b740-580136ebd2cd",
   "metadata": {},
   "outputs": [
    {
     "data": {
      "text/html": [
       "\n",
       "    <div>\n",
       "      \n",
       "      <progress value='160' max='80' style='width:300px; height:20px; vertical-align: middle;'></progress>\n",
       "      [80/80 01:14]\n",
       "    </div>\n",
       "    "
      ],
      "text/plain": [
       "<IPython.core.display.HTML object>"
      ]
     },
     "metadata": {},
     "output_type": "display_data"
    },
    {
     "data": {
      "text/plain": [
       "{'eval_loss': 18.412118911743164,\n",
       " 'eval_runtime': 3.0496,\n",
       " 'eval_samples_per_second': 157.071,\n",
       " 'eval_steps_per_second': 26.233}"
      ]
     },
     "execution_count": 9,
     "metadata": {},
     "output_type": "execute_result"
    }
   ],
   "source": [
    "trainer.evaluate()"
   ]
  },
  {
   "cell_type": "code",
   "execution_count": 10,
   "id": "84248786-c10d-4e9a-a28c-bdecf84cc012",
   "metadata": {},
   "outputs": [
    {
     "data": {
      "text/html": [
       "\n",
       "    <div>\n",
       "      \n",
       "      <progress value='1926' max='1926' style='width:300px; height:20px; vertical-align: middle;'></progress>\n",
       "      [1926/1926 03:28, Epoch 3/3]\n",
       "    </div>\n",
       "    <table border=\"1\" class=\"dataframe\">\n",
       "  <thead>\n",
       " <tr style=\"text-align: left;\">\n",
       "      <th>Epoch</th>\n",
       "      <th>Training Loss</th>\n",
       "      <th>Validation Loss</th>\n",
       "    </tr>\n",
       "  </thead>\n",
       "  <tbody>\n",
       "    <tr>\n",
       "      <td>1</td>\n",
       "      <td>0.184500</td>\n",
       "      <td>0.182117</td>\n",
       "    </tr>\n",
       "    <tr>\n",
       "      <td>2</td>\n",
       "      <td>0.270100</td>\n",
       "      <td>0.176973</td>\n",
       "    </tr>\n",
       "    <tr>\n",
       "      <td>3</td>\n",
       "      <td>0.133300</td>\n",
       "      <td>0.175351</td>\n",
       "    </tr>\n",
       "  </tbody>\n",
       "</table><p>"
      ],
      "text/plain": [
       "<IPython.core.display.HTML object>"
      ]
     },
     "metadata": {},
     "output_type": "display_data"
    },
    {
     "name": "stderr",
     "output_type": "stream",
     "text": [
      "Some non-default generation parameters are set in the model config. These should go into a GenerationConfig file (https://huggingface.co/docs/transformers/generation_strategies#save-a-custom-decoding-strategy-with-your-model) instead. This warning will be raised to an exception in v4.41.\n",
      "Non-default generation parameters: {'early_stopping': True, 'num_beams': 4, 'no_repeat_ngram_size': 3, 'forced_bos_token_id': 0, 'forced_eos_token_id': 2}\n",
      "Your generation config was originally created from the model config, but the model config has changed since then. Unless you pass the `generation_config` argument to this model's `generate` calls, they will revert to the legacy behavior where the base `generate` parameterization is loaded from the model config instead. To avoid this behavior and this warning, we recommend you to overwrite the generation config model attribute before calling the model's `save_pretrained`, preferably also removing any generation kwargs from the model config. This warning will be raised to an exception in v4.41.\n",
      "Some non-default generation parameters are set in the model config. These should go into a GenerationConfig file (https://huggingface.co/docs/transformers/generation_strategies#save-a-custom-decoding-strategy-with-your-model) instead. This warning will be raised to an exception in v4.41.\n",
      "Non-default generation parameters: {'early_stopping': True, 'num_beams': 4, 'no_repeat_ngram_size': 3, 'forced_bos_token_id': 0, 'forced_eos_token_id': 2}\n",
      "Your generation config was originally created from the model config, but the model config has changed since then. Unless you pass the `generation_config` argument to this model's `generate` calls, they will revert to the legacy behavior where the base `generate` parameterization is loaded from the model config instead. To avoid this behavior and this warning, we recommend you to overwrite the generation config model attribute before calling the model's `save_pretrained`, preferably also removing any generation kwargs from the model config. This warning will be raised to an exception in v4.41.\n",
      "Some non-default generation parameters are set in the model config. These should go into a GenerationConfig file (https://huggingface.co/docs/transformers/generation_strategies#save-a-custom-decoding-strategy-with-your-model) instead. This warning will be raised to an exception in v4.41.\n",
      "Non-default generation parameters: {'early_stopping': True, 'num_beams': 4, 'no_repeat_ngram_size': 3, 'forced_bos_token_id': 0, 'forced_eos_token_id': 2}\n",
      "Your generation config was originally created from the model config, but the model config has changed since then. Unless you pass the `generation_config` argument to this model's `generate` calls, they will revert to the legacy behavior where the base `generate` parameterization is loaded from the model config instead. To avoid this behavior and this warning, we recommend you to overwrite the generation config model attribute before calling the model's `save_pretrained`, preferably also removing any generation kwargs from the model config. This warning will be raised to an exception in v4.41.\n",
      "Some non-default generation parameters are set in the model config. These should go into a GenerationConfig file (https://huggingface.co/docs/transformers/generation_strategies#save-a-custom-decoding-strategy-with-your-model) instead. This warning will be raised to an exception in v4.41.\n",
      "Non-default generation parameters: {'early_stopping': True, 'num_beams': 4, 'no_repeat_ngram_size': 3, 'forced_bos_token_id': 0, 'forced_eos_token_id': 2}\n",
      "Your generation config was originally created from the model config, but the model config has changed since then. Unless you pass the `generation_config` argument to this model's `generate` calls, they will revert to the legacy behavior where the base `generate` parameterization is loaded from the model config instead. To avoid this behavior and this warning, we recommend you to overwrite the generation config model attribute before calling the model's `save_pretrained`, preferably also removing any generation kwargs from the model config. This warning will be raised to an exception in v4.41.\n",
      "There were missing keys in the checkpoint model loaded: ['model.encoder.embed_tokens.weight', 'model.decoder.embed_tokens.weight', 'lm_head.weight'].\n"
     ]
    },
    {
     "data": {
      "text/plain": [
       "TrainOutput(global_step=1926, training_loss=0.8346653602019277, metrics={'train_runtime': 208.3712, 'train_samples_per_second': 55.387, 'train_steps_per_second': 9.243, 'total_flos': 1.2505277106487296e+16, 'train_loss': 0.8346653602019277, 'epoch': 3.0})"
      ]
     },
     "execution_count": 10,
     "metadata": {},
     "output_type": "execute_result"
    }
   ],
   "source": [
    "trainer.train()"
   ]
  },
  {
   "cell_type": "code",
   "execution_count": 11,
   "id": "52604a71-208f-401d-be31-272598333efd",
   "metadata": {},
   "outputs": [
    {
     "name": "stdout",
     "output_type": "stream",
     "text": [
      "Total GPU Memory: 99.87 GB\n",
      "Memory in Use: 4.94 GB\n",
      "Free Memory: 12.79 GB\n"
     ]
    }
   ],
   "source": [
    "import torch\n",
    "\n",
    "if torch.cuda.is_available():\n",
    "    gpu_memory = torch.cuda.get_device_properties(0).total_memory\n",
    "    gpu_memory_in_use = torch.cuda.memory_allocated(0)\n",
    "    gpu_memory_free = torch.cuda.memory_reserved(0)\n",
    "    \n",
    "    print(f\"Total GPU Memory: {gpu_memory / 1e9:.2f} GB\")\n",
    "    print(f\"Memory in Use: {gpu_memory_in_use / 1e9:.2f} GB\")\n",
    "    print(f\"Free Memory: {gpu_memory_free / 1e9:.2f} GB\")\n",
    "else:\n",
    "    print(\"CUDA is not available\")"
   ]
  },
  {
   "cell_type": "markdown",
   "id": "581d4e81-19c4-46b9-9639-4300cb23927c",
   "metadata": {},
   "source": [
    "# Visualize training process"
   ]
  },
  {
   "cell_type": "code",
   "execution_count": 12,
   "id": "5c86551d-33ee-48ed-8dd9-bedc0734f92c",
   "metadata": {},
   "outputs": [
    {
     "data": {
      "image/png": "[encoded data removed]",
      "text/plain": [
       "<Figure size 1000x500 with 1 Axes>"
      ]
     },
     "metadata": {},
     "output_type": "display_data"
    }
   ],
   "source": [
    "import matplotlib.pyplot as plt\n",
    "\n",
    "# loss values from the log history\n",
    "train_loss = [log['loss'] for log in trainer.state.log_history if 'loss' in log]\n",
    "eval_loss = [log['eval_loss'] for log in trainer.state.log_history if 'eval_loss' in log]\n",
    "steps = range(len(train_loss))\n",
    "\n",
    "plt.figure(figsize=(10,5))\n",
    "plt.plot(steps, train_loss, label='Training Loss')\n",
    "plt.plot(steps[:len(eval_loss)], eval_loss, label='Validation Loss')\n",
    "plt.xlabel('Steps')\n",
    "plt.ylabel('Loss')\n",
    "plt.title('Loss curve')\n",
    "plt.legend()\n",
    "plt.show()"
   ]
  },
  {
   "cell_type": "markdown",
   "id": "ea3ea63e-8319-4feb-9426-aaec40079af2",
   "metadata": {},
   "source": [
    "# Generate predictions"
   ]
  },
  {
   "cell_type": "code",
   "execution_count": 14,
   "id": "fe9be020-4884-4639-955c-ae9ef74f5605",
   "metadata": {},
   "outputs": [],
   "source": [
    "import difflib\n",
    "from IPython.display import display, HTML\n",
    "\n",
    "def highlight_diff(sentence1, sentence2):\n",
    "    diff = difflib.ndiff(sentence1, sentence2)\n",
    "    highlighted = []\n",
    "    \n",
    "    for char in diff:\n",
    "        if char.startswith('-'):\n",
    "            highlighted.append(f\"<span style='color:red'>{char[2:]}</span>\")\n",
    "        elif char.startswith('+'):\n",
    "            highlighted.append(f\"<span style='color:green'>{char[2:]}</span>\")\n",
    "        else:\n",
    "            highlighted.append(char[2:])\n",
    "    \n",
    "    return ''.join(highlighted)"
   ]
  },
  {
   "cell_type": "code",
   "execution_count": 13,
   "id": "aa82aefb-4706-485b-979d-df18a3b579f4",
   "metadata": {},
   "outputs": [],
   "source": [
    "from datasets import load_from_disk\n",
    "import pandas as pd\n",
    "\n",
    "# load-in a cleaned dataset\n",
    "swipe_dataset = load_from_disk(\"../data/swipe_clean\")"
   ]
  },
  {
   "cell_type": "code",
   "execution_count": 15,
   "id": "da82dcaa-9900-4ac9-9647-9b7345a0e562",
   "metadata": {},
   "outputs": [
    {
     "name": "stderr",
     "output_type": "stream",
     "text": [
      "/home/6/ud03926/nlp/lib64/python3.9/site-packages/transformers/generation/utils.py:1364: UserWarning: You have modified the pretrained model configuration to control generation. This is a deprecated strategy to control generation and will be removed soon, in a future version. Please use and modify the model generation configuration (see https://huggingface.co/docs/transformers/generation_strategies#default-text-generation-configuration )\n",
      "  warnings.warn(\n"
     ]
    },
    {
     "name": "stdout",
     "output_type": "stream",
     "text": [
      "Original: Russian (Russkij yazyk, Русский язык) is the most widely spoken of the Slavic languages. It is primarily spoken in Russia and other nations of the former Soviet Union, and was also widely taught in schools in member countries of the Warsaw Pact. In Soviet times, Russian was often strongly promoted to the detriment of other local languages. While many of the countries of the former Soviet Union are now promoting their local languages rather than Russian, Russian remains widely spoken in these areas and is often used for intercommunication between these countries. Russian is one of the official languages of the United Nations. Russian is written using the Cyrillic alphabet. Russenorsk is a pidgin language combining Russian and Norwegian. See also: Common phrases in different languages See also: Languages of China --\n",
      "\n",
      "Simplified: \n",
      "Russian (Russkij yazyk, Русский язык) is the most widely spoken of the Slavic languages. It is primarily spoken in Russia and other nations of the former Soviet Union, and was also widely taught in schools in member countries of the Warsaw Pact. Russian is written using the Cyrillic alphabet. In Soviet times, Russian was often strongly promoted to the detriment of other local languages.\n",
      "\n",
      "Simplified (highlighted): \n"
     ]
    },
    {
     "data": {
      "text/html": [
       "Russian (Russkij yazyk, Русский язык) is the most widely spoken of the Slavic languages. It is primarily spoken in Russia and other nations of the former Soviet Union, and was also widely taught in schools in member countries of the Warsaw Pact. <span style='color:green'>R</span><span style='color:green'>u</span><span style='color:green'>s</span><span style='color:green'>s</span><span style='color:green'>i</span><span style='color:green'>a</span><span style='color:green'>n</span><span style='color:green'> </span><span style='color:green'>i</span><span style='color:green'>s</span><span style='color:green'> </span><span style='color:green'>w</span><span style='color:green'>r</span><span style='color:green'>i</span><span style='color:green'>t</span><span style='color:green'>t</span><span style='color:green'>e</span><span style='color:green'>n</span><span style='color:green'> </span><span style='color:green'>u</span><span style='color:green'>s</span><span style='color:green'>i</span><span style='color:green'>n</span><span style='color:green'>g</span><span style='color:green'> </span><span style='color:green'>t</span><span style='color:green'>h</span><span style='color:green'>e</span><span style='color:green'> </span><span style='color:green'>C</span><span style='color:green'>y</span><span style='color:green'>r</span><span style='color:green'>i</span><span style='color:green'>l</span><span style='color:green'>l</span><span style='color:green'>i</span><span style='color:green'>c</span><span style='color:green'> </span><span style='color:green'>a</span><span style='color:green'>l</span><span style='color:green'>p</span><span style='color:green'>h</span><span style='color:green'>a</span><span style='color:green'>b</span><span style='color:green'>e</span><span style='color:green'>t</span><span style='color:green'>.</span><span style='color:green'> </span>In Soviet times, Russian was often strongly promoted to the detriment of other local languages.<span style='color:red'> </span><span style='color:red'>W</span><span style='color:red'>h</span><span style='color:red'>i</span><span style='color:red'>l</span><span style='color:red'>e</span><span style='color:red'> </span><span style='color:red'>m</span><span style='color:red'>a</span><span style='color:red'>n</span><span style='color:red'>y</span><span style='color:red'> </span><span style='color:red'>o</span><span style='color:red'>f</span><span style='color:red'> </span><span style='color:red'>t</span><span style='color:red'>h</span><span style='color:red'>e</span><span style='color:red'> </span><span style='color:red'>c</span><span style='color:red'>o</span><span style='color:red'>u</span><span style='color:red'>n</span><span style='color:red'>t</span><span style='color:red'>r</span><span style='color:red'>i</span><span style='color:red'>e</span><span style='color:red'>s</span><span style='color:red'> </span><span style='color:red'>o</span><span style='color:red'>f</span><span style='color:red'> </span><span style='color:red'>t</span><span style='color:red'>h</span><span style='color:red'>e</span><span style='color:red'> </span><span style='color:red'>f</span><span style='color:red'>o</span><span style='color:red'>r</span><span style='color:red'>m</span><span style='color:red'>e</span><span style='color:red'>r</span><span style='color:red'> </span><span style='color:red'>S</span><span style='color:red'>o</span><span style='color:red'>v</span><span style='color:red'>i</span><span style='color:red'>e</span><span style='color:red'>t</span><span style='color:red'> </span><span style='color:red'>U</span><span style='color:red'>n</span><span style='color:red'>i</span><span style='color:red'>o</span><span style='color:red'>n</span><span style='color:red'> </span><span style='color:red'>a</span><span style='color:red'>r</span><span style='color:red'>e</span><span style='color:red'> </span><span style='color:red'>n</span><span style='color:red'>o</span><span style='color:red'>w</span><span style='color:red'> </span><span style='color:red'>p</span><span style='color:red'>r</span><span style='color:red'>o</span><span style='color:red'>m</span><span style='color:red'>o</span><span style='color:red'>t</span><span style='color:red'>i</span><span style='color:red'>n</span><span style='color:red'>g</span><span style='color:red'> </span><span style='color:red'>t</span><span style='color:red'>h</span><span style='color:red'>e</span><span style='color:red'>i</span><span style='color:red'>r</span><span style='color:red'> </span><span style='color:red'>l</span><span style='color:red'>o</span><span style='color:red'>c</span><span style='color:red'>a</span><span style='color:red'>l</span><span style='color:red'> </span><span style='color:red'>l</span><span style='color:red'>a</span><span style='color:red'>n</span><span style='color:red'>g</span><span style='color:red'>u</span><span style='color:red'>a</span><span style='color:red'>g</span><span style='color:red'>e</span><span style='color:red'>s</span><span style='color:red'> </span><span style='color:red'>r</span><span style='color:red'>a</span><span style='color:red'>t</span><span style='color:red'>h</span><span style='color:red'>e</span><span style='color:red'>r</span><span style='color:red'> </span><span style='color:red'>t</span><span style='color:red'>h</span><span style='color:red'>a</span><span style='color:red'>n</span><span style='color:red'> </span><span style='color:red'>R</span><span style='color:red'>u</span><span style='color:red'>s</span><span style='color:red'>s</span><span style='color:red'>i</span><span style='color:red'>a</span><span style='color:red'>n</span><span style='color:red'>,</span><span style='color:red'> </span><span style='color:red'>R</span><span style='color:red'>u</span><span style='color:red'>s</span><span style='color:red'>s</span><span style='color:red'>i</span><span style='color:red'>a</span><span style='color:red'>n</span><span style='color:red'> </span><span style='color:red'>r</span><span style='color:red'>e</span><span style='color:red'>m</span><span style='color:red'>a</span><span style='color:red'>i</span><span style='color:red'>n</span><span style='color:red'>s</span><span style='color:red'> </span><span style='color:red'>w</span><span style='color:red'>i</span><span style='color:red'>d</span><span style='color:red'>e</span><span style='color:red'>l</span><span style='color:red'>y</span><span style='color:red'> </span><span style='color:red'>s</span><span style='color:red'>p</span><span style='color:red'>o</span><span style='color:red'>k</span><span style='color:red'>e</span><span style='color:red'>n</span><span style='color:red'> </span><span style='color:red'>i</span><span style='color:red'>n</span><span style='color:red'> </span><span style='color:red'>t</span><span style='color:red'>h</span><span style='color:red'>e</span><span style='color:red'>s</span><span style='color:red'>e</span><span style='color:red'> </span><span style='color:red'>a</span><span style='color:red'>r</span><span style='color:red'>e</span><span style='color:red'>a</span><span style='color:red'>s</span><span style='color:red'> </span><span style='color:red'>a</span><span style='color:red'>n</span><span style='color:red'>d</span><span style='color:red'> </span><span style='color:red'>i</span><span style='color:red'>s</span><span style='color:red'> </span><span style='color:red'>o</span><span style='color:red'>f</span><span style='color:red'>t</span><span style='color:red'>e</span><span style='color:red'>n</span><span style='color:red'> </span><span style='color:red'>u</span><span style='color:red'>s</span><span style='color:red'>e</span><span style='color:red'>d</span><span style='color:red'> </span><span style='color:red'>f</span><span style='color:red'>o</span><span style='color:red'>r</span><span style='color:red'> </span><span style='color:red'>i</span><span style='color:red'>n</span><span style='color:red'>t</span><span style='color:red'>e</span><span style='color:red'>r</span><span style='color:red'>c</span><span style='color:red'>o</span><span style='color:red'>m</span><span style='color:red'>m</span><span style='color:red'>u</span><span style='color:red'>n</span><span style='color:red'>i</span><span style='color:red'>c</span><span style='color:red'>a</span><span style='color:red'>t</span><span style='color:red'>i</span><span style='color:red'>o</span><span style='color:red'>n</span><span style='color:red'> </span><span style='color:red'>b</span><span style='color:red'>e</span><span style='color:red'>t</span><span style='color:red'>w</span><span style='color:red'>e</span><span style='color:red'>e</span><span style='color:red'>n</span><span style='color:red'> </span><span style='color:red'>t</span><span style='color:red'>h</span><span style='color:red'>e</span><span style='color:red'>s</span><span style='color:red'>e</span><span style='color:red'> </span><span style='color:red'>c</span><span style='color:red'>o</span><span style='color:red'>u</span><span style='color:red'>n</span><span style='color:red'>t</span><span style='color:red'>r</span><span style='color:red'>i</span><span style='color:red'>e</span><span style='color:red'>s</span><span style='color:red'>.</span><span style='color:red'> </span><span style='color:red'>R</span><span style='color:red'>u</span><span style='color:red'>s</span><span style='color:red'>s</span><span style='color:red'>i</span><span style='color:red'>a</span><span style='color:red'>n</span><span style='color:red'> </span><span style='color:red'>i</span><span style='color:red'>s</span><span style='color:red'> </span><span style='color:red'>o</span><span style='color:red'>n</span><span style='color:red'>e</span><span style='color:red'> </span><span style='color:red'>o</span><span style='color:red'>f</span><span style='color:red'> </span><span style='color:red'>t</span><span style='color:red'>h</span><span style='color:red'>e</span><span style='color:red'> </span><span style='color:red'>o</span><span style='color:red'>f</span><span style='color:red'>f</span><span style='color:red'>i</span><span style='color:red'>c</span><span style='color:red'>i</span><span style='color:red'>a</span><span style='color:red'>l</span><span style='color:red'> </span><span style='color:red'>l</span><span style='color:red'>a</span><span style='color:red'>n</span><span style='color:red'>g</span><span style='color:red'>u</span><span style='color:red'>a</span><span style='color:red'>g</span><span style='color:red'>e</span><span style='color:red'>s</span><span style='color:red'> </span><span style='color:red'>o</span><span style='color:red'>f</span><span style='color:red'> </span><span style='color:red'>t</span><span style='color:red'>h</span><span style='color:red'>e</span><span style='color:red'> </span><span style='color:red'>U</span><span style='color:red'>n</span><span style='color:red'>i</span><span style='color:red'>t</span><span style='color:red'>e</span><span style='color:red'>d</span><span style='color:red'> </span><span style='color:red'>N</span><span style='color:red'>a</span><span style='color:red'>t</span><span style='color:red'>i</span><span style='color:red'>o</span><span style='color:red'>n</span><span style='color:red'>s</span><span style='color:red'>.</span><span style='color:red'> </span><span style='color:red'>R</span><span style='color:red'>u</span><span style='color:red'>s</span><span style='color:red'>s</span><span style='color:red'>i</span><span style='color:red'>a</span><span style='color:red'>n</span><span style='color:red'> </span><span style='color:red'>i</span><span style='color:red'>s</span><span style='color:red'> </span><span style='color:red'>w</span><span style='color:red'>r</span><span style='color:red'>i</span><span style='color:red'>t</span><span style='color:red'>t</span><span style='color:red'>e</span><span style='color:red'>n</span><span style='color:red'> </span><span style='color:red'>u</span><span style='color:red'>s</span><span style='color:red'>i</span><span style='color:red'>n</span><span style='color:red'>g</span><span style='color:red'> </span><span style='color:red'>t</span><span style='color:red'>h</span><span style='color:red'>e</span><span style='color:red'> </span><span style='color:red'>C</span><span style='color:red'>y</span><span style='color:red'>r</span><span style='color:red'>i</span><span style='color:red'>l</span><span style='color:red'>l</span><span style='color:red'>i</span><span style='color:red'>c</span><span style='color:red'> </span><span style='color:red'>a</span><span style='color:red'>l</span><span style='color:red'>p</span><span style='color:red'>h</span><span style='color:red'>a</span><span style='color:red'>b</span><span style='color:red'>e</span><span style='color:red'>t</span><span style='color:red'>.</span><span style='color:red'> </span><span style='color:red'>R</span><span style='color:red'>u</span><span style='color:red'>s</span><span style='color:red'>s</span><span style='color:red'>e</span><span style='color:red'>n</span><span style='color:red'>o</span><span style='color:red'>r</span><span style='color:red'>s</span><span style='color:red'>k</span><span style='color:red'> </span><span style='color:red'>i</span><span style='color:red'>s</span><span style='color:red'> </span><span style='color:red'>a</span><span style='color:red'> </span><span style='color:red'>p</span><span style='color:red'>i</span><span style='color:red'>d</span><span style='color:red'>g</span><span style='color:red'>i</span><span style='color:red'>n</span><span style='color:red'> </span><span style='color:red'>l</span><span style='color:red'>a</span><span style='color:red'>n</span><span style='color:red'>g</span><span style='color:red'>u</span><span style='color:red'>a</span><span style='color:red'>g</span><span style='color:red'>e</span><span style='color:red'> </span><span style='color:red'>c</span><span style='color:red'>o</span><span style='color:red'>m</span><span style='color:red'>b</span><span style='color:red'>i</span><span style='color:red'>n</span><span style='color:red'>i</span><span style='color:red'>n</span><span style='color:red'>g</span><span style='color:red'> </span><span style='color:red'>R</span><span style='color:red'>u</span><span style='color:red'>s</span><span style='color:red'>s</span><span style='color:red'>i</span><span style='color:red'>a</span><span style='color:red'>n</span><span style='color:red'> </span><span style='color:red'>a</span><span style='color:red'>n</span><span style='color:red'>d</span><span style='color:red'> </span><span style='color:red'>N</span><span style='color:red'>o</span><span style='color:red'>r</span><span style='color:red'>w</span><span style='color:red'>e</span><span style='color:red'>g</span><span style='color:red'>i</span><span style='color:red'>a</span><span style='color:red'>n</span><span style='color:red'>.</span><span style='color:red'> </span><span style='color:red'>S</span><span style='color:red'>e</span><span style='color:red'>e</span><span style='color:red'> </span><span style='color:red'>a</span><span style='color:red'>l</span><span style='color:red'>s</span><span style='color:red'>o</span><span style='color:red'>:</span><span style='color:red'> </span><span style='color:red'>C</span><span style='color:red'>o</span><span style='color:red'>m</span><span style='color:red'>m</span><span style='color:red'>o</span><span style='color:red'>n</span><span style='color:red'> </span><span style='color:red'>p</span><span style='color:red'>h</span><span style='color:red'>r</span><span style='color:red'>a</span><span style='color:red'>s</span><span style='color:red'>e</span><span style='color:red'>s</span><span style='color:red'> </span><span style='color:red'>i</span><span style='color:red'>n</span><span style='color:red'> </span><span style='color:red'>d</span><span style='color:red'>i</span><span style='color:red'>f</span><span style='color:red'>f</span><span style='color:red'>e</span><span style='color:red'>r</span><span style='color:red'>e</span><span style='color:red'>n</span><span style='color:red'>t</span><span style='color:red'> </span><span style='color:red'>l</span><span style='color:red'>a</span><span style='color:red'>n</span><span style='color:red'>g</span><span style='color:red'>u</span><span style='color:red'>a</span><span style='color:red'>g</span><span style='color:red'>e</span><span style='color:red'>s</span><span style='color:red'> </span><span style='color:red'>S</span><span style='color:red'>e</span><span style='color:red'>e</span><span style='color:red'> </span><span style='color:red'>a</span><span style='color:red'>l</span><span style='color:red'>s</span><span style='color:red'>o</span><span style='color:red'>:</span><span style='color:red'> </span><span style='color:red'>L</span><span style='color:red'>a</span><span style='color:red'>n</span><span style='color:red'>g</span><span style='color:red'>u</span><span style='color:red'>a</span><span style='color:red'>g</span><span style='color:red'>e</span><span style='color:red'>s</span><span style='color:red'> </span><span style='color:red'>o</span><span style='color:red'>f</span><span style='color:red'> </span><span style='color:red'>C</span><span style='color:red'>h</span><span style='color:red'>i</span><span style='color:red'>n</span><span style='color:red'>a</span><span style='color:red'> </span><span style='color:red'>-</span><span style='color:red'>-</span>"
      ],
      "text/plain": [
       "<IPython.core.display.HTML object>"
      ]
     },
     "metadata": {},
     "output_type": "display_data"
    }
   ],
   "source": [
    "example = swipe_dataset['test_id'][1]  \n",
    "\n",
    "device = torch.device(\"cuda\" if torch.cuda.is_available() else \"cpu\")\n",
    "\n",
    "inputs = tokenizer(example['r_content'], return_tensors=\"pt\", truncation=True, padding=\"max_length\", max_length=512)\n",
    "inputs = {key: value.to(device) for key, value in inputs.items()}\n",
    "\n",
    "output_ids = model.generate(\n",
    "    **inputs, \n",
    "    #max_new_tokens = 50,\n",
    "    max_length=512, \n",
    "    min_length=50, \n",
    "    length_penalty=1.0, \n",
    "    num_beams=4, \n",
    "    #no_repeat_ngram_size=2,\n",
    "    early_stopping=True\n",
    ")\n",
    "simplified_text = tokenizer.decode(output_ids[0], skip_special_tokens=True)\n",
    "print(f\"Original: {example['r_content']}\", end='\\n\\n')\n",
    "print(f\"Simplified: \")\n",
    "print(simplified_text, end='\\n\\n')\n",
    "print(f\"Simplified (highlighted): \")\n",
    "display(HTML(highlight_diff(example['r_content'],simplified_text)))"
   ]
  },
  {
   "cell_type": "markdown",
   "id": "74f97d09-27d9-4338-994f-f7b8fe15a976",
   "metadata": {},
   "source": [
    "# Evaluation"
   ]
  },
  {
   "cell_type": "code",
   "execution_count": 16,
   "id": "93d0539e-c3ea-4a3c-bf1e-1d586be0ef0c",
   "metadata": {},
   "outputs": [
    {
     "name": "stderr",
     "output_type": "stream",
     "text": [
      "100%|███████████████████████████████████████████| 483/483 [09:54<00:00,  1.23s/it]\n"
     ]
    }
   ],
   "source": [
    "from tqdm import tqdm\n",
    "\n",
    "predictions = []\n",
    "references = []  \n",
    "\n",
    "device = torch.device(\"cuda\" if torch.cuda.is_available() else \"cpu\")\n",
    "\n",
    "for example in tqdm(swipe_dataset['test_id']):\n",
    "    # tokenize the text\n",
    "    input_ids = tokenizer(example['r_content'], return_tensors=\"pt\", truncation=True, padding=\"max_length\", max_length=512)\n",
    "    # move input_ids to the same device as the model\n",
    "    input_ids = {key: value.to(device) for key, value in input_ids.items()}\n",
    "    \n",
    "    # generate prediction\n",
    "    output_ids = model.generate(**input_ids,max_length = 512, min_length=50, length_penalty=1.0, num_beams=4, early_stopping=True) #max_length=200, min_length=50,\n",
    "    simplified_text = tokenizer.decode(output_ids[0], skip_special_tokens=True)\n",
    "    \n",
    "    predictions.append(simplified_text)\n",
    "    references.append(example['s_content'])"
   ]
  },
  {
   "cell_type": "code",
   "execution_count": 17,
   "id": "dadbf9f8-321b-4128-9d31-b77429013ca7",
   "metadata": {},
   "outputs": [
    {
     "data": {
      "text/html": [
       "<div>\n",
       "<style scoped>\n",
       "    .dataframe tbody tr th:only-of-type {\n",
       "        vertical-align: middle;\n",
       "    }\n",
       "\n",
       "    .dataframe tbody tr th {\n",
       "        vertical-align: top;\n",
       "    }\n",
       "\n",
       "    .dataframe thead th {\n",
       "        text-align: right;\n",
       "    }\n",
       "</style>\n",
       "<table border=\"1\" class=\"dataframe\">\n",
       "  <thead>\n",
       "    <tr style=\"text-align: right;\">\n",
       "      <th></th>\n",
       "      <th>text</th>\n",
       "      <th>reference</th>\n",
       "      <th>prediction</th>\n",
       "    </tr>\n",
       "  </thead>\n",
       "  <tbody>\n",
       "    <tr>\n",
       "      <th>0</th>\n",
       "      <td>The term jargon may have the following meaning...</td>\n",
       "      <td>Jargon is a special way to use words that are ...</td>\n",
       "      <td>The term jargon may have the following meaning...</td>\n",
       "    </tr>\n",
       "    <tr>\n",
       "      <th>1</th>\n",
       "      <td>Russian (Russkij yazyk, Русский язык) is the m...</td>\n",
       "      <td>Russian (русский язык (russkij yazyk)) is the ...</td>\n",
       "      <td>Russian (Russkij yazyk, Русский язык) is the m...</td>\n",
       "    </tr>\n",
       "    <tr>\n",
       "      <th>2</th>\n",
       "      <td>Great Britain, also called Britain, is an isla...</td>\n",
       "      <td>Great Britain is the main part of the United K...</td>\n",
       "      <td>Great Britain, also called Britain, is an isla...</td>\n",
       "    </tr>\n",
       "    <tr>\n",
       "      <th>3</th>\n",
       "      <td>Transport, or transportation (as it is called ...</td>\n",
       "      <td>Transport is the movement of people and things...</td>\n",
       "      <td>Transport, or transportation (as it is called ...</td>\n",
       "    </tr>\n",
       "    <tr>\n",
       "      <th>4</th>\n",
       "      <td>Stockholm (help·info) (IPA: ['stɔkhɔlm]; UN/LO...</td>\n",
       "      <td>Stockholm is the capital of Sweden. It is loca...</td>\n",
       "      <td>Stockholm (help·info) (IPA: ['stɔkhɔlm]; UN/LO...</td>\n",
       "    </tr>\n",
       "  </tbody>\n",
       "</table>\n",
       "</div>"
      ],
      "text/plain": [
       "                                                text  \\\n",
       "0  The term jargon may have the following meaning...   \n",
       "1  Russian (Russkij yazyk, Русский язык) is the m...   \n",
       "2  Great Britain, also called Britain, is an isla...   \n",
       "3  Transport, or transportation (as it is called ...   \n",
       "4  Stockholm (help·info) (IPA: ['stɔkhɔlm]; UN/LO...   \n",
       "\n",
       "                                           reference  \\\n",
       "0  Jargon is a special way to use words that are ...   \n",
       "1  Russian (русский язык (russkij yazyk)) is the ...   \n",
       "2  Great Britain is the main part of the United K...   \n",
       "3  Transport is the movement of people and things...   \n",
       "4  Stockholm is the capital of Sweden. It is loca...   \n",
       "\n",
       "                                          prediction  \n",
       "0  The term jargon may have the following meaning...  \n",
       "1  Russian (Russkij yazyk, Русский язык) is the m...  \n",
       "2  Great Britain, also called Britain, is an isla...  \n",
       "3  Transport, or transportation (as it is called ...  \n",
       "4  Stockholm (help·info) (IPA: ['stɔkhɔlm]; UN/LO...  "
      ]
     },
     "execution_count": 17,
     "metadata": {},
     "output_type": "execute_result"
    }
   ],
   "source": [
    "df_results = pd.DataFrame({\n",
    "    'text': swipe_dataset['test_id']['r_content'],\n",
    "    'reference': swipe_dataset['test_id']['s_content'],\n",
    "    'prediction': predictions\n",
    "})\n",
    "\n",
    "df_results.to_csv(\"../data/predictions_bart-large-swipe-adamw.csv\", index=False)\n",
    "df_results.head()"
   ]
  },
  {
   "cell_type": "markdown",
   "id": "6c7bdf92-ff88-45f1-9341-ab263cb93756",
   "metadata": {},
   "source": [
    "# SARI score"
   ]
  },
  {
   "cell_type": "code",
   "execution_count": 18,
   "id": "18be2993-8ea4-42b4-9de8-6dee5c5a3a12",
   "metadata": {},
   "outputs": [
    {
     "name": "stderr",
     "output_type": "stream",
     "text": [
      "/tmp/1042984.1.all.q/ipykernel_562261/1243258573.py:4: FutureWarning: load_metric is deprecated and will be removed in the next major version of datasets. Use 'evaluate.load' instead, from the new library 🤗 Evaluate: https://huggingface.co/docs/evaluate\n",
      "  sari_metric = load_metric(\"sari\")\n",
      "100%|██████████████████████████████████████████| 483/483 [00:03<00:00, 136.54it/s]\n"
     ]
    }
   ],
   "source": [
    "from datasets import load_metric\n",
    "import pandas as pd\n",
    "\n",
    "sari_metric = load_metric(\"sari\")\n",
    "sari_scores = []\n",
    "\n",
    "for index, row in tqdm(df_results.iterrows(), total=len(df_results)):\n",
    "    r_content = row['text'] \n",
    "    s_content = row['reference']  \n",
    "    prediction = row['prediction']  \n",
    "    \n",
    "    sari_score = sari_metric.compute(\n",
    "        sources=[r_content],\n",
    "        predictions=[prediction],\n",
    "        references=[[s_content]] \n",
    "    )\n",
    "    \n",
    "    sari_scores.append(sari_score['sari'])"
   ]
  },
  {
   "cell_type": "code",
   "execution_count": 19,
   "id": "3c2a3dd9-a8b3-42b6-b6dc-1744d40f8c21",
   "metadata": {},
   "outputs": [
    {
     "data": {
      "image/png": "[encoded data removed]",
      "text/plain": [
       "<Figure size 1000x600 with 1 Axes>"
      ]
     },
     "metadata": {},
     "output_type": "display_data"
    }
   ],
   "source": [
    "import matplotlib.pyplot as plt\n",
    "\n",
    "plt.figure(figsize=(10, 6))\n",
    "plt.hist(sari_scores, bins=20, color='skyblue', edgecolor='black')\n",
    "plt.title('Distribution of SARI Scores', fontsize=16, fontweight='bold')\n",
    "plt.xlabel('SARI Score', fontsize=14)\n",
    "plt.ylabel('Number of Texts', fontsize=14)\n",
    "plt.grid(axis='y', linestyle='--', alpha=0.7)\n",
    "plt.show()"
   ]
  },
  {
   "cell_type": "code",
   "execution_count": 20,
   "id": "57dfc072-78a5-48bf-ad68-bbb20249ab4b",
   "metadata": {},
   "outputs": [
    {
     "name": "stdout",
     "output_type": "stream",
     "text": [
      "Overall SARI score:  48.50384310428547\n"
     ]
    }
   ],
   "source": [
    "import numpy as np\n",
    "\n",
    "print(\"Overall SARI score: \", np.mean(sari_scores))"
   ]
  }
 ],
 "metadata": {
  "kernelspec": {
   "display_name": "Python 3 (ipykernel)",
   "language": "python",
   "name": "python3"
  },
  "language_info": {
   "codemirror_mode": {
    "name": "ipython",
    "version": 3
   },
   "file_extension": ".py",
   "mimetype": "text/x-python",
   "name": "python",
   "nbconvert_exporter": "python",
   "pygments_lexer": "ipython3",
   "version": "3.9.18"
  }
 },
 "nbformat": 4,
 "nbformat_minor": 5
}
