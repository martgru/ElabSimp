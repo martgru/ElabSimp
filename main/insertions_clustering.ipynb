{
 "cells": [
  {
   "cell_type": "markdown",
   "id": "c5b350ef-0b39-47a8-8034-57dff6d49cfc",
   "metadata": {},
   "source": [
    "# Load data"
   ]
  },
  {
   "cell_type": "code",
   "execution_count": 55,
   "id": "d66ad5d4-3713-4236-8c3a-6eebefd56abd",
   "metadata": {},
   "outputs": [],
   "source": [
    "import pandas as pd\n",
    "\n",
    "insertions_example_df = pd.read_csv(\"../data/elaborations/insertions_example.csv\")\n",
    "insertions_background_df = pd.read_csv(\"../data/elaborations/insertions_background.csv\")\n",
    "insertions_generic_df = pd.read_csv(\"../data/elaborations/insertions_generic.csv\")"
   ]
  },
  {
   "cell_type": "code",
   "execution_count": 45,
   "id": "09fd4a9d-520f-4fef-98be-878d7be4e16e",
   "metadata": {},
   "outputs": [
    {
     "data": {
      "text/html": [
       "<div>\n",
       "<style scoped>\n",
       "    .dataframe tbody tr th:only-of-type {\n",
       "        vertical-align: middle;\n",
       "    }\n",
       "\n",
       "    .dataframe tbody tr th {\n",
       "        vertical-align: top;\n",
       "    }\n",
       "\n",
       "    .dataframe thead th {\n",
       "        text-align: right;\n",
       "    }\n",
       "</style>\n",
       "<table border=\"1\" class=\"dataframe\">\n",
       "  <thead>\n",
       "    <tr style=\"text-align: right;\">\n",
       "      <th></th>\n",
       "      <th>text_id</th>\n",
       "      <th>split</th>\n",
       "      <th>insertion</th>\n",
       "      <th>const_tree</th>\n",
       "    </tr>\n",
       "  </thead>\n",
       "  <tbody>\n",
       "    <tr>\n",
       "      <th>0</th>\n",
       "      <td>2</td>\n",
       "      <td>train</td>\n",
       "      <td>forearm</td>\n",
       "      <td>(ROOT (NP (NN forearm)))</td>\n",
       "    </tr>\n",
       "    <tr>\n",
       "      <th>1</th>\n",
       "      <td>2</td>\n",
       "      <td>train</td>\n",
       "      <td>kind of</td>\n",
       "      <td>(ROOT (NP (NN kind) (IN of)))</td>\n",
       "    </tr>\n",
       "    <tr>\n",
       "      <th>2</th>\n",
       "      <td>2</td>\n",
       "      <td>train</td>\n",
       "      <td>which has</td>\n",
       "      <td>(ROOT (SBAR (WHNP (WDT which)) (S (VP (VBZ has...</td>\n",
       "    </tr>\n",
       "    <tr>\n",
       "      <th>3</th>\n",
       "      <td>2</td>\n",
       "      <td>train</td>\n",
       "      <td>These sleeves cover</td>\n",
       "      <td>(ROOT (S (NP (DT These) (NNS sleeves)) (VP (VB...</td>\n",
       "    </tr>\n",
       "    <tr>\n",
       "      <th>4</th>\n",
       "      <td>2</td>\n",
       "      <td>train</td>\n",
       "      <td>fabric</td>\n",
       "      <td>(ROOT (NP (NN fabric)))</td>\n",
       "    </tr>\n",
       "  </tbody>\n",
       "</table>\n",
       "</div>"
      ],
      "text/plain": [
       "   text_id  split             insertion  \\\n",
       "0        2  train               forearm   \n",
       "1        2  train               kind of   \n",
       "2        2  train             which has   \n",
       "3        2  train   These sleeves cover   \n",
       "4        2  train                fabric   \n",
       "\n",
       "                                          const_tree  \n",
       "0                           (ROOT (NP (NN forearm)))  \n",
       "1                      (ROOT (NP (NN kind) (IN of)))  \n",
       "2  (ROOT (SBAR (WHNP (WDT which)) (S (VP (VBZ has...  \n",
       "3  (ROOT (S (NP (DT These) (NNS sleeves)) (VP (VB...  \n",
       "4                            (ROOT (NP (NN fabric)))  "
      ]
     },
     "execution_count": 45,
     "metadata": {},
     "output_type": "execute_result"
    }
   ],
   "source": [
    "insertions_generic_df.head()"
   ]
  },
  {
   "cell_type": "markdown",
   "id": "d0b3dc5f-c742-412a-a2e7-c36178356f21",
   "metadata": {},
   "source": [
    "# Utils"
   ]
  },
  {
   "cell_type": "markdown",
   "id": "eda9e8e0-18a3-483b-bf68-e2ec036eaf39",
   "metadata": {},
   "source": [
    "## Constituency trees"
   ]
  },
  {
   "cell_type": "code",
   "execution_count": 2,
   "id": "a3e0f112-d4be-4a27-94b4-d60b4c6850b2",
   "metadata": {},
   "outputs": [],
   "source": [
    "import re \n",
    "\n",
    "def preprocess(constituency_tree):\n",
    "    \"\"\"\n",
    "    Extract the inner part of the constituency tree, removing the (ROOT ...) wrapper.\n",
    "    \n",
    "    :param tree: The full constituency tree as a string.\n",
    "    :return: The inner part of the constituency tree without (ROOT ...).\n",
    "    \"\"\"\n",
    "\n",
    "    inner_tree = constituency_tree[6:-1]  # Remove the (ROOT and the closing parenthesis)\n",
    "    stripped_tree = re.sub(r'\\([A-Z]+\\s[^()]+\\)', lambda m: f\"({m.group(0).split()[0]})\", inner_tree)\n",
    "    stripped_tree = re.sub(r'\\([.,;:!?]+\\s[^()]+\\)', lambda m: f\"({m.group(0).split()[0]})\", stripped_tree)\n",
    "\n",
    "    return stripped_tree"
   ]
  },
  {
   "cell_type": "code",
   "execution_count": 28,
   "id": "febe28e3-ef52-4612-b211-c1594649f31a",
   "metadata": {},
   "outputs": [
    {
     "name": "stdout",
     "output_type": "stream",
     "text": [
      "(ROOT (FRAG (CC and) (NP (NN politician)) (. .)))\n",
      "(FRAG ((CC) (NP ((NN)) ((.))\n"
     ]
    }
   ],
   "source": [
    "rec = insertions_background_df.iloc[0]\n",
    "print(rec[\"const_tree\"])\n",
    "print(preprocess(rec[\"const_tree\"]))"
   ]
  },
  {
   "cell_type": "markdown",
   "id": "b7c6e783-2800-459e-9215-8f6d4ff7d82d",
   "metadata": {},
   "source": [
    "## Find optimal number of clusters"
   ]
  },
  {
   "cell_type": "code",
   "execution_count": 46,
   "id": "d8f330f9-e197-44ee-a355-0096c9a7a0f1",
   "metadata": {},
   "outputs": [],
   "source": [
    "from sklearn.cluster import KMeans\n",
    "from sklearn.metrics import silhouette_score\n",
    "import matplotlib.pyplot as plt\n",
    "import numpy as np\n",
    "\n",
    "def determine_optimal_clusters(X, max_clusters=10):\n",
    "    \"\"\"\n",
    "    Determines the optimal number of clusters using the Elbow Method and Silhouette Score.\n",
    "    Highlights the top 3 candidates for the best number of clusters.\n",
    "    \n",
    "    :param X: The vectorized matrix (features) of the constituency trees.\n",
    "    :param max_clusters: The maximum number of clusters to test.\n",
    "    \"\"\"\n",
    "    sse = []  \n",
    "    silhouette_scores = []  \n",
    "\n",
    "    cluster_range = range(2, max_clusters+1)  # start with 2 clusters, up to max_clusters\n",
    "\n",
    "    for n_clusters in cluster_range:\n",
    "        # KMeans clustering\n",
    "        kmeans = KMeans(n_clusters=n_clusters, random_state=42)\n",
    "        kmeans.fit(X)\n",
    "         \n",
    "        sse.append(kmeans.inertia_)  # KMeans inertia is the SSE\n",
    "        \n",
    "        # Silhouette Score\n",
    "        labels = kmeans.labels_\n",
    "        silhouette_avg = silhouette_score(X, labels)\n",
    "        silhouette_scores.append(silhouette_avg)\n",
    "\n",
    "    # get the top 3 candidates based on Silhouette Score\n",
    "    top_3_silhouette_idx = np.argsort(silhouette_scores)[-3:]  # indices of top 3 silhouette scores\n",
    "    # calculate the changes (differences) between successive SSE values\n",
    "    sse_diffs = np.diff(sse)\n",
    "    # get the top 3 candidates where the largest drops in SSE (elbow points) occur\n",
    "    top_3_elbow_idx = np.argsort(-sse_diffs)[:3]\n",
    "   \n",
    "    plt.figure(figsize=(10, 6))\n",
    "    plt.plot(cluster_range, sse, marker='o', color='blue')\n",
    "    \n",
    "    # highlight the top 3 elbow candidates\n",
    "    for idx in top_3_elbow_idx:\n",
    "        plt.scatter(cluster_range[idx], sse[idx], color='red', s=100, label=f'Cluster {cluster_range[idx]}')\n",
    "\n",
    "    plt.xlabel('Number of Clusters')\n",
    "    plt.ylabel('SSE (Inertia)')\n",
    "    plt.title('Inertia vs Number of Clusters')\n",
    "    plt.xticks(cluster_range)\n",
    "    plt.show()\n",
    "\n",
    "    # plot the Silhouette Scores\n",
    "    plt.figure(figsize=(10, 6))\n",
    "    plt.plot(cluster_range, silhouette_scores, marker='o', color='green')\n",
    "    \n",
    "    # highlight the top 3 candidates\n",
    "    for idx in top_3_silhouette_idx:\n",
    "        plt.scatter(cluster_range[idx], silhouette_scores[idx], color='red', s=100, label=f'Cluster {cluster_range[idx+2]}: {silhouette_scores[idx]:.3f}')\n",
    "\n",
    "    plt.xlabel('Number of Clusters')\n",
    "    plt.ylabel('Silhouette Score')\n",
    "    plt.title('Silhouette Score vs Number of Clusters')\n",
    "    plt.xticks(cluster_range)\n",
    "    plt.legend()\n",
    "    plt.show()\n"
   ]
  },
  {
   "cell_type": "code",
   "execution_count": 83,
   "id": "df0a609b-6925-457b-95fd-758642660349",
   "metadata": {},
   "outputs": [],
   "source": [
    "from sklearn.metrics import silhouette_score\n",
    "import matplotlib.pyplot as plt\n",
    "import numpy as np\n",
    "from sklearn.cluster import AgglomerativeClustering\n",
    "from tqdm.notebook import tqdm\n",
    "\n",
    "def determine_optimal_clusters_with_distance_matrix(distance_matrix, max_clusters=10):\n",
    "    \"\"\"\n",
    "    Determines the optimal number of clusters using the Elbow Method (with Agglomerative Clustering) \n",
    "    and Silhouette Score. Highlights the top 3 candidates for the best number of clusters.\n",
    "    \n",
    "    :param distance_matrix: The precomputed distance matrix (pairwise tree edit distances).\n",
    "    :param max_clusters: The maximum number of clusters to test.\n",
    "    \"\"\"\n",
    "    silhouette_scores = []  \n",
    "    cluster_range = range(2, max_clusters + 1)  \n",
    "\n",
    "    for n_clusters in tqdm(cluster_range):\n",
    "        # Agglomerative Clustering with precomputed distance matrix\n",
    "        clustering_model = AgglomerativeClustering(n_clusters=n_clusters, metric='precomputed', linkage='average')\n",
    "        labels = clustering_model.fit_predict(distance_matrix)\n",
    "\n",
    "        # Calculate Silhouette Score (Silhouette needs the actual pairwise distance matrix)\n",
    "        silhouette_avg = silhouette_score(distance_matrix, labels, metric='precomputed')\n",
    "        silhouette_scores.append(silhouette_avg)\n",
    "\n",
    "    # Get the top 3 candidates based on Silhouette Score\n",
    "    top_3_silhouette_idx = np.argsort(silhouette_scores)[-3:]\n",
    "\n",
    "    # Plot the Silhouette Scores\n",
    "    plt.figure(figsize=(10, 6))\n",
    "    plt.plot(cluster_range, silhouette_scores, marker='o', color='green')\n",
    "\n",
    "    # Highlight the top 3 candidates\n",
    "    for idx in top_3_silhouette_idx:\n",
    "        plt.scatter(cluster_range[idx], silhouette_scores[idx], color='red', s=100, \n",
    "                    label=f'Cluster {cluster_range[idx]}: {silhouette_scores[idx]:.3f}')\n",
    "    \n",
    "    plt.xlabel('Number of Clusters')\n",
    "    plt.ylabel('Silhouette Score')\n",
    "    plt.title('Silhouette Score vs Number of Clusters')\n",
    "    plt.xticks(cluster_range)\n",
    "    plt.legend()\n",
    "    plt.show()"
   ]
  },
  {
   "cell_type": "markdown",
   "id": "1a3baeef-ffe0-45c7-ac3d-0d055a06b72d",
   "metadata": {
    "jp-MarkdownHeadingCollapsed": true
   },
   "source": [
    "## Get random sample from given cluster"
   ]
  },
  {
   "cell_type": "code",
   "execution_count": 38,
   "id": "14b39533-f7b9-47e4-a6b8-1907047b76a6",
   "metadata": {},
   "outputs": [],
   "source": [
    "import random\n",
    "\n",
    "def get_random_samples_per_cluster(df, num_samples=3):\n",
    "    \"\"\"\n",
    "    Randomly selects a given number of samples from each cluster and displays the insertion texts and their constituency trees.\n",
    "    \n",
    "    :param df: The clustered DataFrame containing the 'cluster', 'insertion', and 'const_tree' columns.\n",
    "    :param num_samples: The number of random samples to select per cluster.\n",
    "    :return: A dictionary containing the random samples from each cluster.\n",
    "    \"\"\"\n",
    "    clusters = sorted(df['cluster'].unique())  # unique cluster labels\n",
    "    random_samples = {}\n",
    "\n",
    "    for cluster in clusters:\n",
    "        # get only samples from the current cluster\n",
    "        cluster_samples = df[df['cluster'] == cluster]\n",
    "        \n",
    "        # select num_samples rows from the current cluster\n",
    "        selected_samples = cluster_samples.sample(n=num_samples, random_state=42)\n",
    "        \n",
    "        # selected samples' insertion texts and their constituency trees\n",
    "        random_samples[cluster] = {\n",
    "            'insertion': selected_samples['insertion'].tolist(),\n",
    "            'const_tree': selected_samples['const_tree'].tolist()\n",
    "        }\n",
    "        \n",
    "        print(f\"Cluster {cluster}:\\n\")\n",
    "        for i, (insertion_text, const_tree) in enumerate(zip(random_samples[cluster]['insertion'], random_samples[cluster]['const_tree']), 1):\n",
    "            print(f\"{i}) {insertion_text}\")\n",
    "        print(end=\"\\n\\n\")"
   ]
  },
  {
   "cell_type": "markdown",
   "id": "4e588a98-c81d-4314-81ee-89d0fc8e2003",
   "metadata": {
    "jp-MarkdownHeadingCollapsed": true
   },
   "source": [
    "## Calculate Tree distance"
   ]
  },
  {
   "cell_type": "code",
   "execution_count": 67,
   "id": "4f05a3f3-4a7d-4a37-b2a4-df2727c833b3",
   "metadata": {},
   "outputs": [],
   "source": [
    "import re\n",
    "\n",
    "def parse_string_to_structure(tree_str):\n",
    "    \"\"\"\n",
    "    Converts a constituency tree string into a nested list structure,\n",
    "    retaining only the syntactic structure and removing the actual words inside.\n",
    "    \n",
    "    :param tree_str: A constituency parse tree string (e.g., \"(ROOT (S ...))\").\n",
    "    :return: A nested list representing the syntactic structure without words.\n",
    "    \"\"\"\n",
    "    \n",
    "    def tokenize(tree_str):\n",
    "        tokens = re.findall(r'\\(|\\)|[^\\s()]+', tree_str)\n",
    "        return tokens\n",
    "\n",
    "    # build the structure from tokens\n",
    "    def build_structure(tokens):\n",
    "        if not tokens:\n",
    "            return None\n",
    "\n",
    "        token = tokens.pop(0)\n",
    "\n",
    "        if token == '(':\n",
    "            subtree = []\n",
    "            while tokens[0] != ')':\n",
    "                subtree.append(build_structure(tokens))\n",
    "            tokens.pop(0)  # discard the closing parenthesis ')'\n",
    "            return subtree\n",
    "        elif token == ')':\n",
    "            return None\n",
    "        else:\n",
    "            # Only retain the syntactic labels (POS tags and constituency tags) and ignore actual words\n",
    "            if re.match(r'[A-Z]+', token):  # Only include tags (e.g., NP, VP, etc.)\n",
    "                return token\n",
    "            else:\n",
    "                return ''  # Ignore words\n",
    "\n",
    "    tokens = tokenize(tree_str)\n",
    "    nested_structure = build_structure(tokens)\n",
    "\n",
    "    # Clean up any empty strings from ignored words\n",
    "    def clean_empty_nodes(tree):\n",
    "        if isinstance(tree, list):\n",
    "            return [clean_empty_nodes(subtree) for subtree in tree if subtree]\n",
    "        return tree\n",
    "\n",
    "    return clean_empty_nodes(nested_structure)"
   ]
  },
  {
   "cell_type": "code",
   "execution_count": 74,
   "id": "3da93714-5bfd-4500-899e-8cb79d9ad2a0",
   "metadata": {},
   "outputs": [],
   "source": [
    "import zss\n",
    "from zss import Node\n",
    "from sklearn.cluster import AgglomerativeClustering\n",
    "import numpy as np\n",
    "\n",
    "def parse_tree_to_zss(tree_str):\n",
    "    \"\"\"\n",
    "    Converts a constituency parse tree string into a zss.Node structure for edit distance calculation.\n",
    "    \"\"\"\n",
    "    def tree_builder(tree_list):\n",
    "        if not tree_list or len(tree_list) == 0:\n",
    "            return None\n",
    "        \n",
    "        root_label = tree_list[0]\n",
    "        if isinstance(root_label, str):  # Ensure it's a valid string label\n",
    "            # Recursively build the children\n",
    "            children = [tree_builder(child) for child in tree_list[1:] if child]\n",
    "            return Node(root_label, children)\n",
    "        else:\n",
    "            return None\n",
    "\n",
    "    parsed_tree = parse_string_to_structure(tree_str) \n",
    "    return tree_builder(parsed_tree)"
   ]
  },
  {
   "cell_type": "code",
   "execution_count": 76,
   "id": "8fb2787f-3d68-411a-a998-b698d845b8cc",
   "metadata": {},
   "outputs": [
    {
     "name": "stdout",
     "output_type": "stream",
     "text": [
      "['ROOT', ['FRAG', ['PP', ['IN'], ['NP', ['CD']]], []]]\n",
      "1:ROOT\n",
      "1:FRAG\n",
      "2:PP\n",
      "0:IN\n",
      "1:NP\n",
      "0:CD\n"
     ]
    }
   ],
   "source": [
    "tree_str = \"(ROOT (FRAG (PP (IN since) (NP (CD 2022))) (. .)))\"\n",
    "print(parse_string_to_structure(tree_str))\n",
    "zss_tree = parse_tree_to_zss(tree_str)\n",
    "print(zss_tree)"
   ]
  },
  {
   "cell_type": "code",
   "execution_count": 86,
   "id": "bf075035-901c-49c6-bf27-107262d4b557",
   "metadata": {},
   "outputs": [],
   "source": [
    "from tqdm.notebook import tqdm\n",
    "\n",
    "def tree_edit_distance(tree1_str, tree2_str):\n",
    "    \"\"\"\n",
    "    Computes the Tree Edit Distance (TED) between two constituency trees.\n",
    "    \"\"\"\n",
    "    tree1 = parse_tree_to_zss(tree1_str)\n",
    "    tree2 = parse_tree_to_zss(tree2_str)\n",
    "    return zss.simple_distance(tree1, tree2)\n",
    "\n",
    "def create_distance_matrix(tree_strings):\n",
    "    n = len(tree_strings)\n",
    "    distance_matrix = np.zeros((n, n))\n",
    "    for i in tqdm(range(n)):\n",
    "        for j in range(i+1, n):\n",
    "            distance = tree_edit_distance(tree_strings[i], tree_strings[j])\n",
    "            distance_matrix[i, j] = distance\n",
    "            distance_matrix[j, i] = distance\n",
    "    return distance_matrix\n",
    "\n",
    "# clustering based on the distance matrix\n",
    "def perform_clustering(distance_matrix, num_clusters):\n",
    "    clustering_model = AgglomerativeClustering(n_clusters=num_clusters, metric='precomputed', linkage='average')\n",
    "    labels = clustering_model.fit_predict(distance_matrix)\n",
    "    return labels"
   ]
  },
  {
   "cell_type": "markdown",
   "id": "748c7f07-2586-467f-8e8b-7381a75091eb",
   "metadata": {},
   "source": [
    "# Categorize insertions"
   ]
  },
  {
   "cell_type": "code",
   "execution_count": 7,
   "id": "0346d3c4-7e24-4520-bd51-99e08d108d10",
   "metadata": {},
   "outputs": [],
   "source": [
    "from sklearn.feature_extraction.text import CountVectorizer\n",
    "\n",
    "def vectorize_constituency_trees(df):\n",
    "    \"\"\"\n",
    "    Vectorizes the constituency trees in the DataFrame using a bag-of-words approach.\n",
    "    \n",
    "    :param df: The DataFrame containing stripped constituency trees.\n",
    "    :return: The vectorized matrix of constituency trees.\n",
    "    \"\"\"\n",
    "    vectorizer = CountVectorizer()\n",
    "    const_trees = df[\"const_tree\"].map(preprocess)\n",
    "    X = vectorizer.fit_transform(const_trees)  \n",
    "    \n",
    "    return X, vectorizer"
   ]
  },
  {
   "cell_type": "code",
   "execution_count": 8,
   "id": "15f12588-a4ca-4ba5-85ca-120969818075",
   "metadata": {},
   "outputs": [],
   "source": [
    "from sklearn.cluster import KMeans\n",
    "\n",
    "def perform_clustering(df, num_clusters=5):\n",
    "    \"\"\"\n",
    "    Performs KMeans clustering on the stripped constituency trees (without words).\n",
    "\n",
    "    :param df: The DataFrame containing stripped constituency trees.\n",
    "    :param num_clusters: The number of clusters to form.\n",
    "    :return: The DataFrame with cluster labels added.\n",
    "    \"\"\"\n",
    "    # vectorize the stripped constituency trees\n",
    "    X, vectorizer = vectorize_constituency_trees(df)\n",
    "\n",
    "    # KMeans clustering\n",
    "    kmeans = KMeans(n_clusters=num_clusters, random_state=42)\n",
    "    df['cluster'] = kmeans.fit_predict(X)\n",
    "\n",
    "    return df, kmeans, vectorizer"
   ]
  },
  {
   "cell_type": "code",
   "execution_count": 26,
   "id": "44011e13-f07f-4b97-b10c-e9340b51a331",
   "metadata": {},
   "outputs": [],
   "source": [
    "def analyze_clusters(df, num_clusters):\n",
    "    \"\"\"\n",
    "    Analyzes the clusters by printing the most common constituency patterns in each cluster.\n",
    "\n",
    "    :param df: The clustered DataFrame.\n",
    "    :param num_clusters: The number of clusters.\n",
    "    \"\"\"\n",
    "    df['const_tree'] = df['const_tree'].map(preprocess)\n",
    "    for cluster_num in range(num_clusters):\n",
    "        print(f\"\\nCluster {cluster_num} Patterns:\")\n",
    "        \n",
    "        print(df[df['cluster'] == cluster_num]['const_tree'].value_counts().head())"
   ]
  },
  {
   "cell_type": "code",
   "execution_count": 10,
   "id": "be7c7e0e-87eb-42d5-852f-a9d2b32aa335",
   "metadata": {},
   "outputs": [],
   "source": [
    "import matplotlib.pyplot as plt\n",
    "\n",
    "def plot_cluster_distribution(clustered_df):\n",
    "    \"\"\"\n",
    "    Plots a bar graph of the distribution of samples in each cluster.\n",
    "    \n",
    "    :param clustered_df: The DataFrame containing the 'cluster' column.\n",
    "    \"\"\"\n",
    "    # number of samples in each cluster\n",
    "    cluster_counts = clustered_df[\"cluster\"].value_counts().sort_index()\n",
    "\n",
    "    plt.figure(figsize=(10, 6))\n",
    "    cluster_counts.plot(kind='bar', color='blue')\n",
    "    plt.xlabel(\"Cluster\")\n",
    "    plt.ylabel(\"Number of Samples\")\n",
    "    plt.title(\"Cluster Distribution\")\n",
    "    plt.xticks(rotation=0)  \n",
    "    plt.show()"
   ]
  },
  {
   "cell_type": "code",
   "execution_count": 90,
   "id": "dd9d8e5e-140d-434e-905c-7610fd50fee0",
   "metadata": {},
   "outputs": [],
   "source": [
    "import matplotlib.pyplot as plt\n",
    "from scipy.cluster.hierarchy import dendrogram, linkage\n",
    "from scipy.spatial.distance import squareform\n",
    "\n",
    "def create_dendrogram(distance_matrix, labels=None):\n",
    "    \"\"\"\n",
    "    Creates a dendrogram from a precomputed distance matrix.\n",
    "    \n",
    "    :param distance_matrix: A precomputed distance matrix (symmetric).\n",
    "    :param labels: Optional labels for the data points (in this case, insertions).\n",
    "    \"\"\"\n",
    "    # Convert the distance matrix into a condensed format (required by scipy's linkage)\n",
    "    condensed_distance_matrix = squareform(distance_matrix)\n",
    "\n",
    "    # Perform hierarchical/agglomerative clustering to get the linkage matrix\n",
    "    linkage_matrix = linkage(condensed_distance_matrix, method='average')\n",
    "    \n",
    "    # Plot the dendrogram\n",
    "    plt.figure(figsize=(10, 6))\n",
    "    dendrogram(linkage_matrix, labels=labels, leaf_rotation=90, leaf_font_size=10)\n",
    "    \n",
    "    plt.title('Dendrogram for Insertions')\n",
    "    plt.xlabel('Insertions')\n",
    "    plt.ylabel('Distance')\n",
    "    plt.show()"
   ]
  },
  {
   "cell_type": "markdown",
   "id": "b01a2492-1aab-45be-bb22-afb1d80b9f3d",
   "metadata": {},
   "source": [
    "## Find best num of clusters"
   ]
  },
  {
   "cell_type": "code",
   "execution_count": 80,
   "id": "9f5fadec-6289-4229-97b1-4221bb45c877",
   "metadata": {},
   "outputs": [],
   "source": [
    "insertion_df = insertions_example_df\n",
    "insertion_df.dropna(inplace=True)\n",
    "insertion_df.drop_duplicates(inplace=True)"
   ]
  },
  {
   "cell_type": "markdown",
   "id": "8e8c9ab5-55d9-463c-88d9-66fbe05457ac",
   "metadata": {},
   "source": [
    "## K-means"
   ]
  },
  {
   "cell_type": "code",
   "execution_count": 48,
   "id": "4dda99b6-eb76-4509-846f-4bba5ae800f3",
   "metadata": {},
   "outputs": [
    {
     "data": {
      "image/png": "[encoded data removed]",
      "text/plain": [
       "<Figure size 1000x600 with 1 Axes>"
      ]
     },
     "metadata": {},
     "output_type": "display_data"
    },
    {
     "data": {
      "image/png": "[encoded data removed]",
      "text/plain": [
       "<Figure size 1000x600 with 1 Axes>"
      ]
     },
     "metadata": {},
     "output_type": "display_data"
    }
   ],
   "source": [
    "X, vectorizer = vectorize_constituency_trees(insertion_df)\n",
    "determine_optimal_clusters(X, max_clusters=10)"
   ]
  },
  {
   "cell_type": "markdown",
   "id": "4f90836f-116a-4394-94dc-ad641ca73407",
   "metadata": {},
   "source": [
    "## Agglomerative clustering"
   ]
  },
  {
   "cell_type": "code",
   "execution_count": 84,
   "id": "1762f394-f60a-4b77-a7a9-1e84f8cef540",
   "metadata": {},
   "outputs": [
    {
     "data": {
      "application/vnd.jupyter.widget-view+json": {
       "model_id": "1598c21a0a9c4e669f7c71f20fb8ab07",
       "version_major": 2,
       "version_minor": 0
      },
      "text/plain": [
       "  0%|          | 0/9 [00:00<?, ?it/s]"
      ]
     },
     "metadata": {},
     "output_type": "display_data"
    },
    {
     "data": {
      "image/png": "[encoded data removed]",
      "text/plain": [
       "<Figure size 1000x600 with 1 Axes>"
      ]
     },
     "metadata": {},
     "output_type": "display_data"
    }
   ],
   "source": [
    "tree_strs = insertion_df['const_tree'].tolist() \n",
    "distance_matrix = create_distance_matrix(tree_strs)\n",
    "\n",
    "determine_optimal_clusters_with_distance_matrix(distance_matrix, max_clusters=10)"
   ]
  },
  {
   "cell_type": "markdown",
   "id": "dfe9564d-2086-4b5b-93d2-bfc76ce820f6",
   "metadata": {},
   "source": [
    "## K-means Clustering"
   ]
  },
  {
   "cell_type": "code",
   "execution_count": 49,
   "id": "ea252231-8ae4-4ff3-bc0f-c1977fd2a02f",
   "metadata": {},
   "outputs": [],
   "source": [
    "clustered_df, kmeans_model, vectorizer = perform_clustering(insertion_df, num_clusters=4)"
   ]
  },
  {
   "cell_type": "markdown",
   "id": "87c3992c-f573-4e76-b656-04d2a1a13f5a",
   "metadata": {},
   "source": [
    "## Agglomerative clustering"
   ]
  },
  {
   "cell_type": "code",
   "execution_count": 87,
   "id": "9ed5039d-ff5d-4f08-94a5-eace70453bdc",
   "metadata": {},
   "outputs": [
    {
     "data": {
      "application/vnd.jupyter.widget-view+json": {
       "model_id": "20f620aeaacc4a1588f8ad56443b6099",
       "version_major": 2,
       "version_minor": 0
      },
      "text/plain": [
       "  0%|          | 0/196 [00:00<?, ?it/s]"
      ]
     },
     "metadata": {},
     "output_type": "display_data"
    }
   ],
   "source": [
    "tree_strs = insertion_df['const_tree'].tolist()  \n",
    "distance_matrix = create_distance_matrix(tree_strs)\n",
    "labels = perform_clustering(distance_matrix, num_clusters=3)\n",
    "insertion_df['cluster'] = labels\n",
    "clustered_df = insertion_df"
   ]
  },
  {
   "cell_type": "code",
   "execution_count": 88,
   "id": "33c87d6f-963e-40fa-8ed5-a4e0cc93bf8d",
   "metadata": {},
   "outputs": [
    {
     "data": {
      "text/html": [
       "<div>\n",
       "<style scoped>\n",
       "    .dataframe tbody tr th:only-of-type {\n",
       "        vertical-align: middle;\n",
       "    }\n",
       "\n",
       "    .dataframe tbody tr th {\n",
       "        vertical-align: top;\n",
       "    }\n",
       "\n",
       "    .dataframe thead th {\n",
       "        text-align: right;\n",
       "    }\n",
       "</style>\n",
       "<table border=\"1\" class=\"dataframe\">\n",
       "  <thead>\n",
       "    <tr style=\"text-align: right;\">\n",
       "      <th></th>\n",
       "      <th>text_id</th>\n",
       "      <th>split</th>\n",
       "      <th>insertion</th>\n",
       "      <th>const_tree</th>\n",
       "      <th>cluster</th>\n",
       "    </tr>\n",
       "  </thead>\n",
       "  <tbody>\n",
       "    <tr>\n",
       "      <th>0</th>\n",
       "      <td>21</td>\n",
       "      <td>train</td>\n",
       "      <td>since 2022.</td>\n",
       "      <td>(ROOT (FRAG (PP (IN since) (NP (CD 2022))) (. ...</td>\n",
       "      <td>0</td>\n",
       "    </tr>\n",
       "    <tr>\n",
       "      <th>1</th>\n",
       "      <td>24</td>\n",
       "      <td>train</td>\n",
       "      <td>(Give up being the King or Queen)</td>\n",
       "      <td>(ROOT (S (-LRB- -LRB-) (S (VP (VB Give) (PRT (...</td>\n",
       "      <td>0</td>\n",
       "    </tr>\n",
       "    <tr>\n",
       "      <th>2</th>\n",
       "      <td>25</td>\n",
       "      <td>train</td>\n",
       "      <td>if</td>\n",
       "      <td>(ROOT (IN if))</td>\n",
       "      <td>0</td>\n",
       "    </tr>\n",
       "    <tr>\n",
       "      <th>3</th>\n",
       "      <td>25</td>\n",
       "      <td>train</td>\n",
       "      <td>song has 4 beats per bar at 100 BPM</td>\n",
       "      <td>(ROOT (S (NP (NN song)) (VP (VBZ has) (NP (NP ...</td>\n",
       "      <td>0</td>\n",
       "    </tr>\n",
       "    <tr>\n",
       "      <th>4</th>\n",
       "      <td>25</td>\n",
       "      <td>train</td>\n",
       "      <td>25 bars</td>\n",
       "      <td>(ROOT (NP (CD 25) (NNS bars)))</td>\n",
       "      <td>0</td>\n",
       "    </tr>\n",
       "  </tbody>\n",
       "</table>\n",
       "</div>"
      ],
      "text/plain": [
       "   text_id  split                            insertion  \\\n",
       "0       21  train                          since 2022.   \n",
       "1       24  train    (Give up being the King or Queen)   \n",
       "2       25  train                                   if   \n",
       "3       25  train  song has 4 beats per bar at 100 BPM   \n",
       "4       25  train                              25 bars   \n",
       "\n",
       "                                          const_tree  cluster  \n",
       "0  (ROOT (FRAG (PP (IN since) (NP (CD 2022))) (. ...        0  \n",
       "1  (ROOT (S (-LRB- -LRB-) (S (VP (VB Give) (PRT (...        0  \n",
       "2                                     (ROOT (IN if))        0  \n",
       "3  (ROOT (S (NP (NN song)) (VP (VBZ has) (NP (NP ...        0  \n",
       "4                     (ROOT (NP (CD 25) (NNS bars)))        0  "
      ]
     },
     "execution_count": 88,
     "metadata": {},
     "output_type": "execute_result"
    }
   ],
   "source": [
    "clustered_df.head()"
   ]
  },
  {
   "cell_type": "markdown",
   "id": "0f01da04-dee0-40ea-bd1e-a403c166c939",
   "metadata": {},
   "source": [
    "# Semantic elaboration example"
   ]
  },
  {
   "cell_type": "markdown",
   "id": "34329530-3b0b-41ca-aeb7-f9e36e83284d",
   "metadata": {},
   "source": [
    "## K-means"
   ]
  },
  {
   "cell_type": "code",
   "execution_count": 5,
   "id": "74bc8370-e18f-4ae6-a39e-82dcd7614bbf",
   "metadata": {},
   "outputs": [],
   "source": [
    "import pandas as pd\n",
    "example_df = pd.read_csv(\"../data/elaborations/example.csv\")"
   ]
  },
  {
   "cell_type": "code",
   "execution_count": 14,
   "id": "b0b247ab-3fe5-4e6f-8e4c-7a9ef85a015c",
   "metadata": {},
   "outputs": [
    {
     "data": {
      "image/png": "[encoded data removed]",
      "text/plain": [
       "<Figure size 1000x600 with 1 Axes>"
      ]
     },
     "metadata": {},
     "output_type": "display_data"
    }
   ],
   "source": [
    "plot_cluster_distribution(clustered_df)"
   ]
  },
  {
   "cell_type": "code",
   "execution_count": 19,
   "id": "059db369-39c0-4ab2-afde-e26499be8d30",
   "metadata": {},
   "outputs": [
    {
     "name": "stdout",
     "output_type": "stream",
     "text": [
      "Cluster 2:\n",
      "\n",
      "1) writes about\n",
      "2) is usually seen in Churches and Cathedrals\n",
      "3) there will\n",
      "4) plants\n",
      "5) the other\n",
      "\n",
      "\n",
      "Cluster 3:\n",
      "\n",
      "1) machine for making a point at the end of a\n",
      "2)  The name TaeTiSeo is a portmanteau of the girls' names\n",
      "3) song has 4 beats per bar at 100 BPM\n",
      "4) common arithmetic to show that the numerator is being divided by the denominator as a whole group.\n",
      "5) skirts, or for carrying things using intergrated pockets as a utility belt\n",
      "\n",
      "\n",
      "Cluster 0:\n",
      "\n",
      "1) and Sonic the Hedgehog\n",
      "2)  For example, Catalan is only official\n",
      "3) At this point enzyme velocity linearly increases.\n",
      "4) Scientists have seen it between 680\n",
      "5) very small objects you need\n",
      "\n",
      "\n",
      "Cluster 1:\n",
      "\n",
      "1) results and gives people links to websites that are most likely what they want\n",
      "2)  So, if the original stimulus was an invading bacterium, these channels disrupt the phospholipid bilayer cell membrane\n",
      "3)  Examples are: oxygen, fresh water, solar energy, timber, and biomass.\n",
      "4)  When this is done, the player's team who had caught the ball, would get possession\n",
      "5) stone or wooden base, and take small parts away until you have made the art you want\n",
      "\n",
      "\n"
     ]
    }
   ],
   "source": [
    "get_random_samples_per_cluster(clustered_df, num_samples=5)"
   ]
  },
  {
   "cell_type": "code",
   "execution_count": 23,
   "id": "c03ed748-822d-4cfe-8f95-587e9cc42599",
   "metadata": {},
   "outputs": [
    {
     "data": {
      "text/html": [
       "<div>\n",
       "<style scoped>\n",
       "    .dataframe tbody tr th:only-of-type {\n",
       "        vertical-align: middle;\n",
       "    }\n",
       "\n",
       "    .dataframe tbody tr th {\n",
       "        vertical-align: top;\n",
       "    }\n",
       "\n",
       "    .dataframe thead th {\n",
       "        text-align: right;\n",
       "    }\n",
       "</style>\n",
       "<table border=\"1\" class=\"dataframe\">\n",
       "  <thead>\n",
       "    <tr style=\"text-align: right;\">\n",
       "      <th></th>\n",
       "      <th>text_id</th>\n",
       "      <th>split</th>\n",
       "      <th>insertion</th>\n",
       "      <th>const_tree</th>\n",
       "      <th>cluster</th>\n",
       "    </tr>\n",
       "  </thead>\n",
       "  <tbody>\n",
       "    <tr>\n",
       "      <th>0</th>\n",
       "      <td>21</td>\n",
       "      <td>train</td>\n",
       "      <td>since 2022.</td>\n",
       "      <td>(ROOT (FRAG (PP (IN since) (NP (CD 2022))) (. ...</td>\n",
       "      <td>2</td>\n",
       "    </tr>\n",
       "    <tr>\n",
       "      <th>1</th>\n",
       "      <td>24</td>\n",
       "      <td>train</td>\n",
       "      <td>(Give up being the King or Queen)</td>\n",
       "      <td>(ROOT (S (-LRB- -LRB-) (S (VP (VB Give) (PRT (...</td>\n",
       "      <td>2</td>\n",
       "    </tr>\n",
       "    <tr>\n",
       "      <th>2</th>\n",
       "      <td>25</td>\n",
       "      <td>train</td>\n",
       "      <td>if</td>\n",
       "      <td>(ROOT (IN if))</td>\n",
       "      <td>2</td>\n",
       "    </tr>\n",
       "    <tr>\n",
       "      <th>3</th>\n",
       "      <td>25</td>\n",
       "      <td>train</td>\n",
       "      <td>song has 4 beats per bar at 100 BPM</td>\n",
       "      <td>(ROOT (S (NP (NN song)) (VP (VBZ has) (NP (NP ...</td>\n",
       "      <td>3</td>\n",
       "    </tr>\n",
       "    <tr>\n",
       "      <th>4</th>\n",
       "      <td>25</td>\n",
       "      <td>train</td>\n",
       "      <td>25 bars</td>\n",
       "      <td>(ROOT (NP (CD 25) (NNS bars)))</td>\n",
       "      <td>2</td>\n",
       "    </tr>\n",
       "    <tr>\n",
       "      <th>...</th>\n",
       "      <td>...</td>\n",
       "      <td>...</td>\n",
       "      <td>...</td>\n",
       "      <td>...</td>\n",
       "      <td>...</td>\n",
       "    </tr>\n",
       "    <tr>\n",
       "      <th>267</th>\n",
       "      <td>306</td>\n",
       "      <td>test_ood</td>\n",
       "      <td>election(or a vote), and</td>\n",
       "      <td>(ROOT (NP (NP (NN election)) (-LRB- -LRB-) (CC...</td>\n",
       "      <td>0</td>\n",
       "    </tr>\n",
       "    <tr>\n",
       "      <th>268</th>\n",
       "      <td>306</td>\n",
       "      <td>test_ood</td>\n",
       "      <td>Each voter will then rank the options accordi...</td>\n",
       "      <td>(ROOT (S (NP (DT Each) (NN voter)) (VP (MD wil...</td>\n",
       "      <td>0</td>\n",
       "    </tr>\n",
       "    <tr>\n",
       "      <th>271</th>\n",
       "      <td>352</td>\n",
       "      <td>test_ood</td>\n",
       "      <td>like a candy bar or it can be in</td>\n",
       "      <td>(ROOT (PP (IN like) (S (NP (NP (DT a) (NN cand...</td>\n",
       "      <td>0</td>\n",
       "    </tr>\n",
       "    <tr>\n",
       "      <th>272</th>\n",
       "      <td>352</td>\n",
       "      <td>test_ood</td>\n",
       "      <td>form like hot chocolate</td>\n",
       "      <td>(ROOT (NP (NP (NN form)) (PP (IN like) (NP (JJ...</td>\n",
       "      <td>0</td>\n",
       "    </tr>\n",
       "    <tr>\n",
       "      <th>275</th>\n",
       "      <td>356</td>\n",
       "      <td>test_ood</td>\n",
       "      <td>Reinforced concrete is stronger than normal</td>\n",
       "      <td>(ROOT (S (NP (VBN Reinforced) (NN concrete)) (...</td>\n",
       "      <td>2</td>\n",
       "    </tr>\n",
       "  </tbody>\n",
       "</table>\n",
       "<p>196 rows × 5 columns</p>\n",
       "</div>"
      ],
      "text/plain": [
       "     text_id     split                                          insertion  \\\n",
       "0         21     train                                        since 2022.   \n",
       "1         24     train                  (Give up being the King or Queen)   \n",
       "2         25     train                                                 if   \n",
       "3         25     train                song has 4 beats per bar at 100 BPM   \n",
       "4         25     train                                            25 bars   \n",
       "..       ...       ...                                                ...   \n",
       "267      306  test_ood                           election(or a vote), and   \n",
       "268      306  test_ood   Each voter will then rank the options accordi...   \n",
       "271      352  test_ood                   like a candy bar or it can be in   \n",
       "272      352  test_ood                            form like hot chocolate   \n",
       "275      356  test_ood        Reinforced concrete is stronger than normal   \n",
       "\n",
       "                                            const_tree  cluster  \n",
       "0    (ROOT (FRAG (PP (IN since) (NP (CD 2022))) (. ...        2  \n",
       "1    (ROOT (S (-LRB- -LRB-) (S (VP (VB Give) (PRT (...        2  \n",
       "2                                       (ROOT (IN if))        2  \n",
       "3    (ROOT (S (NP (NN song)) (VP (VBZ has) (NP (NP ...        3  \n",
       "4                       (ROOT (NP (CD 25) (NNS bars)))        2  \n",
       "..                                                 ...      ...  \n",
       "267  (ROOT (NP (NP (NN election)) (-LRB- -LRB-) (CC...        0  \n",
       "268  (ROOT (S (NP (DT Each) (NN voter)) (VP (MD wil...        0  \n",
       "271  (ROOT (PP (IN like) (S (NP (NP (DT a) (NN cand...        0  \n",
       "272  (ROOT (NP (NP (NN form)) (PP (IN like) (NP (JJ...        0  \n",
       "275  (ROOT (S (NP (VBN Reinforced) (NN concrete)) (...        2  \n",
       "\n",
       "[196 rows x 5 columns]"
      ]
     },
     "execution_count": 23,
     "metadata": {},
     "output_type": "execute_result"
    }
   ],
   "source": [
    "clustered_df"
   ]
  },
  {
   "cell_type": "code",
   "execution_count": 27,
   "id": "aefcc332-5b13-4843-a90c-4b3d17c20dd3",
   "metadata": {
    "scrolled": true
   },
   "outputs": [
    {
     "name": "stdout",
     "output_type": "stream",
     "text": [
      "\n",
      "Cluster 0 Patterns:\n",
      "const_tree\n",
      "(NP (NP (NP ((DT) ((NN)) (PP ((IN) (NP ((CD) ((NNS)))) (PP ((IN) (NP ((CD))) ((.))                                                                                                                          1\n",
      "(SINV (VP ((VBZ)) (NP (NP ((DT) ((JJ) ((NN)) (PP ((IN) (NP ((DT) (NML ((NNP) ((NNPS)) ((NNP)))))                                                                                                            1\n",
      "(S ((CC) (NP (NP ((NNP)) (NP ((DT) ((NNP))))                                                                                                                                                                1\n",
      "(S ((,) (S (NP (NP ((NN)) (SBAR (S (NP ((PRP)) (ADVP ((RB)) (VP ((VBD) (S (VP ((TO) (VP ((VB) (PP ((IN) (NP ((NN) ((.)))))))))) ((CC) (VP ((VBD) (ADJP ((JJ) (S (VP ((TO) (VP ((VB))))))) (-RRB- -RRB-))    1\n",
      "(NP (NP (QP ((DT) ((CD) ((CD) ((CD))) (-LRB- -LRB-) (NP ((CD)))                                                                                                                                             1\n",
      "Name: count, dtype: int64\n",
      "\n",
      "Cluster 1 Patterns:\n",
      "const_tree\n",
      "(S (NP ((NNS)) ((CC) (VP ((VBZ) (NP ((NNS)) (NP (NP ((NNS)) (PP ((IN) (NP (NP ((NNS)) (SBAR (WHNP ((WDT)) (S (VP ((VBP) (ADJP ((RBS) ((JJ) (SBAR (WHNP ((WP)) (S (NP ((PRP)) (VP ((VBP)))))))))))))                      1\n",
      "(S ((RB) ((,) (SBAR ((IN) (S (NP ((DT) ((JJ) ((NN)) (VP ((VBD) (NP ((DT) ((JJ) ((NN))))) ((,) (NP ((DT) ((NNS)) (VP ((VBP) (NP ((DT) ((JJ) ((NN) ((NN) ((NN))))                                                          1\n",
      "(S (SBAR (WHADVP ((WRB)) (S (NP ((DT)) (VP ((VBZ) (VP ((VBN))))) ((,) (NP (NP (NP ((DT) ((NN) ((POS)) ((NN)) (SBAR (WHNP ((WP)) (S (VP ((VBD) (VP ((VBN) (NP ((DT) ((NN))))))) ((,) (VP ((MD) (VP ((VB) (NP ((NN)))))    1\n",
      "(S (NP ((DT)) (VP ((VBP) (NP (NP (NP ((NNS)) ((,) (NP ((NNS)) ((,) (NP ((NNS)) ((CC) (NP ((NN) ((NNS))) ((,) (CONJP ((RB) ((RB) ((IN)) (NP ((NNS)))))                                                                    1\n",
      "(S (S (NP ((NN) ((CC) ((JJ) ((NN))) ((,) ((CC) (VP ((VB) (NP ((JJ) ((NNS)) (ADVP ((RB)) (SBAR ((IN) (S (NP ((PRP)) (VP ((VBP) (VP ((VBN) (NP (NP ((DT) ((NN)) (SBAR (S (NP ((PRP)) (VP ((VBP)))))))))))                  1\n",
      "Name: count, dtype: int64\n",
      "\n",
      "Cluster 2 Patterns:\n",
      "const_tree\n",
      "(NP ((NN))          7\n",
      "(NP ((NNS))         5\n",
      "(NP ((DT) ((NN))    4\n",
      "(NP ((DT))          3\n",
      "((.)                2\n",
      "Name: count, dtype: int64\n",
      "\n",
      "Cluster 3 Patterns:\n",
      "const_tree\n",
      "(S (NP ((NN)) (VP ((VBZ) (NP (NP ((CD) ((NNS)) (PP ((IN) (NP ((NN))) (PP ((IN) (NP ((CD) ((NN))))))                                                                                                                                                                                                                                                         1\n",
      "(S (NP (NP ((DT) ((NN)) ((CC) (NP (NP ((DT) ((NN)) (PP ((IN) (NP ((DT) ((NN))))) (VP ((VBZ) (VP ((VBN) (S (NP ((DT) ((NN) ((NN))))) ((.))                                                                                                                                                                                                                   1\n",
      "(FRAG ((,) (NP (NP (ADVP ((RB)) (NP (NP ((DT) ((NN)) (PP ((IN) (NP ((NNP))))) ((,) ((CC) (NP (NP ((DT) ((NN)) (PP ((IN) (NP ((NNP))))))                                                                                                                                                                                                                     1\n",
      "(NP (NP ((JJ) ((JJ) ((NNS)) (PP ((IN) (NP (NP (NP ((NNS)) (PP ((IN) (NP ((NNS)))) (SBAR (WHNP ((WDT)) (S (VP ((VBP) (ADVP ((RB)) (VP (VP ((VBN) (PP ((IN) (NP ((DT) ((NN)))) ((,) ((CC) (ADVP ((RB)) (PP ((IN) (NP ((NNS) ((CC) ((NNS))) ((,) ((CC) (PP ((IN) (NP ((NN))))))))))                                                                            1\n",
      "(S (S (NP (NP ((DT) ((NN)) (PP ((IN) (NP ((NNP)))) ((,) (ADVP ((RB)) (VP ((MD) (VP ((VB) (PP ((IN) (NP ((DT) ((NN)))))) ((CC) (S (NP ((NNP)) (VP ((MD) ((RB) (SBAR ((IN) (S (NP ((PRP)) (VP ((VBZ) (NP (NP ((DT) ((JJ) ((NN)) (PP ((IN) (NP (NP ((NNP)) (PP ((IN) (NP ((NNP))))))))) ((,) (SBAR (ADVP ((RB)) ((IN) (S (NP ((PRP)) (VP ((VBZ)))))) ((DT))    1\n",
      "Name: count, dtype: int64\n"
     ]
    }
   ],
   "source": [
    "analyze_clusters(clustered_df, num_clusters=4)"
   ]
  },
  {
   "cell_type": "markdown",
   "id": "d23c7905-4db2-440a-9245-715b7c7b2fd9",
   "metadata": {},
   "source": [
    "# Semantic elaboration background"
   ]
  },
  {
   "cell_type": "code",
   "execution_count": 35,
   "id": "92b428f6-dc49-415b-a741-5692bb556b83",
   "metadata": {},
   "outputs": [],
   "source": [
    "import pandas as pd\n",
    "background_df = pd.read_csv(\"../data/elaborations/background.csv\")"
   ]
  },
  {
   "cell_type": "code",
   "execution_count": 36,
   "id": "27cdf37d-f93b-4f18-9290-5cbdc602ade8",
   "metadata": {},
   "outputs": [
    {
     "data": {
      "image/png": "[encoded data removed]",
      "text/plain": [
       "<Figure size 1000x600 with 1 Axes>"
      ]
     },
     "metadata": {},
     "output_type": "display_data"
    }
   ],
   "source": [
    "plot_cluster_distribution(clustered_df)"
   ]
  },
  {
   "cell_type": "code",
   "execution_count": 39,
   "id": "ded492f3-9d86-4aaf-937b-8368b46a362e",
   "metadata": {},
   "outputs": [
    {
     "name": "stdout",
     "output_type": "stream",
     "text": [
      "Cluster 0:\n",
      "\n",
      "1) The clubs plays at the Tofiq Bahramov Republican Stadium,\n",
      "2)  It is different from Inner Mongolia, which is\n",
      "3) Saare Jahan se Achcha is a poem.\n",
      "4)  Costas died on 15 December 2020, aged 78.\n",
      "5) de Margerie was born in Mareuil-sur-Lay, France.\n",
      "\n",
      "\n",
      "Cluster 1:\n",
      "\n",
      "1)  The third was the\n",
      "2) disease two months later on May 27\n",
      "3)  It refers to the a\n",
      "4) are B cells(or\" B\n",
      "5) who wants to join a gang\n",
      "\n",
      "\n",
      "Cluster 2:\n",
      "\n",
      "1) Florida\n",
      "2) southwestern\n",
      "3) The Province of\n",
      "4) Easy listening\n",
      "5) until his death.\n",
      "\n",
      "\n",
      "Cluster 3:\n",
      "\n",
      "1)  On 3 January 2020, Brezinka died in Telfes, in the Austrian state of Tyrol.\n",
      "2) discoered in its valley: The Acheulean is named after [[Saint-Acheul], a suburb of Amiens\n",
      "3) , at the age of 67 from sepsis caused by COVID-19\n",
      "4) Despite the departure of Arch, Fates Warning's popularity continued with their\n",
      "5) He was born in Tuzla, Kingdom of Yugoslavia(modern-day Bosnia).\n",
      "\n",
      "\n",
      "Cluster 4:\n",
      "\n",
      "1) Some sources mention 1947 as her birth date, while others say 1948\n",
      "2) died from pneumonia caused by Typhoid fever in Chicago\n",
      "3) He is the angel bodyguard of Palutena who appeared\n",
      "4) programs that is designed for the use of the Linux\n",
      "5) A hard disk or hard disk drive is used by computers to store information for a very long time.\n",
      "\n",
      "\n",
      "Cluster 5:\n",
      "\n",
      "1)  She was on the front a campaign for the Australian Women's Weekly and was one of six models featured in plus-size lingerie company Lane Bryant's #ImNoAngel campaign in April 2015.\n",
      "2) Olkin died from complications of colorectal cancer at his home in Palo Alto, California on April 28, 2016, aged 91.\n",
      "3)  The lower air was Erebos, the mists of darkness, which enveloped the dark places beneath the earth and the realm of the dead.\n",
      "4) In 2015, he was a member of the Verandas Willems cycling team and in 2016 he was a member of the Roubaix-Lille Métropole.\n",
      "5) Atomic mass(also known as the atomic weight) is a term for the mass of a single atom of a chemical element.\n",
      "\n",
      "\n"
     ]
    }
   ],
   "source": [
    "get_random_samples_per_cluster(clustered_df, num_samples=5)"
   ]
  },
  {
   "cell_type": "markdown",
   "id": "c7a944ee-1938-4f78-a068-58b8ee0ef83b",
   "metadata": {},
   "source": [
    "# Semantic elaboration generic"
   ]
  },
  {
   "cell_type": "code",
   "execution_count": 50,
   "id": "b87e21e0-79aa-4a13-a550-93e0828e3b89",
   "metadata": {},
   "outputs": [
    {
     "data": {
      "image/png": "[encoded data removed]",
      "text/plain": [
       "<Figure size 1000x600 with 1 Axes>"
      ]
     },
     "metadata": {},
     "output_type": "display_data"
    }
   ],
   "source": [
    "plot_cluster_distribution(clustered_df)"
   ]
  },
  {
   "cell_type": "code",
   "execution_count": 51,
   "id": "bdd37a32-e71a-4652-bf6a-1cd95490d7fc",
   "metadata": {},
   "outputs": [
    {
     "name": "stdout",
     "output_type": "stream",
     "text": [
      "Cluster 0:\n",
      "\n",
      "1) Linux itself) and application\n",
      "2) (British American Scientific International Commercial)\n",
      "3) 1979 near Camden\n",
      "4) (Arabic: سفيان الشعري; born July\n",
      "5) and authenticated(via rsh or SFTP)\n",
      "\n",
      "\n",
      "Cluster 1:\n",
      "\n",
      "1) a county\n",
      "2) concentration camp\n",
      "3)  His team at\n",
      "4) 17th and current\n",
      "5) - 18 July 2020\n",
      "\n",
      "\n",
      "Cluster 2:\n",
      "\n",
      "1) dairy food used in many\n",
      "2) from 2008 through 2013\n",
      "3) able to bowl both fast and as a spinner, Sobers is\n",
      "4) that is played every holiday season.\n",
      "5) musician, best known as the co-founder and\n",
      "\n",
      "\n",
      "Cluster 3:\n",
      "\n",
      "1) behaves in an immoral way: a man who has relationships with lots of women.\n",
      "2) He finished his law studies at the University of Ghent in 1885.\n",
      "3) She hosted Wowowee, at the same time she appeared as Veronica in the afternoon TV series Rosalka.\n",
      "4) ordered the freedom of all slaves residing in those states still in rebellion\n",
      "5)  Photos of the person's head are scanned into the system to prevent identity theft.\n",
      "\n",
      "\n"
     ]
    }
   ],
   "source": [
    "get_random_samples_per_cluster(clustered_df, num_samples=5)"
   ]
  }
 ],
 "metadata": {
  "kernelspec": {
   "display_name": "Python 3 (ipykernel)",
   "language": "python",
   "name": "python3"
  },
  "language_info": {
   "codemirror_mode": {
    "name": "ipython",
    "version": 3
   },
   "file_extension": ".py",
   "mimetype": "text/x-python",
   "name": "python",
   "nbconvert_exporter": "python",
   "pygments_lexer": "ipython3",
   "version": "3.9.6"
  }
 },
 "nbformat": 4,
 "nbformat_minor": 5
}
