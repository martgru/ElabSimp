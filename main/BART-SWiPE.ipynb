{
 "cells": [
  {
   "cell_type": "markdown",
   "id": "88295d90-0ab3-4d78-9193-3953f2d00106",
   "metadata": {
    "jp-MarkdownHeadingCollapsed": true
   },
   "source": [
    "# GPU setup"
   ]
  },
  {
   "cell_type": "code",
   "execution_count": 1,
   "id": "ad23d6f0-f986-46f1-b0ce-eee16a2623ce",
   "metadata": {},
   "outputs": [
    {
     "name": "stdout",
     "output_type": "stream",
     "text": [
      "Tue Sep  3 11:52:52 2024       \n",
      "+-----------------------------------------------------------------------------+\n",
      "| NVIDIA-SMI 525.105.17   Driver Version: 525.105.17   CUDA Version: 12.0     |\n",
      "|-------------------------------+----------------------+----------------------+\n",
      "| GPU  Name        Persistence-M| Bus-Id        Disp.A | Volatile Uncorr. ECC |\n",
      "| Fan  Temp  Perf  Pwr:Usage/Cap|         Memory-Usage | GPU-Util  Compute M. |\n",
      "|                               |                      |               MIG M. |\n",
      "|===============================+======================+======================|\n",
      "|   0  Tesla V100-SXM2...  On   | 00000000:3D:00.0 Off |                    0 |\n",
      "| N/A   40C    P0    46W / 300W |      3MiB / 16384MiB |      0%   E. Process |\n",
      "|                               |                      |                  N/A |\n",
      "+-------------------------------+----------------------+----------------------+\n",
      "|   1  Tesla V100-SXM2...  On   | 00000000:3E:00.0 Off |                    0 |\n",
      "| N/A   38C    P0    44W / 300W |      3MiB / 16384MiB |      0%   E. Process |\n",
      "|                               |                      |                  N/A |\n",
      "+-------------------------------+----------------------+----------------------+\n",
      "|   2  Tesla V100-SXM2...  On   | 00000000:B1:00.0 Off |                    0 |\n",
      "| N/A   40C    P0    47W / 300W |      3MiB / 16384MiB |      0%   E. Process |\n",
      "|                               |                      |                  N/A |\n",
      "+-------------------------------+----------------------+----------------------+\n",
      "|   3  Tesla V100-SXM2...  On   | 00000000:B2:00.0 Off |                    0 |\n",
      "| N/A   40C    P0    44W / 300W |      3MiB / 16384MiB |      0%   E. Process |\n",
      "|                               |                      |                  N/A |\n",
      "+-------------------------------+----------------------+----------------------+\n",
      "                                                                               \n",
      "+-----------------------------------------------------------------------------+\n",
      "| Processes:                                                                  |\n",
      "|  GPU   GI   CI        PID   Type   Process name                  GPU Memory |\n",
      "|        ID   ID                                                   Usage      |\n",
      "|=============================================================================|\n",
      "|  No running processes found                                                 |\n",
      "+-----------------------------------------------------------------------------+\n"
     ]
    }
   ],
   "source": [
    "!nvidia-smi"
   ]
  },
  {
   "cell_type": "code",
   "execution_count": 1,
   "id": "86e1f3ff-e8fd-4807-8d2c-12b36188a2c3",
   "metadata": {},
   "outputs": [
    {
     "name": "stdout",
     "output_type": "stream",
     "text": [
      "True\n",
      "NVIDIA H100 MIG 3g.47gb\n",
      "Memory Allocated: 0 bytes\n",
      "Memory Cached: 0 bytes\n"
     ]
    }
   ],
   "source": [
    "import torch\n",
    "\n",
    "print(torch.cuda.is_available())\n",
    "if torch.cuda.is_available():\n",
    "    print(torch.cuda.get_device_name(0))\n",
    "    print(f\"Memory Allocated: {torch.cuda.memory_allocated(0)} bytes\")\n",
    "    print(f\"Memory Cached: {torch.cuda.memory_reserved(0)} bytes\")"
   ]
  },
  {
   "cell_type": "code",
   "execution_count": 2,
   "id": "3d4b67f7-c12d-447e-9ada-4f05371de6a8",
   "metadata": {},
   "outputs": [],
   "source": [
    "import difflib\n",
    "from IPython.display import display, HTML\n",
    "\n",
    "def highlight_diff(sentence1, sentence2):\n",
    "    diff = difflib.ndiff(sentence1, sentence2)\n",
    "    highlighted = []\n",
    "    \n",
    "    for char in diff:\n",
    "        if char.startswith('-'):\n",
    "            highlighted.append(f\"<span style='color:red'>{char[2:]}</span>\")\n",
    "        elif char.startswith('+'):\n",
    "            highlighted.append(f\"<span style='color:green'>{char[2:]}</span>\")\n",
    "        else:\n",
    "            highlighted.append(char[2:])\n",
    "    \n",
    "    return ''.join(highlighted)"
   ]
  },
  {
   "cell_type": "markdown",
   "id": "c9bc177a-ca6d-4ee1-b327-75b217ae4698",
   "metadata": {
    "jp-MarkdownHeadingCollapsed": true
   },
   "source": [
    "# BART-SWiPE large\n",
    "\n",
    "https://huggingface.co/Salesforce/bart-large-swipe"
   ]
  },
  {
   "cell_type": "code",
   "execution_count": 1,
   "id": "d69e45f4-5350-4b17-943b-e1868e4095c0",
   "metadata": {},
   "outputs": [],
   "source": [
    "from transformers import AutoTokenizer, AutoModelForSeq2SeqLM\n",
    "\n",
    "tokenizer = AutoTokenizer.from_pretrained(\"Salesforce/bart-large-swipe\")\n",
    "model = AutoModelForSeq2SeqLM.from_pretrained(\"Salesforce/bart-large-swipe\")"
   ]
  },
  {
   "cell_type": "markdown",
   "id": "2dca34a2-67ee-4c54-89a6-c20816fcd266",
   "metadata": {},
   "source": [
    "## Settings"
   ]
  },
  {
   "cell_type": "markdown",
   "id": "3d305e04-7383-4c4a-961e-4f9e73963abe",
   "metadata": {},
   "source": [
    "### Tokenizer"
   ]
  },
  {
   "cell_type": "code",
   "execution_count": 4,
   "id": "349c7508-47b0-4e01-86c0-e4bcc0d65d01",
   "metadata": {},
   "outputs": [
    {
     "name": "stdout",
     "output_type": "stream",
     "text": [
      "Tokenizer vocab size: 50265\n",
      "Tokenizer special tokens: ['<s>', '</s>', '<unk>', '<pad>', '<mask>']\n",
      "Max model input length: 1024\n",
      "Pad token: <pad>\n",
      "BOS token: <s>\n",
      "EOS token: </s>\n",
      "\n",
      "Tokenizer configuration:\n",
      "BartTokenizerFast(name_or_path='Salesforce/bart-large-swipe', vocab_size=50265, model_max_length=1024, is_fast=True, padding_side='right', truncation_side='right', special_tokens={'bos_token': '<s>', 'eos_token': '</s>', 'unk_token': '<unk>', 'sep_token': '</s>', 'pad_token': '<pad>', 'cls_token': '<s>', 'mask_token': '<mask>'}, clean_up_tokenization_spaces=True),  added_tokens_decoder={\n",
      "\t0: AddedToken(\"<s>\", rstrip=False, lstrip=False, single_word=False, normalized=False, special=True),\n",
      "\t1: AddedToken(\"<pad>\", rstrip=False, lstrip=False, single_word=False, normalized=False, special=True),\n",
      "\t2: AddedToken(\"</s>\", rstrip=False, lstrip=False, single_word=False, normalized=False, special=True),\n",
      "\t3: AddedToken(\"<unk>\", rstrip=False, lstrip=False, single_word=False, normalized=False, special=True),\n",
      "\t50264: AddedToken(\"<mask>\", rstrip=False, lstrip=True, single_word=False, normalized=False, special=True),\n",
      "}\n"
     ]
    }
   ],
   "source": [
    "# settings\n",
    "print(\"Tokenizer vocab size:\", tokenizer.vocab_size)\n",
    "print(\"Tokenizer special tokens:\", tokenizer.all_special_tokens)\n",
    "print(\"Max model input length:\", tokenizer.model_max_length)\n",
    "print(\"Pad token:\", tokenizer.pad_token)\n",
    "print(\"BOS token:\", tokenizer.bos_token)\n",
    "print(\"EOS token:\", tokenizer.eos_token, end='\\n\\n')\n",
    "\n",
    "# configuration\n",
    "print(\"Tokenizer configuration:\")\n",
    "print(tokenizer)"
   ]
  },
  {
   "cell_type": "code",
   "execution_count": 10,
   "id": "d32269c7-fb28-4e79-b5ca-d0afdf30e3c1",
   "metadata": {},
   "outputs": [
    {
     "name": "stdout",
     "output_type": "stream",
     "text": [
      "{'bos_token': '<s>', 'eos_token': '</s>', 'unk_token': '<unk>', 'sep_token': '</s>', 'pad_token': '<pad>', 'cls_token': '<s>', 'mask_token': '<mask>'}\n"
     ]
    }
   ],
   "source": [
    "print(tokenizer.special_tokens_map)"
   ]
  },
  {
   "cell_type": "code",
   "execution_count": 7,
   "id": "bd60af70-80a2-4fcd-9c87-e0812fe69b91",
   "metadata": {},
   "outputs": [
    {
     "name": "stdout",
     "output_type": "stream",
     "text": [
      "Tokenizer truncation: right\n",
      "Tokenizer padding: right\n",
      "Model max length: 1024\n"
     ]
    }
   ],
   "source": [
    "print(\"Tokenizer truncation:\", tokenizer.truncation_side)\n",
    "print(\"Tokenizer padding:\", tokenizer.padding_side)\n",
    "print(\"Model max length:\", tokenizer.model_max_length)"
   ]
  },
  {
   "cell_type": "code",
   "execution_count": 11,
   "id": "4a628073-9e14-4ccb-aac7-6ae78fc2f588",
   "metadata": {},
   "outputs": [
    {
     "name": "stdout",
     "output_type": "stream",
     "text": [
      "Added tokens: {0: AddedToken(\"<s>\", rstrip=False, lstrip=False, single_word=False, normalized=False, special=True), 1: AddedToken(\"<pad>\", rstrip=False, lstrip=False, single_word=False, normalized=False, special=True), 2: AddedToken(\"</s>\", rstrip=False, lstrip=False, single_word=False, normalized=False, special=True), 3: AddedToken(\"<unk>\", rstrip=False, lstrip=False, single_word=False, normalized=False, special=True), 50264: AddedToken(\"<mask>\", rstrip=False, lstrip=True, single_word=False, normalized=False, special=True)}\n"
     ]
    }
   ],
   "source": [
    "print(\"Added tokens:\", tokenizer.added_tokens_decoder)"
   ]
  },
  {
   "cell_type": "code",
   "execution_count": 8,
   "id": "9539a4dc-6c43-4160-82a4-be0219ff771d",
   "metadata": {},
   "outputs": [
    {
     "data": {
      "text/plain": [
       "{'errors': 'replace',\n",
       " 'bos_token': AddedToken(\"<s>\", rstrip=False, lstrip=False, single_word=False, normalized=False, special=True),\n",
       " 'eos_token': AddedToken(\"</s>\", rstrip=False, lstrip=False, single_word=False, normalized=False, special=True),\n",
       " 'sep_token': AddedToken(\"</s>\", rstrip=False, lstrip=False, single_word=False, normalized=False, special=True),\n",
       " 'cls_token': AddedToken(\"<s>\", rstrip=False, lstrip=False, single_word=False, normalized=False, special=True),\n",
       " 'unk_token': AddedToken(\"<unk>\", rstrip=False, lstrip=False, single_word=False, normalized=False, special=True),\n",
       " 'pad_token': AddedToken(\"<pad>\", rstrip=False, lstrip=False, single_word=False, normalized=False, special=True),\n",
       " 'mask_token': AddedToken(\"<mask>\", rstrip=False, lstrip=True, single_word=False, normalized=False, special=True),\n",
       " 'add_prefix_space': False,\n",
       " 'trim_offsets': True,\n",
       " 'clean_up_tokenization_spaces': True,\n",
       " 'model_max_length': 1024,\n",
       " 'name_or_path': 'Salesforce/bart-large-swipe'}"
      ]
     },
     "execution_count": 8,
     "metadata": {},
     "output_type": "execute_result"
    }
   ],
   "source": [
    "tokenizer.init_kwargs"
   ]
  },
  {
   "cell_type": "markdown",
   "id": "632285de-a49a-426c-94fd-c9119e9da06d",
   "metadata": {
    "jp-MarkdownHeadingCollapsed": true
   },
   "source": [
    "### Generation config"
   ]
  },
  {
   "cell_type": "code",
   "execution_count": 8,
   "id": "69da877d-4936-4b81-b287-a4511ea756de",
   "metadata": {},
   "outputs": [
    {
     "data": {
      "text/plain": [
       "GenerationConfig {\n",
       "  \"bos_token_id\": 0,\n",
       "  \"decoder_start_token_id\": 2,\n",
       "  \"early_stopping\": true,\n",
       "  \"eos_token_id\": 2,\n",
       "  \"forced_bos_token_id\": 0,\n",
       "  \"forced_eos_token_id\": 2,\n",
       "  \"no_repeat_ngram_size\": 3,\n",
       "  \"num_beams\": 4,\n",
       "  \"pad_token_id\": 1\n",
       "}"
      ]
     },
     "execution_count": 8,
     "metadata": {},
     "output_type": "execute_result"
    }
   ],
   "source": [
    "model.generation_config"
   ]
  },
  {
   "cell_type": "markdown",
   "id": "eedf8c2f-2777-4857-9c51-bbdc20ce2671",
   "metadata": {
    "jp-MarkdownHeadingCollapsed": true
   },
   "source": [
    "### Config"
   ]
  },
  {
   "cell_type": "code",
   "execution_count": 4,
   "id": "6f2ef867-a14e-4cfc-9403-d7bc7a01cc86",
   "metadata": {},
   "outputs": [
    {
     "name": "stdout",
     "output_type": "stream",
     "text": [
      "BartConfig {\n",
      "  \"_name_or_path\": \"Salesforce/bart-large-swipe\",\n",
      "  \"activation_dropout\": 0.1,\n",
      "  \"activation_function\": \"gelu\",\n",
      "  \"add_bias_logits\": false,\n",
      "  \"add_final_layer_norm\": false,\n",
      "  \"architectures\": [\n",
      "    \"BartForConditionalGeneration\"\n",
      "  ],\n",
      "  \"attention_dropout\": 0.1,\n",
      "  \"bos_token_id\": 0,\n",
      "  \"classif_dropout\": 0.1,\n",
      "  \"classifier_dropout\": 0.0,\n",
      "  \"d_model\": 1024,\n",
      "  \"decoder_attention_heads\": 16,\n",
      "  \"decoder_ffn_dim\": 4096,\n",
      "  \"decoder_layerdrop\": 0.0,\n",
      "  \"decoder_layers\": 12,\n",
      "  \"decoder_start_token_id\": 2,\n",
      "  \"dropout\": 0.1,\n",
      "  \"early_stopping\": true,\n",
      "  \"encoder_attention_heads\": 16,\n",
      "  \"encoder_ffn_dim\": 4096,\n",
      "  \"encoder_layerdrop\": 0.0,\n",
      "  \"encoder_layers\": 12,\n",
      "  \"eos_token_id\": 2,\n",
      "  \"forced_bos_token_id\": 0,\n",
      "  \"forced_eos_token_id\": 2,\n",
      "  \"gradient_checkpointing\": false,\n",
      "  \"id2label\": {\n",
      "    \"0\": \"LABEL_0\",\n",
      "    \"1\": \"LABEL_1\",\n",
      "    \"2\": \"LABEL_2\"\n",
      "  },\n",
      "  \"init_std\": 0.02,\n",
      "  \"is_encoder_decoder\": true,\n",
      "  \"label2id\": {\n",
      "    \"LABEL_0\": 0,\n",
      "    \"LABEL_1\": 1,\n",
      "    \"LABEL_2\": 2\n",
      "  },\n",
      "  \"max_position_embeddings\": 1024,\n",
      "  \"model_type\": \"bart\",\n",
      "  \"no_repeat_ngram_size\": 3,\n",
      "  \"normalize_before\": false,\n",
      "  \"num_beams\": 4,\n",
      "  \"num_hidden_layers\": 12,\n",
      "  \"pad_token_id\": 1,\n",
      "  \"scale_embedding\": false,\n",
      "  \"task_specific_params\": {\n",
      "    \"summarization\": {\n",
      "      \"length_penalty\": 1.0,\n",
      "      \"max_length\": 128,\n",
      "      \"min_length\": 12,\n",
      "      \"num_beams\": 4\n",
      "    },\n",
      "    \"summarization_cnn\": {\n",
      "      \"length_penalty\": 2.0,\n",
      "      \"max_length\": 142,\n",
      "      \"min_length\": 56,\n",
      "      \"num_beams\": 4\n",
      "    },\n",
      "    \"summarization_xsum\": {\n",
      "      \"length_penalty\": 1.0,\n",
      "      \"max_length\": 62,\n",
      "      \"min_length\": 11,\n",
      "      \"num_beams\": 6\n",
      "    }\n",
      "  },\n",
      "  \"torch_dtype\": \"float32\",\n",
      "  \"transformers_version\": \"4.42.4\",\n",
      "  \"use_cache\": true,\n",
      "  \"vocab_size\": 50265\n",
      "}\n",
      "\n"
     ]
    }
   ],
   "source": [
    "print(model.config)"
   ]
  },
  {
   "cell_type": "code",
   "execution_count": 7,
   "id": "1a38e5b6-04da-4ce0-bbf5-874b10c62ecd",
   "metadata": {},
   "outputs": [
    {
     "name": "stdout",
     "output_type": "stream",
     "text": [
      "2\n",
      "0\n",
      "2\n",
      "1\n",
      "0\n",
      "2\n"
     ]
    }
   ],
   "source": [
    "print(model.config.decoder_start_token_id )\n",
    "print(model.config.bos_token_id )\n",
    "print(model.config.eos_token_id)\n",
    "print(model.config.pad_token_id ) \n",
    "print(model.config.forced_bos_token_id )\n",
    "print(model.config.forced_eos_token_id)"
   ]
  },
  {
   "cell_type": "code",
   "execution_count": 5,
   "id": "8fb70f1b-f600-4c4a-91b6-fb605c33550d",
   "metadata": {},
   "outputs": [],
   "source": [
    "complex_s = \"\"\"The micrometre (International spelling as used by the International Bureau of Weights and Measures; SI\n",
    "symbol: μm) or micrometer (American spelling), also commonly known as a micron, is an SI derived\n",
    "unit of length equaling 1x10-6 of a metre (SI standard prefix “micro-” = 10-6); that is, one millionth of\n",
    "a metre (or one thousandth of a millimetre, 0.001 mm, or about 0.000039 inch). The micrometre is a\n",
    "common unit of measurement for wavelengths of infrared radiation as well as sizes of biological cells and\n",
    "bacteria, and for grading wool by the diameter of the fibres. The width of a single human hair ranges from\n",
    "approximately 10 to 200 μm. The first and longest human chromosome is approximately 10μm in length.\"\"\""
   ]
  },
  {
   "cell_type": "code",
   "execution_count": 42,
   "id": "167f7025-76e7-4bb3-90c6-e1c0bdfbd192",
   "metadata": {},
   "outputs": [
    {
     "name": "stdout",
     "output_type": "stream",
     "text": [
      "{'input_ids': tensor([[    0, 13092,  2911,  4591,    35,    20, 14926,  5638,   594,   241,\n",
      "            36, 29743, 24684,    25,   341,    30,     5,  1016,  4750,     9,\n",
      "           166,  6183,     8, 34131,   131, 17982, 50118,  8628, 43891,    35,\n",
      "         46911,   119,    43,    50, 14926,  5638,  5906,    36,  4310, 24684,\n",
      "           238,    67, 10266,   684,    25,    10, 14926,  2839,     6,    16,\n",
      "            41, 17982, 16934, 50118, 19304,     9,  5933,  4065,  8279,   112,\n",
      "          1178,   698,    12,   401,     9,    10, 24697,    36,  6850,  2526,\n",
      "         46622,    44,    48, 35228,    12,    17,    46,  5457,   158,    12,\n",
      "           401,  4397,    14,    16,     6,    65,   153,   212,     9, 50118,\n",
      "           102, 24697,    36,   368,    65,  7673,   212,     9,    10,  7259,\n",
      "         12965,   241,     6,   321,     4, 19089, 15408,     6,    50,    59,\n",
      "           321,     4, 14200,  3416, 10468,   322,    20, 14926,  5638,   594,\n",
      "           241,    16,    10, 50118, 27278,  1933,     9, 20104,    13, 43105,\n",
      "             9, 30175, 13785,    25,   157,    25, 10070,     9, 12243,  4590,\n",
      "             8, 50118,   428, 42069,     6,     8,    13, 32178, 24787,    30,\n",
      "             5, 26089,     9,     5, 19961,  1535,     4,    20, 22523,     9,\n",
      "            10,   881,  1050,  2549, 16296,    31, 50118, 39073,   158,     7,\n",
      "          1878, 46911,   119,     4,    20,    78,     8,  6463,  1050, 44198,\n",
      "            16,  2219,   158, 47049,   119,    11,  5933,     4,     2]]), 'attention_mask': tensor([[1, 1, 1, 1, 1, 1, 1, 1, 1, 1, 1, 1, 1, 1, 1, 1, 1, 1, 1, 1, 1, 1, 1, 1,\n",
      "         1, 1, 1, 1, 1, 1, 1, 1, 1, 1, 1, 1, 1, 1, 1, 1, 1, 1, 1, 1, 1, 1, 1, 1,\n",
      "         1, 1, 1, 1, 1, 1, 1, 1, 1, 1, 1, 1, 1, 1, 1, 1, 1, 1, 1, 1, 1, 1, 1, 1,\n",
      "         1, 1, 1, 1, 1, 1, 1, 1, 1, 1, 1, 1, 1, 1, 1, 1, 1, 1, 1, 1, 1, 1, 1, 1,\n",
      "         1, 1, 1, 1, 1, 1, 1, 1, 1, 1, 1, 1, 1, 1, 1, 1, 1, 1, 1, 1, 1, 1, 1, 1,\n",
      "         1, 1, 1, 1, 1, 1, 1, 1, 1, 1, 1, 1, 1, 1, 1, 1, 1, 1, 1, 1, 1, 1, 1, 1,\n",
      "         1, 1, 1, 1, 1, 1, 1, 1, 1, 1, 1, 1, 1, 1, 1, 1, 1, 1, 1, 1, 1, 1, 1, 1,\n",
      "         1, 1, 1, 1, 1, 1, 1, 1, 1, 1, 1, 1, 1, 1, 1, 1, 1, 1, 1, 1, 1]])}\n"
     ]
    }
   ],
   "source": [
    "INSTRUCTION = \"simplify: \"\n",
    "inputs = tokenizer(INSTRUCTION + complex_s, return_tensors=\"pt\", truncation=True)\n",
    "print(inputs)"
   ]
  },
  {
   "cell_type": "code",
   "execution_count": 43,
   "id": "80fe84c1-fc43-4cb4-be90-a6bf64f5e29a",
   "metadata": {},
   "outputs": [
    {
     "name": "stdout",
     "output_type": "stream",
     "text": [
      "tensor([[    2,     0,   133, 14926,  5638,   594,   241,    36, 29743, 24684,\n",
      "            25,   341,    30,     5,  1016,  4750,     9,   166,  6183,     8,\n",
      "         34131,   131, 17982, 50118,  8628, 43891,    35, 46911,   119,    43,\n",
      "            50, 14926,  5638,  5906,    36,  4310, 24684,   238,    67, 10266,\n",
      "           684,    25,    10, 14926,  2839,     6,    16,    41, 17982, 16934,\n",
      "          1933,     9,  5933,  4065,  8279,   112,  1178,   698,    12,   401,\n",
      "             9,    10, 24697,    36,  6850,  2526, 46622,    44,    48, 35228,\n",
      "            12,    17,    46,  5457,   158,    12,   401,  4397,    14,    16,\n",
      "             6,    65,   153,   212,     9, 50118,   102, 24697,    36,   368,\n",
      "            65,  7673,   212,     9,    10,  7259, 12965,   241,     6,   321,\n",
      "             4, 19089, 15408,     6,    50,    59,   321,     4, 14200,  3416,\n",
      "         10468,   322,     2]])\n"
     ]
    }
   ],
   "source": [
    "output_ids = model.generate(**inputs, max_length=200, min_length=50, length_penalty=2.0, num_beams=4, early_stopping=True)\n",
    "print(output_ids)"
   ]
  },
  {
   "cell_type": "code",
   "execution_count": 44,
   "id": "542e4efb-cf9b-4877-b52e-c79ec8cee8c9",
   "metadata": {},
   "outputs": [
    {
     "name": "stdout",
     "output_type": "stream",
     "text": [
      "The micrometre (International spelling as used by the International Bureau of Weights and Measures; SI\n",
      "symbol: μm) or micrometer (American spelling), also commonly known as a micron, is an SI derived unit of length equaling 1x10-6 of a metre (SI standard prefix “micro-” = 10-6); that is, one millionth of\n",
      "a metre (or one thousandth of a millimetre, 0.001 mm, or about 0.000039 inch).\n"
     ]
    }
   ],
   "source": [
    "simplified_text = tokenizer.decode(output_ids[0], skip_special_tokens=True)\n",
    "print(simplified_text)"
   ]
  },
  {
   "cell_type": "code",
   "execution_count": 45,
   "id": "2984c6df-4fc7-4734-9ca3-1f2197f1ddfc",
   "metadata": {},
   "outputs": [
    {
     "data": {
      "text/html": [
       "The micrometre (International spelling as used by the International Bureau of Weights and Measures; SI\n",
       "symbol: μm) or micrometer (American spelling), also commonly known as a micron, is an SI derived<span style='color:red'>\n",
       "</span><span style='color:green'> </span>unit of length equaling 1x10-6 of a metre (SI standard prefix “micro-” = 10-6); that is, one millionth of\n",
       "a metre (or one thousandth of a millimetre, 0.001 mm, or about 0.000039 inch).<span style='color:red'> </span><span style='color:red'>T</span><span style='color:red'>h</span><span style='color:red'>e</span><span style='color:red'> </span><span style='color:red'>m</span><span style='color:red'>i</span><span style='color:red'>c</span><span style='color:red'>r</span><span style='color:red'>o</span><span style='color:red'>m</span><span style='color:red'>e</span><span style='color:red'>t</span><span style='color:red'>r</span><span style='color:red'>e</span><span style='color:red'> </span><span style='color:red'>i</span><span style='color:red'>s</span><span style='color:red'> </span><span style='color:red'>a</span><span style='color:red'>\n",
       "</span><span style='color:red'>c</span><span style='color:red'>o</span><span style='color:red'>m</span><span style='color:red'>m</span><span style='color:red'>o</span><span style='color:red'>n</span><span style='color:red'> </span><span style='color:red'>u</span><span style='color:red'>n</span><span style='color:red'>i</span><span style='color:red'>t</span><span style='color:red'> </span><span style='color:red'>o</span><span style='color:red'>f</span><span style='color:red'> </span><span style='color:red'>m</span><span style='color:red'>e</span><span style='color:red'>a</span><span style='color:red'>s</span><span style='color:red'>u</span><span style='color:red'>r</span><span style='color:red'>e</span><span style='color:red'>m</span><span style='color:red'>e</span><span style='color:red'>n</span><span style='color:red'>t</span><span style='color:red'> </span><span style='color:red'>f</span><span style='color:red'>o</span><span style='color:red'>r</span><span style='color:red'> </span><span style='color:red'>w</span><span style='color:red'>a</span><span style='color:red'>v</span><span style='color:red'>e</span><span style='color:red'>l</span><span style='color:red'>e</span><span style='color:red'>n</span><span style='color:red'>g</span><span style='color:red'>t</span><span style='color:red'>h</span><span style='color:red'>s</span><span style='color:red'> </span><span style='color:red'>o</span><span style='color:red'>f</span><span style='color:red'> </span><span style='color:red'>i</span><span style='color:red'>n</span><span style='color:red'>f</span><span style='color:red'>r</span><span style='color:red'>a</span><span style='color:red'>r</span><span style='color:red'>e</span><span style='color:red'>d</span><span style='color:red'> </span><span style='color:red'>r</span><span style='color:red'>a</span><span style='color:red'>d</span><span style='color:red'>i</span><span style='color:red'>a</span><span style='color:red'>t</span><span style='color:red'>i</span><span style='color:red'>o</span><span style='color:red'>n</span><span style='color:red'> </span><span style='color:red'>a</span><span style='color:red'>s</span><span style='color:red'> </span><span style='color:red'>w</span><span style='color:red'>e</span><span style='color:red'>l</span><span style='color:red'>l</span><span style='color:red'> </span><span style='color:red'>a</span><span style='color:red'>s</span><span style='color:red'> </span><span style='color:red'>s</span><span style='color:red'>i</span><span style='color:red'>z</span><span style='color:red'>e</span><span style='color:red'>s</span><span style='color:red'> </span><span style='color:red'>o</span><span style='color:red'>f</span><span style='color:red'> </span><span style='color:red'>b</span><span style='color:red'>i</span><span style='color:red'>o</span><span style='color:red'>l</span><span style='color:red'>o</span><span style='color:red'>g</span><span style='color:red'>i</span><span style='color:red'>c</span><span style='color:red'>a</span><span style='color:red'>l</span><span style='color:red'> </span><span style='color:red'>c</span><span style='color:red'>e</span><span style='color:red'>l</span><span style='color:red'>l</span><span style='color:red'>s</span><span style='color:red'> </span><span style='color:red'>a</span><span style='color:red'>n</span><span style='color:red'>d</span><span style='color:red'>\n",
       "</span><span style='color:red'>b</span><span style='color:red'>a</span><span style='color:red'>c</span><span style='color:red'>t</span><span style='color:red'>e</span><span style='color:red'>r</span><span style='color:red'>i</span><span style='color:red'>a</span><span style='color:red'>,</span><span style='color:red'> </span><span style='color:red'>a</span><span style='color:red'>n</span><span style='color:red'>d</span><span style='color:red'> </span><span style='color:red'>f</span><span style='color:red'>o</span><span style='color:red'>r</span><span style='color:red'> </span><span style='color:red'>g</span><span style='color:red'>r</span><span style='color:red'>a</span><span style='color:red'>d</span><span style='color:red'>i</span><span style='color:red'>n</span><span style='color:red'>g</span><span style='color:red'> </span><span style='color:red'>w</span><span style='color:red'>o</span><span style='color:red'>o</span><span style='color:red'>l</span><span style='color:red'> </span><span style='color:red'>b</span><span style='color:red'>y</span><span style='color:red'> </span><span style='color:red'>t</span><span style='color:red'>h</span><span style='color:red'>e</span><span style='color:red'> </span><span style='color:red'>d</span><span style='color:red'>i</span><span style='color:red'>a</span><span style='color:red'>m</span><span style='color:red'>e</span><span style='color:red'>t</span><span style='color:red'>e</span><span style='color:red'>r</span><span style='color:red'> </span><span style='color:red'>o</span><span style='color:red'>f</span><span style='color:red'> </span><span style='color:red'>t</span><span style='color:red'>h</span><span style='color:red'>e</span><span style='color:red'> </span><span style='color:red'>f</span><span style='color:red'>i</span><span style='color:red'>b</span><span style='color:red'>r</span><span style='color:red'>e</span><span style='color:red'>s</span><span style='color:red'>.</span><span style='color:red'> </span><span style='color:red'>T</span><span style='color:red'>h</span><span style='color:red'>e</span><span style='color:red'> </span><span style='color:red'>w</span><span style='color:red'>i</span><span style='color:red'>d</span><span style='color:red'>t</span><span style='color:red'>h</span><span style='color:red'> </span><span style='color:red'>o</span><span style='color:red'>f</span><span style='color:red'> </span><span style='color:red'>a</span><span style='color:red'> </span><span style='color:red'>s</span><span style='color:red'>i</span><span style='color:red'>n</span><span style='color:red'>g</span><span style='color:red'>l</span><span style='color:red'>e</span><span style='color:red'> </span><span style='color:red'>h</span><span style='color:red'>u</span><span style='color:red'>m</span><span style='color:red'>a</span><span style='color:red'>n</span><span style='color:red'> </span><span style='color:red'>h</span><span style='color:red'>a</span><span style='color:red'>i</span><span style='color:red'>r</span><span style='color:red'> </span><span style='color:red'>r</span><span style='color:red'>a</span><span style='color:red'>n</span><span style='color:red'>g</span><span style='color:red'>e</span><span style='color:red'>s</span><span style='color:red'> </span><span style='color:red'>f</span><span style='color:red'>r</span><span style='color:red'>o</span><span style='color:red'>m</span><span style='color:red'>\n",
       "</span><span style='color:red'>a</span><span style='color:red'>p</span><span style='color:red'>p</span><span style='color:red'>r</span><span style='color:red'>o</span><span style='color:red'>x</span><span style='color:red'>i</span><span style='color:red'>m</span><span style='color:red'>a</span><span style='color:red'>t</span><span style='color:red'>e</span><span style='color:red'>l</span><span style='color:red'>y</span><span style='color:red'> </span><span style='color:red'>1</span><span style='color:red'>0</span><span style='color:red'> </span><span style='color:red'>t</span><span style='color:red'>o</span><span style='color:red'> </span><span style='color:red'>2</span><span style='color:red'>0</span><span style='color:red'>0</span><span style='color:red'> </span><span style='color:red'>μ</span><span style='color:red'>m</span><span style='color:red'>.</span><span style='color:red'> </span><span style='color:red'>T</span><span style='color:red'>h</span><span style='color:red'>e</span><span style='color:red'> </span><span style='color:red'>f</span><span style='color:red'>i</span><span style='color:red'>r</span><span style='color:red'>s</span><span style='color:red'>t</span><span style='color:red'> </span><span style='color:red'>a</span><span style='color:red'>n</span><span style='color:red'>d</span><span style='color:red'> </span><span style='color:red'>l</span><span style='color:red'>o</span><span style='color:red'>n</span><span style='color:red'>g</span><span style='color:red'>e</span><span style='color:red'>s</span><span style='color:red'>t</span><span style='color:red'> </span><span style='color:red'>h</span><span style='color:red'>u</span><span style='color:red'>m</span><span style='color:red'>a</span><span style='color:red'>n</span><span style='color:red'> </span><span style='color:red'>c</span><span style='color:red'>h</span><span style='color:red'>r</span><span style='color:red'>o</span><span style='color:red'>m</span><span style='color:red'>o</span><span style='color:red'>s</span><span style='color:red'>o</span><span style='color:red'>m</span><span style='color:red'>e</span><span style='color:red'> </span><span style='color:red'>i</span><span style='color:red'>s</span><span style='color:red'> </span><span style='color:red'>a</span><span style='color:red'>p</span><span style='color:red'>p</span><span style='color:red'>r</span><span style='color:red'>o</span><span style='color:red'>x</span><span style='color:red'>i</span><span style='color:red'>m</span><span style='color:red'>a</span><span style='color:red'>t</span><span style='color:red'>e</span><span style='color:red'>l</span><span style='color:red'>y</span><span style='color:red'> </span><span style='color:red'>1</span><span style='color:red'>0</span><span style='color:red'>μ</span><span style='color:red'>m</span><span style='color:red'> </span><span style='color:red'>i</span><span style='color:red'>n</span><span style='color:red'> </span><span style='color:red'>l</span><span style='color:red'>e</span><span style='color:red'>n</span><span style='color:red'>g</span><span style='color:red'>t</span><span style='color:red'>h</span><span style='color:red'>.</span>"
      ],
      "text/plain": [
       "<IPython.core.display.HTML object>"
      ]
     },
     "metadata": {},
     "output_type": "display_data"
    }
   ],
   "source": [
    "display(HTML(highlight_diff(complex_s, simplified_text)))"
   ]
  },
  {
   "cell_type": "markdown",
   "id": "34dc81bb-e489-4817-89e4-a02a88e85d82",
   "metadata": {},
   "source": [
    "# BART-SWiPE large clean"
   ]
  },
  {
   "cell_type": "code",
   "execution_count": 1,
   "id": "97cd0357-8be1-4f0c-a330-5935e4ca7388",
   "metadata": {},
   "outputs": [],
   "source": [
    "from transformers import AutoTokenizer, AutoModelForSeq2SeqLM\n",
    "\n",
    "tokenizer_c = AutoTokenizer.from_pretrained(\"Salesforce/bart-large-swipe-clean\")\n",
    "model_c = AutoModelForSeq2SeqLM.from_pretrained(\"Salesforce/bart-large-swipe-clean\")"
   ]
  },
  {
   "cell_type": "code",
   "execution_count": 2,
   "id": "af2f501f-8222-4e9d-ac6e-f2b2dcdad760",
   "metadata": {},
   "outputs": [
    {
     "data": {
      "text/plain": [
       "0.1"
      ]
     },
     "execution_count": 2,
     "metadata": {},
     "output_type": "execute_result"
    }
   ],
   "source": [
    "model_c.config.dropout"
   ]
  },
  {
   "cell_type": "code",
   "execution_count": 2,
   "id": "85ab205c-2185-4907-896f-7f9a44498d68",
   "metadata": {},
   "outputs": [
    {
     "data": {
      "text/plain": [
       "GenerationConfig {\n",
       "  \"bos_token_id\": 0,\n",
       "  \"decoder_start_token_id\": 2,\n",
       "  \"early_stopping\": true,\n",
       "  \"eos_token_id\": 2,\n",
       "  \"forced_bos_token_id\": 0,\n",
       "  \"forced_eos_token_id\": 2,\n",
       "  \"no_repeat_ngram_size\": 3,\n",
       "  \"num_beams\": 4,\n",
       "  \"pad_token_id\": 1\n",
       "}"
      ]
     },
     "execution_count": 2,
     "metadata": {},
     "output_type": "execute_result"
    }
   ],
   "source": [
    "model_c.generation_config"
   ]
  },
  {
   "cell_type": "code",
   "execution_count": 29,
   "id": "ee3edc83-afc5-4bf0-a9ab-5a521c277e19",
   "metadata": {},
   "outputs": [
    {
     "name": "stdout",
     "output_type": "stream",
     "text": [
      "{'input_ids': tensor([[    0,   133, 14926,  5638,   594,   241,    36, 29743, 24684,    25,\n",
      "           341,    30,     5,  1016,  4750,     9,   166,  6183,     8, 34131,\n",
      "           131, 17982, 50118,  8628, 43891,    35, 46911,   119,    43,    50,\n",
      "         14926,  5638,  5906,    36,  4310, 24684,   238,    67, 10266,   684,\n",
      "            25,    10, 14926,  2839,     6,    16,    41, 17982, 16934, 50118,\n",
      "         19304,     9,  5933,  4065,  8279,   112,  1178,   698,    12,   401,\n",
      "             9,    10, 24697,    36,  6850,  2526, 46622,    44,    48, 35228,\n",
      "            12,    17,    46,  5457,   158,    12,   401,  4397,    14,    16,\n",
      "             6,    65,   153,   212,     9, 50118,   102, 24697,    36,   368,\n",
      "            65,  7673,   212,     9,    10,  7259, 12965,   241,     6,   321,\n",
      "             4, 19089, 15408,     6,    50,    59,   321,     4, 14200,  3416,\n",
      "         10468,   322,    20, 14926,  5638,   594,   241,    16,    10, 50118,\n",
      "         27278,  1933,     9, 20104,    13, 43105,     9, 30175, 13785,    25,\n",
      "           157,    25, 10070,     9, 12243,  4590,     8, 50118,   428, 42069,\n",
      "             6,     8,    13, 32178, 24787,    30,     5, 26089,     9,     5,\n",
      "         19961,  1535,     4,    20, 22523,     9,    10,   881,  1050,  2549,\n",
      "         16296,    31, 50118, 39073,   158,     7,  1878, 46911,   119,     4,\n",
      "            20,    78,     8,  6463,  1050, 44198,    16,  2219,   158, 47049,\n",
      "           119,    11,  5933,     4,     2]]), 'attention_mask': tensor([[1, 1, 1, 1, 1, 1, 1, 1, 1, 1, 1, 1, 1, 1, 1, 1, 1, 1, 1, 1, 1, 1, 1, 1,\n",
      "         1, 1, 1, 1, 1, 1, 1, 1, 1, 1, 1, 1, 1, 1, 1, 1, 1, 1, 1, 1, 1, 1, 1, 1,\n",
      "         1, 1, 1, 1, 1, 1, 1, 1, 1, 1, 1, 1, 1, 1, 1, 1, 1, 1, 1, 1, 1, 1, 1, 1,\n",
      "         1, 1, 1, 1, 1, 1, 1, 1, 1, 1, 1, 1, 1, 1, 1, 1, 1, 1, 1, 1, 1, 1, 1, 1,\n",
      "         1, 1, 1, 1, 1, 1, 1, 1, 1, 1, 1, 1, 1, 1, 1, 1, 1, 1, 1, 1, 1, 1, 1, 1,\n",
      "         1, 1, 1, 1, 1, 1, 1, 1, 1, 1, 1, 1, 1, 1, 1, 1, 1, 1, 1, 1, 1, 1, 1, 1,\n",
      "         1, 1, 1, 1, 1, 1, 1, 1, 1, 1, 1, 1, 1, 1, 1, 1, 1, 1, 1, 1, 1, 1, 1, 1,\n",
      "         1, 1, 1, 1, 1, 1, 1, 1, 1, 1, 1, 1, 1, 1, 1, 1, 1]])}\n"
     ]
    }
   ],
   "source": [
    "#INSTRUCTION = \"simplify: \"\n",
    "inputs_c = tokenizer_c(complex_s, return_tensors=\"pt\", truncation=True)\n",
    "print(inputs_c)"
   ]
  },
  {
   "cell_type": "code",
   "execution_count": 30,
   "id": "808ac508-bfe3-4778-a187-73abfab9744c",
   "metadata": {},
   "outputs": [
    {
     "name": "stdout",
     "output_type": "stream",
     "text": [
      "tensor([[    2,     0,   133, 14926,  5638,   594,   241,  1640, 29743, 24684,\n",
      "            25,   341,    30,     5,  1016,  4750,     9,   166,  6183,     8,\n",
      "         34131,   131, 17982,  8628, 43891,    35, 46911,   119,    43,    50,\n",
      "         14926,  5638,  5906,  1640,  4310, 24684,   238,    67, 10266,   684,\n",
      "            25,    10, 14926,  2839,     6,    16,    41, 17982,  1933,     9,\n",
      "          5933,  4065,  8279,   112,  1178,   698,    12,   401,     9,    10,\n",
      "         24697,  1640,  6850,  2526, 46622,    44,    48, 35228,    12,    17,\n",
      "            46,  5457,   158,    12,   401,  4397,    14,    16,     6,    65,\n",
      "           153,   212,     9,   102, 24697,  1640,   368,    65,  7673,   212,\n",
      "             9,    10,  7259, 12965,   241,     6,   321,     4, 19089, 50141,\n",
      "          5471,     6,    50,    59,   321,     4, 14200,  3416, 50141,  3796,\n",
      "           322,    20,    78,     8,  6463,  1050, 44198,    16,  2219,   158,\n",
      "         47049,   119,    11,  5933,     4,     2]])\n"
     ]
    }
   ],
   "source": [
    "output_ids_c = model_c.generate(**inputs_c, max_length=200, min_length=50, length_penalty=2.0, num_beams=4, early_stopping=True)\n",
    "print(output_ids_c)"
   ]
  },
  {
   "cell_type": "code",
   "execution_count": 31,
   "id": "c20cf5ab-6ac2-458d-8742-4565d9c26d65",
   "metadata": {},
   "outputs": [
    {
     "name": "stdout",
     "output_type": "stream",
     "text": [
      "The micrometre(International spelling as used by the International Bureau of Weights and Measures; SIsymbol: μm) or micrometer(American spelling), also commonly known as a micron, is an SI unit of length equaling 1x10-6 of a metre(SI standard prefix “micro-” = 10-6); that is, one millionth ofa metre(or one thousandth of a millimetre, 0.001 mm, or about 0.000039 inch). The first and longest human chromosome is approximately 10μm in length.\n"
     ]
    }
   ],
   "source": [
    "simplified_text_c = tokenizer_c.decode(output_ids_c[0], skip_special_tokens=True)\n",
    "print(simplified_text_c)"
   ]
  },
  {
   "cell_type": "code",
   "execution_count": 32,
   "id": "35c17f30-4b2e-4e14-9c5b-16f4daefcf4b",
   "metadata": {},
   "outputs": [
    {
     "data": {
      "text/plain": [
       "'The micrometre (International spelling as used by the International Bureau of Weights and Measures; SI\\nsymbol: μm) or micrometer (American spelling), also commonly known as a micron, is an SI derived\\nunit of length equaling 1x10-6 of a metre (SI standard prefix “micro-” = 10-6); that is, one millionth of\\na metre (or one thousandth of a millimetre, 0.001 mm, or about 0.000039 inch). The micrometre is a\\ncommon unit of measurement for wavelengths of infrared radiation as well as sizes of biological cells and\\nbacteria, and for grading wool by the diameter of the fibres. The width of a single human hair ranges from\\napproximately 10 to 200 μm. The first and longest human chromosome is approximately 10μm in length.'"
      ]
     },
     "execution_count": 32,
     "metadata": {},
     "output_type": "execute_result"
    }
   ],
   "source": [
    "complex_s"
   ]
  },
  {
   "cell_type": "code",
   "execution_count": 41,
   "id": "2915ffd0-bfc3-4f38-b024-5535c84b934a",
   "metadata": {},
   "outputs": [
    {
     "data": {
      "text/html": [
       "The micrometre<span style='color:red'> </span>(International spelling as used by the International Bureau of Weights and Measures; SI<span style='color:red'>\n",
       "</span>symbol: μm) or micrometer<span style='color:red'> </span>(American spelling), also commonly known as a micron, is an SI <span style='color:red'>d</span><span style='color:red'>e</span><span style='color:red'>r</span><span style='color:red'>i</span><span style='color:red'>v</span><span style='color:red'>e</span><span style='color:red'>d</span><span style='color:red'>\n",
       "</span>unit of length equaling 1x10-6 of a metre<span style='color:red'> </span>(SI standard prefix “micro-” = 10-6); that is, one millionth of<span style='color:red'>\n",
       "</span>a metre<span style='color:red'> </span>(or one thousandth of a millimetre, 0.001<span style='color:red'> </span><span style='color:green'> </span>mm, or about 0.000039<span style='color:red'> </span><span style='color:green'> </span>inch). The <span style='color:red'>m</span><span style='color:red'>i</span><span style='color:red'>c</span><span style='color:red'>r</span><span style='color:red'>o</span><span style='color:red'>m</span><span style='color:red'>e</span><span style='color:red'>t</span><span style='color:red'>r</span><span style='color:red'>e</span><span style='color:red'> </span><span style='color:red'>i</span><span style='color:red'>s</span><span style='color:red'> </span><span style='color:red'>a</span><span style='color:red'>\n",
       "</span><span style='color:red'>c</span><span style='color:red'>o</span><span style='color:red'>m</span><span style='color:red'>m</span><span style='color:red'>o</span><span style='color:red'>n</span><span style='color:red'> </span><span style='color:red'>u</span><span style='color:red'>n</span><span style='color:red'>i</span><span style='color:red'>t</span><span style='color:red'> </span><span style='color:red'>o</span>f<span style='color:red'> </span><span style='color:red'>m</span><span style='color:red'>e</span><span style='color:red'>a</span><span style='color:red'>s</span><span style='color:red'>u</span><span style='color:red'>r</span><span style='color:red'>e</span><span style='color:red'>m</span><span style='color:red'>e</span><span style='color:red'>n</span><span style='color:red'>t</span><span style='color:red'> </span><span style='color:red'>f</span><span style='color:red'>o</span><span style='color:red'>r</span><span style='color:red'> </span><span style='color:red'>w</span><span style='color:red'>a</span><span style='color:red'>v</span><span style='color:red'>e</span><span style='color:red'>l</span><span style='color:red'>e</span><span style='color:red'>n</span><span style='color:red'>g</span><span style='color:red'>t</span><span style='color:red'>h</span><span style='color:red'>s</span><span style='color:red'> </span><span style='color:red'>o</span><span style='color:red'>f</span><span style='color:red'> </span>i<span style='color:red'>n</span><span style='color:red'>f</span>r<span style='color:red'>a</span><span style='color:red'>r</span><span style='color:red'>e</span><span style='color:red'>d</span><span style='color:red'> </span><span style='color:red'>r</span><span style='color:red'>a</span><span style='color:red'>d</span><span style='color:red'>i</span><span style='color:red'>a</span><span style='color:red'>t</span><span style='color:red'>i</span><span style='color:red'>o</span><span style='color:red'>n</span><span style='color:red'> </span><span style='color:red'>a</span>s<span style='color:red'> </span><span style='color:red'>w</span><span style='color:red'>e</span><span style='color:red'>l</span><span style='color:red'>l</span><span style='color:red'> </span><span style='color:red'>a</span><span style='color:red'>s</span><span style='color:red'> </span><span style='color:red'>s</span><span style='color:red'>i</span><span style='color:red'>z</span><span style='color:red'>e</span><span style='color:red'>s</span><span style='color:red'> </span><span style='color:red'>o</span><span style='color:red'>f</span><span style='color:red'> </span><span style='color:red'>b</span><span style='color:red'>i</span><span style='color:red'>o</span><span style='color:red'>l</span><span style='color:red'>o</span><span style='color:red'>g</span><span style='color:red'>i</span><span style='color:red'>c</span><span style='color:red'>a</span><span style='color:red'>l</span><span style='color:red'> </span><span style='color:red'>c</span><span style='color:red'>e</span><span style='color:red'>l</span><span style='color:red'>l</span><span style='color:red'>s</span><span style='color:red'> </span><span style='color:red'>a</span><span style='color:red'>n</span><span style='color:red'>d</span><span style='color:red'>\n",
       "</span><span style='color:red'>b</span><span style='color:red'>a</span><span style='color:red'>c</span>t<span style='color:red'>e</span><span style='color:red'>r</span><span style='color:red'>i</span><span style='color:red'>a</span><span style='color:red'>,</span> and <span style='color:red'>f</span><span style='color:red'>o</span><span style='color:red'>r</span><span style='color:red'> </span><span style='color:red'>g</span><span style='color:red'>r</span><span style='color:red'>a</span><span style='color:red'>d</span><span style='color:red'>i</span><span style='color:red'>n</span><span style='color:red'>g</span><span style='color:red'> </span><span style='color:red'>w</span><span style='color:red'>o</span><span style='color:red'>o</span>l<span style='color:red'> </span><span style='color:red'>b</span><span style='color:red'>y</span><span style='color:red'> </span><span style='color:red'>t</span><span style='color:red'>h</span><span style='color:red'>e</span><span style='color:red'> </span><span style='color:red'>d</span><span style='color:red'>i</span><span style='color:red'>a</span><span style='color:red'>m</span><span style='color:red'>e</span><span style='color:red'>t</span><span style='color:red'>e</span><span style='color:red'>r</span><span style='color:red'> </span>o<span style='color:red'>f</span><span style='color:red'> </span><span style='color:red'>t</span><span style='color:red'>h</span><span style='color:red'>e</span><span style='color:red'> </span><span style='color:red'>f</span><span style='color:red'>i</span><span style='color:red'>b</span><span style='color:red'>r</span><span style='color:red'>e</span><span style='color:red'>s</span><span style='color:red'>.</span><span style='color:red'> </span><span style='color:red'>T</span><span style='color:red'>h</span><span style='color:red'>e</span><span style='color:red'> </span><span style='color:red'>w</span><span style='color:red'>i</span><span style='color:red'>d</span><span style='color:red'>t</span><span style='color:red'>h</span><span style='color:red'> </span><span style='color:red'>o</span><span style='color:red'>f</span><span style='color:red'> </span><span style='color:red'>a</span><span style='color:red'> </span><span style='color:red'>s</span><span style='color:red'>i</span>ng<span style='color:red'>l</span>e<span style='color:red'> </span><span style='color:red'>h</span><span style='color:red'>u</span><span style='color:red'>m</span><span style='color:red'>a</span><span style='color:red'>n</span><span style='color:red'> </span><span style='color:red'>h</span><span style='color:red'>a</span><span style='color:red'>i</span><span style='color:red'>r</span><span style='color:red'> </span><span style='color:red'>r</span><span style='color:red'>a</span><span style='color:red'>n</span><span style='color:red'>g</span><span style='color:red'>e</span>s<span style='color:green'>t</span> <span style='color:green'>h</span><span style='color:green'>u</span><span style='color:red'>f</span><span style='color:red'>r</span><span style='color:red'>o</span>m<span style='color:red'>\n",
       "</span><span style='color:green'>a</span><span style='color:green'>n</span><span style='color:green'> </span><span style='color:green'>c</span><span style='color:green'>h</span><span style='color:green'>r</span><span style='color:green'>o</span><span style='color:green'>m</span><span style='color:green'>o</span><span style='color:green'>s</span><span style='color:green'>o</span><span style='color:green'>m</span><span style='color:green'>e</span><span style='color:green'> </span><span style='color:green'>i</span><span style='color:green'>s</span><span style='color:green'> </span>approximately 10<span style='color:red'> </span><span style='color:red'>t</span><span style='color:red'>o</span><span style='color:red'> </span><span style='color:red'>2</span><span style='color:red'>0</span><span style='color:red'>0</span><span style='color:red'> </span>μm<span style='color:green'> </span><span style='color:green'>i</span><span style='color:green'>n</span><span style='color:green'> </span><span style='color:green'>l</span><span style='color:green'>e</span><span style='color:green'>n</span><span style='color:green'>g</span><span style='color:green'>t</span><span style='color:green'>h</span>.<span style='color:red'> </span><span style='color:red'>T</span><span style='color:red'>h</span><span style='color:red'>e</span><span style='color:red'> </span><span style='color:red'>f</span><span style='color:red'>i</span><span style='color:red'>r</span><span style='color:red'>s</span><span style='color:red'>t</span><span style='color:red'> </span><span style='color:red'>a</span><span style='color:red'>n</span><span style='color:red'>d</span><span style='color:red'> </span><span style='color:red'>l</span><span style='color:red'>o</span><span style='color:red'>n</span><span style='color:red'>g</span><span style='color:red'>e</span><span style='color:red'>s</span><span style='color:red'>t</span><span style='color:red'> </span><span style='color:red'>h</span><span style='color:red'>u</span><span style='color:red'>m</span><span style='color:red'>a</span><span style='color:red'>n</span><span style='color:red'> </span><span style='color:red'>c</span><span style='color:red'>h</span><span style='color:red'>r</span><span style='color:red'>o</span><span style='color:red'>m</span><span style='color:red'>o</span><span style='color:red'>s</span><span style='color:red'>o</span><span style='color:red'>m</span><span style='color:red'>e</span><span style='color:red'> </span><span style='color:red'>i</span><span style='color:red'>s</span><span style='color:red'> </span><span style='color:red'>a</span><span style='color:red'>p</span><span style='color:red'>p</span><span style='color:red'>r</span><span style='color:red'>o</span><span style='color:red'>x</span><span style='color:red'>i</span><span style='color:red'>m</span><span style='color:red'>a</span><span style='color:red'>t</span><span style='color:red'>e</span><span style='color:red'>l</span><span style='color:red'>y</span><span style='color:red'> </span><span style='color:red'>1</span><span style='color:red'>0</span><span style='color:red'>μ</span><span style='color:red'>m</span><span style='color:red'> </span><span style='color:red'>i</span><span style='color:red'>n</span><span style='color:red'> </span><span style='color:red'>l</span><span style='color:red'>e</span><span style='color:red'>n</span><span style='color:red'>g</span><span style='color:red'>t</span><span style='color:red'>h</span><span style='color:red'>.</span>"
      ],
      "text/plain": [
       "<IPython.core.display.HTML object>"
      ]
     },
     "metadata": {},
     "output_type": "display_data"
    }
   ],
   "source": [
    "display(HTML(highlight_diff(complex_s, simplified_text_c)))"
   ]
  },
  {
   "cell_type": "code",
   "execution_count": 53,
   "id": "444a3e7c-dd9e-455d-b32b-0ab57ece8da6",
   "metadata": {},
   "outputs": [
    {
     "name": "stdout",
     "output_type": "stream",
     "text": [
      "BartConfig {\n",
      "  \"_name_or_path\": \"Salesforce/bart-large-swipe-clean\",\n",
      "  \"activation_dropout\": 0.1,\n",
      "  \"activation_function\": \"gelu\",\n",
      "  \"add_bias_logits\": false,\n",
      "  \"add_final_layer_norm\": false,\n",
      "  \"architectures\": [\n",
      "    \"BartForConditionalGeneration\"\n",
      "  ],\n",
      "  \"attention_dropout\": 0.1,\n",
      "  \"bos_token_id\": 0,\n",
      "  \"classif_dropout\": 0.1,\n",
      "  \"classifier_dropout\": 0.0,\n",
      "  \"d_model\": 1024,\n",
      "  \"decoder_attention_heads\": 16,\n",
      "  \"decoder_ffn_dim\": 4096,\n",
      "  \"decoder_layerdrop\": 0.0,\n",
      "  \"decoder_layers\": 12,\n",
      "  \"decoder_start_token_id\": 2,\n",
      "  \"dropout\": 0.1,\n",
      "  \"early_stopping\": true,\n",
      "  \"encoder_attention_heads\": 16,\n",
      "  \"encoder_ffn_dim\": 4096,\n",
      "  \"encoder_layerdrop\": 0.0,\n",
      "  \"encoder_layers\": 12,\n",
      "  \"eos_token_id\": 2,\n",
      "  \"forced_bos_token_id\": 0,\n",
      "  \"forced_eos_token_id\": 2,\n",
      "  \"gradient_checkpointing\": false,\n",
      "  \"id2label\": {\n",
      "    \"0\": \"LABEL_0\",\n",
      "    \"1\": \"LABEL_1\",\n",
      "    \"2\": \"LABEL_2\"\n",
      "  },\n",
      "  \"init_std\": 0.02,\n",
      "  \"is_encoder_decoder\": true,\n",
      "  \"label2id\": {\n",
      "    \"LABEL_0\": 0,\n",
      "    \"LABEL_1\": 1,\n",
      "    \"LABEL_2\": 2\n",
      "  },\n",
      "  \"max_position_embeddings\": 1024,\n",
      "  \"model_type\": \"bart\",\n",
      "  \"no_repeat_ngram_size\": 3,\n",
      "  \"normalize_before\": false,\n",
      "  \"num_beams\": 4,\n",
      "  \"num_hidden_layers\": 12,\n",
      "  \"pad_token_id\": 1,\n",
      "  \"scale_embedding\": false,\n",
      "  \"task_specific_params\": {\n",
      "    \"summarization\": {\n",
      "      \"length_penalty\": 1.0,\n",
      "      \"max_length\": 128,\n",
      "      \"min_length\": 12,\n",
      "      \"num_beams\": 4\n",
      "    },\n",
      "    \"summarization_cnn\": {\n",
      "      \"length_penalty\": 2.0,\n",
      "      \"max_length\": 142,\n",
      "      \"min_length\": 56,\n",
      "      \"num_beams\": 4\n",
      "    },\n",
      "    \"summarization_xsum\": {\n",
      "      \"length_penalty\": 1.0,\n",
      "      \"max_length\": 62,\n",
      "      \"min_length\": 11,\n",
      "      \"num_beams\": 6\n",
      "    }\n",
      "  },\n",
      "  \"torch_dtype\": \"float32\",\n",
      "  \"transformers_version\": \"4.42.4\",\n",
      "  \"use_cache\": true,\n",
      "  \"vocab_size\": 50265\n",
      "}\n",
      "\n"
     ]
    }
   ],
   "source": [
    "print(model_c.config)"
   ]
  },
  {
   "cell_type": "markdown",
   "id": "5890545d-16ec-4b6f-9bac-d006004dd18a",
   "metadata": {},
   "source": [
    "# SWiPE tests datasets\n",
    "\n",
    "https://github.com/Salesforce/simplification"
   ]
  },
  {
   "cell_type": "code",
   "execution_count": 5,
   "id": "39711c45-1974-48a7-9ad6-170ba3fd0f70",
   "metadata": {},
   "outputs": [],
   "source": [
    "from datasets import load_from_disk\n",
    "import pandas as pd\n",
    "\n",
    "# load-in a cleaned dataset\n",
    "swipe_dataset = load_from_disk(\"../data/swipe_clean\")"
   ]
  },
  {
   "cell_type": "markdown",
   "id": "dda67def-b4dc-4599-a1ff-4b82eea20695",
   "metadata": {},
   "source": [
    "# Generation and Evaluation\n",
    "\n",
    "Beam search = 4\n",
    "\n",
    ">We run experiments on the validation set of\n",
    "SWIPE. For each model, we report the n-grambased\n",
    "SARI score (Xu et al., 2016), the Flesch-\n",
    "Kincaid Grade Level (Kincaid et al., 1975), and\n",
    "the distribution of edit categories identified by BIC\n",
    "(merged into 10 groups)."
   ]
  },
  {
   "cell_type": "code",
   "execution_count": 6,
   "id": "457def87-07e6-4161-a1a1-3aa87ab9241b",
   "metadata": {
    "scrolled": true
   },
   "outputs": [
    {
     "data": {
      "text/plain": [
       "BartForConditionalGeneration(\n",
       "  (model): BartModel(\n",
       "    (shared): Embedding(50265, 1024, padding_idx=1)\n",
       "    (encoder): BartEncoder(\n",
       "      (embed_tokens): BartScaledWordEmbedding(50265, 1024, padding_idx=1)\n",
       "      (embed_positions): BartLearnedPositionalEmbedding(1026, 1024)\n",
       "      (layers): ModuleList(\n",
       "        (0-11): 12 x BartEncoderLayer(\n",
       "          (self_attn): BartSdpaAttention(\n",
       "            (k_proj): Linear(in_features=1024, out_features=1024, bias=True)\n",
       "            (v_proj): Linear(in_features=1024, out_features=1024, bias=True)\n",
       "            (q_proj): Linear(in_features=1024, out_features=1024, bias=True)\n",
       "            (out_proj): Linear(in_features=1024, out_features=1024, bias=True)\n",
       "          )\n",
       "          (self_attn_layer_norm): LayerNorm((1024,), eps=1e-05, elementwise_affine=True)\n",
       "          (activation_fn): GELUActivation()\n",
       "          (fc1): Linear(in_features=1024, out_features=4096, bias=True)\n",
       "          (fc2): Linear(in_features=4096, out_features=1024, bias=True)\n",
       "          (final_layer_norm): LayerNorm((1024,), eps=1e-05, elementwise_affine=True)\n",
       "        )\n",
       "      )\n",
       "      (layernorm_embedding): LayerNorm((1024,), eps=1e-05, elementwise_affine=True)\n",
       "    )\n",
       "    (decoder): BartDecoder(\n",
       "      (embed_tokens): BartScaledWordEmbedding(50265, 1024, padding_idx=1)\n",
       "      (embed_positions): BartLearnedPositionalEmbedding(1026, 1024)\n",
       "      (layers): ModuleList(\n",
       "        (0-11): 12 x BartDecoderLayer(\n",
       "          (self_attn): BartSdpaAttention(\n",
       "            (k_proj): Linear(in_features=1024, out_features=1024, bias=True)\n",
       "            (v_proj): Linear(in_features=1024, out_features=1024, bias=True)\n",
       "            (q_proj): Linear(in_features=1024, out_features=1024, bias=True)\n",
       "            (out_proj): Linear(in_features=1024, out_features=1024, bias=True)\n",
       "          )\n",
       "          (activation_fn): GELUActivation()\n",
       "          (self_attn_layer_norm): LayerNorm((1024,), eps=1e-05, elementwise_affine=True)\n",
       "          (encoder_attn): BartSdpaAttention(\n",
       "            (k_proj): Linear(in_features=1024, out_features=1024, bias=True)\n",
       "            (v_proj): Linear(in_features=1024, out_features=1024, bias=True)\n",
       "            (q_proj): Linear(in_features=1024, out_features=1024, bias=True)\n",
       "            (out_proj): Linear(in_features=1024, out_features=1024, bias=True)\n",
       "          )\n",
       "          (encoder_attn_layer_norm): LayerNorm((1024,), eps=1e-05, elementwise_affine=True)\n",
       "          (fc1): Linear(in_features=1024, out_features=4096, bias=True)\n",
       "          (fc2): Linear(in_features=4096, out_features=1024, bias=True)\n",
       "          (final_layer_norm): LayerNorm((1024,), eps=1e-05, elementwise_affine=True)\n",
       "        )\n",
       "      )\n",
       "      (layernorm_embedding): LayerNorm((1024,), eps=1e-05, elementwise_affine=True)\n",
       "    )\n",
       "  )\n",
       "  (lm_head): Linear(in_features=1024, out_features=50265, bias=False)\n",
       ")"
      ]
     },
     "execution_count": 6,
     "metadata": {},
     "output_type": "execute_result"
    }
   ],
   "source": [
    "import torch\n",
    "\n",
    "device = torch.device(\"cuda\" if torch.cuda.is_available() else \"cpu\")\n",
    "model.to(device)"
   ]
  },
  {
   "cell_type": "code",
   "execution_count": 7,
   "id": "dd8e8a86-6528-446b-a963-8e4f97cae27a",
   "metadata": {},
   "outputs": [
    {
     "data": {
      "application/vnd.jupyter.widget-view+json": {
       "model_id": "a70d3e831f6a42f3bf2009cb9831dc2a",
       "version_major": 2,
       "version_minor": 0
      },
      "text/plain": [
       "  0%|          | 0/483 [00:00<?, ?it/s]"
      ]
     },
     "metadata": {},
     "output_type": "display_data"
    }
   ],
   "source": [
    "from tqdm.notebook import tqdm\n",
    "\n",
    "predictions = []\n",
    "\n",
    "for sentence in tqdm(swipe_dataset['test_id'], total=len(swipe_dataset['test_id'])): \n",
    "    inputs = tokenizer(sentence['r_content'], return_tensors=\"pt\", truncation=True)\n",
    "    inputs = {key: value.to(device) for key, value in inputs.items()}\n",
    "    output_ids = model.generate(**inputs, min_length = 50, max_length = 512, length_penalty = 1.0)\n",
    "    simplified_text = tokenizer.decode(output_ids[0], skip_special_tokens=True)\n",
    "    predictions.append(simplified_text)"
   ]
  },
  {
   "cell_type": "code",
   "execution_count": 8,
   "id": "6e4d0cdd-5c78-412f-bc2d-24b17d8bee95",
   "metadata": {},
   "outputs": [
    {
     "data": {
      "text/html": [
       "<div>\n",
       "<style scoped>\n",
       "    .dataframe tbody tr th:only-of-type {\n",
       "        vertical-align: middle;\n",
       "    }\n",
       "\n",
       "    .dataframe tbody tr th {\n",
       "        vertical-align: top;\n",
       "    }\n",
       "\n",
       "    .dataframe thead th {\n",
       "        text-align: right;\n",
       "    }\n",
       "</style>\n",
       "<table border=\"1\" class=\"dataframe\">\n",
       "  <thead>\n",
       "    <tr style=\"text-align: right;\">\n",
       "      <th></th>\n",
       "      <th>text</th>\n",
       "      <th>reference</th>\n",
       "      <th>prediction</th>\n",
       "    </tr>\n",
       "  </thead>\n",
       "  <tbody>\n",
       "    <tr>\n",
       "      <th>0</th>\n",
       "      <td>The term jargon may have the following meaning...</td>\n",
       "      <td>Jargon is a special way to use words that are ...</td>\n",
       "      <td>The term jargon may have the following meaning...</td>\n",
       "    </tr>\n",
       "    <tr>\n",
       "      <th>1</th>\n",
       "      <td>Russian (Russkij yazyk, Русский язык) is the m...</td>\n",
       "      <td>Russian (русский язык (russkij yazyk)) is the ...</td>\n",
       "      <td>Russian (Russkij yazyk, Русский язык) is the m...</td>\n",
       "    </tr>\n",
       "    <tr>\n",
       "      <th>2</th>\n",
       "      <td>Great Britain, also called Britain, is an isla...</td>\n",
       "      <td>Great Britain is the main part of the United K...</td>\n",
       "      <td>Great Britain, also called Britain, is an isla...</td>\n",
       "    </tr>\n",
       "    <tr>\n",
       "      <th>3</th>\n",
       "      <td>Transport, or transportation (as it is called ...</td>\n",
       "      <td>Transport is the movement of people and things...</td>\n",
       "      <td>Transport, or transportation (as it is called ...</td>\n",
       "    </tr>\n",
       "    <tr>\n",
       "      <th>4</th>\n",
       "      <td>Stockholm (help·info) (IPA: ['stɔkhɔlm]; UN/LO...</td>\n",
       "      <td>Stockholm is the capital of Sweden. It is loca...</td>\n",
       "      <td>Stockholm is the capital city of Sweden. It is...</td>\n",
       "    </tr>\n",
       "  </tbody>\n",
       "</table>\n",
       "</div>"
      ],
      "text/plain": [
       "                                                text  \\\n",
       "0  The term jargon may have the following meaning...   \n",
       "1  Russian (Russkij yazyk, Русский язык) is the m...   \n",
       "2  Great Britain, also called Britain, is an isla...   \n",
       "3  Transport, or transportation (as it is called ...   \n",
       "4  Stockholm (help·info) (IPA: ['stɔkhɔlm]; UN/LO...   \n",
       "\n",
       "                                           reference  \\\n",
       "0  Jargon is a special way to use words that are ...   \n",
       "1  Russian (русский язык (russkij yazyk)) is the ...   \n",
       "2  Great Britain is the main part of the United K...   \n",
       "3  Transport is the movement of people and things...   \n",
       "4  Stockholm is the capital of Sweden. It is loca...   \n",
       "\n",
       "                                          prediction  \n",
       "0  The term jargon may have the following meaning...  \n",
       "1  Russian (Russkij yazyk, Русский язык) is the m...  \n",
       "2  Great Britain, also called Britain, is an isla...  \n",
       "3  Transport, or transportation (as it is called ...  \n",
       "4  Stockholm is the capital city of Sweden. It is...  "
      ]
     },
     "execution_count": 8,
     "metadata": {},
     "output_type": "execute_result"
    }
   ],
   "source": [
    "df_results = pd.DataFrame({\n",
    "    'text': swipe_dataset['test_id']['r_content'],\n",
    "    'reference': swipe_dataset['test_id']['s_content'],\n",
    "    'prediction': predictions\n",
    "})\n",
    "\n",
    "df_results.to_csv(\"../data/predictions_bart-large.csv\", index=False)\n",
    "df_results.head()"
   ]
  },
  {
   "cell_type": "markdown",
   "id": "d2bc6f6d-9661-4172-9191-1a0193f1198c",
   "metadata": {},
   "source": [
    "# SARI score"
   ]
  },
  {
   "cell_type": "code",
   "execution_count": 9,
   "id": "2938cd9f-90db-4f51-8ad0-6ba38e005fec",
   "metadata": {},
   "outputs": [],
   "source": [
    "df = pd.read_csv(\"../data/predictions_bart-large.csv\")"
   ]
  },
  {
   "cell_type": "code",
   "execution_count": 10,
   "id": "b632c070-28c3-483b-9af1-667bba5e6707",
   "metadata": {},
   "outputs": [
    {
     "data": {
      "text/html": [
       "<div>\n",
       "<style scoped>\n",
       "    .dataframe tbody tr th:only-of-type {\n",
       "        vertical-align: middle;\n",
       "    }\n",
       "\n",
       "    .dataframe tbody tr th {\n",
       "        vertical-align: top;\n",
       "    }\n",
       "\n",
       "    .dataframe thead th {\n",
       "        text-align: right;\n",
       "    }\n",
       "</style>\n",
       "<table border=\"1\" class=\"dataframe\">\n",
       "  <thead>\n",
       "    <tr style=\"text-align: right;\">\n",
       "      <th></th>\n",
       "      <th>text</th>\n",
       "      <th>reference</th>\n",
       "      <th>prediction</th>\n",
       "    </tr>\n",
       "  </thead>\n",
       "  <tbody>\n",
       "    <tr>\n",
       "      <th>0</th>\n",
       "      <td>The term jargon may have the following meaning...</td>\n",
       "      <td>Jargon is a special way to use words that are ...</td>\n",
       "      <td>The term jargon may have the following meaning...</td>\n",
       "    </tr>\n",
       "    <tr>\n",
       "      <th>1</th>\n",
       "      <td>Russian (Russkij yazyk, Русский язык) is the m...</td>\n",
       "      <td>Russian (русский язык (russkij yazyk)) is the ...</td>\n",
       "      <td>Russian (Russkij yazyk, Русский язык) is the m...</td>\n",
       "    </tr>\n",
       "    <tr>\n",
       "      <th>2</th>\n",
       "      <td>Great Britain, also called Britain, is an isla...</td>\n",
       "      <td>Great Britain is the main part of the United K...</td>\n",
       "      <td>Great Britain, also called Britain, is an isla...</td>\n",
       "    </tr>\n",
       "    <tr>\n",
       "      <th>3</th>\n",
       "      <td>Transport, or transportation (as it is called ...</td>\n",
       "      <td>Transport is the movement of people and things...</td>\n",
       "      <td>Transport, or transportation (as it is called ...</td>\n",
       "    </tr>\n",
       "    <tr>\n",
       "      <th>4</th>\n",
       "      <td>Stockholm (help·info) (IPA: ['stɔkhɔlm]; UN/LO...</td>\n",
       "      <td>Stockholm is the capital of Sweden. It is loca...</td>\n",
       "      <td>Stockholm is the capital city of Sweden. It is...</td>\n",
       "    </tr>\n",
       "  </tbody>\n",
       "</table>\n",
       "</div>"
      ],
      "text/plain": [
       "                                                text  \\\n",
       "0  The term jargon may have the following meaning...   \n",
       "1  Russian (Russkij yazyk, Русский язык) is the m...   \n",
       "2  Great Britain, also called Britain, is an isla...   \n",
       "3  Transport, or transportation (as it is called ...   \n",
       "4  Stockholm (help·info) (IPA: ['stɔkhɔlm]; UN/LO...   \n",
       "\n",
       "                                           reference  \\\n",
       "0  Jargon is a special way to use words that are ...   \n",
       "1  Russian (русский язык (russkij yazyk)) is the ...   \n",
       "2  Great Britain is the main part of the United K...   \n",
       "3  Transport is the movement of people and things...   \n",
       "4  Stockholm is the capital of Sweden. It is loca...   \n",
       "\n",
       "                                          prediction  \n",
       "0  The term jargon may have the following meaning...  \n",
       "1  Russian (Russkij yazyk, Русский язык) is the m...  \n",
       "2  Great Britain, also called Britain, is an isla...  \n",
       "3  Transport, or transportation (as it is called ...  \n",
       "4  Stockholm is the capital city of Sweden. It is...  "
      ]
     },
     "execution_count": 10,
     "metadata": {},
     "output_type": "execute_result"
    }
   ],
   "source": [
    "df.head()"
   ]
  },
  {
   "cell_type": "markdown",
   "id": "dcc53703-a344-46a2-90a4-04e15bc279b2",
   "metadata": {},
   "source": [
    "## Hugging Face - SARI"
   ]
  },
  {
   "cell_type": "code",
   "execution_count": 11,
   "id": "1dcf07de-0271-4353-9cf9-89ac7ca3a834",
   "metadata": {},
   "outputs": [
    {
     "name": "stderr",
     "output_type": "stream",
     "text": [
      "/tmp/1070278.1.all.q/ipykernel_3023486/1243258573.py:4: FutureWarning: load_metric is deprecated and will be removed in the next major version of datasets. Use 'evaluate.load' instead, from the new library 🤗 Evaluate: https://huggingface.co/docs/evaluate\n",
      "  sari_metric = load_metric(\"sari\")\n"
     ]
    },
    {
     "data": {
      "application/vnd.jupyter.widget-view+json": {
       "model_id": "83554c300b964ea6af41e5f509abb8f8",
       "version_major": 2,
       "version_minor": 0
      },
      "text/plain": [
       "  0%|          | 0/483 [00:00<?, ?it/s]"
      ]
     },
     "metadata": {},
     "output_type": "display_data"
    }
   ],
   "source": [
    "from datasets import load_metric\n",
    "import pandas as pd\n",
    "\n",
    "sari_metric = load_metric(\"sari\")\n",
    "sari_scores = []\n",
    "\n",
    "for index, row in tqdm(df_results.iterrows(), total=len(df_results)):\n",
    "    r_content = row['text'] \n",
    "    s_content = row['reference']  \n",
    "    prediction = row['prediction']  \n",
    "    \n",
    "    sari_score = sari_metric.compute(\n",
    "        sources=[r_content],\n",
    "        predictions=[prediction],\n",
    "        references=[[s_content]] \n",
    "    )\n",
    "    \n",
    "    sari_scores.append(sari_score['sari'])"
   ]
  },
  {
   "cell_type": "code",
   "execution_count": 12,
   "id": "f9c4a0a5-ed36-4764-b368-98ec847279e2",
   "metadata": {},
   "outputs": [],
   "source": [
    "df['sari_score'] = sari_scores\n",
    "df.to_csv(\"../data/bart-large_sari.csv\", index=False)"
   ]
  },
  {
   "cell_type": "markdown",
   "id": "b3849ad7-d6f8-41bc-ae14-9b98f20b299a",
   "metadata": {},
   "source": [
    "### Bart-large\n",
    "\n",
    "SARI score in paper: 47"
   ]
  },
  {
   "cell_type": "code",
   "execution_count": 13,
   "id": "7c2cd6e0-58fc-4397-ac30-332b186fb5ae",
   "metadata": {},
   "outputs": [
    {
     "data": {
      "image/png": "[encoded data removed]",
      "text/plain": [
       "<Figure size 1000x600 with 1 Axes>"
      ]
     },
     "metadata": {},
     "output_type": "display_data"
    }
   ],
   "source": [
    "import matplotlib.pyplot as plt\n",
    "\n",
    "plt.figure(figsize=(10, 6))\n",
    "plt.hist(sari_scores, bins=20, color='skyblue', edgecolor='black')\n",
    "plt.title('Distribution of SARI Scores', fontsize=16, fontweight='bold')\n",
    "plt.xlabel('SARI Score', fontsize=14)\n",
    "plt.ylabel('Number of Texts', fontsize=14)\n",
    "plt.grid(axis='y', linestyle='--', alpha=0.7)\n",
    "plt.show()"
   ]
  },
  {
   "cell_type": "code",
   "execution_count": 14,
   "id": "75a319be-d117-46a4-ba3a-14e4a23f4a19",
   "metadata": {},
   "outputs": [
    {
     "name": "stdout",
     "output_type": "stream",
     "text": [
      "Overall SARI score:  49.48096249295494\n"
     ]
    }
   ],
   "source": [
    "import numpy as np\n",
    "\n",
    "print(\"Overall SARI score: \", np.mean(sari_scores))"
   ]
  },
  {
   "cell_type": "markdown",
   "id": "40184683-985c-4623-aa8b-6ad650443117",
   "metadata": {},
   "source": [
    "### Bart-large-clean\n",
    "\n",
    "Max_length = 200\n",
    ">Overall SARI score:  46.886738546261476\n",
    "\n",
    "Max length = 512\n",
    "> Overall SARI score:  **46.90068757640026**"
   ]
  },
  {
   "cell_type": "code",
   "execution_count": 27,
   "id": "a9eb178d-40a7-43e7-835d-8781b95fe601",
   "metadata": {},
   "outputs": [
    {
     "data": {
      "image/png": "[encoded data removed]",
      "text/plain": [
       "<Figure size 1000x600 with 1 Axes>"
      ]
     },
     "metadata": {},
     "output_type": "display_data"
    }
   ],
   "source": [
    "import matplotlib.pyplot as plt\n",
    "\n",
    "plt.figure(figsize=(10, 6))\n",
    "plt.hist(sari_scores, bins=20, color='skyblue', edgecolor='black')\n",
    "plt.title('Distribution of SARI Scores', fontsize=16, fontweight='bold')\n",
    "plt.xlabel('SARI Score', fontsize=14)\n",
    "plt.ylabel('Number of Texts', fontsize=14)\n",
    "plt.grid(axis='y', linestyle='--', alpha=0.7)\n",
    "plt.show()"
   ]
  },
  {
   "cell_type": "code",
   "execution_count": 28,
   "id": "b33f45c4-8c39-47b9-b1ca-92870372e949",
   "metadata": {},
   "outputs": [
    {
     "name": "stdout",
     "output_type": "stream",
     "text": [
      "Overall SARI score:  46.90068757640026\n"
     ]
    }
   ],
   "source": [
    "import numpy as np\n",
    "\n",
    "print(\"Overall SARI score: \", np.mean(sari_scores))"
   ]
  },
  {
   "cell_type": "markdown",
   "id": "7a079d61-c0cd-4448-a64c-36a50b724669",
   "metadata": {},
   "source": [
    "## EASSE package SARI"
   ]
  },
  {
   "cell_type": "code",
   "execution_count": 25,
   "id": "7158c0c5-7391-4e13-be52-a15fe421d9ae",
   "metadata": {},
   "outputs": [],
   "source": [
    "df_sari = pd.read_csv(\"../data/bart-large_sari-clean.csv\")"
   ]
  },
  {
   "cell_type": "code",
   "execution_count": 15,
   "id": "e890b389-07ce-416b-bac1-96404df7926c",
   "metadata": {},
   "outputs": [
    {
     "data": {
      "application/vnd.jupyter.widget-view+json": {
       "model_id": "d268a8ea0b124c1e8c80452f63d03a38",
       "version_major": 2,
       "version_minor": 0
      },
      "text/plain": [
       "  0%|          | 0/483 [00:00<?, ?it/s]"
      ]
     },
     "metadata": {},
     "output_type": "display_data"
    }
   ],
   "source": [
    "from easse.sari import corpus_sari\n",
    "\n",
    "sari_scores_easse = []\n",
    "\n",
    "for index, row in tqdm(df_results.iterrows(), total=len(df_results)):\n",
    "    r_content = row['text'] \n",
    "    s_content = row['reference']  \n",
    "    prediction = row['prediction']  \n",
    "    \n",
    "    sari_score = corpus_sari(\n",
    "        orig_sents=[r_content],\n",
    "        sys_sents=[prediction],\n",
    "        refs_sents=[[s_content]] \n",
    "    )\n",
    "    \n",
    "    sari_scores_easse.append(sari_score)"
   ]
  },
  {
   "cell_type": "code",
   "execution_count": 16,
   "id": "44836374-311d-4a02-9fcf-8663d2001cf6",
   "metadata": {},
   "outputs": [],
   "source": [
    "df['sari_score_easse'] = sari_scores_easse\n",
    "df.to_csv(\"../data/bart-large_sari_easse.csv\", index=False)"
   ]
  },
  {
   "cell_type": "code",
   "execution_count": 26,
   "id": "76760a21-6930-485a-a3a6-9707029db82a",
   "metadata": {},
   "outputs": [
    {
     "data": {
      "application/vnd.jupyter.widget-view+json": {
       "model_id": "565c5e1689c843b6bf8e9f77b3ea439b",
       "version_major": 2,
       "version_minor": 0
      },
      "text/plain": [
       "  0%|          | 0/483 [00:00<?, ?it/s]"
      ]
     },
     "metadata": {},
     "output_type": "display_data"
    }
   ],
   "source": [
    "from easse.sari import get_corpus_sari_operation_scores\n",
    "\n",
    "add_scores = []\n",
    "keep_scores = []\n",
    "del_scores = []\n",
    "\n",
    "for index, row in tqdm(df_sari.iterrows(), total=len(df_results)):\n",
    "    r_content = row['text'] \n",
    "    s_content = row['reference']  \n",
    "    prediction = row['prediction']  \n",
    "    \n",
    "    add_score, keep_score, del_score = get_corpus_sari_operation_scores(\n",
    "        orig_sents=[r_content],\n",
    "        sys_sents=[prediction],\n",
    "        refs_sents=[[s_content]] \n",
    "    )\n",
    "    \n",
    "    add_scores.append(add_score)\n",
    "    keep_scores.append(keep_score)\n",
    "    del_scores.append(del_score)"
   ]
  },
  {
   "cell_type": "markdown",
   "id": "d9c15c0e-e985-4ce4-a313-f3505a624a7d",
   "metadata": {},
   "source": [
    "### Bart-large"
   ]
  },
  {
   "cell_type": "code",
   "execution_count": 17,
   "id": "fef3aa3a-ce89-4c8a-b7b5-04fe656165b5",
   "metadata": {},
   "outputs": [
    {
     "data": {
      "image/png": "[encoded data removed]",
      "text/plain": [
       "<Figure size 1000x600 with 1 Axes>"
      ]
     },
     "metadata": {},
     "output_type": "display_data"
    }
   ],
   "source": [
    "import matplotlib.pyplot as plt\n",
    "\n",
    "plt.figure(figsize=(10, 6))\n",
    "plt.hist(sari_scores_easse, bins=20, color='skyblue', edgecolor='black')\n",
    "plt.title('Distribution of SARI Scores', fontsize=16, fontweight='bold')\n",
    "plt.xlabel('SARI Score', fontsize=14)\n",
    "plt.ylabel('Number of Texts', fontsize=14)\n",
    "plt.grid(axis='y', linestyle='--', alpha=0.7)\n",
    "plt.show()"
   ]
  },
  {
   "cell_type": "code",
   "execution_count": 18,
   "id": "71c6df19-085b-430a-a394-901fd7efa2a7",
   "metadata": {},
   "outputs": [
    {
     "name": "stdout",
     "output_type": "stream",
     "text": [
      "Overall SARI easse score:  44.74640578745792\n"
     ]
    }
   ],
   "source": [
    "import numpy as np\n",
    "\n",
    "print(\"Overall SARI easse score: \", np.mean(sari_scores_easse))"
   ]
  },
  {
   "cell_type": "code",
   "execution_count": 24,
   "id": "ac9096a5-3fd0-42e3-b6f7-c06cc72fc326",
   "metadata": {},
   "outputs": [
    {
     "name": "stdout",
     "output_type": "stream",
     "text": [
      "Addition score: 14.409176171522335\n",
      "Keep score: 59.1495754866222\n",
      "Deletion score: 60.68046570422921\n"
     ]
    }
   ],
   "source": [
    "print(f\"Addition score: {np.mean(add_scores)}\")\n",
    "print(f\"Keep score: {np.mean(keep_scores)}\")\n",
    "print(f\"Deletion score: {np.mean(del_scores)}\")"
   ]
  },
  {
   "cell_type": "markdown",
   "id": "403ee888-7939-4d8a-8e07-136bab886bb7",
   "metadata": {},
   "source": [
    "### Bart-large-clean"
   ]
  },
  {
   "cell_type": "code",
   "execution_count": 41,
   "id": "4c62c467-f096-4356-b1b3-fd6f2b4bc984",
   "metadata": {},
   "outputs": [
    {
     "data": {
      "image/png": "[encoded data removed]",
      "text/plain": [
       "<Figure size 1000x600 with 1 Axes>"
      ]
     },
     "metadata": {},
     "output_type": "display_data"
    }
   ],
   "source": [
    "import matplotlib.pyplot as plt\n",
    "\n",
    "plt.figure(figsize=(10, 6))\n",
    "plt.hist(sari_scores_easse, bins=20, color='skyblue', edgecolor='black')\n",
    "plt.title('Distribution of SARI Scores', fontsize=16, fontweight='bold')\n",
    "plt.xlabel('SARI Score', fontsize=14)\n",
    "plt.ylabel('Number of Texts', fontsize=14)\n",
    "plt.grid(axis='y', linestyle='--', alpha=0.7)\n",
    "plt.show()"
   ]
  },
  {
   "cell_type": "code",
   "execution_count": 42,
   "id": "bd26915d-9828-434d-b714-74ab58b577ae",
   "metadata": {},
   "outputs": [
    {
     "name": "stdout",
     "output_type": "stream",
     "text": [
      "Overall SARI easse score:  42.64155877641521\n"
     ]
    }
   ],
   "source": [
    "import numpy as np\n",
    "\n",
    "print(\"Overall SARI easse score: \", np.mean(sari_scores_easse))"
   ]
  },
  {
   "cell_type": "code",
   "execution_count": 27,
   "id": "87001ac4-a0ce-497c-a14f-28703d1cada3",
   "metadata": {},
   "outputs": [
    {
     "name": "stdout",
     "output_type": "stream",
     "text": [
      "Addition score: 11.98018165267816\n",
      "Keep score: 57.88663553272743\n",
      "Deletion score: 58.057859143840055\n"
     ]
    }
   ],
   "source": [
    "print(f\"Addition score: {np.mean(add_scores)}\")\n",
    "print(f\"Keep score: {np.mean(keep_scores)}\")\n",
    "print(f\"Deletion score: {np.mean(del_scores)}\")"
   ]
  },
  {
   "cell_type": "markdown",
   "id": "5b33a749-4e82-431d-b1da-40b3a020656a",
   "metadata": {},
   "source": [
    "# FKGL score"
   ]
  },
  {
   "cell_type": "code",
   "execution_count": 30,
   "id": "e407a664-1dbb-487f-8b38-1fdbccfef18e",
   "metadata": {},
   "outputs": [],
   "source": [
    "import sys,os\n",
    "sys.path.append('../easse')"
   ]
  },
  {
   "cell_type": "markdown",
   "id": "f5b2ed4c-eb92-4695-a525-a883b32451e8",
   "metadata": {},
   "source": [
    "## Bart-large"
   ]
  },
  {
   "cell_type": "code",
   "execution_count": 20,
   "id": "6b8db0d6-cd2f-416b-9843-412f3033af33",
   "metadata": {},
   "outputs": [
    {
     "name": "stdout",
     "output_type": "stream",
     "text": [
      "FKGL Scores:\n",
      "BART-swipe: 7.2542\n",
      "References: 6.4284\n"
     ]
    }
   ],
   "source": [
    "from easse.fkgl import corpus_fkgl\n",
    "\n",
    "bart_c_fkgl_score = corpus_fkgl(df['prediction'])\n",
    "ref_fkgl_score = corpus_fkgl(df['reference'].tolist())\n",
    "print(f\"FKGL Scores:\")\n",
    "print(f\"BART-swipe: {bart_c_fkgl_score:.4f}\")\n",
    "print(f\"References: {ref_fkgl_score:.4f}\")"
   ]
  },
  {
   "cell_type": "markdown",
   "id": "415cdfa8-1c1b-4e9d-873b-007919664ed5",
   "metadata": {},
   "source": [
    "## Bart-large-clean"
   ]
  },
  {
   "cell_type": "code",
   "execution_count": 36,
   "id": "c424ed58-b0f9-41d1-a7c1-ef6289694d39",
   "metadata": {},
   "outputs": [
    {
     "name": "stdout",
     "output_type": "stream",
     "text": [
      "FKGL Scores:\n",
      "BART-swipe-clean: 6.8963\n",
      "References: 6.4284\n"
     ]
    }
   ],
   "source": [
    "from easse.fkgl import corpus_fkgl\n",
    "\n",
    "bart_c_fkgl_score = corpus_fkgl(df['prediction'])\n",
    "ref_fkgl_score = corpus_fkgl(df['reference'].tolist())\n",
    "print(f\"FKGL Scores:\")\n",
    "print(f\"BART-swipe-clean: {bart_c_fkgl_score:.4f}\")\n",
    "print(f\"References: {ref_fkgl_score:.4f}\")"
   ]
  },
  {
   "cell_type": "markdown",
   "id": "5b1455b9-d15d-4448-bf56-5ddf35d61164",
   "metadata": {
    "jp-MarkdownHeadingCollapsed": true
   },
   "source": [
    "# LlaMA 3\n",
    "\n",
    "https://huggingface.co/meta-llama\n",
    "\n",
    "LlaMA 3 8B -> needs agreement"
   ]
  },
  {
   "cell_type": "code",
   "execution_count": 1,
   "id": "7e405816-2bcd-4e49-9fe1-5db8a66d704d",
   "metadata": {
    "scrolled": true
   },
   "outputs": [
    {
     "name": "stderr",
     "output_type": "stream",
     "text": [
      "/home/6/ud03926/nlp/lib64/python3.9/site-packages/tqdm/auto.py:21: TqdmWarning: IProgress not found. Please update jupyter and ipywidgets. See https://ipywidgets.readthedocs.io/en/stable/user_install.html\n",
      "  from .autonotebook import tqdm as notebook_tqdm\n"
     ]
    },
    {
     "ename": "OSError",
     "evalue": "You are trying to access a gated repo.\nMake sure to have access to it at https://huggingface.co/meta-llama/Meta-Llama-3-8B-Instruct.\n401 Client Error. (Request ID: Root=1-669f4b46-6dd7c18439b4cbdc443f9c16;dac52d38-dcbd-492f-96ac-fc3ecfd83c5f)\n\nCannot access gated repo for url https://huggingface.co/meta-llama/Meta-Llama-3-8B-Instruct/resolve/main/config.json.\nAccess to model meta-llama/Meta-Llama-3-8B-Instruct is restricted. You must be authenticated to access it.",
     "output_type": "error",
     "traceback": [
      "\u001b[0;31m---------------------------------------------------------------------------\u001b[0m",
      "\u001b[0;31mHTTPError\u001b[0m                                 Traceback (most recent call last)",
      "File \u001b[0;32m~/nlp/lib64/python3.9/site-packages/huggingface_hub/utils/_errors.py:304\u001b[0m, in \u001b[0;36mhf_raise_for_status\u001b[0;34m(response, endpoint_name)\u001b[0m\n\u001b[1;32m    303\u001b[0m \u001b[38;5;28;01mtry\u001b[39;00m:\n\u001b[0;32m--> 304\u001b[0m     \u001b[43mresponse\u001b[49m\u001b[38;5;241;43m.\u001b[39;49m\u001b[43mraise_for_status\u001b[49m\u001b[43m(\u001b[49m\u001b[43m)\u001b[49m\n\u001b[1;32m    305\u001b[0m \u001b[38;5;28;01mexcept\u001b[39;00m HTTPError \u001b[38;5;28;01mas\u001b[39;00m e:\n",
      "File \u001b[0;32m~/nlp/lib64/python3.9/site-packages/requests/models.py:1024\u001b[0m, in \u001b[0;36mResponse.raise_for_status\u001b[0;34m(self)\u001b[0m\n\u001b[1;32m   1023\u001b[0m \u001b[38;5;28;01mif\u001b[39;00m http_error_msg:\n\u001b[0;32m-> 1024\u001b[0m     \u001b[38;5;28;01mraise\u001b[39;00m HTTPError(http_error_msg, response\u001b[38;5;241m=\u001b[39m\u001b[38;5;28mself\u001b[39m)\n",
      "\u001b[0;31mHTTPError\u001b[0m: 401 Client Error: Unauthorized for url: https://huggingface.co/meta-llama/Meta-Llama-3-8B-Instruct/resolve/main/config.json",
      "\nThe above exception was the direct cause of the following exception:\n",
      "\u001b[0;31mGatedRepoError\u001b[0m                            Traceback (most recent call last)",
      "File \u001b[0;32m~/nlp/lib64/python3.9/site-packages/transformers/utils/hub.py:402\u001b[0m, in \u001b[0;36mcached_file\u001b[0;34m(path_or_repo_id, filename, cache_dir, force_download, resume_download, proxies, token, revision, local_files_only, subfolder, repo_type, user_agent, _raise_exceptions_for_gated_repo, _raise_exceptions_for_missing_entries, _raise_exceptions_for_connection_errors, _commit_hash, **deprecated_kwargs)\u001b[0m\n\u001b[1;32m    400\u001b[0m \u001b[38;5;28;01mtry\u001b[39;00m:\n\u001b[1;32m    401\u001b[0m     \u001b[38;5;66;03m# Load from URL or cache if already cached\u001b[39;00m\n\u001b[0;32m--> 402\u001b[0m     resolved_file \u001b[38;5;241m=\u001b[39m \u001b[43mhf_hub_download\u001b[49m\u001b[43m(\u001b[49m\n\u001b[1;32m    403\u001b[0m \u001b[43m        \u001b[49m\u001b[43mpath_or_repo_id\u001b[49m\u001b[43m,\u001b[49m\n\u001b[1;32m    404\u001b[0m \u001b[43m        \u001b[49m\u001b[43mfilename\u001b[49m\u001b[43m,\u001b[49m\n\u001b[1;32m    405\u001b[0m \u001b[43m        \u001b[49m\u001b[43msubfolder\u001b[49m\u001b[38;5;241;43m=\u001b[39;49m\u001b[38;5;28;43;01mNone\u001b[39;49;00m\u001b[43m \u001b[49m\u001b[38;5;28;43;01mif\u001b[39;49;00m\u001b[43m \u001b[49m\u001b[38;5;28;43mlen\u001b[39;49m\u001b[43m(\u001b[49m\u001b[43msubfolder\u001b[49m\u001b[43m)\u001b[49m\u001b[43m \u001b[49m\u001b[38;5;241;43m==\u001b[39;49m\u001b[43m \u001b[49m\u001b[38;5;241;43m0\u001b[39;49m\u001b[43m \u001b[49m\u001b[38;5;28;43;01melse\u001b[39;49;00m\u001b[43m \u001b[49m\u001b[43msubfolder\u001b[49m\u001b[43m,\u001b[49m\n\u001b[1;32m    406\u001b[0m \u001b[43m        \u001b[49m\u001b[43mrepo_type\u001b[49m\u001b[38;5;241;43m=\u001b[39;49m\u001b[43mrepo_type\u001b[49m\u001b[43m,\u001b[49m\n\u001b[1;32m    407\u001b[0m \u001b[43m        \u001b[49m\u001b[43mrevision\u001b[49m\u001b[38;5;241;43m=\u001b[39;49m\u001b[43mrevision\u001b[49m\u001b[43m,\u001b[49m\n\u001b[1;32m    408\u001b[0m \u001b[43m        \u001b[49m\u001b[43mcache_dir\u001b[49m\u001b[38;5;241;43m=\u001b[39;49m\u001b[43mcache_dir\u001b[49m\u001b[43m,\u001b[49m\n\u001b[1;32m    409\u001b[0m \u001b[43m        \u001b[49m\u001b[43muser_agent\u001b[49m\u001b[38;5;241;43m=\u001b[39;49m\u001b[43muser_agent\u001b[49m\u001b[43m,\u001b[49m\n\u001b[1;32m    410\u001b[0m \u001b[43m        \u001b[49m\u001b[43mforce_download\u001b[49m\u001b[38;5;241;43m=\u001b[39;49m\u001b[43mforce_download\u001b[49m\u001b[43m,\u001b[49m\n\u001b[1;32m    411\u001b[0m \u001b[43m        \u001b[49m\u001b[43mproxies\u001b[49m\u001b[38;5;241;43m=\u001b[39;49m\u001b[43mproxies\u001b[49m\u001b[43m,\u001b[49m\n\u001b[1;32m    412\u001b[0m \u001b[43m        \u001b[49m\u001b[43mresume_download\u001b[49m\u001b[38;5;241;43m=\u001b[39;49m\u001b[43mresume_download\u001b[49m\u001b[43m,\u001b[49m\n\u001b[1;32m    413\u001b[0m \u001b[43m        \u001b[49m\u001b[43mtoken\u001b[49m\u001b[38;5;241;43m=\u001b[39;49m\u001b[43mtoken\u001b[49m\u001b[43m,\u001b[49m\n\u001b[1;32m    414\u001b[0m \u001b[43m        \u001b[49m\u001b[43mlocal_files_only\u001b[49m\u001b[38;5;241;43m=\u001b[39;49m\u001b[43mlocal_files_only\u001b[49m\u001b[43m,\u001b[49m\n\u001b[1;32m    415\u001b[0m \u001b[43m    \u001b[49m\u001b[43m)\u001b[49m\n\u001b[1;32m    416\u001b[0m \u001b[38;5;28;01mexcept\u001b[39;00m GatedRepoError \u001b[38;5;28;01mas\u001b[39;00m e:\n",
      "File \u001b[0;32m~/nlp/lib64/python3.9/site-packages/huggingface_hub/utils/_validators.py:114\u001b[0m, in \u001b[0;36mvalidate_hf_hub_args.<locals>._inner_fn\u001b[0;34m(*args, **kwargs)\u001b[0m\n\u001b[1;32m    112\u001b[0m     kwargs \u001b[38;5;241m=\u001b[39m smoothly_deprecate_use_auth_token(fn_name\u001b[38;5;241m=\u001b[39mfn\u001b[38;5;241m.\u001b[39m\u001b[38;5;18m__name__\u001b[39m, has_token\u001b[38;5;241m=\u001b[39mhas_token, kwargs\u001b[38;5;241m=\u001b[39mkwargs)\n\u001b[0;32m--> 114\u001b[0m \u001b[38;5;28;01mreturn\u001b[39;00m \u001b[43mfn\u001b[49m\u001b[43m(\u001b[49m\u001b[38;5;241;43m*\u001b[39;49m\u001b[43margs\u001b[49m\u001b[43m,\u001b[49m\u001b[43m \u001b[49m\u001b[38;5;241;43m*\u001b[39;49m\u001b[38;5;241;43m*\u001b[39;49m\u001b[43mkwargs\u001b[49m\u001b[43m)\u001b[49m\n",
      "File \u001b[0;32m~/nlp/lib64/python3.9/site-packages/huggingface_hub/file_download.py:1221\u001b[0m, in \u001b[0;36mhf_hub_download\u001b[0;34m(repo_id, filename, subfolder, repo_type, revision, library_name, library_version, cache_dir, local_dir, user_agent, force_download, proxies, etag_timeout, token, local_files_only, headers, endpoint, legacy_cache_layout, resume_download, force_filename, local_dir_use_symlinks)\u001b[0m\n\u001b[1;32m   1220\u001b[0m \u001b[38;5;28;01melse\u001b[39;00m:\n\u001b[0;32m-> 1221\u001b[0m     \u001b[38;5;28;01mreturn\u001b[39;00m \u001b[43m_hf_hub_download_to_cache_dir\u001b[49m\u001b[43m(\u001b[49m\n\u001b[1;32m   1222\u001b[0m \u001b[43m        \u001b[49m\u001b[38;5;66;43;03m# Destination\u001b[39;49;00m\n\u001b[1;32m   1223\u001b[0m \u001b[43m        \u001b[49m\u001b[43mcache_dir\u001b[49m\u001b[38;5;241;43m=\u001b[39;49m\u001b[43mcache_dir\u001b[49m\u001b[43m,\u001b[49m\n\u001b[1;32m   1224\u001b[0m \u001b[43m        \u001b[49m\u001b[38;5;66;43;03m# File info\u001b[39;49;00m\n\u001b[1;32m   1225\u001b[0m \u001b[43m        \u001b[49m\u001b[43mrepo_id\u001b[49m\u001b[38;5;241;43m=\u001b[39;49m\u001b[43mrepo_id\u001b[49m\u001b[43m,\u001b[49m\n\u001b[1;32m   1226\u001b[0m \u001b[43m        \u001b[49m\u001b[43mfilename\u001b[49m\u001b[38;5;241;43m=\u001b[39;49m\u001b[43mfilename\u001b[49m\u001b[43m,\u001b[49m\n\u001b[1;32m   1227\u001b[0m \u001b[43m        \u001b[49m\u001b[43mrepo_type\u001b[49m\u001b[38;5;241;43m=\u001b[39;49m\u001b[43mrepo_type\u001b[49m\u001b[43m,\u001b[49m\n\u001b[1;32m   1228\u001b[0m \u001b[43m        \u001b[49m\u001b[43mrevision\u001b[49m\u001b[38;5;241;43m=\u001b[39;49m\u001b[43mrevision\u001b[49m\u001b[43m,\u001b[49m\n\u001b[1;32m   1229\u001b[0m \u001b[43m        \u001b[49m\u001b[38;5;66;43;03m# HTTP info\u001b[39;49;00m\n\u001b[1;32m   1230\u001b[0m \u001b[43m        \u001b[49m\u001b[43mheaders\u001b[49m\u001b[38;5;241;43m=\u001b[39;49m\u001b[43mheaders\u001b[49m\u001b[43m,\u001b[49m\n\u001b[1;32m   1231\u001b[0m \u001b[43m        \u001b[49m\u001b[43mproxies\u001b[49m\u001b[38;5;241;43m=\u001b[39;49m\u001b[43mproxies\u001b[49m\u001b[43m,\u001b[49m\n\u001b[1;32m   1232\u001b[0m \u001b[43m        \u001b[49m\u001b[43metag_timeout\u001b[49m\u001b[38;5;241;43m=\u001b[39;49m\u001b[43metag_timeout\u001b[49m\u001b[43m,\u001b[49m\n\u001b[1;32m   1233\u001b[0m \u001b[43m        \u001b[49m\u001b[43mendpoint\u001b[49m\u001b[38;5;241;43m=\u001b[39;49m\u001b[43mendpoint\u001b[49m\u001b[43m,\u001b[49m\n\u001b[1;32m   1234\u001b[0m \u001b[43m        \u001b[49m\u001b[38;5;66;43;03m# Additional options\u001b[39;49;00m\n\u001b[1;32m   1235\u001b[0m \u001b[43m        \u001b[49m\u001b[43mlocal_files_only\u001b[49m\u001b[38;5;241;43m=\u001b[39;49m\u001b[43mlocal_files_only\u001b[49m\u001b[43m,\u001b[49m\n\u001b[1;32m   1236\u001b[0m \u001b[43m        \u001b[49m\u001b[43mforce_download\u001b[49m\u001b[38;5;241;43m=\u001b[39;49m\u001b[43mforce_download\u001b[49m\u001b[43m,\u001b[49m\n\u001b[1;32m   1237\u001b[0m \u001b[43m    \u001b[49m\u001b[43m)\u001b[49m\n",
      "File \u001b[0;32m~/nlp/lib64/python3.9/site-packages/huggingface_hub/file_download.py:1325\u001b[0m, in \u001b[0;36m_hf_hub_download_to_cache_dir\u001b[0;34m(cache_dir, repo_id, filename, repo_type, revision, headers, proxies, etag_timeout, endpoint, local_files_only, force_download)\u001b[0m\n\u001b[1;32m   1324\u001b[0m     \u001b[38;5;66;03m# Otherwise, raise appropriate error\u001b[39;00m\n\u001b[0;32m-> 1325\u001b[0m     \u001b[43m_raise_on_head_call_error\u001b[49m\u001b[43m(\u001b[49m\u001b[43mhead_call_error\u001b[49m\u001b[43m,\u001b[49m\u001b[43m \u001b[49m\u001b[43mforce_download\u001b[49m\u001b[43m,\u001b[49m\u001b[43m \u001b[49m\u001b[43mlocal_files_only\u001b[49m\u001b[43m)\u001b[49m\n\u001b[1;32m   1327\u001b[0m \u001b[38;5;66;03m# From now on, etag, commit_hash, url and size are not None.\u001b[39;00m\n",
      "File \u001b[0;32m~/nlp/lib64/python3.9/site-packages/huggingface_hub/file_download.py:1823\u001b[0m, in \u001b[0;36m_raise_on_head_call_error\u001b[0;34m(head_call_error, force_download, local_files_only)\u001b[0m\n\u001b[1;32m   1821\u001b[0m \u001b[38;5;28;01melif\u001b[39;00m \u001b[38;5;28misinstance\u001b[39m(head_call_error, RepositoryNotFoundError) \u001b[38;5;129;01mor\u001b[39;00m \u001b[38;5;28misinstance\u001b[39m(head_call_error, GatedRepoError):\n\u001b[1;32m   1822\u001b[0m     \u001b[38;5;66;03m# Repo not found or gated => let's raise the actual error\u001b[39;00m\n\u001b[0;32m-> 1823\u001b[0m     \u001b[38;5;28;01mraise\u001b[39;00m head_call_error\n\u001b[1;32m   1824\u001b[0m \u001b[38;5;28;01melse\u001b[39;00m:\n\u001b[1;32m   1825\u001b[0m     \u001b[38;5;66;03m# Otherwise: most likely a connection issue or Hub downtime => let's warn the user\u001b[39;00m\n",
      "File \u001b[0;32m~/nlp/lib64/python3.9/site-packages/huggingface_hub/file_download.py:1722\u001b[0m, in \u001b[0;36m_get_metadata_or_catch_error\u001b[0;34m(repo_id, filename, repo_type, revision, endpoint, proxies, etag_timeout, headers, local_files_only, relative_filename, storage_folder)\u001b[0m\n\u001b[1;32m   1721\u001b[0m \u001b[38;5;28;01mtry\u001b[39;00m:\n\u001b[0;32m-> 1722\u001b[0m     metadata \u001b[38;5;241m=\u001b[39m \u001b[43mget_hf_file_metadata\u001b[49m\u001b[43m(\u001b[49m\u001b[43murl\u001b[49m\u001b[38;5;241;43m=\u001b[39;49m\u001b[43murl\u001b[49m\u001b[43m,\u001b[49m\u001b[43m \u001b[49m\u001b[43mproxies\u001b[49m\u001b[38;5;241;43m=\u001b[39;49m\u001b[43mproxies\u001b[49m\u001b[43m,\u001b[49m\u001b[43m \u001b[49m\u001b[43mtimeout\u001b[49m\u001b[38;5;241;43m=\u001b[39;49m\u001b[43metag_timeout\u001b[49m\u001b[43m,\u001b[49m\u001b[43m \u001b[49m\u001b[43mheaders\u001b[49m\u001b[38;5;241;43m=\u001b[39;49m\u001b[43mheaders\u001b[49m\u001b[43m)\u001b[49m\n\u001b[1;32m   1723\u001b[0m \u001b[38;5;28;01mexcept\u001b[39;00m EntryNotFoundError \u001b[38;5;28;01mas\u001b[39;00m http_error:\n",
      "File \u001b[0;32m~/nlp/lib64/python3.9/site-packages/huggingface_hub/utils/_validators.py:114\u001b[0m, in \u001b[0;36mvalidate_hf_hub_args.<locals>._inner_fn\u001b[0;34m(*args, **kwargs)\u001b[0m\n\u001b[1;32m    112\u001b[0m     kwargs \u001b[38;5;241m=\u001b[39m smoothly_deprecate_use_auth_token(fn_name\u001b[38;5;241m=\u001b[39mfn\u001b[38;5;241m.\u001b[39m\u001b[38;5;18m__name__\u001b[39m, has_token\u001b[38;5;241m=\u001b[39mhas_token, kwargs\u001b[38;5;241m=\u001b[39mkwargs)\n\u001b[0;32m--> 114\u001b[0m \u001b[38;5;28;01mreturn\u001b[39;00m \u001b[43mfn\u001b[49m\u001b[43m(\u001b[49m\u001b[38;5;241;43m*\u001b[39;49m\u001b[43margs\u001b[49m\u001b[43m,\u001b[49m\u001b[43m \u001b[49m\u001b[38;5;241;43m*\u001b[39;49m\u001b[38;5;241;43m*\u001b[39;49m\u001b[43mkwargs\u001b[49m\u001b[43m)\u001b[49m\n",
      "File \u001b[0;32m~/nlp/lib64/python3.9/site-packages/huggingface_hub/file_download.py:1645\u001b[0m, in \u001b[0;36mget_hf_file_metadata\u001b[0;34m(url, token, proxies, timeout, library_name, library_version, user_agent, headers)\u001b[0m\n\u001b[1;32m   1644\u001b[0m \u001b[38;5;66;03m# Retrieve metadata\u001b[39;00m\n\u001b[0;32m-> 1645\u001b[0m r \u001b[38;5;241m=\u001b[39m \u001b[43m_request_wrapper\u001b[49m\u001b[43m(\u001b[49m\n\u001b[1;32m   1646\u001b[0m \u001b[43m    \u001b[49m\u001b[43mmethod\u001b[49m\u001b[38;5;241;43m=\u001b[39;49m\u001b[38;5;124;43m\"\u001b[39;49m\u001b[38;5;124;43mHEAD\u001b[39;49m\u001b[38;5;124;43m\"\u001b[39;49m\u001b[43m,\u001b[49m\n\u001b[1;32m   1647\u001b[0m \u001b[43m    \u001b[49m\u001b[43murl\u001b[49m\u001b[38;5;241;43m=\u001b[39;49m\u001b[43murl\u001b[49m\u001b[43m,\u001b[49m\n\u001b[1;32m   1648\u001b[0m \u001b[43m    \u001b[49m\u001b[43mheaders\u001b[49m\u001b[38;5;241;43m=\u001b[39;49m\u001b[43mheaders\u001b[49m\u001b[43m,\u001b[49m\n\u001b[1;32m   1649\u001b[0m \u001b[43m    \u001b[49m\u001b[43mallow_redirects\u001b[49m\u001b[38;5;241;43m=\u001b[39;49m\u001b[38;5;28;43;01mFalse\u001b[39;49;00m\u001b[43m,\u001b[49m\n\u001b[1;32m   1650\u001b[0m \u001b[43m    \u001b[49m\u001b[43mfollow_relative_redirects\u001b[49m\u001b[38;5;241;43m=\u001b[39;49m\u001b[38;5;28;43;01mTrue\u001b[39;49;00m\u001b[43m,\u001b[49m\n\u001b[1;32m   1651\u001b[0m \u001b[43m    \u001b[49m\u001b[43mproxies\u001b[49m\u001b[38;5;241;43m=\u001b[39;49m\u001b[43mproxies\u001b[49m\u001b[43m,\u001b[49m\n\u001b[1;32m   1652\u001b[0m \u001b[43m    \u001b[49m\u001b[43mtimeout\u001b[49m\u001b[38;5;241;43m=\u001b[39;49m\u001b[43mtimeout\u001b[49m\u001b[43m,\u001b[49m\n\u001b[1;32m   1653\u001b[0m \u001b[43m\u001b[49m\u001b[43m)\u001b[49m\n\u001b[1;32m   1654\u001b[0m hf_raise_for_status(r)\n",
      "File \u001b[0;32m~/nlp/lib64/python3.9/site-packages/huggingface_hub/file_download.py:372\u001b[0m, in \u001b[0;36m_request_wrapper\u001b[0;34m(method, url, follow_relative_redirects, **params)\u001b[0m\n\u001b[1;32m    371\u001b[0m \u001b[38;5;28;01mif\u001b[39;00m follow_relative_redirects:\n\u001b[0;32m--> 372\u001b[0m     response \u001b[38;5;241m=\u001b[39m \u001b[43m_request_wrapper\u001b[49m\u001b[43m(\u001b[49m\n\u001b[1;32m    373\u001b[0m \u001b[43m        \u001b[49m\u001b[43mmethod\u001b[49m\u001b[38;5;241;43m=\u001b[39;49m\u001b[43mmethod\u001b[49m\u001b[43m,\u001b[49m\n\u001b[1;32m    374\u001b[0m \u001b[43m        \u001b[49m\u001b[43murl\u001b[49m\u001b[38;5;241;43m=\u001b[39;49m\u001b[43murl\u001b[49m\u001b[43m,\u001b[49m\n\u001b[1;32m    375\u001b[0m \u001b[43m        \u001b[49m\u001b[43mfollow_relative_redirects\u001b[49m\u001b[38;5;241;43m=\u001b[39;49m\u001b[38;5;28;43;01mFalse\u001b[39;49;00m\u001b[43m,\u001b[49m\n\u001b[1;32m    376\u001b[0m \u001b[43m        \u001b[49m\u001b[38;5;241;43m*\u001b[39;49m\u001b[38;5;241;43m*\u001b[39;49m\u001b[43mparams\u001b[49m\u001b[43m,\u001b[49m\n\u001b[1;32m    377\u001b[0m \u001b[43m    \u001b[49m\u001b[43m)\u001b[49m\n\u001b[1;32m    379\u001b[0m     \u001b[38;5;66;03m# If redirection, we redirect only relative paths.\u001b[39;00m\n\u001b[1;32m    380\u001b[0m     \u001b[38;5;66;03m# This is useful in case of a renamed repository.\u001b[39;00m\n",
      "File \u001b[0;32m~/nlp/lib64/python3.9/site-packages/huggingface_hub/file_download.py:396\u001b[0m, in \u001b[0;36m_request_wrapper\u001b[0;34m(method, url, follow_relative_redirects, **params)\u001b[0m\n\u001b[1;32m    395\u001b[0m response \u001b[38;5;241m=\u001b[39m get_session()\u001b[38;5;241m.\u001b[39mrequest(method\u001b[38;5;241m=\u001b[39mmethod, url\u001b[38;5;241m=\u001b[39murl, \u001b[38;5;241m*\u001b[39m\u001b[38;5;241m*\u001b[39mparams)\n\u001b[0;32m--> 396\u001b[0m \u001b[43mhf_raise_for_status\u001b[49m\u001b[43m(\u001b[49m\u001b[43mresponse\u001b[49m\u001b[43m)\u001b[49m\n\u001b[1;32m    397\u001b[0m \u001b[38;5;28;01mreturn\u001b[39;00m response\n",
      "File \u001b[0;32m~/nlp/lib64/python3.9/site-packages/huggingface_hub/utils/_errors.py:321\u001b[0m, in \u001b[0;36mhf_raise_for_status\u001b[0;34m(response, endpoint_name)\u001b[0m\n\u001b[1;32m    318\u001b[0m     message \u001b[38;5;241m=\u001b[39m (\n\u001b[1;32m    319\u001b[0m         \u001b[38;5;124mf\u001b[39m\u001b[38;5;124m\"\u001b[39m\u001b[38;5;132;01m{\u001b[39;00mresponse\u001b[38;5;241m.\u001b[39mstatus_code\u001b[38;5;132;01m}\u001b[39;00m\u001b[38;5;124m Client Error.\u001b[39m\u001b[38;5;124m\"\u001b[39m \u001b[38;5;241m+\u001b[39m \u001b[38;5;124m\"\u001b[39m\u001b[38;5;130;01m\\n\u001b[39;00m\u001b[38;5;130;01m\\n\u001b[39;00m\u001b[38;5;124m\"\u001b[39m \u001b[38;5;241m+\u001b[39m \u001b[38;5;124mf\u001b[39m\u001b[38;5;124m\"\u001b[39m\u001b[38;5;124mCannot access gated repo for url \u001b[39m\u001b[38;5;132;01m{\u001b[39;00mresponse\u001b[38;5;241m.\u001b[39murl\u001b[38;5;132;01m}\u001b[39;00m\u001b[38;5;124m.\u001b[39m\u001b[38;5;124m\"\u001b[39m\n\u001b[1;32m    320\u001b[0m     )\n\u001b[0;32m--> 321\u001b[0m     \u001b[38;5;28;01mraise\u001b[39;00m GatedRepoError(message, response) \u001b[38;5;28;01mfrom\u001b[39;00m \u001b[38;5;21;01me\u001b[39;00m\n\u001b[1;32m    323\u001b[0m \u001b[38;5;28;01melif\u001b[39;00m error_message \u001b[38;5;241m==\u001b[39m \u001b[38;5;124m\"\u001b[39m\u001b[38;5;124mAccess to this resource is disabled.\u001b[39m\u001b[38;5;124m\"\u001b[39m:\n",
      "\u001b[0;31mGatedRepoError\u001b[0m: 401 Client Error. (Request ID: Root=1-669f4b46-6dd7c18439b4cbdc443f9c16;dac52d38-dcbd-492f-96ac-fc3ecfd83c5f)\n\nCannot access gated repo for url https://huggingface.co/meta-llama/Meta-Llama-3-8B-Instruct/resolve/main/config.json.\nAccess to model meta-llama/Meta-Llama-3-8B-Instruct is restricted. You must be authenticated to access it.",
      "\nThe above exception was the direct cause of the following exception:\n",
      "\u001b[0;31mOSError\u001b[0m                                   Traceback (most recent call last)",
      "Cell \u001b[0;32mIn[1], line 4\u001b[0m\n\u001b[1;32m      1\u001b[0m \u001b[38;5;66;03m# load model\u001b[39;00m\n\u001b[1;32m      2\u001b[0m \u001b[38;5;28;01mfrom\u001b[39;00m \u001b[38;5;21;01mtransformers\u001b[39;00m \u001b[38;5;28;01mimport\u001b[39;00m AutoTokenizer, AutoModelForCausalLM\n\u001b[0;32m----> 4\u001b[0m tokenizer \u001b[38;5;241m=\u001b[39m \u001b[43mAutoTokenizer\u001b[49m\u001b[38;5;241;43m.\u001b[39;49m\u001b[43mfrom_pretrained\u001b[49m\u001b[43m(\u001b[49m\u001b[38;5;124;43m\"\u001b[39;49m\u001b[38;5;124;43mmeta-llama/Meta-Llama-3-8B-Instruct\u001b[39;49m\u001b[38;5;124;43m\"\u001b[39;49m\u001b[43m)\u001b[49m\n\u001b[1;32m      5\u001b[0m model \u001b[38;5;241m=\u001b[39m AutoModelForCausalLM\u001b[38;5;241m.\u001b[39mfrom_pretrained(\u001b[38;5;124m\"\u001b[39m\u001b[38;5;124mmeta-llama/Meta-Llama-3-8B-Instruct\u001b[39m\u001b[38;5;124m\"\u001b[39m)\n",
      "File \u001b[0;32m~/nlp/lib64/python3.9/site-packages/transformers/models/auto/tokenization_auto.py:846\u001b[0m, in \u001b[0;36mAutoTokenizer.from_pretrained\u001b[0;34m(cls, pretrained_model_name_or_path, *inputs, **kwargs)\u001b[0m\n\u001b[1;32m    844\u001b[0m         config \u001b[38;5;241m=\u001b[39m AutoConfig\u001b[38;5;241m.\u001b[39mfor_model(\u001b[38;5;241m*\u001b[39m\u001b[38;5;241m*\u001b[39mconfig_dict)\n\u001b[1;32m    845\u001b[0m     \u001b[38;5;28;01melse\u001b[39;00m:\n\u001b[0;32m--> 846\u001b[0m         config \u001b[38;5;241m=\u001b[39m \u001b[43mAutoConfig\u001b[49m\u001b[38;5;241;43m.\u001b[39;49m\u001b[43mfrom_pretrained\u001b[49m\u001b[43m(\u001b[49m\n\u001b[1;32m    847\u001b[0m \u001b[43m            \u001b[49m\u001b[43mpretrained_model_name_or_path\u001b[49m\u001b[43m,\u001b[49m\u001b[43m \u001b[49m\u001b[43mtrust_remote_code\u001b[49m\u001b[38;5;241;43m=\u001b[39;49m\u001b[43mtrust_remote_code\u001b[49m\u001b[43m,\u001b[49m\u001b[43m \u001b[49m\u001b[38;5;241;43m*\u001b[39;49m\u001b[38;5;241;43m*\u001b[39;49m\u001b[43mkwargs\u001b[49m\n\u001b[1;32m    848\u001b[0m \u001b[43m        \u001b[49m\u001b[43m)\u001b[49m\n\u001b[1;32m    849\u001b[0m config_tokenizer_class \u001b[38;5;241m=\u001b[39m config\u001b[38;5;241m.\u001b[39mtokenizer_class\n\u001b[1;32m    850\u001b[0m \u001b[38;5;28;01mif\u001b[39;00m \u001b[38;5;28mhasattr\u001b[39m(config, \u001b[38;5;124m\"\u001b[39m\u001b[38;5;124mauto_map\u001b[39m\u001b[38;5;124m\"\u001b[39m) \u001b[38;5;129;01mand\u001b[39;00m \u001b[38;5;124m\"\u001b[39m\u001b[38;5;124mAutoTokenizer\u001b[39m\u001b[38;5;124m\"\u001b[39m \u001b[38;5;129;01min\u001b[39;00m config\u001b[38;5;241m.\u001b[39mauto_map:\n",
      "File \u001b[0;32m~/nlp/lib64/python3.9/site-packages/transformers/models/auto/configuration_auto.py:965\u001b[0m, in \u001b[0;36mAutoConfig.from_pretrained\u001b[0;34m(cls, pretrained_model_name_or_path, **kwargs)\u001b[0m\n\u001b[1;32m    962\u001b[0m trust_remote_code \u001b[38;5;241m=\u001b[39m kwargs\u001b[38;5;241m.\u001b[39mpop(\u001b[38;5;124m\"\u001b[39m\u001b[38;5;124mtrust_remote_code\u001b[39m\u001b[38;5;124m\"\u001b[39m, \u001b[38;5;28;01mNone\u001b[39;00m)\n\u001b[1;32m    963\u001b[0m code_revision \u001b[38;5;241m=\u001b[39m kwargs\u001b[38;5;241m.\u001b[39mpop(\u001b[38;5;124m\"\u001b[39m\u001b[38;5;124mcode_revision\u001b[39m\u001b[38;5;124m\"\u001b[39m, \u001b[38;5;28;01mNone\u001b[39;00m)\n\u001b[0;32m--> 965\u001b[0m config_dict, unused_kwargs \u001b[38;5;241m=\u001b[39m \u001b[43mPretrainedConfig\u001b[49m\u001b[38;5;241;43m.\u001b[39;49m\u001b[43mget_config_dict\u001b[49m\u001b[43m(\u001b[49m\u001b[43mpretrained_model_name_or_path\u001b[49m\u001b[43m,\u001b[49m\u001b[43m \u001b[49m\u001b[38;5;241;43m*\u001b[39;49m\u001b[38;5;241;43m*\u001b[39;49m\u001b[43mkwargs\u001b[49m\u001b[43m)\u001b[49m\n\u001b[1;32m    966\u001b[0m has_remote_code \u001b[38;5;241m=\u001b[39m \u001b[38;5;124m\"\u001b[39m\u001b[38;5;124mauto_map\u001b[39m\u001b[38;5;124m\"\u001b[39m \u001b[38;5;129;01min\u001b[39;00m config_dict \u001b[38;5;129;01mand\u001b[39;00m \u001b[38;5;124m\"\u001b[39m\u001b[38;5;124mAutoConfig\u001b[39m\u001b[38;5;124m\"\u001b[39m \u001b[38;5;129;01min\u001b[39;00m config_dict[\u001b[38;5;124m\"\u001b[39m\u001b[38;5;124mauto_map\u001b[39m\u001b[38;5;124m\"\u001b[39m]\n\u001b[1;32m    967\u001b[0m has_local_code \u001b[38;5;241m=\u001b[39m \u001b[38;5;124m\"\u001b[39m\u001b[38;5;124mmodel_type\u001b[39m\u001b[38;5;124m\"\u001b[39m \u001b[38;5;129;01min\u001b[39;00m config_dict \u001b[38;5;129;01mand\u001b[39;00m config_dict[\u001b[38;5;124m\"\u001b[39m\u001b[38;5;124mmodel_type\u001b[39m\u001b[38;5;124m\"\u001b[39m] \u001b[38;5;129;01min\u001b[39;00m CONFIG_MAPPING\n",
      "File \u001b[0;32m~/nlp/lib64/python3.9/site-packages/transformers/configuration_utils.py:632\u001b[0m, in \u001b[0;36mPretrainedConfig.get_config_dict\u001b[0;34m(cls, pretrained_model_name_or_path, **kwargs)\u001b[0m\n\u001b[1;32m    630\u001b[0m original_kwargs \u001b[38;5;241m=\u001b[39m copy\u001b[38;5;241m.\u001b[39mdeepcopy(kwargs)\n\u001b[1;32m    631\u001b[0m \u001b[38;5;66;03m# Get config dict associated with the base config file\u001b[39;00m\n\u001b[0;32m--> 632\u001b[0m config_dict, kwargs \u001b[38;5;241m=\u001b[39m \u001b[38;5;28;43mcls\u001b[39;49m\u001b[38;5;241;43m.\u001b[39;49m\u001b[43m_get_config_dict\u001b[49m\u001b[43m(\u001b[49m\u001b[43mpretrained_model_name_or_path\u001b[49m\u001b[43m,\u001b[49m\u001b[43m \u001b[49m\u001b[38;5;241;43m*\u001b[39;49m\u001b[38;5;241;43m*\u001b[39;49m\u001b[43mkwargs\u001b[49m\u001b[43m)\u001b[49m\n\u001b[1;32m    633\u001b[0m \u001b[38;5;28;01mif\u001b[39;00m \u001b[38;5;124m\"\u001b[39m\u001b[38;5;124m_commit_hash\u001b[39m\u001b[38;5;124m\"\u001b[39m \u001b[38;5;129;01min\u001b[39;00m config_dict:\n\u001b[1;32m    634\u001b[0m     original_kwargs[\u001b[38;5;124m\"\u001b[39m\u001b[38;5;124m_commit_hash\u001b[39m\u001b[38;5;124m\"\u001b[39m] \u001b[38;5;241m=\u001b[39m config_dict[\u001b[38;5;124m\"\u001b[39m\u001b[38;5;124m_commit_hash\u001b[39m\u001b[38;5;124m\"\u001b[39m]\n",
      "File \u001b[0;32m~/nlp/lib64/python3.9/site-packages/transformers/configuration_utils.py:689\u001b[0m, in \u001b[0;36mPretrainedConfig._get_config_dict\u001b[0;34m(cls, pretrained_model_name_or_path, **kwargs)\u001b[0m\n\u001b[1;32m    685\u001b[0m configuration_file \u001b[38;5;241m=\u001b[39m kwargs\u001b[38;5;241m.\u001b[39mpop(\u001b[38;5;124m\"\u001b[39m\u001b[38;5;124m_configuration_file\u001b[39m\u001b[38;5;124m\"\u001b[39m, CONFIG_NAME) \u001b[38;5;28;01mif\u001b[39;00m gguf_file \u001b[38;5;129;01mis\u001b[39;00m \u001b[38;5;28;01mNone\u001b[39;00m \u001b[38;5;28;01melse\u001b[39;00m gguf_file\n\u001b[1;32m    687\u001b[0m \u001b[38;5;28;01mtry\u001b[39;00m:\n\u001b[1;32m    688\u001b[0m     \u001b[38;5;66;03m# Load from local folder or from cache or download from model Hub and cache\u001b[39;00m\n\u001b[0;32m--> 689\u001b[0m     resolved_config_file \u001b[38;5;241m=\u001b[39m \u001b[43mcached_file\u001b[49m\u001b[43m(\u001b[49m\n\u001b[1;32m    690\u001b[0m \u001b[43m        \u001b[49m\u001b[43mpretrained_model_name_or_path\u001b[49m\u001b[43m,\u001b[49m\n\u001b[1;32m    691\u001b[0m \u001b[43m        \u001b[49m\u001b[43mconfiguration_file\u001b[49m\u001b[43m,\u001b[49m\n\u001b[1;32m    692\u001b[0m \u001b[43m        \u001b[49m\u001b[43mcache_dir\u001b[49m\u001b[38;5;241;43m=\u001b[39;49m\u001b[43mcache_dir\u001b[49m\u001b[43m,\u001b[49m\n\u001b[1;32m    693\u001b[0m \u001b[43m        \u001b[49m\u001b[43mforce_download\u001b[49m\u001b[38;5;241;43m=\u001b[39;49m\u001b[43mforce_download\u001b[49m\u001b[43m,\u001b[49m\n\u001b[1;32m    694\u001b[0m \u001b[43m        \u001b[49m\u001b[43mproxies\u001b[49m\u001b[38;5;241;43m=\u001b[39;49m\u001b[43mproxies\u001b[49m\u001b[43m,\u001b[49m\n\u001b[1;32m    695\u001b[0m \u001b[43m        \u001b[49m\u001b[43mresume_download\u001b[49m\u001b[38;5;241;43m=\u001b[39;49m\u001b[43mresume_download\u001b[49m\u001b[43m,\u001b[49m\n\u001b[1;32m    696\u001b[0m \u001b[43m        \u001b[49m\u001b[43mlocal_files_only\u001b[49m\u001b[38;5;241;43m=\u001b[39;49m\u001b[43mlocal_files_only\u001b[49m\u001b[43m,\u001b[49m\n\u001b[1;32m    697\u001b[0m \u001b[43m        \u001b[49m\u001b[43mtoken\u001b[49m\u001b[38;5;241;43m=\u001b[39;49m\u001b[43mtoken\u001b[49m\u001b[43m,\u001b[49m\n\u001b[1;32m    698\u001b[0m \u001b[43m        \u001b[49m\u001b[43muser_agent\u001b[49m\u001b[38;5;241;43m=\u001b[39;49m\u001b[43muser_agent\u001b[49m\u001b[43m,\u001b[49m\n\u001b[1;32m    699\u001b[0m \u001b[43m        \u001b[49m\u001b[43mrevision\u001b[49m\u001b[38;5;241;43m=\u001b[39;49m\u001b[43mrevision\u001b[49m\u001b[43m,\u001b[49m\n\u001b[1;32m    700\u001b[0m \u001b[43m        \u001b[49m\u001b[43msubfolder\u001b[49m\u001b[38;5;241;43m=\u001b[39;49m\u001b[43msubfolder\u001b[49m\u001b[43m,\u001b[49m\n\u001b[1;32m    701\u001b[0m \u001b[43m        \u001b[49m\u001b[43m_commit_hash\u001b[49m\u001b[38;5;241;43m=\u001b[39;49m\u001b[43mcommit_hash\u001b[49m\u001b[43m,\u001b[49m\n\u001b[1;32m    702\u001b[0m \u001b[43m    \u001b[49m\u001b[43m)\u001b[49m\n\u001b[1;32m    703\u001b[0m     commit_hash \u001b[38;5;241m=\u001b[39m extract_commit_hash(resolved_config_file, commit_hash)\n\u001b[1;32m    704\u001b[0m \u001b[38;5;28;01mexcept\u001b[39;00m \u001b[38;5;167;01mEnvironmentError\u001b[39;00m:\n\u001b[1;32m    705\u001b[0m     \u001b[38;5;66;03m# Raise any environment error raise by `cached_file`. It will have a helpful error message adapted to\u001b[39;00m\n\u001b[1;32m    706\u001b[0m     \u001b[38;5;66;03m# the original exception.\u001b[39;00m\n",
      "File \u001b[0;32m~/nlp/lib64/python3.9/site-packages/transformers/utils/hub.py:420\u001b[0m, in \u001b[0;36mcached_file\u001b[0;34m(path_or_repo_id, filename, cache_dir, force_download, resume_download, proxies, token, revision, local_files_only, subfolder, repo_type, user_agent, _raise_exceptions_for_gated_repo, _raise_exceptions_for_missing_entries, _raise_exceptions_for_connection_errors, _commit_hash, **deprecated_kwargs)\u001b[0m\n\u001b[1;32m    418\u001b[0m     \u001b[38;5;28;01mif\u001b[39;00m resolved_file \u001b[38;5;129;01mis\u001b[39;00m \u001b[38;5;129;01mnot\u001b[39;00m \u001b[38;5;28;01mNone\u001b[39;00m \u001b[38;5;129;01mor\u001b[39;00m \u001b[38;5;129;01mnot\u001b[39;00m _raise_exceptions_for_gated_repo:\n\u001b[1;32m    419\u001b[0m         \u001b[38;5;28;01mreturn\u001b[39;00m resolved_file\n\u001b[0;32m--> 420\u001b[0m     \u001b[38;5;28;01mraise\u001b[39;00m \u001b[38;5;167;01mEnvironmentError\u001b[39;00m(\n\u001b[1;32m    421\u001b[0m         \u001b[38;5;124m\"\u001b[39m\u001b[38;5;124mYou are trying to access a gated repo.\u001b[39m\u001b[38;5;130;01m\\n\u001b[39;00m\u001b[38;5;124mMake sure to have access to it at \u001b[39m\u001b[38;5;124m\"\u001b[39m\n\u001b[1;32m    422\u001b[0m         \u001b[38;5;124mf\u001b[39m\u001b[38;5;124m\"\u001b[39m\u001b[38;5;124mhttps://huggingface.co/\u001b[39m\u001b[38;5;132;01m{\u001b[39;00mpath_or_repo_id\u001b[38;5;132;01m}\u001b[39;00m\u001b[38;5;124m.\u001b[39m\u001b[38;5;130;01m\\n\u001b[39;00m\u001b[38;5;132;01m{\u001b[39;00m\u001b[38;5;28mstr\u001b[39m(e)\u001b[38;5;132;01m}\u001b[39;00m\u001b[38;5;124m\"\u001b[39m\n\u001b[1;32m    423\u001b[0m     ) \u001b[38;5;28;01mfrom\u001b[39;00m \u001b[38;5;21;01me\u001b[39;00m\n\u001b[1;32m    424\u001b[0m \u001b[38;5;28;01mexcept\u001b[39;00m RepositoryNotFoundError \u001b[38;5;28;01mas\u001b[39;00m e:\n\u001b[1;32m    425\u001b[0m     \u001b[38;5;28;01mraise\u001b[39;00m \u001b[38;5;167;01mEnvironmentError\u001b[39;00m(\n\u001b[1;32m    426\u001b[0m         \u001b[38;5;124mf\u001b[39m\u001b[38;5;124m\"\u001b[39m\u001b[38;5;132;01m{\u001b[39;00mpath_or_repo_id\u001b[38;5;132;01m}\u001b[39;00m\u001b[38;5;124m is not a local folder and is not a valid model identifier \u001b[39m\u001b[38;5;124m\"\u001b[39m\n\u001b[1;32m    427\u001b[0m         \u001b[38;5;124m\"\u001b[39m\u001b[38;5;124mlisted on \u001b[39m\u001b[38;5;124m'\u001b[39m\u001b[38;5;124mhttps://huggingface.co/models\u001b[39m\u001b[38;5;124m'\u001b[39m\u001b[38;5;130;01m\\n\u001b[39;00m\u001b[38;5;124mIf this is a private repository, make sure to pass a token \u001b[39m\u001b[38;5;124m\"\u001b[39m\n\u001b[1;32m    428\u001b[0m         \u001b[38;5;124m\"\u001b[39m\u001b[38;5;124mhaving permission to this repo either by logging in with `huggingface-cli login` or by passing \u001b[39m\u001b[38;5;124m\"\u001b[39m\n\u001b[1;32m    429\u001b[0m         \u001b[38;5;124m\"\u001b[39m\u001b[38;5;124m`token=<your_token>`\u001b[39m\u001b[38;5;124m\"\u001b[39m\n\u001b[1;32m    430\u001b[0m     ) \u001b[38;5;28;01mfrom\u001b[39;00m \u001b[38;5;21;01me\u001b[39;00m\n",
      "\u001b[0;31mOSError\u001b[0m: You are trying to access a gated repo.\nMake sure to have access to it at https://huggingface.co/meta-llama/Meta-Llama-3-8B-Instruct.\n401 Client Error. (Request ID: Root=1-669f4b46-6dd7c18439b4cbdc443f9c16;dac52d38-dcbd-492f-96ac-fc3ecfd83c5f)\n\nCannot access gated repo for url https://huggingface.co/meta-llama/Meta-Llama-3-8B-Instruct/resolve/main/config.json.\nAccess to model meta-llama/Meta-Llama-3-8B-Instruct is restricted. You must be authenticated to access it."
     ]
    }
   ],
   "source": [
    "# load model\n",
    "from transformers import AutoTokenizer, AutoModelForCausalLM\n",
    "\n",
    "tokenizer = AutoTokenizer.from_pretrained(\"meta-llama/Meta-Llama-3-8B-Instruct\")\n",
    "model = AutoModelForCausalLM.from_pretrained(\"meta-llama/Meta-Llama-3-8B-Instruct\")"
   ]
  }
 ],
 "metadata": {
  "kernelspec": {
   "display_name": "Python 3 (ipykernel)",
   "language": "python",
   "name": "python3"
  },
  "language_info": {
   "codemirror_mode": {
    "name": "ipython",
    "version": 3
   },
   "file_extension": ".py",
   "mimetype": "text/x-python",
   "name": "python",
   "nbconvert_exporter": "python",
   "pygments_lexer": "ipython3",
   "version": "3.9.18"
  }
 },
 "nbformat": 4,
 "nbformat_minor": 5
}
