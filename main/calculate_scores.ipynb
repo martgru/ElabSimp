{
 "cells": [
  {
   "cell_type": "markdown",
   "id": "4a2be0bc-d97f-4c46-9a67-919c1c7c936b",
   "metadata": {},
   "source": [
    "# Load the data"
   ]
  },
  {
   "cell_type": "code",
   "execution_count": 1,
   "id": "2b2e70ca-6f23-4931-9222-5bf9440f5de9",
   "metadata": {},
   "outputs": [],
   "source": [
    "import pandas as pd\n",
    "\n",
    "gen_pred_orig = pd.read_csv(\"../data/gen_predictions/predictions_bart-large-swipe_asset-test.csv\", index_col = 0)\n",
    "gen_pred_ft = pd.read_csv(\"../data/gen_predictions/predictions_bart-large-swipe-adamw-paged8bit_asset-test.csv\")"
   ]
  },
  {
   "cell_type": "code",
   "execution_count": 12,
   "id": "abfbd7e1-d52e-4ff9-bb9d-c3c31bd95a6c",
   "metadata": {},
   "outputs": [
    {
     "data": {
      "text/html": [
       "<div>\n",
       "<style scoped>\n",
       "    .dataframe tbody tr th:only-of-type {\n",
       "        vertical-align: middle;\n",
       "    }\n",
       "\n",
       "    .dataframe tbody tr th {\n",
       "        vertical-align: top;\n",
       "    }\n",
       "\n",
       "    .dataframe thead th {\n",
       "        text-align: right;\n",
       "    }\n",
       "</style>\n",
       "<table border=\"1\" class=\"dataframe\">\n",
       "  <thead>\n",
       "    <tr style=\"text-align: right;\">\n",
       "      <th></th>\n",
       "      <th>text</th>\n",
       "      <th>prediction</th>\n",
       "    </tr>\n",
       "  </thead>\n",
       "  <tbody>\n",
       "    <tr>\n",
       "      <th>0</th>\n",
       "      <td>One side of the armed conflicts is composed ma...</td>\n",
       "      <td>One side of the armed conflicts is composed ma...</td>\n",
       "    </tr>\n",
       "    <tr>\n",
       "      <th>1</th>\n",
       "      <td>Jeddah is the principal gateway to Mecca, Isla...</td>\n",
       "      <td>Jeddah is the main gateway to Mecca, Islam's h...</td>\n",
       "    </tr>\n",
       "    <tr>\n",
       "      <th>2</th>\n",
       "      <td>The Great Dark Spot is thought to represent a ...</td>\n",
       "      <td>The Great Dark Spot is thought to represent a ...</td>\n",
       "    </tr>\n",
       "    <tr>\n",
       "      <th>3</th>\n",
       "      <td>His next work, Saturday, follows an especially...</td>\n",
       "      <td>His next work, Saturday, follows an especially...</td>\n",
       "    </tr>\n",
       "    <tr>\n",
       "      <th>4</th>\n",
       "      <td>The tarantula, the trickster character, spun a...</td>\n",
       "      <td>The tarantula, the trickster character, spun a...</td>\n",
       "    </tr>\n",
       "  </tbody>\n",
       "</table>\n",
       "</div>"
      ],
      "text/plain": [
       "                                                text  \\\n",
       "0  One side of the armed conflicts is composed ma...   \n",
       "1  Jeddah is the principal gateway to Mecca, Isla...   \n",
       "2  The Great Dark Spot is thought to represent a ...   \n",
       "3  His next work, Saturday, follows an especially...   \n",
       "4  The tarantula, the trickster character, spun a...   \n",
       "\n",
       "                                          prediction  \n",
       "0  One side of the armed conflicts is composed ma...  \n",
       "1  Jeddah is the main gateway to Mecca, Islam's h...  \n",
       "2  The Great Dark Spot is thought to represent a ...  \n",
       "3  His next work, Saturday, follows an especially...  \n",
       "4  The tarantula, the trickster character, spun a...  "
      ]
     },
     "execution_count": 12,
     "metadata": {},
     "output_type": "execute_result"
    }
   ],
   "source": [
    "gen_pred_ft.head()"
   ]
  },
  {
   "cell_type": "markdown",
   "id": "cb11724e-fb2e-46ae-8975-b7d0d6010d34",
   "metadata": {},
   "source": [
    "# Load datasets"
   ]
  },
  {
   "cell_type": "code",
   "execution_count": 2,
   "id": "439234a1-51ef-4105-8be3-defc589f27f3",
   "metadata": {},
   "outputs": [
    {
     "data": {
      "text/plain": [
       "DatasetDict({\n",
       "    validation: Dataset({\n",
       "        features: ['original', 'simplifications'],\n",
       "        num_rows: 2000\n",
       "    })\n",
       "    test: Dataset({\n",
       "        features: ['original', 'simplifications'],\n",
       "        num_rows: 359\n",
       "    })\n",
       "})"
      ]
     },
     "execution_count": 2,
     "metadata": {},
     "output_type": "execute_result"
    }
   ],
   "source": [
    "from datasets import load_dataset\n",
    "\n",
    "asset_dataset = load_dataset(\"facebook/asset\", \"simplification\")\n",
    "asset_dataset"
   ]
  },
  {
   "cell_type": "code",
   "execution_count": 10,
   "id": "ffb08943-8018-4304-8462-ce8067871c3e",
   "metadata": {},
   "outputs": [],
   "source": [
    "df_gen = gen_pred_ft\n",
    "dataset = asset_dataset"
   ]
  },
  {
   "cell_type": "markdown",
   "id": "10110f52-275c-410d-9a66-5b1eff822fd9",
   "metadata": {
    "jp-MarkdownHeadingCollapsed": true
   },
   "source": [
    "# SARI - Hugging Face"
   ]
  },
  {
   "cell_type": "code",
   "execution_count": 35,
   "id": "bf6017c1-5cc3-4970-9b74-959d1f8884c1",
   "metadata": {},
   "outputs": [
    {
     "data": {
      "application/vnd.jupyter.widget-view+json": {
       "model_id": "67d7b27ee24e4e3785eb09aae20a09ff",
       "version_major": 2,
       "version_minor": 0
      },
      "text/plain": [
       "  0%|          | 0/359 [00:00<?, ?it/s]"
      ]
     },
     "metadata": {},
     "output_type": "display_data"
    }
   ],
   "source": [
    "from evaluate import load\n",
    "from tqdm.notebook import tqdm\n",
    "import pandas as pd\n",
    "\n",
    "sari_metric = load(\"sari\")\n",
    "sari_scores = []\n",
    "\n",
    "for index, row in tqdm(df_gen.iterrows(), total=len(df_gen)):\n",
    "    r_content = row['text'] \n",
    "    s_content = dataset['test'][index] \n",
    "    prediction = row['prediction']  \n",
    "    \n",
    "    sari_score = sari_metric.compute(\n",
    "        sources=[r_content],\n",
    "        predictions=[prediction],\n",
    "        references=[s_content['simplifications']]\n",
    "    )\n",
    "    \n",
    "    sari_scores.append(sari_score['sari'])"
   ]
  },
  {
   "cell_type": "markdown",
   "id": "0344dde9-0b12-448a-880c-9e82df722695",
   "metadata": {},
   "source": [
    "# SARI - EASSE package"
   ]
  },
  {
   "cell_type": "code",
   "execution_count": 36,
   "id": "21c93079-9b0a-45f4-8446-d83fad341431",
   "metadata": {},
   "outputs": [
    {
     "data": {
      "application/vnd.jupyter.widget-view+json": {
       "model_id": "cc8ec56c64184f5eb3428578c8ed205b",
       "version_major": 2,
       "version_minor": 0
      },
      "text/plain": [
       "  0%|          | 0/359 [00:00<?, ?it/s]"
      ]
     },
     "metadata": {},
     "output_type": "display_data"
    }
   ],
   "source": [
    "from easse.sari import corpus_sari\n",
    "\n",
    "\n",
    "sari_scores_easse = []\n",
    "\n",
    "for index, row in tqdm(df_gen.iterrows(), total=len(df_gen)):\n",
    "    r_content = row['text'] \n",
    "    s_content = dataset['test'][index]  \n",
    "    prediction = row['prediction']  \n",
    "    \n",
    "    sari_score_easse = corpus_sari(\n",
    "        orig_sents=[r_content],\n",
    "        sys_sents=[prediction],\n",
    "        refs_sents=[[simp] for simp in s_content['simplifications']]\n",
    "    )\n",
    "    \n",
    "    sari_scores_easse.append(sari_score_easse)"
   ]
  },
  {
   "cell_type": "markdown",
   "id": "0a48b68e-8dad-4ca5-a0f4-3059c107d5c9",
   "metadata": {},
   "source": [
    "# Operation scores (add, keep, delete)"
   ]
  },
  {
   "cell_type": "code",
   "execution_count": 11,
   "id": "ebda0d28-3b07-4479-810f-4f321c9ed5ea",
   "metadata": {},
   "outputs": [
    {
     "data": {
      "application/vnd.jupyter.widget-view+json": {
       "model_id": "dbea4f51d6b24315adf986cc528f5760",
       "version_major": 2,
       "version_minor": 0
      },
      "text/plain": [
       "  0%|          | 0/359 [00:00<?, ?it/s]"
      ]
     },
     "metadata": {},
     "output_type": "display_data"
    }
   ],
   "source": [
    "from easse.sari import get_corpus_sari_operation_scores\n",
    "from tqdm.notebook import tqdm\n",
    "\n",
    "add_scores = []\n",
    "keep_scores = []\n",
    "del_scores = []\n",
    "\n",
    "for index, row in tqdm(df_gen.iterrows(), total=len(df_gen)):\n",
    "    r_content = row['text'] \n",
    "    s_content = dataset['test'][index]  \n",
    "    prediction = row['prediction']  \n",
    "    \n",
    "    add_score, keep_score, del_score = get_corpus_sari_operation_scores(\n",
    "        orig_sents=[r_content],\n",
    "        sys_sents=[prediction],\n",
    "        refs_sents=[[simp] for simp in s_content['simplifications']] \n",
    "    )\n",
    "    \n",
    "    add_scores.append(add_score)\n",
    "    keep_scores.append(keep_score)\n",
    "    del_scores.append(del_score)"
   ]
  },
  {
   "cell_type": "code",
   "execution_count": 12,
   "id": "0f81041c-506c-49b2-9360-68bd6df2564c",
   "metadata": {},
   "outputs": [
    {
     "data": {
      "text/html": [
       "<div>\n",
       "<style scoped>\n",
       "    .dataframe tbody tr th:only-of-type {\n",
       "        vertical-align: middle;\n",
       "    }\n",
       "\n",
       "    .dataframe tbody tr th {\n",
       "        vertical-align: top;\n",
       "    }\n",
       "\n",
       "    .dataframe thead th {\n",
       "        text-align: right;\n",
       "    }\n",
       "</style>\n",
       "<table border=\"1\" class=\"dataframe\">\n",
       "  <thead>\n",
       "    <tr style=\"text-align: right;\">\n",
       "      <th></th>\n",
       "      <th>text</th>\n",
       "      <th>prediction</th>\n",
       "      <th>add_score</th>\n",
       "      <th>keep_score</th>\n",
       "      <th>del_score</th>\n",
       "    </tr>\n",
       "  </thead>\n",
       "  <tbody>\n",
       "    <tr>\n",
       "      <th>0</th>\n",
       "      <td>One side of the armed conflicts is composed ma...</td>\n",
       "      <td>One side of the armed conflicts is composed ma...</td>\n",
       "      <td>0.000000</td>\n",
       "      <td>72.681475</td>\n",
       "      <td>0.000000</td>\n",
       "    </tr>\n",
       "    <tr>\n",
       "      <th>1</th>\n",
       "      <td>Jeddah is the principal gateway to Mecca, Isla...</td>\n",
       "      <td>Jeddah is the main gateway to Mecca, Islam's h...</td>\n",
       "      <td>7.865117</td>\n",
       "      <td>69.458989</td>\n",
       "      <td>29.622357</td>\n",
       "    </tr>\n",
       "    <tr>\n",
       "      <th>2</th>\n",
       "      <td>The Great Dark Spot is thought to represent a ...</td>\n",
       "      <td>The Great Dark Spot is thought to represent a ...</td>\n",
       "      <td>2.592593</td>\n",
       "      <td>73.386130</td>\n",
       "      <td>0.000000</td>\n",
       "    </tr>\n",
       "    <tr>\n",
       "      <th>3</th>\n",
       "      <td>His next work, Saturday, follows an especially...</td>\n",
       "      <td>His next work, Saturday, follows an especially...</td>\n",
       "      <td>6.785244</td>\n",
       "      <td>63.505912</td>\n",
       "      <td>0.000000</td>\n",
       "    </tr>\n",
       "    <tr>\n",
       "      <th>4</th>\n",
       "      <td>The tarantula, the trickster character, spun a...</td>\n",
       "      <td>The tarantula, the trickster character, spun a...</td>\n",
       "      <td>0.000000</td>\n",
       "      <td>60.897024</td>\n",
       "      <td>0.000000</td>\n",
       "    </tr>\n",
       "  </tbody>\n",
       "</table>\n",
       "</div>"
      ],
      "text/plain": [
       "                                                text  \\\n",
       "0  One side of the armed conflicts is composed ma...   \n",
       "1  Jeddah is the principal gateway to Mecca, Isla...   \n",
       "2  The Great Dark Spot is thought to represent a ...   \n",
       "3  His next work, Saturday, follows an especially...   \n",
       "4  The tarantula, the trickster character, spun a...   \n",
       "\n",
       "                                          prediction  add_score  keep_score  \\\n",
       "0  One side of the armed conflicts is composed ma...   0.000000   72.681475   \n",
       "1  Jeddah is the main gateway to Mecca, Islam's h...   7.865117   69.458989   \n",
       "2  The Great Dark Spot is thought to represent a ...   2.592593   73.386130   \n",
       "3  His next work, Saturday, follows an especially...   6.785244   63.505912   \n",
       "4  The tarantula, the trickster character, spun a...   0.000000   60.897024   \n",
       "\n",
       "   del_score  \n",
       "0   0.000000  \n",
       "1  29.622357  \n",
       "2   0.000000  \n",
       "3   0.000000  \n",
       "4   0.000000  "
      ]
     },
     "execution_count": 12,
     "metadata": {},
     "output_type": "execute_result"
    }
   ],
   "source": [
    "df_results_op = pd.DataFrame({\n",
    "    'text': df_gen['text'],\n",
    "    'prediction': df_gen['prediction'],\n",
    "    'add_score': add_scores,\n",
    "    'keep_score': keep_scores,\n",
    "    'del_score': del_scores\n",
    "})\n",
    "\n",
    "df_results_op.head()"
   ]
  },
  {
   "cell_type": "code",
   "execution_count": 13,
   "id": "c1d88f3a-3a77-4e4a-b14f-be260ed37007",
   "metadata": {},
   "outputs": [],
   "source": [
    "df_results_op.to_csv(\"../data/operation_scores/op_scores_bart-large-swipe-adamw-paged8bit_asset-test.csv\", index=False)"
   ]
  },
  {
   "cell_type": "markdown",
   "id": "c32495be-9d05-4b18-90b8-5395a57452d6",
   "metadata": {},
   "source": [
    "# Save results"
   ]
  },
  {
   "cell_type": "code",
   "execution_count": 37,
   "id": "3fe09475-aa7f-4cd2-9ebb-c9f6ca45c2f8",
   "metadata": {},
   "outputs": [
    {
     "data": {
      "text/html": [
       "<div>\n",
       "<style scoped>\n",
       "    .dataframe tbody tr th:only-of-type {\n",
       "        vertical-align: middle;\n",
       "    }\n",
       "\n",
       "    .dataframe tbody tr th {\n",
       "        vertical-align: top;\n",
       "    }\n",
       "\n",
       "    .dataframe thead th {\n",
       "        text-align: right;\n",
       "    }\n",
       "</style>\n",
       "<table border=\"1\" class=\"dataframe\">\n",
       "  <thead>\n",
       "    <tr style=\"text-align: right;\">\n",
       "      <th></th>\n",
       "      <th>text</th>\n",
       "      <th>prediction</th>\n",
       "      <th>sari_score</th>\n",
       "      <th>sari_score_easse</th>\n",
       "    </tr>\n",
       "  </thead>\n",
       "  <tbody>\n",
       "    <tr>\n",
       "      <th>0</th>\n",
       "      <td>One side of the armed conflicts is composed ma...</td>\n",
       "      <td>One side of the armed conflicts is composed ma...</td>\n",
       "      <td>57.401034</td>\n",
       "      <td>24.227158</td>\n",
       "    </tr>\n",
       "    <tr>\n",
       "      <th>1</th>\n",
       "      <td>Jeddah is the principal gateway to Mecca, Isla...</td>\n",
       "      <td>Jeddah is the main gateway to Mecca, Islam's h...</td>\n",
       "      <td>55.791904</td>\n",
       "      <td>35.648821</td>\n",
       "    </tr>\n",
       "    <tr>\n",
       "      <th>2</th>\n",
       "      <td>The Great Dark Spot is thought to represent a ...</td>\n",
       "      <td>The Great Dark Spot is thought to represent a ...</td>\n",
       "      <td>58.631393</td>\n",
       "      <td>25.326241</td>\n",
       "    </tr>\n",
       "    <tr>\n",
       "      <th>3</th>\n",
       "      <td>His next work, Saturday, follows an especially...</td>\n",
       "      <td>His next work, Saturday, follows an especially...</td>\n",
       "      <td>56.834567</td>\n",
       "      <td>23.430385</td>\n",
       "    </tr>\n",
       "    <tr>\n",
       "      <th>4</th>\n",
       "      <td>The tarantula, the trickster character, spun a...</td>\n",
       "      <td>The tarantula, the trickster character, spun a...</td>\n",
       "      <td>53.979754</td>\n",
       "      <td>20.299008</td>\n",
       "    </tr>\n",
       "  </tbody>\n",
       "</table>\n",
       "</div>"
      ],
      "text/plain": [
       "                                                text  \\\n",
       "0  One side of the armed conflicts is composed ma...   \n",
       "1  Jeddah is the principal gateway to Mecca, Isla...   \n",
       "2  The Great Dark Spot is thought to represent a ...   \n",
       "3  His next work, Saturday, follows an especially...   \n",
       "4  The tarantula, the trickster character, spun a...   \n",
       "\n",
       "                                          prediction  sari_score  \\\n",
       "0  One side of the armed conflicts is composed ma...   57.401034   \n",
       "1  Jeddah is the main gateway to Mecca, Islam's h...   55.791904   \n",
       "2  The Great Dark Spot is thought to represent a ...   58.631393   \n",
       "3  His next work, Saturday, follows an especially...   56.834567   \n",
       "4  The tarantula, the trickster character, spun a...   53.979754   \n",
       "\n",
       "   sari_score_easse  \n",
       "0         24.227158  \n",
       "1         35.648821  \n",
       "2         25.326241  \n",
       "3         23.430385  \n",
       "4         20.299008  "
      ]
     },
     "execution_count": 37,
     "metadata": {},
     "output_type": "execute_result"
    }
   ],
   "source": [
    "df_results = pd.DataFrame({\n",
    "    'text': df_gen['text'],\n",
    "    'prediction': df_gen['prediction'],\n",
    "    'sari_score': sari_scores,\n",
    "    'sari_score_easse': sari_scores_easse\n",
    "})\n",
    "\n",
    "df_results.head()"
   ]
  },
  {
   "cell_type": "code",
   "execution_count": 38,
   "id": "f15d3e35-6f21-4db0-963a-2fd1de85b107",
   "metadata": {},
   "outputs": [],
   "source": [
    "df_results.to_csv(\"../data/sari_scores/sari_scores_bart-large-swipe-adamw-paged8bit_asset-test.csv\", index=False)"
   ]
  }
 ],
 "metadata": {
  "kernelspec": {
   "display_name": "Python 3 (ipykernel)",
   "language": "python",
   "name": "python3"
  },
  "language_info": {
   "codemirror_mode": {
    "name": "ipython",
    "version": 3
   },
   "file_extension": ".py",
   "mimetype": "text/x-python",
   "name": "python",
   "nbconvert_exporter": "python",
   "pygments_lexer": "ipython3",
   "version": "3.9.18"
  }
 },
 "nbformat": 4,
 "nbformat_minor": 5
}
