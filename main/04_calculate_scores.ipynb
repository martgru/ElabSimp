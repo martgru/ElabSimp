{
 "cells": [
  {
   "cell_type": "markdown",
   "id": "4a2be0bc-d97f-4c46-9a67-919c1c7c936b",
   "metadata": {},
   "source": [
    "# Load the data"
   ]
  },
  {
   "cell_type": "code",
   "execution_count": 7,
   "id": "2b2e70ca-6f23-4931-9222-5bf9440f5de9",
   "metadata": {},
   "outputs": [],
   "source": [
    "models = [\"llama-ft\",\"bart-ft\",\"llama-instruct-few-shot\"]\n",
    "\n",
    "setting_ds_dict = {\n",
    "    \"base\": [\"c2s\",\"c2sp\",\"c4s\",\"c4sp\",\"cs\",\"c2spo\",\"c4spo\"],\n",
    "    \"masked\": [\"c2s\",\"c2sp\",\"c4s\",\"c4sp\"],\n",
    "    \"subject\":[\"c2s\",\"c2sp\",\"c4s\",\"c4sp\"],\n",
    "    \"target-phrase\":[\"c2s\",\"c2sp\",\"c4s\",\"c4sp\"],\n",
    "    \"target-sent\":[\"c2s\",\"c2sp\",\"c4s\",\"c4sp\"],\n",
    "    \"target-sent-target\":[\"c2s\",\"c2sp\",\"c4s\",\"c4sp\",\"cs\"],\n",
    "    \"target-sent-subject\":[\"c2s\",\"c2sp\",\"c4s\",\"c4sp\",\"cs\"],\n",
    "}\n",
    "\n",
    "# for complex source texts\n",
    "setting_ds_dict = {\n",
    "    \"base\": [\"cso\",\"c2spo\",\"c4spo\"],\n",
    "    \"subject\":[\"c2spo\",\"c4spo\"],\n",
    "    \"target-phrase\":[\"c2spo\",\"c4spo\"],\n",
    "    \"target-sent\":[\"c2spo\",\"c4spo\"],\n",
    "    \"target-sent-target\":[\"cso\",\"c2spo\",\"c4spo\"],\n",
    "    \"target-sent-subject\":[\"cso\",\"c2spo\",\"c4spo\"],\n",
    "}"
   ]
  },
  {
   "cell_type": "markdown",
   "id": "c1bc34bc-1708-4887-9218-72243a75d666",
   "metadata": {},
   "source": [
    "# Load results df"
   ]
  },
  {
   "cell_type": "code",
   "execution_count": 2,
   "id": "c46aecf4-8edb-4071-8644-2f0d40b7b33f",
   "metadata": {},
   "outputs": [],
   "source": [
    "import pandas as pd\n",
    "bart_ft_res = pd.read_csv(\"../data/results/bart-ft-results.csv\")\n",
    "llama_ft_res = pd.read_csv(\"../data/results/llama-ft-results.csv\")\n",
    "llama_instr_res = pd.read_csv(\"../data/results/llama-instruct-few-shot-results.csv\")"
   ]
  },
  {
   "cell_type": "markdown",
   "id": "cb11724e-fb2e-46ae-8975-b7d0d6010d34",
   "metadata": {},
   "source": [
    "# Initialize columns in results dfs"
   ]
  },
  {
   "cell_type": "markdown",
   "id": "f7cfebfd-0147-41f5-b5bf-fcbe304930cd",
   "metadata": {
    "jp-MarkdownHeadingCollapsed": true
   },
   "source": [
    "## BERTScore"
   ]
  },
  {
   "cell_type": "code",
   "execution_count": 129,
   "id": "439234a1-51ef-4105-8be3-defc589f27f3",
   "metadata": {},
   "outputs": [
    {
     "data": {
      "text/html": [
       "<div>\n",
       "<style scoped>\n",
       "    .dataframe tbody tr th:only-of-type {\n",
       "        vertical-align: middle;\n",
       "    }\n",
       "\n",
       "    .dataframe tbody tr th {\n",
       "        vertical-align: top;\n",
       "    }\n",
       "\n",
       "    .dataframe thead th {\n",
       "        text-align: right;\n",
       "    }\n",
       "</style>\n",
       "<table border=\"1\" class=\"dataframe\">\n",
       "  <thead>\n",
       "    <tr style=\"text-align: right;\">\n",
       "      <th></th>\n",
       "      <th>dataset</th>\n",
       "      <th>base-b1</th>\n",
       "      <th>base-b2</th>\n",
       "      <th>masked-b1</th>\n",
       "      <th>masked-b2</th>\n",
       "      <th>subject-b1</th>\n",
       "      <th>subject-b2</th>\n",
       "      <th>target-phrase-b1</th>\n",
       "      <th>target-phrase-b2</th>\n",
       "      <th>target-sent-b1</th>\n",
       "      <th>...</th>\n",
       "      <th>target-sent-bs-rec</th>\n",
       "      <th>target-sent-target-bs-rec</th>\n",
       "      <th>target-sent-subject-bs-rec</th>\n",
       "      <th>base-bs-f1</th>\n",
       "      <th>masked-bs-f1</th>\n",
       "      <th>subject-bs-f1</th>\n",
       "      <th>target-phrase-bs-f1</th>\n",
       "      <th>target-sent-bs-f1</th>\n",
       "      <th>target-sent-target-bs-f1</th>\n",
       "      <th>target-sent-subject-bs-f1</th>\n",
       "    </tr>\n",
       "  </thead>\n",
       "  <tbody>\n",
       "    <tr>\n",
       "      <th>0</th>\n",
       "      <td>c2s</td>\n",
       "      <td>15.899</td>\n",
       "      <td>3.588</td>\n",
       "      <td>15.258</td>\n",
       "      <td>3.309</td>\n",
       "      <td>22.277</td>\n",
       "      <td>8.939</td>\n",
       "      <td>18.347</td>\n",
       "      <td>5.923</td>\n",
       "      <td>17.417</td>\n",
       "      <td>...</td>\n",
       "      <td>None</td>\n",
       "      <td>None</td>\n",
       "      <td>None</td>\n",
       "      <td>None</td>\n",
       "      <td>None</td>\n",
       "      <td>None</td>\n",
       "      <td>None</td>\n",
       "      <td>None</td>\n",
       "      <td>None</td>\n",
       "      <td>None</td>\n",
       "    </tr>\n",
       "    <tr>\n",
       "      <th>1</th>\n",
       "      <td>c2sp</td>\n",
       "      <td>15.266</td>\n",
       "      <td>3.515</td>\n",
       "      <td>15.757</td>\n",
       "      <td>3.567</td>\n",
       "      <td>23.580</td>\n",
       "      <td>9.417</td>\n",
       "      <td>18.686</td>\n",
       "      <td>5.726</td>\n",
       "      <td>18.003</td>\n",
       "      <td>...</td>\n",
       "      <td>None</td>\n",
       "      <td>None</td>\n",
       "      <td>None</td>\n",
       "      <td>None</td>\n",
       "      <td>None</td>\n",
       "      <td>None</td>\n",
       "      <td>None</td>\n",
       "      <td>None</td>\n",
       "      <td>None</td>\n",
       "      <td>None</td>\n",
       "    </tr>\n",
       "    <tr>\n",
       "      <th>2</th>\n",
       "      <td>c4s</td>\n",
       "      <td>15.712</td>\n",
       "      <td>2.912</td>\n",
       "      <td>14.908</td>\n",
       "      <td>4.157</td>\n",
       "      <td>22.771</td>\n",
       "      <td>8.681</td>\n",
       "      <td>17.560</td>\n",
       "      <td>5.348</td>\n",
       "      <td>18.005</td>\n",
       "      <td>...</td>\n",
       "      <td>None</td>\n",
       "      <td>None</td>\n",
       "      <td>None</td>\n",
       "      <td>None</td>\n",
       "      <td>None</td>\n",
       "      <td>None</td>\n",
       "      <td>None</td>\n",
       "      <td>None</td>\n",
       "      <td>None</td>\n",
       "      <td>None</td>\n",
       "    </tr>\n",
       "    <tr>\n",
       "      <th>3</th>\n",
       "      <td>c4sp</td>\n",
       "      <td>15.233</td>\n",
       "      <td>1.652</td>\n",
       "      <td>16.923</td>\n",
       "      <td>4.930</td>\n",
       "      <td>23.323</td>\n",
       "      <td>9.918</td>\n",
       "      <td>18.652</td>\n",
       "      <td>5.758</td>\n",
       "      <td>16.861</td>\n",
       "      <td>...</td>\n",
       "      <td>None</td>\n",
       "      <td>None</td>\n",
       "      <td>None</td>\n",
       "      <td>None</td>\n",
       "      <td>None</td>\n",
       "      <td>None</td>\n",
       "      <td>None</td>\n",
       "      <td>None</td>\n",
       "      <td>None</td>\n",
       "      <td>None</td>\n",
       "    </tr>\n",
       "    <tr>\n",
       "      <th>4</th>\n",
       "      <td>cs</td>\n",
       "      <td>19.650</td>\n",
       "      <td>6.692</td>\n",
       "      <td>NaN</td>\n",
       "      <td>NaN</td>\n",
       "      <td>NaN</td>\n",
       "      <td>NaN</td>\n",
       "      <td>NaN</td>\n",
       "      <td>NaN</td>\n",
       "      <td>NaN</td>\n",
       "      <td>...</td>\n",
       "      <td>None</td>\n",
       "      <td>None</td>\n",
       "      <td>None</td>\n",
       "      <td>None</td>\n",
       "      <td>None</td>\n",
       "      <td>None</td>\n",
       "      <td>None</td>\n",
       "      <td>None</td>\n",
       "      <td>None</td>\n",
       "      <td>None</td>\n",
       "    </tr>\n",
       "    <tr>\n",
       "      <th>5</th>\n",
       "      <td>c2spo</td>\n",
       "      <td>13.904</td>\n",
       "      <td>2.192</td>\n",
       "      <td>NaN</td>\n",
       "      <td>NaN</td>\n",
       "      <td>NaN</td>\n",
       "      <td>NaN</td>\n",
       "      <td>NaN</td>\n",
       "      <td>NaN</td>\n",
       "      <td>NaN</td>\n",
       "      <td>...</td>\n",
       "      <td>None</td>\n",
       "      <td>None</td>\n",
       "      <td>None</td>\n",
       "      <td>None</td>\n",
       "      <td>None</td>\n",
       "      <td>None</td>\n",
       "      <td>None</td>\n",
       "      <td>None</td>\n",
       "      <td>None</td>\n",
       "      <td>None</td>\n",
       "    </tr>\n",
       "    <tr>\n",
       "      <th>6</th>\n",
       "      <td>c4spo</td>\n",
       "      <td>13.147</td>\n",
       "      <td>1.519</td>\n",
       "      <td>NaN</td>\n",
       "      <td>NaN</td>\n",
       "      <td>NaN</td>\n",
       "      <td>NaN</td>\n",
       "      <td>NaN</td>\n",
       "      <td>NaN</td>\n",
       "      <td>NaN</td>\n",
       "      <td>...</td>\n",
       "      <td>None</td>\n",
       "      <td>None</td>\n",
       "      <td>None</td>\n",
       "      <td>None</td>\n",
       "      <td>None</td>\n",
       "      <td>None</td>\n",
       "      <td>None</td>\n",
       "      <td>None</td>\n",
       "      <td>None</td>\n",
       "      <td>None</td>\n",
       "    </tr>\n",
       "  </tbody>\n",
       "</table>\n",
       "<p>7 rows × 36 columns</p>\n",
       "</div>"
      ],
      "text/plain": [
       "  dataset  base-b1  base-b2  masked-b1  masked-b2  subject-b1  subject-b2  \\\n",
       "0     c2s   15.899    3.588     15.258      3.309      22.277       8.939   \n",
       "1    c2sp   15.266    3.515     15.757      3.567      23.580       9.417   \n",
       "2     c4s   15.712    2.912     14.908      4.157      22.771       8.681   \n",
       "3    c4sp   15.233    1.652     16.923      4.930      23.323       9.918   \n",
       "4      cs   19.650    6.692        NaN        NaN         NaN         NaN   \n",
       "5   c2spo   13.904    2.192        NaN        NaN         NaN         NaN   \n",
       "6   c4spo   13.147    1.519        NaN        NaN         NaN         NaN   \n",
       "\n",
       "   target-phrase-b1  target-phrase-b2  target-sent-b1  ...  \\\n",
       "0            18.347             5.923          17.417  ...   \n",
       "1            18.686             5.726          18.003  ...   \n",
       "2            17.560             5.348          18.005  ...   \n",
       "3            18.652             5.758          16.861  ...   \n",
       "4               NaN               NaN             NaN  ...   \n",
       "5               NaN               NaN             NaN  ...   \n",
       "6               NaN               NaN             NaN  ...   \n",
       "\n",
       "   target-sent-bs-rec  target-sent-target-bs-rec  target-sent-subject-bs-rec  \\\n",
       "0                None                       None                        None   \n",
       "1                None                       None                        None   \n",
       "2                None                       None                        None   \n",
       "3                None                       None                        None   \n",
       "4                None                       None                        None   \n",
       "5                None                       None                        None   \n",
       "6                None                       None                        None   \n",
       "\n",
       "   base-bs-f1  masked-bs-f1 subject-bs-f1 target-phrase-bs-f1  \\\n",
       "0        None          None          None                None   \n",
       "1        None          None          None                None   \n",
       "2        None          None          None                None   \n",
       "3        None          None          None                None   \n",
       "4        None          None          None                None   \n",
       "5        None          None          None                None   \n",
       "6        None          None          None                None   \n",
       "\n",
       "  target-sent-bs-f1 target-sent-target-bs-f1 target-sent-subject-bs-f1  \n",
       "0              None                     None                      None  \n",
       "1              None                     None                      None  \n",
       "2              None                     None                      None  \n",
       "3              None                     None                      None  \n",
       "4              None                     None                      None  \n",
       "5              None                     None                      None  \n",
       "6              None                     None                      None  \n",
       "\n",
       "[7 rows x 36 columns]"
      ]
     },
     "execution_count": 129,
     "metadata": {},
     "output_type": "execute_result"
    }
   ],
   "source": [
    "df_res = pd.read_csv(f\"../data/results/{model}-results.csv\")\n",
    "settings = list(dict.fromkeys([\"-\".join(col.split(\"-\")[:-1]) for col in df_res.columns if \"-\" in col]))\n",
    "cols_to_add = [f\"{col_name}-bs-prec\" for col_name in settings] + \\\n",
    "              [f\"{col_name}-bs-rec\" for col_name in settings] + \\\n",
    "              [f\"{col_name}-bs-f1\" for col_name in settings]\n",
    "for col in cols_to_add:\n",
    "    df_res[col] = None \n",
    "\n",
    "df_res"
   ]
  },
  {
   "cell_type": "markdown",
   "id": "224bf50f-ee93-4a57-859f-005911f22bca",
   "metadata": {
    "jp-MarkdownHeadingCollapsed": true
   },
   "source": [
    "## BARTScore"
   ]
  },
  {
   "cell_type": "code",
   "execution_count": 42,
   "id": "137228e8-9392-4815-9439-a8b7e9968269",
   "metadata": {},
   "outputs": [],
   "source": [
    "model = \"llama-ft\"#\"llama-instruct-few-shot\"\n",
    "df_res = pd.read_csv(f\"data/results/{model}-results.csv\")"
   ]
  },
  {
   "cell_type": "code",
   "execution_count": 34,
   "id": "22f048c0-d472-4431-a36f-baaff602b058",
   "metadata": {},
   "outputs": [
    {
     "name": "stdout",
     "output_type": "stream",
     "text": [
      "Index(['dataset', 'base-b1', 'base-b2', 'masked-b1', 'masked-b2', 'subject-b1',\n",
      "       'subject-b2', 'target-phrase-b1', 'target-phrase-b2', 'target-sent-b1',\n",
      "       'target-sent-b2', 'target-sent-target-b1', 'target-sent-target-b2',\n",
      "       'target-sent-subject-b1', 'target-sent-subject-b2', 'base-bsprec',\n",
      "       'masked-bsprec', 'subject-bsprec', 'target-phrase-bsprec',\n",
      "       'target-sent-bsprec', 'target-sent-target-bsprec',\n",
      "       'target-sent-subject-bsprec', 'base-bsrec', 'masked-bsrec',\n",
      "       'subject-bsrec', 'target-phrase-bsrec', 'target-sent-bsrec',\n",
      "       'target-sent-target-bsrec', 'target-sent-subject-bsrec', 'base-bsf1',\n",
      "       'masked-bsf1', 'subject-bsf1', 'target-phrase-bsf1', 'target-sent-bsf1',\n",
      "       'target-sent-target-bsf1', 'target-sent-subject-bsf1'],\n",
      "      dtype='object')\n"
     ]
    }
   ],
   "source": [
    "# rename certain columns\n",
    "df_res.columns = [\n",
    "    col.replace('-bs-rec', '-bsrec').replace('-bs-prec', '-bsprec').replace('-bs-f1', '-bsf1')\n",
    "    if col.endswith(('-bs-rec', '-bs-prec', '-bs-f1')) else col\n",
    "    for col in df_res.columns\n",
    "]\n",
    "\n",
    "print(df_res.columns)"
   ]
  },
  {
   "cell_type": "code",
   "execution_count": 35,
   "id": "67beec04-6164-42b9-bcc8-ed134bf8bfc1",
   "metadata": {},
   "outputs": [
    {
     "name": "stdout",
     "output_type": "stream",
     "text": [
      "['base', 'masked', 'subject', 'target-phrase', 'target-sent', 'target-sent-target', 'target-sent-subject']\n",
      "\n",
      "Index(['dataset', 'base-b1', 'base-b2', 'masked-b1', 'masked-b2', 'subject-b1',\n",
      "       'subject-b2', 'target-phrase-b1', 'target-phrase-b2', 'target-sent-b1',\n",
      "       'target-sent-b2', 'target-sent-target-b1', 'target-sent-target-b2',\n",
      "       'target-sent-subject-b1', 'target-sent-subject-b2', 'base-bsprec',\n",
      "       'masked-bsprec', 'subject-bsprec', 'target-phrase-bsprec',\n",
      "       'target-sent-bsprec', 'target-sent-target-bsprec',\n",
      "       'target-sent-subject-bsprec', 'base-bsrec', 'masked-bsrec',\n",
      "       'subject-bsrec', 'target-phrase-bsrec', 'target-sent-bsrec',\n",
      "       'target-sent-target-bsrec', 'target-sent-subject-bsrec', 'base-bsf1',\n",
      "       'masked-bsf1', 'subject-bsf1', 'target-phrase-bsf1', 'target-sent-bsf1',\n",
      "       'target-sent-target-bsf1', 'target-sent-subject-bsf1', 'base-bartscore',\n",
      "       'masked-bartscore', 'subject-bartscore', 'target-phrase-bartscore',\n",
      "       'target-sent-bartscore', 'target-sent-target-bartscore',\n",
      "       'target-sent-subject-bartscore'],\n",
      "      dtype='object')\n"
     ]
    }
   ],
   "source": [
    "settings = list(dict.fromkeys([\"-\".join(col.split(\"-\")[:-1]) for col in df_res.columns if \"-\" in col]))\n",
    "print(settings, end=\"\\n\\n\")\n",
    "cols_to_add = [f\"{col_name}-bartscore\" for col_name in settings]\n",
    "for col in cols_to_add:\n",
    "    df_res[col] = None\n",
    "print(df_res.columns)"
   ]
  },
  {
   "cell_type": "markdown",
   "id": "949ae5b4-331b-4df6-af1f-7eeb95d675cd",
   "metadata": {
    "jp-MarkdownHeadingCollapsed": true
   },
   "source": [
    "## New dataset row"
   ]
  },
  {
   "cell_type": "code",
   "execution_count": 8,
   "id": "c61803c1-7b43-42c2-9b0b-ffccb11a14fb",
   "metadata": {},
   "outputs": [],
   "source": [
    "import pandas as pd\n",
    "\n",
    "for model in models: \n",
    "    df_res = pd.read_csv(f\"../data/results/{model}-results.csv\")\n",
    "    df_res.loc[len(df_res), 'dataset'] = 'cso'\n",
    "    df_res.to_csv(f\"../data/results/{model}-results.csv\",index=False)"
   ]
  },
  {
   "cell_type": "markdown",
   "id": "07b13ee6-504f-43ce-a3b2-1fbeb98705e7",
   "metadata": {
    "jp-MarkdownHeadingCollapsed": true
   },
   "source": [
    "## Map values for comparison"
   ]
  },
  {
   "cell_type": "code",
   "execution_count": 9,
   "id": "23aec249-1216-4be3-baf8-7060defed26f",
   "metadata": {},
   "outputs": [],
   "source": [
    "for model in models: \n",
    "    df_res = pd.read_csv(f\"../data/results/{model}-results.csv\")\n",
    "    dss = [\"cso\",\"cs\"]\n",
    "    settings_map = {\"target-sent-subject\":\"subject\",\"target-sent-target\":\"target-phrase\", \"base\":\"target-sent\"}\n",
    "    for ds in dss:\n",
    "        idx = df_res.index[df_res[\"dataset\"] == ds].tolist()[0]\n",
    "        for current_setting_key, target_setting_key in settings_map.items():\n",
    "            df_res.at[idx, f\"{target_setting_key}-b1\"] = df_res.loc[idx, f\"{current_setting_key}-b1\"]\n",
    "            df_res.at[idx, f\"{target_setting_key}-b2\"] = df_res.loc[idx, f\"{current_setting_key}-b2\"]\n",
    "            df_res.at[idx, f\"{target_setting_key}-bsprec\"] = df_res.loc[idx, f\"{current_setting_key}-bsprec\"]\n",
    "            df_res.at[idx, f\"{target_setting_key}-bsrec\"] = df_res.loc[idx, f\"{current_setting_key}-bsrec\"]\n",
    "            df_res.at[idx, f\"{target_setting_key}-bsf1\"] = df_res.loc[idx, f\"{current_setting_key}-bsf1\"]\n",
    "            df_res.at[idx, f\"{target_setting_key}-bartscore\"] = df_res.loc[idx, f\"{current_setting_key}-bartscore\"]\n",
    "    df_res.to_csv(f\"../data/results/{model}-results.csv\",index=False)"
   ]
  },
  {
   "cell_type": "markdown",
   "id": "e8a721dc-ab96-4a59-b2e4-83675cf82cec",
   "metadata": {
    "jp-MarkdownHeadingCollapsed": true
   },
   "source": [
    "## Rename datafiles"
   ]
  },
  {
   "cell_type": "code",
   "execution_count": 47,
   "id": "f815cef4-4eaf-460c-9e13-b52e165cbb24",
   "metadata": {
    "scrolled": true
   },
   "outputs": [
    {
     "name": "stdout",
     "output_type": "stream",
     "text": [
      "Renamed: predictions_bart-c4s-target-sent-subject.csv -> predictions_bart-ft-c4s-target-sent-subject.csv\n",
      "Renamed: predictions_bart-c2spo-base.csv -> predictions_bart-ft-c2spo-base.csv\n",
      "Renamed: predictions_bart-c2sp-subject.csv -> predictions_bart-ft-c2sp-subject.csv\n",
      "Renamed: predictions_bart-c4sp-target-sent-subject.csv -> predictions_bart-ft-c4sp-target-sent-subject.csv\n",
      "Renamed: predictions_bart-c4sp-subject.csv -> predictions_bart-ft-c4sp-subject.csv\n",
      "Renamed: predictions_bart-test.csv -> predictions_bart-ft-test.csv\n",
      "Renamed: predictions_bart-c2sp-target-sent-target.csv -> predictions_bart-ft-c2sp-target-sent-target.csv\n",
      "Renamed: predictions_bart-c2sp-target-sent-subject.csv -> predictions_bart-ft-c2sp-target-sent-subject.csv\n",
      "Renamed: predictions_bart-c2s-target-phrase.csv -> predictions_bart-ft-c2s-target-phrase.csv\n",
      "Renamed: predictions_bart-c2sp-base.csv -> predictions_bart-ft-c2sp-base.csv\n",
      "Renamed: predictions_bart-c2sp-masked.csv -> predictions_bart-ft-c2sp-masked.csv\n",
      "Renamed: predictions_bart-c2s-target-sent.csv -> predictions_bart-ft-c2s-target-sent.csv\n",
      "Renamed: predictions_bart-c2sp-target-phrase.csv -> predictions_bart-ft-c2sp-target-phrase.csv\n",
      "Renamed: predictions_bart-cs-target-sent-target.csv -> predictions_bart-ft-cs-target-sent-target.csv\n",
      "Renamed: predictions_bart-c4spo-base.csv -> predictions_bart-ft-c4spo-base.csv\n",
      "Renamed: predictions_bart-c2s-base.csv -> predictions_bart-ft-c2s-base.csv\n",
      "Renamed: predictions_bart-c4sp-base.csv -> predictions_bart-ft-c4sp-base.csv\n",
      "Renamed: predictions_bart-c4s-masked.csv -> predictions_bart-ft-c4s-masked.csv\n",
      "Renamed: predictions_bart-c2s-target-sent-subject.csv -> predictions_bart-ft-c2s-target-sent-subject.csv\n",
      "Renamed: predictions_bart-c4s-target-sent-target.csv -> predictions_bart-ft-c4s-target-sent-target.csv\n",
      "Renamed: predictions_bart-c4sp-target-sent.csv -> predictions_bart-ft-c4sp-target-sent.csv\n",
      "Renamed: predictions_bart-c2s-target-sent-target.csv -> predictions_bart-ft-c2s-target-sent-target.csv\n",
      "Renamed: predictions_bart-c4sp-target-phrase.csv -> predictions_bart-ft-c4sp-target-phrase.csv\n",
      "Renamed: predictions_bart-c2sp-target-sent.csv -> predictions_bart-ft-c2sp-target-sent.csv\n",
      "Renamed: predictions_bart-c4sp-masked.csv -> predictions_bart-ft-c4sp-masked.csv\n",
      "Renamed: predictions_bart-c4s-base.csv -> predictions_bart-ft-c4s-base.csv\n",
      "Renamed: predictions_bart-c4s-target-phrase.csv -> predictions_bart-ft-c4s-target-phrase.csv\n",
      "Renamed: predictions_bart-c4s-target-sent.csv -> predictions_bart-ft-c4s-target-sent.csv\n",
      "Renamed: predictions_bart-c4s-subject.csv -> predictions_bart-ft-c4s-subject.csv\n",
      "Renamed: predictions_bart-c4sp-target-sent-target.csv -> predictions_bart-ft-c4sp-target-sent-target.csv\n",
      "Renamed: predictions_bart-cs-base.csv -> predictions_bart-ft-cs-base.csv\n",
      "Renamed: predictions_bart-cs-target-sent-subject.csv -> predictions_bart-ft-cs-target-sent-subject.csv\n",
      "Renamed: predictions_bart-c2s-subject.csv -> predictions_bart-ft-c2s-subject.csv\n",
      "Renamed: predictions_bart-c2s-masked.csv -> predictions_bart-ft-c2s-masked.csv\n"
     ]
    }
   ],
   "source": [
    "# rename files\n",
    "import os\n",
    "\n",
    "directory = \"data/gen_predictions\"\n",
    "\n",
    "old_part = \"predictions_bart-\"\n",
    "new_part = \"predictions_bart-ft-\"\n",
    "\n",
    "for filename in os.listdir(directory):\n",
    "\n",
    "    if old_part in filename:\n",
    "        # new filename by replacing the old part\n",
    "        new_filename = filename.replace(old_part, new_part)\n",
    "        \n",
    "        # full paths for renaming\n",
    "        old_file_path = os.path.join(directory, filename)\n",
    "        new_file_path = os.path.join(directory, new_filename)\n",
    "        \n",
    "        # rename the file\n",
    "        os.rename(old_file_path, new_file_path)\n",
    "        print(f\"Renamed: {filename} -> {new_filename}\")"
   ]
  },
  {
   "cell_type": "markdown",
   "id": "10110f52-275c-410d-9a66-5b1eff822fd9",
   "metadata": {
    "jp-MarkdownHeadingCollapsed": true
   },
   "source": [
    "# SARI - Hugging Face"
   ]
  },
  {
   "cell_type": "code",
   "execution_count": 35,
   "id": "bf6017c1-5cc3-4970-9b74-959d1f8884c1",
   "metadata": {},
   "outputs": [
    {
     "data": {
      "application/vnd.jupyter.widget-view+json": {
       "model_id": "67d7b27ee24e4e3785eb09aae20a09ff",
       "version_major": 2,
       "version_minor": 0
      },
      "text/plain": [
       "  0%|          | 0/359 [00:00<?, ?it/s]"
      ]
     },
     "metadata": {},
     "output_type": "display_data"
    }
   ],
   "source": [
    "from evaluate import load\n",
    "from tqdm.notebook import tqdm\n",
    "import pandas as pd\n",
    "\n",
    "sari_metric = load(\"sari\")\n",
    "sari_scores = []\n",
    "\n",
    "for index, row in tqdm(df_gen.iterrows(), total=len(df_gen)):\n",
    "    r_content = row['text'] \n",
    "    s_content = dataset['test'][index] \n",
    "    prediction = row['prediction']  \n",
    "    \n",
    "    sari_score = sari_metric.compute(\n",
    "        sources=[r_content],\n",
    "        predictions=[prediction],\n",
    "        references=[s_content['simplifications']]\n",
    "    )\n",
    "    \n",
    "    sari_scores.append(sari_score['sari'])"
   ]
  },
  {
   "cell_type": "markdown",
   "id": "0344dde9-0b12-448a-880c-9e82df722695",
   "metadata": {
    "jp-MarkdownHeadingCollapsed": true
   },
   "source": [
    "# SARI - EASSE package"
   ]
  },
  {
   "cell_type": "code",
   "execution_count": 13,
   "id": "21c93079-9b0a-45f4-8446-d83fad341431",
   "metadata": {},
   "outputs": [
    {
     "data": {
      "application/vnd.jupyter.widget-view+json": {
       "model_id": "50fe8728a5b84524acb2902f9f54b345",
       "version_major": 2,
       "version_minor": 0
      },
      "text/plain": [
       "  0%|          | 0/116 [00:00<?, ?it/s]"
      ]
     },
     "metadata": {},
     "output_type": "display_data"
    },
    {
     "ename": "KeyError",
     "evalue": "'label_text'",
     "output_type": "error",
     "traceback": [
      "\u001b[0;31m---------------------------------------------------------------------------\u001b[0m",
      "\u001b[0;31mKeyError\u001b[0m                                  Traceback (most recent call last)",
      "File \u001b[0;32m~/nlp/lib64/python3.9/site-packages/pandas/core/indexes/base.py:3805\u001b[0m, in \u001b[0;36mIndex.get_loc\u001b[0;34m(self, key)\u001b[0m\n\u001b[1;32m   3804\u001b[0m \u001b[38;5;28;01mtry\u001b[39;00m:\n\u001b[0;32m-> 3805\u001b[0m     \u001b[38;5;28;01mreturn\u001b[39;00m \u001b[38;5;28;43mself\u001b[39;49m\u001b[38;5;241;43m.\u001b[39;49m\u001b[43m_engine\u001b[49m\u001b[38;5;241;43m.\u001b[39;49m\u001b[43mget_loc\u001b[49m\u001b[43m(\u001b[49m\u001b[43mcasted_key\u001b[49m\u001b[43m)\u001b[49m\n\u001b[1;32m   3806\u001b[0m \u001b[38;5;28;01mexcept\u001b[39;00m \u001b[38;5;167;01mKeyError\u001b[39;00m \u001b[38;5;28;01mas\u001b[39;00m err:\n",
      "File \u001b[0;32mindex.pyx:167\u001b[0m, in \u001b[0;36mpandas._libs.index.IndexEngine.get_loc\u001b[0;34m()\u001b[0m\n",
      "File \u001b[0;32mindex.pyx:196\u001b[0m, in \u001b[0;36mpandas._libs.index.IndexEngine.get_loc\u001b[0;34m()\u001b[0m\n",
      "File \u001b[0;32mpandas/_libs/hashtable_class_helper.pxi:7081\u001b[0m, in \u001b[0;36mpandas._libs.hashtable.PyObjectHashTable.get_item\u001b[0;34m()\u001b[0m\n",
      "File \u001b[0;32mpandas/_libs/hashtable_class_helper.pxi:7089\u001b[0m, in \u001b[0;36mpandas._libs.hashtable.PyObjectHashTable.get_item\u001b[0;34m()\u001b[0m\n",
      "\u001b[0;31mKeyError\u001b[0m: 'label_text'",
      "\nThe above exception was the direct cause of the following exception:\n",
      "\u001b[0;31mKeyError\u001b[0m                                  Traceback (most recent call last)",
      "Cell \u001b[0;32mIn[13], line 9\u001b[0m\n\u001b[1;32m      7\u001b[0m \u001b[38;5;28;01mfor\u001b[39;00m index, row \u001b[38;5;129;01min\u001b[39;00m tqdm(df_gen\u001b[38;5;241m.\u001b[39miterrows(), total\u001b[38;5;241m=\u001b[39m\u001b[38;5;28mlen\u001b[39m(df_gen)):\n\u001b[1;32m      8\u001b[0m     r_content \u001b[38;5;241m=\u001b[39m row[\u001b[38;5;124m'\u001b[39m\u001b[38;5;124msource_text\u001b[39m\u001b[38;5;124m'\u001b[39m] \n\u001b[0;32m----> 9\u001b[0m     s_content \u001b[38;5;241m=\u001b[39m \u001b[43mrow\u001b[49m\u001b[43m[\u001b[49m\u001b[38;5;124;43m'\u001b[39;49m\u001b[38;5;124;43mlabel_text\u001b[39;49m\u001b[38;5;124;43m'\u001b[39;49m\u001b[43m]\u001b[49m  \n\u001b[1;32m     10\u001b[0m     prediction \u001b[38;5;241m=\u001b[39m row[\u001b[38;5;124m'\u001b[39m\u001b[38;5;124mprediction\u001b[39m\u001b[38;5;124m'\u001b[39m]  \n\u001b[1;32m     12\u001b[0m     sari_score_easse \u001b[38;5;241m=\u001b[39m corpus_sari(\n\u001b[1;32m     13\u001b[0m         orig_sents\u001b[38;5;241m=\u001b[39m[r_content],\n\u001b[1;32m     14\u001b[0m         sys_sents\u001b[38;5;241m=\u001b[39m[prediction],\n\u001b[1;32m     15\u001b[0m         refs_sents\u001b[38;5;241m=\u001b[39m[[s_content]]\n\u001b[1;32m     16\u001b[0m         \u001b[38;5;66;03m#refs_sents=[[simp] for simp in s_content['simplifications']]\u001b[39;00m\n\u001b[1;32m     17\u001b[0m     )\n",
      "File \u001b[0;32m~/nlp/lib64/python3.9/site-packages/pandas/core/series.py:1121\u001b[0m, in \u001b[0;36mSeries.__getitem__\u001b[0;34m(self, key)\u001b[0m\n\u001b[1;32m   1118\u001b[0m     \u001b[38;5;28;01mreturn\u001b[39;00m \u001b[38;5;28mself\u001b[39m\u001b[38;5;241m.\u001b[39m_values[key]\n\u001b[1;32m   1120\u001b[0m \u001b[38;5;28;01melif\u001b[39;00m key_is_scalar:\n\u001b[0;32m-> 1121\u001b[0m     \u001b[38;5;28;01mreturn\u001b[39;00m \u001b[38;5;28;43mself\u001b[39;49m\u001b[38;5;241;43m.\u001b[39;49m\u001b[43m_get_value\u001b[49m\u001b[43m(\u001b[49m\u001b[43mkey\u001b[49m\u001b[43m)\u001b[49m\n\u001b[1;32m   1123\u001b[0m \u001b[38;5;66;03m# Convert generator to list before going through hashable part\u001b[39;00m\n\u001b[1;32m   1124\u001b[0m \u001b[38;5;66;03m# (We will iterate through the generator there to check for slices)\u001b[39;00m\n\u001b[1;32m   1125\u001b[0m \u001b[38;5;28;01mif\u001b[39;00m is_iterator(key):\n",
      "File \u001b[0;32m~/nlp/lib64/python3.9/site-packages/pandas/core/series.py:1237\u001b[0m, in \u001b[0;36mSeries._get_value\u001b[0;34m(self, label, takeable)\u001b[0m\n\u001b[1;32m   1234\u001b[0m     \u001b[38;5;28;01mreturn\u001b[39;00m \u001b[38;5;28mself\u001b[39m\u001b[38;5;241m.\u001b[39m_values[label]\n\u001b[1;32m   1236\u001b[0m \u001b[38;5;66;03m# Similar to Index.get_value, but we do not fall back to positional\u001b[39;00m\n\u001b[0;32m-> 1237\u001b[0m loc \u001b[38;5;241m=\u001b[39m \u001b[38;5;28;43mself\u001b[39;49m\u001b[38;5;241;43m.\u001b[39;49m\u001b[43mindex\u001b[49m\u001b[38;5;241;43m.\u001b[39;49m\u001b[43mget_loc\u001b[49m\u001b[43m(\u001b[49m\u001b[43mlabel\u001b[49m\u001b[43m)\u001b[49m\n\u001b[1;32m   1239\u001b[0m \u001b[38;5;28;01mif\u001b[39;00m is_integer(loc):\n\u001b[1;32m   1240\u001b[0m     \u001b[38;5;28;01mreturn\u001b[39;00m \u001b[38;5;28mself\u001b[39m\u001b[38;5;241m.\u001b[39m_values[loc]\n",
      "File \u001b[0;32m~/nlp/lib64/python3.9/site-packages/pandas/core/indexes/base.py:3812\u001b[0m, in \u001b[0;36mIndex.get_loc\u001b[0;34m(self, key)\u001b[0m\n\u001b[1;32m   3807\u001b[0m     \u001b[38;5;28;01mif\u001b[39;00m \u001b[38;5;28misinstance\u001b[39m(casted_key, \u001b[38;5;28mslice\u001b[39m) \u001b[38;5;129;01mor\u001b[39;00m (\n\u001b[1;32m   3808\u001b[0m         \u001b[38;5;28misinstance\u001b[39m(casted_key, abc\u001b[38;5;241m.\u001b[39mIterable)\n\u001b[1;32m   3809\u001b[0m         \u001b[38;5;129;01mand\u001b[39;00m \u001b[38;5;28many\u001b[39m(\u001b[38;5;28misinstance\u001b[39m(x, \u001b[38;5;28mslice\u001b[39m) \u001b[38;5;28;01mfor\u001b[39;00m x \u001b[38;5;129;01min\u001b[39;00m casted_key)\n\u001b[1;32m   3810\u001b[0m     ):\n\u001b[1;32m   3811\u001b[0m         \u001b[38;5;28;01mraise\u001b[39;00m InvalidIndexError(key)\n\u001b[0;32m-> 3812\u001b[0m     \u001b[38;5;28;01mraise\u001b[39;00m \u001b[38;5;167;01mKeyError\u001b[39;00m(key) \u001b[38;5;28;01mfrom\u001b[39;00m \u001b[38;5;21;01merr\u001b[39;00m\n\u001b[1;32m   3813\u001b[0m \u001b[38;5;28;01mexcept\u001b[39;00m \u001b[38;5;167;01mTypeError\u001b[39;00m:\n\u001b[1;32m   3814\u001b[0m     \u001b[38;5;66;03m# If we have a listlike key, _check_indexing_error will raise\u001b[39;00m\n\u001b[1;32m   3815\u001b[0m     \u001b[38;5;66;03m#  InvalidIndexError. Otherwise we fall through and re-raise\u001b[39;00m\n\u001b[1;32m   3816\u001b[0m     \u001b[38;5;66;03m#  the TypeError.\u001b[39;00m\n\u001b[1;32m   3817\u001b[0m     \u001b[38;5;28mself\u001b[39m\u001b[38;5;241m.\u001b[39m_check_indexing_error(key)\n",
      "\u001b[0;31mKeyError\u001b[0m: 'label_text'"
     ]
    }
   ],
   "source": [
    "from easse.sari import corpus_sari\n",
    "from tqdm.notebook import tqdm\n",
    "\n",
    "\n",
    "sari_scores_easse = []\n",
    "\n",
    "for index, row in tqdm(df_gen.iterrows(), total=len(df_gen)):\n",
    "    r_content = row['source_text'] \n",
    "    s_content = row['label_text']  \n",
    "    prediction = row['prediction']  \n",
    "    \n",
    "    sari_score_easse = corpus_sari(\n",
    "        orig_sents=[r_content],\n",
    "        sys_sents=[prediction],\n",
    "        refs_sents=[[s_content]]\n",
    "        #refs_sents=[[simp] for simp in s_content['simplifications']]\n",
    "    )\n",
    "    \n",
    "    sari_scores_easse.append(sari_score_easse)"
   ]
  },
  {
   "cell_type": "code",
   "execution_count": 106,
   "id": "2a4dc924-dcdf-4996-a704-bc8fa62f053e",
   "metadata": {},
   "outputs": [
    {
     "name": "stdout",
     "output_type": "stream",
     "text": [
      "Average SARI score: 36.46781896155372\n"
     ]
    }
   ],
   "source": [
    "import numpy as np\n",
    "print(\"Average SARI score:\", np.mean(sari_scores_easse))"
   ]
  },
  {
   "cell_type": "markdown",
   "id": "0a48b68e-8dad-4ca5-a0f4-3059c107d5c9",
   "metadata": {
    "jp-MarkdownHeadingCollapsed": true
   },
   "source": [
    "# Operation scores (add, keep, delete)"
   ]
  },
  {
   "cell_type": "code",
   "execution_count": 4,
   "id": "ebda0d28-3b07-4479-810f-4f321c9ed5ea",
   "metadata": {},
   "outputs": [
    {
     "data": {
      "application/vnd.jupyter.widget-view+json": {
       "model_id": "f328a3975ef64892b8a5039c8e60ccbb",
       "version_major": 2,
       "version_minor": 0
      },
      "text/plain": [
       "  0%|          | 0/116 [00:00<?, ?it/s]"
      ]
     },
     "metadata": {},
     "output_type": "display_data"
    }
   ],
   "source": [
    "from easse.sari import get_corpus_sari_operation_scores\n",
    "from tqdm.notebook import tqdm\n",
    "\n",
    "add_scores = []\n",
    "keep_scores = []\n",
    "del_scores = []\n",
    "\n",
    "for index, row in tqdm(df_gen.iterrows(), total=len(df_gen)):\n",
    "    r_content = row['source_text'] \n",
    "    s_content = row['label_text'] #dataset['test'][index]  \n",
    "    prediction = row['prediction']  \n",
    "    \n",
    "    add_score, keep_score, del_score = get_corpus_sari_operation_scores(\n",
    "        orig_sents=[r_content],\n",
    "        sys_sents=[prediction],\n",
    "        refs_sents=[[s_content]]\n",
    "        #refs_sents=[[simp] for simp in s_content['simplifications']] \n",
    "    )\n",
    "    \n",
    "    add_scores.append(add_score)\n",
    "    keep_scores.append(keep_score)\n",
    "    del_scores.append(del_score)"
   ]
  },
  {
   "cell_type": "markdown",
   "id": "4eb0cbf1-18d1-4243-8d97-1a6da6cc55aa",
   "metadata": {
    "jp-MarkdownHeadingCollapsed": true
   },
   "source": [
    "# BLEU-4 (EASSE package)"
   ]
  },
  {
   "cell_type": "code",
   "execution_count": 25,
   "id": "0422bbeb-5d1b-4060-abd5-e14a5a0f5789",
   "metadata": {},
   "outputs": [
    {
     "data": {
      "application/vnd.jupyter.widget-view+json": {
       "model_id": "cbfa32888f4f4039acffa9021cc37531",
       "version_major": 2,
       "version_minor": 0
      },
      "text/plain": [
       "  0%|          | 0/116 [00:00<?, ?it/s]"
      ]
     },
     "metadata": {},
     "output_type": "display_data"
    },
    {
     "name": "stdout",
     "output_type": "stream",
     "text": [
      "Average BLEU score: 4.965\n"
     ]
    }
   ],
   "source": [
    "from tqdm.notebook import tqdm\n",
    "from easse.bleu import corpus_bleu\n",
    "import numpy as np\n",
    "\n",
    "bleu_scores_easse = []\n",
    "\n",
    "for index, row in tqdm(df_gen.iterrows(), total=len(df_gen)):\n",
    "    s_content = row['elaboration_sentence'] \n",
    "    prediction = row['pred_elaboration'] # \"prediction\" for BART\n",
    "    \n",
    "    bleu_score_easse = corpus_bleu(\n",
    "        sys_sents=[prediction],\n",
    "        refs_sents=[[s_content]]\n",
    "    )\n",
    "    \n",
    "    bleu_scores_easse.append(bleu_score_easse)\n",
    "\n",
    "print(f\"Average BLEU score: {np.mean(bleu_scores_easse):.3f}\")"
   ]
  },
  {
   "cell_type": "markdown",
   "id": "423467a1-bd5b-45a5-9c81-c4cca2be66b9",
   "metadata": {},
   "source": [
    "# BLEU-1 & BLEU-2 (nltk + tokenizer-13A)"
   ]
  },
  {
   "cell_type": "markdown",
   "id": "e7021e9d-90fa-4477-9c0d-ca7d046ef283",
   "metadata": {},
   "source": [
    "## Corpus bleu"
   ]
  },
  {
   "cell_type": "code",
   "execution_count": 22,
   "id": "db64be6b-4a29-444a-8fd6-1fc8e9f1f940",
   "metadata": {},
   "outputs": [
    {
     "name": "stderr",
     "output_type": "stream",
     "text": [
      "100%|██████████████████████████████████████| 116/116 [00:00<00:00, 16480.57it/s]\n"
     ]
    },
    {
     "name": "stdout",
     "output_type": "stream",
     "text": [
      "llama-ft-cso-base: 18.528\n",
      "llama-ft-cso-base: 6.32\n"
     ]
    },
    {
     "name": "stderr",
     "output_type": "stream",
     "text": [
      "100%|██████████████████████████████████████| 116/116 [00:00<00:00, 25253.78it/s]\n"
     ]
    },
    {
     "name": "stdout",
     "output_type": "stream",
     "text": [
      "llama-ft-c2spo-base: 16.764\n",
      "llama-ft-c2spo-base: 5.063\n"
     ]
    },
    {
     "name": "stderr",
     "output_type": "stream",
     "text": [
      "100%|██████████████████████████████████████| 116/116 [00:00<00:00, 25875.62it/s]\n"
     ]
    },
    {
     "name": "stdout",
     "output_type": "stream",
     "text": [
      "llama-ft-c4spo-base: 15.761\n",
      "llama-ft-c4spo-base: 4.453\n"
     ]
    },
    {
     "name": "stderr",
     "output_type": "stream",
     "text": [
      "100%|██████████████████████████████████████| 116/116 [00:00<00:00, 24165.06it/s]\n"
     ]
    },
    {
     "name": "stdout",
     "output_type": "stream",
     "text": [
      "llama-ft-c2spo-subject: 26.962\n",
      "llama-ft-c2spo-subject: 14.104\n"
     ]
    },
    {
     "name": "stderr",
     "output_type": "stream",
     "text": [
      "100%|██████████████████████████████████████| 116/116 [00:00<00:00, 28811.47it/s]\n"
     ]
    },
    {
     "name": "stdout",
     "output_type": "stream",
     "text": [
      "llama-ft-c4spo-subject: 29.417\n",
      "llama-ft-c4spo-subject: 15.342\n"
     ]
    },
    {
     "name": "stderr",
     "output_type": "stream",
     "text": [
      "100%|██████████████████████████████████████| 116/116 [00:00<00:00, 26865.78it/s]\n"
     ]
    },
    {
     "name": "stdout",
     "output_type": "stream",
     "text": [
      "llama-ft-c2spo-target-phrase: 21.212\n",
      "llama-ft-c2spo-target-phrase: 8.055\n"
     ]
    },
    {
     "name": "stderr",
     "output_type": "stream",
     "text": [
      "100%|██████████████████████████████████████| 116/116 [00:00<00:00, 29501.53it/s]\n"
     ]
    },
    {
     "name": "stdout",
     "output_type": "stream",
     "text": [
      "llama-ft-c4spo-target-phrase: 20.194\n",
      "llama-ft-c4spo-target-phrase: 8.831\n"
     ]
    },
    {
     "name": "stderr",
     "output_type": "stream",
     "text": [
      "100%|██████████████████████████████████████| 116/116 [00:00<00:00, 28931.39it/s]\n"
     ]
    },
    {
     "name": "stdout",
     "output_type": "stream",
     "text": [
      "llama-ft-c2spo-target-sent: 18.602\n",
      "llama-ft-c2spo-target-sent: 6.468\n"
     ]
    },
    {
     "name": "stderr",
     "output_type": "stream",
     "text": [
      "100%|██████████████████████████████████████| 116/116 [00:00<00:00, 29357.34it/s]\n"
     ]
    },
    {
     "name": "stdout",
     "output_type": "stream",
     "text": [
      "llama-ft-c4spo-target-sent: 18.674\n",
      "llama-ft-c4spo-target-sent: 6.216\n"
     ]
    },
    {
     "name": "stderr",
     "output_type": "stream",
     "text": [
      "100%|██████████████████████████████████████| 116/116 [00:00<00:00, 27401.40it/s]\n"
     ]
    },
    {
     "name": "stdout",
     "output_type": "stream",
     "text": [
      "llama-ft-cso-target-sent-target: 20.885\n",
      "llama-ft-cso-target-sent-target: 8.334\n"
     ]
    },
    {
     "name": "stderr",
     "output_type": "stream",
     "text": [
      "100%|██████████████████████████████████████| 116/116 [00:00<00:00, 33342.88it/s]\n"
     ]
    },
    {
     "name": "stdout",
     "output_type": "stream",
     "text": [
      "llama-ft-c2spo-target-sent-target: 20.317\n",
      "llama-ft-c2spo-target-sent-target: 7.758\n"
     ]
    },
    {
     "name": "stderr",
     "output_type": "stream",
     "text": [
      "100%|██████████████████████████████████████| 116/116 [00:00<00:00, 32785.66it/s]\n"
     ]
    },
    {
     "name": "stdout",
     "output_type": "stream",
     "text": [
      "llama-ft-c4spo-target-sent-target: 20.799\n",
      "llama-ft-c4spo-target-sent-target: 8.749\n"
     ]
    },
    {
     "name": "stderr",
     "output_type": "stream",
     "text": [
      "100%|██████████████████████████████████████| 116/116 [00:00<00:00, 27261.68it/s]\n"
     ]
    },
    {
     "name": "stdout",
     "output_type": "stream",
     "text": [
      "llama-ft-cso-target-sent-subject: 28.698\n",
      "llama-ft-cso-target-sent-subject: 14.577\n"
     ]
    },
    {
     "name": "stderr",
     "output_type": "stream",
     "text": [
      "100%|██████████████████████████████████████| 116/116 [00:00<00:00, 28326.69it/s]\n"
     ]
    },
    {
     "name": "stdout",
     "output_type": "stream",
     "text": [
      "llama-ft-c2spo-target-sent-subject: 27.214\n",
      "llama-ft-c2spo-target-sent-subject: 13.166\n"
     ]
    },
    {
     "name": "stderr",
     "output_type": "stream",
     "text": [
      "100%|██████████████████████████████████████| 116/116 [00:00<00:00, 31035.23it/s]\n"
     ]
    },
    {
     "name": "stdout",
     "output_type": "stream",
     "text": [
      "llama-ft-c4spo-target-sent-subject: 26.375\n",
      "llama-ft-c4spo-target-sent-subject: 13.601\n",
      "Results saved for llama-ft\n"
     ]
    },
    {
     "name": "stderr",
     "output_type": "stream",
     "text": [
      "100%|██████████████████████████████████████| 116/116 [00:00<00:00, 25442.62it/s]\n"
     ]
    },
    {
     "name": "stdout",
     "output_type": "stream",
     "text": [
      "bart-ft-cso-base: 17.727\n",
      "bart-ft-cso-base: 5.358\n"
     ]
    },
    {
     "name": "stderr",
     "output_type": "stream",
     "text": [
      "100%|██████████████████████████████████████| 116/116 [00:00<00:00, 25054.81it/s]\n"
     ]
    },
    {
     "name": "stdout",
     "output_type": "stream",
     "text": [
      "bart-ft-c2spo-base: 16.943\n",
      "bart-ft-c2spo-base: 3.266\n"
     ]
    },
    {
     "name": "stderr",
     "output_type": "stream",
     "text": [
      "100%|██████████████████████████████████████| 116/116 [00:00<00:00, 25890.77it/s]\n"
     ]
    },
    {
     "name": "stdout",
     "output_type": "stream",
     "text": [
      "bart-ft-c4spo-base: 16.532\n",
      "bart-ft-c4spo-base: 2.987\n"
     ]
    },
    {
     "name": "stderr",
     "output_type": "stream",
     "text": [
      "100%|██████████████████████████████████████| 116/116 [00:00<00:00, 26668.45it/s]\n"
     ]
    },
    {
     "name": "stdout",
     "output_type": "stream",
     "text": [
      "bart-ft-c2spo-subject: 28.003\n",
      "bart-ft-c2spo-subject: 17.341\n"
     ]
    },
    {
     "name": "stderr",
     "output_type": "stream",
     "text": [
      "100%|██████████████████████████████████████| 116/116 [00:00<00:00, 28510.94it/s]\n"
     ]
    },
    {
     "name": "stdout",
     "output_type": "stream",
     "text": [
      "bart-ft-c4spo-subject: 29.767\n",
      "bart-ft-c4spo-subject: 18.499\n"
     ]
    },
    {
     "name": "stderr",
     "output_type": "stream",
     "text": [
      "100%|██████████████████████████████████████| 116/116 [00:00<00:00, 27209.85it/s]\n"
     ]
    },
    {
     "name": "stdout",
     "output_type": "stream",
     "text": [
      "bart-ft-c2spo-target-phrase: 19.295\n",
      "bart-ft-c2spo-target-phrase: 6.959\n"
     ]
    },
    {
     "name": "stderr",
     "output_type": "stream",
     "text": [
      "100%|██████████████████████████████████████| 116/116 [00:00<00:00, 28814.88it/s]\n"
     ]
    },
    {
     "name": "stdout",
     "output_type": "stream",
     "text": [
      "bart-ft-c4spo-target-phrase: 19.756\n",
      "bart-ft-c4spo-target-phrase: 7.179\n"
     ]
    },
    {
     "name": "stderr",
     "output_type": "stream",
     "text": [
      "100%|██████████████████████████████████████| 116/116 [00:00<00:00, 28318.45it/s]\n"
     ]
    },
    {
     "name": "stdout",
     "output_type": "stream",
     "text": [
      "bart-ft-c2spo-target-sent: 17.935\n",
      "bart-ft-c2spo-target-sent: 3.81\n"
     ]
    },
    {
     "name": "stderr",
     "output_type": "stream",
     "text": [
      "100%|██████████████████████████████████████| 116/116 [00:00<00:00, 28288.81it/s]\n"
     ]
    },
    {
     "name": "stdout",
     "output_type": "stream",
     "text": [
      "bart-ft-c4spo-target-sent: 18.626\n",
      "bart-ft-c4spo-target-sent: 6.064\n"
     ]
    },
    {
     "name": "stderr",
     "output_type": "stream",
     "text": [
      "100%|██████████████████████████████████████| 116/116 [00:00<00:00, 26456.73it/s]\n"
     ]
    },
    {
     "name": "stdout",
     "output_type": "stream",
     "text": [
      "bart-ft-cso-target-sent-target: 19.287\n",
      "bart-ft-cso-target-sent-target: 5.283\n"
     ]
    },
    {
     "name": "stderr",
     "output_type": "stream",
     "text": [
      "100%|██████████████████████████████████████| 116/116 [00:00<00:00, 31683.98it/s]\n"
     ]
    },
    {
     "name": "stdout",
     "output_type": "stream",
     "text": [
      "bart-ft-c2spo-target-sent-target: 20.138\n",
      "bart-ft-c2spo-target-sent-target: 7.722\n"
     ]
    },
    {
     "name": "stderr",
     "output_type": "stream",
     "text": [
      "100%|██████████████████████████████████████| 116/116 [00:00<00:00, 30909.04it/s]\n"
     ]
    },
    {
     "name": "stdout",
     "output_type": "stream",
     "text": [
      "bart-ft-c4spo-target-sent-target: 19.709\n",
      "bart-ft-c4spo-target-sent-target: 7.53\n"
     ]
    },
    {
     "name": "stderr",
     "output_type": "stream",
     "text": [
      "100%|██████████████████████████████████████| 116/116 [00:00<00:00, 28554.45it/s]\n"
     ]
    },
    {
     "name": "stdout",
     "output_type": "stream",
     "text": [
      "bart-ft-cso-target-sent-subject: 30.57\n",
      "bart-ft-cso-target-sent-subject: 18.909\n"
     ]
    },
    {
     "name": "stderr",
     "output_type": "stream",
     "text": [
      "100%|██████████████████████████████████████| 116/116 [00:00<00:00, 30246.13it/s]\n"
     ]
    },
    {
     "name": "stdout",
     "output_type": "stream",
     "text": [
      "bart-ft-c2spo-target-sent-subject: 29.786\n",
      "bart-ft-c2spo-target-sent-subject: 18.353\n"
     ]
    },
    {
     "name": "stderr",
     "output_type": "stream",
     "text": [
      "100%|██████████████████████████████████████| 116/116 [00:00<00:00, 33176.90it/s]\n"
     ]
    },
    {
     "name": "stdout",
     "output_type": "stream",
     "text": [
      "bart-ft-c4spo-target-sent-subject: 32.098\n",
      "bart-ft-c4spo-target-sent-subject: 20.242\n",
      "Results saved for bart-ft\n"
     ]
    },
    {
     "name": "stderr",
     "output_type": "stream",
     "text": [
      "100%|██████████████████████████████████████| 116/116 [00:00<00:00, 23917.97it/s]\n"
     ]
    },
    {
     "name": "stdout",
     "output_type": "stream",
     "text": [
      "llama-instruct-few-shot-cso-base: 16.894\n",
      "llama-instruct-few-shot-cso-base: 3.454\n"
     ]
    },
    {
     "name": "stderr",
     "output_type": "stream",
     "text": [
      "100%|██████████████████████████████████████| 116/116 [00:00<00:00, 22497.89it/s]\n"
     ]
    },
    {
     "name": "stdout",
     "output_type": "stream",
     "text": [
      "llama-instruct-few-shot-c2spo-base: 13.904\n",
      "llama-instruct-few-shot-c2spo-base: 2.192\n"
     ]
    },
    {
     "name": "stderr",
     "output_type": "stream",
     "text": [
      "100%|██████████████████████████████████████| 116/116 [00:00<00:00, 23508.86it/s]\n"
     ]
    },
    {
     "name": "stdout",
     "output_type": "stream",
     "text": [
      "llama-instruct-few-shot-c4spo-base: 13.147\n",
      "llama-instruct-few-shot-c4spo-base: 1.519\n"
     ]
    },
    {
     "name": "stderr",
     "output_type": "stream",
     "text": [
      "100%|██████████████████████████████████████| 116/116 [00:00<00:00, 22688.83it/s]\n"
     ]
    },
    {
     "name": "stdout",
     "output_type": "stream",
     "text": [
      "llama-instruct-few-shot-c2spo-subject: 19.164\n",
      "llama-instruct-few-shot-c2spo-subject: 6.05\n"
     ]
    },
    {
     "name": "stderr",
     "output_type": "stream",
     "text": [
      "100%|██████████████████████████████████████| 116/116 [00:00<00:00, 25007.16it/s]\n"
     ]
    },
    {
     "name": "stdout",
     "output_type": "stream",
     "text": [
      "llama-instruct-few-shot-c4spo-subject: 21.659\n",
      "llama-instruct-few-shot-c4spo-subject: 8.436\n"
     ]
    },
    {
     "name": "stderr",
     "output_type": "stream",
     "text": [
      "100%|██████████████████████████████████████| 116/116 [00:00<00:00, 22141.59it/s]\n"
     ]
    },
    {
     "name": "stdout",
     "output_type": "stream",
     "text": [
      "llama-instruct-few-shot-c2spo-target-phrase: 17.8\n",
      "llama-instruct-few-shot-c2spo-target-phrase: 6.161\n"
     ]
    },
    {
     "name": "stderr",
     "output_type": "stream",
     "text": [
      "100%|██████████████████████████████████████| 116/116 [00:00<00:00, 23878.06it/s]\n"
     ]
    },
    {
     "name": "stdout",
     "output_type": "stream",
     "text": [
      "llama-instruct-few-shot-c4spo-target-phrase: 16.099\n",
      "llama-instruct-few-shot-c4spo-target-phrase: 4.862\n"
     ]
    },
    {
     "name": "stderr",
     "output_type": "stream",
     "text": [
      "100%|██████████████████████████████████████| 116/116 [00:00<00:00, 22763.14it/s]\n"
     ]
    },
    {
     "name": "stdout",
     "output_type": "stream",
     "text": [
      "llama-instruct-few-shot-c2spo-target-sent: 14.802\n",
      "llama-instruct-few-shot-c2spo-target-sent: 2.115\n"
     ]
    },
    {
     "name": "stderr",
     "output_type": "stream",
     "text": [
      "100%|██████████████████████████████████████| 116/116 [00:00<00:00, 23888.61it/s]\n"
     ]
    },
    {
     "name": "stdout",
     "output_type": "stream",
     "text": [
      "llama-instruct-few-shot-c4spo-target-sent: 13.832\n",
      "llama-instruct-few-shot-c4spo-target-sent: 2.062\n"
     ]
    },
    {
     "name": "stderr",
     "output_type": "stream",
     "text": [
      "100%|██████████████████████████████████████| 116/116 [00:00<00:00, 22902.43it/s]\n"
     ]
    },
    {
     "name": "stdout",
     "output_type": "stream",
     "text": [
      "llama-instruct-few-shot-cso-target-sent-target: 18.521\n",
      "llama-instruct-few-shot-cso-target-sent-target: 6.846\n"
     ]
    },
    {
     "name": "stderr",
     "output_type": "stream",
     "text": [
      "100%|██████████████████████████████████████| 116/116 [00:00<00:00, 23101.43it/s]\n"
     ]
    },
    {
     "name": "stdout",
     "output_type": "stream",
     "text": [
      "llama-instruct-few-shot-c2spo-target-sent-target: 14.342\n",
      "llama-instruct-few-shot-c2spo-target-sent-target: 2.681\n"
     ]
    },
    {
     "name": "stderr",
     "output_type": "stream",
     "text": [
      "100%|██████████████████████████████████████| 116/116 [00:00<00:00, 24451.67it/s]\n"
     ]
    },
    {
     "name": "stdout",
     "output_type": "stream",
     "text": [
      "llama-instruct-few-shot-c4spo-target-sent-target: 14.36\n",
      "llama-instruct-few-shot-c4spo-target-sent-target: 2.841\n"
     ]
    },
    {
     "name": "stderr",
     "output_type": "stream",
     "text": [
      "100%|██████████████████████████████████████| 116/116 [00:00<00:00, 22640.26it/s]\n"
     ]
    },
    {
     "name": "stdout",
     "output_type": "stream",
     "text": [
      "llama-instruct-few-shot-cso-target-sent-subject: 22.549\n",
      "llama-instruct-few-shot-cso-target-sent-subject: 9.723\n"
     ]
    },
    {
     "name": "stderr",
     "output_type": "stream",
     "text": [
      "100%|██████████████████████████████████████| 116/116 [00:00<00:00, 23145.39it/s]\n"
     ]
    },
    {
     "name": "stdout",
     "output_type": "stream",
     "text": [
      "llama-instruct-few-shot-c2spo-target-sent-subject: 18.823\n",
      "llama-instruct-few-shot-c2spo-target-sent-subject: 7.435\n"
     ]
    },
    {
     "name": "stderr",
     "output_type": "stream",
     "text": [
      "100%|██████████████████████████████████████| 116/116 [00:00<00:00, 25084.52it/s]\n"
     ]
    },
    {
     "name": "stdout",
     "output_type": "stream",
     "text": [
      "llama-instruct-few-shot-c4spo-target-sent-subject: 20.699\n",
      "llama-instruct-few-shot-c4spo-target-sent-subject: 7.653\n",
      "Results saved for llama-instruct-few-shot\n"
     ]
    }
   ],
   "source": [
    "from nltk.translate.bleu_score import corpus_bleu, SmoothingFunction\n",
    "from sacrebleu.tokenizers.tokenizer_13a import Tokenizer13a\n",
    "from tqdm import tqdm\n",
    "\n",
    "# 13a tokenizer\n",
    "tokenizer = Tokenizer13a()\n",
    "smoothing_function = SmoothingFunction().method1\n",
    "\n",
    "for model in models: \n",
    "    df_res = pd.read_csv(f\"data/results/{model}-results.csv\")\n",
    "    for setting_key, ds_values in setting_ds_dict.items():\n",
    "        for ds in ds_values:\n",
    "            \n",
    "            all_refs = []\n",
    "            all_preds = []\n",
    "            output_name = f\"{ds}-{setting_key}\"\n",
    "            df_gen = pd.read_csv(f\"data/gen_predictions/predictions_{model}-{output_name}.csv\")\n",
    "            \n",
    "            # Tokenize and collect references and predictions\n",
    "            for index, row in tqdm(df_gen.iterrows(), total=len(df_gen)):\n",
    "                ref = row['elaboration_sentence']\n",
    "                prediction = row['pred_elaboration'] # \"prediction\" for BART\n",
    "            \n",
    "                # Tokenize\n",
    "                tokenized_ref = tokenizer(ref).split()\n",
    "                tokenized_pred = tokenizer(prediction).split()\n",
    "                \n",
    "                all_refs.append([tokenized_ref]) \n",
    "                all_preds.append(tokenized_pred)\n",
    "            \n",
    "            bleu1_score = corpus_bleu(all_refs, all_preds, weights=(1.0, 0, 0, 0), smoothing_function=smoothing_function)  # 1-gram\n",
    "            bleu2_score = corpus_bleu(all_refs, all_preds, weights=(0.5, 0.5, 0, 0), smoothing_function=smoothing_function)  # 2-gram\n",
    "            bleu4_score = corpus_bleu(all_refs, all_preds, weights=(0.25, 0.25, 0.25, 0.25), smoothing_function=smoothing_function)  # 4-gram\n",
    "            \n",
    "            idx = df_res.index[df_res[\"dataset\"] == ds].tolist()[0]\n",
    "            df_res.at[idx, f\"{setting_key}-b1\"] = round(bleu1_score*100,3)\n",
    "            df_res.at[idx, f\"{setting_key}-b2\"] = round(bleu2_score*100,3)\n",
    "            print(f\"{model}-{ds}-{setting_key}: {round(bleu1_score*100,3)}\")\n",
    "            print(f\"{model}-{ds}-{setting_key}: {round(bleu2_score*100,3)}\")\n",
    "    \n",
    "    df_res.to_csv(f\"data/results/{model}-results.csv\",index=False)\n",
    "    print(f\"Results saved for {model}\")\n",
    "#print(f\"Corpus BLEU-1: {bleu1_score*100:.3f}\")\n",
    "#print(f\"Corpus BLEU-2: {bleu2_score*100:.3f}\")\n",
    "#print(f\"Corpus BLEU-4: {bleu4_score*100:.3f}\")"
   ]
  },
  {
   "cell_type": "markdown",
   "id": "d0c8c158-b794-4632-abab-f663775172fd",
   "metadata": {
    "jp-MarkdownHeadingCollapsed": true
   },
   "source": [
    "## Sentence bleu"
   ]
  },
  {
   "cell_type": "code",
   "execution_count": 45,
   "id": "d9afc752-4beb-4c50-afd4-a2375c16c867",
   "metadata": {},
   "outputs": [
    {
     "name": "stderr",
     "output_type": "stream",
     "text": [
      "100%|███████████████████████████████████████| 116/116 [00:00<00:00, 4293.61it/s]"
     ]
    },
    {
     "name": "stdout",
     "output_type": "stream",
     "text": [
      "Average BLEU-1 score: 16.922\n",
      "Average BLEU-2 score: 6.008\n",
      "Average BLEU-4 score: 3.106\n"
     ]
    },
    {
     "name": "stderr",
     "output_type": "stream",
     "text": [
      "\n"
     ]
    }
   ],
   "source": [
    "from nltk.translate.bleu_score import sentence_bleu\n",
    "from sacrebleu.tokenizers.tokenizer_13a import Tokenizer13a\n",
    "from transformers import BartTokenizer\n",
    "\n",
    "bleu_scores_1 = []\n",
    "bleu_scores_2 = []\n",
    "bleu_scores_4 = []\n",
    "\n",
    "# 13a tokenizer\n",
    "tokenizer = Tokenizer13a()\n",
    "# bart tokenizer\n",
    "#tokenizer_b = BartTokenizer.from_pretrained('facebook/bart-base',use_fast=False) \n",
    "\n",
    "smoothing_function = SmoothingFunction().method1\n",
    "\n",
    "for index, row in tqdm(df_gen.iterrows(), total=len(df_gen)):\n",
    "    ref = row['elaboration_sentence']\n",
    "    prediction = row['pred_elaboration']\n",
    "\n",
    "    # tokenize\n",
    "    tokenized_ref = tokenizer(ref).split()\n",
    "    tokenized_pred = tokenizer(prediction).split()\n",
    "    #tokenized_ref = tokenizer_b(ref)[\"input_ids\"]\n",
    "    #tokenized_pred = tokenizer_b(prediction)[\"input_ids\"]\n",
    "        \n",
    "    bleu_score_1 = sentence_bleu([tokenized_ref],tokenized_pred,weights=(1, 0, 0, 0),smoothing_function=smoothing_function) # 1-gram\n",
    "    bleu_score_2 = sentence_bleu([tokenized_ref],tokenized_pred,weights=(0.5, 0.5, 0, 0), smoothing_function=smoothing_function) # 2-gram\n",
    "    bleu_score_4 = sentence_bleu([tokenized_ref],tokenized_pred,weights=(0.25, 0.25, 0.25, 0.25), smoothing_function=smoothing_function) # 4-gram\n",
    "    bleu_scores_1.append(bleu_score_1)\n",
    "    bleu_scores_2.append(bleu_score_2)\n",
    "    bleu_scores_4.append(bleu_score_4)\n",
    "\n",
    "import numpy as np\n",
    "print(f\"Average BLEU-1 score: {np.mean(bleu_scores_1)*100:.3f}\")\n",
    "print(f\"Average BLEU-2 score: {np.mean(bleu_scores_2)*100:.3f}\")\n",
    "print(f\"Average BLEU-4 score: {np.mean(bleu_scores_4)*100:.3f}\")"
   ]
  },
  {
   "cell_type": "code",
   "execution_count": null,
   "id": "2287fea0-fcbe-451e-b08a-6583c6a51751",
   "metadata": {},
   "outputs": [],
   "source": [
    "df_results = pd.DataFrame({\n",
    "    'elaboration_sentence': df_gen['elaboration_sentence'],\n",
    "    'pred_elaboration': df_gen['pred_elaboration'],\n",
    "    'bleu-1': bleu_scores_1,\n",
    "    'bleu-2': bleu_scores_2,\n",
    "})"
   ]
  },
  {
   "cell_type": "markdown",
   "id": "360d3f12-d76c-4a6a-b0c9-ecbd5b6f8680",
   "metadata": {},
   "source": [
    "# BERTScore"
   ]
  },
  {
   "cell_type": "code",
   "execution_count": 16,
   "id": "1be5f7b1-d0a0-4b93-9834-5b103dccb8ce",
   "metadata": {},
   "outputs": [
    {
     "data": {
      "application/vnd.jupyter.widget-view+json": {
       "model_id": "9070f619a3d445d98f92dbc4fb7680c0",
       "version_major": 2,
       "version_minor": 0
      },
      "text/plain": [
       "  0%|          | 0/116 [00:00<?, ?it/s]"
      ]
     },
     "metadata": {},
     "output_type": "display_data"
    },
    {
     "name": "stdout",
     "output_type": "stream",
     "text": [
      "llama-ft-cso-base: 0.453\n"
     ]
    },
    {
     "data": {
      "application/vnd.jupyter.widget-view+json": {
       "model_id": "421162ca00b34d7d8b1df2816d0c0aa2",
       "version_major": 2,
       "version_minor": 0
      },
      "text/plain": [
       "  0%|          | 0/116 [00:00<?, ?it/s]"
      ]
     },
     "metadata": {},
     "output_type": "display_data"
    },
    {
     "name": "stdout",
     "output_type": "stream",
     "text": [
      "llama-ft-c2spo-subject: 0.542\n"
     ]
    },
    {
     "data": {
      "application/vnd.jupyter.widget-view+json": {
       "model_id": "af2bb35375ef42ebaa82e2237fe03e50",
       "version_major": 2,
       "version_minor": 0
      },
      "text/plain": [
       "  0%|          | 0/116 [00:00<?, ?it/s]"
      ]
     },
     "metadata": {},
     "output_type": "display_data"
    },
    {
     "name": "stdout",
     "output_type": "stream",
     "text": [
      "llama-ft-c4spo-subject: 0.556\n"
     ]
    },
    {
     "data": {
      "application/vnd.jupyter.widget-view+json": {
       "model_id": "ab146501831f414da332313e1a41b0bd",
       "version_major": 2,
       "version_minor": 0
      },
      "text/plain": [
       "  0%|          | 0/116 [00:00<?, ?it/s]"
      ]
     },
     "metadata": {},
     "output_type": "display_data"
    },
    {
     "name": "stdout",
     "output_type": "stream",
     "text": [
      "llama-ft-c2spo-target-phrase: 0.493\n"
     ]
    },
    {
     "data": {
      "application/vnd.jupyter.widget-view+json": {
       "model_id": "68f2aa1dd569435d96c945d8d5838674",
       "version_major": 2,
       "version_minor": 0
      },
      "text/plain": [
       "  0%|          | 0/116 [00:00<?, ?it/s]"
      ]
     },
     "metadata": {},
     "output_type": "display_data"
    },
    {
     "name": "stdout",
     "output_type": "stream",
     "text": [
      "llama-ft-c4spo-target-phrase: 0.5\n"
     ]
    },
    {
     "data": {
      "application/vnd.jupyter.widget-view+json": {
       "model_id": "9dd3c8efe7a046b3ae23ad57618c94e1",
       "version_major": 2,
       "version_minor": 0
      },
      "text/plain": [
       "  0%|          | 0/116 [00:00<?, ?it/s]"
      ]
     },
     "metadata": {},
     "output_type": "display_data"
    },
    {
     "name": "stdout",
     "output_type": "stream",
     "text": [
      "llama-ft-c2spo-target-sent: 0.459\n"
     ]
    },
    {
     "data": {
      "application/vnd.jupyter.widget-view+json": {
       "model_id": "dff01f997b304edc8d17d1e14b4f0abf",
       "version_major": 2,
       "version_minor": 0
      },
      "text/plain": [
       "  0%|          | 0/116 [00:00<?, ?it/s]"
      ]
     },
     "metadata": {},
     "output_type": "display_data"
    },
    {
     "name": "stdout",
     "output_type": "stream",
     "text": [
      "llama-ft-c4spo-target-sent: 0.463\n"
     ]
    },
    {
     "data": {
      "application/vnd.jupyter.widget-view+json": {
       "model_id": "7dd6770d3a8c4d2786e81469c5c5e06d",
       "version_major": 2,
       "version_minor": 0
      },
      "text/plain": [
       "  0%|          | 0/116 [00:00<?, ?it/s]"
      ]
     },
     "metadata": {},
     "output_type": "display_data"
    },
    {
     "name": "stdout",
     "output_type": "stream",
     "text": [
      "llama-ft-cso-target-sent-target: 0.494\n"
     ]
    },
    {
     "data": {
      "application/vnd.jupyter.widget-view+json": {
       "model_id": "d4649f8c4a884ea88af2fbba5ca1a746",
       "version_major": 2,
       "version_minor": 0
      },
      "text/plain": [
       "  0%|          | 0/116 [00:00<?, ?it/s]"
      ]
     },
     "metadata": {},
     "output_type": "display_data"
    },
    {
     "name": "stdout",
     "output_type": "stream",
     "text": [
      "llama-ft-c2spo-target-sent-target: 0.495\n"
     ]
    },
    {
     "data": {
      "application/vnd.jupyter.widget-view+json": {
       "model_id": "3feb8b01c6aa4b438f4dd7f6064125c0",
       "version_major": 2,
       "version_minor": 0
      },
      "text/plain": [
       "  0%|          | 0/116 [00:00<?, ?it/s]"
      ]
     },
     "metadata": {},
     "output_type": "display_data"
    },
    {
     "name": "stdout",
     "output_type": "stream",
     "text": [
      "llama-ft-c4spo-target-sent-target: 0.501\n"
     ]
    },
    {
     "data": {
      "application/vnd.jupyter.widget-view+json": {
       "model_id": "4fcc4ceff97547c38a5bdd093fef1ee7",
       "version_major": 2,
       "version_minor": 0
      },
      "text/plain": [
       "  0%|          | 0/116 [00:00<?, ?it/s]"
      ]
     },
     "metadata": {},
     "output_type": "display_data"
    },
    {
     "name": "stdout",
     "output_type": "stream",
     "text": [
      "llama-ft-cso-target-sent-subject: 0.545\n"
     ]
    },
    {
     "data": {
      "application/vnd.jupyter.widget-view+json": {
       "model_id": "d7116f97a5304e1d842eefc092ee1ee8",
       "version_major": 2,
       "version_minor": 0
      },
      "text/plain": [
       "  0%|          | 0/116 [00:00<?, ?it/s]"
      ]
     },
     "metadata": {},
     "output_type": "display_data"
    },
    {
     "name": "stdout",
     "output_type": "stream",
     "text": [
      "llama-ft-c2spo-target-sent-subject: 0.539\n"
     ]
    },
    {
     "data": {
      "application/vnd.jupyter.widget-view+json": {
       "model_id": "ded6fe97ceaa44a3869714808f1d293e",
       "version_major": 2,
       "version_minor": 0
      },
      "text/plain": [
       "  0%|          | 0/116 [00:00<?, ?it/s]"
      ]
     },
     "metadata": {},
     "output_type": "display_data"
    },
    {
     "name": "stdout",
     "output_type": "stream",
     "text": [
      "llama-ft-c4spo-target-sent-subject: 0.553\n",
      "Results saved for llama-ft\n"
     ]
    },
    {
     "data": {
      "application/vnd.jupyter.widget-view+json": {
       "model_id": "c9ec6801143144f6aa6c944f72478192",
       "version_major": 2,
       "version_minor": 0
      },
      "text/plain": [
       "  0%|          | 0/116 [00:00<?, ?it/s]"
      ]
     },
     "metadata": {},
     "output_type": "display_data"
    },
    {
     "name": "stdout",
     "output_type": "stream",
     "text": [
      "bart-ft-cso-base: 0.454\n"
     ]
    },
    {
     "data": {
      "application/vnd.jupyter.widget-view+json": {
       "model_id": "7772e8c85fb340eaa1cb852e1f114395",
       "version_major": 2,
       "version_minor": 0
      },
      "text/plain": [
       "  0%|          | 0/116 [00:00<?, ?it/s]"
      ]
     },
     "metadata": {},
     "output_type": "display_data"
    },
    {
     "name": "stdout",
     "output_type": "stream",
     "text": [
      "bart-ft-c2spo-subject: 0.559\n"
     ]
    },
    {
     "data": {
      "application/vnd.jupyter.widget-view+json": {
       "model_id": "62cafef787844564bfae2a87f93eff0c",
       "version_major": 2,
       "version_minor": 0
      },
      "text/plain": [
       "  0%|          | 0/116 [00:00<?, ?it/s]"
      ]
     },
     "metadata": {},
     "output_type": "display_data"
    },
    {
     "name": "stdout",
     "output_type": "stream",
     "text": [
      "bart-ft-c4spo-subject: 0.561\n"
     ]
    },
    {
     "data": {
      "application/vnd.jupyter.widget-view+json": {
       "model_id": "9b54e9432e264a74bd001b9c160d596f",
       "version_major": 2,
       "version_minor": 0
      },
      "text/plain": [
       "  0%|          | 0/116 [00:00<?, ?it/s]"
      ]
     },
     "metadata": {},
     "output_type": "display_data"
    },
    {
     "name": "stdout",
     "output_type": "stream",
     "text": [
      "bart-ft-c2spo-target-phrase: 0.487\n"
     ]
    },
    {
     "data": {
      "application/vnd.jupyter.widget-view+json": {
       "model_id": "ea4ca45a0d484a03a0891e94ab0fe18d",
       "version_major": 2,
       "version_minor": 0
      },
      "text/plain": [
       "  0%|          | 0/116 [00:00<?, ?it/s]"
      ]
     },
     "metadata": {},
     "output_type": "display_data"
    },
    {
     "name": "stdout",
     "output_type": "stream",
     "text": [
      "bart-ft-c4spo-target-phrase: 0.482\n"
     ]
    },
    {
     "data": {
      "application/vnd.jupyter.widget-view+json": {
       "model_id": "727211b8a1fd4aefbd866a9df47cb9e6",
       "version_major": 2,
       "version_minor": 0
      },
      "text/plain": [
       "  0%|          | 0/116 [00:00<?, ?it/s]"
      ]
     },
     "metadata": {},
     "output_type": "display_data"
    },
    {
     "name": "stdout",
     "output_type": "stream",
     "text": [
      "bart-ft-c2spo-target-sent: 0.445\n"
     ]
    },
    {
     "data": {
      "application/vnd.jupyter.widget-view+json": {
       "model_id": "27adbee625c942ddbe091a84d31d89b2",
       "version_major": 2,
       "version_minor": 0
      },
      "text/plain": [
       "  0%|          | 0/116 [00:00<?, ?it/s]"
      ]
     },
     "metadata": {},
     "output_type": "display_data"
    },
    {
     "name": "stdout",
     "output_type": "stream",
     "text": [
      "bart-ft-c4spo-target-sent: 0.458\n"
     ]
    },
    {
     "data": {
      "application/vnd.jupyter.widget-view+json": {
       "model_id": "f65d54754614421c92913dc76e84de39",
       "version_major": 2,
       "version_minor": 0
      },
      "text/plain": [
       "  0%|          | 0/116 [00:00<?, ?it/s]"
      ]
     },
     "metadata": {},
     "output_type": "display_data"
    },
    {
     "name": "stdout",
     "output_type": "stream",
     "text": [
      "bart-ft-cso-target-sent-target: 0.482\n"
     ]
    },
    {
     "data": {
      "application/vnd.jupyter.widget-view+json": {
       "model_id": "d0e88918f7aa4d76bc631b882e5c0213",
       "version_major": 2,
       "version_minor": 0
      },
      "text/plain": [
       "  0%|          | 0/116 [00:00<?, ?it/s]"
      ]
     },
     "metadata": {},
     "output_type": "display_data"
    },
    {
     "name": "stdout",
     "output_type": "stream",
     "text": [
      "bart-ft-c2spo-target-sent-target: 0.492\n"
     ]
    },
    {
     "data": {
      "application/vnd.jupyter.widget-view+json": {
       "model_id": "84c625a778504993b6e5a1001c5aab03",
       "version_major": 2,
       "version_minor": 0
      },
      "text/plain": [
       "  0%|          | 0/116 [00:00<?, ?it/s]"
      ]
     },
     "metadata": {},
     "output_type": "display_data"
    },
    {
     "name": "stdout",
     "output_type": "stream",
     "text": [
      "bart-ft-c4spo-target-sent-target: 0.488\n"
     ]
    },
    {
     "data": {
      "application/vnd.jupyter.widget-view+json": {
       "model_id": "e255dea2110d41bbab938c979cb331f7",
       "version_major": 2,
       "version_minor": 0
      },
      "text/plain": [
       "  0%|          | 0/116 [00:00<?, ?it/s]"
      ]
     },
     "metadata": {},
     "output_type": "display_data"
    },
    {
     "name": "stdout",
     "output_type": "stream",
     "text": [
      "bart-ft-cso-target-sent-subject: 0.563\n"
     ]
    },
    {
     "data": {
      "application/vnd.jupyter.widget-view+json": {
       "model_id": "4dff699cd39e478fafa87b846ff714f5",
       "version_major": 2,
       "version_minor": 0
      },
      "text/plain": [
       "  0%|          | 0/116 [00:00<?, ?it/s]"
      ]
     },
     "metadata": {},
     "output_type": "display_data"
    },
    {
     "name": "stdout",
     "output_type": "stream",
     "text": [
      "bart-ft-c2spo-target-sent-subject: 0.571\n"
     ]
    },
    {
     "data": {
      "application/vnd.jupyter.widget-view+json": {
       "model_id": "ad2fb421af114a0393fb2fea5d17786c",
       "version_major": 2,
       "version_minor": 0
      },
      "text/plain": [
       "  0%|          | 0/116 [00:00<?, ?it/s]"
      ]
     },
     "metadata": {},
     "output_type": "display_data"
    },
    {
     "name": "stdout",
     "output_type": "stream",
     "text": [
      "bart-ft-c4spo-target-sent-subject: 0.58\n",
      "Results saved for bart-ft\n"
     ]
    },
    {
     "data": {
      "application/vnd.jupyter.widget-view+json": {
       "model_id": "932a935d43e8464080a6a1379ed9e1e6",
       "version_major": 2,
       "version_minor": 0
      },
      "text/plain": [
       "  0%|          | 0/116 [00:00<?, ?it/s]"
      ]
     },
     "metadata": {},
     "output_type": "display_data"
    },
    {
     "name": "stdout",
     "output_type": "stream",
     "text": [
      "llama-instruct-few-shot-cso-base: 0.461\n"
     ]
    },
    {
     "data": {
      "application/vnd.jupyter.widget-view+json": {
       "model_id": "e14e5f0029ec4955bd525b87c74ff795",
       "version_major": 2,
       "version_minor": 0
      },
      "text/plain": [
       "  0%|          | 0/116 [00:00<?, ?it/s]"
      ]
     },
     "metadata": {},
     "output_type": "display_data"
    },
    {
     "name": "stdout",
     "output_type": "stream",
     "text": [
      "llama-instruct-few-shot-c2spo-subject: 0.491\n"
     ]
    },
    {
     "data": {
      "application/vnd.jupyter.widget-view+json": {
       "model_id": "6f2722d39c824e728b913f6b3bb2a0bd",
       "version_major": 2,
       "version_minor": 0
      },
      "text/plain": [
       "  0%|          | 0/116 [00:00<?, ?it/s]"
      ]
     },
     "metadata": {},
     "output_type": "display_data"
    },
    {
     "name": "stdout",
     "output_type": "stream",
     "text": [
      "llama-instruct-few-shot-c4spo-subject: 0.503\n"
     ]
    },
    {
     "data": {
      "application/vnd.jupyter.widget-view+json": {
       "model_id": "e7b3254accac474297269c7e2cf30b5e",
       "version_major": 2,
       "version_minor": 0
      },
      "text/plain": [
       "  0%|          | 0/116 [00:00<?, ?it/s]"
      ]
     },
     "metadata": {},
     "output_type": "display_data"
    },
    {
     "name": "stdout",
     "output_type": "stream",
     "text": [
      "llama-instruct-few-shot-c2spo-target-phrase: 0.486\n"
     ]
    },
    {
     "data": {
      "application/vnd.jupyter.widget-view+json": {
       "model_id": "0b6b10f7dea04774914ca4438af58534",
       "version_major": 2,
       "version_minor": 0
      },
      "text/plain": [
       "  0%|          | 0/116 [00:00<?, ?it/s]"
      ]
     },
     "metadata": {},
     "output_type": "display_data"
    },
    {
     "name": "stdout",
     "output_type": "stream",
     "text": [
      "llama-instruct-few-shot-c4spo-target-phrase: 0.481\n"
     ]
    },
    {
     "data": {
      "application/vnd.jupyter.widget-view+json": {
       "model_id": "b7c4a960a1254765af26012bb886d73c",
       "version_major": 2,
       "version_minor": 0
      },
      "text/plain": [
       "  0%|          | 0/116 [00:00<?, ?it/s]"
      ]
     },
     "metadata": {},
     "output_type": "display_data"
    },
    {
     "name": "stdout",
     "output_type": "stream",
     "text": [
      "llama-instruct-few-shot-c2spo-target-sent: 0.458\n"
     ]
    },
    {
     "data": {
      "application/vnd.jupyter.widget-view+json": {
       "model_id": "0a607137ff2f4e5699f222b3d3d84e0e",
       "version_major": 2,
       "version_minor": 0
      },
      "text/plain": [
       "  0%|          | 0/116 [00:00<?, ?it/s]"
      ]
     },
     "metadata": {},
     "output_type": "display_data"
    },
    {
     "name": "stdout",
     "output_type": "stream",
     "text": [
      "llama-instruct-few-shot-c4spo-target-sent: 0.453\n"
     ]
    },
    {
     "data": {
      "application/vnd.jupyter.widget-view+json": {
       "model_id": "4c4cc65dd895484c983c49a042679eea",
       "version_major": 2,
       "version_minor": 0
      },
      "text/plain": [
       "  0%|          | 0/116 [00:00<?, ?it/s]"
      ]
     },
     "metadata": {},
     "output_type": "display_data"
    },
    {
     "name": "stdout",
     "output_type": "stream",
     "text": [
      "llama-instruct-few-shot-cso-target-sent-target: 0.484\n"
     ]
    },
    {
     "data": {
      "application/vnd.jupyter.widget-view+json": {
       "model_id": "e84b3928c7504d1e93f0b89ed653e7df",
       "version_major": 2,
       "version_minor": 0
      },
      "text/plain": [
       "  0%|          | 0/116 [00:00<?, ?it/s]"
      ]
     },
     "metadata": {},
     "output_type": "display_data"
    },
    {
     "name": "stdout",
     "output_type": "stream",
     "text": [
      "llama-instruct-few-shot-c2spo-target-sent-target: 0.463\n"
     ]
    },
    {
     "data": {
      "application/vnd.jupyter.widget-view+json": {
       "model_id": "e82dc57104dc45fbbea00f0c81e0e83c",
       "version_major": 2,
       "version_minor": 0
      },
      "text/plain": [
       "  0%|          | 0/116 [00:00<?, ?it/s]"
      ]
     },
     "metadata": {},
     "output_type": "display_data"
    },
    {
     "name": "stdout",
     "output_type": "stream",
     "text": [
      "llama-instruct-few-shot-c4spo-target-sent-target: 0.461\n"
     ]
    },
    {
     "data": {
      "application/vnd.jupyter.widget-view+json": {
       "model_id": "eed76d07001347f6b1bb2e58103d0ee4",
       "version_major": 2,
       "version_minor": 0
      },
      "text/plain": [
       "  0%|          | 0/116 [00:00<?, ?it/s]"
      ]
     },
     "metadata": {},
     "output_type": "display_data"
    },
    {
     "name": "stdout",
     "output_type": "stream",
     "text": [
      "llama-instruct-few-shot-cso-target-sent-subject: 0.515\n"
     ]
    },
    {
     "data": {
      "application/vnd.jupyter.widget-view+json": {
       "model_id": "268fe0ebd84a4d53827dc817da92bf82",
       "version_major": 2,
       "version_minor": 0
      },
      "text/plain": [
       "  0%|          | 0/116 [00:00<?, ?it/s]"
      ]
     },
     "metadata": {},
     "output_type": "display_data"
    },
    {
     "name": "stdout",
     "output_type": "stream",
     "text": [
      "llama-instruct-few-shot-c2spo-target-sent-subject: 0.492\n"
     ]
    },
    {
     "data": {
      "application/vnd.jupyter.widget-view+json": {
       "model_id": "9d0c703f4bee4093b59706a1a29abd8b",
       "version_major": 2,
       "version_minor": 0
      },
      "text/plain": [
       "  0%|          | 0/116 [00:00<?, ?it/s]"
      ]
     },
     "metadata": {},
     "output_type": "display_data"
    },
    {
     "name": "stdout",
     "output_type": "stream",
     "text": [
      "llama-instruct-few-shot-c4spo-target-sent-subject: 0.506\n",
      "Results saved for llama-instruct-few-shot\n"
     ]
    }
   ],
   "source": [
    "from tqdm.notebook import tqdm\n",
    "from bert_score import BERTScorer\n",
    "import numpy as np\n",
    "from transformers import logging\n",
    "\n",
    "# suppress warnings\n",
    "#logging.set_verbosity_error()\n",
    "\n",
    "scorer = BERTScorer(model_type='bert-base-uncased',device='cuda:0')\n",
    "\n",
    "for model in models: \n",
    "    df_res = pd.read_csv(f\"data/results/{model}-results.csv\")\n",
    "    for setting_key, ds_values in setting_ds_dict.items():\n",
    "        for ds in ds_values:\n",
    "            bert_scores_precision = []\n",
    "            bert_scores_recall = []\n",
    "            bert_scores_f1 = []\n",
    "            output_name = f\"{ds}-{setting_key}\"\n",
    "            df_gen = pd.read_csv(f\"data/gen_predictions/predictions_{model}-{output_name}.csv\")\n",
    "\n",
    "            for index, row in tqdm(df_gen.iterrows(), total=len(df_gen)):\n",
    "                elaboration = row['elaboration_sentence']\n",
    "                prediction = row['pred_elaboration']\n",
    "                \n",
    "                #  BERTScore for this pair\n",
    "                P, R, F1 = scorer.score(\n",
    "                    cands=[prediction],  \n",
    "                    refs=[elaboration],              \n",
    "                )\n",
    "                \n",
    "                bert_scores_precision.append(P.mean().item())\n",
    "                bert_scores_recall.append(R.mean().item())\n",
    "                bert_scores_f1.append(F1.mean().item())\n",
    "\n",
    "            # average scores\n",
    "            avg_precision = np.mean(bert_scores_precision)\n",
    "            avg_recall = np.mean(bert_scores_recall)\n",
    "            avg_f1 = np.mean(bert_scores_f1)\n",
    "\n",
    "            idx = df_res.index[df_res[\"dataset\"] == ds].tolist()[0]\n",
    "            df_res.at[idx, f\"{setting_key}-bsprec\"] = round(avg_precision,3)\n",
    "            df_res.at[idx, f\"{setting_key}-bsrec\"] = round(avg_recall,3)\n",
    "            df_res.at[idx, f\"{setting_key}-bsf1\"] = round(avg_f1,3)\n",
    "            print(f\"{model}-{ds}-{setting_key}: {round(avg_f1,3)}\")\n",
    "\n",
    "    df_res.to_csv(f\"data/results/{model}-results.csv\",index=False)\n",
    "    print(f\"Results saved for {model}\")\n",
    "#print(f\"Average BERTScore Precision: {avg_precision:.3f}\")\n",
    "#print(f\"Average BERTScore Recall: {avg_recall:.3f}\")\n",
    "#print(f\"Average BERTScore F1: {avg_f1:.3f}\")"
   ]
  },
  {
   "cell_type": "markdown",
   "id": "bce7f11f-1b22-44da-a795-18d7c32ebf29",
   "metadata": {
    "jp-MarkdownHeadingCollapsed": true
   },
   "source": [
    "# BARTScore\n",
    "\n",
    "https://github.com/neulab/BARTScore"
   ]
  },
  {
   "cell_type": "code",
   "execution_count": 14,
   "id": "be4bdf9a-2abc-48d0-ae2f-bac7516bcc5e",
   "metadata": {},
   "outputs": [
    {
     "data": {
      "application/vnd.jupyter.widget-view+json": {
       "model_id": "db5714fa2bdc4ef89f19675aeb3820a8",
       "version_major": 2,
       "version_minor": 0
      },
      "text/plain": [
       "  0%|          | 0/116 [00:00<?, ?it/s]"
      ]
     },
     "metadata": {},
     "output_type": "display_data"
    },
    {
     "name": "stdout",
     "output_type": "stream",
     "text": [
      "llama-ft-cso-base: -3.542\n"
     ]
    },
    {
     "data": {
      "application/vnd.jupyter.widget-view+json": {
       "model_id": "2ea6ae9391b54bad8c33b9e17f24a9ea",
       "version_major": 2,
       "version_minor": 0
      },
      "text/plain": [
       "  0%|          | 0/116 [00:00<?, ?it/s]"
      ]
     },
     "metadata": {},
     "output_type": "display_data"
    },
    {
     "name": "stdout",
     "output_type": "stream",
     "text": [
      "llama-ft-c2spo-subject: -3.033\n"
     ]
    },
    {
     "data": {
      "application/vnd.jupyter.widget-view+json": {
       "model_id": "fb13752cdbb941a0b407bd0e2a47dc7b",
       "version_major": 2,
       "version_minor": 0
      },
      "text/plain": [
       "  0%|          | 0/116 [00:00<?, ?it/s]"
      ]
     },
     "metadata": {},
     "output_type": "display_data"
    },
    {
     "name": "stdout",
     "output_type": "stream",
     "text": [
      "llama-ft-c4spo-subject: -3.009\n"
     ]
    },
    {
     "data": {
      "application/vnd.jupyter.widget-view+json": {
       "model_id": "2b40ec0a00d74a4f8095b38df2c89fd2",
       "version_major": 2,
       "version_minor": 0
      },
      "text/plain": [
       "  0%|          | 0/116 [00:00<?, ?it/s]"
      ]
     },
     "metadata": {},
     "output_type": "display_data"
    },
    {
     "name": "stdout",
     "output_type": "stream",
     "text": [
      "llama-ft-c2spo-target-phrase: -3.36\n"
     ]
    },
    {
     "data": {
      "application/vnd.jupyter.widget-view+json": {
       "model_id": "9f62ab9b15b44c0aa359cb11ff7e8903",
       "version_major": 2,
       "version_minor": 0
      },
      "text/plain": [
       "  0%|          | 0/116 [00:00<?, ?it/s]"
      ]
     },
     "metadata": {},
     "output_type": "display_data"
    },
    {
     "name": "stdout",
     "output_type": "stream",
     "text": [
      "llama-ft-c4spo-target-phrase: -3.346\n"
     ]
    },
    {
     "data": {
      "application/vnd.jupyter.widget-view+json": {
       "model_id": "235c1f41933f4835b44ca8e99afcb0a7",
       "version_major": 2,
       "version_minor": 0
      },
      "text/plain": [
       "  0%|          | 0/116 [00:00<?, ?it/s]"
      ]
     },
     "metadata": {},
     "output_type": "display_data"
    },
    {
     "name": "stdout",
     "output_type": "stream",
     "text": [
      "llama-ft-c2spo-target-sent: -3.504\n"
     ]
    },
    {
     "data": {
      "application/vnd.jupyter.widget-view+json": {
       "model_id": "b0fdc8aad3ad4df88336545f5da2da8a",
       "version_major": 2,
       "version_minor": 0
      },
      "text/plain": [
       "  0%|          | 0/116 [00:00<?, ?it/s]"
      ]
     },
     "metadata": {},
     "output_type": "display_data"
    },
    {
     "name": "stdout",
     "output_type": "stream",
     "text": [
      "llama-ft-c4spo-target-sent: -3.49\n"
     ]
    },
    {
     "data": {
      "application/vnd.jupyter.widget-view+json": {
       "model_id": "7ec494bc38d6475fab244f9a5f007365",
       "version_major": 2,
       "version_minor": 0
      },
      "text/plain": [
       "  0%|          | 0/116 [00:00<?, ?it/s]"
      ]
     },
     "metadata": {},
     "output_type": "display_data"
    },
    {
     "name": "stdout",
     "output_type": "stream",
     "text": [
      "llama-ft-cso-target-sent-target: -3.372\n"
     ]
    },
    {
     "data": {
      "application/vnd.jupyter.widget-view+json": {
       "model_id": "2e855ac80ad34c5a95ef631a46a071c6",
       "version_major": 2,
       "version_minor": 0
      },
      "text/plain": [
       "  0%|          | 0/116 [00:00<?, ?it/s]"
      ]
     },
     "metadata": {},
     "output_type": "display_data"
    },
    {
     "name": "stdout",
     "output_type": "stream",
     "text": [
      "llama-ft-c2spo-target-sent-target: -3.367\n"
     ]
    },
    {
     "data": {
      "application/vnd.jupyter.widget-view+json": {
       "model_id": "3e2160c4d45141008c4ee1491d60d5a2",
       "version_major": 2,
       "version_minor": 0
      },
      "text/plain": [
       "  0%|          | 0/116 [00:00<?, ?it/s]"
      ]
     },
     "metadata": {},
     "output_type": "display_data"
    },
    {
     "name": "stdout",
     "output_type": "stream",
     "text": [
      "llama-ft-c4spo-target-sent-target: -3.362\n"
     ]
    },
    {
     "data": {
      "application/vnd.jupyter.widget-view+json": {
       "model_id": "e46d703539ff442eb628996cf30e5c1e",
       "version_major": 2,
       "version_minor": 0
      },
      "text/plain": [
       "  0%|          | 0/116 [00:00<?, ?it/s]"
      ]
     },
     "metadata": {},
     "output_type": "display_data"
    },
    {
     "name": "stdout",
     "output_type": "stream",
     "text": [
      "llama-ft-cso-target-sent-subject: -3.027\n"
     ]
    },
    {
     "data": {
      "application/vnd.jupyter.widget-view+json": {
       "model_id": "5c984a95da464bc0adfd2ff921826a12",
       "version_major": 2,
       "version_minor": 0
      },
      "text/plain": [
       "  0%|          | 0/116 [00:00<?, ?it/s]"
      ]
     },
     "metadata": {},
     "output_type": "display_data"
    },
    {
     "name": "stdout",
     "output_type": "stream",
     "text": [
      "llama-ft-c2spo-target-sent-subject: -3.081\n"
     ]
    },
    {
     "data": {
      "application/vnd.jupyter.widget-view+json": {
       "model_id": "d58b86ae8ae547889a3e67dd88890386",
       "version_major": 2,
       "version_minor": 0
      },
      "text/plain": [
       "  0%|          | 0/116 [00:00<?, ?it/s]"
      ]
     },
     "metadata": {},
     "output_type": "display_data"
    },
    {
     "name": "stdout",
     "output_type": "stream",
     "text": [
      "llama-ft-c4spo-target-sent-subject: -3.032\n",
      "Results saved for llama-ft\n"
     ]
    },
    {
     "data": {
      "application/vnd.jupyter.widget-view+json": {
       "model_id": "76af2cf26d36453fbde06b57f88770fe",
       "version_major": 2,
       "version_minor": 0
      },
      "text/plain": [
       "  0%|          | 0/116 [00:00<?, ?it/s]"
      ]
     },
     "metadata": {},
     "output_type": "display_data"
    },
    {
     "name": "stdout",
     "output_type": "stream",
     "text": [
      "bart-ft-cso-base: -3.498\n"
     ]
    },
    {
     "data": {
      "application/vnd.jupyter.widget-view+json": {
       "model_id": "cd6d23bba91448e69fcdc2d278ca9b2e",
       "version_major": 2,
       "version_minor": 0
      },
      "text/plain": [
       "  0%|          | 0/116 [00:00<?, ?it/s]"
      ]
     },
     "metadata": {},
     "output_type": "display_data"
    },
    {
     "name": "stdout",
     "output_type": "stream",
     "text": [
      "bart-ft-c2spo-subject: -3.002\n"
     ]
    },
    {
     "data": {
      "application/vnd.jupyter.widget-view+json": {
       "model_id": "5f02798276ea47ee909591b524e4eb09",
       "version_major": 2,
       "version_minor": 0
      },
      "text/plain": [
       "  0%|          | 0/116 [00:00<?, ?it/s]"
      ]
     },
     "metadata": {},
     "output_type": "display_data"
    },
    {
     "name": "stdout",
     "output_type": "stream",
     "text": [
      "bart-ft-c4spo-subject: -2.977\n"
     ]
    },
    {
     "data": {
      "application/vnd.jupyter.widget-view+json": {
       "model_id": "344e0c4c4e7840b1893b08ba522e69e1",
       "version_major": 2,
       "version_minor": 0
      },
      "text/plain": [
       "  0%|          | 0/116 [00:00<?, ?it/s]"
      ]
     },
     "metadata": {},
     "output_type": "display_data"
    },
    {
     "name": "stdout",
     "output_type": "stream",
     "text": [
      "bart-ft-c2spo-target-phrase: -3.421\n"
     ]
    },
    {
     "data": {
      "application/vnd.jupyter.widget-view+json": {
       "model_id": "d4e2653d154f4ecea415e913254fde24",
       "version_major": 2,
       "version_minor": 0
      },
      "text/plain": [
       "  0%|          | 0/116 [00:00<?, ?it/s]"
      ]
     },
     "metadata": {},
     "output_type": "display_data"
    },
    {
     "name": "stdout",
     "output_type": "stream",
     "text": [
      "bart-ft-c4spo-target-phrase: -3.409\n"
     ]
    },
    {
     "data": {
      "application/vnd.jupyter.widget-view+json": {
       "model_id": "90a4a6c1e089427d9ea2c197cae23905",
       "version_major": 2,
       "version_minor": 0
      },
      "text/plain": [
       "  0%|          | 0/116 [00:00<?, ?it/s]"
      ]
     },
     "metadata": {},
     "output_type": "display_data"
    },
    {
     "name": "stdout",
     "output_type": "stream",
     "text": [
      "bart-ft-c2spo-target-sent: -3.59\n"
     ]
    },
    {
     "data": {
      "application/vnd.jupyter.widget-view+json": {
       "model_id": "d6f26855149e4b6b929c114f50569faa",
       "version_major": 2,
       "version_minor": 0
      },
      "text/plain": [
       "  0%|          | 0/116 [00:00<?, ?it/s]"
      ]
     },
     "metadata": {},
     "output_type": "display_data"
    },
    {
     "name": "stdout",
     "output_type": "stream",
     "text": [
      "bart-ft-c4spo-target-sent: -3.519\n"
     ]
    },
    {
     "data": {
      "application/vnd.jupyter.widget-view+json": {
       "model_id": "cbfb356191cf497eb752570b5ebd40e4",
       "version_major": 2,
       "version_minor": 0
      },
      "text/plain": [
       "  0%|          | 0/116 [00:00<?, ?it/s]"
      ]
     },
     "metadata": {},
     "output_type": "display_data"
    },
    {
     "name": "stdout",
     "output_type": "stream",
     "text": [
      "bart-ft-cso-target-sent-target: -3.416\n"
     ]
    },
    {
     "data": {
      "application/vnd.jupyter.widget-view+json": {
       "model_id": "973615b635d44211b805aca6966ebb48",
       "version_major": 2,
       "version_minor": 0
      },
      "text/plain": [
       "  0%|          | 0/116 [00:00<?, ?it/s]"
      ]
     },
     "metadata": {},
     "output_type": "display_data"
    },
    {
     "name": "stdout",
     "output_type": "stream",
     "text": [
      "bart-ft-c2spo-target-sent-target: -3.383\n"
     ]
    },
    {
     "data": {
      "application/vnd.jupyter.widget-view+json": {
       "model_id": "594f0636e52048f080963845be26e391",
       "version_major": 2,
       "version_minor": 0
      },
      "text/plain": [
       "  0%|          | 0/116 [00:00<?, ?it/s]"
      ]
     },
     "metadata": {},
     "output_type": "display_data"
    },
    {
     "name": "stdout",
     "output_type": "stream",
     "text": [
      "bart-ft-c4spo-target-sent-target: -3.408\n"
     ]
    },
    {
     "data": {
      "application/vnd.jupyter.widget-view+json": {
       "model_id": "3863cbb193c14a05aaaaecea25143804",
       "version_major": 2,
       "version_minor": 0
      },
      "text/plain": [
       "  0%|          | 0/116 [00:00<?, ?it/s]"
      ]
     },
     "metadata": {},
     "output_type": "display_data"
    },
    {
     "name": "stdout",
     "output_type": "stream",
     "text": [
      "bart-ft-cso-target-sent-subject: -2.967\n"
     ]
    },
    {
     "data": {
      "application/vnd.jupyter.widget-view+json": {
       "model_id": "e7faa310793647089252b1f49c738504",
       "version_major": 2,
       "version_minor": 0
      },
      "text/plain": [
       "  0%|          | 0/116 [00:00<?, ?it/s]"
      ]
     },
     "metadata": {},
     "output_type": "display_data"
    },
    {
     "name": "stdout",
     "output_type": "stream",
     "text": [
      "bart-ft-c2spo-target-sent-subject: -2.995\n"
     ]
    },
    {
     "data": {
      "application/vnd.jupyter.widget-view+json": {
       "model_id": "072e2723f513426ca820e6d3a6b8e657",
       "version_major": 2,
       "version_minor": 0
      },
      "text/plain": [
       "  0%|          | 0/116 [00:00<?, ?it/s]"
      ]
     },
     "metadata": {},
     "output_type": "display_data"
    },
    {
     "name": "stdout",
     "output_type": "stream",
     "text": [
      "bart-ft-c4spo-target-sent-subject: -2.876\n",
      "Results saved for bart-ft\n"
     ]
    },
    {
     "data": {
      "application/vnd.jupyter.widget-view+json": {
       "model_id": "5a0f089ff76f4929955f1b95b7628188",
       "version_major": 2,
       "version_minor": 0
      },
      "text/plain": [
       "  0%|          | 0/116 [00:00<?, ?it/s]"
      ]
     },
     "metadata": {},
     "output_type": "display_data"
    },
    {
     "name": "stdout",
     "output_type": "stream",
     "text": [
      "llama-instruct-few-shot-cso-base: -3.692\n"
     ]
    },
    {
     "data": {
      "application/vnd.jupyter.widget-view+json": {
       "model_id": "0007acabea9b41b79d0388472a9449a7",
       "version_major": 2,
       "version_minor": 0
      },
      "text/plain": [
       "  0%|          | 0/116 [00:00<?, ?it/s]"
      ]
     },
     "metadata": {},
     "output_type": "display_data"
    },
    {
     "name": "stdout",
     "output_type": "stream",
     "text": [
      "llama-instruct-few-shot-c2spo-subject: -3.684\n"
     ]
    },
    {
     "data": {
      "application/vnd.jupyter.widget-view+json": {
       "model_id": "f77a5f60e6114699bd7d09a07ff75047",
       "version_major": 2,
       "version_minor": 0
      },
      "text/plain": [
       "  0%|          | 0/116 [00:00<?, ?it/s]"
      ]
     },
     "metadata": {},
     "output_type": "display_data"
    },
    {
     "name": "stdout",
     "output_type": "stream",
     "text": [
      "llama-instruct-few-shot-c4spo-subject: -3.618\n"
     ]
    },
    {
     "data": {
      "application/vnd.jupyter.widget-view+json": {
       "model_id": "8e48a257da824792839ff5ed0237f940",
       "version_major": 2,
       "version_minor": 0
      },
      "text/plain": [
       "  0%|          | 0/116 [00:00<?, ?it/s]"
      ]
     },
     "metadata": {},
     "output_type": "display_data"
    },
    {
     "name": "stdout",
     "output_type": "stream",
     "text": [
      "llama-instruct-few-shot-c2spo-target-phrase: -3.622\n"
     ]
    },
    {
     "data": {
      "application/vnd.jupyter.widget-view+json": {
       "model_id": "bbb3cca00d9f4c54a4d5f072b79c8e1a",
       "version_major": 2,
       "version_minor": 0
      },
      "text/plain": [
       "  0%|          | 0/116 [00:00<?, ?it/s]"
      ]
     },
     "metadata": {},
     "output_type": "display_data"
    },
    {
     "name": "stdout",
     "output_type": "stream",
     "text": [
      "llama-instruct-few-shot-c4spo-target-phrase: -3.657\n"
     ]
    },
    {
     "data": {
      "application/vnd.jupyter.widget-view+json": {
       "model_id": "4e9c6c9fcd434b4e8723a9c7e42c8dab",
       "version_major": 2,
       "version_minor": 0
      },
      "text/plain": [
       "  0%|          | 0/116 [00:00<?, ?it/s]"
      ]
     },
     "metadata": {},
     "output_type": "display_data"
    },
    {
     "name": "stdout",
     "output_type": "stream",
     "text": [
      "llama-instruct-few-shot-c2spo-target-sent: -3.772\n"
     ]
    },
    {
     "data": {
      "application/vnd.jupyter.widget-view+json": {
       "model_id": "a0832e30eab94eea943f289e9eb44acb",
       "version_major": 2,
       "version_minor": 0
      },
      "text/plain": [
       "  0%|          | 0/116 [00:00<?, ?it/s]"
      ]
     },
     "metadata": {},
     "output_type": "display_data"
    },
    {
     "name": "stdout",
     "output_type": "stream",
     "text": [
      "llama-instruct-few-shot-c4spo-target-sent: -3.805\n"
     ]
    },
    {
     "data": {
      "application/vnd.jupyter.widget-view+json": {
       "model_id": "8eff6d5169304068903c250b2a61365c",
       "version_major": 2,
       "version_minor": 0
      },
      "text/plain": [
       "  0%|          | 0/116 [00:00<?, ?it/s]"
      ]
     },
     "metadata": {},
     "output_type": "display_data"
    },
    {
     "name": "stdout",
     "output_type": "stream",
     "text": [
      "llama-instruct-few-shot-cso-target-sent-target: -3.539\n"
     ]
    },
    {
     "data": {
      "application/vnd.jupyter.widget-view+json": {
       "model_id": "7b88f89cd73b4e32b58a02f282bee012",
       "version_major": 2,
       "version_minor": 0
      },
      "text/plain": [
       "  0%|          | 0/116 [00:00<?, ?it/s]"
      ]
     },
     "metadata": {},
     "output_type": "display_data"
    },
    {
     "name": "stdout",
     "output_type": "stream",
     "text": [
      "llama-instruct-few-shot-c2spo-target-sent-target: -3.753\n"
     ]
    },
    {
     "data": {
      "application/vnd.jupyter.widget-view+json": {
       "model_id": "cc2c9171da2244b481d46f58681b3cec",
       "version_major": 2,
       "version_minor": 0
      },
      "text/plain": [
       "  0%|          | 0/116 [00:00<?, ?it/s]"
      ]
     },
     "metadata": {},
     "output_type": "display_data"
    },
    {
     "name": "stdout",
     "output_type": "stream",
     "text": [
      "llama-instruct-few-shot-c4spo-target-sent-target: -3.707\n"
     ]
    },
    {
     "data": {
      "application/vnd.jupyter.widget-view+json": {
       "model_id": "a72951acbb2b4a318b91921110f270e7",
       "version_major": 2,
       "version_minor": 0
      },
      "text/plain": [
       "  0%|          | 0/116 [00:00<?, ?it/s]"
      ]
     },
     "metadata": {},
     "output_type": "display_data"
    },
    {
     "name": "stdout",
     "output_type": "stream",
     "text": [
      "llama-instruct-few-shot-cso-target-sent-subject: -3.348\n"
     ]
    },
    {
     "data": {
      "application/vnd.jupyter.widget-view+json": {
       "model_id": "7296b5c1a5ad48d78468986d912bb29e",
       "version_major": 2,
       "version_minor": 0
      },
      "text/plain": [
       "  0%|          | 0/116 [00:00<?, ?it/s]"
      ]
     },
     "metadata": {},
     "output_type": "display_data"
    },
    {
     "name": "stdout",
     "output_type": "stream",
     "text": [
      "llama-instruct-few-shot-c2spo-target-sent-subject: -3.533\n"
     ]
    },
    {
     "data": {
      "application/vnd.jupyter.widget-view+json": {
       "model_id": "8a2b5314de1a49f28b680e21b2db8bfe",
       "version_major": 2,
       "version_minor": 0
      },
      "text/plain": [
       "  0%|          | 0/116 [00:00<?, ?it/s]"
      ]
     },
     "metadata": {},
     "output_type": "display_data"
    },
    {
     "name": "stdout",
     "output_type": "stream",
     "text": [
      "llama-instruct-few-shot-c4spo-target-sent-subject: -3.466\n",
      "Results saved for llama-instruct-few-shot\n"
     ]
    }
   ],
   "source": [
    "import sys\n",
    "import os\n",
    "parent_dir = os.path.abspath('..')\n",
    "sys.path.append(parent_dir)\n",
    "\n",
    "from utils.bart_score import BARTScorer\n",
    "from tqdm.notebook import tqdm\n",
    "import numpy as np\n",
    "\n",
    "bart_scorer = BARTScorer(device='cuda:0')\n",
    "\n",
    "for model in models: \n",
    "    df_res = pd.read_csv(f\"data/results/{model}-results.csv\")\n",
    "    for setting_key, ds_values in setting_ds_dict.items():\n",
    "        for ds in ds_values:\n",
    "            bart_scores = []\n",
    "            output_name = f\"{ds}-{setting_key}\"\n",
    "            df_gen = pd.read_csv(f\"data/gen_predictions/predictions_{model}-{output_name}.csv\")\n",
    "        \n",
    "            for index, row in tqdm(df_gen.iterrows(), total=len(df_gen)):\n",
    "                reference = row['elaboration_sentence']  # reference text (r)\n",
    "                hypothesis = row['pred_elaboration']    # generated text (h)\n",
    "                \n",
    "                # precision (r → h)\n",
    "                precision_score = bart_scorer.score(\n",
    "                    srcs=[reference],  # r as source\n",
    "                    tgts=[hypothesis], # h as target\n",
    "                    batch_size=1\n",
    "                )[0]\n",
    "                \n",
    "                # recall (h → r)\n",
    "                recall_score = bart_scorer.score(\n",
    "                    srcs=[hypothesis],  # h as source\n",
    "                    tgts=[reference],   # r as target\n",
    "                    batch_size=1\n",
    "                )[0]\n",
    "                \n",
    "                # f1 score as the average of precision and recall\n",
    "                f1_score = (precision_score + recall_score) / 2\n",
    "                bart_scores.append(f1_score)\n",
    "        \n",
    "            # average score\n",
    "            avg_score = np.mean(bart_scores)\n",
    "            idx = df_res.index[df_res[\"dataset\"] == ds].tolist()[0]\n",
    "            df_res.at[idx, f\"{setting_key}-bartscore\"] = round(avg_score,3)\n",
    "            print(f\"{model}-{ds}-{setting_key}: {round(avg_score,3)}\")\n",
    "    \n",
    "    df_res.to_csv(f\"data/results/{model}-results.csv\",index=False)\n",
    "    print(f\"Results saved for {model}\")"
   ]
  },
  {
   "cell_type": "markdown",
   "id": "89c47c65-4433-4c81-ba77-4739fe678a21",
   "metadata": {},
   "source": [
    "# Show results"
   ]
  },
  {
   "cell_type": "code",
   "execution_count": 20,
   "id": "66f7f255-2a60-4378-a948-2979f605f5c0",
   "metadata": {},
   "outputs": [
    {
     "data": {
      "text/html": [
       "<div>\n",
       "<style scoped>\n",
       "    .dataframe tbody tr th:only-of-type {\n",
       "        vertical-align: middle;\n",
       "    }\n",
       "\n",
       "    .dataframe tbody tr th {\n",
       "        vertical-align: top;\n",
       "    }\n",
       "\n",
       "    .dataframe thead th {\n",
       "        text-align: right;\n",
       "    }\n",
       "</style>\n",
       "<table border=\"1\" class=\"dataframe\">\n",
       "  <thead>\n",
       "    <tr style=\"text-align: right;\">\n",
       "      <th></th>\n",
       "      <th>dataset</th>\n",
       "      <th>base-b1</th>\n",
       "      <th>base-b2</th>\n",
       "      <th>masked-b1</th>\n",
       "      <th>masked-b2</th>\n",
       "      <th>subject-b1</th>\n",
       "      <th>subject-b2</th>\n",
       "      <th>target-phrase-b1</th>\n",
       "      <th>target-phrase-b2</th>\n",
       "      <th>target-sent-b1</th>\n",
       "      <th>...</th>\n",
       "      <th>target-sent-bsf1</th>\n",
       "      <th>target-sent-target-bsf1</th>\n",
       "      <th>target-sent-subject-bsf1</th>\n",
       "      <th>base-bartscore</th>\n",
       "      <th>masked-bartscore</th>\n",
       "      <th>subject-bartscore</th>\n",
       "      <th>target-phrase-bartscore</th>\n",
       "      <th>target-sent-bartscore</th>\n",
       "      <th>target-sent-target-bartscore</th>\n",
       "      <th>target-sent-subject-bartscore</th>\n",
       "    </tr>\n",
       "  </thead>\n",
       "  <tbody>\n",
       "    <tr>\n",
       "      <th>0</th>\n",
       "      <td>c2s</td>\n",
       "      <td>15.899</td>\n",
       "      <td>3.588</td>\n",
       "      <td>15.258</td>\n",
       "      <td>3.309</td>\n",
       "      <td>22.277</td>\n",
       "      <td>8.939</td>\n",
       "      <td>18.347</td>\n",
       "      <td>5.923</td>\n",
       "      <td>17.417</td>\n",
       "      <td>...</td>\n",
       "      <td>0.485</td>\n",
       "      <td>0.490</td>\n",
       "      <td>0.521</td>\n",
       "      <td>-3.778</td>\n",
       "      <td>-3.809</td>\n",
       "      <td>-3.487</td>\n",
       "      <td>-3.552</td>\n",
       "      <td>-3.549</td>\n",
       "      <td>-3.534</td>\n",
       "      <td>-3.293</td>\n",
       "    </tr>\n",
       "    <tr>\n",
       "      <th>1</th>\n",
       "      <td>c2sp</td>\n",
       "      <td>15.266</td>\n",
       "      <td>3.515</td>\n",
       "      <td>15.757</td>\n",
       "      <td>3.567</td>\n",
       "      <td>23.580</td>\n",
       "      <td>9.417</td>\n",
       "      <td>18.686</td>\n",
       "      <td>5.726</td>\n",
       "      <td>18.003</td>\n",
       "      <td>...</td>\n",
       "      <td>0.484</td>\n",
       "      <td>0.498</td>\n",
       "      <td>0.515</td>\n",
       "      <td>-3.849</td>\n",
       "      <td>-3.820</td>\n",
       "      <td>-3.475</td>\n",
       "      <td>-3.485</td>\n",
       "      <td>-3.546</td>\n",
       "      <td>-3.504</td>\n",
       "      <td>-3.364</td>\n",
       "    </tr>\n",
       "    <tr>\n",
       "      <th>2</th>\n",
       "      <td>c4s</td>\n",
       "      <td>15.712</td>\n",
       "      <td>2.912</td>\n",
       "      <td>14.908</td>\n",
       "      <td>4.157</td>\n",
       "      <td>22.771</td>\n",
       "      <td>8.681</td>\n",
       "      <td>17.560</td>\n",
       "      <td>5.348</td>\n",
       "      <td>18.005</td>\n",
       "      <td>...</td>\n",
       "      <td>0.484</td>\n",
       "      <td>0.487</td>\n",
       "      <td>0.518</td>\n",
       "      <td>-3.884</td>\n",
       "      <td>-3.788</td>\n",
       "      <td>-3.493</td>\n",
       "      <td>-3.577</td>\n",
       "      <td>-3.599</td>\n",
       "      <td>-3.551</td>\n",
       "      <td>-3.362</td>\n",
       "    </tr>\n",
       "    <tr>\n",
       "      <th>3</th>\n",
       "      <td>c4sp</td>\n",
       "      <td>15.233</td>\n",
       "      <td>1.652</td>\n",
       "      <td>16.923</td>\n",
       "      <td>4.930</td>\n",
       "      <td>23.323</td>\n",
       "      <td>9.918</td>\n",
       "      <td>18.652</td>\n",
       "      <td>5.758</td>\n",
       "      <td>16.861</td>\n",
       "      <td>...</td>\n",
       "      <td>0.481</td>\n",
       "      <td>0.499</td>\n",
       "      <td>0.517</td>\n",
       "      <td>-3.941</td>\n",
       "      <td>-3.943</td>\n",
       "      <td>-3.440</td>\n",
       "      <td>-3.516</td>\n",
       "      <td>-3.554</td>\n",
       "      <td>-3.464</td>\n",
       "      <td>-3.356</td>\n",
       "    </tr>\n",
       "    <tr>\n",
       "      <th>4</th>\n",
       "      <td>cs</td>\n",
       "      <td>19.650</td>\n",
       "      <td>6.692</td>\n",
       "      <td>NaN</td>\n",
       "      <td>NaN</td>\n",
       "      <td>NaN</td>\n",
       "      <td>NaN</td>\n",
       "      <td>NaN</td>\n",
       "      <td>NaN</td>\n",
       "      <td>NaN</td>\n",
       "      <td>...</td>\n",
       "      <td>NaN</td>\n",
       "      <td>0.481</td>\n",
       "      <td>0.518</td>\n",
       "      <td>-3.427</td>\n",
       "      <td>NaN</td>\n",
       "      <td>NaN</td>\n",
       "      <td>NaN</td>\n",
       "      <td>NaN</td>\n",
       "      <td>-3.481</td>\n",
       "      <td>-3.298</td>\n",
       "    </tr>\n",
       "    <tr>\n",
       "      <th>5</th>\n",
       "      <td>c2spo</td>\n",
       "      <td>13.904</td>\n",
       "      <td>2.192</td>\n",
       "      <td>NaN</td>\n",
       "      <td>NaN</td>\n",
       "      <td>19.164</td>\n",
       "      <td>6.050</td>\n",
       "      <td>17.800</td>\n",
       "      <td>6.161</td>\n",
       "      <td>14.802</td>\n",
       "      <td>...</td>\n",
       "      <td>0.458</td>\n",
       "      <td>0.463</td>\n",
       "      <td>0.492</td>\n",
       "      <td>-4.088</td>\n",
       "      <td>NaN</td>\n",
       "      <td>-3.684</td>\n",
       "      <td>-3.622</td>\n",
       "      <td>-3.772</td>\n",
       "      <td>-3.753</td>\n",
       "      <td>-3.533</td>\n",
       "    </tr>\n",
       "    <tr>\n",
       "      <th>6</th>\n",
       "      <td>c4spo</td>\n",
       "      <td>13.147</td>\n",
       "      <td>1.519</td>\n",
       "      <td>NaN</td>\n",
       "      <td>NaN</td>\n",
       "      <td>21.659</td>\n",
       "      <td>8.436</td>\n",
       "      <td>16.099</td>\n",
       "      <td>4.862</td>\n",
       "      <td>13.832</td>\n",
       "      <td>...</td>\n",
       "      <td>0.453</td>\n",
       "      <td>0.461</td>\n",
       "      <td>0.506</td>\n",
       "      <td>-4.087</td>\n",
       "      <td>NaN</td>\n",
       "      <td>-3.618</td>\n",
       "      <td>-3.657</td>\n",
       "      <td>-3.805</td>\n",
       "      <td>-3.707</td>\n",
       "      <td>-3.466</td>\n",
       "    </tr>\n",
       "    <tr>\n",
       "      <th>7</th>\n",
       "      <td>cso</td>\n",
       "      <td>16.894</td>\n",
       "      <td>3.454</td>\n",
       "      <td>NaN</td>\n",
       "      <td>NaN</td>\n",
       "      <td>NaN</td>\n",
       "      <td>NaN</td>\n",
       "      <td>NaN</td>\n",
       "      <td>NaN</td>\n",
       "      <td>NaN</td>\n",
       "      <td>...</td>\n",
       "      <td>NaN</td>\n",
       "      <td>0.484</td>\n",
       "      <td>0.515</td>\n",
       "      <td>-3.692</td>\n",
       "      <td>NaN</td>\n",
       "      <td>NaN</td>\n",
       "      <td>NaN</td>\n",
       "      <td>NaN</td>\n",
       "      <td>-3.539</td>\n",
       "      <td>-3.348</td>\n",
       "    </tr>\n",
       "  </tbody>\n",
       "</table>\n",
       "<p>8 rows × 43 columns</p>\n",
       "</div>"
      ],
      "text/plain": [
       "  dataset  base-b1  base-b2  masked-b1  masked-b2  subject-b1  subject-b2  \\\n",
       "0     c2s   15.899    3.588     15.258      3.309      22.277       8.939   \n",
       "1    c2sp   15.266    3.515     15.757      3.567      23.580       9.417   \n",
       "2     c4s   15.712    2.912     14.908      4.157      22.771       8.681   \n",
       "3    c4sp   15.233    1.652     16.923      4.930      23.323       9.918   \n",
       "4      cs   19.650    6.692        NaN        NaN         NaN         NaN   \n",
       "5   c2spo   13.904    2.192        NaN        NaN      19.164       6.050   \n",
       "6   c4spo   13.147    1.519        NaN        NaN      21.659       8.436   \n",
       "7     cso   16.894    3.454        NaN        NaN         NaN         NaN   \n",
       "\n",
       "   target-phrase-b1  target-phrase-b2  target-sent-b1  ...  target-sent-bsf1  \\\n",
       "0            18.347             5.923          17.417  ...             0.485   \n",
       "1            18.686             5.726          18.003  ...             0.484   \n",
       "2            17.560             5.348          18.005  ...             0.484   \n",
       "3            18.652             5.758          16.861  ...             0.481   \n",
       "4               NaN               NaN             NaN  ...               NaN   \n",
       "5            17.800             6.161          14.802  ...             0.458   \n",
       "6            16.099             4.862          13.832  ...             0.453   \n",
       "7               NaN               NaN             NaN  ...               NaN   \n",
       "\n",
       "   target-sent-target-bsf1  target-sent-subject-bsf1  base-bartscore  \\\n",
       "0                    0.490                     0.521          -3.778   \n",
       "1                    0.498                     0.515          -3.849   \n",
       "2                    0.487                     0.518          -3.884   \n",
       "3                    0.499                     0.517          -3.941   \n",
       "4                    0.481                     0.518          -3.427   \n",
       "5                    0.463                     0.492          -4.088   \n",
       "6                    0.461                     0.506          -4.087   \n",
       "7                    0.484                     0.515          -3.692   \n",
       "\n",
       "   masked-bartscore  subject-bartscore  target-phrase-bartscore  \\\n",
       "0            -3.809             -3.487                   -3.552   \n",
       "1            -3.820             -3.475                   -3.485   \n",
       "2            -3.788             -3.493                   -3.577   \n",
       "3            -3.943             -3.440                   -3.516   \n",
       "4               NaN                NaN                      NaN   \n",
       "5               NaN             -3.684                   -3.622   \n",
       "6               NaN             -3.618                   -3.657   \n",
       "7               NaN                NaN                      NaN   \n",
       "\n",
       "   target-sent-bartscore  target-sent-target-bartscore  \\\n",
       "0                 -3.549                        -3.534   \n",
       "1                 -3.546                        -3.504   \n",
       "2                 -3.599                        -3.551   \n",
       "3                 -3.554                        -3.464   \n",
       "4                    NaN                        -3.481   \n",
       "5                 -3.772                        -3.753   \n",
       "6                 -3.805                        -3.707   \n",
       "7                    NaN                        -3.539   \n",
       "\n",
       "   target-sent-subject-bartscore  \n",
       "0                         -3.293  \n",
       "1                         -3.364  \n",
       "2                         -3.362  \n",
       "3                         -3.356  \n",
       "4                         -3.298  \n",
       "5                         -3.533  \n",
       "6                         -3.466  \n",
       "7                         -3.348  \n",
       "\n",
       "[8 rows x 43 columns]"
      ]
     },
     "execution_count": 20,
     "metadata": {},
     "output_type": "execute_result"
    }
   ],
   "source": [
    "df_res"
   ]
  },
  {
   "cell_type": "code",
   "execution_count": 38,
   "id": "7a3102b2-71d4-4238-b7f5-125b84d55426",
   "metadata": {},
   "outputs": [
    {
     "name": "stdout",
     "output_type": "stream",
     "text": [
      "llama-instruct-few-shot\n"
     ]
    }
   ],
   "source": [
    "df_res.to_csv(f\"data/results/{model}-results.csv\",index=False)\n",
    "print(model)"
   ]
  },
  {
   "cell_type": "markdown",
   "id": "c32495be-9d05-4b18-90b8-5395a57452d6",
   "metadata": {},
   "source": [
    "# Save results"
   ]
  },
  {
   "cell_type": "code",
   "execution_count": 8,
   "id": "f15d3e35-6f21-4db0-963a-2fd1de85b107",
   "metadata": {},
   "outputs": [],
   "source": [
    "df_results = pd.DataFrame({\n",
    "    'source_text': df_gen['source_text'],\n",
    "    'elaboration_sentence': df_gen['elaboration_sentence'],\n",
    "    'pred_elaboration': df_gen['pred_elaboration'],\n",
    "    'bert-score-precision': bert_scores_precision,\n",
    "    'bert-score-recall': bert_scores_recall,\n",
    "    'bert-score-f1': bert_scores_f1\n",
    "})\n",
    "\n",
    "# bleu-scores\n",
    "#df_results.to_csv(\"../data/bleu_scores/bleu_scores_bart-ft-c2sp-masked.csv\", index=False)\n",
    "# bert-scores\n",
    "df_results.to_csv(f\"../data/bert_scores/bert_scores_{model}-test_ds-{output_name}.csv\", index=False)"
   ]
  }
 ],
 "metadata": {
  "kernelspec": {
   "display_name": "Python 3 (ipykernel)",
   "language": "python",
   "name": "python3"
  },
  "language_info": {
   "codemirror_mode": {
    "name": "ipython",
    "version": 3
   },
   "file_extension": ".py",
   "mimetype": "text/x-python",
   "name": "python",
   "nbconvert_exporter": "python",
   "pygments_lexer": "ipython3",
   "version": "3.9.18"
  }
 },
 "nbformat": 4,
 "nbformat_minor": 5
}
