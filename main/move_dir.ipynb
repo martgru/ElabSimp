{
 "cells": [
  {
   "cell_type": "code",
   "execution_count": 2,
   "id": "67337418-02a5-4242-9d63-1facc313ba37",
   "metadata": {},
   "outputs": [
    {
     "data": {
      "text/plain": [
       "'../models/models'"
      ]
     },
     "execution_count": 2,
     "metadata": {},
     "output_type": "execute_result"
    }
   ],
   "source": [
    "import shutil\n",
    "\n",
    "# Source folder path\n",
    "source = \"models\"\n",
    "\n",
    "# Destination folder path\n",
    "destination = \"../models\"\n",
    "\n",
    "# Move the folder\n",
    "shutil.move(source, destination)"
   ]
  }
 ],
 "metadata": {
  "kernelspec": {
   "display_name": "Python 3 (ipykernel)",
   "language": "python",
   "name": "python3"
  },
  "language_info": {
   "codemirror_mode": {
    "name": "ipython",
    "version": 3
   },
   "file_extension": ".py",
   "mimetype": "text/x-python",
   "name": "python",
   "nbconvert_exporter": "python",
   "pygments_lexer": "ipython3",
   "version": "3.9.18"
  }
 },
 "nbformat": 4,
 "nbformat_minor": 5
}
