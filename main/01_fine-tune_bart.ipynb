{
 "cells": [
  {
   "cell_type": "markdown",
   "id": "4077a27f-da6b-4891-b53d-1a190c7387de",
   "metadata": {},
   "source": [
    "# Check GPU"
   ]
  },
  {
   "cell_type": "code",
   "execution_count": 1,
   "id": "3aeea1d1-2841-4d2f-9f2a-124fcb3b00c2",
   "metadata": {},
   "outputs": [
    {
     "name": "stdout",
     "output_type": "stream",
     "text": [
      "GPU Available: True\n",
      "GPU Name: NVIDIA H100\n"
     ]
    }
   ],
   "source": [
    "import torch\n",
    "\n",
    "gpu_available = torch.cuda.is_available()\n",
    "print(f\"GPU Available: {gpu_available}\")\n",
    "\n",
    "if gpu_available:\n",
    "    gpu_name = torch.cuda.get_device_name(0)\n",
    "    print(f\"GPU Name: {gpu_name}\")"
   ]
  },
  {
   "cell_type": "markdown",
   "id": "c58e21dc-01bf-4306-8cb0-d13c9af398b6",
   "metadata": {},
   "source": [
    "# Load datasets"
   ]
  },
  {
   "cell_type": "code",
   "execution_count": 1,
   "id": "c615df56-3e54-4d9a-b7cc-67f49cab6c02",
   "metadata": {},
   "outputs": [
    {
     "name": "stdout",
     "output_type": "stream",
     "text": [
      "DatasetDict({\n",
      "    train: Dataset({\n",
      "        features: ['doc_num', 'source_text', 'target_sentence', 'target_sentence_bertscore', 'elaboration_sentence', 'contextual_specificity_rating', 'target_sentence_4o', 'target_sentence_target'],\n",
      "        num_rows: 1049\n",
      "    })\n",
      "    validation: Dataset({\n",
      "        features: ['doc_num', 'source_text', 'target_sentence', 'target_sentence_bertscore', 'elaboration_sentence', 'contextual_specificity_rating', 'target_sentence_4o', 'target_sentence_target'],\n",
      "        num_rows: 134\n",
      "    })\n",
      "    test: Dataset({\n",
      "        features: ['doc_num', 'source_text', 'target_sentence', 'target_sentence_bertscore', 'elaboration_sentence', 'contextual_specificity_rating', 'target_sentence_4o', 'target_sentence_target'],\n",
      "        num_rows: 116\n",
      "    })\n",
      "})\n"
     ]
    }
   ],
   "source": [
    "from dataset_utils import load_dataset_from_csv\n",
    "\n",
    "ds_type = \"c4op\"\n",
    "setting = \"target-sent-target\"\n",
    "\n",
    "dataset = load_dataset_from_csv(ds_type, setting)\n",
    "print(dataset)"
   ]
  },
  {
   "cell_type": "code",
   "execution_count": 2,
   "id": "ba8efddb-15ef-4a4d-b516-ed0e41655a14",
   "metadata": {},
   "outputs": [
    {
     "data": {
      "text/plain": [
       "{'doc_num': 17,\n",
       " 'source_text': 'Writing under the pseudonym Gul Makai (\"corn flower\" in Urdu, an official language of Pakistan), Malala exposed the violence and uncertainty of daily life in Swat, standing up to the Taliban\\'s intimidation of ordinary people and adding a human dimension to the political and military coverage that had been the only news coming out of the Swat Valley at the time. After the Pakistani army won back control of the region, Malala put her international recognition to work, campaigning for girls\\' education. But the remaining Taliban, unable to strike back against the army, picked Malala as a target for their wrath. On Oct. 9, gunmen stopped the school bus Malala was riding, asked the other children to point her out, and fired a bullet into her skull. Two other girls were wounded.',\n",
       " 'target_sentence': 'But the remaining Taliban, unable to strike back against the army, picked Malala as a target for their wrath.',\n",
       " 'target_sentence_bertscore': 0.5271809101104736,\n",
       " 'elaboration_sentence': 'One politician called Malala \"a beacon of knowledge.\"',\n",
       " 'contextual_specificity_rating': 1,\n",
       " 'target_sentence_4o': 'But the remaining Taliban, unable to strike back against the army, picked Malala as a target for their wrath.'}"
      ]
     },
     "execution_count": 2,
     "metadata": {},
     "output_type": "execute_result"
    }
   ],
   "source": [
    "dataset[\"train\"][9]"
   ]
  },
  {
   "cell_type": "markdown",
   "id": "22c9a673-9a51-48fe-9945-db65ec7c3bfc",
   "metadata": {
    "jp-MarkdownHeadingCollapsed": true
   },
   "source": [
    "## Check texts length"
   ]
  },
  {
   "cell_type": "code",
   "execution_count": 3,
   "id": "63e18b06-e1d1-466b-9f36-a6e872759c9a",
   "metadata": {},
   "outputs": [],
   "source": [
    "def count_texts_over_word_limit(dataset_dict, column, word_limit=512):\n",
    "    word_count = {}\n",
    "\n",
    "    for split in dataset_dict:\n",
    "        dataset = dataset_dict[split]\n",
    "        count_over_limit = 0\n",
    "\n",
    "        for example in dataset:\n",
    "            try:\n",
    "                num_words = len(example[column].split()) # count on spaces\n",
    "                if num_words > word_limit:\n",
    "                    count_over_limit += 1\n",
    "            except AttributeError as e: \n",
    "                print(f\"Empty string in doc num: {example['doc_num']}\")\n",
    "                continue \n",
    "\n",
    "        word_count[split] = count_over_limit\n",
    "\n",
    "    return word_count"
   ]
  },
  {
   "cell_type": "code",
   "execution_count": 15,
   "id": "f9b0f4fc-6bfd-4c31-babe-6b9708bea782",
   "metadata": {},
   "outputs": [
    {
     "name": "stdout",
     "output_type": "stream",
     "text": [
      "Model's max length:  1024\n"
     ]
    }
   ],
   "source": [
    "print(\"Model's max length: \", tokenizer.model_max_length)"
   ]
  },
  {
   "cell_type": "code",
   "execution_count": 4,
   "id": "6b1269eb-bbc7-420f-abe4-5b3b962b63a2",
   "metadata": {},
   "outputs": [
    {
     "data": {
      "text/plain": [
       "{'train': 0, 'validation': 0, 'test': 0}"
      ]
     },
     "execution_count": 4,
     "metadata": {},
     "output_type": "execute_result"
    }
   ],
   "source": [
    "count_texts_over_word_limit(dataset, column='elaboration_sentence', word_limit=32)"
   ]
  },
  {
   "cell_type": "code",
   "execution_count": 6,
   "id": "b50b7cb3-8fe6-4f96-9200-4d3659207b52",
   "metadata": {},
   "outputs": [
    {
     "data": {
      "text/plain": [
       "{'train': 0, 'validation': 0, 'test': 0}"
      ]
     },
     "execution_count": 6,
     "metadata": {},
     "output_type": "execute_result"
    }
   ],
   "source": [
    "count_texts_over_word_limit(dataset, column='source_text', word_limit=512)"
   ]
  },
  {
   "cell_type": "markdown",
   "id": "e06723b2-cbc5-4ca0-a1e6-d80761dbf6ff",
   "metadata": {},
   "source": [
    "# Load the model"
   ]
  },
  {
   "cell_type": "code",
   "execution_count": 2,
   "id": "2b070d28-9f21-4128-b3e9-ea84cad52237",
   "metadata": {},
   "outputs": [],
   "source": [
    "from transformers import BartTokenizerFast, BartForConditionalGeneration, BartTokenizer\n",
    "import torch\n",
    "torch.cuda.empty_cache()\n",
    "\n",
    "tokenizer = BartTokenizer.from_pretrained('facebook/bart-base',use_fast=False, cache_dir=\"../models/bart/\") \n",
    "model = BartForConditionalGeneration.from_pretrained('facebook/bart-base', cache_dir=\"../models/bart/\", device_map ={'':torch.cuda.current_device()})\n",
    "\n",
    "#tokenizer = BartTokenizer.from_pretrained('facebook/bart-large',use_fast=False) \n",
    "#model = BartForConditionalGeneration.from_pretrained('facebook/bart-large', device_map ={'':torch.cuda.current_device()})"
   ]
  },
  {
   "cell_type": "markdown",
   "id": "2211d374-d850-4d11-b560-b727356f012f",
   "metadata": {},
   "source": [
    "# Tokenize datasets"
   ]
  },
  {
   "cell_type": "markdown",
   "id": "f00654ff-71f7-4cb6-87fe-88f36d2d73ad",
   "metadata": {
    "jp-MarkdownHeadingCollapsed": true
   },
   "source": [
    "## Tokenizer"
   ]
  },
  {
   "cell_type": "code",
   "execution_count": 7,
   "id": "2b193926-4528-4b1e-acd0-62ae320291c9",
   "metadata": {},
   "outputs": [
    {
     "name": "stdout",
     "output_type": "stream",
     "text": [
      "True\n"
     ]
    }
   ],
   "source": [
    "print('<mask>' in tokenizer.get_vocab())"
   ]
  },
  {
   "cell_type": "code",
   "execution_count": 4,
   "id": "db73bf94-08fd-4582-8966-482867d64ca1",
   "metadata": {},
   "outputs": [
    {
     "data": {
      "text/plain": [
       "0"
      ]
     },
     "execution_count": 4,
     "metadata": {},
     "output_type": "execute_result"
    }
   ],
   "source": [
    "from transformers import AddedToken\n",
    "\n",
    "special_tokens_dict = {\n",
    "    'bos_token': AddedToken(\"<s>\", rstrip=False, lstrip=False, single_word=False, normalized=False, special=True),\n",
    "    'eos_token': AddedToken(\"</s>\", rstrip=False, lstrip=False, single_word=False, normalized=False, special=True),\n",
    "    'unk_token': AddedToken(\"<unk>\", rstrip=False, lstrip=False, single_word=False, normalized=False, special=True),\n",
    "    'sep_token': AddedToken(\"</s>\", rstrip=False, lstrip=False, single_word=False, normalized=False, special=True),\n",
    "    'pad_token': AddedToken(\"<pad>\", rstrip=False, lstrip=False, single_word=False, normalized=False, special=True),\n",
    "    'cls_token': AddedToken(\"<s>\", rstrip=False, lstrip=False, single_word=False, normalized=False, special=True),\n",
    "    'mask_token': AddedToken(\"<mask>\", rstrip=False, lstrip=True, single_word=False, normalized=False, special=True)\n",
    "}\n",
    "\n",
    "# add the special tokens to the tokenizer\n",
    "tokenizer.add_special_tokens(special_tokens_dict)"
   ]
  },
  {
   "cell_type": "markdown",
   "id": "0a51549c-a43d-4d24-9a64-c91da5fbd9f9",
   "metadata": {},
   "source": [
    "## Tokenize datasets"
   ]
  },
  {
   "cell_type": "code",
   "execution_count": 3,
   "id": "7831c3de-e6b9-462e-a2e4-9c4d56599f4c",
   "metadata": {},
   "outputs": [
    {
     "data": {
      "application/vnd.jupyter.widget-view+json": {
       "model_id": "12493783b2404e9e8ddf7df410946b83",
       "version_major": 2,
       "version_minor": 0
      },
      "text/plain": [
       "Map:   0%|          | 0/1049 [00:00<?, ? examples/s]"
      ]
     },
     "metadata": {},
     "output_type": "display_data"
    },
    {
     "data": {
      "application/vnd.jupyter.widget-view+json": {
       "model_id": "02e1ef825fad40538e275a9d105c9652",
       "version_major": 2,
       "version_minor": 0
      },
      "text/plain": [
       "Map:   0%|          | 0/134 [00:00<?, ? examples/s]"
      ]
     },
     "metadata": {},
     "output_type": "display_data"
    },
    {
     "data": {
      "application/vnd.jupyter.widget-view+json": {
       "model_id": "4466e866a88044879bb7b0b8a849d5e6",
       "version_major": 2,
       "version_minor": 0
      },
      "text/plain": [
       "Map:   0%|          | 0/116 [00:00<?, ? examples/s]"
      ]
     },
     "metadata": {},
     "output_type": "display_data"
    }
   ],
   "source": [
    "from dataset_utils import tokenize_dataset\n",
    "\n",
    "tokenized_dataset, formatting_func = tokenize_dataset(dataset, ds_type, setting, tokenizer)"
   ]
  },
  {
   "cell_type": "code",
   "execution_count": 4,
   "id": "65dcd738-ea64-4ae1-b156-7deb40a9178b",
   "metadata": {},
   "outputs": [
    {
     "data": {
      "text/plain": [
       "'For now, no one else has taken as dramatic a step as the Nisbets. The Northwest industry is getting around the problem. Hatcheries have changed the timing of when they draw in water. Scientists installed ocean monitors that give hatchery owners a few days\\' notice that conditions will be poor for rearing larvae. Growers are crushing up shells and adding chemicals to the water to make it less corrosive. Shellfish geneticists are working to breed new strains of oysters that are more resistant to low pH water. But no one thinks any of that will work forever. \"I do not think people understand the seriousness of the problem,\" David Stick, manager of the hatchery in Hilo, said. \"Ocean acidification is going to be a game-changer. target_sentence=Growers are crushing up shells and adding chemicals to the water to make it less corrosive., target_phrase=\\'piles of hard black lava\\''"
      ]
     },
     "execution_count": 4,
     "metadata": {},
     "output_type": "execute_result"
    }
   ],
   "source": [
    "formatting_func(dataset[\"train\"])[150]"
   ]
  },
  {
   "cell_type": "markdown",
   "id": "7b61ef1e-7995-4a92-8883-1cc2584cdf6f",
   "metadata": {
    "jp-MarkdownHeadingCollapsed": true
   },
   "source": [
    "# Set up model's configuration"
   ]
  },
  {
   "cell_type": "markdown",
   "id": "14be0b71-2a9e-4e58-ae30-839636eb0c8d",
   "metadata": {},
   "source": [
    "## Dropout"
   ]
  },
  {
   "cell_type": "code",
   "execution_count": 6,
   "id": "fdfddc46-7795-4109-bde0-244b9391eeb3",
   "metadata": {},
   "outputs": [
    {
     "name": "stdout",
     "output_type": "stream",
     "text": [
      "0.2\n"
     ]
    }
   ],
   "source": [
    "model.config.dropout = 0.2\n",
    "print(model.config.dropout)"
   ]
  },
  {
   "cell_type": "markdown",
   "id": "5b57bc4e-697a-41c3-b933-2d7c831e2126",
   "metadata": {},
   "source": [
    "# Train the model"
   ]
  },
  {
   "cell_type": "code",
   "execution_count": 8,
   "id": "ded1430d-1bab-4ef8-99eb-f7fd40ff4ebe",
   "metadata": {},
   "outputs": [
    {
     "name": "stdout",
     "output_type": "stream",
     "text": [
      "Steps per epoch:  524\n",
      "Logging steps:  20\n"
     ]
    }
   ],
   "source": [
    "num_samples = len(dataset['train'])\n",
    "batch_size= 2\n",
    "logging_steps = 25\n",
    "print(\"Steps per epoch: \", num_samples//batch_size )\n",
    "print(\"Logging steps: \" ,num_samples//batch_size//logging_steps )"
   ]
  },
  {
   "cell_type": "markdown",
   "id": "ae535c04-5334-41f5-bde9-fcb5bcd89c53",
   "metadata": {},
   "source": [
    "## Seq2Seq"
   ]
  },
  {
   "cell_type": "code",
   "execution_count": 5,
   "id": "544f8966-4ef2-41d7-ba9a-0a2cb3e3dfda",
   "metadata": {},
   "outputs": [
    {
     "name": "stdout",
     "output_type": "stream",
     "text": [
      "c4op-target-sent-target\n"
     ]
    }
   ],
   "source": [
    "from transformers import Seq2SeqTrainer, Seq2SeqTrainingArguments, EarlyStoppingCallback\n",
    "import numpy as np\n",
    "from easse.sari import corpus_sari\n",
    "from sacrebleu.tokenizers.tokenizer_13a import Tokenizer13a\n",
    "from nltk.translate.bleu_score import corpus_bleu, SmoothingFunction\n",
    "from transformers import DataCollatorForSeq2Seq\n",
    "import os \n",
    "# disable parallelism warnings\n",
    "os.environ[\"TOKENIZERS_PARALLELISM\"] = \"false\"\n",
    "\n",
    "data_collator = DataCollatorForSeq2Seq(tokenizer, model=model)\n",
    "\n",
    "model.train()\n",
    "\n",
    "output_name = f\"{ds_type}-{setting}\"\n",
    "print(output_name)\n",
    "\n",
    "training_args = Seq2SeqTrainingArguments(\n",
    "    output_dir=f\"../models/bart/bart-news-ft/results/results-bart-{output_name}\", \n",
    "    eval_strategy=\"epoch\",\n",
    "    save_strategy = \"epoch\",\n",
    "    logging_strategy=\"steps\",\n",
    "    logging_steps=25,\n",
    "    learning_rate=1e-5, # paper: 1e-4\n",
    "    per_device_train_batch_size=2,\n",
    "    per_device_eval_batch_size=2, \n",
    "    num_train_epochs=3,\n",
    "    save_total_limit=1,\n",
    "    weight_decay=0.01,\n",
    "    warmup_steps = 2,\n",
    "    #gradient_accumulation_steps=2,\n",
    "    optim = \"paged_adamw_8bit\",\n",
    "    load_best_model_at_end=True,\n",
    "    greater_is_better=False, # the lower the loss the better\n",
    "    fp16=True,\n",
    "    logging_dir=f\"../models/bart/bart-news-ft/logs/logs-bart-{output_name}\",\n",
    "    predict_with_generate=True,\n",
    "    metric_for_best_model='eval_loss'\n",
    ")\n",
    "\n",
    "\n",
    "trainer = Seq2SeqTrainer(\n",
    "    model=model,\n",
    "    args=training_args,\n",
    "    train_dataset=tokenized_dataset['train'],\n",
    "    eval_dataset=tokenized_dataset['validation'],\n",
    "    #tokenizer=tokenizer,\n",
    "    data_collator=data_collator,\n",
    "    #compute_metrics=compute_bleu,\n",
    "    #callbacks=[EarlyStoppingCallback(early_stopping_patience=3)]\n",
    ")\n",
    "\n",
    "model.config.use_cache = False"
   ]
  },
  {
   "cell_type": "code",
   "execution_count": 6,
   "id": "315d4f2c-7ca5-4110-a036-e5bece786f7b",
   "metadata": {},
   "outputs": [
    {
     "name": "stderr",
     "output_type": "stream",
     "text": [
      "/home/6/ud03926/nlp/lib64/python3.9/site-packages/transformers/data/data_collator.py:657: UserWarning: Creating a tensor from a list of numpy.ndarrays is extremely slow. Please consider converting the list to a single numpy.ndarray with numpy.array() before converting to a tensor. (Triggered internally at ../torch/csrc/utils/tensor_new.cpp:274.)\n",
      "  batch[\"labels\"] = torch.tensor(batch[\"labels\"], dtype=torch.int64)\n"
     ]
    },
    {
     "data": {
      "text/html": [
       "\n",
       "    <div>\n",
       "      \n",
       "      <progress value='1575' max='1575' style='width:300px; height:20px; vertical-align: middle;'></progress>\n",
       "      [1575/1575 01:22, Epoch 3/3]\n",
       "    </div>\n",
       "    <table border=\"1\" class=\"dataframe\">\n",
       "  <thead>\n",
       " <tr style=\"text-align: left;\">\n",
       "      <th>Epoch</th>\n",
       "      <th>Training Loss</th>\n",
       "      <th>Validation Loss</th>\n",
       "    </tr>\n",
       "  </thead>\n",
       "  <tbody>\n",
       "    <tr>\n",
       "      <td>1</td>\n",
       "      <td>1.174000</td>\n",
       "      <td>1.045158</td>\n",
       "    </tr>\n",
       "    <tr>\n",
       "      <td>2</td>\n",
       "      <td>0.975400</td>\n",
       "      <td>1.019302</td>\n",
       "    </tr>\n",
       "    <tr>\n",
       "      <td>3</td>\n",
       "      <td>0.883300</td>\n",
       "      <td>1.025063</td>\n",
       "    </tr>\n",
       "  </tbody>\n",
       "</table><p>"
      ],
      "text/plain": [
       "<IPython.core.display.HTML object>"
      ]
     },
     "metadata": {},
     "output_type": "display_data"
    },
    {
     "name": "stderr",
     "output_type": "stream",
     "text": [
      "/home/6/ud03926/nlp/lib64/python3.9/site-packages/transformers/modeling_utils.py:2817: UserWarning: Moving the following attributes in the config to the generation config: {'early_stopping': True, 'num_beams': 4, 'no_repeat_ngram_size': 3, 'forced_bos_token_id': 0}. You are seeing this warning because you've set generation parameters in the model config, as opposed to in the generation config.\n",
      "  warnings.warn(\n",
      "There were missing keys in the checkpoint model loaded: ['model.encoder.embed_tokens.weight', 'model.decoder.embed_tokens.weight', 'lm_head.weight'].\n"
     ]
    },
    {
     "data": {
      "text/plain": [
       "TrainOutput(global_step=1575, training_loss=1.6014034416562035, metrics={'train_runtime': 82.8643, 'train_samples_per_second': 37.978, 'train_steps_per_second': 19.007, 'total_flos': 959420317040640.0, 'train_loss': 1.6014034416562035, 'epoch': 3.0})"
      ]
     },
     "execution_count": 6,
     "metadata": {},
     "output_type": "execute_result"
    }
   ],
   "source": [
    "trainer.train()"
   ]
  },
  {
   "cell_type": "markdown",
   "id": "e229365e-d743-4171-ae4e-0e9548f87a0f",
   "metadata": {
    "jp-MarkdownHeadingCollapsed": true
   },
   "source": [
    "## Training Process"
   ]
  },
  {
   "cell_type": "code",
   "execution_count": 14,
   "id": "1a648d7d-fd78-49c2-8798-c4fb091773e5",
   "metadata": {},
   "outputs": [
    {
     "name": "stdout",
     "output_type": "stream",
     "text": [
      "Best validation loss: 0.8764761090278625\n",
      "Epoch of the best model: 3.0\n"
     ]
    }
   ],
   "source": [
    "log_history = trainer.state.log_history\n",
    "eval_logs = [log for log in log_history if \"eval_loss\" in log]\n",
    "\n",
    "# the best (lowest) validation loss\n",
    "best_eval_log = min(eval_logs, key=lambda x: x[\"eval_loss\"])\n",
    "\n",
    "print(f\"Best validation loss: {best_eval_log['eval_loss']}\")\n",
    "print(f\"Epoch of the best model: {best_eval_log['epoch']}\")\n",
    "#print(\"Sari score: \", best_eval_log['eval_sari'] )"
   ]
  },
  {
   "cell_type": "code",
   "execution_count": null,
   "id": "835ea57b-ab18-413d-8b24-263a73f0b3b3",
   "metadata": {},
   "outputs": [],
   "source": [
    "import json\n",
    "\n",
    "# Path to the `trainer_state.json` file in your checkpoint directory\n",
    "trainer_state_path = f\"../models/bart/bart-news-ft/results/results-bart-{output_name}/checkpoint-1050/trainer_state.json\"\n",
    "\n",
    "# Open and load the JSON file\n",
    "with open(trainer_state_path, \"r\") as file:\n",
    "    trainer_state = json.load(file)\n",
    "\n",
    "eval_logs = [log for log in trainer_state.get(\"log_history\", []) if \"eval_loss\" in log]\n",
    "\n",
    "for log in eval_logs:\n",
    "    print(f\"Epoch: {log.get('epoch', 'N/A')}, Step: {log.get('step', 'N/A')}, Eval Loss: {log['eval_loss']}\")"
   ]
  },
  {
   "cell_type": "code",
   "execution_count": 15,
   "id": "525b1bd6-ed8c-4832-9bf4-d1748ee69875",
   "metadata": {},
   "outputs": [
    {
     "data": {
      "image/png": "[encoded data removed]",
      "text/plain": [
       "<Figure size 1000x500 with 1 Axes>"
      ]
     },
     "metadata": {},
     "output_type": "display_data"
    }
   ],
   "source": [
    "import matplotlib.pyplot as plt\n",
    "\n",
    "# loss values from the log history\n",
    "train_loss = [log['loss'] for log in trainer.state.log_history if 'loss' in log]\n",
    "eval_loss = [log['eval_loss'] for log in trainer.state.log_history if 'eval_loss' in log]\n",
    "steps = range(len(train_loss))\n",
    "\n",
    "plt.figure(figsize=(10,5))\n",
    "plt.plot(steps, train_loss, label='Training Loss')\n",
    "plt.plot(steps[:len(eval_loss)], eval_loss, label='Validation Loss')\n",
    "plt.xlabel('Steps')\n",
    "plt.ylabel('Loss')\n",
    "plt.title('Loss curve')\n",
    "plt.legend()\n",
    "plt.show()"
   ]
  },
  {
   "cell_type": "markdown",
   "id": "f05dc24c-7de0-4c4e-8e2c-5aa6615bf3d0",
   "metadata": {
    "jp-MarkdownHeadingCollapsed": true
   },
   "source": [
    "# Save model"
   ]
  },
  {
   "cell_type": "code",
   "execution_count": 22,
   "id": "73755f0f-5aba-4f6d-b19c-50663e661148",
   "metadata": {},
   "outputs": [
    {
     "name": "stderr",
     "output_type": "stream",
     "text": [
      "Some non-default generation parameters are set in the model config. These should go into a GenerationConfig file (https://huggingface.co/docs/transformers/generation_strategies#save-a-custom-decoding-strategy-with-your-model) instead. This warning will be raised to an exception in v4.41.\n",
      "Non-default generation parameters: {'early_stopping': True, 'num_beams': 4, 'no_repeat_ngram_size': 3, 'forced_bos_token_id': 0, 'forced_eos_token_id': 2}\n"
     ]
    }
   ],
   "source": [
    "generation_config.save_pretrained(\"../models/bart-news-ft/model-2csp\")\n",
    "#tokenizer.save_pretrained(\"../models/bart-swipe-ft/model-swipe-clean\")\n",
    "model.save_pretrained(\"../models/bart-news-ft/model-2csp\")"
   ]
  },
  {
   "cell_type": "markdown",
   "id": "5f2b796e-a67c-4a79-a7b3-42ba65432504",
   "metadata": {
    "jp-MarkdownHeadingCollapsed": true
   },
   "source": [
    "# Load the saved model"
   ]
  },
  {
   "cell_type": "code",
   "execution_count": 6,
   "id": "e0e332b8-7e81-4deb-a4f7-8a3590be4e39",
   "metadata": {},
   "outputs": [],
   "source": [
    "from transformers import BartForConditionalGeneration, BartTokenizer, GenerationConfig\n",
    "import os\n",
    "\n",
    "output_name = \"c2s-base\"\n",
    "checkpoint_dir = f\"../models/bart/bart-news-ft/results/results-bart-{output_name}\"\n",
    "# find the checkpoint number\n",
    "checkpoints = [d for d in os.listdir(checkpoint_dir) if d.startswith(\"checkpoint-\")]\n",
    "if not checkpoints:\n",
    "    raise FileNotFoundError(f\"No checkpoints found in directory: {checkpoint_dir}\")\n",
    "\n",
    "latest_checkpoint = sorted(checkpoints, key=lambda x: int(x.split('-')[-1]))[-1]\n",
    "latest_checkpoint_path = os.path.join(checkpoint_dir, latest_checkpoint)\n",
    "\n",
    "tokenizer = BartTokenizer.from_pretrained('facebook/bart-base',use_fast=False, cache_dir=\"../models/bart/\")\n",
    "model = BartForConditionalGeneration.from_pretrained(latest_checkpoint_path)\n",
    "generation_config = GenerationConfig.from_pretrained(latest_checkpoint_path)\n",
    "#model.generation_config = generation_config"
   ]
  },
  {
   "cell_type": "markdown",
   "id": "f402e962-1080-4541-b6e6-4e8ed6e562ee",
   "metadata": {},
   "source": [
    "# Generate predictions"
   ]
  },
  {
   "cell_type": "code",
   "execution_count": 7,
   "id": "e289d2cb-5fe0-4cbf-ae48-311783248252",
   "metadata": {},
   "outputs": [
    {
     "data": {
      "application/vnd.jupyter.widget-view+json": {
       "model_id": "1e8b5cec0b4f4e7db85bff1ad1b35883",
       "version_major": 2,
       "version_minor": 0
      },
      "text/plain": [
       "0it [00:00, ?it/s]"
      ]
     },
     "metadata": {},
     "output_type": "display_data"
    },
    {
     "name": "stdout",
     "output_type": "stream",
     "text": [
      "Saved ../data/gen_predictions/predictions_bart-ft-c4op-target-sent-target.csv\n"
     ]
    },
    {
     "data": {
      "application/vnd.jupyter.widget-view+json": {
       "model_id": "d873a7834cdf4b96a644f0ea9781cd76",
       "version_major": 2,
       "version_minor": 0
      },
      "text/plain": [
       "0it [00:00, ?it/s]"
      ]
     },
     "metadata": {},
     "output_type": "display_data"
    },
    {
     "name": "stdout",
     "output_type": "stream",
     "text": [
      "Saved ../data/gen_predictions/predictions_bart-ft-c4op-target-sent-target-greedy.csv\n"
     ]
    }
   ],
   "source": [
    "from tqdm.notebook import tqdm\n",
    "from transformers import GenerationConfig\n",
    "import pandas as pd\n",
    "from dataset_utils import create_results_df\n",
    "\n",
    "model.eval()\n",
    "model.config.use_cache = True\n",
    "\n",
    "device = torch.device(\"cuda\" if torch.cuda.is_available() else \"cpu\")\n",
    "model.to(device)\n",
    "\n",
    "\n",
    "search_type = {\"beam-search\":{\"num_beams\":4, \"early_stopping\":True, \n",
    "                              \"filename\":f\"../data/gen_predictions/predictions_bart-ft-{output_name}.csv\"},\n",
    "              \"greedy\":{\"num_beams\":1, \"early_stopping\":False,\n",
    "                        \"filename\":f\"../data/gen_predictions/predictions_bart-ft-{output_name}-greedy.csv\"}\n",
    "}\n",
    "\n",
    "for search_t in search_type.keys():\n",
    "\n",
    "    df_results = create_results_df(dataset)\n",
    "    \n",
    "    generation_config = GenerationConfig(\n",
    "        bos_token_id = 0,\n",
    "        decoder_start_token_id = 2,\n",
    "        early_stopping = search_type[search_t][\"early_stopping\"], \n",
    "        do_sample = False,\n",
    "        max_new_tokens = 32, # 512\n",
    "        eos_token_id = 2, \n",
    "        forced_bos_token_id = 0,\n",
    "        forced_eos_token_id = 2,\n",
    "        no_repeat_ngram_size = 3,\n",
    "        num_beams = search_type[search_t][\"num_beams\"], # beam search, num_beams = 1 - greedy decoding\n",
    "        pad_token_id = 1,\n",
    "        num_return_sequences=1\n",
    "    )\n",
    "\n",
    "    if formatting_func:\n",
    "        test_dataset = formatting_func(dataset[\"test\"])\n",
    "    else:\n",
    "        test_dataset = dataset[\"test\"][\"source_text\"]\n",
    "\n",
    "\n",
    "    with torch.no_grad(): # format_target(dataset[\"test\"]) dataset[\"test\"][\"source_text\"] format_sent_target(dataset[\"test\"]) dataset[\"test\"][\"source_text\"]\n",
    "        for idx, example in tqdm(enumerate(test_dataset)):\n",
    "            # tokenize the text\n",
    "            input_ids = tokenizer(example, return_tensors=\"pt\")\n",
    "            # move input_ids to the same device as the model\n",
    "            input_ids = {key: value.to(device) for key, value in input_ids.items()}\n",
    "            \n",
    "            # generate prediction\n",
    "            output_ids = model.generate(**input_ids, generation_config=generation_config ) # temperature=0.45, do_sample=True\n",
    "            simplified_text = tokenizer.decode(output_ids[0], skip_special_tokens=True)\n",
    "            df_results.at[idx,\"pred_elaboration\"] = simplified_text\n",
    "\n",
    "\n",
    "    df_results.to_csv(search_type[search_t][\"filename\"], index=False)\n",
    "    print(f\"Saved {search_type[search_t]['filename']}\")"
   ]
  },
  {
   "cell_type": "code",
   "execution_count": null,
   "id": "d67fd01f-ce6c-40fe-bae0-829e75d2b528",
   "metadata": {},
   "outputs": [],
   "source": []
  }
 ],
 "metadata": {
  "kernelspec": {
   "display_name": "Python 3 (ipykernel)",
   "language": "python",
   "name": "python3"
  },
  "language_info": {
   "codemirror_mode": {
    "name": "ipython",
    "version": 3
   },
   "file_extension": ".py",
   "mimetype": "text/x-python",
   "name": "python",
   "nbconvert_exporter": "python",
   "pygments_lexer": "ipython3",
   "version": "3.9.18"
  }
 },
 "nbformat": 4,
 "nbformat_minor": 5
}
