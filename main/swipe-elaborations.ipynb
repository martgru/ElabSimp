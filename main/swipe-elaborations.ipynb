{
 "cells": [
  {
   "cell_type": "markdown",
   "id": "718f9bee-c774-4e0b-9e67-5abb64b39345",
   "metadata": {
    "jp-MarkdownHeadingCollapsed": true
   },
   "source": [
    "# Check GPU"
   ]
  },
  {
   "cell_type": "code",
   "execution_count": 1,
   "id": "4afdf53c-292b-478d-b5a1-82e747af61b1",
   "metadata": {},
   "outputs": [
    {
     "name": "stdout",
     "output_type": "stream",
     "text": [
      "GPU Available: False\n"
     ]
    }
   ],
   "source": [
    "import torch\n",
    "\n",
    "gpu_available = torch.cuda.is_available()\n",
    "print(f\"GPU Available: {gpu_available}\")\n",
    "\n",
    "if gpu_available:\n",
    "    gpu_name = torch.cuda.get_device_name(0)\n",
    "    print(f\"GPU Name: {gpu_name}\")"
   ]
  },
  {
   "cell_type": "markdown",
   "id": "6ac29f85-87a4-4071-84b7-b775a0d79bab",
   "metadata": {},
   "source": [
    "# Load cleaned annotated SWiPE dataset\n",
    "\n",
    "index to del: ID: 1898"
   ]
  },
  {
   "cell_type": "code",
   "execution_count": 1,
   "id": "9e1ac444-24d6-4d66-92ba-b0c8de51f50e",
   "metadata": {},
   "outputs": [
    {
     "name": "stderr",
     "output_type": "stream",
     "text": [
      "/Users/martgru/Documents/nlp/lib/python3.9/site-packages/urllib3/__init__.py:35: NotOpenSSLWarning: urllib3 v2 only supports OpenSSL 1.1.1+, currently the 'ssl' module is compiled with 'LibreSSL 2.8.3'. See: https://github.com/urllib3/urllib3/issues/3020\n",
      "  warnings.warn(\n"
     ]
    },
    {
     "data": {
      "text/plain": [
       "DatasetDict({\n",
       "    train: Dataset({\n",
       "        features: ['r_content', 's_content', 'annotations', 'edits'],\n",
       "        num_rows: 3861\n",
       "    })\n",
       "    validation: Dataset({\n",
       "        features: ['r_content', 's_content', 'annotations', 'edits'],\n",
       "        num_rows: 479\n",
       "    })\n",
       "    test_id: Dataset({\n",
       "        features: ['r_content', 's_content', 'annotations', 'edits'],\n",
       "        num_rows: 483\n",
       "    })\n",
       "    test_ood: Dataset({\n",
       "        features: ['r_content', 's_content', 'annotations', 'edits'],\n",
       "        num_rows: 368\n",
       "    })\n",
       "})"
      ]
     },
     "execution_count": 1,
     "metadata": {},
     "output_type": "execute_result"
    }
   ],
   "source": [
    "from datasets import load_from_disk\n",
    "\n",
    "swipe_clean_dataset = load_from_disk(\"../data/swipe_clean_annotated\")\n",
    "swipe_clean_dataset"
   ]
  },
  {
   "cell_type": "markdown",
   "id": "6dee9782-df3f-4ecb-9f43-ae95342149f1",
   "metadata": {},
   "source": [
    "# Inspect elaborative simplification samples"
   ]
  },
  {
   "cell_type": "markdown",
   "id": "051df1fb-155a-4857-b66d-fab2fe11028d",
   "metadata": {
    "jp-MarkdownHeadingCollapsed": true
   },
   "source": [
    "## Count number of elaborations in the dataset"
   ]
  },
  {
   "cell_type": "code",
   "execution_count": 5,
   "id": "2cabd17a-03bb-4b84-8040-c635c42f3c02",
   "metadata": {},
   "outputs": [],
   "source": [
    "from collections import defaultdict\n",
    "\n",
    "def count_specific_annotations(dataset, specific_categories):\n",
    "    category_count = defaultdict(int)\n",
    "    for example in dataset:\n",
    "        if example['annotations'] is not None:\n",
    "            if example['annotations']: \n",
    "                for annotation in example['annotations']:\n",
    "                    if annotation['category'] in specific_categories:\n",
    "                        category_count[annotation['category']] += 1\n",
    "    return category_count\n",
    "\n",
    "# eleboration categories\n",
    "specific_categories = ['semantic_elaboration_background', 'semantic_elaboration_example', 'semantic_elaboration_generic']\n",
    "\n",
    "# Count for each dataset\n",
    "train_specific_counts = count_specific_annotations(swipe_clean_dataset['train'], specific_categories)\n",
    "val_specific_counts = count_specific_annotations(swipe_clean_dataset['validation'], specific_categories)\n",
    "test_id_specific_counts = count_specific_annotations(swipe_clean_dataset['test_id'], specific_categories)\n",
    "test_ood_specific_counts = count_specific_annotations(swipe_clean_dataset['test_ood'], specific_categories)"
   ]
  },
  {
   "cell_type": "code",
   "execution_count": 6,
   "id": "7acd3ef5-2ab7-4e5c-a162-aa254c77bf9a",
   "metadata": {},
   "outputs": [
    {
     "name": "stdout",
     "output_type": "stream",
     "text": [
      "semantic_elaboration_generic\n",
      "Train : 2260\n",
      "Validation: 270\n",
      "Test ID: 295\n",
      "Test OOD: 356\n"
     ]
    }
   ],
   "source": [
    "print('semantic_elaboration_generic')\n",
    "print(\"Train :\", train_specific_counts['semantic_elaboration_generic'])\n",
    "print(\"Validation:\", val_specific_counts['semantic_elaboration_generic'])\n",
    "print(\"Test ID:\", test_id_specific_counts['semantic_elaboration_generic'])\n",
    "print(\"Test OOD:\", test_ood_specific_counts['semantic_elaboration_generic'])"
   ]
  },
  {
   "cell_type": "code",
   "execution_count": 7,
   "id": "3e6e2b4e-5997-43d8-b95e-4391a243be17",
   "metadata": {},
   "outputs": [
    {
     "name": "stdout",
     "output_type": "stream",
     "text": [
      "semantic_elaboration_background\n",
      "Train : 604\n",
      "Validation: 76\n",
      "Test ID: 81\n",
      "Test OOD: 39\n"
     ]
    }
   ],
   "source": [
    "print('semantic_elaboration_background')\n",
    "print(\"Train :\", train_specific_counts['semantic_elaboration_background'])\n",
    "print(\"Validation:\", val_specific_counts['semantic_elaboration_background'])\n",
    "print(\"Test ID:\", test_id_specific_counts['semantic_elaboration_background'])\n",
    "print(\"Test OOD:\", test_ood_specific_counts['semantic_elaboration_background'])"
   ]
  },
  {
   "cell_type": "code",
   "execution_count": 8,
   "id": "3c3b624a-1741-4a4f-bd16-94a467382867",
   "metadata": {},
   "outputs": [
    {
     "name": "stdout",
     "output_type": "stream",
     "text": [
      "semantic_elaboration_example\n",
      "Train : 98\n",
      "Validation: 7\n",
      "Test ID: 20\n",
      "Test OOD: 13\n"
     ]
    }
   ],
   "source": [
    "print('semantic_elaboration_example')\n",
    "print(\"Train :\", train_specific_counts['semantic_elaboration_example'])\n",
    "print(\"Validation:\", val_specific_counts['semantic_elaboration_example'])\n",
    "print(\"Test ID:\", test_id_specific_counts['semantic_elaboration_example'])\n",
    "print(\"Test OOD:\", test_ood_specific_counts['semantic_elaboration_example'])"
   ]
  },
  {
   "cell_type": "code",
   "execution_count": 29,
   "id": "0de453af-88df-4215-b206-b519a4b71348",
   "metadata": {},
   "outputs": [
    {
     "data": {
      "text/plain": [
       "[{'category': 'lexical_generic', 'gi': 0, 'opis': [1, 2]},\n",
       " {'category': 'lexical_generic', 'gi': 1, 'opis': [4, 5, 6]},\n",
       " {'category': 'syntactic_deletion', 'gi': 2, 'opis': [8]},\n",
       " {'category': 'syntactic_sentence_fusion', 'gi': 3, 'opis': [12, 11, 10]},\n",
       " {'category': 'lexical_generic', 'gi': 4, 'opis': [14, 15]},\n",
       " {'category': 'syntactic_deletion', 'gi': 5, 'opis': [17]},\n",
       " {'category': 'nonsim_format', 'gi': None, 'opis': [19, 20]}]"
      ]
     },
     "execution_count": 29,
     "metadata": {},
     "output_type": "execute_result"
    }
   ],
   "source": [
    "swipe_clean_dataset['train'][1]['annotations']"
   ]
  },
  {
   "cell_type": "markdown",
   "id": "89e64775-ef64-4c67-a220-6c0f46110678",
   "metadata": {
    "jp-MarkdownHeadingCollapsed": true
   },
   "source": [
    "## Save each elaboration category in dataframe"
   ]
  },
  {
   "cell_type": "code",
   "execution_count": 3,
   "id": "d5d70e48-b8d4-4da5-9d7b-deb709eafd74",
   "metadata": {},
   "outputs": [],
   "source": [
    "import pandas as pd\n",
    "from tqdm.notebook import tqdm\n",
    "\n",
    "def get_texts_with_specific_annotations(dataset_dict, specific_categories):\n",
    "    # store texts per category\n",
    "    category_data = {category: {'raw_texts': [], 'references': [], 'annotations': [], 'ids': [], 'splits': []} for category in specific_categories}\n",
    "    for split_name, dataset in dataset_dict.items():\n",
    "        for idx, example in tqdm(enumerate(dataset), total=len(dataset)):\n",
    "            if example['annotations']: \n",
    "                for annotation in example['annotations']:\n",
    "                    if annotation['category'] in specific_categories:\n",
    "                        \n",
    "                        category_data[annotation['category']]['raw_texts'].append(example['r_content'])\n",
    "                        category_data[annotation['category']]['references'].append(example['s_content'])\n",
    "                        category_data[annotation['category']]['annotations'].append(annotation['category'])\n",
    "                        category_data[annotation['category']]['ids'].append(idx)\n",
    "                        category_data[annotation['category']]['splits'].append(split_name)\n",
    "\n",
    "    # turn each category's data into a separate dfs\n",
    "    dataframes = {}\n",
    "    for category, data in category_data.items():\n",
    "        df = pd.DataFrame({\n",
    "            'id': data['ids'],\n",
    "            'split': data['splits'],              \n",
    "            'text': data['raw_texts'],\n",
    "            'reference': data['references'],\n",
    "            'annotation': data['annotations']\n",
    "        })\n",
    "        dataframes[category] = df\n",
    "\n",
    "    return dataframes\n",
    "\n",
    "# elaboration categories\n",
    "specific_categories = ['semantic_elaboration_background', 'semantic_elaboration_example', 'semantic_elaboration_generic']"
   ]
  },
  {
   "cell_type": "code",
   "execution_count": 4,
   "id": "f4bf7b64-fc0b-47b4-80d6-c26c6120f05b",
   "metadata": {},
   "outputs": [
    {
     "data": {
      "application/vnd.jupyter.widget-view+json": {
       "model_id": "ddfee7c16b6b4609a0296197fc612bcd",
       "version_major": 2,
       "version_minor": 0
      },
      "text/plain": [
       "  0%|          | 0/3861 [00:00<?, ?it/s]"
      ]
     },
     "metadata": {},
     "output_type": "display_data"
    },
    {
     "data": {
      "application/vnd.jupyter.widget-view+json": {
       "model_id": "0878828d991141929feb5cc2e510f1a8",
       "version_major": 2,
       "version_minor": 0
      },
      "text/plain": [
       "  0%|          | 0/479 [00:00<?, ?it/s]"
      ]
     },
     "metadata": {},
     "output_type": "display_data"
    },
    {
     "data": {
      "application/vnd.jupyter.widget-view+json": {
       "model_id": "9cc809a732b24ee29dc776b03b83b15e",
       "version_major": 2,
       "version_minor": 0
      },
      "text/plain": [
       "  0%|          | 0/483 [00:00<?, ?it/s]"
      ]
     },
     "metadata": {},
     "output_type": "display_data"
    },
    {
     "data": {
      "application/vnd.jupyter.widget-view+json": {
       "model_id": "772e374f061141459682950c25c4ab08",
       "version_major": 2,
       "version_minor": 0
      },
      "text/plain": [
       "  0%|          | 0/368 [00:00<?, ?it/s]"
      ]
     },
     "metadata": {},
     "output_type": "display_data"
    }
   ],
   "source": [
    "dataframes = get_texts_with_specific_annotations(swipe_clean_dataset, specific_categories)"
   ]
  },
  {
   "cell_type": "code",
   "execution_count": 5,
   "id": "a35bf046-765d-46b3-867b-67bbf0202be3",
   "metadata": {},
   "outputs": [],
   "source": [
    "background_df = dataframes['semantic_elaboration_background']\n",
    "example_df = dataframes['semantic_elaboration_example']\n",
    "generic_df = dataframes['semantic_elaboration_generic']"
   ]
  },
  {
   "cell_type": "code",
   "execution_count": 6,
   "id": "7e7b4904-dd1f-4794-9030-ee975f078b2c",
   "metadata": {},
   "outputs": [
    {
     "name": "stdout",
     "output_type": "stream",
     "text": [
      "Semantic Elaboration background:  800\n",
      "Semantic Elaboration example:  138\n",
      "Semantic Elaboration generic:  3181\n"
     ]
    }
   ],
   "source": [
    "print('Semantic Elaboration background: ', len(background_df))\n",
    "print('Semantic Elaboration example: ', len(example_df))\n",
    "print('Semantic Elaboration generic: ', len(generic_df))"
   ]
  },
  {
   "cell_type": "code",
   "execution_count": 7,
   "id": "a651e751-8a05-43a5-9422-d8b590966ac5",
   "metadata": {},
   "outputs": [],
   "source": [
    "background_df.to_csv('../data/elaborations/background.csv', index=False)\n",
    "example_df.to_csv('../data/elaborations/example.csv', index=False)\n",
    "generic_df.to_csv('../data/elaborations/generic.csv', index=False)"
   ]
  },
  {
   "cell_type": "markdown",
   "id": "41e60b11-e8e4-4d99-9664-d22ce2c74074",
   "metadata": {},
   "source": [
    "# Investigate main features of elaboration texts"
   ]
  },
  {
   "cell_type": "code",
   "execution_count": 2,
   "id": "ef8339c6-fc46-40bc-9974-f63bf58bee1f",
   "metadata": {},
   "outputs": [],
   "source": [
    "import sys\n",
    "import os\n",
    "utils_path = \"../utils/\"\n",
    "sys.path.append(utils_path)"
   ]
  },
  {
   "cell_type": "markdown",
   "id": "4b8568c0-7d75-4f7a-8a4a-b954139ca636",
   "metadata": {},
   "source": [
    "## Check specific record in df for further inspection\n",
    "\n",
    "in case of errors."
   ]
  },
  {
   "cell_type": "code",
   "execution_count": 62,
   "id": "9ac1a9ab-2e52-47e1-9293-19736baad4d5",
   "metadata": {},
   "outputs": [],
   "source": [
    "def check_record(idx, ds_split):\n",
    "\n",
    "    rec = swipe_clean_dataset[ds_split][idx]\n",
    "    print(\"Annotations: \",rec['annotations'], end='\\n\\n')\n",
    "    \n",
    "    operations = utils_diff.get_edit_operations(rec['r_content'], rec['s_content'], split_replace=True, split_sentences=True)\n",
    "    print(\"Operation edits: \", operations)\n",
    "    print(\"Num of edit operations: \", len(operations), end='\\n\\n')"
   ]
  },
  {
   "cell_type": "code",
   "execution_count": 121,
   "id": "9048f8bf-87c9-40a1-b6ed-60199707d8ef",
   "metadata": {},
   "outputs": [
    {
     "name": "stdout",
     "output_type": "stream",
     "text": [
      "Annotations:  [{'category': 'lexical_generic', 'gi': 0, 'opis': [1, 2]}, {'category': 'semantic_elaboration_generic', 'gi': 1, 'opis': [4]}, {'category': 'lexical_generic', 'gi': 2, 'opis': [6, 7]}, {'category': 'semantic_elaboration_background', 'gi': 3, 'opis': [9, 12]}, {'category': 'semantic_deletion', 'gi': None, 'opis': [10]}, {'category': 'semantic_deletion', 'gi': None, 'opis': [13]}, {'category': 'semantic_elaboration_background', 'gi': 5, 'opis': [15]}, {'category': 'semantic_elaboration_background', 'gi': 6, 'opis': [16]}, {'category': 'semantic_elaboration_generic', 'gi': None, 'opis': [18]}]\n",
      "\n",
      "Operation edits:  [{'type': 'equal', 'text': 'Bruno Dettori', 'N_words': 2}, {'type': 'insert', 'insert': '(22', 'N_words': 1}, {'type': 'delete', 'delete': '(born Sassari, 22', 'N_words': 3}, {'type': 'equal', 'text': 'December 1941', 'N_words': 2}, {'type': 'insert', 'insert': '- 2 August 2020', 'N_words': 4}, {'type': 'equal', 'text': ')', 'N_words': 1}, {'type': 'insert', 'insert': 'was', 'N_words': 1}, {'type': 'delete', 'delete': 'is', 'N_words': 1}, {'type': 'equal', 'text': 'an Italian politician. He', 'N_words': 5}, {'type': 'insert', 'insert': 'was born', 'N_words': 2}, {'type': 'delete', 'delete': 'graduated', 'N_words': 1}, {'type': 'equal', 'text': 'in', 'N_words': 1}, {'type': 'insert', 'insert': 'Sassari', 'N_words': 1}, {'type': 'delete', 'delete': 'agricultural science and gained experience of teaching abroad for two academic years at the Faculty of Agriculture in Asmara', 'N_words': 19}, {'type': 'equal', 'text': ',', 'N_words': 1}, {'type': 'insert', 'insert': 'Italy', 'N_words': 1}, {'type': 'delete', 'delete': 'Eritrea and became the author of 40 publications and research on national and international journals related to geology and hydrology', 'N_words': 20}, {'type': 'equal', 'text': '. He began his political career in 1990 becoming a city councilor in Sassari under the Christian Democrats. He was elected senator at the end of the 2001 general election on 13 May 2001. From 18 May 2006 to 7 May 2008 he was part of the second Prodi government as Secretary for the Environment.', 'N_words': 58}, {'type': 'insert', 'insert': 'Dettori died on 2 August 2020, aged 78.', 'N_words': 8}]\n",
      "Num of edit operations:  19\n",
      "\n"
     ]
    }
   ],
   "source": [
    "check_record(226,\"train\")"
   ]
  },
  {
   "cell_type": "markdown",
   "id": "3d2b0a75-b94f-4b2d-80ee-409246f409f5",
   "metadata": {},
   "source": [
    "## Text highlights"
   ]
  },
  {
   "cell_type": "code",
   "execution_count": 3,
   "id": "e92dd363-91c7-41fd-aef2-bdeede2f4039",
   "metadata": {},
   "outputs": [],
   "source": [
    "from IPython.core.display import HTML\n",
    "import utils_diff\n",
    "\n",
    "def highlight_operations(text, reference, annotation, edits, operations):\n",
    "    # create a set to store the indices of elaboration operations\n",
    "    elaboration_op_indices = set()\n",
    "    \n",
    "    # iterate through edits to collect 'elaboration' categories\n",
    "    for edit in edits:\n",
    "        if edit['category'] == annotation:  # check if the category is a desired elaboration type\n",
    "            elaboration_op_indices.update(edit['opis'])  # add indices of the corresponding dict in operations list\n",
    "    \n",
    "    # highlight elaborations by iterating through the operations\n",
    "    highlighted_text = \"\"\n",
    "    \n",
    "    for idx, operation in enumerate(operations):\n",
    "        if operation['type'] == 'insert':\n",
    "            if idx in elaboration_op_indices:  # if the operation index is in the elaboration set\n",
    "                # only highlight insertions (elaborations)\n",
    "                highlighted_text += f'<span style=\"background-color: #90EE90\">{operation[\"insert\"]}</span> '\n",
    "            else:\n",
    "                # other insertions type\n",
    "                highlighted_text += f'<span style=\"background-color: #FFA500\">{operation[\"insert\"]}</span> '\n",
    "        # include the text that was unchanged\n",
    "        elif operation['type'] == 'equal':\n",
    "            highlighted_text += f'{operation[\"text\"]} '\n",
    "        # include deleted text or replaced text\n",
    "        elif operation['type'] == 'delete':\n",
    "            highlighted_text += f'<span style=\"text-decoration: line-through; color: red;\">{operation[\"delete\"]}</span> '\n",
    "        #else:\n",
    "            #highlighted_text += f'{operation.get(\"text\", \"\")} '\n",
    "    \n",
    "    # display the highlighted text as HTML\n",
    "    display(HTML(highlighted_text))"
   ]
  },
  {
   "cell_type": "markdown",
   "id": "919fed6b-170c-4022-8067-79cea88802b4",
   "metadata": {
    "jp-MarkdownHeadingCollapsed": true
   },
   "source": [
    "## Elab operation list and edits"
   ]
  },
  {
   "cell_type": "code",
   "execution_count": 4,
   "id": "abdf020b-d6ce-4fae-9c9b-23f0c73efa4c",
   "metadata": {},
   "outputs": [],
   "source": [
    "import utils_diff\n",
    "\n",
    "def get_elab_operation_list(text, ref, category, edits):\n",
    "    # get the full list of operations\n",
    "    operations = utils_diff.get_edit_operations(text, ref, split_replace=True, split_sentences=True)\n",
    "    \n",
    "    # set to store indices of elaboration-related operations\n",
    "    elab_op_indices = set()\n",
    "    \n",
    "    # collect the operation indices for the specified category\n",
    "    for edit in edits:\n",
    "        if edit['category'] == category:  # check if the edit category matches the provided category\n",
    "            elab_op_indices.update(edit['opis'])  # add indices of operations for this category\n",
    "    elab_operations = []\n",
    "    # filter the operations to include only those in elab_op_indices\n",
    "    for idx in elab_op_indices:\n",
    "        try:\n",
    "            elab_operations.append(operations[idx])\n",
    "        except IndexError:\n",
    "            print(f\"Warning: Index {idx} is out of bounds for operations length {len(operations)}\")\n",
    "    \n",
    "    return elab_operations"
   ]
  },
  {
   "cell_type": "code",
   "execution_count": 5,
   "id": "1724de29-4de5-4d60-93d5-e07cf62fd893",
   "metadata": {},
   "outputs": [],
   "source": [
    "def get_elab_edits(edits, category):\n",
    "    # filter and return edits that match the specified category\n",
    "    elab_edits = [edit for edit in edits if edit['category'] == category]\n",
    "    \n",
    "    return elab_edits"
   ]
  },
  {
   "cell_type": "markdown",
   "id": "e6efc162-0199-483a-b0b5-5fd9b8813cca",
   "metadata": {
    "jp-MarkdownHeadingCollapsed": true
   },
   "source": [
    "## Get random samples"
   ]
  },
  {
   "cell_type": "code",
   "execution_count": 6,
   "id": "a4051e60-8af4-4b7f-bf6f-e3af40b2dbf9",
   "metadata": {},
   "outputs": [],
   "source": [
    "import utils_diff \n",
    "\n",
    "def get_random_samples(df, num_samples=10):\n",
    "\n",
    "    samples = df.sample(n=num_samples, random_state=42)\n",
    "    for _, sample in samples.iterrows():\n",
    "        \n",
    "        idx = sample['id']\n",
    "        ds_split = sample['split']\n",
    "        category = sample['annotation']\n",
    "        record = swipe_clean_dataset[ds_split][idx]\n",
    "        text = sample['text']\n",
    "        ref = sample['reference']\n",
    "        edits = record['annotations']\n",
    "        operations = utils_diff.get_edit_operations(text, ref, split_replace=True, split_sentences=True)\n",
    "        elab_edits = get_elab_edits(edits, category)\n",
    "        elab_operations = get_elab_operation_list(text, ref, category, edits)\n",
    "        \n",
    "        print('Raw text:', text,end='\\n\\n')\n",
    "        highlight_operations(text, ref, category, edits, operations )\n",
    "        print('\\n\\n')\n",
    "        print('Ref:', ref, end='\\n\\n')\n",
    "        #print('All Edits :',edits, end='\\n\\n')\n",
    "        print('Elaboration edits:', elab_edits, end='\\n\\n')\n",
    "        #print('All operations:', operations, end='\\n\\n')\n",
    "        print('Number of elab op:', len(elab_operations))\n",
    "        print('Elaboration operation list:', elab_operations)\n",
    "        print('-' * 130, end='\\n\\n')"
   ]
  },
  {
   "cell_type": "code",
   "execution_count": 7,
   "id": "e4991829-8d78-4fca-9625-363106ee3fd2",
   "metadata": {},
   "outputs": [],
   "source": [
    "def get_single_elab_category_texts_idxs(df, category):\n",
    "    single_elab_texts_idxs = []\n",
    "\n",
    "    # iterate through the dataframe\n",
    "    for _, sample in df.iterrows():\n",
    "        \n",
    "        idx = sample['id']\n",
    "        ds_split = sample['split']\n",
    "        record = swipe_clean_dataset[ds_split][idx]\n",
    "        text = sample['text']\n",
    "        ref = sample['reference']\n",
    "        edits = record['annotations']\n",
    "        operations = utils_diff.get_edit_operations(text, ref, split_replace=True, split_sentences=True)\n",
    "\n",
    "        # get elaboration edits for the provided category\n",
    "        elab_edits = get_elab_edits(edits, category)\n",
    "        elab_operations = get_elab_operation_list(text, ref, category, edits)\n",
    "\n",
    "        # check if there is exactly one elaboration operation\n",
    "        if len(elab_edits) == 1 and len(elab_operations) == 1:\n",
    "            single_elab_texts_idxs.append(idx)\n",
    "\n",
    "    return single_elab_texts_idxs"
   ]
  },
  {
   "cell_type": "code",
   "execution_count": 8,
   "id": "0e2b527e-3217-478c-900c-405e9fd1d939",
   "metadata": {},
   "outputs": [],
   "source": [
    "def get_random_single_elab_category_texts(df, single_elab_category_texts_idxs, num_samples=5):\n",
    "\n",
    "    samples = df[df['id'].isin(single_elab_category_texts_idxs)].sample(n=num_samples, random_state=42)\n",
    "    \n",
    "    for _, sample in samples.iterrows():\n",
    "\n",
    "        idx = sample['id']\n",
    "        ds_split = sample['split']\n",
    "        category = sample['annotation']\n",
    "        record = swipe_clean_dataset[ds_split][idx]\n",
    "        text = sample['text']\n",
    "        ref = sample['reference']\n",
    "        edits = record['annotations']\n",
    "        operations = utils_diff.get_edit_operations(text, ref, split_replace=True, split_sentences=True)\n",
    "        elab_edits = get_elab_edits(edits, category)\n",
    "        elab_operations = get_elab_operation_list(text, ref, category, edits)\n",
    "\n",
    "        print('ID:', idx)\n",
    "        print('Raw text:', text,end='\\n\\n')\n",
    "        highlight_operations(text, ref, category, edits, operations )\n",
    "        print('\\n\\n')\n",
    "        print('Ref:', ref, end='\\n\\n')\n",
    "        #print('All Edits :',edits, end='\\n\\n')\n",
    "        print('Elaboration edits:', elab_edits, end='\\n\\n')\n",
    "        #print('All operations:', operations, end='\\n\\n')\n",
    "        print('Number of elab op:', len(elab_operations))\n",
    "        print('Elaboration operation list:', elab_operations)\n",
    "        print('-' * 130, end='\\n\\n')"
   ]
  },
  {
   "cell_type": "markdown",
   "id": "631ef2da-dd84-451b-b4b0-488eef18cc7a",
   "metadata": {
    "jp-MarkdownHeadingCollapsed": true
   },
   "source": [
    "## Get insertions and part of speech tags"
   ]
  },
  {
   "cell_type": "code",
   "execution_count": 9,
   "id": "0e859540-7a7f-4bb8-b31b-4968c9f825fb",
   "metadata": {},
   "outputs": [
    {
     "data": {
      "application/vnd.jupyter.widget-view+json": {
       "model_id": "8c8aa8a5959e44388f69bb675066a36a",
       "version_major": 2,
       "version_minor": 0
      },
      "text/plain": [
       "Downloading https://raw.githubusercontent.com/stanfordnlp/stanza-resources/main/resources_1.9.0.json:   0%|   …"
      ]
     },
     "metadata": {},
     "output_type": "display_data"
    },
    {
     "name": "stderr",
     "output_type": "stream",
     "text": [
      "2024-10-21 13:25:26 INFO: Downloaded file to /Users/martgru/stanza_resources/resources.json\n",
      "2024-10-21 13:25:26 INFO: Downloading default packages for language: en (English) ...\n",
      "2024-10-21 13:25:27 INFO: File exists: /Users/martgru/stanza_resources/en/default.zip\n",
      "2024-10-21 13:25:28 INFO: Finished downloading models and saved to /Users/martgru/stanza_resources\n"
     ]
    }
   ],
   "source": [
    "import stanza\n",
    "stanza.download('en') "
   ]
  },
  {
   "cell_type": "code",
   "execution_count": 10,
   "id": "a6972d60-10cd-466b-b1d7-ff184c9c50cb",
   "metadata": {
    "scrolled": true
   },
   "outputs": [
    {
     "name": "stderr",
     "output_type": "stream",
     "text": [
      "2024-10-21 13:25:29 INFO: Checking for updates to resources.json in case models have been updated.  Note: this behavior can be turned off with download_method=None or download_method=DownloadMethod.REUSE_RESOURCES\n"
     ]
    },
    {
     "data": {
      "application/vnd.jupyter.widget-view+json": {
       "model_id": "3f5e25b9c48f4555bc59be935a078f87",
       "version_major": 2,
       "version_minor": 0
      },
      "text/plain": [
       "Downloading https://raw.githubusercontent.com/stanfordnlp/stanza-resources/main/resources_1.9.0.json:   0%|   …"
      ]
     },
     "metadata": {},
     "output_type": "display_data"
    },
    {
     "name": "stderr",
     "output_type": "stream",
     "text": [
      "2024-10-21 13:25:29 INFO: Downloaded file to /Users/martgru/stanza_resources/resources.json\n",
      "2024-10-21 13:25:29 WARNING: Language en package default expects mwt, which has been added\n",
      "2024-10-21 13:25:29 INFO: Loading these models for language: en (English):\n",
      "===============================\n",
      "| Processor | Package         |\n",
      "-------------------------------\n",
      "| tokenize  | combined        |\n",
      "| mwt       | combined        |\n",
      "| pos       | combined_charlm |\n",
      "===============================\n",
      "\n",
      "2024-10-21 13:25:29 INFO: Using device: cpu\n",
      "2024-10-21 13:25:29 INFO: Loading: tokenize\n",
      "/Users/martgru/Documents/nlp/lib/python3.9/site-packages/stanza/models/tokenization/trainer.py:82: FutureWarning: You are using `torch.load` with `weights_only=False` (the current default value), which uses the default pickle module implicitly. It is possible to construct malicious pickle data which will execute arbitrary code during unpickling (See https://github.com/pytorch/pytorch/blob/main/SECURITY.md#untrusted-models for more details). In a future release, the default value for `weights_only` will be flipped to `True`. This limits the functions that could be executed during unpickling. Arbitrary objects will no longer be allowed to be loaded via this mode unless they are explicitly allowlisted by the user via `torch.serialization.add_safe_globals`. We recommend you start setting `weights_only=True` for any use case where you don't have full control of the loaded file. Please open an issue on GitHub for any issues related to this experimental feature.\n",
      "  checkpoint = torch.load(filename, lambda storage, loc: storage)\n",
      "2024-10-21 13:25:30 INFO: Loading: mwt\n",
      "/Users/martgru/Documents/nlp/lib/python3.9/site-packages/stanza/models/mwt/trainer.py:201: FutureWarning: You are using `torch.load` with `weights_only=False` (the current default value), which uses the default pickle module implicitly. It is possible to construct malicious pickle data which will execute arbitrary code during unpickling (See https://github.com/pytorch/pytorch/blob/main/SECURITY.md#untrusted-models for more details). In a future release, the default value for `weights_only` will be flipped to `True`. This limits the functions that could be executed during unpickling. Arbitrary objects will no longer be allowed to be loaded via this mode unless they are explicitly allowlisted by the user via `torch.serialization.add_safe_globals`. We recommend you start setting `weights_only=True` for any use case where you don't have full control of the loaded file. Please open an issue on GitHub for any issues related to this experimental feature.\n",
      "  checkpoint = torch.load(filename, lambda storage, loc: storage)\n",
      "2024-10-21 13:25:30 INFO: Loading: pos\n",
      "/Users/martgru/Documents/nlp/lib/python3.9/site-packages/stanza/models/pos/trainer.py:139: FutureWarning: You are using `torch.load` with `weights_only=False` (the current default value), which uses the default pickle module implicitly. It is possible to construct malicious pickle data which will execute arbitrary code during unpickling (See https://github.com/pytorch/pytorch/blob/main/SECURITY.md#untrusted-models for more details). In a future release, the default value for `weights_only` will be flipped to `True`. This limits the functions that could be executed during unpickling. Arbitrary objects will no longer be allowed to be loaded via this mode unless they are explicitly allowlisted by the user via `torch.serialization.add_safe_globals`. We recommend you start setting `weights_only=True` for any use case where you don't have full control of the loaded file. Please open an issue on GitHub for any issues related to this experimental feature.\n",
      "  checkpoint = torch.load(filename, lambda storage, loc: storage)\n",
      "/Users/martgru/Documents/nlp/lib/python3.9/site-packages/stanza/models/common/pretrain.py:56: FutureWarning: You are using `torch.load` with `weights_only=False` (the current default value), which uses the default pickle module implicitly. It is possible to construct malicious pickle data which will execute arbitrary code during unpickling (See https://github.com/pytorch/pytorch/blob/main/SECURITY.md#untrusted-models for more details). In a future release, the default value for `weights_only` will be flipped to `True`. This limits the functions that could be executed during unpickling. Arbitrary objects will no longer be allowed to be loaded via this mode unless they are explicitly allowlisted by the user via `torch.serialization.add_safe_globals`. We recommend you start setting `weights_only=True` for any use case where you don't have full control of the loaded file. Please open an issue on GitHub for any issues related to this experimental feature.\n",
      "  data = torch.load(self.filename, lambda storage, loc: storage)\n",
      "/Users/martgru/Documents/nlp/lib/python3.9/site-packages/stanza/models/common/char_model.py:271: FutureWarning: You are using `torch.load` with `weights_only=False` (the current default value), which uses the default pickle module implicitly. It is possible to construct malicious pickle data which will execute arbitrary code during unpickling (See https://github.com/pytorch/pytorch/blob/main/SECURITY.md#untrusted-models for more details). In a future release, the default value for `weights_only` will be flipped to `True`. This limits the functions that could be executed during unpickling. Arbitrary objects will no longer be allowed to be loaded via this mode unless they are explicitly allowlisted by the user via `torch.serialization.add_safe_globals`. We recommend you start setting `weights_only=True` for any use case where you don't have full control of the loaded file. Please open an issue on GitHub for any issues related to this experimental feature.\n",
      "  state = torch.load(filename, lambda storage, loc: storage)\n",
      "2024-10-21 13:25:30 INFO: Done loading processors!\n"
     ]
    }
   ],
   "source": [
    "import stanza\n",
    "from collections import Counter\n",
    "import matplotlib.pyplot as plt\n",
    "\n",
    "# initialize the Stanza pipeline for POS tagging\n",
    "nlp = stanza.Pipeline('en', processors='tokenize,pos')\n",
    "\n",
    "def get_elaboration_insertions(df):\n",
    "    \"\"\"\n",
    "    Loops through the DataFrame, extracts operations for each text, and collects the insertion phrases\n",
    "    related to the provided elaboration category in 'df['annotation']'.\n",
    "    \n",
    "    :param df: A pandas DataFrame containing the texts, references, and annotations.\n",
    "    :return: A list of insertion phrases related to the elaboration category.\n",
    "    \"\"\"\n",
    "    insertions = []\n",
    "\n",
    "    # Loop through each row in the DataFrame\n",
    "    for _, sample in df.iterrows():\n",
    "        idx = sample['id']\n",
    "        ds_split = sample['split']\n",
    "        text = sample['text']\n",
    "        ref = sample['reference']\n",
    "        record = swipe_clean_dataset[ds_split][idx]\n",
    "        category = sample['annotation']\n",
    "        edits = record['annotations']  \n",
    "\n",
    "        # get the edit operations between the raw text and reference\n",
    "        operations = utils_diff.get_edit_operations(text, ref, split_replace=True, split_sentences=True)\n",
    "        \n",
    "        # get elaboration operations for the category\n",
    "        for edit in edits:\n",
    "            if edit['category'] == category:  \n",
    "                # extract the insertions from the operations based on the edit's 'opis'\n",
    "                for op_idx in edit['opis']:\n",
    "                    try:\n",
    "                        if operations[op_idx]['type'] == 'insert':\n",
    "                            insertions.append(operations[op_idx]['insert'])\n",
    "                    except IndexError:\n",
    "                        print(f\"Split: {ds_split} id: {idx} op_idx: {op_idx} is out of bounds for operations length {len(operations)}.\")\n",
    "                        \n",
    "\n",
    "    return insertions\n",
    "\n",
    "def analyze_elaboration_pos(insertions):\n",
    "    \"\"\"\n",
    "    This function takes a list of insertion texts (elaborations) and performs POS tagging on them.\n",
    "    It then counts the frequency of each POS tag and displays a chart similar to the one provided.\n",
    "    \n",
    "    :param insertions: A list of elaborated text strings (insertions).\n",
    "    :return: None, but displays a chart of the most frequent POS tags.\n",
    "    \"\"\"\n",
    "    # initialize a counter to store POS tag frequencies\n",
    "    pos_counter = Counter()\n",
    "    \n",
    "    # loop through each insertion (elaborated text)\n",
    "    for insertion in insertions:\n",
    "        # POS tagging \n",
    "        doc = nlp(insertion)\n",
    "        for sentence in doc.sentences:\n",
    "            for word in sentence.words:\n",
    "                # update the POS tag count\n",
    "                pos_counter[word.pos] += 1\n",
    "\n",
    "    # sorted list of POS tags and their frequencies\n",
    "    pos_tags, frequencies = zip(*pos_counter.most_common())\n",
    "    \n",
    "    # plot the results\n",
    "    plt.figure(figsize=(10, 6))\n",
    "    plt.bar(pos_tags, frequencies, color='orange')\n",
    "    plt.xlabel('POS Tags')\n",
    "    plt.ylabel('Frequency')\n",
    "    plt.title('Top POS Tags in Elaborations')\n",
    "    plt.show()\n",
    "    \n",
    "    # most frequent POS tags\n",
    "    return pos_counter"
   ]
  },
  {
   "cell_type": "markdown",
   "id": "ca5328d4-8ca9-4954-93c9-abe7362d6f0a",
   "metadata": {
    "jp-MarkdownHeadingCollapsed": true
   },
   "source": [
    "## Constituency parsing"
   ]
  },
  {
   "cell_type": "code",
   "execution_count": 11,
   "id": "0c349669-f86f-4ada-81f0-d3464fd4da6b",
   "metadata": {
    "scrolled": true
   },
   "outputs": [
    {
     "data": {
      "application/vnd.jupyter.widget-view+json": {
       "model_id": "14914a9a46704af8b6f33eace581b7c3",
       "version_major": 2,
       "version_minor": 0
      },
      "text/plain": [
       "Downloading https://raw.githubusercontent.com/stanfordnlp/stanza-resources/main/resources_1.9.0.json:   0%|   …"
      ]
     },
     "metadata": {},
     "output_type": "display_data"
    },
    {
     "name": "stderr",
     "output_type": "stream",
     "text": [
      "2024-10-21 13:25:41 INFO: Downloaded file to /Users/martgru/stanza_resources/resources.json\n",
      "2024-10-21 13:25:41 WARNING: Can not find package: constituency.\n",
      "2024-10-21 13:25:41 INFO: Downloading these customized packages for language: en (English)...\n",
      "=======================\n",
      "| Processor | Package |\n",
      "-----------------------\n",
      "=======================\n",
      "\n",
      "2024-10-21 13:25:41 INFO: Finished downloading models and saved to /Users/martgru/stanza_resources\n",
      "2024-10-21 13:25:41 INFO: Checking for updates to resources.json in case models have been updated.  Note: this behavior can be turned off with download_method=None or download_method=DownloadMethod.REUSE_RESOURCES\n"
     ]
    },
    {
     "data": {
      "application/vnd.jupyter.widget-view+json": {
       "model_id": "e1de999ff02543c4acb0f8d160a1125c",
       "version_major": 2,
       "version_minor": 0
      },
      "text/plain": [
       "Downloading https://raw.githubusercontent.com/stanfordnlp/stanza-resources/main/resources_1.9.0.json:   0%|   …"
      ]
     },
     "metadata": {},
     "output_type": "display_data"
    },
    {
     "name": "stderr",
     "output_type": "stream",
     "text": [
      "2024-10-21 13:25:41 INFO: Downloaded file to /Users/martgru/stanza_resources/resources.json\n",
      "2024-10-21 13:25:41 WARNING: Language en package default expects mwt, which has been added\n",
      "2024-10-21 13:25:42 INFO: Loading these models for language: en (English):\n",
      "======================================\n",
      "| Processor    | Package             |\n",
      "--------------------------------------\n",
      "| tokenize     | combined            |\n",
      "| mwt          | combined            |\n",
      "| pos          | combined_charlm     |\n",
      "| constituency | ptb3-revised_charlm |\n",
      "======================================\n",
      "\n",
      "2024-10-21 13:25:42 INFO: Using device: cpu\n",
      "2024-10-21 13:25:42 INFO: Loading: tokenize\n",
      "/Users/martgru/Documents/nlp/lib/python3.9/site-packages/stanza/models/tokenization/trainer.py:82: FutureWarning: You are using `torch.load` with `weights_only=False` (the current default value), which uses the default pickle module implicitly. It is possible to construct malicious pickle data which will execute arbitrary code during unpickling (See https://github.com/pytorch/pytorch/blob/main/SECURITY.md#untrusted-models for more details). In a future release, the default value for `weights_only` will be flipped to `True`. This limits the functions that could be executed during unpickling. Arbitrary objects will no longer be allowed to be loaded via this mode unless they are explicitly allowlisted by the user via `torch.serialization.add_safe_globals`. We recommend you start setting `weights_only=True` for any use case where you don't have full control of the loaded file. Please open an issue on GitHub for any issues related to this experimental feature.\n",
      "  checkpoint = torch.load(filename, lambda storage, loc: storage)\n",
      "2024-10-21 13:25:42 INFO: Loading: mwt\n",
      "2024-10-21 13:25:42 INFO: Loading: pos\n",
      "2024-10-21 13:25:42 INFO: Loading: constituency\n",
      "/Users/martgru/Documents/nlp/lib/python3.9/site-packages/stanza/models/constituency/base_trainer.py:87: FutureWarning: You are using `torch.load` with `weights_only=False` (the current default value), which uses the default pickle module implicitly. It is possible to construct malicious pickle data which will execute arbitrary code during unpickling (See https://github.com/pytorch/pytorch/blob/main/SECURITY.md#untrusted-models for more details). In a future release, the default value for `weights_only` will be flipped to `True`. This limits the functions that could be executed during unpickling. Arbitrary objects will no longer be allowed to be loaded via this mode unless they are explicitly allowlisted by the user via `torch.serialization.add_safe_globals`. We recommend you start setting `weights_only=True` for any use case where you don't have full control of the loaded file. Please open an issue on GitHub for any issues related to this experimental feature.\n",
      "  checkpoint = torch.load(filename, lambda storage, loc: storage)\n",
      "2024-10-21 13:25:42 INFO: Done loading processors!\n"
     ]
    }
   ],
   "source": [
    "import stanza\n",
    "import re\n",
    "from collections import Counter\n",
    "\n",
    "stanza.download('en', package='constituency')\n",
    "\n",
    "# constituency parser\n",
    "nlp = stanza.Pipeline(lang='en', processors='tokenize,pos,constituency')\n",
    "\n",
    "def get_constituency_parse(text):\n",
    "    \"\"\"\n",
    "    Parse a sentence and return its constituency structure using Stanza.\n",
    "    \n",
    "    :param text: A sentence to parse.\n",
    "    :return: A constituency parse tree as a string.\n",
    "    \"\"\"\n",
    "    \n",
    "    if not text or len(text.strip()) == 0:\n",
    "        print(\"Warning: Empty text received for parsing.\")\n",
    "        return \"\"\n",
    "    \n",
    "    # parse the text\n",
    "    doc = nlp(text)\n",
    "    \n",
    "    # get the constituency parse tree for the first sentence\n",
    "    parse_tree = doc.sentences[0].constituency\n",
    "\n",
    "    # convert to str\n",
    "    return str(parse_tree)"
   ]
  },
  {
   "cell_type": "code",
   "execution_count": 12,
   "id": "35335bbb-1561-454d-a6a9-a9dcaa0aa504",
   "metadata": {},
   "outputs": [],
   "source": [
    "def get_most_frequent_constituencies(insertions):\n",
    "    \"\"\"\n",
    "    Count the most frequent constituencies (e.g., NP, VP, PP) in the elaboration insertions.\n",
    "    \n",
    "    :param insertions: A list of elaborated text strings (insertions).\n",
    "    :return: A Counter object with the most frequent constituency tags.\n",
    "    \"\"\"\n",
    "    const_counter = Counter()\n",
    "\n",
    "    # loop through each insertion (elaborated part of text)\n",
    "    for insertion in insertions:\n",
    "        constituency_tree = get_constituency_parse(insertion)\n",
    "        # regular expression to find all constituent labels (e.g., NP, VP, PP, etc.)\n",
    "        constituents = re.findall(r'\\((\\S+)', constituency_tree)\n",
    "        # filter out the 'ROOT' tag and update the counter\n",
    "        for constituent in constituents:\n",
    "            if constituent != 'ROOT':  # skip the ROOT tag\n",
    "                const_counter.update([constituent])\n",
    "\n",
    "    # get the top constituencies and their counts\n",
    "    top_constituencies = const_counter.most_common(12)\n",
    "\n",
    "    # separate the tags and their frequencies for plotting\n",
    "    tags, frequencies = zip(*top_constituencies)\n",
    "    plt.figure(figsize=(10, 6))\n",
    "    plt.bar(tags, frequencies, color='blue')\n",
    "    plt.xlabel('Constituency Tags')\n",
    "    plt.ylabel('Frequency')\n",
    "    plt.title('Top Constituencies in Elaborations')\n",
    "    plt.xticks(rotation=45)  \n",
    "    plt.show()\n",
    "    \n",
    "    return const_counter"
   ]
  },
  {
   "cell_type": "markdown",
   "id": "ac78b9ab-5914-4bb6-b964-3194b8ac591a",
   "metadata": {
    "jp-MarkdownHeadingCollapsed": true
   },
   "source": [
    "## Insertions"
   ]
  },
  {
   "cell_type": "code",
   "execution_count": 54,
   "id": "be7de0a2-4809-46f4-a3db-1c5b528be5fe",
   "metadata": {},
   "outputs": [],
   "source": [
    "def collect_all_elaboration_insertions(df):\n",
    "\n",
    "    constituency_trees = []\n",
    "    text_ids = []\n",
    "    splits = []\n",
    "    insertions = []\n",
    "    \n",
    "    for _, sample in tqdm(df.iterrows(), total=len(df)):\n",
    "        text_idx = sample['id']\n",
    "        ds_split = sample['split']\n",
    "        category = sample['annotation']\n",
    "        record = swipe_clean_dataset[ds_split][text_idx]\n",
    "        text = sample['text']\n",
    "        ref = sample['reference']\n",
    "        edits = record['annotations']\n",
    "    \n",
    "        # get the edit operations and elaboration operations\n",
    "        elab_operations = get_elab_operation_list(text, ref, category, edits)\n",
    "    \n",
    "        for elab_idx, op in enumerate(elab_operations):\n",
    "            try:\n",
    "                tree = get_constituency_parse(op['insert'])\n",
    "                insertions.append(op['insert'])\n",
    "                constituency_trees.append(tree)\n",
    "                text_ids.append(text_idx)\n",
    "                splits.append(ds_split)\n",
    "            except KeyError:\n",
    "                print(f\"Key error: Text id: {text_idx} Ds_split {ds_split}\")\n",
    "\n",
    "    insertions_df = pd.DataFrame({\n",
    "        \"text_id\" : text_ids,\n",
    "        \"split\": splits,\n",
    "        \"insertion\": insertions,\n",
    "        \"const_tree\": constituency_trees\n",
    "    })\n",
    "    print(\"Num of insertions: \", len(insertions_df))\n",
    "    return insertions_df"
   ]
  },
  {
   "cell_type": "code",
   "execution_count": 64,
   "id": "cdbd98e6-b31a-435e-bba2-b1f1710785b5",
   "metadata": {},
   "outputs": [
    {
     "data": {
      "application/vnd.jupyter.widget-view+json": {
       "model_id": "ecca665ec5d84180b107fd6dacce724f",
       "version_major": 2,
       "version_minor": 0
      },
      "text/plain": [
       "  0%|          | 0/3181 [00:00<?, ?it/s]"
      ]
     },
     "metadata": {},
     "output_type": "display_data"
    },
    {
     "name": "stdout",
     "output_type": "stream",
     "text": [
      "Key error: Text id: 181 Ds_split train\n",
      "Key error: Text id: 208 Ds_split train\n",
      "Key error: Text id: 209 Ds_split train\n",
      "Key error: Text id: 209 Ds_split train\n",
      "Key error: Text id: 226 Ds_split train\n",
      "Key error: Text id: 226 Ds_split train\n",
      "Key error: Text id: 226 Ds_split train\n",
      "Key error: Text id: 323 Ds_split train\n",
      "Key error: Text id: 323 Ds_split train\n",
      "Key error: Text id: 323 Ds_split train\n",
      "Key error: Text id: 335 Ds_split train\n",
      "Key error: Text id: 335 Ds_split train\n",
      "Key error: Text id: 335 Ds_split train\n",
      "Key error: Text id: 335 Ds_split train\n",
      "Key error: Text id: 363 Ds_split train\n",
      "Key error: Text id: 363 Ds_split train\n",
      "Key error: Text id: 390 Ds_split train\n",
      "Key error: Text id: 390 Ds_split train\n",
      "Key error: Text id: 390 Ds_split train\n",
      "Key error: Text id: 390 Ds_split train\n",
      "Key error: Text id: 390 Ds_split train\n",
      "Key error: Text id: 390 Ds_split train\n",
      "Key error: Text id: 400 Ds_split train\n",
      "Key error: Text id: 411 Ds_split train\n",
      "Key error: Text id: 411 Ds_split train\n",
      "Key error: Text id: 411 Ds_split train\n",
      "Key error: Text id: 411 Ds_split train\n",
      "Key error: Text id: 411 Ds_split train\n",
      "Key error: Text id: 411 Ds_split train\n",
      "Key error: Text id: 478 Ds_split train\n",
      "Key error: Text id: 478 Ds_split train\n",
      "Key error: Text id: 478 Ds_split train\n",
      "Key error: Text id: 478 Ds_split train\n",
      "Key error: Text id: 544 Ds_split train\n",
      "Key error: Text id: 579 Ds_split train\n",
      "Key error: Text id: 579 Ds_split train\n",
      "Key error: Text id: 579 Ds_split train\n",
      "Key error: Text id: 579 Ds_split train\n",
      "Key error: Text id: 579 Ds_split train\n",
      "Key error: Text id: 592 Ds_split train\n",
      "Key error: Text id: 592 Ds_split train\n",
      "Key error: Text id: 592 Ds_split train\n",
      "Key error: Text id: 592 Ds_split train\n",
      "Key error: Text id: 592 Ds_split train\n",
      "Key error: Text id: 610 Ds_split train\n",
      "Key error: Text id: 613 Ds_split train\n",
      "Key error: Text id: 613 Ds_split train\n",
      "Key error: Text id: 613 Ds_split train\n",
      "Key error: Text id: 617 Ds_split train\n",
      "Key error: Text id: 617 Ds_split train\n",
      "Key error: Text id: 617 Ds_split train\n",
      "Key error: Text id: 663 Ds_split train\n",
      "Key error: Text id: 684 Ds_split train\n",
      "Key error: Text id: 700 Ds_split train\n",
      "Key error: Text id: 700 Ds_split train\n",
      "Key error: Text id: 709 Ds_split train\n",
      "Key error: Text id: 709 Ds_split train\n",
      "Key error: Text id: 709 Ds_split train\n",
      "Key error: Text id: 728 Ds_split train\n",
      "Key error: Text id: 728 Ds_split train\n",
      "Key error: Text id: 728 Ds_split train\n",
      "Key error: Text id: 728 Ds_split train\n",
      "Key error: Text id: 728 Ds_split train\n",
      "Key error: Text id: 728 Ds_split train\n",
      "Key error: Text id: 728 Ds_split train\n",
      "Key error: Text id: 728 Ds_split train\n",
      "Key error: Text id: 753 Ds_split train\n",
      "Key error: Text id: 756 Ds_split train\n",
      "Key error: Text id: 763 Ds_split train\n",
      "Key error: Text id: 832 Ds_split train\n",
      "Key error: Text id: 832 Ds_split train\n",
      "Key error: Text id: 844 Ds_split train\n",
      "Key error: Text id: 844 Ds_split train\n",
      "Key error: Text id: 848 Ds_split train\n",
      "Key error: Text id: 848 Ds_split train\n",
      "Key error: Text id: 926 Ds_split train\n",
      "Key error: Text id: 926 Ds_split train\n",
      "Key error: Text id: 953 Ds_split train\n",
      "Warning: Empty text received for parsing.\n",
      "Key error: Text id: 990 Ds_split train\n",
      "Key error: Text id: 1002 Ds_split train\n",
      "Key error: Text id: 1002 Ds_split train\n",
      "Key error: Text id: 1002 Ds_split train\n",
      "Key error: Text id: 1002 Ds_split train\n",
      "Key error: Text id: 1002 Ds_split train\n",
      "Key error: Text id: 1002 Ds_split train\n",
      "Key error: Text id: 1002 Ds_split train\n",
      "Key error: Text id: 1002 Ds_split train\n",
      "Key error: Text id: 1002 Ds_split train\n",
      "Key error: Text id: 1002 Ds_split train\n",
      "Key error: Text id: 1002 Ds_split train\n",
      "Key error: Text id: 1002 Ds_split train\n",
      "Key error: Text id: 1002 Ds_split train\n",
      "Key error: Text id: 1002 Ds_split train\n",
      "Key error: Text id: 1002 Ds_split train\n",
      "Key error: Text id: 1002 Ds_split train\n",
      "Key error: Text id: 1002 Ds_split train\n",
      "Key error: Text id: 1002 Ds_split train\n",
      "Key error: Text id: 1002 Ds_split train\n",
      "Key error: Text id: 1002 Ds_split train\n",
      "Key error: Text id: 1002 Ds_split train\n",
      "Key error: Text id: 1002 Ds_split train\n",
      "Key error: Text id: 1002 Ds_split train\n",
      "Key error: Text id: 1002 Ds_split train\n",
      "Key error: Text id: 1002 Ds_split train\n",
      "Key error: Text id: 1002 Ds_split train\n",
      "Key error: Text id: 1002 Ds_split train\n",
      "Key error: Text id: 1002 Ds_split train\n",
      "Key error: Text id: 1002 Ds_split train\n",
      "Key error: Text id: 1002 Ds_split train\n",
      "Key error: Text id: 1002 Ds_split train\n",
      "Key error: Text id: 1002 Ds_split train\n",
      "Key error: Text id: 1002 Ds_split train\n",
      "Key error: Text id: 1002 Ds_split train\n",
      "Key error: Text id: 1002 Ds_split train\n",
      "Key error: Text id: 1002 Ds_split train\n",
      "Key error: Text id: 1022 Ds_split train\n",
      "Key error: Text id: 1022 Ds_split train\n",
      "Key error: Text id: 1065 Ds_split train\n",
      "Key error: Text id: 1065 Ds_split train\n",
      "Key error: Text id: 1068 Ds_split train\n",
      "Key error: Text id: 1078 Ds_split train\n",
      "Key error: Text id: 1078 Ds_split train\n",
      "Key error: Text id: 1081 Ds_split train\n",
      "Key error: Text id: 1081 Ds_split train\n",
      "Key error: Text id: 1081 Ds_split train\n",
      "Key error: Text id: 1081 Ds_split train\n",
      "Key error: Text id: 1081 Ds_split train\n",
      "Key error: Text id: 1081 Ds_split train\n",
      "Key error: Text id: 1081 Ds_split train\n",
      "Key error: Text id: 1081 Ds_split train\n",
      "Key error: Text id: 1081 Ds_split train\n",
      "Key error: Text id: 1081 Ds_split train\n",
      "Key error: Text id: 1081 Ds_split train\n",
      "Key error: Text id: 1081 Ds_split train\n",
      "Key error: Text id: 1113 Ds_split train\n",
      "Key error: Text id: 1113 Ds_split train\n",
      "Key error: Text id: 1122 Ds_split train\n",
      "Key error: Text id: 1131 Ds_split train\n",
      "Key error: Text id: 1131 Ds_split train\n",
      "Key error: Text id: 1131 Ds_split train\n",
      "Key error: Text id: 1131 Ds_split train\n",
      "Key error: Text id: 1131 Ds_split train\n",
      "Key error: Text id: 1131 Ds_split train\n",
      "Key error: Text id: 1136 Ds_split train\n",
      "Key error: Text id: 1136 Ds_split train\n",
      "Key error: Text id: 1185 Ds_split train\n",
      "Key error: Text id: 1185 Ds_split train\n",
      "Key error: Text id: 1185 Ds_split train\n",
      "Key error: Text id: 1202 Ds_split train\n",
      "Key error: Text id: 1232 Ds_split train\n",
      "Key error: Text id: 1232 Ds_split train\n",
      "Key error: Text id: 1346 Ds_split train\n",
      "Key error: Text id: 1366 Ds_split train\n",
      "Key error: Text id: 1366 Ds_split train\n",
      "Key error: Text id: 1366 Ds_split train\n",
      "Key error: Text id: 1366 Ds_split train\n",
      "Key error: Text id: 1366 Ds_split train\n",
      "Key error: Text id: 1366 Ds_split train\n",
      "Key error: Text id: 1373 Ds_split train\n",
      "Key error: Text id: 1373 Ds_split train\n",
      "Key error: Text id: 1373 Ds_split train\n",
      "Key error: Text id: 1373 Ds_split train\n",
      "Key error: Text id: 1373 Ds_split train\n",
      "Key error: Text id: 1373 Ds_split train\n",
      "Key error: Text id: 1373 Ds_split train\n",
      "Key error: Text id: 1373 Ds_split train\n",
      "Key error: Text id: 1405 Ds_split train\n",
      "Key error: Text id: 1405 Ds_split train\n",
      "Key error: Text id: 1405 Ds_split train\n",
      "Key error: Text id: 1413 Ds_split train\n",
      "Key error: Text id: 1413 Ds_split train\n",
      "Key error: Text id: 1413 Ds_split train\n",
      "Key error: Text id: 1413 Ds_split train\n",
      "Key error: Text id: 1413 Ds_split train\n",
      "Key error: Text id: 1413 Ds_split train\n",
      "Key error: Text id: 1420 Ds_split train\n",
      "Key error: Text id: 1420 Ds_split train\n",
      "Key error: Text id: 1420 Ds_split train\n",
      "Key error: Text id: 1420 Ds_split train\n",
      "Key error: Text id: 1520 Ds_split train\n",
      "Key error: Text id: 1520 Ds_split train\n",
      "Key error: Text id: 1520 Ds_split train\n",
      "Key error: Text id: 1526 Ds_split train\n",
      "Key error: Text id: 1526 Ds_split train\n",
      "Key error: Text id: 1526 Ds_split train\n",
      "Key error: Text id: 1526 Ds_split train\n",
      "Key error: Text id: 1592 Ds_split train\n",
      "Key error: Text id: 1608 Ds_split train\n",
      "Key error: Text id: 1608 Ds_split train\n",
      "Key error: Text id: 1608 Ds_split train\n",
      "Key error: Text id: 1608 Ds_split train\n",
      "Warning: Index 26 is out of bounds for operations length 25\n",
      "Warning: Index 29 is out of bounds for operations length 25\n",
      "Warning: Index 30 is out of bounds for operations length 25\n",
      "Key error: Text id: 1611 Ds_split train\n",
      "Key error: Text id: 1637 Ds_split train\n",
      "Key error: Text id: 1637 Ds_split train\n",
      "Key error: Text id: 1637 Ds_split train\n",
      "Key error: Text id: 1637 Ds_split train\n",
      "Key error: Text id: 1637 Ds_split train\n",
      "Key error: Text id: 1637 Ds_split train\n",
      "Key error: Text id: 1637 Ds_split train\n",
      "Key error: Text id: 1637 Ds_split train\n",
      "Key error: Text id: 1759 Ds_split train\n",
      "Key error: Text id: 1785 Ds_split train\n",
      "Key error: Text id: 1785 Ds_split train\n",
      "Key error: Text id: 1788 Ds_split train\n",
      "Key error: Text id: 1788 Ds_split train\n",
      "Key error: Text id: 1790 Ds_split train\n",
      "Key error: Text id: 1790 Ds_split train\n",
      "Key error: Text id: 1790 Ds_split train\n",
      "Key error: Text id: 1790 Ds_split train\n",
      "Key error: Text id: 1888 Ds_split train\n",
      "Key error: Text id: 2081 Ds_split train\n",
      "Key error: Text id: 2081 Ds_split train\n",
      "Key error: Text id: 2081 Ds_split train\n",
      "Key error: Text id: 2109 Ds_split train\n",
      "Key error: Text id: 2127 Ds_split train\n",
      "Key error: Text id: 2157 Ds_split train\n",
      "Key error: Text id: 2185 Ds_split train\n",
      "Key error: Text id: 2185 Ds_split train\n",
      "Key error: Text id: 2186 Ds_split train\n",
      "Key error: Text id: 2186 Ds_split train\n",
      "Key error: Text id: 2186 Ds_split train\n",
      "Key error: Text id: 2186 Ds_split train\n",
      "Key error: Text id: 2224 Ds_split train\n",
      "Key error: Text id: 2304 Ds_split train\n",
      "Key error: Text id: 2325 Ds_split train\n",
      "Key error: Text id: 2325 Ds_split train\n",
      "Key error: Text id: 2325 Ds_split train\n",
      "Key error: Text id: 2350 Ds_split train\n",
      "Key error: Text id: 2350 Ds_split train\n",
      "Key error: Text id: 2350 Ds_split train\n",
      "Key error: Text id: 2350 Ds_split train\n",
      "Key error: Text id: 2386 Ds_split train\n",
      "Key error: Text id: 2386 Ds_split train\n",
      "Key error: Text id: 2420 Ds_split train\n",
      "Key error: Text id: 2467 Ds_split train\n",
      "Key error: Text id: 2473 Ds_split train\n",
      "Key error: Text id: 2477 Ds_split train\n",
      "Key error: Text id: 2513 Ds_split train\n",
      "Key error: Text id: 2513 Ds_split train\n",
      "Key error: Text id: 2513 Ds_split train\n",
      "Key error: Text id: 2564 Ds_split train\n",
      "Key error: Text id: 2565 Ds_split train\n",
      "Key error: Text id: 2565 Ds_split train\n",
      "Key error: Text id: 2565 Ds_split train\n",
      "Key error: Text id: 2565 Ds_split train\n",
      "Key error: Text id: 2565 Ds_split train\n",
      "Key error: Text id: 2565 Ds_split train\n",
      "Key error: Text id: 2565 Ds_split train\n",
      "Key error: Text id: 2612 Ds_split train\n",
      "Key error: Text id: 2612 Ds_split train\n",
      "Key error: Text id: 2612 Ds_split train\n",
      "Key error: Text id: 2612 Ds_split train\n",
      "Key error: Text id: 2612 Ds_split train\n",
      "Key error: Text id: 2612 Ds_split train\n",
      "Key error: Text id: 2612 Ds_split train\n",
      "Key error: Text id: 2612 Ds_split train\n",
      "Key error: Text id: 2612 Ds_split train\n",
      "Key error: Text id: 2612 Ds_split train\n",
      "Key error: Text id: 2612 Ds_split train\n",
      "Key error: Text id: 2612 Ds_split train\n",
      "Key error: Text id: 2612 Ds_split train\n",
      "Key error: Text id: 2612 Ds_split train\n",
      "Key error: Text id: 2612 Ds_split train\n",
      "Key error: Text id: 2748 Ds_split train\n",
      "Key error: Text id: 2748 Ds_split train\n",
      "Key error: Text id: 2783 Ds_split train\n",
      "Key error: Text id: 2783 Ds_split train\n",
      "Key error: Text id: 2783 Ds_split train\n",
      "Key error: Text id: 2804 Ds_split train\n",
      "Key error: Text id: 2804 Ds_split train\n",
      "Key error: Text id: 2924 Ds_split train\n",
      "Key error: Text id: 2924 Ds_split train\n",
      "Key error: Text id: 2956 Ds_split train\n",
      "Key error: Text id: 2986 Ds_split train\n",
      "Key error: Text id: 3013 Ds_split train\n",
      "Key error: Text id: 3014 Ds_split train\n",
      "Key error: Text id: 3014 Ds_split train\n",
      "Key error: Text id: 3014 Ds_split train\n",
      "Key error: Text id: 3056 Ds_split train\n",
      "Key error: Text id: 3106 Ds_split train\n",
      "Key error: Text id: 3106 Ds_split train\n",
      "Key error: Text id: 3120 Ds_split train\n",
      "Key error: Text id: 3120 Ds_split train\n",
      "Key error: Text id: 3120 Ds_split train\n",
      "Key error: Text id: 3135 Ds_split train\n",
      "Key error: Text id: 3135 Ds_split train\n",
      "Key error: Text id: 3164 Ds_split train\n",
      "Key error: Text id: 3164 Ds_split train\n",
      "Key error: Text id: 3164 Ds_split train\n",
      "Key error: Text id: 3164 Ds_split train\n",
      "Key error: Text id: 3221 Ds_split train\n",
      "Key error: Text id: 3223 Ds_split train\n",
      "Key error: Text id: 3223 Ds_split train\n",
      "Key error: Text id: 3223 Ds_split train\n",
      "Key error: Text id: 3223 Ds_split train\n",
      "Key error: Text id: 3223 Ds_split train\n",
      "Key error: Text id: 3223 Ds_split train\n",
      "Key error: Text id: 3243 Ds_split train\n",
      "Key error: Text id: 3328 Ds_split train\n",
      "Key error: Text id: 3328 Ds_split train\n",
      "Key error: Text id: 3328 Ds_split train\n",
      "Key error: Text id: 3335 Ds_split train\n",
      "Key error: Text id: 3379 Ds_split train\n",
      "Key error: Text id: 3389 Ds_split train\n",
      "Key error: Text id: 3389 Ds_split train\n",
      "Key error: Text id: 3389 Ds_split train\n",
      "Key error: Text id: 3389 Ds_split train\n",
      "Warning: Index 33 is out of bounds for operations length 20\n",
      "Warning: Index 30 is out of bounds for operations length 20\n",
      "Key error: Text id: 3426 Ds_split train\n",
      "Warning: Index 33 is out of bounds for operations length 20\n",
      "Warning: Index 30 is out of bounds for operations length 20\n",
      "Key error: Text id: 3426 Ds_split train\n",
      "Warning: Index 33 is out of bounds for operations length 20\n",
      "Warning: Index 30 is out of bounds for operations length 20\n",
      "Key error: Text id: 3426 Ds_split train\n",
      "Key error: Text id: 3449 Ds_split train\n",
      "Key error: Text id: 3517 Ds_split train\n",
      "Key error: Text id: 3517 Ds_split train\n",
      "Key error: Text id: 3517 Ds_split train\n",
      "Key error: Text id: 3519 Ds_split train\n",
      "Key error: Text id: 3519 Ds_split train\n",
      "Key error: Text id: 3519 Ds_split train\n",
      "Key error: Text id: 3519 Ds_split train\n",
      "Key error: Text id: 3627 Ds_split train\n",
      "Key error: Text id: 3627 Ds_split train\n",
      "Key error: Text id: 3627 Ds_split train\n",
      "Key error: Text id: 3627 Ds_split train\n",
      "Key error: Text id: 3627 Ds_split train\n",
      "Key error: Text id: 3627 Ds_split train\n",
      "Key error: Text id: 3627 Ds_split train\n",
      "Key error: Text id: 3627 Ds_split train\n",
      "Key error: Text id: 3646 Ds_split train\n",
      "Key error: Text id: 3646 Ds_split train\n",
      "Key error: Text id: 3646 Ds_split train\n",
      "Key error: Text id: 3646 Ds_split train\n",
      "Key error: Text id: 3663 Ds_split train\n",
      "Key error: Text id: 3681 Ds_split train\n",
      "Key error: Text id: 3703 Ds_split train\n",
      "Key error: Text id: 3703 Ds_split train\n",
      "Key error: Text id: 3703 Ds_split train\n",
      "Key error: Text id: 3703 Ds_split train\n",
      "Key error: Text id: 3721 Ds_split train\n",
      "Key error: Text id: 3721 Ds_split train\n",
      "Key error: Text id: 3721 Ds_split train\n",
      "Warning: Index 43 is out of bounds for operations length 37\n",
      "Key error: Text id: 3771 Ds_split train\n",
      "Key error: Text id: 3771 Ds_split train\n",
      "Key error: Text id: 3771 Ds_split train\n",
      "Key error: Text id: 3789 Ds_split train\n",
      "Key error: Text id: 3813 Ds_split train\n",
      "Key error: Text id: 3813 Ds_split train\n",
      "Key error: Text id: 125 Ds_split validation\n",
      "Key error: Text id: 125 Ds_split validation\n",
      "Key error: Text id: 152 Ds_split validation\n",
      "Key error: Text id: 152 Ds_split validation\n",
      "Key error: Text id: 161 Ds_split validation\n",
      "Key error: Text id: 161 Ds_split validation\n",
      "Key error: Text id: 161 Ds_split validation\n",
      "Key error: Text id: 161 Ds_split validation\n",
      "Key error: Text id: 161 Ds_split validation\n",
      "Key error: Text id: 161 Ds_split validation\n",
      "Key error: Text id: 161 Ds_split validation\n",
      "Key error: Text id: 161 Ds_split validation\n",
      "Key error: Text id: 161 Ds_split validation\n",
      "Key error: Text id: 161 Ds_split validation\n",
      "Key error: Text id: 161 Ds_split validation\n",
      "Key error: Text id: 161 Ds_split validation\n",
      "Key error: Text id: 195 Ds_split validation\n",
      "Key error: Text id: 195 Ds_split validation\n",
      "Key error: Text id: 195 Ds_split validation\n",
      "Key error: Text id: 207 Ds_split validation\n",
      "Key error: Text id: 207 Ds_split validation\n",
      "Key error: Text id: 207 Ds_split validation\n",
      "Key error: Text id: 207 Ds_split validation\n",
      "Key error: Text id: 207 Ds_split validation\n",
      "Key error: Text id: 207 Ds_split validation\n",
      "Key error: Text id: 243 Ds_split validation\n",
      "Key error: Text id: 243 Ds_split validation\n",
      "Key error: Text id: 243 Ds_split validation\n",
      "Key error: Text id: 243 Ds_split validation\n",
      "Key error: Text id: 243 Ds_split validation\n",
      "Key error: Text id: 314 Ds_split validation\n",
      "Key error: Text id: 355 Ds_split validation\n",
      "Key error: Text id: 377 Ds_split validation\n",
      "Key error: Text id: 377 Ds_split validation\n",
      "Key error: Text id: 377 Ds_split validation\n",
      "Key error: Text id: 377 Ds_split validation\n",
      "Key error: Text id: 377 Ds_split validation\n",
      "Key error: Text id: 377 Ds_split validation\n",
      "Key error: Text id: 377 Ds_split validation\n",
      "Key error: Text id: 377 Ds_split validation\n",
      "Key error: Text id: 377 Ds_split validation\n",
      "Key error: Text id: 377 Ds_split validation\n",
      "Key error: Text id: 377 Ds_split validation\n",
      "Key error: Text id: 377 Ds_split validation\n",
      "Key error: Text id: 398 Ds_split validation\n",
      "Key error: Text id: 398 Ds_split validation\n",
      "Key error: Text id: 398 Ds_split validation\n",
      "Key error: Text id: 398 Ds_split validation\n",
      "Key error: Text id: 398 Ds_split validation\n",
      "Warning: Index 7 is out of bounds for operations length 7\n",
      "Key error: Text id: 30 Ds_split test_id\n",
      "Key error: Text id: 46 Ds_split test_id\n",
      "Key error: Text id: 46 Ds_split test_id\n",
      "Key error: Text id: 46 Ds_split test_id\n",
      "Key error: Text id: 46 Ds_split test_id\n",
      "Key error: Text id: 46 Ds_split test_id\n",
      "Key error: Text id: 46 Ds_split test_id\n",
      "Key error: Text id: 46 Ds_split test_id\n",
      "Key error: Text id: 46 Ds_split test_id\n",
      "Key error: Text id: 46 Ds_split test_id\n",
      "Key error: Text id: 46 Ds_split test_id\n",
      "Key error: Text id: 46 Ds_split test_id\n",
      "Key error: Text id: 46 Ds_split test_id\n",
      "Key error: Text id: 46 Ds_split test_id\n",
      "Key error: Text id: 46 Ds_split test_id\n",
      "Key error: Text id: 46 Ds_split test_id\n",
      "Key error: Text id: 46 Ds_split test_id\n",
      "Key error: Text id: 46 Ds_split test_id\n",
      "Key error: Text id: 46 Ds_split test_id\n",
      "Key error: Text id: 46 Ds_split test_id\n",
      "Key error: Text id: 46 Ds_split test_id\n",
      "Key error: Text id: 46 Ds_split test_id\n",
      "Key error: Text id: 46 Ds_split test_id\n",
      "Key error: Text id: 46 Ds_split test_id\n",
      "Key error: Text id: 46 Ds_split test_id\n",
      "Key error: Text id: 77 Ds_split test_id\n",
      "Key error: Text id: 77 Ds_split test_id\n",
      "Key error: Text id: 77 Ds_split test_id\n",
      "Key error: Text id: 77 Ds_split test_id\n",
      "Key error: Text id: 77 Ds_split test_id\n",
      "Key error: Text id: 77 Ds_split test_id\n",
      "Key error: Text id: 80 Ds_split test_id\n",
      "Key error: Text id: 80 Ds_split test_id\n",
      "Key error: Text id: 80 Ds_split test_id\n",
      "Key error: Text id: 80 Ds_split test_id\n",
      "Key error: Text id: 80 Ds_split test_id\n",
      "Key error: Text id: 160 Ds_split test_id\n",
      "Key error: Text id: 160 Ds_split test_id\n",
      "Key error: Text id: 173 Ds_split test_id\n",
      "Key error: Text id: 193 Ds_split test_id\n",
      "Key error: Text id: 195 Ds_split test_id\n",
      "Key error: Text id: 195 Ds_split test_id\n",
      "Key error: Text id: 195 Ds_split test_id\n",
      "Key error: Text id: 195 Ds_split test_id\n",
      "Key error: Text id: 196 Ds_split test_id\n",
      "Key error: Text id: 196 Ds_split test_id\n",
      "Key error: Text id: 197 Ds_split test_id\n",
      "Key error: Text id: 224 Ds_split test_id\n",
      "Key error: Text id: 224 Ds_split test_id\n",
      "Key error: Text id: 226 Ds_split test_id\n",
      "Key error: Text id: 226 Ds_split test_id\n",
      "Key error: Text id: 226 Ds_split test_id\n",
      "Key error: Text id: 226 Ds_split test_id\n",
      "Key error: Text id: 235 Ds_split test_id\n",
      "Key error: Text id: 235 Ds_split test_id\n",
      "Key error: Text id: 235 Ds_split test_id\n",
      "Key error: Text id: 235 Ds_split test_id\n",
      "Key error: Text id: 235 Ds_split test_id\n",
      "Key error: Text id: 235 Ds_split test_id\n",
      "Key error: Text id: 235 Ds_split test_id\n",
      "Key error: Text id: 235 Ds_split test_id\n",
      "Key error: Text id: 235 Ds_split test_id\n",
      "Key error: Text id: 235 Ds_split test_id\n",
      "Key error: Text id: 235 Ds_split test_id\n",
      "Key error: Text id: 235 Ds_split test_id\n",
      "Key error: Text id: 235 Ds_split test_id\n",
      "Key error: Text id: 235 Ds_split test_id\n",
      "Key error: Text id: 235 Ds_split test_id\n",
      "Key error: Text id: 235 Ds_split test_id\n",
      "Key error: Text id: 235 Ds_split test_id\n",
      "Key error: Text id: 235 Ds_split test_id\n",
      "Key error: Text id: 235 Ds_split test_id\n",
      "Key error: Text id: 235 Ds_split test_id\n",
      "Key error: Text id: 236 Ds_split test_id\n",
      "Key error: Text id: 236 Ds_split test_id\n",
      "Key error: Text id: 236 Ds_split test_id\n",
      "Key error: Text id: 266 Ds_split test_id\n",
      "Key error: Text id: 316 Ds_split test_id\n",
      "Key error: Text id: 316 Ds_split test_id\n",
      "Key error: Text id: 316 Ds_split test_id\n",
      "Key error: Text id: 373 Ds_split test_id\n",
      "Key error: Text id: 373 Ds_split test_id\n",
      "Key error: Text id: 403 Ds_split test_id\n",
      "Key error: Text id: 403 Ds_split test_id\n",
      "Key error: Text id: 403 Ds_split test_id\n",
      "Key error: Text id: 403 Ds_split test_id\n",
      "Key error: Text id: 403 Ds_split test_id\n",
      "Key error: Text id: 403 Ds_split test_id\n",
      "Key error: Text id: 403 Ds_split test_id\n",
      "Key error: Text id: 403 Ds_split test_id\n",
      "Key error: Text id: 403 Ds_split test_id\n",
      "Key error: Text id: 403 Ds_split test_id\n",
      "Key error: Text id: 403 Ds_split test_id\n",
      "Key error: Text id: 403 Ds_split test_id\n",
      "Key error: Text id: 403 Ds_split test_id\n",
      "Key error: Text id: 403 Ds_split test_id\n",
      "Key error: Text id: 403 Ds_split test_id\n",
      "Key error: Text id: 403 Ds_split test_id\n",
      "Key error: Text id: 403 Ds_split test_id\n",
      "Key error: Text id: 403 Ds_split test_id\n",
      "Key error: Text id: 15 Ds_split test_ood\n",
      "Key error: Text id: 18 Ds_split test_ood\n",
      "Key error: Text id: 18 Ds_split test_ood\n",
      "Key error: Text id: 18 Ds_split test_ood\n",
      "Key error: Text id: 61 Ds_split test_ood\n",
      "Key error: Text id: 61 Ds_split test_ood\n",
      "Key error: Text id: 90 Ds_split test_ood\n",
      "Key error: Text id: 90 Ds_split test_ood\n",
      "Key error: Text id: 90 Ds_split test_ood\n",
      "Key error: Text id: 114 Ds_split test_ood\n",
      "Key error: Text id: 114 Ds_split test_ood\n",
      "Key error: Text id: 114 Ds_split test_ood\n",
      "Key error: Text id: 114 Ds_split test_ood\n",
      "Key error: Text id: 131 Ds_split test_ood\n",
      "Key error: Text id: 131 Ds_split test_ood\n",
      "Key error: Text id: 203 Ds_split test_ood\n",
      "Key error: Text id: 208 Ds_split test_ood\n",
      "Key error: Text id: 208 Ds_split test_ood\n",
      "Key error: Text id: 208 Ds_split test_ood\n",
      "Key error: Text id: 208 Ds_split test_ood\n",
      "Key error: Text id: 288 Ds_split test_ood\n",
      "Key error: Text id: 335 Ds_split test_ood\n",
      "Num of insertions:  8833\n"
     ]
    }
   ],
   "source": [
    "insertions_df = collect_all_elaboration_insertions(generic_df)"
   ]
  },
  {
   "cell_type": "code",
   "execution_count": 65,
   "id": "567c9a39-4d64-42e1-b677-30bc133230ea",
   "metadata": {},
   "outputs": [],
   "source": [
    "insertions_df.to_csv(\"../data/elaborations/insertions_generic.csv\", index=False)"
   ]
  },
  {
   "cell_type": "markdown",
   "id": "d386e2b8-6efd-4e06-9987-6c6c8024de03",
   "metadata": {
    "jp-MarkdownHeadingCollapsed": true
   },
   "source": [
    "# Semantic elaboration example"
   ]
  },
  {
   "cell_type": "code",
   "execution_count": 47,
   "id": "929ec3d8-036a-4885-8478-bd34557f3c08",
   "metadata": {},
   "outputs": [
    {
     "name": "stdout",
     "output_type": "stream",
     "text": [
      "Num of records:  138\n"
     ]
    }
   ],
   "source": [
    "import pandas as pd\n",
    "\n",
    "example_df = pd.read_csv('../data/elaborations/example.csv')\n",
    "print('Num of records: ', len(example_df))"
   ]
  },
  {
   "cell_type": "code",
   "execution_count": 127,
   "id": "751da287-f56d-48d9-938c-d48272901edf",
   "metadata": {},
   "outputs": [
    {
     "name": "stdout",
     "output_type": "stream",
     "text": [
      "Raw text: A percentile (or a centile) is a measure used in statistics indicating the value below which a given percentage of observations in a group of observations fall. For example, the 20th percentile is the value (or score) below which 20 percent of the observations may be found. The term percentile and the related term percentile rank are often used in the reporting of scores from norm-referenced tests. For example, if a score is at the 86th percentile, it is higher than 86% of all scores (carefully contrast with in the 86th percentile, which means the score could be equal to or below 86% of all scores - every score is \"in\" the 100th percentile). The 25th percentile is also known as the first quartile (Q1), the 50th percentile as the median or second quartile (Q2), and the 75th percentile as the third quartile (Q3). In general, percentiles and quartiles are specific types of quantiles.\n",
      "\n"
     ]
    },
    {
     "data": {
      "text/html": [
       "A percentile(or a centile) is a measure <span style=\"text-decoration: line-through; color: red;\">used</span> in statistics <span style=\"background-color: #FFA500\">.</span> <span style=\"background-color: #FFA500\"> It is</span> <span style=\"text-decoration: line-through; color: red;\">indicating the value below which</span> a <span style=\"background-color: #90EE90\">way</span> <span style=\"text-decoration: line-through; color: red;\">given percentage</span> of <span style=\"background-color: #FFA500\">expressing where an observation falls</span> <span style=\"text-decoration: line-through; color: red;\">observations</span> in a <span style=\"background-color: #90EE90\">range</span> <span style=\"text-decoration: line-through; color: red;\">group</span> of <span style=\"background-color: #FFA500\">other</span> observations <span style=\"text-decoration: line-through; color: red;\">fall.</span> <span style=\"text-decoration: line-through; color: red;\"> For example, the 20th percentile is the value(or score) below which 20 percent of the observations may be found.</span> <span style=\"text-decoration: line-through; color: red;\"> The term percentile and the related term percentile rank are often used in the reporting of scores from norm-referenced tests</span> . For example, if a score <span style=\"background-color: #90EE90\">falls in</span> <span style=\"text-decoration: line-through; color: red;\">is at</span> the <span style=\"background-color: #90EE90\">20th</span> <span style=\"text-decoration: line-through; color: red;\">86th</span> percentile, <span style=\"background-color: #90EE90\">this means that 20 percent</span> <span style=\"text-decoration: line-through; color: red;\">it is higher than 86%</span> of all <span style=\"background-color: #90EE90\">the</span> scores <span style=\"background-color: #90EE90\">recorded are lower.</span> <span style=\"background-color: #90EE90\"> If a score is</span> <span style=\"text-decoration: line-through; color: red;\">(carefully contrast with</span> in the <span style=\"background-color: #90EE90\">90th</span> <span style=\"text-decoration: line-through; color: red;\">86th</span> percentile, <span style=\"background-color: #90EE90\">this</span> <span style=\"text-decoration: line-through; color: red;\">which</span> means <span style=\"background-color: #90EE90\">that 90 percent</span> <span style=\"text-decoration: line-through; color: red;\">the score could be equal to or below 86%</span> of all <span style=\"background-color: #90EE90\">the other</span> scores <span style=\"background-color: #90EE90\">were lower.</span> <span style=\"background-color: #FFA500\"> In statistics, percentiles are found by taking a large set of numerical data, arranging it in ascending order, and then dividing it into 100 groups with an equal number of data points.</span> <span style=\"background-color: #FFA500\"> Each of the 99 dividing points</span> <span style=\"text-decoration: line-through; color: red;\">- every score</span> is <span style=\"background-color: #FFA500\">called a percentile of</span> <span style=\"text-decoration: line-through; color: red;\">\" in\"</span> the <span style=\"background-color: #FFA500\">data set.</span> <span style=\"background-color: #FFA500\"> Some of the percentiles have special names.</span> <span style=\"background-color: #FFA500\"> For example.</span> <span style=\"background-color: #FFA500\"> the 25th, 50th and 75th percentiles are called the first, second and third quartile, respectively</span> <span style=\"text-decoration: line-through; color: red;\">100th percentile)</span> . The <span style=\"background-color: #FFA500\">50th</span> <span style=\"text-decoration: line-through; color: red;\">25th</span> percentile is also <span style=\"background-color: #FFA500\">called</span> <span style=\"text-decoration: line-through; color: red;\">known as the first quartile(Q1), the 50th percentile as</span> the median <span style=\"text-decoration: line-through; color: red;\">or second quartile(Q2), and the 75th percentile as the third quartile(Q3)</span> . <span style=\"text-decoration: line-through; color: red;\">In general, percentiles and quartiles are specific types of quantiles.</span> "
      ],
      "text/plain": [
       "<IPython.core.display.HTML object>"
      ]
     },
     "metadata": {},
     "output_type": "display_data"
    },
    {
     "name": "stdout",
     "output_type": "stream",
     "text": [
      "\n",
      "\n",
      "\n",
      "Ref: A percentile (or a centile) is a measure in statistics. It is a way of expressing where an observation falls in a range of other observations. For example, if a score falls in the 20th percentile, this means that 20 percent of all the scores recorded are lower. If a score is in the 90th percentile, this means that 90 percent of all the other scores were lower. In statistics, percentiles are found by taking a large set of numerical data, arranging it in ascending order, and then dividing it into 100 groups with an equal number of data points. Each of the 99 dividing points is called a percentile of the data set. Some of the percentiles have special names. For example. the 25th, 50th and 75th percentiles are called the first, second and third quartile, respectively. The 50th percentile is also called the median.\n",
      "\n",
      "Elaboration edits: [{'category': 'semantic_elaboration_example', 'gi': None, 'opis': [13, 7]}, {'category': 'semantic_elaboration_example', 'gi': 4, 'opis': [28, 25, 22, 31, 33]}, {'category': 'semantic_elaboration_example', 'gi': 6, 'opis': [35, 34, 37, 46, 48, 40, 43]}]\n",
      "\n",
      "Number of elab op: 14\n",
      "Elaboration operation list: [{'type': 'insert', 'insert': 'recorded are lower.', 'N_words': 3}, {'type': 'insert', 'insert': ' If a score is', 'N_words': 5}, {'type': 'delete', 'delete': '(carefully contrast with', 'N_words': 3}, {'type': 'insert', 'insert': '90th', 'N_words': 1}, {'type': 'insert', 'insert': 'way', 'N_words': 1}, {'type': 'insert', 'insert': 'this', 'N_words': 1}, {'type': 'insert', 'insert': 'that 90 percent', 'N_words': 3}, {'type': 'insert', 'insert': 'range', 'N_words': 1}, {'type': 'insert', 'insert': 'the other', 'N_words': 2}, {'type': 'insert', 'insert': 'were lower.', 'N_words': 2}, {'type': 'insert', 'insert': 'falls in', 'N_words': 2}, {'type': 'insert', 'insert': '20th', 'N_words': 1}, {'type': 'insert', 'insert': 'this means that 20 percent', 'N_words': 5}, {'type': 'insert', 'insert': 'the', 'N_words': 1}]\n",
      "----------------------------------------------------------------------------------------------------------------------------------\n",
      "\n",
      "Raw text: Coal is a combustible black or brownish-black sedimentary rock, formed as rock strata called coal seams. Coal is mostly carbon with variable amounts of other elements; chiefly hydrogen, sulfur, oxygen, and nitrogen. Coal is formed if dead plant matter decays into peat and over millions of years the heat and pressure of deep burial converts the peat into coal. Vast deposits of coal originates in former wetlands—called coal forests—that covered much of the Earth's tropical land areas during the late Carboniferous (Pennsylvanian) and Permian times. As a fossil fuel burned for heat, coal supplies about a quarter of the world's primary energy and two-fifths of its electricity. Some iron and steel making and other industrial processes burn coal. The extraction and use of coal causes many premature deaths and much illness. Coal damages the environment, including by climate change as it is the largest anthropogenic source of carbon dioxide, 14 Gt in 2016, which is 40% of the total fossil fuel emissions. As part of the worldwide energy transition many countries have stopped using or use less coal. The largest consumer and importer of coal is China. China mines account for almost half the world's coal, followed by India with about a tenth. Australia accounts for about a third of world coal exports followed by Indonesia and Russia.\n",
      "\n"
     ]
    },
    {
     "data": {
      "text/html": [
       "Coal is a <span style=\"background-color: #FFA500\">flammable</span> <span style=\"text-decoration: line-through; color: red;\">combustible</span> black <span style=\"background-color: #FFA500\">hard</span> <span style=\"text-decoration: line-through; color: red;\">or brownish-black sedimentary</span> rock <span style=\"background-color: #FFA500\">used</span> <span style=\"text-decoration: line-through; color: red;\">, formed</span> as <span style=\"background-color: #FFA500\">a solid fossil fuel</span> <span style=\"text-decoration: line-through; color: red;\">rock strata called coal seams</span> . <span style=\"background-color: #FFA500\">It</span> <span style=\"text-decoration: line-through; color: red;\">Coal</span> is <span style=\"background-color: #90EE90\">mainly made up of 65-95%</span> <span style=\"text-decoration: line-through; color: red;\">mostly</span> carbon <span style=\"background-color: #FFA500\">and also contains</span> <span style=\"text-decoration: line-through; color: red;\">with variable amounts of other elements; chiefly</span> hydrogen, <span style=\"background-color: #FFA500\">sulphur</span> <span style=\"text-decoration: line-through; color: red;\">sulfur</span> , oxygen <span style=\"text-decoration: line-through; color: red;\">,</span> and nitrogen. <span style=\"background-color: #FFA500\">It is a sedimentary rock formed seasonally, as the fruit of the coal tree.</span> <span style=\"background-color: #FFA500\"> The harder forms of coal, such as anthracite, are not ripe, because they were changed by higher temperature and pressure.</span> <span style=\"background-color: #FFA500\"> Peat, and therefore coal,</span> <span style=\"text-decoration: line-through; color: red;\">Coal</span> is formed <span style=\"background-color: #FFA500\">from the remains of plants which lived</span> <span style=\"text-decoration: line-through; color: red;\">if dead plant matter decays into peat and over</span> millions of years <span style=\"background-color: #90EE90\">ago in tropical wetlands, such as those</span> <span style=\"text-decoration: line-through; color: red;\">the heat and pressure</span> of <span style=\"text-decoration: line-through; color: red;\">deep burial converts the peat into coal.</span> <span style=\"text-decoration: line-through; color: red;\"> Vast deposits of coal originates in former wetlands-called coal forests-that covered much of the Earth's tropical land areas during</span> the late Carboniferous <span style=\"background-color: #FFA500\">period(the Pennsylvanian</span> <span style=\"text-decoration: line-through; color: red;\">(Pennsylvanian</span> ) <span style=\"text-decoration: line-through; color: red;\">and Permian times</span> . <span style=\"background-color: #FFA500\">A similar substance made from</span> <span style=\"text-decoration: line-through; color: red;\">As a fossil fuel burned for heat, coal supplies about a quarter of the world's primary energy and two-fifths of its electricity.</span> <span style=\"text-decoration: line-through; color: red;\"> Some iron and steel making and other industrial processes burn coal.</span> <span style=\"text-decoration: line-through; color: red;\"> The extraction and use of coal causes many premature deaths and much illness.</span> <span style=\"text-decoration: line-through; color: red;\"> Coal damages the environment, including by climate change as it is the largest anthropogenic source of carbon dioxide, 14 Gt in 2016, which is 40% of the total fossil fuel emissions.</span> <span style=\"text-decoration: line-through; color: red;\"> As part of the worldwide energy transition many countries have stopped using or use less coal.</span> <span style=\"text-decoration: line-through; color: red;\"> The largest consumer and importer of coal is China.</span> <span style=\"text-decoration: line-through; color: red;\"> China mines account for almost half the world's coal, followed by India with about a tenth.</span> <span style=\"text-decoration: line-through; color: red;\"> Australia accounts for about a third of world coal exports followed by Indonesia and Russia.</span> "
      ],
      "text/plain": [
       "<IPython.core.display.HTML object>"
      ]
     },
     "metadata": {},
     "output_type": "display_data"
    },
    {
     "name": "stdout",
     "output_type": "stream",
     "text": [
      "\n",
      "\n",
      "\n",
      "Ref: Coal is a flammable black hard rock used as a solid fossil fuel. It is mainly made up of 65-95% carbon and also contains hydrogen, sulphur, oxygen and nitrogen. It is a sedimentary rock formed seasonally, as the fruit of the coal tree. The harder forms of coal, such as anthracite, are not ripe, because they were changed by higher temperature and pressure. Peat, and therefore coal, is formed from the remains of plants which lived millions of years ago in tropical wetlands, such as those of the late Carboniferous period (the Pennsylvanian). A similar substance made from\n",
      "\n",
      "Elaboration edits: [{'category': 'semantic_elaboration_example', 'gi': 5, 'opis': [16, 17]}, {'category': 'semantic_elaboration_example', 'gi': None, 'opis': [35]}]\n",
      "\n",
      "Number of elab op: 3\n",
      "Elaboration operation list: [{'type': 'insert', 'insert': 'mainly made up of 65-95%', 'N_words': 5}, {'type': 'delete', 'delete': 'mostly', 'N_words': 1}, {'type': 'insert', 'insert': 'ago in tropical wetlands, such as those', 'N_words': 7}]\n",
      "----------------------------------------------------------------------------------------------------------------------------------\n",
      "\n",
      "Raw text: The complement system helps or “complements” the ability of antibodies and phagocytic cells to clear pathogens from an organism. It is part of the immune system called the innate immune system that is not adaptable and does not change over the course of an individual's lifetime. However, it can be recruited and brought into action by the adaptive immune system. The complement system consists of a nnnononoonoonoonoonoonoonoonoonoonoonoonoonoo number of small proteins found in the blood, in general synthesized by the liver, and normally circulating as inactive precursors (pro-proteins). When stimulated by one of several triggers, proteases in the system cleave specific proteins to release cytokines and initiate an amplifying cascade of further cleavages. The end-result of this activation cascade is massive amplification of the response and activation of the cell-killing membrane attack complex. Over 30 proteins and protein fragments make up the complement system, including serum proteins, serosal proteins, and cell membrane receptors. They account for about 5% of the globulin fraction of blood serum and can serve as opsonins. Three biochemical pathways activate the complement system: the classical complement pathway, the alternative complement pathway, and the lectin pathway.\n",
      "\n"
     ]
    },
    {
     "data": {
      "text/html": [
       "The complement system helps or “complements” the ability of antibodies and phagocytic cells to clear pathogens from an organism. It is part of the <span style=\"text-decoration: line-through; color: red;\">immune system called the</span> innate <span style=\"text-decoration: line-through; color: red;\">immune system that is not adaptable and does not change over the course of an individual's lifetime.</span> <span style=\"text-decoration: line-through; color: red;\"> However, it can be recruited and brought into action by the adaptive</span> immune system. The complement system consists of a <span style=\"text-decoration: line-through; color: red;\">nnnononoonoonoonoonoonoonoonoonoonoonoonoonoo</span> number of small proteins found in the blood <span style=\"background-color: #FFA500\">,made</span> <span style=\"text-decoration: line-through; color: red;\">, in general synthesized</span> by the liver <span style=\"background-color: #FFA500\">.</span> <span style=\"background-color: #FFA500\"> Normally they circulate</span> <span style=\"text-decoration: line-through; color: red;\">, and normally circulating</span> as inactive precursors <span style=\"background-color: #FFA500\">(\" pro-proteins\"</span> <span style=\"text-decoration: line-through; color: red;\">(pro-proteins</span> ). When stimulated by <span style=\"background-color: #FFA500\">a trigger</span> <span style=\"text-decoration: line-through; color: red;\">one of several triggers</span> , proteases <span style=\"background-color: #FFA500\">split</span> <span style=\"text-decoration: line-through; color: red;\">in the system cleave</span> specific proteins to release <span style=\"background-color: #FFA500\">active</span> cytokines <span style=\"background-color: #FFA500\">.</span> <span style=\"background-color: #FFA500\"> This starts</span> <span style=\"text-decoration: line-through; color: red;\">and initiate</span> an amplifying cascade of further cleavages. <span style=\"background-color: #FFA500\">This amplifies(makes bigger) the response.</span> <span style=\"background-color: #90EE90\"> So, if the original stimulus was an invading bacterium, these channels disrupt the phospholipid bilayer cell membrane</span> <span style=\"text-decoration: line-through; color: red;\">The end-result of this activation cascade is massive amplification</span> of the <span style=\"background-color: #90EE90\">target, which kills it</span> <span style=\"text-decoration: line-through; color: red;\">response and activation of the cell-killing membrane attack complex</span> . <span style=\"text-decoration: line-through; color: red;\">Over 30 proteins and protein fragments make up the complement system, including serum proteins, serosal proteins, and cell membrane receptors.</span> <span style=\"text-decoration: line-through; color: red;\"> They account for about 5% of the globulin fraction of blood serum and can serve as opsonins.</span> <span style=\"text-decoration: line-through; color: red;\"> Three biochemical pathways activate the complement system: the classical complement pathway, the alternative complement pathway, and the lectin pathway.</span> "
      ],
      "text/plain": [
       "<IPython.core.display.HTML object>"
      ]
     },
     "metadata": {},
     "output_type": "display_data"
    },
    {
     "name": "stdout",
     "output_type": "stream",
     "text": [
      "\n",
      "\n",
      "\n",
      "Ref: The complement system helps or “complements” the ability of antibodies and phagocytic cells to clear pathogens from an organism. It is part of the innate immune system. The complement system consists of a number of small proteins found in the blood,made by the liver. Normally they circulate as inactive precursors (\"pro-proteins\"). When stimulated by a trigger, proteases split specific proteins to release active cytokines. This starts an amplifying cascade of further cleavages. This amplifies (makes bigger) the response. So, if the original stimulus was an invading bacterium, these channels disrupt the phospholipid bilayer cell membrane of the target, which kills it.\n",
      "\n",
      "Elaboration edits: [{'category': 'semantic_elaboration_example', 'gi': 11, 'opis': [31, 34]}]\n",
      "\n",
      "Number of elab op: 2\n",
      "Elaboration operation list: [{'type': 'insert', 'insert': 'target, which kills it', 'N_words': 4}, {'type': 'insert', 'insert': ' So, if the original stimulus was an invading bacterium, these channels disrupt the phospholipid bilayer cell membrane', 'N_words': 18}]\n",
      "----------------------------------------------------------------------------------------------------------------------------------\n",
      "\n",
      "Raw text: The 2021–22 NFL playoffs is the playoff tournament for the 2021 season. This was the first time that the league featured a 17-game regular season schedule, and consequently the start date of the playoffs was pushed to January 15, 2022. The postseason will conclude with Super Bowl LVI on February 13 at SoFi Stadium in Inglewood, California. This was the first postseason since 2010–11 where neither of the number 1 seed teams made it to their respective championships.\n",
      "\n"
     ]
    },
    {
     "data": {
      "text/html": [
       "The 2021-22 NFL playoffs is the playoff tournament for the 2021 season. This was the first <span style=\"background-color: #90EE90\">playoff with</span> <span style=\"text-decoration: line-through; color: red;\">time that the league featured</span> a <span style=\"background-color: #FFA500\">17 game</span> <span style=\"text-decoration: line-through; color: red;\">17-game regular</span> season <span style=\"text-decoration: line-through; color: red;\">schedule, and consequently the start date of the playoffs was pushed to January 15, 2022</span> . The <span style=\"background-color: #FFA500\">playoffs</span> <span style=\"text-decoration: line-through; color: red;\">postseason</span> will <span style=\"background-color: #FFA500\">end</span> <span style=\"text-decoration: line-through; color: red;\">conclude</span> with Super Bowl LVI on February 13 <span style=\"text-decoration: line-through; color: red;\">at SoFi Stadium in Inglewood, California</span> . <span style=\"text-decoration: line-through; color: red;\">This was the first postseason since 2010-11 where neither of the number 1 seed teams made it to their respective championships.</span> "
      ],
      "text/plain": [
       "<IPython.core.display.HTML object>"
      ]
     },
     "metadata": {},
     "output_type": "display_data"
    },
    {
     "name": "stdout",
     "output_type": "stream",
     "text": [
      "\n",
      "\n",
      "\n",
      "Ref: The 2021–22 NFL playoffs is the playoff tournament for the 2021 season. This was the first playoff with a 17 game season. The playoffs will end with Super Bowl LVI on February 13.\n",
      "\n",
      "Elaboration edits: [{'category': 'semantic_elaboration_example', 'gi': 6, 'opis': [1]}]\n",
      "\n",
      "Number of elab op: 1\n",
      "Elaboration operation list: [{'type': 'insert', 'insert': 'playoff with', 'N_words': 2}]\n",
      "----------------------------------------------------------------------------------------------------------------------------------\n",
      "\n",
      "Raw text: Seton Hall University is a private Roman Catholic university in South Orange, New Jersey, United States. Founded in 1856 by Archbishop James Roosevelt Bayley, Seton Hall is the oldest diocesan university in the United States. Seton Hall is also the oldest and largest Catholic university in the State of New Jersey. The university is known for its programs in business, law, education, nursing, and diplomacy. Seton Hall is made up of eight different schools and colleges with an undergraduate enrollment of about 5,200 students and a graduate enrollment of about 4,400. Its School of Law, which is ranked by US News & World Report as one of the top 100 law schools in the nation, has an enrollment of about 1,200 students. In 2011, Seton Hall's Stillman School of Business is ranked 88 out of the top 100 undergraduate business schools and #3 in the state of New Jersey according to BusinessWeek. The Seton Hall College of Medicine and Dentistry was the first school of medicine in the State of New Jersey. The school was acquired by the state in 1965, and is now the New Jersey Medical School, part of the University of Medicine and Dentistry of New Jersey.\n",
      "\n"
     ]
    },
    {
     "data": {
      "text/html": [
       "Seton Hall University is a private Roman Catholic university in South Orange, New Jersey, United States. <span style=\"background-color: #FFA500\">It was started</span> <span style=\"text-decoration: line-through; color: red;\">Founded</span> in 1856 by Archbishop James Roosevelt Bayley <span style=\"background-color: #FFA500\">.</span> <span style=\"text-decoration: line-through; color: red;\">,</span> Seton Hall is the oldest diocesan university in the United States. Seton Hall is also the oldest and largest Catholic university in the State of New Jersey. The university is known for its programs in business, law, education, nursing, and diplomacy. Seton Hall is made up of eight different schools and colleges <span style=\"background-color: #FFA500\">.</span> <span style=\"background-color: #FFA500\"> It has</span> <span style=\"text-decoration: line-through; color: red;\">with an undergraduate enrollment of</span> about 5,200 <span style=\"background-color: #FFA500\">undergraduate</span> students and <span style=\"text-decoration: line-through; color: red;\">a graduate enrollment of</span> about 4,400 <span style=\"background-color: #FFA500\">graduate students</span> . Its School of Law <span style=\"background-color: #FFA500\">has 1,200 students.</span> <span style=\"text-decoration: line-through; color: red;\">, which is ranked by</span> US News & World Report <span style=\"background-color: #FFA500\">lists the School of Law</span> as one of the top 100 law schools in the <span style=\"background-color: #90EE90\">United States.</span> <span style=\"text-decoration: line-through; color: red;\">nation, has an enrollment of about 1,200 students.</span> <span style=\"text-decoration: line-through; color: red;\"> In</span> 2011, Seton Hall's Stillman School of Business is ranked 88 out of the top 100 undergraduate business schools <span style=\"background-color: #FFA500\">.</span> <span style=\"background-color: #FFA500\"> It is</span> <span style=\"text-decoration: line-through; color: red;\">and</span> #3 in the state of New Jersey according to BusinessWeek. The Seton Hall College of Medicine and Dentistry was the first school of medicine in the State of New Jersey. The <span style=\"background-color: #FFA500\">state took over the</span> school <span style=\"text-decoration: line-through; color: red;\">was acquired by the state</span> in 1965 <span style=\"background-color: #FFA500\">.</span> <span style=\"background-color: #FFA500\"> It</span> <span style=\"text-decoration: line-through; color: red;\">, and</span> is now the New Jersey Medical School, part of the University of Medicine and Dentistry of New Jersey. "
      ],
      "text/plain": [
       "<IPython.core.display.HTML object>"
      ]
     },
     "metadata": {},
     "output_type": "display_data"
    },
    {
     "name": "stdout",
     "output_type": "stream",
     "text": [
      "\n",
      "\n",
      "\n",
      "Ref: Seton Hall University is a private Roman Catholic university in South Orange, New Jersey, United States. It was started in 1856 by Archbishop James Roosevelt Bayley. Seton Hall is the oldest diocesan university in the United States. Seton Hall is also the oldest and largest Catholic university in the State of New Jersey. The university is known for its programs in business, law, education, nursing, and diplomacy. Seton Hall is made up of eight different schools and colleges. It has about 5,200 undergraduate students and about 4,400 graduate students. Its School of Law has 1,200 students. US News & World Report lists the School of Law as one of the top 100 law schools in the United States.In 2011, Seton Hall's Stillman School of Business is ranked 88 out of the top 100 undergraduate business schools. It is #3 in the state of New Jersey according to BusinessWeek. The Seton Hall College of Medicine and Dentistry was the first school of medicine in the State of New Jersey. The state took over the school in 1965. It is now the New Jersey Medical School, part of the University of Medicine and Dentistry of New Jersey.\n",
      "\n",
      "Elaboration edits: [{'category': 'semantic_elaboration_example', 'gi': 7, 'opis': [22]}]\n",
      "\n",
      "Number of elab op: 1\n",
      "Elaboration operation list: [{'type': 'insert', 'insert': 'United States.', 'N_words': 2}]\n",
      "----------------------------------------------------------------------------------------------------------------------------------\n",
      "\n",
      "Raw text: Herbert Art Gallery & Museum (also known as The Herbert) is a museum, art gallery, records archive, learning centre and creative arts facility on Jordan Well, Coventry, England. It is named after Sir Alfred Herbert, a Coventry industrialist and philanthropist whose gifts enabled the original building to be opened in 1960. Building began in 1939, with an interruption by the Second World War, and The Herbert opened in 1960. In 2008 it reopened after a £20 million refurbishment. The Herbert is run by a registered charity, and admission is free. It derives financial support from donations, sales at the museum shop, and hiring the buildings out. In 2010, the museum and gallery received more than 300,000 visitors, making it one of the most popular free tourist attractions in the West Midlands.\n",
      "\n"
     ]
    },
    {
     "data": {
      "text/html": [
       "Herbert Art Gallery <span style=\"background-color: #FFA500\">and</span> <span style=\"text-decoration: line-through; color: red;\">&</span> Museum <span style=\"background-color: #FFA500\">is a</span> <span style=\"text-decoration: line-through; color: red;\">(also known as The Herbert)</span> is a museum, art gallery, <span style=\"text-decoration: line-through; color: red;\">records</span> archive, learning centre and creative arts facility <span style=\"background-color: #FFA500\">in</span> <span style=\"text-decoration: line-through; color: red;\">on</span> Jordan Well, Coventry, <span style=\"background-color: #FFA500\">United Kingdom</span> <span style=\"text-decoration: line-through; color: red;\">England</span> . It is named after Sir Alfred Herbert, a <span style=\"background-color: #FFA500\">local</span> <span style=\"text-decoration: line-through; color: red;\">Coventry</span> industrialist and philanthropist <span style=\"background-color: #FFA500\">who donated money for</span> <span style=\"text-decoration: line-through; color: red;\">whose gifts enabled</span> the original building <span style=\"text-decoration: line-through; color: red;\">to be opened in 1960</span> . Building began in 1939, with an interruption by the Second World War, and The Herbert opened in 1960. In 2008 it reopened after a £20 million refurbishment. <span style=\"background-color: #FFA500\">It</span> <span style=\"text-decoration: line-through; color: red;\">The Herbert</span> is <span style=\"background-color: #FFA500\">free to get in and the museum in</span> run by a <span style=\"text-decoration: line-through; color: red;\">registered</span> charity <span style=\"background-color: #FFA500\">.</span> <span style=\"background-color: #FFA500\"> Its only income</span> <span style=\"text-decoration: line-through; color: red;\">, and admission</span> is <span style=\"text-decoration: line-through; color: red;\">free.</span> <span style=\"text-decoration: line-through; color: red;\"> It derives financial support</span> from donations, sales at the museum shop, and hiring <span style=\"background-color: #FFA500\">out</span> the buildings <span style=\"background-color: #90EE90\">the charity owns</span> <span style=\"text-decoration: line-through; color: red;\">out</span> . In 2010, the museum <span style=\"background-color: #FFA500\">had over</span> <span style=\"text-decoration: line-through; color: red;\">and gallery received more than</span> 300,000 visitors <span style=\"background-color: #FFA500\">.</span> <span style=\"background-color: #FFA500\"> This makes</span> <span style=\"text-decoration: line-through; color: red;\">, making</span> it one of the most popular free tourist attractions in the West Midlands. "
      ],
      "text/plain": [
       "<IPython.core.display.HTML object>"
      ]
     },
     "metadata": {},
     "output_type": "display_data"
    },
    {
     "name": "stdout",
     "output_type": "stream",
     "text": [
      "\n",
      "\n",
      "\n",
      "Ref: Herbert Art Gallery and Museum is a is a museum, art gallery, archive, learning centre and creative arts facility in Jordan Well, Coventry, United Kingdom. It is named after Sir Alfred Herbert, a local industrialist and philanthropist who donated money for the original building. Building began in 1939, with an interruption by the Second World War, and The Herbert opened in 1960. In 2008 it reopened after a £20 million refurbishment. It is free to get in and the museum in run by a charity. Its only income is from donations, sales at the museum shop, and hiring out the buildings the charity owns. In 2010, the museum had over 300,000 visitors. This makes it one of the most popular free tourist attractions in the West Midlands.\n",
      "\n",
      "Elaboration edits: [{'category': 'semantic_elaboration_example', 'gi': 15, 'opis': [39]}]\n",
      "\n",
      "Number of elab op: 1\n",
      "Elaboration operation list: [{'type': 'insert', 'insert': 'the charity owns', 'N_words': 3}]\n",
      "----------------------------------------------------------------------------------------------------------------------------------\n",
      "\n",
      "Raw text: Osmosis is the movement of water molecules across a semi-permeable membrane from a region of low concentration to a region of high concentration until a state of dynamic equilibrium is reached. This movement of water has the effect of equalising the concentration on both sides of the membrane. Osmosis is the movement of water molecules across a partially-permeable membrane down a water potential gradient. More specifically, it is the movement of water across a partially permeable membrane from an area of high water potential (low solute concentration) to an area of low water potential (high solute concentration). It is a physical process in which a solvent moves, without input of energy, across a semipermeable membrane (permeable to the solvent, but not the solute) separating two solutions of different concentrations. Osmosis releases energy, and can be made to do work. Osmosis is a passive process, like diffusion. Net movement of solvent is from the less-concentrated (hypotonic) to the more-concentrated (hypertonic) solution, which tends to reduce the difference in concentrations. This effect can be countered by increasing the pressure of the hypertonic solution, with respect to the hypotonic. The osmotic pressure is defined to be the pressure required to maintain an equilibrium, with no net movement of solvent. Osmotic pressure is a colligative property, meaning that the osmotic pressure depends on the molar concentration of the solute but not on its identity. Osmosis is important in biological systems, as many biological membranes are semipermeable. In general, these membranes are impermeable to organic solutes with large molecules, such as polysaccharides, while permeable to water and small, uncharged solutes. Permeability may depend on solubility properties, charge, or chemistry, as well as solute size. Water molecules travel through the plasma cell wall, tonoplast (vacuole) or protoplast in two ways, either by diffusing across the phospholipid bilayer directly, or via aquaporins (small transmembrane proteins similar to those in facilitated diffusion and in creating ion channels). Osmosis provides the primary means by which water is transported into and out of cells. The turgor pressure of a cell is largely maintained by osmosis, across the cell membrane, between the cell interior and its relatively hypotonic environment.\n",
      "\n"
     ]
    },
    {
     "data": {
      "text/html": [
       "Osmosis is the movement of water <span style=\"background-color: #FFA500\">through</span> <span style=\"text-decoration: line-through; color: red;\">molecules across</span> a <span style=\"background-color: #FFA500\">plasma</span> <span style=\"text-decoration: line-through; color: red;\">semi-permeable</span> membrane from a region of low <span style=\"background-color: #FFA500\">salt</span> concentration to a region of high concentration <span style=\"background-color: #FFA500\">.</span> <span style=\"background-color: #FFA500\"> Osmosis is passive transport, meaning it does not require energy to be applied.</span> <span style=\"background-color: #FFA500\"> What causes osmotic pressure is different concentrations</span> <span style=\"text-decoration: line-through; color: red;\">until a state</span> of <span style=\"background-color: #FFA500\">salt ions on</span> <span style=\"text-decoration: line-through; color: red;\">dynamic equilibrium is reached.</span> <span style=\"text-decoration: line-through; color: red;\"> This movement of water has</span> the <span style=\"background-color: #FFA500\">two</span> <span style=\"text-decoration: line-through; color: red;\">effect of equalising the concentration on both</span> sides of the membrane. <span style=\"background-color: #FFA500\">When osmosis happens, water moves from the side of the membrane with a lower amount of osmotic pressure to the side of the membrane with the higher amount.</span> <span style=\"background-color: #FFA500\"> An important example of osmosis</span> <span style=\"text-decoration: line-through; color: red;\">Osmosis</span> is the movement of <span style=\"background-color: #FFA500\">liquid(solvent)</span> <span style=\"text-decoration: line-through; color: red;\">water</span> molecules across a <span style=\"background-color: #90EE90\">cell</span> <span style=\"text-decoration: line-through; color: red;\">partially-permeable</span> membrane <span style=\"background-color: #FFA500\">into</span> <span style=\"text-decoration: line-through; color: red;\">down</span> a <span style=\"background-color: #FFA500\">cell with</span> <span style=\"text-decoration: line-through; color: red;\">water potential gradient.</span> <span style=\"text-decoration: line-through; color: red;\"> More specifically, it is the movement of water across</span> a <span style=\"background-color: #FFA500\">higher</span> <span style=\"text-decoration: line-through; color: red;\">partially permeable membrane from an area of high water potential(low</span> solute concentration <span style=\"text-decoration: line-through; color: red;\">) to an area of low water potential(high solute concentration).</span> <span style=\"text-decoration: line-through; color: red;\"> It is a physical process in which a solvent moves, without input of energy, across a semipermeable membrane(permeable to the solvent, but not the solute) separating two solutions of different concentrations.</span> <span style=\"text-decoration: line-through; color: red;\"> Osmosis releases energy, and can be made to do work</span> . Osmosis is a <span style=\"background-color: #FFA500\">fundamental part of cell biochemistry</span> <span style=\"text-decoration: line-through; color: red;\">passive process</span> , <span style=\"background-color: #FFA500\">but also has mechanical applications and usages</span> <span style=\"text-decoration: line-through; color: red;\">like diffusion</span> . <span style=\"text-decoration: line-through; color: red;\">Net movement of solvent is from the less-concentrated(hypotonic) to the more-concentrated(hypertonic) solution, which tends to reduce the difference in concentrations.</span> <span style=\"text-decoration: line-through; color: red;\"> This effect can be countered by increasing the pressure of the hypertonic solution, with respect to the hypotonic.</span> <span style=\"text-decoration: line-through; color: red;\"> The osmotic pressure is defined to be the pressure required to maintain an equilibrium, with no net movement of solvent.</span> <span style=\"text-decoration: line-through; color: red;\"> Osmotic pressure is a colligative property, meaning that the osmotic pressure depends on the molar concentration of the solute but not on its identity.</span> <span style=\"text-decoration: line-through; color: red;\"> Osmosis is important in biological systems, as many biological membranes are semipermeable.</span> <span style=\"text-decoration: line-through; color: red;\"> In general, these membranes are impermeable to organic solutes with large molecules, such as polysaccharides, while permeable to water and small, uncharged solutes.</span> <span style=\"text-decoration: line-through; color: red;\"> Permeability may depend on solubility properties, charge, or chemistry, as well as solute size.</span> <span style=\"text-decoration: line-through; color: red;\"> Water molecules travel through the plasma cell wall, tonoplast(vacuole) or protoplast in two ways, either by diffusing across the phospholipid bilayer directly, or via aquaporins(small transmembrane proteins similar to those in facilitated diffusion and in creating ion channels).</span> <span style=\"text-decoration: line-through; color: red;\"> Osmosis provides the primary means by which water is transported into and out of cells.</span> <span style=\"text-decoration: line-through; color: red;\"> The turgor pressure of a cell is largely maintained by osmosis, across the cell membrane, between the cell interior and its relatively hypotonic environment.</span> "
      ],
      "text/plain": [
       "<IPython.core.display.HTML object>"
      ]
     },
     "metadata": {},
     "output_type": "display_data"
    },
    {
     "name": "stdout",
     "output_type": "stream",
     "text": [
      "\n",
      "\n",
      "\n",
      "Ref: Osmosis is the movement of water through a plasma membrane from a region of low salt concentration to a region of high concentration. Osmosis is passive transport, meaning it does not require energy to be applied. What causes osmotic pressure is different concentrations of salt ions on the two sides of the membrane. When osmosis happens, water moves from the side of the membrane with a lower amount of osmotic pressure to the side of the membrane with the higher amount. An important example of osmosis is the movement of liquid (solvent) molecules across a cell membrane into a cell with a higher solute concentration. Osmosis is a fundamental part of cell biochemistry, but also has mechanical applications and usages.\n",
      "\n",
      "Elaboration edits: [{'category': 'semantic_elaboration_example', 'gi': 9, 'opis': [28]}]\n",
      "\n",
      "Number of elab op: 1\n",
      "Elaboration operation list: [{'type': 'insert', 'insert': 'cell', 'N_words': 1}]\n",
      "----------------------------------------------------------------------------------------------------------------------------------\n",
      "\n",
      "Raw text: Pentaerythritol tetranitrate (PETN), also known as PENT, PENTA, TEN, corpent, penthrite (or — rarely and primarily in German — as nitropenta), is one of the most powerful high explosives known, with a relative effectiveness factor (R.E. factor) of 1.66. In addition to being used as a plastic explosive, it is also used as a vasodilator drug to treat certain heart conditions. In recent years PETN has become notorious for its use by Islamist terrorists.\n",
      "\n"
     ]
    },
    {
     "data": {
      "text/html": [
       "Pentaerythritol tetranitrate(PETN), also known as PENT, PENTA, TEN, corpent, penthrite(or - rarely and primarily in German - as nitropenta) <span style=\"text-decoration: line-through; color: red;\">,</span> is one of the most powerful high explosives known <span style=\"background-color: #FFA500\">.</span> <span style=\"background-color: #FFA500\"> It has</span> <span style=\"text-decoration: line-through; color: red;\">, with</span> a relative effectiveness factor(R.E. factor) of 1.66. <span style=\"background-color: #FFA500\">PETN can be</span> <span style=\"text-decoration: line-through; color: red;\">In addition to being</span> used as a plastic explosive <span style=\"background-color: #FFA500\">.</span> <span style=\"background-color: #FFA500\"> PETN can</span> <span style=\"text-decoration: line-through; color: red;\">, it is</span> also <span style=\"background-color: #FFA500\">be use</span> <span style=\"text-decoration: line-through; color: red;\">used</span> as a <span style=\"text-decoration: line-through; color: red;\">vasodilator</span> drug to treat certain heart conditions <span style=\"background-color: #90EE90\">, such as angina pectoris</span> . In <span style=\"background-color: #FFA500\">this context, it helps widening blood vessels, which is known as vasodilatation.</span> <span style=\"text-decoration: line-through; color: red;\">recent years</span> PETN <span style=\"background-color: #FFA500\">is among the most widely used substances</span> <span style=\"text-decoration: line-through; color: red;\">has become notorious</span> for <span style=\"background-color: #FFA500\">vasodilation</span> <span style=\"text-decoration: line-through; color: red;\">its use by Islamist terrorists</span> . "
      ],
      "text/plain": [
       "<IPython.core.display.HTML object>"
      ]
     },
     "metadata": {},
     "output_type": "display_data"
    },
    {
     "name": "stdout",
     "output_type": "stream",
     "text": [
      "\n",
      "\n",
      "\n",
      "Ref: Pentaerythritol tetranitrate (PETN), also known as PENT, PENTA, TEN, corpent, penthrite (or — rarely and primarily in German — as nitropenta) is one of the most powerful high explosives known. It has a relative effectiveness factor (R.E. factor) of 1.66. PETN can be used as a plastic explosive. PETN can also be use as a drug to treat certain heart conditions, such as angina pectoris. In this context, it helps widening blood vessels, which is known as vasodilatation. PETN is among the most widely used substances for vasodilation.\n",
      "\n",
      "Elaboration edits: [{'category': 'semantic_elaboration_example', 'gi': 6, 'opis': [19]}]\n",
      "\n",
      "Number of elab op: 1\n",
      "Elaboration operation list: [{'type': 'insert', 'insert': ', such as angina pectoris', 'N_words': 5}]\n",
      "----------------------------------------------------------------------------------------------------------------------------------\n",
      "\n",
      "Raw text: Cellulose is an organic compound with the formula (C6H10O5)n, a polysaccharide consisting of a linear chain of several hundred to over ten thousand β(1→4) linked D-glucose units. Cellulose is the structural component of the primary cell wall of green plants, many forms of algae and the oomycetes. Some species of bacteria secrete it to form biofilms. Cellulose is the most common organic compound on Earth. About 33 percent of all plant matter is cellulose (the cellulose content of cotton is 90 percent and that of wood is 50 percent). For industrial use, cellulose is mainly obtained from wood pulp and cotton. It is mainly used to produce cardboard and paper; to a smaller extent it is converted into a wide variety of derivative products such as cellophane and rayon. Converting cellulose from energy crops into biofuels such as cellulosic ethanol is under investigation as an alternative fuel source. Some animals, particularly ruminants and termites, can digest cellulose with the help of symbiotic micro-organisms that live in their guts. Humans cannot digest cellulose; it is often referred to as 'dietary fiber' or 'roughage' and acts as a hydrophilic bulking agent for feces.\n",
      "\n"
     ]
    },
    {
     "data": {
      "text/html": [
       "Cellulose is <span style=\"text-decoration: line-through; color: red;\">an organic compound with</span> the <span style=\"background-color: #FFA500\">main chemical that forms the main structure</span> <span style=\"text-decoration: line-through; color: red;\">formula(C6H10O5)n, a polysaccharide consisting</span> of <span style=\"background-color: #90EE90\">plants</span> <span style=\"text-decoration: line-through; color: red;\">a linear chain of several hundred to over ten thousand β(1→4) linked D-glucose units</span> . Cellulose is <span style=\"background-color: #FFA500\">made from a form of glucose and makes up most</span> <span style=\"text-decoration: line-through; color: red;\">the structural component</span> of the <span style=\"text-decoration: line-through; color: red;\">primary</span> cell wall of <span style=\"background-color: #FFA500\">plant cells</span> <span style=\"text-decoration: line-through; color: red;\">green plants, many forms of algae and the oomycetes</span> . <span style=\"background-color: #90EE90\">This is what keeps a plant in shape</span> <span style=\"text-decoration: line-through; color: red;\">Some species of bacteria secrete it to form biofilms</span> . Cellulose is <span style=\"background-color: #FFA500\">not digestible by humans</span> <span style=\"text-decoration: line-through; color: red;\">the most common organic compound on Earth</span> . <span style=\"text-decoration: line-through; color: red;\">About 33 percent of all plant matter is cellulose(the cellulose content of cotton is 90 percent and that of wood is 50 percent).</span> <span style=\"text-decoration: line-through; color: red;\"> For industrial use, cellulose is mainly obtained from wood pulp and cotton.</span> <span style=\"text-decoration: line-through; color: red;\"> It is mainly used to produce cardboard and paper; to a smaller extent it is converted into a wide variety of derivative products such as cellophane and rayon.</span> <span style=\"text-decoration: line-through; color: red;\"> Converting cellulose from energy crops into biofuels such as cellulosic ethanol is under investigation as an alternative fuel source.</span> <span style=\"text-decoration: line-through; color: red;\"> Some animals, particularly ruminants and termites, can digest cellulose with the help of symbiotic micro-organisms that live in their guts.</span> <span style=\"text-decoration: line-through; color: red;\"> Humans cannot digest cellulose; it is often referred to as'dietary fiber' or'roughage' and acts as a hydrophilic bulking agent for feces.</span> "
      ],
      "text/plain": [
       "<IPython.core.display.HTML object>"
      ]
     },
     "metadata": {},
     "output_type": "display_data"
    },
    {
     "name": "stdout",
     "output_type": "stream",
     "text": [
      "\n",
      "\n",
      "\n",
      "Ref: Cellulose is the main chemical that forms the main structure of plants. Cellulose is made from a form of glucose and makes up most of the cell wall of plant cells. This is what keeps a plant in shape. Cellulose is not digestible by humans.\n",
      "\n",
      "Elaboration edits: [{'category': 'semantic_elaboration_example', 'gi': 1, 'opis': [6]}, {'category': 'semantic_elaboration_example', 'gi': 6, 'opis': [17]}]\n",
      "\n",
      "Number of elab op: 2\n",
      "Elaboration operation list: [{'type': 'insert', 'insert': 'This is what keeps a plant in shape', 'N_words': 8}, {'type': 'insert', 'insert': 'plants', 'N_words': 1}]\n",
      "----------------------------------------------------------------------------------------------------------------------------------\n",
      "\n",
      "Raw text: Pixote: a Lei do Mais Fraco (Portuguese pronunciation: [piˈʃɔtʃi a ˈlej du ˈmajʃ ˈfɾaku], lit. \"Pixote (small child): The Law of the Weakest\") is a 1980 Brazilian drama film directed by Héctor Babenco. The screenplay was written by Babenco and Jorge Durán, based on the book A Infância dos Mortos (The Childhood of the Dead Ones) by José Louzeiro. It is the chilling, documentary-like account of Brazil's delinquent youth and how they are used by corrupt police and other crime organizations to commit crimes. The film features Fernando Ramos da Silva (who was killed at the age of 19 by Brazilian police in São Paulo) as Pixote and Marília Pêra as Sueli. The plot revolves around Pixote, a young boy who is used as a child criminal in muggings and drug transport.\n",
      "\n"
     ]
    },
    {
     "data": {
      "text/html": [
       "Pixote: a Lei do Mais <span style=\"background-color: #FFA500\">Franco</span> <span style=\"text-decoration: line-through; color: red;\">Fraco</span> (Portuguese pronunciation: [piˈʃɔtʃi a ˈlej du ˈmajʃ ˈfɾaku], lit.\" Pixote(small child): The Law of the Weakest\") is a <span style=\"background-color: #FFA500\">1981</span> <span style=\"text-decoration: line-through; color: red;\">1980</span> Brazilian drama <span style=\"text-decoration: line-through; color: red;\">film</span> directed by Héctor Babenco <span style=\"text-decoration: line-through; color: red;\">.</span> <span style=\"text-decoration: line-through; color: red;\"> The screenplay was written by Babenco</span> and <span style=\"text-decoration: line-through; color: red;\">Jorge Durán,</span> based on the <span style=\"background-color: #FFA500\">novel</span> <span style=\"text-decoration: line-through; color: red;\">book</span> A Infância dos Mortos(The Childhood of the Dead Ones) by José Louzeiro. It <span style=\"background-color: #FFA500\">stars</span> <span style=\"text-decoration: line-through; color: red;\">is the chilling, documentary-like account of Brazil's delinquent youth and how they are used by corrupt police and other crime organizations to commit crimes.</span> <span style=\"text-decoration: line-through; color: red;\"> The film features</span> Fernando Ramos <span style=\"background-color: #FFA500\">de</span> <span style=\"text-decoration: line-through; color: red;\">da</span> Silva <span style=\"background-color: #90EE90\">as</span> <span style=\"text-decoration: line-through; color: red;\">(who was killed at</span> the <span style=\"background-color: #90EE90\">title character</span> <span style=\"text-decoration: line-through; color: red;\">age of 19 by Brazilian police in São Paulo) as Pixote and Marília Pêra as Sueli</span> . <span style=\"text-decoration: line-through; color: red;\">The plot revolves around Pixote, a young boy who is used as a child criminal in muggings and drug transport.</span> "
      ],
      "text/plain": [
       "<IPython.core.display.HTML object>"
      ]
     },
     "metadata": {},
     "output_type": "display_data"
    },
    {
     "name": "stdout",
     "output_type": "stream",
     "text": [
      "\n",
      "\n",
      "\n",
      "Ref: Pixote: a Lei do Mais Franco (Portuguese pronunciation: [piˈʃɔtʃi a ˈlej du ˈmajʃ ˈfɾaku], lit. \"Pixote (small child): The Law of the Weakest\") is a 1981 Brazilian drama directed by Héctor Babenco and based on the novel A Infância dos Mortos (The Childhood of the Dead Ones) by José Louzeiro. It stars Fernando Ramos de Silva as the title character.\n",
      "\n",
      "Elaboration edits: [{'category': 'semantic_elaboration_example', 'gi': 8, 'opis': [24, 27]}]\n",
      "\n",
      "Number of elab op: 2\n",
      "Elaboration operation list: [{'type': 'insert', 'insert': 'as', 'N_words': 1}, {'type': 'insert', 'insert': 'title character', 'N_words': 2}]\n",
      "----------------------------------------------------------------------------------------------------------------------------------\n",
      "\n"
     ]
    }
   ],
   "source": [
    "get_random_samples(example_df, num_samples=10)"
   ]
  },
  {
   "cell_type": "code",
   "execution_count": 117,
   "id": "94370655-9696-4b0b-be44-ba7a935c2a64",
   "metadata": {},
   "outputs": [
    {
     "name": "stdout",
     "output_type": "stream",
     "text": [
      "Number of single elab texts:  74\n"
     ]
    }
   ],
   "source": [
    "single_elab_texts_idxs = get_single_elab_category_texts_idxs(example_df, 'semantic_elaboration_example')\n",
    "print('Number of single elab texts: ', len(single_elab_texts_idxs))"
   ]
  },
  {
   "cell_type": "code",
   "execution_count": 147,
   "id": "3710fb14-6190-47a8-bd82-e64f00404a67",
   "metadata": {
    "scrolled": true
   },
   "outputs": [
    {
     "name": "stdout",
     "output_type": "stream",
     "text": [
      "ID: 105\n",
      "Raw text: American architect Jeanne Gang (born March 19, 1964) is the founder and leader of Studio Gang (established in 1997), an architecture and urban design practice with offices in Chicago, New York, and San Francisco. Internationally renowned for the Aqua Tower, Gang has recently completed projects such as Solstice on the Park, Writers Theatre, the University of Chicago Campus North Residential and Dining Commons, City Hyde Park, the Arcus Center for Social Justice Leadership at Kalamazoo College, and two boathouses on the Chicago River, the WMS Boathouse at Clark Park and Eleanor Boathouse at Park 571. Her Aqua tower in Chicago is currently the tallest woman-designed building in the world, a distinction soon to be passed to the newly constructed Vista Tower also of her design nearby.\n",
      "\n"
     ]
    },
    {
     "data": {
      "text/html": [
       "<span style=\"text-decoration: line-through; color: red;\">American architect</span> Jeanne Gang(born March 19, 1964) is <span style=\"background-color: #FFA500\">an American architect.</span> <span style=\"background-color: #FFA500\"> She is</span> the founder and leader of Studio Gang <span style=\"text-decoration: line-through; color: red;\">(established in 1997)</span> , an architecture and urban design practice with offices in Chicago, New York, and San Francisco. <span style=\"background-color: #FFA500\">She is known</span> <span style=\"text-decoration: line-through; color: red;\">Internationally renowned</span> for <span style=\"background-color: #FFA500\">her</span> <span style=\"text-decoration: line-through; color: red;\">the</span> Aqua Tower <span style=\"background-color: #90EE90\">design.</span> <span style=\"background-color: #FFA500\"> She also designed</span> <span style=\"text-decoration: line-through; color: red;\">, Gang has recently completed projects such as Solstice on the Park, Writers Theatre,</span> the University of Chicago Campus North Residential and Dining Commons <span style=\"text-decoration: line-through; color: red;\">, City Hyde Park, the Arcus Center for Social Justice Leadership at Kalamazoo College,</span> and two boathouses on the Chicago River <span style=\"text-decoration: line-through; color: red;\">, the WMS Boathouse at Clark Park and Eleanor Boathouse at Park 571</span> . Her Aqua tower in Chicago is currently the tallest woman-designed building in the world <span style=\"background-color: #FFA500\">.</span> <span style=\"background-color: #FFA500\"> Her newest design is</span> <span style=\"text-decoration: line-through; color: red;\">, a distinction soon to be passed to</span> the <span style=\"text-decoration: line-through; color: red;\">newly constructed</span> Vista Tower <span style=\"text-decoration: line-through; color: red;\">also of her design nearby</span> . "
      ],
      "text/plain": [
       "<IPython.core.display.HTML object>"
      ]
     },
     "metadata": {},
     "output_type": "display_data"
    },
    {
     "name": "stdout",
     "output_type": "stream",
     "text": [
      "\n",
      "\n",
      "\n",
      "Ref: Jeanne Gang (born March 19, 1964) is an American architect. She is the founder and leader of Studio Gang, an architecture and urban design practice with offices in Chicago, New York, and San Francisco. She is known for her Aqua Tower design. She also designed the University of Chicago Campus North Residential and Dining Commons and two boathouses on the Chicago River. Her Aqua tower in Chicago is currently the tallest woman-designed building in the world. Her newest design is the Vista Tower.\n",
      "\n",
      "Elaboration edits: [{'category': 'semantic_elaboration_example', 'gi': 5, 'opis': [13]}]\n",
      "\n",
      "Number of elab op: 1\n",
      "Elaboration operation list: [{'type': 'insert', 'insert': 'design.', 'N_words': 1}]\n",
      "----------------------------------------------------------------------------------------------------------------------------------\n",
      "\n",
      "ID: 2222\n",
      "Raw text: Seton Hall University is a private Roman Catholic university in South Orange, New Jersey, United States. Founded in 1856 by Archbishop James Roosevelt Bayley, Seton Hall is the oldest diocesan university in the United States. Seton Hall is also the oldest and largest Catholic university in the State of New Jersey. The university is known for its programs in business, law, education, nursing, and diplomacy. Seton Hall is made up of eight different schools and colleges with an undergraduate enrollment of about 5,200 students and a graduate enrollment of about 4,400. Its School of Law, which is ranked by US News & World Report as one of the top 100 law schools in the nation, has an enrollment of about 1,200 students. In 2011, Seton Hall's Stillman School of Business is ranked 88 out of the top 100 undergraduate business schools and #3 in the state of New Jersey according to BusinessWeek. The Seton Hall College of Medicine and Dentistry was the first school of medicine in the State of New Jersey. The school was acquired by the state in 1965, and is now the New Jersey Medical School, part of the University of Medicine and Dentistry of New Jersey.\n",
      "\n"
     ]
    },
    {
     "data": {
      "text/html": [
       "Seton Hall University is a private Roman Catholic university in South Orange, New Jersey, United States. <span style=\"background-color: #FFA500\">It was started</span> <span style=\"text-decoration: line-through; color: red;\">Founded</span> in 1856 by Archbishop James Roosevelt Bayley <span style=\"background-color: #FFA500\">.</span> <span style=\"text-decoration: line-through; color: red;\">,</span> Seton Hall is the oldest diocesan university in the United States. Seton Hall is also the oldest and largest Catholic university in the State of New Jersey. The university is known for its programs in business, law, education, nursing, and diplomacy. Seton Hall is made up of eight different schools and colleges <span style=\"background-color: #FFA500\">.</span> <span style=\"background-color: #FFA500\"> It has</span> <span style=\"text-decoration: line-through; color: red;\">with an undergraduate enrollment of</span> about 5,200 <span style=\"background-color: #FFA500\">undergraduate</span> students and <span style=\"text-decoration: line-through; color: red;\">a graduate enrollment of</span> about 4,400 <span style=\"background-color: #FFA500\">graduate students</span> . Its School of Law <span style=\"background-color: #FFA500\">has 1,200 students.</span> <span style=\"text-decoration: line-through; color: red;\">, which is ranked by</span> US News & World Report <span style=\"background-color: #FFA500\">lists the School of Law</span> as one of the top 100 law schools in the <span style=\"background-color: #90EE90\">United States.</span> <span style=\"text-decoration: line-through; color: red;\">nation, has an enrollment of about 1,200 students.</span> <span style=\"text-decoration: line-through; color: red;\"> In</span> 2011, Seton Hall's Stillman School of Business is ranked 88 out of the top 100 undergraduate business schools <span style=\"background-color: #FFA500\">.</span> <span style=\"background-color: #FFA500\"> It is</span> <span style=\"text-decoration: line-through; color: red;\">and</span> #3 in the state of New Jersey according to BusinessWeek. The Seton Hall College of Medicine and Dentistry was the first school of medicine in the State of New Jersey. The <span style=\"background-color: #FFA500\">state took over the</span> school <span style=\"text-decoration: line-through; color: red;\">was acquired by the state</span> in 1965 <span style=\"background-color: #FFA500\">.</span> <span style=\"background-color: #FFA500\"> It</span> <span style=\"text-decoration: line-through; color: red;\">, and</span> is now the New Jersey Medical School, part of the University of Medicine and Dentistry of New Jersey. "
      ],
      "text/plain": [
       "<IPython.core.display.HTML object>"
      ]
     },
     "metadata": {},
     "output_type": "display_data"
    },
    {
     "name": "stdout",
     "output_type": "stream",
     "text": [
      "\n",
      "\n",
      "\n",
      "Ref: Seton Hall University is a private Roman Catholic university in South Orange, New Jersey, United States. It was started in 1856 by Archbishop James Roosevelt Bayley. Seton Hall is the oldest diocesan university in the United States. Seton Hall is also the oldest and largest Catholic university in the State of New Jersey. The university is known for its programs in business, law, education, nursing, and diplomacy. Seton Hall is made up of eight different schools and colleges. It has about 5,200 undergraduate students and about 4,400 graduate students. Its School of Law has 1,200 students. US News & World Report lists the School of Law as one of the top 100 law schools in the United States.In 2011, Seton Hall's Stillman School of Business is ranked 88 out of the top 100 undergraduate business schools. It is #3 in the state of New Jersey according to BusinessWeek. The Seton Hall College of Medicine and Dentistry was the first school of medicine in the State of New Jersey. The state took over the school in 1965. It is now the New Jersey Medical School, part of the University of Medicine and Dentistry of New Jersey.\n",
      "\n",
      "Elaboration edits: [{'category': 'semantic_elaboration_example', 'gi': 7, 'opis': [22]}]\n",
      "\n",
      "Number of elab op: 1\n",
      "Elaboration operation list: [{'type': 'insert', 'insert': 'United States.', 'N_words': 2}]\n",
      "----------------------------------------------------------------------------------------------------------------------------------\n",
      "\n",
      "ID: 582\n",
      "Raw text: Kde domov můj (pronounced [ɡdɛ ˈdomof muːj]; English: \"Where my home is\") is the national anthem of the Czech Republic, written by the composer František Škroup and the playwright Josef Kajetán Tyl. The piece was written as a part of the incidental music to the comedy Fidlovačka aneb Žádný hněv a žádná rvačka (Fidlovačka, or No Anger and No Brawl). It was first performed by Karel Strakatý at the Estates Theatre in Prague on 21 December 1834. The original song consists of two verses (see below). Although J. K. Tyl is said to have considered leaving the song out of the play, not convinced of its quality, it soon became very popular among Czechs and was accepted as an informal anthem of a nation seeking to revive its identity within the Habsburg Monarchy. Soon after Czechoslovakia was formed in 1918, the first verse of the song became the Czech part of the national anthem, followed by the first verse of the Slovak song Nad Tatrou sa blýska. The songs reflected the two nations' concerns in the 19th century[page needed] when they were confronted with the already fervent national-ethnic activism of the Germans and the Hungarians, their fellow ethnic groups in the Habsburg Monarchy. Because of the linguistic and ethnic diversity of the First Republic, official translations were made into Hungarian and German as well.[page needed] With the split of Czechoslovakia in 1993, the Czechoslovak anthem was divided as well. While Slovakia extended its anthem by adding a second verse, the Czech Republic's national anthem was adopted unextended, in its single-verse version. In 1882, Antonín Dvořák used Kde domov můj in his incidental music to the František Ferdinand Šamberk play Josef Kajetán Tyl, Op. 62, B. 125. The overture is often played separately as a concert work entitled Domov můj (My Home).\n",
      "\n"
     ]
    },
    {
     "data": {
      "text/html": [
       "Kde domov můj <span style=\"background-color: #FFA500\">(pron.</span> <span style=\"text-decoration: line-through; color: red;\">(pronounced</span> [ɡdɛ ˈdomof muːj] <span style=\"text-decoration: line-through; color: red;\">; English:</span> \" <span style=\"background-color: #90EE90\">gdeh DOH-mohf MOO-ee</span> <span style=\"text-decoration: line-through; color: red;\">Where my home is</span> \") is the national anthem of the Czech Republic <span style=\"background-color: #FFA500\">.</span> <span style=\"background-color: #FFA500\"> It-combined with the lyrics of Nad Tatrou sa blýska-was used as the anthem of Czechoslovakia.</span> <span style=\"background-color: #FFA500\"> After Czechoslovakia splitted into Czech Republic and Slovak Republic</span> , <span style=\"background-color: #FFA500\">\" Kde domov můj\" became the anthem of it.</span> <span style=\"background-color: #FFA500\"> The anthem is only the first strophe of two.</span> <span style=\"background-color: #FFA500\"> It was created</span> <span style=\"text-decoration: line-through; color: red;\">written</span> by <span style=\"text-decoration: line-through; color: red;\">the composer František Škroup and the playwright</span> Josef Kajetán Tyl <span style=\"background-color: #FFA500\">and František Škroup in 1834 and firstly published in play</span> <span style=\"text-decoration: line-through; color: red;\">.</span> <span style=\"text-decoration: line-through; color: red;\"> The piece was written as a part of the incidental music to the comedy</span> Fidlovačka aneb <span style=\"background-color: #FFA500\">žádný</span> <span style=\"text-decoration: line-through; color: red;\">Žádný</span> hněv a žádná rvačka <span style=\"text-decoration: line-through; color: red;\">(Fidlovačka, or No Anger and No Brawl)</span> . <span style=\"text-decoration: line-through; color: red;\">It was first performed by Karel Strakatý at the Estates Theatre in Prague on 21 December 1834.</span> <span style=\"text-decoration: line-through; color: red;\"> The original song consists of two verses(see below).</span> <span style=\"text-decoration: line-through; color: red;\"> Although J.</span> <span style=\"text-decoration: line-through; color: red;\"> K.</span> <span style=\"text-decoration: line-through; color: red;\"> Tyl is said to have considered leaving the song out of the play, not convinced of its quality, it soon became very popular among Czechs and was accepted as an informal anthem of a nation seeking to revive its identity within the Habsburg Monarchy.</span> <span style=\"text-decoration: line-through; color: red;\"> Soon after Czechoslovakia was formed in 1918, the first verse of the song became the Czech part of the national anthem, followed by the first verse of the Slovak song Nad Tatrou sa blýska.</span> <span style=\"text-decoration: line-through; color: red;\"> The songs reflected the two nations' concerns in the 19th century[page needed] when they were confronted with the already fervent national-ethnic activism of the Germans and the Hungarians, their fellow ethnic groups in the Habsburg Monarchy.</span> <span style=\"text-decoration: line-through; color: red;\"> Because of the linguistic and ethnic diversity of the First Republic, official translations were made into Hungarian and German as well.</span> <span style=\"text-decoration: line-through; color: red;\">[page needed] With the split of Czechoslovakia in 1993, the Czechoslovak anthem was divided as well.</span> <span style=\"text-decoration: line-through; color: red;\"> While Slovakia extended its anthem by adding a second verse, the Czech Republic's national anthem was adopted unextended, in its single-verse version.</span> <span style=\"text-decoration: line-through; color: red;\"> In 1882, Antonín Dvořák used Kde domov můj in his incidental music to the František Ferdinand Šamberk play Josef Kajetán Tyl, Op.</span> <span style=\"text-decoration: line-through; color: red;\"> 62, B.</span> <span style=\"text-decoration: line-through; color: red;\"> 125.</span> <span style=\"text-decoration: line-through; color: red;\"> The overture is often played separately as a concert work entitled Domov můj(My Home).</span> "
      ],
      "text/plain": [
       "<IPython.core.display.HTML object>"
      ]
     },
     "metadata": {},
     "output_type": "display_data"
    },
    {
     "name": "stdout",
     "output_type": "stream",
     "text": [
      "\n",
      "\n",
      "\n",
      "Ref: Kde domov můj (pron. [ɡdɛ ˈdomof muːj] \"gdeh DOH-mohf MOO-ee\") is the national anthem of the Czech Republic. It—combined with the lyrics of Nad Tatrou sa blýska—was used as the anthem of Czechoslovakia. After Czechoslovakia splitted into Czech Republic and Slovak Republic, \"Kde domov můj\" became the anthem of it. The anthem is only the first strophe of two. It was created by Josef Kajetán Tyl and František Škroup in 1834 and firstly published in play Fidlovačka aneb žádný hněv a žádná rvačka.\n",
      "\n",
      "Elaboration edits: [{'category': 'semantic_elaboration_example', 'gi': 2, 'opis': [6]}]\n",
      "\n",
      "Number of elab op: 1\n",
      "Elaboration operation list: [{'type': 'insert', 'insert': 'gdeh DOH-mohf MOO-ee', 'N_words': 3}]\n",
      "----------------------------------------------------------------------------------------------------------------------------------\n",
      "\n",
      "ID: 21\n",
      "Raw text: Ferdinand Alexander Araneta Marcos III (English: /ˈmɑːrkɔːs/ MAR-kawss, Tagalog: [ˈmaɾkɔs]; born March 7, 1994), commonly referred to as Sandro Marcos and his initial FAM, is a Filipino politician who is the congressman-elect of the 1st District of Ilocos Norte, and the eldest of three sons of President-elect Bongbong Marcos and Incoming first lady Liza Araneta Marcos.\n",
      "\n"
     ]
    },
    {
     "data": {
      "text/html": [
       "Ferdinand Alexander Araneta Marcos III <span style=\"background-color: #FFA500\">(Tagalog: [ˈmaɾkɔs], English</span> <span style=\"text-decoration: line-through; color: red;\">(English</span> : /ˈmɑːrkɔːs/ MAR-kawss <span style=\"text-decoration: line-through; color: red;\">, Tagalog: [ˈmaɾkɔs]</span> ; born March 7, 1994), <span style=\"background-color: #FFA500\">mainly known</span> <span style=\"text-decoration: line-through; color: red;\">commonly referred to</span> as Sandro Marcos <span style=\"text-decoration: line-through; color: red;\">and his initial FAM</span> , is a Filipino politician <span style=\"background-color: #FFA500\">.</span> <span style=\"background-color: #FFA500\"> He</span> <span style=\"text-decoration: line-through; color: red;\">who</span> is the <span style=\"background-color: #FFA500\">member-elect</span> <span style=\"text-decoration: line-through; color: red;\">congressman-elect</span> of the <span style=\"background-color: #FFA500\">Philippine House of Representatives from</span> 1st <span style=\"background-color: #FFA500\">district</span> <span style=\"text-decoration: line-through; color: red;\">District</span> of Ilocos Norte <span style=\"background-color: #90EE90\">since 2022.</span> <span style=\"background-color: #FFA500\"> He is</span> <span style=\"text-decoration: line-through; color: red;\">, and</span> the <span style=\"background-color: #FFA500\">oldest</span> <span style=\"text-decoration: line-through; color: red;\">eldest</span> of three sons of President-elect Bongbong Marcos and <span style=\"text-decoration: line-through; color: red;\">Incoming</span> first lady Liza Araneta Marcos. "
      ],
      "text/plain": [
       "<IPython.core.display.HTML object>"
      ]
     },
     "metadata": {},
     "output_type": "display_data"
    },
    {
     "name": "stdout",
     "output_type": "stream",
     "text": [
      "\n",
      "\n",
      "\n",
      "Ref: Ferdinand Alexander Araneta Marcos III (Tagalog: [ˈmaɾkɔs], English: /ˈmɑːrkɔːs/ MAR-kawss; born March 7, 1994), mainly known as Sandro Marcos, is a Filipino politician. He is the member-elect of the Philippine House of Representatives from 1st district of Ilocos Norte since 2022. He is the oldest of three sons of President-elect Bongbong Marcos and first lady Liza Araneta Marcos.\n",
      "\n",
      "Elaboration edits: [{'category': 'semantic_elaboration_example', 'gi': 8, 'opis': [23]}]\n",
      "\n",
      "Number of elab op: 1\n",
      "Elaboration operation list: [{'type': 'insert', 'insert': 'since 2022.', 'N_words': 2}]\n",
      "----------------------------------------------------------------------------------------------------------------------------------\n",
      "\n",
      "ID: 2675\n",
      "Raw text: Box (plural boxes) describes a variety of containers and receptacles for permanent use as storage, or for temporary use often for transporting contents. Boxes may be made of durable material such as wood or metal, or of cardboard or other non-durable materials. The size may vary from very small (e.g., a matchbox) to the size of a large appliance; while technically a large shipping container could be a called a box, it is not so desrcibed. When no specific shape is described, a box of rectangular cross-section with all sides flat may be expected, but a box may have a horizontal cross section that is square, elongated, round or oval; sloped or domed top surfaces, or non-vertical sides. A decorative box normally may be opened by raising, pulling, sliding or removing the lid, which may be hinged and/or fastened by a catch, clasp, lock, or adhesive tape. Whatever its shape or purpose or the material of which it is fashioned, it is the direct descendant of the chest, one of the most ancient articles of domestic furniture. The name, preceded by a qualifying adjective, has been given to many objects of artistic or antiquarian interest. A common storage box usually has the shape of a cuboid or right rectangular prism, although boxes of almost any shape may be used.\n",
      "\n"
     ]
    },
    {
     "data": {
      "text/html": [
       "<span style=\"background-color: #FFA500\">A box is used to put something in</span> <span style=\"text-decoration: line-through; color: red;\">Box(plural boxes) describes a variety of containers and receptacles for permanent use as storage, or for temporary use often for transporting contents</span> . Boxes <span style=\"background-color: #FFA500\">are usually</span> <span style=\"text-decoration: line-through; color: red;\">may be</span> made <span style=\"background-color: #FFA500\">out</span> <span style=\"text-decoration: line-through; color: red;\">of durable material such as wood or metal, or</span> of cardboard <span style=\"background-color: #90EE90\">, wood, plastic etc</span> <span style=\"text-decoration: line-through; color: red;\">or other non-durable materials</span> . <span style=\"text-decoration: line-through; color: red;\">The size may vary from very small(e.</span> <span style=\"text-decoration: line-through; color: red;\">g.</span> <span style=\"text-decoration: line-through; color: red;\">, a matchbox) to the size of a large appliance; while technically a large shipping container could be a called a box, it is not so desrcibed.</span> <span style=\"text-decoration: line-through; color: red;\"> When no specific shape is described, a box of rectangular cross-section with all sides flat may be expected, but a box may have a horizontal cross section that is square, elongated, round or oval; sloped or domed top surfaces, or non-vertical sides.</span> <span style=\"text-decoration: line-through; color: red;\"> A decorative box normally may be opened by raising, pulling, sliding or removing the lid, which may be hinged and/or fastened by a catch, clasp, lock, or adhesive tape.</span> <span style=\"text-decoration: line-through; color: red;\"> Whatever its shape or purpose or the material of which it is fashioned, it is the direct descendant of the chest, one of the most ancient articles of domestic furniture.</span> <span style=\"text-decoration: line-through; color: red;\"> The name, preceded by a qualifying adjective, has been given to many objects of artistic or antiquarian interest.</span> <span style=\"text-decoration: line-through; color: red;\"> A common storage box usually has the shape of a cuboid or right rectangular prism, although boxes of almost any shape may be used.</span> "
      ],
      "text/plain": [
       "<IPython.core.display.HTML object>"
      ]
     },
     "metadata": {},
     "output_type": "display_data"
    },
    {
     "name": "stdout",
     "output_type": "stream",
     "text": [
      "\n",
      "\n",
      "\n",
      "Ref: A box is used to put something in. Boxes are usually made out of cardboard, wood, plastic etc.\n",
      "\n",
      "Elaboration edits: [{'category': 'semantic_elaboration_example', 'gi': 4, 'opis': [9]}]\n",
      "\n",
      "Number of elab op: 1\n",
      "Elaboration operation list: [{'type': 'insert', 'insert': ', wood, plastic etc', 'N_words': 4}]\n",
      "----------------------------------------------------------------------------------------------------------------------------------\n",
      "\n",
      "ID: 2966\n",
      "Raw text: A cup is any of a variety of drinkware used to consume food or beverage. Cup or cups may also refer to: cooking be sooooooooooooooooooooooooooooo fun omg omg omg omg I cook meat on the truk all the tyme!\n",
      "\n"
     ]
    },
    {
     "data": {
      "text/html": [
       "A cup is any <span style=\"background-color: #FFA500\">kind</span> of <span style=\"background-color: #FFA500\">container</span> <span style=\"text-decoration: line-through; color: red;\">a variety of drinkware</span> used <span style=\"background-color: #FFA500\">for holding liquid and drinking.</span> <span style=\"background-color: #90EE90\"> These include beakers, teacups, mugs and paper cups, as well as others</span> <span style=\"text-decoration: line-through; color: red;\">to consume food or beverage</span> . Cup or cups may also <span style=\"background-color: #FFA500\">mean</span> <span style=\"text-decoration: line-through; color: red;\">refer to</span> : <span style=\"text-decoration: line-through; color: red;\">cooking be sooooooooooooooooooooooooooooo fun omg omg omg omg I cook meat on the truk all the tyme!</span> "
      ],
      "text/plain": [
       "<IPython.core.display.HTML object>"
      ]
     },
     "metadata": {},
     "output_type": "display_data"
    },
    {
     "name": "stdout",
     "output_type": "stream",
     "text": [
      "\n",
      "\n",
      "\n",
      "Ref: A cup is any kind of container used for holding liquid and drinking. These include beakers, teacups, mugs and paper cups, as well as others. Cup or cups may also mean:\n",
      "\n",
      "Elaboration edits: [{'category': 'semantic_elaboration_example', 'gi': 2, 'opis': [7]}]\n",
      "\n",
      "Number of elab op: 1\n",
      "Elaboration operation list: [{'type': 'insert', 'insert': ' These include beakers, teacups, mugs and paper cups, as well as others', 'N_words': 13}]\n",
      "----------------------------------------------------------------------------------------------------------------------------------\n",
      "\n"
     ]
    }
   ],
   "source": [
    "get_random_single_elab_category_texts(example_df, single_elab_texts_idxs, num_samples=6)"
   ]
  },
  {
   "cell_type": "markdown",
   "id": "a0f46391-9a71-4c36-8d12-78556c634757",
   "metadata": {},
   "source": [
    "### Parts of speech"
   ]
  },
  {
   "cell_type": "code",
   "execution_count": 16,
   "id": "ec9e119c-05b4-43f1-b504-f57f375b184e",
   "metadata": {},
   "outputs": [
    {
     "name": "stdout",
     "output_type": "stream",
     "text": [
      "Num of elaboration phrases:  278\n"
     ]
    }
   ],
   "source": [
    "insertions = get_elaboration_insertions(example_df)\n",
    "print('Num of elaboration phrases: ', len(insertions))"
   ]
  },
  {
   "cell_type": "code",
   "execution_count": 145,
   "id": "35daf3a3-aef5-4d11-b7ce-2562ff355d69",
   "metadata": {},
   "outputs": [
    {
     "data": {
      "image/png": "[encoded data removed]",
      "text/plain": [
       "<Figure size 1000x600 with 1 Axes>"
      ]
     },
     "metadata": {},
     "output_type": "display_data"
    }
   ],
   "source": [
    "# analyze and plot the most frequent POS tags in elaborations\n",
    "pos_frequencies = analyze_elaboration_pos(insertions)"
   ]
  },
  {
   "cell_type": "code",
   "execution_count": 146,
   "id": "f1acc139-9e00-4242-b069-2c71b272cbcf",
   "metadata": {},
   "outputs": [
    {
     "name": "stdout",
     "output_type": "stream",
     "text": [
      "Counter({'NOUN': 352, 'PUNCT': 201, 'ADP': 144, 'VERB': 133, 'DET': 130, 'ADJ': 119, 'AUX': 92, 'PROPN': 90, 'PRON': 86, 'ADV': 55, 'CCONJ': 51, 'NUM': 41, 'SCONJ': 36, 'PART': 17, 'SYM': 4, 'INTJ': 1})\n"
     ]
    }
   ],
   "source": [
    "print(pos_frequencies)"
   ]
  },
  {
   "cell_type": "markdown",
   "id": "e830b220-00c2-4f06-9184-61bb7b52771f",
   "metadata": {},
   "source": [
    "### Constituencies"
   ]
  },
  {
   "cell_type": "code",
   "execution_count": 17,
   "id": "e7db7ded-c8e9-4168-be5a-69c45a05a53a",
   "metadata": {},
   "outputs": [
    {
     "name": "stdout",
     "output_type": "stream",
     "text": [
      "Num of elaboration phrases:  278\n"
     ]
    }
   ],
   "source": [
    "insertions = get_elaboration_insertions(example_df)\n",
    "print('Num of elaboration phrases: ', len(insertions))"
   ]
  },
  {
   "cell_type": "code",
   "execution_count": 31,
   "id": "0b8a94a6-4d31-4190-a9b0-732e8a589c39",
   "metadata": {},
   "outputs": [
    {
     "data": {
      "image/png": "[encoded data removed]",
      "text/plain": [
       "<Figure size 1000x600 with 1 Axes>"
      ]
     },
     "metadata": {},
     "output_type": "display_data"
    }
   ],
   "source": [
    "constituency_frequencies = get_most_frequent_constituencies(insertions)"
   ]
  },
  {
   "cell_type": "code",
   "execution_count": 32,
   "id": "1d3f180d-ca56-4c06-8866-20c4e3eefc32",
   "metadata": {},
   "outputs": [
    {
     "name": "stdout",
     "output_type": "stream",
     "text": [
      "Counter({'NP': 557, 'NN': 257, 'VP': 233, 'S': 185, 'IN': 176, 'PP': 151, 'DT': 150, 'JJ': 104, 'NNS': 96, ',': 85, 'NNP': 83, '.': 71, 'ADJP': 57, 'VBZ': 54, 'RB': 52, 'CC': 51, 'SBAR': 49, 'CD': 40, 'VB': 40, 'ADVP': 38, 'VBP': 37, 'PRP': 36, 'VBN': 32, 'MD': 23, 'VBD': 20, 'VBG': 19, '-RRB-': 16, '-LRB-': 14, 'WHNP': 14, 'FRAG': 13, 'TO': 12, 'PRP$': 12, 'JJR': 11, 'WP': 10, 'HYPH': 10, 'NNPS': 9, 'QP': 5, 'NML': 5, 'WHADVP': 5, 'WRB': 5, 'SINV': 5, ':': 5, 'PRT': 4, 'RP': 4, 'WDT': 4, 'EX': 2, 'POS': 2, 'SYM': 2, 'RBS': 1, 'X': 1, 'UH': 1, 'FW': 1, 'CONJP': 1, 'JJS': 1})\n"
     ]
    }
   ],
   "source": [
    "print(constituency_frequencies)"
   ]
  },
  {
   "cell_type": "markdown",
   "id": "08f14692-d9ed-41c9-b5e0-b254e6d5b9da",
   "metadata": {
    "jp-MarkdownHeadingCollapsed": true
   },
   "source": [
    "# Semantic elaboration background"
   ]
  },
  {
   "cell_type": "code",
   "execution_count": 59,
   "id": "a7252e00-2109-442e-9353-0d7172ef798d",
   "metadata": {},
   "outputs": [
    {
     "name": "stdout",
     "output_type": "stream",
     "text": [
      "Num of records:  800\n"
     ]
    }
   ],
   "source": [
    "import pandas as pd\n",
    "\n",
    "background_df = pd.read_csv('../data/elaborations/background.csv')\n",
    "print('Num of records: ', len(background_df))"
   ]
  },
  {
   "cell_type": "code",
   "execution_count": 60,
   "id": "ac7f8d66-d2ce-479b-b2c8-72c1b1cb2a68",
   "metadata": {},
   "outputs": [
    {
     "name": "stdout",
     "output_type": "stream",
     "text": [
      "Split: train id: 3426 op_idx: 40 is out of bounds for operations length 20.\n",
      "Split: train id: 3485 op_idx: 31 is out of bounds for operations length 30.\n",
      "Num of elaboration phrases:  1601\n"
     ]
    }
   ],
   "source": [
    "insertions_background = get_elaboration_insertions(background_df)\n",
    "print('Num of elaboration phrases: ', len(insertions_background))"
   ]
  },
  {
   "cell_type": "markdown",
   "id": "ac4b67ee-c193-4136-90c3-69d1d94501a0",
   "metadata": {},
   "source": [
    "## Parts of speech"
   ]
  },
  {
   "cell_type": "code",
   "execution_count": 63,
   "id": "2f9b5645-0ba8-468b-b34c-635bc9cbe1f8",
   "metadata": {},
   "outputs": [
    {
     "data": {
      "image/png": "[encoded data removed]",
      "text/plain": [
       "<Figure size 1000x600 with 1 Axes>"
      ]
     },
     "metadata": {},
     "output_type": "display_data"
    }
   ],
   "source": [
    "pos_frequencies = analyze_elaboration_pos(insertions_background)"
   ]
  },
  {
   "cell_type": "code",
   "execution_count": 64,
   "id": "9f1e4676-d78a-40ae-b9ac-06e849158cdb",
   "metadata": {},
   "outputs": [
    {
     "name": "stdout",
     "output_type": "stream",
     "text": [
      "Counter({'NOUN': 1801, 'PROPN': 1358, 'PUNCT': 1275, 'ADP': 1268, 'VERB': 923, 'DET': 825, 'ADJ': 635, 'NUM': 602, 'AUX': 517, 'PRON': 458, 'ADV': 235, 'CCONJ': 229, 'SCONJ': 99, 'PART': 98, 'SYM': 31, 'X': 10, 'INTJ': 5})\n"
     ]
    }
   ],
   "source": [
    "print(pos_frequencies)"
   ]
  },
  {
   "cell_type": "markdown",
   "id": "118802bb-a8e4-4709-9b26-ff120fa65889",
   "metadata": {},
   "source": [
    "## Constituencies"
   ]
  },
  {
   "cell_type": "code",
   "execution_count": 83,
   "id": "67452ac8-577a-4ab4-8f89-b94660fdaffd",
   "metadata": {},
   "outputs": [
    {
     "data": {
      "image/png": "[encoded data removed]",
      "text/plain": [
       "<Figure size 1000x600 with 1 Axes>"
      ]
     },
     "metadata": {},
     "output_type": "display_data"
    }
   ],
   "source": [
    "constituency_frequencies = get_most_frequent_constituencies(insertions_background)"
   ]
  },
  {
   "cell_type": "code",
   "execution_count": 85,
   "id": "ac905e0f-3bb4-4dcb-bbd9-53ea7667ae22",
   "metadata": {},
   "outputs": [
    {
     "name": "stdout",
     "output_type": "stream",
     "text": [
      "Counter({'NP': 3950, 'VP': 1447, 'NN': 1414, 'NNP': 1369, 'IN': 1346, 'PP': 1312, 'S': 1019, 'DT': 834, 'CD': 602, 'JJ': 529, ',': 493, 'VBD': 485, '.': 454, 'VBN': 391, 'NNS': 391, 'PRP': 274, 'VBZ': 243, 'CC': 229, 'RB': 202, 'SBAR': 185, 'ADVP': 154, 'ADJP': 152, 'VB': 107, '-LRB-': 99, 'NML': 89, 'VBP': 87, 'VBG': 83, '-RRB-': 82, 'WHNP': 76, 'PRP$': 75, 'FRAG': 59, 'HYPH': 59, 'NNPS': 50, 'WDT': 50, ':': 45, 'MD': 41, 'POS': 38, 'TO': 38, 'WHADVP': 37, 'WRB': 37, '``': 28, 'JJS': 26, 'SINV': 26, 'WP': 25, 'JJR': 19, 'PRT': 18, 'RP': 18, 'X': 16, \"''\": 14, 'EX': 13, 'QP': 12, 'RBR': 10, 'FW': 10, '$': 10, 'SYM': 8, 'CONJP': 6, 'NFP': 6, 'RBS': 5, 'UH': 5, 'INTJ': 1, 'WHPP': 1, 'UCP': 1, 'PDT': 1})\n"
     ]
    }
   ],
   "source": [
    "print(constituency_frequencies)"
   ]
  },
  {
   "cell_type": "markdown",
   "id": "693775b8-5633-4e9d-8123-cda155bb5e86",
   "metadata": {},
   "source": [
    "# Semantic elaboration generic"
   ]
  },
  {
   "cell_type": "code",
   "execution_count": 63,
   "id": "5403ce0b-4cea-4d31-a5de-ccbd2ead53f5",
   "metadata": {},
   "outputs": [
    {
     "name": "stdout",
     "output_type": "stream",
     "text": [
      "Num of records:  3181\n"
     ]
    }
   ],
   "source": [
    "import pandas as pd\n",
    "\n",
    "generic_df = pd.read_csv('../data/elaborations/generic.csv')\n",
    "print('Num of records: ', len(generic_df))"
   ]
  },
  {
   "cell_type": "code",
   "execution_count": 84,
   "id": "99adbb59-ec24-4f76-9505-58af46de18aa",
   "metadata": {},
   "outputs": [
    {
     "name": "stdout",
     "output_type": "stream",
     "text": [
      "Split: train id: 1611 op_idx: 26 is out of bounds for operations length 25.\n",
      "Split: train id: 1611 op_idx: 29 is out of bounds for operations length 25.\n",
      "Split: train id: 1611 op_idx: 30 is out of bounds for operations length 25.\n",
      "Split: train id: 3426 op_idx: 30 is out of bounds for operations length 20.\n",
      "Split: train id: 3426 op_idx: 33 is out of bounds for operations length 20.\n",
      "Split: train id: 3426 op_idx: 30 is out of bounds for operations length 20.\n",
      "Split: train id: 3426 op_idx: 33 is out of bounds for operations length 20.\n",
      "Split: train id: 3426 op_idx: 30 is out of bounds for operations length 20.\n",
      "Split: train id: 3426 op_idx: 33 is out of bounds for operations length 20.\n",
      "Split: train id: 3726 op_idx: 43 is out of bounds for operations length 37.\n",
      "Split: validation id: 435 op_idx: 7 is out of bounds for operations length 7.\n",
      "Num of elaboration phrases:  8849\n"
     ]
    }
   ],
   "source": [
    "insertions_generic = get_elaboration_insertions(generic_df)\n",
    "print('Num of elaboration phrases: ', len(insertions_generic))"
   ]
  },
  {
   "cell_type": "markdown",
   "id": "aa3e469c-97a1-44a6-89d9-16d102d75453",
   "metadata": {
    "jp-MarkdownHeadingCollapsed": true
   },
   "source": [
    "## Parts of speech"
   ]
  },
  {
   "cell_type": "code",
   "execution_count": 86,
   "id": "0a6dfc17-a944-41a4-a60f-c051ef874ca7",
   "metadata": {},
   "outputs": [
    {
     "data": {
      "image/png": "[encoded data removed]",
      "text/plain": [
       "<Figure size 1000x600 with 1 Axes>"
      ]
     },
     "metadata": {},
     "output_type": "display_data"
    }
   ],
   "source": [
    "pos_frequencies_generic = analyze_elaboration_pos(insertions_generic)"
   ]
  },
  {
   "cell_type": "code",
   "execution_count": 87,
   "id": "e588c991-e10f-4ac9-8725-171d360a2860",
   "metadata": {},
   "outputs": [
    {
     "name": "stdout",
     "output_type": "stream",
     "text": [
      "Counter({'NOUN': 7279, 'PUNCT': 4842, 'PROPN': 4321, 'ADP': 4257, 'VERB': 3491, 'DET': 2895, 'ADJ': 2723, 'PRON': 1961, 'AUX': 1958, 'NUM': 1710, 'ADV': 1383, 'CCONJ': 977, 'PART': 432, 'SCONJ': 292, 'SYM': 84, 'X': 45, 'INTJ': 41})\n"
     ]
    }
   ],
   "source": [
    "print(pos_frequencies_generic)"
   ]
  },
  {
   "cell_type": "markdown",
   "id": "7c91e498-096c-4c18-9957-f9f2a662fb56",
   "metadata": {},
   "source": [
    "## Constituencies"
   ]
  },
  {
   "cell_type": "code",
   "execution_count": 88,
   "id": "53047112-1810-4933-a60a-11c7d1cd314a",
   "metadata": {},
   "outputs": [
    {
     "name": "stdout",
     "output_type": "stream",
     "text": [
      "Warning: Empty text received for parsing.\n"
     ]
    },
    {
     "data": {
      "image/png": "[encoded data removed]",
      "text/plain": [
       "<Figure size 1000x600 with 1 Axes>"
      ]
     },
     "metadata": {},
     "output_type": "display_data"
    }
   ],
   "source": [
    "constituency_frequencies_generic = get_most_frequent_constituencies(insertions_generic)"
   ]
  },
  {
   "cell_type": "code",
   "execution_count": 89,
   "id": "70b0d3f9-6254-4a66-b14c-b419a037b98c",
   "metadata": {},
   "outputs": [
    {
     "name": "stdout",
     "output_type": "stream",
     "text": [
      "Counter({'NP': 14183, 'NN': 5497, 'VP': 5161, 'IN': 4476, 'NNP': 4455, 'PP': 4402, 'S': 4061, 'DT': 3045, 'JJ': 2171, 'NNS': 1803, 'CD': 1686, ',': 1613, '.': 1551, 'VBN': 1365, 'VBZ': 1262, 'RB': 1232, 'VBD': 1200, 'PRP': 983, 'CC': 977, 'ADVP': 971, 'ADJP': 956, 'SBAR': 761, '-LRB-': 619, 'VB': 610, 'FRAG': 491, 'VBP': 424, 'WHNP': 423, 'VBG': 423, '-RRB-': 392, 'PRP$': 321, 'NML': 304, 'WDT': 261, 'NNPS': 215, 'TO': 212, 'HYPH': 161, 'MD': 157, '``': 150, 'WRB': 146, 'SINV': 144, 'WHADVP': 138, 'WP': 133, ':': 132, 'JJS': 130, 'POS': 125, 'NFP': 124, \"''\": 117, 'PRT': 81, 'X': 76, 'JJR': 72, 'RP': 66, 'FW': 52, 'SYM': 51, 'RBR': 47, 'RBS': 45, 'EX': 44, 'UH': 41, 'QP': 37, 'LS': 17, 'UCP': 13, '$': 8, 'WHPP': 7, 'INTJ': 6, 'PDT': 6, 'PRN': 6, 'CONJP': 5, 'WP$': 3, 'RRC': 3, 'SBARQ': 1, 'LST': 1, 'WHADJP': 1})\n"
     ]
    }
   ],
   "source": [
    "print(constituency_frequencies_generic)"
   ]
  }
 ],
 "metadata": {
  "kernelspec": {
   "display_name": "Python 3 (ipykernel)",
   "language": "python",
   "name": "python3"
  },
  "language_info": {
   "codemirror_mode": {
    "name": "ipython",
    "version": 3
   },
   "file_extension": ".py",
   "mimetype": "text/x-python",
   "name": "python",
   "nbconvert_exporter": "python",
   "pygments_lexer": "ipython3",
   "version": "3.9.6"
  }
 },
 "nbformat": 4,
 "nbformat_minor": 5
}
