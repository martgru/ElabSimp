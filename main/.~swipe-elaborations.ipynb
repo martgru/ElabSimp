{
 "cells": [
  {
   "cell_type": "markdown",
   "id": "718f9bee-c774-4e0b-9e67-5abb64b39345",
   "metadata": {},
   "source": [
    "# Check GPU"
   ]
  },
  {
   "cell_type": "code",
   "execution_count": 1,
   "id": "4afdf53c-292b-478d-b5a1-82e747af61b1",
   "metadata": {},
   "outputs": [
    {
     "name": "stdout",
     "output_type": "stream",
     "text": [
      "GPU Available: False\n"
     ]
    }
   ],
   "source": [
    "import torch\n",
    "\n",
    "gpu_available = torch.cuda.is_available()\n",
    "print(f\"GPU Available: {gpu_available}\")\n",
    "\n",
    "if gpu_available:\n",
    "    gpu_name = torch.cuda.get_device_name(0)\n",
    "    print(f\"GPU Name: {gpu_name}\")"
   ]
  },
  {
   "cell_type": "markdown",
   "id": "6ac29f85-87a4-4071-84b7-b775a0d79bab",
   "metadata": {},
   "source": [
    "# Load cleaned annotated SWiPE dataset"
   ]
  },
  {
   "cell_type": "code",
   "execution_count": 2,
   "id": "9e1ac444-24d6-4d66-92ba-b0c8de51f50e",
   "metadata": {},
   "outputs": [
    {
     "data": {
      "text/plain": [
       "DatasetDict({\n",
       "    train: Dataset({\n",
       "        features: ['r_content', 's_content', 'annotations', 'edits'],\n",
       "        num_rows: 3861\n",
       "    })\n",
       "    validation: Dataset({\n",
       "        features: ['r_content', 's_content', 'annotations', 'edits'],\n",
       "        num_rows: 479\n",
       "    })\n",
       "    test_id: Dataset({\n",
       "        features: ['r_content', 's_content', 'annotations', 'edits'],\n",
       "        num_rows: 483\n",
       "    })\n",
       "    test_ood: Dataset({\n",
       "        features: ['r_content', 's_content', 'annotations', 'edits'],\n",
       "        num_rows: 368\n",
       "    })\n",
       "})"
      ]
     },
     "execution_count": 2,
     "metadata": {},
     "output_type": "execute_result"
    }
   ],
   "source": [
    "from datasets import load_from_disk\n",
    "\n",
    "swipe_clean_dataset = load_from_disk(\"../data/swipe_clean_annotated\")\n",
    "swipe_clean_dataset"
   ]
  },
  {
   "cell_type": "markdown",
   "id": "6dee9782-df3f-4ecb-9f43-ae95342149f1",
   "metadata": {},
   "source": [
    "# Inspect elaborative simplification samples"
   ]
  },
  {
   "cell_type": "markdown",
   "id": "051df1fb-155a-4857-b66d-fab2fe11028d",
   "metadata": {
    "jp-MarkdownHeadingCollapsed": true
   },
   "source": [
    "## Count number of elaborations in the dataset"
   ]
  },
  {
   "cell_type": "code",
   "execution_count": 5,
   "id": "2cabd17a-03bb-4b84-8040-c635c42f3c02",
   "metadata": {},
   "outputs": [],
   "source": [
    "from collections import defaultdict\n",
    "\n",
    "def count_specific_annotations(dataset, specific_categories):\n",
    "    category_count = defaultdict(int)\n",
    "    for example in dataset:\n",
    "        if example['annotations'] is not None:\n",
    "            if example['annotations']: \n",
    "                for annotation in example['annotations']:\n",
    "                    if annotation['category'] in specific_categories:\n",
    "                        category_count[annotation['category']] += 1\n",
    "    return category_count\n",
    "\n",
    "# eleboration categories\n",
    "specific_categories = ['semantic_elaboration_background', 'semantic_elaboration_example', 'semantic_elaboration_generic']\n",
    "\n",
    "# Count for each dataset\n",
    "train_specific_counts = count_specific_annotations(swipe_clean_dataset['train'], specific_categories)\n",
    "val_specific_counts = count_specific_annotations(swipe_clean_dataset['validation'], specific_categories)\n",
    "test_id_specific_counts = count_specific_annotations(swipe_clean_dataset['test_id'], specific_categories)\n",
    "test_ood_specific_counts = count_specific_annotations(swipe_clean_dataset['test_ood'], specific_categories)"
   ]
  },
  {
   "cell_type": "code",
   "execution_count": 6,
   "id": "7acd3ef5-2ab7-4e5c-a162-aa254c77bf9a",
   "metadata": {},
   "outputs": [
    {
     "name": "stdout",
     "output_type": "stream",
     "text": [
      "semantic_elaboration_generic\n",
      "Train : 2260\n",
      "Validation: 270\n",
      "Test ID: 295\n",
      "Test OOD: 356\n"
     ]
    }
   ],
   "source": [
    "print('semantic_elaboration_generic')\n",
    "print(\"Train :\", train_specific_counts['semantic_elaboration_generic'])\n",
    "print(\"Validation:\", val_specific_counts['semantic_elaboration_generic'])\n",
    "print(\"Test ID:\", test_id_specific_counts['semantic_elaboration_generic'])\n",
    "print(\"Test OOD:\", test_ood_specific_counts['semantic_elaboration_generic'])"
   ]
  },
  {
   "cell_type": "code",
   "execution_count": 7,
   "id": "3e6e2b4e-5997-43d8-b95e-4391a243be17",
   "metadata": {},
   "outputs": [
    {
     "name": "stdout",
     "output_type": "stream",
     "text": [
      "semantic_elaboration_background\n",
      "Train : 604\n",
      "Validation: 76\n",
      "Test ID: 81\n",
      "Test OOD: 39\n"
     ]
    }
   ],
   "source": [
    "print('semantic_elaboration_background')\n",
    "print(\"Train :\", train_specific_counts['semantic_elaboration_background'])\n",
    "print(\"Validation:\", val_specific_counts['semantic_elaboration_background'])\n",
    "print(\"Test ID:\", test_id_specific_counts['semantic_elaboration_background'])\n",
    "print(\"Test OOD:\", test_ood_specific_counts['semantic_elaboration_background'])"
   ]
  },
  {
   "cell_type": "code",
   "execution_count": 8,
   "id": "3c3b624a-1741-4a4f-bd16-94a467382867",
   "metadata": {},
   "outputs": [
    {
     "name": "stdout",
     "output_type": "stream",
     "text": [
      "semantic_elaboration_example\n",
      "Train : 98\n",
      "Validation: 7\n",
      "Test ID: 20\n",
      "Test OOD: 13\n"
     ]
    }
   ],
   "source": [
    "print('semantic_elaboration_example')\n",
    "print(\"Train :\", train_specific_counts['semantic_elaboration_example'])\n",
    "print(\"Validation:\", val_specific_counts['semantic_elaboration_example'])\n",
    "print(\"Test ID:\", test_id_specific_counts['semantic_elaboration_example'])\n",
    "print(\"Test OOD:\", test_ood_specific_counts['semantic_elaboration_example'])"
   ]
  },
  {
   "cell_type": "code",
   "execution_count": 29,
   "id": "0de453af-88df-4215-b206-b519a4b71348",
   "metadata": {},
   "outputs": [
    {
     "data": {
      "text/plain": [
       "[{'category': 'lexical_generic', 'gi': 0, 'opis': [1, 2]},\n",
       " {'category': 'lexical_generic', 'gi': 1, 'opis': [4, 5, 6]},\n",
       " {'category': 'syntactic_deletion', 'gi': 2, 'opis': [8]},\n",
       " {'category': 'syntactic_sentence_fusion', 'gi': 3, 'opis': [12, 11, 10]},\n",
       " {'category': 'lexical_generic', 'gi': 4, 'opis': [14, 15]},\n",
       " {'category': 'syntactic_deletion', 'gi': 5, 'opis': [17]},\n",
       " {'category': 'nonsim_format', 'gi': None, 'opis': [19, 20]}]"
      ]
     },
     "execution_count": 29,
     "metadata": {},
     "output_type": "execute_result"
    }
   ],
   "source": [
    "swipe_clean_dataset['train'][1]['annotations']"
   ]
  },
  {
   "cell_type": "markdown",
   "id": "89e64775-ef64-4c67-a220-6c0f46110678",
   "metadata": {},
   "source": [
    "## Save each elaboration category in dataframe"
   ]
  },
  {
   "cell_type": "code",
   "execution_count": 30,
   "id": "d5d70e48-b8d4-4da5-9d7b-deb709eafd74",
   "metadata": {},
   "outputs": [],
   "source": [
    "import pandas as pd\n",
    "from tqdm.notebook import tqdm\n",
    "\n",
    "def get_texts_with_specific_annotations(dataset_dict, specific_categories):\n",
    "    # store texts per category\n",
    "    category_data = {category: {'raw_texts': [], 'references': [], 'annotations': [], 'ids': [], 'splits': []} for category in specific_categories}\n",
    "    for split_name, dataset in dataset_dict.items():\n",
    "        for idx, example in tqdm(enumerate(dataset), total=len(dataset)):\n",
    "            if example['annotations']: \n",
    "                for annotation in example['annotations']:\n",
    "                    if annotation['category'] in specific_categories:\n",
    "                        \n",
    "                        category_data[annotation['category']]['raw_texts'].append(example['r_content'])\n",
    "                        category_data[annotation['category']]['references'].append(example['s_content'])\n",
    "                        category_data[annotation['category']]['annotations'].append(annotation['category'])\n",
    "                        category_data[annotation['category']]['ids'].append(idx)\n",
    "                        category_data[annotation['category']]['splits'].append(split_name)\n",
    "\n",
    "    # turn each category's data into a separate dfs\n",
    "    dataframes = {}\n",
    "    for category, data in category_data.items():\n",
    "        df = pd.DataFrame({\n",
    "            'id': data['ids'],\n",
    "            'split': data['splits'],              \n",
    "            'text': data['raw_texts'],\n",
    "            'reference': data['references'],\n",
    "            'annotation': data['annotations']\n",
    "        })\n",
    "        dataframes[category] = df\n",
    "\n",
    "    return dataframes\n",
    "\n",
    "# elaboration categories\n",
    "specific_categories = ['semantic_elaboration_background', 'semantic_elaboration_example', 'semantic_elaboration_generic']"
   ]
  },
  {
   "cell_type": "code",
   "execution_count": 31,
   "id": "f4bf7b64-fc0b-47b4-80d6-c26c6120f05b",
   "metadata": {},
   "outputs": [
    {
     "data": {
      "application/vnd.jupyter.widget-view+json": {
       "model_id": "8fb668bef9f5448a89110ae22f1d31cd",
       "version_major": 2,
       "version_minor": 0
      },
      "text/plain": [
       "  0%|          | 0/3861 [00:00<?, ?it/s]"
      ]
     },
     "metadata": {},
     "output_type": "display_data"
    },
    {
     "data": {
      "application/vnd.jupyter.widget-view+json": {
       "model_id": "846c98d3a709445eba489917bbf9f206",
       "version_major": 2,
       "version_minor": 0
      },
      "text/plain": [
       "  0%|          | 0/479 [00:00<?, ?it/s]"
      ]
     },
     "metadata": {},
     "output_type": "display_data"
    },
    {
     "data": {
      "application/vnd.jupyter.widget-view+json": {
       "model_id": "0eafa9209ddd4661929c5efe5432eb19",
       "version_major": 2,
       "version_minor": 0
      },
      "text/plain": [
       "  0%|          | 0/483 [00:00<?, ?it/s]"
      ]
     },
     "metadata": {},
     "output_type": "display_data"
    },
    {
     "data": {
      "application/vnd.jupyter.widget-view+json": {
       "model_id": "762d35e5ae6c4104b4a3528e9d56f69d",
       "version_major": 2,
       "version_minor": 0
      },
      "text/plain": [
       "  0%|          | 0/368 [00:00<?, ?it/s]"
      ]
     },
     "metadata": {},
     "output_type": "display_data"
    }
   ],
   "source": [
    "dataframes = get_texts_with_specific_annotations(swipe_clean_dataset, specific_categories)"
   ]
  },
  {
   "cell_type": "code",
   "execution_count": 32,
   "id": "a35bf046-765d-46b3-867b-67bbf0202be3",
   "metadata": {},
   "outputs": [],
   "source": [
    "background_df = dataframes['semantic_elaboration_background']\n",
    "example_df = dataframes['semantic_elaboration_example']\n",
    "generic_df = dataframes['semantic_elaboration_generic']"
   ]
  },
  {
   "cell_type": "code",
   "execution_count": 33,
   "id": "7e7b4904-dd1f-4794-9030-ee975f078b2c",
   "metadata": {},
   "outputs": [
    {
     "name": "stdout",
     "output_type": "stream",
     "text": [
      "Semantic Elaboration background:  800\n",
      "Semantic Elaboration example:  138\n",
      "Semantic Elaboration generic:  3181\n"
     ]
    }
   ],
   "source": [
    "print('Semantic Elaboration background: ', len(background_df))\n",
    "print('Semantic Elaboration example: ', len(example_df))\n",
    "print('Semantic Elaboration generic: ', len(generic_df))"
   ]
  },
  {
   "cell_type": "code",
   "execution_count": 35,
   "id": "a651e751-8a05-43a5-9422-d8b590966ac5",
   "metadata": {},
   "outputs": [],
   "source": [
    "background_df.to_csv('../data/elaborations/background.csv', index=False)\n",
    "example_df.to_csv('../data/elaborations/example.csv', index=False)\n",
    "generic_df.to_csv('../data/elaborations/generic.csv', index=False)"
   ]
  },
  {
   "cell_type": "markdown",
   "id": "41e60b11-e8e4-4d99-9664-d22ce2c74074",
   "metadata": {},
   "source": [
    "# Investigate main features of elaboration texts"
   ]
  },
  {
   "cell_type": "code",
   "execution_count": 54,
   "id": "1a589fa7-5288-4a54-9669-e9ff33244836",
   "metadata": {},
   "outputs": [],
   "source": [
    "from IPython.core.display import HTML\n",
    "\n",
    "def highlight_elaborations(text, annotation, edits):\n",
    "    # split into words\n",
    "    words = text.split()\n",
    "    \n",
    "    # set to store the positions of elaborations\n",
    "    elaboration_positions = set()\n",
    "    \n",
    "    # interate through edits to collect positions for 'elaboration' categories\n",
    "    for edit in edits:\n",
    "        if edit['category'] == annotation:\n",
    "            elaboration_positions.update(edit['opis'])  # add positions of elaboration\n",
    "    \n",
    "    # highlight words at elaboration positions\n",
    "    highlighted_words = []\n",
    "    for idx, word in enumerate(words):\n",
    "        if idx in elaboration_positions:\n",
    "            # Wrap the word in a span with green background\n",
    "            highlighted_words.append(f'<span style=\"background-color: #90EE90\">{word}</span>')\n",
    "        else:\n",
    "            highlighted_words.append(word)\n",
    "    \n",
    "    # join the words back into a single text\n",
    "    highlighted_text = ' '.join(highlighted_words)\n",
    "    \n",
    "    # display as HTML\n",
    "    display(HTML(highlighted_text))"
   ]
  },
  {
   "cell_type": "code",
   "execution_count": 63,
   "id": "a4051e60-8af4-4b7f-bf6f-e3af40b2dbf9",
   "metadata": {},
   "outputs": [],
   "source": [
    "import random\n",
    "\n",
    "random.seed(42)  \n",
    "\n",
    "def get_random_samples(df, num_samples=10):\n",
    "\n",
    "    samples = df.sample(n=num_samples, random_state=42)\n",
    "    for _, sample in samples.iterrows():\n",
    "        \n",
    "        idx = sample['id']\n",
    "        ds_split = sample['split']\n",
    "        category = sample['annotation']\n",
    "        record = swipe_clean_dataset[ds_split][idx]\n",
    "        \n",
    "        print('Text: ', sample['text'],end  ='\\n\\n')\n",
    "        print('Ref: ', sample['reference'],end='\\n\\n')\n",
    "        print('Edits :',record['annotations'], end='\\n\\n')\n",
    "        highlight_elaborations(sample['text'],category, record['annotations'])\n",
    "        print('-' * 130, end='\\n\\n')"
   ]
  },
  {
   "cell_type": "markdown",
   "id": "d386e2b8-6efd-4e06-9987-6c6c8024de03",
   "metadata": {},
   "source": [
    "## Example elaborations"
   ]
  },
  {
   "cell_type": "code",
   "execution_count": 42,
   "id": "929ec3d8-036a-4885-8478-bd34557f3c08",
   "metadata": {},
   "outputs": [
    {
     "data": {
      "text/html": [
       "<div>\n",
       "<style scoped>\n",
       "    .dataframe tbody tr th:only-of-type {\n",
       "        vertical-align: middle;\n",
       "    }\n",
       "\n",
       "    .dataframe tbody tr th {\n",
       "        vertical-align: top;\n",
       "    }\n",
       "\n",
       "    .dataframe thead th {\n",
       "        text-align: right;\n",
       "    }\n",
       "</style>\n",
       "<table border=\"1\" class=\"dataframe\">\n",
       "  <thead>\n",
       "    <tr style=\"text-align: right;\">\n",
       "      <th></th>\n",
       "      <th>id</th>\n",
       "      <th>split</th>\n",
       "      <th>text</th>\n",
       "      <th>reference</th>\n",
       "      <th>annotation</th>\n",
       "    </tr>\n",
       "  </thead>\n",
       "  <tbody>\n",
       "    <tr>\n",
       "      <th>0</th>\n",
       "      <td>21</td>\n",
       "      <td>train</td>\n",
       "      <td>Ferdinand Alexander Araneta Marcos III (Englis...</td>\n",
       "      <td>Ferdinand Alexander Araneta Marcos III (Tagalo...</td>\n",
       "      <td>semantic_elaboration_example</td>\n",
       "    </tr>\n",
       "    <tr>\n",
       "      <th>1</th>\n",
       "      <td>24</td>\n",
       "      <td>train</td>\n",
       "      <td>Louis Antoine of France, Duke of Angoulême (6 ...</td>\n",
       "      <td>Louis Antoine of France, Duke of Angoulême (6 ...</td>\n",
       "      <td>semantic_elaboration_example</td>\n",
       "    </tr>\n",
       "    <tr>\n",
       "      <th>2</th>\n",
       "      <td>25</td>\n",
       "      <td>train</td>\n",
       "      <td>In musical terminology, tempo (Italian for 'ti...</td>\n",
       "      <td>Tempo (Italian for 'time, movement') is the sp...</td>\n",
       "      <td>semantic_elaboration_example</td>\n",
       "    </tr>\n",
       "    <tr>\n",
       "      <th>3</th>\n",
       "      <td>49</td>\n",
       "      <td>train</td>\n",
       "      <td>A land bridge, in biogeography,what history’en...</td>\n",
       "      <td>A land bridge is a term in biogeography. It is...</td>\n",
       "      <td>semantic_elaboration_example</td>\n",
       "    </tr>\n",
       "    <tr>\n",
       "      <th>4</th>\n",
       "      <td>71</td>\n",
       "      <td>train</td>\n",
       "      <td>The Dytiscidae – based on the Greek dytikos (δ...</td>\n",
       "      <td>The Dytiscidae (Greek dytikos (δυτικός), \"able...</td>\n",
       "      <td>semantic_elaboration_example</td>\n",
       "    </tr>\n",
       "  </tbody>\n",
       "</table>\n",
       "</div>"
      ],
      "text/plain": [
       "   id  split                                               text  \\\n",
       "0  21  train  Ferdinand Alexander Araneta Marcos III (Englis...   \n",
       "1  24  train  Louis Antoine of France, Duke of Angoulême (6 ...   \n",
       "2  25  train  In musical terminology, tempo (Italian for 'ti...   \n",
       "3  49  train  A land bridge, in biogeography,what history’en...   \n",
       "4  71  train  The Dytiscidae – based on the Greek dytikos (δ...   \n",
       "\n",
       "                                           reference  \\\n",
       "0  Ferdinand Alexander Araneta Marcos III (Tagalo...   \n",
       "1  Louis Antoine of France, Duke of Angoulême (6 ...   \n",
       "2  Tempo (Italian for 'time, movement') is the sp...   \n",
       "3  A land bridge is a term in biogeography. It is...   \n",
       "4  The Dytiscidae (Greek dytikos (δυτικός), \"able...   \n",
       "\n",
       "                     annotation  \n",
       "0  semantic_elaboration_example  \n",
       "1  semantic_elaboration_example  \n",
       "2  semantic_elaboration_example  \n",
       "3  semantic_elaboration_example  \n",
       "4  semantic_elaboration_example  "
      ]
     },
     "execution_count": 42,
     "metadata": {},
     "output_type": "execute_result"
    }
   ],
   "source": [
    "import pandas as pd\n",
    "\n",
    "example_df = pd.read_csv('../data/elaborations/example.csv')\n",
    "example_df.head()"
   ]
  },
  {
   "cell_type": "code",
   "execution_count": 64,
   "id": "751da287-f56d-48d9-938c-d48272901edf",
   "metadata": {},
   "outputs": [
    {
     "name": "stdout",
     "output_type": "stream",
     "text": [
      "Text:  Shigeo Sugimoto (杉本 茂雄, Sugimoto Shigeo, December 4, 1926 – April 2, 2002) was a Japanese football player. He played for Japan national team.\n",
      "\n",
      "Ref:  Shigeo Sugimoto (born 4 December 1926 - died 2 April 2002) is a former Japanese football player. He has played for Japan national team.\n",
      "\n",
      "Edits : [{'category': 'discourse_reordering', 'gi': 0, 'opis': [1, 4]}, {'category': 'lexical_entity', 'gi': 1, 'opis': [2]}, {'category': 'discourse_reordering', 'gi': 2, 'opis': [6, 8]}, {'category': 'syntactic_generic', 'gi': 3, 'opis': [10, 11]}, {'category': 'semantic_elaboration_background', 'gi': 4, 'opis': [13]}, {'category': 'syntactic_generic', 'gi': None, 'opis': [15]}]\n",
      "\n"
     ]
    },
    {
     "data": {
      "text/html": [
       "Shigeo Sugimoto (杉本 茂雄, Sugimoto Shigeo, December 4, 1926 – April 2, 2002) <span style=\"background-color: #90EE90\">was</span> a Japanese football player. He played for Japan national team."
      ],
      "text/plain": [
       "<IPython.core.display.HTML object>"
      ]
     },
     "metadata": {},
     "output_type": "display_data"
    },
    {
     "name": "stdout",
     "output_type": "stream",
     "text": [
      "----------------------------------------------------------------------------------------------------------------------------------\n",
      "\n",
      "Text:  Yutakayama Hiromitsu (豊山広光) (born 22 October 1947 as Hiromitsu Nagahama) is a former sumo wrestler from Shibata, Niigata, Japan. A former amateur champion, he turned professional in 1970. His highest rank was komusubi. He wrestled for Tokitsukaze stable and took his shikona or fighting name from the head coach who recruited him, former ozeki Yutakayama Katsuo. After his retirement in 1981 he became an elder of the Japan Sumo Association, and founded the Minato stable which he led from 1982 until 2010.\n",
      "\n",
      "Ref:  Yutakayama Hiromitsu (豊山広光, (22 October 1947 – 19 September 2020), born Hiromitsu Nagahama (長濱廣光, Nagahama Hiromitsu)) was a sumo wrestler. He was born in Shibata, Niigata. He turned professional in 1970. His highest rank was komusubi. He wrestled for Tokitsukaze stable. After his retirement in 1981 he became an elder of the Japan Sumo Association, and founded the Minato stable which he led from 1982 until 2010. Hiromitsu died of pancreatic cancer on 19 September 2020, aged 72.\n",
      "\n",
      "Edits : [{'category': 'nonsim_format', 'gi': 0, 'opis': [1, 2]}, {'category': 'discourse_reordering', 'gi': 2, 'opis': [2, 4]}, {'category': 'nonsim_format', 'gi': 1, 'opis': [4]}, {'category': 'nonsim_format', 'gi': 3, 'opis': [5]}, {'category': 'semantic_elaboration_generic', 'gi': 4, 'opis': [7]}, {'category': 'syntactic_generic', 'gi': 5, 'opis': [9, 10]}, {'category': 'syntactic_deletion', 'gi': 6, 'opis': [12]}, {'category': 'syntactic_sentence_splitting', 'gi': 7, 'opis': [14, 15, 16]}, {'category': 'semantic_deletion', 'gi': None, 'opis': [18]}, {'category': 'semantic_deletion', 'gi': None, 'opis': [20, 21]}, {'category': 'semantic_deletion', 'gi': None, 'opis': [23]}, {'category': 'semantic_elaboration_background', 'gi': None, 'opis': [25]}]\n",
      "\n"
     ]
    },
    {
     "data": {
      "text/html": [
       "Yutakayama Hiromitsu (豊山広光) (born 22 October 1947 as Hiromitsu Nagahama) is a former sumo wrestler from Shibata, Niigata, Japan. A former amateur champion, he turned <span style=\"background-color: #90EE90\">professional</span> in 1970. His highest rank was komusubi. He wrestled for Tokitsukaze stable and took his shikona or fighting name from the head coach who recruited him, former ozeki Yutakayama Katsuo. After his retirement in 1981 he became an elder of the Japan Sumo Association, and founded the Minato stable which he led from 1982 until 2010."
      ],
      "text/plain": [
       "<IPython.core.display.HTML object>"
      ]
     },
     "metadata": {},
     "output_type": "display_data"
    },
    {
     "name": "stdout",
     "output_type": "stream",
     "text": [
      "----------------------------------------------------------------------------------------------------------------------------------\n",
      "\n",
      "Text:  The Paris Institute of Political Studies (French: Institut d'études politiques de Paris, French pronunciation: ​[(l)ɛ̃stity detyd pɔlitik dəpaˈʁi];), simply referred to as Sciences Po (French pronunciation: ​[sjɑ̃sˈpo]), is a public research and higher education institution in Paris, France. Established in 1872 as the École libre des sciences politiques, Sciences Po has educated France's political elites and is considered one of the most prestigious universities in the world for the social sciences. Sciences Po maintains faculties in political science as well as in economics, history, sociology, law, finance, business, communication, social and urban policy, management and journalism. It is ranked 5th in the world for Politics and International Studies in 2015 (1st in France). The School has produced many notable alumni in the fields of law, economics, philosophy, history, business, literature, media and politics. Around 28 past or present heads of state have studied or taught at Sciences Po, as well as many heads of international organizations (UN, IMF, etc.) and CEOs. Sciences Po is a member of several university consortia (APSIA, College Board, GPPN, etc.) and has developed partnerships with 410 universities, including Columbia University, Warwick, LSE, Harvard Law School, McGill University, etc. The main Paris campus is located near the Seine River, between Boulevard Saint Germain and Boulevard Raspail. It is housed primarily in 17th- and 18th-century mansions located on the Left Bank, on and around fr [Rue Saint-Guillaume], fr [Rue des Saints-Pères] and Rue de l'Université (in the 7th arrondissement).\n",
      "\n",
      "Ref:  Institut d'études politiques de Paris is a French higher studies establishment (grande école). The school is in Paris, France. It has been created in 1872. Sciences Po Paris is specialist in the fields of economics, administration, social sciences and politics.\n",
      "\n",
      "Edits : [{'category': 'semantic_deletion', 'gi': None, 'opis': [0]}, {'category': 'semantic_deletion', 'gi': None, 'opis': [2]}, {'category': 'semantic_elaboration_background', 'gi': 1, 'opis': [4]}, {'category': 'semantic_deletion', 'gi': None, 'opis': [5]}, {'category': 'nonsim_extraneous_information', 'gi': 3, 'opis': [7]}, {'category': 'syntactic_sentence_splitting', 'gi': 4, 'opis': [8, 7, 9]}, {'category': 'discourse_anaphora_insertion', 'gi': 5, 'opis': [11, 12]}, {'category': 'semantic_deletion', 'gi': None, 'opis': [14]}, {'category': 'semantic_elaboration_generic', 'gi': 7, 'opis': [16]}, {'category': 'syntactic_sentence_fusion', 'gi': 9, 'opis': [18, 16, 20]}, {'category': 'semantic_deletion', 'gi': None, 'opis': [17]}, {'category': 'semantic_deletion', 'gi': None, 'opis': [21, 22]}, {'category': 'semantic_deletion', 'gi': None, 'opis': [24]}, {'category': 'nonsim_extraneous_information', 'gi': 12, 'opis': [26]}, {'category': 'semantic_deletion', 'gi': None, 'opis': [27]}, {'category': 'nonsim_extraneous_information', 'gi': 14, 'opis': [29]}, {'category': 'semantic_deletion', 'gi': None, 'opis': [30]}, {'category': 'semantic_deletion', 'gi': None, 'opis': [32, 33, 34, 35, 36, 37]}]\n",
      "\n"
     ]
    },
    {
     "data": {
      "text/html": [
       "The Paris Institute of <span style=\"background-color: #90EE90\">Political</span> Studies (French: Institut d'études politiques de Paris, French pronunciation: ​[(l)ɛ̃stity detyd pɔlitik dəpaˈʁi];), simply referred to as Sciences Po (French pronunciation: ​[sjɑ̃sˈpo]), is a public research and higher education institution in Paris, France. Established in 1872 as the École libre des sciences politiques, Sciences Po has educated France's political elites and is considered one of the most prestigious universities in the world for the social sciences. Sciences Po maintains faculties in political science as well as in economics, history, sociology, law, finance, business, communication, social and urban policy, management and journalism. It is ranked 5th in the world for Politics and International Studies in 2015 (1st in France). The School has produced many notable alumni in the fields of law, economics, philosophy, history, business, literature, media and politics. Around 28 past or present heads of state have studied or taught at Sciences Po, as well as many heads of international organizations (UN, IMF, etc.) and CEOs. Sciences Po is a member of several university consortia (APSIA, College Board, GPPN, etc.) and has developed partnerships with 410 universities, including Columbia University, Warwick, LSE, Harvard Law School, McGill University, etc. The main Paris campus is located near the Seine River, between Boulevard Saint Germain and Boulevard Raspail. It is housed primarily in 17th- and 18th-century mansions located on the Left Bank, on and around fr [Rue Saint-Guillaume], fr [Rue des Saints-Pères] and Rue de l'Université (in the 7th arrondissement)."
      ],
      "text/plain": [
       "<IPython.core.display.HTML object>"
      ]
     },
     "metadata": {},
     "output_type": "display_data"
    },
    {
     "name": "stdout",
     "output_type": "stream",
     "text": [
      "----------------------------------------------------------------------------------------------------------------------------------\n",
      "\n",
      "Text:  Isabelle Geneviève Marie Anne \"France\" Gall (9 October 1947 – 7 January 2018) was a French yé-yé singer. She won the Eurovision Song Contest in 1965. She was married to, and had a successful singing career in partnership with, the late French singer-songwriter Michel Berger, until his death. The couple had two children.\n",
      "\n",
      "Ref:  Isabelle Geneviève Marie Anne \"France\" Gall (9 October 1947 – 7 January 2018) was a French singer. She was born in Paris. Gall was known for her songs \"Laisse tomber les filles\", \"Poupée de cire, poupée de son\", and \"Ella, elle l'a\". She was a Eurovision Song Contest contestant for the 1965 contest. Gall was married to Michel Berger, until his death. Gall died of an infection complicated from cancer at a Paris hospital on 7 January 2018 at the age of 70.\n",
      "\n",
      "Edits : [{'category': 'semantic_deletion', 'gi': None, 'opis': [1]}, {'category': 'semantic_elaboration_generic', 'gi': 1, 'opis': [3, 4]}, {'category': 'lexical_generic', 'gi': 2, 'opis': [5, 6]}, {'category': 'lexical_generic', 'gi': 3, 'opis': [8, 9, 11]}, {'category': 'discourse_anaphora_resolution', 'gi': 4, 'opis': [13, 14]}, {'category': 'semantic_deletion', 'gi': None, 'opis': [16]}, {'category': 'semantic_elaboration_background', 'gi': 6, 'opis': [18]}, {'category': 'semantic_deletion', 'gi': None, 'opis': [19]}]\n",
      "\n"
     ]
    },
    {
     "data": {
      "text/html": [
       "Isabelle Geneviève Marie Anne \"France\" Gall (9 October 1947 – 7 January 2018) was a French yé-yé singer. <span style=\"background-color: #90EE90\">She</span> won the Eurovision Song Contest in 1965. She was married to, and had a successful singing career in partnership with, the late French singer-songwriter Michel Berger, until his death. The couple had two children."
      ],
      "text/plain": [
       "<IPython.core.display.HTML object>"
      ]
     },
     "metadata": {},
     "output_type": "display_data"
    },
    {
     "name": "stdout",
     "output_type": "stream",
     "text": [
      "----------------------------------------------------------------------------------------------------------------------------------\n",
      "\n",
      "Text:  Kilner jar is a rubber-sealed, screw-topped jar used for the storage of food, which was invented by the Kilner family and produced by John Kilner & Co., Yorkshire, England. Classically, it was a glass plug with a rubber seal attached to it in the top, with the whole being secured with a metal screw-top lid. Contemporary \"Kilner-style\" jars usually have a lid made entirely of metal. Kilner jars are used for storing and preserving home-made jams, marmalades and other relishes. They are also used for pickling food such as eggs, onions and garlic. In 2000 The Rayware Group purchased the design, patent and trademark for the original Kilner Jar and remains committed to developing the much loved and respected brand. John Kilner was found to be the great-great-great grandfather of Jeremy Clarkson.\n",
      "\n",
      "Ref:  A Kilner jar is a jar that has a rubber top. It does not let out any air, and helps to store food. It was invented by the Kilner family and made by John Kilner & Co in Yorkshire, England. Most jars made now-a-days have metal tops instead of rubber.\n",
      "\n",
      "Edits : [{'category': 'syntactic_generic', 'gi': None, 'opis': [0]}, {'category': 'discourse_reordering', 'gi': 0, 'opis': [2, 4]}, {'category': 'syntactic_sentence_splitting', 'gi': 1, 'opis': [2, 3]}, {'category': 'discourse_reordering', 'gi': 2, 'opis': [6, 7]}, {'category': 'syntactic_sentence_splitting', 'gi': 3, 'opis': [9, 10, 11]}, {'category': 'lexical_generic', 'gi': 4, 'opis': [13, 14]}, {'category': 'syntactic_sentence_splitting', 'gi': 5, 'opis': [16, 17, 18]}, {'category': 'discourse_reordering', 'gi': 6, 'opis': [20, 23]}, {'category': 'semantic_elaboration_background', 'gi': 7, 'opis': [20]}, {'category': 'semantic_deletion', 'gi': None, 'opis': [21]}, {'category': 'semantic_deletion', 'gi': None, 'opis': [25, 26, 27, 28, 29]}]\n",
      "\n"
     ]
    },
    {
     "data": {
      "text/html": [
       "Kilner jar is a rubber-sealed, screw-topped jar used for the storage of food, which was invented by the Kilner family <span style=\"background-color: #90EE90\">and</span> produced by John Kilner & Co., Yorkshire, England. Classically, it was a glass plug with a rubber seal attached to it in the top, with the whole being secured with a metal screw-top lid. Contemporary \"Kilner-style\" jars usually have a lid made entirely of metal. Kilner jars are used for storing and preserving home-made jams, marmalades and other relishes. They are also used for pickling food such as eggs, onions and garlic. In 2000 The Rayware Group purchased the design, patent and trademark for the original Kilner Jar and remains committed to developing the much loved and respected brand. John Kilner was found to be the great-great-great grandfather of Jeremy Clarkson."
      ],
      "text/plain": [
       "<IPython.core.display.HTML object>"
      ]
     },
     "metadata": {},
     "output_type": "display_data"
    },
    {
     "name": "stdout",
     "output_type": "stream",
     "text": [
      "----------------------------------------------------------------------------------------------------------------------------------\n",
      "\n",
      "Text:  Ivica Kralj (Serbian Cyrillic: Ивица Краљ) (born March 26, 1973 in Tivat, Montenegro, SFR Yugoslavia) is a professional football goalkeeper. His height is 197 cm and he weighs 90 kg. His previous clubs are Arsenal Tivat, Jastrebac Proleter Niš, FK Partizan Belgrade, FC Porto and PSV Eindhoven. He made his international debut in a 3-2 victory away at Argentina, and went on to play 41 times for Yugoslavia. He played in all of Yugoslavia's France 98 World cup games, and in 6 of Yugoslavia's 8 Euro 2000 Qualifying Games, where he conceded 6 goals. His surname \"Kralj\" means \"King\" in Serbian. In early August 2007, Kralj and Russian side FC Rostov agreed to a contract that ties the goalkeeper to the club until the end of the Russian league season in December 2007. At the time of Kralj's signing the club was already in a bad position with slim chances of avoiding relegation.\n",
      "\n",
      "Ref:  Ivica Kralj (b. March 26, 1973) is a Montenegrin football player. He has played for Yugoslavia national team.\n",
      "\n",
      "Edits : [{'category': 'lexical_generic', 'gi': 0, 'opis': [1, 2]}, {'category': 'semantic_deletion', 'gi': None, 'opis': [4]}, {'category': 'semantic_elaboration_background', 'gi': 2, 'opis': [6]}, {'category': 'semantic_deletion', 'gi': None, 'opis': [7]}, {'category': 'semantic_deletion', 'gi': None, 'opis': [7]}, {'category': 'semantic_hypernymy', 'gi': 5, 'opis': [9, 10]}, {'category': 'semantic_deletion', 'gi': None, 'opis': [11, 12]}, {'category': 'semantic_hypernymy', 'gi': 7, 'opis': [14, 15]}, {'category': 'discourse_reordering', 'gi': 8, 'opis': [17, 15]}, {'category': 'semantic_deletion', 'gi': None, 'opis': [19, 20, 21, 22]}]\n",
      "\n"
     ]
    },
    {
     "data": {
      "text/html": [
       "Ivica Kralj (Serbian Cyrillic: Ивица Краљ) <span style=\"background-color: #90EE90\">(born</span> March 26, 1973 in Tivat, Montenegro, SFR Yugoslavia) is a professional football goalkeeper. His height is 197 cm and he weighs 90 kg. His previous clubs are Arsenal Tivat, Jastrebac Proleter Niš, FK Partizan Belgrade, FC Porto and PSV Eindhoven. He made his international debut in a 3-2 victory away at Argentina, and went on to play 41 times for Yugoslavia. He played in all of Yugoslavia's France 98 World cup games, and in 6 of Yugoslavia's 8 Euro 2000 Qualifying Games, where he conceded 6 goals. His surname \"Kralj\" means \"King\" in Serbian. In early August 2007, Kralj and Russian side FC Rostov agreed to a contract that ties the goalkeeper to the club until the end of the Russian league season in December 2007. At the time of Kralj's signing the club was already in a bad position with slim chances of avoiding relegation."
      ],
      "text/plain": [
       "<IPython.core.display.HTML object>"
      ]
     },
     "metadata": {},
     "output_type": "display_data"
    },
    {
     "name": "stdout",
     "output_type": "stream",
     "text": [
      "----------------------------------------------------------------------------------------------------------------------------------\n",
      "\n",
      "Text:  Mark Steven Kirk (born September 15, 1959) is the junior United States Senator from Illinois and a member of the Republican Party. Previously, Kirk was a member of the U.S. House of Representatives, representing Illinois's 10th congressional district. Kirk is a social moderate and fiscal conservative. Born in Champaign, Illinois, he graduated from Cornell University, the London School of Economics, and Georgetown University Law Center. He practiced law throughout the 1980s and 1990s. He joined the United States Navy Reserve as a Direct Commission Officer in the Intelligence career field in 1989 and was recalled to active duty for the 1999 NATO bombing of Yugoslavia. He participated in Operation Northern Watch in Iraq the following year. He attained the rank of Commander and retired from the Navy Reserve in 2013. Kirk was elected to the House in 2000. During his fifth term in November 2010 he won two concurrent elections: to finish the final months of former Senator Barack Obama's term and to serve the next six-year term. He was sworn in on November 29, 2010, and began a six-year Senate term in January 2011. In January 2012, Kirk suffered a stroke, and a full year passed before he returned to his congressional duties. He is running for re-election to his U.S. Senate seat in 2016. Kirk caused consternation across the nation with a racially insensitive remark regarding his present political opponent, Tammy Duckworth, a double amputee, decorated war veteran, and member of the House of Representatives from Illinois.\n",
      "\n",
      "Ref:  Mark Steven Kirk (born September 15, 1959) is an American politician. He was elected to the United States Senate for Illinois in 2010. Before being a senator, Kirk was a United States Representative for Illinois from 2001 to 2010.\n",
      "\n",
      "Edits : [{'category': 'semantic_elaboration_background', 'gi': 2, 'opis': [1]}, {'category': 'syntactic_sentence_splitting', 'gi': 3, 'opis': [2, 1]}, {'category': 'semantic_deletion', 'gi': None, 'opis': [4]}, {'category': 'lexical_generic', 'gi': 5, 'opis': [6, 7]}, {'category': 'discourse_reordering', 'gi': 6, 'opis': [9, 19, 25, 28]}, {'category': 'semantic_deletion', 'gi': None, 'opis': [10, 11]}, {'category': 'semantic_deletion', 'gi': None, 'opis': [13, 14]}, {'category': 'syntactic_deletion', 'gi': None, 'opis': [15]}, {'category': 'semantic_deletion', 'gi': None, 'opis': [17, 18, 19, 20, 21, 22, 23]}, {'category': 'syntactic_generic', 'gi': 1, 'opis': [28, 25, 19]}, {'category': 'semantic_deletion', 'gi': None, 'opis': [26]}, {'category': 'semantic_deletion', 'gi': None, 'opis': [29]}, {'category': 'semantic_deletion', 'gi': None, 'opis': [31, 32, 33, 34, 35, 36, 37, 38, 39, 40]}]\n",
      "\n"
     ]
    },
    {
     "data": {
      "text/html": [
       "Mark <span style=\"background-color: #90EE90\">Steven</span> Kirk (born September 15, 1959) is the junior United States Senator from Illinois and a member of the Republican Party. Previously, Kirk was a member of the U.S. House of Representatives, representing Illinois's 10th congressional district. Kirk is a social moderate and fiscal conservative. Born in Champaign, Illinois, he graduated from Cornell University, the London School of Economics, and Georgetown University Law Center. He practiced law throughout the 1980s and 1990s. He joined the United States Navy Reserve as a Direct Commission Officer in the Intelligence career field in 1989 and was recalled to active duty for the 1999 NATO bombing of Yugoslavia. He participated in Operation Northern Watch in Iraq the following year. He attained the rank of Commander and retired from the Navy Reserve in 2013. Kirk was elected to the House in 2000. During his fifth term in November 2010 he won two concurrent elections: to finish the final months of former Senator Barack Obama's term and to serve the next six-year term. He was sworn in on November 29, 2010, and began a six-year Senate term in January 2011. In January 2012, Kirk suffered a stroke, and a full year passed before he returned to his congressional duties. He is running for re-election to his U.S. Senate seat in 2016. Kirk caused consternation across the nation with a racially insensitive remark regarding his present political opponent, Tammy Duckworth, a double amputee, decorated war veteran, and member of the House of Representatives from Illinois."
      ],
      "text/plain": [
       "<IPython.core.display.HTML object>"
      ]
     },
     "metadata": {},
     "output_type": "display_data"
    },
    {
     "name": "stdout",
     "output_type": "stream",
     "text": [
      "----------------------------------------------------------------------------------------------------------------------------------\n",
      "\n",
      "Text:  Herne is a village in South East England, divided by the Thanet Way from the seaside resort of Herne Bay. Administratively it is in the civil parish of Herne and Broomfield in Kent. Between Herne and Broomfield is the former hamlet of Hunters Forstal; Herne Common lies to the south. The hamlet of Bullockstone is about one mile to the west.\n",
      "\n",
      "Ref:  Herne is a small historical village, near Herne Bay in Kent, South East England. The hamlet of Bullockstone is about one mile to the west.\n",
      "\n",
      "Edits : [{'category': 'semantic_elaboration_background', 'gi': 0, 'opis': [1]}, {'category': 'discourse_reordering', 'gi': 1, 'opis': [3, 7]}, {'category': 'discourse_reordering', 'gi': 2, 'opis': [5, 8]}, {'category': 'semantic_deletion', 'gi': None, 'opis': [9]}]\n",
      "\n"
     ]
    },
    {
     "data": {
      "text/html": [
       "Herne <span style=\"background-color: #90EE90\">is</span> a village in South East England, divided by the Thanet Way from the seaside resort of Herne Bay. Administratively it is in the civil parish of Herne and Broomfield in Kent. Between Herne and Broomfield is the former hamlet of Hunters Forstal; Herne Common lies to the south. The hamlet of Bullockstone is about one mile to the west."
      ],
      "text/plain": [
       "<IPython.core.display.HTML object>"
      ]
     },
     "metadata": {},
     "output_type": "display_data"
    },
    {
     "name": "stdout",
     "output_type": "stream",
     "text": [
      "----------------------------------------------------------------------------------------------------------------------------------\n",
      "\n",
      "Text:  Pernik (Bulgarian: Перник [ˈpɛrnik]) is a town in western Bulgaria (about 20 kilometres (12 miles) south-west of Sofia) with a population of 75,964 as of 2020[update]. Pernik is the most populated town in western Bulgaria after Sofia. It is the main town of Pernik Province and lies on both banks of the Struma River in the Pernik Valley between the Golo Bardo Mountain, Vitosha Mountain, Lyulin and Viskyar mountains. Pernik is the principal town of Pernik Province – a province in western Bulgaria, which is next to the Serbian border. Originally the site of a Thracian fortress founded in the 4th century BC, and later a Roman settlement, Pernik became part of the Bulgarian Empire in the early 9th century as an important fortress. The medieval town was a key Bulgarian stronghold during Bulgarian tsar Samuil's wars against the Byzantine Empire in the 11th century, when it was governed by the local noble Krakra of Pernik, withstanding Byzantine sieges a number of times. From 1396 until 1878 the town was under Ottoman rule. In the 20th century Pernik developed rapidly as a centre for coal mining and heavy industry. During the Communist rule of Bulgaria it was called Dimitrovo between 1949 and 1962 after Bulgarian Communist leader Georgi Dimitrov. The Surva International Festival of the Masquerade Games (simply called Surva) is held in the town every January. Surva is an International Kukeri Festival in Pernik, Bulgaria and is one of the biggest masquerade festival on the Balkans and Eastern Europe. It is held in the last three days of January each year. Economically Pernik is an industrial town. Industry is of vital importance for the economy of the province. Pernik is the major manufacturing centre, one of the largest in the country with the Stomana steel complex; heavy machinery (mining and industrial equipment); brown coals, building materials and textiles being the most important. Near Pernik there is an enormous plant for heavy machinery in smaller town Radomir which produces excavators and industrial equipment, but is currently not working at full capacity. Pernik has two football teams, PFC Minyor Pernik and FC Metalurg Pernik.\n",
      "\n",
      "Ref:  Pernik (Bulgarian: Перник) is a city in western Bulgaria, about 20 kilometres (12 miles) southwest of the capital Sofia. It is the capital of Pernik Province. About 75,000 people lived there. The city is on both banks of the Struma River in the Pernik Valley between the Golo Bardo, Vitosha, Lyulin and Viskyar mountains.\n",
      "\n",
      "Edits : [{'category': 'semantic_deletion', 'gi': None, 'opis': [1]}, {'category': 'lexical_generic', 'gi': 1, 'opis': [3, 4]}, {'category': 'nonsim_format', 'gi': 2, 'opis': [6, 7]}, {'category': 'nonsim_format', 'gi': 3, 'opis': [9, 10]}, {'category': 'discourse_reordering', 'gi': 4, 'opis': [12, 22]}, {'category': 'syntactic_sentence_fusion', 'gi': 5, 'opis': [13, 12]}, {'category': 'semantic_elaboration_background', 'gi': 6, 'opis': [15]}, {'category': 'semantic_deletion', 'gi': None, 'opis': [16]}, {'category': 'nonsim_fact_correction', 'gi': 8, 'opis': [18, 19]}, {'category': 'nonsim_format', 'gi': 9, 'opis': [21]}, {'category': 'syntactic_sentence_splitting', 'gi': 10, 'opis': [23, 24, 22]}, {'category': 'syntactic_deletion', 'gi': 11, 'opis': [26, 28]}, {'category': 'semantic_deletion', 'gi': None, 'opis': [30, 31, 32, 33, 34, 35, 36, 37, 38, 39, 40, 41, 42, 43]}]\n",
      "\n"
     ]
    },
    {
     "data": {
      "text/html": [
       "Pernik (Bulgarian: Перник [ˈpɛrnik]) is a town in western Bulgaria (about 20 kilometres (12 miles) <span style=\"background-color: #90EE90\">south-west</span> of Sofia) with a population of 75,964 as of 2020[update]. Pernik is the most populated town in western Bulgaria after Sofia. It is the main town of Pernik Province and lies on both banks of the Struma River in the Pernik Valley between the Golo Bardo Mountain, Vitosha Mountain, Lyulin and Viskyar mountains. Pernik is the principal town of Pernik Province – a province in western Bulgaria, which is next to the Serbian border. Originally the site of a Thracian fortress founded in the 4th century BC, and later a Roman settlement, Pernik became part of the Bulgarian Empire in the early 9th century as an important fortress. The medieval town was a key Bulgarian stronghold during Bulgarian tsar Samuil's wars against the Byzantine Empire in the 11th century, when it was governed by the local noble Krakra of Pernik, withstanding Byzantine sieges a number of times. From 1396 until 1878 the town was under Ottoman rule. In the 20th century Pernik developed rapidly as a centre for coal mining and heavy industry. During the Communist rule of Bulgaria it was called Dimitrovo between 1949 and 1962 after Bulgarian Communist leader Georgi Dimitrov. The Surva International Festival of the Masquerade Games (simply called Surva) is held in the town every January. Surva is an International Kukeri Festival in Pernik, Bulgaria and is one of the biggest masquerade festival on the Balkans and Eastern Europe. It is held in the last three days of January each year. Economically Pernik is an industrial town. Industry is of vital importance for the economy of the province. Pernik is the major manufacturing centre, one of the largest in the country with the Stomana steel complex; heavy machinery (mining and industrial equipment); brown coals, building materials and textiles being the most important. Near Pernik there is an enormous plant for heavy machinery in smaller town Radomir which produces excavators and industrial equipment, but is currently not working at full capacity. Pernik has two football teams, PFC Minyor Pernik and FC Metalurg Pernik."
      ],
      "text/plain": [
       "<IPython.core.display.HTML object>"
      ]
     },
     "metadata": {},
     "output_type": "display_data"
    },
    {
     "name": "stdout",
     "output_type": "stream",
     "text": [
      "----------------------------------------------------------------------------------------------------------------------------------\n",
      "\n",
      "Text:  Andre Tyler Iguodala (Also Known as king Slaw)(ig-wə-DAH-lə; born January 28, 1984) is an American professional basketball player who currently plays for the Golden State Warriors of the National Basketball Association (NBA). The swingman was an NBA All-Star in 2012 and has been named to the NBA All-Defensive Team twice. Iguodala won an NBA championship with the Warriors in 2015, when he was named the NBA Finals Most Valuable Player (MVP). He was also a member of the United States national team at the 2010 FIBA World Championship and 2012 Summer Olympics, winning the gold medal both times. Iguodala went to Lanphier High School in Springfield, Illinois before attending the University of Arizona. After completing two years, he declared for the 2004 NBA draft where he was drafted with the ninth overall pick by the Philadelphia 76ers. Iguodala played in Philadelphia until the summer of 2012, when he was traded to the Denver Nuggets in a four team trade. He was acquired by Golden State in 2013. In 2014–15, he became a reserve for the first time in his career, but captured the Finals MVP after he returned to the starting lineup in the middle of series.\n",
      "\n",
      "Ref:  Andre Tyler Iguodala (ig-wə-DAH-lə; born January 28, 1984) is an American professional basketball player. He currently plays for the Golden State Warriors of the National Basketball Association (NBA). In 2015 he was named most valuable player of the NBA Finals. Iguodala went to Lanphier High School in Springfield, Illinois. He then played for the Arizona Wildcats basketball team at the University of Arizona. While playing for Arizona, the Wildcats made it to the NCAA Men's Division I Basketball Championship both seasons. After completing two years, he put his name in for the 2004 NBA Draft and was chosen by the Philadelphia 76ers. Iguodala played in Philadelphia until the summer of 2012. He was then traded to the Denver Nuggets. He was picked up by Golden State in 2013. In 2014–15, he was chosen as the Finals MVP.\n",
      "\n",
      "Edits : [{'category': 'semantic_deletion', 'gi': None, 'opis': [1]}, {'category': 'syntactic_sentence_splitting', 'gi': 0, 'opis': [3, 4]}, {'category': 'syntactic_sentence_splitting', 'gi': 1, 'opis': [5, 4]}, {'category': 'syntactic_generic', 'gi': 20, 'opis': [7]}, {'category': 'nonsim_noise_deletion', 'gi': 16, 'opis': [8]}, {'category': 'nonsim_noise_deletion', 'gi': 19, 'opis': [9]}, {'category': 'nonsim_noise_deletion', 'gi': 18, 'opis': [11]}, {'category': 'discourse_reordering', 'gi': 17, 'opis': [15, 13]}, {'category': 'semantic_deletion', 'gi': None, 'opis': [16]}, {'category': 'discourse_reordering', 'gi': 2, 'opis': [18, 42, 43]}, {'category': 'semantic_elaboration_background', 'gi': 13, 'opis': [19]}, {'category': 'semantic_deletion', 'gi': None, 'opis': [19, 20]}, {'category': 'nonsim_noise_deletion', 'gi': 14, 'opis': [20]}, {'category': 'syntactic_sentence_splitting', 'gi': 11, 'opis': [22]}, {'category': 'semantic_elaboration_background', 'gi': 12, 'opis': [23]}, {'category': 'lexical_generic', 'gi': 10, 'opis': [25, 26]}, {'category': 'lexical_generic', 'gi': 9, 'opis': [29, 28]}, {'category': 'lexical_generic', 'gi': 8, 'opis': [32, 31]}, {'category': 'syntactic_sentence_splitting', 'gi': 4, 'opis': [35, 34]}, {'category': 'discourse_reordering', 'gi': 3, 'opis': [36, 38]}, {'category': 'semantic_deletion', 'gi': None, 'opis': [40]}, {'category': 'lexical_generic', 'gi': 6, 'opis': [45, 46]}, {'category': 'semantic_deletion', 'gi': None, 'opis': [48]}]\n",
      "\n"
     ]
    },
    {
     "data": {
      "text/html": [
       "Andre Tyler Iguodala (Also Known as king Slaw)(ig-wə-DAH-lə; born January 28, 1984) is an American professional basketball player who <span style=\"background-color: #90EE90\">currently</span> plays for the <span style=\"background-color: #90EE90\">Golden</span> State Warriors of the National Basketball Association (NBA). The swingman was an NBA All-Star in 2012 and has been named to the NBA All-Defensive Team twice. Iguodala won an NBA championship with the Warriors in 2015, when he was named the NBA Finals Most Valuable Player (MVP). He was also a member of the United States national team at the 2010 FIBA World Championship and 2012 Summer Olympics, winning the gold medal both times. Iguodala went to Lanphier High School in Springfield, Illinois before attending the University of Arizona. After completing two years, he declared for the 2004 NBA draft where he was drafted with the ninth overall pick by the Philadelphia 76ers. Iguodala played in Philadelphia until the summer of 2012, when he was traded to the Denver Nuggets in a four team trade. He was acquired by Golden State in 2013. In 2014–15, he became a reserve for the first time in his career, but captured the Finals MVP after he returned to the starting lineup in the middle of series."
      ],
      "text/plain": [
       "<IPython.core.display.HTML object>"
      ]
     },
     "metadata": {},
     "output_type": "display_data"
    },
    {
     "name": "stdout",
     "output_type": "stream",
     "text": [
      "----------------------------------------------------------------------------------------------------------------------------------\n",
      "\n"
     ]
    }
   ],
   "source": [
    "get_random_samples(background_df)"
   ]
  },
  {
   "cell_type": "code",
   "execution_count": null,
   "id": "94370655-9696-4b0b-be44-ba7a935c2a64",
   "metadata": {},
   "outputs": [],
   "source": []
  }
 ],
 "metadata": {
  "kernelspec": {
   "display_name": "Python 3 (ipykernel)",
   "language": "python",
   "name": "python3"
  },
  "language_info": {
   "codemirror_mode": {
    "name": "ipython",
    "version": 3
   },
   "file_extension": ".py",
   "mimetype": "text/x-python",
   "name": "python",
   "nbconvert_exporter": "python",
   "pygments_lexer": "ipython3",
   "version": "3.9.18"
  }
 },
 "nbformat": 4,
 "nbformat_minor": 5
}
