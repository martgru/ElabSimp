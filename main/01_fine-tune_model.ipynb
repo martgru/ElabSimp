{
 "cells": [
  {
   "cell_type": "markdown",
   "id": "4077a27f-da6b-4891-b53d-1a190c7387de",
   "metadata": {},
   "source": [
    "# Check GPU"
   ]
  },
  {
   "cell_type": "code",
   "execution_count": 1,
   "id": "3aeea1d1-2841-4d2f-9f2a-124fcb3b00c2",
   "metadata": {},
   "outputs": [
    {
     "name": "stdout",
     "output_type": "stream",
     "text": [
      "GPU Available: True\n",
      "GPU Name: NVIDIA H100\n"
     ]
    }
   ],
   "source": [
    "import torch\n",
    "\n",
    "gpu_available = torch.cuda.is_available()\n",
    "print(f\"GPU Available: {gpu_available}\")\n",
    "\n",
    "if gpu_available:\n",
    "    gpu_name = torch.cuda.get_device_name(0)\n",
    "    print(f\"GPU Name: {gpu_name}\")"
   ]
  },
  {
   "cell_type": "markdown",
   "id": "c58e21dc-01bf-4306-8cb0-d13c9af398b6",
   "metadata": {},
   "source": [
    "# Load datasets"
   ]
  },
  {
   "cell_type": "code",
   "execution_count": 1,
   "id": "9f33aa2b-662b-4c37-a848-02c7d124264b",
   "metadata": {},
   "outputs": [
    {
     "data": {
      "application/vnd.jupyter.widget-view+json": {
       "model_id": "9e09431a77924ae5a8db250418054aaa",
       "version_major": 2,
       "version_minor": 0
      },
      "text/plain": [
       "Generating train split: 0 examples [00:00, ? examples/s]"
      ]
     },
     "metadata": {},
     "output_type": "display_data"
    },
    {
     "data": {
      "application/vnd.jupyter.widget-view+json": {
       "model_id": "e42627e3f7784856bdeb0f901ac5337d",
       "version_major": 2,
       "version_minor": 0
      },
      "text/plain": [
       "Generating validation split: 0 examples [00:00, ? examples/s]"
      ]
     },
     "metadata": {},
     "output_type": "display_data"
    },
    {
     "data": {
      "application/vnd.jupyter.widget-view+json": {
       "model_id": "1b4ff94ac546478cb6c1dee425fa6e5a",
       "version_major": 2,
       "version_minor": 0
      },
      "text/plain": [
       "Generating test split: 0 examples [00:00, ? examples/s]"
      ]
     },
     "metadata": {},
     "output_type": "display_data"
    },
    {
     "name": "stdout",
     "output_type": "stream",
     "text": [
      "DatasetDict({\n",
      "    train: Dataset({\n",
      "        features: ['doc_num', 'source_text', 'label_text', 'elaboration_sentence', 'contextual_specificity_rating'],\n",
      "        num_rows: 1049\n",
      "    })\n",
      "    validation: Dataset({\n",
      "        features: ['doc_num', 'source_text', 'label_text', 'elaboration_sentence', 'contextual_specificity_rating'],\n",
      "        num_rows: 134\n",
      "    })\n",
      "    test: Dataset({\n",
      "        features: ['doc_num', 'source_text', 'label_text', 'elaboration_sentence', 'contextual_specificity_rating'],\n",
      "        num_rows: 116\n",
      "    })\n",
      "})\n"
     ]
    }
   ],
   "source": [
    "from datasets import load_dataset\n",
    "import os\n",
    "\n",
    "data_path = \"../data/elaborations\"\n",
    "\n",
    "data_files_c2s = {\n",
    "    'train': os.path.join(data_path,\"train\",\"train_ds_c2s.csv\"),      \n",
    "    'validation': os.path.join(data_path,\"validation\",\"valid_ds_c2s.csv\"),  \n",
    "    'test': os.path.join(data_path,\"test\",\"test_ds_c2s.csv\")         \n",
    "}\n",
    "\n",
    "data_files_c4s = {\n",
    "    'train': os.path.join(data_path,\"train\",\"train_ds_c4s.csv\"),      \n",
    "    'validation': os.path.join(data_path,\"validation\",\"valid_ds_c4s.csv\"),  \n",
    "    'test': os.path.join(data_path,\"test\",\"test_ds_c4s.csv\")         \n",
    "}\n",
    "\n",
    "data_files_c2sp = {\n",
    "    'train': os.path.join(data_path,\"train\",\"train_ds_c2sp.csv\"),      \n",
    "    'validation': os.path.join(data_path,\"validation\",\"valid_ds_c2sp.csv\"),  \n",
    "    'test': os.path.join(data_path,\"test\",\"test_ds_c2sp.csv\")         \n",
    "}\n",
    "\n",
    "data_files_c4sp = {\n",
    "    'train': os.path.join(data_path,\"train\",\"train_ds_c4sp.csv\"),      \n",
    "    'validation': os.path.join(data_path,\"validation\",\"valid_ds_c4sp.csv\"),  \n",
    "    'test': os.path.join(data_path,\"test\",\"test_ds_c4sp.csv\")         \n",
    "}\n",
    "\n",
    "dataset = load_dataset('csv', data_files=data_files_c4sp)\n",
    "print(dataset)"
   ]
  },
  {
   "cell_type": "markdown",
   "id": "22c9a673-9a51-48fe-9945-db65ec7c3bfc",
   "metadata": {},
   "source": [
    "## Check texts length"
   ]
  },
  {
   "cell_type": "code",
   "execution_count": 2,
   "id": "63e18b06-e1d1-466b-9f36-a6e872759c9a",
   "metadata": {},
   "outputs": [],
   "source": [
    "def count_texts_over_word_limit(dataset_dict, column, word_limit=512):\n",
    "    word_count = {}\n",
    "\n",
    "    for split in dataset_dict:\n",
    "        dataset = dataset_dict[split]\n",
    "        count_over_limit = 0\n",
    "\n",
    "        for example in dataset:\n",
    "            try:\n",
    "                num_words = len(example[column].split()) # count on spaces\n",
    "                if num_words > word_limit:\n",
    "                    count_over_limit += 1\n",
    "            except AttributeError as e: \n",
    "                print(f\"Empty string in doc num: {example['doc_num']}\")\n",
    "                continue \n",
    "\n",
    "        word_count[split] = count_over_limit\n",
    "\n",
    "    return word_count"
   ]
  },
  {
   "cell_type": "code",
   "execution_count": 15,
   "id": "f9b0f4fc-6bfd-4c31-babe-6b9708bea782",
   "metadata": {},
   "outputs": [
    {
     "name": "stdout",
     "output_type": "stream",
     "text": [
      "Model's max length:  1024\n"
     ]
    }
   ],
   "source": [
    "print(\"Model's max length: \", tokenizer.model_max_length)"
   ]
  },
  {
   "cell_type": "code",
   "execution_count": 8,
   "id": "6b1269eb-bbc7-420f-abe4-5b3b962b63a2",
   "metadata": {},
   "outputs": [
    {
     "data": {
      "text/plain": [
       "{'train': 0, 'validation': 0, 'test': 0}"
      ]
     },
     "execution_count": 8,
     "metadata": {},
     "output_type": "execute_result"
    }
   ],
   "source": [
    "count_texts_over_word_limit(dataset, column='label_text', word_limit=150)"
   ]
  },
  {
   "cell_type": "code",
   "execution_count": 5,
   "id": "b50b7cb3-8fe6-4f96-9200-4d3659207b52",
   "metadata": {},
   "outputs": [
    {
     "data": {
      "text/plain": [
       "{'train': 0, 'validation': 0, 'test': 0}"
      ]
     },
     "execution_count": 5,
     "metadata": {},
     "output_type": "execute_result"
    }
   ],
   "source": [
    "count_texts_over_word_limit(dataset, column='source_text', word_limit=150)"
   ]
  },
  {
   "cell_type": "markdown",
   "id": "e06723b2-cbc5-4ca0-a1e6-d80761dbf6ff",
   "metadata": {},
   "source": [
    "# Load the model"
   ]
  },
  {
   "cell_type": "code",
   "execution_count": 9,
   "id": "2b070d28-9f21-4128-b3e9-ea84cad52237",
   "metadata": {},
   "outputs": [],
   "source": [
    "from transformers import BartTokenizerFast, BartForConditionalGeneration, BartTokenizer\n",
    "import torch\n",
    "\n",
    "tokenizer = BartTokenizer.from_pretrained('facebook/bart-large',use_fast=False) \n",
    "model = BartForConditionalGeneration.from_pretrained('facebook/bart-large', device_map ={'':torch.cuda.current_device()})"
   ]
  },
  {
   "cell_type": "markdown",
   "id": "2211d374-d850-4d11-b560-b727356f012f",
   "metadata": {},
   "source": [
    "## Tokenize datasets"
   ]
  },
  {
   "cell_type": "code",
   "execution_count": 10,
   "id": "d85a4879-427c-447b-b055-ba75d0b7ee2a",
   "metadata": {},
   "outputs": [],
   "source": [
    "def tokenize_func(examples):\n",
    "    # inputs\n",
    "    inputs = tokenizer(examples['source_text'], truncation=True, padding=\"max_length\", max_length=150)\n",
    "    # labels\n",
    "    labels = tokenizer(examples['label_text'],truncation=True, padding=\"max_length\", max_length=150)\n",
    "    # set the labels in the input dictionary\n",
    "    inputs['labels'] = labels['input_ids']\n",
    "    return inputs"
   ]
  },
  {
   "cell_type": "code",
   "execution_count": 11,
   "id": "6e9a8632-c82e-4a88-84ec-87d354d6dd2d",
   "metadata": {},
   "outputs": [
    {
     "data": {
      "application/vnd.jupyter.widget-view+json": {
       "model_id": "eff5474a223343c6b4e44c99dbf1f093",
       "version_major": 2,
       "version_minor": 0
      },
      "text/plain": [
       "Map:   0%|          | 0/1049 [00:00<?, ? examples/s]"
      ]
     },
     "metadata": {},
     "output_type": "display_data"
    },
    {
     "data": {
      "application/vnd.jupyter.widget-view+json": {
       "model_id": "5be957e6306b435d91e01edcb6b3b355",
       "version_major": 2,
       "version_minor": 0
      },
      "text/plain": [
       "Map:   0%|          | 0/134 [00:00<?, ? examples/s]"
      ]
     },
     "metadata": {},
     "output_type": "display_data"
    },
    {
     "data": {
      "application/vnd.jupyter.widget-view+json": {
       "model_id": "a7accf25230642afbf7c3062acbd4d6e",
       "version_major": 2,
       "version_minor": 0
      },
      "text/plain": [
       "Map:   0%|          | 0/116 [00:00<?, ? examples/s]"
      ]
     },
     "metadata": {},
     "output_type": "display_data"
    }
   ],
   "source": [
    "tokenized_dataset = dataset.map(tokenize_func, batched=True)\n",
    "tokenized_dataset.set_format(type='torch', columns=['input_ids', 'attention_mask', 'labels'])"
   ]
  },
  {
   "cell_type": "markdown",
   "id": "7b61ef1e-7995-4a92-8883-1cc2584cdf6f",
   "metadata": {},
   "source": [
    "# Set up model's configuration"
   ]
  },
  {
   "cell_type": "markdown",
   "id": "7f0d5a80-f998-475b-85a3-f9bf3c19722b",
   "metadata": {},
   "source": [
    "## Generation config"
   ]
  },
  {
   "cell_type": "code",
   "execution_count": 12,
   "id": "3ff42161-34c5-4439-98e8-5c3c06c32e5c",
   "metadata": {},
   "outputs": [],
   "source": [
    "from transformers import GenerationConfig\n",
    "\n",
    "generation_config = GenerationConfig(\n",
    "    bos_token_id = 0,\n",
    "    decoder_start_token_id = 2,\n",
    "    early_stopping = True,\n",
    "    max_new_tokens = 150, # 512\n",
    "    eos_token_id = 2, \n",
    "    forced_bos_token_id = 0,\n",
    "    forced_eos_token_id = 2,\n",
    "    no_repeat_ngram_size = 3,\n",
    "    num_beams = 4,\n",
    "    pad_token_id = 1\n",
    ")\n",
    "\n",
    "model.config.update(generation_config.to_dict())"
   ]
  },
  {
   "cell_type": "markdown",
   "id": "14be0b71-2a9e-4e58-ae30-839636eb0c8d",
   "metadata": {
    "jp-MarkdownHeadingCollapsed": true
   },
   "source": [
    "## Dropout"
   ]
  },
  {
   "cell_type": "code",
   "execution_count": 6,
   "id": "fdfddc46-7795-4109-bde0-244b9391eeb3",
   "metadata": {},
   "outputs": [
    {
     "name": "stdout",
     "output_type": "stream",
     "text": [
      "0.2\n"
     ]
    }
   ],
   "source": [
    "model.config.dropout = 0.2\n",
    "print(model.config.dropout)"
   ]
  },
  {
   "cell_type": "markdown",
   "id": "f00654ff-71f7-4cb6-87fe-88f36d2d73ad",
   "metadata": {
    "jp-MarkdownHeadingCollapsed": true
   },
   "source": [
    "## Tokenizer"
   ]
  },
  {
   "cell_type": "code",
   "execution_count": null,
   "id": "db73bf94-08fd-4582-8966-482867d64ca1",
   "metadata": {},
   "outputs": [],
   "source": [
    "from transformers import AddedToken\n",
    "\n",
    "special_tokens_dict = {\n",
    "    'bos_token': AddedToken(\"<s>\", rstrip=False, lstrip=False, single_word=False, normalized=False, special=True),\n",
    "    'eos_token': AddedToken(\"</s>\", rstrip=False, lstrip=False, single_word=False, normalized=False, special=True),\n",
    "    'unk_token': AddedToken(\"<unk>\", rstrip=False, lstrip=False, single_word=False, normalized=False, special=True),\n",
    "    'sep_token': AddedToken(\"</s>\", rstrip=False, lstrip=False, single_word=False, normalized=False, special=True),\n",
    "    'pad_token': AddedToken(\"<pad>\", rstrip=False, lstrip=False, single_word=False, normalized=False, special=True),\n",
    "    'cls_token': AddedToken(\"<s>\", rstrip=False, lstrip=False, single_word=False, normalized=False, special=True),\n",
    "    'mask_token': AddedToken(\"<mask>\", rstrip=False, lstrip=True, single_word=False, normalized=False, special=True)\n",
    "}\n",
    "\n",
    "# add the special tokens to the tokenizer\n",
    "tokenizer.add_special_tokens(special_tokens_dict)"
   ]
  },
  {
   "cell_type": "markdown",
   "id": "5b57bc4e-697a-41c3-b933-2d7c831e2126",
   "metadata": {},
   "source": [
    "# Train the model"
   ]
  },
  {
   "cell_type": "code",
   "execution_count": 13,
   "id": "26948917-7907-42dd-a08e-a88058d96a6c",
   "metadata": {},
   "outputs": [],
   "source": [
    "import os \n",
    "# disable parallelism warnings\n",
    "os.environ[\"TOKENIZERS_PARALLELISM\"] = \"false\""
   ]
  },
  {
   "cell_type": "code",
   "execution_count": 14,
   "id": "ded1430d-1bab-4ef8-99eb-f7fd40ff4ebe",
   "metadata": {},
   "outputs": [
    {
     "name": "stdout",
     "output_type": "stream",
     "text": [
      "Steps per epoch:  174\n",
      "Logging steps:  6\n"
     ]
    }
   ],
   "source": [
    "num_samples = len(dataset['train'])\n",
    "batch_size= 6\n",
    "logging_steps = 25\n",
    "print(\"Steps per epoch: \", num_samples//batch_size )\n",
    "print(\"Logging steps: \" ,num_samples//batch_size//logging_steps )"
   ]
  },
  {
   "cell_type": "markdown",
   "id": "ae535c04-5334-41f5-bde9-fcb5bcd89c53",
   "metadata": {},
   "source": [
    "## Seq2Seq"
   ]
  },
  {
   "cell_type": "code",
   "execution_count": 15,
   "id": "544f8966-4ef2-41d7-ba9a-0a2cb3e3dfda",
   "metadata": {},
   "outputs": [],
   "source": [
    "from transformers import Seq2SeqTrainer, Seq2SeqTrainingArguments, EarlyStoppingCallback\n",
    "import numpy as np\n",
    "from easse.sari import corpus_sari\n",
    "\n",
    "def compute_sari(pred):\n",
    "    \n",
    "    predictions = pred.predictions\n",
    "    labels = pred.label_ids\n",
    "    \n",
    "    # decode the predictions and labels into text\n",
    "    decoded_preds = tokenizer.batch_decode(predictions, skip_special_tokens=True)\n",
    "    decoded_labels = tokenizer.batch_decode(labels, skip_special_tokens=True)\n",
    "    \n",
    "    # source texts \n",
    "    sources = tokenized_dataset['validation']['source_text']\n",
    "\n",
    "    # SARI scores\n",
    "    sari_scores = []\n",
    "    for pred, label, source in zip(decoded_preds, decoded_labels, sources):\n",
    "        sari_score = corpus_sari(\n",
    "            orig_sents=[source],  # original source sentence\n",
    "            sys_sents=[pred],     # system's generated sentence\n",
    "            refs_sents=[[label]]  # reference simplified sentence\n",
    "        )\n",
    "        sari_scores.append(sari_score)\n",
    "    \n",
    "    # average SARI score across all examples\n",
    "    avg_sari = np.mean(sari_scores)\n",
    "    return {\"sari\": avg_sari}\n",
    "\n",
    "model.train()\n",
    "\n",
    "training_args = Seq2SeqTrainingArguments(\n",
    "    output_dir=\"../models/bart-news-ft/results/results-news-bart-c4sp\",\n",
    "    eval_strategy=\"epoch\",\n",
    "    save_strategy = \"epoch\",\n",
    "    logging_strategy=\"steps\",\n",
    "    logging_steps=25,\n",
    "    learning_rate=1e-4,\n",
    "    per_device_train_batch_size=2,\n",
    "    per_device_eval_batch_size=2, \n",
    "    num_train_epochs=3,\n",
    "    save_total_limit=3,\n",
    "    weight_decay=0.01,\n",
    "    warmup_steps = 2,\n",
    "    #gradient_accumulation_steps=2,\n",
    "    optim = \"paged_adamw_8bit\",\n",
    "    load_best_model_at_end=True,\n",
    "    fp16=True,\n",
    "    logging_dir=\"../models/bart-news-ft/logs/logs-news-bart-c4sp\",\n",
    "    predict_with_generate=True,\n",
    "    metric_for_best_model='loss'\n",
    ")\n",
    "\n",
    "\n",
    "trainer = Seq2SeqTrainer(\n",
    "    model=model,\n",
    "    args=training_args,\n",
    "    train_dataset=tokenized_dataset['train'],\n",
    "    eval_dataset=tokenized_dataset['validation'],\n",
    "    tokenizer=tokenizer,\n",
    "    compute_metrics=compute_sari,\n",
    "    callbacks=[EarlyStoppingCallback(early_stopping_patience=3)]\n",
    ")\n",
    "\n",
    "model.config.use_cache = False"
   ]
  },
  {
   "cell_type": "code",
   "execution_count": 16,
   "id": "315d4f2c-7ca5-4110-a036-e5bece786f7b",
   "metadata": {},
   "outputs": [
    {
     "data": {
      "text/html": [
       "\n",
       "    <div>\n",
       "      \n",
       "      <progress value='1575' max='1575' style='width:300px; height:20px; vertical-align: middle;'></progress>\n",
       "      [1575/1575 06:45, Epoch 3/3]\n",
       "    </div>\n",
       "    <table border=\"1\" class=\"dataframe\">\n",
       "  <thead>\n",
       " <tr style=\"text-align: left;\">\n",
       "      <th>Epoch</th>\n",
       "      <th>Training Loss</th>\n",
       "      <th>Validation Loss</th>\n",
       "      <th>Sari</th>\n",
       "    </tr>\n",
       "  </thead>\n",
       "  <tbody>\n",
       "    <tr>\n",
       "      <td>1</td>\n",
       "      <td>0.486700</td>\n",
       "      <td>0.274817</td>\n",
       "      <td>36.233902</td>\n",
       "    </tr>\n",
       "    <tr>\n",
       "      <td>2</td>\n",
       "      <td>0.190800</td>\n",
       "      <td>0.267358</td>\n",
       "      <td>39.374951</td>\n",
       "    </tr>\n",
       "    <tr>\n",
       "      <td>3</td>\n",
       "      <td>0.092500</td>\n",
       "      <td>0.280149</td>\n",
       "      <td>38.324443</td>\n",
       "    </tr>\n",
       "  </tbody>\n",
       "</table><p>"
      ],
      "text/plain": [
       "<IPython.core.display.HTML object>"
      ]
     },
     "metadata": {},
     "output_type": "display_data"
    },
    {
     "name": "stderr",
     "output_type": "stream",
     "text": [
      "/home/6/ud03926/nlp/lib64/python3.9/site-packages/transformers/generation/utils.py:1364: UserWarning: You have modified the pretrained model configuration to control generation. This is a deprecated strategy to control generation and will be removed soon, in a future version. Please use and modify the model generation configuration (see https://huggingface.co/docs/transformers/generation_strategies#default-text-generation-configuration )\n",
      "  warnings.warn(\n",
      "Some non-default generation parameters are set in the model config. These should go into a GenerationConfig file (https://huggingface.co/docs/transformers/generation_strategies#save-a-custom-decoding-strategy-with-your-model) instead. This warning will be raised to an exception in v4.41.\n",
      "Non-default generation parameters: {'early_stopping': True, 'num_beams': 4, 'no_repeat_ngram_size': 3, 'forced_bos_token_id': 0, 'forced_eos_token_id': 2}\n",
      "Some non-default generation parameters are set in the model config. These should go into a GenerationConfig file (https://huggingface.co/docs/transformers/generation_strategies#save-a-custom-decoding-strategy-with-your-model) instead. This warning will be raised to an exception in v4.41.\n",
      "Non-default generation parameters: {'early_stopping': True, 'num_beams': 4, 'no_repeat_ngram_size': 3, 'forced_bos_token_id': 0, 'forced_eos_token_id': 2}\n",
      "Some non-default generation parameters are set in the model config. These should go into a GenerationConfig file (https://huggingface.co/docs/transformers/generation_strategies#save-a-custom-decoding-strategy-with-your-model) instead. This warning will be raised to an exception in v4.41.\n",
      "Non-default generation parameters: {'early_stopping': True, 'num_beams': 4, 'no_repeat_ngram_size': 3, 'forced_bos_token_id': 0, 'forced_eos_token_id': 2}\n",
      "Some non-default generation parameters are set in the model config. These should go into a GenerationConfig file (https://huggingface.co/docs/transformers/generation_strategies#save-a-custom-decoding-strategy-with-your-model) instead. This warning will be raised to an exception in v4.41.\n",
      "Non-default generation parameters: {'early_stopping': True, 'num_beams': 4, 'no_repeat_ngram_size': 3, 'forced_bos_token_id': 0, 'forced_eos_token_id': 2}\n",
      "There were missing keys in the checkpoint model loaded: ['model.encoder.embed_tokens.weight', 'model.decoder.embed_tokens.weight', 'lm_head.weight'].\n"
     ]
    },
    {
     "data": {
      "text/plain": [
       "TrainOutput(global_step=1575, training_loss=0.29104063631996274, metrics={'train_runtime': 406.4902, 'train_samples_per_second': 7.742, 'train_steps_per_second': 3.875, 'total_flos': 999005593190400.0, 'train_loss': 0.29104063631996274, 'epoch': 3.0})"
      ]
     },
     "execution_count": 16,
     "metadata": {},
     "output_type": "execute_result"
    }
   ],
   "source": [
    "trainer.train()"
   ]
  },
  {
   "cell_type": "markdown",
   "id": "093fa49b-7281-4d4b-b377-bcfeb3d102c5",
   "metadata": {
    "jp-MarkdownHeadingCollapsed": true
   },
   "source": [
    "## Trainer"
   ]
  },
  {
   "cell_type": "code",
   "execution_count": null,
   "id": "d9605eba-b890-4e08-be8d-879fd8db8aeb",
   "metadata": {},
   "outputs": [],
   "source": [
    "from transformers import Trainer, TrainingArguments, EarlyStoppingCallback\n",
    "from easse.sari import corpus_sari\n",
    "from tqdm.notebook import tqdm\n",
    "\n",
    "def compute_sari(pred):\n",
    "    \n",
    "    predictions = pred.predictions\n",
    "    labels = pred.label_ids\n",
    "    \n",
    "    # decode the predictions and labels into text\n",
    "    decoded_preds = tokenizer.batch_decode(predictions, skip_special_tokens=True)\n",
    "    decoded_labels = tokenizer.batch_decode(labels, skip_special_tokens=True)\n",
    "    \n",
    "    # source texts \n",
    "    sources = tokenized_dataset['validation']['r_content']\n",
    "\n",
    "    # SARI scores\n",
    "    sari_scores = []\n",
    "    for pred, label, source in tqdm(zip(decoded_preds, decoded_labels, sources)):\n",
    "        sari_score = corpus_sari(\n",
    "            orig_sents=[source],  # original source sentence\n",
    "            sys_sents=[pred],     # system's generated sentence\n",
    "            refs_sents=[[label]]  # reference simplified sentence\n",
    "        )\n",
    "        sari_scores.append(sari_score)\n",
    "    \n",
    "    # average SARI score across all examples\n",
    "    avg_sari = np.mean(sari_scores)\n",
    "    return {\"sari\": avg_sari}\n",
    "\n",
    "model.train()\n",
    "\n",
    "training_args = TrainingArguments(\n",
    "    output_dir=\"../models/bart-news-ft/results/results-news-bart-epoch10-lr1-trainer\",\n",
    "    eval_strategy=\"epoch\", \n",
    "    save_strategy = \"epoch\", \n",
    "    logging_strategy=\"steps\",\n",
    "    logging_steps=25,\n",
    "    learning_rate=1e-5, \n",
    "    per_device_train_batch_size=6, \n",
    "    per_device_eval_batch_size=6, \n",
    "    num_train_epochs=10, \n",
    "    weight_decay=0.01,\n",
    "    save_total_limit=3, \n",
    "    #gradient_accumulation_steps=6, # reduce memory\n",
    "    load_best_model_at_end=True, # based on valid loss\n",
    "    metric_for_best_model='loss',\n",
    "    warmup_steps = 2,\n",
    "    optim = \"paged_adamw_8bit\", # optimizer for quantization\n",
    "    fp16=True, # enable half-precision\n",
    "    logging_dir=\"../models/bart-news-ft/logs/logs-news-bart-epoch10-lr1-trainer\",\n",
    ")\n",
    "\n",
    "\n",
    "trainer = Trainer(\n",
    "    model=model,\n",
    "    args=training_args,\n",
    "    train_dataset=tokenized_dataset['train'],\n",
    "    eval_dataset=tokenized_dataset['validation'],\n",
    "    tokenizer=tokenizer,\n",
    "    compute_metrics=compute_sari,\n",
    "    callbacks=[EarlyStoppingCallback(early_stopping_patience=3)]\n",
    ")\n",
    "\n",
    "model.config.use_cache = False"
   ]
  },
  {
   "cell_type": "code",
   "execution_count": null,
   "id": "aab8faf9-0bd9-4f2c-bce2-bfe59eb8d7f9",
   "metadata": {},
   "outputs": [],
   "source": [
    "trainer.train()"
   ]
  },
  {
   "cell_type": "markdown",
   "id": "e229365e-d743-4171-ae4e-0e9548f87a0f",
   "metadata": {},
   "source": [
    "## Training Process"
   ]
  },
  {
   "cell_type": "code",
   "execution_count": 17,
   "id": "1a648d7d-fd78-49c2-8798-c4fb091773e5",
   "metadata": {},
   "outputs": [
    {
     "name": "stdout",
     "output_type": "stream",
     "text": [
      "Best validation loss: 0.2673584818840027\n",
      "Epoch of the best model: 2.0\n",
      "Sari score:  39.374951114225\n"
     ]
    }
   ],
   "source": [
    "log_history = trainer.state.log_history\n",
    "eval_logs = [log for log in log_history if \"eval_loss\" in log]\n",
    "\n",
    "# the best (lowest) validation loss\n",
    "best_eval_log = min(eval_logs, key=lambda x: x[\"eval_loss\"])\n",
    "\n",
    "print(f\"Best validation loss: {best_eval_log['eval_loss']}\")\n",
    "print(f\"Epoch of the best model: {best_eval_log['epoch']}\")\n",
    "print(\"Sari score: \", best_eval_log['eval_sari'] )"
   ]
  },
  {
   "cell_type": "code",
   "execution_count": 18,
   "id": "525b1bd6-ed8c-4832-9bf4-d1748ee69875",
   "metadata": {},
   "outputs": [
    {
     "data": {
      "image/png": "[encoded data removed]",
      "text/plain": [
       "<Figure size 1000x500 with 1 Axes>"
      ]
     },
     "metadata": {},
     "output_type": "display_data"
    }
   ],
   "source": [
    "import matplotlib.pyplot as plt\n",
    "\n",
    "# loss values from the log history\n",
    "train_loss = [log['loss'] for log in trainer.state.log_history if 'loss' in log]\n",
    "eval_loss = [log['eval_loss'] for log in trainer.state.log_history if 'eval_loss' in log]\n",
    "steps = range(len(train_loss))\n",
    "\n",
    "plt.figure(figsize=(10,5))\n",
    "plt.plot(steps, train_loss, label='Training Loss')\n",
    "plt.plot(steps[:len(eval_loss)], eval_loss, label='Validation Loss')\n",
    "plt.xlabel('Steps')\n",
    "plt.ylabel('Loss')\n",
    "plt.title('Loss curve')\n",
    "plt.legend()\n",
    "plt.show()"
   ]
  },
  {
   "cell_type": "markdown",
   "id": "f05dc24c-7de0-4c4e-8e2c-5aa6615bf3d0",
   "metadata": {
    "jp-MarkdownHeadingCollapsed": true
   },
   "source": [
    "# Save model"
   ]
  },
  {
   "cell_type": "code",
   "execution_count": 22,
   "id": "73755f0f-5aba-4f6d-b19c-50663e661148",
   "metadata": {},
   "outputs": [
    {
     "name": "stderr",
     "output_type": "stream",
     "text": [
      "Some non-default generation parameters are set in the model config. These should go into a GenerationConfig file (https://huggingface.co/docs/transformers/generation_strategies#save-a-custom-decoding-strategy-with-your-model) instead. This warning will be raised to an exception in v4.41.\n",
      "Non-default generation parameters: {'early_stopping': True, 'num_beams': 4, 'no_repeat_ngram_size': 3, 'forced_bos_token_id': 0, 'forced_eos_token_id': 2}\n"
     ]
    }
   ],
   "source": [
    "generation_config.save_pretrained(\"../models/bart-news-ft/model-2csp\")\n",
    "#tokenizer.save_pretrained(\"../models/bart-swipe-ft/model-swipe-clean\")\n",
    "model.save_pretrained(\"../models/bart-news-ft/model-2csp\")"
   ]
  },
  {
   "cell_type": "markdown",
   "id": "f402e962-1080-4541-b6e6-4e8ed6e562ee",
   "metadata": {},
   "source": [
    "# Generate predictions"
   ]
  },
  {
   "cell_type": "code",
   "execution_count": 15,
   "id": "1e718664-af1b-41bb-8f80-63663fd30f11",
   "metadata": {},
   "outputs": [],
   "source": [
    "import difflib\n",
    "from IPython.display import display, HTML\n",
    "\n",
    "def highlight_diff(sentence1, sentence2):\n",
    "    diff = difflib.ndiff(sentence1, sentence2)\n",
    "    highlighted = []\n",
    "    \n",
    "    for char in diff:\n",
    "        if char.startswith('-'):\n",
    "            highlighted.append(f\"<span style='color:red'>{char[2:]}</span>\")\n",
    "        elif char.startswith('+'):\n",
    "            highlighted.append(f\"<span style='color:green'>{char[2:]}</span>\")\n",
    "        else:\n",
    "            highlighted.append(char[2:])\n",
    "    \n",
    "    return ''.join(highlighted)"
   ]
  },
  {
   "cell_type": "markdown",
   "id": "5f2b796e-a67c-4a79-a7b3-42ba65432504",
   "metadata": {
    "jp-MarkdownHeadingCollapsed": true
   },
   "source": [
    "## Load the saved model"
   ]
  },
  {
   "cell_type": "code",
   "execution_count": 1,
   "id": "e0e332b8-7e81-4deb-a4f7-8a3590be4e39",
   "metadata": {},
   "outputs": [],
   "source": [
    "from transformers import BartForConditionalGeneration, BartTokenizer, GenerationConfig\n",
    "\n",
    "\n",
    "model_path = \"../models/bart-news-short-ft/model-news-short-bart-tokenizer\"\n",
    "\n",
    "tokenizer = BartTokenizer.from_pretrained('facebook/bart-large', use_fast=False)\n",
    "model = BartForConditionalGeneration.from_pretrained(model_path)\n",
    "generation_config = GenerationConfig.from_pretrained(model_path)\n",
    "model.generation_config = generation_config"
   ]
  },
  {
   "cell_type": "markdown",
   "id": "14c267c5-85c9-44e1-bebc-2206da6367f0",
   "metadata": {
    "jp-MarkdownHeadingCollapsed": true
   },
   "source": [
    "## Sample"
   ]
  },
  {
   "cell_type": "code",
   "execution_count": 22,
   "id": "dc1f35c6-4bee-4b43-9228-1a781a9f4a01",
   "metadata": {},
   "outputs": [],
   "source": [
    "torch.cuda.empty_cache()"
   ]
  },
  {
   "cell_type": "code",
   "execution_count": 23,
   "id": "4fd642e5-4e48-4fdc-812d-21eea8f38407",
   "metadata": {
    "scrolled": true
   },
   "outputs": [
    {
     "name": "stdout",
     "output_type": "stream",
     "text": [
      "Device: cuda:0\n",
      "Model device: cuda:0\n",
      "\n",
      "Model vocab size: 50265\n",
      "Tokenizer vocab size: 50265\n",
      "\n",
      "Simplified (highlighted): \n"
     ]
    },
    {
     "data": {
      "text/html": [
       "It<span style='color:red'> </span>'s the underdog of U.S. currency the greenback more likely to be found tucked inside a dresser drawer or wallet than a cash register<span style='color:red'> </span>. The $ 2 bill makes up just 3 percent of all paper money circulating in the states<span style='color:red'> </span>. Now it<span style='color:red'> </span>'s about to get its time in the <span style='color:red'>l</span><span style='color:red'>i</span><span style='color:red'>m</span><span style='color:red'>e</span><span style='color:green'>s</span><span style='color:green'>p</span><span style='color:green'>o</span><span style='color:green'>t</span>light thanks to a Delray Beach Fla<span style='color:red'> </span>. man who has always loved it<span style='color:red'> </span>. John Bennardo is crisscrossing the country to film a documentary <span style='color:red'>t</span><span style='color:red'>h</span>a<span style='color:green'>b</span><span style='color:green'>o</span><span style='color:green'>u</span>t <span style='color:green'>t</span><span style='color:green'>h</span><span style='color:green'>e</span><span style='color:green'> </span><span style='color:green'>t</span><span style='color:green'>w</span><span style='color:green'>o</span><span style='color:green'>.</span><span style='color:green'> </span><span style='color:green'>H</span><span style='color:green'>e</span><span style='color:green'> </span><span style='color:green'>w</span><span style='color:green'>a</span><span style='color:green'>n</span><span style='color:green'>t</span><span style='color:green'>s</span><span style='color:green'> </span><span style='color:green'>t</span><span style='color:green'>o</span><span style='color:green'> </span><span style='color:green'>t</span><span style='color:green'>e</span><span style='color:green'>l</span><span style='color:green'>l</span><span style='color:green'> </span><span style='color:green'>t</span><span style='color:green'>h</span><span style='color:green'>e</span><span style='color:green'> </span><span style='color:green'>s</span><span style='color:green'>t</span><span style='color:green'>o</span><span style='color:green'>r</span><span style='color:green'>y</span><span style='color:green'> </span><span style='color:green'>o</span><span style='color:green'>f</span><span style='color:green'> </span><span style='color:green'>t</span><span style='color:green'>h</span><span style='color:green'>e</span><span style='color:green'> </span><span style='color:green'>t</span><span style='color:green'>w</span><span style='color:green'>o</span><span style='color:green'> </span><span style='color:green'>a</span><span style='color:green'>n</span><span style='color:green'>d</span><span style='color:green'> </span><span style='color:green'>i</span><span style='color:green'>t</span><span style='color:green'>s</span><span style='color:green'> </span><span style='color:green'>\"</span><span style='color:green'> </span><span style='color:green'>m</span><span style='color:green'>a</span><span style='color:green'>g</span><span style='color:green'>i</span><span style='color:green'>c</span><span style='color:green'>.</span><span style='color:green'> </span><span style='color:green'>\"</span><span style='color:green'> </span><span style='color:green'>\"</span><span style='color:green'> </span><span style='color:green'>I</span><span style='color:green'> </span><span style='color:green'>t</span><span style='color:green'>h</span><span style='color:green'>i</span><span style='color:green'>n</span><span style='color:green'>k</span><span style='color:green'> </span><span style='color:green'>e</span><span style='color:green'>v</span><span style='color:green'>e</span><span style='color:green'>r</span><span style='color:green'>y</span><span style='color:green'>o</span><span style='color:green'>n</span><span style='color:green'>e</span>'<span style='color:red'>l</span><span style='color:red'>l</span><span style='color:red'> </span><span style='color:red'>t</span><span style='color:red'>e</span><span style='color:red'>l</span><span style='color:red'>l</span><span style='color:red'> </span><span style='color:red'>t</span><span style='color:red'>h</span><span style='color:red'>e</span><span style='color:red'> </span>s<span style='color:red'>t</span><span style='color:red'>o</span><span style='color:red'>r</span><span style='color:red'>y</span> <span style='color:green'>c</span><span style='color:green'>u</span><span style='color:green'>r</span><span style='color:green'>i</span>o<span style='color:green'>u</span><span style='color:green'>s</span><span style='color:green'> </span><span style='color:green'>a</span><span style='color:green'>b</span><span style='color:green'>o</span><span style='color:green'>u</span><span style='color:green'>t</span><span style='color:green'> </span><span style='color:green'>i</span><span style='color:green'>t</span><span style='color:green'> </span><span style='color:green'>h</span><span style='color:green'>e</span><span style='color:green'> </span><span style='color:green'>s</span><span style='color:green'>a</span><span style='color:green'>i</span><span style='color:green'>d</span><span style='color:green'>.</span><span style='color:green'> </span><span style='color:green'>\"</span><span style='color:green'> </span><span style='color:green'>W</span><span style='color:green'>h</span><span style='color:green'>e</span><span style='color:green'>n</span><span style='color:green'> </span><span style='color:green'>y</span><span style='color:green'>o</span><span style='color:green'>u</span><span style='color:green'> </span><span style='color:green'>s</span><span style='color:green'>p</span><span style='color:green'>e</span><span style='color:green'>n</span><span style='color:green'>d</span><span style='color:green'> </span><span style='color:green'>o</span><span style='color:green'>n</span><span style='color:green'>e</span><span style='color:green'> </span><span style='color:green'>t</span><span style='color:green'>h</span><span style='color:green'>e</span><span style='color:green'>r</span><span style='color:green'>e</span><span style='color:green'>'</span><span style='color:green'>s</span><span style='color:green'> </span><span style='color:green'>a</span><span style='color:green'>l</span><span style='color:green'>w</span><span style='color:green'>a</span><span style='color:green'>y</span><span style='color:green'>s</span><span style='color:green'> </span><span style='color:green'>a</span><span style='color:green'> </span><span style='color:green'>r</span><span style='color:green'>e</span><span style='color:green'>a</span><span style='color:green'>c</span><span style='color:green'>t</span><span style='color:green'>i</span><span style='color:green'>o</span><span style='color:green'>n</span><span style='color:green'>.</span><span style='color:green'> </span><span style='color:green'>\"</span><span style='color:green'> </span><span style='color:green'>T</span><span style='color:green'>u</span><span style='color:green'>r</span><span style='color:green'>n</span><span style='color:green'>s</span><span style='color:green'> </span><span style='color:green'>o</span><span style='color:green'>u</span><span style='color:green'>t</span><span style='color:green'> </span><span style='color:green'>i</span><span style='color:green'>t</span><span style='color:green'> </span><span style='color:green'>a</span><span style='color:green'>l</span><span style='color:green'>s</span><span style='color:green'>o</span><span style='color:green'> </span><span style='color:green'>m</span><span style='color:green'>a</span><span style='color:green'>k</span><span style='color:green'>e</span><span style='color:green'>s</span><span style='color:green'> </span>f<span style='color:red'> </span><span style='color:red'>t</span><span style='color:red'>h</span><span style='color:red'>e</span><span style='color:red'> </span><span style='color:red'>t</span><span style='color:red'>w</span><span style='color:red'>o</span><span style='color:red'> </span><span style='color:red'>a</span><span style='color:red'>n</span><span style='color:red'>d</span><span style='color:red'> </span><span style='color:red'>i</span><span style='color:red'>t</span><span style='color:red'>s</span><span style='color:red'> </span><span style='color:red'>\"</span><span style='color:red'> </span><span style='color:red'>m</span><span style='color:red'>a</span><span style='color:red'>g</span><span style='color:red'>i</span><span style='color:red'>c</span><span style='color:red'> </span><span style='color:red'>.</span><span style='color:red'> </span><span style='color:red'>\"</span><span style='color:red'> </span><span style='color:red'>\"</span><span style='color:red'> </span><span style='color:red'>I</span><span style='color:red'> </span><span style='color:red'>t</span><span style='color:red'>h</span><span style='color:red'>i</span><span style='color:red'>n</span><span style='color:red'>k</span><span style='color:red'> </span><span style='color:red'>e</span><span style='color:red'>v</span><span style='color:red'>e</span><span style='color:red'>r</span><span style='color:red'>y</span><span style='color:red'>o</span><span style='color:red'>n</span><span style='color:red'>e</span><span style='color:red'> </span><span style='color:red'>'</span><span style='color:red'>s</span><span style='color:red'> </span><span style='color:red'>c</span><span style='color:red'>u</span><span style='color:red'>r</span><span style='color:red'>i</span><span style='color:red'>o</span><span style='color:red'>u</span><span style='color:red'>s</span><span style='color:red'> </span><span style='color:red'>a</span><span style='color:red'>b</span><span style='color:red'>o</span><span style='color:red'>u</span><span style='color:red'>t</span><span style='color:red'> </span><span style='color:red'>i</span><span style='color:red'>t</span><span style='color:red'> </span><span style='color:red'>h</span><span style='color:red'>e</span><span style='color:red'> </span><span style='color:red'>s</span><span style='color:red'>a</span><span style='color:red'>i</span><span style='color:red'>d</span><span style='color:red'> </span><span style='color:red'>.</span><span style='color:red'> </span><span style='color:red'>\"</span><span style='color:red'> </span><span style='color:red'>W</span><span style='color:red'>h</span><span style='color:red'>e</span><span style='color:red'>n</span><span style='color:red'> </span><span style='color:red'>y</span><span style='color:red'>o</span><span style='color:red'>u</span><span style='color:red'> </span><span style='color:red'>s</span><span style='color:red'>p</span><span style='color:red'>e</span><span style='color:red'>n</span><span style='color:red'>d</span><span style='color:red'> </span><span style='color:red'>o</span><span style='color:red'>n</span><span style='color:red'>e</span><span style='color:red'> </span><span style='color:red'>t</span><span style='color:red'>h</span><span style='color:red'>e</span><span style='color:red'>r</span><span style='color:red'>e</span><span style='color:red'> </span><span style='color:red'>'</span><span style='color:red'>s</span><span style='color:red'> </span><span style='color:red'>a</span><span style='color:red'>l</span><span style='color:red'>w</span><span style='color:red'>a</span><span style='color:red'>y</span><span style='color:red'>s</span><span style='color:red'> </span><span style='color:red'>a</span><span style='color:red'> </span><span style='color:red'>r</span><span style='color:red'>e</span><span style='color:red'>a</span><span style='color:red'>c</span><span style='color:red'>t</span><span style='color:red'>i</span><span style='color:red'>o</span><span style='color:red'>n</span><span style='color:red'> </span><span style='color:red'>.</span><span style='color:red'> </span><span style='color:red'>\"</span><span style='color:red'> </span><span style='color:red'>T</span><span style='color:red'>u</span><span style='color:red'>r</span><span style='color:red'>n</span><span style='color:red'>s</span><span style='color:red'> </span><span style='color:red'>o</span><span style='color:red'>u</span><span style='color:red'>t</span><span style='color:red'> </span><span style='color:red'>i</span><span style='color:red'>t</span><span style='color:red'> </span><span style='color:red'>a</span><span style='color:red'>l</span><span style='color:red'>s</span><span style='color:red'>o</span><span style='color:red'> </span><span style='color:red'>m</span><span style='color:red'>a</span><span style='color:red'>k</span><span style='color:red'>e</span><span style='color:red'>s</span><span style='color:red'> </span><span style='color:red'>f</span>or quite a story<span style='color:red'> </span>. The quirky bill with Thomas Jefferson on the front and the signing of the Declaration of Independence on the back is more than just a collector<span style='color:red'> </span>'s item<span style='color:red'> </span>. It<span style='color:red'> </span>'s a regular at some strip clubs<span style='color:green'>.</span> <span style='color:red'>a</span><span style='color:green'>I</span><span style='color:green'>t</span> <span style='color:green'>i</span><span style='color:green'>s</span><span style='color:green'> </span><span style='color:green'>a</span><span style='color:green'>l</span><span style='color:green'>s</span><span style='color:green'>o</span><span style='color:green'> </span><span style='color:green'>u</span><span style='color:green'>s</span><span style='color:green'>e</span><span style='color:green'>d</span><span style='color:green'> </span><span style='color:green'>t</span><span style='color:green'>o</span><span style='color:green'> </span><span style='color:green'>s</span><span style='color:green'>h</span><span style='color:green'>o</span><span style='color:green'>w</span><span style='color:green'> </span><span style='color:green'>a</span><span style='color:green'> </span><span style='color:green'>g</span><span style='color:green'>r</span><span style='color:green'>o</span><span style='color:green'>u</span>p<span style='color:green'>'</span><span style='color:green'>s</span><span style='color:red'>i</span><span style='color:red'>e</span><span style='color:red'>c</span><span style='color:red'>e</span> <span style='color:green'>e</span><span style='color:green'>c</span>o<span style='color:green'>n</span><span style='color:green'>o</span><span style='color:green'>m</span><span style='color:green'>i</span><span style='color:green'>c</span><span style='color:green'> </span><span style='color:green'>i</span><span style='color:green'>n</span>f<span style='color:red'> </span><span style='color:red'>a</span><span style='color:red'> </span>l<span style='color:green'>u</span><span style='color:red'>o</span><span style='color:red'>n</span><span style='color:red'>g</span><span style='color:red'>t</span><span style='color:red'>i</span><span style='color:red'>m</span>e<span style='color:red'> </span><span style='color:red'>C</span><span style='color:red'>l</span><span style='color:red'>e</span><span style='color:red'>m</span><span style='color:red'>s</span><span style='color:red'>o</span>n<span style='color:green'>c</span><span style='color:green'>e</span><span style='color:green'>.</span> <span style='color:red'>U</span><span style='color:green'>B</span><span style='color:green'>e</span>n<span style='color:red'>i</span><span style='color:green'>n</span><span style='color:green'>a</span><span style='color:green'>r</span><span style='color:green'>d</span><span style='color:green'>o</span><span style='color:green'> </span><span style='color:green'>w</span><span style='color:green'>a</span><span style='color:green'>s</span><span style='color:green'> </span><span style='color:green'>a</span><span style='color:green'>l</span><span style='color:green'>w</span><span style='color:green'>a</span><span style='color:green'>y</span><span style='color:green'>s</span><span style='color:green'> </span><span style='color:green'>o</span><span style='color:green'>n</span><span style='color:green'>e</span><span style='color:green'> </span><span style='color:green'>t</span><span style='color:green'>o</span><span style='color:green'> </span><span style='color:green'>s</span><span style='color:green'>a</span>ve<span style='color:red'>r</span><span style='color:red'>s</span><span style='color:red'>i</span><span style='color:red'>t</span><span style='color:red'>y</span> t<span style='color:red'>r</span><span style='color:red'>a</span><span style='color:red'>d</span><span style='color:red'>i</span><span style='color:red'>t</span><span style='color:red'>i</span><span style='color:red'>o</span><span style='color:red'>n</span><span style='color:red'> </span><span style='color:red'>a</span><span style='color:red'>n</span><span style='color:red'>d</span><span style='color:red'> </span><span style='color:red'>a</span><span style='color:red'> </span><span style='color:red'>t</span><span style='color:red'>o</span><span style='color:red'>o</span><span style='color:red'>l</span><span style='color:red'> </span><span style='color:red'>u</span><span style='color:red'>s</span><span style='color:red'>e</span><span style='color:red'>d</span><span style='color:red'> </span><span style='color:red'>t</span><span style='color:red'>o</span><span style='color:red'> </span><span style='color:red'>s</span>h<span style='color:red'>o</span><span style='color:red'>w</span><span style='color:red'> </span><span style='color:red'>a</span><span style='color:red'> </span><span style='color:red'>g</span><span style='color:red'>r</span><span style='color:red'>o</span><span style='color:red'>u</span><span style='color:red'>p</span><span style='color:red'> </span><span style='color:red'>'</span><span style='color:red'>s</span><span style='color:red'> </span>e<span style='color:red'>c</span><span style='color:red'>o</span><span style='color:red'>n</span><span style='color:red'>o</span>m<span style='color:red'>i</span><span style='color:red'>c</span><span style='color:red'> </span><span style='color:red'>i</span><span style='color:red'>n</span><span style='color:red'>f</span><span style='color:red'>l</span><span style='color:red'>u</span><span style='color:red'>e</span><span style='color:red'>n</span><span style='color:red'>c</span><span style='color:red'>e</span><span style='color:red'> </span><span style='color:red'>.</span><span style='color:red'> </span><span style='color:red'>W</span><span style='color:red'>h</span><span style='color:red'>i</span><span style='color:red'>l</span><span style='color:red'>e</span><span style='color:red'> </span><span style='color:red'>m</span><span style='color:red'>a</span><span style='color:red'>n</span><span style='color:red'>y</span><span style='color:red'> </span><span style='color:red'>s</span><span style='color:red'>a</span><span style='color:red'>v</span><span style='color:red'>e</span><span style='color:red'> </span><span style='color:red'>$</span><span style='color:red'> </span><span style='color:red'>2</span><span style='color:red'> </span><span style='color:red'>b</span><span style='color:red'>i</span><span style='color:red'>l</span><span style='color:red'>l</span><span style='color:red'>s</span><span style='color:red'> </span><span style='color:red'>o</span><span style='color:red'>t</span><span style='color:red'>h</span><span style='color:red'>e</span><span style='color:red'>r</span><span style='color:red'>s</span><span style='color:red'> </span><span style='color:red'>m</span><span style='color:red'>a</span><span style='color:red'>k</span><span style='color:red'>e</span><span style='color:red'> </span><span style='color:red'>a</span><span style='color:red'> </span><span style='color:red'>p</span><span style='color:red'>o</span><span style='color:red'>i</span><span style='color:red'>n</span><span style='color:red'>t</span><span style='color:red'> </span><span style='color:red'>t</span><span style='color:red'>o</span><span style='color:red'> </span><span style='color:red'>s</span><span style='color:red'>p</span><span style='color:red'>e</span><span style='color:red'>n</span><span style='color:red'>d</span><span style='color:red'> </span><span style='color:red'>t</span><span style='color:red'>h</span><span style='color:red'>e</span><span style='color:red'>m</span><span style='color:red'> </span><span style='color:red'>—</span><span style='color:red'> </span><span style='color:red'>j</span><span style='color:red'>u</span><span style='color:red'>s</span><span style='color:red'>t</span><span style='color:red'> </span><span style='color:red'>t</span><span style='color:red'>o</span><span style='color:red'> </span><span style='color:red'>s</span><span style='color:red'>e</span><span style='color:red'>e</span><span style='color:red'> </span><span style='color:red'>w</span><span style='color:red'>h</span><span style='color:red'>a</span><span style='color:red'>t</span><span style='color:red'> </span><span style='color:red'>h</span><span style='color:red'>a</span><span style='color:red'>p</span><span style='color:red'>p</span><span style='color:red'>e</span><span style='color:red'>n</span><span style='color:red'>s</span><span style='color:red'> </span><span style='color:red'>n</span><span style='color:red'>e</span><span style='color:red'>x</span><span style='color:red'>t</span><span style='color:red'> </span>. B<span style='color:red'>e</span><span style='color:red'>n</span><span style='color:red'>n</span><span style='color:red'>a</span><span style='color:red'>r</span><span style='color:red'>d</span><span style='color:red'>o</span><span style='color:red'> </span><span style='color:red'>w</span><span style='color:red'>a</span><span style='color:red'>s</span><span style='color:red'> </span><span style='color:red'>a</span><span style='color:red'>l</span><span style='color:red'>w</span><span style='color:red'>a</span>y<span style='color:red'>s</span> <span style='color:red'>o</span><span style='color:red'>n</span><span style='color:red'>e</span><span style='color:red'> </span><span style='color:red'>t</span><span style='color:red'>o</span><span style='color:red'> </span><span style='color:red'>s</span><span style='color:red'>a</span><span style='color:red'>v</span><span style='color:red'>e</span><span style='color:red'> </span><span style='color:red'>t</span><span style='color:red'>h</span><span style='color:red'>e</span><span style='color:red'>m</span><span style='color:red'> </span><span style='color:red'>.</span><span style='color:red'> </span><span style='color:red'>B</span><span style='color:red'>y</span><span style='color:red'> </span>last summer <span style='color:red'>t</span>he<span style='color:red'> </span><span style='color:red'>I</span><span style='color:red'>m</span><span style='color:red'>m</span><span style='color:red'>a</span><span style='color:red'>g</span><span style='color:red'>i</span><span style='color:red'>n</span><span style='color:red'>e</span><span style='color:red'> </span><span style='color:red'>P</span><span style='color:red'>r</span><span style='color:red'>o</span><span style='color:red'>d</span><span style='color:red'>u</span><span style='color:red'>c</span><span style='color:red'>t</span><span style='color:red'>i</span><span style='color:red'>o</span><span style='color:red'>n</span><span style='color:red'>s</span><span style='color:red'> </span><span style='color:red'>o</span><span style='color:red'>w</span><span style='color:red'>n</span><span style='color:red'>e</span><span style='color:red'>r</span><span style='color:red'> </span><span style='color:red'>a</span><span style='color:red'>n</span><span style='color:red'>d</span><span style='color:red'> </span><span style='color:red'>L</span><span style='color:red'>y</span><span style='color:red'>n</span><span style='color:red'>n</span><span style='color:red'> </span><span style='color:red'>U</span><span style='color:red'>n</span><span style='color:red'>i</span><span style='color:red'>v</span><span style='color:red'>e</span><span style='color:red'>r</span><span style='color:red'>s</span><span style='color:red'>i</span><span style='color:red'>t</span><span style='color:red'>y</span><span style='color:red'> </span><span style='color:red'>p</span><span style='color:red'>r</span><span style='color:red'>o</span><span style='color:red'>f</span><span style='color:red'>e</span><span style='color:red'>s</span><span style='color:red'>s</span><span style='color:red'>o</span><span style='color:red'>r</span><span style='color:red'> </span><span style='color:red'>o</span><span style='color:red'>f</span><span style='color:red'> </span><span style='color:red'>f</span><span style='color:red'>i</span><span style='color:red'>l</span><span style='color:red'>m</span><span style='color:red'> </span><span style='color:red'>a</span><span style='color:red'>n</span><span style='color:red'>d</span><span style='color:red'> </span><span style='color:red'>t</span><span style='color:red'>e</span><span style='color:red'>l</span><span style='color:red'>e</span><span style='color:red'>v</span><span style='color:red'>i</span><span style='color:red'>s</span><span style='color:red'>i</span><span style='color:red'>o</span><span style='color:red'>n</span><span style='color:red'> </span><span style='color:red'>e</span><span style='color:red'>d</span><span style='color:red'>i</span><span style='color:red'>t</span><span style='color:red'>i</span><span style='color:red'>n</span><span style='color:red'>g</span> had 11 of them in a desk drawer<span style='color:green'>.</span><span style='color:green'> </span><span style='color:green'>T</span><span style='color:green'>h</span><span style='color:green'>e</span><span style='color:green'>y</span><span style='color:green'> </span><span style='color:green'>w</span><span style='color:green'>e</span><span style='color:green'>r</span><span style='color:green'>e</span> sitting inside an old checkbook box never to be spent<span style='color:red'> </span>. It got him thinking : What is it about the <span style='color:red'>t</span><span style='color:red'>w</span><span style='color:red'>o</span><span style='color:red'> </span><span style='color:green'>b</span><span style='color:green'>i</span><span style='color:green'>l</span><span style='color:green'>l</span>? And \" The 2 Dollar Bill Documentary \" was born<span style='color:red'> </span>. Amy Byer Shainman <span style='color:green'>i</span><span style='color:green'>s</span><span style='color:green'> </span>a Jupiter Fla<span style='color:red'> </span>. resident and breast cancer advocate<span style='color:green'>.</span> <span style='color:red'>w</span><span style='color:green'>S</span>h<span style='color:red'>o</span><span style='color:green'>e</span> <span style='color:green'>j</span><span style='color:red'>i</span><span style='color:red'>s</span><span style='color:red'> </span><span style='color:red'>a</span><span style='color:red'>l</span><span style='color:red'>s</span>o<span style='color:green'>i</span><span style='color:green'>n</span><span style='color:green'>e</span><span style='color:green'>d</span><span style='color:green'> </span><span style='color:green'>o</span><span style='color:green'>n</span><span style='color:green'> </span><span style='color:green'>a</span><span style='color:green'>s</span><span style='color:green'> </span><span style='color:green'>e</span><span style='color:green'>x</span><span style='color:green'>e</span><span style='color:green'>c</span><span style='color:green'>u</span><span style='color:green'>t</span><span style='color:green'>i</span><span style='color:green'>v</span><span style='color:green'>e</span> p<span style='color:red'>a</span><span style='color:red'>s</span><span style='color:red'>s</span><span style='color:red'>i</span><span style='color:red'>o</span><span style='color:red'>n</span><span style='color:red'>a</span><span style='color:red'>t</span><span style='color:red'>e</span><span style='color:red'> </span><span style='color:red'>a</span><span style='color:red'>b</span><span style='color:red'>o</span><span style='color:red'>u</span><span style='color:red'>t</span><span style='color:red'> </span><span style='color:red'>t</span><span style='color:red'>h</span><span style='color:red'>e</span><span style='color:red'> </span><span style='color:red'>b</span><span style='color:red'>i</span><span style='color:red'>l</span><span style='color:red'>l</span><span style='color:red'> </span><span style='color:red'>j</span><span style='color:red'>o</span><span style='color:red'>i</span><span style='color:red'>n</span><span style='color:red'>e</span><span style='color:red'>d</span><span style='color:red'> </span><span style='color:red'>o</span><span style='color:red'>n</span><span style='color:red'> </span><span style='color:red'>a</span><span style='color:red'>s</span><span style='color:red'> </span><span style='color:red'>e</span><span style='color:red'>x</span><span style='color:red'>e</span><span style='color:red'>c</span><span style='color:red'>u</span><span style='color:red'>t</span><span style='color:red'>i</span><span style='color:red'>v</span><span style='color:red'>e</span><span style='color:red'> </span><span style='color:red'>p</span>roducer<span style='color:red'> </span>. She said she has kept a two her high school crush gave her for more than 25 years without knowing why<span style='color:red'> </span>. \" There<span style='color:red'> </span>'s <span style='color:red'>a</span><span style='color:red'> </span><span style='color:red'>m</span><span style='color:red'>y</span>s<span style='color:red'>t</span><span style='color:red'>i</span><span style='color:red'>q</span><span style='color:red'>u</span><span style='color:red'>e</span><span style='color:red'> </span><span style='color:red'>s</span><span style='color:red'>u</span><span style='color:red'>r</span><span style='color:red'>r</span>o<span style='color:red'>u</span><span style='color:red'>n</span><span style='color:red'>d</span><span style='color:red'>i</span><span style='color:red'>n</span><span style='color:red'>g</span><span style='color:red'> </span><span style='color:red'>t</span><span style='color:red'>h</span><span style='color:red'>e</span><span style='color:red'> </span><span style='color:red'>$</span><span style='color:red'> </span><span style='color:red'>2</span><span style='color:red'> </span><span style='color:red'>b</span><span style='color:red'>i</span><span style='color:red'>l</span><span style='color:red'>l</span><span style='color:red'> </span><span style='color:red'>a</span><span style='color:red'> </span>m<span style='color:red'>y</span><span style='color:red'>s</span><span style='color:red'>t</span><span style='color:red'>i</span><span style='color:red'>q</span><span style='color:red'>u</span>e<span style='color:red'> </span>th<span style='color:red'>a</span><span style='color:red'>t</span><span style='color:red'> </span>i<span style='color:red'>t</span><span style='color:green'>n</span><span style='color:green'>g</span> <span style='color:green'>t</span><span style='color:green'>h</span><span style='color:green'>a</span><span style='color:green'>t</span>'s rare <span style='color:red'>a</span><span style='color:red'>n</span><span style='color:red'>d</span><span style='color:red'> </span><span style='color:red'>a</span><span style='color:red'>n</span><span style='color:red'>y</span><span style='color:red'>t</span><span style='color:red'>h</span><span style='color:red'>i</span><span style='color:red'>n</span><span style='color:red'>g</span><span style='color:red'> </span><span style='color:red'>t</span><span style='color:red'>h</span><span style='color:red'>a</span><span style='color:red'>t</span><span style='color:red'> </span><span style='color:red'>'</span>s<span style='color:red'> </span><span style='color:red'>r</span><span style='color:red'>a</span><span style='color:red'>r</span><span style='color:red'>e</span><span style='color:red'> </span><span style='color:red'>i</span><span style='color:red'>s</span><span style='color:red'> </span><span style='color:red'>a</span><span style='color:red'> </span><span style='color:red'>m</span><span style='color:red'>a</span><span style='color:red'>t</span><span style='color:red'>t</span><span style='color:red'>e</span><span style='color:red'>r</span><span style='color:red'> </span><span style='color:red'>o</span><span style='color:red'>f</span><span style='color:red'> </span><span style='color:red'>i</span><span style='color:red'>n</span><span style='color:red'>t</span><span style='color:red'>r</span><span style='color:red'>i</span><span style='color:red'>g</span><span style='color:red'>u</span><span style='color:red'>e</span><span style='color:red'> </span><span style='color:red'>B</span><span style='color:red'>y</span><span style='color:red'>e</span><span style='color:red'>r</span><span style='color:red'> </span><span style='color:red'>S</span>h<span style='color:green'>e</span><span style='color:red'>a</span><span style='color:red'>i</span><span style='color:red'>n</span><span style='color:red'>m</span><span style='color:red'>a</span><span style='color:red'>n</span> said<span style='color:red'> </span>. After raising about $ 18 000 for the project on Kickstarter.com Bennardo got to work last summer<span style='color:red'> </span>. Some of his stops were in South Florida<span style='color:green'>.</span> <span style='color:green'>H</span><span style='color:green'>e</span><span style='color:green'> </span><span style='color:green'>t</span><span style='color:green'>a</span><span style='color:green'>l</span><span style='color:green'>k</span><span style='color:green'>e</span><span style='color:green'>d</span><span style='color:green'> </span><span style='color:green'>t</span><span style='color:green'>o</span><span style='color:green'> </span><span style='color:green'>a</span><span style='color:green'> </span><span style='color:green'>m</span><span style='color:green'>a</span><span style='color:green'>n</span><span style='color:green'> </span><span style='color:green'>w</span><span style='color:green'>h</span><span style='color:green'>o</span><span style='color:green'> </span><span style='color:green'>t</span><span style='color:green'>u</span><span style='color:green'>r</span><span style='color:green'>n</span><span style='color:green'>s</span><span style='color:green'> </span><span style='color:green'>$</span><span style='color:green'> </span><span style='color:green'>2</span><span style='color:green'> </span><span style='color:green'>b</span><span style='color:green'>i</span><span style='color:green'>l</span><span style='color:green'>l</span><span style='color:green'>s</span><span style='color:green'> </span><span style='color:green'>i</span><span style='color:green'>n</span><span style='color:green'>t</span><span style='color:green'>o</span><span style='color:green'> </span><span style='color:green'>a</span><span style='color:green'>r</span><span style='color:green'>t</span>. The<span style='color:red'>r</span><span style='color:red'>e</span><span style='color:red'> </span><span style='color:red'>'</span><span style='color:red'>s</span><span style='color:red'> </span><span style='color:red'>E</span><span style='color:red'>t</span><span style='color:red'>t</span><span style='color:red'>r</span><span style='color:red'>a</span><span style='color:red'> </span><span style='color:red'>G</span><span style='color:red'>a</span><span style='color:red'>l</span><span style='color:red'>l</span><span style='color:red'>e</span><span style='color:red'>r</span><span style='color:red'>y</span><span style='color:red'> </span><span style='color:red'>i</span>n <span style='color:red'>D</span><span style='color:red'>e</span><span style='color:red'>l</span><span style='color:red'>r</span><span style='color:red'>a</span><span style='color:red'>y</span><span style='color:red'> </span><span style='color:red'>B</span><span style='color:red'>e</span><span style='color:red'>a</span><span style='color:red'>c</span><span style='color:red'>h</span><span style='color:red'> </span><span style='color:red'>w</span><span style='color:red'>h</span><span style='color:red'>e</span><span style='color:red'>r</span><span style='color:red'>e</span><span style='color:red'> </span><span style='color:red'>h</span><span style='color:red'>e</span><span style='color:red'> </span>t<span style='color:red'>a</span><span style='color:red'>l</span><span style='color:red'>k</span><span style='color:red'>e</span><span style='color:red'>d</span><span style='color:red'> </span><span style='color:red'>t</span><span style='color:red'>o</span><span style='color:red'> </span><span style='color:red'>a</span><span style='color:red'> </span><span style='color:red'>m</span><span style='color:red'>a</span><span style='color:red'>n</span><span style='color:red'> </span><span style='color:red'>w</span>h<span style='color:green'>e</span><span style='color:red'>o</span><span style='color:red'> </span><span style='color:red'>t</span><span style='color:red'>u</span>r<span style='color:green'>e</span><span style='color:red'>n</span><span style='color:red'>s</span> <span style='color:green'>w</span><span style='color:red'>$</span><span style='color:red'> </span><span style='color:red'>2</span><span style='color:red'> </span><span style='color:red'>b</span><span style='color:red'>i</span><span style='color:red'>l</span><span style='color:red'>l</span><span style='color:red'>s</span><span style='color:red'> </span><span style='color:red'>i</span><span style='color:red'>n</span><span style='color:red'>t</span><span style='color:red'>o</span><span style='color:red'> </span>a<span style='color:green'>s</span><span style='color:red'>r</span><span style='color:red'>t</span> <span style='color:green'>h</span><span style='color:green'>i</span><span style='color:green'>s</span><span style='color:green'> </span><span style='color:green'>M</span><span style='color:green'>i</span><span style='color:green'>a</span><span style='color:green'>m</span><span style='color:green'>i</span><span style='color:green'> </span><span style='color:green'>s</span><span style='color:green'>h</span><span style='color:green'>o</span><span style='color:green'>o</span><span style='color:green'>t</span><span style='color:green'> </span><span style='color:green'>w</span><span style='color:green'>i</span><span style='color:green'>t</span><span style='color:green'>h</span><span style='color:green'> </span><span style='color:green'>A</span><span style='color:green'>m</span><span style='color:green'>e</span><span style='color:green'>r</span><span style='color:green'>i</span><span style='color:green'>c</span><span style='color:green'>a</span><span style='color:green'>n</span><span style='color:green'> </span><span style='color:green'>H</span><span style='color:green'>e</span><span style='color:green'>a</span><span style='color:green'>l</span><span style='color:green'>t</span><span style='color:green'>h</span><span style='color:green'>y</span><span style='color:green'> </span><span style='color:green'>V</span><span style='color:green'>e</span><span style='color:green'>n</span><span style='color:green'>d</span><span style='color:green'>i</span><span style='color:green'>n</span><span style='color:green'>g</span>. The<span style='color:red'>n</span><span style='color:red'> </span><span style='color:red'>t</span><span style='color:red'>h</span><span style='color:red'>e</span><span style='color:red'>r</span><span style='color:red'>e</span><span style='color:red'> </span><span style='color:red'>'</span><span style='color:red'>s</span><span style='color:red'> </span><span style='color:red'>h</span><span style='color:red'>i</span><span style='color:red'>s</span><span style='color:red'> </span><span style='color:red'>M</span><span style='color:red'>i</span><span style='color:red'>a</span><span style='color:red'>m</span><span style='color:red'>i</span><span style='color:red'> </span><span style='color:red'>s</span><span style='color:red'>h</span><span style='color:red'>o</span><span style='color:red'>o</span><span style='color:red'>t</span><span style='color:red'> </span><span style='color:red'>w</span><span style='color:red'>i</span><span style='color:red'>t</span><span style='color:red'>h</span><span style='color:red'> </span><span style='color:red'>A</span><span style='color:red'>m</span><span style='color:red'>e</span><span style='color:red'>r</span><span style='color:red'>i</span><span style='color:red'>c</span><span style='color:red'>a</span><span style='color:red'>n</span><span style='color:red'> </span><span style='color:red'>H</span><span style='color:red'>e</span><span style='color:red'>a</span><span style='color:red'>l</span><span style='color:red'>t</span><span style='color:red'>h</span>y<span style='color:red'> </span><span style='color:red'>V</span><span style='color:red'>e</span><span style='color:red'>n</span><span style='color:red'>d</span><span style='color:red'>i</span><span style='color:red'>n</span><span style='color:red'>g</span><span style='color:red'> </span><span style='color:red'>w</span><span style='color:red'>h</span><span style='color:red'>o</span> explained why most machines do<span style='color:red'> </span>n't take twos<span style='color:red'> </span>. And Bennardo only had to go to Miami to capture Clemson<span style='color:red'> </span>'s tradition at work during the Orange Bowl<span style='color:red'> </span>. <span style='color:green'>H</span><span style='color:red'>B</span><span style='color:red'>e</span><span style='color:red'>y</span><span style='color:red'>o</span><span style='color:red'>n</span><span style='color:red'>d</span><span style='color:red'> </span><span style='color:red'>t</span><span style='color:red'>h</span><span style='color:red'>a</span><span style='color:red'>t</span><span style='color:red'> </span><span style='color:red'>h</span>e has traveled to several states — including Texas New York Michigan and Oregon — and interviewed about 50 people in all<span style='color:red'> </span>. Along the way <span style='color:green'>h</span><span style='color:green'>e</span><span style='color:green'> </span><span style='color:green'>h</span><span style='color:green'>a</span><span style='color:green'>s</span><span style='color:green'> </span><span style='color:green'>d</span><span style='color:green'>i</span><span style='color:green'>s</span><span style='color:green'>c</span><span style='color:green'>o</span><span style='color:green'>v</span><span style='color:green'>e</span><span style='color:green'>r</span><span style='color:green'>e</span><span style='color:green'>d</span><span style='color:green'> </span><span style='color:green'>a</span><span style='color:green'> </span><span style='color:green'>w</span><span style='color:green'>h</span><span style='color:green'>o</span><span style='color:green'>l</span><span style='color:green'>e</span><span style='color:green'> </span><span style='color:green'>s</span><span style='color:green'>o</span><span style='color:green'>c</span><span style='color:green'>i</span><span style='color:green'>e</span><span style='color:green'>t</span><span style='color:green'>y</span><span style='color:green'> </span><span style='color:green'>o</span><span style='color:green'>f</span><span style='color:green'> </span><span style='color:green'>o</span><span style='color:green'>t</span><span style='color:green'>h</span><span style='color:green'>e</span><span style='color:green'>r</span><span style='color:green'>s</span><span style='color:green'> </span><span style='color:green'>w</span><span style='color:green'>h</span><span style='color:green'>o</span><span style='color:green'> </span><span style='color:green'>s</span><span style='color:green'>h</span><span style='color:green'>a</span><span style='color:green'>r</span><span style='color:green'>e</span><span style='color:green'> </span><span style='color:green'>h</span><span style='color:green'>i</span><span style='color:green'>s</span><span style='color:green'> </span><span style='color:green'>a</span><span style='color:green'>n</span><span style='color:green'>d</span><span style='color:green'> </span>B<span style='color:red'>e</span><span style='color:red'>n</span><span style='color:red'>n</span><span style='color:red'>a</span><span style='color:red'>r</span><span style='color:red'>d</span><span style='color:red'>o</span><span style='color:red'> </span><span style='color:red'>h</span><span style='color:red'>a</span><span style='color:red'>s</span><span style='color:red'> </span><span style='color:red'>d</span><span style='color:red'>i</span><span style='color:red'>s</span><span style='color:red'>c</span><span style='color:red'>o</span><span style='color:red'>v</span><span style='color:red'>e</span><span style='color:red'>r</span><span style='color:red'>e</span><span style='color:red'>d</span><span style='color:red'> </span><span style='color:red'>a</span><span style='color:red'> </span><span style='color:red'>w</span><span style='color:red'>h</span><span style='color:red'>o</span><span style='color:red'>l</span><span style='color:red'>e</span><span style='color:red'> </span><span style='color:red'>s</span><span style='color:red'>o</span><span style='color:red'>c</span><span style='color:red'>i</span><span style='color:red'>e</span><span style='color:red'>t</span>y<span style='color:red'> </span><span style='color:red'>o</span><span style='color:red'>f</span><span style='color:red'> </span><span style='color:red'>o</span><span style='color:red'>t</span><span style='color:red'>h</span>er<span style='color:red'>s</span> <span style='color:red'>w</span><span style='color:red'>h</span><span style='color:red'>o</span><span style='color:red'> </span>sha<span style='color:red'>r</span><span style='color:red'>e</span><span style='color:red'> </span><span style='color:red'>h</span>i<span style='color:red'>s</span><span style='color:red'> </span><span style='color:red'>a</span>n<span style='color:red'>d</span><span style='color:red'> </span><span style='color:red'>B</span><span style='color:red'>y</span><span style='color:red'>e</span><span style='color:red'>r</span><span style='color:red'> </span><span style='color:red'>S</span><span style='color:red'>h</span><span style='color:red'>a</span><span style='color:red'>i</span><span style='color:red'>n</span>man<span style='color:red'> </span>'s enthusiasm for the offbeat bill<span style='color:red'> </span>.<span style='color:red'> </span><span style='color:red'>A</span><span style='color:red'>m</span><span style='color:red'>o</span><span style='color:red'>n</span><span style='color:red'>g</span><span style='color:red'> </span><span style='color:red'>t</span><span style='color:red'>h</span><span style='color:red'>e</span><span style='color:red'>m</span><span style='color:red'> </span><span style='color:red'>i</span><span style='color:red'>s</span> Heather McCabe <span style='color:green'>i</span><span style='color:green'>s</span><span style='color:green'> </span>a copywriter from Brooklyn N.Y. <span style='color:red'>w</span><span style='color:green'>S</span>h<span style='color:red'>o</span><span style='color:green'>e</span> requests $ 2 <span style='color:red'>b</span><span style='color:red'>i</span><span style='color:red'>l</span><span style='color:red'>l</span><span style='color:green'>n</span><span style='color:green'>o</span><span style='color:green'>t</span><span style='color:green'>e</span>s from her bank and spends them at local businesses<span style='color:red'> </span><span style='color:red'>i</span><span style='color:red'>n</span><span style='color:red'> </span><span style='color:red'>h</span><span style='color:red'>o</span><span style='color:red'>p</span><span style='color:red'>e</span><span style='color:red'>s</span><span style='color:red'> </span><span style='color:red'>o</span><span style='color:red'>f</span><span style='color:red'> </span><span style='color:red'>s</span><span style='color:red'>e</span><span style='color:red'>e</span><span style='color:red'>i</span><span style='color:red'>n</span><span style='color:red'>g</span><span style='color:red'> </span><span style='color:red'>t</span><span style='color:red'>h</span><span style='color:red'>e</span><span style='color:red'> </span><span style='color:red'>c</span><span style='color:red'>u</span><span style='color:red'>r</span><span style='color:red'>r</span><span style='color:red'>e</span><span style='color:red'>n</span><span style='color:red'>c</span><span style='color:red'>y</span><span style='color:red'> </span><span style='color:red'>c</span><span style='color:red'>a</span><span style='color:red'>t</span><span style='color:red'>c</span><span style='color:red'>h</span><span style='color:red'> </span><span style='color:red'>o</span><span style='color:red'>n</span><span style='color:red'> </span>. She chronicles the reactions she gets on her blog Two Buckaroo<span style='color:red'> </span>. McCabe 39 started spending twos about 15 years ago because<span style='color:red'> </span><span style='color:red'>s</span><span style='color:red'>h</span><span style='color:red'>e</span><span style='color:red'> </span><span style='color:red'>l</span><span style='color:red'>i</span><span style='color:red'>k</span><span style='color:red'>e</span><span style='color:red'>d</span><span style='color:red'> </span><span style='color:red'>t</span><span style='color:red'>h</span><span style='color:red'>e</span><span style='color:red'> </span><span style='color:red'>a</span><span style='color:red'>d</span><span style='color:red'>d</span><span style='color:red'>e</span><span style='color:red'>d</span><span style='color:red'> </span><span style='color:red'>i</span><span style='color:red'>n</span><span style='color:red'>t</span><span style='color:red'>e</span><span style='color:red'>r</span><span style='color:red'>a</span><span style='color:red'>c</span><span style='color:red'>t</span><span style='color:red'>i</span><span style='color:red'>o</span><span style='color:red'>n</span><span style='color:red'> </span><span style='color:red'>w</span><span style='color:red'>i</span><span style='color:red'>t</span><span style='color:red'>h</span><span style='color:red'> </span><span style='color:red'>p</span><span style='color:red'>e</span><span style='color:red'>o</span><span style='color:red'>p</span><span style='color:red'>l</span><span style='color:red'>e</span><span style='color:red'> </span><span style='color:red'>b</span><span style='color:red'>e</span><span style='color:red'>h</span><span style='color:red'>i</span><span style='color:red'>n</span><span style='color:red'>d</span><span style='color:red'> </span><span style='color:red'>t</span><span style='color:red'>h</span><span style='color:red'>e</span><span style='color:red'> </span><span style='color:red'>c</span><span style='color:red'>o</span><span style='color:red'>u</span><span style='color:red'>n</span><span style='color:red'>t</span><span style='color:red'>e</span><span style='color:red'>r</span><span style='color:red'> </span><span style='color:red'>.</span><span style='color:red'> </span><span style='color:red'>\"</span><span style='color:red'> </span><span style='color:red'>I</span><span style='color:red'>t</span><span style='color:red'> </span><span style='color:red'>b</span><span style='color:red'>e</span><span style='color:red'>c</span><span style='color:red'>a</span><span style='color:red'>m</span><span style='color:red'>e</span><span style='color:red'> </span><span style='color:red'>s</span><span style='color:red'>o</span><span style='color:red'>m</span><span style='color:red'>e</span><span style='color:red'>t</span><span style='color:red'>h</span><span style='color:red'>i</span><span style='color:red'>n</span><span style='color:red'>g</span><span style='color:red'> </span><span style='color:red'>a</span><span style='color:red'> </span><span style='color:red'>l</span><span style='color:red'>i</span><span style='color:red'>t</span><span style='color:red'>t</span><span style='color:red'>l</span><span style='color:red'>e</span><span style='color:red'> </span><span style='color:red'>m</span><span style='color:red'>o</span><span style='color:red'>r</span><span style='color:red'>e</span><span style='color:red'> </span><span style='color:red'>s</span><span style='color:red'>p</span><span style='color:red'>e</span><span style='color:red'>c</span><span style='color:red'>i</span><span style='color:red'>a</span><span style='color:red'>l</span><span style='color:red'> </span><span style='color:red'>s</span><span style='color:red'>h</span><span style='color:red'>e</span><span style='color:red'> </span><span style='color:red'>s</span><span style='color:red'>a</span><span style='color:red'>i</span><span style='color:red'>d</span><span style='color:red'> </span><span style='color:red'>.</span><span style='color:red'> </span><span style='color:red'>\"</span><span style='color:red'> </span><span style='color:red'>A</span><span style='color:red'>n</span><span style='color:red'>d</span><span style='color:red'> </span><span style='color:red'>p</span><span style='color:red'>l</span><span style='color:red'>u</span><span style='color:red'>s</span><span style='color:red'> </span><span style='color:red'>i</span><span style='color:red'>t</span><span style='color:red'> </span><span style='color:red'>a</span><span style='color:red'>l</span><span style='color:red'>w</span><span style='color:red'>a</span><span style='color:red'>y</span><span style='color:red'>s</span><span style='color:red'> </span><span style='color:red'>f</span><span style='color:red'>e</span><span style='color:red'>l</span><span style='color:red'>t</span><span style='color:red'> </span><span style='color:red'>l</span><span style='color:red'>i</span><span style='color:red'>k</span><span style='color:red'>e</span><span style='color:red'> </span><span style='color:red'>a</span><span style='color:red'>n</span><span style='color:red'> </span><span style='color:red'>e</span><span style='color:red'>x</span><span style='color:red'>p</span><span style='color:red'>e</span><span style='color:red'>r</span><span style='color:red'>i</span><span style='color:red'>m</span><span style='color:red'>e</span><span style='color:red'>n</span><span style='color:red'>t</span><span style='color:red'> </span><span style='color:red'>l</span><span style='color:red'>i</span><span style='color:red'>k</span><span style='color:red'>e</span><span style='color:red'> </span><span style='color:red'>‘</span><span style='color:red'> </span><span style='color:red'>W</span><span style='color:red'>h</span><span style='color:red'>a</span><span style='color:red'>t</span><span style='color:red'> </span><span style='color:red'>'</span><span style='color:red'>s</span><span style='color:red'> </span><span style='color:red'>g</span><span style='color:red'>o</span><span style='color:red'>i</span><span style='color:red'>n</span><span style='color:red'>g</span><span style='color:red'> </span><span style='color:red'>t</span><span style='color:red'>o</span><span style='color:red'> </span><span style='color:red'>h</span><span style='color:red'>a</span><span style='color:red'>p</span><span style='color:red'>p</span><span style='color:red'>e</span><span style='color:red'>n</span><span style='color:red'> </span><span style='color:red'>w</span><span style='color:red'>h</span><span style='color:red'>e</span><span style='color:red'>n</span><span style='color:red'> </span><span style='color:red'>I</span><span style='color:red'> </span><span style='color:red'>s</span><span style='color:red'>p</span><span style='color:red'>e</span><span style='color:red'>n</span><span style='color:red'>d</span><span style='color:red'> </span><span style='color:red'>t</span><span style='color:red'>h</span><span style='color:red'>i</span><span style='color:red'>s</span><span style='color:red'> </span><span style='color:red'>$</span><span style='color:red'> </span><span style='color:red'>2</span><span style='color:red'> </span><span style='color:red'>b</span><span style='color:red'>i</span><span style='color:red'>l</span><span style='color:red'>l</span><span style='color:red'> </span><span style='color:red'>?</span><span style='color:red'> </span><span style='color:red'>'</span><span style='color:red'> </span><span style='color:red'>I</span><span style='color:red'>t</span><span style='color:red'> </span><span style='color:red'>n</span><span style='color:red'>e</span><span style='color:red'>v</span><span style='color:red'>e</span><span style='color:red'>r</span><span style='color:red'> </span><span style='color:red'>g</span><span style='color:red'>e</span><span style='color:red'>t</span><span style='color:red'>s</span><span style='color:red'> </span><span style='color:red'>o</span><span style='color:red'>l</span><span style='color:red'>d</span><span style='color:red'> </span><span style='color:red'>.</span><span style='color:red'> </span><span style='color:red'>\"</span><span style='color:red'> </span><span style='color:red'>M</span><span style='color:red'>o</span><span style='color:red'>s</span><span style='color:red'>t</span><span style='color:red'> </span><span style='color:red'>p</span><span style='color:red'>e</span><span style='color:red'>o</span><span style='color:red'>p</span><span style='color:red'>l</span><span style='color:red'>e</span><span style='color:red'> </span><span style='color:red'>s</span><span style='color:red'>m</span><span style='color:red'>i</span><span style='color:red'>l</span><span style='color:red'>e</span><span style='color:red'> </span><span style='color:red'>a</span><span style='color:red'>t</span><span style='color:red'> </span><span style='color:red'>t</span><span style='color:red'>h</span><span style='color:red'>e</span><span style='color:red'> </span><span style='color:red'>s</span><span style='color:red'>i</span><span style='color:red'>g</span><span style='color:red'>h</span><span style='color:red'>t</span><span style='color:red'> </span><span style='color:red'>o</span><span style='color:red'>f</span><span style='color:red'> </span><span style='color:red'>t</span><span style='color:red'>h</span><span style='color:red'>e</span><span style='color:red'> </span><span style='color:red'>u</span><span style='color:red'>n</span><span style='color:red'>u</span><span style='color:red'>s</span><span style='color:red'>u</span><span style='color:red'>a</span><span style='color:red'>l</span><span style='color:red'> </span><span style='color:red'>b</span><span style='color:red'>i</span><span style='color:red'>l</span><span style='color:red'>l</span><span style='color:red'> </span><span style='color:red'>a</span><span style='color:red'>n</span><span style='color:red'>d</span><span style='color:red'> </span><span style='color:red'>s</span><span style='color:red'>h</span><span style='color:red'>a</span><span style='color:red'>r</span><span style='color:red'>e</span><span style='color:red'> </span><span style='color:red'>a</span><span style='color:red'> </span><span style='color:red'>s</span><span style='color:red'>t</span><span style='color:red'>o</span><span style='color:red'>r</span><span style='color:red'>y</span><span style='color:red'> </span><span style='color:red'>a</span><span style='color:red'>b</span><span style='color:red'>o</span><span style='color:red'>u</span><span style='color:red'>t</span><span style='color:red'> </span><span style='color:red'>t</span><span style='color:red'>h</span><span style='color:red'>e</span><span style='color:red'>i</span><span style='color:red'>r</span><span style='color:red'> </span><span style='color:red'>e</span><span style='color:red'>x</span><span style='color:red'>p</span><span style='color:red'>e</span><span style='color:red'>r</span><span style='color:red'>i</span><span style='color:red'>e</span><span style='color:red'>n</span><span style='color:red'>c</span><span style='color:red'>e</span><span style='color:red'>s</span><span style='color:red'> </span><span style='color:red'>w</span><span style='color:red'>i</span><span style='color:red'>t</span><span style='color:red'>h</span><span style='color:red'> </span><span style='color:red'>i</span><span style='color:red'>t</span><span style='color:red'> </span><span style='color:red'>M</span><span style='color:red'>c</span><span style='color:red'>C</span><span style='color:red'>a</span><span style='color:red'>b</span><span style='color:red'>e</span><span style='color:red'> </span><span style='color:red'>s</span><span style='color:red'>a</span><span style='color:red'>i</span><span style='color:red'>d</span><span style='color:red'> </span><span style='color:red'>.</span><span style='color:red'> </span><span style='color:red'>S</span><span style='color:red'>o</span><span style='color:red'>m</span><span style='color:red'>e</span><span style='color:red'> </span><span style='color:red'>t</span><span style='color:red'>a</span><span style='color:red'>k</span><span style='color:red'>e</span><span style='color:red'> </span><span style='color:red'>t</span><span style='color:red'>w</span><span style='color:red'>o</span><span style='color:red'> </span><span style='color:red'>s</span><span style='color:red'>i</span><span style='color:red'>n</span><span style='color:red'>g</span><span style='color:red'>l</span><span style='color:red'>e</span><span style='color:red'>s</span><span style='color:red'> </span><span style='color:red'>o</span><span style='color:red'>u</span><span style='color:red'>t</span><span style='color:red'> </span><span style='color:red'>o</span><span style='color:red'>f</span><span style='color:red'> </span><span style='color:red'>t</span><span style='color:red'>h</span><span style='color:red'>e</span><span style='color:red'>i</span><span style='color:red'>r</span><span style='color:red'> </span><span style='color:red'>o</span><span style='color:red'>w</span><span style='color:red'>n</span><span style='color:red'> </span><span style='color:red'>w</span><span style='color:red'>a</span><span style='color:red'>l</span><span style='color:red'>l</span><span style='color:red'>e</span><span style='color:red'>t</span><span style='color:red'>s</span><span style='color:red'> </span><span style='color:red'>s</span><span style='color:red'>o</span><span style='color:red'> </span><span style='color:red'>t</span><span style='color:red'>h</span><span style='color:red'>e</span><span style='color:red'>y</span><span style='color:red'> </span><span style='color:red'>c</span><span style='color:red'>a</span><span style='color:red'>n</span><span style='color:red'> </span><span style='color:red'>p</span><span style='color:red'>o</span><span style='color:red'>c</span><span style='color:red'>k</span><span style='color:red'>e</span><span style='color:red'>t</span><span style='color:red'> </span><span style='color:red'>t</span><span style='color:red'>h</span><span style='color:red'>e</span><span style='color:red'> </span><span style='color:red'>d</span><span style='color:red'>e</span><span style='color:red'>u</span><span style='color:red'>c</span><span style='color:red'>e</span><span style='color:red'> </span><span style='color:red'>.</span><span style='color:red'> </span><span style='color:red'>O</span><span style='color:red'>t</span><span style='color:red'>h</span><span style='color:red'>e</span><span style='color:red'>r</span><span style='color:red'>s</span><span style='color:red'> </span><span style='color:red'>r</span><span style='color:red'>e</span><span style='color:red'>f</span><span style='color:red'>u</span><span style='color:red'>s</span><span style='color:red'>e</span><span style='color:red'> </span><span style='color:red'>i</span><span style='color:red'>t</span><span style='color:red'> </span><span style='color:red'>t</span><span style='color:red'>h</span><span style='color:red'>o</span><span style='color:red'>u</span><span style='color:red'>g</span><span style='color:red'>h</span><span style='color:red'> </span><span style='color:red'>M</span><span style='color:red'>c</span><span style='color:red'>C</span><span style='color:red'>a</span><span style='color:red'>b</span><span style='color:red'>e</span><span style='color:red'> </span><span style='color:red'>s</span><span style='color:red'>a</span><span style='color:red'>i</span><span style='color:red'>d</span><span style='color:red'> </span><span style='color:red'>t</span><span style='color:red'>h</span><span style='color:red'>a</span><span style='color:red'>t</span><span style='color:red'> </span><span style='color:red'>'</span><span style='color:red'>s</span><span style='color:red'> </span><span style='color:red'>t</span><span style='color:red'>h</span><span style='color:red'>e</span><span style='color:red'> </span><span style='color:red'>l</span><span style='color:red'>e</span><span style='color:red'>a</span><span style='color:red'>s</span><span style='color:red'>t</span><span style='color:red'> </span><span style='color:red'>c</span><span style='color:red'>o</span><span style='color:red'>m</span><span style='color:red'>m</span><span style='color:red'>o</span><span style='color:red'>n</span><span style='color:red'> </span><span style='color:red'>o</span><span style='color:red'>u</span><span style='color:red'>t</span><span style='color:red'>c</span><span style='color:red'>o</span><span style='color:red'>m</span><span style='color:red'>e</span><span style='color:red'> </span><span style='color:red'>.</span><span style='color:red'> </span><span style='color:red'>M</span><span style='color:red'>a</span><span style='color:red'>n</span><span style='color:red'>y</span><span style='color:red'> </span><span style='color:red'>p</span><span style='color:red'>e</span><span style='color:red'>o</span><span style='color:red'>p</span><span style='color:red'>l</span><span style='color:red'>e</span><span style='color:red'> </span><span style='color:red'>b</span><span style='color:red'>e</span><span style='color:red'>l</span><span style='color:red'>i</span><span style='color:red'>e</span><span style='color:red'>v</span><span style='color:red'>e</span><span style='color:red'> </span><span style='color:red'>t</span><span style='color:red'>h</span><span style='color:red'>e</span><span style='color:red'> </span><span style='color:red'>b</span><span style='color:red'>i</span><span style='color:red'>l</span><span style='color:red'>l</span><span style='color:red'> </span><span style='color:red'>w</span><span style='color:red'>h</span><span style='color:red'>i</span><span style='color:red'>c</span><span style='color:red'>h</span><span style='color:red'> </span><span style='color:red'>t</span><span style='color:red'>h</span><span style='color:red'>e</span><span style='color:red'> </span><span style='color:red'>f</span><span style='color:red'>e</span><span style='color:red'>d</span><span style='color:red'>e</span><span style='color:red'>r</span><span style='color:red'>a</span><span style='color:red'>l</span><span style='color:red'> </span><span style='color:red'>g</span><span style='color:red'>o</span><span style='color:red'>v</span><span style='color:red'>e</span><span style='color:red'>r</span><span style='color:red'>n</span><span style='color:red'>m</span><span style='color:red'>e</span><span style='color:red'>n</span><span style='color:red'>t</span><span style='color:red'> </span><span style='color:red'>b</span><span style='color:red'>e</span><span style='color:red'>g</span><span style='color:red'>a</span><span style='color:red'>n</span><span style='color:red'> </span><span style='color:red'>i</span><span style='color:red'>s</span><span style='color:red'>s</span><span style='color:red'>u</span><span style='color:red'>i</span><span style='color:red'>n</span><span style='color:red'>g</span><span style='color:red'> </span><span style='color:red'>i</span><span style='color:red'>n</span><span style='color:red'> </span><span style='color:red'>1</span><span style='color:red'>8</span><span style='color:red'>6</span><span style='color:red'>2</span><span style='color:red'> </span><span style='color:red'>w</span><span style='color:red'>a</span><span style='color:red'>s</span><span style='color:red'> </span><span style='color:red'>t</span><span style='color:red'>a</span><span style='color:red'>k</span><span style='color:red'>e</span><span style='color:red'>n</span><span style='color:red'> </span><span style='color:red'>o</span><span style='color:red'>u</span><span style='color:red'>t</span><span style='color:red'> </span><span style='color:red'>o</span><span style='color:red'>f</span><span style='color:red'> </span><span style='color:red'>c</span><span style='color:red'>i</span><span style='color:red'>r</span><span style='color:red'>c</span><span style='color:red'>u</span><span style='color:red'>l</span><span style='color:red'>a</span><span style='color:red'>t</span><span style='color:red'>i</span><span style='color:red'>o</span><span style='color:red'>n</span><span style='color:red'> </span><span style='color:red'>.</span><span style='color:red'> </span><span style='color:red'>B</span><span style='color:red'>e</span><span style='color:red'>c</span><span style='color:red'>a</span><span style='color:red'>u</span><span style='color:red'>s</span><span style='color:red'>e</span><span style='color:red'> </span><span style='color:red'>o</span><span style='color:red'>f</span><span style='color:red'> </span><span style='color:red'>t</span><span style='color:red'>h</span><span style='color:red'>a</span><span style='color:red'>t</span><span style='color:red'> </span><span style='color:red'>y</span><span style='color:red'>o</span><span style='color:red'>u</span><span style='color:red'> </span><span style='color:red'>c</span><span style='color:red'>a</span><span style='color:red'>n</span><span style='color:red'> </span><span style='color:red'>f</span><span style='color:red'>i</span><span style='color:red'>n</span><span style='color:red'>d</span><span style='color:red'> </span><span style='color:red'>r</span><span style='color:red'>e</span><span style='color:red'>g</span><span style='color:red'>u</span><span style='color:red'>l</span><span style='color:red'>a</span><span style='color:red'>r</span><span style='color:red'> </span><span style='color:red'>o</span><span style='color:red'>l</span><span style='color:red'>d</span><span style='color:red'> </span><span style='color:red'>$</span><span style='color:red'> </span><span style='color:red'>2</span><span style='color:red'> </span><span style='color:red'>b</span><span style='color:red'>i</span><span style='color:red'>l</span><span style='color:red'>l</span><span style='color:red'>s</span><span style='color:red'> </span><span style='color:red'>m</span><span style='color:red'>a</span><span style='color:red'>r</span><span style='color:red'>k</span><span style='color:red'>e</span><span style='color:red'>d</span><span style='color:red'> </span><span style='color:red'>u</span><span style='color:red'>p</span><span style='color:red'> </span><span style='color:red'>t</span><span style='color:red'>o</span><span style='color:red'> </span><span style='color:red'>d</span><span style='color:red'>o</span><span style='color:red'>u</span><span style='color:red'>b</span><span style='color:red'>l</span><span style='color:red'>e</span><span style='color:red'> </span><span style='color:red'>t</span><span style='color:red'>h</span><span style='color:red'>e</span><span style='color:red'>i</span><span style='color:red'>r</span><span style='color:red'> </span><span style='color:red'>v</span><span style='color:red'>a</span><span style='color:red'>l</span><span style='color:red'>u</span><span style='color:red'>e</span><span style='color:red'> </span><span style='color:red'>o</span><span style='color:red'>n</span><span style='color:red'> </span><span style='color:red'>e</span><span style='color:red'>B</span><span style='color:red'>a</span><span style='color:red'>y</span><span style='color:red'> </span><span style='color:red'>w</span><span style='color:red'>h</span><span style='color:red'>e</span><span style='color:red'>n</span><span style='color:red'> </span><span style='color:red'>t</span><span style='color:red'>h</span><span style='color:red'>e</span><span style='color:red'>y</span><span style='color:red'> </span><span style='color:red'>c</span><span style='color:red'>a</span><span style='color:red'>n</span><span style='color:red'> </span><span style='color:red'>e</span><span style='color:red'>a</span><span style='color:red'>s</span><span style='color:red'>i</span><span style='color:red'>l</span><span style='color:red'>y</span><span style='color:red'> </span><span style='color:red'>b</span><span style='color:red'>e</span><span style='color:red'> </span><span style='color:red'>p</span><span style='color:red'>i</span><span style='color:red'>c</span><span style='color:red'>k</span><span style='color:red'>e</span><span style='color:red'>d</span><span style='color:red'> </span><span style='color:red'>u</span><span style='color:red'>p</span><span style='color:red'> </span><span style='color:red'>a</span><span style='color:red'>t</span><span style='color:red'> </span><span style='color:red'>t</span><span style='color:red'>h</span><span style='color:red'>e</span><span style='color:red'> </span><span style='color:red'>b</span><span style='color:red'>a</span><span style='color:red'>n</span><span style='color:red'>k</span><span style='color:red'> </span><span style='color:red'>f</span><span style='color:red'>o</span><span style='color:red'>r</span><span style='color:red'> </span><span style='color:red'>w</span><span style='color:red'>e</span><span style='color:red'>l</span><span style='color:red'>l</span><span style='color:red'> </span><span style='color:red'>$</span><span style='color:red'> </span><span style='color:red'>2</span><span style='color:red'> </span><span style='color:red'>.</span><span style='color:red'> </span><span style='color:red'>T</span><span style='color:red'>h</span><span style='color:red'>e</span><span style='color:red'>r</span><span style='color:red'>e</span><span style='color:red'> </span><span style='color:red'>w</span><span style='color:red'>a</span><span style='color:red'>s</span><span style='color:red'> </span><span style='color:red'>a</span><span style='color:red'> </span><span style='color:red'>1</span><span style='color:red'>0</span><span style='color:red'>-</span><span style='color:red'>y</span><span style='color:red'>e</span><span style='color:red'>a</span><span style='color:red'>r</span><span style='color:red'> </span><span style='color:red'>p</span><span style='color:red'>e</span><span style='color:red'>r</span><span style='color:red'>i</span><span style='color:red'>o</span><span style='color:red'>d</span><span style='color:red'> </span><span style='color:red'>t</span><span style='color:red'>h</span><span style='color:red'>a</span><span style='color:red'>t</span><span style='color:red'> </span><span style='color:red'>t</span><span style='color:red'>h</span><span style='color:red'>e</span><span style='color:red'> </span><span style='color:red'>g</span><span style='color:red'>o</span><span style='color:red'>v</span><span style='color:red'>e</span><span style='color:red'>r</span><span style='color:red'>n</span><span style='color:red'>m</span><span style='color:red'>e</span><span style='color:red'>n</span><span style='color:red'>t</span><span style='color:red'> </span><span style='color:red'>s</span><span style='color:red'>t</span><span style='color:red'>o</span><span style='color:red'>p</span><span style='color:red'>p</span><span style='color:red'>e</span><span style='color:red'>d</span><span style='color:red'> </span><span style='color:red'>p</span><span style='color:red'>r</span><span style='color:red'>i</span><span style='color:red'>n</span><span style='color:red'>t</span><span style='color:red'>i</span><span style='color:red'>n</span><span style='color:red'>g</span><span style='color:red'> </span><span style='color:red'>t</span><span style='color:red'>w</span><span style='color:red'>o</span><span style='color:red'>s</span><span style='color:red'> </span><span style='color:red'>.</span><span style='color:red'> </span><span style='color:red'>B</span><span style='color:red'>u</span><span style='color:red'>t</span><span style='color:red'> </span><span style='color:red'>t</span><span style='color:red'>h</span><span style='color:red'>a</span><span style='color:red'>t</span><span style='color:red'> </span><span style='color:red'>e</span><span style='color:red'>n</span><span style='color:red'>d</span><span style='color:red'>e</span><span style='color:red'>d</span><span style='color:red'> </span><span style='color:red'>i</span><span style='color:red'>n</span><span style='color:red'> </span><span style='color:red'>1</span><span style='color:red'>9</span><span style='color:red'>7</span><span style='color:red'>6</span><span style='color:red'> </span><span style='color:red'>w</span><span style='color:red'>h</span><span style='color:red'>e</span><span style='color:red'>n</span><span style='color:red'> </span><span style='color:red'>t</span><span style='color:red'>h</span><span style='color:red'>e</span><span style='color:red'>y</span><span style='color:red'> </span><span style='color:red'>w</span><span style='color:red'>e</span><span style='color:red'>r</span><span style='color:red'>e</span><span style='color:red'> </span><span style='color:red'>b</span><span style='color:red'>r</span><span style='color:red'>o</span><span style='color:red'>u</span><span style='color:red'>g</span><span style='color:red'>h</span><span style='color:red'>t</span><span style='color:red'> </span><span style='color:red'>b</span><span style='color:red'>a</span><span style='color:red'>c</span><span style='color:red'>k</span><span style='color:red'> </span><span style='color:red'>—</span><span style='color:red'> </span><span style='color:red'>w</span><span style='color:red'>i</span><span style='color:red'>t</span><span style='color:red'>h</span><span style='color:red'> </span><span style='color:red'>m</span><span style='color:red'>u</span><span style='color:red'>c</span><span style='color:red'>h</span><span style='color:red'> </span><span style='color:red'>f</span><span style='color:red'>a</span><span style='color:red'>n</span><span style='color:red'>f</span><span style='color:red'>a</span><span style='color:red'>r</span><span style='color:red'>e</span><span style='color:red'> </span><span style='color:red'>—</span><span style='color:red'> </span><span style='color:red'>t</span><span style='color:red'>o</span><span style='color:red'> </span><span style='color:red'>c</span><span style='color:red'>o</span><span style='color:red'>m</span><span style='color:red'>m</span><span style='color:red'>e</span><span style='color:red'>m</span><span style='color:red'>o</span><span style='color:red'>r</span><span style='color:red'>a</span><span style='color:red'>t</span><span style='color:red'>e</span><span style='color:red'> </span><span style='color:red'>t</span><span style='color:red'>h</span><span style='color:red'>e</span><span style='color:red'> </span><span style='color:red'>U</span><span style='color:red'>.</span><span style='color:red'>S</span><span style='color:red'>.</span><span style='color:red'> </span><span style='color:red'>b</span><span style='color:red'>i</span><span style='color:red'>c</span><span style='color:red'>e</span><span style='color:red'>n</span><span style='color:red'>t</span><span style='color:red'>e</span><span style='color:red'>n</span><span style='color:red'>n</span><span style='color:red'>i</span><span style='color:red'>a</span><span style='color:red'>l</span><span style='color:red'> </span><span style='color:red'>.</span><span style='color:red'> </span><span style='color:red'>I</span><span style='color:red'>f</span><span style='color:red'> </span><span style='color:red'>t</span><span style='color:red'>h</span><span style='color:red'>e</span><span style='color:red'>y</span><span style='color:red'> </span><span style='color:red'>h</span><span style='color:red'>a</span><span style='color:red'>d</span><span style='color:red'> </span><span style='color:red'>j</span><span style='color:red'>u</span><span style='color:red'>s</span><span style='color:red'>t</span><span style='color:red'> </span><span style='color:red'>d</span><span style='color:red'>i</span><span style='color:red'>s</span><span style='color:red'>a</span><span style='color:red'>p</span><span style='color:red'>p</span><span style='color:red'>e</span><span style='color:red'>a</span><span style='color:red'>r</span><span style='color:red'>e</span><span style='color:red'>d</span><span style='color:red'> </span><span style='color:red'>B</span><span style='color:red'>e</span><span style='color:red'>n</span><span style='color:red'>n</span><span style='color:red'>a</span><span style='color:red'>r</span><span style='color:red'>d</span><span style='color:red'>o</span><span style='color:red'> </span><span style='color:red'>s</span><span style='color:red'>a</span><span style='color:red'>i</span><span style='color:red'>d</span><span style='color:red'> </span><span style='color:red'>w</span><span style='color:red'>e</span><span style='color:red'> </span><span style='color:red'>w</span><span style='color:red'>o</span><span style='color:red'>u</span><span style='color:red'>l</span><span style='color:red'>d</span><span style='color:red'> </span><span style='color:red'>n</span><span style='color:red'>'</span><span style='color:red'>t</span><span style='color:red'> </span><span style='color:red'>h</span><span style='color:red'>a</span><span style='color:red'>v</span><span style='color:red'>e</span><span style='color:red'> </span><span style='color:red'>t</span><span style='color:red'>h</span><span style='color:red'>i</span><span style='color:red'>s</span><span style='color:red'> </span><span style='color:red'>g</span><span style='color:red'>r</span><span style='color:red'>e</span><span style='color:red'>a</span><span style='color:red'>t</span><span style='color:red'> </span><span style='color:red'>p</span><span style='color:red'>i</span><span style='color:red'>e</span><span style='color:red'>c</span><span style='color:red'>e</span><span style='color:red'> </span><span style='color:red'>o</span><span style='color:red'>f</span><span style='color:red'> </span><span style='color:red'>A</span><span style='color:red'>m</span><span style='color:red'>e</span><span style='color:red'>r</span><span style='color:red'>i</span><span style='color:red'>c</span><span style='color:red'>a</span><span style='color:red'>n</span><span style='color:red'>a</span><span style='color:red'> </span><span style='color:red'>s</span><span style='color:red'>a</span><span style='color:red'>v</span><span style='color:red'>e</span><span style='color:red'>d</span><span style='color:red'> </span><span style='color:red'>.</span><span style='color:red'> </span><span style='color:red'>A</span><span style='color:red'>n</span><span style='color:red'>d</span><span style='color:red'> </span><span style='color:red'>I</span><span style='color:red'> </span><span style='color:red'>w</span><span style='color:red'>o</span><span style='color:red'>u</span><span style='color:red'>l</span><span style='color:red'>d</span><span style='color:red'> </span><span style='color:red'>n</span><span style='color:red'>'</span><span style='color:red'>t</span><span style='color:red'> </span><span style='color:red'>h</span><span style='color:red'>a</span><span style='color:red'>v</span><span style='color:red'>e</span><span style='color:red'> </span><span style='color:red'>a</span><span style='color:red'> </span><span style='color:red'>m</span><span style='color:red'>o</span><span style='color:red'>v</span><span style='color:red'>i</span><span style='color:red'>e</span><span style='color:red'> </span><span style='color:red'>.</span><span style='color:red'> </span><span style='color:red'>\"</span><span style='color:red'> </span><span style='color:red'>A</span><span style='color:red'>s</span><span style='color:red'> </span><span style='color:red'>o</span><span style='color:red'>f</span><span style='color:red'> </span><span style='color:red'>l</span><span style='color:red'>a</span><span style='color:red'>s</span><span style='color:red'>t</span><span style='color:red'> </span><span style='color:red'>y</span><span style='color:red'>e</span><span style='color:red'>a</span><span style='color:red'>r</span><span style='color:red'> </span><span style='color:red'>t</span><span style='color:red'>h</span><span style='color:red'>e</span><span style='color:red'>r</span><span style='color:red'>e</span><span style='color:red'> </span><span style='color:red'>w</span><span style='color:red'>e</span><span style='color:red'>r</span><span style='color:red'>e</span><span style='color:red'> </span><span style='color:red'>a</span><span style='color:red'> </span><span style='color:red'>b</span><span style='color:red'>i</span><span style='color:red'>l</span><span style='color:red'>l</span><span style='color:red'>i</span><span style='color:red'>o</span><span style='color:red'>n</span><span style='color:red'> </span><span style='color:red'>$</span><span style='color:red'> </span><span style='color:red'>2</span><span style='color:red'> </span><span style='color:red'>b</span><span style='color:red'>i</span><span style='color:red'>l</span><span style='color:red'>l</span><span style='color:red'>s</span><span style='color:red'> </span><span style='color:red'>i</span><span style='color:red'>n</span><span style='color:red'> </span><span style='color:red'>c</span><span style='color:red'>i</span><span style='color:red'>r</span><span style='color:red'>c</span><span style='color:red'>u</span><span style='color:red'>l</span><span style='color:red'>a</span><span style='color:red'>t</span><span style='color:red'>i</span><span style='color:red'>o</span><span style='color:red'>n</span><span style='color:red'> </span><span style='color:red'>a</span><span style='color:red'>c</span><span style='color:red'>c</span><span style='color:red'>o</span><span style='color:red'>r</span><span style='color:red'>d</span><span style='color:red'>i</span><span style='color:red'>n</span><span style='color:red'>g</span><span style='color:red'> </span><span style='color:red'>t</span><span style='color:red'>o</span><span style='color:red'> </span><span style='color:red'>t</span><span style='color:red'>h</span><span style='color:red'>e</span><span style='color:red'> </span><span style='color:red'>F</span><span style='color:red'>e</span><span style='color:red'>d</span><span style='color:red'>e</span><span style='color:red'>r</span><span style='color:red'>a</span><span style='color:red'>l</span><span style='color:red'> </span><span style='color:red'>R</span><span style='color:red'>e</span><span style='color:red'>s</span><span style='color:red'>e</span><span style='color:red'>r</span><span style='color:red'>v</span><span style='color:red'>e</span><span style='color:red'> </span><span style='color:red'>.</span><span style='color:red'> </span><span style='color:red'>F</span><span style='color:red'>o</span><span style='color:red'>r</span><span style='color:red'>t</span><span style='color:red'>y</span><span style='color:red'>-</span><span style='color:red'>f</span><span style='color:red'>i</span><span style='color:red'>v</span><span style='color:red'>e</span><span style='color:red'> </span><span style='color:red'>m</span><span style='color:red'>i</span><span style='color:red'>l</span><span style='color:red'>l</span><span style='color:red'>i</span><span style='color:red'>o</span><span style='color:red'>n</span><span style='color:red'> </span><span style='color:red'>m</span><span style='color:red'>o</span><span style='color:red'>r</span><span style='color:red'>e</span><span style='color:red'> </span><span style='color:red'>w</span><span style='color:red'>e</span><span style='color:red'>n</span><span style='color:red'>t</span><span style='color:red'> </span><span style='color:red'>i</span><span style='color:red'>n</span><span style='color:red'>t</span><span style='color:red'>o</span><span style='color:red'> </span><span style='color:red'>p</span><span style='color:red'>r</span><span style='color:red'>o</span><span style='color:red'>d</span><span style='color:red'>u</span><span style='color:red'>c</span><span style='color:red'>t</span><span style='color:red'>i</span><span style='color:red'>o</span><span style='color:red'>n</span><span style='color:red'> </span><span style='color:red'>i</span><span style='color:red'>n</span><span style='color:red'> </span><span style='color:red'>O</span><span style='color:red'>c</span><span style='color:red'>t</span><span style='color:red'>o</span><span style='color:red'>b</span><span style='color:red'>e</span><span style='color:red'>r</span><span style='color:red'> </span><span style='color:red'>a</span><span style='color:red'>t</span><span style='color:red'> </span><span style='color:red'>t</span><span style='color:red'>h</span><span style='color:red'>e</span><span style='color:red'> </span><span style='color:red'>B</span><span style='color:red'>u</span><span style='color:red'>r</span><span style='color:red'>e</span><span style='color:red'>a</span><span style='color:red'>u</span><span style='color:red'> </span><span style='color:red'>o</span><span style='color:red'>f</span><span style='color:red'> </span><span style='color:red'>E</span><span style='color:red'>n</span><span style='color:red'>g</span><span style='color:red'>r</span><span style='color:red'>a</span><span style='color:red'>v</span><span style='color:red'>i</span><span style='color:red'>n</span><span style='color:red'>g</span><span style='color:red'> </span><span style='color:red'>a</span><span style='color:red'>n</span><span style='color:red'>d</span><span style='color:red'> </span><span style='color:red'>P</span><span style='color:red'>r</span><span style='color:red'>i</span><span style='color:red'>n</span><span style='color:red'>t</span><span style='color:red'>i</span><span style='color:red'>n</span><span style='color:red'>g</span><span style='color:red'> </span><span style='color:red'>i</span><span style='color:red'>n</span><span style='color:red'> </span><span style='color:red'>F</span><span style='color:red'>o</span><span style='color:red'>r</span><span style='color:red'>t</span><span style='color:red'> </span><span style='color:red'>W</span><span style='color:red'>o</span><span style='color:red'>r</span><span style='color:red'>t</span><span style='color:red'>h</span><span style='color:red'> </span><span style='color:red'>T</span><span style='color:red'>e</span><span style='color:red'>x</span><span style='color:red'>a</span><span style='color:red'>s</span><span style='color:red'> </span><span style='color:red'>.</span><span style='color:red'> </span><span style='color:red'>A</span><span style='color:red'>n</span><span style='color:red'>d</span><span style='color:red'> </span><span style='color:red'>B</span><span style='color:red'>e</span><span style='color:red'>n</span><span style='color:red'>n</span><span style='color:red'>a</span><span style='color:red'>r</span><span style='color:red'>d</span><span style='color:red'>o</span><span style='color:red'> </span><span style='color:red'>w</span><span style='color:red'>a</span><span style='color:red'>s</span><span style='color:red'> </span><span style='color:red'>t</span><span style='color:red'>h</span><span style='color:red'>e</span><span style='color:red'>r</span><span style='color:red'>e</span><span style='color:red'> </span><span style='color:red'>f</span><span style='color:red'>i</span><span style='color:red'>l</span><span style='color:red'>m</span><span style='color:red'>i</span><span style='color:red'>n</span><span style='color:red'>g</span><span style='color:red'> </span><span style='color:red'>.</span><span style='color:red'> </span><span style='color:red'>S</span><span style='color:red'>t</span><span style='color:red'>i</span><span style='color:red'>l</span><span style='color:red'>l</span><span style='color:red'> </span><span style='color:red'>t</span><span style='color:red'>w</span><span style='color:red'>o</span><span style='color:red'>s</span><span style='color:red'> </span><span style='color:red'>a</span><span style='color:red'>r</span><span style='color:red'>e</span><span style='color:red'> </span><span style='color:red'>r</span><span style='color:red'>a</span><span style='color:red'>r</span><span style='color:red'>e</span><span style='color:red'> </span><span style='color:red'>.</span><span style='color:red'> </span><span style='color:red'>\"</span><span style='color:red'> </span><span style='color:red'>T</span><span style='color:red'>h</span><span style='color:red'>e</span><span style='color:red'>y</span><span style='color:red'> </span><span style='color:red'>'</span><span style='color:red'>v</span><span style='color:red'>e</span><span style='color:red'> </span><span style='color:red'>a</span><span style='color:red'>l</span><span style='color:red'>w</span><span style='color:red'>a</span><span style='color:red'>y</span><span style='color:red'>s</span><span style='color:red'> </span><span style='color:red'>b</span><span style='color:red'>e</span><span style='color:red'>e</span><span style='color:red'>n</span><span style='color:red'> </span><span style='color:red'>k</span><span style='color:red'>i</span><span style='color:red'>n</span><span style='color:red'>d</span><span style='color:red'> </span><span style='color:red'>o</span><span style='color:red'>f</span><span style='color:red'> </span><span style='color:red'>a</span><span style='color:red'>n</span><span style='color:red'> </span><span style='color:red'>o</span><span style='color:red'>d</span><span style='color:red'>d</span><span style='color:red'> </span><span style='color:red'>b</span><span style='color:red'>i</span><span style='color:red'>l</span><span style='color:red'>l</span><span style='color:red'> </span><span style='color:red'>b</span><span style='color:red'>e</span><span style='color:red'>c</span><span style='color:red'>a</span><span style='color:red'>u</span><span style='color:red'>s</span><span style='color:red'>e</span><span style='color:red'> </span><span style='color:red'>t</span><span style='color:red'>h</span><span style='color:red'>e</span><span style='color:red'> </span><span style='color:red'>s</span><span style='color:red'>t</span><span style='color:red'>a</span><span style='color:red'>n</span><span style='color:red'>d</span><span style='color:red'>a</span><span style='color:red'>r</span><span style='color:red'>d</span><span style='color:red'> </span><span style='color:red'>c</span><span style='color:red'>a</span><span style='color:red'>s</span><span style='color:red'>h</span><span style='color:red'> </span><span style='color:red'>d</span><span style='color:red'>r</span><span style='color:red'>a</span><span style='color:red'>w</span><span style='color:red'>e</span><span style='color:red'>r</span><span style='color:red'> </span><span style='color:red'>i</span><span style='color:red'>s</span><span style='color:red'> </span><span style='color:red'>s</span><span style='color:red'>e</span><span style='color:red'>t</span><span style='color:red'> </span><span style='color:red'>u</span><span style='color:red'>p</span><span style='color:red'> </span><span style='color:red'>f</span><span style='color:red'>o</span><span style='color:red'>r</span><span style='color:red'> </span><span style='color:red'>$</span><span style='color:red'> </span><span style='color:red'>1</span><span style='color:red'>s</span><span style='color:red'> </span><span style='color:red'>$</span><span style='color:red'> </span><span style='color:red'>5</span><span style='color:red'>s</span><span style='color:red'> </span><span style='color:red'>$</span><span style='color:red'> </span><span style='color:red'>1</span><span style='color:red'>0</span><span style='color:red'>s</span><span style='color:red'> </span><span style='color:red'>o</span><span style='color:red'>r</span><span style='color:red'> </span><span style='color:red'>$</span><span style='color:red'> </span><span style='color:red'>2</span><span style='color:red'>0</span><span style='color:red'>s</span><span style='color:red'> </span><span style='color:red'>s</span><span style='color:red'>a</span><span style='color:red'>i</span><span style='color:red'>d</span><span style='color:red'> </span><span style='color:red'>T</span><span style='color:red'>o</span><span style='color:red'>n</span><span style='color:red'>y</span><span style='color:red'> </span><span style='color:red'>S</span><span style='color:red'>w</span><span style='color:red'>i</span><span style='color:red'>c</span><span style='color:red'>e</span><span style='color:red'>r</span><span style='color:red'> </span><span style='color:red'>a</span><span style='color:red'> </span><span style='color:red'>W</span><span style='color:red'>e</span><span style='color:red'>s</span><span style='color:red'>t</span><span style='color:red'> </span><span style='color:red'>P</span><span style='color:red'>a</span><span style='color:red'>l</span><span style='color:red'>m</span><span style='color:red'> </span><span style='color:red'>B</span><span style='color:red'>e</span><span style='color:red'>a</span><span style='color:red'>c</span><span style='color:red'>h</span><span style='color:red'> </span><span style='color:red'>r</span><span style='color:red'>e</span><span style='color:red'>s</span><span style='color:red'>i</span><span style='color:red'>d</span><span style='color:red'>e</span><span style='color:red'>n</span><span style='color:red'>t</span><span style='color:red'> </span><span style='color:red'>a</span><span style='color:red'>n</span><span style='color:red'>d</span><span style='color:red'> </span><span style='color:red'>p</span><span style='color:red'>r</span><span style='color:red'>e</span><span style='color:red'>s</span><span style='color:red'>i</span><span style='color:red'>d</span><span style='color:red'>e</span><span style='color:red'>n</span><span style='color:red'>t</span><span style='color:red'> </span><span style='color:red'>o</span><span style='color:red'>f</span><span style='color:red'> </span><span style='color:red'>t</span><span style='color:red'>h</span><span style='color:red'>e</span><span style='color:red'> </span><span style='color:red'>F</span><span style='color:red'>l</span><span style='color:red'>o</span><span style='color:red'>r</span><span style='color:red'>i</span><span style='color:red'>d</span><span style='color:red'>a</span><span style='color:red'> </span><span style='color:red'>U</span><span style='color:red'>n</span><span style='color:red'>i</span><span style='color:red'>t</span><span style='color:red'>e</span><span style='color:red'>d</span><span style='color:red'> </span><span style='color:red'>N</span><span style='color:red'>u</span><span style='color:red'>m</span><span style='color:red'>i</span><span style='color:red'>s</span><span style='color:red'>m</span><span style='color:red'>a</span><span style='color:red'>t</span><span style='color:red'>i</span><span style='color:red'>s</span><span style='color:red'>t</span><span style='color:red'>s</span><span style='color:red'> </span><span style='color:red'>—</span><span style='color:red'> </span><span style='color:red'>a</span><span style='color:red'> </span><span style='color:red'>g</span><span style='color:red'>r</span><span style='color:red'>o</span><span style='color:red'>u</span><span style='color:red'>p</span><span style='color:red'> </span><span style='color:red'>f</span><span style='color:red'>o</span><span style='color:red'>r</span><span style='color:red'> </span><span style='color:red'>p</span><span style='color:red'>e</span><span style='color:red'>o</span><span style='color:red'>p</span><span style='color:red'>l</span><span style='color:red'>e</span><span style='color:red'> </span><span style='color:red'>w</span><span style='color:red'>h</span><span style='color:red'>o</span><span style='color:red'> </span><span style='color:red'>a</span><span style='color:red'>r</span><span style='color:red'>e</span><span style='color:red'> </span><span style='color:red'>p</span><span style='color:red'>a</span><span style='color:red'>s</span><span style='color:red'>s</span><span style='color:red'>i</span><span style='color:red'>o</span><span style='color:red'>n</span><span style='color:red'>a</span><span style='color:red'>t</span><span style='color:red'>e</span><span style='color:red'> </span><span style='color:red'>a</span><span style='color:red'>b</span><span style='color:red'>o</span><span style='color:red'>u</span><span style='color:red'>t</span><span style='color:red'> </span><span style='color:red'>c</span><span style='color:red'>u</span><span style='color:red'>r</span><span style='color:red'>r</span><span style='color:red'>e</span><span style='color:red'>n</span><span style='color:red'>c</span><span style='color:red'>y</span><span style='color:red'> </span><span style='color:red'>.</span><span style='color:red'> </span><span style='color:red'>\"</span><span style='color:red'> </span><span style='color:red'>S</span><span style='color:red'>o</span><span style='color:red'>m</span><span style='color:red'>e</span><span style='color:red'> </span><span style='color:red'>p</span><span style='color:red'>e</span><span style='color:red'>o</span><span style='color:red'>p</span><span style='color:red'>l</span><span style='color:red'>e</span><span style='color:red'> </span><span style='color:red'>t</span><span style='color:red'>h</span><span style='color:red'>i</span><span style='color:red'>n</span><span style='color:red'>k</span><span style='color:red'> </span><span style='color:red'>t</span><span style='color:red'>h</span><span style='color:red'>e</span><span style='color:red'>y</span><span style='color:red'> </span><span style='color:red'>'</span><span style='color:red'>r</span><span style='color:red'>e</span><span style='color:red'> </span><span style='color:red'>g</span><span style='color:red'>o</span><span style='color:red'>o</span><span style='color:red'>d</span><span style='color:red'> </span><span style='color:red'>l</span><span style='color:red'>u</span><span style='color:red'>c</span><span style='color:red'>k</span><span style='color:red'> </span><span style='color:red'>s</span><span style='color:red'>o</span><span style='color:red'>m</span><span style='color:red'>e</span><span style='color:red'> </span><span style='color:red'>p</span><span style='color:red'>e</span><span style='color:red'>o</span><span style='color:red'>p</span><span style='color:red'>l</span><span style='color:red'>e</span><span style='color:red'> </span><span style='color:red'>t</span><span style='color:red'>h</span><span style='color:red'>i</span><span style='color:red'>n</span><span style='color:red'>k</span><span style='color:red'> </span><span style='color:red'>t</span><span style='color:red'>h</span><span style='color:red'>e</span><span style='color:red'>y</span><span style='color:red'> </span><span style='color:red'>'</span><span style='color:red'>r</span><span style='color:red'>e</span><span style='color:red'> </span><span style='color:red'>b</span><span style='color:red'>a</span><span style='color:red'>d</span><span style='color:red'> </span><span style='color:red'>l</span><span style='color:red'>u</span><span style='color:red'>c</span><span style='color:red'>k</span><span style='color:red'> </span><span style='color:red'>.</span><span style='color:red'> </span><span style='color:red'>I</span><span style='color:red'>t</span><span style='color:red'> </span><span style='color:red'>'</span><span style='color:red'>s</span><span style='color:red'> </span><span style='color:red'>r</span><span style='color:red'>e</span><span style='color:red'>a</span><span style='color:red'>l</span><span style='color:red'>l</span><span style='color:red'>y</span><span style='color:red'> </span><span style='color:red'>f</span><span style='color:red'>u</span><span style='color:red'>n</span><span style='color:red'>n</span><span style='color:red'>y</span><span style='color:red'> </span><span style='color:red'>a</span><span style='color:red'>n</span><span style='color:red'>d</span><span style='color:red'> </span><span style='color:red'>t</span><span style='color:red'>h</span><span style='color:red'>e</span><span style='color:red'>r</span><span style='color:red'>e</span><span style='color:red'> </span><span style='color:red'>'</span><span style='color:red'>s</span><span style='color:red'> </span><span style='color:red'>n</span><span style='color:red'>o</span><span style='color:red'> </span><span style='color:red'>r</span><span style='color:red'>e</span><span style='color:red'>a</span><span style='color:red'>s</span><span style='color:red'>o</span><span style='color:red'>n</span><span style='color:red'> </span><span style='color:red'>f</span><span style='color:red'>o</span><span style='color:red'>r</span><span style='color:red'> </span><span style='color:red'>e</span><span style='color:red'>i</span><span style='color:red'>t</span><span style='color:red'>h</span><span style='color:red'>e</span><span style='color:red'>r</span><span style='color:red'> </span><span style='color:red'>o</span><span style='color:red'>n</span><span style='color:red'>e</span><span style='color:red'> </span><span style='color:red'>.</span><span style='color:red'> </span><span style='color:red'>\"</span><span style='color:red'> </span><span style='color:red'>T</span><span style='color:red'>h</span><span style='color:red'>e</span><span style='color:red'>r</span><span style='color:red'>e</span><span style='color:red'> </span><span style='color:red'>a</span><span style='color:red'>r</span><span style='color:red'>e</span><span style='color:red'> </span><span style='color:red'>t</span><span style='color:red'>h</span><span style='color:red'>e</span><span style='color:red'>o</span><span style='color:red'>r</span><span style='color:red'>i</span><span style='color:red'>e</span><span style='color:red'>s</span><span style='color:red'> </span><span style='color:red'>t</span><span style='color:red'>h</span><span style='color:red'>a</span><span style='color:red'>t</span><span style='color:red'> </span><span style='color:red'>t</span><span style='color:red'>h</span><span style='color:red'>e</span><span style='color:red'>y</span><span style='color:red'> </span><span style='color:red'>c</span><span style='color:red'>a</span><span style='color:red'>n</span><span style='color:red'> </span><span style='color:red'>b</span><span style='color:red'>e</span><span style='color:red'> </span><span style='color:red'>r</span><span style='color:red'>i</span><span style='color:red'>d</span><span style='color:red'> </span><span style='color:red'>o</span><span style='color:red'>f</span><span style='color:red'> </span><span style='color:red'>i</span><span style='color:red'>t</span><span style='color:red'>s</span><span style='color:red'> </span><span style='color:red'>\"</span><span style='color:red'> </span><span style='color:red'>b</span><span style='color:red'>a</span><span style='color:red'>d</span><span style='color:red'> </span><span style='color:red'>l</span><span style='color:red'>u</span><span style='color:red'>c</span><span style='color:red'>k</span><span style='color:red'> </span><span style='color:red'>\"</span><span style='color:red'> </span><span style='color:red'>b</span><span style='color:red'>y</span><span style='color:red'> </span><span style='color:red'>t</span><span style='color:red'>e</span><span style='color:red'>a</span><span style='color:red'>r</span><span style='color:red'>i</span><span style='color:red'>n</span><span style='color:red'>g</span><span style='color:red'> </span><span style='color:red'>o</span><span style='color:red'>f</span><span style='color:red'>f</span><span style='color:red'> </span><span style='color:red'>i</span><span style='color:red'>t</span><span style='color:red'>s</span><span style='color:red'> </span><span style='color:red'>c</span><span style='color:red'>o</span><span style='color:red'>r</span><span style='color:red'>n</span><span style='color:red'>e</span><span style='color:red'>r</span><span style='color:red'>s</span><span style='color:red'> </span><span style='color:red'>—</span><span style='color:red'> </span><span style='color:red'>a</span><span style='color:red'>n</span><span style='color:red'> </span><span style='color:red'>i</span><span style='color:red'>d</span><span style='color:red'>e</span><span style='color:red'>a</span><span style='color:red'> </span><span style='color:red'>B</span><span style='color:red'>e</span><span style='color:red'>n</span><span style='color:red'>n</span><span style='color:red'>a</span><span style='color:red'>r</span><span style='color:red'>d</span><span style='color:red'>o</span><span style='color:red'> </span><span style='color:red'>e</span><span style='color:red'>x</span><span style='color:red'>p</span><span style='color:red'>l</span><span style='color:red'>o</span><span style='color:red'>r</span><span style='color:red'>e</span><span style='color:red'>d</span><span style='color:red'> </span><span style='color:red'>f</span><span style='color:red'>o</span><span style='color:red'>r</span><span style='color:red'> </span><span style='color:red'>h</span><span style='color:red'>i</span><span style='color:red'>s</span><span style='color:red'> </span><span style='color:red'>f</span><span style='color:red'>i</span><span style='color:red'>l</span><span style='color:red'>m</span><span style='color:red'> </span><span style='color:red'>.</span><span style='color:red'> </span><span style='color:red'>A</span><span style='color:red'>t</span><span style='color:red'> </span><span style='color:red'>t</span><span style='color:red'>h</span><span style='color:red'>e</span><span style='color:red'> </span><span style='color:red'>s</span><span style='color:red'>a</span><span style='color:red'>m</span><span style='color:red'>e</span><span style='color:red'> </span><span style='color:red'>t</span><span style='color:red'>i</span><span style='color:red'>m</span><span style='color:red'>e</span><span style='color:red'> </span><span style='color:red'>t</span><span style='color:red'>h</span><span style='color:red'>e</span><span style='color:red'> </span><span style='color:red'>t</span><span style='color:red'>w</span><span style='color:red'>o</span><span style='color:red'> </span><span style='color:red'>h</span><span style='color:red'>a</span><span style='color:red'>s</span><span style='color:red'> </span><span style='color:red'>b</span><span style='color:red'>e</span><span style='color:red'>e</span><span style='color:red'>n</span><span style='color:red'> </span><span style='color:red'>e</span><span style='color:red'>m</span><span style='color:red'>b</span><span style='color:red'>r</span><span style='color:red'>a</span><span style='color:red'>c</span><span style='color:red'>e</span><span style='color:red'>d</span><span style='color:red'> </span><span style='color:red'>b</span><span style='color:red'>y</span><span style='color:red'> </span><span style='color:red'>s</span><span style='color:red'>o</span><span style='color:red'>m</span><span style='color:red'>e</span><span style='color:red'> </span><span style='color:red'>g</span><span style='color:red'>r</span><span style='color:red'>o</span><span style='color:red'>u</span><span style='color:red'>p</span><span style='color:red'>s</span><span style='color:red'> </span><span style='color:red'>a</span><span style='color:red'>n</span><span style='color:red'>d</span><span style='color:red'> </span><span style='color:red'>i</span><span style='color:red'>n</span><span style='color:red'>d</span><span style='color:red'>u</span><span style='color:red'>s</span><span style='color:red'>t</span><span style='color:red'>r</span><span style='color:red'>i</span><span style='color:red'>e</span><span style='color:red'>s</span><span style='color:red'> </span><span style='color:red'>.</span><span style='color:red'> </span><span style='color:red'>S</span><span style='color:red'>t</span><span style='color:red'>r</span><span style='color:red'>i</span><span style='color:red'>p</span><span style='color:red'> </span><span style='color:red'>c</span><span style='color:red'>l</span><span style='color:red'>u</span><span style='color:red'>b</span><span style='color:red'>s</span><span style='color:red'> </span><span style='color:red'>h</span><span style='color:red'>a</span><span style='color:red'>n</span><span style='color:red'>d</span><span style='color:red'> </span><span style='color:red'>t</span><span style='color:red'>h</span><span style='color:red'>e</span><span style='color:red'>m</span><span style='color:red'> </span><span style='color:red'>o</span><span style='color:red'>u</span><span style='color:red'>t</span><span style='color:red'> </span><span style='color:red'>b</span><span style='color:red'>e</span><span style='color:red'>c</span><span style='color:red'>a</span><span style='color:red'>u</span><span style='color:red'>s</span><span style='color:red'>e</span><span style='color:red'> </span><span style='color:red'>p</span><span style='color:red'>e</span><span style='color:red'>o</span><span style='color:red'>p</span><span style='color:red'>l</span><span style='color:red'>e</span><span style='color:red'> </span><span style='color:red'>s</span><span style='color:red'>e</span><span style='color:red'>e</span><span style='color:red'> </span><span style='color:red'>t</span><span style='color:red'>h</span><span style='color:red'>e</span><span style='color:red'>m</span><span style='color:red'> </span><span style='color:red'>a</span><span style='color:red'>s</span><span style='color:red'> </span><span style='color:red'>\"</span><span style='color:red'> </span><span style='color:red'>f</span><span style='color:red'>u</span><span style='color:red'>n</span><span style='color:red'>n</span><span style='color:red'>y</span><span style='color:red'> </span><span style='color:red'>m</span><span style='color:red'>o</span><span style='color:red'>n</span><span style='color:red'>e</span><span style='color:red'>y</span><span style='color:red'> </span><span style='color:red'>\"</span><span style='color:red'> </span><span style='color:red'>o</span><span style='color:red'>r</span><span style='color:red'> </span><span style='color:red'>d</span><span style='color:red'>o</span><span style='color:red'> </span><span style='color:red'>n</span><span style='color:red'>'</span><span style='color:red'>t</span><span style='color:red'> </span><span style='color:red'>w</span><span style='color:red'>a</span><span style='color:red'>n</span><span style='color:red'>t</span><span style='color:red'> </span><span style='color:red'>t</span><span style='color:red'>h</span><span style='color:red'>e</span><span style='color:red'>m</span><span style='color:red'> </span><span style='color:red'>s</span><span style='color:red'>o</span><span style='color:red'> </span><span style='color:red'>t</span><span style='color:red'>h</span><span style='color:red'>e</span><span style='color:red'>y</span><span style='color:red'> </span><span style='color:red'>e</span><span style='color:red'>a</span><span style='color:red'>s</span><span style='color:red'>i</span><span style='color:red'>l</span><span style='color:red'>y</span><span style='color:red'> </span><span style='color:red'>h</span><span style='color:red'>a</span><span style='color:red'>n</span><span style='color:red'>d</span><span style='color:red'> </span><span style='color:red'>t</span><span style='color:red'>h</span><span style='color:red'>e</span><span style='color:red'>m</span><span style='color:red'> </span><span style='color:red'>o</span><span style='color:red'>u</span><span style='color:red'>t</span><span style='color:red'> </span><span style='color:red'>t</span><span style='color:red'>o</span><span style='color:red'> </span><span style='color:red'>d</span><span style='color:red'>a</span><span style='color:red'>n</span><span style='color:red'>c</span><span style='color:red'>e</span><span style='color:red'>r</span><span style='color:red'>s</span><span style='color:red'> </span><span style='color:red'>.</span><span style='color:red'> </span><span style='color:red'>S</span><span style='color:red'>e</span><span style='color:red'>v</span><span style='color:red'>e</span><span style='color:red'>r</span><span style='color:red'>a</span><span style='color:red'>l</span><span style='color:red'> </span><span style='color:red'>g</span><span style='color:red'>r</span><span style='color:red'>o</span><span style='color:red'>u</span><span style='color:red'>p</span><span style='color:red'>s</span><span style='color:red'> </span><span style='color:red'>h</span><span style='color:red'>a</span><span style='color:red'>v</span><span style='color:red'>e</span><span style='color:red'> </span><span style='color:red'>u</span><span style='color:red'>s</span><span style='color:red'>e</span><span style='color:red'>d</span><span style='color:red'> </span><span style='color:red'>t</span><span style='color:red'>h</span><span style='color:red'>e</span><span style='color:red'>m</span><span style='color:red'> </span><span style='color:red'>t</span><span style='color:red'>o</span><span style='color:red'> </span><span style='color:red'>p</span><span style='color:red'>r</span><span style='color:red'>o</span><span style='color:red'>v</span><span style='color:red'>e</span><span style='color:red'> </span><span style='color:red'>t</span><span style='color:red'>h</span><span style='color:red'>e</span><span style='color:red'>i</span><span style='color:red'>r</span><span style='color:red'> </span><span style='color:red'>e</span><span style='color:red'>c</span><span style='color:red'>o</span><span style='color:red'>n</span><span style='color:red'>o</span><span style='color:red'>m</span><span style='color:red'>i</span><span style='color:red'>c</span><span style='color:red'> </span><span style='color:red'>c</span><span style='color:red'>l</span><span style='color:red'>o</span><span style='color:red'>u</span><span style='color:red'>t</span><span style='color:red'> </span><span style='color:red'>.</span><span style='color:red'> </span><span style='color:red'>B</span><span style='color:red'>e</span><span style='color:red'>n</span><span style='color:red'>n</span><span style='color:red'>a</span><span style='color:red'>r</span><span style='color:red'>d</span><span style='color:red'>o</span><span style='color:red'> </span><span style='color:red'>i</span><span style='color:red'>n</span><span style='color:red'>t</span><span style='color:red'>e</span><span style='color:red'>r</span><span style='color:red'>v</span><span style='color:red'>i</span><span style='color:red'>e</span><span style='color:red'>w</span><span style='color:red'>e</span><span style='color:red'>d</span><span style='color:red'> </span><span style='color:red'>m</span><span style='color:red'>e</span><span style='color:red'>m</span><span style='color:red'>b</span><span style='color:red'>e</span><span style='color:red'>r</span><span style='color:red'>s</span><span style='color:red'> </span><span style='color:red'>o</span><span style='color:red'>f</span><span style='color:red'> </span><span style='color:red'>o</span><span style='color:red'>n</span><span style='color:red'>e</span><span style='color:red'> </span><span style='color:red'>s</span><span style='color:red'>u</span><span style='color:red'>c</span><span style='color:red'>h</span><span style='color:red'> </span><span style='color:red'>g</span><span style='color:red'>r</span><span style='color:red'>o</span><span style='color:red'>u</span><span style='color:red'>p</span><span style='color:red'> </span><span style='color:red'>s</span><span style='color:red'>u</span><span style='color:red'>p</span><span style='color:red'>p</span><span style='color:red'>o</span><span style='color:red'>r</span><span style='color:red'>t</span><span style='color:red'>e</span><span style='color:red'>r</span><span style='color:red'>s</span><span style='color:red'> </span><span style='color:red'>o</span><span style='color:red'>f</span><span style='color:red'> </span><span style='color:red'>l</span><span style='color:red'>e</span><span style='color:red'>g</span><span style='color:red'>a</span><span style='color:red'>l</span><span style='color:red'>i</span><span style='color:red'>z</span><span style='color:red'>i</span><span style='color:red'>n</span><span style='color:red'>g</span><span style='color:red'> </span><span style='color:red'>m</span><span style='color:red'>e</span><span style='color:red'>d</span><span style='color:red'>i</span><span style='color:red'>c</span><span style='color:red'>a</span><span style='color:red'>l</span><span style='color:red'> </span><span style='color:red'>m</span><span style='color:red'>a</span><span style='color:red'>r</span><span style='color:red'>i</span><span style='color:red'>j</span><span style='color:red'>u</span><span style='color:red'>a</span><span style='color:red'>n</span><span style='color:red'>a</span><span style='color:red'> </span><span style='color:red'>i</span><span style='color:red'>n</span><span style='color:red'> </span><span style='color:red'>M</span><span style='color:red'>i</span><span style='color:red'>c</span><span style='color:red'>h</span><span style='color:red'>i</span><span style='color:red'>g</span><span style='color:red'>a</span><span style='color:red'>n</span><span style='color:red'> </span><span style='color:red'>w</span><span style='color:red'>h</span><span style='color:red'>o</span><span style='color:red'> </span><span style='color:red'>d</span><span style='color:red'>e</span><span style='color:red'>l</span><span style='color:red'>i</span><span style='color:red'>b</span><span style='color:red'>e</span><span style='color:red'>r</span><span style='color:red'>a</span><span style='color:red'>t</span><span style='color:red'>e</span><span style='color:red'>l</span><span style='color:red'>y</span><span style='color:red'> </span><span style='color:red'>s</span><span style='color:red'>p</span><span style='color:red'>e</span><span style='color:red'>n</span><span style='color:red'>t</span><span style='color:red'> </span><span style='color:red'>t</span><span style='color:red'>w</span><span style='color:red'>o</span><span style='color:red'>s</span><span style='color:red'> </span><span style='color:red'>a</span><span style='color:red'>r</span><span style='color:red'>o</span><span style='color:red'>u</span><span style='color:red'>n</span><span style='color:red'>d</span><span style='color:red'> </span><span style='color:red'>t</span><span style='color:red'>h</span><span style='color:red'>e</span><span style='color:red'> </span><span style='color:red'>s</span><span style='color:red'>t</span><span style='color:red'>a</span><span style='color:red'>t</span><span style='color:red'>e</span><span style='color:red'> </span><span style='color:red'>t</span><span style='color:red'>o</span><span style='color:red'> </span><span style='color:red'>s</span><span style='color:red'>h</span><span style='color:red'>o</span><span style='color:red'>w</span><span style='color:red'> </span><span style='color:red'>t</span><span style='color:red'>h</span><span style='color:red'>e</span><span style='color:red'>i</span><span style='color:red'>r</span><span style='color:red'> </span><span style='color:red'>s</span><span style='color:red'>p</span><span style='color:red'>e</span><span style='color:red'>n</span><span style='color:red'>d</span><span style='color:red'>i</span><span style='color:red'>n</span><span style='color:red'>g</span><span style='color:red'> </span><span style='color:red'>p</span><span style='color:red'>o</span><span style='color:red'>w</span><span style='color:red'>e</span><span style='color:red'>r</span><span style='color:red'> </span><span style='color:red'>.</span><span style='color:red'> </span><span style='color:red'>S</span><span style='color:red'>i</span><span style='color:red'>m</span><span style='color:red'>i</span><span style='color:red'>l</span><span style='color:red'>a</span><span style='color:red'>r</span><span style='color:red'> </span><span style='color:red'>c</span><span style='color:red'>a</span><span style='color:red'>m</span><span style='color:red'>p</span><span style='color:red'>a</span><span style='color:red'>i</span><span style='color:red'>g</span><span style='color:red'>n</span><span style='color:red'>s</span><span style='color:red'> </span><span style='color:red'>h</span><span style='color:red'>a</span><span style='color:red'>v</span><span style='color:red'>e</span><span style='color:red'> </span><span style='color:red'>b</span><span style='color:red'>e</span><span style='color:red'>e</span><span style='color:red'>n</span><span style='color:red'> </span><span style='color:red'>l</span><span style='color:red'>a</span><span style='color:red'>u</span><span style='color:red'>n</span><span style='color:red'>c</span><span style='color:red'>h</span><span style='color:red'>e</span><span style='color:red'>d</span><span style='color:red'> </span><span style='color:red'>b</span><span style='color:red'>y</span><span style='color:red'> </span><span style='color:red'>o</span><span style='color:red'>t</span><span style='color:red'>h</span><span style='color:red'>e</span><span style='color:red'>r</span><span style='color:red'> </span><span style='color:red'>g</span><span style='color:red'>r</span><span style='color:red'>o</span><span style='color:red'>u</span><span style='color:red'>p</span><span style='color:red'>s</span><span style='color:red'> </span><span style='color:red'>f</span><span style='color:red'>r</span><span style='color:red'>o</span><span style='color:red'>m</span><span style='color:red'> </span><span style='color:red'>n</span><span style='color:red'>u</span><span style='color:red'>d</span><span style='color:red'>i</span><span style='color:red'>s</span><span style='color:red'>t</span><span style='color:red'>s</span><span style='color:red'> </span><span style='color:red'>i</span><span style='color:red'>n</span><span style='color:red'> </span><span style='color:red'>P</span><span style='color:red'>a</span><span style='color:red'>s</span><span style='color:red'>c</span><span style='color:red'>o</span><span style='color:red'> </span><span style='color:red'>C</span><span style='color:red'>o</span><span style='color:red'>u</span><span style='color:red'>n</span><span style='color:red'>t</span><span style='color:red'>y</span><span style='color:red'> </span><span style='color:red'>F</span><span style='color:red'>l</span><span style='color:red'>a</span><span style='color:red'> </span><span style='color:red'>.</span><span style='color:red'> </span><span style='color:red'>i</span><span style='color:red'>n</span><span style='color:red'> </span><span style='color:red'>2</span><span style='color:red'>0</span><span style='color:red'>0</span><span style='color:red'>7</span><span style='color:red'> </span><span style='color:red'>t</span><span style='color:red'>o</span><span style='color:red'> </span><span style='color:red'>u</span><span style='color:red'>n</span><span style='color:red'>e</span><span style='color:red'>m</span><span style='color:red'>p</span><span style='color:red'>l</span><span style='color:red'>o</span><span style='color:red'>y</span><span style='color:red'>e</span><span style='color:red'>d</span><span style='color:red'> </span><span style='color:red'>s</span><span style='color:red'>t</span><span style='color:red'>e</span><span style='color:red'>e</span><span style='color:red'>l</span><span style='color:red'> </span><span style='color:red'>c</span><span style='color:red'>o</span><span style='color:red'>m</span><span style='color:red'>p</span><span style='color:red'>a</span><span style='color:red'>n</span><span style='color:red'>y</span><span style='color:red'> </span><span style='color:red'>w</span><span style='color:red'>o</span><span style='color:red'>r</span><span style='color:red'>k</span><span style='color:red'>e</span><span style='color:red'>r</span><span style='color:red'>s</span><span style='color:red'> </span><span style='color:red'>i</span><span style='color:red'>n</span><span style='color:red'> </span><span style='color:red'>U</span><span style='color:red'>t</span><span style='color:red'>a</span><span style='color:red'>h</span><span style='color:red'> </span><span style='color:red'>i</span><span style='color:red'>n</span><span style='color:red'> </span><span style='color:red'>2</span><span style='color:red'>0</span><span style='color:red'>0</span><span style='color:red'>3</span><span style='color:red'> </span><span style='color:red'>t</span><span style='color:red'>o</span><span style='color:red'> </span><span style='color:red'>m</span><span style='color:red'>e</span><span style='color:red'>m</span><span style='color:red'>b</span><span style='color:red'>e</span><span style='color:red'>r</span><span style='color:red'>s</span><span style='color:red'> </span><span style='color:red'>o</span><span style='color:red'>f</span><span style='color:red'> </span><span style='color:red'>t</span><span style='color:red'>h</span><span style='color:red'>e</span><span style='color:red'> </span><span style='color:red'>N</span><span style='color:red'>A</span><span style='color:red'>A</span><span style='color:red'>C</span><span style='color:red'>P</span><span style='color:red'> </span><span style='color:red'>i</span><span style='color:red'>n</span><span style='color:red'> </span><span style='color:red'>t</span><span style='color:red'>h</span><span style='color:red'>e</span><span style='color:red'> </span><span style='color:red'>1</span><span style='color:red'>9</span><span style='color:red'>8</span><span style='color:red'>0</span><span style='color:red'>s</span><span style='color:red'> </span><span style='color:red'>.</span><span style='color:red'> </span><span style='color:red'>C</span><span style='color:red'>l</span><span style='color:red'>e</span><span style='color:red'>m</span><span style='color:red'>s</span><span style='color:red'>o</span><span style='color:red'>n</span><span style='color:red'> </span><span style='color:red'>U</span><span style='color:red'>n</span><span style='color:red'>i</span><span style='color:red'>v</span><span style='color:red'>e</span><span style='color:red'>r</span><span style='color:red'>s</span><span style='color:red'>i</span><span style='color:red'>t</span><span style='color:red'>y</span><span style='color:red'> </span><span style='color:red'>s</span><span style='color:red'>t</span><span style='color:red'>u</span><span style='color:red'>d</span><span style='color:red'>e</span><span style='color:red'>n</span><span style='color:red'>t</span><span style='color:red'>s</span><span style='color:red'> </span><span style='color:red'>s</span><span style='color:red'>p</span><span style='color:red'>e</span><span style='color:red'>n</span><span style='color:red'>d</span><span style='color:red'> </span><span style='color:red'>$</span><span style='color:red'> </span><span style='color:red'>2</span><span style='color:red'> </span><span style='color:red'>b</span><span style='color:red'>i</span><span style='color:red'>l</span><span style='color:red'>l</span><span style='color:red'>s</span><span style='color:red'> </span><span style='color:red'>s</span><span style='color:red'>t</span><span style='color:red'>a</span><span style='color:red'>m</span><span style='color:red'>p</span><span style='color:red'>e</span><span style='color:red'>d</span><span style='color:red'> </span><span style='color:red'>w</span><span style='color:red'>i</span><span style='color:red'>t</span><span style='color:red'>h</span><span style='color:red'> </span><span style='color:red'>t</span><span style='color:red'>i</span><span style='color:red'>g</span><span style='color:red'>e</span><span style='color:red'>r</span><span style='color:red'> </span><span style='color:red'>p</span><span style='color:red'>a</span><span style='color:red'>w</span><span style='color:red'>s</span><span style='color:red'> </span><span style='color:red'>i</span><span style='color:red'>n</span><span style='color:red'> </span><span style='color:red'>c</span><span style='color:red'>i</span><span style='color:red'>t</span><span style='color:red'>i</span><span style='color:red'>e</span><span style='color:red'>s</span><span style='color:red'> </span><span style='color:red'>t</span><span style='color:red'>h</span><span style='color:red'>a</span><span style='color:red'>t</span><span style='color:red'> </span><span style='color:red'>h</span><span style='color:red'>o</span><span style='color:red'>s</span><span style='color:red'>t</span><span style='color:red'> </span><span style='color:red'>t</span><span style='color:red'>h</span><span style='color:red'>e</span><span style='color:red'> </span><span style='color:red'>s</span><span style='color:red'>c</span><span style='color:red'>h</span><span style='color:red'>o</span><span style='color:red'>o</span><span style='color:red'>l</span><span style='color:red'> </span><span style='color:red'>f</span><span style='color:red'>o</span><span style='color:red'>r</span><span style='color:red'> </span><span style='color:red'>f</span><span style='color:red'>o</span><span style='color:red'>o</span><span style='color:red'>t</span><span style='color:red'>b</span><span style='color:red'>a</span><span style='color:red'>l</span><span style='color:red'>l</span><span style='color:red'> </span><span style='color:red'>b</span><span style='color:red'>o</span><span style='color:red'>w</span><span style='color:red'>l</span><span style='color:red'> </span><span style='color:red'>g</span><span style='color:red'>a</span><span style='color:red'>m</span><span style='color:red'>e</span><span style='color:red'>s</span><span style='color:red'> </span><span style='color:red'>.</span><span style='color:red'> </span><span style='color:red'>I</span><span style='color:red'>t</span><span style='color:red'> </span><span style='color:red'>'</span><span style='color:red'>s</span><span style='color:red'> </span><span style='color:red'>a</span><span style='color:red'> </span><span style='color:red'>t</span><span style='color:red'>r</span><span style='color:red'>a</span><span style='color:red'>d</span><span style='color:red'>i</span><span style='color:red'>t</span><span style='color:red'>i</span><span style='color:red'>o</span><span style='color:red'>n</span><span style='color:red'> </span><span style='color:red'>t</span><span style='color:red'>h</span><span style='color:red'>a</span><span style='color:red'>t</span><span style='color:red'> </span><span style='color:red'>b</span><span style='color:red'>e</span><span style='color:red'>g</span><span style='color:red'>a</span><span style='color:red'>n</span><span style='color:red'> </span><span style='color:red'>i</span><span style='color:red'>n</span><span style='color:red'> </span><span style='color:red'>1</span><span style='color:red'>9</span><span style='color:red'>7</span><span style='color:red'>7</span><span style='color:red'> </span><span style='color:red'>w</span><span style='color:red'>h</span><span style='color:red'>e</span><span style='color:red'>n</span><span style='color:red'> </span><span style='color:red'>G</span><span style='color:red'>e</span><span style='color:red'>o</span><span style='color:red'>r</span><span style='color:red'>g</span><span style='color:red'>i</span><span style='color:red'>a</span><span style='color:red'> </span><span style='color:red'>T</span><span style='color:red'>e</span><span style='color:red'>c</span><span style='color:red'>h</span><span style='color:red'> </span><span style='color:red'>d</span><span style='color:red'>e</span><span style='color:red'>c</span><span style='color:red'>i</span><span style='color:red'>d</span><span style='color:red'>e</span><span style='color:red'>d</span><span style='color:red'> </span><span style='color:red'>t</span><span style='color:red'>o</span><span style='color:red'> </span><span style='color:red'>s</span><span style='color:red'>t</span><span style='color:red'>o</span><span style='color:red'>p</span><span style='color:red'> </span><span style='color:red'>p</span><span style='color:red'>l</span><span style='color:red'>a</span><span style='color:red'>y</span><span style='color:red'>i</span><span style='color:red'>n</span><span style='color:red'>g</span><span style='color:red'> </span><span style='color:red'>f</span><span style='color:red'>o</span><span style='color:red'>o</span><span style='color:red'>t</span><span style='color:red'>b</span><span style='color:red'>a</span><span style='color:red'>l</span><span style='color:red'>l</span><span style='color:red'> </span><span style='color:red'>a</span><span style='color:red'>g</span><span style='color:red'>a</span><span style='color:red'>i</span><span style='color:red'>n</span><span style='color:red'>s</span><span style='color:red'>t</span><span style='color:red'> </span><span style='color:red'>t</span><span style='color:red'>h</span><span style='color:red'>e</span><span style='color:red'> </span><span style='color:red'>s</span><span style='color:red'>c</span><span style='color:red'>h</span><span style='color:red'>o</span><span style='color:red'>o</span><span style='color:red'>l</span><span style='color:red'> </span><span style='color:red'>.</span><span style='color:red'> </span><span style='color:red'>B</span><span style='color:red'>u</span><span style='color:red'>t</span><span style='color:red'> </span><span style='color:red'>t</span><span style='color:red'>o</span><span style='color:red'> </span><span style='color:red'>M</span><span style='color:red'>a</span><span style='color:red'>t</span><span style='color:red'>t</span><span style='color:red'>h</span><span style='color:red'>e</span><span style='color:red'>w</span><span style='color:red'> </span><span style='color:red'>Z</span><span style='color:red'>a</span><span style='color:red'>k</span><span style='color:red'>l</span><span style='color:red'>a</span><span style='color:red'>d</span><span style='color:red'> </span><span style='color:red'>a</span><span style='color:red'>n</span><span style='color:red'>o</span><span style='color:red'>t</span><span style='color:red'>h</span><span style='color:red'>e</span><span style='color:red'>r</span><span style='color:red'> </span><span style='color:red'>$</span><span style='color:red'> </span><span style='color:red'>2</span><span style='color:red'> </span><span style='color:red'>b</span><span style='color:red'>i</span><span style='color:red'>l</span><span style='color:red'>l</span><span style='color:red'> </span><span style='color:red'>e</span><span style='color:red'>n</span><span style='color:red'>t</span><span style='color:red'>h</span><span style='color:red'>u</span><span style='color:red'>s</span><span style='color:red'>i</span><span style='color:red'>a</span><span style='color:red'>s</span><span style='color:red'>t</span><span style='color:red'> </span><span style='color:red'>t</span><span style='color:red'>h</span><span style='color:red'>e</span><span style='color:red'> </span><span style='color:red'>a</span><span style='color:red'>p</span><span style='color:red'>p</span><span style='color:red'>e</span><span style='color:red'>a</span><span style='color:red'>l</span><span style='color:red'> </span><span style='color:red'>o</span><span style='color:red'>f</span><span style='color:red'> </span><span style='color:red'>t</span><span style='color:red'>h</span><span style='color:red'>e</span><span style='color:red'> </span><span style='color:red'>c</span><span style='color:red'>u</span><span style='color:red'>r</span><span style='color:red'>r</span><span style='color:red'>e</span><span style='color:red'>n</span><span style='color:red'>c</span><span style='color:red'>y</span><span style='color:red'> </span><span style='color:red'>i</span><span style='color:red'>s</span><span style='color:red'> </span><span style='color:red'>t</span><span style='color:red'>h</span><span style='color:red'>e</span><span style='color:red'> </span><span style='color:red'>w</span><span style='color:red'>a</span><span style='color:red'>y</span><span style='color:red'> </span><span style='color:red'>i</span><span style='color:red'>t</span><span style='color:red'> </span><span style='color:red'>b</span><span style='color:red'>r</span><span style='color:red'>i</span><span style='color:red'>g</span><span style='color:red'>h</span><span style='color:red'>t</span><span style='color:red'>e</span><span style='color:red'>n</span><span style='color:red'>s</span><span style='color:red'> </span><span style='color:red'>p</span><span style='color:red'>e</span><span style='color:red'>o</span><span style='color:red'>p</span><span style='color:red'>l</span><span style='color:red'>e</span><span style='color:red'> </span><span style='color:red'>'</span><span style='color:red'>s</span><span style='color:red'> </span><span style='color:red'>d</span><span style='color:red'>a</span><span style='color:red'>y</span><span style='color:red'>s</span><span style='color:red'> </span><span style='color:red'>a</span><span style='color:red'>n</span><span style='color:red'>d</span><span style='color:red'> </span><span style='color:red'>t</span><span style='color:red'>h</span><span style='color:red'>e</span><span style='color:red'> </span><span style='color:red'>c</span><span style='color:red'>o</span><span style='color:red'>n</span><span style='color:red'>n</span><span style='color:red'>e</span><span style='color:red'>c</span><span style='color:red'>t</span><span style='color:red'>i</span><span style='color:red'>o</span><span style='color:red'>n</span><span style='color:red'>s</span><span style='color:red'> </span><span style='color:red'>i</span><span style='color:red'>t</span><span style='color:red'> </span><span style='color:red'>f</span><span style='color:red'>o</span><span style='color:red'>r</span><span style='color:red'>g</span><span style='color:red'>e</span><span style='color:red'>s</span><span style='color:red'> </span><span style='color:red'>.</span><span style='color:red'> </span><span style='color:red'>\"</span><span style='color:red'> </span><span style='color:red'>T</span><span style='color:red'>h</span><span style='color:red'>e</span><span style='color:red'>y</span><span style='color:red'> </span><span style='color:red'>a</span><span style='color:red'>r</span><span style='color:red'>e</span><span style='color:red'> </span><span style='color:red'>o</span><span style='color:red'>n</span><span style='color:red'>e</span><span style='color:red'> </span><span style='color:red'>o</span><span style='color:red'>f</span><span style='color:red'> </span><span style='color:red'>t</span><span style='color:red'>h</span><span style='color:red'>o</span><span style='color:red'>s</span><span style='color:red'>e</span><span style='color:red'> </span><span style='color:red'>r</span><span style='color:red'>a</span><span style='color:red'>r</span><span style='color:red'>e</span><span style='color:red'> </span><span style='color:red'>t</span><span style='color:red'>h</span><span style='color:red'>i</span><span style='color:red'>n</span><span style='color:red'>g</span><span style='color:red'>s</span><span style='color:red'> </span><span style='color:red'>t</span><span style='color:red'>h</span><span style='color:red'>a</span><span style='color:red'>t</span><span style='color:red'> </span><span style='color:red'>c</span><span style='color:red'>o</span><span style='color:red'>n</span><span style='color:red'>s</span><span style='color:red'>i</span><span style='color:red'>s</span><span style='color:red'>t</span><span style='color:red'>e</span><span style='color:red'>n</span><span style='color:red'>t</span><span style='color:red'>l</span><span style='color:red'>y</span><span style='color:red'> </span><span style='color:red'>t</span><span style='color:red'>r</span><span style='color:red'>i</span><span style='color:red'>g</span><span style='color:red'>g</span><span style='color:red'>e</span><span style='color:red'>r</span><span style='color:red'>s</span><span style='color:red'> </span><span style='color:red'>a</span><span style='color:red'> </span><span style='color:red'>m</span><span style='color:red'>e</span><span style='color:red'>m</span><span style='color:red'>o</span><span style='color:red'>r</span><span style='color:red'>y</span><span style='color:red'> </span><span style='color:red'>o</span><span style='color:red'>f</span><span style='color:red'> </span><span style='color:red'>s</span><span style='color:red'>o</span><span style='color:red'>m</span><span style='color:red'>e</span><span style='color:red'>t</span><span style='color:red'>h</span><span style='color:red'>i</span><span style='color:red'>n</span><span style='color:red'>g</span><span style='color:red'> </span><span style='color:red'>g</span><span style='color:red'>o</span><span style='color:red'>o</span><span style='color:red'>d</span><span style='color:red'> </span><span style='color:red'>a</span><span style='color:red'>n</span><span style='color:red'>d</span><span style='color:red'> </span><span style='color:red'>o</span><span style='color:red'>f</span><span style='color:red'>t</span><span style='color:red'>e</span><span style='color:red'>n</span><span style='color:red'> </span><span style='color:red'>f</span><span style='color:red'>a</span><span style='color:red'>m</span><span style='color:red'>i</span><span style='color:red'>l</span><span style='color:red'>i</span><span style='color:red'>a</span><span style='color:red'>l</span><span style='color:red'> </span><span style='color:red'>s</span><span style='color:red'>a</span><span style='color:red'>i</span><span style='color:red'>d</span><span style='color:red'> </span><span style='color:red'>Z</span><span style='color:red'>a</span><span style='color:red'>k</span><span style='color:red'>l</span><span style='color:red'>a</span><span style='color:red'>d</span><span style='color:red'> </span><span style='color:red'>4</span><span style='color:red'>1</span><span style='color:red'> </span><span style='color:red'>a</span><span style='color:red'> </span><span style='color:red'>b</span><span style='color:red'>u</span><span style='color:red'>s</span><span style='color:red'>i</span><span style='color:red'>n</span><span style='color:red'>e</span><span style='color:red'>s</span><span style='color:red'>s</span><span style='color:red'> </span><span style='color:red'>c</span><span style='color:red'>o</span><span style='color:red'>n</span><span style='color:red'>s</span><span style='color:red'>u</span><span style='color:red'>l</span><span style='color:red'>t</span><span style='color:red'>a</span><span style='color:red'>n</span><span style='color:red'>t</span><span style='color:red'> </span><span style='color:red'>w</span><span style='color:red'>h</span><span style='color:red'>o</span><span style='color:red'> </span><span style='color:red'>l</span><span style='color:red'>i</span><span style='color:red'>v</span><span style='color:red'>e</span><span style='color:red'>s</span><span style='color:red'> </span><span style='color:red'>i</span><span style='color:red'>n</span><span style='color:red'> </span><span style='color:red'>M</span><span style='color:red'>a</span><span style='color:red'>n</span><span style='color:red'>h</span><span style='color:red'>a</span><span style='color:red'>t</span><span style='color:red'>t</span><span style='color:red'>a</span><span style='color:red'>n</span><span style='color:red'> </span><span style='color:red'>.</span><span style='color:red'> </span><span style='color:red'>B</span><span style='color:red'>e</span><span style='color:red'>n</span><span style='color:red'>n</span><span style='color:red'>a</span><span style='color:red'>r</span><span style='color:red'>d</span><span style='color:red'>o</span><span style='color:red'> </span><span style='color:red'>w</span><span style='color:red'>h</span><span style='color:red'>o</span><span style='color:red'> </span><span style='color:red'>h</span><span style='color:red'>a</span><span style='color:red'>s</span><span style='color:red'> </span><span style='color:red'>p</span><span style='color:red'>u</span><span style='color:red'>r</span><span style='color:red'>s</span><span style='color:red'>u</span><span style='color:red'>e</span><span style='color:red'>d</span><span style='color:red'> </span><span style='color:red'>s</span><span style='color:red'>t</span><span style='color:red'>o</span><span style='color:red'>r</span><span style='color:red'>i</span><span style='color:red'>e</span><span style='color:red'>s</span><span style='color:red'> </span><span style='color:red'>i</span><span style='color:red'>n</span><span style='color:red'>c</span><span style='color:red'>l</span><span style='color:red'>u</span><span style='color:red'>d</span><span style='color:red'>i</span><span style='color:red'>n</span><span style='color:red'>g</span><span style='color:red'> </span><span style='color:red'>t</span><span style='color:red'>h</span><span style='color:red'>a</span><span style='color:red'>t</span><span style='color:red'> </span><span style='color:red'>o</span><span style='color:red'>f</span><span style='color:red'> </span><span style='color:red'>a</span><span style='color:red'> </span><span style='color:red'>W</span><span style='color:red'>o</span><span style='color:red'>r</span><span style='color:red'>l</span><span style='color:red'>d</span><span style='color:red'> </span><span style='color:red'>W</span><span style='color:red'>a</span><span style='color:red'>r</span><span style='color:red'> </span><span style='color:red'>I</span><span style='color:red'>I</span><span style='color:red'> </span><span style='color:red'>v</span><span style='color:red'>e</span><span style='color:red'>t</span><span style='color:red'> </span><span style='color:red'>r</span><span style='color:red'>e</span><span style='color:red'>u</span><span style='color:red'>n</span><span style='color:red'>i</span><span style='color:red'>t</span><span style='color:red'>e</span><span style='color:red'>d</span><span style='color:red'> </span><span style='color:red'>w</span><span style='color:red'>i</span><span style='color:red'>t</span><span style='color:red'>h</span><span style='color:red'> </span><span style='color:red'>a</span><span style='color:red'> </span><span style='color:red'>$</span><span style='color:red'> </span><span style='color:red'>2</span><span style='color:red'> </span><span style='color:red'>b</span><span style='color:red'>i</span><span style='color:red'>l</span><span style='color:red'>l</span><span style='color:red'> </span><span style='color:red'>h</span><span style='color:red'>e</span><span style='color:red'> </span><span style='color:red'>a</span><span style='color:red'>n</span><span style='color:red'>d</span><span style='color:red'> </span><span style='color:red'>o</span><span style='color:red'>t</span><span style='color:red'>h</span><span style='color:red'>e</span><span style='color:red'>r</span><span style='color:red'> </span><span style='color:red'>w</span><span style='color:red'>a</span><span style='color:red'>r</span><span style='color:red'>t</span><span style='color:red'>i</span><span style='color:red'>m</span><span style='color:red'>e</span><span style='color:red'> </span><span style='color:red'>b</span><span style='color:red'>u</span><span style='color:red'>d</span><span style='color:red'>d</span><span style='color:red'>i</span><span style='color:red'>e</span><span style='color:red'>s</span><span style='color:red'> </span><span style='color:red'>s</span><span style='color:red'>i</span><span style='color:red'>g</span><span style='color:red'>n</span><span style='color:red'>e</span><span style='color:red'>d</span><span style='color:red'> </span><span style='color:red'>7</span><span style='color:red'>0</span><span style='color:red'> </span><span style='color:red'>y</span><span style='color:red'>e</span><span style='color:red'>a</span><span style='color:red'>r</span><span style='color:red'>s</span><span style='color:red'> </span><span style='color:red'>a</span><span style='color:red'>g</span><span style='color:red'>o</span><span style='color:red'> </span><span style='color:red'>a</span><span style='color:red'>g</span><span style='color:red'>r</span><span style='color:red'>e</span><span style='color:red'>e</span><span style='color:red'>d</span><span style='color:red'> </span><span style='color:red'>s</span><span style='color:red'>a</span><span style='color:red'>y</span><span style='color:red'>i</span><span style='color:red'>n</span><span style='color:red'>g</span><span style='color:red'> </span><span style='color:red'>t</span><span style='color:red'>h</span><span style='color:red'>a</span><span style='color:red'>t</span><span style='color:red'> </span><span style='color:red'>'</span><span style='color:red'>s</span><span style='color:red'> </span><span style='color:red'>a</span><span style='color:red'>t</span><span style='color:red'> </span><span style='color:red'>t</span><span style='color:red'>h</span><span style='color:red'>e</span><span style='color:red'> </span><span style='color:red'>h</span><span style='color:red'>e</span><span style='color:red'>a</span><span style='color:red'>r</span><span style='color:red'>t</span><span style='color:red'> </span><span style='color:red'>o</span><span style='color:red'>f</span><span style='color:red'> </span><span style='color:red'>h</span><span style='color:red'>i</span><span style='color:red'>s</span><span style='color:red'> </span><span style='color:red'>m</span><span style='color:red'>o</span><span style='color:red'>v</span><span style='color:red'>i</span><span style='color:red'>e</span><span style='color:red'> </span><span style='color:red'>.</span><span style='color:red'> </span><span style='color:red'>\"</span><span style='color:red'> </span><span style='color:red'>I</span><span style='color:red'> </span><span style='color:red'>t</span><span style='color:red'>h</span><span style='color:red'>i</span><span style='color:red'>n</span><span style='color:red'>k</span><span style='color:red'> </span><span style='color:red'>t</span><span style='color:red'>h</span><span style='color:red'>a</span><span style='color:red'>t</span><span style='color:red'> </span><span style='color:red'>'</span><span style='color:red'>s</span><span style='color:red'> </span><span style='color:red'>w</span><span style='color:red'>h</span><span style='color:red'>a</span><span style='color:red'>t</span><span style='color:red'> </span><span style='color:red'>t</span><span style='color:red'>h</span><span style='color:red'>e</span><span style='color:red'> </span><span style='color:red'>f</span><span style='color:red'>i</span><span style='color:red'>l</span><span style='color:red'>m</span><span style='color:red'> </span><span style='color:red'>i</span><span style='color:red'>s</span><span style='color:red'> </span><span style='color:red'>g</span><span style='color:red'>o</span><span style='color:red'>i</span><span style='color:red'>n</span><span style='color:red'>g</span><span style='color:red'> </span><span style='color:red'>t</span><span style='color:red'>o</span><span style='color:red'> </span><span style='color:red'>s</span><span style='color:red'>h</span><span style='color:red'>o</span><span style='color:red'>w</span><span style='color:red'> </span><span style='color:red'>u</span><span style='color:red'>s</span><span style='color:red'> </span><span style='color:red'>i</span><span style='color:red'>s</span><span style='color:red'> </span><span style='color:red'>t</span><span style='color:red'>h</span><span style='color:red'>a</span><span style='color:red'>t</span><span style='color:red'> </span><span style='color:red'>t</span><span style='color:red'>h</span><span style='color:red'>i</span><span style='color:red'>s</span><span style='color:red'> </span><span style='color:red'>b</span><span style='color:red'>i</span><span style='color:red'>l</span><span style='color:red'>l</span><span style='color:red'> </span><span style='color:red'>i</span><span style='color:red'>s</span><span style='color:red'> </span><span style='color:red'>m</span><span style='color:red'>o</span><span style='color:red'>r</span><span style='color:red'>e</span><span style='color:red'> </span><span style='color:red'>t</span><span style='color:red'>h</span><span style='color:red'>a</span><span style='color:red'>n</span><span style='color:red'> </span><span style='color:red'>w</span><span style='color:red'>e</span><span style='color:red'> </span><span style='color:red'>t</span><span style='color:red'>h</span><span style='color:red'>i</span><span style='color:red'>n</span><span style='color:red'>k</span><span style='color:red'> </span><span style='color:red'>i</span><span style='color:red'>t</span><span style='color:red'> </span><span style='color:red'>i</span><span style='color:red'>s</span><span style='color:red'> </span><span style='color:red'>h</span><span style='color:red'>e</span><span style='color:red'> </span><span style='color:red'>s</span><span style='color:red'>a</span><span style='color:red'>i</span><span style='color:red'>d</span><span style='color:red'> </span><span style='color:red'>.</span>"
      ],
      "text/plain": [
       "<IPython.core.display.HTML object>"
      ]
     },
     "metadata": {},
     "output_type": "display_data"
    }
   ],
   "source": [
    "example = dataset['validation'][0]\n",
    "#print(f\"Original text: {example['r_content'][:500]}\", end=\"\\n\\n\")\n",
    "\n",
    "model.eval()\n",
    "model.config.use_cache = True\n",
    "\n",
    "device = torch.device(\"cuda:0\" if torch.cuda.is_available() else \"cpu\") # torch.cuda.current_device() \n",
    "model.to(device)\n",
    "\n",
    "print(f\"Device: {device}\")\n",
    "print(f\"Model device: {next(model.parameters()).device}\", end=\"\\n\\n\" )\n",
    "\n",
    "print(f\"Model vocab size: {model.config.vocab_size}\")\n",
    "print(f\"Tokenizer vocab size: {tokenizer.vocab_size}\", end=\"\\n\\n\")\n",
    "\n",
    "try:\n",
    "\n",
    "    input_ids = tokenizer(example['r_content'], return_tensors=\"pt\", truncation=True, max_length=1024)  \n",
    "    \n",
    "    # input_ids info\n",
    "    #print(\"Input IDs before device transfer:\")\n",
    "    #for key, value in input_ids.items():\n",
    "        #print(f\"{key}: {value.shape}, dtype: {value.dtype}\", end=\"\\n\\n\")\n",
    "\n",
    "    # out-of-vocabulary tokens\n",
    "    #vocab_size = tokenizer.vocab_size\n",
    "    #input_id_values = input_ids['input_ids'][0].tolist()\n",
    "    #print(f\"First 10 token IDs: {input_id_values[:10]}\")\n",
    "    #print(f\"Last 10 token IDs: {input_id_values[-10:]}\")\n",
    "\n",
    "    # move input_ids to the same device as the model\n",
    "    input_ids = {key: value.to(device) for key, value in input_ids.items()}\n",
    "\n",
    "    # generate prediction\n",
    "    with torch.no_grad():\n",
    "        output_ids = model.generate(\n",
    "            **input_ids, \n",
    "            max_length=512  \n",
    "        )\n",
    "\n",
    "    # decode generated output\n",
    "    simplified_text = tokenizer.decode(output_ids[0], skip_special_tokens=True)\n",
    "    \n",
    "    print(f\"Simplified (highlighted): \")\n",
    "    display(HTML(highlight_diff(example['r_content'], simplified_text)))\n",
    "\n",
    "except Exception as e:\n",
    "    print(f\"Error during generation: {e}\")"
   ]
  },
  {
   "cell_type": "markdown",
   "id": "96f04fbf-958e-4edf-9dd6-965e739c3394",
   "metadata": {},
   "source": [
    "## SARI score for test dataset"
   ]
  },
  {
   "cell_type": "code",
   "execution_count": 19,
   "id": "e289d2cb-5fe0-4cbf-ae48-311783248252",
   "metadata": {},
   "outputs": [
    {
     "name": "stderr",
     "output_type": "stream",
     "text": [
      "100%|█████████████████████████████████████████| 116/116 [02:03<00:00,  1.07s/it]\n"
     ]
    }
   ],
   "source": [
    "from tqdm import tqdm\n",
    "import torch\n",
    "\n",
    "predictions = []\n",
    "\n",
    "model.eval()\n",
    "model.config.use_cache = True\n",
    "\n",
    "device = torch.device(\"cuda\" if torch.cuda.is_available() else \"cpu\")\n",
    "model.to(device)\n",
    "\n",
    "with torch.no_grad():\n",
    "    for example in tqdm(dataset['test']):\n",
    "        # tokenize the text\n",
    "        input_ids = tokenizer(example['source_text'], return_tensors=\"pt\")\n",
    "        # move input_ids to the same device as the model\n",
    "        input_ids = {key: value.to(device) for key, value in input_ids.items()}\n",
    "        \n",
    "        # generate prediction\n",
    "        output_ids = model.generate(**input_ids, temperature=0.45, do_sample=True, num_return_sequences=1) \n",
    "        simplified_text = tokenizer.decode(output_ids[0], skip_special_tokens=True)\n",
    "        \n",
    "        predictions.append(simplified_text)"
   ]
  },
  {
   "cell_type": "code",
   "execution_count": 20,
   "id": "5e96fb93-b2eb-43a3-8b00-95477161acb2",
   "metadata": {},
   "outputs": [
    {
     "data": {
      "application/vnd.jupyter.widget-view+json": {
       "model_id": "47657a3291e04d0aba3b99a766279ff0",
       "version_major": 2,
       "version_minor": 0
      },
      "text/plain": [
       "  0%|          | 0/116 [00:00<?, ?it/s]"
      ]
     },
     "metadata": {},
     "output_type": "display_data"
    }
   ],
   "source": [
    "from tqdm.notebook import tqdm\n",
    "from easse.sari import corpus_sari\n",
    "\n",
    "\n",
    "sari_scores_easse = []\n",
    "\n",
    "for index, row in tqdm(enumerate(dataset[\"test\"]), total=len(dataset[\"test\"])):\n",
    "    r_content = row['source_text'] \n",
    "    s_content = row['label_text']\n",
    "    prediction = predictions[index] \n",
    "    \n",
    "    sari_score_easse = corpus_sari(\n",
    "        orig_sents=[r_content],\n",
    "        sys_sents=[prediction],\n",
    "        refs_sents=[[s_content]]\n",
    "    )\n",
    "    \n",
    "    sari_scores_easse.append(sari_score_easse)"
   ]
  },
  {
   "cell_type": "code",
   "execution_count": 21,
   "id": "d652ad94-994c-406f-a201-87efa1bccf6d",
   "metadata": {},
   "outputs": [
    {
     "name": "stdout",
     "output_type": "stream",
     "text": [
      "Average SARI score: 39.93167510051041\n"
     ]
    }
   ],
   "source": [
    "import numpy as np\n",
    "print(\"Average SARI score:\", np.mean(sari_scores_easse))"
   ]
  },
  {
   "cell_type": "markdown",
   "id": "21923c11-49f4-49af-a51f-d501c2cc6644",
   "metadata": {},
   "source": [
    "## BLEU scores"
   ]
  },
  {
   "cell_type": "code",
   "execution_count": 22,
   "id": "84238d55-18d8-47cc-9fba-661fdac67ee1",
   "metadata": {},
   "outputs": [
    {
     "data": {
      "application/vnd.jupyter.widget-view+json": {
       "model_id": "9c680d957c3048e0b4f5536b57ff9205",
       "version_major": 2,
       "version_minor": 0
      },
      "text/plain": [
       "  0%|          | 0/116 [00:00<?, ?it/s]"
      ]
     },
     "metadata": {},
     "output_type": "display_data"
    }
   ],
   "source": [
    "from tqdm.notebook import tqdm\n",
    "from easse.bleu import corpus_bleu\n",
    "\n",
    "\n",
    "bleu_scores_easse = []\n",
    "\n",
    "for index, row in tqdm(enumerate(dataset[\"test\"]), total=len(dataset[\"test\"])):\n",
    "    s_content = row['label_text']\n",
    "    prediction = predictions[index] \n",
    "    \n",
    "    bleu_score_easse = corpus_bleu(\n",
    "        sys_sents=[prediction],\n",
    "        refs_sents=[[s_content]]\n",
    "    )\n",
    "    \n",
    "    bleu_scores_easse.append(bleu_score_easse)"
   ]
  },
  {
   "cell_type": "code",
   "execution_count": 23,
   "id": "a9ff4c15-12a0-4fcf-9ae2-1c4c7f184161",
   "metadata": {},
   "outputs": [
    {
     "name": "stdout",
     "output_type": "stream",
     "text": [
      "Average SARI score: 39.93167510051041\n",
      "Average BLEU score: 84.69036567450351\n"
     ]
    }
   ],
   "source": [
    "import numpy as np\n",
    "print(\"Average SARI score:\", np.mean(sari_scores_easse))\n",
    "print(\"Average BLEU score:\", np.mean(bleu_scores_easse))"
   ]
  }
 ],
 "metadata": {
  "kernelspec": {
   "display_name": "Python 3 (ipykernel)",
   "language": "python",
   "name": "python3"
  },
  "language_info": {
   "codemirror_mode": {
    "name": "ipython",
    "version": 3
   },
   "file_extension": ".py",
   "mimetype": "text/x-python",
   "name": "python",
   "nbconvert_exporter": "python",
   "pygments_lexer": "ipython3",
   "version": "3.9.18"
  }
 },
 "nbformat": 4,
 "nbformat_minor": 5
}
