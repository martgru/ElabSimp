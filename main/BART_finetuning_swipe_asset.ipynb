{
 "cells": [
  {
   "cell_type": "markdown",
   "id": "c3c8830a-b8a7-45e8-81a0-14afeeb31937",
   "metadata": {},
   "source": [
    "# BART fine-tuning \n",
    "\n",
    "**Datasets**:\n",
    "\n",
    "(1) **ASSET only**\n",
    "- training: swipe_clean\n",
    "- validation: asset (randomly selected reference)\n",
    "- test: swipe (id)\n",
    "\n",
    "> SARI score: 47.99488613033185\n",
    "\n",
    "> EASSE SARI score: 39.495948687673675\n",
    "\n",
    "(2) **Combined**:\n",
    "- validation: swipe + asset (randomly selected reference) combined\n",
    "- test: swipe (id)\n",
    "\n",
    "> SARI score: 47.9358993447983\n",
    "\n",
    "> EASSE SARI score: **39.6713938379931***\n",
    "\n",
    "**Settings:**\n",
    "\n",
    "- warmup steps: 2\n",
    "- training epochs: 3\n",
    "- learning rate: 2e-5\n",
    "- optimizer: adamw_paged8bit"
   ]
  },
  {
   "cell_type": "markdown",
   "id": "b92ff165-70f6-4d26-8725-d8c0902b0811",
   "metadata": {},
   "source": [
    "# Load the model"
   ]
  },
  {
   "cell_type": "code",
   "execution_count": 1,
   "id": "83fe7218-f100-4be7-a56a-f4286a240ac6",
   "metadata": {},
   "outputs": [],
   "source": [
    "from transformers import BartTokenizer, BartForConditionalGeneration\n",
    "import torch\n",
    "\n",
    "tokenizer = BartTokenizer.from_pretrained('facebook/bart-large', use_fast=True)\n",
    "model =  BartForConditionalGeneration.from_pretrained('facebook/bart-large', device_map ={'':torch.cuda.current_device()})"
   ]
  },
  {
   "cell_type": "markdown",
   "id": "25553514-92fb-4ccb-b63a-017eb46992bf",
   "metadata": {},
   "source": [
    "# Load the datasets"
   ]
  },
  {
   "cell_type": "markdown",
   "id": "c34e0939-a56b-440d-83a1-34fc3a38ac92",
   "metadata": {},
   "source": [
    "## Swipe"
   ]
  },
  {
   "cell_type": "code",
   "execution_count": 2,
   "id": "27ad0060-e078-4600-bec9-59ad882ed094",
   "metadata": {},
   "outputs": [],
   "source": [
    "from datasets import load_from_disk\n",
    "import pandas as pd\n",
    "\n",
    "swipe_dataset = load_from_disk(\"../data/swipe_clean\")"
   ]
  },
  {
   "cell_type": "code",
   "execution_count": 3,
   "id": "b98e4ca1-75af-4965-8f96-d7b8164ee3e3",
   "metadata": {},
   "outputs": [],
   "source": [
    "from datasets import load_from_disk\n",
    "\n",
    "tokenized_datasets = load_from_disk(\"../data/tokenized_swipe_dataset\")"
   ]
  },
  {
   "cell_type": "code",
   "execution_count": 7,
   "id": "d0a0b6a4-9220-47a4-a087-025e59ee3e0e",
   "metadata": {},
   "outputs": [
    {
     "data": {
      "text/plain": [
       "DatasetDict({\n",
       "    train: Dataset({\n",
       "        features: ['r_content', 's_content', 'input_ids', 'attention_mask', 'labels'],\n",
       "        num_rows: 3847\n",
       "    })\n",
       "    validation: Dataset({\n",
       "        features: ['r_content', 's_content', 'input_ids', 'attention_mask', 'labels'],\n",
       "        num_rows: 479\n",
       "    })\n",
       "    test_id: Dataset({\n",
       "        features: ['r_content', 's_content', 'input_ids', 'attention_mask', 'labels'],\n",
       "        num_rows: 483\n",
       "    })\n",
       "    test_ood: Dataset({\n",
       "        features: ['r_content', 's_content', 'input_ids', 'attention_mask', 'labels'],\n",
       "        num_rows: 368\n",
       "    })\n",
       "})"
      ]
     },
     "execution_count": 7,
     "metadata": {},
     "output_type": "execute_result"
    }
   ],
   "source": [
    "tokenized_datasets"
   ]
  },
  {
   "cell_type": "markdown",
   "id": "081ccf16-f2b8-4350-8ff2-9734cbbe4c37",
   "metadata": {},
   "source": [
    "## ASSET"
   ]
  },
  {
   "cell_type": "code",
   "execution_count": 4,
   "id": "558d3018-e948-428d-9946-6d65c245dd74",
   "metadata": {},
   "outputs": [],
   "source": [
    "from datasets import load_dataset\n",
    "\n",
    "asset_dataset = load_dataset(\"facebook/asset\", \"simplification\")"
   ]
  },
  {
   "cell_type": "code",
   "execution_count": 5,
   "id": "2cf82242-890b-4290-9fbd-f17fd691c5f0",
   "metadata": {},
   "outputs": [],
   "source": [
    "import random\n",
    "\n",
    "def choose_random_reference(example):\n",
    "    if len(example['simplifications']) > 0:\n",
    "        example['simplification'] = random.choice(example['simplifications'])\n",
    "    return example\n",
    "\n",
    "asset_dataset['validation'] = asset_dataset['validation'].map(choose_random_reference)\n",
    "asset_dataset['test'] = asset_dataset['test'].map(choose_random_reference)"
   ]
  },
  {
   "cell_type": "code",
   "execution_count": 5,
   "id": "1be111ba-d28c-4046-a257-4c6bdafbefba",
   "metadata": {},
   "outputs": [
    {
     "data": {
      "application/vnd.jupyter.widget-view+json": {
       "model_id": "4bdb96b5e1404749895fcbfdcff14a15",
       "version_major": 2,
       "version_minor": 0
      },
      "text/plain": [
       "Map:   0%|          | 0/2000 [00:00<?, ? examples/s]"
      ]
     },
     "metadata": {},
     "output_type": "display_data"
    },
    {
     "data": {
      "application/vnd.jupyter.widget-view+json": {
       "model_id": "53989d13b8684cd4ac0ad34675efba45",
       "version_major": 2,
       "version_minor": 0
      },
      "text/plain": [
       "Map:   0%|          | 0/359 [00:00<?, ? examples/s]"
      ]
     },
     "metadata": {},
     "output_type": "display_data"
    }
   ],
   "source": [
    "def tokenize_func(examples):\n",
    "    # inputs\n",
    "    inputs = tokenizer(examples['original'], truncation=True, padding=\"max_length\", max_length=512)\n",
    "    # labels\n",
    "    labels = tokenizer(examples['simplification'], truncation=True, padding=\"max_length\", max_length=512)\n",
    "    # set the labels in the input dictionary\n",
    "    inputs['labels'] = labels['input_ids']\n",
    "    return inputs\n",
    "\n",
    "tokenized_asset_dataset = asset_dataset.map(tokenize_func, batched=True)\n",
    "tokenized_asset_dataset.set_format(type='torch', columns=['input_ids', 'attention_mask', 'labels'])"
   ]
  },
  {
   "cell_type": "markdown",
   "id": "0db8ec1b-48be-4c59-95c3-2deda3117672",
   "metadata": {},
   "source": [
    "## SwiPE and ASSET Combined"
   ]
  },
  {
   "cell_type": "code",
   "execution_count": 6,
   "id": "c597729a-1b68-431c-b8d2-ee274262e600",
   "metadata": {},
   "outputs": [],
   "source": [
    "import pandas as pd\n",
    "from datasets import Dataset\n",
    "\n",
    "# datasets to pandas DataFrames\n",
    "swipe_val_df = swipe_dataset['validation'].to_pandas()\n",
    "asset_val_df = asset_dataset['validation'].to_pandas()"
   ]
  },
  {
   "cell_type": "code",
   "execution_count": 7,
   "id": "c4371ec8-3c79-4138-98ec-cdab4c3ee210",
   "metadata": {},
   "outputs": [
    {
     "data": {
      "text/html": [
       "<div>\n",
       "<style scoped>\n",
       "    .dataframe tbody tr th:only-of-type {\n",
       "        vertical-align: middle;\n",
       "    }\n",
       "\n",
       "    .dataframe tbody tr th {\n",
       "        vertical-align: top;\n",
       "    }\n",
       "\n",
       "    .dataframe thead th {\n",
       "        text-align: right;\n",
       "    }\n",
       "</style>\n",
       "<table border=\"1\" class=\"dataframe\">\n",
       "  <thead>\n",
       "    <tr style=\"text-align: right;\">\n",
       "      <th></th>\n",
       "      <th>r_content</th>\n",
       "      <th>s_content</th>\n",
       "    </tr>\n",
       "  </thead>\n",
       "  <tbody>\n",
       "    <tr>\n",
       "      <th>0</th>\n",
       "      <td>This is an article about New York City; see al...</td>\n",
       "      <td>New York City is the largest city in the Unite...</td>\n",
       "    </tr>\n",
       "    <tr>\n",
       "      <th>1</th>\n",
       "      <td>The Cable News Network (CNN) is an American ba...</td>\n",
       "      <td>The Cable News Network (CNN) is an American ba...</td>\n",
       "    </tr>\n",
       "    <tr>\n",
       "      <th>2</th>\n",
       "      <td>In computing, Epiphany is a web browser for GN...</td>\n",
       "      <td>Epiphany is a web browser for GNOME. It aims t...</td>\n",
       "    </tr>\n",
       "    <tr>\n",
       "      <th>3</th>\n",
       "      <td>A paperback (also known as softback or softcov...</td>\n",
       "      <td>A paperback is a type of book. It has a thin c...</td>\n",
       "    </tr>\n",
       "    <tr>\n",
       "      <th>4</th>\n",
       "      <td>In grammar, a phrase is a group of words that ...</td>\n",
       "      <td>A phrase is a small group of words that adds m...</td>\n",
       "    </tr>\n",
       "  </tbody>\n",
       "</table>\n",
       "</div>"
      ],
      "text/plain": [
       "                                           r_content  \\\n",
       "0  This is an article about New York City; see al...   \n",
       "1  The Cable News Network (CNN) is an American ba...   \n",
       "2  In computing, Epiphany is a web browser for GN...   \n",
       "3  A paperback (also known as softback or softcov...   \n",
       "4  In grammar, a phrase is a group of words that ...   \n",
       "\n",
       "                                           s_content  \n",
       "0  New York City is the largest city in the Unite...  \n",
       "1  The Cable News Network (CNN) is an American ba...  \n",
       "2  Epiphany is a web browser for GNOME. It aims t...  \n",
       "3  A paperback is a type of book. It has a thin c...  \n",
       "4  A phrase is a small group of words that adds m...  "
      ]
     },
     "execution_count": 7,
     "metadata": {},
     "output_type": "execute_result"
    }
   ],
   "source": [
    "swipe_val_df.head()"
   ]
  },
  {
   "cell_type": "code",
   "execution_count": 9,
   "id": "ded393ff-44bc-49c1-930f-76ad5a62a9eb",
   "metadata": {},
   "outputs": [],
   "source": [
    "asset_val_df = asset_val_df.rename(columns={'original': 'r_content', 'simplification': 's_content'})\n",
    "asset_val_df = asset_val_df[['r_content','s_content']]"
   ]
  },
  {
   "cell_type": "code",
   "execution_count": 10,
   "id": "05084f89-5bee-4106-aeb4-a535fae481ab",
   "metadata": {},
   "outputs": [
    {
     "data": {
      "text/html": [
       "<div>\n",
       "<style scoped>\n",
       "    .dataframe tbody tr th:only-of-type {\n",
       "        vertical-align: middle;\n",
       "    }\n",
       "\n",
       "    .dataframe tbody tr th {\n",
       "        vertical-align: top;\n",
       "    }\n",
       "\n",
       "    .dataframe thead th {\n",
       "        text-align: right;\n",
       "    }\n",
       "</style>\n",
       "<table border=\"1\" class=\"dataframe\">\n",
       "  <thead>\n",
       "    <tr style=\"text-align: right;\">\n",
       "      <th></th>\n",
       "      <th>r_content</th>\n",
       "      <th>s_content</th>\n",
       "    </tr>\n",
       "  </thead>\n",
       "  <tbody>\n",
       "    <tr>\n",
       "      <th>0</th>\n",
       "      <td>Adjacent counties are Marin (to the south), Me...</td>\n",
       "      <td>Nearby counties are Marin (to the south), Mend...</td>\n",
       "    </tr>\n",
       "    <tr>\n",
       "      <th>1</th>\n",
       "      <td>A Georgian inscription around the drum attests...</td>\n",
       "      <td>An inscription around the drum is evidence of ...</td>\n",
       "    </tr>\n",
       "    <tr>\n",
       "      <th>2</th>\n",
       "      <td>They would later return to the revived series ...</td>\n",
       "      <td>They returned to the series in the 2008 Christ...</td>\n",
       "    </tr>\n",
       "    <tr>\n",
       "      <th>3</th>\n",
       "      <td>Jameson's autobiography, How to Make Love Like...</td>\n",
       "      <td>Jameson's autobiography was published August 1...</td>\n",
       "    </tr>\n",
       "    <tr>\n",
       "      <th>4</th>\n",
       "      <td>It is particularly famous for the cultivation ...</td>\n",
       "      <td>It is really famous for the harvest of kiwifruit.</td>\n",
       "    </tr>\n",
       "  </tbody>\n",
       "</table>\n",
       "</div>"
      ],
      "text/plain": [
       "                                           r_content  \\\n",
       "0  Adjacent counties are Marin (to the south), Me...   \n",
       "1  A Georgian inscription around the drum attests...   \n",
       "2  They would later return to the revived series ...   \n",
       "3  Jameson's autobiography, How to Make Love Like...   \n",
       "4  It is particularly famous for the cultivation ...   \n",
       "\n",
       "                                           s_content  \n",
       "0  Nearby counties are Marin (to the south), Mend...  \n",
       "1  An inscription around the drum is evidence of ...  \n",
       "2  They returned to the series in the 2008 Christ...  \n",
       "3  Jameson's autobiography was published August 1...  \n",
       "4  It is really famous for the harvest of kiwifruit.  "
      ]
     },
     "execution_count": 10,
     "metadata": {},
     "output_type": "execute_result"
    }
   ],
   "source": [
    "asset_val_df.head()"
   ]
  },
  {
   "cell_type": "code",
   "execution_count": 11,
   "id": "c61221e1-8434-449f-81e9-74e3dfd6184f",
   "metadata": {},
   "outputs": [],
   "source": [
    "# combine the datasets\n",
    "combined_val_df = pd.concat([swipe_val_df, asset_val_df], ignore_index=True)\n",
    "# shuffle \n",
    "shuffled_combined_val_df = combined_val_df.sample(frac=1).reset_index(drop=True)\n",
    "combined_val_dataset = Dataset.from_pandas(shuffled_combined_val_df)"
   ]
  },
  {
   "cell_type": "code",
   "execution_count": 13,
   "id": "21f18bc9-421f-4b2d-8d54-8ba5e02bcb43",
   "metadata": {},
   "outputs": [
    {
     "data": {
      "application/vnd.jupyter.widget-view+json": {
       "model_id": "24030ea0eed84256acae33798a491b61",
       "version_major": 2,
       "version_minor": 0
      },
      "text/plain": [
       "Map:   0%|          | 0/2479 [00:00<?, ? examples/s]"
      ]
     },
     "metadata": {},
     "output_type": "display_data"
    }
   ],
   "source": [
    "def tokenize_func(examples):\n",
    "    # inputs\n",
    "    inputs = tokenizer(examples['r_content'], truncation=True, padding=\"max_length\", max_length=512)\n",
    "    # labels\n",
    "    labels = tokenizer(examples['s_content'], truncation=True, padding=\"max_length\", max_length=512)\n",
    "    # set the labels in the input dictionary\n",
    "    inputs['labels'] = labels['input_ids']\n",
    "    return inputs\n",
    "\n",
    "tokenized_combined_val_dataset = combined_val_dataset.map(tokenize_func, batched=True)\n",
    "tokenized_combined_val_dataset.set_format(type='torch', columns=['input_ids', 'attention_mask', 'labels'])"
   ]
  },
  {
   "cell_type": "code",
   "execution_count": 14,
   "id": "be963e18-87e2-4750-b21f-25bae7e7ed37",
   "metadata": {},
   "outputs": [
    {
     "data": {
      "text/plain": [
       "Dataset({\n",
       "    features: ['r_content', 's_content', 'input_ids', 'attention_mask', 'labels'],\n",
       "    num_rows: 2479\n",
       "})"
      ]
     },
     "execution_count": 14,
     "metadata": {},
     "output_type": "execute_result"
    }
   ],
   "source": [
    "tokenized_combined_val_dataset"
   ]
  },
  {
   "cell_type": "markdown",
   "id": "22e02c15-f641-47d2-b09b-e16c4899ef7d",
   "metadata": {},
   "source": [
    "# Training"
   ]
  },
  {
   "cell_type": "code",
   "execution_count": 15,
   "id": "dfd37fe2-44a9-4d7d-96d0-8f32ff26f098",
   "metadata": {},
   "outputs": [],
   "source": [
    "from transformers import Trainer, TrainingArguments, EarlyStoppingCallback\n",
    "from transformers.integrations import TensorBoardCallback\n",
    "\n",
    "training_args = TrainingArguments(\n",
    "    output_dir=\"../models/bart-swipe-asset/results-combined\",\n",
    "    eval_strategy=\"epoch\", \n",
    "    save_strategy = \"epoch\", \n",
    "    logging_strategy=\"steps\",\n",
    "    logging_steps=10,\n",
    "    learning_rate=2e-5, \n",
    "    per_device_train_batch_size=6, # 6 -> 4 2 \n",
    "    per_device_eval_batch_size=6, # 6 -> 4 2\n",
    "    num_train_epochs=3, # 3 -> 6\n",
    "    weight_decay=0.01,\n",
    "    save_total_limit=3, \n",
    "    #gradient_accumulation_steps=6, # reduce memory\n",
    "    load_best_model_at_end=True, # based on valid loss\n",
    "    warmup_steps = 2,\n",
    "    optim = \"paged_adamw_8bit\", # optimizer for quantization\n",
    "    fp16=True, # enable half-precision\n",
    "    logging_dir='../models/bart-swipe-asset/logs-combined'\n",
    ")\n",
    "\n",
    "\n",
    "trainer = Trainer(\n",
    "    model=model,\n",
    "    args=training_args,\n",
    "    train_dataset=tokenized_datasets['train'],\n",
    "    eval_dataset=tokenized_combined_val_dataset,\n",
    "    tokenizer=tokenizer,\n",
    "    callbacks=[EarlyStoppingCallback(early_stopping_patience=3)]\n",
    ")\n",
    "\n",
    "# silence warnings\n",
    "model.config.use_cache = False"
   ]
  },
  {
   "cell_type": "code",
   "execution_count": 16,
   "id": "4d1b4b22-6054-49c8-a278-c22e20190166",
   "metadata": {},
   "outputs": [
    {
     "data": {
      "text/html": [
       "\n",
       "    <div>\n",
       "      \n",
       "      <progress value='1926' max='1926' style='width:300px; height:20px; vertical-align: middle;'></progress>\n",
       "      [1926/1926 04:51, Epoch 3/3]\n",
       "    </div>\n",
       "    <table border=\"1\" class=\"dataframe\">\n",
       "  <thead>\n",
       " <tr style=\"text-align: left;\">\n",
       "      <th>Epoch</th>\n",
       "      <th>Training Loss</th>\n",
       "      <th>Validation Loss</th>\n",
       "    </tr>\n",
       "  </thead>\n",
       "  <tbody>\n",
       "    <tr>\n",
       "      <td>1</td>\n",
       "      <td>0.183400</td>\n",
       "      <td>0.079890</td>\n",
       "    </tr>\n",
       "    <tr>\n",
       "      <td>2</td>\n",
       "      <td>0.265200</td>\n",
       "      <td>0.074399</td>\n",
       "    </tr>\n",
       "    <tr>\n",
       "      <td>3</td>\n",
       "      <td>0.130700</td>\n",
       "      <td>0.074672</td>\n",
       "    </tr>\n",
       "  </tbody>\n",
       "</table><p>"
      ],
      "text/plain": [
       "<IPython.core.display.HTML object>"
      ]
     },
     "metadata": {},
     "output_type": "display_data"
    },
    {
     "name": "stderr",
     "output_type": "stream",
     "text": [
      "Some non-default generation parameters are set in the model config. These should go into a GenerationConfig file (https://huggingface.co/docs/transformers/generation_strategies#save-a-custom-decoding-strategy-with-your-model) instead. This warning will be raised to an exception in v4.41.\n",
      "Non-default generation parameters: {'early_stopping': True, 'num_beams': 4, 'no_repeat_ngram_size': 3, 'forced_bos_token_id': 0, 'forced_eos_token_id': 2}\n",
      "Your generation config was originally created from the model config, but the model config has changed since then. Unless you pass the `generation_config` argument to this model's `generate` calls, they will revert to the legacy behavior where the base `generate` parameterization is loaded from the model config instead. To avoid this behavior and this warning, we recommend you to overwrite the generation config model attribute before calling the model's `save_pretrained`, preferably also removing any generation kwargs from the model config. This warning will be raised to an exception in v4.41.\n",
      "Some non-default generation parameters are set in the model config. These should go into a GenerationConfig file (https://huggingface.co/docs/transformers/generation_strategies#save-a-custom-decoding-strategy-with-your-model) instead. This warning will be raised to an exception in v4.41.\n",
      "Non-default generation parameters: {'early_stopping': True, 'num_beams': 4, 'no_repeat_ngram_size': 3, 'forced_bos_token_id': 0, 'forced_eos_token_id': 2}\n",
      "Your generation config was originally created from the model config, but the model config has changed since then. Unless you pass the `generation_config` argument to this model's `generate` calls, they will revert to the legacy behavior where the base `generate` parameterization is loaded from the model config instead. To avoid this behavior and this warning, we recommend you to overwrite the generation config model attribute before calling the model's `save_pretrained`, preferably also removing any generation kwargs from the model config. This warning will be raised to an exception in v4.41.\n",
      "Some non-default generation parameters are set in the model config. These should go into a GenerationConfig file (https://huggingface.co/docs/transformers/generation_strategies#save-a-custom-decoding-strategy-with-your-model) instead. This warning will be raised to an exception in v4.41.\n",
      "Non-default generation parameters: {'early_stopping': True, 'num_beams': 4, 'no_repeat_ngram_size': 3, 'forced_bos_token_id': 0, 'forced_eos_token_id': 2}\n",
      "Your generation config was originally created from the model config, but the model config has changed since then. Unless you pass the `generation_config` argument to this model's `generate` calls, they will revert to the legacy behavior where the base `generate` parameterization is loaded from the model config instead. To avoid this behavior and this warning, we recommend you to overwrite the generation config model attribute before calling the model's `save_pretrained`, preferably also removing any generation kwargs from the model config. This warning will be raised to an exception in v4.41.\n",
      "Some non-default generation parameters are set in the model config. These should go into a GenerationConfig file (https://huggingface.co/docs/transformers/generation_strategies#save-a-custom-decoding-strategy-with-your-model) instead. This warning will be raised to an exception in v4.41.\n",
      "Non-default generation parameters: {'early_stopping': True, 'num_beams': 4, 'no_repeat_ngram_size': 3, 'forced_bos_token_id': 0, 'forced_eos_token_id': 2}\n",
      "Your generation config was originally created from the model config, but the model config has changed since then. Unless you pass the `generation_config` argument to this model's `generate` calls, they will revert to the legacy behavior where the base `generate` parameterization is loaded from the model config instead. To avoid this behavior and this warning, we recommend you to overwrite the generation config model attribute before calling the model's `save_pretrained`, preferably also removing any generation kwargs from the model config. This warning will be raised to an exception in v4.41.\n",
      "There were missing keys in the checkpoint model loaded: ['model.encoder.embed_tokens.weight', 'model.decoder.embed_tokens.weight', 'lm_head.weight'].\n"
     ]
    },
    {
     "data": {
      "text/plain": [
       "TrainOutput(global_step=1926, training_loss=0.6336714172598481, metrics={'train_runtime': 292.6629, 'train_samples_per_second': 39.434, 'train_steps_per_second': 6.581, 'total_flos': 1.2505277106487296e+16, 'train_loss': 0.6336714172598481, 'epoch': 3.0})"
      ]
     },
     "execution_count": 16,
     "metadata": {},
     "output_type": "execute_result"
    }
   ],
   "source": [
    "trainer.train()"
   ]
  },
  {
   "cell_type": "markdown",
   "id": "537c45a8-04ad-4187-969e-8d2d8b6223cd",
   "metadata": {},
   "source": [
    "# Visualize training process"
   ]
  },
  {
   "cell_type": "code",
   "execution_count": 17,
   "id": "d3d9279b-d683-48f0-b2f0-97a71efeb755",
   "metadata": {},
   "outputs": [
    {
     "data": {
      "image/png": "[encoded data removed]",
      "text/plain": [
       "<Figure size 1000x500 with 1 Axes>"
      ]
     },
     "metadata": {},
     "output_type": "display_data"
    }
   ],
   "source": [
    "import matplotlib.pyplot as plt\n",
    "\n",
    "# loss values from the log history\n",
    "train_loss = [log['loss'] for log in trainer.state.log_history if 'loss' in log]\n",
    "eval_loss = [log['eval_loss'] for log in trainer.state.log_history if 'eval_loss' in log]\n",
    "steps = range(len(train_loss))\n",
    "\n",
    "plt.figure(figsize=(10,5))\n",
    "plt.plot(steps, train_loss, label='Training Loss')\n",
    "plt.plot(steps[:len(eval_loss)], eval_loss, label='Validation Loss')\n",
    "plt.xlabel('Steps')\n",
    "plt.ylabel('Loss')\n",
    "plt.title('Loss curve')\n",
    "plt.legend()\n",
    "plt.show()"
   ]
  },
  {
   "cell_type": "markdown",
   "id": "06a87837-a332-4716-bf59-10d8428c929f",
   "metadata": {},
   "source": [
    "# Generate predictions"
   ]
  },
  {
   "cell_type": "code",
   "execution_count": 18,
   "id": "de105959-bb3e-4d97-b364-441af469ee82",
   "metadata": {},
   "outputs": [],
   "source": [
    "import difflib\n",
    "from IPython.display import display, HTML\n",
    "\n",
    "def highlight_diff(sentence1, sentence2):\n",
    "    diff = difflib.ndiff(sentence1, sentence2)\n",
    "    highlighted = []\n",
    "    \n",
    "    for char in diff:\n",
    "        if char.startswith('-'):\n",
    "            highlighted.append(f\"<span style='color:red'>{char[2:]}</span>\")\n",
    "        elif char.startswith('+'):\n",
    "            highlighted.append(f\"<span style='color:green'>{char[2:]}</span>\")\n",
    "        else:\n",
    "            highlighted.append(char[2:])\n",
    "    \n",
    "    return ''.join(highlighted)"
   ]
  },
  {
   "cell_type": "code",
   "execution_count": 19,
   "id": "5888c13c-422a-4a3c-bf93-1af37f89a1ee",
   "metadata": {},
   "outputs": [],
   "source": [
    "from transformers import GenerationConfig\n",
    "\n",
    "generation_config = GenerationConfig(\n",
    "    bos_token_id = 0,\n",
    "    decoder_start_token_id = 2,\n",
    "    eos_token_id = 2,\n",
    "    early_stopping=True,\n",
    "    num_beams=4,\n",
    "    no_repeat_ngram_size=3,\n",
    "    forced_bos_token_id=0,\n",
    "    forced_eos_token_id=2,\n",
    "    pad_token_id = 1\n",
    ")\n",
    "\n",
    "model.generation_config = generation_config"
   ]
  },
  {
   "cell_type": "code",
   "execution_count": 20,
   "id": "a82eeee4-28a3-47b6-8a85-446055a6e34a",
   "metadata": {},
   "outputs": [
    {
     "name": "stdout",
     "output_type": "stream",
     "text": [
      "Original: Russian (Russkij yazyk, Русский язык) is the most widely spoken of the Slavic languages. It is primarily spoken in Russia and other nations of the former Soviet Union, and was also widely taught in schools in member countries of the Warsaw Pact. In Soviet times, Russian was often strongly promoted to the detriment of other local languages. While many of the countries of the former Soviet Union are now promoting their local languages rather than Russian, Russian remains widely spoken in these areas and is often used for intercommunication between these countries. Russian is one of the official languages of the United Nations. Russian is written using the Cyrillic alphabet. Russenorsk is a pidgin language combining Russian and Norwegian. See also: Common phrases in different languages See also: Languages of China --\n",
      "\n",
      "Simplified: \n",
      "Russian (Russkij yazyk, Русский язык) is the most widely spoken of the Slavic languages. It is primarily spoken in Russia and other nations of the former Soviet Union, and was also widely taught in schools in member countries of the Warsaw Pact. In Soviet times, Russian was often strongly promoted to the detriment of other local languages. While many of the countries of Russia and the former USSR are now promoting their local languages rather than Russian, Russian remains widely spoken in these areas and is often used for intercommunication between these countries. Russian is written using the Cyrillic alphabet. Russenorsk is a pidgin language combining Russian and Norwegian.\n",
      "\n",
      "Simplified (highlighted): \n"
     ]
    },
    {
     "data": {
      "text/html": [
       "Russian (Russkij yazyk, Русский язык) is the most widely spoken of the Slavic languages. It is primarily spoken in Russia and other nations of the former Soviet Union, and was also widely taught in schools in member countries of the Warsaw Pact. In Soviet times, Russian was often strongly promoted to the detriment of other local languages. While many of the countries of <span style='color:red'>t</span><span style='color:red'>h</span><span style='color:red'>e</span><span style='color:green'>R</span><span style='color:green'>u</span><span style='color:green'>s</span><span style='color:green'>s</span><span style='color:green'>i</span><span style='color:green'>a</span> <span style='color:green'>a</span><span style='color:green'>n</span><span style='color:green'>d</span><span style='color:red'>f</span><span style='color:red'>o</span><span style='color:red'>r</span><span style='color:red'>m</span><span style='color:red'>e</span><span style='color:red'>r</span> <span style='color:green'>t</span><span style='color:green'>h</span><span style='color:green'>e</span><span style='color:green'> </span><span style='color:green'>f</span><span style='color:green'>o</span><span style='color:green'>r</span><span style='color:green'>m</span><span style='color:green'>e</span><span style='color:green'>r</span><span style='color:green'> </span><span style='color:green'>U</span>S<span style='color:green'>S</span><span style='color:green'>R</span><span style='color:red'>o</span><span style='color:red'>v</span><span style='color:red'>i</span><span style='color:red'>e</span><span style='color:red'>t</span><span style='color:red'> </span><span style='color:red'>U</span><span style='color:red'>n</span><span style='color:red'>i</span><span style='color:red'>o</span><span style='color:red'>n</span> are now promoting their local languages rather than Russian, Russian remains widely spoken in these areas and is often used for intercommunication between these countries. Russian is <span style='color:green'>w</span><span style='color:green'>r</span><span style='color:red'>o</span><span style='color:red'>n</span><span style='color:red'>e</span><span style='color:red'> </span><span style='color:red'>o</span><span style='color:red'>f</span><span style='color:red'> </span><span style='color:red'>t</span><span style='color:red'>h</span><span style='color:red'>e</span><span style='color:red'> </span><span style='color:red'>o</span><span style='color:red'>f</span><span style='color:red'>f</span>i<span style='color:red'>c</span><span style='color:red'>i</span><span style='color:red'>a</span><span style='color:red'>l</span><span style='color:red'> </span><span style='color:red'>l</span><span style='color:red'>a</span><span style='color:red'>n</span><span style='color:red'>g</span><span style='color:red'>u</span><span style='color:red'>a</span><span style='color:red'>g</span><span style='color:red'>e</span><span style='color:red'>s</span><span style='color:red'> </span><span style='color:red'>o</span><span style='color:red'>f</span><span style='color:red'> </span>t<span style='color:red'>h</span><span style='color:red'>e</span><span style='color:red'> </span><span style='color:red'>U</span><span style='color:red'>n</span><span style='color:red'>i</span>te<span style='color:green'>n</span><span style='color:green'> </span><span style='color:green'>u</span><span style='color:green'>s</span><span style='color:green'>i</span><span style='color:green'>n</span><span style='color:green'>g</span><span style='color:green'> </span><span style='color:green'>t</span><span style='color:green'>h</span><span style='color:green'>e</span><span style='color:green'> </span><span style='color:green'>C</span><span style='color:green'>y</span><span style='color:green'>r</span><span style='color:green'>i</span><span style='color:green'>l</span><span style='color:green'>l</span><span style='color:green'>i</span><span style='color:green'>c</span><span style='color:green'> </span><span style='color:green'>a</span><span style='color:green'>l</span><span style='color:green'>p</span><span style='color:green'>h</span><span style='color:green'>a</span><span style='color:green'>b</span><span style='color:green'>e</span><span style='color:green'>t</span><span style='color:green'>.</span><span style='color:green'> </span><span style='color:green'>R</span><span style='color:green'>u</span><span style='color:green'>s</span><span style='color:green'>s</span><span style='color:green'>e</span><span style='color:green'>n</span><span style='color:green'>o</span><span style='color:green'>r</span><span style='color:green'>s</span><span style='color:green'>k</span><span style='color:green'> </span><span style='color:green'>i</span><span style='color:green'>s</span><span style='color:green'> </span><span style='color:green'>a</span><span style='color:green'> </span><span style='color:green'>p</span><span style='color:green'>i</span><span style='color:green'>d</span><span style='color:green'>g</span><span style='color:green'>i</span><span style='color:green'>n</span><span style='color:green'> </span><span style='color:green'>l</span><span style='color:green'>a</span><span style='color:green'>n</span><span style='color:green'>g</span><span style='color:green'>u</span><span style='color:green'>a</span><span style='color:green'>g</span><span style='color:green'>e</span><span style='color:green'> </span><span style='color:green'>c</span><span style='color:green'>o</span><span style='color:green'>m</span><span style='color:green'>b</span><span style='color:green'>i</span><span style='color:green'>n</span><span style='color:green'>i</span><span style='color:green'>n</span><span style='color:green'>g</span><span style='color:green'> </span><span style='color:green'>R</span><span style='color:green'>u</span><span style='color:green'>s</span><span style='color:green'>s</span><span style='color:green'>i</span><span style='color:green'>a</span><span style='color:green'>n</span><span style='color:green'> </span><span style='color:green'>a</span><span style='color:green'>n</span>d N<span style='color:red'>a</span><span style='color:red'>t</span><span style='color:red'>i</span>o<span style='color:green'>r</span><span style='color:green'>w</span><span style='color:green'>e</span><span style='color:green'>g</span><span style='color:green'>i</span><span style='color:green'>a</span>n<span style='color:red'>s</span>.<span style='color:red'> </span><span style='color:red'>R</span><span style='color:red'>u</span><span style='color:red'>s</span><span style='color:red'>s</span><span style='color:red'>i</span><span style='color:red'>a</span><span style='color:red'>n</span><span style='color:red'> </span><span style='color:red'>i</span><span style='color:red'>s</span><span style='color:red'> </span><span style='color:red'>w</span><span style='color:red'>r</span><span style='color:red'>i</span><span style='color:red'>t</span><span style='color:red'>t</span><span style='color:red'>e</span><span style='color:red'>n</span><span style='color:red'> </span><span style='color:red'>u</span><span style='color:red'>s</span><span style='color:red'>i</span><span style='color:red'>n</span><span style='color:red'>g</span><span style='color:red'> </span><span style='color:red'>t</span><span style='color:red'>h</span><span style='color:red'>e</span><span style='color:red'> </span><span style='color:red'>C</span><span style='color:red'>y</span><span style='color:red'>r</span><span style='color:red'>i</span><span style='color:red'>l</span><span style='color:red'>l</span><span style='color:red'>i</span><span style='color:red'>c</span><span style='color:red'> </span><span style='color:red'>a</span><span style='color:red'>l</span><span style='color:red'>p</span><span style='color:red'>h</span><span style='color:red'>a</span><span style='color:red'>b</span><span style='color:red'>e</span><span style='color:red'>t</span><span style='color:red'>.</span><span style='color:red'> </span><span style='color:red'>R</span><span style='color:red'>u</span><span style='color:red'>s</span><span style='color:red'>s</span><span style='color:red'>e</span><span style='color:red'>n</span><span style='color:red'>o</span><span style='color:red'>r</span><span style='color:red'>s</span><span style='color:red'>k</span><span style='color:red'> </span><span style='color:red'>i</span><span style='color:red'>s</span><span style='color:red'> </span><span style='color:red'>a</span><span style='color:red'> </span><span style='color:red'>p</span><span style='color:red'>i</span><span style='color:red'>d</span><span style='color:red'>g</span><span style='color:red'>i</span><span style='color:red'>n</span><span style='color:red'> </span><span style='color:red'>l</span><span style='color:red'>a</span><span style='color:red'>n</span><span style='color:red'>g</span><span style='color:red'>u</span><span style='color:red'>a</span><span style='color:red'>g</span><span style='color:red'>e</span><span style='color:red'> </span><span style='color:red'>c</span><span style='color:red'>o</span><span style='color:red'>m</span><span style='color:red'>b</span><span style='color:red'>i</span><span style='color:red'>n</span><span style='color:red'>i</span><span style='color:red'>n</span><span style='color:red'>g</span><span style='color:red'> </span><span style='color:red'>R</span><span style='color:red'>u</span><span style='color:red'>s</span><span style='color:red'>s</span><span style='color:red'>i</span><span style='color:red'>a</span><span style='color:red'>n</span><span style='color:red'> </span><span style='color:red'>a</span><span style='color:red'>n</span><span style='color:red'>d</span><span style='color:red'> </span><span style='color:red'>N</span><span style='color:red'>o</span><span style='color:red'>r</span><span style='color:red'>w</span><span style='color:red'>e</span><span style='color:red'>g</span><span style='color:red'>i</span><span style='color:red'>a</span><span style='color:red'>n</span><span style='color:red'>.</span><span style='color:red'> </span><span style='color:red'>S</span><span style='color:red'>e</span><span style='color:red'>e</span><span style='color:red'> </span><span style='color:red'>a</span><span style='color:red'>l</span><span style='color:red'>s</span><span style='color:red'>o</span><span style='color:red'>:</span><span style='color:red'> </span><span style='color:red'>C</span><span style='color:red'>o</span><span style='color:red'>m</span><span style='color:red'>m</span><span style='color:red'>o</span><span style='color:red'>n</span><span style='color:red'> </span><span style='color:red'>p</span><span style='color:red'>h</span><span style='color:red'>r</span><span style='color:red'>a</span><span style='color:red'>s</span><span style='color:red'>e</span><span style='color:red'>s</span><span style='color:red'> </span><span style='color:red'>i</span><span style='color:red'>n</span><span style='color:red'> </span><span style='color:red'>d</span><span style='color:red'>i</span><span style='color:red'>f</span><span style='color:red'>f</span><span style='color:red'>e</span><span style='color:red'>r</span><span style='color:red'>e</span><span style='color:red'>n</span><span style='color:red'>t</span><span style='color:red'> </span><span style='color:red'>l</span><span style='color:red'>a</span><span style='color:red'>n</span><span style='color:red'>g</span><span style='color:red'>u</span><span style='color:red'>a</span><span style='color:red'>g</span><span style='color:red'>e</span><span style='color:red'>s</span><span style='color:red'> </span><span style='color:red'>S</span><span style='color:red'>e</span><span style='color:red'>e</span><span style='color:red'> </span><span style='color:red'>a</span><span style='color:red'>l</span><span style='color:red'>s</span><span style='color:red'>o</span><span style='color:red'>:</span><span style='color:red'> </span><span style='color:red'>L</span><span style='color:red'>a</span><span style='color:red'>n</span><span style='color:red'>g</span><span style='color:red'>u</span><span style='color:red'>a</span><span style='color:red'>g</span><span style='color:red'>e</span><span style='color:red'>s</span><span style='color:red'> </span><span style='color:red'>o</span><span style='color:red'>f</span><span style='color:red'> </span><span style='color:red'>C</span><span style='color:red'>h</span><span style='color:red'>i</span><span style='color:red'>n</span><span style='color:red'>a</span><span style='color:red'> </span><span style='color:red'>-</span><span style='color:red'>-</span>"
      ],
      "text/plain": [
       "<IPython.core.display.HTML object>"
      ]
     },
     "metadata": {},
     "output_type": "display_data"
    }
   ],
   "source": [
    "example = swipe_dataset['test_id'][1]  \n",
    "\n",
    "device = torch.device(\"cuda\" if torch.cuda.is_available() else \"cpu\")\n",
    "\n",
    "inputs = tokenizer(example['r_content'], return_tensors=\"pt\", truncation=True, padding=\"max_length\", max_length=512)\n",
    "inputs = {key: value.to(device) for key, value in inputs.items()}\n",
    "\n",
    "output_ids = model.generate(\n",
    "    **inputs, \n",
    "    #max_new_tokens = 50,\n",
    "    max_length=512, \n",
    "    min_length=50, \n",
    "    length_penalty=1.0, \n",
    ")\n",
    "simplified_text = tokenizer.decode(output_ids[0], skip_special_tokens=True)\n",
    "print(f\"Original: {example['r_content']}\", end='\\n\\n')\n",
    "print(f\"Simplified: \")\n",
    "print(simplified_text, end='\\n\\n')\n",
    "print(f\"Simplified (highlighted): \")\n",
    "display(HTML(highlight_diff(example['r_content'],simplified_text)))"
   ]
  },
  {
   "cell_type": "code",
   "execution_count": 21,
   "id": "27d1294b-095c-41a8-b5bf-84c50983ad07",
   "metadata": {},
   "outputs": [
    {
     "name": "stderr",
     "output_type": "stream",
     "text": [
      "100%|███████████████████████████████████████████| 483/483 [08:26<00:00,  1.05s/it]\n"
     ]
    }
   ],
   "source": [
    "from tqdm import tqdm\n",
    "\n",
    "predictions = []\n",
    "references = []  \n",
    "\n",
    "device = torch.device(\"cuda\" if torch.cuda.is_available() else \"cpu\")\n",
    "\n",
    "for example in tqdm(swipe_dataset['test_id']):\n",
    "    # tokenize the text\n",
    "    input_ids = tokenizer(example['r_content'], return_tensors=\"pt\", truncation=True, padding=\"max_length\", max_length=512)\n",
    "    # move input_ids to the same device as the model\n",
    "    input_ids = {key: value.to(device) for key, value in input_ids.items()}\n",
    "    \n",
    "    # generate prediction\n",
    "    output_ids = model.generate(**input_ids,max_length = 512, min_length=50, length_penalty=1.0) #max_length=200, min_length=50,\n",
    "    simplified_text = tokenizer.decode(output_ids[0], skip_special_tokens=True)\n",
    "    \n",
    "    predictions.append(simplified_text)\n",
    "    references.append(example['s_content'])"
   ]
  },
  {
   "cell_type": "code",
   "execution_count": 22,
   "id": "d42cb243-c684-4d07-872c-4a0593cc3367",
   "metadata": {},
   "outputs": [
    {
     "data": {
      "text/html": [
       "<div>\n",
       "<style scoped>\n",
       "    .dataframe tbody tr th:only-of-type {\n",
       "        vertical-align: middle;\n",
       "    }\n",
       "\n",
       "    .dataframe tbody tr th {\n",
       "        vertical-align: top;\n",
       "    }\n",
       "\n",
       "    .dataframe thead th {\n",
       "        text-align: right;\n",
       "    }\n",
       "</style>\n",
       "<table border=\"1\" class=\"dataframe\">\n",
       "  <thead>\n",
       "    <tr style=\"text-align: right;\">\n",
       "      <th></th>\n",
       "      <th>text</th>\n",
       "      <th>reference</th>\n",
       "      <th>prediction</th>\n",
       "    </tr>\n",
       "  </thead>\n",
       "  <tbody>\n",
       "    <tr>\n",
       "      <th>0</th>\n",
       "      <td>The term jargon may have the following meaning...</td>\n",
       "      <td>Jargon is a special way to use words that are ...</td>\n",
       "      <td>The term jargon may have the following meaning...</td>\n",
       "    </tr>\n",
       "    <tr>\n",
       "      <th>1</th>\n",
       "      <td>Russian (Russkij yazyk, Русский язык) is the m...</td>\n",
       "      <td>Russian (русский язык (russkij yazyk)) is the ...</td>\n",
       "      <td>Russian (Russkij yazyk, Русский язык) is the m...</td>\n",
       "    </tr>\n",
       "    <tr>\n",
       "      <th>2</th>\n",
       "      <td>Great Britain, also called Britain, is an isla...</td>\n",
       "      <td>Great Britain is the main part of the United K...</td>\n",
       "      <td>Great Britain, also called Britain, is an isla...</td>\n",
       "    </tr>\n",
       "    <tr>\n",
       "      <th>3</th>\n",
       "      <td>Transport, or transportation (as it is called ...</td>\n",
       "      <td>Transport is the movement of people and things...</td>\n",
       "      <td>Transport, or transportation (as it is called ...</td>\n",
       "    </tr>\n",
       "    <tr>\n",
       "      <th>4</th>\n",
       "      <td>Stockholm (help·info) (IPA: ['stɔkhɔlm]; UN/LO...</td>\n",
       "      <td>Stockholm is the capital of Sweden. It is loca...</td>\n",
       "      <td>Stockholm (help·info) (IPA: ['stɔkhɔlm]; UN/LO...</td>\n",
       "    </tr>\n",
       "  </tbody>\n",
       "</table>\n",
       "</div>"
      ],
      "text/plain": [
       "                                                text  \\\n",
       "0  The term jargon may have the following meaning...   \n",
       "1  Russian (Russkij yazyk, Русский язык) is the m...   \n",
       "2  Great Britain, also called Britain, is an isla...   \n",
       "3  Transport, or transportation (as it is called ...   \n",
       "4  Stockholm (help·info) (IPA: ['stɔkhɔlm]; UN/LO...   \n",
       "\n",
       "                                           reference  \\\n",
       "0  Jargon is a special way to use words that are ...   \n",
       "1  Russian (русский язык (russkij yazyk)) is the ...   \n",
       "2  Great Britain is the main part of the United K...   \n",
       "3  Transport is the movement of people and things...   \n",
       "4  Stockholm is the capital of Sweden. It is loca...   \n",
       "\n",
       "                                          prediction  \n",
       "0  The term jargon may have the following meaning...  \n",
       "1  Russian (Russkij yazyk, Русский язык) is the m...  \n",
       "2  Great Britain, also called Britain, is an isla...  \n",
       "3  Transport, or transportation (as it is called ...  \n",
       "4  Stockholm (help·info) (IPA: ['stɔkhɔlm]; UN/LO...  "
      ]
     },
     "execution_count": 22,
     "metadata": {},
     "output_type": "execute_result"
    }
   ],
   "source": [
    "df_results = pd.DataFrame({\n",
    "    'text': swipe_dataset['test_id']['r_content'],\n",
    "    'reference': swipe_dataset['test_id']['s_content'],\n",
    "    'prediction': predictions\n",
    "})\n",
    "\n",
    "df_results.to_csv(\"../data/predictions_bart-large-swipe-asset-combined.csv\", index=False)\n",
    "df_results.head()"
   ]
  },
  {
   "cell_type": "markdown",
   "id": "58d23ddc-adee-4331-9338-91948e6c7863",
   "metadata": {},
   "source": [
    "# SARI score"
   ]
  },
  {
   "cell_type": "code",
   "execution_count": 23,
   "id": "6fd7df93-a257-4d6e-bfcf-85458bf9142a",
   "metadata": {},
   "outputs": [
    {
     "name": "stderr",
     "output_type": "stream",
     "text": [
      "/tmp/1097110.1.all.q/ipykernel_2628587/1243258573.py:4: FutureWarning: load_metric is deprecated and will be removed in the next major version of datasets. Use 'evaluate.load' instead, from the new library 🤗 Evaluate: https://huggingface.co/docs/evaluate\n",
      "  sari_metric = load_metric(\"sari\")\n",
      "100%|███████████████████████████████████████████| 483/483 [00:12<00:00, 39.95it/s]\n"
     ]
    }
   ],
   "source": [
    "from datasets import load_metric\n",
    "import pandas as pd\n",
    "\n",
    "sari_metric = load_metric(\"sari\")\n",
    "sari_scores = []\n",
    "\n",
    "for index, row in tqdm(df_results.iterrows(), total=len(df_results)):\n",
    "    r_content = row['text'] \n",
    "    s_content = row['reference']  \n",
    "    prediction = row['prediction']  \n",
    "    \n",
    "    sari_score = sari_metric.compute(\n",
    "        sources=[r_content],\n",
    "        predictions=[prediction],\n",
    "        references=[[s_content]] \n",
    "    )\n",
    "    \n",
    "    sari_scores.append(sari_score['sari'])"
   ]
  },
  {
   "cell_type": "markdown",
   "id": "b6922585-33fd-40f5-9975-98a657346e32",
   "metadata": {},
   "source": [
    "## validation: ASSET only"
   ]
  },
  {
   "cell_type": "code",
   "execution_count": 19,
   "id": "d6cbcbc7-4e03-4477-a7cc-8af588e7d887",
   "metadata": {},
   "outputs": [
    {
     "data": {
      "image/png": "[encoded data removed]",
      "text/plain": [
       "<Figure size 1000x600 with 1 Axes>"
      ]
     },
     "metadata": {},
     "output_type": "display_data"
    }
   ],
   "source": [
    "import matplotlib.pyplot as plt\n",
    "\n",
    "plt.figure(figsize=(10, 6))\n",
    "plt.hist(sari_scores, bins=20, color='skyblue', edgecolor='black')\n",
    "plt.title('Distribution of SARI Scores', fontsize=16, fontweight='bold')\n",
    "plt.xlabel('SARI Score', fontsize=14)\n",
    "plt.ylabel('Number of Texts', fontsize=14)\n",
    "plt.grid(axis='y', linestyle='--', alpha=0.7)\n",
    "plt.show()"
   ]
  },
  {
   "cell_type": "code",
   "execution_count": 20,
   "id": "c42e47a2-cad6-401d-8202-7ac03e470a82",
   "metadata": {},
   "outputs": [
    {
     "name": "stdout",
     "output_type": "stream",
     "text": [
      "Overall SARI score:  47.99488613033185\n"
     ]
    }
   ],
   "source": [
    "import numpy as np\n",
    "\n",
    "print(\"Overall SARI score: \", np.mean(sari_scores))"
   ]
  },
  {
   "cell_type": "markdown",
   "id": "457c6c3a-7cfa-439e-b900-7cbc72c1b1b4",
   "metadata": {},
   "source": [
    "## Combined"
   ]
  },
  {
   "cell_type": "code",
   "execution_count": 24,
   "id": "59953a95-ae78-4fe9-bf0b-cbc215c595f8",
   "metadata": {},
   "outputs": [
    {
     "data": {
      "image/png": "[encoded data removed]",
      "text/plain": [
       "<Figure size 1000x600 with 1 Axes>"
      ]
     },
     "metadata": {},
     "output_type": "display_data"
    }
   ],
   "source": [
    "import matplotlib.pyplot as plt\n",
    "\n",
    "plt.figure(figsize=(10, 6))\n",
    "plt.hist(sari_scores, bins=20, color='skyblue', edgecolor='black')\n",
    "plt.title('Distribution of SARI Scores', fontsize=16, fontweight='bold')\n",
    "plt.xlabel('SARI Score', fontsize=14)\n",
    "plt.ylabel('Number of Texts', fontsize=14)\n",
    "plt.grid(axis='y', linestyle='--', alpha=0.7)\n",
    "plt.show()"
   ]
  },
  {
   "cell_type": "code",
   "execution_count": 25,
   "id": "215d0b94-081b-4aeb-b3de-86464243ec5a",
   "metadata": {},
   "outputs": [
    {
     "name": "stdout",
     "output_type": "stream",
     "text": [
      "Overall SARI score:  47.9358993447983\n"
     ]
    }
   ],
   "source": [
    "import numpy as np\n",
    "\n",
    "print(\"Overall SARI score: \", np.mean(sari_scores))"
   ]
  },
  {
   "cell_type": "markdown",
   "id": "6d678875-62b3-440e-88d0-a5f3da928a8e",
   "metadata": {},
   "source": [
    "# EASSE SARI"
   ]
  },
  {
   "cell_type": "code",
   "execution_count": 26,
   "id": "8715ead7-962e-4f9f-b84d-e169127d6906",
   "metadata": {},
   "outputs": [
    {
     "name": "stderr",
     "output_type": "stream",
     "text": [
      "100%|██████████████████████████████████████████| 483/483 [00:00<00:00, 535.57it/s]\n"
     ]
    }
   ],
   "source": [
    "import sys,os\n",
    "sys.path.append('../easse')\n",
    "\n",
    "from easse.sari import corpus_sari\n",
    "\n",
    "\n",
    "sari_scores_easse = []\n",
    "\n",
    "for index, row in tqdm(df_results.iterrows(), total=len(df_results)):\n",
    "    r_content = row['text'] \n",
    "    s_content = row['reference']  \n",
    "    prediction = row['prediction']  \n",
    "    \n",
    "    sari_score = corpus_sari(\n",
    "        orig_sents=[r_content],\n",
    "        sys_sents=[prediction],\n",
    "        refs_sents=[[s_content]] \n",
    "    )\n",
    "    \n",
    "    sari_scores_easse.append(sari_score)"
   ]
  },
  {
   "cell_type": "markdown",
   "id": "23e7c292-94e0-4012-ab6f-67b4cb07e28b",
   "metadata": {},
   "source": [
    "## Validation: ASSET only"
   ]
  },
  {
   "cell_type": "code",
   "execution_count": 22,
   "id": "1222394f-141f-4366-8293-78501f9345a4",
   "metadata": {},
   "outputs": [
    {
     "data": {
      "image/png": "[encoded data removed]",
      "text/plain": [
       "<Figure size 1000x600 with 1 Axes>"
      ]
     },
     "metadata": {},
     "output_type": "display_data"
    }
   ],
   "source": [
    "import matplotlib.pyplot as plt\n",
    "\n",
    "plt.figure(figsize=(10, 6))\n",
    "plt.hist(sari_scores_easse, bins=20, color='skyblue', edgecolor='black')\n",
    "plt.title('Distribution of SARI Scores', fontsize=16, fontweight='bold')\n",
    "plt.xlabel('SARI Score', fontsize=14)\n",
    "plt.ylabel('Number of Texts', fontsize=14)\n",
    "plt.grid(axis='y', linestyle='--', alpha=0.7)\n",
    "plt.show()"
   ]
  },
  {
   "cell_type": "code",
   "execution_count": 23,
   "id": "5c0a2fa3-488b-4bae-b057-d9689b197e1c",
   "metadata": {},
   "outputs": [
    {
     "name": "stdout",
     "output_type": "stream",
     "text": [
      "Overall SARI score:  39.495948687673675\n"
     ]
    }
   ],
   "source": [
    "import numpy as np\n",
    "\n",
    "print(\"Overall SARI score: \", np.mean(sari_scores_easse))"
   ]
  },
  {
   "cell_type": "markdown",
   "id": "20e473e1-a171-4839-8a3a-2cdbc5e4858a",
   "metadata": {},
   "source": [
    "## Combined"
   ]
  },
  {
   "cell_type": "code",
   "execution_count": 27,
   "id": "4326245e-4975-45f8-a728-7cfeb22b09c4",
   "metadata": {},
   "outputs": [
    {
     "data": {
      "image/png": "[encoded data removed]",
      "text/plain": [
       "<Figure size 1000x600 with 1 Axes>"
      ]
     },
     "metadata": {},
     "output_type": "display_data"
    }
   ],
   "source": [
    "import matplotlib.pyplot as plt\n",
    "\n",
    "plt.figure(figsize=(10, 6))\n",
    "plt.hist(sari_scores_easse, bins=20, color='skyblue', edgecolor='black')\n",
    "plt.title('Distribution of SARI Scores', fontsize=16, fontweight='bold')\n",
    "plt.xlabel('SARI Score', fontsize=14)\n",
    "plt.ylabel('Number of Texts', fontsize=14)\n",
    "plt.grid(axis='y', linestyle='--', alpha=0.7)\n",
    "plt.show()"
   ]
  },
  {
   "cell_type": "code",
   "execution_count": 28,
   "id": "7fc71bce-c704-46f4-ae7f-8d516ee23268",
   "metadata": {},
   "outputs": [
    {
     "name": "stdout",
     "output_type": "stream",
     "text": [
      "Overall SARI score:  39.6713938379931\n"
     ]
    }
   ],
   "source": [
    "import numpy as np\n",
    "\n",
    "print(\"Overall SARI score: \", np.mean(sari_scores_easse))"
   ]
  },
  {
   "cell_type": "markdown",
   "id": "e96abfc5-16fa-48fc-b8a6-171808bb6593",
   "metadata": {},
   "source": [
    "# Save model"
   ]
  },
  {
   "cell_type": "code",
   "execution_count": 24,
   "id": "084f8ebd-0978-4bd6-a61a-924193e99c9a",
   "metadata": {},
   "outputs": [],
   "source": [
    "#generation_config.save_pretrained(\"../models/bart-swipe/model\")\n",
    "#model.save_pretrained(\"../models/bart-swipe/model\")"
   ]
  }
 ],
 "metadata": {
  "kernelspec": {
   "display_name": "Python 3 (ipykernel)",
   "language": "python",
   "name": "python3"
  },
  "language_info": {
   "codemirror_mode": {
    "name": "ipython",
    "version": 3
   },
   "file_extension": ".py",
   "mimetype": "text/x-python",
   "name": "python",
   "nbconvert_exporter": "python",
   "pygments_lexer": "ipython3",
   "version": "3.9.18"
  }
 },
 "nbformat": 4,
 "nbformat_minor": 5
}
