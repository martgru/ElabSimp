{
 "cells": [
  {
   "cell_type": "markdown",
   "id": "44e524df-3ac9-4061-97d7-aa948fe2c175",
   "metadata": {},
   "source": [
    "# Load model"
   ]
  },
  {
   "cell_type": "code",
   "execution_count": 2,
   "id": "2e4bd939-e834-48fa-96ea-7e03efeb224f",
   "metadata": {},
   "outputs": [],
   "source": [
    "import os\n",
    "#os.environ[\"OPENAI_API_KEY\"] = \"my_key\""
   ]
  },
  {
   "cell_type": "code",
   "execution_count": 3,
   "id": "5a566eaa-9db5-4d5a-a965-e21e3809bbe0",
   "metadata": {},
   "outputs": [],
   "source": [
    "from openai import OpenAI \n",
    "import os\n",
    "\n",
    "MODEL=\"gpt-4o\"\n",
    "client = OpenAI(api_key=os.environ.get(\"OPENAI_API_KEY\"))"
   ]
  },
  {
   "cell_type": "markdown",
   "id": "61b3ab05-8212-41e9-b416-f9e4d26ab8f2",
   "metadata": {},
   "source": [
    "# Load data"
   ]
  },
  {
   "cell_type": "code",
   "execution_count": 36,
   "id": "e4e8561d-2aa7-4aae-8fab-1c597d1e345a",
   "metadata": {},
   "outputs": [
    {
     "name": "stdout",
     "output_type": "stream",
     "text": [
      "DatasetDict({\n",
      "    train: Dataset({\n",
      "        features: ['doc_num', 'source_text', 'label_text', 'elaboration_sentence', 'contextual_specificity_rating'],\n",
      "        num_rows: 1049\n",
      "    })\n",
      "    validation: Dataset({\n",
      "        features: ['doc_num', 'source_text', 'label_text', 'elaboration_sentence', 'contextual_specificity_rating'],\n",
      "        num_rows: 134\n",
      "    })\n",
      "    test: Dataset({\n",
      "        features: ['doc_num', 'source_text', 'label_text', 'elaboration_sentence', 'contextual_specificity_rating'],\n",
      "        num_rows: 116\n",
      "    })\n",
      "})\n"
     ]
    }
   ],
   "source": [
    "from datasets import load_dataset\n",
    "import os\n",
    "\n",
    "data_path = \"../data/elaborations\"\n",
    "\n",
    "data_files_c2spo = {\n",
    "    'train': os.path.join(data_path,\"train\",\"train_ds_c2spo.csv\"),      \n",
    "    'validation': os.path.join(data_path,\"validation\",\"valid_ds_c2spo.csv\"),  \n",
    "    'test': os.path.join(data_path,\"test\",\"test_ds_c2spo.csv\")         \n",
    "}\n",
    "\n",
    "data_files_c2sp = {\n",
    "    'train': os.path.join(data_path,\"train\",\"train_ds_c2sp.csv\"),      \n",
    "    'validation': os.path.join(data_path,\"validation\",\"valid_ds_c2sp.csv\"),  \n",
    "    'test': os.path.join(data_path,\"test\",\"test_ds_c2sp.csv\")         \n",
    "}\n",
    "\n",
    "dataset = load_dataset('csv', data_files=data_files_c2spo)\n",
    "print(dataset)"
   ]
  },
  {
   "cell_type": "markdown",
   "id": "3eaed9ea-1d37-4be7-a733-07f5fe2edb24",
   "metadata": {
    "jp-MarkdownHeadingCollapsed": true
   },
   "source": [
    "### Create dataframes"
   ]
  },
  {
   "cell_type": "code",
   "execution_count": 19,
   "id": "a34b6358-535d-4d84-b617-9cb4f65782b8",
   "metadata": {},
   "outputs": [],
   "source": [
    "import pandas as pd\n",
    "import os\n",
    "\n",
    "df_train_spo = pd.DataFrame({\n",
    "    \"source_text\": dataset[\"train\"][\"source_text\"],\n",
    "    \"elaboration_sentence\": dataset[\"train\"][\"elaboration_sentence\"]\n",
    "})\n",
    "\n",
    "df_valid_spo = pd.DataFrame({\n",
    "    \"source_text\": dataset[\"validation\"][\"source_text\"],\n",
    "    \"elaboration_sentence\": dataset[\"validation\"][\"elaboration_sentence\"]\n",
    "})\n",
    "\n",
    "df_test_spo = pd.DataFrame({\n",
    "    \"source_text\": dataset[\"test\"][\"source_text\"],\n",
    "    \"elaboration_sentence\": dataset[\"test\"][\"elaboration_sentence\"]\n",
    "})\n",
    "\n",
    "df_train_spo.to_csv(os.path.join(data_path, \"train_ds_c2spo_subjects_targets.csv\"), index=False)\n",
    "df_valid_spo.to_csv(os.path.join(data_path, \"validation_ds_c2spo_subjects_targets.csv\"), index=False)\n",
    "df_test_spo.to_csv(os.path.join(data_path, \"test_ds_c2spo_subjects_targets.csv\"), index=False)"
   ]
  },
  {
   "cell_type": "markdown",
   "id": "4fc96ed3-bd19-4c47-bd82-4b5d3be999c0",
   "metadata": {
    "jp-MarkdownHeadingCollapsed": true
   },
   "source": [
    "### Add columns"
   ]
  },
  {
   "cell_type": "code",
   "execution_count": 5,
   "id": "a982cc25-c7f8-4f61-a87d-8fd7ea29dc72",
   "metadata": {},
   "outputs": [],
   "source": [
    "import pandas as pd\n",
    "import os\n",
    "\n",
    "df_train_s = pd.read_csv(os.path.join(data_path, \"train_ds_s_subjects_targets.csv\"))\n",
    "df_train_sp = pd.read_csv(os.path.join(data_path, \"train_ds_sp_subjects_targets.csv\"))\n",
    "df_train_spo = pd.read_csv(os.path.join(data_path, \"train_ds_c2spo_subjects_targets.csv\"))\n",
    "\n",
    "\n",
    "df_valid_s = pd.read_csv(os.path.join(data_path, \"validation_ds_s_subjects_targets.csv\"))\n",
    "df_valid_sp = pd.read_csv(os.path.join(data_path, \"validation_ds_sp_subjects_targets.csv\"))\n",
    "df_valid_spo = pd.read_csv(os.path.join(data_path, \"validation_ds_c2spo_subjects_targets.csv\"))\n",
    "\n",
    "df_test_s = pd.read_csv(os.path.join(data_path, \"test_ds_s_subjects_targets.csv\"))\n",
    "df_test_sp = pd.read_csv(os.path.join(data_path, \"test_ds_sp_subjects_targets.csv\"))\n",
    "df_test_spo = pd.read_csv(os.path.join(data_path, \"test_ds_c2spo_subjects_targets.csv\"))\n",
    "\n",
    "df_train = df_train_spo\n",
    "df_valid = df_valid_spo\n",
    "df_test = df_test_spo\n",
    "\n",
    "col_name = \"target_sentence_4o\"\n",
    "\n",
    "dataset[\"train\"] = dataset[\"train\"].add_column(col_name, df_train[col_name])\n",
    "dataset[\"validation\"] = dataset[\"validation\"].add_column(col_name, df_valid[col_name])\n",
    "dataset[\"test\"] = dataset[\"test\"].add_column(col_name, df_test[col_name])"
   ]
  },
  {
   "cell_type": "markdown",
   "id": "350d2b8d-1fe5-4722-a8d7-baf28ef6550b",
   "metadata": {},
   "source": [
    "# Prompt and messages"
   ]
  },
  {
   "cell_type": "code",
   "execution_count": 44,
   "id": "a86bad76-df38-4b72-b274-cf90f0f5ecf3",
   "metadata": {},
   "outputs": [],
   "source": [
    "SYSTEM_PROMPT_SUBJECT = \"\"\"You are an expert in identifying the subject of the provided explanation sentence based on the context text. \n",
    "If the subject of the explanation sentence is a **pronoun (e.g., \"it,\" \"they,\" \"he,\" \"she\")**, determine what the pronoun refers to within the context.\n",
    "The subject MUST be written as a concise phrase (not as a complete sentence), and it MUST be found in the context text (it does not need to appear in the explanation sentence itself).\n",
    "\"\"\"\n",
    "\n",
    "SYSTEM_PROMPT_TARGET = \"\"\"You are an expert in identifying the target phrase that provided explanation sentence is clarifying. \n",
    "Return the main phrase which explanation sentence is referring to.\n",
    "The phrase must appear in the context text, but does not need to be present in the explanation sentence itself.\n",
    "\"\"\"\n",
    "\n",
    "SYSTEM_PROMPT_TARGET_SENT = \"\"\"\n",
    "You are an expert in identifying the sentence that the provided explanation sentence is clarifying. \n",
    "First, determine what question the explanation sentence is answering, and based on that, identify the sentence within the context text (sentences surrounding the explanation sentence) that the question could be asked about.\n",
    "Return the sentence from the context text that the explanation sentence is clarifying.\n",
    "\"\"\"\n",
    "\n",
    "SYSTEM_PROMPT_TARGET_SENT_TARGET = \"\"\"\n",
    "You are an expert in identifying the target phrase in a given sentence that is being clarified by the accompanying explanation sentence.\n",
    "\"\"\"\n",
    "\n",
    "SYSTEM_PROMPT_ELAB = \"\"\"You are an expert in clarifying unclear or complex terms and concepts in a given text. Your task is as follows:  \n",
    "1. Identify ***the target sentence** that requires clarification.  \n",
    "2. Specify **the exact phrase** within that sentence that needs clarification. \n",
    "3. Determine the **type of clarification** that should be added. Choose from the following categories:  \n",
    "- **Definition**: Provide a clear and concise definition of the term or concept.  \n",
    "- **Example**: Offer one or more examples that illustrate the meaning of the term or concept.  \n",
    "- **Background**: Provide relevant background knowledge or general statements to give context.  \n",
    "- **Flow**: Describe the sequence or flow of actions to make the events clearer and easier to follow.  \n",
    "- **Reason**: Explain the reason behind an action or occurrence.  \n",
    "- **Result**: Clarify the outcome or result of an action or occurrence.  \n",
    "- **Speculation**: Offer a possible outcome, assumption, or hypothesis, such as \"what would happen if...\" scenarios.  \n",
    "- **Other**: If the clarification does not fit into the above categories, specify what kind of clarification you are providing. \n",
    "4. Based on the above's, generate **ONE concise explanation sentence** (made up of 10 words or fewer) that provides additional information related to the identified target sentence and phrase.  \n",
    "The explanation sentence should be clear, plain, and simple in tone!\"\"\"\n",
    "\n",
    "#Return the sentence from the context text that the explanation sentence is clarifying."
   ]
  },
  {
   "cell_type": "markdown",
   "id": "a89c99c6-931c-4be6-80b0-9cbf203c0709",
   "metadata": {},
   "source": [
    "# Turn examples into ChatML format"
   ]
  },
  {
   "cell_type": "code",
   "execution_count": 37,
   "id": "aa846036-a384-494f-9fc2-0b3b7fa4d8b2",
   "metadata": {},
   "outputs": [
    {
     "data": {
      "application/vnd.jupyter.widget-view+json": {
       "model_id": "35bf1b0c7e7a4db8a611a7f44fc8e7c9",
       "version_major": 2,
       "version_minor": 0
      },
      "text/plain": [
       "Map:   0%|          | 0/1049 [00:00<?, ? examples/s]"
      ]
     },
     "metadata": {},
     "output_type": "display_data"
    },
    {
     "data": {
      "application/vnd.jupyter.widget-view+json": {
       "model_id": "fc2382d6f0184285bb577be04a8aa843",
       "version_major": 2,
       "version_minor": 0
      },
      "text/plain": [
       "Map:   0%|          | 0/134 [00:00<?, ? examples/s]"
      ]
     },
     "metadata": {},
     "output_type": "display_data"
    },
    {
     "data": {
      "application/vnd.jupyter.widget-view+json": {
       "model_id": "de5e619adf4e4ae28b9ed8db17054fb3",
       "version_major": 2,
       "version_minor": 0
      },
      "text/plain": [
       "Map:   0%|          | 0/116 [00:00<?, ? examples/s]"
      ]
     },
     "metadata": {},
     "output_type": "display_data"
    }
   ],
   "source": [
    "def format_subject_example(example):\n",
    "    return {\n",
    "        \"messages\": [\n",
    "            {\"role\": \"system\", \"content\": SYSTEM_PROMPT_SUBJECT},\n",
    "            {\"role\": \"user\", \"content\":  \"Identify the subject of the following explanation sentence: '{}' within the given text: '{}'\".format(\n",
    "    example[\"elaboration_sentence\"], example[\"source_text\"])}, #example[\"label_text\"])},\n",
    "        ]\n",
    "    }\n",
    "\n",
    "def format_target_example(example):\n",
    "    return {\n",
    "        \"messages\": [\n",
    "            {\"role\": \"system\", \"content\": SYSTEM_PROMPT_TARGET},\n",
    "            {\"role\": \"user\", \"content\":  \"Identify the target of the following explanation sentence: '{}' within the given text: '{}'\".format(\n",
    "    example[\"elaboration_sentence\"], example[\"label_text\"])},\n",
    "        ]\n",
    "    }\n",
    "\n",
    "def format_target_sent_example(example):\n",
    "    return {\n",
    "        \"messages\": [\n",
    "            {\"role\": \"system\", \"content\": SYSTEM_PROMPT_TARGET_INFO},\n",
    "            {\"role\": \"user\", \"content\":  \"Identify the target sentence that the following explanation: '{}' is clarifying within the given text: '{}'\".format(\n",
    "    example[\"elaboration_sentence\"], example[\"label_text\"])},\n",
    "        ]\n",
    "    }\n",
    "\n",
    "def format_target_sent_target_example(example):\n",
    "    return {\n",
    "        \"messages\": [\n",
    "            {\"role\": \"system\", \"content\": SYSTEM_PROMPT_TARGET_SENT_TARGET},\n",
    "            {\"role\": \"user\", \"content\":  \"Identify the target phrase in the {} that is being clarified by the explanation sentence: '{}'\".format(\n",
    "    example[\"target_sentence_4o\"], example[\"elaboration_sentence\"])},\n",
    "        ]\n",
    "    }\n",
    "\n",
    "# for complex input text\n",
    "def format_target_sent_complex_example(example):\n",
    "    return {\n",
    "        \"messages\": [\n",
    "            {\"role\": \"system\", \"content\": SYSTEM_PROMPT_TARGET_SENT},\n",
    "            {\"role\": \"user\", \"content\":  \"Identify the target sentence that the following explanation: '{}' is clarifying within the given text: '{}'\".format(\n",
    "    example[\"elaboration_sentence\"], example[\"source_text\"])},\n",
    "        ]\n",
    "    }\n",
    "\n",
    "def format_elab_example(example):\n",
    "    return {\n",
    "        \"messages\": [\n",
    "            {\"role\": \"system\", \"content\": SYSTEM_PROMPT_ELAB},\n",
    "            {\"role\": \"user\", \"content\":  \"Identify the sentence and specific phrase in the given text: '{}' that need clarification. Then, specify the type of clarificatio needed and generate one concise explanation sentence.\".format(\n",
    "    example[\"source_text\"])},\n",
    "        ]\n",
    "    }\n",
    "    \n",
    "formatted_train_dataset = dataset[\"train\"].map(format_elab_example)\n",
    "formatted_validation_dataset = dataset[\"validation\"].map(format_elab_example)\n",
    "formatted_test_dataset = dataset[\"test\"].map(format_elab_example)"
   ]
  },
  {
   "cell_type": "code",
   "execution_count": 38,
   "id": "22b32250-469b-402b-b836-2fb9cb346a5b",
   "metadata": {},
   "outputs": [
    {
     "data": {
      "text/plain": [
       "{'content': \"Identify the sentence and specific phrase in the given text: 'The new companies in town require workers with a college degree or advanced training. But the turnaround will take more than just new companies moving to town; New Haven needs to invest in educating its youth so they will be qualified to do those high-skilled jobs when they become adults. The New Haven Promise is no one-way street. The goal is to create an expectation that all students can and will attend college.' that need clarification. Then, specify the type of clarificatio needed and generate one concise explanation sentence.\",\n",
       " 'role': 'user'}"
      ]
     },
     "execution_count": 38,
     "metadata": {},
     "output_type": "execute_result"
    }
   ],
   "source": [
    "formatted_test_dataset[0][\"messages\"][1]"
   ]
  },
  {
   "cell_type": "markdown",
   "id": "e2bad9b9-49d2-421d-9860-b519688523b0",
   "metadata": {},
   "source": [
    "# Identify subjects of elaborations\n",
    "\n",
    "Analyze the subjects to explore the types of elaboration sentences."
   ]
  },
  {
   "cell_type": "code",
   "execution_count": 16,
   "id": "1e623f1e-1425-40cb-84c1-698fe6cc3dce",
   "metadata": {},
   "outputs": [],
   "source": [
    "import re\n",
    "\n",
    "def extract_target_sentence(response: str) -> str:\n",
    "    \"\"\"\n",
    "    Extract the target_sentence from the model's response.\n",
    "    \"\"\"\n",
    "    match = re.search(r\"target_sentence='(.*?)'\", response)\n",
    "    if match:\n",
    "        return match.group(1) \n",
    "    else:\n",
    "        raise ValueError(\"target_sentence not found.\")"
   ]
  },
  {
   "cell_type": "markdown",
   "id": "c18e5492-e7d2-4b47-a96b-1c85a96dfd98",
   "metadata": {},
   "source": [
    "## Examples"
   ]
  },
  {
   "cell_type": "markdown",
   "id": "7df9ce1b-6695-4a8f-9dc7-c17a6bfe5faf",
   "metadata": {},
   "source": [
    "### Subject"
   ]
  },
  {
   "cell_type": "code",
   "execution_count": 33,
   "id": "126d98f8-124d-4b5e-84bb-25c49a2aa950",
   "metadata": {},
   "outputs": [
    {
     "name": "stdout",
     "output_type": "stream",
     "text": [
      "{'content': \"Identify the subject of the following explanation sentence: 'It is not easy to relax, or to feel positive.' within the given text: 'In Philadelphia, there's a 50 percent higher prevalence of smoking among the poor than among the non-poor, according to Giridhar Mallya, director of policy and planning for the Philadelphia Department of Public Health. The morality of buying cigarettes when you're poor is complicated. The poor smoke to manage high levels of stress and depression, Mallya said, as much a part of poverty as empty pockets. It's also harder for the poor to get smoking-cessation counseling and nicotine patches than others who may receive help through insurance, experts said.'\", 'role': 'user'}\n",
      "\n",
      "subject='the poor'\n"
     ]
    }
   ],
   "source": [
    "import random \n",
    "example = random.choice(formatted_test_dataset)\n",
    "print(example[\"messages\"][1],end=\"\\n\\n\")\n",
    "\n",
    "completion = client.beta.chat.completions.parse(\n",
    "  model=MODEL,\n",
    "  messages=example[\"messages\"],\n",
    "    response_format= ExplanationTarget,\n",
    ")\n",
    "\n",
    "response = completion.choices[0].message.parsed\n",
    "print(response)"
   ]
  },
  {
   "cell_type": "markdown",
   "id": "f7cc4d47-1597-491a-9479-af8918a9d445",
   "metadata": {},
   "source": [
    "### Target phrase"
   ]
  },
  {
   "cell_type": "code",
   "execution_count": 19,
   "id": "4e01dffc-bc0e-4b51-9f04-79af549579a0",
   "metadata": {},
   "outputs": [
    {
     "name": "stdout",
     "output_type": "stream",
     "text": [
      "subject='drones'\n"
     ]
    }
   ],
   "source": [
    "example = \"Identify the target phrase in the following text: '{}' that is being clarified by the explanation sentence: '{}'\".format(\n",
    "    dataset[\"test\"][100][\"source_text\"], dataset[\"test\"][100][\"elaboration_sentence\"])\n",
    "\n",
    "completion = client.beta.chat.completions.parse(\n",
    "  model=MODEL,\n",
    "  messages=[\n",
    "    {\"role\": \"system\", \"content\": SYSTEM_PROMPT_TARGET_SENT_TARGET}, \n",
    "    {\"role\": \"user\", \"content\": example }  \n",
    "  ],\n",
    "    response_format= ExplanationTarget,\n",
    ")\n",
    "\n",
    "response = completion.choices[0].message.parsed\n",
    "print(response)"
   ]
  },
  {
   "cell_type": "markdown",
   "id": "a73f9701-e1d1-4b9e-bc7f-1f64e718abf2",
   "metadata": {},
   "source": [
    "### Elaboration"
   ]
  },
  {
   "cell_type": "code",
   "execution_count": 19,
   "id": "ae9660d1-1f62-400a-a566-c5c18d78f881",
   "metadata": {},
   "outputs": [],
   "source": [
    "import random\n",
    "\n",
    "seed = 42\n",
    "sample_size = 50 \n",
    "random_sample_dataset = formatted_test_dataset.shuffle(seed=seed).select(range(sample_size))"
   ]
  },
  {
   "cell_type": "code",
   "execution_count": 18,
   "id": "c7575fec-a713-40d6-aa64-a44c75eacefb",
   "metadata": {},
   "outputs": [
    {
     "data": {
      "text/plain": [
       "Dataset({\n",
       "    features: ['doc_num', 'source_text', 'label_text', 'elaboration_sentence', 'contextual_specificity_rating', 'messages'],\n",
       "    num_rows: 50\n",
       "})"
      ]
     },
     "execution_count": 18,
     "metadata": {},
     "output_type": "execute_result"
    }
   ],
   "source": [
    "random_sample_dataset"
   ]
  },
  {
   "cell_type": "code",
   "execution_count": 13,
   "id": "7b6e3255-83f8-49f9-86ec-0d276a8b2013",
   "metadata": {},
   "outputs": [
    {
     "name": "stdout",
     "output_type": "stream",
     "text": [
      "{'content': \"Identify the sentence and specific phrase in the given text: 'He said hate toward Roma people remains widespread there. His people still suffer unfair and insulting treatment, he said. They are also the first to be fired. He said that when poor Romani villagers come to Berlin, they find only overcrowded apartments.' that need clarification. Then, specify the type of clarificatio needed and generate one concise explanation sentence.\", 'role': 'user'}\n",
      "\n",
      "target_sentence='His people still suffer unfair and insulting treatment, he said.' target_phrase='unfair and insulting treatment' clarification_type='Example' explanation_sentence='Discrimination in housing and employment are common examples.'\n"
     ]
    }
   ],
   "source": [
    "import random \n",
    "from pydantic import BaseModel\n",
    "\n",
    "example = random.choice(random_sample_dataset)\n",
    "print(example[\"messages\"][1],end=\"\\n\\n\")\n",
    "\n",
    "\n",
    "class ExplanationTarget(BaseModel):\n",
    "    target_sentence: str\n",
    "    target_phrase: str\n",
    "    clarification_type: str\n",
    "    explanation_sentence: str\n",
    "\n",
    "completion = client.beta.chat.completions.parse(\n",
    "  model=MODEL,\n",
    "  messages=example[\"messages\"],\n",
    "    response_format= ExplanationTarget,\n",
    ")\n",
    "\n",
    "response = completion.choices[0].message.parsed\n",
    "print(response)"
   ]
  },
  {
   "cell_type": "code",
   "execution_count": 40,
   "id": "abcaf05f-6c43-4a98-9c7f-1ca58453488c",
   "metadata": {},
   "outputs": [],
   "source": [
    "df_results = pd.DataFrame({\n",
    "    \"doc_num\": formatted_test_dataset[\"doc_num\"],\n",
    "    \"source_text\" : formatted_test_dataset[\"source_text\"],\n",
    "    \"label_text\" : formatted_test_dataset[\"label_text\"],\n",
    "    \"elaboration_sentence\":formatted_test_dataset[\"elaboration_sentence\"],\n",
    "    \"response\":\"\",\n",
    "    \"pred_elaboration\":\"\",\n",
    "    \"target_sentence_target\": \"\",\n",
    "    \"target_sentence_4o\":\"\",\n",
    "    \"clarification_category\":\"\",\n",
    "    \n",
    "})\n",
    "\n",
    "df_results.to_csv(f\"../data/elaborations/{split}_ds_c2spo_gpt4o_elab_preds_targets.csv\", index=False)"
   ]
  },
  {
   "cell_type": "markdown",
   "id": "09b24523-6564-4625-823b-f3c464092a12",
   "metadata": {
    "jp-MarkdownHeadingCollapsed": true
   },
   "source": [
    "## Get subjects, targets and elaboration info"
   ]
  },
  {
   "cell_type": "code",
   "execution_count": 20,
   "id": "63c2bed5-4b55-4cf4-9713-66604712284d",
   "metadata": {},
   "outputs": [
    {
     "data": {
      "application/vnd.jupyter.widget-view+json": {
       "model_id": "98a129f5064e46ae83b80c881ec0769a",
       "version_major": 2,
       "version_minor": 0
      },
      "text/plain": [
       "  0%|          | 0/1049 [00:00<?, ?it/s]"
      ]
     },
     "metadata": {},
     "output_type": "display_data"
    }
   ],
   "source": [
    "import pandas as pd\n",
    "from tqdm.notebook import tqdm\n",
    "\n",
    "splits = [\"train\",\"validation\",\"test\"]\n",
    "split = \"train\"\n",
    "\n",
    "df_results = pd.read_csv(f\"../data/elaborations/{split}_ds_c2spo_subjects_targets.csv\")\n",
    "\n",
    "formatted_dataset = formatted_train_dataset\n",
    "column_name = \"target-phrase\"\n",
    "df_results[column_name] = \"\" #df_results[column_name].fillna(\"\")\n",
    "\n",
    "for idx, example in tqdm(enumerate(formatted_dataset),total=len(formatted_dataset)):\n",
    "    if df_results.at[idx,column_name]==\"\":\n",
    "        completion = client.chat.completions.create(model=MODEL,messages=example[\"messages\"])\n",
    "        df_results.at[idx,column_name] = completion.choices[0].message.content"
   ]
  },
  {
   "cell_type": "code",
   "execution_count": 24,
   "id": "33e66a9a-6f7a-4640-a912-18b7fa8fe3ac",
   "metadata": {},
   "outputs": [],
   "source": [
    "df_results.rename(columns={\"target-phrase\":\"elaboration-info\"},inplace=True)"
   ]
  },
  {
   "cell_type": "code",
   "execution_count": 28,
   "id": "6a597370-20d6-48b3-914b-df7f8c1adb00",
   "metadata": {},
   "outputs": [],
   "source": [
    "df_results.to_csv(f\"../data/elaborations/{split}_ds_c2spo_subjects_targets.csv\", index=False)"
   ]
  },
  {
   "cell_type": "markdown",
   "id": "d90dda3e-6d0e-44fb-8417-5c91169054c8",
   "metadata": {},
   "source": [
    "## Get target sentences for elaborations in specified response format"
   ]
  },
  {
   "cell_type": "code",
   "execution_count": 23,
   "id": "a1747402-08c4-4f2d-82cd-b12339b07fbb",
   "metadata": {},
   "outputs": [],
   "source": [
    "from pydantic import BaseModel\n",
    "\n",
    "# for elaboration targets identification\n",
    "class ExplanationTarget(BaseModel):\n",
    "    #explanation_sentence: str\n",
    "    subject: str\n",
    "    #target_sentence: str\n",
    "    #target_phrase: str\n",
    "\n",
    "# for elaboration generation\n",
    "class ExplanationTarget(BaseModel):\n",
    "    target_sentence: str\n",
    "    target_phrase: str\n",
    "    clarification_type: str\n",
    "    explanation_sentence: str"
   ]
  },
  {
   "cell_type": "code",
   "execution_count": 29,
   "id": "ee55e333-b75d-4368-835e-17db10e01875",
   "metadata": {},
   "outputs": [
    {
     "data": {
      "text/plain": [
       "Dataset({\n",
       "    features: ['doc_num', 'source_text', 'label_text', 'elaboration_sentence', 'contextual_specificity_rating', 'messages'],\n",
       "    num_rows: 116\n",
       "})"
      ]
     },
     "execution_count": 29,
     "metadata": {},
     "output_type": "execute_result"
    }
   ],
   "source": [
    "formatted_test_dataset"
   ]
  },
  {
   "cell_type": "code",
   "execution_count": 41,
   "id": "60b871e9-fff5-4f46-8eba-89c8a217d852",
   "metadata": {},
   "outputs": [
    {
     "data": {
      "application/vnd.jupyter.widget-view+json": {
       "model_id": "ebbd451fad7e44108d2f5f3cc8884362",
       "version_major": 2,
       "version_minor": 0
      },
      "text/plain": [
       "  0%|          | 0/116 [00:00<?, ?it/s]"
      ]
     },
     "metadata": {},
     "output_type": "display_data"
    }
   ],
   "source": [
    "import pandas as pd\n",
    "from tqdm.notebook import tqdm\n",
    "\n",
    "split = \"test\"\n",
    "#df_results = pd.read_csv(f\"../data/elaborations/{split}_ds_c2spo_subjects_targets.csv\")\n",
    "df_results = pd.read_csv(f\"../data/elaborations/{split}_ds_c2spo_gpt4o_elab_preds_targets.csv\")\n",
    "column_name = \"response\" # column_names : \"subject \" \"target_sentence_4o\", \"target_sentence_target\"\n",
    "#df_results[column_name] = \"\"\n",
    "df_results[column_name] = df_results[column_name].fillna(\"\")\n",
    "formatted_dataset = formatted_test_dataset\n",
    "\n",
    "for idx, example in tqdm(enumerate(formatted_dataset),total=len(formatted_dataset)):\n",
    "    if df_results.at[idx,column_name] == \"\":\n",
    "        completion = client.beta.chat.completions.parse(model=MODEL,messages=example[\"messages\"],response_format=ExplanationTarget)\n",
    "        df_results.at[idx,column_name] = completion.choices[0].message.parsed"
   ]
  },
  {
   "cell_type": "code",
   "execution_count": 43,
   "id": "a9ec5bc5-4eb1-4763-8b1f-81b677bfbc63",
   "metadata": {},
   "outputs": [],
   "source": [
    "df_results.to_csv(f\"../data/elaborations/{split}_ds_c2spo_gpt4o_elab_preds_targets.csv\", index=False)"
   ]
  },
  {
   "cell_type": "markdown",
   "id": "46f44604-243b-46a2-aad1-2ce5b3c91363",
   "metadata": {},
   "source": [
    "# Save results"
   ]
  },
  {
   "cell_type": "code",
   "execution_count": 52,
   "id": "562d69e5-b2cc-4e56-bbc4-e227f8c98560",
   "metadata": {},
   "outputs": [
    {
     "data": {
      "text/plain": [
       "0"
      ]
     },
     "execution_count": 52,
     "metadata": {},
     "output_type": "execute_result"
    }
   ],
   "source": [
    "len(df_results[df_results[column_name]==\"\"])"
   ]
  },
  {
   "cell_type": "code",
   "execution_count": 53,
   "id": "093891bb-4a6c-442b-a5a9-87f7804fe21f",
   "metadata": {},
   "outputs": [
    {
     "name": "stdout",
     "output_type": "stream",
     "text": [
      "They come in all shapes and sizes, but usually look like helicopters.\n",
      "\n",
      "target_phrase='Drones'\n"
     ]
    }
   ],
   "source": [
    "idx= 100\n",
    "print(df_results.loc[idx,\"elaboration_sentence\"], end=\"\\n\\n\")\n",
    "print(df_results.loc[idx, column_name])"
   ]
  },
  {
   "cell_type": "code",
   "execution_count": 23,
   "id": "62963548-545e-48d1-9f79-af04ddbf818a",
   "metadata": {
    "scrolled": true
   },
   "outputs": [
    {
     "data": {
      "text/html": [
       "<div>\n",
       "<style scoped>\n",
       "    .dataframe tbody tr th:only-of-type {\n",
       "        vertical-align: middle;\n",
       "    }\n",
       "\n",
       "    .dataframe tbody tr th {\n",
       "        vertical-align: top;\n",
       "    }\n",
       "\n",
       "    .dataframe thead th {\n",
       "        text-align: right;\n",
       "    }\n",
       "</style>\n",
       "<table border=\"1\" class=\"dataframe\">\n",
       "  <thead>\n",
       "    <tr style=\"text-align: right;\">\n",
       "      <th></th>\n",
       "      <th>source_text</th>\n",
       "      <th>elaboration_sentence</th>\n",
       "      <th>target_sentence_4o</th>\n",
       "      <th>target_sentence_target</th>\n",
       "    </tr>\n",
       "  </thead>\n",
       "  <tbody>\n",
       "    <tr>\n",
       "      <th>0</th>\n",
       "      <td>Instead of using what money it had to provide ...</td>\n",
       "      <td>But he kept making weapons in secret.</td>\n",
       "      <td>target_sentence='North Korea decided to spend ...</td>\n",
       "      <td>target_phrase='spend more on nuclear weapons'</td>\n",
       "    </tr>\n",
       "    <tr>\n",
       "      <th>1</th>\n",
       "      <td>California was able to keep open all of its 28...</td>\n",
       "      <td>Repairs and mowing cannot happen as often.</td>\n",
       "      <td>target_sentence=\"Even with the private help, v...</td>\n",
       "      <td>target_phrase='maintenance reductions'</td>\n",
       "    </tr>\n",
       "    <tr>\n",
       "      <th>2</th>\n",
       "      <td>National parks in 2011 generated $13 billion i...</td>\n",
       "      <td>The entrances were blocked by snow.</td>\n",
       "      <td>target_sentence='Local businesses from tourism...</td>\n",
       "      <td>target_phrase='snowy park entrances'</td>\n",
       "    </tr>\n",
       "    <tr>\n",
       "      <th>3</th>\n",
       "      <td>BALTIMORE\"Some of springtime's more notable he...</td>\n",
       "      <td>They did this for nine years.</td>\n",
       "      <td>target_sentence=\"Some of springtime's more not...</td>\n",
       "      <td>target_phrase='a new study'</td>\n",
       "    </tr>\n",
       "    <tr>\n",
       "      <th>4</th>\n",
       "      <td>Currently, nearly half a million acres of land...</td>\n",
       "      <td>That is a larger area than Los Angeles and New...</td>\n",
       "      <td>target_sentence='Currently, nearly half a mill...</td>\n",
       "      <td>target_phrase='nearly half a million acres of ...</td>\n",
       "    </tr>\n",
       "    <tr>\n",
       "      <th>...</th>\n",
       "      <td>...</td>\n",
       "      <td>...</td>\n",
       "      <td>...</td>\n",
       "      <td>...</td>\n",
       "    </tr>\n",
       "    <tr>\n",
       "      <th>129</th>\n",
       "      <td>California sea lions were exploited in the 19t...</td>\n",
       "      <td>The hunting nearly wiped them out.</td>\n",
       "      <td>target_sentence='California sea lions were exp...</td>\n",
       "      <td>target_phrase='California sea lions were explo...</td>\n",
       "    </tr>\n",
       "    <tr>\n",
       "      <th>130</th>\n",
       "      <td>Left unchanged, the supply of skilled workers ...</td>\n",
       "      <td>It's a cruel situation.</td>\n",
       "      <td>target_sentence='Left unchanged, the supply of...</td>\n",
       "      <td>target_phrase='the supply of skilled workers w...</td>\n",
       "    </tr>\n",
       "    <tr>\n",
       "      <th>131</th>\n",
       "      <td>Some of Mexico's largest export farms have act...</td>\n",
       "      <td>Workers also are being paid more quickly.</td>\n",
       "      <td>target_sentence='Some of Mexico\\'s largest exp...</td>\n",
       "      <td>target_phrase='reforming pay methods'</td>\n",
       "    </tr>\n",
       "    <tr>\n",
       "      <th>132</th>\n",
       "      <td>One thing is clear: Wal-Mart and other U.S. re...</td>\n",
       "      <td>The farms are located all over Mexico.</td>\n",
       "      <td>target_sentence=\"It can be a difficult task, e...</td>\n",
       "      <td>target_phrase='scattered in remote locations'</td>\n",
       "    </tr>\n",
       "    <tr>\n",
       "      <th>133</th>\n",
       "      <td>\"When you go down to these places, you basical...</td>\n",
       "      <td>Often, the farm owners simply hide problems, Z...</td>\n",
       "      <td>target_sentence='\"You\\'re relying entirely on ...</td>\n",
       "      <td>target_phrase='company and their openness and ...</td>\n",
       "    </tr>\n",
       "  </tbody>\n",
       "</table>\n",
       "<p>134 rows × 4 columns</p>\n",
       "</div>"
      ],
      "text/plain": [
       "                                           source_text  \\\n",
       "0    Instead of using what money it had to provide ...   \n",
       "1    California was able to keep open all of its 28...   \n",
       "2    National parks in 2011 generated $13 billion i...   \n",
       "3    BALTIMORE\"Some of springtime's more notable he...   \n",
       "4    Currently, nearly half a million acres of land...   \n",
       "..                                                 ...   \n",
       "129  California sea lions were exploited in the 19t...   \n",
       "130  Left unchanged, the supply of skilled workers ...   \n",
       "131  Some of Mexico's largest export farms have act...   \n",
       "132  One thing is clear: Wal-Mart and other U.S. re...   \n",
       "133  \"When you go down to these places, you basical...   \n",
       "\n",
       "                                  elaboration_sentence  \\\n",
       "0                But he kept making weapons in secret.   \n",
       "1           Repairs and mowing cannot happen as often.   \n",
       "2                  The entrances were blocked by snow.   \n",
       "3                        They did this for nine years.   \n",
       "4    That is a larger area than Los Angeles and New...   \n",
       "..                                                 ...   \n",
       "129                 The hunting nearly wiped them out.   \n",
       "130                            It's a cruel situation.   \n",
       "131          Workers also are being paid more quickly.   \n",
       "132             The farms are located all over Mexico.   \n",
       "133  Often, the farm owners simply hide problems, Z...   \n",
       "\n",
       "                                    target_sentence_4o  \\\n",
       "0    target_sentence='North Korea decided to spend ...   \n",
       "1    target_sentence=\"Even with the private help, v...   \n",
       "2    target_sentence='Local businesses from tourism...   \n",
       "3    target_sentence=\"Some of springtime's more not...   \n",
       "4    target_sentence='Currently, nearly half a mill...   \n",
       "..                                                 ...   \n",
       "129  target_sentence='California sea lions were exp...   \n",
       "130  target_sentence='Left unchanged, the supply of...   \n",
       "131  target_sentence='Some of Mexico\\'s largest exp...   \n",
       "132  target_sentence=\"It can be a difficult task, e...   \n",
       "133  target_sentence='\"You\\'re relying entirely on ...   \n",
       "\n",
       "                                target_sentence_target  \n",
       "0        target_phrase='spend more on nuclear weapons'  \n",
       "1               target_phrase='maintenance reductions'  \n",
       "2                 target_phrase='snowy park entrances'  \n",
       "3                          target_phrase='a new study'  \n",
       "4    target_phrase='nearly half a million acres of ...  \n",
       "..                                                 ...  \n",
       "129  target_phrase='California sea lions were explo...  \n",
       "130  target_phrase='the supply of skilled workers w...  \n",
       "131              target_phrase='reforming pay methods'  \n",
       "132      target_phrase='scattered in remote locations'  \n",
       "133  target_phrase='company and their openness and ...  \n",
       "\n",
       "[134 rows x 4 columns]"
      ]
     },
     "execution_count": 23,
     "metadata": {},
     "output_type": "execute_result"
    }
   ],
   "source": [
    "df_results"
   ]
  },
  {
   "cell_type": "code",
   "execution_count": 55,
   "id": "21772fa1-d4be-4a4c-8123-cc1f5c5db9e6",
   "metadata": {},
   "outputs": [],
   "source": [
    "df_results.to_csv(\"../data/elaborations/test_ds_sp_subjects_targets.csv\", index=False)"
   ]
  },
  {
   "cell_type": "markdown",
   "id": "608ce0d9-c87b-4a06-aa32-4bce43955b35",
   "metadata": {},
   "source": [
    "## Create additional df for prior-context only datasets"
   ]
  },
  {
   "cell_type": "code",
   "execution_count": 56,
   "id": "f0300077-9139-4d8e-8d98-5887b58b6a9e",
   "metadata": {},
   "outputs": [
    {
     "data": {
      "text/plain": [
       "'df = pd.DataFrame({\\n    \"source_text\" : dataset[split][\"source_text\"],\\n    \"label_text\" : dataset[split][\"label_text\"],\\n    \"elaboration_sentence\":dataset[split][\"elaboration_sentence\"],\\n    \\n}) '"
      ]
     },
     "execution_count": 56,
     "metadata": {},
     "output_type": "execute_result"
    }
   ],
   "source": [
    "import pandas as pd\n",
    "from tqdm.notebook import tqdm\n",
    "\n",
    "split = \"test\"\n",
    "dataset = load_dataset('csv', data_files=data_files_c2s)\n",
    "df_sp = pd.read_csv(f\"../data/elaborations/{split}_ds_sp_subjects_targets.csv\")\n",
    "df_sp = df_sp.drop_duplicates(subset=\"elaboration_sentence\", keep=\"first\")\n",
    "df = pd.read_csv(f\"../data/elaborations/{split}_ds_s_subjects_targets.csv\")\n",
    "\"\"\"df = pd.DataFrame({\n",
    "    \"source_text\" : dataset[split][\"source_text\"],\n",
    "    \"label_text\" : dataset[split][\"label_text\"],\n",
    "    \"elaboration_sentence\":dataset[split][\"elaboration_sentence\"],\n",
    "    \n",
    "}) \"\"\""
   ]
  },
  {
   "cell_type": "code",
   "execution_count": 57,
   "id": "52cf6456-4d10-43e1-86b3-567c82faa8d2",
   "metadata": {},
   "outputs": [
    {
     "name": "stdout",
     "output_type": "stream",
     "text": [
      "116\n",
      "116\n"
     ]
    }
   ],
   "source": [
    "print(len(df_sp))\n",
    "print(len(df))"
   ]
  },
  {
   "cell_type": "code",
   "execution_count": null,
   "id": "36fa3fba-2918-4226-bf04-c272f8f16c3b",
   "metadata": {
    "scrolled": true
   },
   "outputs": [],
   "source": [
    "# merge the additional columns from df_sp based on elaboration_sentence\n",
    "columns_to_add = [\"target_sentence_target\"]\n",
    "#columns_to_add = [\"subject\", \"target\", \"elaboration_info\", \"target_sentence_4o\"]\n",
    "df = pd.merge(df, df_sp[[\"elaboration_sentence\"] + columns_to_add], on=\"elaboration_sentence\", how=\"left\")\n",
    "df"
   ]
  },
  {
   "cell_type": "code",
   "execution_count": 60,
   "id": "23f91f0e-df17-40bf-b182-a0b0db9799a5",
   "metadata": {},
   "outputs": [],
   "source": [
    "df.to_csv(f\"../data/elaborations/{split}_ds_s_subjects_targets.csv\")"
   ]
  },
  {
   "cell_type": "code",
   "execution_count": 59,
   "id": "d278e882-52e1-43cd-afa1-eefcd1530557",
   "metadata": {},
   "outputs": [
    {
     "name": "stdout",
     "output_type": "stream",
     "text": [
      "target_sentence='Drones are small flying aircraft.'\n",
      "\n",
      "target_phrase='Drones'\n"
     ]
    }
   ],
   "source": [
    "idx= 100\n",
    "print(df.loc[idx,\"target_sentence_4o\"], end=\"\\n\\n\")\n",
    "print(df.loc[idx, column_name])"
   ]
  }
 ],
 "metadata": {
  "kernelspec": {
   "display_name": "Python 3 (ipykernel)",
   "language": "python",
   "name": "python3"
  },
  "language_info": {
   "codemirror_mode": {
    "name": "ipython",
    "version": 3
   },
   "file_extension": ".py",
   "mimetype": "text/x-python",
   "name": "python",
   "nbconvert_exporter": "python",
   "pygments_lexer": "ipython3",
   "version": "3.9.18"
  }
 },
 "nbformat": 4,
 "nbformat_minor": 5
}
