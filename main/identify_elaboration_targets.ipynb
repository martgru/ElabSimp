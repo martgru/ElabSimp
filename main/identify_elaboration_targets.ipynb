{
 "cells": [
  {
   "cell_type": "markdown",
   "id": "44e524df-3ac9-4061-97d7-aa948fe2c175",
   "metadata": {},
   "source": [
    "# Load model"
   ]
  },
  {
   "cell_type": "code",
   "execution_count": 3,
   "id": "2e4bd939-e834-48fa-96ea-7e03efeb224f",
   "metadata": {},
   "outputs": [],
   "source": [
    "import os\n",
    "#os.environ[\"OPENAI_API_KEY\"] = \"\""
   ]
  },
  {
   "cell_type": "code",
   "execution_count": 4,
   "id": "5a566eaa-9db5-4d5a-a965-e21e3809bbe0",
   "metadata": {},
   "outputs": [],
   "source": [
    "from openai import OpenAI \n",
    "import os\n",
    "\n",
    "MODEL=\"gpt-4o\"\n",
    "client = OpenAI(api_key=os.environ.get(\"OPENAI_API_KEY\"))"
   ]
  },
  {
   "cell_type": "markdown",
   "id": "61b3ab05-8212-41e9-b416-f9e4d26ab8f2",
   "metadata": {},
   "source": [
    "# Load data"
   ]
  },
  {
   "cell_type": "code",
   "execution_count": 5,
   "id": "e4e8561d-2aa7-4aae-8fab-1c597d1e345a",
   "metadata": {},
   "outputs": [
    {
     "name": "stdout",
     "output_type": "stream",
     "text": [
      "c2spo\n"
     ]
    }
   ],
   "source": [
    "from datasets import load_dataset\n",
    "import os\n",
    "\n",
    "data_path = \"../data/elaborations\"\n",
    "\n",
    "data_files_c2spo = {\n",
    "    'train': os.path.join(data_path,\"train\",\"train_ds_c2spo.csv\"),      \n",
    "    'validation': os.path.join(data_path,\"validation\",\"valid_ds_c2spo.csv\"),  \n",
    "    'test': os.path.join(data_path,\"test\",\"test_ds_c2spo.csv\")         \n",
    "}\n",
    "\n",
    "data_files_c2sp = {\n",
    "    'train': os.path.join(data_path,\"train\",\"train_ds_c2sp.csv\"),      \n",
    "    'validation': os.path.join(data_path,\"validation\",\"valid_ds_c2sp.csv\"),  \n",
    "    'test': os.path.join(data_path,\"test\",\"test_ds_c2sp.csv\")         \n",
    "}\n",
    "\n",
    "data_files_c2s = {\n",
    "    'train': os.path.join(data_path,\"train\",\"train_ds_c2s.csv\"),      \n",
    "    'validation': os.path.join(data_path,\"validation\",\"valid_ds_c2s.csv\"),  \n",
    "    'test': os.path.join(data_path,\"test\",\"test_ds_c2s.csv\")         \n",
    "}\n",
    "\n",
    "data_files_c4s = {\n",
    "    'train': os.path.join(data_path,\"train\",\"train_ds_c4s.csv\"),      \n",
    "    'validation': os.path.join(data_path,\"validation\",\"valid_ds_c4s.csv\"),  \n",
    "    'test': os.path.join(data_path,\"test\",\"test_ds_c4s.csv\")         \n",
    "}\n",
    "\n",
    "data_files_c4sp = {\n",
    "    'train': os.path.join(data_path,\"train\",\"train_ds_c4sp.csv\"),      \n",
    "    'validation': os.path.join(data_path,\"validation\",\"valid_ds_c4sp.csv\"),  \n",
    "    'test': os.path.join(data_path,\"test\",\"test_ds_c4sp.csv\")         \n",
    "}\n",
    "\n",
    "dataset = load_dataset('csv', data_files=data_files_c2spo)\n",
    "setting = \"c2spo\"\n",
    "print(setting)"
   ]
  },
  {
   "cell_type": "markdown",
   "id": "3eaed9ea-1d37-4be7-a733-07f5fe2edb24",
   "metadata": {
    "jp-MarkdownHeadingCollapsed": true
   },
   "source": [
    "### Create dataframes"
   ]
  },
  {
   "cell_type": "code",
   "execution_count": 19,
   "id": "a34b6358-535d-4d84-b617-9cb4f65782b8",
   "metadata": {},
   "outputs": [],
   "source": [
    "import pandas as pd\n",
    "import os\n",
    "\n",
    "df_train_spo = pd.DataFrame({\n",
    "    \"source_text\": dataset[\"train\"][\"source_text\"],\n",
    "    \"elaboration_sentence\": dataset[\"train\"][\"elaboration_sentence\"]\n",
    "})\n",
    "\n",
    "df_valid_spo = pd.DataFrame({\n",
    "    \"source_text\": dataset[\"validation\"][\"source_text\"],\n",
    "    \"elaboration_sentence\": dataset[\"validation\"][\"elaboration_sentence\"]\n",
    "})\n",
    "\n",
    "df_test_spo = pd.DataFrame({\n",
    "    \"source_text\": dataset[\"test\"][\"source_text\"],\n",
    "    \"elaboration_sentence\": dataset[\"test\"][\"elaboration_sentence\"]\n",
    "})\n",
    "\n",
    "df_train_spo.to_csv(os.path.join(data_path, \"train_ds_c2spo_subjects_targets.csv\"), index=False)\n",
    "df_valid_spo.to_csv(os.path.join(data_path, \"validation_ds_c2spo_subjects_targets.csv\"), index=False)\n",
    "df_test_spo.to_csv(os.path.join(data_path, \"test_ds_c2spo_subjects_targets.csv\"), index=False)"
   ]
  },
  {
   "cell_type": "markdown",
   "id": "4fc96ed3-bd19-4c47-bd82-4b5d3be999c0",
   "metadata": {
    "jp-MarkdownHeadingCollapsed": true
   },
   "source": [
    "### Add columns"
   ]
  },
  {
   "cell_type": "code",
   "execution_count": 5,
   "id": "a982cc25-c7f8-4f61-a87d-8fd7ea29dc72",
   "metadata": {},
   "outputs": [],
   "source": [
    "import pandas as pd\n",
    "import os\n",
    "\n",
    "df_train_s = pd.read_csv(os.path.join(data_path, \"train_ds_s_subjects_targets.csv\"))\n",
    "df_train_sp = pd.read_csv(os.path.join(data_path, \"train_ds_sp_subjects_targets.csv\"))\n",
    "df_train_spo = pd.read_csv(os.path.join(data_path, \"train_ds_c2spo_subjects_targets.csv\"))\n",
    "\n",
    "\n",
    "df_valid_s = pd.read_csv(os.path.join(data_path, \"validation_ds_s_subjects_targets.csv\"))\n",
    "df_valid_sp = pd.read_csv(os.path.join(data_path, \"validation_ds_sp_subjects_targets.csv\"))\n",
    "df_valid_spo = pd.read_csv(os.path.join(data_path, \"validation_ds_c2spo_subjects_targets.csv\"))\n",
    "\n",
    "df_test_s = pd.read_csv(os.path.join(data_path, \"test_ds_s_subjects_targets.csv\"))\n",
    "df_test_sp = pd.read_csv(os.path.join(data_path, \"test_ds_sp_subjects_targets.csv\"))\n",
    "df_test_spo = pd.read_csv(os.path.join(data_path, \"test_ds_c2spo_subjects_targets.csv\"))\n",
    "\n",
    "df_train = df_train_spo\n",
    "df_valid = df_valid_spo\n",
    "df_test = df_test_spo\n",
    "\n",
    "col_name = \"target_sentence_4o\"\n",
    "\n",
    "dataset[\"train\"] = dataset[\"train\"].add_column(col_name, df_train[col_name])\n",
    "dataset[\"validation\"] = dataset[\"validation\"].add_column(col_name, df_valid[col_name])\n",
    "dataset[\"test\"] = dataset[\"test\"].add_column(col_name, df_test[col_name])"
   ]
  },
  {
   "cell_type": "markdown",
   "id": "350d2b8d-1fe5-4722-a8d7-baf28ef6550b",
   "metadata": {},
   "source": [
    "# Prompt and messages"
   ]
  },
  {
   "cell_type": "code",
   "execution_count": 6,
   "id": "a86bad76-df38-4b72-b274-cf90f0f5ecf3",
   "metadata": {},
   "outputs": [],
   "source": [
    "SYSTEM_PROMPT_SUBJECT = \"\"\"You are an expert in identifying the subject of the provided explanation sentence based on the context text. \n",
    "If the subject of the explanation sentence is a **pronoun (e.g., \"it,\" \"they,\" \"he,\" \"she\")**, determine what the pronoun refers to within the context.\n",
    "The subject MUST be written as a concise phrase (not as a complete sentence), and it MUST be found in the context text (it does not need to appear in the explanation sentence itself).\n",
    "\"\"\"\n",
    "\n",
    "SYSTEM_PROMPT_TARGET = \"\"\"You are an expert in identifying the target phrase that provided explanation sentence is clarifying. \n",
    "Return the main phrase which explanation sentence is referring to.\n",
    "The phrase must appear in the context text, but does not need to be present in the explanation sentence itself.\n",
    "\"\"\"\n",
    "\n",
    "SYSTEM_PROMPT_TARGET_SENT = \"\"\"\n",
    "You are an expert in identifying the sentence that the provided explanation sentence clarifies or refers to. \n",
    "Your task is to return the sentence from the CONTEXT TEXT, not the explanation sentence itself!\n",
    "\"\"\"\n",
    "\n",
    "SYSTEM_PROMPT_TARGET_SENT_AND_TARGET_PHRASE = \"\"\"\n",
    "You are an expert in identifying unclear or complex terms and concepts in a given text.\n",
    "Your task is to:\n",
    "1. Identify the sentence from the CONTEXT TEXT that the provided explanation sentence clarifies or refers to.\n",
    "2. Specify the exact phrase within that sentence that is being clarified.\n",
    "Return the identified sentence and the phrase from the CONTEXT TEXT, not the explanation sentence itself.\n",
    "\"\"\"\n",
    "\n",
    "SYSTEM_PROMPT_ELAB = \"\"\"You are an expert in clarifying unclear or complex terms and concepts in a given text. Your task is as follows:  \n",
    "1. Identify ***the target sentence** that requires clarification.  \n",
    "2. Specify **the exact phrase** within that sentence that needs clarification. \n",
    "3. Determine the **type of clarification** that should be added. Choose from the following categories:  \n",
    "- **Definition**: Provide a clear and concise definition of the term or concept.  \n",
    "- **Example**: Offer one or more examples that illustrate the meaning of the term or concept.  \n",
    "- **Background**: Provide relevant background knowledge or general statements to give context.  \n",
    "- **Flow**: Describe the sequence or flow of actions to make the events clearer and easier to follow.  \n",
    "- **Reason**: Explain the reason behind an action or occurrence.  \n",
    "- **Result**: Clarify the outcome or result of an action or occurrence.  \n",
    "- **Speculation**: Offer a possible outcome, assumption, or hypothesis, such as \"what would happen if...\" scenarios.  \n",
    "- **Other**: If the clarification does not fit into the above categories, specify what kind of clarification you are providing. \n",
    "4. Based on the above's, generate **ONE concise explanation sentence** (made up of 10 words or fewer) that provides additional information related to the identified target sentence and phrase.  \n",
    "The explanation sentence should be clear, plain, and simple in tone!\"\"\"\n",
    "\n",
    "#Return the sentence from the context text that the explanation sentence is clarifying."
   ]
  },
  {
   "cell_type": "markdown",
   "id": "a89c99c6-931c-4be6-80b0-9cbf203c0709",
   "metadata": {},
   "source": [
    "# Turn examples into ChatML format"
   ]
  },
  {
   "cell_type": "code",
   "execution_count": 7,
   "id": "aa846036-a384-494f-9fc2-0b3b7fa4d8b2",
   "metadata": {},
   "outputs": [],
   "source": [
    "def format_subject_example(example):\n",
    "    return {\n",
    "        \"messages\": [\n",
    "            {\"role\": \"system\", \"content\": SYSTEM_PROMPT_SUBJECT},\n",
    "            {\"role\": \"user\", \"content\":  \"Identify the subject of the following explanation sentence: '{}' within the given text: '{}'\".format(\n",
    "    example[\"elaboration_sentence\"], example[\"source_text\"])}, #example[\"label_text\"])},\n",
    "        ]\n",
    "    }\n",
    "\n",
    "def format_target_example(example):\n",
    "    return {\n",
    "        \"messages\": [\n",
    "            {\"role\": \"system\", \"content\": SYSTEM_PROMPT_TARGET},\n",
    "            {\"role\": \"user\", \"content\":  \"Identify the target of the following explanation sentence: '{}' within the given text: '{}'\".format(\n",
    "    example[\"elaboration_sentence\"], example[\"label_text\"])},\n",
    "        ]\n",
    "    }\n",
    "\n",
    "def format_target_sent_example(example):\n",
    "    return {\n",
    "        \"messages\": [\n",
    "            {\"role\": \"system\", \"content\": SYSTEM_PROMPT_TARGET_SENT},\n",
    "            {\"role\": \"user\", \"content\":  \"Identify the target sentence that the following explanation: '{}' clarifies or refers to within the given text: '{}'\".format(\n",
    "    example[\"elaboration_sentence\"], example[\"source_text\"])},\n",
    "        ]\n",
    "    }\n",
    "\n",
    "def format_target_sent_and_target_phrase_example(example):\n",
    "    return {\n",
    "        \"messages\": [\n",
    "            {\"role\": \"system\", \"content\": SYSTEM_PROMPT_TARGET_SENT_AND_TARGET_PHRASE},\n",
    "            {\"role\": \"user\", \"content\":  \"Identify the target sentence and target phrase in the context text: '{}' that is being clarified by the explanation sentence: '{}'\".format(\n",
    "    example[\"source_text\"], example[\"elaboration_sentence\"])},\n",
    "        ]\n",
    "    }\n",
    "\n",
    "# for complex input text\n",
    "def format_target_sent_complex_example(example):\n",
    "    return {\n",
    "        \"messages\": [\n",
    "            {\"role\": \"system\", \"content\": SYSTEM_PROMPT_TARGET_SENT},\n",
    "            {\"role\": \"user\", \"content\":  \"Identify the target sentence that the following explanation: '{}' is clarifying within the given text: '{}'\".format(\n",
    "    example[\"elaboration_sentence\"], example[\"source_text\"])},\n",
    "        ]\n",
    "    }\n",
    "\n",
    "def format_elab_example(example):\n",
    "    return {\n",
    "        \"messages\": [\n",
    "            {\"role\": \"system\", \"content\": SYSTEM_PROMPT_ELAB},\n",
    "            {\"role\": \"user\", \"content\":  \"Identify the sentence and specific phrase in the given text: '{}' that need clarification. Then, specify the type of clarificatio needed and generate one concise explanation sentence.\".format(\n",
    "    example[\"source_text\"])},\n",
    "        ]\n",
    "    }\n",
    "    \n",
    "formatted_train_dataset = dataset[\"train\"].map(format_target_sent_and_target_phrase_example)\n",
    "formatted_validation_dataset = dataset[\"validation\"].map(format_target_sent_and_target_phrase_example)\n",
    "formatted_test_dataset = dataset[\"test\"].map(format_target_sent_and_target_phrase_example)\n",
    "\n",
    "datasets = {\"train\":formatted_train_dataset, \"validation\":formatted_validation_dataset, \"test\":formatted_test_dataset}"
   ]
  },
  {
   "cell_type": "code",
   "execution_count": 17,
   "id": "22b32250-469b-402b-b836-2fb9cb346a5b",
   "metadata": {},
   "outputs": [
    {
     "data": {
      "text/plain": [
       "{'content': \"Identify the target sentence and target phrase in the context text: 'New companies have come that need skilled workers with more education. New Haven youth want those jobs, but they do not have the education or the skills.' that is being clarified by the explanation sentence: 'Many do not have the money to get the training they need.'\",\n",
       " 'role': 'user'}"
      ]
     },
     "execution_count": 17,
     "metadata": {},
     "output_type": "execute_result"
    }
   ],
   "source": [
    "formatted_test_dataset[0][\"messages\"][1]"
   ]
  },
  {
   "cell_type": "markdown",
   "id": "e2bad9b9-49d2-421d-9860-b519688523b0",
   "metadata": {},
   "source": [
    "# Identify subjects of elaborations\n",
    "\n",
    "Analyze the subjects to explore the types of elaboration sentences."
   ]
  },
  {
   "cell_type": "code",
   "execution_count": 16,
   "id": "1e623f1e-1425-40cb-84c1-698fe6cc3dce",
   "metadata": {},
   "outputs": [],
   "source": [
    "import re\n",
    "\n",
    "def extract_target_sentence(response: str) -> str:\n",
    "    \"\"\"\n",
    "    Extract the target_sentence from the model's response.\n",
    "    \"\"\"\n",
    "    match = re.search(r\"target_sentence='(.*?)'\", response)\n",
    "    if match:\n",
    "        return match.group(1) \n",
    "    else:\n",
    "        raise ValueError(\"target_sentence not found.\")"
   ]
  },
  {
   "cell_type": "markdown",
   "id": "c18e5492-e7d2-4b47-a96b-1c85a96dfd98",
   "metadata": {},
   "source": [
    "## Examples"
   ]
  },
  {
   "cell_type": "markdown",
   "id": "7df9ce1b-6695-4a8f-9dc7-c17a6bfe5faf",
   "metadata": {
    "jp-MarkdownHeadingCollapsed": true
   },
   "source": [
    "### Subject"
   ]
  },
  {
   "cell_type": "code",
   "execution_count": 33,
   "id": "126d98f8-124d-4b5e-84bb-25c49a2aa950",
   "metadata": {},
   "outputs": [
    {
     "name": "stdout",
     "output_type": "stream",
     "text": [
      "{'content': \"Identify the subject of the following explanation sentence: 'It is not easy to relax, or to feel positive.' within the given text: 'In Philadelphia, there's a 50 percent higher prevalence of smoking among the poor than among the non-poor, according to Giridhar Mallya, director of policy and planning for the Philadelphia Department of Public Health. The morality of buying cigarettes when you're poor is complicated. The poor smoke to manage high levels of stress and depression, Mallya said, as much a part of poverty as empty pockets. It's also harder for the poor to get smoking-cessation counseling and nicotine patches than others who may receive help through insurance, experts said.'\", 'role': 'user'}\n",
      "\n",
      "subject='the poor'\n"
     ]
    }
   ],
   "source": [
    "import random \n",
    "example = random.choice(formatted_test_dataset)\n",
    "print(example[\"messages\"][1],end=\"\\n\\n\")\n",
    "\n",
    "completion = client.beta.chat.completions.parse(\n",
    "  model=MODEL,\n",
    "  messages=example[\"messages\"],\n",
    "    response_format= ExplanationTarget,\n",
    ")\n",
    "\n",
    "response = completion.choices[0].message.parsed\n",
    "print(response)"
   ]
  },
  {
   "cell_type": "markdown",
   "id": "f7cc4d47-1597-491a-9479-af8918a9d445",
   "metadata": {
    "jp-MarkdownHeadingCollapsed": true
   },
   "source": [
    "### Target phrase"
   ]
  },
  {
   "cell_type": "code",
   "execution_count": 19,
   "id": "4e01dffc-bc0e-4b51-9f04-79af549579a0",
   "metadata": {},
   "outputs": [
    {
     "name": "stdout",
     "output_type": "stream",
     "text": [
      "subject='drones'\n"
     ]
    }
   ],
   "source": [
    "example = \"Identify the target phrase in the following text: '{}' that is being clarified by the explanation sentence: '{}'\".format(\n",
    "    dataset[\"test\"][100][\"source_text\"], dataset[\"test\"][100][\"elaboration_sentence\"])\n",
    "\n",
    "completion = client.beta.chat.completions.parse(\n",
    "  model=MODEL,\n",
    "  messages=[\n",
    "    {\"role\": \"system\", \"content\": SYSTEM_PROMPT_TARGET_SENT_TARGET}, \n",
    "    {\"role\": \"user\", \"content\": example }  \n",
    "  ],\n",
    "    response_format= ExplanationTarget,\n",
    ")\n",
    "\n",
    "response = completion.choices[0].message.parsed\n",
    "print(response)"
   ]
  },
  {
   "cell_type": "markdown",
   "id": "8b19ea7e-c890-428a-9dc9-75fd41e5c349",
   "metadata": {
    "jp-MarkdownHeadingCollapsed": true
   },
   "source": [
    "### Target sentence"
   ]
  },
  {
   "cell_type": "code",
   "execution_count": 14,
   "id": "84839fd2-9670-4a72-bb68-dd34d098b47f",
   "metadata": {},
   "outputs": [
    {
     "name": "stdout",
     "output_type": "stream",
     "text": [
      "{'content': \"Identify the target sentence and target phrase in the context text: 'He insisted that Iran's nuclear program is something it will not surrender. Analysts say Obama must be careful not to look too eager to make a deal.' that is being clarified by the explanation sentence: 'That would hurt his ability to bargain.'\", 'role': 'user'}\n",
      "\n",
      "target_sentence='Analysts say Obama must be careful not to look too eager to make a deal.' target_phrase='not to look too eager to make a deal'\n"
     ]
    }
   ],
   "source": [
    "import random \n",
    "from pydantic import BaseModel\n",
    "\n",
    "class ExplanationTarget(BaseModel):\n",
    "    target_sentence: str\n",
    "    target_phrase: str\n",
    "    \n",
    "example = random.choice(formatted_test_dataset)\n",
    "print(example[\"messages\"][1],end=\"\\n\\n\")\n",
    "\n",
    "completion = client.beta.chat.completions.parse(\n",
    "  model=MODEL,\n",
    "  messages=example[\"messages\"],\n",
    "    response_format= ExplanationTarget,\n",
    ")\n",
    "\n",
    "response = completion.choices[0].message.parsed\n",
    "print(response)"
   ]
  },
  {
   "cell_type": "markdown",
   "id": "a73f9701-e1d1-4b9e-bc7f-1f64e718abf2",
   "metadata": {
    "jp-MarkdownHeadingCollapsed": true
   },
   "source": [
    "### Elaboration"
   ]
  },
  {
   "cell_type": "code",
   "execution_count": 19,
   "id": "ae9660d1-1f62-400a-a566-c5c18d78f881",
   "metadata": {},
   "outputs": [],
   "source": [
    "import random\n",
    "\n",
    "seed = 42\n",
    "sample_size = 50 \n",
    "random_sample_dataset = formatted_test_dataset.shuffle(seed=seed).select(range(sample_size))"
   ]
  },
  {
   "cell_type": "code",
   "execution_count": 18,
   "id": "c7575fec-a713-40d6-aa64-a44c75eacefb",
   "metadata": {},
   "outputs": [
    {
     "data": {
      "text/plain": [
       "Dataset({\n",
       "    features: ['doc_num', 'source_text', 'label_text', 'elaboration_sentence', 'contextual_specificity_rating', 'messages'],\n",
       "    num_rows: 50\n",
       "})"
      ]
     },
     "execution_count": 18,
     "metadata": {},
     "output_type": "execute_result"
    }
   ],
   "source": [
    "random_sample_dataset"
   ]
  },
  {
   "cell_type": "code",
   "execution_count": 13,
   "id": "7b6e3255-83f8-49f9-86ec-0d276a8b2013",
   "metadata": {},
   "outputs": [
    {
     "name": "stdout",
     "output_type": "stream",
     "text": [
      "{'content': \"Identify the sentence and specific phrase in the given text: 'He said hate toward Roma people remains widespread there. His people still suffer unfair and insulting treatment, he said. They are also the first to be fired. He said that when poor Romani villagers come to Berlin, they find only overcrowded apartments.' that need clarification. Then, specify the type of clarificatio needed and generate one concise explanation sentence.\", 'role': 'user'}\n",
      "\n",
      "target_sentence='His people still suffer unfair and insulting treatment, he said.' target_phrase='unfair and insulting treatment' clarification_type='Example' explanation_sentence='Discrimination in housing and employment are common examples.'\n"
     ]
    }
   ],
   "source": [
    "import random \n",
    "from pydantic import BaseModel\n",
    "\n",
    "example = random.choice(random_sample_dataset)\n",
    "print(example[\"messages\"][1],end=\"\\n\\n\")\n",
    "\n",
    "\n",
    "class ExplanationTarget(BaseModel):\n",
    "    target_sentence: str\n",
    "    target_phrase: str\n",
    "    clarification_type: str\n",
    "    explanation_sentence: str\n",
    "\n",
    "completion = client.beta.chat.completions.parse(\n",
    "  model=MODEL,\n",
    "  messages=example[\"messages\"],\n",
    "    response_format= ExplanationTarget,\n",
    ")\n",
    "\n",
    "response = completion.choices[0].message.parsed\n",
    "print(response)"
   ]
  },
  {
   "cell_type": "code",
   "execution_count": 40,
   "id": "abcaf05f-6c43-4a98-9c7f-1ca58453488c",
   "metadata": {},
   "outputs": [],
   "source": [
    "df_results = pd.DataFrame({\n",
    "    \"doc_num\": formatted_test_dataset[\"doc_num\"],\n",
    "    \"source_text\" : formatted_test_dataset[\"source_text\"],\n",
    "    \"label_text\" : formatted_test_dataset[\"label_text\"],\n",
    "    \"elaboration_sentence\":formatted_test_dataset[\"elaboration_sentence\"],\n",
    "    \"response\":\"\",\n",
    "    \"pred_elaboration\":\"\",\n",
    "    \"target_sentence_target\": \"\",\n",
    "    \"target_sentence_4o\":\"\",\n",
    "    \"clarification_category\":\"\",\n",
    "    \n",
    "})\n",
    "\n",
    "df_results.to_csv(f\"../data/elaborations/{split}_ds_c2spo_gpt4o_elab_preds_targets.csv\", index=False)"
   ]
  },
  {
   "cell_type": "markdown",
   "id": "628f9cf1-5def-4c22-8167-0441236ab1dc",
   "metadata": {},
   "source": [
    "## Create elaboration targets df"
   ]
  },
  {
   "cell_type": "code",
   "execution_count": 11,
   "id": "730bd09b-40ac-4042-9764-5d456866ffa0",
   "metadata": {},
   "outputs": [
    {
     "name": "stdout",
     "output_type": "stream",
     "text": [
      "c2spo\n"
     ]
    }
   ],
   "source": [
    "import pandas as pd\n",
    "splits = [\"train\",\"validation\",\"test\"]\n",
    "\n",
    "for split in splits:\n",
    "    df_results = pd.DataFrame({\n",
    "        \"doc_num\": datasets[split][\"doc_num\"],\n",
    "        \"source_text\" : datasets[split][\"source_text\"],\n",
    "        \"label_text\" : datasets[split][\"label_text\"],\n",
    "        \"elaboration_sentence\":datasets[split][\"elaboration_sentence\"],\n",
    "        \"response\":\"\",\n",
    "        \"target_sentence_4o\":\"\",\n",
    "        \"target_sentence_target\":\"\",\n",
    "    })\n",
    "    df_results.to_csv(f\"../data/elaborations/{split}_ds_{setting}_elab_targets.csv\", index=False)\n",
    "print(setting)"
   ]
  },
  {
   "cell_type": "markdown",
   "id": "09b24523-6564-4625-823b-f3c464092a12",
   "metadata": {
    "jp-MarkdownHeadingCollapsed": true
   },
   "source": [
    "## Get subjects, targets and elaboration info"
   ]
  },
  {
   "cell_type": "code",
   "execution_count": 20,
   "id": "63c2bed5-4b55-4cf4-9713-66604712284d",
   "metadata": {},
   "outputs": [
    {
     "data": {
      "application/vnd.jupyter.widget-view+json": {
       "model_id": "98a129f5064e46ae83b80c881ec0769a",
       "version_major": 2,
       "version_minor": 0
      },
      "text/plain": [
       "  0%|          | 0/1049 [00:00<?, ?it/s]"
      ]
     },
     "metadata": {},
     "output_type": "display_data"
    }
   ],
   "source": [
    "import pandas as pd\n",
    "from tqdm.notebook import tqdm\n",
    "\n",
    "splits = [\"train\",\"validation\",\"test\"]\n",
    "split = \"train\"\n",
    "\n",
    "df_results = pd.read_csv(f\"../data/elaborations/{split}_ds_c2spo_subjects_targets.csv\")\n",
    "\n",
    "formatted_dataset = formatted_train_dataset\n",
    "column_name = \"target-phrase\"\n",
    "df_results[column_name] = \"\" #df_results[column_name].fillna(\"\")\n",
    "\n",
    "for idx, example in tqdm(enumerate(formatted_dataset),total=len(formatted_dataset)):\n",
    "    if df_results.at[idx,column_name]==\"\":\n",
    "        completion = client.chat.completions.create(model=MODEL,messages=example[\"messages\"])\n",
    "        df_results.at[idx,column_name] = completion.choices[0].message.content"
   ]
  },
  {
   "cell_type": "code",
   "execution_count": 24,
   "id": "33e66a9a-6f7a-4640-a912-18b7fa8fe3ac",
   "metadata": {},
   "outputs": [],
   "source": [
    "df_results.rename(columns={\"target-phrase\":\"elaboration-info\"},inplace=True)"
   ]
  },
  {
   "cell_type": "code",
   "execution_count": 28,
   "id": "6a597370-20d6-48b3-914b-df7f8c1adb00",
   "metadata": {},
   "outputs": [],
   "source": [
    "df_results.to_csv(f\"../data/elaborations/{split}_ds_c2spo_subjects_targets.csv\", index=False)"
   ]
  },
  {
   "cell_type": "markdown",
   "id": "d90dda3e-6d0e-44fb-8417-5c91169054c8",
   "metadata": {},
   "source": [
    "## Get target sentences for elaborations in specified response format"
   ]
  },
  {
   "cell_type": "code",
   "execution_count": 23,
   "id": "a1747402-08c4-4f2d-82cd-b12339b07fbb",
   "metadata": {},
   "outputs": [],
   "source": [
    "from pydantic import BaseModel\n",
    "\n",
    "# for elaboration targets identification\n",
    "class ExplanationTarget(BaseModel):\n",
    "    #explanation_sentence: str\n",
    "    subject: str\n",
    "    #target_sentence: str\n",
    "    #target_phrase: str\n",
    "\n",
    "# for elaboration generation\n",
    "class ExplanationTarget(BaseModel):\n",
    "    target_sentence: str\n",
    "    target_phrase: str\n",
    "    #clarification_type: str\n",
    "    #explanation_sentence: str"
   ]
  },
  {
   "cell_type": "code",
   "execution_count": null,
   "id": "60b871e9-fff5-4f46-8eba-89c8a217d852",
   "metadata": {},
   "outputs": [],
   "source": [
    "import pandas as pd\n",
    "from tqdm.notebook import tqdm\n",
    "from pydantic import BaseModel\n",
    "\n",
    "class ExplanationTarget(BaseModel):\n",
    "    target_sentence: str\n",
    "    target_phrase: str\n",
    "\n",
    "splits = [\"train\",\"validation\",\"test\"]\n",
    "\n",
    "for split in splits:\n",
    "    df_results = pd.read_csv(f\"../data/elaborations/{split}_ds_{setting}_elab_targets.csv\")\n",
    "    #df_results = pd.read_csv(f\"../data/elaborations/{split}_ds_c2spo_gpt4o_elab_preds_targets.csv\")\n",
    "    column_name = \"response\" # column_names : \"subject \" \"target_sentence_4o\", \"target_sentence_target\"\n",
    "    df_results[column_name] = df_results[column_name].fillna(\"\")\n",
    "    formatted_dataset = datasets[split]\n",
    "    \n",
    "    for idx, example in tqdm(enumerate(formatted_dataset),total=len(formatted_dataset)):\n",
    "        if df_results.at[idx,column_name] == \"\":\n",
    "            try:\n",
    "                completion = client.beta.chat.completions.parse(model=MODEL,messages=example[\"messages\"],response_format=ExplanationTarget)\n",
    "                df_results.at[idx,column_name] = completion.choices[0].message.parsed\n",
    "                df_results.to_csv(f\"../data/elaborations/{split}_ds_{setting}_elab_targets.csv\",index=False)\n",
    "            except Exception as e:\n",
    "                print(f\"{e} for index {idx} in {split}\")\n",
    "                df_results.at[idx, column_name] = \"filtered\""
   ]
  },
  {
   "cell_type": "markdown",
   "id": "46f44604-243b-46a2-aad1-2ce5b3c91363",
   "metadata": {},
   "source": [
    "# Save results"
   ]
  },
  {
   "cell_type": "code",
   "execution_count": 52,
   "id": "562d69e5-b2cc-4e56-bbc4-e227f8c98560",
   "metadata": {},
   "outputs": [
    {
     "data": {
      "text/plain": [
       "0"
      ]
     },
     "execution_count": 52,
     "metadata": {},
     "output_type": "execute_result"
    }
   ],
   "source": [
    "len(df_results[df_results[column_name]==\"\"])"
   ]
  },
  {
   "cell_type": "code",
   "execution_count": 55,
   "id": "21772fa1-d4be-4a4c-8123-cc1f5c5db9e6",
   "metadata": {},
   "outputs": [],
   "source": [
    "df_results.to_csv(\"../data/elaborations/test_ds_sp_subjects_targets.csv\", index=False)"
   ]
  },
  {
   "cell_type": "markdown",
   "id": "608ce0d9-c87b-4a06-aa32-4bce43955b35",
   "metadata": {
    "jp-MarkdownHeadingCollapsed": true
   },
   "source": [
    "## Create additional df for prior-context only datasets"
   ]
  },
  {
   "cell_type": "code",
   "execution_count": 56,
   "id": "f0300077-9139-4d8e-8d98-5887b58b6a9e",
   "metadata": {},
   "outputs": [
    {
     "data": {
      "text/plain": [
       "'df = pd.DataFrame({\\n    \"source_text\" : dataset[split][\"source_text\"],\\n    \"label_text\" : dataset[split][\"label_text\"],\\n    \"elaboration_sentence\":dataset[split][\"elaboration_sentence\"],\\n    \\n}) '"
      ]
     },
     "execution_count": 56,
     "metadata": {},
     "output_type": "execute_result"
    }
   ],
   "source": [
    "import pandas as pd\n",
    "from tqdm.notebook import tqdm\n",
    "\n",
    "split = \"test\"\n",
    "dataset = load_dataset('csv', data_files=data_files_c2s)\n",
    "df_sp = pd.read_csv(f\"../data/elaborations/{split}_ds_sp_subjects_targets.csv\")\n",
    "df_sp = df_sp.drop_duplicates(subset=\"elaboration_sentence\", keep=\"first\")\n",
    "df = pd.read_csv(f\"../data/elaborations/{split}_ds_s_subjects_targets.csv\")\n",
    "\"\"\"df = pd.DataFrame({\n",
    "    \"source_text\" : dataset[split][\"source_text\"],\n",
    "    \"label_text\" : dataset[split][\"label_text\"],\n",
    "    \"elaboration_sentence\":dataset[split][\"elaboration_sentence\"],\n",
    "    \n",
    "}) \"\"\""
   ]
  },
  {
   "cell_type": "code",
   "execution_count": 57,
   "id": "52cf6456-4d10-43e1-86b3-567c82faa8d2",
   "metadata": {},
   "outputs": [
    {
     "name": "stdout",
     "output_type": "stream",
     "text": [
      "116\n",
      "116\n"
     ]
    }
   ],
   "source": [
    "print(len(df_sp))\n",
    "print(len(df))"
   ]
  },
  {
   "cell_type": "code",
   "execution_count": null,
   "id": "36fa3fba-2918-4226-bf04-c272f8f16c3b",
   "metadata": {
    "scrolled": true
   },
   "outputs": [],
   "source": [
    "# merge the additional columns from df_sp based on elaboration_sentence\n",
    "columns_to_add = [\"target_sentence_target\"]\n",
    "#columns_to_add = [\"subject\", \"target\", \"elaboration_info\", \"target_sentence_4o\"]\n",
    "df = pd.merge(df, df_sp[[\"elaboration_sentence\"] + columns_to_add], on=\"elaboration_sentence\", how=\"left\")\n",
    "df"
   ]
  },
  {
   "cell_type": "code",
   "execution_count": 60,
   "id": "23f91f0e-df17-40bf-b182-a0b0db9799a5",
   "metadata": {},
   "outputs": [],
   "source": [
    "df.to_csv(f\"../data/elaborations/{split}_ds_s_subjects_targets.csv\")"
   ]
  },
  {
   "cell_type": "code",
   "execution_count": 59,
   "id": "d278e882-52e1-43cd-afa1-eefcd1530557",
   "metadata": {},
   "outputs": [
    {
     "name": "stdout",
     "output_type": "stream",
     "text": [
      "target_sentence='Drones are small flying aircraft.'\n",
      "\n",
      "target_phrase='Drones'\n"
     ]
    }
   ],
   "source": [
    "idx= 100\n",
    "print(df.loc[idx,\"target_sentence_4o\"], end=\"\\n\\n\")\n",
    "print(df.loc[idx, column_name])"
   ]
  },
  {
   "cell_type": "markdown",
   "id": "053cb7bd-592a-483b-a423-f0a92c21532a",
   "metadata": {},
   "source": [
    "# Check the targets"
   ]
  },
  {
   "cell_type": "code",
   "execution_count": 10,
   "id": "6d2ca839-6bbb-44f7-9097-f70e7e4b08d4",
   "metadata": {},
   "outputs": [
    {
     "name": "stdout",
     "output_type": "stream",
     "text": [
      "../data/elaborations/validation_ds_c4spo_elab_targets.csv\n"
     ]
    }
   ],
   "source": [
    "import pandas as pd\n",
    "\n",
    "split = \"validation\"\n",
    "setting = \"c4spo\"\n",
    "filename = f\"../data/elaborations/{split}_ds_{setting}_elab_targets.csv\" #f\"../data/elaborations/{split}_ds_{setting}_subjects_targets.csv\"#f\"../data/elaborations/{split}_ds_{setting}_elab_targets.csv\"\n",
    "df_t = pd.read_csv(filename)\n",
    "print(filename)"
   ]
  },
  {
   "cell_type": "markdown",
   "id": "f77d61e8-62c7-4c98-9e97-58558eb519d9",
   "metadata": {},
   "source": [
    "### Extract responses"
   ]
  },
  {
   "cell_type": "code",
   "execution_count": 4,
   "id": "228d23ea-af67-4e10-af0a-aaf4fb0c49a4",
   "metadata": {},
   "outputs": [
    {
     "name": "stdout",
     "output_type": "stream",
     "text": [
      "'He called the talk a \"fireside hangout.\"' \n",
      "'\"fireside hangout\"'\n"
     ]
    }
   ],
   "source": [
    "import re\n",
    "\n",
    "def extract_target_components(response):\n",
    "\n",
    "    target_sentence = None\n",
    "    target_phrase = None\n",
    "\n",
    "    target_sentence, target_phrase = response.split(\"target_phrase=\")\n",
    "    target_sentence = target_sentence.split(\"target_sentence=\")[1]\n",
    "\n",
    "    return target_sentence, target_phrase\n",
    "\n",
    "response = \"target_sentence='He called the talk a \\\"fireside hangout.\\\"' target_phrase='\\\"fireside hangout\\\"'\"\n",
    "target_sentence, target_phrase = extract_target_components(response)\n",
    "print(target_sentence)\n",
    "print(target_phrase)"
   ]
  },
  {
   "cell_type": "code",
   "execution_count": 11,
   "id": "471a513c-ade9-4c55-902f-17b7ad74c510",
   "metadata": {},
   "outputs": [
    {
     "data": {
      "text/plain": [
       "doc_num                     0\n",
       "source_text                 0\n",
       "label_text                134\n",
       "elaboration_sentence        0\n",
       "response                    0\n",
       "target_sentence_4o          0\n",
       "target_sentence_target      0\n",
       "dtype: int64"
      ]
     },
     "execution_count": 11,
     "metadata": {},
     "output_type": "execute_result"
    }
   ],
   "source": [
    "df_t[\"target_sentence_4o\"] = df_t[\"target_sentence_4o\"].astype(\"str\")\n",
    "df_t[\"target_sentence_target\"] = df_t[\"target_sentence_target\"].astype(\"str\")\n",
    "\n",
    "for idx, row in df_t.iterrows():\n",
    "    response = row[\"response\"]  \n",
    "    if response:\n",
    "        try: \n",
    "            target_sentence, target_phrase = extract_target_components(response)\n",
    "            df_t.at[idx, \"target_sentence_4o\"] = target_sentence\n",
    "            df_t.at[idx, \"target_sentence_target\"] = target_phrase\n",
    "        except Exception as e:\n",
    "            df_t.at[idx, \"target_sentence_4o\"] = \"\"\n",
    "            df_t.at[idx, \"target_sentence_target\"] = \"\"\n",
    "\n",
    "df_t.isnull().sum()"
   ]
  },
  {
   "cell_type": "markdown",
   "id": "68416a81-9d21-4c6d-843a-c9f9e1ff8e46",
   "metadata": {},
   "source": [
    "## Check for duplicates (target sentence vs elaboration sentence)"
   ]
  },
  {
   "cell_type": "code",
   "execution_count": 12,
   "id": "77a2eff2-fbcb-4ab2-94e5-eedd523967a4",
   "metadata": {},
   "outputs": [
    {
     "data": {
      "application/vnd.jupyter.widget-view+json": {
       "model_id": "f26892607835473792981dfd3d6c70d4",
       "version_major": 2,
       "version_minor": 0
      },
      "text/plain": [
       "  0%|          | 0/134 [00:00<?, ?it/s]"
      ]
     },
     "metadata": {},
     "output_type": "display_data"
    }
   ],
   "source": [
    "from tqdm.notebook import tqdm\n",
    "from bert_score import BERTScorer\n",
    "\n",
    "scorer = BERTScorer(model_type='bert-base-uncased')#,device='cuda:0')\n",
    "\n",
    "bert_scores_f1 = []\n",
    "\n",
    "for index, row in tqdm(df_t.iterrows(), total=len(df_t)):\n",
    "    elaboration = row['elaboration_sentence']\n",
    "    target = row['target_sentence_4o']\n",
    "    \n",
    "    #  BERTScore for this pair\n",
    "    P, R, F1 = scorer.score(\n",
    "        cands=[target],  \n",
    "        refs=[elaboration],              \n",
    "    )\n",
    "    \n",
    "    bert_scores_f1.append(F1.mean().item())\n",
    "\n",
    "df_t[\"target_sentence_4o_bsf1\"] = bert_scores_f1"
   ]
  },
  {
   "cell_type": "code",
   "execution_count": 9,
   "id": "7fccef97-e07e-4700-96dc-c83db1487005",
   "metadata": {},
   "outputs": [
    {
     "name": "stdout",
     "output_type": "stream",
     "text": [
      "../data/elaborations/train_ds_c4spo_elab_targets.csv\n"
     ]
    }
   ],
   "source": [
    "df_t.to_csv(filename,index=False)\n",
    "print(filename)"
   ]
  },
  {
   "cell_type": "code",
   "execution_count": 15,
   "id": "f97b5402-5484-4065-9013-6f1be8ea6595",
   "metadata": {
    "scrolled": true
   },
   "outputs": [
    {
     "name": "stdout",
     "output_type": "stream",
     "text": [
      "ID: 6\n",
      "Similarity score: 0.409\n",
      "With a bright purple stuffed animal in tow, Emily Whitehead and her parents, Tom and Kari, of Philipsburg, Pa., walked the hallways of the U.S. Capitol on Thursday, urging legislators to support the research that saved Emily's life. Grollman said that unlike other hospitals around the country, children's hospitals didn't receive funding for residency training until the early 1990s when the Children's Hospitals Graduate Medical Education program was created. Emily recently celebrated one year of being cancer-free after a recurring battle with acute lymphoblastic leukemia, or ALL, the most common form of pediatric cancer.\n",
      "\n",
      "Elab: In the spring of 2012, Emily was close to death.\n",
      "\n",
      "Target sent: 'With a bright purple stuffed animal in tow, Emily Whitehead and her parents, Tom and Kari, of Philipsburg, Pa., walked the hallways of the U.S. Capitol on Thursday, urging legislators to support the research that saved Emily's life. Grollman said that unlike other hospitals around the country, children's hospitals didn't receive funding for residency training until the early 1990s when the Children's Hospitals Graduate Medical Education program was created. Emily recently celebrated one year of being cancer-free after a recurring battle with acute lymphoblastic leukemia, or ALL, the most common form of pediatric cancer.' \n",
      "\n",
      "------------------------------------------------------------------------------------------------------------------------\n",
      "ID: 15\n",
      "Similarity score: 0.454\n",
      "Experts try to match the remains with DNA from relatives. Back in the 1950s, officials considered trying to recover the wreckage and remains. \"And there will be more, of course,\" he said. The mission to recover and, eventually, identify the human remains is being led by the Hawaii-based U.S. Joint POW/MIA Accounting Command and its recovery leader, forensic anthropologist Gregory Berg. \"The things that we keep are things that are directly related to an individual on that aircraft, something that we can tie straight back to them,\" Berg said. No lost airmen or soldiers have yet been positively identified, but the MIA/POW command expects that to happen soon.\n",
      "\n",
      "Elab: The man in charge of the search for bodies is Gregory Berg.\n",
      "\n",
      "Target sent: 'Experts try to match the remains with DNA from relatives. Back in the 1950s, officials considered trying to recover the wreckage and remains. \"And there will be more, of course,\" he said. The mission to recover and, eventually, identify the human remains is being led by the Hawaii-based U.S. Joint POW/MIA Accounting Command and its recovery leader, forensic anthropologist Gregory Berg. \"The things that we keep are things that are directly related to an individual on that aircraft, something that we can tie straight back to them,\" Berg said. No lost airmen or soldiers have yet been positively identified, but the MIA/POW command expects that to happen soon.' \n",
      "\n",
      "------------------------------------------------------------------------------------------------------------------------\n",
      "ID: 20\n",
      "Similarity score: 0.441\n",
      "Mandela's family was planning to gather to celebrate his birthday inside the hospital. South African President Jacob Zuma visited the anti-apartheid hero in the hospital Thursday morning. he said, using the affectionate name South Africans use for Mandela. He thought of us.\" Zuma released a statement confirming that Mandela's health continued to improve. \"Madiba remains in hospital in Pretoria but his doctors have confirmed that his health is steadily improving,\" Zuma said in the statement. Thursday was also Mandela's wedding anniversary. I'm free.\n",
      "\n",
      "Elab: They call him Madiba which is his old family name.\n",
      "\n",
      "Target sent: 'Mandela's family was planning to gather to celebrate his birthday inside the hospital. South African President Jacob Zuma visited the anti-apartheid hero in the hospital Thursday morning. he said, using the affectionate name South Africans use for Mandela. He thought of us.\" Zuma released a statement confirming that Mandela's health continued to improve. \"Madiba remains in hospital in Pretoria but his doctors have confirmed that his health is steadily improving,\" Zuma said in the statement. Thursday was also Mandela's wedding anniversary. I'm free.' \n",
      "\n",
      "------------------------------------------------------------------------------------------------------------------------\n",
      "ID: 21\n",
      "Similarity score: 0.425\n",
      "The overheated debate between the federal government and animal advocates over the removal of wild mustangs from the Western range ticked a few degrees higher after the Bureau of Land Management announced plans to take fewer horses from the land this summer. Animal advocates say 1,300 horses is still too many, and they question the BLM's rationale for the removals. The BLM has been under fire for what many have called its failing policies toward wild horses, who have been blamed for range damage despite the fact that their numbers are heavily overshadowed by grazing domestic cattle. Nine of the BLM's 16 summer roundups will be conducted in Nevada, home to roughly half of the estimated 37,000 free-roaming wild horses and burros in the West. On Tuesday, the agency said it would relocate 50 wild horses threatened by drought from an area two hours north of Las Vegas. BLM officials said \"it is anticipated that as an act of mercy, some animals with a poor prognosis for survival may need to be humanely euthanized to end their suffering.\"\n",
      "\n",
      "Elab: The total number of acres it manages is almost as much land as Texas and Montana put together.\n",
      "\n",
      "Target sent: 'The overheated debate between the federal government and animal advocates over the removal of wild mustangs from the Western range ticked a few degrees higher after the Bureau of Land Management announced plans to take fewer horses from the land this summer. Animal advocates say 1,300 horses is still too many, and they question the BLM's rationale for the removals. The BLM has been under fire for what many have called its failing policies toward wild horses, who have been blamed for range damage despite the fact that their numbers are heavily overshadowed by grazing domestic cattle. Nine of the BLM's 16 summer roundups will be conducted in Nevada, home to roughly half of the estimated 37,000 free-roaming wild horses and burros in the West. On Tuesday, the agency said it would relocate 50 wild horses threatened by drought from an area two hours north of Las Vegas. BLM officials said \"it is anticipated that as an act of mercy, some animals with a poor prognosis for survival may need to be humanely euthanized to end their suffering.\"' \n",
      "\n",
      "------------------------------------------------------------------------------------------------------------------------\n",
      "ID: 24\n",
      "Similarity score: 0.487\n",
      "But today this ancient social contract is giving way as the Chinese economy booms, prying apart families with job opportunities in distant cities or abroad. China's government has taken notice of the trend. Starting July 1, a new, broad law allows parents to take their children to court for not visiting them \"often.\" The law was passed after state media reported mistreatment of the elderly, including the story of a grandmother in her 90s who was forced to live in a pigpen for two years.\n",
      "\n",
      "Elab: Newspapers wrote about the bad treatment of older people.\n",
      "\n",
      "Target sent: 'But today this ancient social contract is giving way as the Chinese economy booms, prying apart families with job opportunities in distant cities or abroad. China's government has taken notice of the trend. Starting July 1, a new, broad law allows parents to take their children to court for not visiting them \"often.\" The law was passed after state media reported mistreatment of the elderly, including the story of a grandmother in her 90s who was forced to live in a pigpen for two years.' \n",
      "\n",
      "------------------------------------------------------------------------------------------------------------------------\n",
      "ID: 26\n",
      "Similarity score: 0.402\n",
      "Mateo and two other young immigrants who had been brought into the U.S. as children asked to be admitted legally across the border they had surreptitiously traversed so many years ago and had spent much of their lives trying to avoid. Both came to the United States when they were 3 years old. Saavedra asked. The protest Monday focused on the U.S. border station in Nogales. Lost in the debate, Mateo and other protesters say, are those already expelled from the country. Under an immigration reform package backed by the Obama administration, young immigrants deported could apply to return to the U.S. Those who leave voluntarily would not have that option, immigration experts say. She can't do that again.\n",
      "\n",
      "Elab: Without papers, it's hard for them to get jobs or travel freely.\n",
      "\n",
      "Target sent: 'Mateo and two other young immigrants who had been brought into the U.S. as children asked to be admitted legally across the border they had surreptitiously traversed so many years ago and had spent much of their lives trying to avoid. Both came to the United States when they were 3 years old. Saavedra asked. The protest Monday focused on the U.S. border station in Nogales. Lost in the debate, Mateo and other protesters say, are those already expelled from the country. Under an immigration reform package backed by the Obama administration, young immigrants deported could apply to return to the U.S. Those who leave voluntarily would not have that option, immigration experts say. She can't do that again.' \n",
      "\n",
      "------------------------------------------------------------------------------------------------------------------------\n",
      "ID: 27\n",
      "Similarity score: 0.412\n",
      "But the U.S. Forest Service plans were designed to protect large, old trees \" preferred owl habitat. Logging was dramatically cut back, and most lumber mills shut down in this part of the mountain range. Fresno County Sheriff Margaret Mims worries now about the Endangered Species Act creating an additional impact on funding for law enforcement and public safety. \"I don't want people who live 3,000 miles away dictating what we do.\" Mims later said she was concerned about the added red tape for new or expanding businesses. She said she is most concerned about people.\n",
      "\n",
      "Elab: Money dried up in some towns.\n",
      "\n",
      "Target sent: 'But the U.S. Forest Service plans were designed to protect large, old trees \" preferred owl habitat. Logging was dramatically cut back, and most lumber mills shut down in this part of the mountain range. Fresno County Sheriff Margaret Mims worries now about the Endangered Species Act creating an additional impact on funding for law enforcement and public safety. \"I don't want people who live 3,000 miles away dictating what we do.\" Mims later said she was concerned about the added red tape for new or expanding businesses. She said she is most concerned about people.' \n",
      "\n",
      "------------------------------------------------------------------------------------------------------------------------\n",
      "ID: 35\n",
      "Similarity score: 0.44\n",
      "Gov. The woman is missing and presumed dead. Officials said there were at least 700 Coloradans still listed as missing in Boulder and Larimer counties after the disaster, which has washed out bridges and roads and isolated several central Colorado communities. But heavy rains have sometimes grounded helicopters, which have been key to reaching people where roads are impassable.\n",
      "\n",
      "Elab: The National Weather Service reported as much as 9 to 10 inches of rain in just hours in many areas.\n",
      "\n",
      "Target sent: 'Gov. The woman is missing and presumed dead. Officials said there were at least 700 Coloradans still listed as missing in Boulder and Larimer counties after the disaster, which has washed out bridges and roads and isolated several central Colorado communities. But heavy rains have sometimes grounded helicopters, which have been key to reaching people where roads are impassable.' \n",
      "\n",
      "------------------------------------------------------------------------------------------------------------------------\n",
      "ID: 38\n",
      "Similarity score: 0.44\n",
      "Gov. As of Sunday morning there are 234 people unaccounted for in Boulder County, up from 218 on Saturday, said Liz Donaghey of the Boulder Office of Emergency Management. \n",
      "\n",
      "Elab: A total of 3,000 did not have electricity, just in Boulder.\n",
      "\n",
      "Target sent: 'Gov. As of Sunday morning there are 234 people unaccounted for in Boulder County, up from 218 on Saturday, said Liz Donaghey of the Boulder Office of Emergency Management. ' \n",
      "\n",
      "------------------------------------------------------------------------------------------------------------------------\n",
      "ID: 42\n",
      "Similarity score: 0.467\n",
      "WASHINGTON - Under mounting pressure from new revelations that the United States collected the telephone data of tens of millions of Europeans, the Obama administration on Monday said that there is a need for new constraints on U.S. intelligence-gathering operations and a top senator announced that the spying on U.S. allies would stop. In the latest revelations, two Spanish newspapers reported that a document leaked by Snowden showed that the NSA collected data _ locations and phone numbers _ but not the content of 60 million telephone calls made in Spain between December 2012 and early January. U.S. In an interview aired late Monday by a new cable television outlet, Fusion, President Barack Obama declined to discuss the communications monitoring operations of the National Security Agency, including whether the NSA tapped the telephones of German Chancellor Angela Merkel and 34 other world leaders. \"It is my understanding that President Obama was not aware Chancellor Merkel's communications were being collected since 2002.\n",
      "\n",
      "Elab: It may have even gathered information about phone calls by Germany's leader.\n",
      "\n",
      "Target sent: 'WASHINGTON - Under mounting pressure from new revelations that the United States collected the telephone data of tens of millions of Europeans, the Obama administration on Monday said that there is a need for new constraints on U.S. intelligence-gathering operations and a top senator announced that the spying on U.S. allies would stop. In the latest revelations, two Spanish newspapers reported that a document leaked by Snowden showed that the NSA collected data _ locations and phone numbers _ but not the content of 60 million telephone calls made in Spain between December 2012 and early January. U.S. In an interview aired late Monday by a new cable television outlet, Fusion, President Barack Obama declined to discuss the communications monitoring operations of the National Security Agency, including whether the NSA tapped the telephones of German Chancellor Angela Merkel and 34 other world leaders. \"It is my understanding that President Obama was not aware Chancellor Merkel's communications were being collected since 2002.' \n",
      "\n",
      "------------------------------------------------------------------------------------------------------------------------\n",
      "ID: 44\n",
      "Similarity score: 0.414\n",
      "So far the group has created just tablet-size bits of the new ceramic, but members predict it can be used to make panels that are better at harvesting energy and less expensive than the silicon-based models that dominate the market. The new material contains potassium, niobium, barium, and nickel, which are relatively abundant and environmentally benign. The authors say their combination of materials will be cheaper in the long run. So is silicon, but it requires lots of processing and manufacturing to be used in solar panels.\n",
      "\n",
      "Elab: They are also friendly to the earth.\n",
      "\n",
      "Target sent: 'So far the group has created just tablet-size bits of the new ceramic, but members predict it can be used to make panels that are better at harvesting energy and less expensive than the silicon-based models that dominate the market. The new material contains potassium, niobium, barium, and nickel, which are relatively abundant and environmentally benign. The authors say their combination of materials will be cheaper in the long run. So is silicon, but it requires lots of processing and manufacturing to be used in solar panels.' \n",
      "\n",
      "------------------------------------------------------------------------------------------------------------------------\n",
      "ID: 45\n",
      "Similarity score: 0.44\n",
      "The authors say their combination of materials will be cheaper in the long run. Materials that can channel the flow of electrons are described as having polarity, and have been known to science for decades. But they have not been used to make solar panels because they primarily absorb energy from ultraviolet light, not from the visible part of the spectrum. The new material contains potassium, niobium, barium, and nickel, which are relatively abundant and environmentally benign. \"The nickel is really doing the job,\" Rappe said.\n",
      "\n",
      "Elab: It is called potassium niobate.\n",
      "\n",
      "Target sent: 'The authors say their combination of materials will be cheaper in the long run. Materials that can channel the flow of electrons are described as having polarity, and have been known to science for decades. But they have not been used to make solar panels because they primarily absorb energy from ultraviolet light, not from the visible part of the spectrum. The new material contains potassium, niobium, barium, and nickel, which are relatively abundant and environmentally benign. \"The nickel is really doing the job,\" Rappe said.' \n",
      "\n",
      "------------------------------------------------------------------------------------------------------------------------\n",
      "ID: 47\n",
      "Similarity score: 0.42\n",
      "Obviously, they are not just there temporarily before advancing to higher-paying jobs with benefits: our deformed economy is not producing enough decent jobs to which they could move. In fact, nearly half of employed college graduates say that their jobs do not require a college degree. Fast-food workers are suffering for the same reasons that the majority of employees have lost ground for decades: the rules of the economy have been rewritten against them. How are they supposed to survive on about $9 an hour - their average wage - with many making the current federal minimum of just $7.25?\n",
      "\n",
      "Elab: They have been making less and less money over the years.\n",
      "\n",
      "Target sent: 'Obviously, they are not just there temporarily before advancing to higher-paying jobs with benefits: our deformed economy is not producing enough decent jobs to which they could move. In fact, nearly half of employed college graduates say that their jobs do not require a college degree. Fast-food workers are suffering for the same reasons that the majority of employees have lost ground for decades: the rules of the economy have been rewritten against them. How are they supposed to survive on about $9 an hour - their average wage - with many making the current federal minimum of just $7.25?' \n",
      "\n",
      "------------------------------------------------------------------------------------------------------------------------\n",
      "ID: 48\n",
      "Similarity score: 0.408\n",
      "Obviously, they are not just there temporarily before advancing to higher-paying jobs with benefits: our deformed economy is not producing enough decent jobs to which they could move. Fast-food workers are suffering for the same reasons that the majority of employees have lost ground for decades: the rules of the economy have been rewritten against them. How are they supposed to survive on about $9 an hour - their average wage - with many making the current federal minimum of just $7.25? It is not primarily \"technological change\" or \"skills mismatches\" that have caused the richest 1 percent of Americans to double their share of total income from 10 percent in 1980 to 20 percent in 2011.\n",
      "\n",
      "Elab: They wrote them in a way to help businesses make more money.\n",
      "\n",
      "Target sent: 'Obviously, they are not just there temporarily before advancing to higher-paying jobs with benefits: our deformed economy is not producing enough decent jobs to which they could move. Fast-food workers are suffering for the same reasons that the majority of employees have lost ground for decades: the rules of the economy have been rewritten against them. How are they supposed to survive on about $9 an hour - their average wage - with many making the current federal minimum of just $7.25? It is not primarily \"technological change\" or \"skills mismatches\" that have caused the richest 1 percent of Americans to double their share of total income from 10 percent in 1980 to 20 percent in 2011.' \n",
      "\n",
      "------------------------------------------------------------------------------------------------------------------------\n",
      "ID: 49\n",
      "Similarity score: 0.454\n",
      "How are they supposed to survive on about $9 an hour - their average wage - with many making the current federal minimum of just $7.25? Fast-food workers are suffering for the same reasons that the majority of employees have lost ground for decades: the rules of the economy have been rewritten against them. It is not primarily \"technological change\" or \"skills mismatches\" that have caused the richest 1 percent of Americans to double their share of total income from 10 percent in 1980 to 20 percent in 2011. If even the federal minimum wage had increased with productivity and inflation since 1968 – as it had done in prior decades – it would be $17 per hour today instead of a meager $7.25. And many other policy changes that redistribute income upward.\n",
      "\n",
      "Elab: People are not getting paid as much because of what were called government \"reforms.\"\n",
      "\n",
      "Target sent: 'How are they supposed to survive on about $9 an hour - their average wage - with many making the current federal minimum of just $7.25? Fast-food workers are suffering for the same reasons that the majority of employees have lost ground for decades: the rules of the economy have been rewritten against them. It is not primarily \"technological change\" or \"skills mismatches\" that have caused the richest 1 percent of Americans to double their share of total income from 10 percent in 1980 to 20 percent in 2011. If even the federal minimum wage had increased with productivity and inflation since 1968 – as it had done in prior decades – it would be $17 per hour today instead of a meager $7.25. And many other policy changes that redistribute income upward.' \n",
      "\n",
      "------------------------------------------------------------------------------------------------------------------------\n",
      "ID: 51\n",
      "Similarity score: 0.412\n",
      "Kelley said the new regulations would \"increase the protection of eagles and will help develop more wind farms, a leading solution to climate change, which is the No. Kelley, of the American Wind Energy Association, said that wind farms had had a negligible impact on bald eagles and that only 2 percent of the golden eagles killed by humans died because of wind farms.  threat to all eagles and all wildlife.\" Under the new regulations, permits will be re-evaluated every five years.\n",
      "\n",
      "Elab: That leads to global warming.\n",
      "\n",
      "Target sent: 'Kelley said the new regulations would \"increase the protection of eagles and will help develop more wind farms, a leading solution to climate change, which is the No. Kelley, of the American Wind Energy Association, said that wind farms had had a negligible impact on bald eagles and that only 2 percent of the golden eagles killed by humans died because of wind farms.  threat to all eagles and all wildlife.\" Under the new regulations, permits will be re-evaluated every five years.' \n",
      "\n",
      "------------------------------------------------------------------------------------------------------------------------\n",
      "ID: 55\n",
      "Similarity score: 0.417\n",
      "The carriers' electromagnetic aircraft launching system and advanced arresting gear will allow them to operate planes heavily loaded with weapons and fuel. In addition to a new dual-band radar, a larger flight deck and improved ordnance elevators, the Ford-class emphasizes automation and maintenance, which will reduce operating costs. The new Ford-class carriers are an important step toward this goal. While analysts rightly point to potential threats to carriers such as anti-ship missiles, the United States is not the only country investing in aircraft carriers.\n",
      "\n",
      "Elab: The Ford runs more by itself than older carriers.\n",
      "\n",
      "Target sent: 'The carriers' electromagnetic aircraft launching system and advanced arresting gear will allow them to operate planes heavily loaded with weapons and fuel. In addition to a new dual-band radar, a larger flight deck and improved ordnance elevators, the Ford-class emphasizes automation and maintenance, which will reduce operating costs. The new Ford-class carriers are an important step toward this goal. While analysts rightly point to potential threats to carriers such as anti-ship missiles, the United States is not the only country investing in aircraft carriers.' \n",
      "\n",
      "------------------------------------------------------------------------------------------------------------------------\n",
      "ID: 56\n",
      "Similarity score: 0.45\n",
      "While aircraft carriers are under increased risks due to increasing global capabilities, the solution is not to capitulate. Rather, the United States needs to leverage its own technological advantages for creative solutions. Potential game-changing developments in directed energy and unmanned aviation may go a long way toward extending the military lifespan of carriers and other surface combatants. The new Ford-class carriers are an important step toward this goal. The carriers' electromagnetic aircraft launching system and advanced arresting gear will allow them to operate planes heavily loaded with weapons and fuel.\n",
      "\n",
      "Elab: New inventions can shoot energy or lasers, instead of missiles.\n",
      "\n",
      "Target sent: 'While aircraft carriers are under increased risks due to increasing global capabilities, the solution is not to capitulate. Rather, the United States needs to leverage its own technological advantages for creative solutions. Potential game-changing developments in directed energy and unmanned aviation may go a long way toward extending the military lifespan of carriers and other surface combatants. The new Ford-class carriers are an important step toward this goal. The carriers' electromagnetic aircraft launching system and advanced arresting gear will allow them to operate planes heavily loaded with weapons and fuel.' \n",
      "\n",
      "------------------------------------------------------------------------------------------------------------------------\n",
      "ID: 58\n",
      "Similarity score: 0.408\n",
      "A team from New York University has designed a flying jellyfish-like robot that uses four flapping wings to stay aloft. \"Although it doesn't look like the jellyfish that inspired it, I'm sure they would be proud.\"\n",
      "\n",
      "Elab: But, they are very good moving through the water.\n",
      "\n",
      "Target sent: 'A team from New York University has designed a flying jellyfish-like robot that uses four flapping wings to stay aloft. \"Although it doesn't look like the jellyfish that inspired it, I'm sure they would be proud.\"' \n",
      "\n",
      "------------------------------------------------------------------------------------------------------------------------\n",
      "ID: 59\n",
      "Similarity score: 0.405\n",
      "The jellyfish, in some ways, appears ideal for this task: It's a very simple creature, lacking a brain or bones (and the complex joints that come with them). \"Although it doesn't look like the jellyfish that inspired it, I'm sure they would be proud.\" \n",
      "\n",
      "Elab: They have arms called tentacles.\n",
      "\n",
      "Target sent: 'The jellyfish, in some ways, appears ideal for this task: It's a very simple creature, lacking a brain or bones (and the complex joints that come with them). \"Although it doesn't look like the jellyfish that inspired it, I'm sure they would be proud.\" ' \n",
      "\n",
      "------------------------------------------------------------------------------------------------------------------------\n",
      "ID: 61\n",
      "Similarity score: 0.487\n",
      "ARIVACA, Ariz. \" There was a time when Maggie Milinovitch and her husband didn't agree on whether to give food and water to the weary border crossers who traversed the couple's desert land a few miles north of the Mexico border in southern Arizona. Still, she didn't want to break the law.\n",
      "\n",
      "Elab: ARIVACA, Ariz. \" Many people die each year trying to come into the U.S. from Mexico.\n",
      "\n",
      "Target sent: 'ARIVACA, Ariz. \" There was a time when Maggie Milinovitch and her husband didn't agree on whether to give food and water to the weary border crossers who traversed the couple's desert land a few miles north of the Mexico border in southern Arizona. Still, she didn't want to break the law.' \n",
      "\n",
      "------------------------------------------------------------------------------------------------------------------------\n",
      "ID: 62\n",
      "Similarity score: 0.411\n",
      "ARIVACA, Ariz. \" There was a time when Maggie Milinovitch and her husband didn't agree on whether to give food and water to the weary border crossers who traversed the couple's desert land a few miles north of the Mexico border in southern Arizona. Still, she didn't want to break the law.\n",
      "\n",
      "Elab: And they pass through towns in Arizona.\n",
      "\n",
      "Target sent: 'ARIVACA, Ariz. \" There was a time when Maggie Milinovitch and her husband didn't agree on whether to give food and water to the weary border crossers who traversed the couple's desert land a few miles north of the Mexico border in southern Arizona. Still, she didn't want to break the law.' \n",
      "\n",
      "------------------------------------------------------------------------------------------------------------------------\n",
      "ID: 64\n",
      "Similarity score: 0.423\n",
      "\"They had to get out their atlases.\" Die-hard winter sports fans, however, will not be discouraged. Orange-clad speedskating fans from the Netherlands are always among the most visible spectators at any Winter Games. \"I expect it to be orange,\" Jeroen de Roever, manager of official Duch ticket seller ATPI, said of Sochi's speedskating venue. \"We have been sold out for quite a while.\"\n",
      "\n",
      "Elab: It's the national color of the Netherlands.\n",
      "\n",
      "Target sent: '\"They had to get out their atlases.\" Die-hard winter sports fans, however, will not be discouraged. Orange-clad speedskating fans from the Netherlands are always among the most visible spectators at any Winter Games. \"I expect it to be orange,\" Jeroen de Roever, manager of official Duch ticket seller ATPI, said of Sochi's speedskating venue. \"We have been sold out for quite a while.\"' \n",
      "\n",
      "------------------------------------------------------------------------------------------------------------------------\n",
      "ID: 65\n",
      "Similarity score: 0.491\n",
      "They jumped off a three-page letter penned by a half-dozen of the country's most prominent plant people sent in December to 800 schools and universities, government agencies, industry associations, and growers of everything from almonds to onions. The letter warns that if something isn't done soon to boost the ranks of plant scientists, breeders, students, and others in the field, horticulture could become a lost art and a forgotten science. A scientific study of the problem to support with numbers what backers believe to be true.\n",
      "\n",
      "Elab: PHILADELPHIA \" Six people who studied horticulture wrote a surprising letter in December.\n",
      "\n",
      "Target sent: 'They jumped off a three-page letter penned by a half-dozen of the country's most prominent plant people sent in December to 800 schools and universities, government agencies, industry associations, and growers of everything from almonds to onions. The letter warns that if something isn't done soon to boost the ranks of plant scientists, breeders, students, and others in the field, horticulture could become a lost art and a forgotten science. A scientific study of the problem to support with numbers what backers believe to be true.' \n",
      "\n",
      "------------------------------------------------------------------------------------------------------------------------\n",
      "ID: 66\n",
      "Similarity score: 0.438\n",
      "They jumped off a three-page letter penned by a half-dozen of the country's most prominent plant people sent in December to 800 schools and universities, government agencies, industry associations, and growers of everything from almonds to onions. The letter warns that if something isn't done soon to boost the ranks of plant scientists, breeders, students, and others in the field, horticulture could become a lost art and a forgotten science. That campaign calls for: An education plan outlining how horticulture can be integrated into K-through-12 curriculums and promoted on college campuses. \"We have to come up with a game plan. And it's laughably elementary: What is horticulture, anyway?\n",
      "\n",
      "Elab: Showing the numbers of people in the field to show the problem really exists;\n",
      "\n",
      "Target sent: 'They jumped off a three-page letter penned by a half-dozen of the country's most prominent plant people sent in December to 800 schools and universities, government agencies, industry associations, and growers of everything from almonds to onions. The letter warns that if something isn't done soon to boost the ranks of plant scientists, breeders, students, and others in the field, horticulture could become a lost art and a forgotten science. That campaign calls for: An education plan outlining how horticulture can be integrated into K-through-12 curriculums and promoted on college campuses. \"We have to come up with a game plan. And it's laughably elementary: What is horticulture, anyway?' \n",
      "\n",
      "------------------------------------------------------------------------------------------------------------------------\n",
      "ID: 68\n",
      "Similarity score: 0.411\n",
      "White House officials countered by saying many more working people would benefit if Congress would go along with Obama's plan to raise the minimum wage across the board. Among the president's other executive initiatives is a plan to help workers whose employers don't offer retirement savings plans. Obama isn't abandoning Congress completely. He pressed Congress to revive a stalled immigration overhaul, pass an across-the-board increase in the federal minimum wage and expand access to early childhood education \" all ideas that gained little traction after he proposed them last year. Some Republicans have warned that the president's focus on executive orders could backfire by angering GOP leaders who already don't trust the White House.\n",
      "\n",
      "Elab: Presidents have some power that they can use without the help of other government members.\n",
      "\n",
      "Target sent: 'White House officials countered by saying many more working people would benefit if Congress would go along with Obama's plan to raise the minimum wage across the board. Among the president's other executive initiatives is a plan to help workers whose employers don't offer retirement savings plans. Obama isn't abandoning Congress completely. He pressed Congress to revive a stalled immigration overhaul, pass an across-the-board increase in the federal minimum wage and expand access to early childhood education \" all ideas that gained little traction after he proposed them last year. Some Republicans have warned that the president's focus on executive orders could backfire by angering GOP leaders who already don't trust the White House.' \n",
      "\n",
      "------------------------------------------------------------------------------------------------------------------------\n",
      "ID: 71\n",
      "Similarity score: 0.499\n",
      "What's new is that over the past decade nanoparticles have been manipulated and put in places where silver has never been before. Some scientists and environmental health groups fear that the very properties that make these particles useful \" their vanishingly small size and high surface area \" may have unintended consequences once they get into the human body and the environment. Both animal studies and computer models have found that nanoparticles, including nanosilver, can spread throughout the body into organs and tissues. \"There is a real fear that if we are indiscriminate with use, we could accelerate resistance.\" Silver kills germs when it oxidizes and releases silver ions, which are lethal to bacteria and yeast. Like other germ-killers, including antibiotics, nanosilver also could upset the delicate balance of bacteria inside the digestive tract, said Marina Quadros, associate director of the Virginia Tech Center for Sustainable Nanotechnology. \"Under the right conditions, silver nanoparticles are very effective in killing bacteria, both the good and the bad,\" she said.\n",
      "\n",
      "Elab: Nanosilver could hurt how people get nutrition from eating food, said Marina Quadros.\n",
      "\n",
      "Target sent: 'What's new is that over the past decade nanoparticles have been manipulated and put in places where silver has never been before. Some scientists and environmental health groups fear that the very properties that make these particles useful \" their vanishingly small size and high surface area \" may have unintended consequences once they get into the human body and the environment. Both animal studies and computer models have found that nanoparticles, including nanosilver, can spread throughout the body into organs and tissues. \"There is a real fear that if we are indiscriminate with use, we could accelerate resistance.\" Silver kills germs when it oxidizes and releases silver ions, which are lethal to bacteria and yeast. Like other germ-killers, including antibiotics, nanosilver also could upset the delicate balance of bacteria inside the digestive tract, said Marina Quadros, associate director of the Virginia Tech Center for Sustainable Nanotechnology. \"Under the right conditions, silver nanoparticles are very effective in killing bacteria, both the good and the bad,\" she said.' \n",
      "\n",
      "------------------------------------------------------------------------------------------------------------------------\n",
      "ID: 75\n",
      "Similarity score: 0.406\n",
      "Washington Park residents are pinning their hopes on President Barack Obama \" that he will select the U. of C. to host his presidential library and that the university will build it on the swath of vacant, city-owned land adjacent to the \"L.\" Indeed, presidential libraries have driven revitalization before. More than half of it came before the library opened in 2005. None of the 13 presidential libraries and museums administered by the National Archives and Records Administration has been built in a low-income, inner-city neighborhood. One reason, she said, is that there are other attractions, such as museums and entertainment venues, also in the area.\n",
      "\n",
      "Elab: It is also like a museum.\n",
      "\n",
      "Target sent: 'Washington Park residents are pinning their hopes on President Barack Obama \" that he will select the U. of C. to host his presidential library and that the university will build it on the swath of vacant, city-owned land adjacent to the \"L.\" Indeed, presidential libraries have driven revitalization before. More than half of it came before the library opened in 2005. None of the 13 presidential libraries and museums administered by the National Archives and Records Administration has been built in a low-income, inner-city neighborhood. One reason, she said, is that there are other attractions, such as museums and entertainment venues, also in the area.' \n",
      "\n",
      "------------------------------------------------------------------------------------------------------------------------\n",
      "ID: 76\n",
      "Similarity score: 0.422\n",
      "In the end, Clinton selected the old warehouse district downtown on the banks of the Arkansas River. \"The one chosen had an economic impact on the entire city,\" Rutherford said. The area known as the River Market District averages more than 300,000 visitors a year, according to Sharon Priest, executive director of the Downtown Little Rock Partnership. One reason, she said, is that there are other attractions, such as museums and entertainment venues, also in the area. It is unusual to try to rehabilitate part of an urban area by resurrecting a presidential library. The University of Illinois at Chicago is looking at six sites on the Near West Side to offer for the library. Brown, who led graduate students in a semester-long project to evaluate potential spots for the library in Chicago and to design their own ambitious visions for the campus, cited President John F. Kennedy's library, which sits on a peninsula jutting into a bay in Boston, as an example.\n",
      "\n",
      "Elab: A good location is very important, said professor Marshall Brown.\n",
      "\n",
      "Target sent: 'In the end, Clinton selected the old warehouse district downtown on the banks of the Arkansas River. \"The one chosen had an economic impact on the entire city,\" Rutherford said. The area known as the River Market District averages more than 300,000 visitors a year, according to Sharon Priest, executive director of the Downtown Little Rock Partnership. One reason, she said, is that there are other attractions, such as museums and entertainment venues, also in the area. It is unusual to try to rehabilitate part of an urban area by resurrecting a presidential library. The University of Illinois at Chicago is looking at six sites on the Near West Side to offer for the library. Brown, who led graduate students in a semester-long project to evaluate potential spots for the library in Chicago and to design their own ambitious visions for the campus, cited President John F. Kennedy's library, which sits on a peninsula jutting into a bay in Boston, as an example.' \n",
      "\n",
      "------------------------------------------------------------------------------------------------------------------------\n",
      "ID: 78\n",
      "Similarity score: 0.421\n",
      "WASHINGTON \" Ralph Nader looks like the original geek. His latest book, \"Unstoppable,\" will soon be out, and like his previous 11 it was typed on a bulky manual typewriter. He lugs a typewriter to school every day and does just about everything the old-fashioned way. Several work. He doesn't have a cellphone \" \"Why should I have a cellphone? I have people I don't want to get phone calls from\" \" and his Facebook, Twitter, YouTube and email accounts are written by aides, under strict guidelines. Before he typed, he wrote his papers in longhand.\n",
      "\n",
      "Elab: When the writer's finger hits the keyboard, a small piece of metal hits a ribbon soaked with ink, and makes a letter on a piece of paper.\n",
      "\n",
      "Target sent: 'WASHINGTON \" Ralph Nader looks like the original geek. His latest book, \"Unstoppable,\" will soon be out, and like his previous 11 it was typed on a bulky manual typewriter. He lugs a typewriter to school every day and does just about everything the old-fashioned way. Several work. He doesn't have a cellphone \" \"Why should I have a cellphone? I have people I don't want to get phone calls from\" \" and his Facebook, Twitter, YouTube and email accounts are written by aides, under strict guidelines. Before he typed, he wrote his papers in longhand.' \n",
      "\n",
      "------------------------------------------------------------------------------------------------------------------------\n",
      "ID: 79\n",
      "Similarity score: 0.434\n",
      "He has an email account, out of necessity, but he isn't on social media and teachers who usually send students their assignments by text will give them to him in person instead. He's used his Facebook account once. \"I keep them because they are very beautiful,\" she said of her collection of vintage phones. She has a smartphone to keep in touch with students but often forgets she has it, \"for the pleasure of being able to be left alone.\"\n",
      "\n",
      "Elab: These old telephones have dials that you have to spin with your fingers.\n",
      "\n",
      "Target sent: 'He has an email account, out of necessity, but he isn't on social media and teachers who usually send students their assignments by text will give them to him in person instead. He's used his Facebook account once. \"I keep them because they are very beautiful,\" she said of her collection of vintage phones. She has a smartphone to keep in touch with students but often forgets she has it, \"for the pleasure of being able to be left alone.\"' \n",
      "\n",
      "------------------------------------------------------------------------------------------------------------------------\n",
      "ID: 83\n",
      "Similarity score: 0.405\n",
      "She blasted lawmakers for playing \"politics with our kids' health\" and suggested they were trying to \"roll back everything we have worked for.\" \"It's unacceptable to me not just as first lady, but also as a mother,\" she said. The unusually confrontational remarks were a departure for a first lady who has largely sought to work with the food industry and around Congress in her campaign against [childhood obesity](https://www.newsela.com/?tag=obesity). \n",
      "\n",
      "Elab: She prefers not to go through Congress.\n",
      "\n",
      "Target sent: 'She blasted lawmakers for playing \"politics with our kids' health\" and suggested they were trying to \"roll back everything we have worked for.\" \"It's unacceptable to me not just as first lady, but also as a mother,\" she said. The unusually confrontational remarks were a departure for a first lady who has largely sought to work with the food industry and around Congress in her campaign against [childhood obesity](https://www.newsela.com/?tag=obesity). ' \n",
      "\n",
      "------------------------------------------------------------------------------------------------------------------------\n",
      "ID: 84\n",
      "Similarity score: 0.4\n",
      "The unusually confrontational remarks were a departure for a first lady who has largely sought to work with the food industry and around Congress in her campaign against [childhood obesity](https://www.newsela.com/?tag=obesity). Since lobbying on behalf of the Healthy Hunger-Free Kids Act of 2010, which set new standards for school food, Obama has rarely waded into legislative or regulatory debates. The law set guidelines for the amount of sodium in school lunches and breakfasts and targets for more whole grains and fresh fruit. House Republicans have backed the group's efforts.\n",
      "\n",
      "Elab: She gets food companies to make promises.\n",
      "\n",
      "Target sent: 'The unusually confrontational remarks were a departure for a first lady who has largely sought to work with the food industry and around Congress in her campaign against [childhood obesity](https://www.newsela.com/?tag=obesity). Since lobbying on behalf of the Healthy Hunger-Free Kids Act of 2010, which set new standards for school food, Obama has rarely waded into legislative or regulatory debates. The law set guidelines for the amount of sodium in school lunches and breakfasts and targets for more whole grains and fresh fruit. House Republicans have backed the group's efforts.' \n",
      "\n",
      "------------------------------------------------------------------------------------------------------------------------\n",
      "ID: 85\n",
      "Similarity score: 0.428\n",
      "Since lobbying on behalf of the Healthy Hunger-Free Kids Act of 2010, which set new standards for school food, Obama has rarely waded into legislative or regulatory debates. The law set guidelines for the amount of sodium in school lunches and breakfasts and targets for more whole grains and fresh fruit. House Republicans have backed the group's efforts.\n",
      "\n",
      "Elab: Her goal has been to get companies to make small changes in their products.\n",
      "\n",
      "Target sent: 'Since lobbying on behalf of the Healthy Hunger-Free Kids Act of 2010, which set new standards for school food, Obama has rarely waded into legislative or regulatory debates. The law set guidelines for the amount of sodium in school lunches and breakfasts and targets for more whole grains and fresh fruit. House Republicans have backed the group's efforts.' \n",
      "\n",
      "------------------------------------------------------------------------------------------------------------------------\n",
      "ID: 87\n",
      "Similarity score: 0.441\n",
      "\"It's very similar to beanstalks; if you're going to grow a bean plant … when you starve the plants of light, they grow tall and spindly.\" Klauda said his greater concern is whether rock snot blooms in early spring are having an ecological impact on streams, especially their fish populations. \n",
      "\n",
      "Elab: Didymo produces threadlike stalks called \"rock snot.\"\n",
      "\n",
      "Target sent: '\"It's very similar to beanstalks; if you're going to grow a bean plant … when you starve the plants of light, they grow tall and spindly.\" Klauda said his greater concern is whether rock snot blooms in early spring are having an ecological impact on streams, especially their fish populations. ' \n",
      "\n",
      "------------------------------------------------------------------------------------------------------------------------\n",
      "ID: 88\n",
      "Similarity score: 0.415\n",
      "In some cases, in the case of Pennsylvania, it's been there thousands of years.\" In 2011, in the hopes of stopping didymo's spread, Maryland became the first state to ban felt-soled wading boots; algae can nestle into felt fibers and be deposited in other bodies of water. Klauda said Maryland followed the \"precautionary principle\" in urging all fishermen to clean their waders and fishing gear and in banning felt inserts.\n",
      "\n",
      "Elab: Lakes and ponds can become clogged.\n",
      "\n",
      "Target sent: 'In some cases, in the case of Pennsylvania, it's been there thousands of years.\" In 2011, in the hopes of stopping didymo's spread, Maryland became the first state to ban felt-soled wading boots; algae can nestle into felt fibers and be deposited in other bodies of water. Klauda said Maryland followed the \"precautionary principle\" in urging all fishermen to clean their waders and fishing gear and in banning felt inserts.' \n",
      "\n",
      "------------------------------------------------------------------------------------------------------------------------\n",
      "ID: 91\n",
      "Similarity score: 0.411\n",
      "\"The more people hear about the book bike, the more excitement it can generate,\" she said. The bike was donated to the library by Evanston Bicycle Club's Benjamin Schapiro, a library trustee. \"I've also got this,\" Skwerski said, tugging a book out from the cart. Lo said the bike is an easier option for her than a trip to the library.\n",
      "\n",
      "Elab: Benjamin knew the books would be heavy.\n",
      "\n",
      "Target sent: '\"The more people hear about the book bike, the more excitement it can generate,\" she said. The bike was donated to the library by Evanston Bicycle Club's Benjamin Schapiro, a library trustee. \"I've also got this,\" Skwerski said, tugging a book out from the cart. Lo said the bike is an easier option for her than a trip to the library.' \n",
      "\n",
      "------------------------------------------------------------------------------------------------------------------------\n",
      "ID: 93\n",
      "Similarity score: 0.418\n",
      "The girls were paired in the Rising Stars Buddy Baseball program in west suburban Wheaton, Illinois, which matches students with special needs with partners on the field. \"As a parent, you just want your kids to be happy no matter what their needs are,\" she said. Dungan has cognitive and expressive delays and was quiet during the buddies' first several interactions. \"It's just not about baseball.\n",
      "\n",
      "Elab: The program matches them together.\n",
      "\n",
      "Target sent: 'The girls were paired in the Rising Stars Buddy Baseball program in west suburban Wheaton, Illinois, which matches students with special needs with partners on the field. \"As a parent, you just want your kids to be happy no matter what their needs are,\" she said. Dungan has cognitive and expressive delays and was quiet during the buddies' first several interactions. \"It's just not about baseball.' \n",
      "\n",
      "------------------------------------------------------------------------------------------------------------------------\n",
      "ID: 96\n",
      "Similarity score: 0.41\n",
      "It's about more than minding their manners. Coach Steve Mask warns players not to post about injuries, which can scare away recruiters. And he often tries to educate players he's recruiting about how to avoid social media missteps. Committing on Twitter to a school is also discouraged \" one recent former player tweeted commitments to four different schools without informing any coaches.\n",
      "\n",
      "Elab: Players who get hurt might not be as good after they heal.\n",
      "\n",
      "Target sent: 'It's about more than minding their manners. Coach Steve Mask warns players not to post about injuries, which can scare away recruiters. And he often tries to educate players he's recruiting about how to avoid social media missteps. Committing on Twitter to a school is also discouraged \" one recent former player tweeted commitments to four different schools without informing any coaches.' \n",
      "\n",
      "------------------------------------------------------------------------------------------------------------------------\n",
      "ID: 97\n",
      "Similarity score: 0.476\n",
      "Committing on Twitter to a school is also discouraged \" one recent former player tweeted commitments to four different schools without informing any coaches. And he often tries to educate players he's recruiting about how to avoid social media missteps. It's about more than minding their manners. Coach Steve Mask warns players not to post about injuries, which can scare away recruiters. This season, Mask is taking his players' online personas so seriously that he's assigning an assistant to monitor their accounts.\n",
      "\n",
      "Elab: Sometimes many colleges want them to play at their school.\n",
      "\n",
      "Target sent: 'Committing on Twitter to a school is also discouraged \" one recent former player tweeted commitments to four different schools without informing any coaches. And he often tries to educate players he's recruiting about how to avoid social media missteps. It's about more than minding their manners. Coach Steve Mask warns players not to post about injuries, which can scare away recruiters. This season, Mask is taking his players' online personas so seriously that he's assigning an assistant to monitor their accounts.' \n",
      "\n",
      "------------------------------------------------------------------------------------------------------------------------\n",
      "ID: 100\n",
      "Similarity score: 0.423\n",
      "But now, China is grousing that the SAT may impose American values on its best and brightest, who in preparation for the exam might be studying the Declaration of Independence and the Bill of Rights instead of \"The Selected Works of Mao Zedong.\" Others look to a Western education because they regard China's system as stagnant and uninspiring. Does anyone in China still believe in the Communist ideology?\" \"Including content from America's founding documents in a revised U.S. college entry exam has drawn attention in China, with worries the materials may impose the American values system on students,\" China's official New China News Agency said this week. Despite the SAT's growing popularity, the number of Chinese high school students who choose to take the SAT is a small fraction of the numbers taking China's college entrance exam each year.\n",
      "\n",
      "Elab: That means it is very strict and wants its people to believe that it is a good way to live.\n",
      "\n",
      "Target sent: 'But now, China is grousing that the SAT may impose American values on its best and brightest, who in preparation for the exam might be studying the Declaration of Independence and the Bill of Rights instead of \"The Selected Works of Mao Zedong.\" Others look to a Western education because they regard China's system as stagnant and uninspiring. Does anyone in China still believe in the Communist ideology?\" \"Including content from America's founding documents in a revised U.S. college entry exam has drawn attention in China, with worries the materials may impose the American values system on students,\" China's official New China News Agency said this week. Despite the SAT's growing popularity, the number of Chinese high school students who choose to take the SAT is a small fraction of the numbers taking China's college entrance exam each year.' \n",
      "\n",
      "------------------------------------------------------------------------------------------------------------------------\n",
      "ID: 101\n",
      "Similarity score: 0.422\n",
      "\"Including content from America's founding documents in a revised U.S. college entry exam has drawn attention in China, with worries the materials may impose the American values system on students,\" China's official New China News Agency said this week. Despite the SAT's growing popularity, the number of Chinese high school students who choose to take the SAT is a small fraction of the numbers taking China's college entrance exam each year. Does anyone in China still believe in the Communist ideology?\" The U.S. College Board in March announced plans to redesign the SAT to include U.S. founding documents in one portion of the test, known as the Evidence-Based Reading and Writing, by spring 2016. Approved test centers based in Hong Kong became the top option for many Chinese students willing to take the test.\n",
      "\n",
      "Elab: As he takes the test, he reads something written by Thomas Jefferson.\n",
      "\n",
      "Target sent: '\"Including content from America's founding documents in a revised U.S. college entry exam has drawn attention in China, with worries the materials may impose the American values system on students,\" China's official New China News Agency said this week. Despite the SAT's growing popularity, the number of Chinese high school students who choose to take the SAT is a small fraction of the numbers taking China's college entrance exam each year. Does anyone in China still believe in the Communist ideology?\" The U.S. College Board in March announced plans to redesign the SAT to include U.S. founding documents in one portion of the test, known as the Evidence-Based Reading and Writing, by spring 2016. Approved test centers based in Hong Kong became the top option for many Chinese students willing to take the test.' \n",
      "\n",
      "------------------------------------------------------------------------------------------------------------------------\n",
      "ID: 103\n",
      "Similarity score: 0.451\n",
      "Brain size and gut size increased, predators no longer posed such a dire threat and our ancestors' circadian rhythms shifted as firelight extended the day by several hours, according to the study. The light of the fire interfered with melatonin production, allowing people to stay awake during a time when productive work was difficult to accomplish. Anthropologist Polly Wiessner wondered whether this newfound leisure time may have created a space for different types of social interactions as well. But that seems to be changing.\n",
      "\n",
      "Elab: Melatonin makes people feel sleepy when it gets dark.\n",
      "\n",
      "Target sent: 'Brain size and gut size increased, predators no longer posed such a dire threat and our ancestors' circadian rhythms shifted as firelight extended the day by several hours, according to the study. The light of the fire interfered with melatonin production, allowing people to stay awake during a time when productive work was difficult to accomplish. Anthropologist Polly Wiessner wondered whether this newfound leisure time may have created a space for different types of social interactions as well. But that seems to be changing.' \n",
      "\n",
      "------------------------------------------------------------------------------------------------------------------------\n",
      "ID: 104\n",
      "Similarity score: 0.461\n",
      "\"I think people are much more open at night by a fire,\" said Wiessner, who teaches at the University of Utah. In 1974 Wiessner spent two months recording conversations between the Ju/'hoansi Bushmen, what was then a group of foragers in northeast Namibia and northwest Botswana in southwestern Africa. Today they make only a small part of their living foraging. Wiessner originally made the recordings hoping to learn how this group of people established and maintained social networks across a vast area of 124 miles. But that seems to be changing.\n",
      "\n",
      "Elab: The Bushmen are a group of people who hunt animals and gather wild berries and plants to eat.\n",
      "\n",
      "Target sent: '\"I think people are much more open at night by a fire,\" said Wiessner, who teaches at the University of Utah. In 1974 Wiessner spent two months recording conversations between the Ju/'hoansi Bushmen, what was then a group of foragers in northeast Namibia and northwest Botswana in southwestern Africa. Today they make only a small part of their living foraging. Wiessner originally made the recordings hoping to learn how this group of people established and maintained social networks across a vast area of 124 miles. But that seems to be changing.' \n",
      "\n",
      "------------------------------------------------------------------------------------------------------------------------\n",
      "ID: 105\n",
      "Similarity score: 0.414\n",
      "However, thousands more would be affected as the state wage floors rose gradually. While all four initiatives would begin wage increases Jan. 1, the approaches are split on their long-term considerations of how to link the minimum wage to cost-of-living increases. Tying annual increases to CPI fluctuations is controversial. Under Alaska's ballot proposal, the minimum wage would be tied to increases in the Anchorage Consumer Price Index caused by inflation starting in 2017. South Dakota's initiative would raise the minimum wage based on changes to a national CPI metric starting in 2016. Ten states, including Florida and Washington, have minimum wages legally tied to CPI metrics, according to the Department of Labor.\n",
      "\n",
      "Elab: The cost of living looks at prices for things like food, clothes and housing.\n",
      "\n",
      "Target sent: 'However, thousands more would be affected as the state wage floors rose gradually. While all four initiatives would begin wage increases Jan. 1, the approaches are split on their long-term considerations of how to link the minimum wage to cost-of-living increases. Tying annual increases to CPI fluctuations is controversial. Under Alaska's ballot proposal, the minimum wage would be tied to increases in the Anchorage Consumer Price Index caused by inflation starting in 2017. South Dakota's initiative would raise the minimum wage based on changes to a national CPI metric starting in 2016. Ten states, including Florida and Washington, have minimum wages legally tied to CPI metrics, according to the Department of Labor.' \n",
      "\n",
      "------------------------------------------------------------------------------------------------------------------------\n",
      "ID: 106\n",
      "Similarity score: 0.432\n",
      "Duncan did not have a fever when he left Liberia on Sept. 19, but developed symptoms days after arriving in Dallas. When his condition worsened on Sept. 28, he was rushed back to Texas Health Presbyterian Hospital Dallas, where he was in isolation in critical condition. \n",
      "\n",
      "Elab: He must be kept away from the other patients because the disease could spread.\n",
      "\n",
      "Target sent: 'Duncan did not have a fever when he left Liberia on Sept. 19, but developed symptoms days after arriving in Dallas. When his condition worsened on Sept. 28, he was rushed back to Texas Health Presbyterian Hospital Dallas, where he was in isolation in critical condition. ' \n",
      "\n",
      "------------------------------------------------------------------------------------------------------------------------\n",
      "ID: 107\n",
      "Similarity score: 0.417\n",
      "When his condition worsened on Sept. 28, he was rushed back to Texas Health Presbyterian Hospital Dallas, where he was in isolation in critical condition. In Dallas, Texas Health Commissioner David Lakey told reporters of continuing efforts to monitor those who may have come in contact with Duncan or with his secondary contacts. Those at high risk include the family and friends who stayed with Duncan at a Dallas apartment when he had symptoms. The low-risk group, mainly those who encountered people in the high-risk group, has 38 people, Lakey said.\n",
      "\n",
      "Elab: They believe the disease could have spread to others.\n",
      "\n",
      "Target sent: 'When his condition worsened on Sept. 28, he was rushed back to Texas Health Presbyterian Hospital Dallas, where he was in isolation in critical condition. In Dallas, Texas Health Commissioner David Lakey told reporters of continuing efforts to monitor those who may have come in contact with Duncan or with his secondary contacts. Those at high risk include the family and friends who stayed with Duncan at a Dallas apartment when he had symptoms. The low-risk group, mainly those who encountered people in the high-risk group, has 38 people, Lakey said.' \n",
      "\n",
      "------------------------------------------------------------------------------------------------------------------------\n",
      "ID: 110\n",
      "Similarity score: 0.467\n",
      "His other dog, Frisbee, still frolics like a pup \" but at 10, she also qualifies as elderly. The dogs would be pets, not laboratory animals. No one knows if the drug might have similar effects in people. Rapamycin also seems to have an anti-inflammatory effect. And in elderly mice, it caused marked improvement in heart function.\n",
      "\n",
      "Elab: Right now, the most hopeful medicine is called rapamycin.\n",
      "\n",
      "Target sent: 'His other dog, Frisbee, still frolics like a pup \" but at 10, she also qualifies as elderly. The dogs would be pets, not laboratory animals. No one knows if the drug might have similar effects in people. Rapamycin also seems to have an anti-inflammatory effect. And in elderly mice, it caused marked improvement in heart function.' \n",
      "\n",
      "------------------------------------------------------------------------------------------------------------------------\n",
      "ID: 115\n",
      "Similarity score: 0.401\n",
      "BERKELEY, Calif. \" Stop. Protest songs are taking their place alongside chants of \"I can't breathe\" and \"Hands up, don't shoot\" as demonstrators raise their voices to condemn the deaths of unarmed black men at the hands of police. I can't leave.\" Hundreds of people sang those words last week as they blocked bridges and got arrested in New York on the night after a grand jury declined to indict the white officer who allegedly used a chokehold on Garner.\n",
      "\n",
      "Elab: In the last few weeks, protests have broken out across the country.\n",
      "\n",
      "Target sent: 'BERKELEY, Calif. \" Stop. Protest songs are taking their place alongside chants of \"I can't breathe\" and \"Hands up, don't shoot\" as demonstrators raise their voices to condemn the deaths of unarmed black men at the hands of police. I can't leave.\" Hundreds of people sang those words last week as they blocked bridges and got arrested in New York on the night after a grand jury declined to indict the white officer who allegedly used a chokehold on Garner.' \n",
      "\n",
      "------------------------------------------------------------------------------------------------------------------------\n",
      "ID: 119\n",
      "Similarity score: 0.461\n",
      "Smokin' Ed's Carolina Reaper is the world's hottest chili pepper, according to Guinness World Records. \"Anybody can do it,\" he said of crossbreeding plants. It took 12 years of crossbreeding for Currie to reach the pinnacle of the pepper world. In fact, he said, just the Reaper fumes and residue on his lab gloves were too hot for him. A very hot jalapeno might reach 10,000 SHUs. At home, he made salsas and hot sauces from peppers he grew in his yard. \"Tongs,\" Redding said. Their certified average Scoville heat unit of 1.56 million \" from a rating procedure invented by American pharmacist Wilbur Scoville in 1912 \" was accepted by Guinness.\n",
      "\n",
      "Elab: To compare the heat of peppers, scientists use the Scoville heat scale.\n",
      "\n",
      "Target sent: 'Smokin' Ed's Carolina Reaper is the world's hottest chili pepper, according to Guinness World Records. \"Anybody can do it,\" he said of crossbreeding plants. It took 12 years of crossbreeding for Currie to reach the pinnacle of the pepper world. In fact, he said, just the Reaper fumes and residue on his lab gloves were too hot for him. A very hot jalapeno might reach 10,000 SHUs. At home, he made salsas and hot sauces from peppers he grew in his yard. \"Tongs,\" Redding said. Their certified average Scoville heat unit of 1.56 million \" from a rating procedure invented by American pharmacist Wilbur Scoville in 1912 \" was accepted by Guinness.' \n",
      "\n",
      "------------------------------------------------------------------------------------------------------------------------\n",
      "ID: 121\n",
      "Similarity score: 0.443\n",
      "Teens in the study were generally from lower-income families, and one-fifth of them had previously been arrested. Their number of arrests for violent crimes was slightly lower than that of the remaining 904 teens while the jobs lasted, but the difference did not become statistically significant until six months into the study \" three months after the jobs were completed. Of the teens in the study, 95 percent were black. Heller, the study author, said the same. The jobs program did not appear to have an impact on the rates of nonviolent crimes. \"We don't give up on any child.\"\n",
      "\n",
      "Elab: Then they compared that to the number by the kids that were not chosen.\n",
      "\n",
      "Target sent: 'Teens in the study were generally from lower-income families, and one-fifth of them had previously been arrested. Their number of arrests for violent crimes was slightly lower than that of the remaining 904 teens while the jobs lasted, but the difference did not become statistically significant until six months into the study \" three months after the jobs were completed. Of the teens in the study, 95 percent were black. Heller, the study author, said the same. The jobs program did not appear to have an impact on the rates of nonviolent crimes. \"We don't give up on any child.\"' \n",
      "\n",
      "------------------------------------------------------------------------------------------------------------------------\n",
      "ID: 122\n",
      "Similarity score: 0.401\n",
      "Each youth was partnered with a mentor, who may have helped teach those skills, she said, calling the results \"surprising and really exciting.\" Of the teens in the study, 95 percent were black. One mentor was assigned to every 10 youths. The Chicago program, dubbed One Summer Plus, cost less than $3,000 per youth, said Evelyn Diaz, commissioner of the city's Department of Family and Support Services, which oversaw it. Of that total, about half went toward the teen's wages ($8.25 an hour \" the minimum in Illinois \" for 25 hours a week) and the rest went toward paying the mentors and administrative costs, she said.\n",
      "\n",
      "Elab: The mentor gave advice about work and life.\n",
      "\n",
      "Target sent: 'Each youth was partnered with a mentor, who may have helped teach those skills, she said, calling the results \"surprising and really exciting.\" Of the teens in the study, 95 percent were black. One mentor was assigned to every 10 youths. The Chicago program, dubbed One Summer Plus, cost less than $3,000 per youth, said Evelyn Diaz, commissioner of the city's Department of Family and Support Services, which oversaw it. Of that total, about half went toward the teen's wages ($8.25 an hour \" the minimum in Illinois \" for 25 hours a week) and the rest went toward paying the mentors and administrative costs, she said.' \n",
      "\n",
      "------------------------------------------------------------------------------------------------------------------------\n",
      "ID: 123\n",
      "Similarity score: 0.447\n",
      "Heller said it was too soon to perform a full analysis of whether the program paid for itself, as she would need to know whether the program yielded any long-term effects on employment, among other factors. \"There are some policymakers who are afraid of finding out if programs they like don't work,\" she said. Of the teens in the study, 95 percent were black. The jobs included serving as a day-camp counselor, cleaning vacant lots, planting community gardens, and performing clerical work for nonprofit groups and government offices. Those in office jobs had some tedious tasks, such as paper-shredding.\n",
      "\n",
      "Elab: Researchers will need to collect information on the teenagers in the future.\n",
      "\n",
      "Target sent: 'Heller said it was too soon to perform a full analysis of whether the program paid for itself, as she would need to know whether the program yielded any long-term effects on employment, among other factors. \"There are some policymakers who are afraid of finding out if programs they like don't work,\" she said. Of the teens in the study, 95 percent were black. The jobs included serving as a day-camp counselor, cleaning vacant lots, planting community gardens, and performing clerical work for nonprofit groups and government offices. Those in office jobs had some tedious tasks, such as paper-shredding.' \n",
      "\n",
      "------------------------------------------------------------------------------------------------------------------------\n",
      "ID: 127\n",
      "Similarity score: 0.435\n",
      "They burrow in soil and logs at an elevation of 6,000 feet, according to the park's website. Little is known about the creature because sightings are so rare. Then, in August 2010, a Sierra Nevada red fox was finally photographed near Sonora Pass, north of Yosemite. Researchers will continue using remote cameras to look for the Sierra Nevada red fox. The small animal was filmed biting on a bait bag containing chicken scraps.\n",
      "\n",
      "Elab: The pass is on a high mountain road.\n",
      "\n",
      "Target sent: 'They burrow in soil and logs at an elevation of 6,000 feet, according to the park's website. Little is known about the creature because sightings are so rare. Then, in August 2010, a Sierra Nevada red fox was finally photographed near Sonora Pass, north of Yosemite. Researchers will continue using remote cameras to look for the Sierra Nevada red fox. The small animal was filmed biting on a bait bag containing chicken scraps.' \n",
      "\n",
      "------------------------------------------------------------------------------------------------------------------------\n",
      "ID: 131\n",
      "Similarity score: 0.466\n",
      "Some of Mexico's largest export farms have acted in recent weeks to improve conditions for farmworkers \" installing toilets and beds, reforming pay methods and ousting stores from labor camps that charge inflated prices to a virtually captive clientele. One thing is clear: Wal-Mart and other U.S. retailers will probably have to take on a bigger role in enforcing worker standards, a potentially costly prospect. Experts said American retailers should work together to reach a consensus on basic worker welfare standards.\n",
      "\n",
      "Elab: Workers also are being paid more quickly.\n",
      "\n",
      "Target sent: 'Some of Mexico's largest export farms have acted in recent weeks to improve conditions for farmworkers \" installing toilets and beds, reforming pay methods and ousting stores from labor camps that charge inflated prices to a virtually captive clientele. One thing is clear: Wal-Mart and other U.S. retailers will probably have to take on a bigger role in enforcing worker standards, a potentially costly prospect. Experts said American retailers should work together to reach a consensus on basic worker welfare standards.' \n",
      "\n",
      "------------------------------------------------------------------------------------------------------------------------\n",
      "ID: 133\n",
      "Similarity score: 0.486\n",
      "It can be a difficult task, especially when farms have labor camps scattered in remote locations and owners aren't always forthcoming about their operations. \"When you go down to these places, you basically see what they choose to show you,\" said Devon Zagory, a produce industry consultant who has audited farms in Mexico. \"You're relying entirely on this company and their openness and transparency to tell you where their worst secrets are so you can go and give them a hard time about it.\" But such audits take longer and cost more, added expenses that conflict with Wal-Mart's cost-crunching approach.\n",
      "\n",
      "Elab: Often, the farm owners simply hide problems, Zagory said.\n",
      "\n",
      "Target sent: 'It can be a difficult task, especially when farms have labor camps scattered in remote locations and owners aren't always forthcoming about their operations. \"When you go down to these places, you basically see what they choose to show you,\" said Devon Zagory, a produce industry consultant who has audited farms in Mexico. \"You're relying entirely on this company and their openness and transparency to tell you where their worst secrets are so you can go and give them a hard time about it.\" But such audits take longer and cost more, added expenses that conflict with Wal-Mart's cost-crunching approach.' \n",
      "\n",
      "------------------------------------------------------------------------------------------------------------------------\n"
     ]
    }
   ],
   "source": [
    "df_check = df_t[df_t[\"target_sentence_4o_bsf1\"]>0.4]\n",
    "for index, row in df_check.iterrows():\n",
    "    print(\"ID:\", index)\n",
    "    print(\"Similarity score:\", round(row[\"target_sentence_4o_bsf1\"],3))\n",
    "    print(row[\"source_text\"], end=\"\\n\\n\")\n",
    "    print(\"Elab:\",row[\"elaboration_sentence\"], end=\"\\n\\n\")\n",
    "    print(\"Target sent:\",row[\"target_sentence_4o\"], end=\"\\n\\n\")\n",
    "    print(\"-\"*120)\n",
    "    #df_t.at[index,\"target_sentence_4o\"]=\"\""
   ]
  },
  {
   "cell_type": "code",
   "execution_count": 8,
   "id": "88d38e43-aa20-41ff-8f0e-740ab83287cc",
   "metadata": {},
   "outputs": [],
   "source": [
    "idx = 665\n",
    "df_t.at[idx,\"target_sentence_4o\"] = \"\"\n",
    "df_t.at[idx,\"target_sentence_target\"] = \"\""
   ]
  },
  {
   "cell_type": "code",
   "execution_count": 21,
   "id": "94c6249f-d3a2-4f2b-a748-b555cbb6f0fe",
   "metadata": {},
   "outputs": [],
   "source": [
    "idx = 38\n",
    "df_t.at[idx,\"target_sentence_4o\"] = \"\"\n",
    "df_t.at[idx,\"target_sentence_target\"] = \"\""
   ]
  },
  {
   "cell_type": "code",
   "execution_count": 22,
   "id": "1aa6ab4a-3568-4db3-ac36-60d1251322ed",
   "metadata": {},
   "outputs": [],
   "source": [
    "idx = 65\n",
    "df_t.at[idx,\"target_sentence_4o\"] = \"'The letter warns that if something isn't done soon to boost the ranks of plant scientists, breeders, students, and others in the field, horticulture could become a lost art and a forgotten science.'\"\n",
    "df_t.at[idx,\"target_sentence_target\"] = \"'the letter'\""
   ]
  },
  {
   "cell_type": "code",
   "execution_count": 23,
   "id": "27f7708b-1560-4650-9eba-dacf7ea2d80e",
   "metadata": {},
   "outputs": [],
   "source": [
    "idx = 87\n",
    "df_t.at[idx,\"target_sentence_4o\"] = \"\"\n",
    "df_t.at[idx,\"target_sentence_target\"] = \"rock snot\""
   ]
  },
  {
   "cell_type": "code",
   "execution_count": 24,
   "id": "32d28e95-953b-4fd3-b4fa-34f7b3e46631",
   "metadata": {},
   "outputs": [],
   "source": [
    "idx = 108\n",
    "df_t.at[idx,\"target_sentence_4o\"] = \"\"\n",
    "df_t.at[idx,\"target_sentence_target\"] = \"'every ill patient'\""
   ]
  },
  {
   "cell_type": "code",
   "execution_count": 25,
   "id": "c2137238-1922-40f4-aee4-dfce01829ba3",
   "metadata": {},
   "outputs": [],
   "source": [
    "idx = 110\n",
    "df_t.at[idx,\"target_sentence_4o\"] = \"'Rapamycin also seems to have an anti-inflammatory effect.'\"\n",
    "df_t.at[idx,\"target_sentence_target\"] = \"'Rapamycin'\""
   ]
  },
  {
   "cell_type": "code",
   "execution_count": 9,
   "id": "ff950339-4c2d-4fb6-8c06-8d3a0fb63f6e",
   "metadata": {},
   "outputs": [],
   "source": [
    "idx = 563\n",
    "df_t.at[idx,\"target_sentence_4o\"] = \"\"\n",
    "df_t.at[idx,\"target_sentence_target\"] = \"\""
   ]
  },
  {
   "cell_type": "code",
   "execution_count": 10,
   "id": "16c2ea0c-c6a5-42a6-aeea-68c04a91f98a",
   "metadata": {},
   "outputs": [],
   "source": [
    "idx = 574\n",
    "df_t.at[idx,\"target_sentence_4o\"] = \"'The government says, ‘Pay your taxes in artwork.'\"\n",
    "df_t.at[idx,\"target_sentence_target\"] = \"'The government'\""
   ]
  },
  {
   "cell_type": "code",
   "execution_count": 11,
   "id": "fc0820d9-63e3-4557-8127-e836b20cc62c",
   "metadata": {},
   "outputs": [],
   "source": [
    "idx = 692\n",
    "df_t.at[idx,\"target_sentence_4o\"] = \"'Clay Barker, the Kansas Republican Party executive director, said this shouldn't be an issue for voters. '\"\n",
    "df_t.at[idx,\"target_sentence_target\"] = \"'this shouldn't be an issue for voters'\""
   ]
  },
  {
   "cell_type": "code",
   "execution_count": 12,
   "id": "ce9490f8-f054-48eb-9ed0-67d91956129e",
   "metadata": {},
   "outputs": [],
   "source": [
    "idx = 693\n",
    "df_t.at[idx,\"target_sentence_4o\"] = \"'Clay Barker, the Kansas Republican Party executive director, said this shouldn't be an issue for voters. '\"\n",
    "df_t.at[idx,\"target_sentence_target\"] = \"'voters'\""
   ]
  },
  {
   "cell_type": "code",
   "execution_count": 13,
   "id": "a03dabd2-49b2-44d5-979d-8d93e0c5c4b3",
   "metadata": {},
   "outputs": [],
   "source": [
    "idx = 717\n",
    "df_t.at[idx,\"target_sentence_4o\"] = \"\"\n",
    "df_t.at[idx,\"target_sentence_target\"] = \"\""
   ]
  },
  {
   "cell_type": "code",
   "execution_count": 14,
   "id": "b7c6f3c8-8184-4138-8854-bdb79e4aadb9",
   "metadata": {},
   "outputs": [],
   "source": [
    "idx = 787\n",
    "df_t.at[idx,\"target_sentence_4o\"] = \"'Beginning in 1952 and continuing sporadically over the next 11 years, John Adams Jr. dug up dozens of items that Union and Confederate soldiers had deposited during the October 1864 Battle of Westport.'\"\n",
    "df_t.at[idx,\"target_sentence_target\"] = \"'John Adams Jr. dug up dozens of items'\""
   ]
  },
  {
   "cell_type": "code",
   "execution_count": 15,
   "id": "3da5e012-645e-4656-923d-bc5c184ac9fe",
   "metadata": {},
   "outputs": [],
   "source": [
    "idx = 978\n",
    "df_t.at[idx,\"target_sentence_4o\"] = \"\"\n",
    "df_t.at[idx,\"target_sentence_target\"] = \"\""
   ]
  },
  {
   "cell_type": "code",
   "execution_count": 52,
   "id": "2bae3e30-a9a8-4fda-99af-ecb88ebbea59",
   "metadata": {},
   "outputs": [
    {
     "data": {
      "text/plain": [
       "Unnamed: 0                                                                42\n",
       "source_text                Apple also agreed to change the way it bills c...\n",
       "label_text                 Apple also agreed to change the way it bills c...\n",
       "elaboration_sentence                          Tim Cook is the head of Apple.\n",
       "subject                                                             Tim Cook\n",
       "target                                                              Tim Cook\n",
       "elaboration_info           The sentence from the context text that the ex...\n",
       "target_sentence_4o          target_sentence='Tim Cook is the head of Apple.'\n",
       "target_sentence_target                         target_phrase='head of Apple'\n",
       "target_sentence_4o_bsf1                                             0.669486\n",
       "messages                   [{'role': 'system', 'content': '\n",
       "You are an ex...\n",
       "Name: 42, dtype: object"
      ]
     },
     "execution_count": 52,
     "metadata": {},
     "output_type": "execute_result"
    }
   ],
   "source": [
    "df_targets.iloc[42]"
   ]
  },
  {
   "cell_type": "code",
   "execution_count": null,
   "id": "1b64769e-419d-47c6-aabb-d9589b0147dc",
   "metadata": {},
   "outputs": [],
   "source": [
    "df_targets.at[42,\"target_sentence_4o\"] = \"He said the company gave in to the FTC.\"\n",
    "df_targets.at[47,\"target_sentence_4o\"] = \"It wouldn't be surprising if other forms of popular online gaming were prohibited by the government too.\""
   ]
  },
  {
   "cell_type": "markdown",
   "id": "73fc15ac-214b-496c-96d4-2fb67a9f737d",
   "metadata": {},
   "source": [
    "## Correct"
   ]
  },
  {
   "cell_type": "code",
   "execution_count": 53,
   "id": "449f1284-3848-4ec7-a35c-fe0cb6338ae1",
   "metadata": {},
   "outputs": [
    {
     "data": {
      "application/vnd.jupyter.widget-view+json": {
       "model_id": "0ce5ff3a0e1647eab78b699808822302",
       "version_major": 2,
       "version_minor": 0
      },
      "text/plain": [
       "  0%|          | 0/116 [00:00<?, ?it/s]"
      ]
     },
     "metadata": {},
     "output_type": "display_data"
    }
   ],
   "source": [
    "import pandas as pd\n",
    "from tqdm.notebook import tqdm\n",
    "from pydantic import BaseModel\n",
    "\n",
    "\n",
    "df_targets = pd.read_csv(f\"../data/elaborations/test_ds_sp_subjects_targets.csv\")\n",
    "column_name = \"target_sentence_4o\" \n",
    "df_targets[column_name] = df_targets[column_name].fillna(\"\")\n",
    "\n",
    "\n",
    "class ExplanationTarget(BaseModel):\n",
    "    #subject: str\n",
    "    target_sentence: str\n",
    "\n",
    "SYSTEM_PROMPT_TARGET_SENT = \"\"\"\n",
    "You are an expert in identifying the sentence from the CONTEXT TEXT that the provided explanation sentence clarifies or refers to. \n",
    "Your task is to return the sentence from the CONTEXT TEXT, not the explanation sentence itself.\n",
    "\"\"\"\n",
    "\n",
    "def format_target_sent_example(example):\n",
    "    return [\n",
    "            {\"role\": \"system\", \"content\": SYSTEM_PROMPT_TARGET_SENT},\n",
    "            {\"role\": \"user\", \"content\":  \"Identify the target sentence that the following explanation: '{}' clarifies or refers to within the given text: '{}'\".format(\n",
    "    example[\"elaboration_sentence\"], example[\"label_text\"])},\n",
    "        ]\n",
    "\n",
    "df_targets[\"messages\"] = df_targets.apply(format_target_sent_example, axis=1)\n",
    "\n",
    "for idx, example in tqdm(df_targets.iterrows(),total=len(df_targets)):\n",
    "    if df_targets.at[idx,column_name] == \"\":\n",
    "        completion = client.beta.chat.completions.parse(model=MODEL,messages=example[\"messages\"],response_format=ExplanationTarget)\n",
    "        df_targets.at[idx,column_name] = completion.choices[0].message.parsed"
   ]
  },
  {
   "cell_type": "code",
   "execution_count": 48,
   "id": "39663dd5-242b-444f-8d01-481cbb47cd9f",
   "metadata": {},
   "outputs": [
    {
     "name": "stdout",
     "output_type": "stream",
     "text": [
      "[{'role': 'system', 'content': '\\nYou are an expert in identifying the sentence from the CONTEXT TEXT that the provided explanation sentence clarifies or refers to. \\nYour task is to return the sentence from the CONTEXT TEXT, not the explanation sentence itself.\\n'}, {'role': 'user', 'content': 'Identify the target sentence that the following explanation: \\'Tim Cook is the head of Apple.\\' clarifies or refers to within the given text: \\'Apple also agreed to change the way it bills customers. It will let people know when someone buys something on a game or app. Tim Cook is the head of Apple. He said the company gave in to the FTC. The agreement does not ask Apple \"to do anything we weren\\'t already going to do.\"\\''}]\n"
     ]
    }
   ],
   "source": [
    "print(df_targets[\"messages\"].iloc[42])"
   ]
  },
  {
   "cell_type": "code",
   "execution_count": 55,
   "id": "eb0570c5-8787-4ad8-a91b-eecbe6268fdf",
   "metadata": {},
   "outputs": [
    {
     "data": {
      "text/plain": [
       "ExplanationTarget(target_sentence='When the people who make the fantasy teams bet money that their players will score the most points, it is considered gambling.')"
      ]
     },
     "execution_count": 55,
     "metadata": {},
     "output_type": "execute_result"
    }
   ],
   "source": [
    "df_targets.loc[,\"target_sentence_4o\"]"
   ]
  },
  {
   "cell_type": "code",
   "execution_count": 13,
   "id": "e65fd4a9-39cf-4922-89cc-43a4861a20de",
   "metadata": {},
   "outputs": [],
   "source": [
    "import pandas as pd\n",
    "\n",
    "split = \"train\"\n",
    "setting = \"c4sp\"\n",
    "filename = f\"../data/elaborations/train/{split}_ds_{setting}_elab_targets.csv\" #f\"../data/elaborations/{split}_ds_{setting}_subjects_targets.csv\"#f\"../data/elaborations/{split}_ds_{setting}_elab_targets.csv\"\n",
    "df_t = pd.read_csv(filename)"
   ]
  },
  {
   "cell_type": "code",
   "execution_count": 14,
   "id": "3d32dd88-f2bb-46b5-ad71-11b44f40ffdc",
   "metadata": {},
   "outputs": [
    {
     "data": {
      "text/html": [
       "<div>\n",
       "<style scoped>\n",
       "    .dataframe tbody tr th:only-of-type {\n",
       "        vertical-align: middle;\n",
       "    }\n",
       "\n",
       "    .dataframe tbody tr th {\n",
       "        vertical-align: top;\n",
       "    }\n",
       "\n",
       "    .dataframe thead th {\n",
       "        text-align: right;\n",
       "    }\n",
       "</style>\n",
       "<table border=\"1\" class=\"dataframe\">\n",
       "  <thead>\n",
       "    <tr style=\"text-align: right;\">\n",
       "      <th></th>\n",
       "      <th>doc_num</th>\n",
       "      <th>source_text</th>\n",
       "      <th>label_text</th>\n",
       "      <th>elaboration_sentence</th>\n",
       "      <th>response</th>\n",
       "      <th>target_sentence_4o</th>\n",
       "      <th>target_sentence_target</th>\n",
       "    </tr>\n",
       "  </thead>\n",
       "  <tbody>\n",
       "  </tbody>\n",
       "</table>\n",
       "</div>"
      ],
      "text/plain": [
       "Empty DataFrame\n",
       "Columns: [doc_num, source_text, label_text, elaboration_sentence, response, target_sentence_4o, target_sentence_target]\n",
       "Index: []"
      ]
     },
     "execution_count": 14,
     "metadata": {},
     "output_type": "execute_result"
    }
   ],
   "source": [
    "df_t[df_t[\"target_sentence_4o\"]==\"\"]"
   ]
  },
  {
   "cell_type": "code",
   "execution_count": null,
   "id": "3765333a-f3ed-4511-8b6f-1b7360727636",
   "metadata": {},
   "outputs": [],
   "source": []
  }
 ],
 "metadata": {
  "kernelspec": {
   "display_name": "Python 3 (ipykernel)",
   "language": "python",
   "name": "python3"
  },
  "language_info": {
   "codemirror_mode": {
    "name": "ipython",
    "version": 3
   },
   "file_extension": ".py",
   "mimetype": "text/x-python",
   "name": "python",
   "nbconvert_exporter": "python",
   "pygments_lexer": "ipython3",
   "version": "3.9.18"
  }
 },
 "nbformat": 4,
 "nbformat_minor": 5
}
