{
 "cells": [
  {
   "cell_type": "markdown",
   "id": "ef0db9d1-6529-4b9c-ac6e-867e18036068",
   "metadata": {},
   "source": [
    "# Load the generation results"
   ]
  },
  {
   "cell_type": "markdown",
   "id": "a331de25-98fe-4865-8c89-f01ffd2bebf8",
   "metadata": {},
   "source": [
    "## Original BART-SWiPE models"
   ]
  },
  {
   "cell_type": "code",
   "execution_count": 1,
   "id": "bc896e32-8c1b-4c97-b44a-0d32afc6c585",
   "metadata": {},
   "outputs": [],
   "source": [
    "import pandas as pd\n",
    "\n",
    "# BART-SWiPE : generation results \n",
    "df_bs_swipe_clean = pd.read_csv(\"../data/gen_predictions/predictions_bart-large-swipe-bart-tokenizer-fast-adjust-num-beams4-no-use-fast!_swipe-clean-test.csv\")\n",
    "df_bs_asset = pd.read_csv(\"../data/gen_predictions/predictions_bart-large-swipe_asset-test.csv\")\n",
    "\n",
    "\n",
    "# BART-SWiPE-cleaned: generation results \n",
    "df_bs_clean_swipe_clean = pd.read_csv(\"../data/gen_predictions/predictions_bart-large-swipe-clean-bart-tokenizer-fast-adjust-num-beams4-no-use-fast!_swipe-clean-test.csv\")\n",
    "df_bs_clean_asset = pd.read_csv(\"../data/gen_predictions/predictions_bart-large-swipe-clean_asset-test.csv\")"
   ]
  },
  {
   "cell_type": "code",
   "execution_count": 2,
   "id": "9ae6c783-3e2e-4edd-b74f-c5393192c240",
   "metadata": {},
   "outputs": [
    {
     "data": {
      "text/html": [
       "<div>\n",
       "<style scoped>\n",
       "    .dataframe tbody tr th:only-of-type {\n",
       "        vertical-align: middle;\n",
       "    }\n",
       "\n",
       "    .dataframe tbody tr th {\n",
       "        vertical-align: top;\n",
       "    }\n",
       "\n",
       "    .dataframe thead th {\n",
       "        text-align: right;\n",
       "    }\n",
       "</style>\n",
       "<table border=\"1\" class=\"dataframe\">\n",
       "  <thead>\n",
       "    <tr style=\"text-align: right;\">\n",
       "      <th></th>\n",
       "      <th>text</th>\n",
       "      <th>prediction</th>\n",
       "    </tr>\n",
       "  </thead>\n",
       "  <tbody>\n",
       "    <tr>\n",
       "      <th>0</th>\n",
       "      <td>The term jargon may have the following meaning...</td>\n",
       "      <td>Jargon is a word that can mean a few different...</td>\n",
       "    </tr>\n",
       "    <tr>\n",
       "      <th>1</th>\n",
       "      <td>Russian (Russkij yazyk, Русский язык) is the m...</td>\n",
       "      <td>Russian (Russkij yazyk, Русский язык) is the m...</td>\n",
       "    </tr>\n",
       "    <tr>\n",
       "      <th>2</th>\n",
       "      <td>Great Britain, also called Britain, is an isla...</td>\n",
       "      <td>Great Britain, also called Britain, is an isla...</td>\n",
       "    </tr>\n",
       "    <tr>\n",
       "      <th>3</th>\n",
       "      <td>Transport, or transportation (as it is called ...</td>\n",
       "      <td>Transport, or transportation (as it is called ...</td>\n",
       "    </tr>\n",
       "    <tr>\n",
       "      <th>4</th>\n",
       "      <td>Stockholm (help·info) (IPA: ['stɔkhɔlm]; UN/LO...</td>\n",
       "      <td>Stockholm is the capital city of Sweden. It ha...</td>\n",
       "    </tr>\n",
       "  </tbody>\n",
       "</table>\n",
       "</div>"
      ],
      "text/plain": [
       "                                                text  \\\n",
       "0  The term jargon may have the following meaning...   \n",
       "1  Russian (Russkij yazyk, Русский язык) is the m...   \n",
       "2  Great Britain, also called Britain, is an isla...   \n",
       "3  Transport, or transportation (as it is called ...   \n",
       "4  Stockholm (help·info) (IPA: ['stɔkhɔlm]; UN/LO...   \n",
       "\n",
       "                                          prediction  \n",
       "0  Jargon is a word that can mean a few different...  \n",
       "1  Russian (Russkij yazyk, Русский язык) is the m...  \n",
       "2  Great Britain, also called Britain, is an isla...  \n",
       "3  Transport, or transportation (as it is called ...  \n",
       "4  Stockholm is the capital city of Sweden. It ha...  "
      ]
     },
     "execution_count": 2,
     "metadata": {},
     "output_type": "execute_result"
    }
   ],
   "source": [
    "df_bs_swipe_clean.head()"
   ]
  },
  {
   "cell_type": "code",
   "execution_count": 11,
   "id": "00fe541d-0560-4e30-91c2-a1001536028c",
   "metadata": {},
   "outputs": [
    {
     "data": {
      "text/html": [
       "<div>\n",
       "<style scoped>\n",
       "    .dataframe tbody tr th:only-of-type {\n",
       "        vertical-align: middle;\n",
       "    }\n",
       "\n",
       "    .dataframe tbody tr th {\n",
       "        vertical-align: top;\n",
       "    }\n",
       "\n",
       "    .dataframe thead th {\n",
       "        text-align: right;\n",
       "    }\n",
       "</style>\n",
       "<table border=\"1\" class=\"dataframe\">\n",
       "  <thead>\n",
       "    <tr style=\"text-align: right;\">\n",
       "      <th></th>\n",
       "      <th>text</th>\n",
       "      <th>prediction</th>\n",
       "    </tr>\n",
       "  </thead>\n",
       "  <tbody>\n",
       "    <tr>\n",
       "      <th>0</th>\n",
       "      <td>One side of the armed conflicts is composed ma...</td>\n",
       "      <td>The Sudanese military and the Janjaweed, a Sud...</td>\n",
       "    </tr>\n",
       "    <tr>\n",
       "      <th>1</th>\n",
       "      <td>Jeddah is the principal gateway to Mecca, Isla...</td>\n",
       "      <td>Jeddah is the main gateway to Mecca, Islam's h...</td>\n",
       "    </tr>\n",
       "    <tr>\n",
       "      <th>2</th>\n",
       "      <td>The Great Dark Spot is thought to represent a ...</td>\n",
       "      <td>The Great Dark Spot is thought to represent a ...</td>\n",
       "    </tr>\n",
       "    <tr>\n",
       "      <th>3</th>\n",
       "      <td>His next work, Saturday, follows an especially...</td>\n",
       "      <td>In medicine, Saturday is the name of the next ...</td>\n",
       "    </tr>\n",
       "    <tr>\n",
       "      <th>4</th>\n",
       "      <td>The tarantula, the trickster character, spun a...</td>\n",
       "      <td>A tarantula, the trickster character, spun a b...</td>\n",
       "    </tr>\n",
       "  </tbody>\n",
       "</table>\n",
       "</div>"
      ],
      "text/plain": [
       "                                                text  \\\n",
       "0  One side of the armed conflicts is composed ma...   \n",
       "1  Jeddah is the principal gateway to Mecca, Isla...   \n",
       "2  The Great Dark Spot is thought to represent a ...   \n",
       "3  His next work, Saturday, follows an especially...   \n",
       "4  The tarantula, the trickster character, spun a...   \n",
       "\n",
       "                                          prediction  \n",
       "0  The Sudanese military and the Janjaweed, a Sud...  \n",
       "1  Jeddah is the main gateway to Mecca, Islam's h...  \n",
       "2  The Great Dark Spot is thought to represent a ...  \n",
       "3  In medicine, Saturday is the name of the next ...  \n",
       "4  A tarantula, the trickster character, spun a b...  "
      ]
     },
     "execution_count": 11,
     "metadata": {},
     "output_type": "execute_result"
    }
   ],
   "source": [
    "df_bs_asset.head()"
   ]
  },
  {
   "cell_type": "markdown",
   "id": "a2a01fc3-74a6-4064-8590-abb94f937c74",
   "metadata": {
    "jp-MarkdownHeadingCollapsed": true
   },
   "source": [
    "## Fine-tuned BART models"
   ]
  },
  {
   "cell_type": "code",
   "execution_count": 40,
   "id": "bf43eb6d-5fe3-4e10-abb6-258b031c6cf7",
   "metadata": {},
   "outputs": [],
   "source": [
    "import pandas as pd\n",
    "\n",
    "# BART-SWiPE-ft full : generation results \n",
    "#df_bsft_full_swipe_full = pd.read_csv(\"../data/gen_predictions/predictions_bart-swipe-ft-full_swipe-full-test.csv\")\n",
    "df_bsft_full_swipe_clean = pd.read_csv(\"../data/gen_predictions/predictions_bart-swipe-ft-full_swipe-clean-test.csv\")\n",
    "df_bsft_full_asset = pd.read_csv(\"../data/gen_predictions/predictions_bart-swipe-ft-full_asset-test.csv\")\n",
    "\n",
    "# BART-SWiPE-ft cleaned: generation results \n",
    "df_bsft_clean_swipe_clean = pd.read_csv(\"../data/gen_predictions/predictions_bart-swipe-ft-clean-bart-tokenizer-512_swipe-clean-test.csv\")\n",
    "df_bsft_clean_asset = pd.read_csv(\"../data/gen_predictions/predictions_bart-swipe-ft-clean-bart-tokenizer-512_asset-test.csv\")"
   ]
  },
  {
   "cell_type": "markdown",
   "id": "911cfd07-ce37-4886-9300-946af12420e5",
   "metadata": {},
   "source": [
    "# Load test datasets"
   ]
  },
  {
   "cell_type": "markdown",
   "id": "546b5906-b804-466d-b759-057175c9eeac",
   "metadata": {
    "jp-MarkdownHeadingCollapsed": true
   },
   "source": [
    "## SWiPE - full"
   ]
  },
  {
   "cell_type": "code",
   "execution_count": 2,
   "id": "319670ec-8e25-4132-99f2-795a71c0a472",
   "metadata": {},
   "outputs": [
    {
     "data": {
      "text/plain": [
       "DatasetDict({\n",
       "    test: Dataset({\n",
       "        features: ['r_content', 's_content', 'annotations', 'edits'],\n",
       "        num_rows: 484\n",
       "    })\n",
       "})"
      ]
     },
     "execution_count": 2,
     "metadata": {},
     "output_type": "execute_result"
    }
   ],
   "source": [
    "from datasets import Dataset, DatasetDict\n",
    "import pandas as pd\n",
    "\n",
    "test_id_df = pd.read_json('../data/swipe/swipe_test_id.json')\n",
    "test_id_dataset = Dataset.from_pandas(test_id_df[['r_content', 's_content','annotations','edits']])\n",
    "\n",
    "swipe_full_dataset = DatasetDict({\n",
    "    'test': test_id_dataset,\n",
    "})\n",
    "\n",
    "swipe_full_dataset"
   ]
  },
  {
   "cell_type": "markdown",
   "id": "f678a51c-1c98-41c3-886a-ca0829489fa1",
   "metadata": {},
   "source": [
    "## SWiPE - clean "
   ]
  },
  {
   "cell_type": "code",
   "execution_count": 2,
   "id": "5c657397-ed5f-45f2-956d-f77d21a9ca8e",
   "metadata": {},
   "outputs": [
    {
     "data": {
      "text/plain": [
       "DatasetDict({\n",
       "    test: Dataset({\n",
       "        features: ['r_content', 's_content'],\n",
       "        num_rows: 483\n",
       "    })\n",
       "})"
      ]
     },
     "execution_count": 2,
     "metadata": {},
     "output_type": "execute_result"
    }
   ],
   "source": [
    "from datasets import load_from_disk, DatasetDict\n",
    "import pandas as pd\n",
    "\n",
    "swipe_clean_dataset = load_from_disk(\"../data/swipe_clean\")\n",
    "swipe_clean_dataset = DatasetDict({\n",
    "    'test': swipe_clean_dataset['test_id']\n",
    "})\n",
    "swipe_clean_dataset"
   ]
  },
  {
   "cell_type": "markdown",
   "id": "aa418315-7b83-4969-b592-045fa970186a",
   "metadata": {
    "jp-MarkdownHeadingCollapsed": true
   },
   "source": [
    "## ASSET"
   ]
  },
  {
   "cell_type": "code",
   "execution_count": 41,
   "id": "a11bc13d-2dcd-446c-9bd4-da79351ab6a0",
   "metadata": {},
   "outputs": [
    {
     "data": {
      "text/plain": [
       "DatasetDict({\n",
       "    validation: Dataset({\n",
       "        features: ['original', 'simplifications'],\n",
       "        num_rows: 2000\n",
       "    })\n",
       "    test: Dataset({\n",
       "        features: ['original', 'simplifications'],\n",
       "        num_rows: 359\n",
       "    })\n",
       "})"
      ]
     },
     "execution_count": 41,
     "metadata": {},
     "output_type": "execute_result"
    }
   ],
   "source": [
    "from datasets import load_dataset\n",
    "\n",
    "asset_dataset = load_dataset(\"facebook/asset\", \"simplification\")\n",
    "asset_dataset"
   ]
  },
  {
   "cell_type": "markdown",
   "id": "7abfc1c2-2541-4273-bba1-0a67487848c1",
   "metadata": {},
   "source": [
    "# Calculate scores"
   ]
  },
  {
   "cell_type": "code",
   "execution_count": 3,
   "id": "3645deff-f22f-407a-9f96-3115b861b3d9",
   "metadata": {},
   "outputs": [],
   "source": [
    "df_gen = df_bs_swipe_clean\n",
    "dataset = swipe_clean_dataset"
   ]
  },
  {
   "cell_type": "markdown",
   "id": "dabacd02-615c-446e-8914-68503493eb2d",
   "metadata": {},
   "source": [
    "## SARI scores - EASSE package"
   ]
  },
  {
   "cell_type": "markdown",
   "id": "69fab93c-275b-4208-96d0-715712ca96b4",
   "metadata": {},
   "source": [
    "### SWiPE"
   ]
  },
  {
   "cell_type": "code",
   "execution_count": 4,
   "id": "ce41a876-dbc2-4b88-8621-8f1b13a85d27",
   "metadata": {},
   "outputs": [
    {
     "data": {
      "application/vnd.jupyter.widget-view+json": {
       "model_id": "ea1dd66f1a8846cb9ccae86f6355d2b0",
       "version_major": 2,
       "version_minor": 0
      },
      "text/plain": [
       "  0%|          | 0/483 [00:00<?, ?it/s]"
      ]
     },
     "metadata": {},
     "output_type": "display_data"
    }
   ],
   "source": [
    "from tqdm.notebook import tqdm\n",
    "from easse.sari import corpus_sari\n",
    "\n",
    "\n",
    "sari_scores_easse = []\n",
    "\n",
    "for index, row in tqdm(df_gen.iterrows(), total=len(df_gen)):\n",
    "    r_content = row['text'] \n",
    "    s_content = dataset['test'][index]  \n",
    "    prediction = row['prediction']  \n",
    "    \n",
    "    sari_score_easse = corpus_sari(\n",
    "        orig_sents=[r_content],\n",
    "        sys_sents=[prediction],\n",
    "        refs_sents=[[s_content['s_content']]]\n",
    "    )\n",
    "    \n",
    "    sari_scores_easse.append(sari_score_easse)"
   ]
  },
  {
   "cell_type": "markdown",
   "id": "0160cee5-827a-4ec9-8964-7a0d12034c75",
   "metadata": {
    "jp-MarkdownHeadingCollapsed": true
   },
   "source": [
    "### ASSET"
   ]
  },
  {
   "cell_type": "code",
   "execution_count": 43,
   "id": "85dabca8-abae-4f63-b1c4-26c310951774",
   "metadata": {},
   "outputs": [
    {
     "data": {
      "application/vnd.jupyter.widget-view+json": {
       "model_id": "0445eb27ea4540d892e769015d715716",
       "version_major": 2,
       "version_minor": 0
      },
      "text/plain": [
       "  0%|          | 0/359 [00:00<?, ?it/s]"
      ]
     },
     "metadata": {},
     "output_type": "display_data"
    }
   ],
   "source": [
    "from easse.sari import corpus_sari\n",
    "\n",
    "\n",
    "sari_scores_easse = []\n",
    "\n",
    "for index, row in tqdm(df_gen.iterrows(), total=len(df_gen)):\n",
    "    r_content = row['text'] \n",
    "    s_content = dataset['test'][index]  \n",
    "    prediction = row['prediction']  \n",
    "    \n",
    "    sari_score_easse = corpus_sari(\n",
    "        orig_sents=[r_content],\n",
    "        sys_sents=[prediction],\n",
    "        refs_sents=[[simp] for simp in s_content['simplifications']]\n",
    "    )\n",
    "    \n",
    "    sari_scores_easse.append(sari_score_easse)"
   ]
  },
  {
   "cell_type": "markdown",
   "id": "53eaa26a-4308-4d0b-b28a-98722aaede31",
   "metadata": {},
   "source": [
    "## Operation scores"
   ]
  },
  {
   "cell_type": "markdown",
   "id": "58cd8a94-c54a-440a-ba0b-f7fa72561c59",
   "metadata": {},
   "source": [
    "### SWiPE"
   ]
  },
  {
   "cell_type": "code",
   "execution_count": 5,
   "id": "228a2cb3-52e1-498c-9aac-4bc9de864979",
   "metadata": {},
   "outputs": [
    {
     "data": {
      "application/vnd.jupyter.widget-view+json": {
       "model_id": "18733c74c12b49b7a59732af0b3c17fe",
       "version_major": 2,
       "version_minor": 0
      },
      "text/plain": [
       "  0%|          | 0/483 [00:00<?, ?it/s]"
      ]
     },
     "metadata": {},
     "output_type": "display_data"
    }
   ],
   "source": [
    "from easse.sari import get_corpus_sari_operation_scores\n",
    "from tqdm.notebook import tqdm\n",
    "\n",
    "add_scores = []\n",
    "keep_scores = []\n",
    "del_scores = []\n",
    "\n",
    "for index, row in tqdm(df_gen.iterrows(), total=len(df_gen)):\n",
    "    r_content = row['text'] \n",
    "    s_content = dataset['test'][index]  \n",
    "    prediction = row['prediction']  \n",
    "    \n",
    "    add_score, keep_score, del_score = get_corpus_sari_operation_scores(\n",
    "        orig_sents=[r_content],\n",
    "        sys_sents=[prediction],\n",
    "        refs_sents=[[s_content['s_content']]] \n",
    "    )\n",
    "    \n",
    "    add_scores.append(add_score)\n",
    "    keep_scores.append(keep_score)\n",
    "    del_scores.append(del_score)"
   ]
  },
  {
   "cell_type": "markdown",
   "id": "8861a2f5-d99f-411e-9aad-f9b285973f7e",
   "metadata": {
    "jp-MarkdownHeadingCollapsed": true
   },
   "source": [
    "### ASSET"
   ]
  },
  {
   "cell_type": "code",
   "execution_count": 44,
   "id": "4cb25023-d2d9-4d81-afdd-df637dbed2a6",
   "metadata": {},
   "outputs": [
    {
     "data": {
      "application/vnd.jupyter.widget-view+json": {
       "model_id": "f94dfcd91cbc4ef4b4bd28295719157d",
       "version_major": 2,
       "version_minor": 0
      },
      "text/plain": [
       "  0%|          | 0/359 [00:00<?, ?it/s]"
      ]
     },
     "metadata": {},
     "output_type": "display_data"
    }
   ],
   "source": [
    "from easse.sari import get_corpus_sari_operation_scores\n",
    "from tqdm.notebook import tqdm\n",
    "\n",
    "add_scores = []\n",
    "keep_scores = []\n",
    "del_scores = []\n",
    "\n",
    "for index, row in tqdm(df_gen.iterrows(), total=len(df_gen)):\n",
    "    r_content = row['text'] \n",
    "    s_content = dataset['test'][index]  \n",
    "    prediction = row['prediction']  \n",
    "    \n",
    "    add_score, keep_score, del_score = get_corpus_sari_operation_scores(\n",
    "        orig_sents=[r_content],\n",
    "        sys_sents=[prediction],\n",
    "        refs_sents=[[simp] for simp in s_content['simplifications']] \n",
    "    )\n",
    "    \n",
    "    add_scores.append(add_score)\n",
    "    keep_scores.append(keep_score)\n",
    "    del_scores.append(del_score)"
   ]
  },
  {
   "cell_type": "markdown",
   "id": "9468f9cd-b34d-4ff7-be8d-5018b05b2abd",
   "metadata": {},
   "source": [
    "# Save results"
   ]
  },
  {
   "cell_type": "code",
   "execution_count": 6,
   "id": "8ae5b567-a135-4123-a594-c7f1d67c1e5c",
   "metadata": {},
   "outputs": [
    {
     "data": {
      "text/html": [
       "<div>\n",
       "<style scoped>\n",
       "    .dataframe tbody tr th:only-of-type {\n",
       "        vertical-align: middle;\n",
       "    }\n",
       "\n",
       "    .dataframe tbody tr th {\n",
       "        vertical-align: top;\n",
       "    }\n",
       "\n",
       "    .dataframe thead th {\n",
       "        text-align: right;\n",
       "    }\n",
       "</style>\n",
       "<table border=\"1\" class=\"dataframe\">\n",
       "  <thead>\n",
       "    <tr style=\"text-align: right;\">\n",
       "      <th></th>\n",
       "      <th>text</th>\n",
       "      <th>prediction</th>\n",
       "      <th>sari_score_easse</th>\n",
       "      <th>add_score</th>\n",
       "      <th>keep_score</th>\n",
       "      <th>del_score</th>\n",
       "    </tr>\n",
       "  </thead>\n",
       "  <tbody>\n",
       "    <tr>\n",
       "      <th>0</th>\n",
       "      <td>The term jargon may have the following meaning...</td>\n",
       "      <td>Jargon is a word that can mean many different ...</td>\n",
       "      <td>38.241908</td>\n",
       "      <td>7.894737</td>\n",
       "      <td>10.000000</td>\n",
       "      <td>96.830986</td>\n",
       "    </tr>\n",
       "    <tr>\n",
       "      <th>1</th>\n",
       "      <td>Russian (Russkij yazyk, Русский язык) is the m...</td>\n",
       "      <td>Russian (Russkij yazyk, Русский язык) is the m...</td>\n",
       "      <td>48.181582</td>\n",
       "      <td>0.000000</td>\n",
       "      <td>61.326832</td>\n",
       "      <td>83.217914</td>\n",
       "    </tr>\n",
       "    <tr>\n",
       "      <th>2</th>\n",
       "      <td>Great Britain, also called Britain, is an isla...</td>\n",
       "      <td>Great Britain, also called Britain, is an isla...</td>\n",
       "      <td>38.613451</td>\n",
       "      <td>20.625000</td>\n",
       "      <td>16.718774</td>\n",
       "      <td>78.496580</td>\n",
       "    </tr>\n",
       "    <tr>\n",
       "      <th>3</th>\n",
       "      <td>Transport, or transportation (as it is called ...</td>\n",
       "      <td>Transport, or transportation (as it is called ...</td>\n",
       "      <td>35.605954</td>\n",
       "      <td>0.000000</td>\n",
       "      <td>23.963654</td>\n",
       "      <td>82.854207</td>\n",
       "    </tr>\n",
       "    <tr>\n",
       "      <th>4</th>\n",
       "      <td>Stockholm (help·info) (IPA: ['stɔkhɔlm]; UN/LO...</td>\n",
       "      <td>Stockholm is the capital city of Sweden. It is...</td>\n",
       "      <td>52.413688</td>\n",
       "      <td>37.276316</td>\n",
       "      <td>26.177545</td>\n",
       "      <td>93.787203</td>\n",
       "    </tr>\n",
       "  </tbody>\n",
       "</table>\n",
       "</div>"
      ],
      "text/plain": [
       "                                                text  \\\n",
       "0  The term jargon may have the following meaning...   \n",
       "1  Russian (Russkij yazyk, Русский язык) is the m...   \n",
       "2  Great Britain, also called Britain, is an isla...   \n",
       "3  Transport, or transportation (as it is called ...   \n",
       "4  Stockholm (help·info) (IPA: ['stɔkhɔlm]; UN/LO...   \n",
       "\n",
       "                                          prediction  sari_score_easse  \\\n",
       "0  Jargon is a word that can mean many different ...         38.241908   \n",
       "1  Russian (Russkij yazyk, Русский язык) is the m...         48.181582   \n",
       "2  Great Britain, also called Britain, is an isla...         38.613451   \n",
       "3  Transport, or transportation (as it is called ...         35.605954   \n",
       "4  Stockholm is the capital city of Sweden. It is...         52.413688   \n",
       "\n",
       "   add_score  keep_score  del_score  \n",
       "0   7.894737   10.000000  96.830986  \n",
       "1   0.000000   61.326832  83.217914  \n",
       "2  20.625000   16.718774  78.496580  \n",
       "3   0.000000   23.963654  82.854207  \n",
       "4  37.276316   26.177545  93.787203  "
      ]
     },
     "execution_count": 6,
     "metadata": {},
     "output_type": "execute_result"
    }
   ],
   "source": [
    "df_results = pd.DataFrame({\n",
    "    'text': df_gen['text'],\n",
    "    'prediction': df_gen['prediction'],\n",
    "    'sari_score_easse': sari_scores_easse,\n",
    "    'add_score': add_scores,\n",
    "    'keep_score': keep_scores,\n",
    "    'del_score': del_scores\n",
    "})\n",
    "\n",
    "df_results.head()"
   ]
  },
  {
   "cell_type": "code",
   "execution_count": 7,
   "id": "e6055bb9-32fa-43a3-a3fa-34979afc76db",
   "metadata": {},
   "outputs": [],
   "source": [
    "df_results.to_csv(\"../data/scores/scores_bart-large-swipe-bart-tokenizer-fast-adjust-num-beams4-no-use-fast!_swipe-clean-test.csv\", index=False)"
   ]
  }
 ],
 "metadata": {
  "kernelspec": {
   "display_name": "Python 3 (ipykernel)",
   "language": "python",
   "name": "python3"
  },
  "language_info": {
   "codemirror_mode": {
    "name": "ipython",
    "version": 3
   },
   "file_extension": ".py",
   "mimetype": "text/x-python",
   "name": "python",
   "nbconvert_exporter": "python",
   "pygments_lexer": "ipython3",
   "version": "3.9.18"
  }
 },
 "nbformat": 4,
 "nbformat_minor": 5
}
